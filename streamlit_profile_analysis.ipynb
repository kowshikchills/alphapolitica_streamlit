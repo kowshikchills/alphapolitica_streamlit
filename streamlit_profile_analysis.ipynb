{
 "cells": [
  {
   "cell_type": "code",
   "execution_count": 161,
   "metadata": {},
   "outputs": [],
   "source": [
    "import pandas as pd\n",
    "import numpy as np\n"
   ]
  },
  {
   "cell_type": "code",
   "execution_count": 162,
   "metadata": {},
   "outputs": [],
   "source": [
    "import pandas as pd\n",
    "import numpy as np\n",
    "df_face = pd.read_csv('plots_data/candidates_data/Abbaya Chowdary Kothari.csv')\n",
    "df_face = df_face[df_face.upload_date > '2022-06-01']\n",
    "df_face['negativity'] = (df_face['sentiment'] > 0)*1\n",
    "df_polar = df_face.groupby('uploader').agg({'duration':np.sum, 'view_count':np.sum, 'negativity':np.sum,'comment_count':np.sum, }).reset_index()\n",
    "\n"
   ]
  },
  {
   "cell_type": "code",
   "execution_count": 215,
   "metadata": {},
   "outputs": [
    {
     "name": "stderr",
     "output_type": "stream",
     "text": [
      "/var/folders/z7/x6vq9qd56_scz4tkv0sj5lgc0000gn/T/ipykernel_6667/1274284091.py:22: SettingWithCopyWarning:\n",
      "\n",
      "\n",
      "A value is trying to be set on a copy of a slice from a DataFrame.\n",
      "Try using .loc[row_indexer,col_indexer] = value instead\n",
      "\n",
      "See the caveats in the documentation: https://pandas.pydata.org/pandas-docs/stable/user_guide/indexing.html#returning-a-view-versus-a-copy\n",
      "\n",
      "/var/folders/z7/x6vq9qd56_scz4tkv0sj5lgc0000gn/T/ipykernel_6667/1274284091.py:22: SettingWithCopyWarning:\n",
      "\n",
      "\n",
      "A value is trying to be set on a copy of a slice from a DataFrame.\n",
      "Try using .loc[row_indexer,col_indexer] = value instead\n",
      "\n",
      "See the caveats in the documentation: https://pandas.pydata.org/pandas-docs/stable/user_guide/indexing.html#returning-a-view-versus-a-copy\n",
      "\n",
      "/var/folders/z7/x6vq9qd56_scz4tkv0sj5lgc0000gn/T/ipykernel_6667/1274284091.py:22: SettingWithCopyWarning:\n",
      "\n",
      "\n",
      "A value is trying to be set on a copy of a slice from a DataFrame.\n",
      "Try using .loc[row_indexer,col_indexer] = value instead\n",
      "\n",
      "See the caveats in the documentation: https://pandas.pydata.org/pandas-docs/stable/user_guide/indexing.html#returning-a-view-versus-a-copy\n",
      "\n",
      "/var/folders/z7/x6vq9qd56_scz4tkv0sj5lgc0000gn/T/ipykernel_6667/1274284091.py:22: SettingWithCopyWarning:\n",
      "\n",
      "\n",
      "A value is trying to be set on a copy of a slice from a DataFrame.\n",
      "Try using .loc[row_indexer,col_indexer] = value instead\n",
      "\n",
      "See the caveats in the documentation: https://pandas.pydata.org/pandas-docs/stable/user_guide/indexing.html#returning-a-view-versus-a-copy\n",
      "\n"
     ]
    },
    {
     "data": {
      "application/vnd.plotly.v1+json": {
       "config": {
        "plotlyServerURL": "https://plot.ly"
       },
       "data": [
        {
         "alignmentgroup": "True",
         "cliponaxis": false,
         "hovertemplate": "uploader=ABN<br>topic=%{x}<br>count=%{y}<extra></extra>",
         "legendgroup": "ABN",
         "marker": {
          "color": "yellow",
          "pattern": {
           "shape": ""
          }
         },
         "name": "ABN",
         "offsetgroup": "ABN",
         "orientation": "v",
         "showlegend": true,
         "textangle": 0,
         "textfont": {
          "size": 12
         },
         "textposition": "outside",
         "texttemplate": "%{y:.2s}",
         "type": "bar",
         "x": [
          "ysrcp",
          "ycp",
          "tdp",
          "cm jagan",
          "schemes",
          "AP ",
          "chandrababu",
          "alliance",
          "yuvagalam",
          "pawan kalyan",
          "visakha",
          "ap employees",
          "janasena party",
          "ap assembly session today",
          "amaravati",
          "polavaram",
          "nara lokesh",
          "high court",
          "ambati rambabu",
          "byreddy siddharth reddy",
          "YS Viveka Case",
          "Kuppam",
          "vangalapudi anitha",
          "Peddireddy ",
          "jr ntr",
          "Atchannaidu",
          "tdp pattabhi",
          "ambati rambabu ",
          "Yellow Media",
          "Sajjala ",
          "Ramoji Rao",
          "gudivada amarnath",
          "raghurama ",
          "Gadapa Gadapaku ",
          "gorantla ",
          "panchayat elections",
          "YSRCP Plenary"
         ],
         "xaxis": "x",
         "y": [
          173,
          148,
          139,
          86,
          123,
          118,
          72,
          97,
          74,
          51,
          57,
          68,
          44,
          55,
          47,
          29,
          18,
          38,
          37,
          22,
          30,
          11,
          19,
          7,
          10,
          15,
          17,
          20,
          13,
          13,
          4,
          5,
          15,
          0,
          10,
          9,
          2
         ],
         "yaxis": "y"
        },
        {
         "alignmentgroup": "True",
         "cliponaxis": false,
         "hovertemplate": "uploader=Sakshi<br>topic=%{x}<br>count=%{y}<extra></extra>",
         "legendgroup": "Sakshi",
         "marker": {
          "color": "red",
          "pattern": {
           "shape": ""
          }
         },
         "name": "Sakshi",
         "offsetgroup": "Sakshi",
         "orientation": "v",
         "showlegend": true,
         "textangle": 0,
         "textfont": {
          "size": 12
         },
         "textposition": "outside",
         "texttemplate": "%{y:.2s}",
         "type": "bar",
         "x": [
          "ysrcp",
          "ycp",
          "tdp",
          "cm jagan",
          "schemes",
          "AP ",
          "chandrababu",
          "alliance",
          "yuvagalam",
          "pawan kalyan",
          "visakha",
          "ap employees",
          "janasena party",
          "ap assembly session today",
          "amaravati",
          "polavaram",
          "nara lokesh",
          "high court",
          "ambati rambabu",
          "byreddy siddharth reddy",
          "YS Viveka Case",
          "Kuppam",
          "vangalapudi anitha",
          "Peddireddy ",
          "jr ntr",
          "Atchannaidu",
          "tdp pattabhi",
          "ambati rambabu ",
          "Yellow Media",
          "Sajjala ",
          "Ramoji Rao",
          "gudivada amarnath",
          "raghurama ",
          "Gadapa Gadapaku ",
          "gorantla ",
          "panchayat elections",
          "YSRCP Plenary"
         ],
         "xaxis": "x",
         "y": [
          101,
          60,
          35,
          110,
          41,
          40,
          97,
          30,
          32,
          42,
          22,
          13,
          14,
          19,
          20,
          10,
          38,
          2,
          11,
          5,
          6,
          9,
          6,
          11,
          4,
          7,
          3,
          3,
          11,
          2,
          8,
          9,
          0,
          16,
          4,
          2,
          9
         ],
         "yaxis": "y"
        },
        {
         "alignmentgroup": "True",
         "cliponaxis": false,
         "hovertemplate": "uploader=TV5<br>topic=%{x}<br>count=%{y}<extra></extra>",
         "legendgroup": "TV5",
         "marker": {
          "color": "gold",
          "pattern": {
           "shape": ""
          }
         },
         "name": "TV5",
         "offsetgroup": "TV5",
         "orientation": "v",
         "showlegend": true,
         "textangle": 0,
         "textfont": {
          "size": 12
         },
         "textposition": "outside",
         "texttemplate": "%{y:.2s}",
         "type": "bar",
         "x": [
          "ysrcp",
          "ycp",
          "tdp",
          "cm jagan",
          "schemes",
          "AP ",
          "chandrababu",
          "alliance",
          "yuvagalam",
          "pawan kalyan",
          "visakha",
          "ap employees",
          "janasena party",
          "ap assembly session today",
          "amaravati",
          "polavaram",
          "nara lokesh",
          "high court",
          "ambati rambabu",
          "byreddy siddharth reddy",
          "YS Viveka Case",
          "Kuppam",
          "vangalapudi anitha",
          "Peddireddy ",
          "jr ntr",
          "Atchannaidu",
          "tdp pattabhi",
          "ambati rambabu ",
          "Yellow Media",
          "Sajjala ",
          "Ramoji Rao",
          "gudivada amarnath",
          "raghurama ",
          "Gadapa Gadapaku ",
          "gorantla ",
          "panchayat elections",
          "YSRCP Plenary"
         ],
         "xaxis": "x",
         "y": [
          124,
          120,
          123,
          74,
          47,
          69,
          58,
          40,
          33,
          39,
          25,
          29,
          29,
          20,
          26,
          16,
          13,
          19,
          9,
          28,
          13,
          15,
          7,
          17,
          13,
          4,
          4,
          4,
          1,
          4,
          4,
          4,
          2,
          1,
          1,
          3,
          3
         ],
         "yaxis": "y"
        },
        {
         "alignmentgroup": "True",
         "cliponaxis": false,
         "hovertemplate": "uploader=TV9<br>topic=%{x}<br>count=%{y}<extra></extra>",
         "legendgroup": "TV9",
         "marker": {
          "color": "blue",
          "pattern": {
           "shape": ""
          }
         },
         "name": "TV9",
         "offsetgroup": "TV9",
         "orientation": "v",
         "showlegend": true,
         "textangle": 0,
         "textfont": {
          "size": 12
         },
         "textposition": "outside",
         "texttemplate": "%{y:.2s}",
         "type": "bar",
         "x": [
          "ysrcp",
          "ycp",
          "tdp",
          "cm jagan",
          "schemes",
          "AP ",
          "chandrababu",
          "alliance",
          "yuvagalam",
          "pawan kalyan",
          "visakha",
          "ap employees",
          "janasena party",
          "ap assembly session today",
          "amaravati",
          "polavaram",
          "nara lokesh",
          "high court",
          "ambati rambabu",
          "byreddy siddharth reddy",
          "YS Viveka Case",
          "Kuppam",
          "vangalapudi anitha",
          "Peddireddy ",
          "jr ntr",
          "Atchannaidu",
          "tdp pattabhi",
          "ambati rambabu ",
          "Yellow Media",
          "Sajjala ",
          "Ramoji Rao",
          "gudivada amarnath",
          "raghurama ",
          "Gadapa Gadapaku ",
          "gorantla ",
          "panchayat elections",
          "YSRCP Plenary"
         ],
         "xaxis": "x",
         "y": [
          81,
          66,
          54,
          53,
          80,
          62,
          44,
          56,
          47,
          35,
          29,
          18,
          23,
          14,
          13,
          32,
          7,
          7,
          7,
          8,
          7,
          10,
          12,
          4,
          10,
          8,
          6,
          2,
          0,
          4,
          6,
          2,
          1,
          1,
          2,
          3,
          0
         ],
         "yaxis": "y"
        }
       ],
       "layout": {
        "barmode": "relative",
        "legend": {
         "title": {
          "text": "uploader"
         },
         "tracegroupgap": 0
        },
        "template": {
         "data": {
          "bar": [
           {
            "error_x": {
             "color": "#2a3f5f"
            },
            "error_y": {
             "color": "#2a3f5f"
            },
            "marker": {
             "line": {
              "color": "#E5ECF6",
              "width": 0.5
             },
             "pattern": {
              "fillmode": "overlay",
              "size": 10,
              "solidity": 0.2
             }
            },
            "type": "bar"
           }
          ],
          "barpolar": [
           {
            "marker": {
             "line": {
              "color": "#E5ECF6",
              "width": 0.5
             },
             "pattern": {
              "fillmode": "overlay",
              "size": 10,
              "solidity": 0.2
             }
            },
            "type": "barpolar"
           }
          ],
          "carpet": [
           {
            "aaxis": {
             "endlinecolor": "#2a3f5f",
             "gridcolor": "white",
             "linecolor": "white",
             "minorgridcolor": "white",
             "startlinecolor": "#2a3f5f"
            },
            "baxis": {
             "endlinecolor": "#2a3f5f",
             "gridcolor": "white",
             "linecolor": "white",
             "minorgridcolor": "white",
             "startlinecolor": "#2a3f5f"
            },
            "type": "carpet"
           }
          ],
          "choropleth": [
           {
            "colorbar": {
             "outlinewidth": 0,
             "ticks": ""
            },
            "type": "choropleth"
           }
          ],
          "contour": [
           {
            "colorbar": {
             "outlinewidth": 0,
             "ticks": ""
            },
            "colorscale": [
             [
              0,
              "#0d0887"
             ],
             [
              0.1111111111111111,
              "#46039f"
             ],
             [
              0.2222222222222222,
              "#7201a8"
             ],
             [
              0.3333333333333333,
              "#9c179e"
             ],
             [
              0.4444444444444444,
              "#bd3786"
             ],
             [
              0.5555555555555556,
              "#d8576b"
             ],
             [
              0.6666666666666666,
              "#ed7953"
             ],
             [
              0.7777777777777778,
              "#fb9f3a"
             ],
             [
              0.8888888888888888,
              "#fdca26"
             ],
             [
              1,
              "#f0f921"
             ]
            ],
            "type": "contour"
           }
          ],
          "contourcarpet": [
           {
            "colorbar": {
             "outlinewidth": 0,
             "ticks": ""
            },
            "type": "contourcarpet"
           }
          ],
          "heatmap": [
           {
            "colorbar": {
             "outlinewidth": 0,
             "ticks": ""
            },
            "colorscale": [
             [
              0,
              "#0d0887"
             ],
             [
              0.1111111111111111,
              "#46039f"
             ],
             [
              0.2222222222222222,
              "#7201a8"
             ],
             [
              0.3333333333333333,
              "#9c179e"
             ],
             [
              0.4444444444444444,
              "#bd3786"
             ],
             [
              0.5555555555555556,
              "#d8576b"
             ],
             [
              0.6666666666666666,
              "#ed7953"
             ],
             [
              0.7777777777777778,
              "#fb9f3a"
             ],
             [
              0.8888888888888888,
              "#fdca26"
             ],
             [
              1,
              "#f0f921"
             ]
            ],
            "type": "heatmap"
           }
          ],
          "heatmapgl": [
           {
            "colorbar": {
             "outlinewidth": 0,
             "ticks": ""
            },
            "colorscale": [
             [
              0,
              "#0d0887"
             ],
             [
              0.1111111111111111,
              "#46039f"
             ],
             [
              0.2222222222222222,
              "#7201a8"
             ],
             [
              0.3333333333333333,
              "#9c179e"
             ],
             [
              0.4444444444444444,
              "#bd3786"
             ],
             [
              0.5555555555555556,
              "#d8576b"
             ],
             [
              0.6666666666666666,
              "#ed7953"
             ],
             [
              0.7777777777777778,
              "#fb9f3a"
             ],
             [
              0.8888888888888888,
              "#fdca26"
             ],
             [
              1,
              "#f0f921"
             ]
            ],
            "type": "heatmapgl"
           }
          ],
          "histogram": [
           {
            "marker": {
             "pattern": {
              "fillmode": "overlay",
              "size": 10,
              "solidity": 0.2
             }
            },
            "type": "histogram"
           }
          ],
          "histogram2d": [
           {
            "colorbar": {
             "outlinewidth": 0,
             "ticks": ""
            },
            "colorscale": [
             [
              0,
              "#0d0887"
             ],
             [
              0.1111111111111111,
              "#46039f"
             ],
             [
              0.2222222222222222,
              "#7201a8"
             ],
             [
              0.3333333333333333,
              "#9c179e"
             ],
             [
              0.4444444444444444,
              "#bd3786"
             ],
             [
              0.5555555555555556,
              "#d8576b"
             ],
             [
              0.6666666666666666,
              "#ed7953"
             ],
             [
              0.7777777777777778,
              "#fb9f3a"
             ],
             [
              0.8888888888888888,
              "#fdca26"
             ],
             [
              1,
              "#f0f921"
             ]
            ],
            "type": "histogram2d"
           }
          ],
          "histogram2dcontour": [
           {
            "colorbar": {
             "outlinewidth": 0,
             "ticks": ""
            },
            "colorscale": [
             [
              0,
              "#0d0887"
             ],
             [
              0.1111111111111111,
              "#46039f"
             ],
             [
              0.2222222222222222,
              "#7201a8"
             ],
             [
              0.3333333333333333,
              "#9c179e"
             ],
             [
              0.4444444444444444,
              "#bd3786"
             ],
             [
              0.5555555555555556,
              "#d8576b"
             ],
             [
              0.6666666666666666,
              "#ed7953"
             ],
             [
              0.7777777777777778,
              "#fb9f3a"
             ],
             [
              0.8888888888888888,
              "#fdca26"
             ],
             [
              1,
              "#f0f921"
             ]
            ],
            "type": "histogram2dcontour"
           }
          ],
          "mesh3d": [
           {
            "colorbar": {
             "outlinewidth": 0,
             "ticks": ""
            },
            "type": "mesh3d"
           }
          ],
          "parcoords": [
           {
            "line": {
             "colorbar": {
              "outlinewidth": 0,
              "ticks": ""
             }
            },
            "type": "parcoords"
           }
          ],
          "pie": [
           {
            "automargin": true,
            "type": "pie"
           }
          ],
          "scatter": [
           {
            "fillpattern": {
             "fillmode": "overlay",
             "size": 10,
             "solidity": 0.2
            },
            "type": "scatter"
           }
          ],
          "scatter3d": [
           {
            "line": {
             "colorbar": {
              "outlinewidth": 0,
              "ticks": ""
             }
            },
            "marker": {
             "colorbar": {
              "outlinewidth": 0,
              "ticks": ""
             }
            },
            "type": "scatter3d"
           }
          ],
          "scattercarpet": [
           {
            "marker": {
             "colorbar": {
              "outlinewidth": 0,
              "ticks": ""
             }
            },
            "type": "scattercarpet"
           }
          ],
          "scattergeo": [
           {
            "marker": {
             "colorbar": {
              "outlinewidth": 0,
              "ticks": ""
             }
            },
            "type": "scattergeo"
           }
          ],
          "scattergl": [
           {
            "marker": {
             "colorbar": {
              "outlinewidth": 0,
              "ticks": ""
             }
            },
            "type": "scattergl"
           }
          ],
          "scattermapbox": [
           {
            "marker": {
             "colorbar": {
              "outlinewidth": 0,
              "ticks": ""
             }
            },
            "type": "scattermapbox"
           }
          ],
          "scatterpolar": [
           {
            "marker": {
             "colorbar": {
              "outlinewidth": 0,
              "ticks": ""
             }
            },
            "type": "scatterpolar"
           }
          ],
          "scatterpolargl": [
           {
            "marker": {
             "colorbar": {
              "outlinewidth": 0,
              "ticks": ""
             }
            },
            "type": "scatterpolargl"
           }
          ],
          "scatterternary": [
           {
            "marker": {
             "colorbar": {
              "outlinewidth": 0,
              "ticks": ""
             }
            },
            "type": "scatterternary"
           }
          ],
          "surface": [
           {
            "colorbar": {
             "outlinewidth": 0,
             "ticks": ""
            },
            "colorscale": [
             [
              0,
              "#0d0887"
             ],
             [
              0.1111111111111111,
              "#46039f"
             ],
             [
              0.2222222222222222,
              "#7201a8"
             ],
             [
              0.3333333333333333,
              "#9c179e"
             ],
             [
              0.4444444444444444,
              "#bd3786"
             ],
             [
              0.5555555555555556,
              "#d8576b"
             ],
             [
              0.6666666666666666,
              "#ed7953"
             ],
             [
              0.7777777777777778,
              "#fb9f3a"
             ],
             [
              0.8888888888888888,
              "#fdca26"
             ],
             [
              1,
              "#f0f921"
             ]
            ],
            "type": "surface"
           }
          ],
          "table": [
           {
            "cells": {
             "fill": {
              "color": "#EBF0F8"
             },
             "line": {
              "color": "white"
             }
            },
            "header": {
             "fill": {
              "color": "#C8D4E3"
             },
             "line": {
              "color": "white"
             }
            },
            "type": "table"
           }
          ]
         },
         "layout": {
          "annotationdefaults": {
           "arrowcolor": "#2a3f5f",
           "arrowhead": 0,
           "arrowwidth": 1
          },
          "autotypenumbers": "strict",
          "coloraxis": {
           "colorbar": {
            "outlinewidth": 0,
            "ticks": ""
           }
          },
          "colorscale": {
           "diverging": [
            [
             0,
             "#8e0152"
            ],
            [
             0.1,
             "#c51b7d"
            ],
            [
             0.2,
             "#de77ae"
            ],
            [
             0.3,
             "#f1b6da"
            ],
            [
             0.4,
             "#fde0ef"
            ],
            [
             0.5,
             "#f7f7f7"
            ],
            [
             0.6,
             "#e6f5d0"
            ],
            [
             0.7,
             "#b8e186"
            ],
            [
             0.8,
             "#7fbc41"
            ],
            [
             0.9,
             "#4d9221"
            ],
            [
             1,
             "#276419"
            ]
           ],
           "sequential": [
            [
             0,
             "#0d0887"
            ],
            [
             0.1111111111111111,
             "#46039f"
            ],
            [
             0.2222222222222222,
             "#7201a8"
            ],
            [
             0.3333333333333333,
             "#9c179e"
            ],
            [
             0.4444444444444444,
             "#bd3786"
            ],
            [
             0.5555555555555556,
             "#d8576b"
            ],
            [
             0.6666666666666666,
             "#ed7953"
            ],
            [
             0.7777777777777778,
             "#fb9f3a"
            ],
            [
             0.8888888888888888,
             "#fdca26"
            ],
            [
             1,
             "#f0f921"
            ]
           ],
           "sequentialminus": [
            [
             0,
             "#0d0887"
            ],
            [
             0.1111111111111111,
             "#46039f"
            ],
            [
             0.2222222222222222,
             "#7201a8"
            ],
            [
             0.3333333333333333,
             "#9c179e"
            ],
            [
             0.4444444444444444,
             "#bd3786"
            ],
            [
             0.5555555555555556,
             "#d8576b"
            ],
            [
             0.6666666666666666,
             "#ed7953"
            ],
            [
             0.7777777777777778,
             "#fb9f3a"
            ],
            [
             0.8888888888888888,
             "#fdca26"
            ],
            [
             1,
             "#f0f921"
            ]
           ]
          },
          "colorway": [
           "#636efa",
           "#EF553B",
           "#00cc96",
           "#ab63fa",
           "#FFA15A",
           "#19d3f3",
           "#FF6692",
           "#B6E880",
           "#FF97FF",
           "#FECB52"
          ],
          "font": {
           "color": "#2a3f5f"
          },
          "geo": {
           "bgcolor": "white",
           "lakecolor": "white",
           "landcolor": "#E5ECF6",
           "showlakes": true,
           "showland": true,
           "subunitcolor": "white"
          },
          "hoverlabel": {
           "align": "left"
          },
          "hovermode": "closest",
          "mapbox": {
           "style": "light"
          },
          "paper_bgcolor": "white",
          "plot_bgcolor": "#E5ECF6",
          "polar": {
           "angularaxis": {
            "gridcolor": "white",
            "linecolor": "white",
            "ticks": ""
           },
           "bgcolor": "#E5ECF6",
           "radialaxis": {
            "gridcolor": "white",
            "linecolor": "white",
            "ticks": ""
           }
          },
          "scene": {
           "xaxis": {
            "backgroundcolor": "#E5ECF6",
            "gridcolor": "white",
            "gridwidth": 2,
            "linecolor": "white",
            "showbackground": true,
            "ticks": "",
            "zerolinecolor": "white"
           },
           "yaxis": {
            "backgroundcolor": "#E5ECF6",
            "gridcolor": "white",
            "gridwidth": 2,
            "linecolor": "white",
            "showbackground": true,
            "ticks": "",
            "zerolinecolor": "white"
           },
           "zaxis": {
            "backgroundcolor": "#E5ECF6",
            "gridcolor": "white",
            "gridwidth": 2,
            "linecolor": "white",
            "showbackground": true,
            "ticks": "",
            "zerolinecolor": "white"
           }
          },
          "shapedefaults": {
           "line": {
            "color": "#2a3f5f"
           }
          },
          "ternary": {
           "aaxis": {
            "gridcolor": "white",
            "linecolor": "white",
            "ticks": ""
           },
           "baxis": {
            "gridcolor": "white",
            "linecolor": "white",
            "ticks": ""
           },
           "bgcolor": "#E5ECF6",
           "caxis": {
            "gridcolor": "white",
            "linecolor": "white",
            "ticks": ""
           }
          },
          "title": {
           "x": 0.05
          },
          "xaxis": {
           "automargin": true,
           "gridcolor": "white",
           "linecolor": "white",
           "ticks": "",
           "title": {
            "standoff": 15
           },
           "zerolinecolor": "white",
           "zerolinewidth": 2
          },
          "yaxis": {
           "automargin": true,
           "gridcolor": "white",
           "linecolor": "white",
           "ticks": "",
           "title": {
            "standoff": 15
           },
           "zerolinecolor": "white",
           "zerolinewidth": 2
          }
         }
        },
        "title": {
         "text": "Topics Covered"
        },
        "xaxis": {
         "anchor": "y",
         "domain": [
          0,
          1
         ],
         "title": {
          "text": "topic"
         }
        },
        "yaxis": {
         "anchor": "x",
         "domain": [
          0,
          1
         ],
         "title": {
          "text": "count"
         }
        }
       }
      }
     },
     "metadata": {},
     "output_type": "display_data"
    }
   ],
   "source": [
    "import pandas as pd\n",
    "import numpy as np\n",
    "\n",
    "df_face = pd.read_csv('plots_data/candidates_data/Abbaya Chowdary Kothari.csv')\n",
    "df_face = df_face[df_face.upload_date > '2022-06-01']\n",
    "df_face['negativity'] = (df_face['sentiment'] > 0)*1\n",
    "tags = list(df_face.columns[11:-1])\n",
    "df_tags_candidate = df_face[['name','uploader']+tags].groupby(['name','uploader']).sum().reset_index()\n",
    "df_tags_candidate_T = df_tags_candidate.T\n",
    "df_tags_candidate_T = df_tags_candidate_T[1:]\n",
    "df_tags_candidate_T.columns = df_tags_candidate_T.iloc[0]\n",
    "df_tags_candidate_T = df_tags_candidate_T[1:]\n",
    "\n",
    "df_tags_candidate_T['Total'] = df_tags_candidate_T.values.sum(axis=1)\n",
    "df_tags_candidate_T = df_tags_candidate_T.sort_values('Total',ascending= False)\n",
    "del df_tags_candidate_T['Total']\n",
    "\n",
    "df_topics_list = []\n",
    "for cols in ['ABN','Sakshi','TV5','TV9']:\n",
    "    df = df_tags_candidate_T[[cols]]\n",
    "    df.columns = ['count']\n",
    "    df['uploader'] = cols\n",
    "    df_topics_list.append(df)\n",
    "df_topics = pd.concat(df_topics_list)\n",
    "df_topics = df_topics.reset_index()\n",
    "df_topics.columns = ['topic','count','uploader']\n",
    "\n",
    "\n",
    "\n",
    "fig = px.bar(df_topics, y='count', x='topic', text_auto='.2s',\n",
    "            title=\"Topics Covered\", color='uploader',color_discrete_map= {'ABN': 'yellow','TV5': 'gold', 'Sakshi':'red' , 'TV9':'blue'})\n",
    "fig.update_traces(textfont_size=12, textangle=0, textposition=\"outside\", cliponaxis=False)\n",
    "fig.show()"
   ]
  },
  {
   "cell_type": "code",
   "execution_count": 217,
   "metadata": {},
   "outputs": [],
   "source": [
    "\n",
    "\n",
    "df_face = df_face[df_face.upload_date > '2022-06-01']\n",
    "df_face['negativity'] = (df_face['sentiment'] > 0)*1\n",
    "tags = list(df_face.columns[11:-1])\n",
    "\n",
    "df_tid_list =[]\n",
    "for t_id in tags:\n",
    "    df_tag = df_face[df_face[t_id]>0][['upload_date','duration','comment_count','view_count','sentiment','uploader']]\n",
    "    df_tag['tags'] = t_id\n",
    "    df_tid_list.append(df_tag)\n",
    "df_tags_plot = pd.concat(df_tid_list)\n",
    "df_tags_plot = df_tags_plot.reset_index()\n",
    "del df_tags_plot['index']\n",
    "\n",
    "df_bar_grouped = df_tags_plot.groupby(['tags','uploader']).agg({\"sentiment\": np.mean, 'view_count': np.sum, 'comment_count':np.sum,'duration':np.sum}).reset_index()\n",
    "df_bar_grouped  = df_bar_grouped.sort_values('view_count', ascending = False)\n",
    "df_bar_grouped['duration'] = df_bar_grouped['duration']/(60*60*24)\n",
    "df_bar_grouped['duration'] = np.round(df_bar_grouped['duration'],1)\n",
    "\n",
    "fig = px.treemap(df_bar_grouped, path=[px.Constant(\"Media\"), 'uploader', 'tags'], values='view_count',\n",
    "                  color='uploader', hover_data=['duration','sentiment'],color_discrete_map= {'ABN': 'yellow','TV5': 'gold', 'Sakshi':'ff2a26' , 'TV9':'#0000FF'})\n",
    "fig.update_layout(margin = dict(t=50, l=25, r=25, b=25))\n",
    "fig.update_traces(marker=dict(cornerradius=5))\n",
    "fig.show()"
   ]
  },
  {
   "cell_type": "code",
   "execution_count": 219,
   "metadata": {},
   "outputs": [
    {
     "data": {
      "application/vnd.plotly.v1+json": {
       "config": {
        "plotlyServerURL": "https://plot.ly"
       },
       "data": [
        {
         "branchvalues": "total",
         "customdata": [
          [
           0,
           0.9969115555286407,
           "Sakshi"
          ],
          [
           0,
           -0.4356199238035414,
           "ABN"
          ],
          [
           0,
           -0.14311296173504418,
           "TV9"
          ],
          [
           0.1,
           -0.5162571545304924,
           "TV5"
          ],
          [
           0,
           -0.002022423914500661,
           "Sakshi"
          ],
          [
           0,
           0.33205317788653904,
           "Sakshi"
          ],
          [
           0,
           -0.011635065078735296,
           "TV9"
          ],
          [
           0,
           -0.600268691778183,
           "ABN"
          ],
          [
           0,
           -0.4854083386334506,
           "Sakshi"
          ],
          [
           0.1,
           -0.15295338991916538,
           "TV5"
          ],
          [
           0.1,
           0.5300852755705515,
           "Sakshi"
          ],
          [
           0.1,
           0.04731601029634476,
           "TV5"
          ],
          [
           0.4,
           0.3792786609042775,
           "Sakshi"
          ],
          [
           0.2,
           -0.5081273296544718,
           "ABN"
          ],
          [
           0.1,
           0.07819212675094603,
           "Sakshi"
          ],
          [
           0.2,
           -0.32965490304761463,
           "ABN"
          ],
          [
           0,
           -0.12537970326163553,
           "Sakshi"
          ],
          [
           0,
           0.19746387004852295,
           "Sakshi"
          ],
          [
           0.1,
           -0.5169960409402847,
           "ABN"
          ],
          [
           0,
           0.5394079639361455,
           "Sakshi"
          ],
          [
           0,
           -0.233676933325254,
           "TV5"
          ],
          [
           0,
           0.9950687289237976,
           "Sakshi"
          ],
          [
           0.1,
           -0.3007017523050308,
           "TV5"
          ],
          [
           0,
           0.32266026735305786,
           "Sakshi"
          ],
          [
           0,
           -0.46764850930163737,
           "ABN"
          ],
          [
           0,
           0.0012762049833933697,
           "TV9"
          ],
          [
           0.1,
           0.00223122592325564,
           "TV9"
          ],
          [
           0.2,
           -0.0020794168114662225,
           "TV9"
          ],
          [
           0.1,
           0.26914590326222504,
           "Sakshi"
          ],
          [
           0,
           0.2898560298813713,
           "Sakshi"
          ],
          [
           0,
           -0.7300940950711569,
           "TV5"
          ],
          [
           0.1,
           -0.1001272201538086,
           "TV9"
          ],
          [
           0.1,
           -0.06526825204491614,
           "TV9"
          ],
          [
           0.2,
           0.12243556705388156,
           "TV9"
          ],
          [
           0.1,
           -0.2013934578214373,
           "TV9"
          ],
          [
           0,
           0.32805900772412616,
           "Sakshi"
          ],
          [
           0.1,
           -0.471788075837222,
           "ABN"
          ],
          [
           0.4,
           -0.24296744600419076,
           "TV5"
          ],
          [
           0,
           0.03285779886775545,
           "TV9"
          ],
          [
           0.1,
           -0.5845299794756132,
           "TV5"
          ],
          [
           0.2,
           -0.5364651784703538,
           "ABN"
          ],
          [
           0.2,
           -0.6145416428061092,
           "ABN"
          ],
          [
           0.9,
           0.08980634962160562,
           "Sakshi"
          ],
          [
           0,
           0.3320751190185547,
           "TV5"
          ],
          [
           0,
           -0.3309307197729746,
           "TV9"
          ],
          [
           0.1,
           0.39222397219459965,
           "TV9"
          ],
          [
           0,
           -0.5987987319628397,
           "ABN"
          ],
          [
           0,
           0.3292804691526625,
           "Sakshi"
          ],
          [
           0,
           -0.9969339966773987,
           "Sakshi"
          ],
          [
           0,
           0.5841104030609131,
           "Sakshi"
          ],
          [
           0.2,
           0.1398867666721344,
           "Sakshi"
          ],
          [
           0,
           0.3832476780964778,
           "TV5"
          ],
          [
           0.2,
           -0.4936474865558101,
           "ABN"
          ],
          [
           0,
           -0.3282248775164286,
           "TV9"
          ],
          [
           0.2,
           -0.1700499838796155,
           "TV5"
          ],
          [
           0.4,
           -0.571714288097317,
           "ABN"
          ],
          [
           0.3,
           -0.4031177412819218,
           "TV5"
          ],
          [
           0,
           -0.5421639233827591,
           "Sakshi"
          ],
          [
           0,
           0.5957652986049652,
           "TV9"
          ],
          [
           0,
           -0.5010322630405426,
           "ABN"
          ],
          [
           0,
           -0.49467009305953985,
           "TV5"
          ],
          [
           0,
           -0.4998866170644759,
           "TV5"
          ],
          [
           0,
           -0.4990397691726685,
           "TV5"
          ],
          [
           0.1,
           -0.4696437497933706,
           "ABN"
          ],
          [
           0,
           -0.5925021568934122,
           "ABN"
          ],
          [
           0,
           -0.1480380722454616,
           "TV9"
          ],
          [
           0.2,
           0.0007408492026790424,
           "TV9"
          ],
          [
           0.1,
           -0.4956995920932039,
           "ABN"
          ],
          [
           0,
           -0.06376999616622923,
           "Sakshi"
          ],
          [
           0.1,
           -0.5760661959648132,
           "ABN"
          ],
          [
           0.1,
           0.5050836786627769,
           "Sakshi"
          ],
          [
           0,
           -0.42937014784131733,
           "TV9"
          ],
          [
           0.1,
           -0.38267610852534956,
           "TV5"
          ],
          [
           0,
           -0.006382614374160822,
           "Sakshi"
          ],
          [
           0,
           -0.4236766610826765,
           "TV9"
          ],
          [
           0,
           -0.5435727503564622,
           "ABN"
          ],
          [
           0,
           -0.6915332858379071,
           "ABN"
          ],
          [
           0,
           0.33014986912409466,
           "Sakshi"
          ],
          [
           0,
           0.1435343282563346,
           "TV5"
          ],
          [
           0,
           -0.3444221317768097,
           "TV9"
          ],
          [
           0.1,
           -0.6480227153876732,
           "ABN"
          ],
          [
           0,
           -0.1424704875264849,
           "ABN"
          ],
          [
           0.1,
           0.2486925758421421,
           "Sakshi"
          ],
          [
           0,
           -0.00002282857894897461,
           "TV5"
          ],
          [
           0,
           0.9969559907913208,
           "TV9"
          ],
          [
           0,
           -0.998739778995514,
           "TV5"
          ],
          [
           0,
           -0.9816624522209167,
           "TV9"
          ],
          [
           0,
           -0.43910768357190216,
           "ABN"
          ],
          [
           0.4,
           -0.40685892448150857,
           "ABN"
          ],
          [
           0,
           0.26011193882335315,
           "Sakshi"
          ],
          [
           0.2,
           -0.5339590397433959,
           "TV5"
          ],
          [
           0,
           0.3313170141643948,
           "TV5"
          ],
          [
           0,
           -0.49701622128486633,
           "TV5"
          ],
          [
           0.5,
           -0.5578266757761123,
           "ABN"
          ],
          [
           0,
           -0.379689308313223,
           "TV9"
          ],
          [
           0,
           0.4898362308740616,
           "Sakshi"
          ],
          [
           0,
           -0.9950041174888612,
           "TV5"
          ],
          [
           0.2,
           0.33221840957800547,
           "Sakshi"
          ],
          [
           0,
           -0.5821621060371399,
           "ABN"
          ],
          [
           0,
           -0.009166270494461115,
           "ABN"
          ],
          [
           0,
           0.4257446953228542,
           "Sakshi"
          ],
          [
           0,
           0.0003603994846343994,
           "TV9"
          ],
          [
           0.4,
           -0.3480164796356263,
           "TV5"
          ],
          [
           0.1,
           -0.6192303895950317,
           "ABN"
          ],
          [
           0,
           -0.7094098584992545,
           "TV9"
          ],
          [
           0.1,
           -0.4982842653989792,
           "ABN"
          ],
          [
           0.1,
           -0.14190446649278912,
           "Sakshi"
          ],
          [
           0,
           -0.3890881061553955,
           "ABN"
          ],
          [
           0.1,
           -0.35366629489830564,
           "TV5"
          ],
          [
           0,
           0.3956421203911304,
           "Sakshi"
          ],
          [
           0.4,
           -0.5913007058001853,
           "ABN"
          ],
          [
           0,
           -0.9857304990291595,
           "TV5"
          ],
          [
           0.2,
           -0.010314888424343534,
           "TV9"
          ],
          [
           0.1,
           -0.19946467638015747,
           "TV5"
          ],
          [
           0.4,
           -0.35085337112347287,
           "TV5"
          ],
          [
           0,
           -0.5310280287967009,
           "ABN"
          ],
          [
           0.8,
           0.4204833247874043,
           "Sakshi"
          ],
          [
           0,
           0.26822616159915924,
           "TV9"
          ],
          [
           0.2,
           -0.43924124408186527,
           "ABN"
          ],
          [
           0.2,
           -0.38020528771660544,
           "ABN"
          ],
          [
           0.1,
           0.37149593306750783,
           "Sakshi"
          ],
          [
           0,
           -0.013823598623275757,
           "TV9"
          ],
          [
           0,
           0.49836000800132746,
           "TV5"
          ],
          [
           0,
           -0.49906741827726364,
           "TV9"
          ],
          [
           0.1,
           -0.3673653087832711,
           "TV9"
          ],
          [
           0.1,
           0.28725812690598623,
           "TV9"
          ],
          [
           0.3,
           -0.2358636561128282,
           "ABN"
          ],
          [
           0,
           -0.987787902355194,
           "TV5"
          ],
          [
           0.1,
           -0.844999386714055,
           "ABN"
          ],
          [
           0,
           0.3318014740943909,
           "TV5"
          ],
          [
           0.1,
           -0.2720371955319455,
           "TV5"
          ],
          [
           0,
           -0.23700673763568586,
           "TV5"
          ],
          [
           0.1,
           -0.21881799075914465,
           "TV9"
          ],
          [
           0,
           0.4976636469364166,
           "TV9"
          ],
          [
           0,
           0.19654061198234557,
           "TV9"
          ],
          [
           0.6,
           0.09522243236240586,
           "Sakshi"
          ],
          [
           0.1,
           0.24158682007538645,
           "Sakshi"
          ],
          [
           0,
           -0.5125503391027451,
           "TV9"
          ],
          [
           0.2,
           -0.2319532449428852,
           "TV5"
          ],
          [
           0.1,
           -0.410201304099139,
           "TV5"
          ],
          [
           0,
           -0.12478052452206609,
           "TV5"
          ],
          [
           0.4,
           -0.577290187037088,
           "ABN"
          ],
          [
           0.1,
           -0.3172845269771332,
           "TV5"
          ],
          [
           0.1,
           0.102024182360223,
           "TV9"
          ],
          [
           "(?)",
           "(?)",
           "ABN"
          ],
          [
           "(?)",
           "(?)",
           "Sakshi"
          ],
          [
           "(?)",
           "(?)",
           "TV5"
          ],
          [
           "(?)",
           "(?)",
           "TV9"
          ],
          [
           "(?)",
           "(?)",
           "(?)"
          ]
         ],
         "domain": {
          "x": [
           0,
           1
          ],
          "y": [
           0,
           1
          ]
         },
         "hovertemplate": "labels=%{label}<br>view_count=%{value}<br>parent=%{parent}<br>id=%{id}<br>duration=%{customdata[0]}<br>sentiment=%{customdata[1]}<br>uploader=%{customdata[2]}<extra></extra>",
         "ids": [
          "Media/Sakshi/jr ntr",
          "Media/ABN/nara lokesh",
          "Media/TV9/ap assembly session today",
          "Media/TV5/janasena party",
          "Media/Sakshi/janasena party",
          "Media/Sakshi/YSRCP Plenary",
          "Media/TV9/gorantla ",
          "Media/ABN/gorantla ",
          "Media/Sakshi/Yellow Media",
          "Media/TV5/yuvagalam",
          "Media/Sakshi/alliance",
          "Media/TV5/alliance",
          "Media/Sakshi/cm jagan",
          "Media/ABN/cm jagan",
          "Media/Sakshi/amaravati",
          "Media/ABN/chandrababu",
          "Media/Sakshi/ambati rambabu",
          "Media/Sakshi/byreddy siddharth reddy",
          "Media/ABN/ambati rambabu ",
          "Media/Sakshi/ap employees",
          "Media/TV5/nara lokesh",
          "Media/Sakshi/panchayat elections",
          "Media/TV5/ap assembly session today",
          "Media/Sakshi/tdp pattabhi",
          "Media/ABN/vangalapudi anitha",
          "Media/TV9/Ramoji Rao",
          "Media/TV9/tdp",
          "Media/TV9/schemes",
          "Media/Sakshi/visakha",
          "Media/Sakshi/Kuppam",
          "Media/TV5/Kuppam",
          "Media/TV9/visakha",
          "Media/TV9/polavaram",
          "Media/TV9/ycp",
          "Media/TV9/pawan kalyan",
          "Media/Sakshi/vangalapudi anitha",
          "Media/ABN/byreddy siddharth reddy",
          "Media/TV5/ysrcp",
          "Media/TV9/ap employees",
          "Media/TV5/ap employees",
          "Media/ABN/yuvagalam",
          "Media/ABN/ap employees",
          "Media/Sakshi/chandrababu",
          "Media/TV5/panchayat elections",
          "Media/TV9/vangalapudi anitha",
          "Media/TV9/cm jagan",
          "Media/ABN/raghurama ",
          "Media/Sakshi/gudivada amarnath",
          "Media/Sakshi/high court",
          "Media/Sakshi/polavaram",
          "Media/Sakshi/pawan kalyan",
          "Media/TV5/jr ntr",
          "Media/ABN/pawan kalyan",
          "Media/TV9/panchayat elections",
          "Media/TV5/chandrababu",
          "Media/ABN/AP ",
          "Media/TV5/cm jagan",
          "Media/Sakshi/Ramoji Rao",
          "Media/TV9/Kuppam",
          "Media/ABN/Ramoji Rao",
          "Media/TV5/Ramoji Rao",
          "Media/TV5/Atchannaidu",
          "Media/TV5/Sajjala ",
          "Media/ABN/YS Viveka Case",
          "Media/ABN/Atchannaidu",
          "Media/TV9/YS Viveka Case",
          "Media/TV9/AP ",
          "Media/ABN/amaravati",
          "Media/Sakshi/YS Viveka Case",
          "Media/ABN/ambati rambabu",
          "Media/Sakshi/AP ",
          "Media/TV9/ambati rambabu",
          "Media/TV5/amaravati",
          "Media/Sakshi/Sajjala ",
          "Media/TV9/nara lokesh",
          "Media/ABN/panchayat elections",
          "Media/ABN/Sajjala ",
          "Media/Sakshi/ambati rambabu ",
          "Media/TV5/vangalapudi anitha",
          "Media/TV9/tdp pattabhi",
          "Media/ABN/polavaram",
          "Media/ABN/Peddireddy ",
          "Media/Sakshi/yuvagalam",
          "Media/TV5/raghurama ",
          "Media/TV9/raghurama ",
          "Media/TV5/Gadapa Gadapaku ",
          "Media/TV9/Gadapa Gadapaku ",
          "Media/ABN/Kuppam",
          "Media/ABN/tdp",
          "Media/Sakshi/Peddireddy ",
          "Media/TV5/AP ",
          "Media/TV5/ambati rambabu",
          "Media/TV5/gudivada amarnath",
          "Media/ABN/ysrcp",
          "Media/TV9/amaravati",
          "Media/Sakshi/gorantla ",
          "Media/TV5/gorantla ",
          "Media/Sakshi/ycp",
          "Media/ABN/gudivada amarnath",
          "Media/ABN/YSRCP Plenary",
          "Media/Sakshi/Atchannaidu",
          "Media/TV9/gudivada amarnath",
          "Media/TV5/tdp",
          "Media/ABN/high court",
          "Media/TV9/high court",
          "Media/ABN/janasena party",
          "Media/Sakshi/tdp",
          "Media/ABN/jr ntr",
          "Media/TV5/byreddy siddharth reddy",
          "Media/Sakshi/Gadapa Gadapaku ",
          "Media/ABN/ycp",
          "Media/TV5/tdp pattabhi",
          "Media/TV9/ysrcp",
          "Media/TV5/visakha",
          "Media/TV5/ycp",
          "Media/ABN/tdp pattabhi",
          "Media/Sakshi/ysrcp",
          "Media/TV9/Atchannaidu",
          "Media/ABN/visakha",
          "Media/ABN/ap assembly session today",
          "Media/Sakshi/schemes",
          "Media/TV9/ambati rambabu ",
          "Media/TV5/ambati rambabu ",
          "Media/TV9/byreddy siddharth reddy",
          "Media/TV9/chandrababu",
          "Media/TV9/alliance",
          "Media/ABN/alliance",
          "Media/TV5/Yellow Media",
          "Media/ABN/Yellow Media",
          "Media/TV5/YSRCP Plenary",
          "Media/TV5/high court",
          "Media/TV5/YS Viveka Case",
          "Media/TV9/janasena party",
          "Media/TV9/Sajjala ",
          "Media/TV9/jr ntr",
          "Media/Sakshi/nara lokesh",
          "Media/Sakshi/ap assembly session today",
          "Media/TV9/Peddireddy ",
          "Media/TV5/pawan kalyan",
          "Media/TV5/Peddireddy ",
          "Media/TV5/polavaram",
          "Media/ABN/schemes",
          "Media/TV5/schemes",
          "Media/TV9/yuvagalam",
          "Media/ABN",
          "Media/Sakshi",
          "Media/TV5",
          "Media/TV9",
          "Media"
         ],
         "labels": [
          "jr ntr",
          "nara lokesh",
          "ap assembly session today",
          "janasena party",
          "janasena party",
          "YSRCP Plenary",
          "gorantla ",
          "gorantla ",
          "Yellow Media",
          "yuvagalam",
          "alliance",
          "alliance",
          "cm jagan",
          "cm jagan",
          "amaravati",
          "chandrababu",
          "ambati rambabu",
          "byreddy siddharth reddy",
          "ambati rambabu ",
          "ap employees",
          "nara lokesh",
          "panchayat elections",
          "ap assembly session today",
          "tdp pattabhi",
          "vangalapudi anitha",
          "Ramoji Rao",
          "tdp",
          "schemes",
          "visakha",
          "Kuppam",
          "Kuppam",
          "visakha",
          "polavaram",
          "ycp",
          "pawan kalyan",
          "vangalapudi anitha",
          "byreddy siddharth reddy",
          "ysrcp",
          "ap employees",
          "ap employees",
          "yuvagalam",
          "ap employees",
          "chandrababu",
          "panchayat elections",
          "vangalapudi anitha",
          "cm jagan",
          "raghurama ",
          "gudivada amarnath",
          "high court",
          "polavaram",
          "pawan kalyan",
          "jr ntr",
          "pawan kalyan",
          "panchayat elections",
          "chandrababu",
          "AP ",
          "cm jagan",
          "Ramoji Rao",
          "Kuppam",
          "Ramoji Rao",
          "Ramoji Rao",
          "Atchannaidu",
          "Sajjala ",
          "YS Viveka Case",
          "Atchannaidu",
          "YS Viveka Case",
          "AP ",
          "amaravati",
          "YS Viveka Case",
          "ambati rambabu",
          "AP ",
          "ambati rambabu",
          "amaravati",
          "Sajjala ",
          "nara lokesh",
          "panchayat elections",
          "Sajjala ",
          "ambati rambabu ",
          "vangalapudi anitha",
          "tdp pattabhi",
          "polavaram",
          "Peddireddy ",
          "yuvagalam",
          "raghurama ",
          "raghurama ",
          "Gadapa Gadapaku ",
          "Gadapa Gadapaku ",
          "Kuppam",
          "tdp",
          "Peddireddy ",
          "AP ",
          "ambati rambabu",
          "gudivada amarnath",
          "ysrcp",
          "amaravati",
          "gorantla ",
          "gorantla ",
          "ycp",
          "gudivada amarnath",
          "YSRCP Plenary",
          "Atchannaidu",
          "gudivada amarnath",
          "tdp",
          "high court",
          "high court",
          "janasena party",
          "tdp",
          "jr ntr",
          "byreddy siddharth reddy",
          "Gadapa Gadapaku ",
          "ycp",
          "tdp pattabhi",
          "ysrcp",
          "visakha",
          "ycp",
          "tdp pattabhi",
          "ysrcp",
          "Atchannaidu",
          "visakha",
          "ap assembly session today",
          "schemes",
          "ambati rambabu ",
          "ambati rambabu ",
          "byreddy siddharth reddy",
          "chandrababu",
          "alliance",
          "alliance",
          "Yellow Media",
          "Yellow Media",
          "YSRCP Plenary",
          "high court",
          "YS Viveka Case",
          "janasena party",
          "Sajjala ",
          "jr ntr",
          "nara lokesh",
          "ap assembly session today",
          "Peddireddy ",
          "pawan kalyan",
          "Peddireddy ",
          "polavaram",
          "schemes",
          "schemes",
          "yuvagalam",
          "ABN",
          "Sakshi",
          "TV5",
          "TV9",
          "Media"
         ],
         "marker": {
          "colors": [
           "ff2a26",
           "yellow",
           "#0000FF",
           "gold",
           "ff2a26",
           "ff2a26",
           "#0000FF",
           "yellow",
           "ff2a26",
           "gold",
           "ff2a26",
           "gold",
           "ff2a26",
           "yellow",
           "ff2a26",
           "yellow",
           "ff2a26",
           "ff2a26",
           "yellow",
           "ff2a26",
           "gold",
           "ff2a26",
           "gold",
           "ff2a26",
           "yellow",
           "#0000FF",
           "#0000FF",
           "#0000FF",
           "ff2a26",
           "ff2a26",
           "gold",
           "#0000FF",
           "#0000FF",
           "#0000FF",
           "#0000FF",
           "ff2a26",
           "yellow",
           "gold",
           "#0000FF",
           "gold",
           "yellow",
           "yellow",
           "ff2a26",
           "gold",
           "#0000FF",
           "#0000FF",
           "yellow",
           "ff2a26",
           "ff2a26",
           "ff2a26",
           "ff2a26",
           "gold",
           "yellow",
           "#0000FF",
           "gold",
           "yellow",
           "gold",
           "ff2a26",
           "#0000FF",
           "yellow",
           "gold",
           "gold",
           "gold",
           "yellow",
           "yellow",
           "#0000FF",
           "#0000FF",
           "yellow",
           "ff2a26",
           "yellow",
           "ff2a26",
           "#0000FF",
           "gold",
           "ff2a26",
           "#0000FF",
           "yellow",
           "yellow",
           "ff2a26",
           "gold",
           "#0000FF",
           "yellow",
           "yellow",
           "ff2a26",
           "gold",
           "#0000FF",
           "gold",
           "#0000FF",
           "yellow",
           "yellow",
           "ff2a26",
           "gold",
           "gold",
           "gold",
           "yellow",
           "#0000FF",
           "ff2a26",
           "gold",
           "ff2a26",
           "yellow",
           "yellow",
           "ff2a26",
           "#0000FF",
           "gold",
           "yellow",
           "#0000FF",
           "yellow",
           "ff2a26",
           "yellow",
           "gold",
           "ff2a26",
           "yellow",
           "gold",
           "#0000FF",
           "gold",
           "gold",
           "yellow",
           "ff2a26",
           "#0000FF",
           "yellow",
           "yellow",
           "ff2a26",
           "#0000FF",
           "gold",
           "#0000FF",
           "#0000FF",
           "#0000FF",
           "yellow",
           "gold",
           "yellow",
           "gold",
           "gold",
           "gold",
           "#0000FF",
           "#0000FF",
           "#0000FF",
           "ff2a26",
           "ff2a26",
           "#0000FF",
           "gold",
           "gold",
           "gold",
           "yellow",
           "gold",
           "#0000FF",
           "yellow",
           "ff2a26",
           "gold",
           "#0000FF",
           "#FFA15A"
          ],
          "cornerradius": 5
         },
         "name": "",
         "parents": [
          "Media/Sakshi",
          "Media/ABN",
          "Media/TV9",
          "Media/TV5",
          "Media/Sakshi",
          "Media/Sakshi",
          "Media/TV9",
          "Media/ABN",
          "Media/Sakshi",
          "Media/TV5",
          "Media/Sakshi",
          "Media/TV5",
          "Media/Sakshi",
          "Media/ABN",
          "Media/Sakshi",
          "Media/ABN",
          "Media/Sakshi",
          "Media/Sakshi",
          "Media/ABN",
          "Media/Sakshi",
          "Media/TV5",
          "Media/Sakshi",
          "Media/TV5",
          "Media/Sakshi",
          "Media/ABN",
          "Media/TV9",
          "Media/TV9",
          "Media/TV9",
          "Media/Sakshi",
          "Media/Sakshi",
          "Media/TV5",
          "Media/TV9",
          "Media/TV9",
          "Media/TV9",
          "Media/TV9",
          "Media/Sakshi",
          "Media/ABN",
          "Media/TV5",
          "Media/TV9",
          "Media/TV5",
          "Media/ABN",
          "Media/ABN",
          "Media/Sakshi",
          "Media/TV5",
          "Media/TV9",
          "Media/TV9",
          "Media/ABN",
          "Media/Sakshi",
          "Media/Sakshi",
          "Media/Sakshi",
          "Media/Sakshi",
          "Media/TV5",
          "Media/ABN",
          "Media/TV9",
          "Media/TV5",
          "Media/ABN",
          "Media/TV5",
          "Media/Sakshi",
          "Media/TV9",
          "Media/ABN",
          "Media/TV5",
          "Media/TV5",
          "Media/TV5",
          "Media/ABN",
          "Media/ABN",
          "Media/TV9",
          "Media/TV9",
          "Media/ABN",
          "Media/Sakshi",
          "Media/ABN",
          "Media/Sakshi",
          "Media/TV9",
          "Media/TV5",
          "Media/Sakshi",
          "Media/TV9",
          "Media/ABN",
          "Media/ABN",
          "Media/Sakshi",
          "Media/TV5",
          "Media/TV9",
          "Media/ABN",
          "Media/ABN",
          "Media/Sakshi",
          "Media/TV5",
          "Media/TV9",
          "Media/TV5",
          "Media/TV9",
          "Media/ABN",
          "Media/ABN",
          "Media/Sakshi",
          "Media/TV5",
          "Media/TV5",
          "Media/TV5",
          "Media/ABN",
          "Media/TV9",
          "Media/Sakshi",
          "Media/TV5",
          "Media/Sakshi",
          "Media/ABN",
          "Media/ABN",
          "Media/Sakshi",
          "Media/TV9",
          "Media/TV5",
          "Media/ABN",
          "Media/TV9",
          "Media/ABN",
          "Media/Sakshi",
          "Media/ABN",
          "Media/TV5",
          "Media/Sakshi",
          "Media/ABN",
          "Media/TV5",
          "Media/TV9",
          "Media/TV5",
          "Media/TV5",
          "Media/ABN",
          "Media/Sakshi",
          "Media/TV9",
          "Media/ABN",
          "Media/ABN",
          "Media/Sakshi",
          "Media/TV9",
          "Media/TV5",
          "Media/TV9",
          "Media/TV9",
          "Media/TV9",
          "Media/ABN",
          "Media/TV5",
          "Media/ABN",
          "Media/TV5",
          "Media/TV5",
          "Media/TV5",
          "Media/TV9",
          "Media/TV9",
          "Media/TV9",
          "Media/Sakshi",
          "Media/Sakshi",
          "Media/TV9",
          "Media/TV5",
          "Media/TV5",
          "Media/TV5",
          "Media/ABN",
          "Media/TV5",
          "Media/TV9",
          "Media",
          "Media",
          "Media",
          "Media",
          ""
         ],
         "type": "treemap",
         "values": [
          82040,
          71197,
          59963,
          1835517,
          442089,
          1370215,
          74644,
          44086,
          113771,
          253998,
          1339447,
          1146604,
          4894669,
          726630,
          635831,
          726097,
          256569,
          94417,
          133833,
          582694,
          120417,
          4083,
          267808,
          55556,
          149061,
          13505,
          747938,
          951004,
          955471,
          330385,
          207911,
          712766,
          738335,
          2084405,
          821573,
          310732,
          122704,
          2443729,
          573554,
          639604,
          494279,
          333314,
          2849433,
          15535,
          499525,
          1021450,
          170074,
          102713,
          5616,
          310833,
          904542,
          3166436,
          410202,
          5433,
          1663575,
          575674,
          1512366,
          699295,
          505294,
          9136,
          9075,
          54785,
          39024,
          280090,
          58032,
          319644,
          1402931,
          313299,
          434318,
          472559,
          1099764,
          153437,
          368104,
          20130,
          45725,
          21716,
          116124,
          62025,
          66043,
          29613,
          184343,
          19354,
          1512645,
          241446,
          1103,
          20937,
          7103,
          33871,
          1190066,
          220805,
          1150842,
          152148,
          27276,
          1597475,
          215144,
          487492,
          3681,
          2756984,
          16753,
          2773,
          330282,
          33298,
          1483545,
          626892,
          51226,
          669537,
          1338287,
          26399,
          284559,
          145332,
          1585606,
          52778,
          2300934,
          288720,
          1691657,
          312236,
          4901463,
          46807,
          496553,
          298629,
          989679,
          125409,
          118952,
          19363,
          1422011,
          520696,
          829873,
          42664,
          32038,
          37523,
          619216,
          248895,
          358991,
          17821,
          141922,
          2338683,
          438585,
          16419,
          573771,
          208548,
          641821,
          785848,
          875831,
          814765,
          13936353,
          33416875,
          22575341,
          16853751,
          86782320
         ]
        }
       ],
       "layout": {
        "legend": {
         "tracegroupgap": 0
        },
        "margin": {
         "b": 25,
         "l": 25,
         "r": 25,
         "t": 50
        },
        "template": {
         "data": {
          "bar": [
           {
            "error_x": {
             "color": "#2a3f5f"
            },
            "error_y": {
             "color": "#2a3f5f"
            },
            "marker": {
             "line": {
              "color": "#E5ECF6",
              "width": 0.5
             },
             "pattern": {
              "fillmode": "overlay",
              "size": 10,
              "solidity": 0.2
             }
            },
            "type": "bar"
           }
          ],
          "barpolar": [
           {
            "marker": {
             "line": {
              "color": "#E5ECF6",
              "width": 0.5
             },
             "pattern": {
              "fillmode": "overlay",
              "size": 10,
              "solidity": 0.2
             }
            },
            "type": "barpolar"
           }
          ],
          "carpet": [
           {
            "aaxis": {
             "endlinecolor": "#2a3f5f",
             "gridcolor": "white",
             "linecolor": "white",
             "minorgridcolor": "white",
             "startlinecolor": "#2a3f5f"
            },
            "baxis": {
             "endlinecolor": "#2a3f5f",
             "gridcolor": "white",
             "linecolor": "white",
             "minorgridcolor": "white",
             "startlinecolor": "#2a3f5f"
            },
            "type": "carpet"
           }
          ],
          "choropleth": [
           {
            "colorbar": {
             "outlinewidth": 0,
             "ticks": ""
            },
            "type": "choropleth"
           }
          ],
          "contour": [
           {
            "colorbar": {
             "outlinewidth": 0,
             "ticks": ""
            },
            "colorscale": [
             [
              0,
              "#0d0887"
             ],
             [
              0.1111111111111111,
              "#46039f"
             ],
             [
              0.2222222222222222,
              "#7201a8"
             ],
             [
              0.3333333333333333,
              "#9c179e"
             ],
             [
              0.4444444444444444,
              "#bd3786"
             ],
             [
              0.5555555555555556,
              "#d8576b"
             ],
             [
              0.6666666666666666,
              "#ed7953"
             ],
             [
              0.7777777777777778,
              "#fb9f3a"
             ],
             [
              0.8888888888888888,
              "#fdca26"
             ],
             [
              1,
              "#f0f921"
             ]
            ],
            "type": "contour"
           }
          ],
          "contourcarpet": [
           {
            "colorbar": {
             "outlinewidth": 0,
             "ticks": ""
            },
            "type": "contourcarpet"
           }
          ],
          "heatmap": [
           {
            "colorbar": {
             "outlinewidth": 0,
             "ticks": ""
            },
            "colorscale": [
             [
              0,
              "#0d0887"
             ],
             [
              0.1111111111111111,
              "#46039f"
             ],
             [
              0.2222222222222222,
              "#7201a8"
             ],
             [
              0.3333333333333333,
              "#9c179e"
             ],
             [
              0.4444444444444444,
              "#bd3786"
             ],
             [
              0.5555555555555556,
              "#d8576b"
             ],
             [
              0.6666666666666666,
              "#ed7953"
             ],
             [
              0.7777777777777778,
              "#fb9f3a"
             ],
             [
              0.8888888888888888,
              "#fdca26"
             ],
             [
              1,
              "#f0f921"
             ]
            ],
            "type": "heatmap"
           }
          ],
          "heatmapgl": [
           {
            "colorbar": {
             "outlinewidth": 0,
             "ticks": ""
            },
            "colorscale": [
             [
              0,
              "#0d0887"
             ],
             [
              0.1111111111111111,
              "#46039f"
             ],
             [
              0.2222222222222222,
              "#7201a8"
             ],
             [
              0.3333333333333333,
              "#9c179e"
             ],
             [
              0.4444444444444444,
              "#bd3786"
             ],
             [
              0.5555555555555556,
              "#d8576b"
             ],
             [
              0.6666666666666666,
              "#ed7953"
             ],
             [
              0.7777777777777778,
              "#fb9f3a"
             ],
             [
              0.8888888888888888,
              "#fdca26"
             ],
             [
              1,
              "#f0f921"
             ]
            ],
            "type": "heatmapgl"
           }
          ],
          "histogram": [
           {
            "marker": {
             "pattern": {
              "fillmode": "overlay",
              "size": 10,
              "solidity": 0.2
             }
            },
            "type": "histogram"
           }
          ],
          "histogram2d": [
           {
            "colorbar": {
             "outlinewidth": 0,
             "ticks": ""
            },
            "colorscale": [
             [
              0,
              "#0d0887"
             ],
             [
              0.1111111111111111,
              "#46039f"
             ],
             [
              0.2222222222222222,
              "#7201a8"
             ],
             [
              0.3333333333333333,
              "#9c179e"
             ],
             [
              0.4444444444444444,
              "#bd3786"
             ],
             [
              0.5555555555555556,
              "#d8576b"
             ],
             [
              0.6666666666666666,
              "#ed7953"
             ],
             [
              0.7777777777777778,
              "#fb9f3a"
             ],
             [
              0.8888888888888888,
              "#fdca26"
             ],
             [
              1,
              "#f0f921"
             ]
            ],
            "type": "histogram2d"
           }
          ],
          "histogram2dcontour": [
           {
            "colorbar": {
             "outlinewidth": 0,
             "ticks": ""
            },
            "colorscale": [
             [
              0,
              "#0d0887"
             ],
             [
              0.1111111111111111,
              "#46039f"
             ],
             [
              0.2222222222222222,
              "#7201a8"
             ],
             [
              0.3333333333333333,
              "#9c179e"
             ],
             [
              0.4444444444444444,
              "#bd3786"
             ],
             [
              0.5555555555555556,
              "#d8576b"
             ],
             [
              0.6666666666666666,
              "#ed7953"
             ],
             [
              0.7777777777777778,
              "#fb9f3a"
             ],
             [
              0.8888888888888888,
              "#fdca26"
             ],
             [
              1,
              "#f0f921"
             ]
            ],
            "type": "histogram2dcontour"
           }
          ],
          "mesh3d": [
           {
            "colorbar": {
             "outlinewidth": 0,
             "ticks": ""
            },
            "type": "mesh3d"
           }
          ],
          "parcoords": [
           {
            "line": {
             "colorbar": {
              "outlinewidth": 0,
              "ticks": ""
             }
            },
            "type": "parcoords"
           }
          ],
          "pie": [
           {
            "automargin": true,
            "type": "pie"
           }
          ],
          "scatter": [
           {
            "fillpattern": {
             "fillmode": "overlay",
             "size": 10,
             "solidity": 0.2
            },
            "type": "scatter"
           }
          ],
          "scatter3d": [
           {
            "line": {
             "colorbar": {
              "outlinewidth": 0,
              "ticks": ""
             }
            },
            "marker": {
             "colorbar": {
              "outlinewidth": 0,
              "ticks": ""
             }
            },
            "type": "scatter3d"
           }
          ],
          "scattercarpet": [
           {
            "marker": {
             "colorbar": {
              "outlinewidth": 0,
              "ticks": ""
             }
            },
            "type": "scattercarpet"
           }
          ],
          "scattergeo": [
           {
            "marker": {
             "colorbar": {
              "outlinewidth": 0,
              "ticks": ""
             }
            },
            "type": "scattergeo"
           }
          ],
          "scattergl": [
           {
            "marker": {
             "colorbar": {
              "outlinewidth": 0,
              "ticks": ""
             }
            },
            "type": "scattergl"
           }
          ],
          "scattermapbox": [
           {
            "marker": {
             "colorbar": {
              "outlinewidth": 0,
              "ticks": ""
             }
            },
            "type": "scattermapbox"
           }
          ],
          "scatterpolar": [
           {
            "marker": {
             "colorbar": {
              "outlinewidth": 0,
              "ticks": ""
             }
            },
            "type": "scatterpolar"
           }
          ],
          "scatterpolargl": [
           {
            "marker": {
             "colorbar": {
              "outlinewidth": 0,
              "ticks": ""
             }
            },
            "type": "scatterpolargl"
           }
          ],
          "scatterternary": [
           {
            "marker": {
             "colorbar": {
              "outlinewidth": 0,
              "ticks": ""
             }
            },
            "type": "scatterternary"
           }
          ],
          "surface": [
           {
            "colorbar": {
             "outlinewidth": 0,
             "ticks": ""
            },
            "colorscale": [
             [
              0,
              "#0d0887"
             ],
             [
              0.1111111111111111,
              "#46039f"
             ],
             [
              0.2222222222222222,
              "#7201a8"
             ],
             [
              0.3333333333333333,
              "#9c179e"
             ],
             [
              0.4444444444444444,
              "#bd3786"
             ],
             [
              0.5555555555555556,
              "#d8576b"
             ],
             [
              0.6666666666666666,
              "#ed7953"
             ],
             [
              0.7777777777777778,
              "#fb9f3a"
             ],
             [
              0.8888888888888888,
              "#fdca26"
             ],
             [
              1,
              "#f0f921"
             ]
            ],
            "type": "surface"
           }
          ],
          "table": [
           {
            "cells": {
             "fill": {
              "color": "#EBF0F8"
             },
             "line": {
              "color": "white"
             }
            },
            "header": {
             "fill": {
              "color": "#C8D4E3"
             },
             "line": {
              "color": "white"
             }
            },
            "type": "table"
           }
          ]
         },
         "layout": {
          "annotationdefaults": {
           "arrowcolor": "#2a3f5f",
           "arrowhead": 0,
           "arrowwidth": 1
          },
          "autotypenumbers": "strict",
          "coloraxis": {
           "colorbar": {
            "outlinewidth": 0,
            "ticks": ""
           }
          },
          "colorscale": {
           "diverging": [
            [
             0,
             "#8e0152"
            ],
            [
             0.1,
             "#c51b7d"
            ],
            [
             0.2,
             "#de77ae"
            ],
            [
             0.3,
             "#f1b6da"
            ],
            [
             0.4,
             "#fde0ef"
            ],
            [
             0.5,
             "#f7f7f7"
            ],
            [
             0.6,
             "#e6f5d0"
            ],
            [
             0.7,
             "#b8e186"
            ],
            [
             0.8,
             "#7fbc41"
            ],
            [
             0.9,
             "#4d9221"
            ],
            [
             1,
             "#276419"
            ]
           ],
           "sequential": [
            [
             0,
             "#0d0887"
            ],
            [
             0.1111111111111111,
             "#46039f"
            ],
            [
             0.2222222222222222,
             "#7201a8"
            ],
            [
             0.3333333333333333,
             "#9c179e"
            ],
            [
             0.4444444444444444,
             "#bd3786"
            ],
            [
             0.5555555555555556,
             "#d8576b"
            ],
            [
             0.6666666666666666,
             "#ed7953"
            ],
            [
             0.7777777777777778,
             "#fb9f3a"
            ],
            [
             0.8888888888888888,
             "#fdca26"
            ],
            [
             1,
             "#f0f921"
            ]
           ],
           "sequentialminus": [
            [
             0,
             "#0d0887"
            ],
            [
             0.1111111111111111,
             "#46039f"
            ],
            [
             0.2222222222222222,
             "#7201a8"
            ],
            [
             0.3333333333333333,
             "#9c179e"
            ],
            [
             0.4444444444444444,
             "#bd3786"
            ],
            [
             0.5555555555555556,
             "#d8576b"
            ],
            [
             0.6666666666666666,
             "#ed7953"
            ],
            [
             0.7777777777777778,
             "#fb9f3a"
            ],
            [
             0.8888888888888888,
             "#fdca26"
            ],
            [
             1,
             "#f0f921"
            ]
           ]
          },
          "colorway": [
           "#636efa",
           "#EF553B",
           "#00cc96",
           "#ab63fa",
           "#FFA15A",
           "#19d3f3",
           "#FF6692",
           "#B6E880",
           "#FF97FF",
           "#FECB52"
          ],
          "font": {
           "color": "#2a3f5f"
          },
          "geo": {
           "bgcolor": "white",
           "lakecolor": "white",
           "landcolor": "#E5ECF6",
           "showlakes": true,
           "showland": true,
           "subunitcolor": "white"
          },
          "hoverlabel": {
           "align": "left"
          },
          "hovermode": "closest",
          "mapbox": {
           "style": "light"
          },
          "paper_bgcolor": "white",
          "plot_bgcolor": "#E5ECF6",
          "polar": {
           "angularaxis": {
            "gridcolor": "white",
            "linecolor": "white",
            "ticks": ""
           },
           "bgcolor": "#E5ECF6",
           "radialaxis": {
            "gridcolor": "white",
            "linecolor": "white",
            "ticks": ""
           }
          },
          "scene": {
           "xaxis": {
            "backgroundcolor": "#E5ECF6",
            "gridcolor": "white",
            "gridwidth": 2,
            "linecolor": "white",
            "showbackground": true,
            "ticks": "",
            "zerolinecolor": "white"
           },
           "yaxis": {
            "backgroundcolor": "#E5ECF6",
            "gridcolor": "white",
            "gridwidth": 2,
            "linecolor": "white",
            "showbackground": true,
            "ticks": "",
            "zerolinecolor": "white"
           },
           "zaxis": {
            "backgroundcolor": "#E5ECF6",
            "gridcolor": "white",
            "gridwidth": 2,
            "linecolor": "white",
            "showbackground": true,
            "ticks": "",
            "zerolinecolor": "white"
           }
          },
          "shapedefaults": {
           "line": {
            "color": "#2a3f5f"
           }
          },
          "ternary": {
           "aaxis": {
            "gridcolor": "white",
            "linecolor": "white",
            "ticks": ""
           },
           "baxis": {
            "gridcolor": "white",
            "linecolor": "white",
            "ticks": ""
           },
           "bgcolor": "#E5ECF6",
           "caxis": {
            "gridcolor": "white",
            "linecolor": "white",
            "ticks": ""
           }
          },
          "title": {
           "x": 0.05
          },
          "xaxis": {
           "automargin": true,
           "gridcolor": "white",
           "linecolor": "white",
           "ticks": "",
           "title": {
            "standoff": 15
           },
           "zerolinecolor": "white",
           "zerolinewidth": 2
          },
          "yaxis": {
           "automargin": true,
           "gridcolor": "white",
           "linecolor": "white",
           "ticks": "",
           "title": {
            "standoff": 15
           },
           "zerolinecolor": "white",
           "zerolinewidth": 2
          }
         }
        }
       }
      }
     },
     "metadata": {},
     "output_type": "display_data"
    }
   ],
   "source": [
    "\n"
   ]
  },
  {
   "cell_type": "code",
   "execution_count": 202,
   "metadata": {},
   "outputs": [
    {
     "data": {
      "text/html": [
       "<div>\n",
       "<style scoped>\n",
       "    .dataframe tbody tr th:only-of-type {\n",
       "        vertical-align: middle;\n",
       "    }\n",
       "\n",
       "    .dataframe tbody tr th {\n",
       "        vertical-align: top;\n",
       "    }\n",
       "\n",
       "    .dataframe thead th {\n",
       "        text-align: right;\n",
       "    }\n",
       "</style>\n",
       "<table border=\"1\" class=\"dataframe\">\n",
       "  <thead>\n",
       "    <tr style=\"text-align: right;\">\n",
       "      <th></th>\n",
       "      <th>count</th>\n",
       "      <th>uploader</th>\n",
       "    </tr>\n",
       "  </thead>\n",
       "  <tbody>\n",
       "    <tr>\n",
       "      <th>ysrcp</th>\n",
       "      <td>173</td>\n",
       "      <td>ABN</td>\n",
       "    </tr>\n",
       "    <tr>\n",
       "      <th>ycp</th>\n",
       "      <td>148</td>\n",
       "      <td>ABN</td>\n",
       "    </tr>\n",
       "    <tr>\n",
       "      <th>tdp</th>\n",
       "      <td>139</td>\n",
       "      <td>ABN</td>\n",
       "    </tr>\n",
       "    <tr>\n",
       "      <th>cm jagan</th>\n",
       "      <td>86</td>\n",
       "      <td>ABN</td>\n",
       "    </tr>\n",
       "    <tr>\n",
       "      <th>schemes</th>\n",
       "      <td>123</td>\n",
       "      <td>ABN</td>\n",
       "    </tr>\n",
       "    <tr>\n",
       "      <th>...</th>\n",
       "      <td>...</td>\n",
       "      <td>...</td>\n",
       "    </tr>\n",
       "    <tr>\n",
       "      <th>raghurama</th>\n",
       "      <td>1</td>\n",
       "      <td>TV9</td>\n",
       "    </tr>\n",
       "    <tr>\n",
       "      <th>Gadapa Gadapaku</th>\n",
       "      <td>1</td>\n",
       "      <td>TV9</td>\n",
       "    </tr>\n",
       "    <tr>\n",
       "      <th>gorantla</th>\n",
       "      <td>2</td>\n",
       "      <td>TV9</td>\n",
       "    </tr>\n",
       "    <tr>\n",
       "      <th>panchayat elections</th>\n",
       "      <td>3</td>\n",
       "      <td>TV9</td>\n",
       "    </tr>\n",
       "    <tr>\n",
       "      <th>YSRCP Plenary</th>\n",
       "      <td>0</td>\n",
       "      <td>TV9</td>\n",
       "    </tr>\n",
       "  </tbody>\n",
       "</table>\n",
       "<p>148 rows × 2 columns</p>\n",
       "</div>"
      ],
      "text/plain": [
       "                    count uploader\n",
       "ysrcp                 173      ABN\n",
       "ycp                   148      ABN\n",
       "tdp                   139      ABN\n",
       "cm jagan               86      ABN\n",
       "schemes               123      ABN\n",
       "...                   ...      ...\n",
       "raghurama               1      TV9\n",
       "Gadapa Gadapaku         1      TV9\n",
       "gorantla                2      TV9\n",
       "panchayat elections     3      TV9\n",
       "YSRCP Plenary           0      TV9\n",
       "\n",
       "[148 rows x 2 columns]"
      ]
     },
     "execution_count": 202,
     "metadata": {},
     "output_type": "execute_result"
    }
   ],
   "source": [
    "df_topics"
   ]
  },
  {
   "cell_type": "code",
   "execution_count": null,
   "metadata": {},
   "outputs": [],
   "source": []
  },
  {
   "cell_type": "code",
   "execution_count": null,
   "metadata": {},
   "outputs": [],
   "source": []
  },
  {
   "cell_type": "code",
   "execution_count": 126,
   "metadata": {},
   "outputs": [
    {
     "data": {
      "text/html": [
       "<div>\n",
       "<style scoped>\n",
       "    .dataframe tbody tr th:only-of-type {\n",
       "        vertical-align: middle;\n",
       "    }\n",
       "\n",
       "    .dataframe tbody tr th {\n",
       "        vertical-align: top;\n",
       "    }\n",
       "\n",
       "    .dataframe thead th {\n",
       "        text-align: right;\n",
       "    }\n",
       "</style>\n",
       "<table border=\"1\" class=\"dataframe\">\n",
       "  <thead>\n",
       "    <tr style=\"text-align: right;\">\n",
       "      <th></th>\n",
       "      <th>uploader</th>\n",
       "      <th>duration</th>\n",
       "      <th>view_count</th>\n",
       "      <th>negativity</th>\n",
       "      <th>comment_count</th>\n",
       "    </tr>\n",
       "  </thead>\n",
       "  <tbody>\n",
       "    <tr>\n",
       "      <th>0</th>\n",
       "      <td>ABN</td>\n",
       "      <td>249727.0</td>\n",
       "      <td>7579540.0</td>\n",
       "      <td>272</td>\n",
       "      <td>11191.0</td>\n",
       "    </tr>\n",
       "    <tr>\n",
       "      <th>1</th>\n",
       "      <td>Sakshi</td>\n",
       "      <td>107724.0</td>\n",
       "      <td>7710232.0</td>\n",
       "      <td>130</td>\n",
       "      <td>10603.0</td>\n",
       "    </tr>\n",
       "    <tr>\n",
       "      <th>2</th>\n",
       "      <td>TV5</td>\n",
       "      <td>96155.0</td>\n",
       "      <td>10474783.0</td>\n",
       "      <td>126</td>\n",
       "      <td>8083.0</td>\n",
       "    </tr>\n",
       "    <tr>\n",
       "      <th>3</th>\n",
       "      <td>TV9</td>\n",
       "      <td>139535.0</td>\n",
       "      <td>6034682.0</td>\n",
       "      <td>265</td>\n",
       "      <td>5441.0</td>\n",
       "    </tr>\n",
       "  </tbody>\n",
       "</table>\n",
       "</div>"
      ],
      "text/plain": [
       "  uploader  duration  view_count  negativity  comment_count\n",
       "0      ABN  249727.0   7579540.0         272        11191.0\n",
       "1   Sakshi  107724.0   7710232.0         130        10603.0\n",
       "2      TV5   96155.0  10474783.0         126         8083.0\n",
       "3      TV9  139535.0   6034682.0         265         5441.0"
      ]
     },
     "execution_count": 126,
     "metadata": {},
     "output_type": "execute_result"
    }
   ],
   "source": [
    "df_polar"
   ]
  },
  {
   "cell_type": "code",
   "execution_count": null,
   "metadata": {},
   "outputs": [],
   "source": [
    "df_polar"
   ]
  },
  {
   "cell_type": "code",
   "execution_count": 91,
   "metadata": {},
   "outputs": [
    {
     "data": {
      "text/plain": [
       "' \\nfig = px.line(df_plot, x=\"upload_date\", y=\"view_count\", color=\\'uploader\\', log_y=True,color_discrete_map= {\\'ABN\\': \\'yellow\\',\\'TV5\\': \\'gold\\', \\'Sakshi\\':\\'red\\' , \\'TV9\\':\\'blue\\'})\\nfig.show()\\n'"
      ]
     },
     "execution_count": 91,
     "metadata": {},
     "output_type": "execute_result"
    }
   ],
   "source": [
    "import folium\n",
    "import pandas as pd\n",
    "from folium.plugins import HeatMap\n",
    "import numpy as np\n",
    "import plotly.express as px\n",
    "\n",
    "#df_plot = df_face.groupby(['uploader','upload_date']).agg({'view_count':np.sum}).reset_index()\n",
    "\n",
    "\n",
    "''' \n",
    "fig = px.line(df_plot, x=\"upload_date\", y=\"view_count\", color='uploader', log_y=True,color_discrete_map= {'ABN': 'yellow','TV5': 'gold', 'Sakshi':'red' , 'TV9':'blue'})\n",
    "fig.show()\n",
    "'''\n"
   ]
  },
  {
   "cell_type": "code",
   "execution_count": 113,
   "metadata": {},
   "outputs": [],
   "source": [
    "df_face['upload_date'] = pd.to_datetime(df_face['upload_date']) \n",
    "\n",
    "df_date_grouped = df_face.groupby([pd.Grouper(key='upload_date', freq='3D'),\n",
    "                'uploader' ]).aggregate({'view_count':np.sum, 'duration':np.sum,'negativity':np.sum,'comment_count':np.sum}).reset_index()\n",
    "\n",
    "                "
   ]
  },
  {
   "cell_type": "code",
   "execution_count": 122,
   "metadata": {},
   "outputs": [],
   "source": [
    "df_pie = df_date_grouped.groupby('uploader').aggregate({'view_count':np.sum}).reset_index()"
   ]
  },
  {
   "cell_type": "code",
   "execution_count": 123,
   "metadata": {},
   "outputs": [
    {
     "data": {
      "text/html": [
       "<div>\n",
       "<style scoped>\n",
       "    .dataframe tbody tr th:only-of-type {\n",
       "        vertical-align: middle;\n",
       "    }\n",
       "\n",
       "    .dataframe tbody tr th {\n",
       "        vertical-align: top;\n",
       "    }\n",
       "\n",
       "    .dataframe thead th {\n",
       "        text-align: right;\n",
       "    }\n",
       "</style>\n",
       "<table border=\"1\" class=\"dataframe\">\n",
       "  <thead>\n",
       "    <tr style=\"text-align: right;\">\n",
       "      <th></th>\n",
       "      <th>uploader</th>\n",
       "      <th>view_count</th>\n",
       "    </tr>\n",
       "  </thead>\n",
       "  <tbody>\n",
       "    <tr>\n",
       "      <th>0</th>\n",
       "      <td>ABN</td>\n",
       "      <td>7579540.0</td>\n",
       "    </tr>\n",
       "    <tr>\n",
       "      <th>1</th>\n",
       "      <td>Sakshi</td>\n",
       "      <td>7710232.0</td>\n",
       "    </tr>\n",
       "    <tr>\n",
       "      <th>2</th>\n",
       "      <td>TV5</td>\n",
       "      <td>10474783.0</td>\n",
       "    </tr>\n",
       "    <tr>\n",
       "      <th>3</th>\n",
       "      <td>TV9</td>\n",
       "      <td>6034682.0</td>\n",
       "    </tr>\n",
       "  </tbody>\n",
       "</table>\n",
       "</div>"
      ],
      "text/plain": [
       "  uploader  view_count\n",
       "0      ABN   7579540.0\n",
       "1   Sakshi   7710232.0\n",
       "2      TV5  10474783.0\n",
       "3      TV9   6034682.0"
      ]
     },
     "execution_count": 123,
     "metadata": {},
     "output_type": "execute_result"
    }
   ],
   "source": [
    "df_pie\n",
    "fig = px.pie(df_pie, values='tip', names='day', color='day',\n"
   ]
  },
  {
   "cell_type": "code",
   "execution_count": 115,
   "metadata": {},
   "outputs": [
    {
     "data": {
      "application/vnd.plotly.v1+json": {
       "config": {
        "plotlyServerURL": "https://plot.ly"
       },
       "data": [
        {
         "hovertemplate": "uploader=Sakshi<br>upload_date=%{x}<br>view_count=%{y}<extra></extra>",
         "legendgroup": "Sakshi",
         "line": {
          "color": "#636efa",
          "dash": "solid"
         },
         "marker": {
          "symbol": "circle"
         },
         "mode": "lines",
         "name": "Sakshi",
         "orientation": "v",
         "showlegend": true,
         "type": "scatter",
         "x": [
          "2022-06-07T00:00:00",
          "2022-06-10T00:00:00",
          "2022-06-16T00:00:00",
          "2022-06-19T00:00:00",
          "2022-06-25T00:00:00",
          "2022-06-28T00:00:00",
          "2022-07-01T00:00:00",
          "2022-07-04T00:00:00",
          "2022-07-07T00:00:00",
          "2022-07-10T00:00:00",
          "2022-07-13T00:00:00",
          "2022-07-16T00:00:00",
          "2022-07-19T00:00:00",
          "2022-07-22T00:00:00",
          "2022-07-25T00:00:00",
          "2022-07-28T00:00:00",
          "2022-07-31T00:00:00",
          "2022-08-03T00:00:00",
          "2022-08-09T00:00:00",
          "2022-08-12T00:00:00",
          "2022-08-21T00:00:00",
          "2022-08-24T00:00:00",
          "2022-08-27T00:00:00",
          "2022-09-02T00:00:00",
          "2022-09-05T00:00:00",
          "2022-09-08T00:00:00",
          "2022-09-11T00:00:00",
          "2022-09-14T00:00:00",
          "2022-09-17T00:00:00",
          "2022-09-20T00:00:00",
          "2022-09-29T00:00:00",
          "2022-10-05T00:00:00",
          "2022-10-08T00:00:00",
          "2022-10-11T00:00:00",
          "2022-10-14T00:00:00",
          "2022-10-17T00:00:00",
          "2022-10-20T00:00:00",
          "2022-10-26T00:00:00",
          "2022-10-29T00:00:00",
          "2022-11-01T00:00:00",
          "2022-11-04T00:00:00",
          "2022-11-07T00:00:00",
          "2022-11-10T00:00:00",
          "2022-11-13T00:00:00",
          "2022-11-16T00:00:00",
          "2022-11-19T00:00:00",
          "2022-11-22T00:00:00",
          "2022-11-25T00:00:00",
          "2022-11-28T00:00:00",
          "2022-12-01T00:00:00",
          "2022-12-04T00:00:00",
          "2022-12-10T00:00:00",
          "2022-12-13T00:00:00",
          "2022-12-16T00:00:00",
          "2022-12-19T00:00:00",
          "2022-12-25T00:00:00",
          "2022-12-28T00:00:00",
          "2022-12-31T00:00:00",
          "2023-01-03T00:00:00",
          "2023-01-06T00:00:00",
          "2023-01-09T00:00:00",
          "2023-01-12T00:00:00",
          "2023-01-15T00:00:00",
          "2023-01-18T00:00:00",
          "2023-01-21T00:00:00",
          "2023-01-24T00:00:00",
          "2023-01-27T00:00:00",
          "2023-01-30T00:00:00",
          "2023-02-02T00:00:00",
          "2023-02-05T00:00:00",
          "2023-02-08T00:00:00",
          "2023-02-14T00:00:00",
          "2023-02-17T00:00:00",
          "2023-02-23T00:00:00",
          "2023-02-26T00:00:00",
          "2023-03-07T00:00:00",
          "2023-03-10T00:00:00",
          "2023-03-13T00:00:00",
          "2023-03-16T00:00:00",
          "2023-03-19T00:00:00",
          "2023-03-22T00:00:00",
          "2023-03-25T00:00:00",
          "2023-03-31T00:00:00",
          "2023-04-03T00:00:00",
          "2023-04-06T00:00:00",
          "2023-04-09T00:00:00",
          "2023-04-15T00:00:00",
          "2023-04-18T00:00:00",
          "2023-04-21T00:00:00"
         ],
         "xaxis": "x",
         "y": [
          339713,
          16309,
          50610,
          68244,
          16308,
          92340,
          39360,
          76857,
          1399830,
          113276,
          17564,
          12845,
          108252,
          16279,
          44724,
          86946,
          1352,
          44895,
          481593,
          10255,
          31246,
          18783,
          7406,
          3414,
          23813,
          7032,
          3217,
          171188,
          4091,
          58467,
          3620,
          2274,
          1167,
          27477,
          105647,
          24210,
          121347,
          5877,
          6201,
          117257,
          7877,
          910,
          408746,
          2565,
          152701,
          109595,
          4462,
          11077,
          119826,
          1220,
          47377,
          26570,
          27318,
          85913,
          32827,
          4430,
          6271,
          18808,
          10267,
          51675,
          2102,
          5134,
          8932,
          50215,
          60289,
          87598,
          757713,
          14100,
          404344,
          377845,
          79314,
          141945,
          1002,
          11720,
          52881,
          17102,
          31982,
          4219,
          5623,
          2380,
          50188,
          160669,
          21306,
          56223,
          5411,
          278759,
          34318,
          51532,
          23665
         ],
         "yaxis": "y"
        },
        {
         "hovertemplate": "uploader=TV5<br>upload_date=%{x}<br>view_count=%{y}<extra></extra>",
         "legendgroup": "TV5",
         "line": {
          "color": "#EF553B",
          "dash": "solid"
         },
         "marker": {
          "symbol": "circle"
         },
         "mode": "lines",
         "name": "TV5",
         "orientation": "v",
         "showlegend": true,
         "type": "scatter",
         "x": [
          "2022-08-21T00:00:00",
          "2022-08-24T00:00:00",
          "2022-08-27T00:00:00",
          "2022-08-30T00:00:00",
          "2022-09-02T00:00:00",
          "2022-09-05T00:00:00",
          "2022-09-08T00:00:00",
          "2022-09-11T00:00:00",
          "2022-09-14T00:00:00",
          "2022-09-20T00:00:00",
          "2022-09-23T00:00:00",
          "2022-09-26T00:00:00",
          "2022-09-29T00:00:00",
          "2022-10-02T00:00:00",
          "2022-10-05T00:00:00",
          "2022-10-08T00:00:00",
          "2022-10-11T00:00:00",
          "2022-10-14T00:00:00",
          "2022-10-17T00:00:00",
          "2022-10-20T00:00:00",
          "2022-10-23T00:00:00",
          "2022-10-26T00:00:00",
          "2022-10-29T00:00:00",
          "2022-11-01T00:00:00",
          "2022-11-04T00:00:00",
          "2022-11-07T00:00:00",
          "2022-11-10T00:00:00",
          "2022-11-13T00:00:00",
          "2022-11-16T00:00:00",
          "2022-11-19T00:00:00",
          "2022-11-22T00:00:00",
          "2022-11-25T00:00:00",
          "2022-11-28T00:00:00",
          "2022-12-04T00:00:00",
          "2022-12-07T00:00:00",
          "2022-12-10T00:00:00",
          "2022-12-13T00:00:00",
          "2022-12-16T00:00:00",
          "2022-12-19T00:00:00",
          "2022-12-28T00:00:00",
          "2022-12-31T00:00:00",
          "2023-01-03T00:00:00",
          "2023-01-06T00:00:00",
          "2023-01-09T00:00:00",
          "2023-01-12T00:00:00",
          "2023-01-15T00:00:00",
          "2023-01-18T00:00:00",
          "2023-01-21T00:00:00",
          "2023-01-24T00:00:00",
          "2023-01-27T00:00:00",
          "2023-01-30T00:00:00",
          "2023-02-02T00:00:00",
          "2023-02-05T00:00:00",
          "2023-02-08T00:00:00",
          "2023-02-11T00:00:00",
          "2023-02-14T00:00:00",
          "2023-02-20T00:00:00",
          "2023-02-23T00:00:00",
          "2023-02-26T00:00:00",
          "2023-03-01T00:00:00",
          "2023-03-04T00:00:00",
          "2023-03-10T00:00:00",
          "2023-03-13T00:00:00",
          "2023-03-16T00:00:00",
          "2023-03-19T00:00:00",
          "2023-03-22T00:00:00",
          "2023-03-25T00:00:00",
          "2023-03-28T00:00:00",
          "2023-03-31T00:00:00",
          "2023-04-03T00:00:00",
          "2023-04-06T00:00:00",
          "2023-04-09T00:00:00",
          "2023-04-12T00:00:00",
          "2023-04-15T00:00:00",
          "2023-04-18T00:00:00",
          "2023-04-21T00:00:00"
         ],
         "xaxis": "x",
         "y": [
          2866447,
          130816,
          103529,
          50903,
          10240,
          16928,
          921,
          72874,
          50156,
          64441,
          135944,
          14393,
          190436,
          115289,
          74124,
          6209,
          372824,
          88117,
          150765,
          15053,
          690,
          3391,
          10006,
          145431,
          9910,
          7833,
          1535702,
          616350,
          133423,
          86517,
          67610,
          6507,
          62710,
          222095,
          2188,
          19262,
          65762,
          45699,
          11307,
          216214,
          165340,
          56395,
          4938,
          108497,
          62154,
          51348,
          27905,
          3982,
          32515,
          372996,
          313715,
          95873,
          71633,
          60102,
          83529,
          20111,
          339175,
          25479,
          8848,
          26049,
          15396,
          28503,
          25271,
          86289,
          18566,
          2173,
          297250,
          18041,
          914,
          8147,
          4732,
          2740,
          181462,
          30774,
          20158,
          4767
         ],
         "yaxis": "y"
        },
        {
         "hovertemplate": "uploader=ABN<br>upload_date=%{x}<br>view_count=%{y}<extra></extra>",
         "legendgroup": "ABN",
         "line": {
          "color": "#00cc96",
          "dash": "solid"
         },
         "marker": {
          "symbol": "circle"
         },
         "mode": "lines",
         "name": "ABN",
         "orientation": "v",
         "showlegend": true,
         "type": "scatter",
         "x": [
          "2022-10-11T00:00:00",
          "2022-10-14T00:00:00",
          "2022-10-17T00:00:00",
          "2022-10-20T00:00:00",
          "2022-10-23T00:00:00",
          "2022-10-26T00:00:00",
          "2022-10-29T00:00:00",
          "2022-11-01T00:00:00",
          "2022-11-04T00:00:00",
          "2022-11-07T00:00:00",
          "2022-11-10T00:00:00",
          "2022-11-13T00:00:00",
          "2022-11-16T00:00:00",
          "2022-11-19T00:00:00",
          "2022-11-22T00:00:00",
          "2022-11-25T00:00:00",
          "2022-11-28T00:00:00",
          "2022-12-01T00:00:00",
          "2022-12-04T00:00:00",
          "2022-12-07T00:00:00",
          "2022-12-10T00:00:00",
          "2022-12-13T00:00:00",
          "2022-12-16T00:00:00",
          "2022-12-19T00:00:00",
          "2022-12-22T00:00:00",
          "2022-12-25T00:00:00",
          "2022-12-28T00:00:00",
          "2022-12-31T00:00:00",
          "2023-01-03T00:00:00",
          "2023-01-06T00:00:00",
          "2023-01-09T00:00:00",
          "2023-01-12T00:00:00",
          "2023-01-15T00:00:00",
          "2023-01-18T00:00:00",
          "2023-01-21T00:00:00",
          "2023-01-24T00:00:00",
          "2023-01-27T00:00:00",
          "2023-01-30T00:00:00",
          "2023-02-02T00:00:00",
          "2023-02-05T00:00:00",
          "2023-02-08T00:00:00",
          "2023-02-11T00:00:00",
          "2023-02-14T00:00:00",
          "2023-02-17T00:00:00",
          "2023-02-20T00:00:00",
          "2023-02-23T00:00:00",
          "2023-02-26T00:00:00",
          "2023-03-01T00:00:00",
          "2023-03-04T00:00:00",
          "2023-03-07T00:00:00",
          "2023-03-10T00:00:00",
          "2023-03-13T00:00:00",
          "2023-03-16T00:00:00",
          "2023-03-19T00:00:00",
          "2023-03-22T00:00:00",
          "2023-03-25T00:00:00",
          "2023-03-28T00:00:00",
          "2023-03-31T00:00:00",
          "2023-04-03T00:00:00",
          "2023-04-06T00:00:00",
          "2023-04-09T00:00:00",
          "2023-04-12T00:00:00",
          "2023-04-15T00:00:00",
          "2023-04-18T00:00:00",
          "2023-04-21T00:00:00"
         ],
         "xaxis": "x",
         "y": [
          45423,
          48345,
          125597,
          56085,
          5710,
          673,
          61918,
          59524,
          72501,
          9947,
          142401,
          14265,
          96785,
          7171,
          107212,
          135923,
          69877,
          1770,
          98028,
          39137,
          222957,
          93694,
          91818,
          91477,
          69731,
          233709,
          129265,
          436586,
          139469,
          324450,
          233617,
          79064,
          194883,
          103666,
          5233,
          145569,
          55382,
          253628,
          103718,
          206057,
          408166,
          14843,
          182541,
          163268,
          466124,
          221295,
          17334,
          181913,
          24630,
          27558,
          32420,
          95924,
          161173,
          21293,
          78943,
          447201,
          46681,
          85436,
          120045,
          15323,
          3239,
          21189,
          87702,
          239076,
          3958
         ],
         "yaxis": "y"
        },
        {
         "hovertemplate": "uploader=TV9<br>upload_date=%{x}<br>view_count=%{y}<extra></extra>",
         "legendgroup": "TV9",
         "line": {
          "color": "#ab63fa",
          "dash": "solid"
         },
         "marker": {
          "symbol": "circle"
         },
         "mode": "lines",
         "name": "TV9",
         "orientation": "v",
         "showlegend": true,
         "type": "scatter",
         "x": [
          "2022-11-16T00:00:00",
          "2022-11-19T00:00:00",
          "2022-11-22T00:00:00",
          "2022-11-25T00:00:00",
          "2022-11-28T00:00:00",
          "2022-12-01T00:00:00",
          "2022-12-04T00:00:00",
          "2022-12-07T00:00:00",
          "2022-12-10T00:00:00",
          "2022-12-13T00:00:00",
          "2022-12-16T00:00:00",
          "2022-12-19T00:00:00",
          "2022-12-22T00:00:00",
          "2022-12-25T00:00:00",
          "2022-12-28T00:00:00",
          "2022-12-31T00:00:00",
          "2023-01-03T00:00:00",
          "2023-01-06T00:00:00",
          "2023-01-09T00:00:00",
          "2023-01-12T00:00:00",
          "2023-01-15T00:00:00",
          "2023-01-18T00:00:00",
          "2023-01-21T00:00:00",
          "2023-01-24T00:00:00",
          "2023-01-27T00:00:00",
          "2023-01-30T00:00:00",
          "2023-02-02T00:00:00",
          "2023-02-05T00:00:00",
          "2023-02-08T00:00:00",
          "2023-02-11T00:00:00",
          "2023-02-14T00:00:00",
          "2023-02-17T00:00:00",
          "2023-02-20T00:00:00",
          "2023-02-23T00:00:00",
          "2023-02-26T00:00:00",
          "2023-03-01T00:00:00",
          "2023-03-04T00:00:00",
          "2023-03-07T00:00:00",
          "2023-03-10T00:00:00",
          "2023-03-13T00:00:00",
          "2023-03-16T00:00:00",
          "2023-03-19T00:00:00",
          "2023-03-22T00:00:00",
          "2023-03-25T00:00:00",
          "2023-03-28T00:00:00",
          "2023-03-31T00:00:00",
          "2023-04-03T00:00:00",
          "2023-04-06T00:00:00",
          "2023-04-09T00:00:00",
          "2023-04-12T00:00:00",
          "2023-04-15T00:00:00",
          "2023-04-18T00:00:00",
          "2023-04-21T00:00:00"
         ],
         "xaxis": "x",
         "y": [
          30821,
          21109,
          108176,
          3907,
          120214,
          215325,
          3551,
          76309,
          70808,
          25604,
          173482,
          663857,
          65240,
          86377,
          157171,
          72449,
          120025,
          90235,
          105842,
          61961,
          41225,
          825945,
          29955,
          67120,
          165301,
          158736,
          180764,
          211304,
          138774,
          382938,
          186700,
          43687,
          57484,
          229066,
          24012,
          87066,
          25568,
          85927,
          49777,
          25889,
          125520,
          50946,
          12535,
          18330,
          11914,
          56152,
          4165,
          25066,
          17472,
          181510,
          19934,
          213281,
          8156
         ],
         "yaxis": "y"
        }
       ],
       "layout": {
        "legend": {
         "title": {
          "text": "uploader"
         },
         "tracegroupgap": 0
        },
        "margin": {
         "t": 60
        },
        "template": {
         "data": {
          "bar": [
           {
            "error_x": {
             "color": "#2a3f5f"
            },
            "error_y": {
             "color": "#2a3f5f"
            },
            "marker": {
             "line": {
              "color": "#E5ECF6",
              "width": 0.5
             },
             "pattern": {
              "fillmode": "overlay",
              "size": 10,
              "solidity": 0.2
             }
            },
            "type": "bar"
           }
          ],
          "barpolar": [
           {
            "marker": {
             "line": {
              "color": "#E5ECF6",
              "width": 0.5
             },
             "pattern": {
              "fillmode": "overlay",
              "size": 10,
              "solidity": 0.2
             }
            },
            "type": "barpolar"
           }
          ],
          "carpet": [
           {
            "aaxis": {
             "endlinecolor": "#2a3f5f",
             "gridcolor": "white",
             "linecolor": "white",
             "minorgridcolor": "white",
             "startlinecolor": "#2a3f5f"
            },
            "baxis": {
             "endlinecolor": "#2a3f5f",
             "gridcolor": "white",
             "linecolor": "white",
             "minorgridcolor": "white",
             "startlinecolor": "#2a3f5f"
            },
            "type": "carpet"
           }
          ],
          "choropleth": [
           {
            "colorbar": {
             "outlinewidth": 0,
             "ticks": ""
            },
            "type": "choropleth"
           }
          ],
          "contour": [
           {
            "colorbar": {
             "outlinewidth": 0,
             "ticks": ""
            },
            "colorscale": [
             [
              0,
              "#0d0887"
             ],
             [
              0.1111111111111111,
              "#46039f"
             ],
             [
              0.2222222222222222,
              "#7201a8"
             ],
             [
              0.3333333333333333,
              "#9c179e"
             ],
             [
              0.4444444444444444,
              "#bd3786"
             ],
             [
              0.5555555555555556,
              "#d8576b"
             ],
             [
              0.6666666666666666,
              "#ed7953"
             ],
             [
              0.7777777777777778,
              "#fb9f3a"
             ],
             [
              0.8888888888888888,
              "#fdca26"
             ],
             [
              1,
              "#f0f921"
             ]
            ],
            "type": "contour"
           }
          ],
          "contourcarpet": [
           {
            "colorbar": {
             "outlinewidth": 0,
             "ticks": ""
            },
            "type": "contourcarpet"
           }
          ],
          "heatmap": [
           {
            "colorbar": {
             "outlinewidth": 0,
             "ticks": ""
            },
            "colorscale": [
             [
              0,
              "#0d0887"
             ],
             [
              0.1111111111111111,
              "#46039f"
             ],
             [
              0.2222222222222222,
              "#7201a8"
             ],
             [
              0.3333333333333333,
              "#9c179e"
             ],
             [
              0.4444444444444444,
              "#bd3786"
             ],
             [
              0.5555555555555556,
              "#d8576b"
             ],
             [
              0.6666666666666666,
              "#ed7953"
             ],
             [
              0.7777777777777778,
              "#fb9f3a"
             ],
             [
              0.8888888888888888,
              "#fdca26"
             ],
             [
              1,
              "#f0f921"
             ]
            ],
            "type": "heatmap"
           }
          ],
          "heatmapgl": [
           {
            "colorbar": {
             "outlinewidth": 0,
             "ticks": ""
            },
            "colorscale": [
             [
              0,
              "#0d0887"
             ],
             [
              0.1111111111111111,
              "#46039f"
             ],
             [
              0.2222222222222222,
              "#7201a8"
             ],
             [
              0.3333333333333333,
              "#9c179e"
             ],
             [
              0.4444444444444444,
              "#bd3786"
             ],
             [
              0.5555555555555556,
              "#d8576b"
             ],
             [
              0.6666666666666666,
              "#ed7953"
             ],
             [
              0.7777777777777778,
              "#fb9f3a"
             ],
             [
              0.8888888888888888,
              "#fdca26"
             ],
             [
              1,
              "#f0f921"
             ]
            ],
            "type": "heatmapgl"
           }
          ],
          "histogram": [
           {
            "marker": {
             "pattern": {
              "fillmode": "overlay",
              "size": 10,
              "solidity": 0.2
             }
            },
            "type": "histogram"
           }
          ],
          "histogram2d": [
           {
            "colorbar": {
             "outlinewidth": 0,
             "ticks": ""
            },
            "colorscale": [
             [
              0,
              "#0d0887"
             ],
             [
              0.1111111111111111,
              "#46039f"
             ],
             [
              0.2222222222222222,
              "#7201a8"
             ],
             [
              0.3333333333333333,
              "#9c179e"
             ],
             [
              0.4444444444444444,
              "#bd3786"
             ],
             [
              0.5555555555555556,
              "#d8576b"
             ],
             [
              0.6666666666666666,
              "#ed7953"
             ],
             [
              0.7777777777777778,
              "#fb9f3a"
             ],
             [
              0.8888888888888888,
              "#fdca26"
             ],
             [
              1,
              "#f0f921"
             ]
            ],
            "type": "histogram2d"
           }
          ],
          "histogram2dcontour": [
           {
            "colorbar": {
             "outlinewidth": 0,
             "ticks": ""
            },
            "colorscale": [
             [
              0,
              "#0d0887"
             ],
             [
              0.1111111111111111,
              "#46039f"
             ],
             [
              0.2222222222222222,
              "#7201a8"
             ],
             [
              0.3333333333333333,
              "#9c179e"
             ],
             [
              0.4444444444444444,
              "#bd3786"
             ],
             [
              0.5555555555555556,
              "#d8576b"
             ],
             [
              0.6666666666666666,
              "#ed7953"
             ],
             [
              0.7777777777777778,
              "#fb9f3a"
             ],
             [
              0.8888888888888888,
              "#fdca26"
             ],
             [
              1,
              "#f0f921"
             ]
            ],
            "type": "histogram2dcontour"
           }
          ],
          "mesh3d": [
           {
            "colorbar": {
             "outlinewidth": 0,
             "ticks": ""
            },
            "type": "mesh3d"
           }
          ],
          "parcoords": [
           {
            "line": {
             "colorbar": {
              "outlinewidth": 0,
              "ticks": ""
             }
            },
            "type": "parcoords"
           }
          ],
          "pie": [
           {
            "automargin": true,
            "type": "pie"
           }
          ],
          "scatter": [
           {
            "fillpattern": {
             "fillmode": "overlay",
             "size": 10,
             "solidity": 0.2
            },
            "type": "scatter"
           }
          ],
          "scatter3d": [
           {
            "line": {
             "colorbar": {
              "outlinewidth": 0,
              "ticks": ""
             }
            },
            "marker": {
             "colorbar": {
              "outlinewidth": 0,
              "ticks": ""
             }
            },
            "type": "scatter3d"
           }
          ],
          "scattercarpet": [
           {
            "marker": {
             "colorbar": {
              "outlinewidth": 0,
              "ticks": ""
             }
            },
            "type": "scattercarpet"
           }
          ],
          "scattergeo": [
           {
            "marker": {
             "colorbar": {
              "outlinewidth": 0,
              "ticks": ""
             }
            },
            "type": "scattergeo"
           }
          ],
          "scattergl": [
           {
            "marker": {
             "colorbar": {
              "outlinewidth": 0,
              "ticks": ""
             }
            },
            "type": "scattergl"
           }
          ],
          "scattermapbox": [
           {
            "marker": {
             "colorbar": {
              "outlinewidth": 0,
              "ticks": ""
             }
            },
            "type": "scattermapbox"
           }
          ],
          "scatterpolar": [
           {
            "marker": {
             "colorbar": {
              "outlinewidth": 0,
              "ticks": ""
             }
            },
            "type": "scatterpolar"
           }
          ],
          "scatterpolargl": [
           {
            "marker": {
             "colorbar": {
              "outlinewidth": 0,
              "ticks": ""
             }
            },
            "type": "scatterpolargl"
           }
          ],
          "scatterternary": [
           {
            "marker": {
             "colorbar": {
              "outlinewidth": 0,
              "ticks": ""
             }
            },
            "type": "scatterternary"
           }
          ],
          "surface": [
           {
            "colorbar": {
             "outlinewidth": 0,
             "ticks": ""
            },
            "colorscale": [
             [
              0,
              "#0d0887"
             ],
             [
              0.1111111111111111,
              "#46039f"
             ],
             [
              0.2222222222222222,
              "#7201a8"
             ],
             [
              0.3333333333333333,
              "#9c179e"
             ],
             [
              0.4444444444444444,
              "#bd3786"
             ],
             [
              0.5555555555555556,
              "#d8576b"
             ],
             [
              0.6666666666666666,
              "#ed7953"
             ],
             [
              0.7777777777777778,
              "#fb9f3a"
             ],
             [
              0.8888888888888888,
              "#fdca26"
             ],
             [
              1,
              "#f0f921"
             ]
            ],
            "type": "surface"
           }
          ],
          "table": [
           {
            "cells": {
             "fill": {
              "color": "#EBF0F8"
             },
             "line": {
              "color": "white"
             }
            },
            "header": {
             "fill": {
              "color": "#C8D4E3"
             },
             "line": {
              "color": "white"
             }
            },
            "type": "table"
           }
          ]
         },
         "layout": {
          "annotationdefaults": {
           "arrowcolor": "#2a3f5f",
           "arrowhead": 0,
           "arrowwidth": 1
          },
          "autotypenumbers": "strict",
          "coloraxis": {
           "colorbar": {
            "outlinewidth": 0,
            "ticks": ""
           }
          },
          "colorscale": {
           "diverging": [
            [
             0,
             "#8e0152"
            ],
            [
             0.1,
             "#c51b7d"
            ],
            [
             0.2,
             "#de77ae"
            ],
            [
             0.3,
             "#f1b6da"
            ],
            [
             0.4,
             "#fde0ef"
            ],
            [
             0.5,
             "#f7f7f7"
            ],
            [
             0.6,
             "#e6f5d0"
            ],
            [
             0.7,
             "#b8e186"
            ],
            [
             0.8,
             "#7fbc41"
            ],
            [
             0.9,
             "#4d9221"
            ],
            [
             1,
             "#276419"
            ]
           ],
           "sequential": [
            [
             0,
             "#0d0887"
            ],
            [
             0.1111111111111111,
             "#46039f"
            ],
            [
             0.2222222222222222,
             "#7201a8"
            ],
            [
             0.3333333333333333,
             "#9c179e"
            ],
            [
             0.4444444444444444,
             "#bd3786"
            ],
            [
             0.5555555555555556,
             "#d8576b"
            ],
            [
             0.6666666666666666,
             "#ed7953"
            ],
            [
             0.7777777777777778,
             "#fb9f3a"
            ],
            [
             0.8888888888888888,
             "#fdca26"
            ],
            [
             1,
             "#f0f921"
            ]
           ],
           "sequentialminus": [
            [
             0,
             "#0d0887"
            ],
            [
             0.1111111111111111,
             "#46039f"
            ],
            [
             0.2222222222222222,
             "#7201a8"
            ],
            [
             0.3333333333333333,
             "#9c179e"
            ],
            [
             0.4444444444444444,
             "#bd3786"
            ],
            [
             0.5555555555555556,
             "#d8576b"
            ],
            [
             0.6666666666666666,
             "#ed7953"
            ],
            [
             0.7777777777777778,
             "#fb9f3a"
            ],
            [
             0.8888888888888888,
             "#fdca26"
            ],
            [
             1,
             "#f0f921"
            ]
           ]
          },
          "colorway": [
           "#636efa",
           "#EF553B",
           "#00cc96",
           "#ab63fa",
           "#FFA15A",
           "#19d3f3",
           "#FF6692",
           "#B6E880",
           "#FF97FF",
           "#FECB52"
          ],
          "font": {
           "color": "#2a3f5f"
          },
          "geo": {
           "bgcolor": "white",
           "lakecolor": "white",
           "landcolor": "#E5ECF6",
           "showlakes": true,
           "showland": true,
           "subunitcolor": "white"
          },
          "hoverlabel": {
           "align": "left"
          },
          "hovermode": "closest",
          "mapbox": {
           "style": "light"
          },
          "paper_bgcolor": "white",
          "plot_bgcolor": "#E5ECF6",
          "polar": {
           "angularaxis": {
            "gridcolor": "white",
            "linecolor": "white",
            "ticks": ""
           },
           "bgcolor": "#E5ECF6",
           "radialaxis": {
            "gridcolor": "white",
            "linecolor": "white",
            "ticks": ""
           }
          },
          "scene": {
           "xaxis": {
            "backgroundcolor": "#E5ECF6",
            "gridcolor": "white",
            "gridwidth": 2,
            "linecolor": "white",
            "showbackground": true,
            "ticks": "",
            "zerolinecolor": "white"
           },
           "yaxis": {
            "backgroundcolor": "#E5ECF6",
            "gridcolor": "white",
            "gridwidth": 2,
            "linecolor": "white",
            "showbackground": true,
            "ticks": "",
            "zerolinecolor": "white"
           },
           "zaxis": {
            "backgroundcolor": "#E5ECF6",
            "gridcolor": "white",
            "gridwidth": 2,
            "linecolor": "white",
            "showbackground": true,
            "ticks": "",
            "zerolinecolor": "white"
           }
          },
          "shapedefaults": {
           "line": {
            "color": "#2a3f5f"
           }
          },
          "ternary": {
           "aaxis": {
            "gridcolor": "white",
            "linecolor": "white",
            "ticks": ""
           },
           "baxis": {
            "gridcolor": "white",
            "linecolor": "white",
            "ticks": ""
           },
           "bgcolor": "#E5ECF6",
           "caxis": {
            "gridcolor": "white",
            "linecolor": "white",
            "ticks": ""
           }
          },
          "title": {
           "x": 0.05
          },
          "xaxis": {
           "automargin": true,
           "gridcolor": "white",
           "linecolor": "white",
           "ticks": "",
           "title": {
            "standoff": 15
           },
           "zerolinecolor": "white",
           "zerolinewidth": 2
          },
          "yaxis": {
           "automargin": true,
           "gridcolor": "white",
           "linecolor": "white",
           "ticks": "",
           "title": {
            "standoff": 15
           },
           "zerolinecolor": "white",
           "zerolinewidth": 2
          }
         }
        },
        "xaxis": {
         "anchor": "y",
         "domain": [
          0,
          1
         ],
         "title": {
          "text": "upload_date"
         }
        },
        "yaxis": {
         "anchor": "x",
         "domain": [
          0,
          1
         ],
         "title": {
          "text": "view_count"
         },
         "type": "log"
        }
       }
      }
     },
     "metadata": {},
     "output_type": "display_data"
    }
   ],
   "source": [
    "import folium\n",
    "import pandas as pd\n",
    "from folium.plugins import HeatMap\n",
    "import numpy as np\n",
    "import plotly.express as px\n",
    "\n",
    "fig = px.line(df_date_grouped, x=\"upload_date\", y=\"view_count\", color='uploader', log_y=True)\n",
    "fig.show()"
   ]
  },
  {
   "cell_type": "code",
   "execution_count": 118,
   "metadata": {},
   "outputs": [
    {
     "data": {
      "application/vnd.plotly.v1+json": {
       "config": {
        "plotlyServerURL": "https://plot.ly"
       },
       "data": [
        {
         "alignmentgroup": "True",
         "hovertemplate": "uploader=Sakshi<br>upload_date=%{x}<br>view_count=%{y}<extra></extra>",
         "legendgroup": "Sakshi",
         "marker": {
          "color": "red",
          "pattern": {
           "shape": ""
          }
         },
         "name": "Sakshi",
         "offsetgroup": "Sakshi",
         "opacity": 0.7,
         "orientation": "v",
         "showlegend": true,
         "textposition": "auto",
         "texttemplate": "%{y:.2s}",
         "type": "bar",
         "x": [
          "2022-06-07T00:00:00",
          "2022-06-10T00:00:00",
          "2022-06-16T00:00:00",
          "2022-06-19T00:00:00",
          "2022-06-25T00:00:00",
          "2022-06-28T00:00:00",
          "2022-07-01T00:00:00",
          "2022-07-04T00:00:00",
          "2022-07-07T00:00:00",
          "2022-07-10T00:00:00",
          "2022-07-13T00:00:00",
          "2022-07-16T00:00:00",
          "2022-07-19T00:00:00",
          "2022-07-22T00:00:00",
          "2022-07-25T00:00:00",
          "2022-07-28T00:00:00",
          "2022-07-31T00:00:00",
          "2022-08-03T00:00:00",
          "2022-08-09T00:00:00",
          "2022-08-12T00:00:00",
          "2022-08-21T00:00:00",
          "2022-08-24T00:00:00",
          "2022-08-27T00:00:00",
          "2022-09-02T00:00:00",
          "2022-09-05T00:00:00",
          "2022-09-08T00:00:00",
          "2022-09-11T00:00:00",
          "2022-09-14T00:00:00",
          "2022-09-17T00:00:00",
          "2022-09-20T00:00:00",
          "2022-09-29T00:00:00",
          "2022-10-05T00:00:00",
          "2022-10-08T00:00:00",
          "2022-10-11T00:00:00",
          "2022-10-14T00:00:00",
          "2022-10-17T00:00:00",
          "2022-10-20T00:00:00",
          "2022-10-26T00:00:00",
          "2022-10-29T00:00:00",
          "2022-11-01T00:00:00",
          "2022-11-04T00:00:00",
          "2022-11-07T00:00:00",
          "2022-11-10T00:00:00",
          "2022-11-13T00:00:00",
          "2022-11-16T00:00:00",
          "2022-11-19T00:00:00",
          "2022-11-22T00:00:00",
          "2022-11-25T00:00:00",
          "2022-11-28T00:00:00",
          "2022-12-01T00:00:00",
          "2022-12-04T00:00:00",
          "2022-12-10T00:00:00",
          "2022-12-13T00:00:00",
          "2022-12-16T00:00:00",
          "2022-12-19T00:00:00",
          "2022-12-25T00:00:00",
          "2022-12-28T00:00:00",
          "2022-12-31T00:00:00",
          "2023-01-03T00:00:00",
          "2023-01-06T00:00:00",
          "2023-01-09T00:00:00",
          "2023-01-12T00:00:00",
          "2023-01-15T00:00:00",
          "2023-01-18T00:00:00",
          "2023-01-21T00:00:00",
          "2023-01-24T00:00:00",
          "2023-01-27T00:00:00",
          "2023-01-30T00:00:00",
          "2023-02-02T00:00:00",
          "2023-02-05T00:00:00",
          "2023-02-08T00:00:00",
          "2023-02-14T00:00:00",
          "2023-02-17T00:00:00",
          "2023-02-23T00:00:00",
          "2023-02-26T00:00:00",
          "2023-03-07T00:00:00",
          "2023-03-10T00:00:00",
          "2023-03-13T00:00:00",
          "2023-03-16T00:00:00",
          "2023-03-19T00:00:00",
          "2023-03-22T00:00:00",
          "2023-03-25T00:00:00",
          "2023-03-31T00:00:00",
          "2023-04-03T00:00:00",
          "2023-04-06T00:00:00",
          "2023-04-09T00:00:00",
          "2023-04-15T00:00:00",
          "2023-04-18T00:00:00",
          "2023-04-21T00:00:00"
         ],
         "xaxis": "x",
         "y": [
          339713,
          16309,
          50610,
          68244,
          16308,
          92340,
          39360,
          76857,
          1399830,
          113276,
          17564,
          12845,
          108252,
          16279,
          44724,
          86946,
          1352,
          44895,
          481593,
          10255,
          31246,
          18783,
          7406,
          3414,
          23813,
          7032,
          3217,
          171188,
          4091,
          58467,
          3620,
          2274,
          1167,
          27477,
          105647,
          24210,
          121347,
          5877,
          6201,
          117257,
          7877,
          910,
          408746,
          2565,
          152701,
          109595,
          4462,
          11077,
          119826,
          1220,
          47377,
          26570,
          27318,
          85913,
          32827,
          4430,
          6271,
          18808,
          10267,
          51675,
          2102,
          5134,
          8932,
          50215,
          60289,
          87598,
          757713,
          14100,
          404344,
          377845,
          79314,
          141945,
          1002,
          11720,
          52881,
          17102,
          31982,
          4219,
          5623,
          2380,
          50188,
          160669,
          21306,
          56223,
          5411,
          278759,
          34318,
          51532,
          23665
         ],
         "yaxis": "y"
        },
        {
         "alignmentgroup": "True",
         "hovertemplate": "uploader=TV5<br>upload_date=%{x}<br>view_count=%{y}<extra></extra>",
         "legendgroup": "TV5",
         "marker": {
          "color": "gold",
          "pattern": {
           "shape": ""
          }
         },
         "name": "TV5",
         "offsetgroup": "TV5",
         "opacity": 0.7,
         "orientation": "v",
         "showlegend": true,
         "textposition": "auto",
         "texttemplate": "%{y:.2s}",
         "type": "bar",
         "x": [
          "2022-08-21T00:00:00",
          "2022-08-24T00:00:00",
          "2022-08-27T00:00:00",
          "2022-08-30T00:00:00",
          "2022-09-02T00:00:00",
          "2022-09-05T00:00:00",
          "2022-09-08T00:00:00",
          "2022-09-11T00:00:00",
          "2022-09-14T00:00:00",
          "2022-09-20T00:00:00",
          "2022-09-23T00:00:00",
          "2022-09-26T00:00:00",
          "2022-09-29T00:00:00",
          "2022-10-02T00:00:00",
          "2022-10-05T00:00:00",
          "2022-10-08T00:00:00",
          "2022-10-11T00:00:00",
          "2022-10-14T00:00:00",
          "2022-10-17T00:00:00",
          "2022-10-20T00:00:00",
          "2022-10-23T00:00:00",
          "2022-10-26T00:00:00",
          "2022-10-29T00:00:00",
          "2022-11-01T00:00:00",
          "2022-11-04T00:00:00",
          "2022-11-07T00:00:00",
          "2022-11-10T00:00:00",
          "2022-11-13T00:00:00",
          "2022-11-16T00:00:00",
          "2022-11-19T00:00:00",
          "2022-11-22T00:00:00",
          "2022-11-25T00:00:00",
          "2022-11-28T00:00:00",
          "2022-12-04T00:00:00",
          "2022-12-07T00:00:00",
          "2022-12-10T00:00:00",
          "2022-12-13T00:00:00",
          "2022-12-16T00:00:00",
          "2022-12-19T00:00:00",
          "2022-12-28T00:00:00",
          "2022-12-31T00:00:00",
          "2023-01-03T00:00:00",
          "2023-01-06T00:00:00",
          "2023-01-09T00:00:00",
          "2023-01-12T00:00:00",
          "2023-01-15T00:00:00",
          "2023-01-18T00:00:00",
          "2023-01-21T00:00:00",
          "2023-01-24T00:00:00",
          "2023-01-27T00:00:00",
          "2023-01-30T00:00:00",
          "2023-02-02T00:00:00",
          "2023-02-05T00:00:00",
          "2023-02-08T00:00:00",
          "2023-02-11T00:00:00",
          "2023-02-14T00:00:00",
          "2023-02-20T00:00:00",
          "2023-02-23T00:00:00",
          "2023-02-26T00:00:00",
          "2023-03-01T00:00:00",
          "2023-03-04T00:00:00",
          "2023-03-10T00:00:00",
          "2023-03-13T00:00:00",
          "2023-03-16T00:00:00",
          "2023-03-19T00:00:00",
          "2023-03-22T00:00:00",
          "2023-03-25T00:00:00",
          "2023-03-28T00:00:00",
          "2023-03-31T00:00:00",
          "2023-04-03T00:00:00",
          "2023-04-06T00:00:00",
          "2023-04-09T00:00:00",
          "2023-04-12T00:00:00",
          "2023-04-15T00:00:00",
          "2023-04-18T00:00:00",
          "2023-04-21T00:00:00"
         ],
         "xaxis": "x",
         "y": [
          2866447,
          130816,
          103529,
          50903,
          10240,
          16928,
          921,
          72874,
          50156,
          64441,
          135944,
          14393,
          190436,
          115289,
          74124,
          6209,
          372824,
          88117,
          150765,
          15053,
          690,
          3391,
          10006,
          145431,
          9910,
          7833,
          1535702,
          616350,
          133423,
          86517,
          67610,
          6507,
          62710,
          222095,
          2188,
          19262,
          65762,
          45699,
          11307,
          216214,
          165340,
          56395,
          4938,
          108497,
          62154,
          51348,
          27905,
          3982,
          32515,
          372996,
          313715,
          95873,
          71633,
          60102,
          83529,
          20111,
          339175,
          25479,
          8848,
          26049,
          15396,
          28503,
          25271,
          86289,
          18566,
          2173,
          297250,
          18041,
          914,
          8147,
          4732,
          2740,
          181462,
          30774,
          20158,
          4767
         ],
         "yaxis": "y"
        },
        {
         "alignmentgroup": "True",
         "hovertemplate": "uploader=ABN<br>upload_date=%{x}<br>view_count=%{y}<extra></extra>",
         "legendgroup": "ABN",
         "marker": {
          "color": "yellow",
          "pattern": {
           "shape": ""
          }
         },
         "name": "ABN",
         "offsetgroup": "ABN",
         "opacity": 0.7,
         "orientation": "v",
         "showlegend": true,
         "textposition": "auto",
         "texttemplate": "%{y:.2s}",
         "type": "bar",
         "x": [
          "2022-10-11T00:00:00",
          "2022-10-14T00:00:00",
          "2022-10-17T00:00:00",
          "2022-10-20T00:00:00",
          "2022-10-23T00:00:00",
          "2022-10-26T00:00:00",
          "2022-10-29T00:00:00",
          "2022-11-01T00:00:00",
          "2022-11-04T00:00:00",
          "2022-11-07T00:00:00",
          "2022-11-10T00:00:00",
          "2022-11-13T00:00:00",
          "2022-11-16T00:00:00",
          "2022-11-19T00:00:00",
          "2022-11-22T00:00:00",
          "2022-11-25T00:00:00",
          "2022-11-28T00:00:00",
          "2022-12-01T00:00:00",
          "2022-12-04T00:00:00",
          "2022-12-07T00:00:00",
          "2022-12-10T00:00:00",
          "2022-12-13T00:00:00",
          "2022-12-16T00:00:00",
          "2022-12-19T00:00:00",
          "2022-12-22T00:00:00",
          "2022-12-25T00:00:00",
          "2022-12-28T00:00:00",
          "2022-12-31T00:00:00",
          "2023-01-03T00:00:00",
          "2023-01-06T00:00:00",
          "2023-01-09T00:00:00",
          "2023-01-12T00:00:00",
          "2023-01-15T00:00:00",
          "2023-01-18T00:00:00",
          "2023-01-21T00:00:00",
          "2023-01-24T00:00:00",
          "2023-01-27T00:00:00",
          "2023-01-30T00:00:00",
          "2023-02-02T00:00:00",
          "2023-02-05T00:00:00",
          "2023-02-08T00:00:00",
          "2023-02-11T00:00:00",
          "2023-02-14T00:00:00",
          "2023-02-17T00:00:00",
          "2023-02-20T00:00:00",
          "2023-02-23T00:00:00",
          "2023-02-26T00:00:00",
          "2023-03-01T00:00:00",
          "2023-03-04T00:00:00",
          "2023-03-07T00:00:00",
          "2023-03-10T00:00:00",
          "2023-03-13T00:00:00",
          "2023-03-16T00:00:00",
          "2023-03-19T00:00:00",
          "2023-03-22T00:00:00",
          "2023-03-25T00:00:00",
          "2023-03-28T00:00:00",
          "2023-03-31T00:00:00",
          "2023-04-03T00:00:00",
          "2023-04-06T00:00:00",
          "2023-04-09T00:00:00",
          "2023-04-12T00:00:00",
          "2023-04-15T00:00:00",
          "2023-04-18T00:00:00",
          "2023-04-21T00:00:00"
         ],
         "xaxis": "x",
         "y": [
          45423,
          48345,
          125597,
          56085,
          5710,
          673,
          61918,
          59524,
          72501,
          9947,
          142401,
          14265,
          96785,
          7171,
          107212,
          135923,
          69877,
          1770,
          98028,
          39137,
          222957,
          93694,
          91818,
          91477,
          69731,
          233709,
          129265,
          436586,
          139469,
          324450,
          233617,
          79064,
          194883,
          103666,
          5233,
          145569,
          55382,
          253628,
          103718,
          206057,
          408166,
          14843,
          182541,
          163268,
          466124,
          221295,
          17334,
          181913,
          24630,
          27558,
          32420,
          95924,
          161173,
          21293,
          78943,
          447201,
          46681,
          85436,
          120045,
          15323,
          3239,
          21189,
          87702,
          239076,
          3958
         ],
         "yaxis": "y"
        },
        {
         "alignmentgroup": "True",
         "hovertemplate": "uploader=TV9<br>upload_date=%{x}<br>view_count=%{y}<extra></extra>",
         "legendgroup": "TV9",
         "marker": {
          "color": "blue",
          "pattern": {
           "shape": ""
          }
         },
         "name": "TV9",
         "offsetgroup": "TV9",
         "opacity": 0.7,
         "orientation": "v",
         "showlegend": true,
         "textposition": "auto",
         "texttemplate": "%{y:.2s}",
         "type": "bar",
         "x": [
          "2022-11-16T00:00:00",
          "2022-11-19T00:00:00",
          "2022-11-22T00:00:00",
          "2022-11-25T00:00:00",
          "2022-11-28T00:00:00",
          "2022-12-01T00:00:00",
          "2022-12-04T00:00:00",
          "2022-12-07T00:00:00",
          "2022-12-10T00:00:00",
          "2022-12-13T00:00:00",
          "2022-12-16T00:00:00",
          "2022-12-19T00:00:00",
          "2022-12-22T00:00:00",
          "2022-12-25T00:00:00",
          "2022-12-28T00:00:00",
          "2022-12-31T00:00:00",
          "2023-01-03T00:00:00",
          "2023-01-06T00:00:00",
          "2023-01-09T00:00:00",
          "2023-01-12T00:00:00",
          "2023-01-15T00:00:00",
          "2023-01-18T00:00:00",
          "2023-01-21T00:00:00",
          "2023-01-24T00:00:00",
          "2023-01-27T00:00:00",
          "2023-01-30T00:00:00",
          "2023-02-02T00:00:00",
          "2023-02-05T00:00:00",
          "2023-02-08T00:00:00",
          "2023-02-11T00:00:00",
          "2023-02-14T00:00:00",
          "2023-02-17T00:00:00",
          "2023-02-20T00:00:00",
          "2023-02-23T00:00:00",
          "2023-02-26T00:00:00",
          "2023-03-01T00:00:00",
          "2023-03-04T00:00:00",
          "2023-03-07T00:00:00",
          "2023-03-10T00:00:00",
          "2023-03-13T00:00:00",
          "2023-03-16T00:00:00",
          "2023-03-19T00:00:00",
          "2023-03-22T00:00:00",
          "2023-03-25T00:00:00",
          "2023-03-28T00:00:00",
          "2023-03-31T00:00:00",
          "2023-04-03T00:00:00",
          "2023-04-06T00:00:00",
          "2023-04-09T00:00:00",
          "2023-04-12T00:00:00",
          "2023-04-15T00:00:00",
          "2023-04-18T00:00:00",
          "2023-04-21T00:00:00"
         ],
         "xaxis": "x",
         "y": [
          30821,
          21109,
          108176,
          3907,
          120214,
          215325,
          3551,
          76309,
          70808,
          25604,
          173482,
          663857,
          65240,
          86377,
          157171,
          72449,
          120025,
          90235,
          105842,
          61961,
          41225,
          825945,
          29955,
          67120,
          165301,
          158736,
          180764,
          211304,
          138774,
          382938,
          186700,
          43687,
          57484,
          229066,
          24012,
          87066,
          25568,
          85927,
          49777,
          25889,
          125520,
          50946,
          12535,
          18330,
          11914,
          56152,
          4165,
          25066,
          17472,
          181510,
          19934,
          213281,
          8156
         ],
         "yaxis": "y"
        }
       ],
       "layout": {
        "barmode": "relative",
        "legend": {
         "title": {
          "text": "uploader"
         },
         "tracegroupgap": 0
        },
        "margin": {
         "t": 60
        },
        "template": {
         "data": {
          "bar": [
           {
            "error_x": {
             "color": "#2a3f5f"
            },
            "error_y": {
             "color": "#2a3f5f"
            },
            "marker": {
             "line": {
              "color": "#E5ECF6",
              "width": 0.5
             },
             "pattern": {
              "fillmode": "overlay",
              "size": 10,
              "solidity": 0.2
             }
            },
            "type": "bar"
           }
          ],
          "barpolar": [
           {
            "marker": {
             "line": {
              "color": "#E5ECF6",
              "width": 0.5
             },
             "pattern": {
              "fillmode": "overlay",
              "size": 10,
              "solidity": 0.2
             }
            },
            "type": "barpolar"
           }
          ],
          "carpet": [
           {
            "aaxis": {
             "endlinecolor": "#2a3f5f",
             "gridcolor": "white",
             "linecolor": "white",
             "minorgridcolor": "white",
             "startlinecolor": "#2a3f5f"
            },
            "baxis": {
             "endlinecolor": "#2a3f5f",
             "gridcolor": "white",
             "linecolor": "white",
             "minorgridcolor": "white",
             "startlinecolor": "#2a3f5f"
            },
            "type": "carpet"
           }
          ],
          "choropleth": [
           {
            "colorbar": {
             "outlinewidth": 0,
             "ticks": ""
            },
            "type": "choropleth"
           }
          ],
          "contour": [
           {
            "colorbar": {
             "outlinewidth": 0,
             "ticks": ""
            },
            "colorscale": [
             [
              0,
              "#0d0887"
             ],
             [
              0.1111111111111111,
              "#46039f"
             ],
             [
              0.2222222222222222,
              "#7201a8"
             ],
             [
              0.3333333333333333,
              "#9c179e"
             ],
             [
              0.4444444444444444,
              "#bd3786"
             ],
             [
              0.5555555555555556,
              "#d8576b"
             ],
             [
              0.6666666666666666,
              "#ed7953"
             ],
             [
              0.7777777777777778,
              "#fb9f3a"
             ],
             [
              0.8888888888888888,
              "#fdca26"
             ],
             [
              1,
              "#f0f921"
             ]
            ],
            "type": "contour"
           }
          ],
          "contourcarpet": [
           {
            "colorbar": {
             "outlinewidth": 0,
             "ticks": ""
            },
            "type": "contourcarpet"
           }
          ],
          "heatmap": [
           {
            "colorbar": {
             "outlinewidth": 0,
             "ticks": ""
            },
            "colorscale": [
             [
              0,
              "#0d0887"
             ],
             [
              0.1111111111111111,
              "#46039f"
             ],
             [
              0.2222222222222222,
              "#7201a8"
             ],
             [
              0.3333333333333333,
              "#9c179e"
             ],
             [
              0.4444444444444444,
              "#bd3786"
             ],
             [
              0.5555555555555556,
              "#d8576b"
             ],
             [
              0.6666666666666666,
              "#ed7953"
             ],
             [
              0.7777777777777778,
              "#fb9f3a"
             ],
             [
              0.8888888888888888,
              "#fdca26"
             ],
             [
              1,
              "#f0f921"
             ]
            ],
            "type": "heatmap"
           }
          ],
          "heatmapgl": [
           {
            "colorbar": {
             "outlinewidth": 0,
             "ticks": ""
            },
            "colorscale": [
             [
              0,
              "#0d0887"
             ],
             [
              0.1111111111111111,
              "#46039f"
             ],
             [
              0.2222222222222222,
              "#7201a8"
             ],
             [
              0.3333333333333333,
              "#9c179e"
             ],
             [
              0.4444444444444444,
              "#bd3786"
             ],
             [
              0.5555555555555556,
              "#d8576b"
             ],
             [
              0.6666666666666666,
              "#ed7953"
             ],
             [
              0.7777777777777778,
              "#fb9f3a"
             ],
             [
              0.8888888888888888,
              "#fdca26"
             ],
             [
              1,
              "#f0f921"
             ]
            ],
            "type": "heatmapgl"
           }
          ],
          "histogram": [
           {
            "marker": {
             "pattern": {
              "fillmode": "overlay",
              "size": 10,
              "solidity": 0.2
             }
            },
            "type": "histogram"
           }
          ],
          "histogram2d": [
           {
            "colorbar": {
             "outlinewidth": 0,
             "ticks": ""
            },
            "colorscale": [
             [
              0,
              "#0d0887"
             ],
             [
              0.1111111111111111,
              "#46039f"
             ],
             [
              0.2222222222222222,
              "#7201a8"
             ],
             [
              0.3333333333333333,
              "#9c179e"
             ],
             [
              0.4444444444444444,
              "#bd3786"
             ],
             [
              0.5555555555555556,
              "#d8576b"
             ],
             [
              0.6666666666666666,
              "#ed7953"
             ],
             [
              0.7777777777777778,
              "#fb9f3a"
             ],
             [
              0.8888888888888888,
              "#fdca26"
             ],
             [
              1,
              "#f0f921"
             ]
            ],
            "type": "histogram2d"
           }
          ],
          "histogram2dcontour": [
           {
            "colorbar": {
             "outlinewidth": 0,
             "ticks": ""
            },
            "colorscale": [
             [
              0,
              "#0d0887"
             ],
             [
              0.1111111111111111,
              "#46039f"
             ],
             [
              0.2222222222222222,
              "#7201a8"
             ],
             [
              0.3333333333333333,
              "#9c179e"
             ],
             [
              0.4444444444444444,
              "#bd3786"
             ],
             [
              0.5555555555555556,
              "#d8576b"
             ],
             [
              0.6666666666666666,
              "#ed7953"
             ],
             [
              0.7777777777777778,
              "#fb9f3a"
             ],
             [
              0.8888888888888888,
              "#fdca26"
             ],
             [
              1,
              "#f0f921"
             ]
            ],
            "type": "histogram2dcontour"
           }
          ],
          "mesh3d": [
           {
            "colorbar": {
             "outlinewidth": 0,
             "ticks": ""
            },
            "type": "mesh3d"
           }
          ],
          "parcoords": [
           {
            "line": {
             "colorbar": {
              "outlinewidth": 0,
              "ticks": ""
             }
            },
            "type": "parcoords"
           }
          ],
          "pie": [
           {
            "automargin": true,
            "type": "pie"
           }
          ],
          "scatter": [
           {
            "fillpattern": {
             "fillmode": "overlay",
             "size": 10,
             "solidity": 0.2
            },
            "type": "scatter"
           }
          ],
          "scatter3d": [
           {
            "line": {
             "colorbar": {
              "outlinewidth": 0,
              "ticks": ""
             }
            },
            "marker": {
             "colorbar": {
              "outlinewidth": 0,
              "ticks": ""
             }
            },
            "type": "scatter3d"
           }
          ],
          "scattercarpet": [
           {
            "marker": {
             "colorbar": {
              "outlinewidth": 0,
              "ticks": ""
             }
            },
            "type": "scattercarpet"
           }
          ],
          "scattergeo": [
           {
            "marker": {
             "colorbar": {
              "outlinewidth": 0,
              "ticks": ""
             }
            },
            "type": "scattergeo"
           }
          ],
          "scattergl": [
           {
            "marker": {
             "colorbar": {
              "outlinewidth": 0,
              "ticks": ""
             }
            },
            "type": "scattergl"
           }
          ],
          "scattermapbox": [
           {
            "marker": {
             "colorbar": {
              "outlinewidth": 0,
              "ticks": ""
             }
            },
            "type": "scattermapbox"
           }
          ],
          "scatterpolar": [
           {
            "marker": {
             "colorbar": {
              "outlinewidth": 0,
              "ticks": ""
             }
            },
            "type": "scatterpolar"
           }
          ],
          "scatterpolargl": [
           {
            "marker": {
             "colorbar": {
              "outlinewidth": 0,
              "ticks": ""
             }
            },
            "type": "scatterpolargl"
           }
          ],
          "scatterternary": [
           {
            "marker": {
             "colorbar": {
              "outlinewidth": 0,
              "ticks": ""
             }
            },
            "type": "scatterternary"
           }
          ],
          "surface": [
           {
            "colorbar": {
             "outlinewidth": 0,
             "ticks": ""
            },
            "colorscale": [
             [
              0,
              "#0d0887"
             ],
             [
              0.1111111111111111,
              "#46039f"
             ],
             [
              0.2222222222222222,
              "#7201a8"
             ],
             [
              0.3333333333333333,
              "#9c179e"
             ],
             [
              0.4444444444444444,
              "#bd3786"
             ],
             [
              0.5555555555555556,
              "#d8576b"
             ],
             [
              0.6666666666666666,
              "#ed7953"
             ],
             [
              0.7777777777777778,
              "#fb9f3a"
             ],
             [
              0.8888888888888888,
              "#fdca26"
             ],
             [
              1,
              "#f0f921"
             ]
            ],
            "type": "surface"
           }
          ],
          "table": [
           {
            "cells": {
             "fill": {
              "color": "#EBF0F8"
             },
             "line": {
              "color": "white"
             }
            },
            "header": {
             "fill": {
              "color": "#C8D4E3"
             },
             "line": {
              "color": "white"
             }
            },
            "type": "table"
           }
          ]
         },
         "layout": {
          "annotationdefaults": {
           "arrowcolor": "#2a3f5f",
           "arrowhead": 0,
           "arrowwidth": 1
          },
          "autotypenumbers": "strict",
          "coloraxis": {
           "colorbar": {
            "outlinewidth": 0,
            "ticks": ""
           }
          },
          "colorscale": {
           "diverging": [
            [
             0,
             "#8e0152"
            ],
            [
             0.1,
             "#c51b7d"
            ],
            [
             0.2,
             "#de77ae"
            ],
            [
             0.3,
             "#f1b6da"
            ],
            [
             0.4,
             "#fde0ef"
            ],
            [
             0.5,
             "#f7f7f7"
            ],
            [
             0.6,
             "#e6f5d0"
            ],
            [
             0.7,
             "#b8e186"
            ],
            [
             0.8,
             "#7fbc41"
            ],
            [
             0.9,
             "#4d9221"
            ],
            [
             1,
             "#276419"
            ]
           ],
           "sequential": [
            [
             0,
             "#0d0887"
            ],
            [
             0.1111111111111111,
             "#46039f"
            ],
            [
             0.2222222222222222,
             "#7201a8"
            ],
            [
             0.3333333333333333,
             "#9c179e"
            ],
            [
             0.4444444444444444,
             "#bd3786"
            ],
            [
             0.5555555555555556,
             "#d8576b"
            ],
            [
             0.6666666666666666,
             "#ed7953"
            ],
            [
             0.7777777777777778,
             "#fb9f3a"
            ],
            [
             0.8888888888888888,
             "#fdca26"
            ],
            [
             1,
             "#f0f921"
            ]
           ],
           "sequentialminus": [
            [
             0,
             "#0d0887"
            ],
            [
             0.1111111111111111,
             "#46039f"
            ],
            [
             0.2222222222222222,
             "#7201a8"
            ],
            [
             0.3333333333333333,
             "#9c179e"
            ],
            [
             0.4444444444444444,
             "#bd3786"
            ],
            [
             0.5555555555555556,
             "#d8576b"
            ],
            [
             0.6666666666666666,
             "#ed7953"
            ],
            [
             0.7777777777777778,
             "#fb9f3a"
            ],
            [
             0.8888888888888888,
             "#fdca26"
            ],
            [
             1,
             "#f0f921"
            ]
           ]
          },
          "colorway": [
           "#636efa",
           "#EF553B",
           "#00cc96",
           "#ab63fa",
           "#FFA15A",
           "#19d3f3",
           "#FF6692",
           "#B6E880",
           "#FF97FF",
           "#FECB52"
          ],
          "font": {
           "color": "#2a3f5f"
          },
          "geo": {
           "bgcolor": "white",
           "lakecolor": "white",
           "landcolor": "#E5ECF6",
           "showlakes": true,
           "showland": true,
           "subunitcolor": "white"
          },
          "hoverlabel": {
           "align": "left"
          },
          "hovermode": "closest",
          "mapbox": {
           "style": "light"
          },
          "paper_bgcolor": "white",
          "plot_bgcolor": "#E5ECF6",
          "polar": {
           "angularaxis": {
            "gridcolor": "white",
            "linecolor": "white",
            "ticks": ""
           },
           "bgcolor": "#E5ECF6",
           "radialaxis": {
            "gridcolor": "white",
            "linecolor": "white",
            "ticks": ""
           }
          },
          "scene": {
           "xaxis": {
            "backgroundcolor": "#E5ECF6",
            "gridcolor": "white",
            "gridwidth": 2,
            "linecolor": "white",
            "showbackground": true,
            "ticks": "",
            "zerolinecolor": "white"
           },
           "yaxis": {
            "backgroundcolor": "#E5ECF6",
            "gridcolor": "white",
            "gridwidth": 2,
            "linecolor": "white",
            "showbackground": true,
            "ticks": "",
            "zerolinecolor": "white"
           },
           "zaxis": {
            "backgroundcolor": "#E5ECF6",
            "gridcolor": "white",
            "gridwidth": 2,
            "linecolor": "white",
            "showbackground": true,
            "ticks": "",
            "zerolinecolor": "white"
           }
          },
          "shapedefaults": {
           "line": {
            "color": "#2a3f5f"
           }
          },
          "ternary": {
           "aaxis": {
            "gridcolor": "white",
            "linecolor": "white",
            "ticks": ""
           },
           "baxis": {
            "gridcolor": "white",
            "linecolor": "white",
            "ticks": ""
           },
           "bgcolor": "#E5ECF6",
           "caxis": {
            "gridcolor": "white",
            "linecolor": "white",
            "ticks": ""
           }
          },
          "title": {
           "x": 0.05
          },
          "xaxis": {
           "automargin": true,
           "gridcolor": "white",
           "linecolor": "white",
           "ticks": "",
           "title": {
            "standoff": 15
           },
           "zerolinecolor": "white",
           "zerolinewidth": 2
          },
          "yaxis": {
           "automargin": true,
           "gridcolor": "white",
           "linecolor": "white",
           "ticks": "",
           "title": {
            "standoff": 15
           },
           "zerolinecolor": "white",
           "zerolinewidth": 2
          }
         }
        },
        "xaxis": {
         "anchor": "y",
         "domain": [
          0,
          1
         ],
         "title": {
          "text": "upload_date"
         }
        },
        "yaxis": {
         "anchor": "x",
         "domain": [
          0,
          1
         ],
         "title": {
          "text": "view_count"
         },
         "type": "log"
        }
       }
      }
     },
     "metadata": {},
     "output_type": "display_data"
    }
   ],
   "source": [
    "fig = px.bar(df_date_grouped, y='view_count', x='upload_date',log_y=True,color = 'uploader', text_auto='.2s',color_discrete_map= {'ABN': 'yellow','TV5': 'gold', 'Sakshi':'red' , 'TV9':'blue'})\n",
    "fig.update_traces(opacity=.7)\n",
    "fig.show()"
   ]
  },
  {
   "cell_type": "code",
   "execution_count": 116,
   "metadata": {},
   "outputs": [
    {
     "data": {
      "text/html": [
       "<div>\n",
       "<style scoped>\n",
       "    .dataframe tbody tr th:only-of-type {\n",
       "        vertical-align: middle;\n",
       "    }\n",
       "\n",
       "    .dataframe tbody tr th {\n",
       "        vertical-align: top;\n",
       "    }\n",
       "\n",
       "    .dataframe thead th {\n",
       "        text-align: right;\n",
       "    }\n",
       "</style>\n",
       "<table border=\"1\" class=\"dataframe\">\n",
       "  <thead>\n",
       "    <tr style=\"text-align: right;\">\n",
       "      <th></th>\n",
       "      <th>upload_date</th>\n",
       "      <th>uploader</th>\n",
       "      <th>view_count</th>\n",
       "      <th>duration</th>\n",
       "      <th>negativity</th>\n",
       "      <th>comment_count</th>\n",
       "    </tr>\n",
       "  </thead>\n",
       "  <tbody>\n",
       "    <tr>\n",
       "      <th>0</th>\n",
       "      <td>2022-06-07</td>\n",
       "      <td>Sakshi</td>\n",
       "      <td>339713.0</td>\n",
       "      <td>1359.0</td>\n",
       "      <td>3</td>\n",
       "      <td>1079.0</td>\n",
       "    </tr>\n",
       "    <tr>\n",
       "      <th>1</th>\n",
       "      <td>2022-06-10</td>\n",
       "      <td>Sakshi</td>\n",
       "      <td>16309.0</td>\n",
       "      <td>181.0</td>\n",
       "      <td>1</td>\n",
       "      <td>34.0</td>\n",
       "    </tr>\n",
       "    <tr>\n",
       "      <th>2</th>\n",
       "      <td>2022-06-16</td>\n",
       "      <td>Sakshi</td>\n",
       "      <td>50610.0</td>\n",
       "      <td>87.0</td>\n",
       "      <td>0</td>\n",
       "      <td>130.0</td>\n",
       "    </tr>\n",
       "    <tr>\n",
       "      <th>3</th>\n",
       "      <td>2022-06-19</td>\n",
       "      <td>Sakshi</td>\n",
       "      <td>68244.0</td>\n",
       "      <td>310.0</td>\n",
       "      <td>0</td>\n",
       "      <td>238.0</td>\n",
       "    </tr>\n",
       "    <tr>\n",
       "      <th>4</th>\n",
       "      <td>2022-06-25</td>\n",
       "      <td>Sakshi</td>\n",
       "      <td>16308.0</td>\n",
       "      <td>861.0</td>\n",
       "      <td>3</td>\n",
       "      <td>26.0</td>\n",
       "    </tr>\n",
       "    <tr>\n",
       "      <th>...</th>\n",
       "      <td>...</td>\n",
       "      <td>...</td>\n",
       "      <td>...</td>\n",
       "      <td>...</td>\n",
       "      <td>...</td>\n",
       "      <td>...</td>\n",
       "    </tr>\n",
       "    <tr>\n",
       "      <th>278</th>\n",
       "      <td>2023-04-18</td>\n",
       "      <td>TV9</td>\n",
       "      <td>213281.0</td>\n",
       "      <td>1938.0</td>\n",
       "      <td>5</td>\n",
       "      <td>183.0</td>\n",
       "    </tr>\n",
       "    <tr>\n",
       "      <th>279</th>\n",
       "      <td>2023-04-21</td>\n",
       "      <td>ABN</td>\n",
       "      <td>3958.0</td>\n",
       "      <td>578.0</td>\n",
       "      <td>1</td>\n",
       "      <td>2.0</td>\n",
       "    </tr>\n",
       "    <tr>\n",
       "      <th>280</th>\n",
       "      <td>2023-04-21</td>\n",
       "      <td>Sakshi</td>\n",
       "      <td>23665.0</td>\n",
       "      <td>42897.0</td>\n",
       "      <td>1</td>\n",
       "      <td>7.0</td>\n",
       "    </tr>\n",
       "    <tr>\n",
       "      <th>281</th>\n",
       "      <td>2023-04-21</td>\n",
       "      <td>TV5</td>\n",
       "      <td>4767.0</td>\n",
       "      <td>235.0</td>\n",
       "      <td>0</td>\n",
       "      <td>9.0</td>\n",
       "    </tr>\n",
       "    <tr>\n",
       "      <th>282</th>\n",
       "      <td>2023-04-21</td>\n",
       "      <td>TV9</td>\n",
       "      <td>8156.0</td>\n",
       "      <td>600.0</td>\n",
       "      <td>3</td>\n",
       "      <td>8.0</td>\n",
       "    </tr>\n",
       "  </tbody>\n",
       "</table>\n",
       "<p>283 rows × 6 columns</p>\n",
       "</div>"
      ],
      "text/plain": [
       "    upload_date uploader  view_count  duration  negativity  comment_count\n",
       "0    2022-06-07   Sakshi    339713.0    1359.0           3         1079.0\n",
       "1    2022-06-10   Sakshi     16309.0     181.0           1           34.0\n",
       "2    2022-06-16   Sakshi     50610.0      87.0           0          130.0\n",
       "3    2022-06-19   Sakshi     68244.0     310.0           0          238.0\n",
       "4    2022-06-25   Sakshi     16308.0     861.0           3           26.0\n",
       "..          ...      ...         ...       ...         ...            ...\n",
       "278  2023-04-18      TV9    213281.0    1938.0           5          183.0\n",
       "279  2023-04-21      ABN      3958.0     578.0           1            2.0\n",
       "280  2023-04-21   Sakshi     23665.0   42897.0           1            7.0\n",
       "281  2023-04-21      TV5      4767.0     235.0           0            9.0\n",
       "282  2023-04-21      TV9      8156.0     600.0           3            8.0\n",
       "\n",
       "[283 rows x 6 columns]"
      ]
     },
     "execution_count": 116,
     "metadata": {},
     "output_type": "execute_result"
    }
   ],
   "source": [
    "df_date_grouped"
   ]
  },
  {
   "cell_type": "code",
   "execution_count": 77,
   "metadata": {},
   "outputs": [],
   "source": [
    "df_attr = pd.read_excel('UIdata/alphapolitica_faces_attributes_coords.xlsx')\n",
    "id_dict = dict(zip(df_attr.Name, df_attr.image_id))\n",
    "party_dict =  dict(zip(df_attr.Name, df_attr.party))\n"
   ]
  },
  {
   "cell_type": "code",
   "execution_count": 82,
   "metadata": {},
   "outputs": [
    {
     "data": {
      "text/plain": [
       "array(['BJP', 'CONG', 'JSP', 'MEDIA', 'TDP', 'YSRCP', 'nan'], dtype='<U32')"
      ]
     },
     "execution_count": 82,
     "metadata": {},
     "output_type": "execute_result"
    }
   ],
   "source": [
    "np.unique(list(party_dict.values()))"
   ]
  },
  {
   "cell_type": "code",
   "execution_count": 72,
   "metadata": {},
   "outputs": [
    {
     "data": {
      "text/plain": [
       "164"
      ]
     },
     "execution_count": 72,
     "metadata": {},
     "output_type": "execute_result"
    }
   ],
   "source": [
    "int(df_polar.sum()['duration']/(60*60))"
   ]
  },
  {
   "cell_type": "code",
   "execution_count": 74,
   "metadata": {},
   "outputs": [
    {
     "data": {
      "text/plain": [
       "31799237.0"
      ]
     },
     "execution_count": 74,
     "metadata": {},
     "output_type": "execute_result"
    }
   ],
   "source": [
    "df_polar['view_count'].values.sum()"
   ]
  },
  {
   "cell_type": "code",
   "execution_count": 57,
   "metadata": {},
   "outputs": [],
   "source": [
    "import glob\n",
    "candidates = [i.split('plots_data/candidates_data/')[1].split('.csv')[0] for i in glob.glob('plots_data/candidates_data/*')]"
   ]
  },
  {
   "cell_type": "code",
   "execution_count": 59,
   "metadata": {},
   "outputs": [
    {
     "data": {
      "text/plain": [
       "'Nallapareddy Prasanna Kumar Redd'"
      ]
     },
     "execution_count": 59,
     "metadata": {},
     "output_type": "execute_result"
    }
   ],
   "source": [
    "candidates[0]"
   ]
  },
  {
   "cell_type": "code",
   "execution_count": 55,
   "metadata": {},
   "outputs": [
    {
     "data": {
      "application/vnd.plotly.v1+json": {
       "config": {
        "plotlyServerURL": "https://plot.ly"
       },
       "data": [
        {
         "fill": "toself",
         "name": "Product A",
         "r": [
          249727,
          107724,
          96155,
          139535
         ],
         "theta": [
          "ABN",
          "Sakshi",
          "TV5",
          "TV9"
         ],
         "type": "scatterpolar"
        }
       ],
       "layout": {
        "template": {
         "data": {
          "bar": [
           {
            "error_x": {
             "color": "#2a3f5f"
            },
            "error_y": {
             "color": "#2a3f5f"
            },
            "marker": {
             "line": {
              "color": "#E5ECF6",
              "width": 0.5
             },
             "pattern": {
              "fillmode": "overlay",
              "size": 10,
              "solidity": 0.2
             }
            },
            "type": "bar"
           }
          ],
          "barpolar": [
           {
            "marker": {
             "line": {
              "color": "#E5ECF6",
              "width": 0.5
             },
             "pattern": {
              "fillmode": "overlay",
              "size": 10,
              "solidity": 0.2
             }
            },
            "type": "barpolar"
           }
          ],
          "carpet": [
           {
            "aaxis": {
             "endlinecolor": "#2a3f5f",
             "gridcolor": "white",
             "linecolor": "white",
             "minorgridcolor": "white",
             "startlinecolor": "#2a3f5f"
            },
            "baxis": {
             "endlinecolor": "#2a3f5f",
             "gridcolor": "white",
             "linecolor": "white",
             "minorgridcolor": "white",
             "startlinecolor": "#2a3f5f"
            },
            "type": "carpet"
           }
          ],
          "choropleth": [
           {
            "colorbar": {
             "outlinewidth": 0,
             "ticks": ""
            },
            "type": "choropleth"
           }
          ],
          "contour": [
           {
            "colorbar": {
             "outlinewidth": 0,
             "ticks": ""
            },
            "colorscale": [
             [
              0,
              "#0d0887"
             ],
             [
              0.1111111111111111,
              "#46039f"
             ],
             [
              0.2222222222222222,
              "#7201a8"
             ],
             [
              0.3333333333333333,
              "#9c179e"
             ],
             [
              0.4444444444444444,
              "#bd3786"
             ],
             [
              0.5555555555555556,
              "#d8576b"
             ],
             [
              0.6666666666666666,
              "#ed7953"
             ],
             [
              0.7777777777777778,
              "#fb9f3a"
             ],
             [
              0.8888888888888888,
              "#fdca26"
             ],
             [
              1,
              "#f0f921"
             ]
            ],
            "type": "contour"
           }
          ],
          "contourcarpet": [
           {
            "colorbar": {
             "outlinewidth": 0,
             "ticks": ""
            },
            "type": "contourcarpet"
           }
          ],
          "heatmap": [
           {
            "colorbar": {
             "outlinewidth": 0,
             "ticks": ""
            },
            "colorscale": [
             [
              0,
              "#0d0887"
             ],
             [
              0.1111111111111111,
              "#46039f"
             ],
             [
              0.2222222222222222,
              "#7201a8"
             ],
             [
              0.3333333333333333,
              "#9c179e"
             ],
             [
              0.4444444444444444,
              "#bd3786"
             ],
             [
              0.5555555555555556,
              "#d8576b"
             ],
             [
              0.6666666666666666,
              "#ed7953"
             ],
             [
              0.7777777777777778,
              "#fb9f3a"
             ],
             [
              0.8888888888888888,
              "#fdca26"
             ],
             [
              1,
              "#f0f921"
             ]
            ],
            "type": "heatmap"
           }
          ],
          "heatmapgl": [
           {
            "colorbar": {
             "outlinewidth": 0,
             "ticks": ""
            },
            "colorscale": [
             [
              0,
              "#0d0887"
             ],
             [
              0.1111111111111111,
              "#46039f"
             ],
             [
              0.2222222222222222,
              "#7201a8"
             ],
             [
              0.3333333333333333,
              "#9c179e"
             ],
             [
              0.4444444444444444,
              "#bd3786"
             ],
             [
              0.5555555555555556,
              "#d8576b"
             ],
             [
              0.6666666666666666,
              "#ed7953"
             ],
             [
              0.7777777777777778,
              "#fb9f3a"
             ],
             [
              0.8888888888888888,
              "#fdca26"
             ],
             [
              1,
              "#f0f921"
             ]
            ],
            "type": "heatmapgl"
           }
          ],
          "histogram": [
           {
            "marker": {
             "pattern": {
              "fillmode": "overlay",
              "size": 10,
              "solidity": 0.2
             }
            },
            "type": "histogram"
           }
          ],
          "histogram2d": [
           {
            "colorbar": {
             "outlinewidth": 0,
             "ticks": ""
            },
            "colorscale": [
             [
              0,
              "#0d0887"
             ],
             [
              0.1111111111111111,
              "#46039f"
             ],
             [
              0.2222222222222222,
              "#7201a8"
             ],
             [
              0.3333333333333333,
              "#9c179e"
             ],
             [
              0.4444444444444444,
              "#bd3786"
             ],
             [
              0.5555555555555556,
              "#d8576b"
             ],
             [
              0.6666666666666666,
              "#ed7953"
             ],
             [
              0.7777777777777778,
              "#fb9f3a"
             ],
             [
              0.8888888888888888,
              "#fdca26"
             ],
             [
              1,
              "#f0f921"
             ]
            ],
            "type": "histogram2d"
           }
          ],
          "histogram2dcontour": [
           {
            "colorbar": {
             "outlinewidth": 0,
             "ticks": ""
            },
            "colorscale": [
             [
              0,
              "#0d0887"
             ],
             [
              0.1111111111111111,
              "#46039f"
             ],
             [
              0.2222222222222222,
              "#7201a8"
             ],
             [
              0.3333333333333333,
              "#9c179e"
             ],
             [
              0.4444444444444444,
              "#bd3786"
             ],
             [
              0.5555555555555556,
              "#d8576b"
             ],
             [
              0.6666666666666666,
              "#ed7953"
             ],
             [
              0.7777777777777778,
              "#fb9f3a"
             ],
             [
              0.8888888888888888,
              "#fdca26"
             ],
             [
              1,
              "#f0f921"
             ]
            ],
            "type": "histogram2dcontour"
           }
          ],
          "mesh3d": [
           {
            "colorbar": {
             "outlinewidth": 0,
             "ticks": ""
            },
            "type": "mesh3d"
           }
          ],
          "parcoords": [
           {
            "line": {
             "colorbar": {
              "outlinewidth": 0,
              "ticks": ""
             }
            },
            "type": "parcoords"
           }
          ],
          "pie": [
           {
            "automargin": true,
            "type": "pie"
           }
          ],
          "scatter": [
           {
            "fillpattern": {
             "fillmode": "overlay",
             "size": 10,
             "solidity": 0.2
            },
            "type": "scatter"
           }
          ],
          "scatter3d": [
           {
            "line": {
             "colorbar": {
              "outlinewidth": 0,
              "ticks": ""
             }
            },
            "marker": {
             "colorbar": {
              "outlinewidth": 0,
              "ticks": ""
             }
            },
            "type": "scatter3d"
           }
          ],
          "scattercarpet": [
           {
            "marker": {
             "colorbar": {
              "outlinewidth": 0,
              "ticks": ""
             }
            },
            "type": "scattercarpet"
           }
          ],
          "scattergeo": [
           {
            "marker": {
             "colorbar": {
              "outlinewidth": 0,
              "ticks": ""
             }
            },
            "type": "scattergeo"
           }
          ],
          "scattergl": [
           {
            "marker": {
             "colorbar": {
              "outlinewidth": 0,
              "ticks": ""
             }
            },
            "type": "scattergl"
           }
          ],
          "scattermapbox": [
           {
            "marker": {
             "colorbar": {
              "outlinewidth": 0,
              "ticks": ""
             }
            },
            "type": "scattermapbox"
           }
          ],
          "scatterpolar": [
           {
            "marker": {
             "colorbar": {
              "outlinewidth": 0,
              "ticks": ""
             }
            },
            "type": "scatterpolar"
           }
          ],
          "scatterpolargl": [
           {
            "marker": {
             "colorbar": {
              "outlinewidth": 0,
              "ticks": ""
             }
            },
            "type": "scatterpolargl"
           }
          ],
          "scatterternary": [
           {
            "marker": {
             "colorbar": {
              "outlinewidth": 0,
              "ticks": ""
             }
            },
            "type": "scatterternary"
           }
          ],
          "surface": [
           {
            "colorbar": {
             "outlinewidth": 0,
             "ticks": ""
            },
            "colorscale": [
             [
              0,
              "#0d0887"
             ],
             [
              0.1111111111111111,
              "#46039f"
             ],
             [
              0.2222222222222222,
              "#7201a8"
             ],
             [
              0.3333333333333333,
              "#9c179e"
             ],
             [
              0.4444444444444444,
              "#bd3786"
             ],
             [
              0.5555555555555556,
              "#d8576b"
             ],
             [
              0.6666666666666666,
              "#ed7953"
             ],
             [
              0.7777777777777778,
              "#fb9f3a"
             ],
             [
              0.8888888888888888,
              "#fdca26"
             ],
             [
              1,
              "#f0f921"
             ]
            ],
            "type": "surface"
           }
          ],
          "table": [
           {
            "cells": {
             "fill": {
              "color": "#EBF0F8"
             },
             "line": {
              "color": "white"
             }
            },
            "header": {
             "fill": {
              "color": "#C8D4E3"
             },
             "line": {
              "color": "white"
             }
            },
            "type": "table"
           }
          ]
         },
         "layout": {
          "annotationdefaults": {
           "arrowcolor": "#2a3f5f",
           "arrowhead": 0,
           "arrowwidth": 1
          },
          "autotypenumbers": "strict",
          "coloraxis": {
           "colorbar": {
            "outlinewidth": 0,
            "ticks": ""
           }
          },
          "colorscale": {
           "diverging": [
            [
             0,
             "#8e0152"
            ],
            [
             0.1,
             "#c51b7d"
            ],
            [
             0.2,
             "#de77ae"
            ],
            [
             0.3,
             "#f1b6da"
            ],
            [
             0.4,
             "#fde0ef"
            ],
            [
             0.5,
             "#f7f7f7"
            ],
            [
             0.6,
             "#e6f5d0"
            ],
            [
             0.7,
             "#b8e186"
            ],
            [
             0.8,
             "#7fbc41"
            ],
            [
             0.9,
             "#4d9221"
            ],
            [
             1,
             "#276419"
            ]
           ],
           "sequential": [
            [
             0,
             "#0d0887"
            ],
            [
             0.1111111111111111,
             "#46039f"
            ],
            [
             0.2222222222222222,
             "#7201a8"
            ],
            [
             0.3333333333333333,
             "#9c179e"
            ],
            [
             0.4444444444444444,
             "#bd3786"
            ],
            [
             0.5555555555555556,
             "#d8576b"
            ],
            [
             0.6666666666666666,
             "#ed7953"
            ],
            [
             0.7777777777777778,
             "#fb9f3a"
            ],
            [
             0.8888888888888888,
             "#fdca26"
            ],
            [
             1,
             "#f0f921"
            ]
           ],
           "sequentialminus": [
            [
             0,
             "#0d0887"
            ],
            [
             0.1111111111111111,
             "#46039f"
            ],
            [
             0.2222222222222222,
             "#7201a8"
            ],
            [
             0.3333333333333333,
             "#9c179e"
            ],
            [
             0.4444444444444444,
             "#bd3786"
            ],
            [
             0.5555555555555556,
             "#d8576b"
            ],
            [
             0.6666666666666666,
             "#ed7953"
            ],
            [
             0.7777777777777778,
             "#fb9f3a"
            ],
            [
             0.8888888888888888,
             "#fdca26"
            ],
            [
             1,
             "#f0f921"
            ]
           ]
          },
          "colorway": [
           "#636efa",
           "#EF553B",
           "#00cc96",
           "#ab63fa",
           "#FFA15A",
           "#19d3f3",
           "#FF6692",
           "#B6E880",
           "#FF97FF",
           "#FECB52"
          ],
          "font": {
           "color": "#2a3f5f"
          },
          "geo": {
           "bgcolor": "white",
           "lakecolor": "white",
           "landcolor": "#E5ECF6",
           "showlakes": true,
           "showland": true,
           "subunitcolor": "white"
          },
          "hoverlabel": {
           "align": "left"
          },
          "hovermode": "closest",
          "mapbox": {
           "style": "light"
          },
          "paper_bgcolor": "white",
          "plot_bgcolor": "#E5ECF6",
          "polar": {
           "angularaxis": {
            "gridcolor": "white",
            "linecolor": "white",
            "ticks": ""
           },
           "bgcolor": "#E5ECF6",
           "radialaxis": {
            "gridcolor": "white",
            "linecolor": "white",
            "ticks": ""
           }
          },
          "scene": {
           "xaxis": {
            "backgroundcolor": "#E5ECF6",
            "gridcolor": "white",
            "gridwidth": 2,
            "linecolor": "white",
            "showbackground": true,
            "ticks": "",
            "zerolinecolor": "white"
           },
           "yaxis": {
            "backgroundcolor": "#E5ECF6",
            "gridcolor": "white",
            "gridwidth": 2,
            "linecolor": "white",
            "showbackground": true,
            "ticks": "",
            "zerolinecolor": "white"
           },
           "zaxis": {
            "backgroundcolor": "#E5ECF6",
            "gridcolor": "white",
            "gridwidth": 2,
            "linecolor": "white",
            "showbackground": true,
            "ticks": "",
            "zerolinecolor": "white"
           }
          },
          "shapedefaults": {
           "line": {
            "color": "#2a3f5f"
           }
          },
          "ternary": {
           "aaxis": {
            "gridcolor": "white",
            "linecolor": "white",
            "ticks": ""
           },
           "baxis": {
            "gridcolor": "white",
            "linecolor": "white",
            "ticks": ""
           },
           "bgcolor": "#E5ECF6",
           "caxis": {
            "gridcolor": "white",
            "linecolor": "white",
            "ticks": ""
           }
          },
          "title": {
           "x": 0.05
          },
          "xaxis": {
           "automargin": true,
           "gridcolor": "white",
           "linecolor": "white",
           "ticks": "",
           "title": {
            "standoff": 15
           },
           "zerolinecolor": "white",
           "zerolinewidth": 2
          },
          "yaxis": {
           "automargin": true,
           "gridcolor": "white",
           "linecolor": "white",
           "ticks": "",
           "title": {
            "standoff": 15
           },
           "zerolinecolor": "white",
           "zerolinewidth": 2
          }
         }
        }
       }
      }
     },
     "metadata": {},
     "output_type": "display_data"
    }
   ],
   "source": [
    "import plotly.graph_objects as go\n",
    "\n",
    "categories = df_polar['uploader'].values\n",
    "\n",
    "fig = go.Figure()\n",
    "\n",
    "fig.add_trace(go.Scatterpolar(\n",
    "      r=df_polar['duration'].values,\n",
    "      theta=categories,\n",
    "      fill='toself',\n",
    "      name='Product A',log_r\n",
    "))"
   ]
  },
  {
   "cell_type": "code",
   "execution_count": null,
   "metadata": {},
   "outputs": [],
   "source": []
  },
  {
   "cell_type": "code",
   "execution_count": null,
   "metadata": {},
   "outputs": [],
   "source": []
  },
  {
   "cell_type": "code",
   "execution_count": null,
   "metadata": {},
   "outputs": [],
   "source": []
  },
  {
   "cell_type": "code",
   "execution_count": 40,
   "metadata": {},
   "outputs": [
    {
     "data": {
      "application/vnd.plotly.v1+json": {
       "config": {
        "plotlyServerURL": "https://plot.ly"
       },
       "data": [
        {
         "hovertemplate": "uploader=%{theta}<br>duration=%{r}<extra></extra>",
         "legendgroup": "ABN",
         "marker": {
          "color": "yellow",
          "pattern": {
           "shape": ""
          }
         },
         "name": "ABN",
         "r": [
          249727
         ],
         "showlegend": true,
         "subplot": "polar",
         "theta": [
          "ABN"
         ],
         "type": "barpolar"
        },
        {
         "hovertemplate": "uploader=%{theta}<br>duration=%{r}<extra></extra>",
         "legendgroup": "Sakshi",
         "marker": {
          "color": "red",
          "pattern": {
           "shape": ""
          }
         },
         "name": "Sakshi",
         "r": [
          107724
         ],
         "showlegend": true,
         "subplot": "polar",
         "theta": [
          "Sakshi"
         ],
         "type": "barpolar"
        },
        {
         "hovertemplate": "uploader=%{theta}<br>duration=%{r}<extra></extra>",
         "legendgroup": "TV5",
         "marker": {
          "color": "gold",
          "pattern": {
           "shape": ""
          }
         },
         "name": "TV5",
         "r": [
          96155
         ],
         "showlegend": true,
         "subplot": "polar",
         "theta": [
          "TV5"
         ],
         "type": "barpolar"
        },
        {
         "hovertemplate": "uploader=%{theta}<br>duration=%{r}<extra></extra>",
         "legendgroup": "TV9",
         "marker": {
          "color": "blue",
          "pattern": {
           "shape": ""
          }
         },
         "name": "TV9",
         "r": [
          139535
         ],
         "showlegend": true,
         "subplot": "polar",
         "theta": [
          "TV9"
         ],
         "type": "barpolar"
        }
       ],
       "layout": {
        "barmode": "relative",
        "legend": {
         "title": {
          "text": "uploader"
         },
         "tracegroupgap": 0
        },
        "polar": {
         "angularaxis": {
          "categoryarray": [
           "ABN",
           "Sakshi",
           "TV5",
           "TV9"
          ],
          "categoryorder": "array",
          "direction": "clockwise",
          "rotation": 90
         },
         "domain": {
          "x": [
           0,
           1
          ],
          "y": [
           0,
           1
          ]
         }
        },
        "template": {
         "data": {
          "bar": [
           {
            "error_x": {
             "color": "#f2f5fa"
            },
            "error_y": {
             "color": "#f2f5fa"
            },
            "marker": {
             "line": {
              "color": "rgb(17,17,17)",
              "width": 0.5
             },
             "pattern": {
              "fillmode": "overlay",
              "size": 10,
              "solidity": 0.2
             }
            },
            "type": "bar"
           }
          ],
          "barpolar": [
           {
            "marker": {
             "line": {
              "color": "rgb(17,17,17)",
              "width": 0.5
             },
             "pattern": {
              "fillmode": "overlay",
              "size": 10,
              "solidity": 0.2
             }
            },
            "type": "barpolar"
           }
          ],
          "carpet": [
           {
            "aaxis": {
             "endlinecolor": "#A2B1C6",
             "gridcolor": "#506784",
             "linecolor": "#506784",
             "minorgridcolor": "#506784",
             "startlinecolor": "#A2B1C6"
            },
            "baxis": {
             "endlinecolor": "#A2B1C6",
             "gridcolor": "#506784",
             "linecolor": "#506784",
             "minorgridcolor": "#506784",
             "startlinecolor": "#A2B1C6"
            },
            "type": "carpet"
           }
          ],
          "choropleth": [
           {
            "colorbar": {
             "outlinewidth": 0,
             "ticks": ""
            },
            "type": "choropleth"
           }
          ],
          "contour": [
           {
            "colorbar": {
             "outlinewidth": 0,
             "ticks": ""
            },
            "colorscale": [
             [
              0,
              "#0d0887"
             ],
             [
              0.1111111111111111,
              "#46039f"
             ],
             [
              0.2222222222222222,
              "#7201a8"
             ],
             [
              0.3333333333333333,
              "#9c179e"
             ],
             [
              0.4444444444444444,
              "#bd3786"
             ],
             [
              0.5555555555555556,
              "#d8576b"
             ],
             [
              0.6666666666666666,
              "#ed7953"
             ],
             [
              0.7777777777777778,
              "#fb9f3a"
             ],
             [
              0.8888888888888888,
              "#fdca26"
             ],
             [
              1,
              "#f0f921"
             ]
            ],
            "type": "contour"
           }
          ],
          "contourcarpet": [
           {
            "colorbar": {
             "outlinewidth": 0,
             "ticks": ""
            },
            "type": "contourcarpet"
           }
          ],
          "heatmap": [
           {
            "colorbar": {
             "outlinewidth": 0,
             "ticks": ""
            },
            "colorscale": [
             [
              0,
              "#0d0887"
             ],
             [
              0.1111111111111111,
              "#46039f"
             ],
             [
              0.2222222222222222,
              "#7201a8"
             ],
             [
              0.3333333333333333,
              "#9c179e"
             ],
             [
              0.4444444444444444,
              "#bd3786"
             ],
             [
              0.5555555555555556,
              "#d8576b"
             ],
             [
              0.6666666666666666,
              "#ed7953"
             ],
             [
              0.7777777777777778,
              "#fb9f3a"
             ],
             [
              0.8888888888888888,
              "#fdca26"
             ],
             [
              1,
              "#f0f921"
             ]
            ],
            "type": "heatmap"
           }
          ],
          "heatmapgl": [
           {
            "colorbar": {
             "outlinewidth": 0,
             "ticks": ""
            },
            "colorscale": [
             [
              0,
              "#0d0887"
             ],
             [
              0.1111111111111111,
              "#46039f"
             ],
             [
              0.2222222222222222,
              "#7201a8"
             ],
             [
              0.3333333333333333,
              "#9c179e"
             ],
             [
              0.4444444444444444,
              "#bd3786"
             ],
             [
              0.5555555555555556,
              "#d8576b"
             ],
             [
              0.6666666666666666,
              "#ed7953"
             ],
             [
              0.7777777777777778,
              "#fb9f3a"
             ],
             [
              0.8888888888888888,
              "#fdca26"
             ],
             [
              1,
              "#f0f921"
             ]
            ],
            "type": "heatmapgl"
           }
          ],
          "histogram": [
           {
            "marker": {
             "pattern": {
              "fillmode": "overlay",
              "size": 10,
              "solidity": 0.2
             }
            },
            "type": "histogram"
           }
          ],
          "histogram2d": [
           {
            "colorbar": {
             "outlinewidth": 0,
             "ticks": ""
            },
            "colorscale": [
             [
              0,
              "#0d0887"
             ],
             [
              0.1111111111111111,
              "#46039f"
             ],
             [
              0.2222222222222222,
              "#7201a8"
             ],
             [
              0.3333333333333333,
              "#9c179e"
             ],
             [
              0.4444444444444444,
              "#bd3786"
             ],
             [
              0.5555555555555556,
              "#d8576b"
             ],
             [
              0.6666666666666666,
              "#ed7953"
             ],
             [
              0.7777777777777778,
              "#fb9f3a"
             ],
             [
              0.8888888888888888,
              "#fdca26"
             ],
             [
              1,
              "#f0f921"
             ]
            ],
            "type": "histogram2d"
           }
          ],
          "histogram2dcontour": [
           {
            "colorbar": {
             "outlinewidth": 0,
             "ticks": ""
            },
            "colorscale": [
             [
              0,
              "#0d0887"
             ],
             [
              0.1111111111111111,
              "#46039f"
             ],
             [
              0.2222222222222222,
              "#7201a8"
             ],
             [
              0.3333333333333333,
              "#9c179e"
             ],
             [
              0.4444444444444444,
              "#bd3786"
             ],
             [
              0.5555555555555556,
              "#d8576b"
             ],
             [
              0.6666666666666666,
              "#ed7953"
             ],
             [
              0.7777777777777778,
              "#fb9f3a"
             ],
             [
              0.8888888888888888,
              "#fdca26"
             ],
             [
              1,
              "#f0f921"
             ]
            ],
            "type": "histogram2dcontour"
           }
          ],
          "mesh3d": [
           {
            "colorbar": {
             "outlinewidth": 0,
             "ticks": ""
            },
            "type": "mesh3d"
           }
          ],
          "parcoords": [
           {
            "line": {
             "colorbar": {
              "outlinewidth": 0,
              "ticks": ""
             }
            },
            "type": "parcoords"
           }
          ],
          "pie": [
           {
            "automargin": true,
            "type": "pie"
           }
          ],
          "scatter": [
           {
            "marker": {
             "line": {
              "color": "#283442"
             }
            },
            "type": "scatter"
           }
          ],
          "scatter3d": [
           {
            "line": {
             "colorbar": {
              "outlinewidth": 0,
              "ticks": ""
             }
            },
            "marker": {
             "colorbar": {
              "outlinewidth": 0,
              "ticks": ""
             }
            },
            "type": "scatter3d"
           }
          ],
          "scattercarpet": [
           {
            "marker": {
             "colorbar": {
              "outlinewidth": 0,
              "ticks": ""
             }
            },
            "type": "scattercarpet"
           }
          ],
          "scattergeo": [
           {
            "marker": {
             "colorbar": {
              "outlinewidth": 0,
              "ticks": ""
             }
            },
            "type": "scattergeo"
           }
          ],
          "scattergl": [
           {
            "marker": {
             "line": {
              "color": "#283442"
             }
            },
            "type": "scattergl"
           }
          ],
          "scattermapbox": [
           {
            "marker": {
             "colorbar": {
              "outlinewidth": 0,
              "ticks": ""
             }
            },
            "type": "scattermapbox"
           }
          ],
          "scatterpolar": [
           {
            "marker": {
             "colorbar": {
              "outlinewidth": 0,
              "ticks": ""
             }
            },
            "type": "scatterpolar"
           }
          ],
          "scatterpolargl": [
           {
            "marker": {
             "colorbar": {
              "outlinewidth": 0,
              "ticks": ""
             }
            },
            "type": "scatterpolargl"
           }
          ],
          "scatterternary": [
           {
            "marker": {
             "colorbar": {
              "outlinewidth": 0,
              "ticks": ""
             }
            },
            "type": "scatterternary"
           }
          ],
          "surface": [
           {
            "colorbar": {
             "outlinewidth": 0,
             "ticks": ""
            },
            "colorscale": [
             [
              0,
              "#0d0887"
             ],
             [
              0.1111111111111111,
              "#46039f"
             ],
             [
              0.2222222222222222,
              "#7201a8"
             ],
             [
              0.3333333333333333,
              "#9c179e"
             ],
             [
              0.4444444444444444,
              "#bd3786"
             ],
             [
              0.5555555555555556,
              "#d8576b"
             ],
             [
              0.6666666666666666,
              "#ed7953"
             ],
             [
              0.7777777777777778,
              "#fb9f3a"
             ],
             [
              0.8888888888888888,
              "#fdca26"
             ],
             [
              1,
              "#f0f921"
             ]
            ],
            "type": "surface"
           }
          ],
          "table": [
           {
            "cells": {
             "fill": {
              "color": "#506784"
             },
             "line": {
              "color": "rgb(17,17,17)"
             }
            },
            "header": {
             "fill": {
              "color": "#2a3f5f"
             },
             "line": {
              "color": "rgb(17,17,17)"
             }
            },
            "type": "table"
           }
          ]
         },
         "layout": {
          "annotationdefaults": {
           "arrowcolor": "#f2f5fa",
           "arrowhead": 0,
           "arrowwidth": 1
          },
          "autotypenumbers": "strict",
          "coloraxis": {
           "colorbar": {
            "outlinewidth": 0,
            "ticks": ""
           }
          },
          "colorscale": {
           "diverging": [
            [
             0,
             "#8e0152"
            ],
            [
             0.1,
             "#c51b7d"
            ],
            [
             0.2,
             "#de77ae"
            ],
            [
             0.3,
             "#f1b6da"
            ],
            [
             0.4,
             "#fde0ef"
            ],
            [
             0.5,
             "#f7f7f7"
            ],
            [
             0.6,
             "#e6f5d0"
            ],
            [
             0.7,
             "#b8e186"
            ],
            [
             0.8,
             "#7fbc41"
            ],
            [
             0.9,
             "#4d9221"
            ],
            [
             1,
             "#276419"
            ]
           ],
           "sequential": [
            [
             0,
             "#0d0887"
            ],
            [
             0.1111111111111111,
             "#46039f"
            ],
            [
             0.2222222222222222,
             "#7201a8"
            ],
            [
             0.3333333333333333,
             "#9c179e"
            ],
            [
             0.4444444444444444,
             "#bd3786"
            ],
            [
             0.5555555555555556,
             "#d8576b"
            ],
            [
             0.6666666666666666,
             "#ed7953"
            ],
            [
             0.7777777777777778,
             "#fb9f3a"
            ],
            [
             0.8888888888888888,
             "#fdca26"
            ],
            [
             1,
             "#f0f921"
            ]
           ],
           "sequentialminus": [
            [
             0,
             "#0d0887"
            ],
            [
             0.1111111111111111,
             "#46039f"
            ],
            [
             0.2222222222222222,
             "#7201a8"
            ],
            [
             0.3333333333333333,
             "#9c179e"
            ],
            [
             0.4444444444444444,
             "#bd3786"
            ],
            [
             0.5555555555555556,
             "#d8576b"
            ],
            [
             0.6666666666666666,
             "#ed7953"
            ],
            [
             0.7777777777777778,
             "#fb9f3a"
            ],
            [
             0.8888888888888888,
             "#fdca26"
            ],
            [
             1,
             "#f0f921"
            ]
           ]
          },
          "colorway": [
           "#636efa",
           "#EF553B",
           "#00cc96",
           "#ab63fa",
           "#FFA15A",
           "#19d3f3",
           "#FF6692",
           "#B6E880",
           "#FF97FF",
           "#FECB52"
          ],
          "font": {
           "color": "#f2f5fa"
          },
          "geo": {
           "bgcolor": "rgb(17,17,17)",
           "lakecolor": "rgb(17,17,17)",
           "landcolor": "rgb(17,17,17)",
           "showlakes": true,
           "showland": true,
           "subunitcolor": "#506784"
          },
          "hoverlabel": {
           "align": "left"
          },
          "hovermode": "closest",
          "mapbox": {
           "style": "dark"
          },
          "paper_bgcolor": "rgb(17,17,17)",
          "plot_bgcolor": "rgb(17,17,17)",
          "polar": {
           "angularaxis": {
            "gridcolor": "#506784",
            "linecolor": "#506784",
            "ticks": ""
           },
           "bgcolor": "rgb(17,17,17)",
           "radialaxis": {
            "gridcolor": "#506784",
            "linecolor": "#506784",
            "ticks": ""
           }
          },
          "scene": {
           "xaxis": {
            "backgroundcolor": "rgb(17,17,17)",
            "gridcolor": "#506784",
            "gridwidth": 2,
            "linecolor": "#506784",
            "showbackground": true,
            "ticks": "",
            "zerolinecolor": "#C8D4E3"
           },
           "yaxis": {
            "backgroundcolor": "rgb(17,17,17)",
            "gridcolor": "#506784",
            "gridwidth": 2,
            "linecolor": "#506784",
            "showbackground": true,
            "ticks": "",
            "zerolinecolor": "#C8D4E3"
           },
           "zaxis": {
            "backgroundcolor": "rgb(17,17,17)",
            "gridcolor": "#506784",
            "gridwidth": 2,
            "linecolor": "#506784",
            "showbackground": true,
            "ticks": "",
            "zerolinecolor": "#C8D4E3"
           }
          },
          "shapedefaults": {
           "line": {
            "color": "#f2f5fa"
           }
          },
          "sliderdefaults": {
           "bgcolor": "#C8D4E3",
           "bordercolor": "rgb(17,17,17)",
           "borderwidth": 1,
           "tickwidth": 0
          },
          "ternary": {
           "aaxis": {
            "gridcolor": "#506784",
            "linecolor": "#506784",
            "ticks": ""
           },
           "baxis": {
            "gridcolor": "#506784",
            "linecolor": "#506784",
            "ticks": ""
           },
           "bgcolor": "rgb(17,17,17)",
           "caxis": {
            "gridcolor": "#506784",
            "linecolor": "#506784",
            "ticks": ""
           }
          },
          "title": {
           "x": 0.05
          },
          "updatemenudefaults": {
           "bgcolor": "#506784",
           "borderwidth": 0
          },
          "xaxis": {
           "automargin": true,
           "gridcolor": "#283442",
           "linecolor": "#506784",
           "ticks": "",
           "title": {
            "standoff": 15
           },
           "zerolinecolor": "#283442",
           "zerolinewidth": 2
          },
          "yaxis": {
           "automargin": true,
           "gridcolor": "#283442",
           "linecolor": "#506784",
           "ticks": "",
           "title": {
            "standoff": 15
           },
           "zerolinecolor": "#283442",
           "zerolinewidth": 2
          }
         }
        },
        "title": {
         "text": "Duration Map"
        }
       }
      }
     },
     "metadata": {},
     "output_type": "display_data"
    }
   ],
   "source": [
    "import plotly.express as px\n",
    "df = px.data.wind()\n",
    "fig = px.bar_polar(df_polar, r=\"duration\", theta=\"uploader\",\n",
    "                   color=\"uploader\",color_discrete_map= {'ABN': 'yellow','TV5': 'gold', 'Sakshi':'red' , 'TV9':'blue'},log_r=False, title='Duration Map', template=\"plotly_dark\")\n",
    "fig.show()"
   ]
  },
  {
   "cell_type": "code",
   "execution_count": 41,
   "metadata": {},
   "outputs": [
    {
     "data": {
      "application/vnd.plotly.v1+json": {
       "config": {
        "plotlyServerURL": "https://plot.ly"
       },
       "data": [
        {
         "fill": "toself",
         "name": "Product A",
         "r": [
          1,
          5,
          2,
          2,
          3
         ],
         "theta": [
          "processing cost",
          "mechanical properties",
          "chemical stability",
          "thermal stability",
          "device integration"
         ],
         "type": "scatterpolar"
        },
        {
         "fill": "toself",
         "name": "Product B",
         "r": [
          4,
          3,
          2.5,
          1,
          2
         ],
         "theta": [
          "processing cost",
          "mechanical properties",
          "chemical stability",
          "thermal stability",
          "device integration"
         ],
         "type": "scatterpolar"
        }
       ],
       "layout": {
        "polar": {
         "radialaxis": {
          "range": [
           0,
           5
          ],
          "visible": true
         }
        },
        "showlegend": false,
        "template": {
         "data": {
          "bar": [
           {
            "error_x": {
             "color": "#2a3f5f"
            },
            "error_y": {
             "color": "#2a3f5f"
            },
            "marker": {
             "line": {
              "color": "#E5ECF6",
              "width": 0.5
             },
             "pattern": {
              "fillmode": "overlay",
              "size": 10,
              "solidity": 0.2
             }
            },
            "type": "bar"
           }
          ],
          "barpolar": [
           {
            "marker": {
             "line": {
              "color": "#E5ECF6",
              "width": 0.5
             },
             "pattern": {
              "fillmode": "overlay",
              "size": 10,
              "solidity": 0.2
             }
            },
            "type": "barpolar"
           }
          ],
          "carpet": [
           {
            "aaxis": {
             "endlinecolor": "#2a3f5f",
             "gridcolor": "white",
             "linecolor": "white",
             "minorgridcolor": "white",
             "startlinecolor": "#2a3f5f"
            },
            "baxis": {
             "endlinecolor": "#2a3f5f",
             "gridcolor": "white",
             "linecolor": "white",
             "minorgridcolor": "white",
             "startlinecolor": "#2a3f5f"
            },
            "type": "carpet"
           }
          ],
          "choropleth": [
           {
            "colorbar": {
             "outlinewidth": 0,
             "ticks": ""
            },
            "type": "choropleth"
           }
          ],
          "contour": [
           {
            "colorbar": {
             "outlinewidth": 0,
             "ticks": ""
            },
            "colorscale": [
             [
              0,
              "#0d0887"
             ],
             [
              0.1111111111111111,
              "#46039f"
             ],
             [
              0.2222222222222222,
              "#7201a8"
             ],
             [
              0.3333333333333333,
              "#9c179e"
             ],
             [
              0.4444444444444444,
              "#bd3786"
             ],
             [
              0.5555555555555556,
              "#d8576b"
             ],
             [
              0.6666666666666666,
              "#ed7953"
             ],
             [
              0.7777777777777778,
              "#fb9f3a"
             ],
             [
              0.8888888888888888,
              "#fdca26"
             ],
             [
              1,
              "#f0f921"
             ]
            ],
            "type": "contour"
           }
          ],
          "contourcarpet": [
           {
            "colorbar": {
             "outlinewidth": 0,
             "ticks": ""
            },
            "type": "contourcarpet"
           }
          ],
          "heatmap": [
           {
            "colorbar": {
             "outlinewidth": 0,
             "ticks": ""
            },
            "colorscale": [
             [
              0,
              "#0d0887"
             ],
             [
              0.1111111111111111,
              "#46039f"
             ],
             [
              0.2222222222222222,
              "#7201a8"
             ],
             [
              0.3333333333333333,
              "#9c179e"
             ],
             [
              0.4444444444444444,
              "#bd3786"
             ],
             [
              0.5555555555555556,
              "#d8576b"
             ],
             [
              0.6666666666666666,
              "#ed7953"
             ],
             [
              0.7777777777777778,
              "#fb9f3a"
             ],
             [
              0.8888888888888888,
              "#fdca26"
             ],
             [
              1,
              "#f0f921"
             ]
            ],
            "type": "heatmap"
           }
          ],
          "heatmapgl": [
           {
            "colorbar": {
             "outlinewidth": 0,
             "ticks": ""
            },
            "colorscale": [
             [
              0,
              "#0d0887"
             ],
             [
              0.1111111111111111,
              "#46039f"
             ],
             [
              0.2222222222222222,
              "#7201a8"
             ],
             [
              0.3333333333333333,
              "#9c179e"
             ],
             [
              0.4444444444444444,
              "#bd3786"
             ],
             [
              0.5555555555555556,
              "#d8576b"
             ],
             [
              0.6666666666666666,
              "#ed7953"
             ],
             [
              0.7777777777777778,
              "#fb9f3a"
             ],
             [
              0.8888888888888888,
              "#fdca26"
             ],
             [
              1,
              "#f0f921"
             ]
            ],
            "type": "heatmapgl"
           }
          ],
          "histogram": [
           {
            "marker": {
             "pattern": {
              "fillmode": "overlay",
              "size": 10,
              "solidity": 0.2
             }
            },
            "type": "histogram"
           }
          ],
          "histogram2d": [
           {
            "colorbar": {
             "outlinewidth": 0,
             "ticks": ""
            },
            "colorscale": [
             [
              0,
              "#0d0887"
             ],
             [
              0.1111111111111111,
              "#46039f"
             ],
             [
              0.2222222222222222,
              "#7201a8"
             ],
             [
              0.3333333333333333,
              "#9c179e"
             ],
             [
              0.4444444444444444,
              "#bd3786"
             ],
             [
              0.5555555555555556,
              "#d8576b"
             ],
             [
              0.6666666666666666,
              "#ed7953"
             ],
             [
              0.7777777777777778,
              "#fb9f3a"
             ],
             [
              0.8888888888888888,
              "#fdca26"
             ],
             [
              1,
              "#f0f921"
             ]
            ],
            "type": "histogram2d"
           }
          ],
          "histogram2dcontour": [
           {
            "colorbar": {
             "outlinewidth": 0,
             "ticks": ""
            },
            "colorscale": [
             [
              0,
              "#0d0887"
             ],
             [
              0.1111111111111111,
              "#46039f"
             ],
             [
              0.2222222222222222,
              "#7201a8"
             ],
             [
              0.3333333333333333,
              "#9c179e"
             ],
             [
              0.4444444444444444,
              "#bd3786"
             ],
             [
              0.5555555555555556,
              "#d8576b"
             ],
             [
              0.6666666666666666,
              "#ed7953"
             ],
             [
              0.7777777777777778,
              "#fb9f3a"
             ],
             [
              0.8888888888888888,
              "#fdca26"
             ],
             [
              1,
              "#f0f921"
             ]
            ],
            "type": "histogram2dcontour"
           }
          ],
          "mesh3d": [
           {
            "colorbar": {
             "outlinewidth": 0,
             "ticks": ""
            },
            "type": "mesh3d"
           }
          ],
          "parcoords": [
           {
            "line": {
             "colorbar": {
              "outlinewidth": 0,
              "ticks": ""
             }
            },
            "type": "parcoords"
           }
          ],
          "pie": [
           {
            "automargin": true,
            "type": "pie"
           }
          ],
          "scatter": [
           {
            "fillpattern": {
             "fillmode": "overlay",
             "size": 10,
             "solidity": 0.2
            },
            "type": "scatter"
           }
          ],
          "scatter3d": [
           {
            "line": {
             "colorbar": {
              "outlinewidth": 0,
              "ticks": ""
             }
            },
            "marker": {
             "colorbar": {
              "outlinewidth": 0,
              "ticks": ""
             }
            },
            "type": "scatter3d"
           }
          ],
          "scattercarpet": [
           {
            "marker": {
             "colorbar": {
              "outlinewidth": 0,
              "ticks": ""
             }
            },
            "type": "scattercarpet"
           }
          ],
          "scattergeo": [
           {
            "marker": {
             "colorbar": {
              "outlinewidth": 0,
              "ticks": ""
             }
            },
            "type": "scattergeo"
           }
          ],
          "scattergl": [
           {
            "marker": {
             "colorbar": {
              "outlinewidth": 0,
              "ticks": ""
             }
            },
            "type": "scattergl"
           }
          ],
          "scattermapbox": [
           {
            "marker": {
             "colorbar": {
              "outlinewidth": 0,
              "ticks": ""
             }
            },
            "type": "scattermapbox"
           }
          ],
          "scatterpolar": [
           {
            "marker": {
             "colorbar": {
              "outlinewidth": 0,
              "ticks": ""
             }
            },
            "type": "scatterpolar"
           }
          ],
          "scatterpolargl": [
           {
            "marker": {
             "colorbar": {
              "outlinewidth": 0,
              "ticks": ""
             }
            },
            "type": "scatterpolargl"
           }
          ],
          "scatterternary": [
           {
            "marker": {
             "colorbar": {
              "outlinewidth": 0,
              "ticks": ""
             }
            },
            "type": "scatterternary"
           }
          ],
          "surface": [
           {
            "colorbar": {
             "outlinewidth": 0,
             "ticks": ""
            },
            "colorscale": [
             [
              0,
              "#0d0887"
             ],
             [
              0.1111111111111111,
              "#46039f"
             ],
             [
              0.2222222222222222,
              "#7201a8"
             ],
             [
              0.3333333333333333,
              "#9c179e"
             ],
             [
              0.4444444444444444,
              "#bd3786"
             ],
             [
              0.5555555555555556,
              "#d8576b"
             ],
             [
              0.6666666666666666,
              "#ed7953"
             ],
             [
              0.7777777777777778,
              "#fb9f3a"
             ],
             [
              0.8888888888888888,
              "#fdca26"
             ],
             [
              1,
              "#f0f921"
             ]
            ],
            "type": "surface"
           }
          ],
          "table": [
           {
            "cells": {
             "fill": {
              "color": "#EBF0F8"
             },
             "line": {
              "color": "white"
             }
            },
            "header": {
             "fill": {
              "color": "#C8D4E3"
             },
             "line": {
              "color": "white"
             }
            },
            "type": "table"
           }
          ]
         },
         "layout": {
          "annotationdefaults": {
           "arrowcolor": "#2a3f5f",
           "arrowhead": 0,
           "arrowwidth": 1
          },
          "autotypenumbers": "strict",
          "coloraxis": {
           "colorbar": {
            "outlinewidth": 0,
            "ticks": ""
           }
          },
          "colorscale": {
           "diverging": [
            [
             0,
             "#8e0152"
            ],
            [
             0.1,
             "#c51b7d"
            ],
            [
             0.2,
             "#de77ae"
            ],
            [
             0.3,
             "#f1b6da"
            ],
            [
             0.4,
             "#fde0ef"
            ],
            [
             0.5,
             "#f7f7f7"
            ],
            [
             0.6,
             "#e6f5d0"
            ],
            [
             0.7,
             "#b8e186"
            ],
            [
             0.8,
             "#7fbc41"
            ],
            [
             0.9,
             "#4d9221"
            ],
            [
             1,
             "#276419"
            ]
           ],
           "sequential": [
            [
             0,
             "#0d0887"
            ],
            [
             0.1111111111111111,
             "#46039f"
            ],
            [
             0.2222222222222222,
             "#7201a8"
            ],
            [
             0.3333333333333333,
             "#9c179e"
            ],
            [
             0.4444444444444444,
             "#bd3786"
            ],
            [
             0.5555555555555556,
             "#d8576b"
            ],
            [
             0.6666666666666666,
             "#ed7953"
            ],
            [
             0.7777777777777778,
             "#fb9f3a"
            ],
            [
             0.8888888888888888,
             "#fdca26"
            ],
            [
             1,
             "#f0f921"
            ]
           ],
           "sequentialminus": [
            [
             0,
             "#0d0887"
            ],
            [
             0.1111111111111111,
             "#46039f"
            ],
            [
             0.2222222222222222,
             "#7201a8"
            ],
            [
             0.3333333333333333,
             "#9c179e"
            ],
            [
             0.4444444444444444,
             "#bd3786"
            ],
            [
             0.5555555555555556,
             "#d8576b"
            ],
            [
             0.6666666666666666,
             "#ed7953"
            ],
            [
             0.7777777777777778,
             "#fb9f3a"
            ],
            [
             0.8888888888888888,
             "#fdca26"
            ],
            [
             1,
             "#f0f921"
            ]
           ]
          },
          "colorway": [
           "#636efa",
           "#EF553B",
           "#00cc96",
           "#ab63fa",
           "#FFA15A",
           "#19d3f3",
           "#FF6692",
           "#B6E880",
           "#FF97FF",
           "#FECB52"
          ],
          "font": {
           "color": "#2a3f5f"
          },
          "geo": {
           "bgcolor": "white",
           "lakecolor": "white",
           "landcolor": "#E5ECF6",
           "showlakes": true,
           "showland": true,
           "subunitcolor": "white"
          },
          "hoverlabel": {
           "align": "left"
          },
          "hovermode": "closest",
          "mapbox": {
           "style": "light"
          },
          "paper_bgcolor": "white",
          "plot_bgcolor": "#E5ECF6",
          "polar": {
           "angularaxis": {
            "gridcolor": "white",
            "linecolor": "white",
            "ticks": ""
           },
           "bgcolor": "#E5ECF6",
           "radialaxis": {
            "gridcolor": "white",
            "linecolor": "white",
            "ticks": ""
           }
          },
          "scene": {
           "xaxis": {
            "backgroundcolor": "#E5ECF6",
            "gridcolor": "white",
            "gridwidth": 2,
            "linecolor": "white",
            "showbackground": true,
            "ticks": "",
            "zerolinecolor": "white"
           },
           "yaxis": {
            "backgroundcolor": "#E5ECF6",
            "gridcolor": "white",
            "gridwidth": 2,
            "linecolor": "white",
            "showbackground": true,
            "ticks": "",
            "zerolinecolor": "white"
           },
           "zaxis": {
            "backgroundcolor": "#E5ECF6",
            "gridcolor": "white",
            "gridwidth": 2,
            "linecolor": "white",
            "showbackground": true,
            "ticks": "",
            "zerolinecolor": "white"
           }
          },
          "shapedefaults": {
           "line": {
            "color": "#2a3f5f"
           }
          },
          "ternary": {
           "aaxis": {
            "gridcolor": "white",
            "linecolor": "white",
            "ticks": ""
           },
           "baxis": {
            "gridcolor": "white",
            "linecolor": "white",
            "ticks": ""
           },
           "bgcolor": "#E5ECF6",
           "caxis": {
            "gridcolor": "white",
            "linecolor": "white",
            "ticks": ""
           }
          },
          "title": {
           "x": 0.05
          },
          "xaxis": {
           "automargin": true,
           "gridcolor": "white",
           "linecolor": "white",
           "ticks": "",
           "title": {
            "standoff": 15
           },
           "zerolinecolor": "white",
           "zerolinewidth": 2
          },
          "yaxis": {
           "automargin": true,
           "gridcolor": "white",
           "linecolor": "white",
           "ticks": "",
           "title": {
            "standoff": 15
           },
           "zerolinecolor": "white",
           "zerolinewidth": 2
          }
         }
        }
       }
      }
     },
     "metadata": {},
     "output_type": "display_data"
    }
   ],
   "source": [
    "import plotly.graph_objects as go\n",
    "\n",
    "categories = ['processing cost','mechanical properties','chemical stability',\n",
    "              'thermal stability', 'device integration']\n",
    "\n",
    "fig = go.Figure()\n",
    "\n",
    "fig.add_trace(go.Scatterpolar(\n",
    "      r=[1, 5, 2, 2, 3],\n",
    "      theta=categories,\n",
    "      fill='toself',\n",
    "      name='Product A'\n",
    "))\n",
    "fig.add_trace(go.Scatterpolar(\n",
    "      r=[4, 3, 2.5, 1, 2],\n",
    "      theta=categories,\n",
    "      fill='toself',\n",
    "      name='Product B'\n",
    "))\n",
    "\n",
    "fig.update_layout(\n",
    "  polar=dict(\n",
    "    radialaxis=dict(\n",
    "      visible=True,\n",
    "      range=[0, 5]\n",
    "    )),\n",
    "  showlegend=False\n",
    ")\n",
    "\n",
    "fig.show()"
   ]
  },
  {
   "cell_type": "code",
   "execution_count": 16,
   "metadata": {},
   "outputs": [],
   "source": []
  },
  {
   "cell_type": "code",
   "execution_count": 17,
   "metadata": {},
   "outputs": [
    {
     "data": {
      "application/vnd.plotly.v1+json": {
       "config": {
        "plotlyServerURL": "https://plot.ly"
       },
       "data": [
        {
         "hovertemplate": "uploader=ABN<br>upload_date=%{x}<br>view_count=%{y}<extra></extra>",
         "legendgroup": "ABN",
         "line": {
          "color": "#636efa",
          "dash": "solid"
         },
         "marker": {
          "symbol": "circle"
         },
         "mode": "lines",
         "name": "ABN",
         "orientation": "v",
         "showlegend": true,
         "type": "scatter",
         "x": [
          "2022-11-02",
          "2022-11-03",
          "2022-11-04",
          "2022-11-05",
          "2022-11-06",
          "2022-11-07",
          "2022-11-08",
          "2022-11-10",
          "2022-11-11",
          "2022-11-13",
          "2022-11-14",
          "2022-11-15",
          "2022-11-16",
          "2022-11-17",
          "2022-11-18",
          "2022-11-21",
          "2022-11-22",
          "2022-11-23",
          "2022-11-24",
          "2022-11-26",
          "2022-11-27",
          "2022-11-28",
          "2022-11-29",
          "2022-11-30",
          "2022-12-01",
          "2022-12-03",
          "2022-12-04",
          "2022-12-05",
          "2022-12-06",
          "2022-12-07",
          "2022-12-08",
          "2022-12-10",
          "2022-12-12",
          "2022-12-13",
          "2022-12-14",
          "2022-12-15",
          "2022-12-16",
          "2022-12-17",
          "2022-12-18",
          "2022-12-19",
          "2022-12-20",
          "2022-12-21",
          "2022-12-22",
          "2022-12-23",
          "2022-12-24",
          "2022-12-25",
          "2022-12-26",
          "2022-12-27",
          "2022-12-28",
          "2022-12-29",
          "2022-12-30",
          "2022-12-31",
          "2023-01-01",
          "2023-01-02",
          "2023-01-03",
          "2023-01-04",
          "2023-01-05",
          "2023-01-06",
          "2023-01-07",
          "2023-01-08",
          "2023-01-09",
          "2023-01-10",
          "2023-01-11",
          "2023-01-12",
          "2023-01-13",
          "2023-01-14",
          "2023-01-15",
          "2023-01-16",
          "2023-01-17",
          "2023-01-18",
          "2023-01-19",
          "2023-01-20",
          "2023-01-21",
          "2023-01-24",
          "2023-01-25",
          "2023-01-26",
          "2023-01-27",
          "2023-01-28",
          "2023-01-29",
          "2023-01-30",
          "2023-01-31",
          "2023-02-01",
          "2023-02-02",
          "2023-02-03",
          "2023-02-04",
          "2023-02-05",
          "2023-02-06",
          "2023-02-07",
          "2023-02-08",
          "2023-02-09",
          "2023-02-11",
          "2023-02-12",
          "2023-02-13",
          "2023-02-15",
          "2023-02-16",
          "2023-02-18",
          "2023-02-19",
          "2023-02-20",
          "2023-02-21",
          "2023-02-22",
          "2023-02-23",
          "2023-02-24",
          "2023-02-25",
          "2023-02-28",
          "2023-03-01",
          "2023-03-02",
          "2023-03-03",
          "2023-03-04",
          "2023-03-05",
          "2023-03-06",
          "2023-03-07",
          "2023-03-08",
          "2023-03-09",
          "2023-03-10",
          "2023-03-14",
          "2023-03-16",
          "2023-03-17",
          "2023-03-18",
          "2023-03-19",
          "2023-03-20",
          "2023-03-21",
          "2023-03-22",
          "2023-03-23",
          "2023-03-24",
          "2023-03-25",
          "2023-03-26",
          "2023-03-27",
          "2023-03-29",
          "2023-03-30",
          "2023-03-31",
          "2023-04-01",
          "2023-04-02",
          "2023-04-03",
          "2023-04-04",
          "2023-04-05",
          "2023-04-06",
          "2023-04-07",
          "2023-04-09",
          "2023-04-10",
          "2023-04-12",
          "2023-04-13",
          "2023-04-14",
          "2023-04-15",
          "2023-04-16",
          "2023-04-17",
          "2023-04-18",
          "2023-04-19",
          "2023-04-20",
          "2023-04-22"
         ],
         "xaxis": "x",
         "y": [
          12926.35,
          20828.9,
          37570.1,
          6722.15,
          51758.9,
          10536.55,
          8435.7,
          23552.55,
          69851.55,
          42613.8,
          7256.75,
          13570.150000000001,
          25225.95,
          8502.650000000001,
          54538.299999999996,
          7415.7,
          41461.95,
          38787.85,
          19099.1,
          78879.55,
          7428.55,
          14224.3,
          100289.75,
          12361.55,
          3213.55,
          3240.6,
          3263.3,
          9820.45,
          63930.75,
          4651.6,
          11929.6,
          63040.75,
          126525,
          76391.1,
          60927.95,
          13689.25,
          55638.3,
          7152,
          15298.9,
          67921.1,
          29368.25,
          17038.85,
          21284.6,
          8522.900000000001,
          19481.65,
          4957.9,
          24164.35,
          84970.35,
          59945.35,
          104319.55,
          79350.55,
          47863.1,
          104473.9,
          72818.35,
          125207.4,
          194289.8,
          25330.95,
          93782.45,
          73494.3,
          64715,
          277335.8,
          43081.7,
          27815.05,
          35100.95,
          36530.3,
          12709.35,
          32232.9,
          36709.6,
          78057.9,
          56766.1,
          82943.8,
          17248.449999999997,
          21913.35,
          84945.95,
          27288.5,
          34809.6,
          8975.7,
          12110.6,
          8038.5,
          61341.1,
          101609.5,
          79958.3,
          25386.5,
          20411.15,
          16038.65,
          9614.9,
          163500.55,
          73870.6,
          18528.65,
          231666.75,
          103818.55,
          20735.35,
          58242.4,
          107610.1,
          28027.9,
          103818.8,
          37104.2,
          11836.6,
          155852.75,
          205170.85,
          154266.4,
          100025.29999999999,
          23677.1,
          24202.949999999997,
          41580.85,
          28301.199999999997,
          170061.55,
          42789.7,
          15162.25,
          30992.05,
          15062.05,
          7251.9,
          14802.050000000001,
          11711.8,
          8205.95,
          97241.4,
          76216.4,
          68004.85,
          18336.15,
          4800.8,
          14935.2,
          9251.8,
          21155.2,
          27783.3,
          49430.55,
          41393.1,
          275150.95,
          48994.35,
          40986.95,
          44116,
          9156.75,
          37872.25,
          14204.45,
          36590.8,
          12242.75,
          24319.9,
          11062.85,
          11148.15,
          21477.65,
          21508.3,
          10704.45,
          47713,
          22124.35,
          26552.45,
          5444.55,
          6619,
          28410.55,
          48751.65,
          33056.45
         ],
         "yaxis": "y"
        },
        {
         "hovertemplate": "uploader=Sakshi<br>upload_date=%{x}<br>view_count=%{y}<extra></extra>",
         "legendgroup": "Sakshi",
         "line": {
          "color": "#EF553B",
          "dash": "solid"
         },
         "marker": {
          "symbol": "circle"
         },
         "mode": "lines",
         "name": "Sakshi",
         "orientation": "v",
         "showlegend": true,
         "type": "scatter",
         "x": [
          "2022-11-02",
          "2022-11-04",
          "2022-11-09",
          "2022-11-12",
          "2022-11-13",
          "2022-11-16",
          "2022-11-19",
          "2022-11-23",
          "2022-11-24",
          "2022-11-25",
          "2022-11-26",
          "2022-11-28",
          "2022-11-29",
          "2022-11-30",
          "2022-12-02",
          "2022-12-03",
          "2022-12-04",
          "2022-12-05",
          "2022-12-06",
          "2022-12-10",
          "2022-12-11",
          "2022-12-12",
          "2022-12-14",
          "2022-12-17",
          "2022-12-18",
          "2022-12-19",
          "2022-12-20",
          "2022-12-21",
          "2022-12-26",
          "2022-12-27",
          "2022-12-28",
          "2022-12-29",
          "2022-12-30",
          "2023-01-01",
          "2023-01-04",
          "2023-01-05",
          "2023-01-06",
          "2023-01-07",
          "2023-01-08",
          "2023-01-09",
          "2023-01-13",
          "2023-01-15",
          "2023-01-17",
          "2023-01-18",
          "2023-01-20",
          "2023-01-21",
          "2023-01-22",
          "2023-01-25",
          "2023-01-26",
          "2023-01-28",
          "2023-01-29",
          "2023-01-31",
          "2023-02-02",
          "2023-02-03",
          "2023-02-04",
          "2023-02-05",
          "2023-02-06",
          "2023-02-09",
          "2023-02-10",
          "2023-02-15",
          "2023-02-16",
          "2023-02-17",
          "2023-02-24",
          "2023-02-25",
          "2023-02-28",
          "2023-03-07",
          "2023-03-10",
          "2023-03-11",
          "2023-03-12",
          "2023-03-14",
          "2023-03-15",
          "2023-03-17",
          "2023-03-18",
          "2023-03-19",
          "2023-03-23",
          "2023-03-24",
          "2023-03-25",
          "2023-03-31",
          "2023-04-04",
          "2023-04-05",
          "2023-04-08",
          "2023-04-10",
          "2023-04-15",
          "2023-04-17",
          "2023-04-19",
          "2023-04-20",
          "2023-04-22"
         ],
         "xaxis": "x",
         "y": [
          51025.649999999994,
          20494.05,
          19733.55,
          59858.100000000006,
          40031.85,
          129077.4,
          47864.3,
          46921.15,
          46876.9,
          43733.05,
          41363.4,
          92545.79999999999,
          46439.75,
          92571.5,
          46069,
          40948.95,
          42754.6,
          42748.15,
          65020.05,
          45216.1,
          16001.6,
          16006.35,
          23589.15,
          14664.25,
          15558.5,
          15454.35,
          10321.15,
          11762.9,
          11540,
          22802.95,
          22612.35,
          9157.65,
          9296.75,
          19502.6,
          20008.1,
          9758.55,
          29631.65,
          7009.3,
          6213.9,
          6275.85,
          15948,
          4995.35,
          5159.45,
          5956.75,
          13482.150000000001,
          15025.099999999999,
          18494.9,
          9226.45,
          36940.05,
          55383.1,
          48599.15,
          49199.05,
          99703.65,
          109302.35,
          200989.1,
          150571.95,
          84681.1,
          165368.7,
          165055.5,
          163903.35,
          87375.75,
          57300.85,
          101698.45000000001,
          50386.1,
          52321.45,
          96370.7,
          36230.3,
          72609.4,
          35567.65,
          17705,
          17008.25,
          16901.2,
          16580.85,
          16484.5,
          14000.2,
          15720.7,
          40213,
          17903.5,
          18330.2,
          20258.5,
          20399.2,
          31693.1,
          33049.7,
          32553.9,
          32558.15,
          33819.9,
          34861.7
         ],
         "yaxis": "y"
        },
        {
         "hovertemplate": "uploader=TV5<br>upload_date=%{x}<br>view_count=%{y}<extra></extra>",
         "legendgroup": "TV5",
         "line": {
          "color": "#00cc96",
          "dash": "solid"
         },
         "marker": {
          "symbol": "circle"
         },
         "mode": "lines",
         "name": "TV5",
         "orientation": "v",
         "showlegend": true,
         "type": "scatter",
         "x": [
          "2022-11-02",
          "2022-11-03",
          "2022-11-06",
          "2022-11-07",
          "2022-11-08",
          "2022-11-09",
          "2022-11-10",
          "2022-11-12",
          "2022-11-13",
          "2022-11-14",
          "2022-11-15",
          "2022-11-16",
          "2022-11-17",
          "2022-11-19",
          "2022-11-20",
          "2022-11-21",
          "2022-11-22",
          "2022-11-23",
          "2022-11-24",
          "2022-11-26",
          "2022-11-28",
          "2022-12-04",
          "2022-12-05",
          "2022-12-08",
          "2022-12-10",
          "2022-12-12",
          "2022-12-14",
          "2022-12-15",
          "2022-12-17",
          "2022-12-18",
          "2022-12-19",
          "2022-12-28",
          "2022-12-29",
          "2022-12-31",
          "2023-01-02",
          "2023-01-03",
          "2023-01-04",
          "2023-01-05",
          "2023-01-06",
          "2023-01-09",
          "2023-01-10",
          "2023-01-12",
          "2023-01-16",
          "2023-01-17",
          "2023-01-19",
          "2023-01-20",
          "2023-01-23",
          "2023-01-24",
          "2023-01-25",
          "2023-01-26",
          "2023-01-28",
          "2023-01-29",
          "2023-01-30",
          "2023-01-31",
          "2023-02-01",
          "2023-02-02",
          "2023-02-04",
          "2023-02-05",
          "2023-02-06",
          "2023-02-07",
          "2023-02-08",
          "2023-02-10",
          "2023-02-11",
          "2023-02-13",
          "2023-02-14",
          "2023-02-15",
          "2023-02-16",
          "2023-02-20",
          "2023-02-22",
          "2023-02-23",
          "2023-02-25",
          "2023-02-26",
          "2023-02-27",
          "2023-03-01",
          "2023-03-02",
          "2023-03-05",
          "2023-03-10",
          "2023-03-11",
          "2023-03-14",
          "2023-03-15",
          "2023-03-17",
          "2023-03-18",
          "2023-03-20",
          "2023-03-21",
          "2023-03-24",
          "2023-03-25",
          "2023-03-28",
          "2023-03-31",
          "2023-04-03",
          "2023-04-05",
          "2023-04-06",
          "2023-04-07",
          "2023-04-08",
          "2023-04-10",
          "2023-04-11",
          "2023-04-12",
          "2023-04-13",
          "2023-04-14",
          "2023-04-15",
          "2023-04-16",
          "2023-04-17",
          "2023-04-18",
          "2023-04-19",
          "2023-04-21"
         ],
         "xaxis": "x",
         "y": [
          42152.399999999994,
          42417.7,
          24005.300000000003,
          8060.1,
          8047.7,
          16139.8,
          8213.7,
          267426.5,
          80234.8,
          306882.1,
          218369.1,
          333530.15,
          225676.35,
          229177.3,
          118490.5,
          118459.05,
          238360.65000000002,
          212240.3,
          30608.6,
          29333.35,
          29936.5,
          65483.7,
          39616.05,
          18055.5,
          52200.4,
          16932.65,
          16876.35,
          73866.6,
          41334.350000000006,
          17981.4,
          68766.85,
          38724.5,
          56519.3,
          71692.2,
          21928,
          20182.45,
          65401.649999999994,
          22339.15,
          22513.05,
          46731.149999999994,
          91345.4,
          113442.54999999999,
          26605.699999999997,
          14076.15,
          13701.15,
          37385.25,
          24029.85,
          10837.65,
          9812.85,
          52496.9,
          59496.3,
          24322.55,
          66289.75,
          138035.95,
          35961.3,
          261940.95,
          39129.2,
          28631.8,
          26650.15,
          72822.85,
          23799.1,
          55183.35,
          15505,
          31268.35,
          15222.55,
          15169.6,
          15764.75,
          75623.2,
          57418.2,
          55508.8,
          28233.15,
          54891.8,
          26779.35,
          24835.05,
          71330.75,
          21790.15,
          44696.25,
          44445.95,
          21262.85,
          7094.8,
          20128.9,
          20639.1,
          10570.15,
          10446.1,
          10503.3,
          25075.75,
          25876.9,
          50983.95,
          24700.45,
          95871.1,
          23389.1,
          23037.4,
          22052.6,
          40490.5,
          18647.85,
          18553.85,
          34880,
          25772.95,
          36594.95,
          11103.5,
          22678.65,
          12175.8,
          12305.5,
          12408.95
         ],
         "yaxis": "y"
        },
        {
         "hovertemplate": "uploader=TV9<br>upload_date=%{x}<br>view_count=%{y}<extra></extra>",
         "legendgroup": "TV9",
         "line": {
          "color": "#ab63fa",
          "dash": "solid"
         },
         "marker": {
          "symbol": "circle"
         },
         "mode": "lines",
         "name": "TV9",
         "orientation": "v",
         "showlegend": true,
         "type": "scatter",
         "x": [
          "2022-11-19",
          "2022-11-20",
          "2022-11-21",
          "2022-11-22",
          "2022-11-23",
          "2022-11-24",
          "2022-11-25",
          "2022-11-27",
          "2022-11-28",
          "2022-11-29",
          "2022-11-30",
          "2022-12-01",
          "2022-12-02",
          "2022-12-03",
          "2022-12-04",
          "2022-12-05",
          "2022-12-06",
          "2022-12-07",
          "2022-12-09",
          "2022-12-10",
          "2022-12-11",
          "2022-12-12",
          "2022-12-13",
          "2022-12-14",
          "2022-12-16",
          "2022-12-17",
          "2022-12-18",
          "2022-12-19",
          "2022-12-20",
          "2022-12-21",
          "2022-12-22",
          "2022-12-23",
          "2022-12-24",
          "2022-12-25",
          "2022-12-26",
          "2022-12-27",
          "2022-12-28",
          "2022-12-29",
          "2022-12-30",
          "2022-12-31",
          "2023-01-01",
          "2023-01-02",
          "2023-01-03",
          "2023-01-04",
          "2023-01-06",
          "2023-01-07",
          "2023-01-08",
          "2023-01-09",
          "2023-01-10",
          "2023-01-11",
          "2023-01-12",
          "2023-01-13",
          "2023-01-14",
          "2023-01-15",
          "2023-01-16",
          "2023-01-17",
          "2023-01-18",
          "2023-01-19",
          "2023-01-20",
          "2023-01-21",
          "2023-01-22",
          "2023-01-23",
          "2023-01-24",
          "2023-01-25",
          "2023-01-26",
          "2023-01-27",
          "2023-01-28",
          "2023-01-29",
          "2023-01-30",
          "2023-01-31",
          "2023-02-01",
          "2023-02-02",
          "2023-02-03",
          "2023-02-04",
          "2023-02-05",
          "2023-02-06",
          "2023-02-07",
          "2023-02-08",
          "2023-02-09",
          "2023-02-11",
          "2023-02-12",
          "2023-02-13",
          "2023-02-14",
          "2023-02-15",
          "2023-02-16",
          "2023-02-17",
          "2023-02-18",
          "2023-02-19",
          "2023-02-20",
          "2023-02-21",
          "2023-02-23",
          "2023-02-24",
          "2023-02-25",
          "2023-02-26",
          "2023-02-27",
          "2023-02-28",
          "2023-03-01",
          "2023-03-02",
          "2023-03-03",
          "2023-03-04",
          "2023-03-05",
          "2023-03-06",
          "2023-03-07",
          "2023-03-08",
          "2023-03-09",
          "2023-03-10",
          "2023-03-11",
          "2023-03-13",
          "2023-03-14",
          "2023-03-15",
          "2023-03-16",
          "2023-03-17",
          "2023-03-18",
          "2023-03-19",
          "2023-03-20",
          "2023-03-21",
          "2023-03-22",
          "2023-03-23",
          "2023-03-24",
          "2023-03-25",
          "2023-03-26",
          "2023-03-27",
          "2023-03-28",
          "2023-03-29",
          "2023-03-30",
          "2023-03-31",
          "2023-04-01",
          "2023-04-02",
          "2023-04-03",
          "2023-04-06",
          "2023-04-07",
          "2023-04-08",
          "2023-04-09",
          "2023-04-10",
          "2023-04-12",
          "2023-04-13",
          "2023-04-14",
          "2023-04-15",
          "2023-04-16",
          "2023-04-17",
          "2023-04-18",
          "2023-04-19",
          "2023-04-20",
          "2023-04-21",
          "2023-04-22"
         ],
         "xaxis": "x",
         "y": [
          2082.6,
          2082.75,
          12410.2,
          3610.25,
          11553.3,
          11710.05,
          6379,
          6281,
          76762.15,
          50444.3,
          17583.35,
          47475.85,
          34536.05,
          78392.75,
          10155.5,
          10152.55,
          8402.65,
          8478.05,
          29908.2,
          45672.4,
          71140.65,
          21385.45,
          46178.95,
          7483.049999999999,
          29413.4,
          25820.6,
          25755.15,
          40600.8,
          145033.85,
          300315.55,
          179074.05,
          148762.05,
          5741.4,
          14670,
          28888.699999999997,
          6298.05,
          10931.35,
          13483.3,
          26714,
          27324,
          40738,
          123694.2,
          85209.95,
          8294.5,
          12284.1,
          32903.75,
          10802.25,
          37554.35,
          28891.4,
          43857.85,
          87563.65,
          48568.5,
          8634.5,
          11334.65,
          12076.95,
          11976.4,
          300716.55,
          42602.95,
          256362.45,
          126656.25,
          130330.2,
          6031.25,
          3185.9,
          18286.800000000003,
          34831.95,
          40801.4,
          12723.3,
          26509.15,
          46956.5,
          62658.4,
          68040.15,
          62524.1,
          52673.25,
          115182.35,
          73068.2,
          24680.65,
          108509.05,
          69771.6,
          35488.3,
          25960.5,
          58539.5,
          101622.85,
          136972.45,
          191529.45,
          36208,
          53000.700000000004,
          39209.65,
          8431.15,
          33016.6,
          27611.2,
          17609.6,
          56334.45,
          45053.35,
          28440.3,
          29340.2,
          54342.05,
          13025.85,
          59688.350000000006,
          7125.85,
          31685.5,
          13082.25,
          6096.3,
          21281.95,
          77639.85,
          5308.35,
          48665.8,
          6517.15,
          7244.15,
          4123.65,
          4123.55,
          13803.400000000001,
          38788.45,
          28081,
          8585.2,
          25821.6,
          28623.25,
          10079,
          9180.7,
          31668.45,
          14971.8,
          3994.3,
          8213.85,
          8472.05,
          4363.25,
          8393.95,
          12938.5,
          19749.6,
          3610.6,
          7231.1,
          7302,
          18356.5,
          15577.15,
          9204.35,
          10603.95,
          4948.9,
          11006.1,
          65045.55,
          49715.8,
          29672.5,
          19629.7,
          23069.85,
          31745,
          21981.9,
          35079.95,
          11846.25
         ],
         "yaxis": "y"
        }
       ],
       "layout": {
        "legend": {
         "title": {
          "text": "uploader"
         },
         "tracegroupgap": 0
        },
        "margin": {
         "t": 60
        },
        "template": {
         "data": {
          "bar": [
           {
            "error_x": {
             "color": "#2a3f5f"
            },
            "error_y": {
             "color": "#2a3f5f"
            },
            "marker": {
             "line": {
              "color": "#E5ECF6",
              "width": 0.5
             },
             "pattern": {
              "fillmode": "overlay",
              "size": 10,
              "solidity": 0.2
             }
            },
            "type": "bar"
           }
          ],
          "barpolar": [
           {
            "marker": {
             "line": {
              "color": "#E5ECF6",
              "width": 0.5
             },
             "pattern": {
              "fillmode": "overlay",
              "size": 10,
              "solidity": 0.2
             }
            },
            "type": "barpolar"
           }
          ],
          "carpet": [
           {
            "aaxis": {
             "endlinecolor": "#2a3f5f",
             "gridcolor": "white",
             "linecolor": "white",
             "minorgridcolor": "white",
             "startlinecolor": "#2a3f5f"
            },
            "baxis": {
             "endlinecolor": "#2a3f5f",
             "gridcolor": "white",
             "linecolor": "white",
             "minorgridcolor": "white",
             "startlinecolor": "#2a3f5f"
            },
            "type": "carpet"
           }
          ],
          "choropleth": [
           {
            "colorbar": {
             "outlinewidth": 0,
             "ticks": ""
            },
            "type": "choropleth"
           }
          ],
          "contour": [
           {
            "colorbar": {
             "outlinewidth": 0,
             "ticks": ""
            },
            "colorscale": [
             [
              0,
              "#0d0887"
             ],
             [
              0.1111111111111111,
              "#46039f"
             ],
             [
              0.2222222222222222,
              "#7201a8"
             ],
             [
              0.3333333333333333,
              "#9c179e"
             ],
             [
              0.4444444444444444,
              "#bd3786"
             ],
             [
              0.5555555555555556,
              "#d8576b"
             ],
             [
              0.6666666666666666,
              "#ed7953"
             ],
             [
              0.7777777777777778,
              "#fb9f3a"
             ],
             [
              0.8888888888888888,
              "#fdca26"
             ],
             [
              1,
              "#f0f921"
             ]
            ],
            "type": "contour"
           }
          ],
          "contourcarpet": [
           {
            "colorbar": {
             "outlinewidth": 0,
             "ticks": ""
            },
            "type": "contourcarpet"
           }
          ],
          "heatmap": [
           {
            "colorbar": {
             "outlinewidth": 0,
             "ticks": ""
            },
            "colorscale": [
             [
              0,
              "#0d0887"
             ],
             [
              0.1111111111111111,
              "#46039f"
             ],
             [
              0.2222222222222222,
              "#7201a8"
             ],
             [
              0.3333333333333333,
              "#9c179e"
             ],
             [
              0.4444444444444444,
              "#bd3786"
             ],
             [
              0.5555555555555556,
              "#d8576b"
             ],
             [
              0.6666666666666666,
              "#ed7953"
             ],
             [
              0.7777777777777778,
              "#fb9f3a"
             ],
             [
              0.8888888888888888,
              "#fdca26"
             ],
             [
              1,
              "#f0f921"
             ]
            ],
            "type": "heatmap"
           }
          ],
          "heatmapgl": [
           {
            "colorbar": {
             "outlinewidth": 0,
             "ticks": ""
            },
            "colorscale": [
             [
              0,
              "#0d0887"
             ],
             [
              0.1111111111111111,
              "#46039f"
             ],
             [
              0.2222222222222222,
              "#7201a8"
             ],
             [
              0.3333333333333333,
              "#9c179e"
             ],
             [
              0.4444444444444444,
              "#bd3786"
             ],
             [
              0.5555555555555556,
              "#d8576b"
             ],
             [
              0.6666666666666666,
              "#ed7953"
             ],
             [
              0.7777777777777778,
              "#fb9f3a"
             ],
             [
              0.8888888888888888,
              "#fdca26"
             ],
             [
              1,
              "#f0f921"
             ]
            ],
            "type": "heatmapgl"
           }
          ],
          "histogram": [
           {
            "marker": {
             "pattern": {
              "fillmode": "overlay",
              "size": 10,
              "solidity": 0.2
             }
            },
            "type": "histogram"
           }
          ],
          "histogram2d": [
           {
            "colorbar": {
             "outlinewidth": 0,
             "ticks": ""
            },
            "colorscale": [
             [
              0,
              "#0d0887"
             ],
             [
              0.1111111111111111,
              "#46039f"
             ],
             [
              0.2222222222222222,
              "#7201a8"
             ],
             [
              0.3333333333333333,
              "#9c179e"
             ],
             [
              0.4444444444444444,
              "#bd3786"
             ],
             [
              0.5555555555555556,
              "#d8576b"
             ],
             [
              0.6666666666666666,
              "#ed7953"
             ],
             [
              0.7777777777777778,
              "#fb9f3a"
             ],
             [
              0.8888888888888888,
              "#fdca26"
             ],
             [
              1,
              "#f0f921"
             ]
            ],
            "type": "histogram2d"
           }
          ],
          "histogram2dcontour": [
           {
            "colorbar": {
             "outlinewidth": 0,
             "ticks": ""
            },
            "colorscale": [
             [
              0,
              "#0d0887"
             ],
             [
              0.1111111111111111,
              "#46039f"
             ],
             [
              0.2222222222222222,
              "#7201a8"
             ],
             [
              0.3333333333333333,
              "#9c179e"
             ],
             [
              0.4444444444444444,
              "#bd3786"
             ],
             [
              0.5555555555555556,
              "#d8576b"
             ],
             [
              0.6666666666666666,
              "#ed7953"
             ],
             [
              0.7777777777777778,
              "#fb9f3a"
             ],
             [
              0.8888888888888888,
              "#fdca26"
             ],
             [
              1,
              "#f0f921"
             ]
            ],
            "type": "histogram2dcontour"
           }
          ],
          "mesh3d": [
           {
            "colorbar": {
             "outlinewidth": 0,
             "ticks": ""
            },
            "type": "mesh3d"
           }
          ],
          "parcoords": [
           {
            "line": {
             "colorbar": {
              "outlinewidth": 0,
              "ticks": ""
             }
            },
            "type": "parcoords"
           }
          ],
          "pie": [
           {
            "automargin": true,
            "type": "pie"
           }
          ],
          "scatter": [
           {
            "fillpattern": {
             "fillmode": "overlay",
             "size": 10,
             "solidity": 0.2
            },
            "type": "scatter"
           }
          ],
          "scatter3d": [
           {
            "line": {
             "colorbar": {
              "outlinewidth": 0,
              "ticks": ""
             }
            },
            "marker": {
             "colorbar": {
              "outlinewidth": 0,
              "ticks": ""
             }
            },
            "type": "scatter3d"
           }
          ],
          "scattercarpet": [
           {
            "marker": {
             "colorbar": {
              "outlinewidth": 0,
              "ticks": ""
             }
            },
            "type": "scattercarpet"
           }
          ],
          "scattergeo": [
           {
            "marker": {
             "colorbar": {
              "outlinewidth": 0,
              "ticks": ""
             }
            },
            "type": "scattergeo"
           }
          ],
          "scattergl": [
           {
            "marker": {
             "colorbar": {
              "outlinewidth": 0,
              "ticks": ""
             }
            },
            "type": "scattergl"
           }
          ],
          "scattermapbox": [
           {
            "marker": {
             "colorbar": {
              "outlinewidth": 0,
              "ticks": ""
             }
            },
            "type": "scattermapbox"
           }
          ],
          "scatterpolar": [
           {
            "marker": {
             "colorbar": {
              "outlinewidth": 0,
              "ticks": ""
             }
            },
            "type": "scatterpolar"
           }
          ],
          "scatterpolargl": [
           {
            "marker": {
             "colorbar": {
              "outlinewidth": 0,
              "ticks": ""
             }
            },
            "type": "scatterpolargl"
           }
          ],
          "scatterternary": [
           {
            "marker": {
             "colorbar": {
              "outlinewidth": 0,
              "ticks": ""
             }
            },
            "type": "scatterternary"
           }
          ],
          "surface": [
           {
            "colorbar": {
             "outlinewidth": 0,
             "ticks": ""
            },
            "colorscale": [
             [
              0,
              "#0d0887"
             ],
             [
              0.1111111111111111,
              "#46039f"
             ],
             [
              0.2222222222222222,
              "#7201a8"
             ],
             [
              0.3333333333333333,
              "#9c179e"
             ],
             [
              0.4444444444444444,
              "#bd3786"
             ],
             [
              0.5555555555555556,
              "#d8576b"
             ],
             [
              0.6666666666666666,
              "#ed7953"
             ],
             [
              0.7777777777777778,
              "#fb9f3a"
             ],
             [
              0.8888888888888888,
              "#fdca26"
             ],
             [
              1,
              "#f0f921"
             ]
            ],
            "type": "surface"
           }
          ],
          "table": [
           {
            "cells": {
             "fill": {
              "color": "#EBF0F8"
             },
             "line": {
              "color": "white"
             }
            },
            "header": {
             "fill": {
              "color": "#C8D4E3"
             },
             "line": {
              "color": "white"
             }
            },
            "type": "table"
           }
          ]
         },
         "layout": {
          "annotationdefaults": {
           "arrowcolor": "#2a3f5f",
           "arrowhead": 0,
           "arrowwidth": 1
          },
          "autotypenumbers": "strict",
          "coloraxis": {
           "colorbar": {
            "outlinewidth": 0,
            "ticks": ""
           }
          },
          "colorscale": {
           "diverging": [
            [
             0,
             "#8e0152"
            ],
            [
             0.1,
             "#c51b7d"
            ],
            [
             0.2,
             "#de77ae"
            ],
            [
             0.3,
             "#f1b6da"
            ],
            [
             0.4,
             "#fde0ef"
            ],
            [
             0.5,
             "#f7f7f7"
            ],
            [
             0.6,
             "#e6f5d0"
            ],
            [
             0.7,
             "#b8e186"
            ],
            [
             0.8,
             "#7fbc41"
            ],
            [
             0.9,
             "#4d9221"
            ],
            [
             1,
             "#276419"
            ]
           ],
           "sequential": [
            [
             0,
             "#0d0887"
            ],
            [
             0.1111111111111111,
             "#46039f"
            ],
            [
             0.2222222222222222,
             "#7201a8"
            ],
            [
             0.3333333333333333,
             "#9c179e"
            ],
            [
             0.4444444444444444,
             "#bd3786"
            ],
            [
             0.5555555555555556,
             "#d8576b"
            ],
            [
             0.6666666666666666,
             "#ed7953"
            ],
            [
             0.7777777777777778,
             "#fb9f3a"
            ],
            [
             0.8888888888888888,
             "#fdca26"
            ],
            [
             1,
             "#f0f921"
            ]
           ],
           "sequentialminus": [
            [
             0,
             "#0d0887"
            ],
            [
             0.1111111111111111,
             "#46039f"
            ],
            [
             0.2222222222222222,
             "#7201a8"
            ],
            [
             0.3333333333333333,
             "#9c179e"
            ],
            [
             0.4444444444444444,
             "#bd3786"
            ],
            [
             0.5555555555555556,
             "#d8576b"
            ],
            [
             0.6666666666666666,
             "#ed7953"
            ],
            [
             0.7777777777777778,
             "#fb9f3a"
            ],
            [
             0.8888888888888888,
             "#fdca26"
            ],
            [
             1,
             "#f0f921"
            ]
           ]
          },
          "colorway": [
           "#636efa",
           "#EF553B",
           "#00cc96",
           "#ab63fa",
           "#FFA15A",
           "#19d3f3",
           "#FF6692",
           "#B6E880",
           "#FF97FF",
           "#FECB52"
          ],
          "font": {
           "color": "#2a3f5f"
          },
          "geo": {
           "bgcolor": "white",
           "lakecolor": "white",
           "landcolor": "#E5ECF6",
           "showlakes": true,
           "showland": true,
           "subunitcolor": "white"
          },
          "hoverlabel": {
           "align": "left"
          },
          "hovermode": "closest",
          "mapbox": {
           "style": "light"
          },
          "paper_bgcolor": "white",
          "plot_bgcolor": "#E5ECF6",
          "polar": {
           "angularaxis": {
            "gridcolor": "white",
            "linecolor": "white",
            "ticks": ""
           },
           "bgcolor": "#E5ECF6",
           "radialaxis": {
            "gridcolor": "white",
            "linecolor": "white",
            "ticks": ""
           }
          },
          "scene": {
           "xaxis": {
            "backgroundcolor": "#E5ECF6",
            "gridcolor": "white",
            "gridwidth": 2,
            "linecolor": "white",
            "showbackground": true,
            "ticks": "",
            "zerolinecolor": "white"
           },
           "yaxis": {
            "backgroundcolor": "#E5ECF6",
            "gridcolor": "white",
            "gridwidth": 2,
            "linecolor": "white",
            "showbackground": true,
            "ticks": "",
            "zerolinecolor": "white"
           },
           "zaxis": {
            "backgroundcolor": "#E5ECF6",
            "gridcolor": "white",
            "gridwidth": 2,
            "linecolor": "white",
            "showbackground": true,
            "ticks": "",
            "zerolinecolor": "white"
           }
          },
          "shapedefaults": {
           "line": {
            "color": "#2a3f5f"
           }
          },
          "ternary": {
           "aaxis": {
            "gridcolor": "white",
            "linecolor": "white",
            "ticks": ""
           },
           "baxis": {
            "gridcolor": "white",
            "linecolor": "white",
            "ticks": ""
           },
           "bgcolor": "#E5ECF6",
           "caxis": {
            "gridcolor": "white",
            "linecolor": "white",
            "ticks": ""
           }
          },
          "title": {
           "x": 0.05
          },
          "xaxis": {
           "automargin": true,
           "gridcolor": "white",
           "linecolor": "white",
           "ticks": "",
           "title": {
            "standoff": 15
           },
           "zerolinecolor": "white",
           "zerolinewidth": 2
          },
          "yaxis": {
           "automargin": true,
           "gridcolor": "white",
           "linecolor": "white",
           "ticks": "",
           "title": {
            "standoff": 15
           },
           "zerolinecolor": "white",
           "zerolinewidth": 2
          }
         }
        },
        "xaxis": {
         "anchor": "y",
         "domain": [
          0,
          1
         ],
         "title": {
          "text": "upload_date"
         }
        },
        "yaxis": {
         "anchor": "x",
         "domain": [
          0,
          1
         ],
         "title": {
          "text": "view_count"
         },
         "type": "log"
        }
       }
      }
     },
     "metadata": {},
     "output_type": "display_data"
    }
   ],
   "source": [
    "import folium\n",
    "import pandas as pd\n",
    "from folium.plugins import HeatMap\n",
    "import numpy as np\n",
    "import plotly.express as px\n",
    "\n",
    "fig = px.line(df_plot, x=\"upload_date\", y=\"view_count\", color='uploader', log_y=True)\n",
    "fig.show()"
   ]
  },
  {
   "cell_type": "code",
   "execution_count": null,
   "metadata": {},
   "outputs": [],
   "source": []
  },
  {
   "cell_type": "code",
   "execution_count": 140,
   "metadata": {},
   "outputs": [],
   "source": [
    "\n",
    "df_attr = pd.read_excel('UIdata/alphapolitica_faces_attributes_coords.xlsx')\n",
    "id_dict = dict(zip(df_attr.Name, df_attr.image_id))\n",
    "location_dict =  dict(zip(df_attr.Name, df_attr.coords))\n"
   ]
  },
  {
   "cell_type": "code",
   "execution_count": 214,
   "metadata": {},
   "outputs": [
    {
     "data": {
      "text/html": [
       "<div>\n",
       "<style scoped>\n",
       "    .dataframe tbody tr th:only-of-type {\n",
       "        vertical-align: middle;\n",
       "    }\n",
       "\n",
       "    .dataframe tbody tr th {\n",
       "        vertical-align: top;\n",
       "    }\n",
       "\n",
       "    .dataframe thead th {\n",
       "        text-align: right;\n",
       "    }\n",
       "</style>\n",
       "<table border=\"1\" class=\"dataframe\">\n",
       "  <thead>\n",
       "    <tr style=\"text-align: right;\">\n",
       "      <th></th>\n",
       "      <th>image_id</th>\n",
       "      <th>Name</th>\n",
       "      <th>Designation</th>\n",
       "      <th>party</th>\n",
       "      <th>Age</th>\n",
       "      <th>Gender</th>\n",
       "      <th>constituency</th>\n",
       "      <th>coords</th>\n",
       "    </tr>\n",
       "  </thead>\n",
       "  <tbody>\n",
       "    <tr>\n",
       "      <th>0</th>\n",
       "      <td>ichanapuram.png</td>\n",
       "      <td>Ashok Bendalam</td>\n",
       "      <td>MLA</td>\n",
       "      <td>TDP</td>\n",
       "      <td>37</td>\n",
       "      <td>M</td>\n",
       "      <td>Ichchapuram</td>\n",
       "      <td>19.1153,84.6852</td>\n",
       "    </tr>\n",
       "    <tr>\n",
       "      <th>1</th>\n",
       "      <td>palasa.png</td>\n",
       "      <td>Seediri Appalaraju</td>\n",
       "      <td>Minister</td>\n",
       "      <td>YSRCP</td>\n",
       "      <td>42</td>\n",
       "      <td>M</td>\n",
       "      <td>Palasa</td>\n",
       "      <td>18.773095,84.407830</td>\n",
       "    </tr>\n",
       "    <tr>\n",
       "      <th>2</th>\n",
       "      <td>tekkali.png</td>\n",
       "      <td>Kinjarapu Atchannaidu</td>\n",
       "      <td>MLA</td>\n",
       "      <td>TDP</td>\n",
       "      <td>43</td>\n",
       "      <td>M</td>\n",
       "      <td>Tekkali</td>\n",
       "      <td>18.6058,84.2302</td>\n",
       "    </tr>\n",
       "    <tr>\n",
       "      <th>3</th>\n",
       "      <td>pathapatnam.png</td>\n",
       "      <td>Reddy Shanthi</td>\n",
       "      <td>MLA</td>\n",
       "      <td>YSRCP</td>\n",
       "      <td>54</td>\n",
       "      <td>F</td>\n",
       "      <td>Pathapatnam</td>\n",
       "      <td>18.7505,84.0916</td>\n",
       "    </tr>\n",
       "    <tr>\n",
       "      <th>4</th>\n",
       "      <td>srikakulam.png</td>\n",
       "      <td>Dharmana Prasada Rao</td>\n",
       "      <td>MLA</td>\n",
       "      <td>YSRCP</td>\n",
       "      <td>65</td>\n",
       "      <td>M</td>\n",
       "      <td>Srikakulam</td>\n",
       "      <td>18.2949,83.8938</td>\n",
       "    </tr>\n",
       "    <tr>\n",
       "      <th>...</th>\n",
       "      <td>...</td>\n",
       "      <td>...</td>\n",
       "      <td>...</td>\n",
       "      <td>...</td>\n",
       "      <td>...</td>\n",
       "      <td>...</td>\n",
       "      <td>...</td>\n",
       "      <td>...</td>\n",
       "    </tr>\n",
       "    <tr>\n",
       "      <th>221</th>\n",
       "      <td>gosala_srinivas.png</td>\n",
       "      <td>Gosala Sreenivasa Rao</td>\n",
       "      <td>Advocate</td>\n",
       "      <td>MEDIA</td>\n",
       "      <td>37</td>\n",
       "      <td>M</td>\n",
       "      <td>NaN</td>\n",
       "      <td>0,0</td>\n",
       "    </tr>\n",
       "    <tr>\n",
       "      <th>222</th>\n",
       "      <td>posani.png</td>\n",
       "      <td>Posani Krishna Murali</td>\n",
       "      <td>PR</td>\n",
       "      <td>YSRCP</td>\n",
       "      <td>65</td>\n",
       "      <td>M</td>\n",
       "      <td>NaN</td>\n",
       "      <td>0,0</td>\n",
       "    </tr>\n",
       "    <tr>\n",
       "      <th>223</th>\n",
       "      <td>ramkumar_reddy.png</td>\n",
       "      <td>Nedurumalli RamKumar Reddy</td>\n",
       "      <td>Party Representative</td>\n",
       "      <td>YSRCP</td>\n",
       "      <td>54</td>\n",
       "      <td>M</td>\n",
       "      <td>NaN</td>\n",
       "      <td>0,0</td>\n",
       "    </tr>\n",
       "    <tr>\n",
       "      <th>224</th>\n",
       "      <td>lokesh.png</td>\n",
       "      <td>N lokesh</td>\n",
       "      <td>Opposition</td>\n",
       "      <td>TDP</td>\n",
       "      <td>40</td>\n",
       "      <td>M</td>\n",
       "      <td>NaN</td>\n",
       "      <td>0,0</td>\n",
       "    </tr>\n",
       "    <tr>\n",
       "      <th>225</th>\n",
       "      <td>Pattabhi .png</td>\n",
       "      <td>kommareddy pattabhi ram</td>\n",
       "      <td>Opposition</td>\n",
       "      <td>TDP</td>\n",
       "      <td>54</td>\n",
       "      <td>M</td>\n",
       "      <td>NaN</td>\n",
       "      <td>0,0</td>\n",
       "    </tr>\n",
       "  </tbody>\n",
       "</table>\n",
       "<p>226 rows × 8 columns</p>\n",
       "</div>"
      ],
      "text/plain": [
       "                image_id                        Name           Designation   \n",
       "0        ichanapuram.png              Ashok Bendalam                   MLA  \\\n",
       "1             palasa.png          Seediri Appalaraju              Minister   \n",
       "2            tekkali.png       Kinjarapu Atchannaidu                   MLA   \n",
       "3        pathapatnam.png               Reddy Shanthi                   MLA   \n",
       "4         srikakulam.png        Dharmana Prasada Rao                   MLA   \n",
       "..                   ...                         ...                   ...   \n",
       "221  gosala_srinivas.png       Gosala Sreenivasa Rao              Advocate   \n",
       "222           posani.png       Posani Krishna Murali                    PR   \n",
       "223   ramkumar_reddy.png  Nedurumalli RamKumar Reddy  Party Representative   \n",
       "224           lokesh.png                    N lokesh            Opposition   \n",
       "225        Pattabhi .png     kommareddy pattabhi ram            Opposition   \n",
       "\n",
       "     party  Age Gender constituency               coords  \n",
       "0      TDP   37      M  Ichchapuram      19.1153,84.6852  \n",
       "1    YSRCP   42      M       Palasa  18.773095,84.407830  \n",
       "2      TDP   43      M      Tekkali      18.6058,84.2302  \n",
       "3    YSRCP   54      F  Pathapatnam      18.7505,84.0916  \n",
       "4    YSRCP   65      M   Srikakulam      18.2949,83.8938  \n",
       "..     ...  ...    ...          ...                  ...  \n",
       "221  MEDIA   37      M          NaN                  0,0  \n",
       "222  YSRCP   65      M          NaN                  0,0  \n",
       "223  YSRCP   54      M          NaN                  0,0  \n",
       "224    TDP   40      M          NaN                  0,0  \n",
       "225    TDP   54      M          NaN                  0,0  \n",
       "\n",
       "[226 rows x 8 columns]"
      ]
     },
     "execution_count": 214,
     "metadata": {},
     "output_type": "execute_result"
    }
   ],
   "source": [
    "df_attr"
   ]
  },
  {
   "cell_type": "code",
   "execution_count": 99,
   "metadata": {},
   "outputs": [
    {
     "data": {
      "text/plain": [
       "262"
      ]
     },
     "execution_count": 99,
     "metadata": {},
     "output_type": "execute_result"
    }
   ],
   "source": []
  },
  {
   "cell_type": "code",
   "execution_count": 211,
   "metadata": {},
   "outputs": [
    {
     "data": {
      "application/vnd.plotly.v1+json": {
       "config": {
        "plotlyServerURL": "https://plot.ly"
       },
       "data": [
        {
         "branchvalues": "total",
         "customdata": [
          [
           4.2,
           -0.1764471223577857,
           "TV9"
          ],
          [
           3.7,
           -0.4237003320960213,
           "ABN"
          ],
          [
           0.3,
           -0.7678666928540105,
           "ABN"
          ],
          [
           29.1,
           0.19270376916854612,
           "TV5"
          ],
          [
           11.4,
           0.13951144384783368,
           "Sakshi"
          ],
          [
           3.5,
           -0.27306469605499417,
           "TV5"
          ],
          [
           3.9,
           -0.3965487040663033,
           "ABN"
          ],
          [
           0.4,
           0.39672292706867057,
           "Sakshi"
          ],
          [
           1.1,
           -0.13728554594901302,
           "TV5"
          ],
          [
           1.7,
           -0.12456540273144501,
           "TV9"
          ],
          [
           0.3,
           -0.18430912973236863,
           "TV9"
          ],
          [
           2.5,
           0.11837028377638088,
           "Sakshi"
          ],
          [
           115.8,
           -0.04474662702626913,
           "TV5"
          ],
          [
           0.1,
           -0.5107337991396587,
           "TV9"
          ],
          [
           12.3,
           -0.0837532061553701,
           "ABN"
          ],
          [
           46.9,
           -0.074305053094258,
           "Sakshi"
          ],
          [
           5.7,
           0.13976772202469065,
           "TV9"
          ],
          [
           2.6,
           -0.21692143893904156,
           "TV9"
          ],
          [
           1.7,
           -0.14133819350054566,
           "TV9"
          ],
          [
           7.9,
           -0.5487297057277627,
           "ABN"
          ],
          [
           17,
           -0.3701362324373744,
           "ABN"
          ],
          [
           0.1,
           0.14298543546880996,
           "Sakshi"
          ],
          [
           1.6,
           -0.19730768284053668,
           "TV5"
          ],
          [
           9.7,
           0.33487926686620684,
           "Sakshi"
          ],
          [
           18,
           -0.1338980615566281,
           "TV9"
          ],
          [
           0.8,
           -0.3429191102500723,
           "TV5"
          ],
          [
           81.6,
           0.3799395184610009,
           "Sakshi"
          ],
          [
           53.7,
           -0.22798759919371392,
           "TV5"
          ],
          [
           4.2,
           -0.37704912044348254,
           "ABN"
          ],
          [
           1,
           0.29361325793696524,
           "Sakshi"
          ],
          [
           2.2,
           0.0878444861866043,
           "Sakshi"
          ],
          [
           81.7,
           -0.27544293507698486,
           "TV5"
          ],
          [
           16.5,
           -0.1831458712576506,
           "TV5"
          ],
          [
           7.4,
           -0.1548943983990861,
           "TV9"
          ],
          [
           0.1,
           0.5611924678087234,
           "Sakshi"
          ],
          [
           1,
           -0.5532833454401597,
           "ABN"
          ],
          [
           4.9,
           -0.2198512780220756,
           "TV9"
          ],
          [
           7,
           -0.3856581342505381,
           "ABN"
          ],
          [
           3.7,
           -0.22176368754843007,
           "TV5"
          ],
          [
           13,
           0.3992310950250337,
           "Sakshi"
          ],
          [
           14.5,
           -0.33051774810239043,
           "ABN"
          ],
          [
           1.9,
           -0.21942587439895522,
           "TV9"
          ],
          [
           2.1,
           0.25943045601458614,
           "Sakshi"
          ],
          [
           3.7,
           -0.41183030244249563,
           "TV5"
          ],
          [
           3.8,
           -0.4136699849559415,
           "ABN"
          ],
          [
           1.6,
           -0.47326895956681153,
           "ABN"
          ],
          [
           0.7,
           -0.37977703453594225,
           "TV9"
          ],
          [
           2.5,
           0.3753047659782107,
           "Sakshi"
          ],
          [
           7.5,
           -0.19070863134729923,
           "TV9"
          ],
          [
           18.3,
           -0.5629754630315725,
           "ABN"
          ],
          [
           74.7,
           0.4882063643791314,
           "Sakshi"
          ],
          [
           7.5,
           0.2307482103453171,
           "Sakshi"
          ],
          [
           0.5,
           -0.351474584252746,
           "ABN"
          ],
          [
           7.1,
           0.4890573659668798,
           "Sakshi"
          ],
          [
           0.5,
           -0.015426199991726185,
           "TV9"
          ],
          [
           0.8,
           0.16512329613461213,
           "Sakshi"
          ],
          [
           1.9,
           -0.21967816626032194,
           "ABN"
          ],
          [
           0.8,
           0.12636348605155945,
           "Sakshi"
          ],
          [
           1,
           0.26309694540806305,
           "TV9"
          ],
          [
           11.8,
           -0.07659710579664002,
           "ABN"
          ],
          [
           10.9,
           -0.05047996058032891,
           "TV9"
          ],
          [
           0.6,
           -0.2826767039906447,
           "TV9"
          ],
          [
           113.8,
           -0.3340871927070943,
           "ABN"
          ],
          [
           11.6,
           -0.3508256759270128,
           "TV9"
          ],
          [
           1.3,
           -0.3115192706046884,
           "TV9"
          ],
          [
           15.5,
           -0.4123362190448321,
           "ABN"
          ],
          [
           0.8,
           0.31717283073542774,
           "Sakshi"
          ],
          [
           14.4,
           -0.3707523348869062,
           "ABN"
          ],
          [
           0.2,
           -0.8066960554274302,
           "ABN"
          ],
          [
           0.6,
           -0.09726759098785025,
           "TV9"
          ],
          [
           0.7,
           -0.5682177223057386,
           "ABN"
          ],
          [
           1.7,
           -0.0015953848274742732,
           "Sakshi"
          ],
          [
           87.2,
           -0.23035836664380815,
           "TV5"
          ],
          [
           10.7,
           -0.36166078779077404,
           "ABN"
          ],
          [
           0.4,
           -0.45493179905799125,
           "ABN"
          ],
          [
           0.2,
           -0.22557513182421765,
           "TV9"
          ],
          [
           2.9,
           0.07877442396309481,
           "TV9"
          ],
          [
           12.8,
           -0.13653535281271195,
           "TV5"
          ],
          [
           11.9,
           0.1946309200017759,
           "Sakshi"
          ],
          [
           0.4,
           -0.17377626590239695,
           "ABN"
          ],
          [
           1.9,
           -0.1369298184561037,
           "TV9"
          ],
          [
           2.5,
           0.1080703441960824,
           "Sakshi"
          ],
          [
           6.8,
           -0.01395086457534712,
           "TV5"
          ],
          [
           3.1,
           -0.052685235961202226,
           "TV5"
          ],
          [
           1.1,
           -0.5618837563828989,
           "TV5"
          ],
          [
           1.6,
           -0.12158806858391598,
           "TV5"
          ],
          [
           0.9,
           -0.052439876592036375,
           "TV9"
          ],
          [
           0.4,
           -0.15086336979954879,
           "TV9"
          ],
          [
           0.4,
           -0.3791878579198852,
           "TV5"
          ],
          [
           0.6,
           0.4836215571769606,
           "Sakshi"
          ],
          [
           1,
           -0.3186794719804726,
           "ABN"
          ],
          [
           48.4,
           0.012431056504612164,
           "TV5"
          ],
          [
           1,
           -0.30041274292902514,
           "TV5"
          ],
          [
           1,
           -0.30189968168156817,
           "TV9"
          ],
          [
           3,
           0.22966742953118455,
           "Sakshi"
          ],
          [
           4.1,
           -0.2831475889921556,
           "TV5"
          ],
          [
           4.5,
           -0.15169331694350524,
           "TV9"
          ],
          [
           1.2,
           -0.35444381978585104,
           "TV9"
          ],
          [
           18.2,
           -0.17734516769082592,
           "TV5"
          ],
          [
           9.5,
           0.013230117213012827,
           "Sakshi"
          ],
          [
           1.7,
           -0.45191122404599593,
           "ABN"
          ],
          [
           49.8,
           0.5069031963038884,
           "Sakshi"
          ],
          [
           4.4,
           0.10803578623531644,
           "Sakshi"
          ],
          [
           2.6,
           -0.3715632759513111,
           "ABN"
          ],
          [
           12.8,
           0.1645652895762926,
           "TV5"
          ],
          [
           35.3,
           -0.054152149153419704,
           "TV9"
          ],
          [
           1.3,
           -0.3844503593203184,
           "ABN"
          ],
          [
           0.2,
           0.06508298121489489,
           "TV5"
          ],
          [
           0.9,
           0.039889609592932244,
           "Sakshi"
          ],
          [
           0.4,
           -0.1528880941240411,
           "TV5"
          ],
          [
           1,
           -0.18518793765113864,
           "TV5"
          ],
          [
           3.2,
           -0.28900184432665504,
           "Sakshi"
          ],
          [
           0.6,
           -0.5304406602480258,
           "ABN"
          ],
          [
           0.2,
           -0.6824804807638193,
           "TV5"
          ],
          [
           0.1,
           -0.5170058502870447,
           "ABN"
          ],
          [
           16.9,
           -0.3049922038757172,
           "TV5"
          ],
          [
           5.7,
           -0.4523055090252402,
           "ABN"
          ],
          [
           1,
           0.34174201765964773,
           "Sakshi"
          ],
          [
           11.3,
           0.13484835390129812,
           "TV9"
          ],
          [
           2.9,
           -0.09542988659290785,
           "Sakshi"
          ],
          [
           1.9,
           -0.11524276642335786,
           "TV5"
          ],
          [
           31.1,
           -0.5422498278058487,
           "ABN"
          ],
          [
           29.7,
           -0.4880029856391351,
           "ABN"
          ],
          [
           0.1,
           -0.12019806231061618,
           "TV9"
          ],
          [
           0.6,
           -0.3793642042152374,
           "TV9"
          ],
          [
           8.4,
           -0.1789155200350052,
           "TV5"
          ],
          [
           5.6,
           0.3595693608833618,
           "Sakshi"
          ],
          [
           0.3,
           -0.4617345780134201,
           "ABN"
          ],
          [
           0.4,
           -0.2720895154135568,
           "TV9"
          ],
          [
           2.5,
           0.30111357220658314,
           "Sakshi"
          ],
          [
           2.4,
           -0.16527734985351564,
           "TV5"
          ],
          [
           9.4,
           -0.31245410105132776,
           "TV5"
          ],
          [
           1.4,
           -0.2584278128057156,
           "TV5"
          ],
          [
           1.8,
           -0.3268462552097374,
           "TV9"
          ],
          [
           20.5,
           -0.32140414304122694,
           "ABN"
          ],
          [
           3.9,
           0.5109893586131052,
           "Sakshi"
          ],
          [
           14.3,
           -0.04272000547485768,
           "TV5"
          ],
          [
           2.4,
           -0.8827996018987435,
           "ABN"
          ],
          [
           120.2,
           -0.285345399608112,
           "TV5"
          ],
          [
           0.1,
           0.03333533491407123,
           "TV9"
          ],
          [
           10.9,
           -0.10029728099948068,
           "TV5"
          ],
          [
           2.1,
           0.5098737708983883,
           "Sakshi"
          ],
          [
           0.6,
           -0.03624566147724787,
           "TV9"
          ],
          [
           2,
           -0.420490332406844,
           "ABN"
          ],
          [
           13.1,
           -0.2978301560709989,
           "TV5"
          ],
          [
           1.2,
           -0.3472914184842791,
           "ABN"
          ],
          [
           9.9,
           0.49124299654593834,
           "Sakshi"
          ],
          [
           15.2,
           0.017371065713263845,
           "Sakshi"
          ],
          [
           2.2,
           -0.22273601705047685,
           "TV9"
          ],
          [
           1.4,
           0.6120974903052809,
           "Sakshi"
          ],
          [
           14.7,
           -0.3093821654662961,
           "ABN"
          ],
          [
           27.6,
           0.045819780452337526,
           "Sakshi"
          ],
          [
           3.3,
           -0.2826436972028987,
           "TV9"
          ],
          [
           32.2,
           -0.23083723850020096,
           "TV5"
          ],
          [
           0.1,
           -0.16189351099640575,
           "TV9"
          ],
          [
           8.1,
           -0.44857321634020925,
           "ABN"
          ],
          [
           3,
           -0.24673318073851513,
           "TV5"
          ],
          [
           7.5,
           -0.26189532842946944,
           "TV5"
          ],
          [
           1.2,
           -0.10605189413355108,
           "Sakshi"
          ],
          [
           3.4,
           -0.07985467995650168,
           "TV9"
          ],
          [
           "(?)",
           "(?)",
           "ABN"
          ],
          [
           "(?)",
           "(?)",
           "Sakshi"
          ],
          [
           "(?)",
           "(?)",
           "TV5"
          ],
          [
           "(?)",
           "(?)",
           "TV9"
          ],
          [
           "(?)",
           "(?)",
           "(?)"
          ]
         ],
         "domain": {
          "x": [
           0,
           1
          ],
          "y": [
           0,
           1
          ]
         },
         "hovertemplate": "labels=%{label}<br>view_count=%{value}<br>parent=%{parent}<br>id=%{id}<br>duration=%{customdata[0]}<br>sentiment=%{customdata[1]}<br>uploader=%{customdata[2]}<extra></extra>",
         "ids": [
          "Media/TV9/Sajjala ",
          "Media/ABN/polavaram",
          "Media/ABN/panchayat elections",
          "Media/TV5/nara lokesh",
          "Media/Sakshi/ambati rambabu ",
          "Media/TV5/janasena party",
          "Media/ABN/janasena party",
          "Media/Sakshi/YS Viveka Case",
          "Media/TV5/gudivada amarnath",
          "Media/TV9/YS Viveka Case",
          "Media/TV9/gorantla ",
          "Media/Sakshi/gorantla ",
          "Media/TV5/chandrababu",
          "Media/TV9/Yellow Media",
          "Media/ABN/alliance",
          "Media/Sakshi/chandrababu",
          "Media/TV9/alliance",
          "Media/TV9/ap employees",
          "Media/TV9/amaravati",
          "Media/ABN/ap employees",
          "Media/ABN/raghurama ",
          "Media/Sakshi/raghurama ",
          "Media/TV5/ambati rambabu ",
          "Media/Sakshi/visakha",
          "Media/TV9/ycp",
          "Media/TV5/vizag steel plant",
          "Media/Sakshi/ysrcp",
          "Media/TV5/ysrcp",
          "Media/ABN/visakha",
          "Media/Sakshi/vangalapudi anitha",
          "Media/Sakshi/Kuppam",
          "Media/TV5/ycp",
          "Media/TV5/Kuppam",
          "Media/TV9/ysrcp",
          "Media/Sakshi/MLC Elections 2023",
          "Media/ABN/tdp pattabhi",
          "Media/TV9/tdp",
          "Media/ABN/tdp",
          "Media/TV5/tdp pattabhi",
          "Media/Sakshi/ycp",
          "Media/ABN/yuvagalam",
          "Media/TV9/ap assembly session today",
          "Media/Sakshi/ap employees",
          "Media/TV5/ap assembly session today",
          "Media/ABN/ap assembly session today",
          "Media/ABN/byreddy siddharth reddy",
          "Media/TV9/ambati rambabu ",
          "Media/Sakshi/byreddy siddharth reddy",
          "Media/TV9/schemes",
          "Media/ABN/cm jagan",
          "Media/Sakshi/cm jagan",
          "Media/Sakshi/schemes",
          "Media/ABN/gudivada amarnath",
          "Media/Sakshi/gudivada amarnath",
          "Media/TV9/gudivada amarnath",
          "Media/Sakshi/high court",
          "Media/ABN/jr ntr",
          "Media/Sakshi/tdp pattabhi",
          "Media/TV9/jr ntr",
          "Media/ABN/nara lokesh",
          "Media/TV9/pawan kalyan",
          "Media/TV9/vizag steel plant",
          "Media/ABN/AP ",
          "Media/TV9/chandrababu",
          "Media/TV9/ambati rambabu",
          "Media/ABN/YS Viveka Case",
          "Media/Sakshi/Gadapa Gadapaku ",
          "Media/ABN/Sajjala ",
          "Media/ABN/Gadapa Gadapaku ",
          "Media/TV9/Atchannaidu",
          "Media/ABN/ambati rambabu ",
          "Media/Sakshi/Ramoji Rao",
          "Media/TV5/AP ",
          "Media/ABN/Kuppam",
          "Media/ABN/Ramoji Rao",
          "Media/TV9/MLC Elections 2023",
          "Media/TV9/Kuppam",
          "Media/TV5/amaravati",
          "Media/Sakshi/ambati rambabu",
          "Media/ABN/MLC Elections 2023",
          "Media/TV9/janasena party",
          "Media/Sakshi/jr ntr",
          "Media/TV5/jr ntr",
          "Media/TV5/Sajjala ",
          "Media/TV5/Gadapa Gadapaku ",
          "Media/TV5/MLC Elections 2023",
          "Media/TV9/vangalapudi anitha",
          "Media/TV9/Ramoji Rao",
          "Media/TV5/panchayat elections",
          "Media/Sakshi/Vidadala Rajini",
          "Media/ABN/vangalapudi anitha",
          "Media/TV5/pawan kalyan",
          "Media/TV5/Ramoji Rao",
          "Media/TV9/Peddireddy ",
          "Media/Sakshi/polavaram",
          "Media/TV5/polavaram",
          "Media/TV9/visakha",
          "Media/TV9/high court",
          "Media/TV5/tdp",
          "Media/Sakshi/ap assembly session today",
          "Media/ABN/ambati rambabu",
          "Media/Sakshi/AP ",
          "Media/Sakshi/amaravati",
          "Media/ABN/amaravati",
          "Media/TV5/alliance",
          "Media/TV9/AP ",
          "Media/ABN/Atchannaidu",
          "Media/TV5/Yellow Media",
          "Media/Sakshi/Atchannaidu",
          "Media/TV5/Vidadala Rajini",
          "Media/TV5/Atchannaidu",
          "Media/Sakshi/Yellow Media",
          "Media/ABN/gorantla ",
          "Media/TV5/YSRCP Plenary",
          "Media/ABN/YSRCP Plenary",
          "Media/TV5/YS Viveka Case",
          "Media/ABN/high court",
          "Media/Sakshi/vizag steel plant",
          "Media/TV9/cm jagan",
          "Media/Sakshi/tdp",
          "Media/TV5/vangalapudi anitha",
          "Media/ABN/ycp",
          "Media/ABN/ysrcp",
          "Media/TV9/Gadapa Gadapaku ",
          "Media/TV9/tdp pattabhi",
          "Media/TV5/visakha",
          "Media/Sakshi/yuvagalam",
          "Media/ABN/vizag steel plant",
          "Media/TV9/panchayat elections",
          "Media/Sakshi/Peddireddy ",
          "Media/TV5/ambati rambabu",
          "Media/TV5/ap employees",
          "Media/TV5/byreddy siddharth reddy",
          "Media/TV9/byreddy siddharth reddy",
          "Media/ABN/chandrababu",
          "Media/Sakshi/alliance",
          "Media/TV5/yuvagalam",
          "Media/ABN/Yellow Media",
          "Media/TV5/cm jagan",
          "Media/TV9/YSRCP Plenary",
          "Media/TV5/gorantla ",
          "Media/Sakshi/YSRCP Plenary",
          "Media/TV9/Vidadala Rajini",
          "Media/ABN/Peddireddy ",
          "Media/TV5/high court",
          "Media/ABN/Vidadala Rajini",
          "Media/Sakshi/Sajjala ",
          "Media/Sakshi/nara lokesh",
          "Media/TV9/nara lokesh",
          "Media/Sakshi/panchayat elections",
          "Media/ABN/pawan kalyan",
          "Media/Sakshi/pawan kalyan",
          "Media/TV9/polavaram",
          "Media/TV5/raghurama ",
          "Media/TV9/raghurama ",
          "Media/ABN/schemes",
          "Media/TV5/Peddireddy ",
          "Media/TV5/schemes",
          "Media/Sakshi/janasena party",
          "Media/TV9/yuvagalam",
          "Media/ABN",
          "Media/Sakshi",
          "Media/TV5",
          "Media/TV9",
          "Media"
         ],
         "labels": [
          "Sajjala ",
          "polavaram",
          "panchayat elections",
          "nara lokesh",
          "ambati rambabu ",
          "janasena party",
          "janasena party",
          "YS Viveka Case",
          "gudivada amarnath",
          "YS Viveka Case",
          "gorantla ",
          "gorantla ",
          "chandrababu",
          "Yellow Media",
          "alliance",
          "chandrababu",
          "alliance",
          "ap employees",
          "amaravati",
          "ap employees",
          "raghurama ",
          "raghurama ",
          "ambati rambabu ",
          "visakha",
          "ycp",
          "vizag steel plant",
          "ysrcp",
          "ysrcp",
          "visakha",
          "vangalapudi anitha",
          "Kuppam",
          "ycp",
          "Kuppam",
          "ysrcp",
          "MLC Elections 2023",
          "tdp pattabhi",
          "tdp",
          "tdp",
          "tdp pattabhi",
          "ycp",
          "yuvagalam",
          "ap assembly session today",
          "ap employees",
          "ap assembly session today",
          "ap assembly session today",
          "byreddy siddharth reddy",
          "ambati rambabu ",
          "byreddy siddharth reddy",
          "schemes",
          "cm jagan",
          "cm jagan",
          "schemes",
          "gudivada amarnath",
          "gudivada amarnath",
          "gudivada amarnath",
          "high court",
          "jr ntr",
          "tdp pattabhi",
          "jr ntr",
          "nara lokesh",
          "pawan kalyan",
          "vizag steel plant",
          "AP ",
          "chandrababu",
          "ambati rambabu",
          "YS Viveka Case",
          "Gadapa Gadapaku ",
          "Sajjala ",
          "Gadapa Gadapaku ",
          "Atchannaidu",
          "ambati rambabu ",
          "Ramoji Rao",
          "AP ",
          "Kuppam",
          "Ramoji Rao",
          "MLC Elections 2023",
          "Kuppam",
          "amaravati",
          "ambati rambabu",
          "MLC Elections 2023",
          "janasena party",
          "jr ntr",
          "jr ntr",
          "Sajjala ",
          "Gadapa Gadapaku ",
          "MLC Elections 2023",
          "vangalapudi anitha",
          "Ramoji Rao",
          "panchayat elections",
          "Vidadala Rajini",
          "vangalapudi anitha",
          "pawan kalyan",
          "Ramoji Rao",
          "Peddireddy ",
          "polavaram",
          "polavaram",
          "visakha",
          "high court",
          "tdp",
          "ap assembly session today",
          "ambati rambabu",
          "AP ",
          "amaravati",
          "amaravati",
          "alliance",
          "AP ",
          "Atchannaidu",
          "Yellow Media",
          "Atchannaidu",
          "Vidadala Rajini",
          "Atchannaidu",
          "Yellow Media",
          "gorantla ",
          "YSRCP Plenary",
          "YSRCP Plenary",
          "YS Viveka Case",
          "high court",
          "vizag steel plant",
          "cm jagan",
          "tdp",
          "vangalapudi anitha",
          "ycp",
          "ysrcp",
          "Gadapa Gadapaku ",
          "tdp pattabhi",
          "visakha",
          "yuvagalam",
          "vizag steel plant",
          "panchayat elections",
          "Peddireddy ",
          "ambati rambabu",
          "ap employees",
          "byreddy siddharth reddy",
          "byreddy siddharth reddy",
          "chandrababu",
          "alliance",
          "yuvagalam",
          "Yellow Media",
          "cm jagan",
          "YSRCP Plenary",
          "gorantla ",
          "YSRCP Plenary",
          "Vidadala Rajini",
          "Peddireddy ",
          "high court",
          "Vidadala Rajini",
          "Sajjala ",
          "nara lokesh",
          "nara lokesh",
          "panchayat elections",
          "pawan kalyan",
          "pawan kalyan",
          "polavaram",
          "raghurama ",
          "raghurama ",
          "schemes",
          "Peddireddy ",
          "schemes",
          "janasena party",
          "yuvagalam",
          "ABN",
          "Sakshi",
          "TV5",
          "TV9",
          "Media"
         ],
         "marker": {
          "colors": [
           "#0000FF",
           "yellow",
           "yellow",
           "gold",
           "ff2a26",
           "gold",
           "yellow",
           "ff2a26",
           "gold",
           "#0000FF",
           "#0000FF",
           "ff2a26",
           "gold",
           "#0000FF",
           "yellow",
           "ff2a26",
           "#0000FF",
           "#0000FF",
           "#0000FF",
           "yellow",
           "yellow",
           "ff2a26",
           "gold",
           "ff2a26",
           "#0000FF",
           "gold",
           "ff2a26",
           "gold",
           "yellow",
           "ff2a26",
           "ff2a26",
           "gold",
           "gold",
           "#0000FF",
           "ff2a26",
           "yellow",
           "#0000FF",
           "yellow",
           "gold",
           "ff2a26",
           "yellow",
           "#0000FF",
           "ff2a26",
           "gold",
           "yellow",
           "yellow",
           "#0000FF",
           "ff2a26",
           "#0000FF",
           "yellow",
           "ff2a26",
           "ff2a26",
           "yellow",
           "ff2a26",
           "#0000FF",
           "ff2a26",
           "yellow",
           "ff2a26",
           "#0000FF",
           "yellow",
           "#0000FF",
           "#0000FF",
           "yellow",
           "#0000FF",
           "#0000FF",
           "yellow",
           "ff2a26",
           "yellow",
           "yellow",
           "#0000FF",
           "yellow",
           "ff2a26",
           "gold",
           "yellow",
           "yellow",
           "#0000FF",
           "#0000FF",
           "gold",
           "ff2a26",
           "yellow",
           "#0000FF",
           "ff2a26",
           "gold",
           "gold",
           "gold",
           "gold",
           "#0000FF",
           "#0000FF",
           "gold",
           "ff2a26",
           "yellow",
           "gold",
           "gold",
           "#0000FF",
           "ff2a26",
           "gold",
           "#0000FF",
           "#0000FF",
           "gold",
           "ff2a26",
           "yellow",
           "ff2a26",
           "ff2a26",
           "yellow",
           "gold",
           "#0000FF",
           "yellow",
           "gold",
           "ff2a26",
           "gold",
           "gold",
           "ff2a26",
           "yellow",
           "gold",
           "yellow",
           "gold",
           "yellow",
           "ff2a26",
           "#0000FF",
           "ff2a26",
           "gold",
           "yellow",
           "yellow",
           "#0000FF",
           "#0000FF",
           "gold",
           "ff2a26",
           "yellow",
           "#0000FF",
           "ff2a26",
           "gold",
           "gold",
           "gold",
           "#0000FF",
           "yellow",
           "ff2a26",
           "gold",
           "yellow",
           "gold",
           "#0000FF",
           "gold",
           "ff2a26",
           "#0000FF",
           "yellow",
           "gold",
           "yellow",
           "ff2a26",
           "ff2a26",
           "#0000FF",
           "ff2a26",
           "yellow",
           "ff2a26",
           "#0000FF",
           "gold",
           "#0000FF",
           "yellow",
           "gold",
           "gold",
           "ff2a26",
           "#0000FF",
           "yellow",
           "ff2a26",
           "gold",
           "#0000FF",
           "#FFA15A"
          ],
          "cornerradius": 5
         },
         "name": "",
         "parents": [
          "Media/TV9",
          "Media/ABN",
          "Media/ABN",
          "Media/TV5",
          "Media/Sakshi",
          "Media/TV5",
          "Media/ABN",
          "Media/Sakshi",
          "Media/TV5",
          "Media/TV9",
          "Media/TV9",
          "Media/Sakshi",
          "Media/TV5",
          "Media/TV9",
          "Media/ABN",
          "Media/Sakshi",
          "Media/TV9",
          "Media/TV9",
          "Media/TV9",
          "Media/ABN",
          "Media/ABN",
          "Media/Sakshi",
          "Media/TV5",
          "Media/Sakshi",
          "Media/TV9",
          "Media/TV5",
          "Media/Sakshi",
          "Media/TV5",
          "Media/ABN",
          "Media/Sakshi",
          "Media/Sakshi",
          "Media/TV5",
          "Media/TV5",
          "Media/TV9",
          "Media/Sakshi",
          "Media/ABN",
          "Media/TV9",
          "Media/ABN",
          "Media/TV5",
          "Media/Sakshi",
          "Media/ABN",
          "Media/TV9",
          "Media/Sakshi",
          "Media/TV5",
          "Media/ABN",
          "Media/ABN",
          "Media/TV9",
          "Media/Sakshi",
          "Media/TV9",
          "Media/ABN",
          "Media/Sakshi",
          "Media/Sakshi",
          "Media/ABN",
          "Media/Sakshi",
          "Media/TV9",
          "Media/Sakshi",
          "Media/ABN",
          "Media/Sakshi",
          "Media/TV9",
          "Media/ABN",
          "Media/TV9",
          "Media/TV9",
          "Media/ABN",
          "Media/TV9",
          "Media/TV9",
          "Media/ABN",
          "Media/Sakshi",
          "Media/ABN",
          "Media/ABN",
          "Media/TV9",
          "Media/ABN",
          "Media/Sakshi",
          "Media/TV5",
          "Media/ABN",
          "Media/ABN",
          "Media/TV9",
          "Media/TV9",
          "Media/TV5",
          "Media/Sakshi",
          "Media/ABN",
          "Media/TV9",
          "Media/Sakshi",
          "Media/TV5",
          "Media/TV5",
          "Media/TV5",
          "Media/TV5",
          "Media/TV9",
          "Media/TV9",
          "Media/TV5",
          "Media/Sakshi",
          "Media/ABN",
          "Media/TV5",
          "Media/TV5",
          "Media/TV9",
          "Media/Sakshi",
          "Media/TV5",
          "Media/TV9",
          "Media/TV9",
          "Media/TV5",
          "Media/Sakshi",
          "Media/ABN",
          "Media/Sakshi",
          "Media/Sakshi",
          "Media/ABN",
          "Media/TV5",
          "Media/TV9",
          "Media/ABN",
          "Media/TV5",
          "Media/Sakshi",
          "Media/TV5",
          "Media/TV5",
          "Media/Sakshi",
          "Media/ABN",
          "Media/TV5",
          "Media/ABN",
          "Media/TV5",
          "Media/ABN",
          "Media/Sakshi",
          "Media/TV9",
          "Media/Sakshi",
          "Media/TV5",
          "Media/ABN",
          "Media/ABN",
          "Media/TV9",
          "Media/TV9",
          "Media/TV5",
          "Media/Sakshi",
          "Media/ABN",
          "Media/TV9",
          "Media/Sakshi",
          "Media/TV5",
          "Media/TV5",
          "Media/TV5",
          "Media/TV9",
          "Media/ABN",
          "Media/Sakshi",
          "Media/TV5",
          "Media/ABN",
          "Media/TV5",
          "Media/TV9",
          "Media/TV5",
          "Media/Sakshi",
          "Media/TV9",
          "Media/ABN",
          "Media/TV5",
          "Media/ABN",
          "Media/Sakshi",
          "Media/Sakshi",
          "Media/TV9",
          "Media/Sakshi",
          "Media/ABN",
          "Media/Sakshi",
          "Media/TV9",
          "Media/TV5",
          "Media/TV9",
          "Media/ABN",
          "Media/TV5",
          "Media/TV5",
          "Media/Sakshi",
          "Media/TV9",
          "Media",
          "Media",
          "Media",
          "Media",
          ""
         ],
         "type": "treemap",
         "values": [
          4021573,
          8591756,
          929339,
          32491135,
          13663145,
          26421541,
          10846884,
          6875524,
          5513292,
          4007703,
          1840923,
          6301926,
          146475610,
          345399,
          20074686,
          137313817,
          30443019,
          12727475,
          11233795,
          16940786,
          5808674,
          2611178,
          7830506,
          58358549,
          50765603,
          1601897,
          195218907,
          204498265,
          13277551,
          8514525,
          13898897,
          183650635,
          23237513,
          47666896,
          654126,
          4849298,
          46219009,
          35753653,
          13956522,
          114896886,
          22001275,
          7544043,
          19878108,
          23945973,
          8670424,
          4644493,
          3650040,
          16923955,
          32626078,
          28403237,
          272552959,
          61738697,
          1044693,
          5255931,
          4635529,
          3961147,
          2798375,
          3518446,
          10238480,
          9345550,
          37940701,
          1388019,
          60950772,
          27073016,
          8673546,
          19504390,
          6344177,
          5930545,
          675405,
          5898367,
          3108380,
          18028517,
          112332140,
          7657609,
          1443911,
          5783978,
          6192191,
          31875008,
          16273595,
          1884261,
          11099643,
          11451635,
          18752629,
          6588845,
          3235148,
          4818645,
          7868189,
          1118628,
          1301088,
          10530804,
          3416344,
          53854848,
          5412268,
          5493989,
          17576599,
          19943846,
          24815788,
          5431637,
          145375051,
          28724425,
          7242637,
          132369897,
          18386000,
          11610262,
          41374226,
          68586239,
          4643100,
          1984515,
          8626827,
          3138360,
          8403121,
          10268416,
          1432802,
          1378920,
          941900,
          27534053,
          10957787,
          1122420,
          21611108,
          38452151,
          6688982,
          60998829,
          55957935,
          886342,
          5455466,
          40186401,
          45366987,
          1192822,
          1318689,
          8591807,
          10085162,
          27295972,
          4820397,
          4811155,
          27493210,
          53679688,
          45860027,
          796446,
          141871136,
          413504,
          6895616,
          13263691,
          2155123,
          2200162,
          20068852,
          818771,
          10644417,
          43903177,
          11247766,
          8057879,
          17129753,
          56589268,
          18237058,
          20773455,
          464408,
          22544572,
          9768931,
          36408277,
          11541898,
          25887953,
          524513279,
          1511930998,
          1527648808,
          577818068,
          4141911153
         ]
        }
       ],
       "layout": {
        "legend": {
         "tracegroupgap": 0
        },
        "margin": {
         "b": 25,
         "l": 25,
         "r": 25,
         "t": 50
        },
        "template": {
         "data": {
          "bar": [
           {
            "error_x": {
             "color": "#2a3f5f"
            },
            "error_y": {
             "color": "#2a3f5f"
            },
            "marker": {
             "line": {
              "color": "#E5ECF6",
              "width": 0.5
             },
             "pattern": {
              "fillmode": "overlay",
              "size": 10,
              "solidity": 0.2
             }
            },
            "type": "bar"
           }
          ],
          "barpolar": [
           {
            "marker": {
             "line": {
              "color": "#E5ECF6",
              "width": 0.5
             },
             "pattern": {
              "fillmode": "overlay",
              "size": 10,
              "solidity": 0.2
             }
            },
            "type": "barpolar"
           }
          ],
          "carpet": [
           {
            "aaxis": {
             "endlinecolor": "#2a3f5f",
             "gridcolor": "white",
             "linecolor": "white",
             "minorgridcolor": "white",
             "startlinecolor": "#2a3f5f"
            },
            "baxis": {
             "endlinecolor": "#2a3f5f",
             "gridcolor": "white",
             "linecolor": "white",
             "minorgridcolor": "white",
             "startlinecolor": "#2a3f5f"
            },
            "type": "carpet"
           }
          ],
          "choropleth": [
           {
            "colorbar": {
             "outlinewidth": 0,
             "ticks": ""
            },
            "type": "choropleth"
           }
          ],
          "contour": [
           {
            "colorbar": {
             "outlinewidth": 0,
             "ticks": ""
            },
            "colorscale": [
             [
              0,
              "#0d0887"
             ],
             [
              0.1111111111111111,
              "#46039f"
             ],
             [
              0.2222222222222222,
              "#7201a8"
             ],
             [
              0.3333333333333333,
              "#9c179e"
             ],
             [
              0.4444444444444444,
              "#bd3786"
             ],
             [
              0.5555555555555556,
              "#d8576b"
             ],
             [
              0.6666666666666666,
              "#ed7953"
             ],
             [
              0.7777777777777778,
              "#fb9f3a"
             ],
             [
              0.8888888888888888,
              "#fdca26"
             ],
             [
              1,
              "#f0f921"
             ]
            ],
            "type": "contour"
           }
          ],
          "contourcarpet": [
           {
            "colorbar": {
             "outlinewidth": 0,
             "ticks": ""
            },
            "type": "contourcarpet"
           }
          ],
          "heatmap": [
           {
            "colorbar": {
             "outlinewidth": 0,
             "ticks": ""
            },
            "colorscale": [
             [
              0,
              "#0d0887"
             ],
             [
              0.1111111111111111,
              "#46039f"
             ],
             [
              0.2222222222222222,
              "#7201a8"
             ],
             [
              0.3333333333333333,
              "#9c179e"
             ],
             [
              0.4444444444444444,
              "#bd3786"
             ],
             [
              0.5555555555555556,
              "#d8576b"
             ],
             [
              0.6666666666666666,
              "#ed7953"
             ],
             [
              0.7777777777777778,
              "#fb9f3a"
             ],
             [
              0.8888888888888888,
              "#fdca26"
             ],
             [
              1,
              "#f0f921"
             ]
            ],
            "type": "heatmap"
           }
          ],
          "heatmapgl": [
           {
            "colorbar": {
             "outlinewidth": 0,
             "ticks": ""
            },
            "colorscale": [
             [
              0,
              "#0d0887"
             ],
             [
              0.1111111111111111,
              "#46039f"
             ],
             [
              0.2222222222222222,
              "#7201a8"
             ],
             [
              0.3333333333333333,
              "#9c179e"
             ],
             [
              0.4444444444444444,
              "#bd3786"
             ],
             [
              0.5555555555555556,
              "#d8576b"
             ],
             [
              0.6666666666666666,
              "#ed7953"
             ],
             [
              0.7777777777777778,
              "#fb9f3a"
             ],
             [
              0.8888888888888888,
              "#fdca26"
             ],
             [
              1,
              "#f0f921"
             ]
            ],
            "type": "heatmapgl"
           }
          ],
          "histogram": [
           {
            "marker": {
             "pattern": {
              "fillmode": "overlay",
              "size": 10,
              "solidity": 0.2
             }
            },
            "type": "histogram"
           }
          ],
          "histogram2d": [
           {
            "colorbar": {
             "outlinewidth": 0,
             "ticks": ""
            },
            "colorscale": [
             [
              0,
              "#0d0887"
             ],
             [
              0.1111111111111111,
              "#46039f"
             ],
             [
              0.2222222222222222,
              "#7201a8"
             ],
             [
              0.3333333333333333,
              "#9c179e"
             ],
             [
              0.4444444444444444,
              "#bd3786"
             ],
             [
              0.5555555555555556,
              "#d8576b"
             ],
             [
              0.6666666666666666,
              "#ed7953"
             ],
             [
              0.7777777777777778,
              "#fb9f3a"
             ],
             [
              0.8888888888888888,
              "#fdca26"
             ],
             [
              1,
              "#f0f921"
             ]
            ],
            "type": "histogram2d"
           }
          ],
          "histogram2dcontour": [
           {
            "colorbar": {
             "outlinewidth": 0,
             "ticks": ""
            },
            "colorscale": [
             [
              0,
              "#0d0887"
             ],
             [
              0.1111111111111111,
              "#46039f"
             ],
             [
              0.2222222222222222,
              "#7201a8"
             ],
             [
              0.3333333333333333,
              "#9c179e"
             ],
             [
              0.4444444444444444,
              "#bd3786"
             ],
             [
              0.5555555555555556,
              "#d8576b"
             ],
             [
              0.6666666666666666,
              "#ed7953"
             ],
             [
              0.7777777777777778,
              "#fb9f3a"
             ],
             [
              0.8888888888888888,
              "#fdca26"
             ],
             [
              1,
              "#f0f921"
             ]
            ],
            "type": "histogram2dcontour"
           }
          ],
          "mesh3d": [
           {
            "colorbar": {
             "outlinewidth": 0,
             "ticks": ""
            },
            "type": "mesh3d"
           }
          ],
          "parcoords": [
           {
            "line": {
             "colorbar": {
              "outlinewidth": 0,
              "ticks": ""
             }
            },
            "type": "parcoords"
           }
          ],
          "pie": [
           {
            "automargin": true,
            "type": "pie"
           }
          ],
          "scatter": [
           {
            "fillpattern": {
             "fillmode": "overlay",
             "size": 10,
             "solidity": 0.2
            },
            "type": "scatter"
           }
          ],
          "scatter3d": [
           {
            "line": {
             "colorbar": {
              "outlinewidth": 0,
              "ticks": ""
             }
            },
            "marker": {
             "colorbar": {
              "outlinewidth": 0,
              "ticks": ""
             }
            },
            "type": "scatter3d"
           }
          ],
          "scattercarpet": [
           {
            "marker": {
             "colorbar": {
              "outlinewidth": 0,
              "ticks": ""
             }
            },
            "type": "scattercarpet"
           }
          ],
          "scattergeo": [
           {
            "marker": {
             "colorbar": {
              "outlinewidth": 0,
              "ticks": ""
             }
            },
            "type": "scattergeo"
           }
          ],
          "scattergl": [
           {
            "marker": {
             "colorbar": {
              "outlinewidth": 0,
              "ticks": ""
             }
            },
            "type": "scattergl"
           }
          ],
          "scattermapbox": [
           {
            "marker": {
             "colorbar": {
              "outlinewidth": 0,
              "ticks": ""
             }
            },
            "type": "scattermapbox"
           }
          ],
          "scatterpolar": [
           {
            "marker": {
             "colorbar": {
              "outlinewidth": 0,
              "ticks": ""
             }
            },
            "type": "scatterpolar"
           }
          ],
          "scatterpolargl": [
           {
            "marker": {
             "colorbar": {
              "outlinewidth": 0,
              "ticks": ""
             }
            },
            "type": "scatterpolargl"
           }
          ],
          "scatterternary": [
           {
            "marker": {
             "colorbar": {
              "outlinewidth": 0,
              "ticks": ""
             }
            },
            "type": "scatterternary"
           }
          ],
          "surface": [
           {
            "colorbar": {
             "outlinewidth": 0,
             "ticks": ""
            },
            "colorscale": [
             [
              0,
              "#0d0887"
             ],
             [
              0.1111111111111111,
              "#46039f"
             ],
             [
              0.2222222222222222,
              "#7201a8"
             ],
             [
              0.3333333333333333,
              "#9c179e"
             ],
             [
              0.4444444444444444,
              "#bd3786"
             ],
             [
              0.5555555555555556,
              "#d8576b"
             ],
             [
              0.6666666666666666,
              "#ed7953"
             ],
             [
              0.7777777777777778,
              "#fb9f3a"
             ],
             [
              0.8888888888888888,
              "#fdca26"
             ],
             [
              1,
              "#f0f921"
             ]
            ],
            "type": "surface"
           }
          ],
          "table": [
           {
            "cells": {
             "fill": {
              "color": "#EBF0F8"
             },
             "line": {
              "color": "white"
             }
            },
            "header": {
             "fill": {
              "color": "#C8D4E3"
             },
             "line": {
              "color": "white"
             }
            },
            "type": "table"
           }
          ]
         },
         "layout": {
          "annotationdefaults": {
           "arrowcolor": "#2a3f5f",
           "arrowhead": 0,
           "arrowwidth": 1
          },
          "autotypenumbers": "strict",
          "coloraxis": {
           "colorbar": {
            "outlinewidth": 0,
            "ticks": ""
           }
          },
          "colorscale": {
           "diverging": [
            [
             0,
             "#8e0152"
            ],
            [
             0.1,
             "#c51b7d"
            ],
            [
             0.2,
             "#de77ae"
            ],
            [
             0.3,
             "#f1b6da"
            ],
            [
             0.4,
             "#fde0ef"
            ],
            [
             0.5,
             "#f7f7f7"
            ],
            [
             0.6,
             "#e6f5d0"
            ],
            [
             0.7,
             "#b8e186"
            ],
            [
             0.8,
             "#7fbc41"
            ],
            [
             0.9,
             "#4d9221"
            ],
            [
             1,
             "#276419"
            ]
           ],
           "sequential": [
            [
             0,
             "#0d0887"
            ],
            [
             0.1111111111111111,
             "#46039f"
            ],
            [
             0.2222222222222222,
             "#7201a8"
            ],
            [
             0.3333333333333333,
             "#9c179e"
            ],
            [
             0.4444444444444444,
             "#bd3786"
            ],
            [
             0.5555555555555556,
             "#d8576b"
            ],
            [
             0.6666666666666666,
             "#ed7953"
            ],
            [
             0.7777777777777778,
             "#fb9f3a"
            ],
            [
             0.8888888888888888,
             "#fdca26"
            ],
            [
             1,
             "#f0f921"
            ]
           ],
           "sequentialminus": [
            [
             0,
             "#0d0887"
            ],
            [
             0.1111111111111111,
             "#46039f"
            ],
            [
             0.2222222222222222,
             "#7201a8"
            ],
            [
             0.3333333333333333,
             "#9c179e"
            ],
            [
             0.4444444444444444,
             "#bd3786"
            ],
            [
             0.5555555555555556,
             "#d8576b"
            ],
            [
             0.6666666666666666,
             "#ed7953"
            ],
            [
             0.7777777777777778,
             "#fb9f3a"
            ],
            [
             0.8888888888888888,
             "#fdca26"
            ],
            [
             1,
             "#f0f921"
            ]
           ]
          },
          "colorway": [
           "#636efa",
           "#EF553B",
           "#00cc96",
           "#ab63fa",
           "#FFA15A",
           "#19d3f3",
           "#FF6692",
           "#B6E880",
           "#FF97FF",
           "#FECB52"
          ],
          "font": {
           "color": "#2a3f5f"
          },
          "geo": {
           "bgcolor": "white",
           "lakecolor": "white",
           "landcolor": "#E5ECF6",
           "showlakes": true,
           "showland": true,
           "subunitcolor": "white"
          },
          "hoverlabel": {
           "align": "left"
          },
          "hovermode": "closest",
          "mapbox": {
           "style": "light"
          },
          "paper_bgcolor": "white",
          "plot_bgcolor": "#E5ECF6",
          "polar": {
           "angularaxis": {
            "gridcolor": "white",
            "linecolor": "white",
            "ticks": ""
           },
           "bgcolor": "#E5ECF6",
           "radialaxis": {
            "gridcolor": "white",
            "linecolor": "white",
            "ticks": ""
           }
          },
          "scene": {
           "xaxis": {
            "backgroundcolor": "#E5ECF6",
            "gridcolor": "white",
            "gridwidth": 2,
            "linecolor": "white",
            "showbackground": true,
            "ticks": "",
            "zerolinecolor": "white"
           },
           "yaxis": {
            "backgroundcolor": "#E5ECF6",
            "gridcolor": "white",
            "gridwidth": 2,
            "linecolor": "white",
            "showbackground": true,
            "ticks": "",
            "zerolinecolor": "white"
           },
           "zaxis": {
            "backgroundcolor": "#E5ECF6",
            "gridcolor": "white",
            "gridwidth": 2,
            "linecolor": "white",
            "showbackground": true,
            "ticks": "",
            "zerolinecolor": "white"
           }
          },
          "shapedefaults": {
           "line": {
            "color": "#2a3f5f"
           }
          },
          "ternary": {
           "aaxis": {
            "gridcolor": "white",
            "linecolor": "white",
            "ticks": ""
           },
           "baxis": {
            "gridcolor": "white",
            "linecolor": "white",
            "ticks": ""
           },
           "bgcolor": "#E5ECF6",
           "caxis": {
            "gridcolor": "white",
            "linecolor": "white",
            "ticks": ""
           }
          },
          "title": {
           "x": 0.05
          },
          "xaxis": {
           "automargin": true,
           "gridcolor": "white",
           "linecolor": "white",
           "ticks": "",
           "title": {
            "standoff": 15
           },
           "zerolinecolor": "white",
           "zerolinewidth": 2
          },
          "yaxis": {
           "automargin": true,
           "gridcolor": "white",
           "linecolor": "white",
           "ticks": "",
           "title": {
            "standoff": 15
           },
           "zerolinecolor": "white",
           "zerolinewidth": 2
          }
         }
        }
       }
      }
     },
     "metadata": {},
     "output_type": "display_data"
    }
   ],
   "source": [
    "df_tags_plot = pd.read_csv('plots_data/dashboard_tags.csv')\n",
    "df_bar_grouped = df_tags_plot.groupby(['tags','uploader']).agg({\"sentiment\": np.mean, 'view_count': np.sum, 'comment_count':np.sum,'duration':np.sum}).reset_index()\n",
    "df_bar_grouped  = df_bar_grouped.sort_values('view_count', ascending = False)\n",
    "df_bar_grouped['duration'] = df_bar_grouped['duration']/(60*60*24)\n",
    "df_bar_grouped['duration'] = np.round(df_bar_grouped['duration'],1)\n",
    "\n",
    "\n",
    "fig = px.treemap(df_bar_grouped, path=[px.Constant(\"Media\"), 'uploader', 'tags'], values='view_count',\n",
    "                  color='uploader', hover_data=['duration','sentiment'],color_discrete_map= {'ABN': 'yellow','TV5': 'gold', 'Sakshi':'ff2a26' , 'TV9':'#0000FF'})\n",
    "fig.update_layout(margin = dict(t=50, l=25, r=25, b=25))\n",
    "fig.update_traces(marker=dict(cornerradius=5))\n",
    "fig.show()"
   ]
  },
  {
   "cell_type": "code",
   "execution_count": 213,
   "metadata": {},
   "outputs": [
    {
     "data": {
      "text/html": [
       "<div>\n",
       "<style scoped>\n",
       "    .dataframe tbody tr th:only-of-type {\n",
       "        vertical-align: middle;\n",
       "    }\n",
       "\n",
       "    .dataframe tbody tr th {\n",
       "        vertical-align: top;\n",
       "    }\n",
       "\n",
       "    .dataframe thead th {\n",
       "        text-align: right;\n",
       "    }\n",
       "</style>\n",
       "<table border=\"1\" class=\"dataframe\">\n",
       "  <thead>\n",
       "    <tr style=\"text-align: right;\">\n",
       "      <th></th>\n",
       "      <th>tags</th>\n",
       "      <th>uploader</th>\n",
       "      <th>sentiment</th>\n",
       "      <th>view_count</th>\n",
       "      <th>comment_count</th>\n",
       "      <th>duration</th>\n",
       "    </tr>\n",
       "  </thead>\n",
       "  <tbody>\n",
       "    <tr>\n",
       "      <th>81</th>\n",
       "      <td>cm jagan</td>\n",
       "      <td>Sakshi</td>\n",
       "      <td>0.488206</td>\n",
       "      <td>272552959.0</td>\n",
       "      <td>310465.0</td>\n",
       "      <td>74.7</td>\n",
       "    </tr>\n",
       "    <tr>\n",
       "      <th>154</th>\n",
       "      <td>ysrcp</td>\n",
       "      <td>TV5</td>\n",
       "      <td>-0.227988</td>\n",
       "      <td>204498265.0</td>\n",
       "      <td>218395.0</td>\n",
       "      <td>53.7</td>\n",
       "    </tr>\n",
       "    <tr>\n",
       "      <th>153</th>\n",
       "      <td>ysrcp</td>\n",
       "      <td>Sakshi</td>\n",
       "      <td>0.379940</td>\n",
       "      <td>195218907.0</td>\n",
       "      <td>228091.0</td>\n",
       "      <td>81.6</td>\n",
       "    </tr>\n",
       "    <tr>\n",
       "      <th>150</th>\n",
       "      <td>ycp</td>\n",
       "      <td>TV5</td>\n",
       "      <td>-0.275443</td>\n",
       "      <td>183650635.0</td>\n",
       "      <td>190213.0</td>\n",
       "      <td>81.7</td>\n",
       "    </tr>\n",
       "    <tr>\n",
       "      <th>78</th>\n",
       "      <td>chandrababu</td>\n",
       "      <td>TV5</td>\n",
       "      <td>-0.044747</td>\n",
       "      <td>146475610.0</td>\n",
       "      <td>135838.0</td>\n",
       "      <td>115.8</td>\n",
       "    </tr>\n",
       "    <tr>\n",
       "      <th>...</th>\n",
       "      <td>...</td>\n",
       "      <td>...</td>\n",
       "      <td>...</td>\n",
       "      <td>...</td>\n",
       "      <td>...</td>\n",
       "      <td>...</td>\n",
       "    </tr>\n",
       "    <tr>\n",
       "      <th>8</th>\n",
       "      <td>Gadapa Gadapaku</td>\n",
       "      <td>ABN</td>\n",
       "      <td>-0.806696</td>\n",
       "      <td>675405.0</td>\n",
       "      <td>661.0</td>\n",
       "      <td>0.2</td>\n",
       "    </tr>\n",
       "    <tr>\n",
       "      <th>17</th>\n",
       "      <td>MLC Elections 2023</td>\n",
       "      <td>Sakshi</td>\n",
       "      <td>0.561192</td>\n",
       "      <td>654126.0</td>\n",
       "      <td>1298.0</td>\n",
       "      <td>0.1</td>\n",
       "    </tr>\n",
       "    <tr>\n",
       "      <th>123</th>\n",
       "      <td>raghurama</td>\n",
       "      <td>TV9</td>\n",
       "      <td>-0.161894</td>\n",
       "      <td>464408.0</td>\n",
       "      <td>341.0</td>\n",
       "      <td>0.1</td>\n",
       "    </tr>\n",
       "    <tr>\n",
       "      <th>43</th>\n",
       "      <td>YSRCP Plenary</td>\n",
       "      <td>TV9</td>\n",
       "      <td>0.033335</td>\n",
       "      <td>413504.0</td>\n",
       "      <td>345.0</td>\n",
       "      <td>0.1</td>\n",
       "    </tr>\n",
       "    <tr>\n",
       "      <th>47</th>\n",
       "      <td>Yellow Media</td>\n",
       "      <td>TV9</td>\n",
       "      <td>-0.510734</td>\n",
       "      <td>345399.0</td>\n",
       "      <td>323.0</td>\n",
       "      <td>0.1</td>\n",
       "    </tr>\n",
       "  </tbody>\n",
       "</table>\n",
       "<p>160 rows × 6 columns</p>\n",
       "</div>"
      ],
      "text/plain": [
       "                   tags uploader  sentiment   view_count  comment_count   \n",
       "81             cm jagan   Sakshi   0.488206  272552959.0       310465.0  \\\n",
       "154               ysrcp      TV5  -0.227988  204498265.0       218395.0   \n",
       "153               ysrcp   Sakshi   0.379940  195218907.0       228091.0   \n",
       "150                 ycp      TV5  -0.275443  183650635.0       190213.0   \n",
       "78          chandrababu      TV5  -0.044747  146475610.0       135838.0   \n",
       "..                  ...      ...        ...          ...            ...   \n",
       "8      Gadapa Gadapaku       ABN  -0.806696     675405.0          661.0   \n",
       "17   MLC Elections 2023   Sakshi   0.561192     654126.0         1298.0   \n",
       "123          raghurama       TV9  -0.161894     464408.0          341.0   \n",
       "43        YSRCP Plenary      TV9   0.033335     413504.0          345.0   \n",
       "47         Yellow Media      TV9  -0.510734     345399.0          323.0   \n",
       "\n",
       "     duration  \n",
       "81       74.7  \n",
       "154      53.7  \n",
       "153      81.6  \n",
       "150      81.7  \n",
       "78      115.8  \n",
       "..        ...  \n",
       "8         0.2  \n",
       "17        0.1  \n",
       "123       0.1  \n",
       "43        0.1  \n",
       "47        0.1  \n",
       "\n",
       "[160 rows x 6 columns]"
      ]
     },
     "execution_count": 213,
     "metadata": {},
     "output_type": "execute_result"
    }
   ],
   "source": [
    "df_bar_grouped"
   ]
  },
  {
   "cell_type": "code",
   "execution_count": null,
   "metadata": {},
   "outputs": [],
   "source": []
  }
 ],
 "metadata": {
  "kernelspec": {
   "display_name": "Python 3.8.16 ('streamenv': venv)",
   "language": "python",
   "name": "python3"
  },
  "language_info": {
   "codemirror_mode": {
    "name": "ipython",
    "version": 3
   },
   "file_extension": ".py",
   "mimetype": "text/x-python",
   "name": "python",
   "nbconvert_exporter": "python",
   "pygments_lexer": "ipython3",
   "version": "3.8.16"
  },
  "orig_nbformat": 4,
  "vscode": {
   "interpreter": {
    "hash": "9ecb27244bbf89267c5944d0d03f977ee38a0d3bd6795db5750e07e9bcf70dc2"
   }
  }
 },
 "nbformat": 4,
 "nbformat_minor": 2
}
