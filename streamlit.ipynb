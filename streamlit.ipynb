{
 "cells": [
  {
   "cell_type": "code",
   "execution_count": 8,
   "metadata": {},
   "outputs": [
    {
     "name": "stderr",
     "output_type": "stream",
     "text": [
      "/var/folders/z7/x6vq9qd56_scz4tkv0sj5lgc0000gn/T/ipykernel_6164/2000092745.py:32: SettingWithCopyWarning: \n",
      "A value is trying to be set on a copy of a slice from a DataFrame.\n",
      "Try using .loc[row_indexer,col_indexer] = value instead\n",
      "\n",
      "See the caveats in the documentation: https://pandas.pydata.org/pandas-docs/stable/user_guide/indexing.html#returning-a-view-versus-a-copy\n",
      "  df_persons_highlevel['view_count_average'] = df_persons_highlevel['view_count']\n",
      "/var/folders/z7/x6vq9qd56_scz4tkv0sj5lgc0000gn/T/ipykernel_6164/2000092745.py:66: SettingWithCopyWarning: \n",
      "A value is trying to be set on a copy of a slice from a DataFrame.\n",
      "Try using .loc[row_indexer,col_indexer] = value instead\n",
      "\n",
      "See the caveats in the documentation: https://pandas.pydata.org/pandas-docs/stable/user_guide/indexing.html#returning-a-view-versus-a-copy\n",
      "  df_uploader['comment_count'] = df_uploader['comment_count'].fillna(0)\n"
     ]
    }
   ],
   "source": [
    "import pandas as pd\n",
    "import numpy as np\n",
    "df_faces = pd.read_csv('UIdata/faces.csv')\n",
    "df_attr = pd.read_excel('UIdata/alphapolitica_faces_attributes_coords.xlsx')\n",
    "\n",
    "'''Generate folium plot'''\n",
    "\n",
    "loc_dict = dict(zip(df_attr.image_id, df_attr.coords))\n",
    "per_dict = dict(zip(df_attr.image_id, df_attr.Name))\n",
    "constituency_dict = dict(zip(df_attr.image_id, df_attr.constituency))\n",
    "party_dict = dict(zip(df_attr.image_id, df_attr.party))\n",
    "total_faces = df_faces.columns[7:]\n",
    "\n",
    "df_fid_list =[]\n",
    "for f_id in total_faces:\n",
    "    df_face = df_faces[df_faces[f_id]> 0][['upload_date','sentiment','view_count','uploader']]\n",
    "    \n",
    "    df_face['f_id'] = f_id\n",
    "    df_face['lat'] = float(loc_dict[f_id].split(',')[0])\n",
    "    df_face['long'] = float(loc_dict[f_id].split(',')[1])\n",
    "    df_face['name'] = per_dict[f_id]\n",
    "    df_face['party'] = party_dict[f_id]\n",
    "    df_face['constituency'] = constituency_dict[f_id]\n",
    "    df_fid_list.append(df_face[['lat','long','upload_date','name','f_id','party','constituency','sentiment','view_count','uploader']])\n",
    "df_folium_plot = pd.concat(df_fid_list)\n",
    "df_folium_plot = df_folium_plot.reset_index()\n",
    "del df_folium_plot['index']\n",
    "df_folium_plot.to_csv('plots_data/dashboard_folium.csv',index= False)\n",
    "\n",
    "df_folium_plot['negative_video_uploads'] = (df_folium_plot['sentiment'] < 0)*1\n",
    "df_persons_highlevel  = df_folium_plot[['name','constituency','view_count','uploader','negative_video_uploads']]\n",
    "df_persons_highlevel['view_count_average'] = df_persons_highlevel['view_count'] \n",
    "df_persons_highlevel  = df_persons_highlevel.groupby(['name','constituency','uploader']).aggregate({'view_count_average':np.mean,\n",
    "                                                                   'view_count':np.sum,\n",
    "                                                                    'negative_video_uploads':np.sum}\n",
    "                                                                    ).reset_index()\n",
    "df_attr['name'] = df_attr['Name']\n",
    "df_persons_highlevel  = df_persons_highlevel.merge(df_attr[['name','party']],on ='name')\n",
    "df_persons_highlevel.to_csv('plots_data/profile_high_level.csv',index= False)\n",
    "\n",
    "\n",
    "''' \n",
    "tagplot\n",
    "'''\n",
    "\n",
    "\n",
    "df_tags = pd.read_csv('UIdata/tags.csv')\n",
    "tags = [i for i in df_tags.columns[7:] if 'proba_' not in i]\n",
    "df_tid_list =[]\n",
    "for t_id in tags:\n",
    "    df_tag = df_tags[df_tags[t_id]>0][['upload_date','duration','comment_count','view_count','sentiment','uploader']]\n",
    "    df_tag['tags'] = t_id\n",
    "    df_tid_list.append(df_tag)\n",
    "df_tags_plot = pd.concat(df_tid_list)\n",
    "df_tags_plot = df_tags_plot.reset_index()\n",
    "del df_tags_plot['index']\n",
    "df_tags_plot.to_csv('plots_data/dashboard_tags.csv',index= False)\n",
    "\n",
    "\n",
    "\n",
    "'''\n",
    "uploader\n",
    "'''\n",
    "df_full_data = pd.read_csv('UIdata/data_compiled_final_may_2023.csv')\n",
    "df_uploader = df_tags_plot[['uploader','upload_date','duration','comment_count','view_count']]\n",
    "df_uploader['comment_count'] = df_uploader['comment_count'].fillna(0)\n",
    "df_uploader.to_csv('plots_data/uploader.csv',index= False)\n",
    "\n",
    "\n",
    "\n",
    "df_faces = pd.read_csv('UIdata/faces.csv')\n",
    "df_attr = pd.read_excel('UIdata/alphapolitica_faces_attributes_coords.xlsx')\n",
    "df_tags = pd.read_csv('UIdata/tags.csv')\n",
    "\n",
    "loc_dict = dict(zip(df_attr.image_id, df_attr.coords))\n",
    "per_dict = dict(zip(df_attr.image_id, df_attr.Name))\n",
    "constituency_dict = dict(zip(df_attr.image_id, df_attr.constituency))\n",
    "party_dict = dict(zip(df_attr.image_id, df_attr.party))\n",
    "total_faces = df_faces.columns[7:]\n",
    "df_fid_list =[]\n",
    "for f_id in total_faces:\n",
    "    df_face = df_faces[df_faces[f_id]> 0][['ids','upload_date','sentiment','view_count','uploader','duration','comment_count']]\n",
    "    df_face['f_id'] = f_id\n",
    "    df_face['name'] = per_dict[f_id]\n",
    "    df_face['party'] = party_dict[f_id]\n",
    "    df_face['constituency'] = constituency_dict[f_id]\n",
    "    tags  = list(df_tags.columns[7:])\n",
    "    df_tads_ids = df_tags[['ids']+tags]\n",
    "    df_face = df_face.merge(df_tads_ids, on=['ids'])\n",
    "    cols_to_drop = [i for i in tags if df_face[i].values.sum() < 10]\n",
    "    df_face = df_face.drop(cols_to_drop, axis=1)\n",
    "    df_face = df_face.reset_index()\n",
    "    del df_face['index']\n",
    "    save_file = per_dict[f_id]+'.csv'\n",
    "    df_all_upload_ = []\n",
    "    df_face = df_face.sort_values('upload_date')\n",
    "    ''' \n",
    "    for upl in ['ABN','TV5','TV9','Sakshi']:\n",
    "        df_channel = df_face[df_face.uploader == upl].sort_values('upload_date')\n",
    "        for col in ['duration','comment_count','view_count','sentiment']:\n",
    "            df_channel[col] = df_channel[col].rolling(20).mean()\n",
    "        df_all_upload_.append(df_channel)\n",
    "    df_face = pd.concat(df_all_upload_)\n",
    "    df_face = df_face.dropna()\n",
    "    '''\n",
    "    df_face.to_csv('plots_data/candidates_data/'+save_file,index= False)\n",
    "    "
   ]
  },
  {
   "cell_type": "markdown",
   "metadata": {},
   "source": [
    "## Folium Map"
   ]
  },
  {
   "cell_type": "code",
   "execution_count": 26,
   "metadata": {},
   "outputs": [
    {
     "name": "stderr",
     "output_type": "stream",
     "text": [
      "/var/folders/z7/x6vq9qd56_scz4tkv0sj5lgc0000gn/T/ipykernel_38888/1670999438.py:8: SettingWithCopyWarning: \n",
      "A value is trying to be set on a copy of a slice from a DataFrame.\n",
      "Try using .loc[row_indexer,col_indexer] = value instead\n",
      "\n",
      "See the caveats in the documentation: https://pandas.pydata.org/pandas-docs/stable/user_guide/indexing.html#returning-a-view-versus-a-copy\n",
      "  df_folium_sorted['heat'] = df_folium_sorted['view_count']\n",
      "/var/folders/z7/x6vq9qd56_scz4tkv0sj5lgc0000gn/T/ipykernel_38888/1670999438.py:9: SettingWithCopyWarning: \n",
      "A value is trying to be set on a copy of a slice from a DataFrame.\n",
      "Try using .loc[row_indexer,col_indexer] = value instead\n",
      "\n",
      "See the caveats in the documentation: https://pandas.pydata.org/pandas-docs/stable/user_guide/indexing.html#returning-a-view-versus-a-copy\n",
      "  df_folium_sorted['heat'] = (df_folium_sorted['heat'] - df_folium_sorted['heat'].min())/(df_folium_sorted['heat'].max() - df_folium_sorted['heat'].min())\n"
     ]
    },
    {
     "data": {
      "text/html": [
       "<div style=\"width:100%;\"><div style=\"position:relative;width:100%;height:0;padding-bottom:60%;\"><span style=\"color:#565656\">Make this Notebook Trusted to load map: File -> Trust Notebook</span><iframe srcdoc=\"&lt;!DOCTYPE html&gt;\n",
       "&lt;html&gt;\n",
       "&lt;head&gt;\n",
       "    \n",
       "    &lt;meta http-equiv=&quot;content-type&quot; content=&quot;text/html; charset=UTF-8&quot; /&gt;\n",
       "    \n",
       "        &lt;script&gt;\n",
       "            L_NO_TOUCH = false;\n",
       "            L_DISABLE_3D = false;\n",
       "        &lt;/script&gt;\n",
       "    \n",
       "    &lt;style&gt;html, body {width: 100%;height: 100%;margin: 0;padding: 0;}&lt;/style&gt;\n",
       "    &lt;style&gt;#map {position:absolute;top:0;bottom:0;right:0;left:0;}&lt;/style&gt;\n",
       "    &lt;script src=&quot;https://cdn.jsdelivr.net/npm/leaflet@1.9.3/dist/leaflet.js&quot;&gt;&lt;/script&gt;\n",
       "    &lt;script src=&quot;https://code.jquery.com/jquery-1.12.4.min.js&quot;&gt;&lt;/script&gt;\n",
       "    &lt;script src=&quot;https://cdn.jsdelivr.net/npm/bootstrap@5.2.2/dist/js/bootstrap.bundle.min.js&quot;&gt;&lt;/script&gt;\n",
       "    &lt;script src=&quot;https://cdnjs.cloudflare.com/ajax/libs/Leaflet.awesome-markers/2.0.2/leaflet.awesome-markers.js&quot;&gt;&lt;/script&gt;\n",
       "    &lt;link rel=&quot;stylesheet&quot; href=&quot;https://cdn.jsdelivr.net/npm/leaflet@1.9.3/dist/leaflet.css&quot;/&gt;\n",
       "    &lt;link rel=&quot;stylesheet&quot; href=&quot;https://cdn.jsdelivr.net/npm/bootstrap@5.2.2/dist/css/bootstrap.min.css&quot;/&gt;\n",
       "    &lt;link rel=&quot;stylesheet&quot; href=&quot;https://netdna.bootstrapcdn.com/bootstrap/3.0.0/css/bootstrap.min.css&quot;/&gt;\n",
       "    &lt;link rel=&quot;stylesheet&quot; href=&quot;https://cdn.jsdelivr.net/npm/@fortawesome/fontawesome-free@6.2.0/css/all.min.css&quot;/&gt;\n",
       "    &lt;link rel=&quot;stylesheet&quot; href=&quot;https://cdnjs.cloudflare.com/ajax/libs/Leaflet.awesome-markers/2.0.2/leaflet.awesome-markers.css&quot;/&gt;\n",
       "    &lt;link rel=&quot;stylesheet&quot; href=&quot;https://cdn.jsdelivr.net/gh/python-visualization/folium/folium/templates/leaflet.awesome.rotate.min.css&quot;/&gt;\n",
       "    \n",
       "            &lt;meta name=&quot;viewport&quot; content=&quot;width=device-width,\n",
       "                initial-scale=1.0, maximum-scale=1.0, user-scalable=no&quot; /&gt;\n",
       "            &lt;style&gt;\n",
       "                #map_f5defd22296b726b6cbf721a495fe3fc {\n",
       "                    position: relative;\n",
       "                    width: 100.0%;\n",
       "                    height: 100.0%;\n",
       "                    left: 0.0%;\n",
       "                    top: 0.0%;\n",
       "                }\n",
       "                .leaflet-container { font-size: 1rem; }\n",
       "            &lt;/style&gt;\n",
       "        \n",
       "    &lt;script src=&quot;https://cdn.jsdelivr.net/gh/python-visualization/folium@main/folium/templates/leaflet_heat.min.js&quot;&gt;&lt;/script&gt;\n",
       "&lt;/head&gt;\n",
       "&lt;body&gt;\n",
       "    \n",
       "    \n",
       "            &lt;div class=&quot;folium-map&quot; id=&quot;map_f5defd22296b726b6cbf721a495fe3fc&quot; &gt;&lt;/div&gt;\n",
       "        \n",
       "&lt;/body&gt;\n",
       "&lt;script&gt;\n",
       "    \n",
       "    \n",
       "            var map_f5defd22296b726b6cbf721a495fe3fc = L.map(\n",
       "                &quot;map_f5defd22296b726b6cbf721a495fe3fc&quot;,\n",
       "                {\n",
       "                    center: [16.315487, 80.232213],\n",
       "                    crs: L.CRS.EPSG3857,\n",
       "                    zoom: 7,\n",
       "                    zoomControl: true,\n",
       "                    preferCanvas: false,\n",
       "                }\n",
       "            );\n",
       "\n",
       "            \n",
       "\n",
       "        \n",
       "    \n",
       "            var tile_layer_4911da6f68aabde1e0044247b30707b2 = L.tileLayer(\n",
       "                &quot;https://{s}.tile.openstreetmap.org/{z}/{x}/{y}.png&quot;,\n",
       "                {&quot;attribution&quot;: &quot;Data by \\u0026copy; \\u003ca target=\\&quot;_blank\\&quot; href=\\&quot;http://openstreetmap.org\\&quot;\\u003eOpenStreetMap\\u003c/a\\u003e, under \\u003ca target=\\&quot;_blank\\&quot; href=\\&quot;http://www.openstreetmap.org/copyright\\&quot;\\u003eODbL\\u003c/a\\u003e.&quot;, &quot;detectRetina&quot;: false, &quot;maxNativeZoom&quot;: 18, &quot;maxZoom&quot;: 18, &quot;minZoom&quot;: 0, &quot;noWrap&quot;: false, &quot;opacity&quot;: 1, &quot;subdomains&quot;: &quot;abc&quot;, &quot;tms&quot;: false}\n",
       "            ).addTo(map_f5defd22296b726b6cbf721a495fe3fc);\n",
       "        \n",
       "    \n",
       "            var heat_map_3baa1d6831e20e8b81316c89b5308463 = L.heatLayer(\n",
       "                [[12.7461, 78.3423, 0.003090665423857829], [13.1949, 78.7474, 0.003800918087228341], [13.2172, 79.1003, 0.002309210740775246], [13.2327, 79.1824, 0.002124215921588878], [13.3201, 79.5856, 0.004219521253271953], [13.3659, 78.575, 0.0034996849072753303], [13.384829, 79.082436, 0.0030850892621561055], [13.4323, 79.9612, 0.0021420701195556226], [13.4614, 78.333, 0.00271812587367764], [13.556, 78.501, 0.0037336981354439474], [13.5881, 79.3156, 0.0036938693861046598], [13.6288, 79.4192, 0.002120239942854555], [13.6549, 78.9471, 0.0020559709285778646], [13.7009, 80.0209, 0.0024520864151343657], [13.7527, 79.7067, 0.0031056018279012588], [13.8221, 78.4489, 0.0022537285050948657], [13.8223, 77.5009, 0.0032098209038258036], [13.9403, 77.2717, 0.0020118517420449366], [13.9598, 79.35, 0.0030562540574298283], [13.9629, 79.5884, 0.0027854231011579683], [14.0586, 78.7519, 0.003093060079432683], [14.0844, 77.5973, 0.002497127992684099], [14.1138, 78.1611, 0.0028571490111442815], [14.1463, 79.8504, 0.0010224517444311547], [14.167, 77.8091, 0.0022976316037869875], [14.1969, 79.1555, 0.0022381433130435257], [14.2919, 79.9724, 0.0026830255069867997], [14.4125, 77.7201, 0.0031470196107197053], [14.4222, 78.2263, 0.004149042539303837], [14.4426, 79.9865, 0.0035333799784692524], [14.4673, 78.8242, 0.002972266955842275], [14.5021, 79.9853, 0.0039057785374470855], [14.516, 79.8003, 0.006166958071283439], [14.5506, 77.1087, 0.0026002158210835804], [14.6084, 78.6626, 0.0022187647400759886], [14.6158, 77.6064, 0.0032863174593739854], [14.6819, 77.6006, 0.001973250924506452], [14.6969, 76.8547, 0.0023756231044026657], [14.7265, 78.7321, 0.0027640838846239362], [14.7309, 79.0589, 0.0024909625551835725], [14.7526, 78.5541, 0.0034459052061192683], [14.8, 77.7173, 0.0045692453074636956], [14.8474, 78.3899, 0.0027313563088874407], [14.8807, 79.3071, 0.003226853938340917], [14.9091, 78.0092, 0.002851756750930394], [14.9132, 79.993, 0.003419853022131138], [14.946, 77.2605, 0.0028244435282030983], [15.1345, 78.5032, 0.0007796735599213762], [15.1661, 77.377, 0.002358711943851797], [15.2197, 79.9025, 0.0015268553487010304], [15.3181, 78.2255, 0.0026459075215265063], [15.3764, 78.9251, 0.0038603683529907294], [15.392404, 77.231434, 0.002368420365762765], [15.396, 77.8732, 0.004427397840088583], [15.3968, 77.5007, 0.003370806151275357], [15.4048, 79.5067, 0.0023043383895596336], [15.4128, 79.8563, 0.002241210554392758], [15.4777, 78.4873, 0.00308874080864711], [15.5057, 80.0499, 0.002826158023822285], [15.5144, 78.3487, 0.0023134799176893206], [15.5452, 79.9424, 0.0017002479602121995], [15.6319, 77.2759, 0.002833332168816401], [15.686, 77.771, 0.003233555264154501], [15.7362, 79.2691, 0.002030326464309004], [15.7642, 77.4759, 0.004074676259481693], [15.77, 79.6794, 0.002029035389953652], [15.8107, 79.9724, 0.001017083926835345], [15.8167, 80.3587, 0.0021918821685448175], [15.8281, 78.0373, 0.003023613327407759], [15.8556, 78.2646, 0.002626317830303091], [15.879, 78.5853, 0.003637642182347416], [15.9039, 80.4671, 0.002418633235273918], [15.9414, 77.4257, 0.002965246827152978], [15.9639, 80.2739, 0.0024318501060136967], [16.0174, 80.8295, 0.00214480942129027], [16.0214, 80.9159, 0.003261559824031874], [16.0367, 79.3071, 0.0032391544478572653], [16.0568, 79.7453, 0.0024266049437630453], [16.0686, 80.5482, 0.001904704605973616], [16.0733, 78.8687, 0.0023040409191690545], [16.0948, 80.1656, 0.00247681927527667], [16.178, 80.7395, 0.0022213625219023475], [16.1809, 81.1303, 0.002686522975609856], [16.1814, 80.3358, 0.0017951467546261858], [16.2359, 80.0496, 0.0024211633507367544], [16.2379, 80.6444, 0.0038294017801181334], [16.2579, 81.1444, 0.0016727600815694796], [16.2991, 80.3867, 0.0028134207221992722], [16.3067, 80.4365, 0.004752505053645484], [16.323, 80.9612, 0.00271431797035281], [16.3424, 80.4391, 0.001827064730912521], [16.396, 80.1493, 0.0031296588849647174], [16.42, 80.4521, 0.002739887473151138], [16.433, 81.6966, 0.0031965153004040615], [16.4344, 80.9931, 0.006205312324466486], [16.4346, 80.5662, 0.003255431013197844], [16.4655, 80.719, 0.0027402925676678507], [16.47, 80.2565, 0.002525092954142917], [16.4743, 81.8402, 0.0022683561193715175], [16.474326, 81.840196, 0.0022683561193715175], [16.476, 79.4394, 0.003536102282160885], [16.501428, 80.634258, 0.0029907608668884277], [16.5062, 80.648, 0.0033414525737792897], [16.5179, 81.7253, 0.0021672867723726607], [16.529857, 80.628594, 0.0016510991748905405], [16.540636, 80.588206, 0.003096633475178425], [16.5419, 80.805, 0.003044810371283169], [16.5449, 81.5212, 0.002882833522744875], [16.5527, 81.2129, 0.0022755874496725873], [16.5557, 79.6362, 0.00146590385902966], [16.5775, 82.0031, 0.002385765231965463], [16.586, 81.4673, 0.0026281816825146653], [16.602, 81.8077, 0.00214516103611971], [16.6415, 82.1043, 0.004531582156095952], [16.7107, 81.0952, 0.0023091268281794147], [16.7566, 81.677, 0.0027280561184786314], [16.7609, 81.1665, 0.0025361101992626167], [16.7638, 80.6382, 0.0036624499400282296], [16.7724, 80.2859, 0.002130920516975605], [16.785, 80.8488, 0.008274969183025343], [16.8073, 81.5316, 0.0026131849529497046], [16.823, 81.4238, 0.0020882928446372033], [16.8372, 82.0325, 0.0008862260476100209], [16.8653, 81.9262, 0.0027376659320916753], [16.879926, 81.671284, 0.001652820752675488], [16.8971, 81.6634, 0.0031666043775283722], [16.8985, 80.1033, 0.002589017822473376], [16.9341, 81.9555, 0.0020852057928072722], [16.9891, 82.2475, 0.0031326632977009402], [17.0005, 81.804, 0.00209282922868192], [17.0126, 81.7274, 0.0030587297136838044], [17.0697, 80.9876, 0.002549215312307257], [17.0757, 82.136, 0.0026322021675060665], [17.0806, 81.9018, 0.0023871334654161085], [17.103958, 81.536304, 0.0014930486597771742], [17.1099, 80.6094, 0.002639958570620119], [17.1146, 82.2522, 0.0022714260021379907], [17.1712, 82.0644, 0.0031855223938462994], [17.2289, 82.1918, 0.002837060553423997], [17.2479, 81.6432, 0.0027617862274687097], [17.3573, 82.5443, 0.0032911786121882784], [17.3624, 82.5531, 0.0030348693772936494], [17.4367, 81.776, 0.002131479093789738], [17.5472, 82.8573, 0.0030890790879472296], [17.6868, 83.2185, 0.002314185797382384], [17.6896, 83.0024, 0.0034187301404691073], [17.7, 83.3, 0.003949496255538641], [17.7065, 83.1904, 0.0022367480953039654], [17.7472, 83.2626, 0.002271625532175456], [17.7751, 83.3633, 0.001830296070905704], [17.8055, 83.2089, 0.0040559272295381905], [17.8314, 82.934, 0.0024359439157567203], [17.8875, 83.4457, 0.0027704132466317244], [17.9168, 82.8142, 0.0027965506403948895], [18.0806, 82.6645, 0.0021186651856343604], [18.1067, 83.3956, 0.0026875260594570907], [18.1112, 83.1393, 0.002186851537893093], [18.1649, 83.451, 0.0032660063418546137], [18.2798, 83.3333, 0.002863255555180453], [18.2821, 83.8248, 0.0028856680559079325], [18.2949, 83.8938, 0.0035127969456188904], [18.3105, 83.5683, 0.0044048590629227535], [18.3273, 82.8775, 0.0025922628459142632], [18.4101, 83.903, 0.006074779719543918], [18.4164, 84.0459, 0.002703357105576093], [18.4497, 83.6608, 0.0024474087800381685], [18.5164, 83.2051, 0.003098305002963851], [18.5735, 83.3584, 0.002134271400605955], [18.6007, 83.7576, 0.0026232304564669457], [18.6058, 84.2302, 0.002690159489476146], [18.7505, 84.0916, 0.0030728564602236093], [18.773095, 84.40783, 0.0027586969224911205], [18.7817, 83.4268, 0.008180499023704414], [18.8669, 83.551, 0.0024747295851054282], [19.1153, 84.6852, 0.0013695348513416564]],\n",
       "                {&quot;blur&quot;: 15, &quot;maxZoom&quot;: 18, &quot;minOpacit&quot;: 1, &quot;minOpacity&quot;: 0.5, &quot;radius&quot;: 10}\n",
       "            ).addTo(map_f5defd22296b726b6cbf721a495fe3fc);\n",
       "        \n",
       "&lt;/script&gt;\n",
       "&lt;/html&gt;\" style=\"position:absolute;width:100%;height:100%;left:0;top:0;border:none !important;\" allowfullscreen webkitallowfullscreen mozallowfullscreen></iframe></div></div>"
      ],
      "text/plain": [
       "<folium.folium.Map at 0x11e95b190>"
      ]
     },
     "execution_count": 26,
     "metadata": {},
     "output_type": "execute_result"
    }
   ],
   "source": [
    "import folium\n",
    "from folium.plugins import HeatMap\n",
    "df_folium_plot = pd.read_csv('plots_data/dashboard_folium.csv')\n",
    "df_folium_plot = df_folium_plot[df_folium_plot.lat != 0] \n",
    "date_start = '2023-01-01'\n",
    "date_end = '2024-01-01'\n",
    "df_folium_sorted = df_folium_plot[(df_folium_plot.upload_date >= date_start) & (df_folium_plot.upload_date <= date_end)]\n",
    "df_folium_sorted['heat'] = df_folium_sorted['view_count']\n",
    "df_folium_sorted['heat'] = (df_folium_sorted['heat'] - df_folium_sorted['heat'].min())/(df_folium_sorted['heat'].max() - df_folium_sorted['heat'].min())\n",
    "\n",
    "\n",
    "df_folium_sorted = df_folium_sorted[['lat','long','heat']]\n",
    "df_folium_sorted = df_folium_sorted.groupby(['lat','long']).mean().reset_index()\n",
    "lats_longs_weight = df_folium_sorted.values\n",
    "map_obj = folium.Map(location = [16.315487, 80.232213], zoom_start = 7,)\n",
    "HeatMap(lats_longs_weight,min_opacit=1,radius=10).add_to(map_obj)\n",
    "\n",
    "''' \n",
    "df_markers = df_folium_plot[['lat','long','name']].drop_duplicates()\n",
    "for i in range(len(df_markers)):\n",
    "    folium.CircleMarker([df_markers['lat'].values[i], df_markers['long'].values[i]], \n",
    "                popup=df_markers['name'].values[i],radius=3,color ='crimson'\n",
    "                ).add_to(map_obj)\n",
    "'''\n",
    "map_obj\n",
    "\n",
    "\n",
    "\n"
   ]
  },
  {
   "cell_type": "code",
   "execution_count": 31,
   "metadata": {},
   "outputs": [],
   "source": [
    "df_folium_plot = pd.read_csv('plots_data/dashboard_folium.csv')"
   ]
  },
  {
   "cell_type": "code",
   "execution_count": 32,
   "metadata": {},
   "outputs": [
    {
     "data": {
      "text/html": [
       "<div>\n",
       "<style scoped>\n",
       "    .dataframe tbody tr th:only-of-type {\n",
       "        vertical-align: middle;\n",
       "    }\n",
       "\n",
       "    .dataframe tbody tr th {\n",
       "        vertical-align: top;\n",
       "    }\n",
       "\n",
       "    .dataframe thead th {\n",
       "        text-align: right;\n",
       "    }\n",
       "</style>\n",
       "<table border=\"1\" class=\"dataframe\">\n",
       "  <thead>\n",
       "    <tr style=\"text-align: right;\">\n",
       "      <th></th>\n",
       "      <th>lat</th>\n",
       "      <th>long</th>\n",
       "      <th>upload_date</th>\n",
       "      <th>name</th>\n",
       "      <th>party</th>\n",
       "      <th>constituency</th>\n",
       "      <th>sentiment</th>\n",
       "      <th>view_count</th>\n",
       "      <th>uploader</th>\n",
       "    </tr>\n",
       "  </thead>\n",
       "  <tbody>\n",
       "    <tr>\n",
       "      <th>0</th>\n",
       "      <td>16.784508</td>\n",
       "      <td>81.076493</td>\n",
       "      <td>2023-02-16</td>\n",
       "      <td>Viswasarayi Kalavathi</td>\n",
       "      <td>YSRCP</td>\n",
       "      <td>Viswasarayi Kalavathi</td>\n",
       "      <td>-0.286784</td>\n",
       "      <td>2800.0</td>\n",
       "      <td>TV9</td>\n",
       "    </tr>\n",
       "    <tr>\n",
       "      <th>1</th>\n",
       "      <td>16.784508</td>\n",
       "      <td>81.076493</td>\n",
       "      <td>2022-09-14</td>\n",
       "      <td>Viswasarayi Kalavathi</td>\n",
       "      <td>YSRCP</td>\n",
       "      <td>Viswasarayi Kalavathi</td>\n",
       "      <td>-0.957865</td>\n",
       "      <td>34954.0</td>\n",
       "      <td>Sakshi</td>\n",
       "    </tr>\n",
       "    <tr>\n",
       "      <th>2</th>\n",
       "      <td>16.784508</td>\n",
       "      <td>81.076493</td>\n",
       "      <td>2022-12-21</td>\n",
       "      <td>Viswasarayi Kalavathi</td>\n",
       "      <td>YSRCP</td>\n",
       "      <td>Viswasarayi Kalavathi</td>\n",
       "      <td>0.898837</td>\n",
       "      <td>143728.0</td>\n",
       "      <td>TV9</td>\n",
       "    </tr>\n",
       "    <tr>\n",
       "      <th>3</th>\n",
       "      <td>16.784508</td>\n",
       "      <td>81.076493</td>\n",
       "      <td>2022-10-22</td>\n",
       "      <td>Viswasarayi Kalavathi</td>\n",
       "      <td>YSRCP</td>\n",
       "      <td>Viswasarayi Kalavathi</td>\n",
       "      <td>0.525788</td>\n",
       "      <td>1720.0</td>\n",
       "      <td>TV5</td>\n",
       "    </tr>\n",
       "    <tr>\n",
       "      <th>4</th>\n",
       "      <td>16.784508</td>\n",
       "      <td>81.076493</td>\n",
       "      <td>2022-09-10</td>\n",
       "      <td>Viswasarayi Kalavathi</td>\n",
       "      <td>YSRCP</td>\n",
       "      <td>Viswasarayi Kalavathi</td>\n",
       "      <td>-0.074041</td>\n",
       "      <td>551.0</td>\n",
       "      <td>TV5</td>\n",
       "    </tr>\n",
       "    <tr>\n",
       "      <th>...</th>\n",
       "      <td>...</td>\n",
       "      <td>...</td>\n",
       "      <td>...</td>\n",
       "      <td>...</td>\n",
       "      <td>...</td>\n",
       "      <td>...</td>\n",
       "      <td>...</td>\n",
       "      <td>...</td>\n",
       "      <td>...</td>\n",
       "    </tr>\n",
       "    <tr>\n",
       "      <th>276731</th>\n",
       "      <td>16.765315</td>\n",
       "      <td>80.926481</td>\n",
       "      <td>2022-08-05</td>\n",
       "      <td>gangula brijendra reddy</td>\n",
       "      <td>YSRCP</td>\n",
       "      <td>gangula brijendra reddy</td>\n",
       "      <td>0.495692</td>\n",
       "      <td>26021.0</td>\n",
       "      <td>Sakshi</td>\n",
       "    </tr>\n",
       "    <tr>\n",
       "      <th>276732</th>\n",
       "      <td>16.765315</td>\n",
       "      <td>80.926481</td>\n",
       "      <td>2022-10-26</td>\n",
       "      <td>gangula brijendra reddy</td>\n",
       "      <td>YSRCP</td>\n",
       "      <td>gangula brijendra reddy</td>\n",
       "      <td>-0.018102</td>\n",
       "      <td>2006.0</td>\n",
       "      <td>TV5</td>\n",
       "    </tr>\n",
       "    <tr>\n",
       "      <th>276733</th>\n",
       "      <td>16.765315</td>\n",
       "      <td>80.926481</td>\n",
       "      <td>2023-02-16</td>\n",
       "      <td>gangula brijendra reddy</td>\n",
       "      <td>YSRCP</td>\n",
       "      <td>gangula brijendra reddy</td>\n",
       "      <td>0.893092</td>\n",
       "      <td>1891.0</td>\n",
       "      <td>TV9</td>\n",
       "    </tr>\n",
       "    <tr>\n",
       "      <th>276734</th>\n",
       "      <td>16.765315</td>\n",
       "      <td>80.926481</td>\n",
       "      <td>2022-09-05</td>\n",
       "      <td>gangula brijendra reddy</td>\n",
       "      <td>YSRCP</td>\n",
       "      <td>gangula brijendra reddy</td>\n",
       "      <td>-0.045191</td>\n",
       "      <td>592.0</td>\n",
       "      <td>TV5</td>\n",
       "    </tr>\n",
       "    <tr>\n",
       "      <th>276735</th>\n",
       "      <td>16.765315</td>\n",
       "      <td>80.926481</td>\n",
       "      <td>2023-02-16</td>\n",
       "      <td>gangula brijendra reddy</td>\n",
       "      <td>YSRCP</td>\n",
       "      <td>gangula brijendra reddy</td>\n",
       "      <td>-0.641433</td>\n",
       "      <td>2895.0</td>\n",
       "      <td>TV9</td>\n",
       "    </tr>\n",
       "  </tbody>\n",
       "</table>\n",
       "<p>276736 rows × 9 columns</p>\n",
       "</div>"
      ],
      "text/plain": [
       "              lat       long upload_date                     name  party   \n",
       "0       16.784508  81.076493  2023-02-16    Viswasarayi Kalavathi  YSRCP  \\\n",
       "1       16.784508  81.076493  2022-09-14    Viswasarayi Kalavathi  YSRCP   \n",
       "2       16.784508  81.076493  2022-12-21    Viswasarayi Kalavathi  YSRCP   \n",
       "3       16.784508  81.076493  2022-10-22    Viswasarayi Kalavathi  YSRCP   \n",
       "4       16.784508  81.076493  2022-09-10    Viswasarayi Kalavathi  YSRCP   \n",
       "...           ...        ...         ...                      ...    ...   \n",
       "276731  16.765315  80.926481  2022-08-05  gangula brijendra reddy  YSRCP   \n",
       "276732  16.765315  80.926481  2022-10-26  gangula brijendra reddy  YSRCP   \n",
       "276733  16.765315  80.926481  2023-02-16  gangula brijendra reddy  YSRCP   \n",
       "276734  16.765315  80.926481  2022-09-05  gangula brijendra reddy  YSRCP   \n",
       "276735  16.765315  80.926481  2023-02-16  gangula brijendra reddy  YSRCP   \n",
       "\n",
       "                   constituency  sentiment  view_count uploader  \n",
       "0         Viswasarayi Kalavathi  -0.286784      2800.0      TV9  \n",
       "1         Viswasarayi Kalavathi  -0.957865     34954.0   Sakshi  \n",
       "2         Viswasarayi Kalavathi   0.898837    143728.0      TV9  \n",
       "3         Viswasarayi Kalavathi   0.525788      1720.0      TV5  \n",
       "4         Viswasarayi Kalavathi  -0.074041       551.0      TV5  \n",
       "...                         ...        ...         ...      ...  \n",
       "276731  gangula brijendra reddy   0.495692     26021.0   Sakshi  \n",
       "276732  gangula brijendra reddy  -0.018102      2006.0      TV5  \n",
       "276733  gangula brijendra reddy   0.893092      1891.0      TV9  \n",
       "276734  gangula brijendra reddy  -0.045191       592.0      TV5  \n",
       "276735  gangula brijendra reddy  -0.641433      2895.0      TV9  \n",
       "\n",
       "[276736 rows x 9 columns]"
      ]
     },
     "execution_count": 32,
     "metadata": {},
     "output_type": "execute_result"
    }
   ],
   "source": [
    "df_folium_plot"
   ]
  },
  {
   "cell_type": "markdown",
   "metadata": {},
   "source": [
    "## Bubble chart"
   ]
  },
  {
   "cell_type": "code",
   "execution_count": 27,
   "metadata": {},
   "outputs": [
    {
     "data": {
      "application/vnd.plotly.v1+json": {
       "config": {
        "plotlyServerURL": "https://plot.ly"
       },
       "data": [
        {
         "hovertemplate": "<b>%{hovertext}</b><br><br>party=YSRCP<br>view_count=%{x}<br>sentiment=%{y}<br>area=%{marker.size}<extra></extra>",
         "hovertext": [
          "Vizianagaram",
          "Chilakaluripet",
          "Pulivendula",
          "Kalayandurg",
          "Amalapuram_sc",
          "Nagari",
          "Pattikonda",
          "Sattenapalle",
          "Venkatagiri"
         ],
         "legendgroup": "YSRCP",
         "marker": {
          "color": "#038d45",
          "size": [
           1619077.7065811232,
           1618840.324436713,
           1400640.9651793756,
           783376.3363026294,
           758854.2382587976,
           690640.0812426822,
           625056.1355000841,
           539768.0221753921,
           422073.7680836224
          ],
          "sizemode": "area",
          "sizeref": 647.6310826324493,
          "symbol": "circle"
         },
         "mode": "markers",
         "name": "YSRCP",
         "orientation": "v",
         "showlegend": true,
         "type": "scatter",
         "x": [
          117423737,
          117417998,
          111885964,
          92184269,
          91212170,
          88392875,
          85501357,
          81420866,
          75011777
         ],
         "xaxis": "x",
         "y": [
          -0.16250139407206124,
          -0.1305330200909125,
          -0.06699981578235689,
          -0.11428243141962675,
          -0.12073391908375435,
          -0.03909509295863066,
          -0.13415996798775898,
          -0.2133086266107308,
          -0.20177988952843218
         ],
         "yaxis": "y"
        },
        {
         "hovertemplate": "<b>%{hovertext}</b><br><br>party=TDP<br>view_count=%{x}<br>sentiment=%{y}<br>area=%{marker.size}<extra></extra>",
         "hovertext": [
          "Tekkali"
         ],
         "legendgroup": "TDP",
         "marker": {
          "color": "#ffff00",
          "size": [
           651322.0375429888
          ],
          "sizemode": "area",
          "sizeref": 647.6310826324493,
          "symbol": "circle"
         },
         "mode": "markers",
         "name": "TDP",
         "orientation": "v",
         "showlegend": true,
         "type": "scatter",
         "x": [
          86682599
         ],
         "xaxis": "x",
         "y": [
          -0.2019677672400532
         ],
         "yaxis": "y"
        }
       ],
       "layout": {
        "legend": {
         "itemsizing": "constant",
         "title": {
          "text": "party"
         },
         "tracegroupgap": 0
        },
        "margin": {
         "t": 60
        },
        "paper_bgcolor": "rgb(243, 243, 243)",
        "plot_bgcolor": "rgb(243, 243, 243)",
        "template": {
         "data": {
          "bar": [
           {
            "error_x": {
             "color": "#2a3f5f"
            },
            "error_y": {
             "color": "#2a3f5f"
            },
            "marker": {
             "line": {
              "color": "#E5ECF6",
              "width": 0.5
             },
             "pattern": {
              "fillmode": "overlay",
              "size": 10,
              "solidity": 0.2
             }
            },
            "type": "bar"
           }
          ],
          "barpolar": [
           {
            "marker": {
             "line": {
              "color": "#E5ECF6",
              "width": 0.5
             },
             "pattern": {
              "fillmode": "overlay",
              "size": 10,
              "solidity": 0.2
             }
            },
            "type": "barpolar"
           }
          ],
          "carpet": [
           {
            "aaxis": {
             "endlinecolor": "#2a3f5f",
             "gridcolor": "white",
             "linecolor": "white",
             "minorgridcolor": "white",
             "startlinecolor": "#2a3f5f"
            },
            "baxis": {
             "endlinecolor": "#2a3f5f",
             "gridcolor": "white",
             "linecolor": "white",
             "minorgridcolor": "white",
             "startlinecolor": "#2a3f5f"
            },
            "type": "carpet"
           }
          ],
          "choropleth": [
           {
            "colorbar": {
             "outlinewidth": 0,
             "ticks": ""
            },
            "type": "choropleth"
           }
          ],
          "contour": [
           {
            "colorbar": {
             "outlinewidth": 0,
             "ticks": ""
            },
            "colorscale": [
             [
              0,
              "#0d0887"
             ],
             [
              0.1111111111111111,
              "#46039f"
             ],
             [
              0.2222222222222222,
              "#7201a8"
             ],
             [
              0.3333333333333333,
              "#9c179e"
             ],
             [
              0.4444444444444444,
              "#bd3786"
             ],
             [
              0.5555555555555556,
              "#d8576b"
             ],
             [
              0.6666666666666666,
              "#ed7953"
             ],
             [
              0.7777777777777778,
              "#fb9f3a"
             ],
             [
              0.8888888888888888,
              "#fdca26"
             ],
             [
              1,
              "#f0f921"
             ]
            ],
            "type": "contour"
           }
          ],
          "contourcarpet": [
           {
            "colorbar": {
             "outlinewidth": 0,
             "ticks": ""
            },
            "type": "contourcarpet"
           }
          ],
          "heatmap": [
           {
            "colorbar": {
             "outlinewidth": 0,
             "ticks": ""
            },
            "colorscale": [
             [
              0,
              "#0d0887"
             ],
             [
              0.1111111111111111,
              "#46039f"
             ],
             [
              0.2222222222222222,
              "#7201a8"
             ],
             [
              0.3333333333333333,
              "#9c179e"
             ],
             [
              0.4444444444444444,
              "#bd3786"
             ],
             [
              0.5555555555555556,
              "#d8576b"
             ],
             [
              0.6666666666666666,
              "#ed7953"
             ],
             [
              0.7777777777777778,
              "#fb9f3a"
             ],
             [
              0.8888888888888888,
              "#fdca26"
             ],
             [
              1,
              "#f0f921"
             ]
            ],
            "type": "heatmap"
           }
          ],
          "heatmapgl": [
           {
            "colorbar": {
             "outlinewidth": 0,
             "ticks": ""
            },
            "colorscale": [
             [
              0,
              "#0d0887"
             ],
             [
              0.1111111111111111,
              "#46039f"
             ],
             [
              0.2222222222222222,
              "#7201a8"
             ],
             [
              0.3333333333333333,
              "#9c179e"
             ],
             [
              0.4444444444444444,
              "#bd3786"
             ],
             [
              0.5555555555555556,
              "#d8576b"
             ],
             [
              0.6666666666666666,
              "#ed7953"
             ],
             [
              0.7777777777777778,
              "#fb9f3a"
             ],
             [
              0.8888888888888888,
              "#fdca26"
             ],
             [
              1,
              "#f0f921"
             ]
            ],
            "type": "heatmapgl"
           }
          ],
          "histogram": [
           {
            "marker": {
             "pattern": {
              "fillmode": "overlay",
              "size": 10,
              "solidity": 0.2
             }
            },
            "type": "histogram"
           }
          ],
          "histogram2d": [
           {
            "colorbar": {
             "outlinewidth": 0,
             "ticks": ""
            },
            "colorscale": [
             [
              0,
              "#0d0887"
             ],
             [
              0.1111111111111111,
              "#46039f"
             ],
             [
              0.2222222222222222,
              "#7201a8"
             ],
             [
              0.3333333333333333,
              "#9c179e"
             ],
             [
              0.4444444444444444,
              "#bd3786"
             ],
             [
              0.5555555555555556,
              "#d8576b"
             ],
             [
              0.6666666666666666,
              "#ed7953"
             ],
             [
              0.7777777777777778,
              "#fb9f3a"
             ],
             [
              0.8888888888888888,
              "#fdca26"
             ],
             [
              1,
              "#f0f921"
             ]
            ],
            "type": "histogram2d"
           }
          ],
          "histogram2dcontour": [
           {
            "colorbar": {
             "outlinewidth": 0,
             "ticks": ""
            },
            "colorscale": [
             [
              0,
              "#0d0887"
             ],
             [
              0.1111111111111111,
              "#46039f"
             ],
             [
              0.2222222222222222,
              "#7201a8"
             ],
             [
              0.3333333333333333,
              "#9c179e"
             ],
             [
              0.4444444444444444,
              "#bd3786"
             ],
             [
              0.5555555555555556,
              "#d8576b"
             ],
             [
              0.6666666666666666,
              "#ed7953"
             ],
             [
              0.7777777777777778,
              "#fb9f3a"
             ],
             [
              0.8888888888888888,
              "#fdca26"
             ],
             [
              1,
              "#f0f921"
             ]
            ],
            "type": "histogram2dcontour"
           }
          ],
          "mesh3d": [
           {
            "colorbar": {
             "outlinewidth": 0,
             "ticks": ""
            },
            "type": "mesh3d"
           }
          ],
          "parcoords": [
           {
            "line": {
             "colorbar": {
              "outlinewidth": 0,
              "ticks": ""
             }
            },
            "type": "parcoords"
           }
          ],
          "pie": [
           {
            "automargin": true,
            "type": "pie"
           }
          ],
          "scatter": [
           {
            "fillpattern": {
             "fillmode": "overlay",
             "size": 10,
             "solidity": 0.2
            },
            "type": "scatter"
           }
          ],
          "scatter3d": [
           {
            "line": {
             "colorbar": {
              "outlinewidth": 0,
              "ticks": ""
             }
            },
            "marker": {
             "colorbar": {
              "outlinewidth": 0,
              "ticks": ""
             }
            },
            "type": "scatter3d"
           }
          ],
          "scattercarpet": [
           {
            "marker": {
             "colorbar": {
              "outlinewidth": 0,
              "ticks": ""
             }
            },
            "type": "scattercarpet"
           }
          ],
          "scattergeo": [
           {
            "marker": {
             "colorbar": {
              "outlinewidth": 0,
              "ticks": ""
             }
            },
            "type": "scattergeo"
           }
          ],
          "scattergl": [
           {
            "marker": {
             "colorbar": {
              "outlinewidth": 0,
              "ticks": ""
             }
            },
            "type": "scattergl"
           }
          ],
          "scattermapbox": [
           {
            "marker": {
             "colorbar": {
              "outlinewidth": 0,
              "ticks": ""
             }
            },
            "type": "scattermapbox"
           }
          ],
          "scatterpolar": [
           {
            "marker": {
             "colorbar": {
              "outlinewidth": 0,
              "ticks": ""
             }
            },
            "type": "scatterpolar"
           }
          ],
          "scatterpolargl": [
           {
            "marker": {
             "colorbar": {
              "outlinewidth": 0,
              "ticks": ""
             }
            },
            "type": "scatterpolargl"
           }
          ],
          "scatterternary": [
           {
            "marker": {
             "colorbar": {
              "outlinewidth": 0,
              "ticks": ""
             }
            },
            "type": "scatterternary"
           }
          ],
          "surface": [
           {
            "colorbar": {
             "outlinewidth": 0,
             "ticks": ""
            },
            "colorscale": [
             [
              0,
              "#0d0887"
             ],
             [
              0.1111111111111111,
              "#46039f"
             ],
             [
              0.2222222222222222,
              "#7201a8"
             ],
             [
              0.3333333333333333,
              "#9c179e"
             ],
             [
              0.4444444444444444,
              "#bd3786"
             ],
             [
              0.5555555555555556,
              "#d8576b"
             ],
             [
              0.6666666666666666,
              "#ed7953"
             ],
             [
              0.7777777777777778,
              "#fb9f3a"
             ],
             [
              0.8888888888888888,
              "#fdca26"
             ],
             [
              1,
              "#f0f921"
             ]
            ],
            "type": "surface"
           }
          ],
          "table": [
           {
            "cells": {
             "fill": {
              "color": "#EBF0F8"
             },
             "line": {
              "color": "white"
             }
            },
            "header": {
             "fill": {
              "color": "#C8D4E3"
             },
             "line": {
              "color": "white"
             }
            },
            "type": "table"
           }
          ]
         },
         "layout": {
          "annotationdefaults": {
           "arrowcolor": "#2a3f5f",
           "arrowhead": 0,
           "arrowwidth": 1
          },
          "autotypenumbers": "strict",
          "coloraxis": {
           "colorbar": {
            "outlinewidth": 0,
            "ticks": ""
           }
          },
          "colorscale": {
           "diverging": [
            [
             0,
             "#8e0152"
            ],
            [
             0.1,
             "#c51b7d"
            ],
            [
             0.2,
             "#de77ae"
            ],
            [
             0.3,
             "#f1b6da"
            ],
            [
             0.4,
             "#fde0ef"
            ],
            [
             0.5,
             "#f7f7f7"
            ],
            [
             0.6,
             "#e6f5d0"
            ],
            [
             0.7,
             "#b8e186"
            ],
            [
             0.8,
             "#7fbc41"
            ],
            [
             0.9,
             "#4d9221"
            ],
            [
             1,
             "#276419"
            ]
           ],
           "sequential": [
            [
             0,
             "#0d0887"
            ],
            [
             0.1111111111111111,
             "#46039f"
            ],
            [
             0.2222222222222222,
             "#7201a8"
            ],
            [
             0.3333333333333333,
             "#9c179e"
            ],
            [
             0.4444444444444444,
             "#bd3786"
            ],
            [
             0.5555555555555556,
             "#d8576b"
            ],
            [
             0.6666666666666666,
             "#ed7953"
            ],
            [
             0.7777777777777778,
             "#fb9f3a"
            ],
            [
             0.8888888888888888,
             "#fdca26"
            ],
            [
             1,
             "#f0f921"
            ]
           ],
           "sequentialminus": [
            [
             0,
             "#0d0887"
            ],
            [
             0.1111111111111111,
             "#46039f"
            ],
            [
             0.2222222222222222,
             "#7201a8"
            ],
            [
             0.3333333333333333,
             "#9c179e"
            ],
            [
             0.4444444444444444,
             "#bd3786"
            ],
            [
             0.5555555555555556,
             "#d8576b"
            ],
            [
             0.6666666666666666,
             "#ed7953"
            ],
            [
             0.7777777777777778,
             "#fb9f3a"
            ],
            [
             0.8888888888888888,
             "#fdca26"
            ],
            [
             1,
             "#f0f921"
            ]
           ]
          },
          "colorway": [
           "#636efa",
           "#EF553B",
           "#00cc96",
           "#ab63fa",
           "#FFA15A",
           "#19d3f3",
           "#FF6692",
           "#B6E880",
           "#FF97FF",
           "#FECB52"
          ],
          "font": {
           "color": "#2a3f5f"
          },
          "geo": {
           "bgcolor": "white",
           "lakecolor": "white",
           "landcolor": "#E5ECF6",
           "showlakes": true,
           "showland": true,
           "subunitcolor": "white"
          },
          "hoverlabel": {
           "align": "left"
          },
          "hovermode": "closest",
          "mapbox": {
           "style": "light"
          },
          "paper_bgcolor": "white",
          "plot_bgcolor": "#E5ECF6",
          "polar": {
           "angularaxis": {
            "gridcolor": "white",
            "linecolor": "white",
            "ticks": ""
           },
           "bgcolor": "#E5ECF6",
           "radialaxis": {
            "gridcolor": "white",
            "linecolor": "white",
            "ticks": ""
           }
          },
          "scene": {
           "xaxis": {
            "backgroundcolor": "#E5ECF6",
            "gridcolor": "white",
            "gridwidth": 2,
            "linecolor": "white",
            "showbackground": true,
            "ticks": "",
            "zerolinecolor": "white"
           },
           "yaxis": {
            "backgroundcolor": "#E5ECF6",
            "gridcolor": "white",
            "gridwidth": 2,
            "linecolor": "white",
            "showbackground": true,
            "ticks": "",
            "zerolinecolor": "white"
           },
           "zaxis": {
            "backgroundcolor": "#E5ECF6",
            "gridcolor": "white",
            "gridwidth": 2,
            "linecolor": "white",
            "showbackground": true,
            "ticks": "",
            "zerolinecolor": "white"
           }
          },
          "shapedefaults": {
           "line": {
            "color": "#2a3f5f"
           }
          },
          "ternary": {
           "aaxis": {
            "gridcolor": "white",
            "linecolor": "white",
            "ticks": ""
           },
           "baxis": {
            "gridcolor": "white",
            "linecolor": "white",
            "ticks": ""
           },
           "bgcolor": "#E5ECF6",
           "caxis": {
            "gridcolor": "white",
            "linecolor": "white",
            "ticks": ""
           }
          },
          "title": {
           "x": 0.05
          },
          "xaxis": {
           "automargin": true,
           "gridcolor": "white",
           "linecolor": "white",
           "ticks": "",
           "title": {
            "standoff": 15
           },
           "zerolinecolor": "white",
           "zerolinewidth": 2
          },
          "yaxis": {
           "automargin": true,
           "gridcolor": "white",
           "linecolor": "white",
           "ticks": "",
           "title": {
            "standoff": 15
           },
           "zerolinecolor": "white",
           "zerolinewidth": 2
          }
         }
        },
        "title": {
         "text": "Constituency Graph"
        },
        "xaxis": {
         "anchor": "y",
         "domain": [
          0,
          1
         ],
         "gridcolor": "white",
         "gridwidth": 2,
         "title": {
          "text": "Views"
         },
         "type": "log"
        },
        "yaxis": {
         "anchor": "x",
         "domain": [
          0,
          1
         ],
         "gridcolor": "white",
         "gridwidth": 2,
         "title": {
          "text": "Sentiment"
         }
        }
       }
      }
     },
     "metadata": {},
     "output_type": "display_data"
    },
    {
     "data": {
      "application/vnd.plotly.v1+json": {
       "config": {
        "plotlyServerURL": "https://plot.ly"
       },
       "data": [
        {
         "alignmentgroup": "True",
         "hovertemplate": "party=YSRCP<br>constituency=%{x}<br>view_count=%{y}<extra></extra>",
         "legendgroup": "YSRCP",
         "marker": {
          "color": "#038d45",
          "line": {
           "width": 1.5
          },
          "pattern": {
           "shape": ""
          }
         },
         "name": "YSRCP",
         "offsetgroup": "YSRCP",
         "opacity": 0.6,
         "orientation": "v",
         "showlegend": true,
         "textposition": "auto",
         "texttemplate": "%{y:.2s}",
         "type": "bar",
         "x": [
          "Vizianagaram",
          "Chilakaluripet",
          "Pulivendula",
          "Kalayandurg",
          "Amalapuram_sc",
          "Nagari",
          "Pattikonda",
          "Sattenapalle",
          "Venkatagiri"
         ],
         "xaxis": "x",
         "y": [
          117423737,
          117417998,
          111885964,
          92184269,
          91212170,
          88392875,
          85501357,
          81420866,
          75011777
         ],
         "yaxis": "y"
        },
        {
         "alignmentgroup": "True",
         "hovertemplate": "party=TDP<br>constituency=%{x}<br>view_count=%{y}<extra></extra>",
         "legendgroup": "TDP",
         "marker": {
          "color": "#ffff00",
          "line": {
           "width": 1.5
          },
          "pattern": {
           "shape": ""
          }
         },
         "name": "TDP",
         "offsetgroup": "TDP",
         "opacity": 0.6,
         "orientation": "v",
         "showlegend": true,
         "textposition": "auto",
         "texttemplate": "%{y:.2s}",
         "type": "bar",
         "x": [
          "Tekkali"
         ],
         "xaxis": "x",
         "y": [
          86682599
         ],
         "yaxis": "y"
        }
       ],
       "layout": {
        "barmode": "relative",
        "legend": {
         "title": {
          "text": "party"
         },
         "tracegroupgap": 0
        },
        "margin": {
         "t": 60
        },
        "template": {
         "data": {
          "bar": [
           {
            "error_x": {
             "color": "#2a3f5f"
            },
            "error_y": {
             "color": "#2a3f5f"
            },
            "marker": {
             "line": {
              "color": "#E5ECF6",
              "width": 0.5
             },
             "pattern": {
              "fillmode": "overlay",
              "size": 10,
              "solidity": 0.2
             }
            },
            "type": "bar"
           }
          ],
          "barpolar": [
           {
            "marker": {
             "line": {
              "color": "#E5ECF6",
              "width": 0.5
             },
             "pattern": {
              "fillmode": "overlay",
              "size": 10,
              "solidity": 0.2
             }
            },
            "type": "barpolar"
           }
          ],
          "carpet": [
           {
            "aaxis": {
             "endlinecolor": "#2a3f5f",
             "gridcolor": "white",
             "linecolor": "white",
             "minorgridcolor": "white",
             "startlinecolor": "#2a3f5f"
            },
            "baxis": {
             "endlinecolor": "#2a3f5f",
             "gridcolor": "white",
             "linecolor": "white",
             "minorgridcolor": "white",
             "startlinecolor": "#2a3f5f"
            },
            "type": "carpet"
           }
          ],
          "choropleth": [
           {
            "colorbar": {
             "outlinewidth": 0,
             "ticks": ""
            },
            "type": "choropleth"
           }
          ],
          "contour": [
           {
            "colorbar": {
             "outlinewidth": 0,
             "ticks": ""
            },
            "colorscale": [
             [
              0,
              "#0d0887"
             ],
             [
              0.1111111111111111,
              "#46039f"
             ],
             [
              0.2222222222222222,
              "#7201a8"
             ],
             [
              0.3333333333333333,
              "#9c179e"
             ],
             [
              0.4444444444444444,
              "#bd3786"
             ],
             [
              0.5555555555555556,
              "#d8576b"
             ],
             [
              0.6666666666666666,
              "#ed7953"
             ],
             [
              0.7777777777777778,
              "#fb9f3a"
             ],
             [
              0.8888888888888888,
              "#fdca26"
             ],
             [
              1,
              "#f0f921"
             ]
            ],
            "type": "contour"
           }
          ],
          "contourcarpet": [
           {
            "colorbar": {
             "outlinewidth": 0,
             "ticks": ""
            },
            "type": "contourcarpet"
           }
          ],
          "heatmap": [
           {
            "colorbar": {
             "outlinewidth": 0,
             "ticks": ""
            },
            "colorscale": [
             [
              0,
              "#0d0887"
             ],
             [
              0.1111111111111111,
              "#46039f"
             ],
             [
              0.2222222222222222,
              "#7201a8"
             ],
             [
              0.3333333333333333,
              "#9c179e"
             ],
             [
              0.4444444444444444,
              "#bd3786"
             ],
             [
              0.5555555555555556,
              "#d8576b"
             ],
             [
              0.6666666666666666,
              "#ed7953"
             ],
             [
              0.7777777777777778,
              "#fb9f3a"
             ],
             [
              0.8888888888888888,
              "#fdca26"
             ],
             [
              1,
              "#f0f921"
             ]
            ],
            "type": "heatmap"
           }
          ],
          "heatmapgl": [
           {
            "colorbar": {
             "outlinewidth": 0,
             "ticks": ""
            },
            "colorscale": [
             [
              0,
              "#0d0887"
             ],
             [
              0.1111111111111111,
              "#46039f"
             ],
             [
              0.2222222222222222,
              "#7201a8"
             ],
             [
              0.3333333333333333,
              "#9c179e"
             ],
             [
              0.4444444444444444,
              "#bd3786"
             ],
             [
              0.5555555555555556,
              "#d8576b"
             ],
             [
              0.6666666666666666,
              "#ed7953"
             ],
             [
              0.7777777777777778,
              "#fb9f3a"
             ],
             [
              0.8888888888888888,
              "#fdca26"
             ],
             [
              1,
              "#f0f921"
             ]
            ],
            "type": "heatmapgl"
           }
          ],
          "histogram": [
           {
            "marker": {
             "pattern": {
              "fillmode": "overlay",
              "size": 10,
              "solidity": 0.2
             }
            },
            "type": "histogram"
           }
          ],
          "histogram2d": [
           {
            "colorbar": {
             "outlinewidth": 0,
             "ticks": ""
            },
            "colorscale": [
             [
              0,
              "#0d0887"
             ],
             [
              0.1111111111111111,
              "#46039f"
             ],
             [
              0.2222222222222222,
              "#7201a8"
             ],
             [
              0.3333333333333333,
              "#9c179e"
             ],
             [
              0.4444444444444444,
              "#bd3786"
             ],
             [
              0.5555555555555556,
              "#d8576b"
             ],
             [
              0.6666666666666666,
              "#ed7953"
             ],
             [
              0.7777777777777778,
              "#fb9f3a"
             ],
             [
              0.8888888888888888,
              "#fdca26"
             ],
             [
              1,
              "#f0f921"
             ]
            ],
            "type": "histogram2d"
           }
          ],
          "histogram2dcontour": [
           {
            "colorbar": {
             "outlinewidth": 0,
             "ticks": ""
            },
            "colorscale": [
             [
              0,
              "#0d0887"
             ],
             [
              0.1111111111111111,
              "#46039f"
             ],
             [
              0.2222222222222222,
              "#7201a8"
             ],
             [
              0.3333333333333333,
              "#9c179e"
             ],
             [
              0.4444444444444444,
              "#bd3786"
             ],
             [
              0.5555555555555556,
              "#d8576b"
             ],
             [
              0.6666666666666666,
              "#ed7953"
             ],
             [
              0.7777777777777778,
              "#fb9f3a"
             ],
             [
              0.8888888888888888,
              "#fdca26"
             ],
             [
              1,
              "#f0f921"
             ]
            ],
            "type": "histogram2dcontour"
           }
          ],
          "mesh3d": [
           {
            "colorbar": {
             "outlinewidth": 0,
             "ticks": ""
            },
            "type": "mesh3d"
           }
          ],
          "parcoords": [
           {
            "line": {
             "colorbar": {
              "outlinewidth": 0,
              "ticks": ""
             }
            },
            "type": "parcoords"
           }
          ],
          "pie": [
           {
            "automargin": true,
            "type": "pie"
           }
          ],
          "scatter": [
           {
            "fillpattern": {
             "fillmode": "overlay",
             "size": 10,
             "solidity": 0.2
            },
            "type": "scatter"
           }
          ],
          "scatter3d": [
           {
            "line": {
             "colorbar": {
              "outlinewidth": 0,
              "ticks": ""
             }
            },
            "marker": {
             "colorbar": {
              "outlinewidth": 0,
              "ticks": ""
             }
            },
            "type": "scatter3d"
           }
          ],
          "scattercarpet": [
           {
            "marker": {
             "colorbar": {
              "outlinewidth": 0,
              "ticks": ""
             }
            },
            "type": "scattercarpet"
           }
          ],
          "scattergeo": [
           {
            "marker": {
             "colorbar": {
              "outlinewidth": 0,
              "ticks": ""
             }
            },
            "type": "scattergeo"
           }
          ],
          "scattergl": [
           {
            "marker": {
             "colorbar": {
              "outlinewidth": 0,
              "ticks": ""
             }
            },
            "type": "scattergl"
           }
          ],
          "scattermapbox": [
           {
            "marker": {
             "colorbar": {
              "outlinewidth": 0,
              "ticks": ""
             }
            },
            "type": "scattermapbox"
           }
          ],
          "scatterpolar": [
           {
            "marker": {
             "colorbar": {
              "outlinewidth": 0,
              "ticks": ""
             }
            },
            "type": "scatterpolar"
           }
          ],
          "scatterpolargl": [
           {
            "marker": {
             "colorbar": {
              "outlinewidth": 0,
              "ticks": ""
             }
            },
            "type": "scatterpolargl"
           }
          ],
          "scatterternary": [
           {
            "marker": {
             "colorbar": {
              "outlinewidth": 0,
              "ticks": ""
             }
            },
            "type": "scatterternary"
           }
          ],
          "surface": [
           {
            "colorbar": {
             "outlinewidth": 0,
             "ticks": ""
            },
            "colorscale": [
             [
              0,
              "#0d0887"
             ],
             [
              0.1111111111111111,
              "#46039f"
             ],
             [
              0.2222222222222222,
              "#7201a8"
             ],
             [
              0.3333333333333333,
              "#9c179e"
             ],
             [
              0.4444444444444444,
              "#bd3786"
             ],
             [
              0.5555555555555556,
              "#d8576b"
             ],
             [
              0.6666666666666666,
              "#ed7953"
             ],
             [
              0.7777777777777778,
              "#fb9f3a"
             ],
             [
              0.8888888888888888,
              "#fdca26"
             ],
             [
              1,
              "#f0f921"
             ]
            ],
            "type": "surface"
           }
          ],
          "table": [
           {
            "cells": {
             "fill": {
              "color": "#EBF0F8"
             },
             "line": {
              "color": "white"
             }
            },
            "header": {
             "fill": {
              "color": "#C8D4E3"
             },
             "line": {
              "color": "white"
             }
            },
            "type": "table"
           }
          ]
         },
         "layout": {
          "annotationdefaults": {
           "arrowcolor": "#2a3f5f",
           "arrowhead": 0,
           "arrowwidth": 1
          },
          "autotypenumbers": "strict",
          "coloraxis": {
           "colorbar": {
            "outlinewidth": 0,
            "ticks": ""
           }
          },
          "colorscale": {
           "diverging": [
            [
             0,
             "#8e0152"
            ],
            [
             0.1,
             "#c51b7d"
            ],
            [
             0.2,
             "#de77ae"
            ],
            [
             0.3,
             "#f1b6da"
            ],
            [
             0.4,
             "#fde0ef"
            ],
            [
             0.5,
             "#f7f7f7"
            ],
            [
             0.6,
             "#e6f5d0"
            ],
            [
             0.7,
             "#b8e186"
            ],
            [
             0.8,
             "#7fbc41"
            ],
            [
             0.9,
             "#4d9221"
            ],
            [
             1,
             "#276419"
            ]
           ],
           "sequential": [
            [
             0,
             "#0d0887"
            ],
            [
             0.1111111111111111,
             "#46039f"
            ],
            [
             0.2222222222222222,
             "#7201a8"
            ],
            [
             0.3333333333333333,
             "#9c179e"
            ],
            [
             0.4444444444444444,
             "#bd3786"
            ],
            [
             0.5555555555555556,
             "#d8576b"
            ],
            [
             0.6666666666666666,
             "#ed7953"
            ],
            [
             0.7777777777777778,
             "#fb9f3a"
            ],
            [
             0.8888888888888888,
             "#fdca26"
            ],
            [
             1,
             "#f0f921"
            ]
           ],
           "sequentialminus": [
            [
             0,
             "#0d0887"
            ],
            [
             0.1111111111111111,
             "#46039f"
            ],
            [
             0.2222222222222222,
             "#7201a8"
            ],
            [
             0.3333333333333333,
             "#9c179e"
            ],
            [
             0.4444444444444444,
             "#bd3786"
            ],
            [
             0.5555555555555556,
             "#d8576b"
            ],
            [
             0.6666666666666666,
             "#ed7953"
            ],
            [
             0.7777777777777778,
             "#fb9f3a"
            ],
            [
             0.8888888888888888,
             "#fdca26"
            ],
            [
             1,
             "#f0f921"
            ]
           ]
          },
          "colorway": [
           "#636efa",
           "#EF553B",
           "#00cc96",
           "#ab63fa",
           "#FFA15A",
           "#19d3f3",
           "#FF6692",
           "#B6E880",
           "#FF97FF",
           "#FECB52"
          ],
          "font": {
           "color": "#2a3f5f"
          },
          "geo": {
           "bgcolor": "white",
           "lakecolor": "white",
           "landcolor": "#E5ECF6",
           "showlakes": true,
           "showland": true,
           "subunitcolor": "white"
          },
          "hoverlabel": {
           "align": "left"
          },
          "hovermode": "closest",
          "mapbox": {
           "style": "light"
          },
          "paper_bgcolor": "white",
          "plot_bgcolor": "#E5ECF6",
          "polar": {
           "angularaxis": {
            "gridcolor": "white",
            "linecolor": "white",
            "ticks": ""
           },
           "bgcolor": "#E5ECF6",
           "radialaxis": {
            "gridcolor": "white",
            "linecolor": "white",
            "ticks": ""
           }
          },
          "scene": {
           "xaxis": {
            "backgroundcolor": "#E5ECF6",
            "gridcolor": "white",
            "gridwidth": 2,
            "linecolor": "white",
            "showbackground": true,
            "ticks": "",
            "zerolinecolor": "white"
           },
           "yaxis": {
            "backgroundcolor": "#E5ECF6",
            "gridcolor": "white",
            "gridwidth": 2,
            "linecolor": "white",
            "showbackground": true,
            "ticks": "",
            "zerolinecolor": "white"
           },
           "zaxis": {
            "backgroundcolor": "#E5ECF6",
            "gridcolor": "white",
            "gridwidth": 2,
            "linecolor": "white",
            "showbackground": true,
            "ticks": "",
            "zerolinecolor": "white"
           }
          },
          "shapedefaults": {
           "line": {
            "color": "#2a3f5f"
           }
          },
          "ternary": {
           "aaxis": {
            "gridcolor": "white",
            "linecolor": "white",
            "ticks": ""
           },
           "baxis": {
            "gridcolor": "white",
            "linecolor": "white",
            "ticks": ""
           },
           "bgcolor": "#E5ECF6",
           "caxis": {
            "gridcolor": "white",
            "linecolor": "white",
            "ticks": ""
           }
          },
          "title": {
           "x": 0.05
          },
          "xaxis": {
           "automargin": true,
           "gridcolor": "white",
           "linecolor": "white",
           "ticks": "",
           "title": {
            "standoff": 15
           },
           "zerolinecolor": "white",
           "zerolinewidth": 2
          },
          "yaxis": {
           "automargin": true,
           "gridcolor": "white",
           "linecolor": "white",
           "ticks": "",
           "title": {
            "standoff": 15
           },
           "zerolinecolor": "white",
           "zerolinewidth": 2
          }
         }
        },
        "title": {
         "text": "Constituency Graph"
        },
        "xaxis": {
         "anchor": "y",
         "domain": [
          0,
          1
         ],
         "title": {
          "text": "Constituency"
         }
        },
        "yaxis": {
         "anchor": "x",
         "domain": [
          0,
          1
         ],
         "title": {
          "text": "Views"
         },
         "type": "log"
        }
       }
      }
     },
     "metadata": {},
     "output_type": "display_data"
    },
    {
     "data": {
      "application/vnd.plotly.v1+json": {
       "config": {
        "plotlyServerURL": "https://plot.ly"
       },
       "data": [
        {
         "branchvalues": "total",
         "customdata": [
          [
           -0.22386677137442998,
           "YSRCP"
          ],
          [
           -0.10610664691976322,
           "YSRCP"
          ],
          [
           -0.1797775848129594,
           "YSRCP"
          ],
          [
           -0.15422232141899864,
           "YSRCP"
          ],
          [
           -0.18393134299060201,
           "YSRCP"
          ],
          [
           -0.10306673714371978,
           "YSRCP"
          ],
          [
           -0.20714353225124416,
           "YSRCP"
          ],
          [
           -0.03909509295863066,
           "YSRCP"
          ],
          [
           -0.11605735202701066,
           "YSRCP"
          ],
          [
           -0.13670267329974609,
           "YSRCP"
          ],
          [
           -0.16325063956179742,
           "TDP"
          ],
          [
           -0.10512612329866099,
           "YSRCP"
          ],
          [
           -0.0025246617863479213,
           "YSRCP"
          ],
          [
           -0.13437763738632202,
           "YSRCP"
          ],
          [
           -0.14321766085589832,
           "YSRCP"
          ],
          [
           -0.051662858455411846,
           "YSRCP"
          ],
          [
           -0.17774273469630214,
           "YSRCP"
          ],
          [
           -0.11814016744654665,
           "YSRCP"
          ],
          [
           -0.0792186791454551,
           "YSRCP"
          ],
          [
           -0.16071239074827232,
           "YSRCP"
          ],
          [
           -0.16028762144200942,
           "YSRCP"
          ],
          [
           -0.08567387167229709,
           "TDP"
          ],
          [
           -0.18787727999476206,
           "YSRCP"
          ],
          [
           0.020095491496315846,
           "YSRCP"
          ],
          [
           -0.2593911770512076,
           "TDP"
          ],
          [
           -0.16906245036608297,
           "YSRCP"
          ],
          [
           -0.1969155544326419,
           "TDP"
          ],
          [
           -0.2848890222370897,
           "YSRCP"
          ],
          [
           -0.20884855196821644,
           "YSRCP"
          ],
          [
           -0.2848890222370897,
           "JSP"
          ],
          [
           -0.13983839613267746,
           "YSRCP"
          ],
          [
           -0.13583110031420298,
           "YSRCP"
          ],
          [
           -0.1837581181644506,
           "YSRCP"
          ],
          [
           -0.05843913718765857,
           "YSRCP"
          ],
          [
           -0.12685222739365018,
           "YSRCP"
          ],
          [
           -0.2300069581558108,
           "YSRCP"
          ],
          [
           -0.10080108714627696,
           "YSRCP"
          ],
          [
           -0.0483773853503117,
           "YSRCP"
          ],
          [
           -0.13415996798775898,
           "YSRCP"
          ],
          [
           -0.1553468499697891,
           "YSRCP"
          ],
          [
           -0.13001821230097516,
           "YSRCP"
          ],
          [
           -0.1977547729001537,
           "YSRCP"
          ],
          [
           -0.15760452365210662,
           "TDP"
          ],
          [
           -0.16048027594701644,
           "YSRCP"
          ],
          [
           -0.15118944108486176,
           "YSRCP"
          ],
          [
           -0.1942180950677066,
           "YSRCP"
          ],
          [
           -0.17559263102874195,
           "YSRCP"
          ],
          [
           -0.11688911283973359,
           "YSRCP"
          ],
          [
           -0.06251594096279602,
           "YSRCP"
          ],
          [
           -0.1626088514310873,
           "YSRCP"
          ],
          [
           -0.16445090311654606,
           "YSRCP"
          ],
          [
           -0.06699981578235689,
           "YSRCP"
          ],
          [
           -0.18731862716916678,
           "YSRCP"
          ],
          [
           -0.020237691957375094,
           "YSRCP"
          ],
          [
           -0.20079583183739536,
           "YSRCP"
          ],
          [
           -0.23677294340608346,
           "YSRCP"
          ],
          [
           -0.2133086266107308,
           "YSRCP"
          ],
          [
           -0.20177988952843218,
           "YSRCP"
          ],
          [
           -0.1355183151342886,
           "TDP"
          ],
          [
           -0.1280826374536098,
           "TDP"
          ],
          [
           -0.1752725137499636,
           "YSRCP"
          ],
          [
           -0.0851574913531611,
           "YSRCP"
          ],
          [
           -0.16250139407206124,
           "YSRCP"
          ],
          [
           0.27056660977276886,
           "YSRCP"
          ],
          [
           -0.10344140516238266,
           "YSRCP"
          ],
          [
           -0.11811974737964721,
           "YSRCP"
          ],
          [
           -0.06410699173023826,
           "YSRCP"
          ],
          [
           -0.13972768792762855,
           "YSRCP"
          ],
          [
           -0.14188118363909152,
           "YSRCP"
          ],
          [
           -0.09862635435946676,
           "YSRCP"
          ],
          [
           -0.16079312182949324,
           "TDP"
          ],
          [
           -0.11663546970734634,
           "YSRCP"
          ],
          [
           -0.1347522965193573,
           "YSRCP"
          ],
          [
           -0.20644689839461755,
           "TDP"
          ],
          [
           0.029228611413491975,
           "TDP"
          ],
          [
           -0.12474043190571403,
           "YSRCP"
          ],
          [
           -0.1776768672337331,
           "YSRCP"
          ],
          [
           -0.1535039296069216,
           "TDP"
          ],
          [
           -0.19335226956929003,
           "TDP"
          ],
          [
           -0.16332905024547742,
           "YSRCP"
          ],
          [
           -0.0318147886120748,
           "YSRCP"
          ],
          [
           -0.1834539464433267,
           "TDP"
          ],
          [
           -0.21163972322717473,
           "YSRCP"
          ],
          [
           -0.13480139876856947,
           "YSRCP"
          ],
          [
           -0.1358200525712019,
           "YSRCP"
          ],
          [
           -0.10569527967457186,
           "YSRCP"
          ],
          [
           -0.1511198871918307,
           "YSRCP"
          ],
          [
           -0.2512193620427165,
           "YSRCP"
          ],
          [
           -0.19741141765009068,
           "YSRCP"
          ],
          [
           -0.21984621359080803,
           "YSRCP"
          ],
          [
           -0.2019677672400532,
           "TDP"
          ],
          [
           -0.21823823487343305,
           "YSRCP"
          ],
          [
           -0.26316453201307666,
           "YSRCP"
          ],
          [
           -0.05610965717406499,
           "YSRCP"
          ],
          [
           -0.09469724894124666,
           "YSRCP"
          ],
          [
           -0.2966302139759064,
           "YSRCP"
          ],
          [
           -0.13507513509759647,
           "YSRCP"
          ],
          [
           -0.03339797772949548,
           "YSRCP"
          ],
          [
           -0.18647920163856008,
           "YSRCP"
          ],
          [
           -0.4706915176433066,
           "YSRCP"
          ],
          [
           -0.23922997520815942,
           "YSRCP"
          ],
          [
           -0.10426791394052427,
           "YSRCP"
          ],
          [
           -0.19317567039210842,
           "YSRCP"
          ],
          [
           -0.20296397551395107,
           "YSRCP"
          ],
          [
           -0.21111541495744482,
           "YSRCP"
          ],
          [
           -0.054421326707279866,
           "YSRCP"
          ],
          [
           -0.16462647319579538,
           "YSRCP"
          ],
          [
           -0.14226120569541936,
           "YSRCP"
          ],
          [
           -0.2230190731689617,
           "YSRCP"
          ],
          [
           -0.26183551819093764,
           "YSRCP"
          ],
          [
           -0.20086136806626192,
           "YSRCP"
          ],
          [
           -0.05365007453494602,
           "YSRCP"
          ],
          [
           0.06577070111578161,
           "YSRCP"
          ],
          [
           -0.18006668366351217,
           "YSRCP"
          ],
          [
           0.15277738639941582,
           "YSRCP"
          ],
          [
           -0.15378404274964944,
           "YSRCP"
          ],
          [
           -0.21385386735200881,
           "TDP"
          ],
          [
           -0.24467846135904803,
           "YSRCP"
          ],
          [
           -0.1854007133544999,
           "TDP"
          ],
          [
           -0.17392904974740267,
           "YSRCP"
          ],
          [
           0.10329292871450126,
           "YSRCP"
          ],
          [
           -0.1943513191852373,
           "YSRCP"
          ],
          [
           -0.1305330200909125,
           "YSRCP"
          ],
          [
           -0.28568747605400524,
           "TDP"
          ],
          [
           -0.14306667380176472,
           "YSRCP"
          ],
          [
           -0.1895081810900573,
           "YSRCP"
          ],
          [
           -0.19730725390179013,
           "YSRCP"
          ],
          [
           -0.18281525618409458,
           "YSRCP"
          ],
          [
           -0.12073391908375435,
           "YSRCP"
          ],
          [
           -0.09604792142926107,
           "YSRCP"
          ],
          [
           0.038361307845186834,
           "YSRCP"
          ],
          [
           -0.11396525222543291,
           "YSRCP"
          ],
          [
           0.11071256370771498,
           "YSRCP"
          ],
          [
           -0.17364560002865997,
           "YSRCP"
          ],
          [
           0.0602002599266138,
           "YSRCP"
          ],
          [
           -0.2579367223347448,
           "YSRCP"
          ],
          [
           -0.19246525539703188,
           "YSRCP"
          ],
          [
           -0.127606280737958,
           "YSRCP"
          ],
          [
           -0.19109757755749437,
           "YSRCP"
          ],
          [
           -0.12247008420862593,
           "YSRCP"
          ],
          [
           -0.24943612064694015,
           "YSRCP"
          ],
          [
           0.1390642772528751,
           "YSRCP"
          ],
          [
           -0.1718793116964386,
           "TDP"
          ],
          [
           0.18282064249817753,
           "TDP"
          ],
          [
           -0.18027570100979032,
           "YSRCP"
          ],
          [
           -0.17759765879489048,
           "YSRCP"
          ],
          [
           -0.07877096781114332,
           "YSRCP"
          ],
          [
           -0.20840882988436704,
           "YSRCP"
          ],
          [
           -0.19203006376358578,
           "YSRCP"
          ],
          [
           -0.0023465766148133738,
           "YSRCP"
          ],
          [
           -0.1763958362622709,
           "YSRCP"
          ],
          [
           -0.09707259236806448,
           "YSRCP"
          ],
          [
           -0.2078482905924469,
           "YSRCP"
          ],
          [
           -0.2294813935064348,
           "YSRCP"
          ],
          [
           -0.14199379855498356,
           "YSRCP"
          ],
          [
           -0.198489636397809,
           "YSRCP"
          ],
          [
           -0.18140215704501686,
           "YSRCP"
          ],
          [
           0.1091644828383987,
           "YSRCP"
          ],
          [
           -0.14851487431175264,
           "YSRCP"
          ],
          [
           -0.2327723680849535,
           "YSRCP"
          ],
          [
           -0.08887236820555282,
           "YSRCP"
          ],
          [
           -0.05052785764416124,
           "YSRCP"
          ],
          [
           -0.14929595658945483,
           "YSRCP"
          ],
          [
           -0.1706681159660432,
           "YSRCP"
          ],
          [
           -0.1495148660406359,
           "YSRCP"
          ],
          [
           -0.12670080003453724,
           "TDP"
          ],
          [
           -0.20603231420119603,
           "YSRCP"
          ],
          [
           -0.19408679504739754,
           "YSRCP"
          ],
          [
           -0.12005505843802013,
           "YSRCP"
          ],
          [
           -0.0037572501486192395,
           "YSRCP"
          ],
          [
           -0.2631515889103842,
           "YSRCP"
          ],
          [
           -0.11428243141962675,
           "YSRCP"
          ],
          [
           -0.06258782634028683,
           "YSRCP"
          ],
          [
           -0.2857244142464229,
           "YSRCP"
          ],
          [
           0.010385817603061072,
           "YSRCP"
          ],
          [
           -0.1529831871527269,
           "YSRCP"
          ],
          [
           0.009821358768419287,
           "YSRCP"
          ],
          [
           -0.09273869356841406,
           "YSRCP"
          ],
          [
           -0.2605996916168614,
           "YSRCP"
          ],
          [
           -0.0869708251953125,
           "TDP"
          ],
          [
           -0.11362033596808908,
           "YSRCP"
          ],
          [
           -0.10800551937435383,
           "YSRCP"
          ],
          [
           -0.27837579317026206,
           "YSRCP"
          ],
          [
           -0.2607058779381105,
           "YSRCP"
          ],
          [
           -0.1511806005384864,
           "YSRCP"
          ],
          [
           -0.13873767322079633,
           "YSRCP"
          ],
          [
           -0.1614666441361908,
           "TDP"
          ],
          [
           -0.2848890222370897,
           "JSP"
          ],
          [
           "(?)",
           "TDP"
          ],
          [
           "(?)",
           "YSRCP"
          ],
          [
           "(?)",
           "(?)"
          ]
         ],
         "domain": {
          "x": [
           0,
           1
          ],
          "y": [
           0,
           1
          ]
         },
         "hovertemplate": "labels=%{label}<br>view_count=%{value}<br>parent=%{parent}<br>id=%{id}<br>sentiment=%{customdata[0]}<br>party=%{customdata[1]}<extra></extra>",
         "ids": [
          "Parties/YSRCP/Nellore_Rural",
          "Parties/YSRCP/Markapuram",
          "Parties/YSRCP/Tuni",
          "Parties/YSRCP/Puthalapattu",
          "Parties/YSRCP/Chodavaram",
          "Parties/YSRCP/Kadapa",
          "Parties/YSRCP/Ramchandrapuram",
          "Parties/YSRCP/Nagari",
          "Parties/YSRCP/Chandragiri",
          "Parties/YSRCP/Penukonda",
          "Parties/TDP/Rajahmundry_city",
          "Parties/YSRCP/Badvel_sc",
          "Parties/YSRCP/Avanigadda",
          "Parties/YSRCP/Yemmiganur",
          "Parties/YSRCP/Etcherla",
          "Parties/YSRCP/Srikalahasti",
          "Parties/YSRCP/Kanigiri",
          "Parties/YSRCP/Nidadavole",
          "Parties/YSRCP/Pathapatnam",
          "Parties/YSRCP/Amalapuram",
          "Parties/YSRCP/Gurazala",
          "Parties/TDP/parchoor",
          "Parties/YSRCP/vijayawada_central",
          "Parties/YSRCP/Salur",
          "Parties/TDP/Rajahmundry_rural",
          "Parties/YSRCP/Rajampet",
          "Parties/TDP/Repalle",
          "Parties/YSRCP/Razole",
          "Parties/YSRCP/Raptadu",
          "Parties/JSP/Razole_sc",
          "Parties/YSRCP/Rayadurgam",
          "Parties/YSRCP/Raychoti",
          "Parties/YSRCP/Razam",
          "Parties/YSRCP/Rajanagram",
          "Parties/YSRCP/Rampachodavaram",
          "Parties/YSRCP/Achanta",
          "Parties/YSRCP/Puttaparthi",
          "Parties/YSRCP/Parvathipuram",
          "Parties/YSRCP/Pattikonda",
          "Parties/YSRCP/Payakaraopeta",
          "Parties/YSRCP/Pedakurapadu",
          "Parties/YSRCP/Pedana",
          "Parties/TDP/Peddapuram",
          "Parties/YSRCP/Penamaluru",
          "Parties/YSRCP/Rajahmundry",
          "Parties/YSRCP/Pendurthi",
          "Parties/YSRCP/Pithapuram",
          "Parties/YSRCP/Polavaram",
          "Parties/YSRCP/Ponnuru",
          "Parties/YSRCP/Prathipadu",
          "Parties/YSRCP/Proddatur",
          "Parties/YSRCP/Pulivendula",
          "Parties/YSRCP/Punganur",
          "Parties/YSRCP/Pileru",
          "Parties/YSRCP/Santhanuthalapadu_sc",
          "Parties/YSRCP/Srikakulam",
          "Parties/YSRCP/Sattenapalle",
          "Parties/YSRCP/Venkatagiri",
          "Parties/TDP/Vijayawada",
          "Parties/TDP/Vijayawada_east",
          "Parties/YSRCP/Vinukonda",
          "Parties/YSRCP/Visakhapatnam",
          "Parties/YSRCP/Vizianagaram",
          "Parties/YSRCP/Yelamanchili",
          "Parties/YSRCP/Yerragondapalem",
          "Parties/YSRCP/Vemuru",
          "Parties/YSRCP/anakapalle",
          "Parties/YSRCP/kadapa",
          "Parties/YSRCP/kaikaluru",
          "Parties/YSRCP/kakinada_rural",
          "Parties/TDP/kondapi",
          "Parties/YSRCP/kovvur",
          "Parties/YSRCP/vijayawada_west",
          "Parties/TDP/vishakapatnam_east",
          "Parties/TDP/vishakapatnam_north",
          "Parties/YSRCP/bheemili",
          "Parties/YSRCP/Sarvepalli",
          "Parties/TDP/Uravakonda",
          "Parties/TDP/Undi",
          "Parties/YSRCP/Satyavedu_sc",
          "Parties/YSRCP/Singanamala",
          "Parties/TDP/Srikakulam",
          "Parties/YSRCP/Panyam",
          "Parties/YSRCP/Srisailam",
          "Parties/YSRCP/Srungavarapukota",
          "Parties/YSRCP/Sullurpeta_sc",
          "Parties/YSRCP/Tadepalligudem",
          "Parties/YSRCP/Unguturu",
          "Parties/YSRCP/Tadikonda_sc",
          "Parties/YSRCP/Tanuku",
          "Parties/TDP/Tekkali",
          "Parties/YSRCP/Tenali",
          "Parties/YSRCP/Thamballapalle",
          "Parties/YSRCP/Tirupati",
          "Parties/YSRCP/Tirupati_sc",
          "Parties/YSRCP/Tiruvuru",
          "Parties/YSRCP/Udayagiri",
          "Parties/YSRCP/Tadipatri",
          "Parties/YSRCP/Pamarru",
          "Parties/YSRCP/Nuzivid",
          "Parties/YSRCP/Palasa",
          "Parties/YSRCP/Chittoor_sc",
          "Parties/YSRCP/Darsi",
          "Parties/YSRCP/Denduluru",
          "Parties/YSRCP/Dharmavaram",
          "Parties/YSRCP/Dhone",
          "Parties/YSRCP/Eluru",
          "Parties/YSRCP/Gajapathinagaram",
          "Parties/YSRCP/Gangadhara nellore_sc",
          "Parties/YSRCP/Chittoor",
          "Parties/YSRCP/Gannavaram",
          "Parties/YSRCP/Giddalur",
          "Parties/YSRCP/Gopalapuram",
          "Parties/YSRCP/Gudivada",
          "Parties/YSRCP/Gudur_sc",
          "Parties/YSRCP/Guntakal",
          "Parties/TDP/Guntur",
          "Parties/YSRCP/Guntur_East",
          "Parties/TDP/Hindupur",
          "Parties/YSRCP/Gannavaram_sc",
          "Parties/YSRCP/Hindupur",
          "Parties/YSRCP/Chirala",
          "Parties/YSRCP/Chilakaluripet",
          "Parties/TDP/Addanki",
          "Parties/YSRCP/Adoni",
          "Parties/YSRCP/Allagadda",
          "Parties/YSRCP/Alur",
          "Parties/YSRCP/Amadalavasa",
          "Parties/YSRCP/Amalapuram_sc",
          "Parties/YSRCP/Anakapalli",
          "Parties/YSRCP/Anantapur",
          "Parties/YSRCP/Chintalapudi",
          "Parties/YSRCP/Anaparty",
          "Parties/YSRCP/Araku_valley",
          "Parties/YSRCP/Atmakur",
          "Parties/YSRCP/Banaganapalle",
          "Parties/YSRCP/Bapatla",
          "Parties/YSRCP/Baptla_sc",
          "Parties/YSRCP/Bhimavaram",
          "Parties/YSRCP/Bobbili",
          "Parties/YSRCP/Cheepurupalli",
          "Parties/YSRCP/Araku_st",
          "Parties/TDP/Pallakollu",
          "Parties/TDP/Ichchapuram",
          "Parties/YSRCP/Jaggayyapeta",
          "Parties/YSRCP/Mantralayam",
          "Parties/YSRCP/Mummidivaram",
          "Parties/YSRCP/Mydukur",
          "Parties/YSRCP/Mylavaram",
          "Parties/YSRCP/Nandigama_sc",
          "Parties/YSRCP/Nandikotkur_sc",
          "Parties/YSRCP/Nandyal",
          "Parties/YSRCP/Narasannapeta",
          "Parties/YSRCP/Mangalagiri",
          "Parties/YSRCP/Narasaraopet",
          "Parties/YSRCP/Nellimarla",
          "Parties/YSRCP/Nellore",
          "Parties/YSRCP/Nellore_city",
          "Parties/YSRCP/vishakapatnam_south",
          "Parties/YSRCP/Ongole",
          "Parties/YSRCP/Paderu",
          "Parties/YSRCP/Palakonda",
          "Parties/YSRCP/Palamaner",
          "Parties/YSRCP/Narsapuram",
          "Parties/YSRCP/Jaggampeta",
          "Parties/TDP/Mandapeta",
          "Parties/YSRCP/Madanapalle",
          "Parties/YSRCP/Jammalamadugu",
          "Parties/YSRCP/Kadiri",
          "Parties/YSRCP/Kakinada",
          "Parties/YSRCP/Kakinada_city",
          "Parties/YSRCP/Kalayandurg",
          "Parties/YSRCP/Kamalapuram",
          "Parties/YSRCP/Kandukur",
          "Parties/YSRCP/Kavali",
          "Parties/YSRCP/Madugula",
          "Parties/YSRCP/Kodumur_sc",
          "Parties/YSRCP/Kothapeta",
          "Parties/YSRCP/Kovur",
          "Parties/TDP/Kuppam",
          "Parties/YSRCP/Kurnool",
          "Parties/YSRCP/Kurupam",
          "Parties/YSRCP/Macherla",
          "Parties/YSRCP/Machillipatnam",
          "Parties/YSRCP/Madakasira",
          "Parties/YSRCP/Kodur_sc",
          "Parties/TDP/vishakapatnam_west",
          "Parties/JSP",
          "Parties/TDP",
          "Parties/YSRCP",
          "Parties"
         ],
         "labels": [
          "Nellore_Rural",
          "Markapuram",
          "Tuni",
          "Puthalapattu",
          "Chodavaram",
          "Kadapa",
          "Ramchandrapuram",
          "Nagari",
          "Chandragiri",
          "Penukonda",
          "Rajahmundry_city",
          "Badvel_sc",
          "Avanigadda",
          "Yemmiganur",
          "Etcherla",
          "Srikalahasti",
          "Kanigiri",
          "Nidadavole",
          "Pathapatnam",
          "Amalapuram",
          "Gurazala",
          "parchoor",
          "vijayawada_central",
          "Salur",
          "Rajahmundry_rural",
          "Rajampet",
          "Repalle",
          "Razole",
          "Raptadu",
          "Razole_sc",
          "Rayadurgam",
          "Raychoti",
          "Razam",
          "Rajanagram",
          "Rampachodavaram",
          "Achanta",
          "Puttaparthi",
          "Parvathipuram",
          "Pattikonda",
          "Payakaraopeta",
          "Pedakurapadu",
          "Pedana",
          "Peddapuram",
          "Penamaluru",
          "Rajahmundry",
          "Pendurthi",
          "Pithapuram",
          "Polavaram",
          "Ponnuru",
          "Prathipadu",
          "Proddatur",
          "Pulivendula",
          "Punganur",
          "Pileru",
          "Santhanuthalapadu_sc",
          "Srikakulam",
          "Sattenapalle",
          "Venkatagiri",
          "Vijayawada",
          "Vijayawada_east",
          "Vinukonda",
          "Visakhapatnam",
          "Vizianagaram",
          "Yelamanchili",
          "Yerragondapalem",
          "Vemuru",
          "anakapalle",
          "kadapa",
          "kaikaluru",
          "kakinada_rural",
          "kondapi",
          "kovvur",
          "vijayawada_west",
          "vishakapatnam_east",
          "vishakapatnam_north",
          "bheemili",
          "Sarvepalli",
          "Uravakonda",
          "Undi",
          "Satyavedu_sc",
          "Singanamala",
          "Srikakulam",
          "Panyam",
          "Srisailam",
          "Srungavarapukota",
          "Sullurpeta_sc",
          "Tadepalligudem",
          "Unguturu",
          "Tadikonda_sc",
          "Tanuku",
          "Tekkali",
          "Tenali",
          "Thamballapalle",
          "Tirupati",
          "Tirupati_sc",
          "Tiruvuru",
          "Udayagiri",
          "Tadipatri",
          "Pamarru",
          "Nuzivid",
          "Palasa",
          "Chittoor_sc",
          "Darsi",
          "Denduluru",
          "Dharmavaram",
          "Dhone",
          "Eluru",
          "Gajapathinagaram",
          "Gangadhara nellore_sc",
          "Chittoor",
          "Gannavaram",
          "Giddalur",
          "Gopalapuram",
          "Gudivada",
          "Gudur_sc",
          "Guntakal",
          "Guntur",
          "Guntur_East",
          "Hindupur",
          "Gannavaram_sc",
          "Hindupur",
          "Chirala",
          "Chilakaluripet",
          "Addanki",
          "Adoni",
          "Allagadda",
          "Alur",
          "Amadalavasa",
          "Amalapuram_sc",
          "Anakapalli",
          "Anantapur",
          "Chintalapudi",
          "Anaparty",
          "Araku_valley",
          "Atmakur",
          "Banaganapalle",
          "Bapatla",
          "Baptla_sc",
          "Bhimavaram",
          "Bobbili",
          "Cheepurupalli",
          "Araku_st",
          "Pallakollu",
          "Ichchapuram",
          "Jaggayyapeta",
          "Mantralayam",
          "Mummidivaram",
          "Mydukur",
          "Mylavaram",
          "Nandigama_sc",
          "Nandikotkur_sc",
          "Nandyal",
          "Narasannapeta",
          "Mangalagiri",
          "Narasaraopet",
          "Nellimarla",
          "Nellore",
          "Nellore_city",
          "vishakapatnam_south",
          "Ongole",
          "Paderu",
          "Palakonda",
          "Palamaner",
          "Narsapuram",
          "Jaggampeta",
          "Mandapeta",
          "Madanapalle",
          "Jammalamadugu",
          "Kadiri",
          "Kakinada",
          "Kakinada_city",
          "Kalayandurg",
          "Kamalapuram",
          "Kandukur",
          "Kavali",
          "Madugula",
          "Kodumur_sc",
          "Kothapeta",
          "Kovur",
          "Kuppam",
          "Kurnool",
          "Kurupam",
          "Macherla",
          "Machillipatnam",
          "Madakasira",
          "Kodur_sc",
          "vishakapatnam_west",
          "JSP",
          "TDP",
          "YSRCP",
          "Parties"
         ],
         "marker": {
          "colors": [
           "#038d45",
           "#038d45",
           "#038d45",
           "#038d45",
           "#038d45",
           "#038d45",
           "#038d45",
           "#038d45",
           "#038d45",
           "#038d45",
           "#ffff00",
           "#038d45",
           "#038d45",
           "#038d45",
           "#038d45",
           "#038d45",
           "#038d45",
           "#038d45",
           "#038d45",
           "#038d45",
           "#038d45",
           "#ffff00",
           "#038d45",
           "#038d45",
           "#ffff00",
           "#038d45",
           "#ffff00",
           "#038d45",
           "#038d45",
           "#f10003",
           "#038d45",
           "#038d45",
           "#038d45",
           "#038d45",
           "#038d45",
           "#038d45",
           "#038d45",
           "#038d45",
           "#038d45",
           "#038d45",
           "#038d45",
           "#038d45",
           "#ffff00",
           "#038d45",
           "#038d45",
           "#038d45",
           "#038d45",
           "#038d45",
           "#038d45",
           "#038d45",
           "#038d45",
           "#038d45",
           "#038d45",
           "#038d45",
           "#038d45",
           "#038d45",
           "#038d45",
           "#038d45",
           "#ffff00",
           "#ffff00",
           "#038d45",
           "#038d45",
           "#038d45",
           "#038d45",
           "#038d45",
           "#038d45",
           "#038d45",
           "#038d45",
           "#038d45",
           "#038d45",
           "#ffff00",
           "#038d45",
           "#038d45",
           "#ffff00",
           "#ffff00",
           "#038d45",
           "#038d45",
           "#ffff00",
           "#ffff00",
           "#038d45",
           "#038d45",
           "#ffff00",
           "#038d45",
           "#038d45",
           "#038d45",
           "#038d45",
           "#038d45",
           "#038d45",
           "#038d45",
           "#038d45",
           "#ffff00",
           "#038d45",
           "#038d45",
           "#038d45",
           "#038d45",
           "#038d45",
           "#038d45",
           "#038d45",
           "#038d45",
           "#038d45",
           "#038d45",
           "#038d45",
           "#038d45",
           "#038d45",
           "#038d45",
           "#038d45",
           "#038d45",
           "#038d45",
           "#038d45",
           "#038d45",
           "#038d45",
           "#038d45",
           "#038d45",
           "#038d45",
           "#038d45",
           "#038d45",
           "#ffff00",
           "#038d45",
           "#ffff00",
           "#038d45",
           "#038d45",
           "#038d45",
           "#038d45",
           "#ffff00",
           "#038d45",
           "#038d45",
           "#038d45",
           "#038d45",
           "#038d45",
           "#038d45",
           "#038d45",
           "#038d45",
           "#038d45",
           "#038d45",
           "#038d45",
           "#038d45",
           "#038d45",
           "#038d45",
           "#038d45",
           "#038d45",
           "#038d45",
           "#038d45",
           "#ffff00",
           "#ffff00",
           "#038d45",
           "#038d45",
           "#038d45",
           "#038d45",
           "#038d45",
           "#038d45",
           "#038d45",
           "#038d45",
           "#038d45",
           "#038d45",
           "#038d45",
           "#038d45",
           "#038d45",
           "#038d45",
           "#038d45",
           "#038d45",
           "#038d45",
           "#038d45",
           "#038d45",
           "#038d45",
           "#038d45",
           "#ffff00",
           "#038d45",
           "#038d45",
           "#038d45",
           "#038d45",
           "#038d45",
           "#038d45",
           "#038d45",
           "#038d45",
           "#038d45",
           "#038d45",
           "#038d45",
           "#038d45",
           "#038d45",
           "#ffff00",
           "#038d45",
           "#038d45",
           "#038d45",
           "#038d45",
           "#038d45",
           "#038d45",
           "#ffff00",
           "#f10003",
           "#ffff00",
           "#038d45",
           "#ab63fa"
          ],
          "cornerradius": 5
         },
         "name": "",
         "parents": [
          "Parties/YSRCP",
          "Parties/YSRCP",
          "Parties/YSRCP",
          "Parties/YSRCP",
          "Parties/YSRCP",
          "Parties/YSRCP",
          "Parties/YSRCP",
          "Parties/YSRCP",
          "Parties/YSRCP",
          "Parties/YSRCP",
          "Parties/TDP",
          "Parties/YSRCP",
          "Parties/YSRCP",
          "Parties/YSRCP",
          "Parties/YSRCP",
          "Parties/YSRCP",
          "Parties/YSRCP",
          "Parties/YSRCP",
          "Parties/YSRCP",
          "Parties/YSRCP",
          "Parties/YSRCP",
          "Parties/TDP",
          "Parties/YSRCP",
          "Parties/YSRCP",
          "Parties/TDP",
          "Parties/YSRCP",
          "Parties/TDP",
          "Parties/YSRCP",
          "Parties/YSRCP",
          "Parties/JSP",
          "Parties/YSRCP",
          "Parties/YSRCP",
          "Parties/YSRCP",
          "Parties/YSRCP",
          "Parties/YSRCP",
          "Parties/YSRCP",
          "Parties/YSRCP",
          "Parties/YSRCP",
          "Parties/YSRCP",
          "Parties/YSRCP",
          "Parties/YSRCP",
          "Parties/YSRCP",
          "Parties/TDP",
          "Parties/YSRCP",
          "Parties/YSRCP",
          "Parties/YSRCP",
          "Parties/YSRCP",
          "Parties/YSRCP",
          "Parties/YSRCP",
          "Parties/YSRCP",
          "Parties/YSRCP",
          "Parties/YSRCP",
          "Parties/YSRCP",
          "Parties/YSRCP",
          "Parties/YSRCP",
          "Parties/YSRCP",
          "Parties/YSRCP",
          "Parties/YSRCP",
          "Parties/TDP",
          "Parties/TDP",
          "Parties/YSRCP",
          "Parties/YSRCP",
          "Parties/YSRCP",
          "Parties/YSRCP",
          "Parties/YSRCP",
          "Parties/YSRCP",
          "Parties/YSRCP",
          "Parties/YSRCP",
          "Parties/YSRCP",
          "Parties/YSRCP",
          "Parties/TDP",
          "Parties/YSRCP",
          "Parties/YSRCP",
          "Parties/TDP",
          "Parties/TDP",
          "Parties/YSRCP",
          "Parties/YSRCP",
          "Parties/TDP",
          "Parties/TDP",
          "Parties/YSRCP",
          "Parties/YSRCP",
          "Parties/TDP",
          "Parties/YSRCP",
          "Parties/YSRCP",
          "Parties/YSRCP",
          "Parties/YSRCP",
          "Parties/YSRCP",
          "Parties/YSRCP",
          "Parties/YSRCP",
          "Parties/YSRCP",
          "Parties/TDP",
          "Parties/YSRCP",
          "Parties/YSRCP",
          "Parties/YSRCP",
          "Parties/YSRCP",
          "Parties/YSRCP",
          "Parties/YSRCP",
          "Parties/YSRCP",
          "Parties/YSRCP",
          "Parties/YSRCP",
          "Parties/YSRCP",
          "Parties/YSRCP",
          "Parties/YSRCP",
          "Parties/YSRCP",
          "Parties/YSRCP",
          "Parties/YSRCP",
          "Parties/YSRCP",
          "Parties/YSRCP",
          "Parties/YSRCP",
          "Parties/YSRCP",
          "Parties/YSRCP",
          "Parties/YSRCP",
          "Parties/YSRCP",
          "Parties/YSRCP",
          "Parties/YSRCP",
          "Parties/YSRCP",
          "Parties/TDP",
          "Parties/YSRCP",
          "Parties/TDP",
          "Parties/YSRCP",
          "Parties/YSRCP",
          "Parties/YSRCP",
          "Parties/YSRCP",
          "Parties/TDP",
          "Parties/YSRCP",
          "Parties/YSRCP",
          "Parties/YSRCP",
          "Parties/YSRCP",
          "Parties/YSRCP",
          "Parties/YSRCP",
          "Parties/YSRCP",
          "Parties/YSRCP",
          "Parties/YSRCP",
          "Parties/YSRCP",
          "Parties/YSRCP",
          "Parties/YSRCP",
          "Parties/YSRCP",
          "Parties/YSRCP",
          "Parties/YSRCP",
          "Parties/YSRCP",
          "Parties/YSRCP",
          "Parties/YSRCP",
          "Parties/TDP",
          "Parties/TDP",
          "Parties/YSRCP",
          "Parties/YSRCP",
          "Parties/YSRCP",
          "Parties/YSRCP",
          "Parties/YSRCP",
          "Parties/YSRCP",
          "Parties/YSRCP",
          "Parties/YSRCP",
          "Parties/YSRCP",
          "Parties/YSRCP",
          "Parties/YSRCP",
          "Parties/YSRCP",
          "Parties/YSRCP",
          "Parties/YSRCP",
          "Parties/YSRCP",
          "Parties/YSRCP",
          "Parties/YSRCP",
          "Parties/YSRCP",
          "Parties/YSRCP",
          "Parties/YSRCP",
          "Parties/YSRCP",
          "Parties/TDP",
          "Parties/YSRCP",
          "Parties/YSRCP",
          "Parties/YSRCP",
          "Parties/YSRCP",
          "Parties/YSRCP",
          "Parties/YSRCP",
          "Parties/YSRCP",
          "Parties/YSRCP",
          "Parties/YSRCP",
          "Parties/YSRCP",
          "Parties/YSRCP",
          "Parties/YSRCP",
          "Parties/YSRCP",
          "Parties/TDP",
          "Parties/YSRCP",
          "Parties/YSRCP",
          "Parties/YSRCP",
          "Parties/YSRCP",
          "Parties/YSRCP",
          "Parties/YSRCP",
          "Parties/TDP",
          "Parties",
          "Parties",
          "Parties",
          ""
         ],
         "type": "treemap",
         "values": [
          6687614,
          2020079,
          15871188,
          22257515,
          23931971,
          4572530,
          1162365,
          88392875,
          6163270,
          39153966,
          50550141,
          13546335,
          4174700,
          2178839,
          22368888,
          9669112,
          53536064,
          15030908,
          8612902,
          15736545,
          1826509,
          7398113,
          10733845,
          2664918,
          1930707,
          26890400,
          19577287,
          13795994,
          42457315,
          13795994,
          4264009,
          31721581,
          35814584,
          4137908,
          50852531,
          18965852,
          11554930,
          4958545,
          85501357,
          2043594,
          5902640,
          12488863,
          9983762,
          32129346,
          5955317,
          12650860,
          6427946,
          4724379,
          3274203,
          44451704,
          9458501,
          111885964,
          10758068,
          8149326,
          2964426,
          4443255,
          81420866,
          75011777,
          25572194,
          31315226,
          20819921,
          10647659,
          117423737,
          100781,
          4568057,
          10833692,
          23920992,
          8228501,
          37746466,
          74292872,
          17001819,
          56432824,
          22202461,
          912296,
          8325357,
          11535946,
          50267478,
          40306456,
          11532178,
          4957547,
          31324266,
          44496230,
          14281546,
          12885297,
          35656253,
          8709345,
          42706836,
          42756285,
          34618729,
          23131448,
          86682599,
          48583590,
          10881581,
          3976526,
          38245603,
          4610653,
          7332345,
          3940161,
          24039894,
          1760842,
          1968176,
          2082551,
          19603956,
          36380219,
          8470456,
          5484690,
          48015434,
          24790552,
          22501717,
          3787786,
          34875273,
          988433,
          2040041,
          43520116,
          279781,
          6062534,
          3553807,
          14731244,
          34621859,
          5049584,
          1883184,
          4074083,
          117417998,
          4753526,
          9908237,
          6670781,
          36152935,
          3662253,
          91212170,
          71779475,
          11852739,
          19865104,
          3416244,
          573316,
          2195894,
          38320860,
          13514685,
          5098388,
          16652054,
          6770304,
          30309746,
          5108629,
          61661437,
          935676,
          32446128,
          17041496,
          24823040,
          46706111,
          13196557,
          1294784,
          47506006,
          51690966,
          31507079,
          15686125,
          25689160,
          12036185,
          7392285,
          20024968,
          25072830,
          6628870,
          28201883,
          23556991,
          10196120,
          69710501,
          18536270,
          7026635,
          15894037,
          30549260,
          35309774,
          7108091,
          9352120,
          92184269,
          5098839,
          455572,
          1302667,
          57486676,
          1695948,
          10943452,
          743061,
          13607540,
          47981931,
          30230966,
          9436973,
          36070409,
          2928963,
          69450861,
          58049778,
          13795994,
          539794623,
          3749008959,
          4302599576
         ]
        }
       ],
       "layout": {
        "legend": {
         "tracegroupgap": 0
        },
        "margin": {
         "b": 25,
         "l": 25,
         "r": 25,
         "t": 50
        },
        "template": {
         "data": {
          "bar": [
           {
            "error_x": {
             "color": "#2a3f5f"
            },
            "error_y": {
             "color": "#2a3f5f"
            },
            "marker": {
             "line": {
              "color": "#E5ECF6",
              "width": 0.5
             },
             "pattern": {
              "fillmode": "overlay",
              "size": 10,
              "solidity": 0.2
             }
            },
            "type": "bar"
           }
          ],
          "barpolar": [
           {
            "marker": {
             "line": {
              "color": "#E5ECF6",
              "width": 0.5
             },
             "pattern": {
              "fillmode": "overlay",
              "size": 10,
              "solidity": 0.2
             }
            },
            "type": "barpolar"
           }
          ],
          "carpet": [
           {
            "aaxis": {
             "endlinecolor": "#2a3f5f",
             "gridcolor": "white",
             "linecolor": "white",
             "minorgridcolor": "white",
             "startlinecolor": "#2a3f5f"
            },
            "baxis": {
             "endlinecolor": "#2a3f5f",
             "gridcolor": "white",
             "linecolor": "white",
             "minorgridcolor": "white",
             "startlinecolor": "#2a3f5f"
            },
            "type": "carpet"
           }
          ],
          "choropleth": [
           {
            "colorbar": {
             "outlinewidth": 0,
             "ticks": ""
            },
            "type": "choropleth"
           }
          ],
          "contour": [
           {
            "colorbar": {
             "outlinewidth": 0,
             "ticks": ""
            },
            "colorscale": [
             [
              0,
              "#0d0887"
             ],
             [
              0.1111111111111111,
              "#46039f"
             ],
             [
              0.2222222222222222,
              "#7201a8"
             ],
             [
              0.3333333333333333,
              "#9c179e"
             ],
             [
              0.4444444444444444,
              "#bd3786"
             ],
             [
              0.5555555555555556,
              "#d8576b"
             ],
             [
              0.6666666666666666,
              "#ed7953"
             ],
             [
              0.7777777777777778,
              "#fb9f3a"
             ],
             [
              0.8888888888888888,
              "#fdca26"
             ],
             [
              1,
              "#f0f921"
             ]
            ],
            "type": "contour"
           }
          ],
          "contourcarpet": [
           {
            "colorbar": {
             "outlinewidth": 0,
             "ticks": ""
            },
            "type": "contourcarpet"
           }
          ],
          "heatmap": [
           {
            "colorbar": {
             "outlinewidth": 0,
             "ticks": ""
            },
            "colorscale": [
             [
              0,
              "#0d0887"
             ],
             [
              0.1111111111111111,
              "#46039f"
             ],
             [
              0.2222222222222222,
              "#7201a8"
             ],
             [
              0.3333333333333333,
              "#9c179e"
             ],
             [
              0.4444444444444444,
              "#bd3786"
             ],
             [
              0.5555555555555556,
              "#d8576b"
             ],
             [
              0.6666666666666666,
              "#ed7953"
             ],
             [
              0.7777777777777778,
              "#fb9f3a"
             ],
             [
              0.8888888888888888,
              "#fdca26"
             ],
             [
              1,
              "#f0f921"
             ]
            ],
            "type": "heatmap"
           }
          ],
          "heatmapgl": [
           {
            "colorbar": {
             "outlinewidth": 0,
             "ticks": ""
            },
            "colorscale": [
             [
              0,
              "#0d0887"
             ],
             [
              0.1111111111111111,
              "#46039f"
             ],
             [
              0.2222222222222222,
              "#7201a8"
             ],
             [
              0.3333333333333333,
              "#9c179e"
             ],
             [
              0.4444444444444444,
              "#bd3786"
             ],
             [
              0.5555555555555556,
              "#d8576b"
             ],
             [
              0.6666666666666666,
              "#ed7953"
             ],
             [
              0.7777777777777778,
              "#fb9f3a"
             ],
             [
              0.8888888888888888,
              "#fdca26"
             ],
             [
              1,
              "#f0f921"
             ]
            ],
            "type": "heatmapgl"
           }
          ],
          "histogram": [
           {
            "marker": {
             "pattern": {
              "fillmode": "overlay",
              "size": 10,
              "solidity": 0.2
             }
            },
            "type": "histogram"
           }
          ],
          "histogram2d": [
           {
            "colorbar": {
             "outlinewidth": 0,
             "ticks": ""
            },
            "colorscale": [
             [
              0,
              "#0d0887"
             ],
             [
              0.1111111111111111,
              "#46039f"
             ],
             [
              0.2222222222222222,
              "#7201a8"
             ],
             [
              0.3333333333333333,
              "#9c179e"
             ],
             [
              0.4444444444444444,
              "#bd3786"
             ],
             [
              0.5555555555555556,
              "#d8576b"
             ],
             [
              0.6666666666666666,
              "#ed7953"
             ],
             [
              0.7777777777777778,
              "#fb9f3a"
             ],
             [
              0.8888888888888888,
              "#fdca26"
             ],
             [
              1,
              "#f0f921"
             ]
            ],
            "type": "histogram2d"
           }
          ],
          "histogram2dcontour": [
           {
            "colorbar": {
             "outlinewidth": 0,
             "ticks": ""
            },
            "colorscale": [
             [
              0,
              "#0d0887"
             ],
             [
              0.1111111111111111,
              "#46039f"
             ],
             [
              0.2222222222222222,
              "#7201a8"
             ],
             [
              0.3333333333333333,
              "#9c179e"
             ],
             [
              0.4444444444444444,
              "#bd3786"
             ],
             [
              0.5555555555555556,
              "#d8576b"
             ],
             [
              0.6666666666666666,
              "#ed7953"
             ],
             [
              0.7777777777777778,
              "#fb9f3a"
             ],
             [
              0.8888888888888888,
              "#fdca26"
             ],
             [
              1,
              "#f0f921"
             ]
            ],
            "type": "histogram2dcontour"
           }
          ],
          "mesh3d": [
           {
            "colorbar": {
             "outlinewidth": 0,
             "ticks": ""
            },
            "type": "mesh3d"
           }
          ],
          "parcoords": [
           {
            "line": {
             "colorbar": {
              "outlinewidth": 0,
              "ticks": ""
             }
            },
            "type": "parcoords"
           }
          ],
          "pie": [
           {
            "automargin": true,
            "type": "pie"
           }
          ],
          "scatter": [
           {
            "fillpattern": {
             "fillmode": "overlay",
             "size": 10,
             "solidity": 0.2
            },
            "type": "scatter"
           }
          ],
          "scatter3d": [
           {
            "line": {
             "colorbar": {
              "outlinewidth": 0,
              "ticks": ""
             }
            },
            "marker": {
             "colorbar": {
              "outlinewidth": 0,
              "ticks": ""
             }
            },
            "type": "scatter3d"
           }
          ],
          "scattercarpet": [
           {
            "marker": {
             "colorbar": {
              "outlinewidth": 0,
              "ticks": ""
             }
            },
            "type": "scattercarpet"
           }
          ],
          "scattergeo": [
           {
            "marker": {
             "colorbar": {
              "outlinewidth": 0,
              "ticks": ""
             }
            },
            "type": "scattergeo"
           }
          ],
          "scattergl": [
           {
            "marker": {
             "colorbar": {
              "outlinewidth": 0,
              "ticks": ""
             }
            },
            "type": "scattergl"
           }
          ],
          "scattermapbox": [
           {
            "marker": {
             "colorbar": {
              "outlinewidth": 0,
              "ticks": ""
             }
            },
            "type": "scattermapbox"
           }
          ],
          "scatterpolar": [
           {
            "marker": {
             "colorbar": {
              "outlinewidth": 0,
              "ticks": ""
             }
            },
            "type": "scatterpolar"
           }
          ],
          "scatterpolargl": [
           {
            "marker": {
             "colorbar": {
              "outlinewidth": 0,
              "ticks": ""
             }
            },
            "type": "scatterpolargl"
           }
          ],
          "scatterternary": [
           {
            "marker": {
             "colorbar": {
              "outlinewidth": 0,
              "ticks": ""
             }
            },
            "type": "scatterternary"
           }
          ],
          "surface": [
           {
            "colorbar": {
             "outlinewidth": 0,
             "ticks": ""
            },
            "colorscale": [
             [
              0,
              "#0d0887"
             ],
             [
              0.1111111111111111,
              "#46039f"
             ],
             [
              0.2222222222222222,
              "#7201a8"
             ],
             [
              0.3333333333333333,
              "#9c179e"
             ],
             [
              0.4444444444444444,
              "#bd3786"
             ],
             [
              0.5555555555555556,
              "#d8576b"
             ],
             [
              0.6666666666666666,
              "#ed7953"
             ],
             [
              0.7777777777777778,
              "#fb9f3a"
             ],
             [
              0.8888888888888888,
              "#fdca26"
             ],
             [
              1,
              "#f0f921"
             ]
            ],
            "type": "surface"
           }
          ],
          "table": [
           {
            "cells": {
             "fill": {
              "color": "#EBF0F8"
             },
             "line": {
              "color": "white"
             }
            },
            "header": {
             "fill": {
              "color": "#C8D4E3"
             },
             "line": {
              "color": "white"
             }
            },
            "type": "table"
           }
          ]
         },
         "layout": {
          "annotationdefaults": {
           "arrowcolor": "#2a3f5f",
           "arrowhead": 0,
           "arrowwidth": 1
          },
          "autotypenumbers": "strict",
          "coloraxis": {
           "colorbar": {
            "outlinewidth": 0,
            "ticks": ""
           }
          },
          "colorscale": {
           "diverging": [
            [
             0,
             "#8e0152"
            ],
            [
             0.1,
             "#c51b7d"
            ],
            [
             0.2,
             "#de77ae"
            ],
            [
             0.3,
             "#f1b6da"
            ],
            [
             0.4,
             "#fde0ef"
            ],
            [
             0.5,
             "#f7f7f7"
            ],
            [
             0.6,
             "#e6f5d0"
            ],
            [
             0.7,
             "#b8e186"
            ],
            [
             0.8,
             "#7fbc41"
            ],
            [
             0.9,
             "#4d9221"
            ],
            [
             1,
             "#276419"
            ]
           ],
           "sequential": [
            [
             0,
             "#0d0887"
            ],
            [
             0.1111111111111111,
             "#46039f"
            ],
            [
             0.2222222222222222,
             "#7201a8"
            ],
            [
             0.3333333333333333,
             "#9c179e"
            ],
            [
             0.4444444444444444,
             "#bd3786"
            ],
            [
             0.5555555555555556,
             "#d8576b"
            ],
            [
             0.6666666666666666,
             "#ed7953"
            ],
            [
             0.7777777777777778,
             "#fb9f3a"
            ],
            [
             0.8888888888888888,
             "#fdca26"
            ],
            [
             1,
             "#f0f921"
            ]
           ],
           "sequentialminus": [
            [
             0,
             "#0d0887"
            ],
            [
             0.1111111111111111,
             "#46039f"
            ],
            [
             0.2222222222222222,
             "#7201a8"
            ],
            [
             0.3333333333333333,
             "#9c179e"
            ],
            [
             0.4444444444444444,
             "#bd3786"
            ],
            [
             0.5555555555555556,
             "#d8576b"
            ],
            [
             0.6666666666666666,
             "#ed7953"
            ],
            [
             0.7777777777777778,
             "#fb9f3a"
            ],
            [
             0.8888888888888888,
             "#fdca26"
            ],
            [
             1,
             "#f0f921"
            ]
           ]
          },
          "colorway": [
           "#636efa",
           "#EF553B",
           "#00cc96",
           "#ab63fa",
           "#FFA15A",
           "#19d3f3",
           "#FF6692",
           "#B6E880",
           "#FF97FF",
           "#FECB52"
          ],
          "font": {
           "color": "#2a3f5f"
          },
          "geo": {
           "bgcolor": "white",
           "lakecolor": "white",
           "landcolor": "#E5ECF6",
           "showlakes": true,
           "showland": true,
           "subunitcolor": "white"
          },
          "hoverlabel": {
           "align": "left"
          },
          "hovermode": "closest",
          "mapbox": {
           "style": "light"
          },
          "paper_bgcolor": "white",
          "plot_bgcolor": "#E5ECF6",
          "polar": {
           "angularaxis": {
            "gridcolor": "white",
            "linecolor": "white",
            "ticks": ""
           },
           "bgcolor": "#E5ECF6",
           "radialaxis": {
            "gridcolor": "white",
            "linecolor": "white",
            "ticks": ""
           }
          },
          "scene": {
           "xaxis": {
            "backgroundcolor": "#E5ECF6",
            "gridcolor": "white",
            "gridwidth": 2,
            "linecolor": "white",
            "showbackground": true,
            "ticks": "",
            "zerolinecolor": "white"
           },
           "yaxis": {
            "backgroundcolor": "#E5ECF6",
            "gridcolor": "white",
            "gridwidth": 2,
            "linecolor": "white",
            "showbackground": true,
            "ticks": "",
            "zerolinecolor": "white"
           },
           "zaxis": {
            "backgroundcolor": "#E5ECF6",
            "gridcolor": "white",
            "gridwidth": 2,
            "linecolor": "white",
            "showbackground": true,
            "ticks": "",
            "zerolinecolor": "white"
           }
          },
          "shapedefaults": {
           "line": {
            "color": "#2a3f5f"
           }
          },
          "ternary": {
           "aaxis": {
            "gridcolor": "white",
            "linecolor": "white",
            "ticks": ""
           },
           "baxis": {
            "gridcolor": "white",
            "linecolor": "white",
            "ticks": ""
           },
           "bgcolor": "#E5ECF6",
           "caxis": {
            "gridcolor": "white",
            "linecolor": "white",
            "ticks": ""
           }
          },
          "title": {
           "x": 0.05
          },
          "xaxis": {
           "automargin": true,
           "gridcolor": "white",
           "linecolor": "white",
           "ticks": "",
           "title": {
            "standoff": 15
           },
           "zerolinecolor": "white",
           "zerolinewidth": 2
          },
          "yaxis": {
           "automargin": true,
           "gridcolor": "white",
           "linecolor": "white",
           "ticks": "",
           "title": {
            "standoff": 15
           },
           "zerolinecolor": "white",
           "zerolinewidth": 2
          }
         }
        }
       }
      }
     },
     "metadata": {},
     "output_type": "display_data"
    }
   ],
   "source": [
    "import folium\n",
    "import pandas as pd\n",
    "from folium.plugins import HeatMap\n",
    "import numpy as np\n",
    "import plotly.express as px\n",
    "\n",
    "\n",
    "date_start = '2022-01-01'\n",
    "date_end = '2024-01-01'\n",
    "total_candidates_start = 0\n",
    "total_candidates_end = 10\n",
    "\n",
    "df_folium_plot = pd.read_csv('plots_data/dashboard_folium.csv')\n",
    "\n",
    "\n",
    "\n",
    "\n",
    "df_bubble = df_folium_plot[['constituency','upload_date','sentiment','view_count','party']]\n",
    "df_bubble_sorted = df_bubble[(df_bubble.upload_date >= date_start) & (df_bubble.upload_date <= date_end)]\n",
    "df_bubble_grouped = df_bubble_sorted[['constituency','sentiment','view_count','party']].groupby(['constituency','party']).agg({\"sentiment\": np.mean, 'view_count': np.sum}).reset_index()\n",
    "df_bubble_grouped  = df_bubble_grouped.sort_values('view_count', ascending = False)\n",
    "df_bubble_grouped = df_bubble_grouped[total_candidates_start:total_candidates_end]\n",
    "df_bubble_grouped['area'] = (df_bubble_grouped['view_count']/1e6)**3\n",
    "\n",
    "df = px.data.gapminder()\n",
    "fig = px.scatter(df_bubble_grouped, x=\"view_count\", y=\"sentiment\",\n",
    "\t         size=\"area\", color=\"party\",\n",
    "                 hover_name=\"constituency\", log_x=True, size_max=50,color_discrete_map= {'YSRCP': '#038d45','TDP': '#ffff00', 'JSP':'#f10003' })\n",
    "fig.update_layout(\n",
    "    title='Constituency Graph',\n",
    "    xaxis=dict(\n",
    "        title='Views',\n",
    "        gridcolor='white',\n",
    "        type='log',\n",
    "        gridwidth=2,\n",
    "    ),\n",
    "    yaxis=dict(\n",
    "        title='Sentiment',\n",
    "        gridcolor='white',\n",
    "        gridwidth=2,\n",
    "    ),\n",
    "    paper_bgcolor='rgb(243, 243, 243)',\n",
    "    plot_bgcolor='rgb(243, 243, 243)',\n",
    ")\n",
    "fig.show()\n",
    "fig = px.bar(df_bubble_grouped, x=\"constituency\", y=\"view_count\",color='party', log_y=True, text_auto='.2s',color_discrete_map= {'YSRCP': '#038d45','TDP': '#ffff00', 'JSP':'#f10003' })\n",
    "fig.update_traces(marker_line_width=1.5, opacity=0.6)\n",
    "fig.update_layout(\n",
    "    title='Constituency Graph',\n",
    "    xaxis=dict(title='Constituency'),\n",
    "    yaxis=dict(title='Views'))\n",
    "\n",
    "fig.show()\n",
    "\n",
    "df_folium_plot = pd.read_csv('plots_data/dashboard_folium.csv')\n",
    "df_bubble = df_folium_plot[['constituency','upload_date','sentiment','view_count','party']]\n",
    "df_bubble_grouped = df_bubble_sorted[['constituency','sentiment','view_count','party']].groupby(['constituency','party']).agg({\"sentiment\": np.mean, 'view_count': np.sum}).reset_index()\n",
    "df_bubble_grouped  = df_bubble_grouped.sort_values('view_count', ascending = False)\n",
    "\n",
    "fig = px.treemap(df_bubble_grouped, path=[px.Constant(\"Parties\"), 'party', 'constituency'], values='view_count',\n",
    "                  color='party', hover_data=['sentiment'],color_discrete_map= {'YSRCP': '#038d45','TDP': '#ffff00', 'JSP':'#f10003' })\n",
    "fig.update_layout(margin = dict(t=50, l=25, r=25, b=25))\n",
    "fig.update_traces(marker=dict(cornerradius=5))\n",
    "fig.show()"
   ]
  },
  {
   "cell_type": "markdown",
   "metadata": {},
   "source": [
    "## Animation"
   ]
  },
  {
   "cell_type": "code",
   "execution_count": 124,
   "metadata": {},
   "outputs": [
    {
     "name": "stderr",
     "output_type": "stream",
     "text": [
      "/var/folders/z7/x6vq9qd56_scz4tkv0sj5lgc0000gn/T/ipykernel_25945/4091317609.py:3: SettingWithCopyWarning:\n",
      "\n",
      "\n",
      "A value is trying to be set on a copy of a slice from a DataFrame.\n",
      "Try using .loc[row_indexer,col_indexer] = value instead\n",
      "\n",
      "See the caveats in the documentation: https://pandas.pydata.org/pandas-docs/stable/user_guide/indexing.html#returning-a-view-versus-a-copy\n",
      "\n"
     ]
    }
   ],
   "source": [
    "import folium\n",
    "import pandas as pd\n",
    "from folium.plugins import HeatMap\n",
    "import numpy as np\n",
    "import plotly.express as px\n",
    "\n",
    "df_folium_plot = pd.read_csv('plots_data/dashboard_folium.csv')\n",
    "df_anim = df_folium_plot[['constituency','upload_date','sentiment','view_count','party']]\n",
    "df_anim['upload_date'] = pd.to_datetime( df_anim.upload_date)\n",
    "df_anim = df_anim.set_index('upload_date')\n",
    "df_anim_grouped =  df_anim.groupby([(df_anim.index.year), (df_anim.index.month), 'constituency', 'party']).agg({\"sentiment\": np.mean, 'view_count': np.sum})\n",
    "df_anim_grouped = df_anim_grouped.reset_index(names=['year', 'month','constituency','party'])\n",
    "\n",
    "df_anim_grouped['month'] = df_anim_grouped['month'].apply(str)\n",
    "df_anim_grouped['year'] = df_anim_grouped['year'].apply(str)\n",
    "df_anim_grouped['month/year'] =  '01' +'-' +df_anim_grouped['month'] + '-' + df_anim_grouped['year'] \n",
    "df_anim_grouped['month/year'] = pd.to_datetime(df_anim_grouped['month/year'])\n",
    "df_anim_grouped = df_anim_grouped.sort_values('month/year', ascending=True)\n",
    "\n",
    "\n",
    "\n",
    "df = px.data.gapminder()\n",
    "px.scatter(df_anim_grouped, x=\"view_count\", y=\"sentiment\", animation_frame=\"month\",animation_group='constituency',\n",
    "           size=\"view_count\", color=\"party\", hover_name=\"constituency\",\n",
    "           log_x=True, size_max=60)"
   ]
  },
  {
   "cell_type": "code",
   "execution_count": null,
   "metadata": {},
   "outputs": [],
   "source": []
  },
  {
   "cell_type": "markdown",
   "metadata": {},
   "source": [
    "## Tags Plot"
   ]
  },
  {
   "cell_type": "code",
   "execution_count": 36,
   "metadata": {},
   "outputs": [
    {
     "name": "stderr",
     "output_type": "stream",
     "text": [
      "/Users/kowshik/projects/personal/alphapolitica_streamlit/streamenv/lib/python3.8/site-packages/plotly/tools.py:460: DeprecationWarning:\n",
      "\n",
      "plotly.tools.make_subplots is deprecated, please use plotly.subplots.make_subplots instead\n",
      "\n"
     ]
    },
    {
     "data": {
      "application/vnd.plotly.v1+json": {
       "config": {
        "plotlyServerURL": "https://plot.ly"
       },
       "data": [
        {
         "marker": {
          "color": "rgba(171, 50, 96, 0.6)",
          "line": {
           "color": "rgba(171, 50, 96, 1.0)",
           "width": 1
          }
         },
         "name": "Views",
         "orientation": "h",
         "type": "bar",
         "x": [
          473518721,
          442248914,
          393080277,
          343504946,
          317263027,
          260370849,
          160523603,
          145142592,
          140277099,
          132579422
         ],
         "xaxis": "x",
         "y": [
          "ysrcp",
          "cm jagan",
          "ycp",
          "AP ",
          "chandrababu",
          "tdp",
          "pawan kalyan",
          "schemes",
          "alliance",
          "yuvagalam"
         ],
         "yaxis": "y"
        },
        {
         "line": {
          "color": "rgb(63, 72, 204)"
         },
         "mode": "lines+markers",
         "name": "Duration",
         "type": "scatter",
         "x": [
          156.9,
          210.5,
          139.2,
          267.7,
          183.7,
          32.3,
          98.3,
          28.3,
          34.1,
          36.8
         ],
         "xaxis": "x2",
         "y": [
          "ysrcp",
          "cm jagan",
          "ycp",
          "AP ",
          "chandrababu",
          "tdp",
          "pawan kalyan",
          "schemes",
          "alliance",
          "yuvagalam"
         ],
         "yaxis": "y2"
        }
       ],
       "layout": {
        "legend": {
         "font": {
          "size": 10
         },
         "x": 0.029,
         "y": 1.038
        },
        "margin": {
         "b": 70,
         "l": 200,
         "r": 20,
         "t": 70
        },
        "paper_bgcolor": "rgb(248, 248, 255)",
        "plot_bgcolor": "rgb(248, 248, 255)",
        "template": {
         "data": {
          "bar": [
           {
            "error_x": {
             "color": "#2a3f5f"
            },
            "error_y": {
             "color": "#2a3f5f"
            },
            "marker": {
             "line": {
              "color": "#E5ECF6",
              "width": 0.5
             },
             "pattern": {
              "fillmode": "overlay",
              "size": 10,
              "solidity": 0.2
             }
            },
            "type": "bar"
           }
          ],
          "barpolar": [
           {
            "marker": {
             "line": {
              "color": "#E5ECF6",
              "width": 0.5
             },
             "pattern": {
              "fillmode": "overlay",
              "size": 10,
              "solidity": 0.2
             }
            },
            "type": "barpolar"
           }
          ],
          "carpet": [
           {
            "aaxis": {
             "endlinecolor": "#2a3f5f",
             "gridcolor": "white",
             "linecolor": "white",
             "minorgridcolor": "white",
             "startlinecolor": "#2a3f5f"
            },
            "baxis": {
             "endlinecolor": "#2a3f5f",
             "gridcolor": "white",
             "linecolor": "white",
             "minorgridcolor": "white",
             "startlinecolor": "#2a3f5f"
            },
            "type": "carpet"
           }
          ],
          "choropleth": [
           {
            "colorbar": {
             "outlinewidth": 0,
             "ticks": ""
            },
            "type": "choropleth"
           }
          ],
          "contour": [
           {
            "colorbar": {
             "outlinewidth": 0,
             "ticks": ""
            },
            "colorscale": [
             [
              0,
              "#0d0887"
             ],
             [
              0.1111111111111111,
              "#46039f"
             ],
             [
              0.2222222222222222,
              "#7201a8"
             ],
             [
              0.3333333333333333,
              "#9c179e"
             ],
             [
              0.4444444444444444,
              "#bd3786"
             ],
             [
              0.5555555555555556,
              "#d8576b"
             ],
             [
              0.6666666666666666,
              "#ed7953"
             ],
             [
              0.7777777777777778,
              "#fb9f3a"
             ],
             [
              0.8888888888888888,
              "#fdca26"
             ],
             [
              1,
              "#f0f921"
             ]
            ],
            "type": "contour"
           }
          ],
          "contourcarpet": [
           {
            "colorbar": {
             "outlinewidth": 0,
             "ticks": ""
            },
            "type": "contourcarpet"
           }
          ],
          "heatmap": [
           {
            "colorbar": {
             "outlinewidth": 0,
             "ticks": ""
            },
            "colorscale": [
             [
              0,
              "#0d0887"
             ],
             [
              0.1111111111111111,
              "#46039f"
             ],
             [
              0.2222222222222222,
              "#7201a8"
             ],
             [
              0.3333333333333333,
              "#9c179e"
             ],
             [
              0.4444444444444444,
              "#bd3786"
             ],
             [
              0.5555555555555556,
              "#d8576b"
             ],
             [
              0.6666666666666666,
              "#ed7953"
             ],
             [
              0.7777777777777778,
              "#fb9f3a"
             ],
             [
              0.8888888888888888,
              "#fdca26"
             ],
             [
              1,
              "#f0f921"
             ]
            ],
            "type": "heatmap"
           }
          ],
          "heatmapgl": [
           {
            "colorbar": {
             "outlinewidth": 0,
             "ticks": ""
            },
            "colorscale": [
             [
              0,
              "#0d0887"
             ],
             [
              0.1111111111111111,
              "#46039f"
             ],
             [
              0.2222222222222222,
              "#7201a8"
             ],
             [
              0.3333333333333333,
              "#9c179e"
             ],
             [
              0.4444444444444444,
              "#bd3786"
             ],
             [
              0.5555555555555556,
              "#d8576b"
             ],
             [
              0.6666666666666666,
              "#ed7953"
             ],
             [
              0.7777777777777778,
              "#fb9f3a"
             ],
             [
              0.8888888888888888,
              "#fdca26"
             ],
             [
              1,
              "#f0f921"
             ]
            ],
            "type": "heatmapgl"
           }
          ],
          "histogram": [
           {
            "marker": {
             "pattern": {
              "fillmode": "overlay",
              "size": 10,
              "solidity": 0.2
             }
            },
            "type": "histogram"
           }
          ],
          "histogram2d": [
           {
            "colorbar": {
             "outlinewidth": 0,
             "ticks": ""
            },
            "colorscale": [
             [
              0,
              "#0d0887"
             ],
             [
              0.1111111111111111,
              "#46039f"
             ],
             [
              0.2222222222222222,
              "#7201a8"
             ],
             [
              0.3333333333333333,
              "#9c179e"
             ],
             [
              0.4444444444444444,
              "#bd3786"
             ],
             [
              0.5555555555555556,
              "#d8576b"
             ],
             [
              0.6666666666666666,
              "#ed7953"
             ],
             [
              0.7777777777777778,
              "#fb9f3a"
             ],
             [
              0.8888888888888888,
              "#fdca26"
             ],
             [
              1,
              "#f0f921"
             ]
            ],
            "type": "histogram2d"
           }
          ],
          "histogram2dcontour": [
           {
            "colorbar": {
             "outlinewidth": 0,
             "ticks": ""
            },
            "colorscale": [
             [
              0,
              "#0d0887"
             ],
             [
              0.1111111111111111,
              "#46039f"
             ],
             [
              0.2222222222222222,
              "#7201a8"
             ],
             [
              0.3333333333333333,
              "#9c179e"
             ],
             [
              0.4444444444444444,
              "#bd3786"
             ],
             [
              0.5555555555555556,
              "#d8576b"
             ],
             [
              0.6666666666666666,
              "#ed7953"
             ],
             [
              0.7777777777777778,
              "#fb9f3a"
             ],
             [
              0.8888888888888888,
              "#fdca26"
             ],
             [
              1,
              "#f0f921"
             ]
            ],
            "type": "histogram2dcontour"
           }
          ],
          "mesh3d": [
           {
            "colorbar": {
             "outlinewidth": 0,
             "ticks": ""
            },
            "type": "mesh3d"
           }
          ],
          "parcoords": [
           {
            "line": {
             "colorbar": {
              "outlinewidth": 0,
              "ticks": ""
             }
            },
            "type": "parcoords"
           }
          ],
          "pie": [
           {
            "automargin": true,
            "type": "pie"
           }
          ],
          "scatter": [
           {
            "fillpattern": {
             "fillmode": "overlay",
             "size": 10,
             "solidity": 0.2
            },
            "type": "scatter"
           }
          ],
          "scatter3d": [
           {
            "line": {
             "colorbar": {
              "outlinewidth": 0,
              "ticks": ""
             }
            },
            "marker": {
             "colorbar": {
              "outlinewidth": 0,
              "ticks": ""
             }
            },
            "type": "scatter3d"
           }
          ],
          "scattercarpet": [
           {
            "marker": {
             "colorbar": {
              "outlinewidth": 0,
              "ticks": ""
             }
            },
            "type": "scattercarpet"
           }
          ],
          "scattergeo": [
           {
            "marker": {
             "colorbar": {
              "outlinewidth": 0,
              "ticks": ""
             }
            },
            "type": "scattergeo"
           }
          ],
          "scattergl": [
           {
            "marker": {
             "colorbar": {
              "outlinewidth": 0,
              "ticks": ""
             }
            },
            "type": "scattergl"
           }
          ],
          "scattermapbox": [
           {
            "marker": {
             "colorbar": {
              "outlinewidth": 0,
              "ticks": ""
             }
            },
            "type": "scattermapbox"
           }
          ],
          "scatterpolar": [
           {
            "marker": {
             "colorbar": {
              "outlinewidth": 0,
              "ticks": ""
             }
            },
            "type": "scatterpolar"
           }
          ],
          "scatterpolargl": [
           {
            "marker": {
             "colorbar": {
              "outlinewidth": 0,
              "ticks": ""
             }
            },
            "type": "scatterpolargl"
           }
          ],
          "scatterternary": [
           {
            "marker": {
             "colorbar": {
              "outlinewidth": 0,
              "ticks": ""
             }
            },
            "type": "scatterternary"
           }
          ],
          "surface": [
           {
            "colorbar": {
             "outlinewidth": 0,
             "ticks": ""
            },
            "colorscale": [
             [
              0,
              "#0d0887"
             ],
             [
              0.1111111111111111,
              "#46039f"
             ],
             [
              0.2222222222222222,
              "#7201a8"
             ],
             [
              0.3333333333333333,
              "#9c179e"
             ],
             [
              0.4444444444444444,
              "#bd3786"
             ],
             [
              0.5555555555555556,
              "#d8576b"
             ],
             [
              0.6666666666666666,
              "#ed7953"
             ],
             [
              0.7777777777777778,
              "#fb9f3a"
             ],
             [
              0.8888888888888888,
              "#fdca26"
             ],
             [
              1,
              "#f0f921"
             ]
            ],
            "type": "surface"
           }
          ],
          "table": [
           {
            "cells": {
             "fill": {
              "color": "#EBF0F8"
             },
             "line": {
              "color": "white"
             }
            },
            "header": {
             "fill": {
              "color": "#C8D4E3"
             },
             "line": {
              "color": "white"
             }
            },
            "type": "table"
           }
          ]
         },
         "layout": {
          "annotationdefaults": {
           "arrowcolor": "#2a3f5f",
           "arrowhead": 0,
           "arrowwidth": 1
          },
          "autotypenumbers": "strict",
          "coloraxis": {
           "colorbar": {
            "outlinewidth": 0,
            "ticks": ""
           }
          },
          "colorscale": {
           "diverging": [
            [
             0,
             "#8e0152"
            ],
            [
             0.1,
             "#c51b7d"
            ],
            [
             0.2,
             "#de77ae"
            ],
            [
             0.3,
             "#f1b6da"
            ],
            [
             0.4,
             "#fde0ef"
            ],
            [
             0.5,
             "#f7f7f7"
            ],
            [
             0.6,
             "#e6f5d0"
            ],
            [
             0.7,
             "#b8e186"
            ],
            [
             0.8,
             "#7fbc41"
            ],
            [
             0.9,
             "#4d9221"
            ],
            [
             1,
             "#276419"
            ]
           ],
           "sequential": [
            [
             0,
             "#0d0887"
            ],
            [
             0.1111111111111111,
             "#46039f"
            ],
            [
             0.2222222222222222,
             "#7201a8"
            ],
            [
             0.3333333333333333,
             "#9c179e"
            ],
            [
             0.4444444444444444,
             "#bd3786"
            ],
            [
             0.5555555555555556,
             "#d8576b"
            ],
            [
             0.6666666666666666,
             "#ed7953"
            ],
            [
             0.7777777777777778,
             "#fb9f3a"
            ],
            [
             0.8888888888888888,
             "#fdca26"
            ],
            [
             1,
             "#f0f921"
            ]
           ],
           "sequentialminus": [
            [
             0,
             "#0d0887"
            ],
            [
             0.1111111111111111,
             "#46039f"
            ],
            [
             0.2222222222222222,
             "#7201a8"
            ],
            [
             0.3333333333333333,
             "#9c179e"
            ],
            [
             0.4444444444444444,
             "#bd3786"
            ],
            [
             0.5555555555555556,
             "#d8576b"
            ],
            [
             0.6666666666666666,
             "#ed7953"
            ],
            [
             0.7777777777777778,
             "#fb9f3a"
            ],
            [
             0.8888888888888888,
             "#fdca26"
            ],
            [
             1,
             "#f0f921"
            ]
           ]
          },
          "colorway": [
           "#636efa",
           "#EF553B",
           "#00cc96",
           "#ab63fa",
           "#FFA15A",
           "#19d3f3",
           "#FF6692",
           "#B6E880",
           "#FF97FF",
           "#FECB52"
          ],
          "font": {
           "color": "#2a3f5f"
          },
          "geo": {
           "bgcolor": "white",
           "lakecolor": "white",
           "landcolor": "#E5ECF6",
           "showlakes": true,
           "showland": true,
           "subunitcolor": "white"
          },
          "hoverlabel": {
           "align": "left"
          },
          "hovermode": "closest",
          "mapbox": {
           "style": "light"
          },
          "paper_bgcolor": "white",
          "plot_bgcolor": "#E5ECF6",
          "polar": {
           "angularaxis": {
            "gridcolor": "white",
            "linecolor": "white",
            "ticks": ""
           },
           "bgcolor": "#E5ECF6",
           "radialaxis": {
            "gridcolor": "white",
            "linecolor": "white",
            "ticks": ""
           }
          },
          "scene": {
           "xaxis": {
            "backgroundcolor": "#E5ECF6",
            "gridcolor": "white",
            "gridwidth": 2,
            "linecolor": "white",
            "showbackground": true,
            "ticks": "",
            "zerolinecolor": "white"
           },
           "yaxis": {
            "backgroundcolor": "#E5ECF6",
            "gridcolor": "white",
            "gridwidth": 2,
            "linecolor": "white",
            "showbackground": true,
            "ticks": "",
            "zerolinecolor": "white"
           },
           "zaxis": {
            "backgroundcolor": "#E5ECF6",
            "gridcolor": "white",
            "gridwidth": 2,
            "linecolor": "white",
            "showbackground": true,
            "ticks": "",
            "zerolinecolor": "white"
           }
          },
          "shapedefaults": {
           "line": {
            "color": "#2a3f5f"
           }
          },
          "ternary": {
           "aaxis": {
            "gridcolor": "white",
            "linecolor": "white",
            "ticks": ""
           },
           "baxis": {
            "gridcolor": "white",
            "linecolor": "white",
            "ticks": ""
           },
           "bgcolor": "#E5ECF6",
           "caxis": {
            "gridcolor": "white",
            "linecolor": "white",
            "ticks": ""
           }
          },
          "title": {
           "x": 0.05
          },
          "xaxis": {
           "automargin": true,
           "gridcolor": "white",
           "linecolor": "white",
           "ticks": "",
           "title": {
            "standoff": 15
           },
           "zerolinecolor": "white",
           "zerolinewidth": 2
          },
          "yaxis": {
           "automargin": true,
           "gridcolor": "white",
           "linecolor": "white",
           "ticks": "",
           "title": {
            "standoff": 15
           },
           "zerolinecolor": "white",
           "zerolinewidth": 2
          }
         }
        },
        "title": {
         "text": "Tags Views and Duration"
        },
        "xaxis": {
         "anchor": "y",
         "domain": [
          0,
          0.42
         ],
         "showgrid": true,
         "showline": false,
         "showticklabels": true,
         "title": {
          "text": "Views"
         },
         "zeroline": false
        },
        "xaxis2": {
         "anchor": "y2",
         "domain": [
          0.47,
          1
         ],
         "dtick": 25,
         "showgrid": true,
         "showline": false,
         "showticklabels": true,
         "side": "top",
         "zeroline": false
        },
        "yaxis": {
         "anchor": "x",
         "domain": [
          0,
          0.85
         ],
         "showticklabels": true,
         "title": {
          "text": "Tags"
         }
        },
        "yaxis2": {
         "anchor": "x2",
         "domain": [
          0,
          0.85
         ],
         "linecolor": "rgba(102, 102, 102, 0.8)",
         "linewidth": 2,
         "showline": true,
         "showticklabels": false
        }
       }
      }
     },
     "metadata": {},
     "output_type": "display_data"
    },
    {
     "data": {
      "application/vnd.plotly.v1+json": {
       "config": {
        "plotlyServerURL": "https://plot.ly"
       },
       "data": [
        {
         "branchvalues": "total",
         "customdata": [
          [
           4.2,
           -0.1764471223577857,
           "TV9"
          ],
          [
           3.7,
           -0.4237003320960213,
           "ABN"
          ],
          [
           0.3,
           -0.7678666928540105,
           "ABN"
          ],
          [
           29.1,
           0.19270376916854612,
           "TV5"
          ],
          [
           11.4,
           0.13951144384783368,
           "Sakshi"
          ],
          [
           3.5,
           -0.27306469605499417,
           "TV5"
          ],
          [
           3.9,
           -0.3965487040663033,
           "ABN"
          ],
          [
           0.4,
           0.39672292706867057,
           "Sakshi"
          ],
          [
           1.1,
           -0.13728554594901302,
           "TV5"
          ],
          [
           1.7,
           -0.12456540273144501,
           "TV9"
          ],
          [
           0.3,
           -0.18430912973236863,
           "TV9"
          ],
          [
           2.5,
           0.11837028377638088,
           "Sakshi"
          ],
          [
           115.8,
           -0.04474662702626913,
           "TV5"
          ],
          [
           0.1,
           -0.5107337991396587,
           "TV9"
          ],
          [
           12.3,
           -0.0837532061553701,
           "ABN"
          ],
          [
           46.9,
           -0.074305053094258,
           "Sakshi"
          ],
          [
           5.7,
           0.13976772202469065,
           "TV9"
          ],
          [
           2.6,
           -0.21692143893904156,
           "TV9"
          ],
          [
           1.7,
           -0.14133819350054566,
           "TV9"
          ],
          [
           7.9,
           -0.5487297057277627,
           "ABN"
          ],
          [
           17,
           -0.3701362324373744,
           "ABN"
          ],
          [
           0.1,
           0.14298543546880996,
           "Sakshi"
          ],
          [
           1.6,
           -0.19730768284053668,
           "TV5"
          ],
          [
           9.7,
           0.33487926686620684,
           "Sakshi"
          ],
          [
           18,
           -0.1338980615566281,
           "TV9"
          ],
          [
           0.8,
           -0.3429191102500723,
           "TV5"
          ],
          [
           81.6,
           0.3799395184610009,
           "Sakshi"
          ],
          [
           53.7,
           -0.22798759919371392,
           "TV5"
          ],
          [
           4.2,
           -0.37704912044348254,
           "ABN"
          ],
          [
           1,
           0.29361325793696524,
           "Sakshi"
          ],
          [
           2.2,
           0.0878444861866043,
           "Sakshi"
          ],
          [
           81.7,
           -0.27544293507698486,
           "TV5"
          ],
          [
           16.5,
           -0.1831458712576506,
           "TV5"
          ],
          [
           7.4,
           -0.1548943983990861,
           "TV9"
          ],
          [
           0.1,
           0.5611924678087234,
           "Sakshi"
          ],
          [
           1,
           -0.5532833454401597,
           "ABN"
          ],
          [
           4.9,
           -0.2198512780220756,
           "TV9"
          ],
          [
           7,
           -0.3856581342505381,
           "ABN"
          ],
          [
           3.7,
           -0.22176368754843007,
           "TV5"
          ],
          [
           13,
           0.3992310950250337,
           "Sakshi"
          ],
          [
           14.5,
           -0.33051774810239043,
           "ABN"
          ],
          [
           1.9,
           -0.21942587439895522,
           "TV9"
          ],
          [
           2.1,
           0.25943045601458614,
           "Sakshi"
          ],
          [
           3.7,
           -0.41183030244249563,
           "TV5"
          ],
          [
           3.8,
           -0.4136699849559415,
           "ABN"
          ],
          [
           1.6,
           -0.47326895956681153,
           "ABN"
          ],
          [
           0.7,
           -0.37977703453594225,
           "TV9"
          ],
          [
           2.5,
           0.3753047659782107,
           "Sakshi"
          ],
          [
           7.5,
           -0.19070863134729923,
           "TV9"
          ],
          [
           18.3,
           -0.5629754630315725,
           "ABN"
          ],
          [
           74.7,
           0.4882063643791314,
           "Sakshi"
          ],
          [
           7.5,
           0.2307482103453171,
           "Sakshi"
          ],
          [
           0.5,
           -0.351474584252746,
           "ABN"
          ],
          [
           7.1,
           0.4890573659668798,
           "Sakshi"
          ],
          [
           0.5,
           -0.015426199991726185,
           "TV9"
          ],
          [
           0.8,
           0.16512329613461213,
           "Sakshi"
          ],
          [
           1.9,
           -0.21967816626032194,
           "ABN"
          ],
          [
           0.8,
           0.12636348605155945,
           "Sakshi"
          ],
          [
           1,
           0.26309694540806305,
           "TV9"
          ],
          [
           11.8,
           -0.07659710579664002,
           "ABN"
          ],
          [
           10.9,
           -0.05047996058032891,
           "TV9"
          ],
          [
           0.6,
           -0.2826767039906447,
           "TV9"
          ],
          [
           113.8,
           -0.3340871927070943,
           "ABN"
          ],
          [
           11.6,
           -0.3508256759270128,
           "TV9"
          ],
          [
           1.3,
           -0.3115192706046884,
           "TV9"
          ],
          [
           15.5,
           -0.4123362190448321,
           "ABN"
          ],
          [
           0.8,
           0.31717283073542774,
           "Sakshi"
          ],
          [
           14.4,
           -0.3707523348869062,
           "ABN"
          ],
          [
           0.2,
           -0.8066960554274302,
           "ABN"
          ],
          [
           0.6,
           -0.09726759098785025,
           "TV9"
          ],
          [
           0.7,
           -0.5682177223057386,
           "ABN"
          ],
          [
           1.7,
           -0.0015953848274742732,
           "Sakshi"
          ],
          [
           87.2,
           -0.23035836664380815,
           "TV5"
          ],
          [
           10.7,
           -0.36166078779077404,
           "ABN"
          ],
          [
           0.4,
           -0.45493179905799125,
           "ABN"
          ],
          [
           0.2,
           -0.22557513182421765,
           "TV9"
          ],
          [
           2.9,
           0.07877442396309481,
           "TV9"
          ],
          [
           12.8,
           -0.13653535281271195,
           "TV5"
          ],
          [
           11.9,
           0.1946309200017759,
           "Sakshi"
          ],
          [
           0.4,
           -0.17377626590239695,
           "ABN"
          ],
          [
           1.9,
           -0.1369298184561037,
           "TV9"
          ],
          [
           2.5,
           0.1080703441960824,
           "Sakshi"
          ],
          [
           6.8,
           -0.01395086457534712,
           "TV5"
          ],
          [
           3.1,
           -0.052685235961202226,
           "TV5"
          ],
          [
           1.1,
           -0.5618837563828989,
           "TV5"
          ],
          [
           1.6,
           -0.12158806858391598,
           "TV5"
          ],
          [
           0.9,
           -0.052439876592036375,
           "TV9"
          ],
          [
           0.4,
           -0.15086336979954879,
           "TV9"
          ],
          [
           0.4,
           -0.3791878579198852,
           "TV5"
          ],
          [
           0.6,
           0.4836215571769606,
           "Sakshi"
          ],
          [
           1,
           -0.3186794719804726,
           "ABN"
          ],
          [
           48.4,
           0.012431056504612164,
           "TV5"
          ],
          [
           1,
           -0.30041274292902514,
           "TV5"
          ],
          [
           1,
           -0.30189968168156817,
           "TV9"
          ],
          [
           3,
           0.22966742953118455,
           "Sakshi"
          ],
          [
           4.1,
           -0.2831475889921556,
           "TV5"
          ],
          [
           4.5,
           -0.15169331694350524,
           "TV9"
          ],
          [
           1.2,
           -0.35444381978585104,
           "TV9"
          ],
          [
           18.2,
           -0.17734516769082592,
           "TV5"
          ],
          [
           9.5,
           0.013230117213012827,
           "Sakshi"
          ],
          [
           1.7,
           -0.45191122404599593,
           "ABN"
          ],
          [
           49.8,
           0.5069031963038884,
           "Sakshi"
          ],
          [
           4.4,
           0.10803578623531644,
           "Sakshi"
          ],
          [
           2.6,
           -0.3715632759513111,
           "ABN"
          ],
          [
           12.8,
           0.1645652895762926,
           "TV5"
          ],
          [
           35.3,
           -0.054152149153419704,
           "TV9"
          ],
          [
           1.3,
           -0.3844503593203184,
           "ABN"
          ],
          [
           0.2,
           0.06508298121489489,
           "TV5"
          ],
          [
           0.9,
           0.039889609592932244,
           "Sakshi"
          ],
          [
           0.4,
           -0.1528880941240411,
           "TV5"
          ],
          [
           1,
           -0.18518793765113864,
           "TV5"
          ],
          [
           3.2,
           -0.28900184432665504,
           "Sakshi"
          ],
          [
           0.6,
           -0.5304406602480258,
           "ABN"
          ],
          [
           0.2,
           -0.6824804807638193,
           "TV5"
          ],
          [
           0.1,
           -0.5170058502870447,
           "ABN"
          ],
          [
           16.9,
           -0.3049922038757172,
           "TV5"
          ],
          [
           5.7,
           -0.4523055090252402,
           "ABN"
          ],
          [
           1,
           0.34174201765964773,
           "Sakshi"
          ],
          [
           11.3,
           0.13484835390129812,
           "TV9"
          ],
          [
           2.9,
           -0.09542988659290785,
           "Sakshi"
          ],
          [
           1.9,
           -0.11524276642335786,
           "TV5"
          ],
          [
           31.1,
           -0.5422498278058487,
           "ABN"
          ],
          [
           29.7,
           -0.4880029856391351,
           "ABN"
          ],
          [
           0.1,
           -0.12019806231061618,
           "TV9"
          ],
          [
           0.6,
           -0.3793642042152374,
           "TV9"
          ],
          [
           8.4,
           -0.1789155200350052,
           "TV5"
          ],
          [
           5.6,
           0.3595693608833618,
           "Sakshi"
          ],
          [
           0.3,
           -0.4617345780134201,
           "ABN"
          ],
          [
           0.4,
           -0.2720895154135568,
           "TV9"
          ],
          [
           2.5,
           0.30111357220658314,
           "Sakshi"
          ],
          [
           2.4,
           -0.16527734985351564,
           "TV5"
          ],
          [
           9.4,
           -0.31245410105132776,
           "TV5"
          ],
          [
           1.4,
           -0.2584278128057156,
           "TV5"
          ],
          [
           1.8,
           -0.3268462552097374,
           "TV9"
          ],
          [
           20.5,
           -0.32140414304122694,
           "ABN"
          ],
          [
           3.9,
           0.5109893586131052,
           "Sakshi"
          ],
          [
           14.3,
           -0.04272000547485768,
           "TV5"
          ],
          [
           2.4,
           -0.8827996018987435,
           "ABN"
          ],
          [
           120.2,
           -0.285345399608112,
           "TV5"
          ],
          [
           0.1,
           0.03333533491407123,
           "TV9"
          ],
          [
           10.9,
           -0.10029728099948068,
           "TV5"
          ],
          [
           2.1,
           0.5098737708983883,
           "Sakshi"
          ],
          [
           0.6,
           -0.03624566147724787,
           "TV9"
          ],
          [
           2,
           -0.420490332406844,
           "ABN"
          ],
          [
           13.1,
           -0.2978301560709989,
           "TV5"
          ],
          [
           1.2,
           -0.3472914184842791,
           "ABN"
          ],
          [
           9.9,
           0.49124299654593834,
           "Sakshi"
          ],
          [
           15.2,
           0.017371065713263845,
           "Sakshi"
          ],
          [
           2.2,
           -0.22273601705047685,
           "TV9"
          ],
          [
           1.4,
           0.6120974903052809,
           "Sakshi"
          ],
          [
           14.7,
           -0.3093821654662961,
           "ABN"
          ],
          [
           27.6,
           0.045819780452337526,
           "Sakshi"
          ],
          [
           3.3,
           -0.2826436972028987,
           "TV9"
          ],
          [
           32.2,
           -0.23083723850020096,
           "TV5"
          ],
          [
           0.1,
           -0.16189351099640575,
           "TV9"
          ],
          [
           8.1,
           -0.44857321634020925,
           "ABN"
          ],
          [
           3,
           -0.24673318073851513,
           "TV5"
          ],
          [
           7.5,
           -0.26189532842946944,
           "TV5"
          ],
          [
           1.2,
           -0.10605189413355108,
           "Sakshi"
          ],
          [
           3.4,
           -0.07985467995650168,
           "TV9"
          ],
          [
           "(?)",
           "(?)",
           "ABN"
          ],
          [
           "(?)",
           "(?)",
           "Sakshi"
          ],
          [
           "(?)",
           "(?)",
           "TV5"
          ],
          [
           "(?)",
           "(?)",
           "TV9"
          ],
          [
           "(?)",
           "(?)",
           "(?)"
          ]
         ],
         "domain": {
          "x": [
           0,
           1
          ],
          "y": [
           0,
           1
          ]
         },
         "hovertemplate": "labels=%{label}<br>view_count=%{value}<br>parent=%{parent}<br>id=%{id}<br>duration=%{customdata[0]}<br>sentiment=%{customdata[1]}<br>uploader=%{customdata[2]}<extra></extra>",
         "ids": [
          "Media/TV9/Sajjala ",
          "Media/ABN/polavaram",
          "Media/ABN/panchayat elections",
          "Media/TV5/nara lokesh",
          "Media/Sakshi/ambati rambabu ",
          "Media/TV5/janasena party",
          "Media/ABN/janasena party",
          "Media/Sakshi/YS Viveka Case",
          "Media/TV5/gudivada amarnath",
          "Media/TV9/YS Viveka Case",
          "Media/TV9/gorantla ",
          "Media/Sakshi/gorantla ",
          "Media/TV5/chandrababu",
          "Media/TV9/Yellow Media",
          "Media/ABN/alliance",
          "Media/Sakshi/chandrababu",
          "Media/TV9/alliance",
          "Media/TV9/ap employees",
          "Media/TV9/amaravati",
          "Media/ABN/ap employees",
          "Media/ABN/raghurama ",
          "Media/Sakshi/raghurama ",
          "Media/TV5/ambati rambabu ",
          "Media/Sakshi/visakha",
          "Media/TV9/ycp",
          "Media/TV5/vizag steel plant",
          "Media/Sakshi/ysrcp",
          "Media/TV5/ysrcp",
          "Media/ABN/visakha",
          "Media/Sakshi/vangalapudi anitha",
          "Media/Sakshi/Kuppam",
          "Media/TV5/ycp",
          "Media/TV5/Kuppam",
          "Media/TV9/ysrcp",
          "Media/Sakshi/MLC Elections 2023",
          "Media/ABN/tdp pattabhi",
          "Media/TV9/tdp",
          "Media/ABN/tdp",
          "Media/TV5/tdp pattabhi",
          "Media/Sakshi/ycp",
          "Media/ABN/yuvagalam",
          "Media/TV9/ap assembly session today",
          "Media/Sakshi/ap employees",
          "Media/TV5/ap assembly session today",
          "Media/ABN/ap assembly session today",
          "Media/ABN/byreddy siddharth reddy",
          "Media/TV9/ambati rambabu ",
          "Media/Sakshi/byreddy siddharth reddy",
          "Media/TV9/schemes",
          "Media/ABN/cm jagan",
          "Media/Sakshi/cm jagan",
          "Media/Sakshi/schemes",
          "Media/ABN/gudivada amarnath",
          "Media/Sakshi/gudivada amarnath",
          "Media/TV9/gudivada amarnath",
          "Media/Sakshi/high court",
          "Media/ABN/jr ntr",
          "Media/Sakshi/tdp pattabhi",
          "Media/TV9/jr ntr",
          "Media/ABN/nara lokesh",
          "Media/TV9/pawan kalyan",
          "Media/TV9/vizag steel plant",
          "Media/ABN/AP ",
          "Media/TV9/chandrababu",
          "Media/TV9/ambati rambabu",
          "Media/ABN/YS Viveka Case",
          "Media/Sakshi/Gadapa Gadapaku ",
          "Media/ABN/Sajjala ",
          "Media/ABN/Gadapa Gadapaku ",
          "Media/TV9/Atchannaidu",
          "Media/ABN/ambati rambabu ",
          "Media/Sakshi/Ramoji Rao",
          "Media/TV5/AP ",
          "Media/ABN/Kuppam",
          "Media/ABN/Ramoji Rao",
          "Media/TV9/MLC Elections 2023",
          "Media/TV9/Kuppam",
          "Media/TV5/amaravati",
          "Media/Sakshi/ambati rambabu",
          "Media/ABN/MLC Elections 2023",
          "Media/TV9/janasena party",
          "Media/Sakshi/jr ntr",
          "Media/TV5/jr ntr",
          "Media/TV5/Sajjala ",
          "Media/TV5/Gadapa Gadapaku ",
          "Media/TV5/MLC Elections 2023",
          "Media/TV9/vangalapudi anitha",
          "Media/TV9/Ramoji Rao",
          "Media/TV5/panchayat elections",
          "Media/Sakshi/Vidadala Rajini",
          "Media/ABN/vangalapudi anitha",
          "Media/TV5/pawan kalyan",
          "Media/TV5/Ramoji Rao",
          "Media/TV9/Peddireddy ",
          "Media/Sakshi/polavaram",
          "Media/TV5/polavaram",
          "Media/TV9/visakha",
          "Media/TV9/high court",
          "Media/TV5/tdp",
          "Media/Sakshi/ap assembly session today",
          "Media/ABN/ambati rambabu",
          "Media/Sakshi/AP ",
          "Media/Sakshi/amaravati",
          "Media/ABN/amaravati",
          "Media/TV5/alliance",
          "Media/TV9/AP ",
          "Media/ABN/Atchannaidu",
          "Media/TV5/Yellow Media",
          "Media/Sakshi/Atchannaidu",
          "Media/TV5/Vidadala Rajini",
          "Media/TV5/Atchannaidu",
          "Media/Sakshi/Yellow Media",
          "Media/ABN/gorantla ",
          "Media/TV5/YSRCP Plenary",
          "Media/ABN/YSRCP Plenary",
          "Media/TV5/YS Viveka Case",
          "Media/ABN/high court",
          "Media/Sakshi/vizag steel plant",
          "Media/TV9/cm jagan",
          "Media/Sakshi/tdp",
          "Media/TV5/vangalapudi anitha",
          "Media/ABN/ycp",
          "Media/ABN/ysrcp",
          "Media/TV9/Gadapa Gadapaku ",
          "Media/TV9/tdp pattabhi",
          "Media/TV5/visakha",
          "Media/Sakshi/yuvagalam",
          "Media/ABN/vizag steel plant",
          "Media/TV9/panchayat elections",
          "Media/Sakshi/Peddireddy ",
          "Media/TV5/ambati rambabu",
          "Media/TV5/ap employees",
          "Media/TV5/byreddy siddharth reddy",
          "Media/TV9/byreddy siddharth reddy",
          "Media/ABN/chandrababu",
          "Media/Sakshi/alliance",
          "Media/TV5/yuvagalam",
          "Media/ABN/Yellow Media",
          "Media/TV5/cm jagan",
          "Media/TV9/YSRCP Plenary",
          "Media/TV5/gorantla ",
          "Media/Sakshi/YSRCP Plenary",
          "Media/TV9/Vidadala Rajini",
          "Media/ABN/Peddireddy ",
          "Media/TV5/high court",
          "Media/ABN/Vidadala Rajini",
          "Media/Sakshi/Sajjala ",
          "Media/Sakshi/nara lokesh",
          "Media/TV9/nara lokesh",
          "Media/Sakshi/panchayat elections",
          "Media/ABN/pawan kalyan",
          "Media/Sakshi/pawan kalyan",
          "Media/TV9/polavaram",
          "Media/TV5/raghurama ",
          "Media/TV9/raghurama ",
          "Media/ABN/schemes",
          "Media/TV5/Peddireddy ",
          "Media/TV5/schemes",
          "Media/Sakshi/janasena party",
          "Media/TV9/yuvagalam",
          "Media/ABN",
          "Media/Sakshi",
          "Media/TV5",
          "Media/TV9",
          "Media"
         ],
         "labels": [
          "Sajjala ",
          "polavaram",
          "panchayat elections",
          "nara lokesh",
          "ambati rambabu ",
          "janasena party",
          "janasena party",
          "YS Viveka Case",
          "gudivada amarnath",
          "YS Viveka Case",
          "gorantla ",
          "gorantla ",
          "chandrababu",
          "Yellow Media",
          "alliance",
          "chandrababu",
          "alliance",
          "ap employees",
          "amaravati",
          "ap employees",
          "raghurama ",
          "raghurama ",
          "ambati rambabu ",
          "visakha",
          "ycp",
          "vizag steel plant",
          "ysrcp",
          "ysrcp",
          "visakha",
          "vangalapudi anitha",
          "Kuppam",
          "ycp",
          "Kuppam",
          "ysrcp",
          "MLC Elections 2023",
          "tdp pattabhi",
          "tdp",
          "tdp",
          "tdp pattabhi",
          "ycp",
          "yuvagalam",
          "ap assembly session today",
          "ap employees",
          "ap assembly session today",
          "ap assembly session today",
          "byreddy siddharth reddy",
          "ambati rambabu ",
          "byreddy siddharth reddy",
          "schemes",
          "cm jagan",
          "cm jagan",
          "schemes",
          "gudivada amarnath",
          "gudivada amarnath",
          "gudivada amarnath",
          "high court",
          "jr ntr",
          "tdp pattabhi",
          "jr ntr",
          "nara lokesh",
          "pawan kalyan",
          "vizag steel plant",
          "AP ",
          "chandrababu",
          "ambati rambabu",
          "YS Viveka Case",
          "Gadapa Gadapaku ",
          "Sajjala ",
          "Gadapa Gadapaku ",
          "Atchannaidu",
          "ambati rambabu ",
          "Ramoji Rao",
          "AP ",
          "Kuppam",
          "Ramoji Rao",
          "MLC Elections 2023",
          "Kuppam",
          "amaravati",
          "ambati rambabu",
          "MLC Elections 2023",
          "janasena party",
          "jr ntr",
          "jr ntr",
          "Sajjala ",
          "Gadapa Gadapaku ",
          "MLC Elections 2023",
          "vangalapudi anitha",
          "Ramoji Rao",
          "panchayat elections",
          "Vidadala Rajini",
          "vangalapudi anitha",
          "pawan kalyan",
          "Ramoji Rao",
          "Peddireddy ",
          "polavaram",
          "polavaram",
          "visakha",
          "high court",
          "tdp",
          "ap assembly session today",
          "ambati rambabu",
          "AP ",
          "amaravati",
          "amaravati",
          "alliance",
          "AP ",
          "Atchannaidu",
          "Yellow Media",
          "Atchannaidu",
          "Vidadala Rajini",
          "Atchannaidu",
          "Yellow Media",
          "gorantla ",
          "YSRCP Plenary",
          "YSRCP Plenary",
          "YS Viveka Case",
          "high court",
          "vizag steel plant",
          "cm jagan",
          "tdp",
          "vangalapudi anitha",
          "ycp",
          "ysrcp",
          "Gadapa Gadapaku ",
          "tdp pattabhi",
          "visakha",
          "yuvagalam",
          "vizag steel plant",
          "panchayat elections",
          "Peddireddy ",
          "ambati rambabu",
          "ap employees",
          "byreddy siddharth reddy",
          "byreddy siddharth reddy",
          "chandrababu",
          "alliance",
          "yuvagalam",
          "Yellow Media",
          "cm jagan",
          "YSRCP Plenary",
          "gorantla ",
          "YSRCP Plenary",
          "Vidadala Rajini",
          "Peddireddy ",
          "high court",
          "Vidadala Rajini",
          "Sajjala ",
          "nara lokesh",
          "nara lokesh",
          "panchayat elections",
          "pawan kalyan",
          "pawan kalyan",
          "polavaram",
          "raghurama ",
          "raghurama ",
          "schemes",
          "Peddireddy ",
          "schemes",
          "janasena party",
          "yuvagalam",
          "ABN",
          "Sakshi",
          "TV5",
          "TV9",
          "Media"
         ],
         "marker": {
          "colors": [
           "#0000FF",
           "yellow",
           "yellow",
           "gold",
           "ff2a26",
           "gold",
           "yellow",
           "ff2a26",
           "gold",
           "#0000FF",
           "#0000FF",
           "ff2a26",
           "gold",
           "#0000FF",
           "yellow",
           "ff2a26",
           "#0000FF",
           "#0000FF",
           "#0000FF",
           "yellow",
           "yellow",
           "ff2a26",
           "gold",
           "ff2a26",
           "#0000FF",
           "gold",
           "ff2a26",
           "gold",
           "yellow",
           "ff2a26",
           "ff2a26",
           "gold",
           "gold",
           "#0000FF",
           "ff2a26",
           "yellow",
           "#0000FF",
           "yellow",
           "gold",
           "ff2a26",
           "yellow",
           "#0000FF",
           "ff2a26",
           "gold",
           "yellow",
           "yellow",
           "#0000FF",
           "ff2a26",
           "#0000FF",
           "yellow",
           "ff2a26",
           "ff2a26",
           "yellow",
           "ff2a26",
           "#0000FF",
           "ff2a26",
           "yellow",
           "ff2a26",
           "#0000FF",
           "yellow",
           "#0000FF",
           "#0000FF",
           "yellow",
           "#0000FF",
           "#0000FF",
           "yellow",
           "ff2a26",
           "yellow",
           "yellow",
           "#0000FF",
           "yellow",
           "ff2a26",
           "gold",
           "yellow",
           "yellow",
           "#0000FF",
           "#0000FF",
           "gold",
           "ff2a26",
           "yellow",
           "#0000FF",
           "ff2a26",
           "gold",
           "gold",
           "gold",
           "gold",
           "#0000FF",
           "#0000FF",
           "gold",
           "ff2a26",
           "yellow",
           "gold",
           "gold",
           "#0000FF",
           "ff2a26",
           "gold",
           "#0000FF",
           "#0000FF",
           "gold",
           "ff2a26",
           "yellow",
           "ff2a26",
           "ff2a26",
           "yellow",
           "gold",
           "#0000FF",
           "yellow",
           "gold",
           "ff2a26",
           "gold",
           "gold",
           "ff2a26",
           "yellow",
           "gold",
           "yellow",
           "gold",
           "yellow",
           "ff2a26",
           "#0000FF",
           "ff2a26",
           "gold",
           "yellow",
           "yellow",
           "#0000FF",
           "#0000FF",
           "gold",
           "ff2a26",
           "yellow",
           "#0000FF",
           "ff2a26",
           "gold",
           "gold",
           "gold",
           "#0000FF",
           "yellow",
           "ff2a26",
           "gold",
           "yellow",
           "gold",
           "#0000FF",
           "gold",
           "ff2a26",
           "#0000FF",
           "yellow",
           "gold",
           "yellow",
           "ff2a26",
           "ff2a26",
           "#0000FF",
           "ff2a26",
           "yellow",
           "ff2a26",
           "#0000FF",
           "gold",
           "#0000FF",
           "yellow",
           "gold",
           "gold",
           "ff2a26",
           "#0000FF",
           "yellow",
           "ff2a26",
           "gold",
           "#0000FF",
           "#FFA15A"
          ],
          "cornerradius": 5
         },
         "name": "",
         "parents": [
          "Media/TV9",
          "Media/ABN",
          "Media/ABN",
          "Media/TV5",
          "Media/Sakshi",
          "Media/TV5",
          "Media/ABN",
          "Media/Sakshi",
          "Media/TV5",
          "Media/TV9",
          "Media/TV9",
          "Media/Sakshi",
          "Media/TV5",
          "Media/TV9",
          "Media/ABN",
          "Media/Sakshi",
          "Media/TV9",
          "Media/TV9",
          "Media/TV9",
          "Media/ABN",
          "Media/ABN",
          "Media/Sakshi",
          "Media/TV5",
          "Media/Sakshi",
          "Media/TV9",
          "Media/TV5",
          "Media/Sakshi",
          "Media/TV5",
          "Media/ABN",
          "Media/Sakshi",
          "Media/Sakshi",
          "Media/TV5",
          "Media/TV5",
          "Media/TV9",
          "Media/Sakshi",
          "Media/ABN",
          "Media/TV9",
          "Media/ABN",
          "Media/TV5",
          "Media/Sakshi",
          "Media/ABN",
          "Media/TV9",
          "Media/Sakshi",
          "Media/TV5",
          "Media/ABN",
          "Media/ABN",
          "Media/TV9",
          "Media/Sakshi",
          "Media/TV9",
          "Media/ABN",
          "Media/Sakshi",
          "Media/Sakshi",
          "Media/ABN",
          "Media/Sakshi",
          "Media/TV9",
          "Media/Sakshi",
          "Media/ABN",
          "Media/Sakshi",
          "Media/TV9",
          "Media/ABN",
          "Media/TV9",
          "Media/TV9",
          "Media/ABN",
          "Media/TV9",
          "Media/TV9",
          "Media/ABN",
          "Media/Sakshi",
          "Media/ABN",
          "Media/ABN",
          "Media/TV9",
          "Media/ABN",
          "Media/Sakshi",
          "Media/TV5",
          "Media/ABN",
          "Media/ABN",
          "Media/TV9",
          "Media/TV9",
          "Media/TV5",
          "Media/Sakshi",
          "Media/ABN",
          "Media/TV9",
          "Media/Sakshi",
          "Media/TV5",
          "Media/TV5",
          "Media/TV5",
          "Media/TV5",
          "Media/TV9",
          "Media/TV9",
          "Media/TV5",
          "Media/Sakshi",
          "Media/ABN",
          "Media/TV5",
          "Media/TV5",
          "Media/TV9",
          "Media/Sakshi",
          "Media/TV5",
          "Media/TV9",
          "Media/TV9",
          "Media/TV5",
          "Media/Sakshi",
          "Media/ABN",
          "Media/Sakshi",
          "Media/Sakshi",
          "Media/ABN",
          "Media/TV5",
          "Media/TV9",
          "Media/ABN",
          "Media/TV5",
          "Media/Sakshi",
          "Media/TV5",
          "Media/TV5",
          "Media/Sakshi",
          "Media/ABN",
          "Media/TV5",
          "Media/ABN",
          "Media/TV5",
          "Media/ABN",
          "Media/Sakshi",
          "Media/TV9",
          "Media/Sakshi",
          "Media/TV5",
          "Media/ABN",
          "Media/ABN",
          "Media/TV9",
          "Media/TV9",
          "Media/TV5",
          "Media/Sakshi",
          "Media/ABN",
          "Media/TV9",
          "Media/Sakshi",
          "Media/TV5",
          "Media/TV5",
          "Media/TV5",
          "Media/TV9",
          "Media/ABN",
          "Media/Sakshi",
          "Media/TV5",
          "Media/ABN",
          "Media/TV5",
          "Media/TV9",
          "Media/TV5",
          "Media/Sakshi",
          "Media/TV9",
          "Media/ABN",
          "Media/TV5",
          "Media/ABN",
          "Media/Sakshi",
          "Media/Sakshi",
          "Media/TV9",
          "Media/Sakshi",
          "Media/ABN",
          "Media/Sakshi",
          "Media/TV9",
          "Media/TV5",
          "Media/TV9",
          "Media/ABN",
          "Media/TV5",
          "Media/TV5",
          "Media/Sakshi",
          "Media/TV9",
          "Media",
          "Media",
          "Media",
          "Media",
          ""
         ],
         "type": "treemap",
         "values": [
          4021573,
          8591756,
          929339,
          32491135,
          13663145,
          26421541,
          10846884,
          6875524,
          5513292,
          4007703,
          1840923,
          6301926,
          146475610,
          345399,
          20074686,
          137313817,
          30443019,
          12727475,
          11233795,
          16940786,
          5808674,
          2611178,
          7830506,
          58358549,
          50765603,
          1601897,
          195218907,
          204498265,
          13277551,
          8514525,
          13898897,
          183650635,
          23237513,
          47666896,
          654126,
          4849298,
          46219009,
          35753653,
          13956522,
          114896886,
          22001275,
          7544043,
          19878108,
          23945973,
          8670424,
          4644493,
          3650040,
          16923955,
          32626078,
          28403237,
          272552959,
          61738697,
          1044693,
          5255931,
          4635529,
          3961147,
          2798375,
          3518446,
          10238480,
          9345550,
          37940701,
          1388019,
          60950772,
          27073016,
          8673546,
          19504390,
          6344177,
          5930545,
          675405,
          5898367,
          3108380,
          18028517,
          112332140,
          7657609,
          1443911,
          5783978,
          6192191,
          31875008,
          16273595,
          1884261,
          11099643,
          11451635,
          18752629,
          6588845,
          3235148,
          4818645,
          7868189,
          1118628,
          1301088,
          10530804,
          3416344,
          53854848,
          5412268,
          5493989,
          17576599,
          19943846,
          24815788,
          5431637,
          145375051,
          28724425,
          7242637,
          132369897,
          18386000,
          11610262,
          41374226,
          68586239,
          4643100,
          1984515,
          8626827,
          3138360,
          8403121,
          10268416,
          1432802,
          1378920,
          941900,
          27534053,
          10957787,
          1122420,
          21611108,
          38452151,
          6688982,
          60998829,
          55957935,
          886342,
          5455466,
          40186401,
          45366987,
          1192822,
          1318689,
          8591807,
          10085162,
          27295972,
          4820397,
          4811155,
          27493210,
          53679688,
          45860027,
          796446,
          141871136,
          413504,
          6895616,
          13263691,
          2155123,
          2200162,
          20068852,
          818771,
          10644417,
          43903177,
          11247766,
          8057879,
          17129753,
          56589268,
          18237058,
          20773455,
          464408,
          22544572,
          9768931,
          36408277,
          11541898,
          25887953,
          524513279,
          1511930998,
          1527648808,
          577818068,
          4141911153
         ]
        }
       ],
       "layout": {
        "legend": {
         "tracegroupgap": 0
        },
        "margin": {
         "b": 25,
         "l": 25,
         "r": 25,
         "t": 50
        },
        "template": {
         "data": {
          "bar": [
           {
            "error_x": {
             "color": "#2a3f5f"
            },
            "error_y": {
             "color": "#2a3f5f"
            },
            "marker": {
             "line": {
              "color": "#E5ECF6",
              "width": 0.5
             },
             "pattern": {
              "fillmode": "overlay",
              "size": 10,
              "solidity": 0.2
             }
            },
            "type": "bar"
           }
          ],
          "barpolar": [
           {
            "marker": {
             "line": {
              "color": "#E5ECF6",
              "width": 0.5
             },
             "pattern": {
              "fillmode": "overlay",
              "size": 10,
              "solidity": 0.2
             }
            },
            "type": "barpolar"
           }
          ],
          "carpet": [
           {
            "aaxis": {
             "endlinecolor": "#2a3f5f",
             "gridcolor": "white",
             "linecolor": "white",
             "minorgridcolor": "white",
             "startlinecolor": "#2a3f5f"
            },
            "baxis": {
             "endlinecolor": "#2a3f5f",
             "gridcolor": "white",
             "linecolor": "white",
             "minorgridcolor": "white",
             "startlinecolor": "#2a3f5f"
            },
            "type": "carpet"
           }
          ],
          "choropleth": [
           {
            "colorbar": {
             "outlinewidth": 0,
             "ticks": ""
            },
            "type": "choropleth"
           }
          ],
          "contour": [
           {
            "colorbar": {
             "outlinewidth": 0,
             "ticks": ""
            },
            "colorscale": [
             [
              0,
              "#0d0887"
             ],
             [
              0.1111111111111111,
              "#46039f"
             ],
             [
              0.2222222222222222,
              "#7201a8"
             ],
             [
              0.3333333333333333,
              "#9c179e"
             ],
             [
              0.4444444444444444,
              "#bd3786"
             ],
             [
              0.5555555555555556,
              "#d8576b"
             ],
             [
              0.6666666666666666,
              "#ed7953"
             ],
             [
              0.7777777777777778,
              "#fb9f3a"
             ],
             [
              0.8888888888888888,
              "#fdca26"
             ],
             [
              1,
              "#f0f921"
             ]
            ],
            "type": "contour"
           }
          ],
          "contourcarpet": [
           {
            "colorbar": {
             "outlinewidth": 0,
             "ticks": ""
            },
            "type": "contourcarpet"
           }
          ],
          "heatmap": [
           {
            "colorbar": {
             "outlinewidth": 0,
             "ticks": ""
            },
            "colorscale": [
             [
              0,
              "#0d0887"
             ],
             [
              0.1111111111111111,
              "#46039f"
             ],
             [
              0.2222222222222222,
              "#7201a8"
             ],
             [
              0.3333333333333333,
              "#9c179e"
             ],
             [
              0.4444444444444444,
              "#bd3786"
             ],
             [
              0.5555555555555556,
              "#d8576b"
             ],
             [
              0.6666666666666666,
              "#ed7953"
             ],
             [
              0.7777777777777778,
              "#fb9f3a"
             ],
             [
              0.8888888888888888,
              "#fdca26"
             ],
             [
              1,
              "#f0f921"
             ]
            ],
            "type": "heatmap"
           }
          ],
          "heatmapgl": [
           {
            "colorbar": {
             "outlinewidth": 0,
             "ticks": ""
            },
            "colorscale": [
             [
              0,
              "#0d0887"
             ],
             [
              0.1111111111111111,
              "#46039f"
             ],
             [
              0.2222222222222222,
              "#7201a8"
             ],
             [
              0.3333333333333333,
              "#9c179e"
             ],
             [
              0.4444444444444444,
              "#bd3786"
             ],
             [
              0.5555555555555556,
              "#d8576b"
             ],
             [
              0.6666666666666666,
              "#ed7953"
             ],
             [
              0.7777777777777778,
              "#fb9f3a"
             ],
             [
              0.8888888888888888,
              "#fdca26"
             ],
             [
              1,
              "#f0f921"
             ]
            ],
            "type": "heatmapgl"
           }
          ],
          "histogram": [
           {
            "marker": {
             "pattern": {
              "fillmode": "overlay",
              "size": 10,
              "solidity": 0.2
             }
            },
            "type": "histogram"
           }
          ],
          "histogram2d": [
           {
            "colorbar": {
             "outlinewidth": 0,
             "ticks": ""
            },
            "colorscale": [
             [
              0,
              "#0d0887"
             ],
             [
              0.1111111111111111,
              "#46039f"
             ],
             [
              0.2222222222222222,
              "#7201a8"
             ],
             [
              0.3333333333333333,
              "#9c179e"
             ],
             [
              0.4444444444444444,
              "#bd3786"
             ],
             [
              0.5555555555555556,
              "#d8576b"
             ],
             [
              0.6666666666666666,
              "#ed7953"
             ],
             [
              0.7777777777777778,
              "#fb9f3a"
             ],
             [
              0.8888888888888888,
              "#fdca26"
             ],
             [
              1,
              "#f0f921"
             ]
            ],
            "type": "histogram2d"
           }
          ],
          "histogram2dcontour": [
           {
            "colorbar": {
             "outlinewidth": 0,
             "ticks": ""
            },
            "colorscale": [
             [
              0,
              "#0d0887"
             ],
             [
              0.1111111111111111,
              "#46039f"
             ],
             [
              0.2222222222222222,
              "#7201a8"
             ],
             [
              0.3333333333333333,
              "#9c179e"
             ],
             [
              0.4444444444444444,
              "#bd3786"
             ],
             [
              0.5555555555555556,
              "#d8576b"
             ],
             [
              0.6666666666666666,
              "#ed7953"
             ],
             [
              0.7777777777777778,
              "#fb9f3a"
             ],
             [
              0.8888888888888888,
              "#fdca26"
             ],
             [
              1,
              "#f0f921"
             ]
            ],
            "type": "histogram2dcontour"
           }
          ],
          "mesh3d": [
           {
            "colorbar": {
             "outlinewidth": 0,
             "ticks": ""
            },
            "type": "mesh3d"
           }
          ],
          "parcoords": [
           {
            "line": {
             "colorbar": {
              "outlinewidth": 0,
              "ticks": ""
             }
            },
            "type": "parcoords"
           }
          ],
          "pie": [
           {
            "automargin": true,
            "type": "pie"
           }
          ],
          "scatter": [
           {
            "fillpattern": {
             "fillmode": "overlay",
             "size": 10,
             "solidity": 0.2
            },
            "type": "scatter"
           }
          ],
          "scatter3d": [
           {
            "line": {
             "colorbar": {
              "outlinewidth": 0,
              "ticks": ""
             }
            },
            "marker": {
             "colorbar": {
              "outlinewidth": 0,
              "ticks": ""
             }
            },
            "type": "scatter3d"
           }
          ],
          "scattercarpet": [
           {
            "marker": {
             "colorbar": {
              "outlinewidth": 0,
              "ticks": ""
             }
            },
            "type": "scattercarpet"
           }
          ],
          "scattergeo": [
           {
            "marker": {
             "colorbar": {
              "outlinewidth": 0,
              "ticks": ""
             }
            },
            "type": "scattergeo"
           }
          ],
          "scattergl": [
           {
            "marker": {
             "colorbar": {
              "outlinewidth": 0,
              "ticks": ""
             }
            },
            "type": "scattergl"
           }
          ],
          "scattermapbox": [
           {
            "marker": {
             "colorbar": {
              "outlinewidth": 0,
              "ticks": ""
             }
            },
            "type": "scattermapbox"
           }
          ],
          "scatterpolar": [
           {
            "marker": {
             "colorbar": {
              "outlinewidth": 0,
              "ticks": ""
             }
            },
            "type": "scatterpolar"
           }
          ],
          "scatterpolargl": [
           {
            "marker": {
             "colorbar": {
              "outlinewidth": 0,
              "ticks": ""
             }
            },
            "type": "scatterpolargl"
           }
          ],
          "scatterternary": [
           {
            "marker": {
             "colorbar": {
              "outlinewidth": 0,
              "ticks": ""
             }
            },
            "type": "scatterternary"
           }
          ],
          "surface": [
           {
            "colorbar": {
             "outlinewidth": 0,
             "ticks": ""
            },
            "colorscale": [
             [
              0,
              "#0d0887"
             ],
             [
              0.1111111111111111,
              "#46039f"
             ],
             [
              0.2222222222222222,
              "#7201a8"
             ],
             [
              0.3333333333333333,
              "#9c179e"
             ],
             [
              0.4444444444444444,
              "#bd3786"
             ],
             [
              0.5555555555555556,
              "#d8576b"
             ],
             [
              0.6666666666666666,
              "#ed7953"
             ],
             [
              0.7777777777777778,
              "#fb9f3a"
             ],
             [
              0.8888888888888888,
              "#fdca26"
             ],
             [
              1,
              "#f0f921"
             ]
            ],
            "type": "surface"
           }
          ],
          "table": [
           {
            "cells": {
             "fill": {
              "color": "#EBF0F8"
             },
             "line": {
              "color": "white"
             }
            },
            "header": {
             "fill": {
              "color": "#C8D4E3"
             },
             "line": {
              "color": "white"
             }
            },
            "type": "table"
           }
          ]
         },
         "layout": {
          "annotationdefaults": {
           "arrowcolor": "#2a3f5f",
           "arrowhead": 0,
           "arrowwidth": 1
          },
          "autotypenumbers": "strict",
          "coloraxis": {
           "colorbar": {
            "outlinewidth": 0,
            "ticks": ""
           }
          },
          "colorscale": {
           "diverging": [
            [
             0,
             "#8e0152"
            ],
            [
             0.1,
             "#c51b7d"
            ],
            [
             0.2,
             "#de77ae"
            ],
            [
             0.3,
             "#f1b6da"
            ],
            [
             0.4,
             "#fde0ef"
            ],
            [
             0.5,
             "#f7f7f7"
            ],
            [
             0.6,
             "#e6f5d0"
            ],
            [
             0.7,
             "#b8e186"
            ],
            [
             0.8,
             "#7fbc41"
            ],
            [
             0.9,
             "#4d9221"
            ],
            [
             1,
             "#276419"
            ]
           ],
           "sequential": [
            [
             0,
             "#0d0887"
            ],
            [
             0.1111111111111111,
             "#46039f"
            ],
            [
             0.2222222222222222,
             "#7201a8"
            ],
            [
             0.3333333333333333,
             "#9c179e"
            ],
            [
             0.4444444444444444,
             "#bd3786"
            ],
            [
             0.5555555555555556,
             "#d8576b"
            ],
            [
             0.6666666666666666,
             "#ed7953"
            ],
            [
             0.7777777777777778,
             "#fb9f3a"
            ],
            [
             0.8888888888888888,
             "#fdca26"
            ],
            [
             1,
             "#f0f921"
            ]
           ],
           "sequentialminus": [
            [
             0,
             "#0d0887"
            ],
            [
             0.1111111111111111,
             "#46039f"
            ],
            [
             0.2222222222222222,
             "#7201a8"
            ],
            [
             0.3333333333333333,
             "#9c179e"
            ],
            [
             0.4444444444444444,
             "#bd3786"
            ],
            [
             0.5555555555555556,
             "#d8576b"
            ],
            [
             0.6666666666666666,
             "#ed7953"
            ],
            [
             0.7777777777777778,
             "#fb9f3a"
            ],
            [
             0.8888888888888888,
             "#fdca26"
            ],
            [
             1,
             "#f0f921"
            ]
           ]
          },
          "colorway": [
           "#636efa",
           "#EF553B",
           "#00cc96",
           "#ab63fa",
           "#FFA15A",
           "#19d3f3",
           "#FF6692",
           "#B6E880",
           "#FF97FF",
           "#FECB52"
          ],
          "font": {
           "color": "#2a3f5f"
          },
          "geo": {
           "bgcolor": "white",
           "lakecolor": "white",
           "landcolor": "#E5ECF6",
           "showlakes": true,
           "showland": true,
           "subunitcolor": "white"
          },
          "hoverlabel": {
           "align": "left"
          },
          "hovermode": "closest",
          "mapbox": {
           "style": "light"
          },
          "paper_bgcolor": "white",
          "plot_bgcolor": "#E5ECF6",
          "polar": {
           "angularaxis": {
            "gridcolor": "white",
            "linecolor": "white",
            "ticks": ""
           },
           "bgcolor": "#E5ECF6",
           "radialaxis": {
            "gridcolor": "white",
            "linecolor": "white",
            "ticks": ""
           }
          },
          "scene": {
           "xaxis": {
            "backgroundcolor": "#E5ECF6",
            "gridcolor": "white",
            "gridwidth": 2,
            "linecolor": "white",
            "showbackground": true,
            "ticks": "",
            "zerolinecolor": "white"
           },
           "yaxis": {
            "backgroundcolor": "#E5ECF6",
            "gridcolor": "white",
            "gridwidth": 2,
            "linecolor": "white",
            "showbackground": true,
            "ticks": "",
            "zerolinecolor": "white"
           },
           "zaxis": {
            "backgroundcolor": "#E5ECF6",
            "gridcolor": "white",
            "gridwidth": 2,
            "linecolor": "white",
            "showbackground": true,
            "ticks": "",
            "zerolinecolor": "white"
           }
          },
          "shapedefaults": {
           "line": {
            "color": "#2a3f5f"
           }
          },
          "ternary": {
           "aaxis": {
            "gridcolor": "white",
            "linecolor": "white",
            "ticks": ""
           },
           "baxis": {
            "gridcolor": "white",
            "linecolor": "white",
            "ticks": ""
           },
           "bgcolor": "#E5ECF6",
           "caxis": {
            "gridcolor": "white",
            "linecolor": "white",
            "ticks": ""
           }
          },
          "title": {
           "x": 0.05
          },
          "xaxis": {
           "automargin": true,
           "gridcolor": "white",
           "linecolor": "white",
           "ticks": "",
           "title": {
            "standoff": 15
           },
           "zerolinecolor": "white",
           "zerolinewidth": 2
          },
          "yaxis": {
           "automargin": true,
           "gridcolor": "white",
           "linecolor": "white",
           "ticks": "",
           "title": {
            "standoff": 15
           },
           "zerolinecolor": "white",
           "zerolinewidth": 2
          }
         }
        }
       }
      }
     },
     "metadata": {},
     "output_type": "display_data"
    }
   ],
   "source": [
    "\n",
    "# prepare data frames\n",
    "import plotly.graph_objs as go\n",
    "from plotly import tools\n",
    "\n",
    "date_start = '2022-01-01'\n",
    "date_end = '2024-01-01'\n",
    "total_tags_start = 0\n",
    "total_tags_end = 10\n",
    "\n",
    "df_tags_plot = pd.read_csv('plots_data/dashboard_tags.csv')\n",
    "df_bar = df_tags_plot\n",
    "df_bar_sorted = df_bar[(df_bar.upload_date >= date_start) & (df_bar.upload_date <= date_end)]\n",
    "df_bar_grouped = df_bar_sorted.groupby(['tags']).agg({\"sentiment\": np.mean, 'view_count': np.sum, 'comment_count':np.sum,'duration':np.sum}).reset_index()\n",
    "df_bar_grouped  = df_bar_grouped.sort_values('view_count', ascending = False)\n",
    "df_bar_grouped = df_bar_grouped[total_tags_start:total_tags_end]\n",
    "df_bar_grouped['duration'] = df_bar_grouped['duration']/(60*60*24)\n",
    "df_bar_grouped['duration'] = np.round(df_bar_grouped['duration'],1)\n",
    "\n",
    "tags = df_bar_grouped['tags'].values\n",
    "views = df_bar_grouped['view_count'].values\n",
    "duration = df_bar_grouped['duration'].values\n",
    "\n",
    "\n",
    "y_saving = views\n",
    "y_net_worth  = duration\n",
    "x_saving = tags\n",
    "x_net_worth  = tags\n",
    "\n",
    "\n",
    "\n",
    "trace0 = go.Bar(\n",
    "                x=y_saving,\n",
    "                y=x_saving,\n",
    "                marker=dict(color='rgba(171, 50, 96, 0.6)',line=dict(color='rgba(171, 50, 96, 1.0)',width=1)),\n",
    "                name='Views',\n",
    "                orientation='h',\n",
    ")\n",
    "trace1 = go.Scatter(\n",
    "                x=y_net_worth,\n",
    "                y=x_net_worth,\n",
    "                mode='lines+markers',\n",
    "                line=dict(color='rgb(63, 72, 204)'),\n",
    "                name='Duration',\n",
    ")\n",
    "layout = dict(\n",
    "                title='Tags Views and Duration',\n",
    "                yaxis=dict(showticklabels=True,domain=[0, 0.85]),\n",
    "                yaxis2=dict(showline=True,showticklabels=False,linecolor='rgba(102, 102, 102, 0.8)',linewidth=2,domain=[0, 0.85]),\n",
    "                xaxis=dict(zeroline=False,showline=False,showticklabels=True,showgrid=True,domain=[0, 0.42]),\n",
    "                xaxis2=dict(zeroline=False,showline=False,showticklabels=True,showgrid=True,domain=[0.47, 1],side='top',dtick=25),\n",
    "                legend=dict(x=0.029,y=1.038,font=dict(size=10) ),\n",
    "                margin=dict(l=200, r=20,t=70,b=70),\n",
    "                paper_bgcolor='rgb(248, 248, 255)',\n",
    "                plot_bgcolor='rgb(248, 248, 255)',\n",
    ")\n",
    "annotations = []\n",
    "y_s = np.round(y_saving, decimals=2)\n",
    "y_nw = np.rint(y_net_worth)\n",
    "for ydn, yd, xd in zip(y_nw, y_s, x_saving):\n",
    "    annotations.append(dict(xref='x2', yref='y2', y=xd, x=ydn - 4,text='{:,}'.format(ydn),font=dict(family='Arial', size=12,color='rgb(63, 72, 204)'),showarrow=False))\n",
    "    annotations.append(dict(xref='x1', yref='y1', y=xd, x=yd + 3,text=str(yd),font=dict(family='Arial', size=12,color='rgb(171, 50, 96)'),showarrow=False))\n",
    "fig = tools.make_subplots(rows=1, cols=2, specs=[[{}, {}]], shared_xaxes=True,\n",
    "                          shared_yaxes=False, vertical_spacing=0.001)\n",
    "\n",
    "fig.append_trace(trace0, 1, 1)\n",
    "fig.append_trace(trace1, 1, 2)\n",
    "fig.update_layout(\n",
    "    title='Constituency Graph',\n",
    "    xaxis=dict(title='Views'),\n",
    "    yaxis=dict(title='Tags'))\n",
    "fig['layout'].update(layout)\n",
    "fig.show()\n",
    "\n",
    "\n",
    "\n",
    "df_tags_plot = pd.read_csv('plots_data/dashboard_tags.csv')\n",
    "df_bar_grouped = df_tags_plot.groupby(['tags','uploader']).agg({\"sentiment\": np.mean, 'view_count': np.sum, 'comment_count':np.sum,'duration':np.sum}).reset_index()\n",
    "df_bar_grouped  = df_bar_grouped.sort_values('view_count', ascending = False)\n",
    "df_bar_grouped['duration'] = df_bar_grouped['duration']/(60*60*24)\n",
    "df_bar_grouped['duration'] = np.round(df_bar_grouped['duration'],1)\n",
    "\n",
    "\n",
    "fig = px.treemap(df_bar_grouped, path=[px.Constant(\"Media\"), 'uploader', 'tags'], values='view_count',\n",
    "                  color='uploader', hover_data=['duration','sentiment'],color_discrete_map= {'ABN': 'yellow','TV5': 'gold', 'Sakshi':'ff2a26' , 'TV9':'#0000FF'})\n",
    "fig.update_layout(margin = dict(t=50, l=25, r=25, b=25))\n",
    "fig.update_traces(marker=dict(cornerradius=5))\n",
    "fig.show()"
   ]
  },
  {
   "cell_type": "code",
   "execution_count": 32,
   "metadata": {},
   "outputs": [
    {
     "data": {
      "text/plain": [
       "81     1792.6\n",
       "154    1288.4\n",
       "153    1957.6\n",
       "150    1960.0\n",
       "78     2778.3\n",
       "        ...  \n",
       "8         3.6\n",
       "17        1.8\n",
       "123       3.4\n",
       "43        2.3\n",
       "47        1.7\n",
       "Name: duration, Length: 160, dtype: float64"
      ]
     },
     "execution_count": 32,
     "metadata": {},
     "output_type": "execute_result"
    }
   ],
   "source": []
  },
  {
   "cell_type": "markdown",
   "metadata": {},
   "source": [
    "## Media Analytics"
   ]
  },
  {
   "cell_type": "code",
   "execution_count": null,
   "metadata": {},
   "outputs": [],
   "source": [
    "import streamlit as st\n",
    "import pandas as pd\n",
    "import folium\n",
    "import numpy as np\n",
    "from folium.plugins import HeatMap"
   ]
  },
  {
   "cell_type": "code",
   "execution_count": 13,
   "metadata": {},
   "outputs": [
    {
     "data": {
      "application/vnd.plotly.v1+json": {
       "config": {
        "plotlyServerURL": "https://plot.ly"
       },
       "data": [
        {
         "customdata": [
          [
           680643211,
           "TV9"
          ],
          [
           636515035,
           "TV5"
          ],
          [
           573745816,
           "ABN"
          ],
          [
           406657454,
           "Sakshi"
          ]
         ],
         "domain": {
          "x": [
           0,
           1
          ],
          "y": [
           0,
           1
          ]
         },
         "hole": 0.3,
         "hovertemplate": "uploader=%{customdata[1]}<br>view_count=%{customdata[0]}<extra></extra>",
         "labels": [
          "TV9",
          "TV5",
          "ABN",
          "Sakshi"
         ],
         "legendgroup": "",
         "marker": {
          "colors": [
           "#0000FF",
           "gold",
           "yellow",
           "ff2a26"
          ]
         },
         "name": "",
         "showlegend": true,
         "textinfo": "percent+label",
         "textposition": "inside",
         "type": "pie",
         "values": [
          680643211,
          636515035,
          573745816,
          406657454
         ]
        }
       ],
       "layout": {
        "legend": {
         "tracegroupgap": 0
        },
        "template": {
         "data": {
          "bar": [
           {
            "error_x": {
             "color": "#2a3f5f"
            },
            "error_y": {
             "color": "#2a3f5f"
            },
            "marker": {
             "line": {
              "color": "#E5ECF6",
              "width": 0.5
             },
             "pattern": {
              "fillmode": "overlay",
              "size": 10,
              "solidity": 0.2
             }
            },
            "type": "bar"
           }
          ],
          "barpolar": [
           {
            "marker": {
             "line": {
              "color": "#E5ECF6",
              "width": 0.5
             },
             "pattern": {
              "fillmode": "overlay",
              "size": 10,
              "solidity": 0.2
             }
            },
            "type": "barpolar"
           }
          ],
          "carpet": [
           {
            "aaxis": {
             "endlinecolor": "#2a3f5f",
             "gridcolor": "white",
             "linecolor": "white",
             "minorgridcolor": "white",
             "startlinecolor": "#2a3f5f"
            },
            "baxis": {
             "endlinecolor": "#2a3f5f",
             "gridcolor": "white",
             "linecolor": "white",
             "minorgridcolor": "white",
             "startlinecolor": "#2a3f5f"
            },
            "type": "carpet"
           }
          ],
          "choropleth": [
           {
            "colorbar": {
             "outlinewidth": 0,
             "ticks": ""
            },
            "type": "choropleth"
           }
          ],
          "contour": [
           {
            "colorbar": {
             "outlinewidth": 0,
             "ticks": ""
            },
            "colorscale": [
             [
              0,
              "#0d0887"
             ],
             [
              0.1111111111111111,
              "#46039f"
             ],
             [
              0.2222222222222222,
              "#7201a8"
             ],
             [
              0.3333333333333333,
              "#9c179e"
             ],
             [
              0.4444444444444444,
              "#bd3786"
             ],
             [
              0.5555555555555556,
              "#d8576b"
             ],
             [
              0.6666666666666666,
              "#ed7953"
             ],
             [
              0.7777777777777778,
              "#fb9f3a"
             ],
             [
              0.8888888888888888,
              "#fdca26"
             ],
             [
              1,
              "#f0f921"
             ]
            ],
            "type": "contour"
           }
          ],
          "contourcarpet": [
           {
            "colorbar": {
             "outlinewidth": 0,
             "ticks": ""
            },
            "type": "contourcarpet"
           }
          ],
          "heatmap": [
           {
            "colorbar": {
             "outlinewidth": 0,
             "ticks": ""
            },
            "colorscale": [
             [
              0,
              "#0d0887"
             ],
             [
              0.1111111111111111,
              "#46039f"
             ],
             [
              0.2222222222222222,
              "#7201a8"
             ],
             [
              0.3333333333333333,
              "#9c179e"
             ],
             [
              0.4444444444444444,
              "#bd3786"
             ],
             [
              0.5555555555555556,
              "#d8576b"
             ],
             [
              0.6666666666666666,
              "#ed7953"
             ],
             [
              0.7777777777777778,
              "#fb9f3a"
             ],
             [
              0.8888888888888888,
              "#fdca26"
             ],
             [
              1,
              "#f0f921"
             ]
            ],
            "type": "heatmap"
           }
          ],
          "heatmapgl": [
           {
            "colorbar": {
             "outlinewidth": 0,
             "ticks": ""
            },
            "colorscale": [
             [
              0,
              "#0d0887"
             ],
             [
              0.1111111111111111,
              "#46039f"
             ],
             [
              0.2222222222222222,
              "#7201a8"
             ],
             [
              0.3333333333333333,
              "#9c179e"
             ],
             [
              0.4444444444444444,
              "#bd3786"
             ],
             [
              0.5555555555555556,
              "#d8576b"
             ],
             [
              0.6666666666666666,
              "#ed7953"
             ],
             [
              0.7777777777777778,
              "#fb9f3a"
             ],
             [
              0.8888888888888888,
              "#fdca26"
             ],
             [
              1,
              "#f0f921"
             ]
            ],
            "type": "heatmapgl"
           }
          ],
          "histogram": [
           {
            "marker": {
             "pattern": {
              "fillmode": "overlay",
              "size": 10,
              "solidity": 0.2
             }
            },
            "type": "histogram"
           }
          ],
          "histogram2d": [
           {
            "colorbar": {
             "outlinewidth": 0,
             "ticks": ""
            },
            "colorscale": [
             [
              0,
              "#0d0887"
             ],
             [
              0.1111111111111111,
              "#46039f"
             ],
             [
              0.2222222222222222,
              "#7201a8"
             ],
             [
              0.3333333333333333,
              "#9c179e"
             ],
             [
              0.4444444444444444,
              "#bd3786"
             ],
             [
              0.5555555555555556,
              "#d8576b"
             ],
             [
              0.6666666666666666,
              "#ed7953"
             ],
             [
              0.7777777777777778,
              "#fb9f3a"
             ],
             [
              0.8888888888888888,
              "#fdca26"
             ],
             [
              1,
              "#f0f921"
             ]
            ],
            "type": "histogram2d"
           }
          ],
          "histogram2dcontour": [
           {
            "colorbar": {
             "outlinewidth": 0,
             "ticks": ""
            },
            "colorscale": [
             [
              0,
              "#0d0887"
             ],
             [
              0.1111111111111111,
              "#46039f"
             ],
             [
              0.2222222222222222,
              "#7201a8"
             ],
             [
              0.3333333333333333,
              "#9c179e"
             ],
             [
              0.4444444444444444,
              "#bd3786"
             ],
             [
              0.5555555555555556,
              "#d8576b"
             ],
             [
              0.6666666666666666,
              "#ed7953"
             ],
             [
              0.7777777777777778,
              "#fb9f3a"
             ],
             [
              0.8888888888888888,
              "#fdca26"
             ],
             [
              1,
              "#f0f921"
             ]
            ],
            "type": "histogram2dcontour"
           }
          ],
          "mesh3d": [
           {
            "colorbar": {
             "outlinewidth": 0,
             "ticks": ""
            },
            "type": "mesh3d"
           }
          ],
          "parcoords": [
           {
            "line": {
             "colorbar": {
              "outlinewidth": 0,
              "ticks": ""
             }
            },
            "type": "parcoords"
           }
          ],
          "pie": [
           {
            "automargin": true,
            "type": "pie"
           }
          ],
          "scatter": [
           {
            "fillpattern": {
             "fillmode": "overlay",
             "size": 10,
             "solidity": 0.2
            },
            "type": "scatter"
           }
          ],
          "scatter3d": [
           {
            "line": {
             "colorbar": {
              "outlinewidth": 0,
              "ticks": ""
             }
            },
            "marker": {
             "colorbar": {
              "outlinewidth": 0,
              "ticks": ""
             }
            },
            "type": "scatter3d"
           }
          ],
          "scattercarpet": [
           {
            "marker": {
             "colorbar": {
              "outlinewidth": 0,
              "ticks": ""
             }
            },
            "type": "scattercarpet"
           }
          ],
          "scattergeo": [
           {
            "marker": {
             "colorbar": {
              "outlinewidth": 0,
              "ticks": ""
             }
            },
            "type": "scattergeo"
           }
          ],
          "scattergl": [
           {
            "marker": {
             "colorbar": {
              "outlinewidth": 0,
              "ticks": ""
             }
            },
            "type": "scattergl"
           }
          ],
          "scattermapbox": [
           {
            "marker": {
             "colorbar": {
              "outlinewidth": 0,
              "ticks": ""
             }
            },
            "type": "scattermapbox"
           }
          ],
          "scatterpolar": [
           {
            "marker": {
             "colorbar": {
              "outlinewidth": 0,
              "ticks": ""
             }
            },
            "type": "scatterpolar"
           }
          ],
          "scatterpolargl": [
           {
            "marker": {
             "colorbar": {
              "outlinewidth": 0,
              "ticks": ""
             }
            },
            "type": "scatterpolargl"
           }
          ],
          "scatterternary": [
           {
            "marker": {
             "colorbar": {
              "outlinewidth": 0,
              "ticks": ""
             }
            },
            "type": "scatterternary"
           }
          ],
          "surface": [
           {
            "colorbar": {
             "outlinewidth": 0,
             "ticks": ""
            },
            "colorscale": [
             [
              0,
              "#0d0887"
             ],
             [
              0.1111111111111111,
              "#46039f"
             ],
             [
              0.2222222222222222,
              "#7201a8"
             ],
             [
              0.3333333333333333,
              "#9c179e"
             ],
             [
              0.4444444444444444,
              "#bd3786"
             ],
             [
              0.5555555555555556,
              "#d8576b"
             ],
             [
              0.6666666666666666,
              "#ed7953"
             ],
             [
              0.7777777777777778,
              "#fb9f3a"
             ],
             [
              0.8888888888888888,
              "#fdca26"
             ],
             [
              1,
              "#f0f921"
             ]
            ],
            "type": "surface"
           }
          ],
          "table": [
           {
            "cells": {
             "fill": {
              "color": "#EBF0F8"
             },
             "line": {
              "color": "white"
             }
            },
            "header": {
             "fill": {
              "color": "#C8D4E3"
             },
             "line": {
              "color": "white"
             }
            },
            "type": "table"
           }
          ]
         },
         "layout": {
          "annotationdefaults": {
           "arrowcolor": "#2a3f5f",
           "arrowhead": 0,
           "arrowwidth": 1
          },
          "autotypenumbers": "strict",
          "coloraxis": {
           "colorbar": {
            "outlinewidth": 0,
            "ticks": ""
           }
          },
          "colorscale": {
           "diverging": [
            [
             0,
             "#8e0152"
            ],
            [
             0.1,
             "#c51b7d"
            ],
            [
             0.2,
             "#de77ae"
            ],
            [
             0.3,
             "#f1b6da"
            ],
            [
             0.4,
             "#fde0ef"
            ],
            [
             0.5,
             "#f7f7f7"
            ],
            [
             0.6,
             "#e6f5d0"
            ],
            [
             0.7,
             "#b8e186"
            ],
            [
             0.8,
             "#7fbc41"
            ],
            [
             0.9,
             "#4d9221"
            ],
            [
             1,
             "#276419"
            ]
           ],
           "sequential": [
            [
             0,
             "#0d0887"
            ],
            [
             0.1111111111111111,
             "#46039f"
            ],
            [
             0.2222222222222222,
             "#7201a8"
            ],
            [
             0.3333333333333333,
             "#9c179e"
            ],
            [
             0.4444444444444444,
             "#bd3786"
            ],
            [
             0.5555555555555556,
             "#d8576b"
            ],
            [
             0.6666666666666666,
             "#ed7953"
            ],
            [
             0.7777777777777778,
             "#fb9f3a"
            ],
            [
             0.8888888888888888,
             "#fdca26"
            ],
            [
             1,
             "#f0f921"
            ]
           ],
           "sequentialminus": [
            [
             0,
             "#0d0887"
            ],
            [
             0.1111111111111111,
             "#46039f"
            ],
            [
             0.2222222222222222,
             "#7201a8"
            ],
            [
             0.3333333333333333,
             "#9c179e"
            ],
            [
             0.4444444444444444,
             "#bd3786"
            ],
            [
             0.5555555555555556,
             "#d8576b"
            ],
            [
             0.6666666666666666,
             "#ed7953"
            ],
            [
             0.7777777777777778,
             "#fb9f3a"
            ],
            [
             0.8888888888888888,
             "#fdca26"
            ],
            [
             1,
             "#f0f921"
            ]
           ]
          },
          "colorway": [
           "#636efa",
           "#EF553B",
           "#00cc96",
           "#ab63fa",
           "#FFA15A",
           "#19d3f3",
           "#FF6692",
           "#B6E880",
           "#FF97FF",
           "#FECB52"
          ],
          "font": {
           "color": "#2a3f5f"
          },
          "geo": {
           "bgcolor": "white",
           "lakecolor": "white",
           "landcolor": "#E5ECF6",
           "showlakes": true,
           "showland": true,
           "subunitcolor": "white"
          },
          "hoverlabel": {
           "align": "left"
          },
          "hovermode": "closest",
          "mapbox": {
           "style": "light"
          },
          "paper_bgcolor": "white",
          "plot_bgcolor": "#E5ECF6",
          "polar": {
           "angularaxis": {
            "gridcolor": "white",
            "linecolor": "white",
            "ticks": ""
           },
           "bgcolor": "#E5ECF6",
           "radialaxis": {
            "gridcolor": "white",
            "linecolor": "white",
            "ticks": ""
           }
          },
          "scene": {
           "xaxis": {
            "backgroundcolor": "#E5ECF6",
            "gridcolor": "white",
            "gridwidth": 2,
            "linecolor": "white",
            "showbackground": true,
            "ticks": "",
            "zerolinecolor": "white"
           },
           "yaxis": {
            "backgroundcolor": "#E5ECF6",
            "gridcolor": "white",
            "gridwidth": 2,
            "linecolor": "white",
            "showbackground": true,
            "ticks": "",
            "zerolinecolor": "white"
           },
           "zaxis": {
            "backgroundcolor": "#E5ECF6",
            "gridcolor": "white",
            "gridwidth": 2,
            "linecolor": "white",
            "showbackground": true,
            "ticks": "",
            "zerolinecolor": "white"
           }
          },
          "shapedefaults": {
           "line": {
            "color": "#2a3f5f"
           }
          },
          "ternary": {
           "aaxis": {
            "gridcolor": "white",
            "linecolor": "white",
            "ticks": ""
           },
           "baxis": {
            "gridcolor": "white",
            "linecolor": "white",
            "ticks": ""
           },
           "bgcolor": "#E5ECF6",
           "caxis": {
            "gridcolor": "white",
            "linecolor": "white",
            "ticks": ""
           }
          },
          "title": {
           "x": 0.05
          },
          "xaxis": {
           "automargin": true,
           "gridcolor": "white",
           "linecolor": "white",
           "ticks": "",
           "title": {
            "standoff": 15
           },
           "zerolinecolor": "white",
           "zerolinewidth": 2
          },
          "yaxis": {
           "automargin": true,
           "gridcolor": "white",
           "linecolor": "white",
           "ticks": "",
           "title": {
            "standoff": 15
           },
           "zerolinecolor": "white",
           "zerolinewidth": 2
          }
         }
        },
        "title": {
         "text": "Views Distribution"
        }
       }
      }
     },
     "metadata": {},
     "output_type": "display_data"
    },
    {
     "data": {
      "application/vnd.plotly.v1+json": {
       "config": {
        "plotlyServerURL": "https://plot.ly"
       },
       "data": [
        {
         "customdata": [
          [
           342165,
           "TV9"
          ],
          [
           560885,
           "TV5"
          ],
          [
           315863,
           "ABN"
          ],
          [
           526221,
           "Sakshi"
          ]
         ],
         "domain": {
          "x": [
           0,
           1
          ],
          "y": [
           0,
           1
          ]
         },
         "hole": 0.3,
         "hovertemplate": "uploader=%{customdata[1]}<br>comment_count=%{customdata[0]}<extra></extra>",
         "labels": [
          "TV9",
          "TV5",
          "ABN",
          "Sakshi"
         ],
         "legendgroup": "",
         "marker": {
          "colors": [
           "#0000FF",
           "gold",
           "yellow",
           "ff2a26"
          ]
         },
         "name": "",
         "showlegend": true,
         "textinfo": "percent+label",
         "textposition": "inside",
         "type": "pie",
         "values": [
          342165,
          560885,
          315863,
          526221
         ]
        }
       ],
       "layout": {
        "legend": {
         "tracegroupgap": 0
        },
        "template": {
         "data": {
          "bar": [
           {
            "error_x": {
             "color": "#2a3f5f"
            },
            "error_y": {
             "color": "#2a3f5f"
            },
            "marker": {
             "line": {
              "color": "#E5ECF6",
              "width": 0.5
             },
             "pattern": {
              "fillmode": "overlay",
              "size": 10,
              "solidity": 0.2
             }
            },
            "type": "bar"
           }
          ],
          "barpolar": [
           {
            "marker": {
             "line": {
              "color": "#E5ECF6",
              "width": 0.5
             },
             "pattern": {
              "fillmode": "overlay",
              "size": 10,
              "solidity": 0.2
             }
            },
            "type": "barpolar"
           }
          ],
          "carpet": [
           {
            "aaxis": {
             "endlinecolor": "#2a3f5f",
             "gridcolor": "white",
             "linecolor": "white",
             "minorgridcolor": "white",
             "startlinecolor": "#2a3f5f"
            },
            "baxis": {
             "endlinecolor": "#2a3f5f",
             "gridcolor": "white",
             "linecolor": "white",
             "minorgridcolor": "white",
             "startlinecolor": "#2a3f5f"
            },
            "type": "carpet"
           }
          ],
          "choropleth": [
           {
            "colorbar": {
             "outlinewidth": 0,
             "ticks": ""
            },
            "type": "choropleth"
           }
          ],
          "contour": [
           {
            "colorbar": {
             "outlinewidth": 0,
             "ticks": ""
            },
            "colorscale": [
             [
              0,
              "#0d0887"
             ],
             [
              0.1111111111111111,
              "#46039f"
             ],
             [
              0.2222222222222222,
              "#7201a8"
             ],
             [
              0.3333333333333333,
              "#9c179e"
             ],
             [
              0.4444444444444444,
              "#bd3786"
             ],
             [
              0.5555555555555556,
              "#d8576b"
             ],
             [
              0.6666666666666666,
              "#ed7953"
             ],
             [
              0.7777777777777778,
              "#fb9f3a"
             ],
             [
              0.8888888888888888,
              "#fdca26"
             ],
             [
              1,
              "#f0f921"
             ]
            ],
            "type": "contour"
           }
          ],
          "contourcarpet": [
           {
            "colorbar": {
             "outlinewidth": 0,
             "ticks": ""
            },
            "type": "contourcarpet"
           }
          ],
          "heatmap": [
           {
            "colorbar": {
             "outlinewidth": 0,
             "ticks": ""
            },
            "colorscale": [
             [
              0,
              "#0d0887"
             ],
             [
              0.1111111111111111,
              "#46039f"
             ],
             [
              0.2222222222222222,
              "#7201a8"
             ],
             [
              0.3333333333333333,
              "#9c179e"
             ],
             [
              0.4444444444444444,
              "#bd3786"
             ],
             [
              0.5555555555555556,
              "#d8576b"
             ],
             [
              0.6666666666666666,
              "#ed7953"
             ],
             [
              0.7777777777777778,
              "#fb9f3a"
             ],
             [
              0.8888888888888888,
              "#fdca26"
             ],
             [
              1,
              "#f0f921"
             ]
            ],
            "type": "heatmap"
           }
          ],
          "heatmapgl": [
           {
            "colorbar": {
             "outlinewidth": 0,
             "ticks": ""
            },
            "colorscale": [
             [
              0,
              "#0d0887"
             ],
             [
              0.1111111111111111,
              "#46039f"
             ],
             [
              0.2222222222222222,
              "#7201a8"
             ],
             [
              0.3333333333333333,
              "#9c179e"
             ],
             [
              0.4444444444444444,
              "#bd3786"
             ],
             [
              0.5555555555555556,
              "#d8576b"
             ],
             [
              0.6666666666666666,
              "#ed7953"
             ],
             [
              0.7777777777777778,
              "#fb9f3a"
             ],
             [
              0.8888888888888888,
              "#fdca26"
             ],
             [
              1,
              "#f0f921"
             ]
            ],
            "type": "heatmapgl"
           }
          ],
          "histogram": [
           {
            "marker": {
             "pattern": {
              "fillmode": "overlay",
              "size": 10,
              "solidity": 0.2
             }
            },
            "type": "histogram"
           }
          ],
          "histogram2d": [
           {
            "colorbar": {
             "outlinewidth": 0,
             "ticks": ""
            },
            "colorscale": [
             [
              0,
              "#0d0887"
             ],
             [
              0.1111111111111111,
              "#46039f"
             ],
             [
              0.2222222222222222,
              "#7201a8"
             ],
             [
              0.3333333333333333,
              "#9c179e"
             ],
             [
              0.4444444444444444,
              "#bd3786"
             ],
             [
              0.5555555555555556,
              "#d8576b"
             ],
             [
              0.6666666666666666,
              "#ed7953"
             ],
             [
              0.7777777777777778,
              "#fb9f3a"
             ],
             [
              0.8888888888888888,
              "#fdca26"
             ],
             [
              1,
              "#f0f921"
             ]
            ],
            "type": "histogram2d"
           }
          ],
          "histogram2dcontour": [
           {
            "colorbar": {
             "outlinewidth": 0,
             "ticks": ""
            },
            "colorscale": [
             [
              0,
              "#0d0887"
             ],
             [
              0.1111111111111111,
              "#46039f"
             ],
             [
              0.2222222222222222,
              "#7201a8"
             ],
             [
              0.3333333333333333,
              "#9c179e"
             ],
             [
              0.4444444444444444,
              "#bd3786"
             ],
             [
              0.5555555555555556,
              "#d8576b"
             ],
             [
              0.6666666666666666,
              "#ed7953"
             ],
             [
              0.7777777777777778,
              "#fb9f3a"
             ],
             [
              0.8888888888888888,
              "#fdca26"
             ],
             [
              1,
              "#f0f921"
             ]
            ],
            "type": "histogram2dcontour"
           }
          ],
          "mesh3d": [
           {
            "colorbar": {
             "outlinewidth": 0,
             "ticks": ""
            },
            "type": "mesh3d"
           }
          ],
          "parcoords": [
           {
            "line": {
             "colorbar": {
              "outlinewidth": 0,
              "ticks": ""
             }
            },
            "type": "parcoords"
           }
          ],
          "pie": [
           {
            "automargin": true,
            "type": "pie"
           }
          ],
          "scatter": [
           {
            "fillpattern": {
             "fillmode": "overlay",
             "size": 10,
             "solidity": 0.2
            },
            "type": "scatter"
           }
          ],
          "scatter3d": [
           {
            "line": {
             "colorbar": {
              "outlinewidth": 0,
              "ticks": ""
             }
            },
            "marker": {
             "colorbar": {
              "outlinewidth": 0,
              "ticks": ""
             }
            },
            "type": "scatter3d"
           }
          ],
          "scattercarpet": [
           {
            "marker": {
             "colorbar": {
              "outlinewidth": 0,
              "ticks": ""
             }
            },
            "type": "scattercarpet"
           }
          ],
          "scattergeo": [
           {
            "marker": {
             "colorbar": {
              "outlinewidth": 0,
              "ticks": ""
             }
            },
            "type": "scattergeo"
           }
          ],
          "scattergl": [
           {
            "marker": {
             "colorbar": {
              "outlinewidth": 0,
              "ticks": ""
             }
            },
            "type": "scattergl"
           }
          ],
          "scattermapbox": [
           {
            "marker": {
             "colorbar": {
              "outlinewidth": 0,
              "ticks": ""
             }
            },
            "type": "scattermapbox"
           }
          ],
          "scatterpolar": [
           {
            "marker": {
             "colorbar": {
              "outlinewidth": 0,
              "ticks": ""
             }
            },
            "type": "scatterpolar"
           }
          ],
          "scatterpolargl": [
           {
            "marker": {
             "colorbar": {
              "outlinewidth": 0,
              "ticks": ""
             }
            },
            "type": "scatterpolargl"
           }
          ],
          "scatterternary": [
           {
            "marker": {
             "colorbar": {
              "outlinewidth": 0,
              "ticks": ""
             }
            },
            "type": "scatterternary"
           }
          ],
          "surface": [
           {
            "colorbar": {
             "outlinewidth": 0,
             "ticks": ""
            },
            "colorscale": [
             [
              0,
              "#0d0887"
             ],
             [
              0.1111111111111111,
              "#46039f"
             ],
             [
              0.2222222222222222,
              "#7201a8"
             ],
             [
              0.3333333333333333,
              "#9c179e"
             ],
             [
              0.4444444444444444,
              "#bd3786"
             ],
             [
              0.5555555555555556,
              "#d8576b"
             ],
             [
              0.6666666666666666,
              "#ed7953"
             ],
             [
              0.7777777777777778,
              "#fb9f3a"
             ],
             [
              0.8888888888888888,
              "#fdca26"
             ],
             [
              1,
              "#f0f921"
             ]
            ],
            "type": "surface"
           }
          ],
          "table": [
           {
            "cells": {
             "fill": {
              "color": "#EBF0F8"
             },
             "line": {
              "color": "white"
             }
            },
            "header": {
             "fill": {
              "color": "#C8D4E3"
             },
             "line": {
              "color": "white"
             }
            },
            "type": "table"
           }
          ]
         },
         "layout": {
          "annotationdefaults": {
           "arrowcolor": "#2a3f5f",
           "arrowhead": 0,
           "arrowwidth": 1
          },
          "autotypenumbers": "strict",
          "coloraxis": {
           "colorbar": {
            "outlinewidth": 0,
            "ticks": ""
           }
          },
          "colorscale": {
           "diverging": [
            [
             0,
             "#8e0152"
            ],
            [
             0.1,
             "#c51b7d"
            ],
            [
             0.2,
             "#de77ae"
            ],
            [
             0.3,
             "#f1b6da"
            ],
            [
             0.4,
             "#fde0ef"
            ],
            [
             0.5,
             "#f7f7f7"
            ],
            [
             0.6,
             "#e6f5d0"
            ],
            [
             0.7,
             "#b8e186"
            ],
            [
             0.8,
             "#7fbc41"
            ],
            [
             0.9,
             "#4d9221"
            ],
            [
             1,
             "#276419"
            ]
           ],
           "sequential": [
            [
             0,
             "#0d0887"
            ],
            [
             0.1111111111111111,
             "#46039f"
            ],
            [
             0.2222222222222222,
             "#7201a8"
            ],
            [
             0.3333333333333333,
             "#9c179e"
            ],
            [
             0.4444444444444444,
             "#bd3786"
            ],
            [
             0.5555555555555556,
             "#d8576b"
            ],
            [
             0.6666666666666666,
             "#ed7953"
            ],
            [
             0.7777777777777778,
             "#fb9f3a"
            ],
            [
             0.8888888888888888,
             "#fdca26"
            ],
            [
             1,
             "#f0f921"
            ]
           ],
           "sequentialminus": [
            [
             0,
             "#0d0887"
            ],
            [
             0.1111111111111111,
             "#46039f"
            ],
            [
             0.2222222222222222,
             "#7201a8"
            ],
            [
             0.3333333333333333,
             "#9c179e"
            ],
            [
             0.4444444444444444,
             "#bd3786"
            ],
            [
             0.5555555555555556,
             "#d8576b"
            ],
            [
             0.6666666666666666,
             "#ed7953"
            ],
            [
             0.7777777777777778,
             "#fb9f3a"
            ],
            [
             0.8888888888888888,
             "#fdca26"
            ],
            [
             1,
             "#f0f921"
            ]
           ]
          },
          "colorway": [
           "#636efa",
           "#EF553B",
           "#00cc96",
           "#ab63fa",
           "#FFA15A",
           "#19d3f3",
           "#FF6692",
           "#B6E880",
           "#FF97FF",
           "#FECB52"
          ],
          "font": {
           "color": "#2a3f5f"
          },
          "geo": {
           "bgcolor": "white",
           "lakecolor": "white",
           "landcolor": "#E5ECF6",
           "showlakes": true,
           "showland": true,
           "subunitcolor": "white"
          },
          "hoverlabel": {
           "align": "left"
          },
          "hovermode": "closest",
          "mapbox": {
           "style": "light"
          },
          "paper_bgcolor": "white",
          "plot_bgcolor": "#E5ECF6",
          "polar": {
           "angularaxis": {
            "gridcolor": "white",
            "linecolor": "white",
            "ticks": ""
           },
           "bgcolor": "#E5ECF6",
           "radialaxis": {
            "gridcolor": "white",
            "linecolor": "white",
            "ticks": ""
           }
          },
          "scene": {
           "xaxis": {
            "backgroundcolor": "#E5ECF6",
            "gridcolor": "white",
            "gridwidth": 2,
            "linecolor": "white",
            "showbackground": true,
            "ticks": "",
            "zerolinecolor": "white"
           },
           "yaxis": {
            "backgroundcolor": "#E5ECF6",
            "gridcolor": "white",
            "gridwidth": 2,
            "linecolor": "white",
            "showbackground": true,
            "ticks": "",
            "zerolinecolor": "white"
           },
           "zaxis": {
            "backgroundcolor": "#E5ECF6",
            "gridcolor": "white",
            "gridwidth": 2,
            "linecolor": "white",
            "showbackground": true,
            "ticks": "",
            "zerolinecolor": "white"
           }
          },
          "shapedefaults": {
           "line": {
            "color": "#2a3f5f"
           }
          },
          "ternary": {
           "aaxis": {
            "gridcolor": "white",
            "linecolor": "white",
            "ticks": ""
           },
           "baxis": {
            "gridcolor": "white",
            "linecolor": "white",
            "ticks": ""
           },
           "bgcolor": "#E5ECF6",
           "caxis": {
            "gridcolor": "white",
            "linecolor": "white",
            "ticks": ""
           }
          },
          "title": {
           "x": 0.05
          },
          "xaxis": {
           "automargin": true,
           "gridcolor": "white",
           "linecolor": "white",
           "ticks": "",
           "title": {
            "standoff": 15
           },
           "zerolinecolor": "white",
           "zerolinewidth": 2
          },
          "yaxis": {
           "automargin": true,
           "gridcolor": "white",
           "linecolor": "white",
           "ticks": "",
           "title": {
            "standoff": 15
           },
           "zerolinecolor": "white",
           "zerolinewidth": 2
          }
         }
        },
        "title": {
         "text": "comment Distribution"
        }
       }
      }
     },
     "metadata": {},
     "output_type": "display_data"
    },
    {
     "data": {
      "application/vnd.plotly.v1+json": {
       "config": {
        "plotlyServerURL": "https://plot.ly"
       },
       "data": [
        {
         "customdata": [
          [
           389.39285555555557,
           "TV9"
          ],
          [
           714.2947222222223,
           "TV5"
          ],
          [
           1239.9442888888889,
           "ABN"
          ],
          [
           155.93202222222223,
           "Sakshi"
          ]
         ],
         "domain": {
          "x": [
           0,
           1
          ],
          "y": [
           0,
           1
          ]
         },
         "hole": 0.3,
         "hovertemplate": "uploader=%{customdata[1]}<br>duration=%{customdata[0]}<extra></extra>",
         "labels": [
          "TV9",
          "TV5",
          "ABN",
          "Sakshi"
         ],
         "legendgroup": "",
         "marker": {
          "colors": [
           "#0000FF",
           "gold",
           "yellow",
           "ff2a26"
          ]
         },
         "name": "",
         "showlegend": true,
         "textinfo": "percent+label",
         "textposition": "inside",
         "type": "pie",
         "values": [
          389.39285555555557,
          714.2947222222223,
          1239.9442888888889,
          155.93202222222223
         ]
        }
       ],
       "layout": {
        "legend": {
         "tracegroupgap": 0
        },
        "template": {
         "data": {
          "bar": [
           {
            "error_x": {
             "color": "#2a3f5f"
            },
            "error_y": {
             "color": "#2a3f5f"
            },
            "marker": {
             "line": {
              "color": "#E5ECF6",
              "width": 0.5
             },
             "pattern": {
              "fillmode": "overlay",
              "size": 10,
              "solidity": 0.2
             }
            },
            "type": "bar"
           }
          ],
          "barpolar": [
           {
            "marker": {
             "line": {
              "color": "#E5ECF6",
              "width": 0.5
             },
             "pattern": {
              "fillmode": "overlay",
              "size": 10,
              "solidity": 0.2
             }
            },
            "type": "barpolar"
           }
          ],
          "carpet": [
           {
            "aaxis": {
             "endlinecolor": "#2a3f5f",
             "gridcolor": "white",
             "linecolor": "white",
             "minorgridcolor": "white",
             "startlinecolor": "#2a3f5f"
            },
            "baxis": {
             "endlinecolor": "#2a3f5f",
             "gridcolor": "white",
             "linecolor": "white",
             "minorgridcolor": "white",
             "startlinecolor": "#2a3f5f"
            },
            "type": "carpet"
           }
          ],
          "choropleth": [
           {
            "colorbar": {
             "outlinewidth": 0,
             "ticks": ""
            },
            "type": "choropleth"
           }
          ],
          "contour": [
           {
            "colorbar": {
             "outlinewidth": 0,
             "ticks": ""
            },
            "colorscale": [
             [
              0,
              "#0d0887"
             ],
             [
              0.1111111111111111,
              "#46039f"
             ],
             [
              0.2222222222222222,
              "#7201a8"
             ],
             [
              0.3333333333333333,
              "#9c179e"
             ],
             [
              0.4444444444444444,
              "#bd3786"
             ],
             [
              0.5555555555555556,
              "#d8576b"
             ],
             [
              0.6666666666666666,
              "#ed7953"
             ],
             [
              0.7777777777777778,
              "#fb9f3a"
             ],
             [
              0.8888888888888888,
              "#fdca26"
             ],
             [
              1,
              "#f0f921"
             ]
            ],
            "type": "contour"
           }
          ],
          "contourcarpet": [
           {
            "colorbar": {
             "outlinewidth": 0,
             "ticks": ""
            },
            "type": "contourcarpet"
           }
          ],
          "heatmap": [
           {
            "colorbar": {
             "outlinewidth": 0,
             "ticks": ""
            },
            "colorscale": [
             [
              0,
              "#0d0887"
             ],
             [
              0.1111111111111111,
              "#46039f"
             ],
             [
              0.2222222222222222,
              "#7201a8"
             ],
             [
              0.3333333333333333,
              "#9c179e"
             ],
             [
              0.4444444444444444,
              "#bd3786"
             ],
             [
              0.5555555555555556,
              "#d8576b"
             ],
             [
              0.6666666666666666,
              "#ed7953"
             ],
             [
              0.7777777777777778,
              "#fb9f3a"
             ],
             [
              0.8888888888888888,
              "#fdca26"
             ],
             [
              1,
              "#f0f921"
             ]
            ],
            "type": "heatmap"
           }
          ],
          "heatmapgl": [
           {
            "colorbar": {
             "outlinewidth": 0,
             "ticks": ""
            },
            "colorscale": [
             [
              0,
              "#0d0887"
             ],
             [
              0.1111111111111111,
              "#46039f"
             ],
             [
              0.2222222222222222,
              "#7201a8"
             ],
             [
              0.3333333333333333,
              "#9c179e"
             ],
             [
              0.4444444444444444,
              "#bd3786"
             ],
             [
              0.5555555555555556,
              "#d8576b"
             ],
             [
              0.6666666666666666,
              "#ed7953"
             ],
             [
              0.7777777777777778,
              "#fb9f3a"
             ],
             [
              0.8888888888888888,
              "#fdca26"
             ],
             [
              1,
              "#f0f921"
             ]
            ],
            "type": "heatmapgl"
           }
          ],
          "histogram": [
           {
            "marker": {
             "pattern": {
              "fillmode": "overlay",
              "size": 10,
              "solidity": 0.2
             }
            },
            "type": "histogram"
           }
          ],
          "histogram2d": [
           {
            "colorbar": {
             "outlinewidth": 0,
             "ticks": ""
            },
            "colorscale": [
             [
              0,
              "#0d0887"
             ],
             [
              0.1111111111111111,
              "#46039f"
             ],
             [
              0.2222222222222222,
              "#7201a8"
             ],
             [
              0.3333333333333333,
              "#9c179e"
             ],
             [
              0.4444444444444444,
              "#bd3786"
             ],
             [
              0.5555555555555556,
              "#d8576b"
             ],
             [
              0.6666666666666666,
              "#ed7953"
             ],
             [
              0.7777777777777778,
              "#fb9f3a"
             ],
             [
              0.8888888888888888,
              "#fdca26"
             ],
             [
              1,
              "#f0f921"
             ]
            ],
            "type": "histogram2d"
           }
          ],
          "histogram2dcontour": [
           {
            "colorbar": {
             "outlinewidth": 0,
             "ticks": ""
            },
            "colorscale": [
             [
              0,
              "#0d0887"
             ],
             [
              0.1111111111111111,
              "#46039f"
             ],
             [
              0.2222222222222222,
              "#7201a8"
             ],
             [
              0.3333333333333333,
              "#9c179e"
             ],
             [
              0.4444444444444444,
              "#bd3786"
             ],
             [
              0.5555555555555556,
              "#d8576b"
             ],
             [
              0.6666666666666666,
              "#ed7953"
             ],
             [
              0.7777777777777778,
              "#fb9f3a"
             ],
             [
              0.8888888888888888,
              "#fdca26"
             ],
             [
              1,
              "#f0f921"
             ]
            ],
            "type": "histogram2dcontour"
           }
          ],
          "mesh3d": [
           {
            "colorbar": {
             "outlinewidth": 0,
             "ticks": ""
            },
            "type": "mesh3d"
           }
          ],
          "parcoords": [
           {
            "line": {
             "colorbar": {
              "outlinewidth": 0,
              "ticks": ""
             }
            },
            "type": "parcoords"
           }
          ],
          "pie": [
           {
            "automargin": true,
            "type": "pie"
           }
          ],
          "scatter": [
           {
            "fillpattern": {
             "fillmode": "overlay",
             "size": 10,
             "solidity": 0.2
            },
            "type": "scatter"
           }
          ],
          "scatter3d": [
           {
            "line": {
             "colorbar": {
              "outlinewidth": 0,
              "ticks": ""
             }
            },
            "marker": {
             "colorbar": {
              "outlinewidth": 0,
              "ticks": ""
             }
            },
            "type": "scatter3d"
           }
          ],
          "scattercarpet": [
           {
            "marker": {
             "colorbar": {
              "outlinewidth": 0,
              "ticks": ""
             }
            },
            "type": "scattercarpet"
           }
          ],
          "scattergeo": [
           {
            "marker": {
             "colorbar": {
              "outlinewidth": 0,
              "ticks": ""
             }
            },
            "type": "scattergeo"
           }
          ],
          "scattergl": [
           {
            "marker": {
             "colorbar": {
              "outlinewidth": 0,
              "ticks": ""
             }
            },
            "type": "scattergl"
           }
          ],
          "scattermapbox": [
           {
            "marker": {
             "colorbar": {
              "outlinewidth": 0,
              "ticks": ""
             }
            },
            "type": "scattermapbox"
           }
          ],
          "scatterpolar": [
           {
            "marker": {
             "colorbar": {
              "outlinewidth": 0,
              "ticks": ""
             }
            },
            "type": "scatterpolar"
           }
          ],
          "scatterpolargl": [
           {
            "marker": {
             "colorbar": {
              "outlinewidth": 0,
              "ticks": ""
             }
            },
            "type": "scatterpolargl"
           }
          ],
          "scatterternary": [
           {
            "marker": {
             "colorbar": {
              "outlinewidth": 0,
              "ticks": ""
             }
            },
            "type": "scatterternary"
           }
          ],
          "surface": [
           {
            "colorbar": {
             "outlinewidth": 0,
             "ticks": ""
            },
            "colorscale": [
             [
              0,
              "#0d0887"
             ],
             [
              0.1111111111111111,
              "#46039f"
             ],
             [
              0.2222222222222222,
              "#7201a8"
             ],
             [
              0.3333333333333333,
              "#9c179e"
             ],
             [
              0.4444444444444444,
              "#bd3786"
             ],
             [
              0.5555555555555556,
              "#d8576b"
             ],
             [
              0.6666666666666666,
              "#ed7953"
             ],
             [
              0.7777777777777778,
              "#fb9f3a"
             ],
             [
              0.8888888888888888,
              "#fdca26"
             ],
             [
              1,
              "#f0f921"
             ]
            ],
            "type": "surface"
           }
          ],
          "table": [
           {
            "cells": {
             "fill": {
              "color": "#EBF0F8"
             },
             "line": {
              "color": "white"
             }
            },
            "header": {
             "fill": {
              "color": "#C8D4E3"
             },
             "line": {
              "color": "white"
             }
            },
            "type": "table"
           }
          ]
         },
         "layout": {
          "annotationdefaults": {
           "arrowcolor": "#2a3f5f",
           "arrowhead": 0,
           "arrowwidth": 1
          },
          "autotypenumbers": "strict",
          "coloraxis": {
           "colorbar": {
            "outlinewidth": 0,
            "ticks": ""
           }
          },
          "colorscale": {
           "diverging": [
            [
             0,
             "#8e0152"
            ],
            [
             0.1,
             "#c51b7d"
            ],
            [
             0.2,
             "#de77ae"
            ],
            [
             0.3,
             "#f1b6da"
            ],
            [
             0.4,
             "#fde0ef"
            ],
            [
             0.5,
             "#f7f7f7"
            ],
            [
             0.6,
             "#e6f5d0"
            ],
            [
             0.7,
             "#b8e186"
            ],
            [
             0.8,
             "#7fbc41"
            ],
            [
             0.9,
             "#4d9221"
            ],
            [
             1,
             "#276419"
            ]
           ],
           "sequential": [
            [
             0,
             "#0d0887"
            ],
            [
             0.1111111111111111,
             "#46039f"
            ],
            [
             0.2222222222222222,
             "#7201a8"
            ],
            [
             0.3333333333333333,
             "#9c179e"
            ],
            [
             0.4444444444444444,
             "#bd3786"
            ],
            [
             0.5555555555555556,
             "#d8576b"
            ],
            [
             0.6666666666666666,
             "#ed7953"
            ],
            [
             0.7777777777777778,
             "#fb9f3a"
            ],
            [
             0.8888888888888888,
             "#fdca26"
            ],
            [
             1,
             "#f0f921"
            ]
           ],
           "sequentialminus": [
            [
             0,
             "#0d0887"
            ],
            [
             0.1111111111111111,
             "#46039f"
            ],
            [
             0.2222222222222222,
             "#7201a8"
            ],
            [
             0.3333333333333333,
             "#9c179e"
            ],
            [
             0.4444444444444444,
             "#bd3786"
            ],
            [
             0.5555555555555556,
             "#d8576b"
            ],
            [
             0.6666666666666666,
             "#ed7953"
            ],
            [
             0.7777777777777778,
             "#fb9f3a"
            ],
            [
             0.8888888888888888,
             "#fdca26"
            ],
            [
             1,
             "#f0f921"
            ]
           ]
          },
          "colorway": [
           "#636efa",
           "#EF553B",
           "#00cc96",
           "#ab63fa",
           "#FFA15A",
           "#19d3f3",
           "#FF6692",
           "#B6E880",
           "#FF97FF",
           "#FECB52"
          ],
          "font": {
           "color": "#2a3f5f"
          },
          "geo": {
           "bgcolor": "white",
           "lakecolor": "white",
           "landcolor": "#E5ECF6",
           "showlakes": true,
           "showland": true,
           "subunitcolor": "white"
          },
          "hoverlabel": {
           "align": "left"
          },
          "hovermode": "closest",
          "mapbox": {
           "style": "light"
          },
          "paper_bgcolor": "white",
          "plot_bgcolor": "#E5ECF6",
          "polar": {
           "angularaxis": {
            "gridcolor": "white",
            "linecolor": "white",
            "ticks": ""
           },
           "bgcolor": "#E5ECF6",
           "radialaxis": {
            "gridcolor": "white",
            "linecolor": "white",
            "ticks": ""
           }
          },
          "scene": {
           "xaxis": {
            "backgroundcolor": "#E5ECF6",
            "gridcolor": "white",
            "gridwidth": 2,
            "linecolor": "white",
            "showbackground": true,
            "ticks": "",
            "zerolinecolor": "white"
           },
           "yaxis": {
            "backgroundcolor": "#E5ECF6",
            "gridcolor": "white",
            "gridwidth": 2,
            "linecolor": "white",
            "showbackground": true,
            "ticks": "",
            "zerolinecolor": "white"
           },
           "zaxis": {
            "backgroundcolor": "#E5ECF6",
            "gridcolor": "white",
            "gridwidth": 2,
            "linecolor": "white",
            "showbackground": true,
            "ticks": "",
            "zerolinecolor": "white"
           }
          },
          "shapedefaults": {
           "line": {
            "color": "#2a3f5f"
           }
          },
          "ternary": {
           "aaxis": {
            "gridcolor": "white",
            "linecolor": "white",
            "ticks": ""
           },
           "baxis": {
            "gridcolor": "white",
            "linecolor": "white",
            "ticks": ""
           },
           "bgcolor": "#E5ECF6",
           "caxis": {
            "gridcolor": "white",
            "linecolor": "white",
            "ticks": ""
           }
          },
          "title": {
           "x": 0.05
          },
          "xaxis": {
           "automargin": true,
           "gridcolor": "white",
           "linecolor": "white",
           "ticks": "",
           "title": {
            "standoff": 15
           },
           "zerolinecolor": "white",
           "zerolinewidth": 2
          },
          "yaxis": {
           "automargin": true,
           "gridcolor": "white",
           "linecolor": "white",
           "ticks": "",
           "title": {
            "standoff": 15
           },
           "zerolinecolor": "white",
           "zerolinewidth": 2
          }
         }
        },
        "title": {
         "text": "duration Distribution"
        }
       }
      }
     },
     "metadata": {},
     "output_type": "display_data"
    },
    {
     "data": {
      "application/vnd.plotly.v1+json": {
       "config": {
        "plotlyServerURL": "https://plot.ly"
       },
       "data": [
        {
         "customdata": [
          [
           32886,
           "TV9"
          ],
          [
           27133,
           "TV5"
          ],
          [
           28051,
           "ABN"
          ],
          [
           8675,
           "Sakshi"
          ]
         ],
         "domain": {
          "x": [
           0,
           1
          ],
          "y": [
           0,
           1
          ]
         },
         "hole": 0.3,
         "hovertemplate": "uploader=%{customdata[1]}<br>uploads=%{customdata[0]}<extra></extra>",
         "labels": [
          "TV9",
          "TV5",
          "ABN",
          "Sakshi"
         ],
         "legendgroup": "",
         "marker": {
          "colors": [
           "#0000FF",
           "gold",
           "yellow",
           "ff2a26"
          ]
         },
         "name": "",
         "showlegend": true,
         "textinfo": "percent+label",
         "textposition": "inside",
         "type": "pie",
         "values": [
          32886,
          27133,
          28051,
          8675
         ]
        }
       ],
       "layout": {
        "legend": {
         "tracegroupgap": 0
        },
        "template": {
         "data": {
          "bar": [
           {
            "error_x": {
             "color": "#2a3f5f"
            },
            "error_y": {
             "color": "#2a3f5f"
            },
            "marker": {
             "line": {
              "color": "#E5ECF6",
              "width": 0.5
             },
             "pattern": {
              "fillmode": "overlay",
              "size": 10,
              "solidity": 0.2
             }
            },
            "type": "bar"
           }
          ],
          "barpolar": [
           {
            "marker": {
             "line": {
              "color": "#E5ECF6",
              "width": 0.5
             },
             "pattern": {
              "fillmode": "overlay",
              "size": 10,
              "solidity": 0.2
             }
            },
            "type": "barpolar"
           }
          ],
          "carpet": [
           {
            "aaxis": {
             "endlinecolor": "#2a3f5f",
             "gridcolor": "white",
             "linecolor": "white",
             "minorgridcolor": "white",
             "startlinecolor": "#2a3f5f"
            },
            "baxis": {
             "endlinecolor": "#2a3f5f",
             "gridcolor": "white",
             "linecolor": "white",
             "minorgridcolor": "white",
             "startlinecolor": "#2a3f5f"
            },
            "type": "carpet"
           }
          ],
          "choropleth": [
           {
            "colorbar": {
             "outlinewidth": 0,
             "ticks": ""
            },
            "type": "choropleth"
           }
          ],
          "contour": [
           {
            "colorbar": {
             "outlinewidth": 0,
             "ticks": ""
            },
            "colorscale": [
             [
              0,
              "#0d0887"
             ],
             [
              0.1111111111111111,
              "#46039f"
             ],
             [
              0.2222222222222222,
              "#7201a8"
             ],
             [
              0.3333333333333333,
              "#9c179e"
             ],
             [
              0.4444444444444444,
              "#bd3786"
             ],
             [
              0.5555555555555556,
              "#d8576b"
             ],
             [
              0.6666666666666666,
              "#ed7953"
             ],
             [
              0.7777777777777778,
              "#fb9f3a"
             ],
             [
              0.8888888888888888,
              "#fdca26"
             ],
             [
              1,
              "#f0f921"
             ]
            ],
            "type": "contour"
           }
          ],
          "contourcarpet": [
           {
            "colorbar": {
             "outlinewidth": 0,
             "ticks": ""
            },
            "type": "contourcarpet"
           }
          ],
          "heatmap": [
           {
            "colorbar": {
             "outlinewidth": 0,
             "ticks": ""
            },
            "colorscale": [
             [
              0,
              "#0d0887"
             ],
             [
              0.1111111111111111,
              "#46039f"
             ],
             [
              0.2222222222222222,
              "#7201a8"
             ],
             [
              0.3333333333333333,
              "#9c179e"
             ],
             [
              0.4444444444444444,
              "#bd3786"
             ],
             [
              0.5555555555555556,
              "#d8576b"
             ],
             [
              0.6666666666666666,
              "#ed7953"
             ],
             [
              0.7777777777777778,
              "#fb9f3a"
             ],
             [
              0.8888888888888888,
              "#fdca26"
             ],
             [
              1,
              "#f0f921"
             ]
            ],
            "type": "heatmap"
           }
          ],
          "heatmapgl": [
           {
            "colorbar": {
             "outlinewidth": 0,
             "ticks": ""
            },
            "colorscale": [
             [
              0,
              "#0d0887"
             ],
             [
              0.1111111111111111,
              "#46039f"
             ],
             [
              0.2222222222222222,
              "#7201a8"
             ],
             [
              0.3333333333333333,
              "#9c179e"
             ],
             [
              0.4444444444444444,
              "#bd3786"
             ],
             [
              0.5555555555555556,
              "#d8576b"
             ],
             [
              0.6666666666666666,
              "#ed7953"
             ],
             [
              0.7777777777777778,
              "#fb9f3a"
             ],
             [
              0.8888888888888888,
              "#fdca26"
             ],
             [
              1,
              "#f0f921"
             ]
            ],
            "type": "heatmapgl"
           }
          ],
          "histogram": [
           {
            "marker": {
             "pattern": {
              "fillmode": "overlay",
              "size": 10,
              "solidity": 0.2
             }
            },
            "type": "histogram"
           }
          ],
          "histogram2d": [
           {
            "colorbar": {
             "outlinewidth": 0,
             "ticks": ""
            },
            "colorscale": [
             [
              0,
              "#0d0887"
             ],
             [
              0.1111111111111111,
              "#46039f"
             ],
             [
              0.2222222222222222,
              "#7201a8"
             ],
             [
              0.3333333333333333,
              "#9c179e"
             ],
             [
              0.4444444444444444,
              "#bd3786"
             ],
             [
              0.5555555555555556,
              "#d8576b"
             ],
             [
              0.6666666666666666,
              "#ed7953"
             ],
             [
              0.7777777777777778,
              "#fb9f3a"
             ],
             [
              0.8888888888888888,
              "#fdca26"
             ],
             [
              1,
              "#f0f921"
             ]
            ],
            "type": "histogram2d"
           }
          ],
          "histogram2dcontour": [
           {
            "colorbar": {
             "outlinewidth": 0,
             "ticks": ""
            },
            "colorscale": [
             [
              0,
              "#0d0887"
             ],
             [
              0.1111111111111111,
              "#46039f"
             ],
             [
              0.2222222222222222,
              "#7201a8"
             ],
             [
              0.3333333333333333,
              "#9c179e"
             ],
             [
              0.4444444444444444,
              "#bd3786"
             ],
             [
              0.5555555555555556,
              "#d8576b"
             ],
             [
              0.6666666666666666,
              "#ed7953"
             ],
             [
              0.7777777777777778,
              "#fb9f3a"
             ],
             [
              0.8888888888888888,
              "#fdca26"
             ],
             [
              1,
              "#f0f921"
             ]
            ],
            "type": "histogram2dcontour"
           }
          ],
          "mesh3d": [
           {
            "colorbar": {
             "outlinewidth": 0,
             "ticks": ""
            },
            "type": "mesh3d"
           }
          ],
          "parcoords": [
           {
            "line": {
             "colorbar": {
              "outlinewidth": 0,
              "ticks": ""
             }
            },
            "type": "parcoords"
           }
          ],
          "pie": [
           {
            "automargin": true,
            "type": "pie"
           }
          ],
          "scatter": [
           {
            "fillpattern": {
             "fillmode": "overlay",
             "size": 10,
             "solidity": 0.2
            },
            "type": "scatter"
           }
          ],
          "scatter3d": [
           {
            "line": {
             "colorbar": {
              "outlinewidth": 0,
              "ticks": ""
             }
            },
            "marker": {
             "colorbar": {
              "outlinewidth": 0,
              "ticks": ""
             }
            },
            "type": "scatter3d"
           }
          ],
          "scattercarpet": [
           {
            "marker": {
             "colorbar": {
              "outlinewidth": 0,
              "ticks": ""
             }
            },
            "type": "scattercarpet"
           }
          ],
          "scattergeo": [
           {
            "marker": {
             "colorbar": {
              "outlinewidth": 0,
              "ticks": ""
             }
            },
            "type": "scattergeo"
           }
          ],
          "scattergl": [
           {
            "marker": {
             "colorbar": {
              "outlinewidth": 0,
              "ticks": ""
             }
            },
            "type": "scattergl"
           }
          ],
          "scattermapbox": [
           {
            "marker": {
             "colorbar": {
              "outlinewidth": 0,
              "ticks": ""
             }
            },
            "type": "scattermapbox"
           }
          ],
          "scatterpolar": [
           {
            "marker": {
             "colorbar": {
              "outlinewidth": 0,
              "ticks": ""
             }
            },
            "type": "scatterpolar"
           }
          ],
          "scatterpolargl": [
           {
            "marker": {
             "colorbar": {
              "outlinewidth": 0,
              "ticks": ""
             }
            },
            "type": "scatterpolargl"
           }
          ],
          "scatterternary": [
           {
            "marker": {
             "colorbar": {
              "outlinewidth": 0,
              "ticks": ""
             }
            },
            "type": "scatterternary"
           }
          ],
          "surface": [
           {
            "colorbar": {
             "outlinewidth": 0,
             "ticks": ""
            },
            "colorscale": [
             [
              0,
              "#0d0887"
             ],
             [
              0.1111111111111111,
              "#46039f"
             ],
             [
              0.2222222222222222,
              "#7201a8"
             ],
             [
              0.3333333333333333,
              "#9c179e"
             ],
             [
              0.4444444444444444,
              "#bd3786"
             ],
             [
              0.5555555555555556,
              "#d8576b"
             ],
             [
              0.6666666666666666,
              "#ed7953"
             ],
             [
              0.7777777777777778,
              "#fb9f3a"
             ],
             [
              0.8888888888888888,
              "#fdca26"
             ],
             [
              1,
              "#f0f921"
             ]
            ],
            "type": "surface"
           }
          ],
          "table": [
           {
            "cells": {
             "fill": {
              "color": "#EBF0F8"
             },
             "line": {
              "color": "white"
             }
            },
            "header": {
             "fill": {
              "color": "#C8D4E3"
             },
             "line": {
              "color": "white"
             }
            },
            "type": "table"
           }
          ]
         },
         "layout": {
          "annotationdefaults": {
           "arrowcolor": "#2a3f5f",
           "arrowhead": 0,
           "arrowwidth": 1
          },
          "autotypenumbers": "strict",
          "coloraxis": {
           "colorbar": {
            "outlinewidth": 0,
            "ticks": ""
           }
          },
          "colorscale": {
           "diverging": [
            [
             0,
             "#8e0152"
            ],
            [
             0.1,
             "#c51b7d"
            ],
            [
             0.2,
             "#de77ae"
            ],
            [
             0.3,
             "#f1b6da"
            ],
            [
             0.4,
             "#fde0ef"
            ],
            [
             0.5,
             "#f7f7f7"
            ],
            [
             0.6,
             "#e6f5d0"
            ],
            [
             0.7,
             "#b8e186"
            ],
            [
             0.8,
             "#7fbc41"
            ],
            [
             0.9,
             "#4d9221"
            ],
            [
             1,
             "#276419"
            ]
           ],
           "sequential": [
            [
             0,
             "#0d0887"
            ],
            [
             0.1111111111111111,
             "#46039f"
            ],
            [
             0.2222222222222222,
             "#7201a8"
            ],
            [
             0.3333333333333333,
             "#9c179e"
            ],
            [
             0.4444444444444444,
             "#bd3786"
            ],
            [
             0.5555555555555556,
             "#d8576b"
            ],
            [
             0.6666666666666666,
             "#ed7953"
            ],
            [
             0.7777777777777778,
             "#fb9f3a"
            ],
            [
             0.8888888888888888,
             "#fdca26"
            ],
            [
             1,
             "#f0f921"
            ]
           ],
           "sequentialminus": [
            [
             0,
             "#0d0887"
            ],
            [
             0.1111111111111111,
             "#46039f"
            ],
            [
             0.2222222222222222,
             "#7201a8"
            ],
            [
             0.3333333333333333,
             "#9c179e"
            ],
            [
             0.4444444444444444,
             "#bd3786"
            ],
            [
             0.5555555555555556,
             "#d8576b"
            ],
            [
             0.6666666666666666,
             "#ed7953"
            ],
            [
             0.7777777777777778,
             "#fb9f3a"
            ],
            [
             0.8888888888888888,
             "#fdca26"
            ],
            [
             1,
             "#f0f921"
            ]
           ]
          },
          "colorway": [
           "#636efa",
           "#EF553B",
           "#00cc96",
           "#ab63fa",
           "#FFA15A",
           "#19d3f3",
           "#FF6692",
           "#B6E880",
           "#FF97FF",
           "#FECB52"
          ],
          "font": {
           "color": "#2a3f5f"
          },
          "geo": {
           "bgcolor": "white",
           "lakecolor": "white",
           "landcolor": "#E5ECF6",
           "showlakes": true,
           "showland": true,
           "subunitcolor": "white"
          },
          "hoverlabel": {
           "align": "left"
          },
          "hovermode": "closest",
          "mapbox": {
           "style": "light"
          },
          "paper_bgcolor": "white",
          "plot_bgcolor": "#E5ECF6",
          "polar": {
           "angularaxis": {
            "gridcolor": "white",
            "linecolor": "white",
            "ticks": ""
           },
           "bgcolor": "#E5ECF6",
           "radialaxis": {
            "gridcolor": "white",
            "linecolor": "white",
            "ticks": ""
           }
          },
          "scene": {
           "xaxis": {
            "backgroundcolor": "#E5ECF6",
            "gridcolor": "white",
            "gridwidth": 2,
            "linecolor": "white",
            "showbackground": true,
            "ticks": "",
            "zerolinecolor": "white"
           },
           "yaxis": {
            "backgroundcolor": "#E5ECF6",
            "gridcolor": "white",
            "gridwidth": 2,
            "linecolor": "white",
            "showbackground": true,
            "ticks": "",
            "zerolinecolor": "white"
           },
           "zaxis": {
            "backgroundcolor": "#E5ECF6",
            "gridcolor": "white",
            "gridwidth": 2,
            "linecolor": "white",
            "showbackground": true,
            "ticks": "",
            "zerolinecolor": "white"
           }
          },
          "shapedefaults": {
           "line": {
            "color": "#2a3f5f"
           }
          },
          "ternary": {
           "aaxis": {
            "gridcolor": "white",
            "linecolor": "white",
            "ticks": ""
           },
           "baxis": {
            "gridcolor": "white",
            "linecolor": "white",
            "ticks": ""
           },
           "bgcolor": "#E5ECF6",
           "caxis": {
            "gridcolor": "white",
            "linecolor": "white",
            "ticks": ""
           }
          },
          "title": {
           "x": 0.05
          },
          "xaxis": {
           "automargin": true,
           "gridcolor": "white",
           "linecolor": "white",
           "ticks": "",
           "title": {
            "standoff": 15
           },
           "zerolinecolor": "white",
           "zerolinewidth": 2
          },
          "yaxis": {
           "automargin": true,
           "gridcolor": "white",
           "linecolor": "white",
           "ticks": "",
           "title": {
            "standoff": 15
           },
           "zerolinecolor": "white",
           "zerolinewidth": 2
          }
         }
        },
        "title": {
         "text": "uploads Distribution"
        }
       }
      }
     },
     "metadata": {},
     "output_type": "display_data"
    }
   ],
   "source": [
    "import plotly.express as px\n",
    "from plotly.subplots import make_subplots\n",
    "import plotly.graph_objs as go\n",
    "from plotly import tools\n",
    "\n",
    "date_start = '2022-01-01'\n",
    "date_end = '2024-01-01'\n",
    "df_upload_plot = pd.read_csv('UIdata/uploader.csv')\n",
    "\n",
    "df_bar = df_upload_plot\n",
    "df_bar_sorted = df_bar[(df_bar.upload_date >= date_start) & (df_bar.upload_date <= date_end)]\n",
    "df_bar_grouped = df_bar_sorted.groupby(['uploader']).agg({\"sentiment\": np.mean, 'view_count': np.sum, 'comment_count':np.sum,'duration':np.sum,}).reset_index()\n",
    "df_bar_grouped['uploads'] = df_bar_sorted.groupby(['uploader']).count().reset_index()['sentiment']\n",
    "df_bar_grouped  = df_bar_grouped.sort_values('view_count', ascending = False)\n",
    "df_bar_grouped['duration'] = df_bar_grouped['duration']/(60*60*25)\n",
    "\n",
    "\n",
    "\n",
    "fig = px.pie(df_bar_grouped, values='view_count', names='uploader',\n",
    "             title='Views Distribution',color='uploader',\n",
    "             hover_data=['view_count'],hole=.3,color_discrete_map= {'ABN': 'yellow','TV5': 'gold', 'Sakshi':'ff2a26' , 'TV9':'#0000FF'})\n",
    "fig.update_traces(textposition='inside', textinfo='percent+label')\n",
    "fig.show()\n",
    "\n",
    "\n",
    "fig = px.pie(df_bar_grouped, values='comment_count', names='uploader',\n",
    "             title='comment Distribution',color='uploader',\n",
    "             hover_data=['comment_count'],hole=.3,color_discrete_map= {'ABN': 'yellow','TV5': 'gold', 'Sakshi':'ff2a26' , 'TV9':'#0000FF'})\n",
    "\n",
    "fig.update_traces(textposition='inside', textinfo='percent+label')\n",
    "fig.show()\n",
    "\n",
    "\n",
    "fig = px.pie(df_bar_grouped, values='duration', names='uploader',\n",
    "             title='duration Distribution',color='uploader',\n",
    "             hover_data=['duration'],hole=.3,color_discrete_map= {'ABN': 'yellow','TV5': 'gold', 'Sakshi':'ff2a26' , 'TV9':'#0000FF'})\n",
    "fig.update_traces(textposition='inside', textinfo='percent+label')\n",
    "fig.show()\n",
    "\n",
    "\n",
    "fig = px.pie(df_bar_grouped, values='uploads', names='uploader',\n",
    "             title='uploads Distribution',color='uploader',\n",
    "             hover_data=['uploads'],hole=.3,color_discrete_map= {'ABN': 'yellow','TV5': 'gold', 'Sakshi':'ff2a26' , 'TV9':'#0000FF'})\n",
    "fig.update_traces(textposition='inside', textinfo='percent+label')\n",
    "fig.show()"
   ]
  },
  {
   "cell_type": "code",
   "execution_count": null,
   "metadata": {},
   "outputs": [],
   "source": []
  },
  {
   "cell_type": "code",
   "execution_count": 276,
   "metadata": {},
   "outputs": [],
   "source": []
  },
  {
   "cell_type": "code",
   "execution_count": 30,
   "metadata": {},
   "outputs": [
    {
     "data": {
      "application/vnd.plotly.v1+json": {
       "config": {
        "plotlyServerURL": "https://plot.ly"
       },
       "data": [
        {
         "hovertemplate": "uploader=ABN<br>upload_date=%{x}<br>duration=%{y}<extra></extra>",
         "legendgroup": "ABN",
         "line": {
          "color": "yellow",
          "dash": "solid"
         },
         "marker": {
          "symbol": "circle"
         },
         "mode": "lines",
         "name": "ABN",
         "orientation": "v",
         "showlegend": true,
         "type": "scatter",
         "x": [
          "2022-11-02",
          "2022-11-03",
          "2022-11-04",
          "2022-11-05",
          "2022-11-06",
          "2022-11-07",
          "2022-11-08",
          "2022-11-09",
          "2022-11-10",
          "2022-11-11",
          "2022-11-12",
          "2022-11-13",
          "2022-11-14",
          "2022-11-15",
          "2022-11-16",
          "2022-11-17",
          "2022-11-18",
          "2022-11-19",
          "2022-11-20",
          "2022-11-21",
          "2022-11-22",
          "2022-11-23",
          "2022-11-24",
          "2022-11-25",
          "2022-11-26",
          "2022-11-27",
          "2022-11-28",
          "2022-11-29",
          "2022-11-30",
          "2022-12-01",
          "2022-12-02",
          "2022-12-03",
          "2022-12-04",
          "2022-12-05",
          "2022-12-06",
          "2022-12-07",
          "2022-12-08",
          "2022-12-09",
          "2022-12-10",
          "2022-12-11",
          "2022-12-12",
          "2022-12-13",
          "2022-12-14",
          "2022-12-15",
          "2022-12-16",
          "2022-12-17",
          "2022-12-18",
          "2022-12-19",
          "2022-12-20",
          "2022-12-21",
          "2022-12-22",
          "2022-12-23",
          "2022-12-24",
          "2022-12-25",
          "2022-12-26",
          "2022-12-27",
          "2022-12-28",
          "2022-12-29",
          "2022-12-30",
          "2022-12-31",
          "2023-01-01",
          "2023-01-02",
          "2023-01-03",
          "2023-01-04",
          "2023-01-05",
          "2023-01-06",
          "2023-01-07",
          "2023-01-08",
          "2023-01-09",
          "2023-01-10",
          "2023-01-11",
          "2023-01-12",
          "2023-01-13",
          "2023-01-14",
          "2023-01-15",
          "2023-01-16",
          "2023-01-17",
          "2023-01-18",
          "2023-01-19",
          "2023-01-20",
          "2023-01-21",
          "2023-01-22",
          "2023-01-23",
          "2023-01-24",
          "2023-01-25",
          "2023-01-26",
          "2023-01-27",
          "2023-01-28",
          "2023-01-29",
          "2023-01-30",
          "2023-01-31",
          "2023-02-01",
          "2023-02-02",
          "2023-02-03",
          "2023-02-04",
          "2023-02-05",
          "2023-02-06",
          "2023-02-07",
          "2023-02-08",
          "2023-02-09",
          "2023-02-10",
          "2023-02-11",
          "2023-02-12",
          "2023-02-13",
          "2023-02-14",
          "2023-02-15",
          "2023-02-16",
          "2023-02-17",
          "2023-02-18",
          "2023-02-19",
          "2023-02-20",
          "2023-02-21",
          "2023-02-22",
          "2023-02-23",
          "2023-02-24",
          "2023-02-25",
          "2023-02-26",
          "2023-02-27",
          "2023-02-28",
          "2023-03-01",
          "2023-03-02",
          "2023-03-03",
          "2023-03-04",
          "2023-03-05",
          "2023-03-06",
          "2023-03-07",
          "2023-03-08",
          "2023-03-09",
          "2023-03-10",
          "2023-03-11",
          "2023-03-12",
          "2023-03-13",
          "2023-03-14",
          "2023-03-15",
          "2023-03-16",
          "2023-03-17",
          "2023-03-18",
          "2023-03-19",
          "2023-03-20",
          "2023-03-21",
          "2023-03-22",
          "2023-03-23",
          "2023-03-24",
          "2023-03-25",
          "2023-03-26",
          "2023-03-27",
          "2023-03-28",
          "2023-03-29",
          "2023-03-30",
          "2023-03-31",
          "2023-04-01",
          "2023-04-02",
          "2023-04-03",
          "2023-04-04",
          "2023-04-05",
          "2023-04-06",
          "2023-04-07",
          "2023-04-08",
          "2023-04-09",
          "2023-04-10",
          "2023-04-11",
          "2023-04-12",
          "2023-04-13",
          "2023-04-14",
          "2023-04-15",
          "2023-04-16",
          "2023-04-17",
          "2023-04-18",
          "2023-04-19",
          "2023-04-20",
          "2023-04-21",
          "2023-04-22"
         ],
         "xaxis": "x",
         "y": [
          null,
          null,
          null,
          null,
          null,
          null,
          null,
          null,
          null,
          693095.4,
          686522.1,
          656422.8,
          631641.5,
          603510.8,
          588972.9,
          585159.7,
          580157.2,
          577179.4,
          534198.6,
          526666.3,
          536837.3,
          544285.7,
          555331.1,
          591820.1,
          579750.9,
          561782,
          578698.7,
          589111.9,
          621744.1,
          628439.4,
          628474.1,
          619809.2,
          595489.8,
          604953.5,
          629476.7,
          651108.1,
          635730.8,
          628267.7,
          635843,
          609505,
          600117.9,
          610020.8,
          658595.6,
          634220.4,
          623693.3,
          595557.2,
          591514.6,
          586095.6,
          555889.2,
          573672.8,
          580488.4,
          573863.8,
          525438.3,
          525062.6,
          524155.1,
          565619.2,
          557083.8,
          563680.9,
          588147.3,
          575443.8,
          562301.6,
          572662,
          611041.9,
          612169.4,
          613705.4,
          594675.7,
          601020.3,
          567168,
          551692.1,
          581007.2,
          598837.1,
          597829.3,
          575698.1,
          575717.2,
          541972.2,
          538378.3,
          555566.3,
          586668.3,
          587068,
          565693.3,
          542113.1,
          511823.9,
          519986.7,
          539417.3,
          573133.3,
          578619.1,
          573205.3,
          562116.6,
          535606,
          551711.5,
          571272.4,
          585667.2,
          586649.3,
          583175.8,
          584432,
          558691.4,
          556842.8,
          568916,
          612284.4,
          612802.9,
          584608.3,
          578333.7,
          545687.9,
          517441.5,
          519470.6,
          545401.3,
          528674,
          527730.9,
          513603.8,
          471318.5,
          497245.7,
          507276.6,
          538096.1,
          549486.8,
          556129.9,
          553679.1,
          547564.8,
          536070.2,
          532672.6,
          555597,
          544181.9,
          562713.2,
          558146.2,
          537365.4,
          532355.3,
          546289.7,
          561949,
          586402.2,
          614538.7,
          615936.9,
          600505.9,
          534035.5,
          489148.1,
          512053.3,
          495546.5,
          496940.1,
          493321.1,
          458063.5,
          427183.1,
          440292.3,
          439424.4,
          505305.9,
          567698.7,
          556440.2,
          550777.1,
          532599.5,
          527234.4,
          550491.2,
          534605.1,
          520198.4,
          517048.9,
          487013.1,
          486664.7,
          503645.8,
          508801.3,
          514834.1,
          509231.6,
          483689.7,
          474807.8,
          460600.6,
          480188.3,
          502121.2,
          500150.3,
          490190.4,
          483097.3,
          469748.3,
          497863.2,
          509562,
          566138.9,
          585295.1,
          591826.6,
          561564.4
         ],
         "yaxis": "y"
        },
        {
         "hovertemplate": "uploader=TV5<br>upload_date=%{x}<br>duration=%{y}<extra></extra>",
         "legendgroup": "TV5",
         "line": {
          "color": "gold",
          "dash": "solid"
         },
         "marker": {
          "symbol": "circle"
         },
         "mode": "lines",
         "name": "TV5",
         "orientation": "v",
         "showlegend": true,
         "type": "scatter",
         "x": [
          "2022-11-02",
          "2022-11-03",
          "2022-11-04",
          "2022-11-05",
          "2022-11-06",
          "2022-11-07",
          "2022-11-08",
          "2022-11-09",
          "2022-11-10",
          "2022-11-11",
          "2022-11-12",
          "2022-11-13",
          "2022-11-14",
          "2022-11-15",
          "2022-11-16",
          "2022-11-17",
          "2022-11-18",
          "2022-11-19",
          "2022-11-20",
          "2022-11-21",
          "2022-11-22",
          "2022-11-23",
          "2022-11-24",
          "2022-11-25",
          "2022-11-26",
          "2022-11-27",
          "2022-11-28",
          "2022-11-29",
          "2022-11-30",
          "2022-12-01",
          "2022-12-02",
          "2022-12-03",
          "2022-12-04",
          "2022-12-05",
          "2022-12-06",
          "2022-12-07",
          "2022-12-08",
          "2022-12-09",
          "2022-12-10",
          "2022-12-11",
          "2022-12-12",
          "2022-12-13",
          "2022-12-14",
          "2022-12-15",
          "2022-12-16",
          "2022-12-17",
          "2022-12-18",
          "2022-12-19",
          "2022-12-20",
          "2022-12-21",
          "2022-12-28",
          "2022-12-29",
          "2022-12-30",
          "2022-12-31",
          "2023-01-01",
          "2023-01-02",
          "2023-01-03",
          "2023-01-04",
          "2023-01-05",
          "2023-01-06",
          "2023-01-07",
          "2023-01-08",
          "2023-01-09",
          "2023-01-10",
          "2023-01-11",
          "2023-01-12",
          "2023-01-13",
          "2023-01-14",
          "2023-01-15",
          "2023-01-16",
          "2023-01-17",
          "2023-01-18",
          "2023-01-19",
          "2023-01-20",
          "2023-01-21",
          "2023-01-22",
          "2023-01-23",
          "2023-01-24",
          "2023-01-25",
          "2023-01-26",
          "2023-01-27",
          "2023-01-28",
          "2023-01-29",
          "2023-01-30",
          "2023-01-31",
          "2023-02-01",
          "2023-02-02",
          "2023-02-03",
          "2023-02-04",
          "2023-02-05",
          "2023-02-06",
          "2023-02-07",
          "2023-02-08",
          "2023-02-09",
          "2023-02-10",
          "2023-02-11",
          "2023-02-12",
          "2023-02-13",
          "2023-02-14",
          "2023-02-15",
          "2023-02-16",
          "2023-02-17",
          "2023-02-18",
          "2023-02-19",
          "2023-02-20",
          "2023-02-21",
          "2023-02-22",
          "2023-02-23",
          "2023-02-24",
          "2023-02-25",
          "2023-02-26",
          "2023-02-27",
          "2023-02-28",
          "2023-03-01",
          "2023-03-02",
          "2023-03-03",
          "2023-03-04",
          "2023-03-05",
          "2023-03-06",
          "2023-03-07",
          "2023-03-08",
          "2023-03-09",
          "2023-03-10",
          "2023-03-11",
          "2023-03-12",
          "2023-03-13",
          "2023-03-14",
          "2023-03-15",
          "2023-03-16",
          "2023-03-17",
          "2023-03-18",
          "2023-03-19",
          "2023-03-20",
          "2023-03-21",
          "2023-03-22",
          "2023-03-23",
          "2023-03-24",
          "2023-03-25",
          "2023-03-26",
          "2023-03-27",
          "2023-03-28",
          "2023-03-29",
          "2023-03-30",
          "2023-03-31",
          "2023-04-01",
          "2023-04-02",
          "2023-04-03",
          "2023-04-04",
          "2023-04-05",
          "2023-04-06",
          "2023-04-07",
          "2023-04-08",
          "2023-04-09",
          "2023-04-10",
          "2023-04-11",
          "2023-04-12",
          "2023-04-13",
          "2023-04-14",
          "2023-04-15",
          "2023-04-16",
          "2023-04-17",
          "2023-04-18",
          "2023-04-19",
          "2023-04-20",
          "2023-04-21",
          "2023-04-22"
         ],
         "xaxis": "x",
         "y": [
          null,
          null,
          null,
          null,
          null,
          null,
          null,
          null,
          null,
          318501.3,
          313344.5,
          294307.7,
          276043.5,
          271502.9,
          285696.7,
          291258.6,
          300327.4,
          297877.5,
          286217,
          268891.7,
          272418.9,
          292976.2,
          313995.8,
          315036.3,
          302369.4,
          285012.9,
          293278.9,
          305458.5,
          323190,
          338115.4,
          344179.5,
          329136.4,
          308152.2,
          309233.2,
          301965.1,
          317678.8,
          313851.6,
          309776.6,
          296237.3,
          276357.9,
          272334.2,
          277700,
          278237.6,
          272072.1,
          274673.8,
          256862.7,
          237248.7,
          230382.6,
          232331.7,
          226344.8,
          224497.8,
          228501.4,
          241534,
          239881.4,
          236579.7,
          254504.7,
          272650.4,
          278901.9,
          273728.4,
          298169.6,
          293072.9,
          279733.7,
          272295.6,
          282866.3,
          289849.2,
          289386.1,
          287950.5,
          278911.8,
          266678.8,
          264466.6,
          266089.4,
          267827.5,
          267739.6,
          263904.5,
          256232.3,
          243662.1,
          230677.1,
          226799.3,
          236248.7,
          227363,
          229647.4,
          221071.6,
          208687.1,
          203412.8,
          220205.4,
          228169.1,
          237020.2,
          237267.9,
          246066.7,
          243096.2,
          245576.2,
          259953.6,
          276067.1,
          280724.2,
          267421.9,
          263275.1,
          262527.1,
          269086.8,
          263145.9,
          270951.9,
          268927.2,
          261285.1,
          253184.3,
          238626,
          241370.6,
          241830.7,
          237024.1,
          229556.8,
          229406.1,
          218388.5,
          207150.7,
          204817.4,
          205630.5,
          214577.2,
          212049.7,
          206733.8,
          199253.9,
          192264.8,
          184454.7,
          189956.1,
          198860.5,
          203918.6,
          198728.9,
          194463.5,
          192118.3,
          201083,
          213167.6,
          221322.4,
          230106.3,
          248647.6,
          256590.8,
          253780.5,
          268396.5,
          270016.2,
          270423.1,
          280386.1,
          277761.5,
          285950.2,
          280845.2,
          271941.9,
          264656.6,
          273503.6,
          265184.5,
          267683.7,
          271523.2,
          246136.8,
          248761.9,
          243713.5,
          253590.6,
          248627.7,
          251876.3,
          237168.4,
          234992.1,
          250281.6,
          248958,
          264902.6,
          273231,
          273493.5,
          267206.5,
          263369.3,
          262901,
          282018.3,
          295247.9,
          303416.7,
          307772.8,
          298299.4
         ],
         "yaxis": "y"
        },
        {
         "hovertemplate": "uploader=TV9<br>upload_date=%{x}<br>duration=%{y}<extra></extra>",
         "legendgroup": "TV9",
         "line": {
          "color": "blue",
          "dash": "solid"
         },
         "marker": {
          "symbol": "circle"
         },
         "mode": "lines",
         "name": "TV9",
         "orientation": "v",
         "showlegend": true,
         "type": "scatter",
         "x": [
          "2022-11-17",
          "2022-11-18",
          "2022-11-19",
          "2022-11-20",
          "2022-11-21",
          "2022-11-22",
          "2022-11-23",
          "2022-11-24",
          "2022-11-25",
          "2022-11-26",
          "2022-11-27",
          "2022-11-28",
          "2022-11-29",
          "2022-11-30",
          "2022-12-01",
          "2022-12-02",
          "2022-12-03",
          "2022-12-04",
          "2022-12-05",
          "2022-12-06",
          "2022-12-07",
          "2022-12-08",
          "2022-12-09",
          "2022-12-10",
          "2022-12-11",
          "2022-12-12",
          "2022-12-13",
          "2022-12-14",
          "2022-12-15",
          "2022-12-16",
          "2022-12-17",
          "2022-12-18",
          "2022-12-19",
          "2022-12-20",
          "2022-12-21",
          "2022-12-22",
          "2022-12-23",
          "2022-12-24",
          "2022-12-25",
          "2022-12-26",
          "2022-12-27",
          "2022-12-28",
          "2022-12-29",
          "2022-12-30",
          "2022-12-31",
          "2023-01-01",
          "2023-01-02",
          "2023-01-03",
          "2023-01-04",
          "2023-01-05",
          "2023-01-06",
          "2023-01-07",
          "2023-01-08",
          "2023-01-09",
          "2023-01-10",
          "2023-01-11",
          "2023-01-12",
          "2023-01-13",
          "2023-01-14",
          "2023-01-15",
          "2023-01-16",
          "2023-01-17",
          "2023-01-18",
          "2023-01-19",
          "2023-01-20",
          "2023-01-21",
          "2023-01-22",
          "2023-01-23",
          "2023-01-24",
          "2023-01-25",
          "2023-01-26",
          "2023-01-27",
          "2023-01-28",
          "2023-01-29",
          "2023-01-30",
          "2023-01-31",
          "2023-02-01",
          "2023-02-02",
          "2023-02-03",
          "2023-02-04",
          "2023-02-05",
          "2023-02-06",
          "2023-02-07",
          "2023-02-08",
          "2023-02-09",
          "2023-02-10",
          "2023-02-11",
          "2023-02-12",
          "2023-02-13",
          "2023-02-14",
          "2023-02-15",
          "2023-02-16",
          "2023-02-17",
          "2023-02-18",
          "2023-02-19",
          "2023-02-20",
          "2023-02-21",
          "2023-02-22",
          "2023-02-23",
          "2023-02-24",
          "2023-02-25",
          "2023-02-26",
          "2023-02-27",
          "2023-02-28",
          "2023-03-01",
          "2023-03-02",
          "2023-03-03",
          "2023-03-04",
          "2023-03-05",
          "2023-03-06",
          "2023-03-07",
          "2023-03-08",
          "2023-03-09",
          "2023-03-10",
          "2023-03-11",
          "2023-03-12",
          "2023-03-13",
          "2023-03-14",
          "2023-03-15",
          "2023-03-16",
          "2023-03-17",
          "2023-03-18",
          "2023-03-19",
          "2023-03-20",
          "2023-03-21",
          "2023-03-22",
          "2023-03-23",
          "2023-03-24",
          "2023-03-25",
          "2023-03-26",
          "2023-03-27",
          "2023-03-28",
          "2023-03-29",
          "2023-03-30",
          "2023-03-31",
          "2023-04-01",
          "2023-04-02",
          "2023-04-03",
          "2023-04-04",
          "2023-04-05",
          "2023-04-06",
          "2023-04-07",
          "2023-04-08",
          "2023-04-09",
          "2023-04-10",
          "2023-04-11",
          "2023-04-12",
          "2023-04-13",
          "2023-04-14",
          "2023-04-15",
          "2023-04-16",
          "2023-04-17",
          "2023-04-18",
          "2023-04-19",
          "2023-04-20",
          "2023-04-21",
          "2023-04-22"
         ],
         "xaxis": "x",
         "y": [
          null,
          null,
          null,
          null,
          null,
          null,
          null,
          null,
          null,
          197837.4,
          210138.5,
          217956.6,
          208256,
          205993.8,
          204732.7,
          199530.8,
          198117.9,
          213678.2,
          225063.3,
          219544.7,
          225360.1,
          219156.9,
          217586.5,
          225528.7,
          226315.5,
          230405.2,
          244615.2,
          233587.1,
          219359.7,
          222353.9,
          215505.5,
          218241.4,
          221935.9,
          210880.1,
          208357.9,
          207935.8,
          193081.8,
          196815,
          202502.1,
          210443.4,
          205273.2,
          209594.4,
          209468.7,
          216410.5,
          223219.4,
          232903.9,
          242866,
          247599.1,
          250355.2,
          252580.9,
          253912.7,
          249578.4,
          249275.1,
          240010.1,
          226025.6,
          220932.2,
          217644.4,
          201988.6,
          196065.1,
          190285.6,
          200072.7,
          204255.7,
          205495.2,
          205416.5,
          213173.7,
          206278.8,
          200660.6,
          207347.6,
          207652.2,
          207624.4,
          203226.1,
          207708,
          220471,
          232342.4,
          241169.7,
          253627.9,
          264410.7,
          276619.9,
          278712.1,
          284016.5,
          281764,
          275518.2,
          261191.7,
          257330.3,
          252846.2,
          242172.5,
          231345.6,
          219959.2,
          215765.7,
          209725.6,
          211990.7,
          211709.3,
          211319.8,
          209240.9,
          197333.7,
          194830.7,
          201183.2,
          206211,
          209737.7,
          209351.6,
          210543.3,
          211255.5,
          211737.7,
          217984.7,
          232180.7,
          242517.2,
          233670,
          233267.1,
          237490.6,
          238472.2,
          240312.3,
          236776,
          247932.2,
          243200.9,
          244151.3,
          237293,
          236655.4,
          238855.6,
          238812,
          250651.8,
          248015.1,
          257010.1,
          249940.2,
          253163.9,
          243344.3,
          238554.1,
          254126.5,
          255345.4,
          255943.8,
          251703.9,
          252569.9,
          247545.9,
          238860,
          239084.7,
          243535.9,
          244538.2,
          228953.5,
          223861.4,
          228812.9,
          222802.9,
          232825.6,
          229384.5,
          233563.3,
          219251.9,
          215596.7,
          220536.1,
          220202.1,
          220804.2,
          208944.1,
          211404.4,
          201002.2,
          196501.7,
          196793.7,
          198849.5,
          203173.7,
          203819.8,
          195389.4
         ],
         "yaxis": "y"
        },
        {
         "hovertemplate": "uploader=Sakshi<br>upload_date=%{x}<br>duration=%{y}<extra></extra>",
         "legendgroup": "Sakshi",
         "line": {
          "color": "red",
          "dash": "solid"
         },
         "marker": {
          "symbol": "circle"
         },
         "mode": "lines",
         "name": "Sakshi",
         "orientation": "v",
         "showlegend": true,
         "type": "scatter",
         "x": [
          "2022-11-02",
          "2022-11-03",
          "2022-11-04",
          "2022-11-05",
          "2022-11-06",
          "2022-11-07",
          "2022-11-08",
          "2022-11-09",
          "2022-11-10",
          "2022-11-11",
          "2022-11-12",
          "2022-11-13",
          "2022-11-14",
          "2022-11-15",
          "2022-11-16",
          "2022-11-17",
          "2022-11-18",
          "2022-11-19",
          "2022-11-20",
          "2022-11-21",
          "2022-11-22",
          "2022-11-23",
          "2022-11-24",
          "2022-11-25",
          "2022-11-26",
          "2022-11-27",
          "2022-11-28",
          "2022-11-29",
          "2022-11-30",
          "2022-12-01",
          "2022-12-02",
          "2022-12-03",
          "2022-12-04",
          "2022-12-05",
          "2022-12-06",
          "2022-12-07",
          "2022-12-08",
          "2022-12-09",
          "2022-12-10",
          "2022-12-11",
          "2022-12-12",
          "2022-12-13",
          "2022-12-14",
          "2022-12-15",
          "2022-12-16",
          "2022-12-17",
          "2022-12-18",
          "2022-12-19",
          "2022-12-20",
          "2022-12-21",
          "2022-12-22",
          "2022-12-23",
          "2022-12-24",
          "2022-12-25",
          "2022-12-26",
          "2022-12-27",
          "2022-12-28",
          "2022-12-29",
          "2022-12-30",
          "2022-12-31",
          "2023-01-01",
          "2023-01-02",
          "2023-01-03",
          "2023-01-04",
          "2023-01-05",
          "2023-01-06",
          "2023-01-07",
          "2023-01-08",
          "2023-01-09",
          "2023-01-10",
          "2023-01-11",
          "2023-01-12",
          "2023-01-13",
          "2023-01-14",
          "2023-01-15",
          "2023-01-16",
          "2023-01-17",
          "2023-01-18",
          "2023-01-19",
          "2023-01-20",
          "2023-01-21",
          "2023-01-22",
          "2023-01-23",
          "2023-01-24",
          "2023-01-25",
          "2023-01-26",
          "2023-01-27",
          "2023-01-28",
          "2023-01-29",
          "2023-01-30",
          "2023-01-31",
          "2023-02-01",
          "2023-02-02",
          "2023-02-03",
          "2023-02-04",
          "2023-02-05",
          "2023-02-06",
          "2023-02-07",
          "2023-02-08",
          "2023-02-09",
          "2023-02-10",
          "2023-02-11",
          "2023-02-12",
          "2023-02-13",
          "2023-02-14",
          "2023-02-15",
          "2023-02-16",
          "2023-02-17",
          "2023-02-18",
          "2023-02-19",
          "2023-02-20",
          "2023-02-21",
          "2023-02-22",
          "2023-02-23",
          "2023-02-24",
          "2023-02-25",
          "2023-02-26",
          "2023-02-27",
          "2023-02-28",
          "2023-03-01",
          "2023-03-02",
          "2023-03-03",
          "2023-03-04",
          "2023-03-05",
          "2023-03-06",
          "2023-03-07",
          "2023-03-08",
          "2023-03-09",
          "2023-03-10",
          "2023-03-11",
          "2023-03-12",
          "2023-03-13",
          "2023-03-14",
          "2023-03-15",
          "2023-03-16",
          "2023-03-17",
          "2023-03-18",
          "2023-03-19",
          "2023-03-20",
          "2023-03-21",
          "2023-03-22",
          "2023-03-23",
          "2023-03-24",
          "2023-03-25",
          "2023-03-26",
          "2023-03-27",
          "2023-03-28",
          "2023-03-29",
          "2023-03-30",
          "2023-03-31",
          "2023-04-01",
          "2023-04-02",
          "2023-04-03",
          "2023-04-04",
          "2023-04-05",
          "2023-04-06",
          "2023-04-07",
          "2023-04-08",
          "2023-04-09",
          "2023-04-10",
          "2023-04-11",
          "2023-04-12",
          "2023-04-13",
          "2023-04-14",
          "2023-04-15",
          "2023-04-16",
          "2023-04-17",
          "2023-04-18",
          "2023-04-19",
          "2023-04-20",
          "2023-04-21",
          "2023-04-22"
         ],
         "xaxis": "x",
         "y": [
          null,
          null,
          null,
          null,
          null,
          null,
          null,
          null,
          null,
          39097.7,
          42146.3,
          36080.3,
          31541.7,
          28311.2,
          24722.2,
          27072.4,
          30190.5,
          37995.1,
          34713,
          43178.7,
          42087.9,
          45062.1,
          46288.9,
          44467.2,
          48876.7,
          54598.9,
          57542.6,
          58166.2,
          60846.8,
          51909.9,
          51557.6,
          49502.7,
          49081.8,
          47605,
          45442.2,
          43848.5,
          38245.5,
          30056.1,
          25658.8,
          29284.6,
          28107.5,
          29787.4,
          27238,
          27573.3,
          25316.2,
          19899.4,
          23962.1,
          23898.4,
          26047.8,
          22982.2,
          21152.9,
          19033.6,
          18413.6,
          17331.7,
          20756.6,
          20702,
          16755.1,
          17165.2,
          16137.7,
          17939.7,
          18713.6,
          26290.1,
          26057.9,
          26669.8,
          22943.2,
          24977,
          25359.1,
          27913.3,
          26681.1,
          24387,
          24748.8,
          20738.2,
          21042.2,
          21375.4,
          20743.5,
          17262.9,
          17875.8,
          14372.4,
          15093,
          15005.9,
          14777.3,
          10233.6,
          9541.7,
          9483.6,
          9992.4,
          13494.8,
          13192.2,
          15752.5,
          15146.8,
          15347.5,
          15732.8,
          18462.4,
          18349.3,
          28411.3,
          32565.4,
          29110.1,
          27972.2,
          26148.6,
          28143.2,
          36457.9,
          35935.1,
          35724.1,
          35495.8,
          28858.5,
          25533.1,
          34748,
          36914.4,
          39521.2,
          37848.1,
          33025.3,
          40295.3,
          42584,
          43285.6,
          40224.1,
          44251.3,
          39623.7,
          38982.6,
          36567.8,
          38044.2,
          33874.1,
          26313,
          24261.9,
          25908.6,
          25278.3,
          24751.7,
          22282.1,
          21044.5,
          20423,
          26456.5,
          29729,
          36848.1,
          38548.1,
          37364.7,
          48951.7,
          50477.1,
          53694.8,
          57932.9,
          61438.8,
          68994.2,
          71761.4,
          65464.2,
          64409.4,
          74009,
          62890.1,
          61554.6,
          62017,
          60090.5,
          60985.4,
          45564.3,
          44048.2,
          45729.4,
          46205.1,
          44012.5,
          53804.1,
          56788.2,
          52617.8,
          55075.2,
          55402.1,
          61532.6,
          60224.3,
          60833.7,
          62386.8,
          57081.7,
          50948.2,
          53652.2,
          52367.1,
          48029,
          52046.2,
          47337.8,
          43911.3,
          41123.9,
          40672.5
         ],
         "yaxis": "y"
        }
       ],
       "layout": {
        "legend": {
         "title": {
          "text": "uploader"
         },
         "tracegroupgap": 0
        },
        "margin": {
         "t": 60
        },
        "template": {
         "data": {
          "bar": [
           {
            "error_x": {
             "color": "#2a3f5f"
            },
            "error_y": {
             "color": "#2a3f5f"
            },
            "marker": {
             "line": {
              "color": "#E5ECF6",
              "width": 0.5
             },
             "pattern": {
              "fillmode": "overlay",
              "size": 10,
              "solidity": 0.2
             }
            },
            "type": "bar"
           }
          ],
          "barpolar": [
           {
            "marker": {
             "line": {
              "color": "#E5ECF6",
              "width": 0.5
             },
             "pattern": {
              "fillmode": "overlay",
              "size": 10,
              "solidity": 0.2
             }
            },
            "type": "barpolar"
           }
          ],
          "carpet": [
           {
            "aaxis": {
             "endlinecolor": "#2a3f5f",
             "gridcolor": "white",
             "linecolor": "white",
             "minorgridcolor": "white",
             "startlinecolor": "#2a3f5f"
            },
            "baxis": {
             "endlinecolor": "#2a3f5f",
             "gridcolor": "white",
             "linecolor": "white",
             "minorgridcolor": "white",
             "startlinecolor": "#2a3f5f"
            },
            "type": "carpet"
           }
          ],
          "choropleth": [
           {
            "colorbar": {
             "outlinewidth": 0,
             "ticks": ""
            },
            "type": "choropleth"
           }
          ],
          "contour": [
           {
            "colorbar": {
             "outlinewidth": 0,
             "ticks": ""
            },
            "colorscale": [
             [
              0,
              "#0d0887"
             ],
             [
              0.1111111111111111,
              "#46039f"
             ],
             [
              0.2222222222222222,
              "#7201a8"
             ],
             [
              0.3333333333333333,
              "#9c179e"
             ],
             [
              0.4444444444444444,
              "#bd3786"
             ],
             [
              0.5555555555555556,
              "#d8576b"
             ],
             [
              0.6666666666666666,
              "#ed7953"
             ],
             [
              0.7777777777777778,
              "#fb9f3a"
             ],
             [
              0.8888888888888888,
              "#fdca26"
             ],
             [
              1,
              "#f0f921"
             ]
            ],
            "type": "contour"
           }
          ],
          "contourcarpet": [
           {
            "colorbar": {
             "outlinewidth": 0,
             "ticks": ""
            },
            "type": "contourcarpet"
           }
          ],
          "heatmap": [
           {
            "colorbar": {
             "outlinewidth": 0,
             "ticks": ""
            },
            "colorscale": [
             [
              0,
              "#0d0887"
             ],
             [
              0.1111111111111111,
              "#46039f"
             ],
             [
              0.2222222222222222,
              "#7201a8"
             ],
             [
              0.3333333333333333,
              "#9c179e"
             ],
             [
              0.4444444444444444,
              "#bd3786"
             ],
             [
              0.5555555555555556,
              "#d8576b"
             ],
             [
              0.6666666666666666,
              "#ed7953"
             ],
             [
              0.7777777777777778,
              "#fb9f3a"
             ],
             [
              0.8888888888888888,
              "#fdca26"
             ],
             [
              1,
              "#f0f921"
             ]
            ],
            "type": "heatmap"
           }
          ],
          "heatmapgl": [
           {
            "colorbar": {
             "outlinewidth": 0,
             "ticks": ""
            },
            "colorscale": [
             [
              0,
              "#0d0887"
             ],
             [
              0.1111111111111111,
              "#46039f"
             ],
             [
              0.2222222222222222,
              "#7201a8"
             ],
             [
              0.3333333333333333,
              "#9c179e"
             ],
             [
              0.4444444444444444,
              "#bd3786"
             ],
             [
              0.5555555555555556,
              "#d8576b"
             ],
             [
              0.6666666666666666,
              "#ed7953"
             ],
             [
              0.7777777777777778,
              "#fb9f3a"
             ],
             [
              0.8888888888888888,
              "#fdca26"
             ],
             [
              1,
              "#f0f921"
             ]
            ],
            "type": "heatmapgl"
           }
          ],
          "histogram": [
           {
            "marker": {
             "pattern": {
              "fillmode": "overlay",
              "size": 10,
              "solidity": 0.2
             }
            },
            "type": "histogram"
           }
          ],
          "histogram2d": [
           {
            "colorbar": {
             "outlinewidth": 0,
             "ticks": ""
            },
            "colorscale": [
             [
              0,
              "#0d0887"
             ],
             [
              0.1111111111111111,
              "#46039f"
             ],
             [
              0.2222222222222222,
              "#7201a8"
             ],
             [
              0.3333333333333333,
              "#9c179e"
             ],
             [
              0.4444444444444444,
              "#bd3786"
             ],
             [
              0.5555555555555556,
              "#d8576b"
             ],
             [
              0.6666666666666666,
              "#ed7953"
             ],
             [
              0.7777777777777778,
              "#fb9f3a"
             ],
             [
              0.8888888888888888,
              "#fdca26"
             ],
             [
              1,
              "#f0f921"
             ]
            ],
            "type": "histogram2d"
           }
          ],
          "histogram2dcontour": [
           {
            "colorbar": {
             "outlinewidth": 0,
             "ticks": ""
            },
            "colorscale": [
             [
              0,
              "#0d0887"
             ],
             [
              0.1111111111111111,
              "#46039f"
             ],
             [
              0.2222222222222222,
              "#7201a8"
             ],
             [
              0.3333333333333333,
              "#9c179e"
             ],
             [
              0.4444444444444444,
              "#bd3786"
             ],
             [
              0.5555555555555556,
              "#d8576b"
             ],
             [
              0.6666666666666666,
              "#ed7953"
             ],
             [
              0.7777777777777778,
              "#fb9f3a"
             ],
             [
              0.8888888888888888,
              "#fdca26"
             ],
             [
              1,
              "#f0f921"
             ]
            ],
            "type": "histogram2dcontour"
           }
          ],
          "mesh3d": [
           {
            "colorbar": {
             "outlinewidth": 0,
             "ticks": ""
            },
            "type": "mesh3d"
           }
          ],
          "parcoords": [
           {
            "line": {
             "colorbar": {
              "outlinewidth": 0,
              "ticks": ""
             }
            },
            "type": "parcoords"
           }
          ],
          "pie": [
           {
            "automargin": true,
            "type": "pie"
           }
          ],
          "scatter": [
           {
            "fillpattern": {
             "fillmode": "overlay",
             "size": 10,
             "solidity": 0.2
            },
            "type": "scatter"
           }
          ],
          "scatter3d": [
           {
            "line": {
             "colorbar": {
              "outlinewidth": 0,
              "ticks": ""
             }
            },
            "marker": {
             "colorbar": {
              "outlinewidth": 0,
              "ticks": ""
             }
            },
            "type": "scatter3d"
           }
          ],
          "scattercarpet": [
           {
            "marker": {
             "colorbar": {
              "outlinewidth": 0,
              "ticks": ""
             }
            },
            "type": "scattercarpet"
           }
          ],
          "scattergeo": [
           {
            "marker": {
             "colorbar": {
              "outlinewidth": 0,
              "ticks": ""
             }
            },
            "type": "scattergeo"
           }
          ],
          "scattergl": [
           {
            "marker": {
             "colorbar": {
              "outlinewidth": 0,
              "ticks": ""
             }
            },
            "type": "scattergl"
           }
          ],
          "scattermapbox": [
           {
            "marker": {
             "colorbar": {
              "outlinewidth": 0,
              "ticks": ""
             }
            },
            "type": "scattermapbox"
           }
          ],
          "scatterpolar": [
           {
            "marker": {
             "colorbar": {
              "outlinewidth": 0,
              "ticks": ""
             }
            },
            "type": "scatterpolar"
           }
          ],
          "scatterpolargl": [
           {
            "marker": {
             "colorbar": {
              "outlinewidth": 0,
              "ticks": ""
             }
            },
            "type": "scatterpolargl"
           }
          ],
          "scatterternary": [
           {
            "marker": {
             "colorbar": {
              "outlinewidth": 0,
              "ticks": ""
             }
            },
            "type": "scatterternary"
           }
          ],
          "surface": [
           {
            "colorbar": {
             "outlinewidth": 0,
             "ticks": ""
            },
            "colorscale": [
             [
              0,
              "#0d0887"
             ],
             [
              0.1111111111111111,
              "#46039f"
             ],
             [
              0.2222222222222222,
              "#7201a8"
             ],
             [
              0.3333333333333333,
              "#9c179e"
             ],
             [
              0.4444444444444444,
              "#bd3786"
             ],
             [
              0.5555555555555556,
              "#d8576b"
             ],
             [
              0.6666666666666666,
              "#ed7953"
             ],
             [
              0.7777777777777778,
              "#fb9f3a"
             ],
             [
              0.8888888888888888,
              "#fdca26"
             ],
             [
              1,
              "#f0f921"
             ]
            ],
            "type": "surface"
           }
          ],
          "table": [
           {
            "cells": {
             "fill": {
              "color": "#EBF0F8"
             },
             "line": {
              "color": "white"
             }
            },
            "header": {
             "fill": {
              "color": "#C8D4E3"
             },
             "line": {
              "color": "white"
             }
            },
            "type": "table"
           }
          ]
         },
         "layout": {
          "annotationdefaults": {
           "arrowcolor": "#2a3f5f",
           "arrowhead": 0,
           "arrowwidth": 1
          },
          "autotypenumbers": "strict",
          "coloraxis": {
           "colorbar": {
            "outlinewidth": 0,
            "ticks": ""
           }
          },
          "colorscale": {
           "diverging": [
            [
             0,
             "#8e0152"
            ],
            [
             0.1,
             "#c51b7d"
            ],
            [
             0.2,
             "#de77ae"
            ],
            [
             0.3,
             "#f1b6da"
            ],
            [
             0.4,
             "#fde0ef"
            ],
            [
             0.5,
             "#f7f7f7"
            ],
            [
             0.6,
             "#e6f5d0"
            ],
            [
             0.7,
             "#b8e186"
            ],
            [
             0.8,
             "#7fbc41"
            ],
            [
             0.9,
             "#4d9221"
            ],
            [
             1,
             "#276419"
            ]
           ],
           "sequential": [
            [
             0,
             "#0d0887"
            ],
            [
             0.1111111111111111,
             "#46039f"
            ],
            [
             0.2222222222222222,
             "#7201a8"
            ],
            [
             0.3333333333333333,
             "#9c179e"
            ],
            [
             0.4444444444444444,
             "#bd3786"
            ],
            [
             0.5555555555555556,
             "#d8576b"
            ],
            [
             0.6666666666666666,
             "#ed7953"
            ],
            [
             0.7777777777777778,
             "#fb9f3a"
            ],
            [
             0.8888888888888888,
             "#fdca26"
            ],
            [
             1,
             "#f0f921"
            ]
           ],
           "sequentialminus": [
            [
             0,
             "#0d0887"
            ],
            [
             0.1111111111111111,
             "#46039f"
            ],
            [
             0.2222222222222222,
             "#7201a8"
            ],
            [
             0.3333333333333333,
             "#9c179e"
            ],
            [
             0.4444444444444444,
             "#bd3786"
            ],
            [
             0.5555555555555556,
             "#d8576b"
            ],
            [
             0.6666666666666666,
             "#ed7953"
            ],
            [
             0.7777777777777778,
             "#fb9f3a"
            ],
            [
             0.8888888888888888,
             "#fdca26"
            ],
            [
             1,
             "#f0f921"
            ]
           ]
          },
          "colorway": [
           "#636efa",
           "#EF553B",
           "#00cc96",
           "#ab63fa",
           "#FFA15A",
           "#19d3f3",
           "#FF6692",
           "#B6E880",
           "#FF97FF",
           "#FECB52"
          ],
          "font": {
           "color": "#2a3f5f"
          },
          "geo": {
           "bgcolor": "white",
           "lakecolor": "white",
           "landcolor": "#E5ECF6",
           "showlakes": true,
           "showland": true,
           "subunitcolor": "white"
          },
          "hoverlabel": {
           "align": "left"
          },
          "hovermode": "closest",
          "mapbox": {
           "style": "light"
          },
          "paper_bgcolor": "white",
          "plot_bgcolor": "#E5ECF6",
          "polar": {
           "angularaxis": {
            "gridcolor": "white",
            "linecolor": "white",
            "ticks": ""
           },
           "bgcolor": "#E5ECF6",
           "radialaxis": {
            "gridcolor": "white",
            "linecolor": "white",
            "ticks": ""
           }
          },
          "scene": {
           "xaxis": {
            "backgroundcolor": "#E5ECF6",
            "gridcolor": "white",
            "gridwidth": 2,
            "linecolor": "white",
            "showbackground": true,
            "ticks": "",
            "zerolinecolor": "white"
           },
           "yaxis": {
            "backgroundcolor": "#E5ECF6",
            "gridcolor": "white",
            "gridwidth": 2,
            "linecolor": "white",
            "showbackground": true,
            "ticks": "",
            "zerolinecolor": "white"
           },
           "zaxis": {
            "backgroundcolor": "#E5ECF6",
            "gridcolor": "white",
            "gridwidth": 2,
            "linecolor": "white",
            "showbackground": true,
            "ticks": "",
            "zerolinecolor": "white"
           }
          },
          "shapedefaults": {
           "line": {
            "color": "#2a3f5f"
           }
          },
          "ternary": {
           "aaxis": {
            "gridcolor": "white",
            "linecolor": "white",
            "ticks": ""
           },
           "baxis": {
            "gridcolor": "white",
            "linecolor": "white",
            "ticks": ""
           },
           "bgcolor": "#E5ECF6",
           "caxis": {
            "gridcolor": "white",
            "linecolor": "white",
            "ticks": ""
           }
          },
          "title": {
           "x": 0.05
          },
          "xaxis": {
           "automargin": true,
           "gridcolor": "white",
           "linecolor": "white",
           "ticks": "",
           "title": {
            "standoff": 15
           },
           "zerolinecolor": "white",
           "zerolinewidth": 2
          },
          "yaxis": {
           "automargin": true,
           "gridcolor": "white",
           "linecolor": "white",
           "ticks": "",
           "title": {
            "standoff": 15
           },
           "zerolinecolor": "white",
           "zerolinewidth": 2
          }
         }
        },
        "xaxis": {
         "anchor": "y",
         "domain": [
          0,
          1
         ],
         "title": {
          "text": "upload_date"
         }
        },
        "yaxis": {
         "anchor": "x",
         "domain": [
          0,
          1
         ],
         "title": {
          "text": "duration"
         }
        }
       }
      }
     },
     "metadata": {},
     "output_type": "display_data"
    }
   ],
   "source": [
    "import plotly.express as px\n",
    "df_upload_plot = pd.read_csv('UIdata/uploader.csv')\n",
    "df_upload_line = df_upload_plot.groupby(['uploader','upload_date']).aggregate({'duration':np.sum,\n",
    "                                                            'comment_count':np.sum,\n",
    "                                                            'view_count':np.sum,\n",
    "                                                            'sentiment':np.mean}).reset_index()\n",
    "df_upload_line = df_upload_line[df_upload_line.upload_date > '2022-11-01']\n",
    "\n",
    "df_all_upload_ = []\n",
    "for upl in ['ABN','TV5','TV9','Sakshi']:\n",
    "    df_channel = df_upload_line[df_upload_line.uploader == upl].sort_values('upload_date')\n",
    "    for col in ['duration','comment_count','view_count','sentiment']:\n",
    "        df_channel[col] = df_channel[col].rolling(10).mean()\n",
    "    df_all_upload_.append(df_channel)\n",
    "df_line_chart = pd.concat(df_all_upload_)\n",
    "\n",
    "fig = px.line(df_line_chart, x='upload_date', y='duration', color='uploader',color_discrete_map= {'ABN': 'yellow','TV5': 'gold', 'Sakshi':'red' , 'TV9':'blue'}, markers=False)\n",
    "fig.show()"
   ]
  },
  {
   "cell_type": "code",
   "execution_count": 26,
   "metadata": {},
   "outputs": [
    {
     "data": {
      "text/html": [
       "<div>\n",
       "<style scoped>\n",
       "    .dataframe tbody tr th:only-of-type {\n",
       "        vertical-align: middle;\n",
       "    }\n",
       "\n",
       "    .dataframe tbody tr th {\n",
       "        vertical-align: top;\n",
       "    }\n",
       "\n",
       "    .dataframe thead th {\n",
       "        text-align: right;\n",
       "    }\n",
       "</style>\n",
       "<table border=\"1\" class=\"dataframe\">\n",
       "  <thead>\n",
       "    <tr style=\"text-align: right;\">\n",
       "      <th></th>\n",
       "      <th>uploader</th>\n",
       "      <th>upload_date</th>\n",
       "      <th>duration</th>\n",
       "      <th>comment_count</th>\n",
       "      <th>view_count</th>\n",
       "      <th>sentiment</th>\n",
       "    </tr>\n",
       "  </thead>\n",
       "  <tbody>\n",
       "    <tr>\n",
       "      <th>31</th>\n",
       "      <td>ABN</td>\n",
       "      <td>2022-11-11</td>\n",
       "      <td>693095.4</td>\n",
       "      <td>1220.0</td>\n",
       "      <td>3302937.1</td>\n",
       "      <td>-0.019112</td>\n",
       "    </tr>\n",
       "    <tr>\n",
       "      <th>32</th>\n",
       "      <td>ABN</td>\n",
       "      <td>2022-11-12</td>\n",
       "      <td>686522.1</td>\n",
       "      <td>1299.2</td>\n",
       "      <td>3394127.1</td>\n",
       "      <td>-0.026047</td>\n",
       "    </tr>\n",
       "    <tr>\n",
       "      <th>33</th>\n",
       "      <td>ABN</td>\n",
       "      <td>2022-11-13</td>\n",
       "      <td>656422.8</td>\n",
       "      <td>1265.8</td>\n",
       "      <td>3185816.4</td>\n",
       "      <td>-0.020132</td>\n",
       "    </tr>\n",
       "    <tr>\n",
       "      <th>34</th>\n",
       "      <td>ABN</td>\n",
       "      <td>2022-11-14</td>\n",
       "      <td>631641.5</td>\n",
       "      <td>1198.4</td>\n",
       "      <td>3082259.7</td>\n",
       "      <td>-0.019564</td>\n",
       "    </tr>\n",
       "    <tr>\n",
       "      <th>35</th>\n",
       "      <td>ABN</td>\n",
       "      <td>2022-11-15</td>\n",
       "      <td>603510.8</td>\n",
       "      <td>1120.8</td>\n",
       "      <td>3012781.6</td>\n",
       "      <td>-0.030632</td>\n",
       "    </tr>\n",
       "    <tr>\n",
       "      <th>...</th>\n",
       "      <td>...</td>\n",
       "      <td>...</td>\n",
       "      <td>...</td>\n",
       "      <td>...</td>\n",
       "      <td>...</td>\n",
       "      <td>...</td>\n",
       "    </tr>\n",
       "    <tr>\n",
       "      <th>979</th>\n",
       "      <td>Sakshi</td>\n",
       "      <td>2023-04-18</td>\n",
       "      <td>52046.2</td>\n",
       "      <td>1148.1</td>\n",
       "      <td>711271.8</td>\n",
       "      <td>0.003439</td>\n",
       "    </tr>\n",
       "    <tr>\n",
       "      <th>980</th>\n",
       "      <td>Sakshi</td>\n",
       "      <td>2023-04-19</td>\n",
       "      <td>47337.8</td>\n",
       "      <td>1235.7</td>\n",
       "      <td>758763.8</td>\n",
       "      <td>0.001905</td>\n",
       "    </tr>\n",
       "    <tr>\n",
       "      <th>981</th>\n",
       "      <td>Sakshi</td>\n",
       "      <td>2023-04-20</td>\n",
       "      <td>43911.3</td>\n",
       "      <td>1171.2</td>\n",
       "      <td>699642.4</td>\n",
       "      <td>-0.010019</td>\n",
       "    </tr>\n",
       "    <tr>\n",
       "      <th>982</th>\n",
       "      <td>Sakshi</td>\n",
       "      <td>2023-04-21</td>\n",
       "      <td>41123.9</td>\n",
       "      <td>1135.7</td>\n",
       "      <td>657978.5</td>\n",
       "      <td>-0.015359</td>\n",
       "    </tr>\n",
       "    <tr>\n",
       "      <th>983</th>\n",
       "      <td>Sakshi</td>\n",
       "      <td>2023-04-22</td>\n",
       "      <td>40672.5</td>\n",
       "      <td>1039.5</td>\n",
       "      <td>572093.4</td>\n",
       "      <td>0.014407</td>\n",
       "    </tr>\n",
       "  </tbody>\n",
       "</table>\n",
       "<p>631 rows × 6 columns</p>\n",
       "</div>"
      ],
      "text/plain": [
       "    uploader upload_date  duration  comment_count  view_count  sentiment\n",
       "31       ABN  2022-11-11  693095.4         1220.0   3302937.1  -0.019112\n",
       "32       ABN  2022-11-12  686522.1         1299.2   3394127.1  -0.026047\n",
       "33       ABN  2022-11-13  656422.8         1265.8   3185816.4  -0.020132\n",
       "34       ABN  2022-11-14  631641.5         1198.4   3082259.7  -0.019564\n",
       "35       ABN  2022-11-15  603510.8         1120.8   3012781.6  -0.030632\n",
       "..       ...         ...       ...            ...         ...        ...\n",
       "979   Sakshi  2023-04-18   52046.2         1148.1    711271.8   0.003439\n",
       "980   Sakshi  2023-04-19   47337.8         1235.7    758763.8   0.001905\n",
       "981   Sakshi  2023-04-20   43911.3         1171.2    699642.4  -0.010019\n",
       "982   Sakshi  2023-04-21   41123.9         1135.7    657978.5  -0.015359\n",
       "983   Sakshi  2023-04-22   40672.5         1039.5    572093.4   0.014407\n",
       "\n",
       "[631 rows x 6 columns]"
      ]
     },
     "execution_count": 26,
     "metadata": {},
     "output_type": "execute_result"
    }
   ],
   "source": [
    "\n"
   ]
  },
  {
   "cell_type": "code",
   "execution_count": 318,
   "metadata": {},
   "outputs": [
    {
     "data": {
      "text/html": [
       "<div>\n",
       "<style scoped>\n",
       "    .dataframe tbody tr th:only-of-type {\n",
       "        vertical-align: middle;\n",
       "    }\n",
       "\n",
       "    .dataframe tbody tr th {\n",
       "        vertical-align: top;\n",
       "    }\n",
       "\n",
       "    .dataframe thead th {\n",
       "        text-align: right;\n",
       "    }\n",
       "</style>\n",
       "<table border=\"1\" class=\"dataframe\">\n",
       "  <thead>\n",
       "    <tr style=\"text-align: right;\">\n",
       "      <th></th>\n",
       "      <th>country</th>\n",
       "      <th>continent</th>\n",
       "      <th>year</th>\n",
       "      <th>lifeExp</th>\n",
       "      <th>pop</th>\n",
       "      <th>gdpPercap</th>\n",
       "      <th>iso_alpha</th>\n",
       "      <th>iso_num</th>\n",
       "    </tr>\n",
       "  </thead>\n",
       "  <tbody>\n",
       "    <tr>\n",
       "      <th>11</th>\n",
       "      <td>Afghanistan</td>\n",
       "      <td>Asia</td>\n",
       "      <td>2007</td>\n",
       "      <td>43.828</td>\n",
       "      <td>31889923</td>\n",
       "      <td>974.580338</td>\n",
       "      <td>AFG</td>\n",
       "      <td>4</td>\n",
       "    </tr>\n",
       "    <tr>\n",
       "      <th>23</th>\n",
       "      <td>Albania</td>\n",
       "      <td>Europe</td>\n",
       "      <td>2007</td>\n",
       "      <td>76.423</td>\n",
       "      <td>3600523</td>\n",
       "      <td>5937.029526</td>\n",
       "      <td>ALB</td>\n",
       "      <td>8</td>\n",
       "    </tr>\n",
       "    <tr>\n",
       "      <th>35</th>\n",
       "      <td>Algeria</td>\n",
       "      <td>Africa</td>\n",
       "      <td>2007</td>\n",
       "      <td>72.301</td>\n",
       "      <td>33333216</td>\n",
       "      <td>6223.367465</td>\n",
       "      <td>DZA</td>\n",
       "      <td>12</td>\n",
       "    </tr>\n",
       "    <tr>\n",
       "      <th>47</th>\n",
       "      <td>Angola</td>\n",
       "      <td>Africa</td>\n",
       "      <td>2007</td>\n",
       "      <td>42.731</td>\n",
       "      <td>12420476</td>\n",
       "      <td>4797.231267</td>\n",
       "      <td>AGO</td>\n",
       "      <td>24</td>\n",
       "    </tr>\n",
       "    <tr>\n",
       "      <th>59</th>\n",
       "      <td>Argentina</td>\n",
       "      <td>Americas</td>\n",
       "      <td>2007</td>\n",
       "      <td>75.320</td>\n",
       "      <td>40301927</td>\n",
       "      <td>12779.379640</td>\n",
       "      <td>ARG</td>\n",
       "      <td>32</td>\n",
       "    </tr>\n",
       "    <tr>\n",
       "      <th>...</th>\n",
       "      <td>...</td>\n",
       "      <td>...</td>\n",
       "      <td>...</td>\n",
       "      <td>...</td>\n",
       "      <td>...</td>\n",
       "      <td>...</td>\n",
       "      <td>...</td>\n",
       "      <td>...</td>\n",
       "    </tr>\n",
       "    <tr>\n",
       "      <th>1655</th>\n",
       "      <td>Vietnam</td>\n",
       "      <td>Asia</td>\n",
       "      <td>2007</td>\n",
       "      <td>74.249</td>\n",
       "      <td>85262356</td>\n",
       "      <td>2441.576404</td>\n",
       "      <td>VNM</td>\n",
       "      <td>704</td>\n",
       "    </tr>\n",
       "    <tr>\n",
       "      <th>1667</th>\n",
       "      <td>West Bank and Gaza</td>\n",
       "      <td>Asia</td>\n",
       "      <td>2007</td>\n",
       "      <td>73.422</td>\n",
       "      <td>4018332</td>\n",
       "      <td>3025.349798</td>\n",
       "      <td>PSE</td>\n",
       "      <td>275</td>\n",
       "    </tr>\n",
       "    <tr>\n",
       "      <th>1679</th>\n",
       "      <td>Yemen, Rep.</td>\n",
       "      <td>Asia</td>\n",
       "      <td>2007</td>\n",
       "      <td>62.698</td>\n",
       "      <td>22211743</td>\n",
       "      <td>2280.769906</td>\n",
       "      <td>YEM</td>\n",
       "      <td>887</td>\n",
       "    </tr>\n",
       "    <tr>\n",
       "      <th>1691</th>\n",
       "      <td>Zambia</td>\n",
       "      <td>Africa</td>\n",
       "      <td>2007</td>\n",
       "      <td>42.384</td>\n",
       "      <td>11746035</td>\n",
       "      <td>1271.211593</td>\n",
       "      <td>ZMB</td>\n",
       "      <td>894</td>\n",
       "    </tr>\n",
       "    <tr>\n",
       "      <th>1703</th>\n",
       "      <td>Zimbabwe</td>\n",
       "      <td>Africa</td>\n",
       "      <td>2007</td>\n",
       "      <td>43.487</td>\n",
       "      <td>12311143</td>\n",
       "      <td>469.709298</td>\n",
       "      <td>ZWE</td>\n",
       "      <td>716</td>\n",
       "    </tr>\n",
       "  </tbody>\n",
       "</table>\n",
       "<p>142 rows × 8 columns</p>\n",
       "</div>"
      ],
      "text/plain": [
       "                 country continent  year  lifeExp       pop     gdpPercap   \n",
       "11           Afghanistan      Asia  2007   43.828  31889923    974.580338  \\\n",
       "23               Albania    Europe  2007   76.423   3600523   5937.029526   \n",
       "35               Algeria    Africa  2007   72.301  33333216   6223.367465   \n",
       "47                Angola    Africa  2007   42.731  12420476   4797.231267   \n",
       "59             Argentina  Americas  2007   75.320  40301927  12779.379640   \n",
       "...                  ...       ...   ...      ...       ...           ...   \n",
       "1655             Vietnam      Asia  2007   74.249  85262356   2441.576404   \n",
       "1667  West Bank and Gaza      Asia  2007   73.422   4018332   3025.349798   \n",
       "1679         Yemen, Rep.      Asia  2007   62.698  22211743   2280.769906   \n",
       "1691              Zambia    Africa  2007   42.384  11746035   1271.211593   \n",
       "1703            Zimbabwe    Africa  2007   43.487  12311143    469.709298   \n",
       "\n",
       "     iso_alpha  iso_num  \n",
       "11         AFG        4  \n",
       "23         ALB        8  \n",
       "35         DZA       12  \n",
       "47         AGO       24  \n",
       "59         ARG       32  \n",
       "...        ...      ...  \n",
       "1655       VNM      704  \n",
       "1667       PSE      275  \n",
       "1679       YEM      887  \n",
       "1691       ZMB      894  \n",
       "1703       ZWE      716  \n",
       "\n",
       "[142 rows x 8 columns]"
      ]
     },
     "execution_count": 318,
     "metadata": {},
     "output_type": "execute_result"
    }
   ],
   "source": [
    "df"
   ]
  },
  {
   "cell_type": "code",
   "execution_count": 350,
   "metadata": {},
   "outputs": [
    {
     "data": {
      "application/vnd.plotly.v1+json": {
       "config": {
        "plotlyServerURL": "https://plot.ly"
       },
       "data": [
        {
         "branchvalues": "total",
         "customdata": [
          [
           119.22,
           "Sakshi"
          ],
          [
           121.75777777777778,
           "Sakshi"
          ],
          [
           123.09305555555555,
           "Sakshi"
          ],
          [
           75.67527777777778,
           "Sakshi"
          ],
          [
           365.9627777777778,
           "TV5"
          ],
          [
           109.14777777777778,
           "Sakshi"
          ],
          [
           396.91305555555556,
           "TV5"
          ],
          [
           578.3091666666667,
           "ABN"
          ],
          [
           353.5102777777778,
           "TV5"
          ],
          [
           104.62333333333333,
           "Sakshi"
          ],
          [
           504.7708333333333,
           "ABN"
          ],
          [
           409.0022222222222,
           "TV5"
          ],
          [
           796.4227777777778,
           "ABN"
          ],
          [
           169.55916666666667,
           "TV9"
          ],
          [
           118.95111111111112,
           "Sakshi"
          ],
          [
           348.8541666666667,
           "TV5"
          ],
          [
           222.36416666666668,
           "TV9"
          ],
          [
           234.21277777777777,
           "TV9"
          ],
          [
           141.54527777777778,
           "Sakshi"
          ],
          [
           446.8,
           "TV5"
          ],
          [
           105.39722222222223,
           "Sakshi"
          ],
          [
           640.7333333333333,
           "ABN"
          ],
          [
           233.54194444444445,
           "TV9"
          ],
          [
           602.3130555555556,
           "ABN"
          ],
          [
           178.52972222222223,
           "TV9"
          ],
          [
           119.67888888888889,
           "Sakshi"
          ],
          [
           555.9836111111111,
           "ABN"
          ],
          [
           370.25055555555554,
           "TV5"
          ],
          [
           566.0383333333333,
           "ABN"
          ],
          [
           424.06111111111113,
           "TV5"
          ],
          [
           80.43527777777778,
           "Sakshi"
          ],
          [
           606.0247222222222,
           "ABN"
          ],
          [
           410.8038888888889,
           "TV5"
          ],
          [
           531.5325,
           "ABN"
          ],
          [
           186.63,
           "TV9"
          ],
          [
           362.4191666666667,
           "TV5"
          ],
          [
           344.1561111111111,
           "TV5"
          ],
          [
           230.25194444444443,
           "TV9"
          ],
          [
           279.3827777777778,
           "TV5"
          ],
          [
           94.6925,
           "Sakshi"
          ],
          [
           153.71138888888888,
           "TV9"
          ],
          [
           167.2588888888889,
           "TV9"
          ],
          [
           232.5363888888889,
           "TV9"
          ],
          [
           578.2933333333333,
           "ABN"
          ],
          [
           111.14944444444444,
           "Sakshi"
          ],
          [
           596.3247222222222,
           "ABN"
          ],
          [
           186.77305555555554,
           "TV9"
          ],
          [
           404.9525,
           "TV5"
          ],
          [
           537.9886111111111,
           "ABN"
          ],
          [
           361.8,
           "TV5"
          ],
          [
           534.3547222222222,
           "ABN"
          ],
          [
           71.86083333333333,
           "Sakshi"
          ],
          [
           705.9705555555555,
           "ABN"
          ],
          [
           207.42027777777778,
           "TV9"
          ],
          [
           109.33111111111111,
           "Sakshi"
          ],
          [
           626.4022222222222,
           "ABN"
          ],
          [
           180.1913888888889,
           "TV9"
          ],
          [
           332.02694444444444,
           "TV5"
          ],
          [
           355.8613888888889,
           "TV5"
          ],
          [
           115.18777777777778,
           "Sakshi"
          ],
          [
           120.19972222222222,
           "Sakshi"
          ],
          [
           686.7008333333333,
           "ABN"
          ],
          [
           353.4636111111111,
           "TV5"
          ],
          [
           648.3688888888889,
           "ABN"
          ],
          [
           122.68916666666667,
           "Sakshi"
          ],
          [
           405.46777777777777,
           "TV5"
          ],
          [
           329.88666666666666,
           "TV5"
          ],
          [
           626.2494444444444,
           "ABN"
          ],
          [
           210.34416666666667,
           "TV9"
          ],
          [
           519.5477777777778,
           "ABN"
          ],
          [
           74.71888888888888,
           "Sakshi"
          ],
          [
           102.42361111111111,
           "Sakshi"
          ],
          [
           368.76,
           "TV5"
          ],
          [
           187.43527777777777,
           "TV9"
          ],
          [
           631.3236111111111,
           "ABN"
          ],
          [
           231.89305555555555,
           "TV9"
          ],
          [
           354.3352777777778,
           "TV5"
          ],
          [
           130.99972222222223,
           "Sakshi"
          ],
          [
           523.0738888888889,
           "ABN"
          ],
          [
           219.38555555555556,
           "TV9"
          ],
          [
           61.945277777777775,
           "Sakshi"
          ],
          [
           103.90444444444445,
           "Sakshi"
          ],
          [
           221.61444444444444,
           "TV9"
          ],
          [
           131.52083333333334,
           "Sakshi"
          ],
          [
           397.86583333333334,
           "TV5"
          ],
          [
           146.5611111111111,
           "TV9"
          ],
          [
           323.2391666666667,
           "TV5"
          ],
          [
           135.2277777777778,
           "Sakshi"
          ],
          [
           527.57,
           "ABN"
          ],
          [
           229.89944444444444,
           "TV9"
          ],
          [
           217.89777777777778,
           "TV9"
          ],
          [
           117.465,
           "Sakshi"
          ],
          [
           370.49861111111113,
           "TV5"
          ],
          [
           97.07194444444444,
           "Sakshi"
          ],
          [
           554.7011111111111,
           "ABN"
          ],
          [
           337.2727777777778,
           "TV5"
          ],
          [
           205.9961111111111,
           "TV9"
          ],
          [
           187.07805555555555,
           "TV9"
          ],
          [
           656.4447222222223,
           "ABN"
          ],
          [
           238.56805555555556,
           "TV9"
          ],
          [
           161.91305555555556,
           "TV9"
          ],
          [
           354.15555555555557,
           "TV5"
          ],
          [
           117.01083333333334,
           "Sakshi"
          ],
          [
           175.34666666666666,
           "TV9"
          ],
          [
           110.84777777777778,
           "Sakshi"
          ],
          [
           663.2536111111111,
           "ABN"
          ],
          [
           720.0530555555556,
           "ABN"
          ],
          [
           216.76666666666668,
           "TV9"
          ],
          [
           127.37,
           "Sakshi"
          ],
          [
           165.77,
           "TV9"
          ],
          [
           340.02416666666664,
           "TV5"
          ],
          [
           113.21305555555556,
           "Sakshi"
          ],
          [
           104.48222222222222,
           "Sakshi"
          ],
          [
           414.5036111111111,
           "TV5"
          ],
          [
           426.1661111111111,
           "TV5"
          ],
          [
           175.15583333333333,
           "TV9"
          ],
          [
           669.6613888888888,
           "ABN"
          ],
          [
           374.12388888888887,
           "TV5"
          ],
          [
           101.20777777777778,
           "Sakshi"
          ],
          [
           430.3797222222222,
           "TV5"
          ],
          [
           201.37166666666667,
           "TV9"
          ],
          [
           528.9961111111111,
           "ABN"
          ],
          [
           147.74305555555554,
           "Sakshi"
          ],
          [
           216.63333333333333,
           "TV9"
          ],
          [
           334.18583333333333,
           "TV5"
          ],
          [
           110.48055555555555,
           "Sakshi"
          ],
          [
           542.2072222222222,
           "ABN"
          ],
          [
           360.25305555555553,
           "TV5"
          ],
          [
           418.37805555555553,
           "TV5"
          ],
          [
           552.6288888888889,
           "ABN"
          ],
          [
           214.01416666666665,
           "TV9"
          ],
          [
           240.09833333333333,
           "TV9"
          ],
          [
           91.21972222222222,
           "Sakshi"
          ],
          [
           220.4688888888889,
           "TV9"
          ],
          [
           525.1497222222222,
           "ABN"
          ],
          [
           622.0358333333334,
           "ABN"
          ],
          [
           203.84305555555557,
           "TV9"
          ],
          [
           221.49027777777778,
           "TV9"
          ],
          [
           716.7577777777777,
           "ABN"
          ],
          [
           352.59527777777777,
           "TV5"
          ],
          [
           103.40416666666667,
           "Sakshi"
          ],
          [
           633.4602777777778,
           "ABN"
          ],
          [
           216.7111111111111,
           "TV9"
          ],
          [
           228.33305555555555,
           "TV9"
          ],
          [
           383.7344444444444,
           "TV5"
          ],
          [
           644.2102777777778,
           "ABN"
          ],
          [
           159.76083333333332,
           "TV9"
          ],
          [
           347.6069444444444,
           "TV5"
          ],
          [
           664.6197222222222,
           "ABN"
          ],
          [
           63.17611111111111,
           "Sakshi"
          ],
          [
           113,
           "Sakshi"
          ],
          [
           96.99333333333334,
           "Sakshi"
          ],
          [
           312.0811111111111,
           "TV5"
          ],
          [
           167.5825,
           "TV9"
          ],
          [
           358.26,
           "TV5"
          ],
          [
           635.9322222222222,
           "ABN"
          ],
          [
           166.8386111111111,
           "TV9"
          ],
          [
           184.98777777777778,
           "TV9"
          ],
          [
           440.5152777777778,
           "TV5"
          ],
          [
           381.4741666666667,
           "TV5"
          ],
          [
           135.76333333333332,
           "Sakshi"
          ],
          [
           192.5052777777778,
           "TV9"
          ],
          [
           307.7663888888889,
           "TV5"
          ],
          [
           103.73361111111112,
           "Sakshi"
          ],
          [
           578.7858333333334,
           "ABN"
          ],
          [
           169.12722222222223,
           "TV9"
          ],
          [
           201.86138888888888,
           "TV9"
          ],
          [
           305.12888888888887,
           "TV5"
          ],
          [
           424.5702777777778,
           "TV5"
          ],
          [
           93.07055555555556,
           "Sakshi"
          ],
          [
           101.00916666666667,
           "Sakshi"
          ],
          [
           172.51166666666666,
           "TV9"
          ],
          [
           130.78194444444443,
           "Sakshi"
          ],
          [
           110.68388888888889,
           "Sakshi"
          ],
          [
           639.6583333333333,
           "ABN"
          ],
          [
           133.56083333333333,
           "Sakshi"
          ],
          [
           566.6177777777777,
           "ABN"
          ],
          [
           322.80027777777775,
           "TV5"
          ],
          [
           127.55472222222222,
           "Sakshi"
          ],
          [
           672.8908333333334,
           "ABN"
          ],
          [
           185.16611111111112,
           "TV9"
          ],
          [
           433.11805555555554,
           "TV5"
          ],
          [
           115.01611111111112,
           "Sakshi"
          ],
          [
           533.6658333333334,
           "ABN"
          ],
          [
           203.33444444444444,
           "TV9"
          ],
          [
           357.61805555555554,
           "TV5"
          ],
          [
           116.08694444444444,
           "Sakshi"
          ],
          [
           668.5088888888889,
           "ABN"
          ],
          [
           675.4913888888889,
           "ABN"
          ],
          [
           211.02055555555555,
           "TV9"
          ],
          [
           419.75055555555554,
           "TV5"
          ],
          [
           138.5888888888889,
           "Sakshi"
          ],
          [
           254.76305555555555,
           "TV5"
          ],
          [
           229.58194444444445,
           "TV9"
          ],
          [
           631.8986111111111,
           "ABN"
          ],
          [
           396.8986111111111,
           "TV5"
          ],
          [
           703.4947222222222,
           "ABN"
          ],
          [
           410.60583333333335,
           "TV5"
          ],
          [
           232.4661111111111,
           "TV9"
          ],
          [
           182.43166666666667,
           "TV9"
          ],
          [
           70.23972222222223,
           "Sakshi"
          ],
          [
           126.1975,
           "Sakshi"
          ],
          [
           688.7125,
           "ABN"
          ],
          [
           356.5877777777778,
           "TV5"
          ],
          [
           160.03694444444446,
           "TV9"
          ],
          [
           134.02805555555557,
           "Sakshi"
          ],
          [
           90.67916666666666,
           "Sakshi"
          ],
          [
           615.8772222222223,
           "ABN"
          ],
          [
           118.38083333333333,
           "Sakshi"
          ],
          [
           180.48833333333334,
           "TV9"
          ],
          [
           795.1566666666666,
           "ABN"
          ],
          [
           123.76305555555555,
           "Sakshi"
          ],
          [
           646.5925,
           "ABN"
          ],
          [
           178.44305555555556,
           "TV9"
          ],
          [
           328.7386111111111,
           "TV5"
          ],
          [
           192.95833333333334,
           "TV9"
          ],
          [
           103.28611111111111,
           "Sakshi"
          ],
          [
           130.86305555555555,
           "Sakshi"
          ],
          [
           99.49638888888889,
           "Sakshi"
          ],
          [
           603.7625,
           "ABN"
          ],
          [
           102.3075,
           "Sakshi"
          ],
          [
           550.9536111111111,
           "ABN"
          ],
          [
           133.71722222222223,
           "Sakshi"
          ],
          [
           137.7086111111111,
           "Sakshi"
          ],
          [
           209.42333333333335,
           "TV9"
          ],
          [
           184.66194444444446,
           "TV9"
          ],
          [
           110.62416666666667,
           "Sakshi"
          ],
          [
           591.5825,
           "ABN"
          ],
          [
           273.6502777777778,
           "TV5"
          ],
          [
           79.80944444444444,
           "Sakshi"
          ],
          [
           234.6825,
           "TV9"
          ],
          [
           565.4533333333334,
           "ABN"
          ],
          [
           63.27527777777778,
           "Sakshi"
          ],
          [
           408.57472222222225,
           "TV5"
          ],
          [
           355.56083333333333,
           "TV5"
          ],
          [
           617.6930555555556,
           "ABN"
          ],
          [
           81.18583333333333,
           "Sakshi"
          ],
          [
           371.72194444444443,
           "TV5"
          ],
          [
           193.0586111111111,
           "TV9"
          ],
          [
           333.81361111111113,
           "TV5"
          ],
          [
           615.5625,
           "ABN"
          ],
          [
           595.1797222222223,
           "ABN"
          ],
          [
           140.00166666666667,
           "Sakshi"
          ],
          [
           573.1141666666666,
           "ABN"
          ],
          [
           349.9461111111111,
           "TV5"
          ],
          [
           165.07722222222222,
           "TV9"
          ],
          [
           580.0377777777778,
           "ABN"
          ],
          [
           437.2052777777778,
           "TV5"
          ],
          [
           88.68416666666667,
           "Sakshi"
          ],
          [
           409.55361111111114,
           "TV5"
          ],
          [
           203.28916666666666,
           "TV9"
          ],
          [
           545.1725,
           "ABN"
          ],
          [
           143.8697222222222,
           "Sakshi"
          ],
          [
           325.65194444444444,
           "TV5"
          ],
          [
           652.8036111111111,
           "ABN"
          ],
          [
           203.9561111111111,
           "TV9"
          ],
          [
           110.34444444444445,
           "Sakshi"
          ],
          [
           198.855,
           "TV9"
          ],
          [
           209.16944444444445,
           "TV9"
          ],
          [
           224.24166666666667,
           "TV9"
          ],
          [
           213.3961111111111,
           "TV9"
          ],
          [
           631.1619444444444,
           "ABN"
          ],
          [
           292.7008333333333,
           "TV5"
          ],
          [
           600.9622222222222,
           "ABN"
          ],
          [
           359.4352777777778,
           "TV5"
          ],
          [
           199.06166666666667,
           "TV9"
          ],
          [
           162.00222222222223,
           "Sakshi"
          ],
          [
           714.1086111111111,
           "ABN"
          ],
          [
           115.34416666666667,
           "Sakshi"
          ],
          [
           102.7136111111111,
           "Sakshi"
          ],
          [
           187.66055555555556,
           "TV9"
          ],
          [
           363.43611111111113,
           "TV5"
          ],
          [
           350.9847222222222,
           "TV5"
          ],
          [
           553.5525,
           "ABN"
          ],
          [
           217.1038888888889,
           "TV9"
          ],
          [
           174.72611111111112,
           "TV9"
          ],
          [
           105.87666666666667,
           "Sakshi"
          ],
          [
           117.52805555555555,
           "Sakshi"
          ],
          [
           708.5944444444444,
           "ABN"
          ],
          [
           377.74611111111113,
           "TV5"
          ],
          [
           124.74805555555555,
           "TV9"
          ],
          [
           407.0308333333333,
           "TV5"
          ],
          [
           398.93638888888887,
           "TV5"
          ],
          [
           554.7388888888889,
           "ABN"
          ],
          [
           585.5436111111111,
           "ABN"
          ],
          [
           93.97416666666666,
           "Sakshi"
          ],
          [
           288.8877777777778,
           "TV5"
          ],
          [
           157.69694444444445,
           "TV9"
          ],
          [
           719.1958333333333,
           "ABN"
          ],
          [
           105.55444444444444,
           "Sakshi"
          ],
          [
           169.80083333333334,
           "Sakshi"
          ],
          [
           557.0841666666666,
           "ABN"
          ],
          [
           419.3227777777778,
           "TV5"
          ],
          [
           224.04611111111112,
           "TV9"
          ],
          [
           282.37388888888887,
           "TV5"
          ],
          [
           145.6638888888889,
           "Sakshi"
          ],
          [
           364.53527777777776,
           "TV5"
          ],
          [
           138.26333333333332,
           "Sakshi"
          ],
          [
           425.8461111111111,
           "TV5"
          ],
          [
           62.93527777777778,
           "Sakshi"
          ],
          [
           177.095,
           "TV9"
          ],
          [
           622.9883333333333,
           "ABN"
          ],
          [
           244.1952777777778,
           "TV9"
          ],
          [
           389.23583333333335,
           "TV5"
          ],
          [
           338.1061111111111,
           "TV5"
          ],
          [
           402.4480555555556,
           "TV5"
          ],
          [
           180.88,
           "TV9"
          ],
          [
           325.9327777777778,
           "TV5"
          ],
          [
           390.2288888888889,
           "TV5"
          ],
          [
           628.0130555555555,
           "ABN"
          ],
          [
           116.38888888888889,
           "Sakshi"
          ],
          [
           652.6136111111111,
           "ABN"
          ],
          [
           90.39861111111111,
           "Sakshi"
          ],
          [
           711.8469444444445,
           "ABN"
          ],
          [
           412.3361111111111,
           "TV5"
          ],
          [
           613.0744444444445,
           "ABN"
          ],
          [
           793.1786111111111,
           "ABN"
          ],
          [
           448.59277777777777,
           "TV5"
          ],
          [
           212.92527777777778,
           "TV9"
          ],
          [
           196.91444444444446,
           "TV9"
          ],
          [
           734.2383333333333,
           "ABN"
          ],
          [
           385.39,
           "TV5"
          ],
          [
           101.27111111111111,
           "Sakshi"
          ],
          [
           226.42472222222221,
           "TV9"
          ],
          [
           332.0186111111111,
           "TV5"
          ],
          [
           67.01916666666666,
           "Sakshi"
          ],
          [
           116.03472222222223,
           "Sakshi"
          ],
          [
           605.8475,
           "ABN"
          ],
          [
           285.46722222222223,
           "TV5"
          ],
          [
           201.6363888888889,
           "TV9"
          ],
          [
           118.02277777777778,
           "Sakshi"
          ],
          [
           583.6947222222223,
           "ABN"
          ],
          [
           188.5,
           "TV9"
          ],
          [
           584.1263888888889,
           "ABN"
          ],
          [
           388.25444444444446,
           "TV5"
          ],
          [
           590.7025,
           "ABN"
          ],
          [
           156.6375,
           "TV9"
          ],
          [
           215.4525,
           "TV9"
          ],
          [
           216.83694444444444,
           "TV9"
          ],
          [
           152.0113888888889,
           "TV9"
          ],
          [
           210.85472222222222,
           "TV9"
          ],
          [
           134.885,
           "Sakshi"
          ],
          [
           89.55444444444444,
           "Sakshi"
          ],
          [
           550.7686111111111,
           "ABN"
          ],
          [
           215.23916666666668,
           "TV9"
          ],
          [
           356.35777777777776,
           "TV5"
          ],
          [
           546.4277777777778,
           "ABN"
          ],
          [
           202.52833333333334,
           "TV9"
          ],
          [
           657.3386111111112,
           "ABN"
          ],
          [
           351.5419444444444,
           "TV5"
          ],
          [
           226.36194444444445,
           "TV9"
          ],
          [
           362.30555555555554,
           "TV5"
          ],
          [
           152.81861111111112,
           "Sakshi"
          ],
          [
           395.6388888888889,
           "TV5"
          ],
          [
           166.75,
           "TV9"
          ],
          [
           366.33,
           "TV5"
          ],
          [
           97.3775,
           "Sakshi"
          ],
          [
           200.825,
           "TV9"
          ],
          [
           110.19972222222222,
           "Sakshi"
          ],
          [
           267.0425,
           "TV9"
          ],
          [
           56.33111111111111,
           "Sakshi"
          ],
          [
           143.97833333333332,
           "TV9"
          ],
          [
           177.59305555555557,
           "TV9"
          ],
          [
           61.65611111111111,
           "Sakshi"
          ],
          [
           372.36833333333334,
           "TV5"
          ],
          [
           644.4841666666666,
           "ABN"
          ],
          [
           99.06361111111111,
           "Sakshi"
          ],
          [
           620.7663888888889,
           "ABN"
          ],
          [
           76.49305555555556,
           "Sakshi"
          ],
          [
           164.34416666666667,
           "TV9"
          ],
          [
           614.5752777777777,
           "ABN"
          ],
          [
           170.79694444444445,
           "TV9"
          ],
          [
           198.71305555555554,
           "TV9"
          ],
          [
           185.39416666666668,
           "TV9"
          ],
          [
           105.72527777777778,
           "Sakshi"
          ],
          [
           225.70694444444445,
           "TV9"
          ],
          [
           326.25333333333333,
           "TV5"
          ],
          [
           327.97027777777777,
           "TV5"
          ],
          [
           558.8097222222223,
           "ABN"
          ],
          [
           372.935,
           "TV5"
          ],
          [
           186.08388888888888,
           "TV9"
          ],
          [
           102.04194444444444,
           "Sakshi"
          ],
          [
           464.6277777777778,
           "TV5"
          ],
          [
           483.0225,
           "ABN"
          ],
          [
           167.06555555555556,
           "TV9"
          ],
          [
           215.30666666666667,
           "TV9"
          ],
          [
           712.7727777777778,
           "ABN"
          ],
          [
           195.77277777777778,
           "TV9"
          ],
          [
           316.72305555555556,
           "TV5"
          ],
          [
           159.50666666666666,
           "TV9"
          ],
          [
           159.83194444444445,
           "TV9"
          ],
          [
           353.49083333333334,
           "TV5"
          ],
          [
           379.37638888888887,
           "TV5"
          ],
          [
           628.6827777777778,
           "ABN"
          ],
          [
           340.02472222222224,
           "TV5"
          ],
          [
           290.49,
           "TV5"
          ],
          [
           713.5330555555555,
           "ABN"
          ],
          [
           200.73666666666668,
           "TV9"
          ],
          [
           92.27388888888889,
           "Sakshi"
          ],
          [
           388.075,
           "TV5"
          ],
          [
           345.765,
           "TV5"
          ],
          [
           185.38222222222223,
           "TV9"
          ],
          [
           253.8525,
           "TV5"
          ],
          [
           512.7677777777777,
           "ABN"
          ],
          [
           109.39138888888888,
           "Sakshi"
          ],
          [
           644.3036111111111,
           "ABN"
          ],
          [
           114.02722222222222,
           "Sakshi"
          ],
          [
           370.3952777777778,
           "TV5"
          ],
          [
           646.4355555555555,
           "ABN"
          ],
          [
           204.39888888888888,
           "TV9"
          ],
          [
           109.81611111111111,
           "Sakshi"
          ],
          [
           115.565,
           "Sakshi"
          ],
          [
           322.1625,
           "TV5"
          ],
          [
           362.9838888888889,
           "TV5"
          ],
          [
           641.3911111111111,
           "ABN"
          ],
          [
           90.1975,
           "Sakshi"
          ],
          [
           132.32777777777778,
           "Sakshi"
          ],
          [
           236.82083333333333,
           "TV9"
          ],
          [
           650.1913888888889,
           "ABN"
          ],
          [
           360.73277777777776,
           "TV5"
          ],
          [
           374.75305555555553,
           "TV5"
          ],
          [
           175.94944444444445,
           "TV9"
          ],
          [
           261.5711111111111,
           "TV5"
          ],
          [
           73.4811111111111,
           "Sakshi"
          ],
          [
           196.91583333333332,
           "TV9"
          ],
          [
           604.3744444444444,
           "ABN"
          ],
          [
           173.15277777777777,
           "Sakshi"
          ],
          [
           619.1916666666667,
           "ABN"
          ],
          [
           678.1508333333334,
           "ABN"
          ],
          [
           739.2833333333333,
           "ABN"
          ],
          [
           155.66027777777776,
           "Sakshi"
          ],
          [
           423.1247222222222,
           "TV5"
          ],
          [
           669.9805555555556,
           "ABN"
          ],
          [
           152.2463888888889,
           "TV9"
          ],
          [
           178.8672222222222,
           "TV9"
          ],
          [
           329.18916666666667,
           "TV5"
          ],
          [
           725.8494444444444,
           "ABN"
          ],
          [
           536.8627777777778,
           "ABN"
          ],
          [
           525.0786111111111,
           "ABN"
          ],
          [
           225.1275,
           "TV9"
          ],
          [
           431.8644444444444,
           "TV5"
          ],
          [
           385.03277777777777,
           "TV5"
          ],
          [
           261.1413888888889,
           "TV5"
          ],
          [
           111.955,
           "Sakshi"
          ],
          [
           490.4766666666667,
           "TV5"
          ],
          [
           193.26583333333335,
           "TV9"
          ],
          [
           562.1041666666666,
           "ABN"
          ],
          [
           689.4219444444444,
           "ABN"
          ],
          [
           119.345,
           "Sakshi"
          ],
          [
           579.4966666666667,
           "ABN"
          ],
          [
           65.22805555555556,
           "Sakshi"
          ],
          [
           571.5005555555556,
           "ABN"
          ],
          [
           191.39333333333335,
           "TV9"
          ],
          [
           609.6672222222222,
           "ABN"
          ],
          [
           114.44916666666667,
           "Sakshi"
          ],
          [
           173.25805555555556,
           "TV9"
          ],
          [
           313.02722222222224,
           "TV5"
          ],
          [
           632.4672222222222,
           "ABN"
          ],
          [
           82.77638888888889,
           "Sakshi"
          ],
          [
           85.84361111111112,
           "Sakshi"
          ],
          [
           303.7261111111111,
           "TV5"
          ],
          [
           578.0502777777778,
           "ABN"
          ],
          [
           467.0913888888889,
           "ABN"
          ],
          [
           369.8377777777778,
           "TV5"
          ],
          [
           201.0875,
           "TV9"
          ],
          [
           332.4486111111111,
           "TV5"
          ],
          [
           196.5636111111111,
           "TV9"
          ],
          [
           317.6380555555556,
           "TV5"
          ],
          [
           153.2875,
           "TV9"
          ],
          [
           434.5036111111111,
           "TV5"
          ],
          [
           108.72722222222222,
           "Sakshi"
          ],
          [
           562.4247222222223,
           "ABN"
          ],
          [
           231.4,
           "TV9"
          ],
          [
           734.7147222222222,
           "ABN"
          ],
          [
           65.83361111111111,
           "Sakshi"
          ],
          [
           125.55972222222222,
           "Sakshi"
          ],
          [
           597.3944444444444,
           "ABN"
          ],
          [
           252.9338888888889,
           "TV5"
          ],
          [
           136.01777777777778,
           "Sakshi"
          ],
          [
           377.6769444444444,
           "TV5"
          ],
          [
           766.0786111111111,
           "ABN"
          ],
          [
           52.285833333333336,
           "Sakshi"
          ],
          [
           221.93333333333334,
           "TV9"
          ],
          [
           619.6516666666666,
           "ABN"
          ],
          [
           534.4441666666667,
           "ABN"
          ],
          [
           400.17805555555555,
           "TV5"
          ],
          [
           171.75805555555556,
           "TV9"
          ],
          [
           85.15777777777778,
           "Sakshi"
          ],
          [
           49.99166666666667,
           "Sakshi"
          ],
          [
           586.3583333333333,
           "ABN"
          ],
          [
           516.6975,
           "ABN"
          ],
          [
           224.89166666666668,
           "TV9"
          ],
          [
           393.8566666666667,
           "TV5"
          ],
          [
           665.5055555555556,
           "ABN"
          ],
          [
           646.9838888888889,
           "ABN"
          ],
          [
           72.66222222222223,
           "Sakshi"
          ],
          [
           546.0844444444444,
           "ABN"
          ],
          [
           60.555,
           "Sakshi"
          ],
          [
           413.6775,
           "TV5"
          ],
          [
           350.4888888888889,
           "TV5"
          ],
          [
           140.82888888888888,
           "Sakshi"
          ],
          [
           514.8047222222223,
           "ABN"
          ],
          [
           204.57888888888888,
           "TV9"
          ],
          [
           66.88,
           "Sakshi"
          ],
          [
           92.2538888888889,
           "Sakshi"
          ],
          [
           442.8097222222222,
           "TV5"
          ],
          [
           537.7366666666667,
           "ABN"
          ],
          [
           470.37666666666667,
           "TV5"
          ],
          [
           516.2205555555555,
           "ABN"
          ],
          [
           189.0913888888889,
           "TV9"
          ],
          [
           585.4041666666667,
           "ABN"
          ],
          [
           142.81277777777777,
           "Sakshi"
          ],
          [
           259.0475,
           "TV5"
          ],
          [
           392.75,
           "TV5"
          ],
          [
           146.01083333333332,
           "Sakshi"
          ],
          [
           653.9944444444444,
           "ABN"
          ],
          [
           223.66972222222222,
           "TV9"
          ],
          [
           300.51416666666665,
           "TV5"
          ],
          [
           93.17027777777778,
           "Sakshi"
          ],
          [
           408.70666666666665,
           "TV5"
          ],
          [
           205.89083333333335,
           "TV9"
          ],
          [
           241.8322222222222,
           "TV9"
          ],
          [
           344.1013888888889,
           "TV5"
          ],
          [
           103.09138888888889,
           "Sakshi"
          ],
          [
           613.525,
           "ABN"
          ],
          [
           727.9047222222222,
           "ABN"
          ],
          [
           606.2441666666666,
           "ABN"
          ],
          [
           219.09527777777777,
           "TV9"
          ],
          [
           194.76194444444445,
           "TV9"
          ],
          [
           103.13472222222222,
           "Sakshi"
          ],
          [
           216.37305555555557,
           "TV9"
          ],
          [
           206.9088888888889,
           "TV9"
          ],
          [
           608.8019444444444,
           "ABN"
          ],
          [
           303.5852777777778,
           "TV5"
          ],
          [
           138.88694444444445,
           "Sakshi"
          ],
          [
           171.68166666666667,
           "TV9"
          ],
          [
           130.81527777777777,
           "Sakshi"
          ],
          [
           339.8311111111111,
           "TV5"
          ],
          [
           725.4066666666666,
           "ABN"
          ],
          [
           340.7522222222222,
           "TV5"
          ],
          [
           165.86222222222221,
           "TV9"
          ],
          [
           167.19833333333332,
           "Sakshi"
          ],
          [
           368.21805555555557,
           "TV5"
          ],
          [
           74.8536111111111,
           "Sakshi"
          ],
          [
           630.9466666666667,
           "ABN"
          ],
          [
           651.5097222222222,
           "ABN"
          ],
          [
           82.94722222222222,
           "Sakshi"
          ],
          [
           729.8138888888889,
           "ABN"
          ],
          [
           451.27777777777777,
           "TV5"
          ],
          [
           89.31666666666666,
           "Sakshi"
          ],
          [
           122.06083333333333,
           "Sakshi"
          ],
          [
           571.1638888888889,
           "ABN"
          ],
          [
           209.73666666666668,
           "TV9"
          ],
          [
           630.8947222222222,
           "ABN"
          ],
          [
           373.72055555555556,
           "TV5"
          ],
          [
           359.31388888888887,
           "TV5"
          ],
          [
           110.74472222222222,
           "Sakshi"
          ],
          [
           62.97888888888889,
           "Sakshi"
          ],
          [
           370.9166666666667,
           "TV5"
          ],
          [
           598.2180555555556,
           "ABN"
          ],
          [
           200.7238888888889,
           "TV9"
          ],
          [
           123.67138888888888,
           "Sakshi"
          ],
          [
           184.9038888888889,
           "TV9"
          ],
          [
           188.65833333333333,
           "TV9"
          ],
          [
           415.0002777777778,
           "TV5"
          ],
          [
           186.99555555555557,
           "TV9"
          ],
          [
           649.34,
           "ABN"
          ],
          [
           326.5780555555556,
           "TV5"
          ],
          [
           229.45777777777778,
           "TV9"
          ],
          [
           616.6366666666667,
           "ABN"
          ],
          [
           623.8358333333333,
           "ABN"
          ],
          [
           326.0475,
           "TV5"
          ],
          [
           217.12972222222223,
           "TV9"
          ],
          [
           530.4094444444445,
           "ABN"
          ],
          [
           177.99194444444444,
           "TV9"
          ],
          [
           194.97472222222223,
           "TV9"
          ],
          [
           103.04916666666666,
           "Sakshi"
          ],
          [
           103.17527777777778,
           "Sakshi"
          ],
          [
           486.08666666666664,
           "ABN"
          ],
          [
           368.64472222222224,
           "TV5"
          ],
          [
           502.64666666666665,
           "ABN"
          ],
          [
           100.255,
           "Sakshi"
          ],
          [
           126.82138888888889,
           "Sakshi"
          ],
          [
           358.2111111111111,
           "TV5"
          ],
          [
           418.5833333333333,
           "TV5"
          ],
          [
           189.53527777777776,
           "TV9"
          ],
          [
           131.825,
           "Sakshi"
          ],
          [
           743.1333333333333,
           "ABN"
          ],
          [
           221.76222222222222,
           "TV9"
          ],
          [
           170.2488888888889,
           "TV9"
          ],
          [
           231.38861111111112,
           "TV9"
          ],
          [
           372.98027777777776,
           "TV5"
          ],
          [
           185.19055555555556,
           "TV9"
          ],
          [
           100.17138888888888,
           "Sakshi"
          ],
          [
           532.6458333333334,
           "ABN"
          ],
          [
           309.3175,
           "TV5"
          ],
          [
           112.10888888888888,
           "Sakshi"
          ],
          [
           581.4697222222222,
           "ABN"
          ],
          [
           65.74888888888889,
           "Sakshi"
          ],
          [
           507.8352777777778,
           "ABN"
          ],
          [
           "(?)",
           "ABN"
          ],
          [
           "(?)",
           "Sakshi"
          ],
          [
           "(?)",
           "TV5"
          ],
          [
           "(?)",
           "TV9"
          ],
          [
           "(?)",
           "(?)"
          ]
         ],
         "domain": {
          "x": [
           0,
           1
          ],
          "y": [
           0,
           1
          ]
         },
         "hovertemplate": "labels=%{label}<br>view_count=%{value}<br>parent=%{parent}<br>id=%{id}<br>duration=%{customdata[0]}<br>uploader=%{customdata[1]}<extra></extra>",
         "ids": [
          "Media/Sakshi/tag129",
          "Media/Sakshi/tag60",
          "Media/Sakshi/tag136",
          "Media/Sakshi/tag6",
          "Media/TV5/tag59",
          "Media/Sakshi/tag59",
          "Media/TV5/tag137",
          "Media/ABN/tag138",
          "Media/TV5/tag58",
          "Media/Sakshi/tag58",
          "Media/ABN/tag58",
          "Media/TV5/tag57",
          "Media/ABN/tag14",
          "Media/TV9/tag56",
          "Media/Sakshi/tag55",
          "Media/TV5/tag54",
          "Media/TV9/tag140",
          "Media/TV9/tag53",
          "Media/Sakshi/tag141",
          "Media/TV5/tag141",
          "Media/Sakshi/tag53",
          "Media/ABN/tag53",
          "Media/TV9/tag52",
          "Media/ABN/tag52",
          "Media/TV9/tag60",
          "Media/Sakshi/tag61",
          "Media/ABN/tag135",
          "Media/TV5/tag61",
          "Media/ABN/tag125",
          "Media/TV5/tag125",
          "Media/Sakshi/tag70",
          "Media/ABN/tag127",
          "Media/TV5/tag7",
          "Media/ABN/tag7",
          "Media/TV9/tag69",
          "Media/TV5/tag69",
          "Media/TV5/tag128",
          "Media/TV9/tag128",
          "Media/TV5/tag129",
          "Media/Sakshi/tag51",
          "Media/TV9/tag129",
          "Media/TV9/tag67",
          "Media/TV9/tag13",
          "Media/ABN/tag130",
          "Media/Sakshi/tag67",
          "Media/ABN/tag67",
          "Media/TV9/tag66",
          "Media/TV5/tag64",
          "Media/ABN/tag133",
          "Media/TV5/tag62",
          "Media/ABN/tag134",
          "Media/Sakshi/tag134",
          "Media/ABN/tag69",
          "Media/TV9/tag49",
          "Media/Sakshi/tag49",
          "Media/ABN/tag49",
          "Media/TV9/tag37",
          "Media/TV5/tag18",
          "Media/TV5/tag37",
          "Media/Sakshi/tag37",
          "Media/Sakshi/tag19",
          "Media/ABN/tag37",
          "Media/TV5/tag36",
          "Media/ABN/tag35",
          "Media/Sakshi/tag2",
          "Media/TV5/tag2",
          "Media/TV5/tag34",
          "Media/ABN/tag18",
          "Media/TV9/tag33",
          "Media/ABN/tag32",
          "Media/Sakshi/tag31",
          "Media/Sakshi/tag21",
          "Media/TV5/tag21",
          "Media/TV9/tag21",
          "Media/ABN/tag30",
          "Media/TV9/tag3",
          "Media/TV5/tag22",
          "Media/Sakshi/tag3",
          "Media/ABN/tag3",
          "Media/TV9/tag24",
          "Media/Sakshi/tag32",
          "Media/Sakshi/tag124",
          "Media/TV9/tag17",
          "Media/Sakshi/tag17",
          "Media/TV5/tag47",
          "Media/TV9/tag46",
          "Media/TV5/tag46",
          "Media/Sakshi/tag46",
          "Media/ABN/tag46",
          "Media/TV9/tag145",
          "Media/TV9/tag44",
          "Media/Sakshi/tag146",
          "Media/TV5/tag44",
          "Media/Sakshi/tag44",
          "Media/ABN/tag147",
          "Media/TV5/tag38",
          "Media/TV9/tag42",
          "Media/TV9/tag148",
          "Media/ABN/tag149",
          "Media/TV9/tag41",
          "Media/TV9/tag149",
          "Media/TV5/tag41",
          "Media/Sakshi/tag15",
          "Media/TV9/tag40",
          "Media/Sakshi/tag40",
          "Media/ABN/tag16",
          "Media/ABN/tag4",
          "Media/TV9/tag38",
          "Media/Sakshi/tag148",
          "Media/TV9/tag72",
          "Media/TV5/tag25",
          "Media/Sakshi/tag85",
          "Media/Sakshi/tag8",
          "Media/TV5/tag87",
          "Media/TV5/tag117",
          "Media/TV9/tag8",
          "Media/ABN/tag80",
          "Media/TV5/tag80",
          "Media/Sakshi/tag116",
          "Media/TV5/tag91",
          "Media/TV9/tag81",
          "Media/ABN/tag115",
          "Media/Sakshi/tag82",
          "Media/TV9/tag90",
          "Media/TV5/tag90",
          "Media/Sakshi/tag79",
          "Media/ABN/tag90",
          "Media/TV5/tag113",
          "Media/TV5/tag83",
          "Media/ABN/tag9",
          "Media/TV9/tag107",
          "Media/TV9/tag84",
          "Media/Sakshi/tag74",
          "Media/TV9/tag85",
          "Media/ABN/tag86",
          "Media/ABN/tag111",
          "Media/TV9/tag110",
          "Media/TV9/tag86",
          "Media/ABN/tag89",
          "Media/TV5/tag109",
          "Media/Sakshi/tag83",
          "Media/ABN/tag79",
          "Media/TV9/tag87",
          "Media/TV9/tag74",
          "Media/TV5/tag78",
          "Media/ABN/tag75",
          "Media/TV9/tag121",
          "Media/TV5/tag76",
          "Media/ABN/tag76",
          "Media/Sakshi/tag122",
          "Media/Sakshi/tag43",
          "Media/Sakshi/tag9",
          "Media/TV5/tag42",
          "Media/TV9/tag95",
          "Media/TV5/tag43",
          "Media/ABN/tag99",
          "Media/TV9/tag9",
          "Media/TV9/tag98",
          "Media/TV5/tag98",
          "Media/TV5/tag9",
          "Media/Sakshi/tag42",
          "Media/TV9/tag29",
          "Media/TV5/tag29",
          "Media/Sakshi/tag29",
          "Media/ABN/tag29",
          "Media/TV9/tag27",
          "Media/TV9/tag89",
          "Media/TV5/tag89",
          "Media/TV5/tag26",
          "Media/Sakshi/tag89",
          "Media/Sakshi/tag99",
          "Media/TV9/tag88",
          "Media/Sakshi/tag88",
          "Media/Sakshi/tag26",
          "Media/ABN/tag42",
          "Media/Sakshi/tag90",
          "Media/ABN/tag98",
          "Media/TV5/tag95",
          "Media/Sakshi/tag95",
          "Media/ABN/tag95",
          "Media/TV9/tag94",
          "Media/TV5/tag94",
          "Media/Sakshi/tag94",
          "Media/ABN/tag94",
          "Media/TV9/tag93",
          "Media/TV5/tag93",
          "Media/Sakshi/tag93",
          "Media/ABN/tag96",
          "Media/ABN/tag93",
          "Media/TV9/tag92",
          "Media/TV5/tag92",
          "Media/Sakshi/tag96",
          "Media/TV5/tag96",
          "Media/TV9/tag96",
          "Media/ABN/tag97",
          "Media/TV5/tag39",
          "Media/ABN/tag92",
          "Media/TV5/tag99",
          "Media/TV9/tag4",
          "Media/TV9/tag91",
          "Media/Sakshi/tag97",
          "Media/Sakshi/tag91",
          "Media/ABN/tag91",
          "Media/TV5/tag97",
          "Media/TV9/tag97",
          "Media/Sakshi/tag98",
          "Media/Sakshi/tag92",
          "Media/ABN/tag74",
          "Media/Sakshi/tag87",
          "Media/TV9/tag65",
          "Media/ABN/tag66",
          "Media/Sakshi/tag66",
          "Media/ABN/tag8",
          "Media/TV9/tag79",
          "Media/TV5/tag79",
          "Media/TV9/tag78",
          "Media/Sakshi/tag68",
          "Media/Sakshi/tag78",
          "Media/Sakshi/tag77",
          "Media/ABN/tag26",
          "Media/Sakshi/tag69",
          "Media/ABN/tag77",
          "Media/Sakshi/tag76",
          "Media/Sakshi/tag65",
          "Media/TV9/tag75",
          "Media/TV9/tag7",
          "Media/Sakshi/tag75",
          "Media/ABN/tag70",
          "Media/TV5/tag70",
          "Media/Sakshi/tag71",
          "Media/TV9/tag71",
          "Media/ABN/tag72",
          "Media/Sakshi/tag72",
          "Media/TV5/tag72",
          "Media/TV5/tag74",
          "Media/ABN/tag73",
          "Media/Sakshi/tag73",
          "Media/TV5/tag73",
          "Media/TV9/tag73",
          "Media/TV5/tag75",
          "Media/ABN/tag88",
          "Media/ABN/tag65",
          "Media/Sakshi/tag64",
          "Media/ABN/tag87",
          "Media/TV5/tag5",
          "Media/TV9/tag5",
          "Media/ABN/tag51",
          "Media/TV5/tag86",
          "Media/Sakshi/tag86",
          "Media/TV5/tag84",
          "Media/TV9/tag54",
          "Media/ABN/tag55",
          "Media/Sakshi/tag84",
          "Media/TV5/tag55",
          "Media/ABN/tag84",
          "Media/TV9/tag83",
          "Media/Sakshi/tag57",
          "Media/TV9/tag64",
          "Media/TV9/tag57",
          "Media/TV9/tag58",
          "Media/TV9/tag82",
          "Media/ABN/tag59",
          "Media/TV5/tag82",
          "Media/ABN/tag82",
          "Media/TV5/tag6",
          "Media/TV9/tag6",
          "Media/Sakshi/tag81",
          "Media/ABN/tag81",
          "Media/Sakshi/tag80",
          "Media/Sakshi/tag62",
          "Media/TV9/tag62",
          "Media/TV5/tag63",
          "Media/TV5/tag8",
          "Media/ABN/tag83",
          "Media/TV9/tag30",
          "Media/TV9/tag99",
          "Media/Sakshi/tag142",
          "Media/Sakshi/tag121",
          "Media/ABN/tag21",
          "Media/TV5/tag132",
          "Media/TV9/tag135",
          "Media/TV5/tag11",
          "Media/TV5/tag147",
          "Media/ABN/tag20",
          "Media/ABN/tag131",
          "Media/Sakshi/tag144",
          "Media/TV5/tag124",
          "Media/TV9/tag12",
          "Media/ABN/tag121",
          "Media/Sakshi/tag107",
          "Media/Sakshi/tag135",
          "Media/ABN/tag129",
          "Media/TV5/tag104",
          "Media/TV9/tag126",
          "Media/TV5/tag102",
          "Media/Sakshi/tag140",
          "Media/TV5/tag127",
          "Media/Sakshi/tag128",
          "Media/TV5/tag17",
          "Media/Sakshi/tag120",
          "Media/TV9/tag132",
          "Media/ABN/tag64",
          "Media/TV9/tag63",
          "Media/TV5/tag131",
          "Media/TV5/tag65",
          "Media/TV5/tag66",
          "Media/TV9/tag130",
          "Media/TV5/tag130",
          "Media/TV5/tag67",
          "Media/ABN/tag68",
          "Media/Sakshi/tag13",
          "Media/ABN/tag132",
          "Media/Sakshi/tag133",
          "Media/ABN/tag62",
          "Media/TV5/tag133",
          "Media/ABN/tag141",
          "Media/ABN/tag54",
          "Media/TV5/tag140",
          "Media/TV9/tag14",
          "Media/TV9/tag55",
          "Media/ABN/tag56",
          "Media/TV5/tag56",
          "Media/Sakshi/tag14",
          "Media/TV9/tag139",
          "Media/TV5/tag139",
          "Media/Sakshi/tag139",
          "Media/Sakshi/tag63",
          "Media/ABN/tag139",
          "Media/TV5/tag138",
          "Media/TV9/tag137",
          "Media/Sakshi/tag137",
          "Media/ABN/tag6",
          "Media/TV9/tag136",
          "Media/ABN/tag136",
          "Media/TV5/tag60",
          "Media/ABN/tag61",
          "Media/TV9/tag134",
          "Media/TV9/tag25",
          "Media/TV9/tag133",
          "Media/TV9/tag138",
          "Media/TV9/tag68",
          "Media/Sakshi/tag25",
          "Media/Sakshi/tag7",
          "Media/ABN/tag112",
          "Media/TV9/tag111",
          "Media/TV5/tag85",
          "Media/ABN/tag110",
          "Media/TV9/tag11",
          "Media/ABN/tag11",
          "Media/TV5/tag88",
          "Media/TV9/tag108",
          "Media/TV5/tag108",
          "Media/Sakshi/tag108",
          "Media/TV5/tag107",
          "Media/TV9/tag106",
          "Media/TV5/tag106",
          "Media/Sakshi/tag106",
          "Media/TV9/tag105",
          "Media/Sakshi/tag105",
          "Media/TV9/tag103",
          "Media/Sakshi/tag101",
          "Media/TV9/tag10",
          "Media/TV9/tag1",
          "Media/Sakshi/tag0",
          "Media/TV5/tag112",
          "Media/ABN/tag13",
          "Media/Sakshi/tag113",
          "Media/ABN/tag114",
          "Media/Sakshi/tag126",
          "Media/TV9/tag141",
          "Media/ABN/tag71",
          "Media/TV9/tag125",
          "Media/TV9/tag124",
          "Media/TV9/tag123",
          "Media/Sakshi/tag123",
          "Media/TV9/tag122",
          "Media/TV5/tag122",
          "Media/TV5/tag121",
          "Media/ABN/tag120",
          "Media/TV5/tag77",
          "Media/TV9/tag119",
          "Media/Sakshi/tag119",
          "Media/TV5/tag118",
          "Media/ABN/tag118",
          "Media/TV9/tag117",
          "Media/TV9/tag116",
          "Media/ABN/tag116",
          "Media/TV9/tag114",
          "Media/TV5/tag114",
          "Media/TV9/tag113",
          "Media/TV9/tag70",
          "Media/TV5/tag134",
          "Media/TV5/tag23",
          "Media/ABN/tag40",
          "Media/TV5/tag40",
          "Media/TV5/tag15",
          "Media/ABN/tag41",
          "Media/TV9/tag22",
          "Media/Sakshi/tag23",
          "Media/TV5/tag149",
          "Media/TV5/tag4",
          "Media/TV9/tag23",
          "Media/TV5/tag28",
          "Media/ABN/tag43",
          "Media/Sakshi/tag147",
          "Media/ABN/tag44",
          "Media/Sakshi/tag28",
          "Media/TV5/tag146",
          "Media/ABN/tag28",
          "Media/TV9/tag28",
          "Media/Sakshi/tag22",
          "Media/Sakshi/tag4",
          "Media/TV5/tag16",
          "Media/TV5/tag33",
          "Media/ABN/tag2",
          "Media/Sakshi/tag33",
          "Media/Sakshi/tag35",
          "Media/TV9/tag35",
          "Media/ABN/tag36",
          "Media/TV5/tag32",
          "Media/TV5/tag20",
          "Media/TV9/tag36",
          "Media/TV5/tag31",
          "Media/Sakshi/tag18",
          "Media/TV9/tag20",
          "Media/ABN/tag38",
          "Media/Sakshi/tag38",
          "Media/ABN/tag17",
          "Media/ABN/tag39",
          "Media/ABN/tag22",
          "Media/Sakshi/tag24",
          "Media/TV5/tag27",
          "Media/ABN/tag34",
          "Media/TV9/tag143",
          "Media/TV9/tag48",
          "Media/TV5/tag143",
          "Media/ABN/tag144",
          "Media/ABN/tag143",
          "Media/ABN/tag27",
          "Media/TV9/tag142",
          "Media/TV5/tag24",
          "Media/TV5/tag144",
          "Media/TV5/tag48",
          "Media/Sakshi/tag5",
          "Media/TV5/tag51",
          "Media/TV9/tag26",
          "Media/ABN/tag50",
          "Media/ABN/tag145",
          "Media/Sakshi/tag143",
          "Media/ABN/tag5",
          "Media/Sakshi/tag10",
          "Media/ABN/tag10",
          "Media/TV9/tag112",
          "Media/ABN/tag85",
          "Media/Sakshi/tag112",
          "Media/TV9/tag31",
          "Media/TV5/tag10",
          "Media/ABN/tag31",
          "Media/Sakshi/tag103",
          "Media/Sakshi/tag1",
          "Media/TV5/tag1",
          "Media/ABN/tag117",
          "Media/ABN/tag25",
          "Media/TV5/tag116",
          "Media/TV9/tag80",
          "Media/TV5/tag0",
          "Media/TV9/tag115",
          "Media/TV5/tag81",
          "Media/TV9/tag0",
          "Media/TV5/tag115",
          "Media/Sakshi/tag115",
          "Media/ABN/tag33",
          "Media/TV9/tag32",
          "Media/ABN/tag1",
          "Media/Sakshi/tag114",
          "Media/Sakshi/tag20",
          "Media/ABN/tag113",
          "Media/TV5/tag111",
          "Media/Sakshi/tag30",
          "Media/TV5/tag110",
          "Media/ABN/tag104",
          "Media/Sakshi/tag104",
          "Media/TV9/tag104",
          "Media/ABN/tag105",
          "Media/ABN/tag103",
          "Media/TV5/tag105",
          "Media/TV9/tag102",
          "Media/Sakshi/tag27",
          "Media/Sakshi/tag102",
          "Media/ABN/tag106",
          "Media/ABN/tag102",
          "Media/TV9/tag101",
          "Media/TV5/tag101",
          "Media/ABN/tag24",
          "Media/ABN/tag107",
          "Media/Sakshi/tag117",
          "Media/ABN/tag108",
          "Media/Sakshi/tag110",
          "Media/TV5/tag30",
          "Media/TV5/tag103",
          "Media/Sakshi/tag11",
          "Media/ABN/tag100",
          "Media/TV9/tag109",
          "Media/Sakshi/tag111",
          "Media/Sakshi/tag100",
          "Media/TV5/tag3",
          "Media/ABN/tag109",
          "Media/TV5/tag100",
          "Media/ABN/tag23",
          "Media/TV9/tag100",
          "Media/ABN/tag101",
          "Media/Sakshi/tag109",
          "Media/TV5/tag142",
          "Media/TV5/tag120",
          "Media/Sakshi/tag118",
          "Media/ABN/tag60",
          "Media/TV9/tag144",
          "Media/TV5/tag135",
          "Media/Sakshi/tag145",
          "Media/TV5/tag145",
          "Media/TV9/tag45",
          "Media/TV9/tag61",
          "Media/TV5/tag45",
          "Media/Sakshi/tag45",
          "Media/ABN/tag45",
          "Media/ABN/tag146",
          "Media/ABN/tag63",
          "Media/TV9/tag146",
          "Media/TV9/tag43",
          "Media/Sakshi/tag132",
          "Media/TV9/tag147",
          "Media/TV9/tag131",
          "Media/ABN/tag47",
          "Media/TV5/tag136",
          "Media/Sakshi/tag47",
          "Media/TV9/tag59",
          "Media/Sakshi/tag52",
          "Media/TV5/tag52",
          "Media/ABN/tag142",
          "Media/TV5/tag53",
          "Media/TV9/tag50",
          "Media/Sakshi/tag54",
          "Media/TV5/tag50",
          "Media/Sakshi/tag50",
          "Media/ABN/tag148",
          "Media/ABN/tag140",
          "Media/Sakshi/tag56",
          "Media/ABN/tag57",
          "Media/TV5/tag49",
          "Media/Sakshi/tag48",
          "Media/Sakshi/tag138",
          "Media/ABN/tag48",
          "Media/TV9/tag47",
          "Media/ABN/tag137",
          "Media/TV5/tag14",
          "Media/TV5/tag148",
          "Media/Sakshi/tag131",
          "Media/Sakshi/tag149",
          "Media/TV5/tag19",
          "Media/ABN/tag122",
          "Media/TV9/tag19",
          "Media/Sakshi/tag36",
          "Media/TV9/tag120",
          "Media/TV9/tag51",
          "Media/TV5/tag35",
          "Media/TV9/tag76",
          "Media/ABN/tag19",
          "Media/TV5/tag12",
          "Media/TV9/tag77",
          "Media/ABN/tag78",
          "Media/ABN/tag12",
          "Media/TV5/tag119",
          "Media/TV9/tag34",
          "Media/ABN/tag119",
          "Media/TV9/tag118",
          "Media/TV9/tag2",
          "Media/Sakshi/tag12",
          "Media/Sakshi/tag34",
          "Media/ABN/tag123",
          "Media/TV5/tag123",
          "Media/ABN/tag15",
          "Media/Sakshi/tag41",
          "Media/Sakshi/tag130",
          "Media/TV5/tag13",
          "Media/TV5/tag68",
          "Media/TV9/tag15",
          "Media/Sakshi/tag16",
          "Media/ABN/tag128",
          "Media/TV9/tag18",
          "Media/TV9/tag127",
          "Media/TV9/tag39",
          "Media/TV5/tag126",
          "Media/TV9/tag16",
          "Media/Sakshi/tag39",
          "Media/ABN/tag126",
          "Media/TV5/tag71",
          "Media/Sakshi/tag125",
          "Media/ABN/tag124",
          "Media/Sakshi/tag127",
          "Media/ABN/tag0",
          "Media/ABN",
          "Media/Sakshi",
          "Media/TV5",
          "Media/TV9",
          "Media"
         ],
         "labels": [
          "tag129",
          "tag60",
          "tag136",
          "tag6",
          "tag59",
          "tag59",
          "tag137",
          "tag138",
          "tag58",
          "tag58",
          "tag58",
          "tag57",
          "tag14",
          "tag56",
          "tag55",
          "tag54",
          "tag140",
          "tag53",
          "tag141",
          "tag141",
          "tag53",
          "tag53",
          "tag52",
          "tag52",
          "tag60",
          "tag61",
          "tag135",
          "tag61",
          "tag125",
          "tag125",
          "tag70",
          "tag127",
          "tag7",
          "tag7",
          "tag69",
          "tag69",
          "tag128",
          "tag128",
          "tag129",
          "tag51",
          "tag129",
          "tag67",
          "tag13",
          "tag130",
          "tag67",
          "tag67",
          "tag66",
          "tag64",
          "tag133",
          "tag62",
          "tag134",
          "tag134",
          "tag69",
          "tag49",
          "tag49",
          "tag49",
          "tag37",
          "tag18",
          "tag37",
          "tag37",
          "tag19",
          "tag37",
          "tag36",
          "tag35",
          "tag2",
          "tag2",
          "tag34",
          "tag18",
          "tag33",
          "tag32",
          "tag31",
          "tag21",
          "tag21",
          "tag21",
          "tag30",
          "tag3",
          "tag22",
          "tag3",
          "tag3",
          "tag24",
          "tag32",
          "tag124",
          "tag17",
          "tag17",
          "tag47",
          "tag46",
          "tag46",
          "tag46",
          "tag46",
          "tag145",
          "tag44",
          "tag146",
          "tag44",
          "tag44",
          "tag147",
          "tag38",
          "tag42",
          "tag148",
          "tag149",
          "tag41",
          "tag149",
          "tag41",
          "tag15",
          "tag40",
          "tag40",
          "tag16",
          "tag4",
          "tag38",
          "tag148",
          "tag72",
          "tag25",
          "tag85",
          "tag8",
          "tag87",
          "tag117",
          "tag8",
          "tag80",
          "tag80",
          "tag116",
          "tag91",
          "tag81",
          "tag115",
          "tag82",
          "tag90",
          "tag90",
          "tag79",
          "tag90",
          "tag113",
          "tag83",
          "tag9",
          "tag107",
          "tag84",
          "tag74",
          "tag85",
          "tag86",
          "tag111",
          "tag110",
          "tag86",
          "tag89",
          "tag109",
          "tag83",
          "tag79",
          "tag87",
          "tag74",
          "tag78",
          "tag75",
          "tag121",
          "tag76",
          "tag76",
          "tag122",
          "tag43",
          "tag9",
          "tag42",
          "tag95",
          "tag43",
          "tag99",
          "tag9",
          "tag98",
          "tag98",
          "tag9",
          "tag42",
          "tag29",
          "tag29",
          "tag29",
          "tag29",
          "tag27",
          "tag89",
          "tag89",
          "tag26",
          "tag89",
          "tag99",
          "tag88",
          "tag88",
          "tag26",
          "tag42",
          "tag90",
          "tag98",
          "tag95",
          "tag95",
          "tag95",
          "tag94",
          "tag94",
          "tag94",
          "tag94",
          "tag93",
          "tag93",
          "tag93",
          "tag96",
          "tag93",
          "tag92",
          "tag92",
          "tag96",
          "tag96",
          "tag96",
          "tag97",
          "tag39",
          "tag92",
          "tag99",
          "tag4",
          "tag91",
          "tag97",
          "tag91",
          "tag91",
          "tag97",
          "tag97",
          "tag98",
          "tag92",
          "tag74",
          "tag87",
          "tag65",
          "tag66",
          "tag66",
          "tag8",
          "tag79",
          "tag79",
          "tag78",
          "tag68",
          "tag78",
          "tag77",
          "tag26",
          "tag69",
          "tag77",
          "tag76",
          "tag65",
          "tag75",
          "tag7",
          "tag75",
          "tag70",
          "tag70",
          "tag71",
          "tag71",
          "tag72",
          "tag72",
          "tag72",
          "tag74",
          "tag73",
          "tag73",
          "tag73",
          "tag73",
          "tag75",
          "tag88",
          "tag65",
          "tag64",
          "tag87",
          "tag5",
          "tag5",
          "tag51",
          "tag86",
          "tag86",
          "tag84",
          "tag54",
          "tag55",
          "tag84",
          "tag55",
          "tag84",
          "tag83",
          "tag57",
          "tag64",
          "tag57",
          "tag58",
          "tag82",
          "tag59",
          "tag82",
          "tag82",
          "tag6",
          "tag6",
          "tag81",
          "tag81",
          "tag80",
          "tag62",
          "tag62",
          "tag63",
          "tag8",
          "tag83",
          "tag30",
          "tag99",
          "tag142",
          "tag121",
          "tag21",
          "tag132",
          "tag135",
          "tag11",
          "tag147",
          "tag20",
          "tag131",
          "tag144",
          "tag124",
          "tag12",
          "tag121",
          "tag107",
          "tag135",
          "tag129",
          "tag104",
          "tag126",
          "tag102",
          "tag140",
          "tag127",
          "tag128",
          "tag17",
          "tag120",
          "tag132",
          "tag64",
          "tag63",
          "tag131",
          "tag65",
          "tag66",
          "tag130",
          "tag130",
          "tag67",
          "tag68",
          "tag13",
          "tag132",
          "tag133",
          "tag62",
          "tag133",
          "tag141",
          "tag54",
          "tag140",
          "tag14",
          "tag55",
          "tag56",
          "tag56",
          "tag14",
          "tag139",
          "tag139",
          "tag139",
          "tag63",
          "tag139",
          "tag138",
          "tag137",
          "tag137",
          "tag6",
          "tag136",
          "tag136",
          "tag60",
          "tag61",
          "tag134",
          "tag25",
          "tag133",
          "tag138",
          "tag68",
          "tag25",
          "tag7",
          "tag112",
          "tag111",
          "tag85",
          "tag110",
          "tag11",
          "tag11",
          "tag88",
          "tag108",
          "tag108",
          "tag108",
          "tag107",
          "tag106",
          "tag106",
          "tag106",
          "tag105",
          "tag105",
          "tag103",
          "tag101",
          "tag10",
          "tag1",
          "tag0",
          "tag112",
          "tag13",
          "tag113",
          "tag114",
          "tag126",
          "tag141",
          "tag71",
          "tag125",
          "tag124",
          "tag123",
          "tag123",
          "tag122",
          "tag122",
          "tag121",
          "tag120",
          "tag77",
          "tag119",
          "tag119",
          "tag118",
          "tag118",
          "tag117",
          "tag116",
          "tag116",
          "tag114",
          "tag114",
          "tag113",
          "tag70",
          "tag134",
          "tag23",
          "tag40",
          "tag40",
          "tag15",
          "tag41",
          "tag22",
          "tag23",
          "tag149",
          "tag4",
          "tag23",
          "tag28",
          "tag43",
          "tag147",
          "tag44",
          "tag28",
          "tag146",
          "tag28",
          "tag28",
          "tag22",
          "tag4",
          "tag16",
          "tag33",
          "tag2",
          "tag33",
          "tag35",
          "tag35",
          "tag36",
          "tag32",
          "tag20",
          "tag36",
          "tag31",
          "tag18",
          "tag20",
          "tag38",
          "tag38",
          "tag17",
          "tag39",
          "tag22",
          "tag24",
          "tag27",
          "tag34",
          "tag143",
          "tag48",
          "tag143",
          "tag144",
          "tag143",
          "tag27",
          "tag142",
          "tag24",
          "tag144",
          "tag48",
          "tag5",
          "tag51",
          "tag26",
          "tag50",
          "tag145",
          "tag143",
          "tag5",
          "tag10",
          "tag10",
          "tag112",
          "tag85",
          "tag112",
          "tag31",
          "tag10",
          "tag31",
          "tag103",
          "tag1",
          "tag1",
          "tag117",
          "tag25",
          "tag116",
          "tag80",
          "tag0",
          "tag115",
          "tag81",
          "tag0",
          "tag115",
          "tag115",
          "tag33",
          "tag32",
          "tag1",
          "tag114",
          "tag20",
          "tag113",
          "tag111",
          "tag30",
          "tag110",
          "tag104",
          "tag104",
          "tag104",
          "tag105",
          "tag103",
          "tag105",
          "tag102",
          "tag27",
          "tag102",
          "tag106",
          "tag102",
          "tag101",
          "tag101",
          "tag24",
          "tag107",
          "tag117",
          "tag108",
          "tag110",
          "tag30",
          "tag103",
          "tag11",
          "tag100",
          "tag109",
          "tag111",
          "tag100",
          "tag3",
          "tag109",
          "tag100",
          "tag23",
          "tag100",
          "tag101",
          "tag109",
          "tag142",
          "tag120",
          "tag118",
          "tag60",
          "tag144",
          "tag135",
          "tag145",
          "tag145",
          "tag45",
          "tag61",
          "tag45",
          "tag45",
          "tag45",
          "tag146",
          "tag63",
          "tag146",
          "tag43",
          "tag132",
          "tag147",
          "tag131",
          "tag47",
          "tag136",
          "tag47",
          "tag59",
          "tag52",
          "tag52",
          "tag142",
          "tag53",
          "tag50",
          "tag54",
          "tag50",
          "tag50",
          "tag148",
          "tag140",
          "tag56",
          "tag57",
          "tag49",
          "tag48",
          "tag138",
          "tag48",
          "tag47",
          "tag137",
          "tag14",
          "tag148",
          "tag131",
          "tag149",
          "tag19",
          "tag122",
          "tag19",
          "tag36",
          "tag120",
          "tag51",
          "tag35",
          "tag76",
          "tag19",
          "tag12",
          "tag77",
          "tag78",
          "tag12",
          "tag119",
          "tag34",
          "tag119",
          "tag118",
          "tag2",
          "tag12",
          "tag34",
          "tag123",
          "tag123",
          "tag15",
          "tag41",
          "tag130",
          "tag13",
          "tag68",
          "tag15",
          "tag16",
          "tag128",
          "tag18",
          "tag127",
          "tag39",
          "tag126",
          "tag16",
          "tag39",
          "tag126",
          "tag71",
          "tag125",
          "tag124",
          "tag127",
          "tag0",
          "ABN",
          "Sakshi",
          "TV5",
          "TV9",
          "Media"
         ],
         "marker": {
          "colors": [
           "ff2a26",
           "ff2a26",
           "ff2a26",
           "ff2a26",
           "gold",
           "ff2a26",
           "gold",
           "yellow",
           "gold",
           "ff2a26",
           "yellow",
           "gold",
           "yellow",
           "#ab63fa",
           "ff2a26",
           "gold",
           "#ab63fa",
           "#ab63fa",
           "ff2a26",
           "gold",
           "ff2a26",
           "yellow",
           "#ab63fa",
           "yellow",
           "#ab63fa",
           "ff2a26",
           "yellow",
           "gold",
           "yellow",
           "gold",
           "ff2a26",
           "yellow",
           "gold",
           "yellow",
           "#ab63fa",
           "gold",
           "gold",
           "#ab63fa",
           "gold",
           "ff2a26",
           "#ab63fa",
           "#ab63fa",
           "#ab63fa",
           "yellow",
           "ff2a26",
           "yellow",
           "#ab63fa",
           "gold",
           "yellow",
           "gold",
           "yellow",
           "ff2a26",
           "yellow",
           "#ab63fa",
           "ff2a26",
           "yellow",
           "#ab63fa",
           "gold",
           "gold",
           "ff2a26",
           "ff2a26",
           "yellow",
           "gold",
           "yellow",
           "ff2a26",
           "gold",
           "gold",
           "yellow",
           "#ab63fa",
           "yellow",
           "ff2a26",
           "ff2a26",
           "gold",
           "#ab63fa",
           "yellow",
           "#ab63fa",
           "gold",
           "ff2a26",
           "yellow",
           "#ab63fa",
           "ff2a26",
           "ff2a26",
           "#ab63fa",
           "ff2a26",
           "gold",
           "#ab63fa",
           "gold",
           "ff2a26",
           "yellow",
           "#ab63fa",
           "#ab63fa",
           "ff2a26",
           "gold",
           "ff2a26",
           "yellow",
           "gold",
           "#ab63fa",
           "#ab63fa",
           "yellow",
           "#ab63fa",
           "#ab63fa",
           "gold",
           "ff2a26",
           "#ab63fa",
           "ff2a26",
           "yellow",
           "yellow",
           "#ab63fa",
           "ff2a26",
           "#ab63fa",
           "gold",
           "ff2a26",
           "ff2a26",
           "gold",
           "gold",
           "#ab63fa",
           "yellow",
           "gold",
           "ff2a26",
           "gold",
           "#ab63fa",
           "yellow",
           "ff2a26",
           "#ab63fa",
           "gold",
           "ff2a26",
           "yellow",
           "gold",
           "gold",
           "yellow",
           "#ab63fa",
           "#ab63fa",
           "ff2a26",
           "#ab63fa",
           "yellow",
           "yellow",
           "#ab63fa",
           "#ab63fa",
           "yellow",
           "gold",
           "ff2a26",
           "yellow",
           "#ab63fa",
           "#ab63fa",
           "gold",
           "yellow",
           "#ab63fa",
           "gold",
           "yellow",
           "ff2a26",
           "ff2a26",
           "ff2a26",
           "gold",
           "#ab63fa",
           "gold",
           "yellow",
           "#ab63fa",
           "#ab63fa",
           "gold",
           "gold",
           "ff2a26",
           "#ab63fa",
           "gold",
           "ff2a26",
           "yellow",
           "#ab63fa",
           "#ab63fa",
           "gold",
           "gold",
           "ff2a26",
           "ff2a26",
           "#ab63fa",
           "ff2a26",
           "ff2a26",
           "yellow",
           "ff2a26",
           "yellow",
           "gold",
           "ff2a26",
           "yellow",
           "#ab63fa",
           "gold",
           "ff2a26",
           "yellow",
           "#ab63fa",
           "gold",
           "ff2a26",
           "yellow",
           "yellow",
           "#ab63fa",
           "gold",
           "ff2a26",
           "gold",
           "#ab63fa",
           "yellow",
           "gold",
           "yellow",
           "gold",
           "#ab63fa",
           "#ab63fa",
           "ff2a26",
           "ff2a26",
           "yellow",
           "gold",
           "#ab63fa",
           "ff2a26",
           "ff2a26",
           "yellow",
           "ff2a26",
           "#ab63fa",
           "yellow",
           "ff2a26",
           "yellow",
           "#ab63fa",
           "gold",
           "#ab63fa",
           "ff2a26",
           "ff2a26",
           "ff2a26",
           "yellow",
           "ff2a26",
           "yellow",
           "ff2a26",
           "ff2a26",
           "#ab63fa",
           "#ab63fa",
           "ff2a26",
           "yellow",
           "gold",
           "ff2a26",
           "#ab63fa",
           "yellow",
           "ff2a26",
           "gold",
           "gold",
           "yellow",
           "ff2a26",
           "gold",
           "#ab63fa",
           "gold",
           "yellow",
           "yellow",
           "ff2a26",
           "yellow",
           "gold",
           "#ab63fa",
           "yellow",
           "gold",
           "ff2a26",
           "gold",
           "#ab63fa",
           "yellow",
           "ff2a26",
           "gold",
           "yellow",
           "#ab63fa",
           "ff2a26",
           "#ab63fa",
           "#ab63fa",
           "#ab63fa",
           "#ab63fa",
           "yellow",
           "gold",
           "yellow",
           "gold",
           "#ab63fa",
           "ff2a26",
           "yellow",
           "ff2a26",
           "ff2a26",
           "#ab63fa",
           "gold",
           "gold",
           "yellow",
           "#ab63fa",
           "#ab63fa",
           "ff2a26",
           "ff2a26",
           "yellow",
           "gold",
           "#ab63fa",
           "gold",
           "gold",
           "yellow",
           "yellow",
           "ff2a26",
           "gold",
           "#ab63fa",
           "yellow",
           "ff2a26",
           "ff2a26",
           "yellow",
           "gold",
           "#ab63fa",
           "gold",
           "ff2a26",
           "gold",
           "ff2a26",
           "gold",
           "ff2a26",
           "#ab63fa",
           "yellow",
           "#ab63fa",
           "gold",
           "gold",
           "gold",
           "#ab63fa",
           "gold",
           "gold",
           "yellow",
           "ff2a26",
           "yellow",
           "ff2a26",
           "yellow",
           "gold",
           "yellow",
           "yellow",
           "gold",
           "#ab63fa",
           "#ab63fa",
           "yellow",
           "gold",
           "ff2a26",
           "#ab63fa",
           "gold",
           "ff2a26",
           "ff2a26",
           "yellow",
           "gold",
           "#ab63fa",
           "ff2a26",
           "yellow",
           "#ab63fa",
           "yellow",
           "gold",
           "yellow",
           "#ab63fa",
           "#ab63fa",
           "#ab63fa",
           "#ab63fa",
           "#ab63fa",
           "ff2a26",
           "ff2a26",
           "yellow",
           "#ab63fa",
           "gold",
           "yellow",
           "#ab63fa",
           "yellow",
           "gold",
           "#ab63fa",
           "gold",
           "ff2a26",
           "gold",
           "#ab63fa",
           "gold",
           "ff2a26",
           "#ab63fa",
           "ff2a26",
           "#ab63fa",
           "ff2a26",
           "#ab63fa",
           "#ab63fa",
           "ff2a26",
           "gold",
           "yellow",
           "ff2a26",
           "yellow",
           "ff2a26",
           "#ab63fa",
           "yellow",
           "#ab63fa",
           "#ab63fa",
           "#ab63fa",
           "ff2a26",
           "#ab63fa",
           "gold",
           "gold",
           "yellow",
           "gold",
           "#ab63fa",
           "ff2a26",
           "gold",
           "yellow",
           "#ab63fa",
           "#ab63fa",
           "yellow",
           "#ab63fa",
           "gold",
           "#ab63fa",
           "#ab63fa",
           "gold",
           "gold",
           "yellow",
           "gold",
           "gold",
           "yellow",
           "#ab63fa",
           "ff2a26",
           "gold",
           "gold",
           "#ab63fa",
           "gold",
           "yellow",
           "ff2a26",
           "yellow",
           "ff2a26",
           "gold",
           "yellow",
           "#ab63fa",
           "ff2a26",
           "ff2a26",
           "gold",
           "gold",
           "yellow",
           "ff2a26",
           "ff2a26",
           "#ab63fa",
           "yellow",
           "gold",
           "gold",
           "#ab63fa",
           "gold",
           "ff2a26",
           "#ab63fa",
           "yellow",
           "ff2a26",
           "yellow",
           "yellow",
           "yellow",
           "ff2a26",
           "gold",
           "yellow",
           "#ab63fa",
           "#ab63fa",
           "gold",
           "yellow",
           "yellow",
           "yellow",
           "#ab63fa",
           "gold",
           "gold",
           "gold",
           "ff2a26",
           "gold",
           "#ab63fa",
           "yellow",
           "yellow",
           "ff2a26",
           "yellow",
           "ff2a26",
           "yellow",
           "#ab63fa",
           "yellow",
           "ff2a26",
           "#ab63fa",
           "gold",
           "yellow",
           "ff2a26",
           "ff2a26",
           "gold",
           "yellow",
           "yellow",
           "gold",
           "#ab63fa",
           "gold",
           "#ab63fa",
           "gold",
           "#ab63fa",
           "gold",
           "ff2a26",
           "yellow",
           "#ab63fa",
           "yellow",
           "ff2a26",
           "ff2a26",
           "yellow",
           "gold",
           "ff2a26",
           "gold",
           "yellow",
           "ff2a26",
           "#ab63fa",
           "yellow",
           "yellow",
           "gold",
           "#ab63fa",
           "ff2a26",
           "ff2a26",
           "yellow",
           "yellow",
           "#ab63fa",
           "gold",
           "yellow",
           "yellow",
           "ff2a26",
           "yellow",
           "ff2a26",
           "gold",
           "gold",
           "ff2a26",
           "yellow",
           "#ab63fa",
           "ff2a26",
           "ff2a26",
           "gold",
           "yellow",
           "gold",
           "yellow",
           "#ab63fa",
           "yellow",
           "ff2a26",
           "gold",
           "gold",
           "ff2a26",
           "yellow",
           "#ab63fa",
           "gold",
           "ff2a26",
           "gold",
           "#ab63fa",
           "#ab63fa",
           "gold",
           "ff2a26",
           "yellow",
           "yellow",
           "yellow",
           "#ab63fa",
           "#ab63fa",
           "ff2a26",
           "#ab63fa",
           "#ab63fa",
           "yellow",
           "gold",
           "ff2a26",
           "#ab63fa",
           "ff2a26",
           "gold",
           "yellow",
           "gold",
           "#ab63fa",
           "ff2a26",
           "gold",
           "ff2a26",
           "yellow",
           "yellow",
           "ff2a26",
           "yellow",
           "gold",
           "ff2a26",
           "ff2a26",
           "yellow",
           "#ab63fa",
           "yellow",
           "gold",
           "gold",
           "ff2a26",
           "ff2a26",
           "gold",
           "yellow",
           "#ab63fa",
           "ff2a26",
           "#ab63fa",
           "#ab63fa",
           "gold",
           "#ab63fa",
           "yellow",
           "gold",
           "#ab63fa",
           "yellow",
           "yellow",
           "gold",
           "#ab63fa",
           "yellow",
           "#ab63fa",
           "#ab63fa",
           "ff2a26",
           "ff2a26",
           "yellow",
           "gold",
           "yellow",
           "ff2a26",
           "ff2a26",
           "gold",
           "gold",
           "#ab63fa",
           "ff2a26",
           "yellow",
           "#ab63fa",
           "#ab63fa",
           "#ab63fa",
           "gold",
           "#ab63fa",
           "ff2a26",
           "yellow",
           "gold",
           "ff2a26",
           "yellow",
           "ff2a26",
           "yellow",
           "yellow",
           "ff2a26",
           "gold",
           "#ab63fa",
           "#FFA15A"
          ],
          "cornerradius": 5
         },
         "name": "",
         "parents": [
          "Media/Sakshi",
          "Media/Sakshi",
          "Media/Sakshi",
          "Media/Sakshi",
          "Media/TV5",
          "Media/Sakshi",
          "Media/TV5",
          "Media/ABN",
          "Media/TV5",
          "Media/Sakshi",
          "Media/ABN",
          "Media/TV5",
          "Media/ABN",
          "Media/TV9",
          "Media/Sakshi",
          "Media/TV5",
          "Media/TV9",
          "Media/TV9",
          "Media/Sakshi",
          "Media/TV5",
          "Media/Sakshi",
          "Media/ABN",
          "Media/TV9",
          "Media/ABN",
          "Media/TV9",
          "Media/Sakshi",
          "Media/ABN",
          "Media/TV5",
          "Media/ABN",
          "Media/TV5",
          "Media/Sakshi",
          "Media/ABN",
          "Media/TV5",
          "Media/ABN",
          "Media/TV9",
          "Media/TV5",
          "Media/TV5",
          "Media/TV9",
          "Media/TV5",
          "Media/Sakshi",
          "Media/TV9",
          "Media/TV9",
          "Media/TV9",
          "Media/ABN",
          "Media/Sakshi",
          "Media/ABN",
          "Media/TV9",
          "Media/TV5",
          "Media/ABN",
          "Media/TV5",
          "Media/ABN",
          "Media/Sakshi",
          "Media/ABN",
          "Media/TV9",
          "Media/Sakshi",
          "Media/ABN",
          "Media/TV9",
          "Media/TV5",
          "Media/TV5",
          "Media/Sakshi",
          "Media/Sakshi",
          "Media/ABN",
          "Media/TV5",
          "Media/ABN",
          "Media/Sakshi",
          "Media/TV5",
          "Media/TV5",
          "Media/ABN",
          "Media/TV9",
          "Media/ABN",
          "Media/Sakshi",
          "Media/Sakshi",
          "Media/TV5",
          "Media/TV9",
          "Media/ABN",
          "Media/TV9",
          "Media/TV5",
          "Media/Sakshi",
          "Media/ABN",
          "Media/TV9",
          "Media/Sakshi",
          "Media/Sakshi",
          "Media/TV9",
          "Media/Sakshi",
          "Media/TV5",
          "Media/TV9",
          "Media/TV5",
          "Media/Sakshi",
          "Media/ABN",
          "Media/TV9",
          "Media/TV9",
          "Media/Sakshi",
          "Media/TV5",
          "Media/Sakshi",
          "Media/ABN",
          "Media/TV5",
          "Media/TV9",
          "Media/TV9",
          "Media/ABN",
          "Media/TV9",
          "Media/TV9",
          "Media/TV5",
          "Media/Sakshi",
          "Media/TV9",
          "Media/Sakshi",
          "Media/ABN",
          "Media/ABN",
          "Media/TV9",
          "Media/Sakshi",
          "Media/TV9",
          "Media/TV5",
          "Media/Sakshi",
          "Media/Sakshi",
          "Media/TV5",
          "Media/TV5",
          "Media/TV9",
          "Media/ABN",
          "Media/TV5",
          "Media/Sakshi",
          "Media/TV5",
          "Media/TV9",
          "Media/ABN",
          "Media/Sakshi",
          "Media/TV9",
          "Media/TV5",
          "Media/Sakshi",
          "Media/ABN",
          "Media/TV5",
          "Media/TV5",
          "Media/ABN",
          "Media/TV9",
          "Media/TV9",
          "Media/Sakshi",
          "Media/TV9",
          "Media/ABN",
          "Media/ABN",
          "Media/TV9",
          "Media/TV9",
          "Media/ABN",
          "Media/TV5",
          "Media/Sakshi",
          "Media/ABN",
          "Media/TV9",
          "Media/TV9",
          "Media/TV5",
          "Media/ABN",
          "Media/TV9",
          "Media/TV5",
          "Media/ABN",
          "Media/Sakshi",
          "Media/Sakshi",
          "Media/Sakshi",
          "Media/TV5",
          "Media/TV9",
          "Media/TV5",
          "Media/ABN",
          "Media/TV9",
          "Media/TV9",
          "Media/TV5",
          "Media/TV5",
          "Media/Sakshi",
          "Media/TV9",
          "Media/TV5",
          "Media/Sakshi",
          "Media/ABN",
          "Media/TV9",
          "Media/TV9",
          "Media/TV5",
          "Media/TV5",
          "Media/Sakshi",
          "Media/Sakshi",
          "Media/TV9",
          "Media/Sakshi",
          "Media/Sakshi",
          "Media/ABN",
          "Media/Sakshi",
          "Media/ABN",
          "Media/TV5",
          "Media/Sakshi",
          "Media/ABN",
          "Media/TV9",
          "Media/TV5",
          "Media/Sakshi",
          "Media/ABN",
          "Media/TV9",
          "Media/TV5",
          "Media/Sakshi",
          "Media/ABN",
          "Media/ABN",
          "Media/TV9",
          "Media/TV5",
          "Media/Sakshi",
          "Media/TV5",
          "Media/TV9",
          "Media/ABN",
          "Media/TV5",
          "Media/ABN",
          "Media/TV5",
          "Media/TV9",
          "Media/TV9",
          "Media/Sakshi",
          "Media/Sakshi",
          "Media/ABN",
          "Media/TV5",
          "Media/TV9",
          "Media/Sakshi",
          "Media/Sakshi",
          "Media/ABN",
          "Media/Sakshi",
          "Media/TV9",
          "Media/ABN",
          "Media/Sakshi",
          "Media/ABN",
          "Media/TV9",
          "Media/TV5",
          "Media/TV9",
          "Media/Sakshi",
          "Media/Sakshi",
          "Media/Sakshi",
          "Media/ABN",
          "Media/Sakshi",
          "Media/ABN",
          "Media/Sakshi",
          "Media/Sakshi",
          "Media/TV9",
          "Media/TV9",
          "Media/Sakshi",
          "Media/ABN",
          "Media/TV5",
          "Media/Sakshi",
          "Media/TV9",
          "Media/ABN",
          "Media/Sakshi",
          "Media/TV5",
          "Media/TV5",
          "Media/ABN",
          "Media/Sakshi",
          "Media/TV5",
          "Media/TV9",
          "Media/TV5",
          "Media/ABN",
          "Media/ABN",
          "Media/Sakshi",
          "Media/ABN",
          "Media/TV5",
          "Media/TV9",
          "Media/ABN",
          "Media/TV5",
          "Media/Sakshi",
          "Media/TV5",
          "Media/TV9",
          "Media/ABN",
          "Media/Sakshi",
          "Media/TV5",
          "Media/ABN",
          "Media/TV9",
          "Media/Sakshi",
          "Media/TV9",
          "Media/TV9",
          "Media/TV9",
          "Media/TV9",
          "Media/ABN",
          "Media/TV5",
          "Media/ABN",
          "Media/TV5",
          "Media/TV9",
          "Media/Sakshi",
          "Media/ABN",
          "Media/Sakshi",
          "Media/Sakshi",
          "Media/TV9",
          "Media/TV5",
          "Media/TV5",
          "Media/ABN",
          "Media/TV9",
          "Media/TV9",
          "Media/Sakshi",
          "Media/Sakshi",
          "Media/ABN",
          "Media/TV5",
          "Media/TV9",
          "Media/TV5",
          "Media/TV5",
          "Media/ABN",
          "Media/ABN",
          "Media/Sakshi",
          "Media/TV5",
          "Media/TV9",
          "Media/ABN",
          "Media/Sakshi",
          "Media/Sakshi",
          "Media/ABN",
          "Media/TV5",
          "Media/TV9",
          "Media/TV5",
          "Media/Sakshi",
          "Media/TV5",
          "Media/Sakshi",
          "Media/TV5",
          "Media/Sakshi",
          "Media/TV9",
          "Media/ABN",
          "Media/TV9",
          "Media/TV5",
          "Media/TV5",
          "Media/TV5",
          "Media/TV9",
          "Media/TV5",
          "Media/TV5",
          "Media/ABN",
          "Media/Sakshi",
          "Media/ABN",
          "Media/Sakshi",
          "Media/ABN",
          "Media/TV5",
          "Media/ABN",
          "Media/ABN",
          "Media/TV5",
          "Media/TV9",
          "Media/TV9",
          "Media/ABN",
          "Media/TV5",
          "Media/Sakshi",
          "Media/TV9",
          "Media/TV5",
          "Media/Sakshi",
          "Media/Sakshi",
          "Media/ABN",
          "Media/TV5",
          "Media/TV9",
          "Media/Sakshi",
          "Media/ABN",
          "Media/TV9",
          "Media/ABN",
          "Media/TV5",
          "Media/ABN",
          "Media/TV9",
          "Media/TV9",
          "Media/TV9",
          "Media/TV9",
          "Media/TV9",
          "Media/Sakshi",
          "Media/Sakshi",
          "Media/ABN",
          "Media/TV9",
          "Media/TV5",
          "Media/ABN",
          "Media/TV9",
          "Media/ABN",
          "Media/TV5",
          "Media/TV9",
          "Media/TV5",
          "Media/Sakshi",
          "Media/TV5",
          "Media/TV9",
          "Media/TV5",
          "Media/Sakshi",
          "Media/TV9",
          "Media/Sakshi",
          "Media/TV9",
          "Media/Sakshi",
          "Media/TV9",
          "Media/TV9",
          "Media/Sakshi",
          "Media/TV5",
          "Media/ABN",
          "Media/Sakshi",
          "Media/ABN",
          "Media/Sakshi",
          "Media/TV9",
          "Media/ABN",
          "Media/TV9",
          "Media/TV9",
          "Media/TV9",
          "Media/Sakshi",
          "Media/TV9",
          "Media/TV5",
          "Media/TV5",
          "Media/ABN",
          "Media/TV5",
          "Media/TV9",
          "Media/Sakshi",
          "Media/TV5",
          "Media/ABN",
          "Media/TV9",
          "Media/TV9",
          "Media/ABN",
          "Media/TV9",
          "Media/TV5",
          "Media/TV9",
          "Media/TV9",
          "Media/TV5",
          "Media/TV5",
          "Media/ABN",
          "Media/TV5",
          "Media/TV5",
          "Media/ABN",
          "Media/TV9",
          "Media/Sakshi",
          "Media/TV5",
          "Media/TV5",
          "Media/TV9",
          "Media/TV5",
          "Media/ABN",
          "Media/Sakshi",
          "Media/ABN",
          "Media/Sakshi",
          "Media/TV5",
          "Media/ABN",
          "Media/TV9",
          "Media/Sakshi",
          "Media/Sakshi",
          "Media/TV5",
          "Media/TV5",
          "Media/ABN",
          "Media/Sakshi",
          "Media/Sakshi",
          "Media/TV9",
          "Media/ABN",
          "Media/TV5",
          "Media/TV5",
          "Media/TV9",
          "Media/TV5",
          "Media/Sakshi",
          "Media/TV9",
          "Media/ABN",
          "Media/Sakshi",
          "Media/ABN",
          "Media/ABN",
          "Media/ABN",
          "Media/Sakshi",
          "Media/TV5",
          "Media/ABN",
          "Media/TV9",
          "Media/TV9",
          "Media/TV5",
          "Media/ABN",
          "Media/ABN",
          "Media/ABN",
          "Media/TV9",
          "Media/TV5",
          "Media/TV5",
          "Media/TV5",
          "Media/Sakshi",
          "Media/TV5",
          "Media/TV9",
          "Media/ABN",
          "Media/ABN",
          "Media/Sakshi",
          "Media/ABN",
          "Media/Sakshi",
          "Media/ABN",
          "Media/TV9",
          "Media/ABN",
          "Media/Sakshi",
          "Media/TV9",
          "Media/TV5",
          "Media/ABN",
          "Media/Sakshi",
          "Media/Sakshi",
          "Media/TV5",
          "Media/ABN",
          "Media/ABN",
          "Media/TV5",
          "Media/TV9",
          "Media/TV5",
          "Media/TV9",
          "Media/TV5",
          "Media/TV9",
          "Media/TV5",
          "Media/Sakshi",
          "Media/ABN",
          "Media/TV9",
          "Media/ABN",
          "Media/Sakshi",
          "Media/Sakshi",
          "Media/ABN",
          "Media/TV5",
          "Media/Sakshi",
          "Media/TV5",
          "Media/ABN",
          "Media/Sakshi",
          "Media/TV9",
          "Media/ABN",
          "Media/ABN",
          "Media/TV5",
          "Media/TV9",
          "Media/Sakshi",
          "Media/Sakshi",
          "Media/ABN",
          "Media/ABN",
          "Media/TV9",
          "Media/TV5",
          "Media/ABN",
          "Media/ABN",
          "Media/Sakshi",
          "Media/ABN",
          "Media/Sakshi",
          "Media/TV5",
          "Media/TV5",
          "Media/Sakshi",
          "Media/ABN",
          "Media/TV9",
          "Media/Sakshi",
          "Media/Sakshi",
          "Media/TV5",
          "Media/ABN",
          "Media/TV5",
          "Media/ABN",
          "Media/TV9",
          "Media/ABN",
          "Media/Sakshi",
          "Media/TV5",
          "Media/TV5",
          "Media/Sakshi",
          "Media/ABN",
          "Media/TV9",
          "Media/TV5",
          "Media/Sakshi",
          "Media/TV5",
          "Media/TV9",
          "Media/TV9",
          "Media/TV5",
          "Media/Sakshi",
          "Media/ABN",
          "Media/ABN",
          "Media/ABN",
          "Media/TV9",
          "Media/TV9",
          "Media/Sakshi",
          "Media/TV9",
          "Media/TV9",
          "Media/ABN",
          "Media/TV5",
          "Media/Sakshi",
          "Media/TV9",
          "Media/Sakshi",
          "Media/TV5",
          "Media/ABN",
          "Media/TV5",
          "Media/TV9",
          "Media/Sakshi",
          "Media/TV5",
          "Media/Sakshi",
          "Media/ABN",
          "Media/ABN",
          "Media/Sakshi",
          "Media/ABN",
          "Media/TV5",
          "Media/Sakshi",
          "Media/Sakshi",
          "Media/ABN",
          "Media/TV9",
          "Media/ABN",
          "Media/TV5",
          "Media/TV5",
          "Media/Sakshi",
          "Media/Sakshi",
          "Media/TV5",
          "Media/ABN",
          "Media/TV9",
          "Media/Sakshi",
          "Media/TV9",
          "Media/TV9",
          "Media/TV5",
          "Media/TV9",
          "Media/ABN",
          "Media/TV5",
          "Media/TV9",
          "Media/ABN",
          "Media/ABN",
          "Media/TV5",
          "Media/TV9",
          "Media/ABN",
          "Media/TV9",
          "Media/TV9",
          "Media/Sakshi",
          "Media/Sakshi",
          "Media/ABN",
          "Media/TV5",
          "Media/ABN",
          "Media/Sakshi",
          "Media/Sakshi",
          "Media/TV5",
          "Media/TV5",
          "Media/TV9",
          "Media/Sakshi",
          "Media/ABN",
          "Media/TV9",
          "Media/TV9",
          "Media/TV9",
          "Media/TV5",
          "Media/TV9",
          "Media/Sakshi",
          "Media/ABN",
          "Media/TV5",
          "Media/Sakshi",
          "Media/ABN",
          "Media/Sakshi",
          "Media/ABN",
          "Media",
          "Media",
          "Media",
          "Media",
          ""
         ],
         "type": "treemap",
         "values": [
          10473149,
          7829065,
          8323197,
          9591502,
          14842651,
          10117830,
          17966144,
          9606277,
          11515294,
          11197687,
          9939894,
          10312370,
          13839932,
          11367763,
          16855395,
          12697925,
          18391047,
          16724803,
          12205812,
          15900314,
          10781111,
          12224455,
          10781998,
          13126089,
          13352661,
          11840570,
          10020340,
          10293607,
          10545166,
          14786017,
          12298977,
          12248923,
          14111904,
          12017341,
          14670705,
          9949933,
          13176908,
          17596580,
          10770943,
          14256697,
          11751536,
          9177155,
          15229708,
          10477596,
          11206803,
          9103558,
          14408487,
          12313510,
          10693782,
          9777706,
          10991127,
          9658301,
          11702238,
          11715014,
          9862486,
          14709959,
          11487964,
          11887991,
          16304394,
          12886008,
          9686155,
          13395761,
          11951178,
          12934190,
          6702989,
          12437885,
          10553005,
          9566342,
          10318511,
          10476358,
          11847971,
          8616959,
          13159784,
          12915496,
          11532996,
          13077567,
          14890347,
          7870581,
          9400701,
          12447914,
          9372783,
          13849016,
          14449339,
          10041385,
          14503944,
          10880160,
          10134829,
          12675677,
          9144957,
          14430731,
          11516526,
          6920768,
          12640701,
          6811223,
          8953608,
          9996269,
          14765777,
          20356671,
          13175478,
          11759421,
          16995548,
          10121430,
          7388311,
          17580040,
          7835375,
          11402488,
          12576201,
          17830382,
          10592590,
          14035052,
          13381946,
          9572243,
          8037240,
          11366427,
          11874121,
          12342509,
          12414667,
          11479674,
          7376955,
          13372657,
          14523840,
          11805523,
          7972433,
          10544310,
          12999349,
          9737011,
          10317159,
          11410035,
          10910504,
          8339772,
          13721282,
          10795131,
          8895977,
          16051692,
          11253646,
          10999433,
          14551302,
          12493643,
          14107618,
          12385211,
          11960607,
          12490986,
          12196655,
          13174324,
          14060240,
          14846459,
          9455157,
          9974277,
          10698189,
          8685369,
          11229371,
          9546224,
          14717906,
          12257168,
          12331669,
          12107472,
          8958928,
          13321839,
          13229509,
          14363346,
          10323444,
          9967828,
          10830332,
          6105906,
          11447691,
          11369910,
          11565171,
          13259711,
          11360620,
          11895284,
          10076229,
          14559869,
          12159620,
          10824760,
          13086783,
          9689241,
          11276987,
          11171292,
          13369296,
          13460801,
          19996053,
          15803038,
          7928080,
          10411780,
          11044623,
          8930332,
          16588421,
          10969465,
          15544690,
          13993363,
          16686529,
          8557064,
          12117298,
          9203313,
          13233421,
          14468698,
          11143533,
          15305695,
          12408213,
          12643219,
          8057472,
          9674129,
          11393199,
          22310222,
          10786942,
          9064343,
          10183042,
          9813669,
          10172105,
          11059646,
          15839547,
          7819870,
          9577402,
          13569483,
          13033367,
          18038922,
          7625802,
          10075865,
          8651722,
          12863430,
          9429595,
          9085301,
          13698763,
          11838483,
          13389435,
          13354831,
          7513752,
          13231211,
          16133936,
          6014813,
          14433985,
          12306265,
          7921441,
          15102881,
          11213303,
          8732203,
          9377821,
          14750238,
          12005365,
          12848136,
          9929393,
          10580082,
          12758523,
          13429984,
          12088213,
          12760296,
          8579825,
          11505648,
          10146633,
          14047523,
          16494638,
          12452547,
          9200057,
          11633523,
          11766582,
          10681070,
          9036018,
          14651804,
          11196475,
          19282367,
          15809501,
          12458773,
          10834456,
          11456503,
          11338560,
          12237096,
          8849692,
          10838255,
          11368821,
          6523267,
          12632489,
          14261572,
          11996056,
          10505321,
          16655740,
          11633818,
          9397878,
          9700716,
          13472585,
          12706541,
          10393601,
          13033314,
          16203964,
          7995164,
          9354061,
          9127540,
          12561499,
          15863680,
          10993003,
          9767964,
          9604644,
          11072419,
          13065859,
          15895358,
          12754704,
          9417121,
          11648197,
          9648051,
          11403127,
          7927104,
          13404921,
          13804762,
          15341721,
          12122796,
          13149052,
          13328888,
          16883665,
          11274577,
          13353630,
          12156124,
          14269024,
          11484043,
          6655944,
          12536346,
          13209870,
          13203289,
          13654393,
          12003107,
          13197914,
          14598486,
          12265202,
          13268494,
          13476627,
          21102917,
          10328291,
          11230477,
          8291695,
          8908975,
          12028008,
          10747478,
          12508729,
          9920767,
          19260317,
          11447838,
          11912721,
          13285768,
          12254328,
          12637094,
          12489933,
          10769245,
          15581551,
          7412368,
          13203123,
          9692279,
          12896581,
          12730748,
          11660794,
          14221796,
          10886418,
          16075074,
          14988033,
          12787879,
          15779098,
          12060950,
          11668193,
          16021170,
          7829010,
          14252002,
          9271944,
          15574777,
          9596904,
          11794836,
          14090148,
          9079973,
          12875957,
          12585529,
          7433119,
          10014823,
          7165381,
          16740981,
          10426832,
          15794232,
          10756624,
          17190383,
          9825902,
          13788011,
          13840356,
          12681248,
          9407800,
          15602739,
          11586302,
          8772511,
          14440106,
          9628108,
          11273089,
          16645739,
          14590117,
          10167944,
          13294293,
          16285132,
          9559681,
          15934187,
          10653132,
          10272011,
          12019920,
          10546305,
          14061786,
          13816999,
          7217615,
          15955260,
          15313296,
          11913949,
          16095888,
          9999792,
          14196256,
          11338282,
          10050314,
          14559646,
          12790520,
          12355949,
          9785131,
          11253194,
          11862611,
          11589041,
          12395759,
          9136923,
          8264270,
          17601841,
          8282642,
          13094162,
          10567048,
          15960871,
          8643790,
          10567264,
          12756800,
          8839315,
          7023772,
          12822328,
          11996155,
          12345158,
          13458666,
          10069446,
          12157144,
          9452095,
          15344903,
          9774740,
          13401771,
          10304240,
          8739035,
          16709640,
          14427623,
          13408992,
          11529993,
          9160375,
          15651804,
          13524322,
          10174406,
          11265596,
          14166171,
          10091777,
          6954980,
          11079950,
          9743843,
          14520842,
          8567155,
          10651400,
          12512090,
          11223830,
          11847591,
          6179785,
          10950494,
          10279838,
          8999374,
          11619624,
          10986619,
          12269292,
          12581540,
          13756876,
          11643245,
          13234497,
          10483908,
          8256756,
          12504506,
          13432366,
          9141569,
          16037391,
          9295373,
          12664426,
          11968146,
          11892778,
          15968340,
          11715494,
          18320208,
          10703115,
          10483630,
          13406804,
          11020270,
          9935442,
          8315055,
          15352154,
          9335222,
          14342458,
          11376818,
          11583050,
          10768611,
          10827903,
          9428429,
          9970572,
          13074476,
          10024169,
          11360139,
          11013562,
          13876092,
          9351784,
          9544013,
          14597155,
          9173005,
          17499327,
          11463196,
          10950605,
          10678473,
          10453359,
          11920663,
          12914566,
          13190858,
          11838021,
          12055685,
          12057743,
          9703352,
          12072639,
          13494969,
          12216109,
          13958612,
          9665738,
          9983190,
          11763001,
          11654811,
          10551091,
          17189853,
          13567205,
          14297482,
          12319385,
          12148922,
          9901341,
          10532010,
          12537943,
          7092765,
          10151504,
          13857543,
          9534505,
          12239066,
          7801697,
          10797579,
          10322393,
          13414666,
          10326216,
          8773525,
          11366473,
          11671198,
          11988057,
          7362391,
          9890609,
          16802596,
          12220181,
          11303088,
          12168651,
          6200152,
          9195977,
          12234658,
          10894735,
          14294137,
          9701914,
          10959595,
          10951308,
          12184752,
          10984365,
          10606935,
          10197003,
          16173179,
          12269988,
          11608275,
          13798458,
          13150402,
          10776236,
          17638320,
          16576853,
          10069136,
          13311967,
          8908521,
          12694538,
          8219653,
          10587423,
          9032465,
          13997919,
          18633196,
          14986112,
          10078718,
          12269814,
          23464837,
          10221017,
          11019704,
          12930001,
          12075963,
          7282022,
          9914995,
          12985517,
          8492818,
          9657342,
          7974361,
          9235057,
          1700190780,
          1490383205,
          1918336033,
          2033782620,
          7142692638
         ]
        }
       ],
       "layout": {
        "legend": {
         "tracegroupgap": 0
        },
        "margin": {
         "b": 25,
         "l": 25,
         "r": 25,
         "t": 50
        },
        "template": {
         "data": {
          "bar": [
           {
            "error_x": {
             "color": "#2a3f5f"
            },
            "error_y": {
             "color": "#2a3f5f"
            },
            "marker": {
             "line": {
              "color": "#E5ECF6",
              "width": 0.5
             },
             "pattern": {
              "fillmode": "overlay",
              "size": 10,
              "solidity": 0.2
             }
            },
            "type": "bar"
           }
          ],
          "barpolar": [
           {
            "marker": {
             "line": {
              "color": "#E5ECF6",
              "width": 0.5
             },
             "pattern": {
              "fillmode": "overlay",
              "size": 10,
              "solidity": 0.2
             }
            },
            "type": "barpolar"
           }
          ],
          "carpet": [
           {
            "aaxis": {
             "endlinecolor": "#2a3f5f",
             "gridcolor": "white",
             "linecolor": "white",
             "minorgridcolor": "white",
             "startlinecolor": "#2a3f5f"
            },
            "baxis": {
             "endlinecolor": "#2a3f5f",
             "gridcolor": "white",
             "linecolor": "white",
             "minorgridcolor": "white",
             "startlinecolor": "#2a3f5f"
            },
            "type": "carpet"
           }
          ],
          "choropleth": [
           {
            "colorbar": {
             "outlinewidth": 0,
             "ticks": ""
            },
            "type": "choropleth"
           }
          ],
          "contour": [
           {
            "colorbar": {
             "outlinewidth": 0,
             "ticks": ""
            },
            "colorscale": [
             [
              0,
              "#0d0887"
             ],
             [
              0.1111111111111111,
              "#46039f"
             ],
             [
              0.2222222222222222,
              "#7201a8"
             ],
             [
              0.3333333333333333,
              "#9c179e"
             ],
             [
              0.4444444444444444,
              "#bd3786"
             ],
             [
              0.5555555555555556,
              "#d8576b"
             ],
             [
              0.6666666666666666,
              "#ed7953"
             ],
             [
              0.7777777777777778,
              "#fb9f3a"
             ],
             [
              0.8888888888888888,
              "#fdca26"
             ],
             [
              1,
              "#f0f921"
             ]
            ],
            "type": "contour"
           }
          ],
          "contourcarpet": [
           {
            "colorbar": {
             "outlinewidth": 0,
             "ticks": ""
            },
            "type": "contourcarpet"
           }
          ],
          "heatmap": [
           {
            "colorbar": {
             "outlinewidth": 0,
             "ticks": ""
            },
            "colorscale": [
             [
              0,
              "#0d0887"
             ],
             [
              0.1111111111111111,
              "#46039f"
             ],
             [
              0.2222222222222222,
              "#7201a8"
             ],
             [
              0.3333333333333333,
              "#9c179e"
             ],
             [
              0.4444444444444444,
              "#bd3786"
             ],
             [
              0.5555555555555556,
              "#d8576b"
             ],
             [
              0.6666666666666666,
              "#ed7953"
             ],
             [
              0.7777777777777778,
              "#fb9f3a"
             ],
             [
              0.8888888888888888,
              "#fdca26"
             ],
             [
              1,
              "#f0f921"
             ]
            ],
            "type": "heatmap"
           }
          ],
          "heatmapgl": [
           {
            "colorbar": {
             "outlinewidth": 0,
             "ticks": ""
            },
            "colorscale": [
             [
              0,
              "#0d0887"
             ],
             [
              0.1111111111111111,
              "#46039f"
             ],
             [
              0.2222222222222222,
              "#7201a8"
             ],
             [
              0.3333333333333333,
              "#9c179e"
             ],
             [
              0.4444444444444444,
              "#bd3786"
             ],
             [
              0.5555555555555556,
              "#d8576b"
             ],
             [
              0.6666666666666666,
              "#ed7953"
             ],
             [
              0.7777777777777778,
              "#fb9f3a"
             ],
             [
              0.8888888888888888,
              "#fdca26"
             ],
             [
              1,
              "#f0f921"
             ]
            ],
            "type": "heatmapgl"
           }
          ],
          "histogram": [
           {
            "marker": {
             "pattern": {
              "fillmode": "overlay",
              "size": 10,
              "solidity": 0.2
             }
            },
            "type": "histogram"
           }
          ],
          "histogram2d": [
           {
            "colorbar": {
             "outlinewidth": 0,
             "ticks": ""
            },
            "colorscale": [
             [
              0,
              "#0d0887"
             ],
             [
              0.1111111111111111,
              "#46039f"
             ],
             [
              0.2222222222222222,
              "#7201a8"
             ],
             [
              0.3333333333333333,
              "#9c179e"
             ],
             [
              0.4444444444444444,
              "#bd3786"
             ],
             [
              0.5555555555555556,
              "#d8576b"
             ],
             [
              0.6666666666666666,
              "#ed7953"
             ],
             [
              0.7777777777777778,
              "#fb9f3a"
             ],
             [
              0.8888888888888888,
              "#fdca26"
             ],
             [
              1,
              "#f0f921"
             ]
            ],
            "type": "histogram2d"
           }
          ],
          "histogram2dcontour": [
           {
            "colorbar": {
             "outlinewidth": 0,
             "ticks": ""
            },
            "colorscale": [
             [
              0,
              "#0d0887"
             ],
             [
              0.1111111111111111,
              "#46039f"
             ],
             [
              0.2222222222222222,
              "#7201a8"
             ],
             [
              0.3333333333333333,
              "#9c179e"
             ],
             [
              0.4444444444444444,
              "#bd3786"
             ],
             [
              0.5555555555555556,
              "#d8576b"
             ],
             [
              0.6666666666666666,
              "#ed7953"
             ],
             [
              0.7777777777777778,
              "#fb9f3a"
             ],
             [
              0.8888888888888888,
              "#fdca26"
             ],
             [
              1,
              "#f0f921"
             ]
            ],
            "type": "histogram2dcontour"
           }
          ],
          "mesh3d": [
           {
            "colorbar": {
             "outlinewidth": 0,
             "ticks": ""
            },
            "type": "mesh3d"
           }
          ],
          "parcoords": [
           {
            "line": {
             "colorbar": {
              "outlinewidth": 0,
              "ticks": ""
             }
            },
            "type": "parcoords"
           }
          ],
          "pie": [
           {
            "automargin": true,
            "type": "pie"
           }
          ],
          "scatter": [
           {
            "fillpattern": {
             "fillmode": "overlay",
             "size": 10,
             "solidity": 0.2
            },
            "type": "scatter"
           }
          ],
          "scatter3d": [
           {
            "line": {
             "colorbar": {
              "outlinewidth": 0,
              "ticks": ""
             }
            },
            "marker": {
             "colorbar": {
              "outlinewidth": 0,
              "ticks": ""
             }
            },
            "type": "scatter3d"
           }
          ],
          "scattercarpet": [
           {
            "marker": {
             "colorbar": {
              "outlinewidth": 0,
              "ticks": ""
             }
            },
            "type": "scattercarpet"
           }
          ],
          "scattergeo": [
           {
            "marker": {
             "colorbar": {
              "outlinewidth": 0,
              "ticks": ""
             }
            },
            "type": "scattergeo"
           }
          ],
          "scattergl": [
           {
            "marker": {
             "colorbar": {
              "outlinewidth": 0,
              "ticks": ""
             }
            },
            "type": "scattergl"
           }
          ],
          "scattermapbox": [
           {
            "marker": {
             "colorbar": {
              "outlinewidth": 0,
              "ticks": ""
             }
            },
            "type": "scattermapbox"
           }
          ],
          "scatterpolar": [
           {
            "marker": {
             "colorbar": {
              "outlinewidth": 0,
              "ticks": ""
             }
            },
            "type": "scatterpolar"
           }
          ],
          "scatterpolargl": [
           {
            "marker": {
             "colorbar": {
              "outlinewidth": 0,
              "ticks": ""
             }
            },
            "type": "scatterpolargl"
           }
          ],
          "scatterternary": [
           {
            "marker": {
             "colorbar": {
              "outlinewidth": 0,
              "ticks": ""
             }
            },
            "type": "scatterternary"
           }
          ],
          "surface": [
           {
            "colorbar": {
             "outlinewidth": 0,
             "ticks": ""
            },
            "colorscale": [
             [
              0,
              "#0d0887"
             ],
             [
              0.1111111111111111,
              "#46039f"
             ],
             [
              0.2222222222222222,
              "#7201a8"
             ],
             [
              0.3333333333333333,
              "#9c179e"
             ],
             [
              0.4444444444444444,
              "#bd3786"
             ],
             [
              0.5555555555555556,
              "#d8576b"
             ],
             [
              0.6666666666666666,
              "#ed7953"
             ],
             [
              0.7777777777777778,
              "#fb9f3a"
             ],
             [
              0.8888888888888888,
              "#fdca26"
             ],
             [
              1,
              "#f0f921"
             ]
            ],
            "type": "surface"
           }
          ],
          "table": [
           {
            "cells": {
             "fill": {
              "color": "#EBF0F8"
             },
             "line": {
              "color": "white"
             }
            },
            "header": {
             "fill": {
              "color": "#C8D4E3"
             },
             "line": {
              "color": "white"
             }
            },
            "type": "table"
           }
          ]
         },
         "layout": {
          "annotationdefaults": {
           "arrowcolor": "#2a3f5f",
           "arrowhead": 0,
           "arrowwidth": 1
          },
          "autotypenumbers": "strict",
          "coloraxis": {
           "colorbar": {
            "outlinewidth": 0,
            "ticks": ""
           }
          },
          "colorscale": {
           "diverging": [
            [
             0,
             "#8e0152"
            ],
            [
             0.1,
             "#c51b7d"
            ],
            [
             0.2,
             "#de77ae"
            ],
            [
             0.3,
             "#f1b6da"
            ],
            [
             0.4,
             "#fde0ef"
            ],
            [
             0.5,
             "#f7f7f7"
            ],
            [
             0.6,
             "#e6f5d0"
            ],
            [
             0.7,
             "#b8e186"
            ],
            [
             0.8,
             "#7fbc41"
            ],
            [
             0.9,
             "#4d9221"
            ],
            [
             1,
             "#276419"
            ]
           ],
           "sequential": [
            [
             0,
             "#0d0887"
            ],
            [
             0.1111111111111111,
             "#46039f"
            ],
            [
             0.2222222222222222,
             "#7201a8"
            ],
            [
             0.3333333333333333,
             "#9c179e"
            ],
            [
             0.4444444444444444,
             "#bd3786"
            ],
            [
             0.5555555555555556,
             "#d8576b"
            ],
            [
             0.6666666666666666,
             "#ed7953"
            ],
            [
             0.7777777777777778,
             "#fb9f3a"
            ],
            [
             0.8888888888888888,
             "#fdca26"
            ],
            [
             1,
             "#f0f921"
            ]
           ],
           "sequentialminus": [
            [
             0,
             "#0d0887"
            ],
            [
             0.1111111111111111,
             "#46039f"
            ],
            [
             0.2222222222222222,
             "#7201a8"
            ],
            [
             0.3333333333333333,
             "#9c179e"
            ],
            [
             0.4444444444444444,
             "#bd3786"
            ],
            [
             0.5555555555555556,
             "#d8576b"
            ],
            [
             0.6666666666666666,
             "#ed7953"
            ],
            [
             0.7777777777777778,
             "#fb9f3a"
            ],
            [
             0.8888888888888888,
             "#fdca26"
            ],
            [
             1,
             "#f0f921"
            ]
           ]
          },
          "colorway": [
           "#636efa",
           "#EF553B",
           "#00cc96",
           "#ab63fa",
           "#FFA15A",
           "#19d3f3",
           "#FF6692",
           "#B6E880",
           "#FF97FF",
           "#FECB52"
          ],
          "font": {
           "color": "#2a3f5f"
          },
          "geo": {
           "bgcolor": "white",
           "lakecolor": "white",
           "landcolor": "#E5ECF6",
           "showlakes": true,
           "showland": true,
           "subunitcolor": "white"
          },
          "hoverlabel": {
           "align": "left"
          },
          "hovermode": "closest",
          "mapbox": {
           "style": "light"
          },
          "paper_bgcolor": "white",
          "plot_bgcolor": "#E5ECF6",
          "polar": {
           "angularaxis": {
            "gridcolor": "white",
            "linecolor": "white",
            "ticks": ""
           },
           "bgcolor": "#E5ECF6",
           "radialaxis": {
            "gridcolor": "white",
            "linecolor": "white",
            "ticks": ""
           }
          },
          "scene": {
           "xaxis": {
            "backgroundcolor": "#E5ECF6",
            "gridcolor": "white",
            "gridwidth": 2,
            "linecolor": "white",
            "showbackground": true,
            "ticks": "",
            "zerolinecolor": "white"
           },
           "yaxis": {
            "backgroundcolor": "#E5ECF6",
            "gridcolor": "white",
            "gridwidth": 2,
            "linecolor": "white",
            "showbackground": true,
            "ticks": "",
            "zerolinecolor": "white"
           },
           "zaxis": {
            "backgroundcolor": "#E5ECF6",
            "gridcolor": "white",
            "gridwidth": 2,
            "linecolor": "white",
            "showbackground": true,
            "ticks": "",
            "zerolinecolor": "white"
           }
          },
          "shapedefaults": {
           "line": {
            "color": "#2a3f5f"
           }
          },
          "ternary": {
           "aaxis": {
            "gridcolor": "white",
            "linecolor": "white",
            "ticks": ""
           },
           "baxis": {
            "gridcolor": "white",
            "linecolor": "white",
            "ticks": ""
           },
           "bgcolor": "#E5ECF6",
           "caxis": {
            "gridcolor": "white",
            "linecolor": "white",
            "ticks": ""
           }
          },
          "title": {
           "x": 0.05
          },
          "xaxis": {
           "automargin": true,
           "gridcolor": "white",
           "linecolor": "white",
           "ticks": "",
           "title": {
            "standoff": 15
           },
           "zerolinecolor": "white",
           "zerolinewidth": 2
          },
          "yaxis": {
           "automargin": true,
           "gridcolor": "white",
           "linecolor": "white",
           "ticks": "",
           "title": {
            "standoff": 15
           },
           "zerolinecolor": "white",
           "zerolinewidth": 2
          }
         }
        }
       }
      }
     },
     "metadata": {},
     "output_type": "display_data"
    }
   ],
   "source": []
  },
  {
   "cell_type": "code",
   "execution_count": 346,
   "metadata": {},
   "outputs": [
    {
     "data": {
      "text/html": [
       "<div>\n",
       "<style scoped>\n",
       "    .dataframe tbody tr th:only-of-type {\n",
       "        vertical-align: middle;\n",
       "    }\n",
       "\n",
       "    .dataframe tbody tr th {\n",
       "        vertical-align: top;\n",
       "    }\n",
       "\n",
       "    .dataframe thead th {\n",
       "        text-align: right;\n",
       "    }\n",
       "</style>\n",
       "<table border=\"1\" class=\"dataframe\">\n",
       "  <thead>\n",
       "    <tr style=\"text-align: right;\">\n",
       "      <th></th>\n",
       "      <th>tags</th>\n",
       "      <th>uploader</th>\n",
       "      <th>sentiment</th>\n",
       "      <th>view_count</th>\n",
       "      <th>comment_count</th>\n",
       "      <th>duration</th>\n",
       "    </tr>\n",
       "  </thead>\n",
       "  <tbody>\n",
       "    <tr>\n",
       "      <th>243</th>\n",
       "      <td>tag18</td>\n",
       "      <td>TV9</td>\n",
       "      <td>-0.004078</td>\n",
       "      <td>23464837.0</td>\n",
       "      <td>8886.0</td>\n",
       "      <td>221.762222</td>\n",
       "    </tr>\n",
       "    <tr>\n",
       "      <th>590</th>\n",
       "      <td>tag97</td>\n",
       "      <td>TV5</td>\n",
       "      <td>-0.037824</td>\n",
       "      <td>22310222.0</td>\n",
       "      <td>15326.0</td>\n",
       "      <td>356.587778</td>\n",
       "    </tr>\n",
       "    <tr>\n",
       "      <th>183</th>\n",
       "      <td>tag139</td>\n",
       "      <td>TV9</td>\n",
       "      <td>0.006230</td>\n",
       "      <td>21102917.0</td>\n",
       "      <td>9185.0</td>\n",
       "      <td>226.424722</td>\n",
       "    </tr>\n",
       "    <tr>\n",
       "      <th>223</th>\n",
       "      <td>tag148</td>\n",
       "      <td>TV9</td>\n",
       "      <td>0.014320</td>\n",
       "      <td>20356671.0</td>\n",
       "      <td>6493.0</td>\n",
       "      <td>187.078056</td>\n",
       "    </tr>\n",
       "    <tr>\n",
       "      <th>579</th>\n",
       "      <td>tag94</td>\n",
       "      <td>TV9</td>\n",
       "      <td>-0.015693</td>\n",
       "      <td>19996053.0</td>\n",
       "      <td>7319.0</td>\n",
       "      <td>185.166111</td>\n",
       "    </tr>\n",
       "    <tr>\n",
       "      <th>...</th>\n",
       "      <td>...</td>\n",
       "      <td>...</td>\n",
       "      <td>...</td>\n",
       "      <td>...</td>\n",
       "      <td>...</td>\n",
       "      <td>...</td>\n",
       "    </tr>\n",
       "    <tr>\n",
       "      <th>437</th>\n",
       "      <td>tag62</td>\n",
       "      <td>Sakshi</td>\n",
       "      <td>-0.070441</td>\n",
       "      <td>6523267.0</td>\n",
       "      <td>8976.0</td>\n",
       "      <td>102.713611</td>\n",
       "    </tr>\n",
       "    <tr>\n",
       "      <th>149</th>\n",
       "      <td>tag131</td>\n",
       "      <td>Sakshi</td>\n",
       "      <td>0.021389</td>\n",
       "      <td>6200152.0</td>\n",
       "      <td>9280.0</td>\n",
       "      <td>110.744722</td>\n",
       "    </tr>\n",
       "    <tr>\n",
       "      <th>5</th>\n",
       "      <td>tag1</td>\n",
       "      <td>Sakshi</td>\n",
       "      <td>-0.010062</td>\n",
       "      <td>6179785.0</td>\n",
       "      <td>7915.0</td>\n",
       "      <td>85.843611</td>\n",
       "    </tr>\n",
       "    <tr>\n",
       "      <th>289</th>\n",
       "      <td>tag29</td>\n",
       "      <td>Sakshi</td>\n",
       "      <td>0.038034</td>\n",
       "      <td>6105906.0</td>\n",
       "      <td>10276.0</td>\n",
       "      <td>103.733611</td>\n",
       "    </tr>\n",
       "    <tr>\n",
       "      <th>477</th>\n",
       "      <td>tag71</td>\n",
       "      <td>Sakshi</td>\n",
       "      <td>0.008648</td>\n",
       "      <td>6014813.0</td>\n",
       "      <td>8415.0</td>\n",
       "      <td>79.809444</td>\n",
       "    </tr>\n",
       "  </tbody>\n",
       "</table>\n",
       "<p>600 rows × 6 columns</p>\n",
       "</div>"
      ],
      "text/plain": [
       "       tags uploader  sentiment  view_count  comment_count    duration\n",
       "243   tag18      TV9  -0.004078  23464837.0         8886.0  221.762222\n",
       "590   tag97      TV5  -0.037824  22310222.0        15326.0  356.587778\n",
       "183  tag139      TV9   0.006230  21102917.0         9185.0  226.424722\n",
       "223  tag148      TV9   0.014320  20356671.0         6493.0  187.078056\n",
       "579   tag94      TV9  -0.015693  19996053.0         7319.0  185.166111\n",
       "..      ...      ...        ...         ...            ...         ...\n",
       "437   tag62   Sakshi  -0.070441   6523267.0         8976.0  102.713611\n",
       "149  tag131   Sakshi   0.021389   6200152.0         9280.0  110.744722\n",
       "5      tag1   Sakshi  -0.010062   6179785.0         7915.0   85.843611\n",
       "289   tag29   Sakshi   0.038034   6105906.0        10276.0  103.733611\n",
       "477   tag71   Sakshi   0.008648   6014813.0         8415.0   79.809444\n",
       "\n",
       "[600 rows x 6 columns]"
      ]
     },
     "execution_count": 346,
     "metadata": {},
     "output_type": "execute_result"
    }
   ],
   "source": []
  },
  {
   "cell_type": "code",
   "execution_count": 345,
   "metadata": {},
   "outputs": [
    {
     "data": {
      "application/vnd.plotly.v1+json": {
       "config": {
        "plotlyServerURL": "https://plot.ly"
       },
       "data": [
        {
         "branchvalues": "total",
         "customdata": [
          [
           119.22,
           "Sakshi"
          ],
          [
           121.75777777777778,
           "Sakshi"
          ],
          [
           123.09305555555555,
           "Sakshi"
          ],
          [
           75.67527777777778,
           "Sakshi"
          ],
          [
           365.9627777777778,
           "TV5"
          ],
          [
           109.14777777777778,
           "Sakshi"
          ],
          [
           396.91305555555556,
           "TV5"
          ],
          [
           578.3091666666667,
           "ABN"
          ],
          [
           353.5102777777778,
           "TV5"
          ],
          [
           104.62333333333333,
           "Sakshi"
          ],
          [
           504.7708333333333,
           "ABN"
          ],
          [
           409.0022222222222,
           "TV5"
          ],
          [
           796.4227777777778,
           "ABN"
          ],
          [
           169.55916666666667,
           "TV9"
          ],
          [
           118.95111111111112,
           "Sakshi"
          ],
          [
           348.8541666666667,
           "TV5"
          ],
          [
           222.36416666666668,
           "TV9"
          ],
          [
           234.21277777777777,
           "TV9"
          ],
          [
           141.54527777777778,
           "Sakshi"
          ],
          [
           446.8,
           "TV5"
          ],
          [
           105.39722222222223,
           "Sakshi"
          ],
          [
           640.7333333333333,
           "ABN"
          ],
          [
           233.54194444444445,
           "TV9"
          ],
          [
           602.3130555555556,
           "ABN"
          ],
          [
           178.52972222222223,
           "TV9"
          ],
          [
           119.67888888888889,
           "Sakshi"
          ],
          [
           555.9836111111111,
           "ABN"
          ],
          [
           370.25055555555554,
           "TV5"
          ],
          [
           566.0383333333333,
           "ABN"
          ],
          [
           424.06111111111113,
           "TV5"
          ],
          [
           80.43527777777778,
           "Sakshi"
          ],
          [
           606.0247222222222,
           "ABN"
          ],
          [
           410.8038888888889,
           "TV5"
          ],
          [
           531.5325,
           "ABN"
          ],
          [
           186.63,
           "TV9"
          ],
          [
           362.4191666666667,
           "TV5"
          ],
          [
           344.1561111111111,
           "TV5"
          ],
          [
           230.25194444444443,
           "TV9"
          ],
          [
           279.3827777777778,
           "TV5"
          ],
          [
           94.6925,
           "Sakshi"
          ],
          [
           153.71138888888888,
           "TV9"
          ],
          [
           167.2588888888889,
           "TV9"
          ],
          [
           232.5363888888889,
           "TV9"
          ],
          [
           578.2933333333333,
           "ABN"
          ],
          [
           111.14944444444444,
           "Sakshi"
          ],
          [
           596.3247222222222,
           "ABN"
          ],
          [
           186.77305555555554,
           "TV9"
          ],
          [
           404.9525,
           "TV5"
          ],
          [
           537.9886111111111,
           "ABN"
          ],
          [
           361.8,
           "TV5"
          ],
          [
           534.3547222222222,
           "ABN"
          ],
          [
           71.86083333333333,
           "Sakshi"
          ],
          [
           705.9705555555555,
           "ABN"
          ],
          [
           207.42027777777778,
           "TV9"
          ],
          [
           109.33111111111111,
           "Sakshi"
          ],
          [
           626.4022222222222,
           "ABN"
          ],
          [
           180.1913888888889,
           "TV9"
          ],
          [
           332.02694444444444,
           "TV5"
          ],
          [
           355.8613888888889,
           "TV5"
          ],
          [
           115.18777777777778,
           "Sakshi"
          ],
          [
           120.19972222222222,
           "Sakshi"
          ],
          [
           686.7008333333333,
           "ABN"
          ],
          [
           353.4636111111111,
           "TV5"
          ],
          [
           648.3688888888889,
           "ABN"
          ],
          [
           122.68916666666667,
           "Sakshi"
          ],
          [
           405.46777777777777,
           "TV5"
          ],
          [
           329.88666666666666,
           "TV5"
          ],
          [
           626.2494444444444,
           "ABN"
          ],
          [
           210.34416666666667,
           "TV9"
          ],
          [
           519.5477777777778,
           "ABN"
          ],
          [
           74.71888888888888,
           "Sakshi"
          ],
          [
           102.42361111111111,
           "Sakshi"
          ],
          [
           368.76,
           "TV5"
          ],
          [
           187.43527777777777,
           "TV9"
          ],
          [
           631.3236111111111,
           "ABN"
          ],
          [
           231.89305555555555,
           "TV9"
          ],
          [
           354.3352777777778,
           "TV5"
          ],
          [
           130.99972222222223,
           "Sakshi"
          ],
          [
           523.0738888888889,
           "ABN"
          ],
          [
           219.38555555555556,
           "TV9"
          ],
          [
           61.945277777777775,
           "Sakshi"
          ],
          [
           103.90444444444445,
           "Sakshi"
          ],
          [
           221.61444444444444,
           "TV9"
          ],
          [
           131.52083333333334,
           "Sakshi"
          ],
          [
           397.86583333333334,
           "TV5"
          ],
          [
           146.5611111111111,
           "TV9"
          ],
          [
           323.2391666666667,
           "TV5"
          ],
          [
           135.2277777777778,
           "Sakshi"
          ],
          [
           527.57,
           "ABN"
          ],
          [
           229.89944444444444,
           "TV9"
          ],
          [
           217.89777777777778,
           "TV9"
          ],
          [
           117.465,
           "Sakshi"
          ],
          [
           370.49861111111113,
           "TV5"
          ],
          [
           97.07194444444444,
           "Sakshi"
          ],
          [
           554.7011111111111,
           "ABN"
          ],
          [
           337.2727777777778,
           "TV5"
          ],
          [
           205.9961111111111,
           "TV9"
          ],
          [
           187.07805555555555,
           "TV9"
          ],
          [
           656.4447222222223,
           "ABN"
          ],
          [
           238.56805555555556,
           "TV9"
          ],
          [
           161.91305555555556,
           "TV9"
          ],
          [
           354.15555555555557,
           "TV5"
          ],
          [
           117.01083333333334,
           "Sakshi"
          ],
          [
           175.34666666666666,
           "TV9"
          ],
          [
           110.84777777777778,
           "Sakshi"
          ],
          [
           663.2536111111111,
           "ABN"
          ],
          [
           720.0530555555556,
           "ABN"
          ],
          [
           216.76666666666668,
           "TV9"
          ],
          [
           127.37,
           "Sakshi"
          ],
          [
           165.77,
           "TV9"
          ],
          [
           340.02416666666664,
           "TV5"
          ],
          [
           113.21305555555556,
           "Sakshi"
          ],
          [
           104.48222222222222,
           "Sakshi"
          ],
          [
           414.5036111111111,
           "TV5"
          ],
          [
           426.1661111111111,
           "TV5"
          ],
          [
           175.15583333333333,
           "TV9"
          ],
          [
           669.6613888888888,
           "ABN"
          ],
          [
           374.12388888888887,
           "TV5"
          ],
          [
           101.20777777777778,
           "Sakshi"
          ],
          [
           430.3797222222222,
           "TV5"
          ],
          [
           201.37166666666667,
           "TV9"
          ],
          [
           528.9961111111111,
           "ABN"
          ],
          [
           147.74305555555554,
           "Sakshi"
          ],
          [
           216.63333333333333,
           "TV9"
          ],
          [
           334.18583333333333,
           "TV5"
          ],
          [
           110.48055555555555,
           "Sakshi"
          ],
          [
           542.2072222222222,
           "ABN"
          ],
          [
           360.25305555555553,
           "TV5"
          ],
          [
           418.37805555555553,
           "TV5"
          ],
          [
           552.6288888888889,
           "ABN"
          ],
          [
           214.01416666666665,
           "TV9"
          ],
          [
           240.09833333333333,
           "TV9"
          ],
          [
           91.21972222222222,
           "Sakshi"
          ],
          [
           220.4688888888889,
           "TV9"
          ],
          [
           525.1497222222222,
           "ABN"
          ],
          [
           622.0358333333334,
           "ABN"
          ],
          [
           203.84305555555557,
           "TV9"
          ],
          [
           221.49027777777778,
           "TV9"
          ],
          [
           716.7577777777777,
           "ABN"
          ],
          [
           352.59527777777777,
           "TV5"
          ],
          [
           103.40416666666667,
           "Sakshi"
          ],
          [
           633.4602777777778,
           "ABN"
          ],
          [
           216.7111111111111,
           "TV9"
          ],
          [
           228.33305555555555,
           "TV9"
          ],
          [
           383.7344444444444,
           "TV5"
          ],
          [
           644.2102777777778,
           "ABN"
          ],
          [
           159.76083333333332,
           "TV9"
          ],
          [
           347.6069444444444,
           "TV5"
          ],
          [
           664.6197222222222,
           "ABN"
          ],
          [
           63.17611111111111,
           "Sakshi"
          ],
          [
           113,
           "Sakshi"
          ],
          [
           96.99333333333334,
           "Sakshi"
          ],
          [
           312.0811111111111,
           "TV5"
          ],
          [
           167.5825,
           "TV9"
          ],
          [
           358.26,
           "TV5"
          ],
          [
           635.9322222222222,
           "ABN"
          ],
          [
           166.8386111111111,
           "TV9"
          ],
          [
           184.98777777777778,
           "TV9"
          ],
          [
           440.5152777777778,
           "TV5"
          ],
          [
           381.4741666666667,
           "TV5"
          ],
          [
           135.76333333333332,
           "Sakshi"
          ],
          [
           192.5052777777778,
           "TV9"
          ],
          [
           307.7663888888889,
           "TV5"
          ],
          [
           103.73361111111112,
           "Sakshi"
          ],
          [
           578.7858333333334,
           "ABN"
          ],
          [
           169.12722222222223,
           "TV9"
          ],
          [
           201.86138888888888,
           "TV9"
          ],
          [
           305.12888888888887,
           "TV5"
          ],
          [
           424.5702777777778,
           "TV5"
          ],
          [
           93.07055555555556,
           "Sakshi"
          ],
          [
           101.00916666666667,
           "Sakshi"
          ],
          [
           172.51166666666666,
           "TV9"
          ],
          [
           130.78194444444443,
           "Sakshi"
          ],
          [
           110.68388888888889,
           "Sakshi"
          ],
          [
           639.6583333333333,
           "ABN"
          ],
          [
           133.56083333333333,
           "Sakshi"
          ],
          [
           566.6177777777777,
           "ABN"
          ],
          [
           322.80027777777775,
           "TV5"
          ],
          [
           127.55472222222222,
           "Sakshi"
          ],
          [
           672.8908333333334,
           "ABN"
          ],
          [
           185.16611111111112,
           "TV9"
          ],
          [
           433.11805555555554,
           "TV5"
          ],
          [
           115.01611111111112,
           "Sakshi"
          ],
          [
           533.6658333333334,
           "ABN"
          ],
          [
           203.33444444444444,
           "TV9"
          ],
          [
           357.61805555555554,
           "TV5"
          ],
          [
           116.08694444444444,
           "Sakshi"
          ],
          [
           668.5088888888889,
           "ABN"
          ],
          [
           675.4913888888889,
           "ABN"
          ],
          [
           211.02055555555555,
           "TV9"
          ],
          [
           419.75055555555554,
           "TV5"
          ],
          [
           138.5888888888889,
           "Sakshi"
          ],
          [
           254.76305555555555,
           "TV5"
          ],
          [
           229.58194444444445,
           "TV9"
          ],
          [
           631.8986111111111,
           "ABN"
          ],
          [
           396.8986111111111,
           "TV5"
          ],
          [
           703.4947222222222,
           "ABN"
          ],
          [
           410.60583333333335,
           "TV5"
          ],
          [
           232.4661111111111,
           "TV9"
          ],
          [
           182.43166666666667,
           "TV9"
          ],
          [
           70.23972222222223,
           "Sakshi"
          ],
          [
           126.1975,
           "Sakshi"
          ],
          [
           688.7125,
           "ABN"
          ],
          [
           356.5877777777778,
           "TV5"
          ],
          [
           160.03694444444446,
           "TV9"
          ],
          [
           134.02805555555557,
           "Sakshi"
          ],
          [
           90.67916666666666,
           "Sakshi"
          ],
          [
           615.8772222222223,
           "ABN"
          ],
          [
           118.38083333333333,
           "Sakshi"
          ],
          [
           180.48833333333334,
           "TV9"
          ],
          [
           795.1566666666666,
           "ABN"
          ],
          [
           123.76305555555555,
           "Sakshi"
          ],
          [
           646.5925,
           "ABN"
          ],
          [
           178.44305555555556,
           "TV9"
          ],
          [
           328.7386111111111,
           "TV5"
          ],
          [
           192.95833333333334,
           "TV9"
          ],
          [
           103.28611111111111,
           "Sakshi"
          ],
          [
           130.86305555555555,
           "Sakshi"
          ],
          [
           99.49638888888889,
           "Sakshi"
          ],
          [
           603.7625,
           "ABN"
          ],
          [
           102.3075,
           "Sakshi"
          ],
          [
           550.9536111111111,
           "ABN"
          ],
          [
           133.71722222222223,
           "Sakshi"
          ],
          [
           137.7086111111111,
           "Sakshi"
          ],
          [
           209.42333333333335,
           "TV9"
          ],
          [
           184.66194444444446,
           "TV9"
          ],
          [
           110.62416666666667,
           "Sakshi"
          ],
          [
           591.5825,
           "ABN"
          ],
          [
           273.6502777777778,
           "TV5"
          ],
          [
           79.80944444444444,
           "Sakshi"
          ],
          [
           234.6825,
           "TV9"
          ],
          [
           565.4533333333334,
           "ABN"
          ],
          [
           63.27527777777778,
           "Sakshi"
          ],
          [
           408.57472222222225,
           "TV5"
          ],
          [
           355.56083333333333,
           "TV5"
          ],
          [
           617.6930555555556,
           "ABN"
          ],
          [
           81.18583333333333,
           "Sakshi"
          ],
          [
           371.72194444444443,
           "TV5"
          ],
          [
           193.0586111111111,
           "TV9"
          ],
          [
           333.81361111111113,
           "TV5"
          ],
          [
           615.5625,
           "ABN"
          ],
          [
           595.1797222222223,
           "ABN"
          ],
          [
           140.00166666666667,
           "Sakshi"
          ],
          [
           573.1141666666666,
           "ABN"
          ],
          [
           349.9461111111111,
           "TV5"
          ],
          [
           165.07722222222222,
           "TV9"
          ],
          [
           580.0377777777778,
           "ABN"
          ],
          [
           437.2052777777778,
           "TV5"
          ],
          [
           88.68416666666667,
           "Sakshi"
          ],
          [
           409.55361111111114,
           "TV5"
          ],
          [
           203.28916666666666,
           "TV9"
          ],
          [
           545.1725,
           "ABN"
          ],
          [
           143.8697222222222,
           "Sakshi"
          ],
          [
           325.65194444444444,
           "TV5"
          ],
          [
           652.8036111111111,
           "ABN"
          ],
          [
           203.9561111111111,
           "TV9"
          ],
          [
           110.34444444444445,
           "Sakshi"
          ],
          [
           198.855,
           "TV9"
          ],
          [
           209.16944444444445,
           "TV9"
          ],
          [
           224.24166666666667,
           "TV9"
          ],
          [
           213.3961111111111,
           "TV9"
          ],
          [
           631.1619444444444,
           "ABN"
          ],
          [
           292.7008333333333,
           "TV5"
          ],
          [
           600.9622222222222,
           "ABN"
          ],
          [
           359.4352777777778,
           "TV5"
          ],
          [
           199.06166666666667,
           "TV9"
          ],
          [
           162.00222222222223,
           "Sakshi"
          ],
          [
           714.1086111111111,
           "ABN"
          ],
          [
           115.34416666666667,
           "Sakshi"
          ],
          [
           102.7136111111111,
           "Sakshi"
          ],
          [
           187.66055555555556,
           "TV9"
          ],
          [
           363.43611111111113,
           "TV5"
          ],
          [
           350.9847222222222,
           "TV5"
          ],
          [
           553.5525,
           "ABN"
          ],
          [
           217.1038888888889,
           "TV9"
          ],
          [
           174.72611111111112,
           "TV9"
          ],
          [
           105.87666666666667,
           "Sakshi"
          ],
          [
           117.52805555555555,
           "Sakshi"
          ],
          [
           708.5944444444444,
           "ABN"
          ],
          [
           377.74611111111113,
           "TV5"
          ],
          [
           124.74805555555555,
           "TV9"
          ],
          [
           407.0308333333333,
           "TV5"
          ],
          [
           398.93638888888887,
           "TV5"
          ],
          [
           554.7388888888889,
           "ABN"
          ],
          [
           585.5436111111111,
           "ABN"
          ],
          [
           93.97416666666666,
           "Sakshi"
          ],
          [
           288.8877777777778,
           "TV5"
          ],
          [
           157.69694444444445,
           "TV9"
          ],
          [
           719.1958333333333,
           "ABN"
          ],
          [
           105.55444444444444,
           "Sakshi"
          ],
          [
           169.80083333333334,
           "Sakshi"
          ],
          [
           557.0841666666666,
           "ABN"
          ],
          [
           419.3227777777778,
           "TV5"
          ],
          [
           224.04611111111112,
           "TV9"
          ],
          [
           282.37388888888887,
           "TV5"
          ],
          [
           145.6638888888889,
           "Sakshi"
          ],
          [
           364.53527777777776,
           "TV5"
          ],
          [
           138.26333333333332,
           "Sakshi"
          ],
          [
           425.8461111111111,
           "TV5"
          ],
          [
           62.93527777777778,
           "Sakshi"
          ],
          [
           177.095,
           "TV9"
          ],
          [
           622.9883333333333,
           "ABN"
          ],
          [
           244.1952777777778,
           "TV9"
          ],
          [
           389.23583333333335,
           "TV5"
          ],
          [
           338.1061111111111,
           "TV5"
          ],
          [
           402.4480555555556,
           "TV5"
          ],
          [
           180.88,
           "TV9"
          ],
          [
           325.9327777777778,
           "TV5"
          ],
          [
           390.2288888888889,
           "TV5"
          ],
          [
           628.0130555555555,
           "ABN"
          ],
          [
           116.38888888888889,
           "Sakshi"
          ],
          [
           652.6136111111111,
           "ABN"
          ],
          [
           90.39861111111111,
           "Sakshi"
          ],
          [
           711.8469444444445,
           "ABN"
          ],
          [
           412.3361111111111,
           "TV5"
          ],
          [
           613.0744444444445,
           "ABN"
          ],
          [
           793.1786111111111,
           "ABN"
          ],
          [
           448.59277777777777,
           "TV5"
          ],
          [
           212.92527777777778,
           "TV9"
          ],
          [
           196.91444444444446,
           "TV9"
          ],
          [
           734.2383333333333,
           "ABN"
          ],
          [
           385.39,
           "TV5"
          ],
          [
           101.27111111111111,
           "Sakshi"
          ],
          [
           226.42472222222221,
           "TV9"
          ],
          [
           332.0186111111111,
           "TV5"
          ],
          [
           67.01916666666666,
           "Sakshi"
          ],
          [
           116.03472222222223,
           "Sakshi"
          ],
          [
           605.8475,
           "ABN"
          ],
          [
           285.46722222222223,
           "TV5"
          ],
          [
           201.6363888888889,
           "TV9"
          ],
          [
           118.02277777777778,
           "Sakshi"
          ],
          [
           583.6947222222223,
           "ABN"
          ],
          [
           188.5,
           "TV9"
          ],
          [
           584.1263888888889,
           "ABN"
          ],
          [
           388.25444444444446,
           "TV5"
          ],
          [
           590.7025,
           "ABN"
          ],
          [
           156.6375,
           "TV9"
          ],
          [
           215.4525,
           "TV9"
          ],
          [
           216.83694444444444,
           "TV9"
          ],
          [
           152.0113888888889,
           "TV9"
          ],
          [
           210.85472222222222,
           "TV9"
          ],
          [
           134.885,
           "Sakshi"
          ],
          [
           89.55444444444444,
           "Sakshi"
          ],
          [
           550.7686111111111,
           "ABN"
          ],
          [
           215.23916666666668,
           "TV9"
          ],
          [
           356.35777777777776,
           "TV5"
          ],
          [
           546.4277777777778,
           "ABN"
          ],
          [
           202.52833333333334,
           "TV9"
          ],
          [
           657.3386111111112,
           "ABN"
          ],
          [
           351.5419444444444,
           "TV5"
          ],
          [
           226.36194444444445,
           "TV9"
          ],
          [
           362.30555555555554,
           "TV5"
          ],
          [
           152.81861111111112,
           "Sakshi"
          ],
          [
           395.6388888888889,
           "TV5"
          ],
          [
           166.75,
           "TV9"
          ],
          [
           366.33,
           "TV5"
          ],
          [
           97.3775,
           "Sakshi"
          ],
          [
           200.825,
           "TV9"
          ],
          [
           110.19972222222222,
           "Sakshi"
          ],
          [
           267.0425,
           "TV9"
          ],
          [
           56.33111111111111,
           "Sakshi"
          ],
          [
           143.97833333333332,
           "TV9"
          ],
          [
           177.59305555555557,
           "TV9"
          ],
          [
           61.65611111111111,
           "Sakshi"
          ],
          [
           372.36833333333334,
           "TV5"
          ],
          [
           644.4841666666666,
           "ABN"
          ],
          [
           99.06361111111111,
           "Sakshi"
          ],
          [
           620.7663888888889,
           "ABN"
          ],
          [
           76.49305555555556,
           "Sakshi"
          ],
          [
           164.34416666666667,
           "TV9"
          ],
          [
           614.5752777777777,
           "ABN"
          ],
          [
           170.79694444444445,
           "TV9"
          ],
          [
           198.71305555555554,
           "TV9"
          ],
          [
           185.39416666666668,
           "TV9"
          ],
          [
           105.72527777777778,
           "Sakshi"
          ],
          [
           225.70694444444445,
           "TV9"
          ],
          [
           326.25333333333333,
           "TV5"
          ],
          [
           327.97027777777777,
           "TV5"
          ],
          [
           558.8097222222223,
           "ABN"
          ],
          [
           372.935,
           "TV5"
          ],
          [
           186.08388888888888,
           "TV9"
          ],
          [
           102.04194444444444,
           "Sakshi"
          ],
          [
           464.6277777777778,
           "TV5"
          ],
          [
           483.0225,
           "ABN"
          ],
          [
           167.06555555555556,
           "TV9"
          ],
          [
           215.30666666666667,
           "TV9"
          ],
          [
           712.7727777777778,
           "ABN"
          ],
          [
           195.77277777777778,
           "TV9"
          ],
          [
           316.72305555555556,
           "TV5"
          ],
          [
           159.50666666666666,
           "TV9"
          ],
          [
           159.83194444444445,
           "TV9"
          ],
          [
           353.49083333333334,
           "TV5"
          ],
          [
           379.37638888888887,
           "TV5"
          ],
          [
           628.6827777777778,
           "ABN"
          ],
          [
           340.02472222222224,
           "TV5"
          ],
          [
           290.49,
           "TV5"
          ],
          [
           713.5330555555555,
           "ABN"
          ],
          [
           200.73666666666668,
           "TV9"
          ],
          [
           92.27388888888889,
           "Sakshi"
          ],
          [
           388.075,
           "TV5"
          ],
          [
           345.765,
           "TV5"
          ],
          [
           185.38222222222223,
           "TV9"
          ],
          [
           253.8525,
           "TV5"
          ],
          [
           512.7677777777777,
           "ABN"
          ],
          [
           109.39138888888888,
           "Sakshi"
          ],
          [
           644.3036111111111,
           "ABN"
          ],
          [
           114.02722222222222,
           "Sakshi"
          ],
          [
           370.3952777777778,
           "TV5"
          ],
          [
           646.4355555555555,
           "ABN"
          ],
          [
           204.39888888888888,
           "TV9"
          ],
          [
           109.81611111111111,
           "Sakshi"
          ],
          [
           115.565,
           "Sakshi"
          ],
          [
           322.1625,
           "TV5"
          ],
          [
           362.9838888888889,
           "TV5"
          ],
          [
           641.3911111111111,
           "ABN"
          ],
          [
           90.1975,
           "Sakshi"
          ],
          [
           132.32777777777778,
           "Sakshi"
          ],
          [
           236.82083333333333,
           "TV9"
          ],
          [
           650.1913888888889,
           "ABN"
          ],
          [
           360.73277777777776,
           "TV5"
          ],
          [
           374.75305555555553,
           "TV5"
          ],
          [
           175.94944444444445,
           "TV9"
          ],
          [
           261.5711111111111,
           "TV5"
          ],
          [
           73.4811111111111,
           "Sakshi"
          ],
          [
           196.91583333333332,
           "TV9"
          ],
          [
           604.3744444444444,
           "ABN"
          ],
          [
           173.15277777777777,
           "Sakshi"
          ],
          [
           619.1916666666667,
           "ABN"
          ],
          [
           678.1508333333334,
           "ABN"
          ],
          [
           739.2833333333333,
           "ABN"
          ],
          [
           155.66027777777776,
           "Sakshi"
          ],
          [
           423.1247222222222,
           "TV5"
          ],
          [
           669.9805555555556,
           "ABN"
          ],
          [
           152.2463888888889,
           "TV9"
          ],
          [
           178.8672222222222,
           "TV9"
          ],
          [
           329.18916666666667,
           "TV5"
          ],
          [
           725.8494444444444,
           "ABN"
          ],
          [
           536.8627777777778,
           "ABN"
          ],
          [
           525.0786111111111,
           "ABN"
          ],
          [
           225.1275,
           "TV9"
          ],
          [
           431.8644444444444,
           "TV5"
          ],
          [
           385.03277777777777,
           "TV5"
          ],
          [
           261.1413888888889,
           "TV5"
          ],
          [
           111.955,
           "Sakshi"
          ],
          [
           490.4766666666667,
           "TV5"
          ],
          [
           193.26583333333335,
           "TV9"
          ],
          [
           562.1041666666666,
           "ABN"
          ],
          [
           689.4219444444444,
           "ABN"
          ],
          [
           119.345,
           "Sakshi"
          ],
          [
           579.4966666666667,
           "ABN"
          ],
          [
           65.22805555555556,
           "Sakshi"
          ],
          [
           571.5005555555556,
           "ABN"
          ],
          [
           191.39333333333335,
           "TV9"
          ],
          [
           609.6672222222222,
           "ABN"
          ],
          [
           114.44916666666667,
           "Sakshi"
          ],
          [
           173.25805555555556,
           "TV9"
          ],
          [
           313.02722222222224,
           "TV5"
          ],
          [
           632.4672222222222,
           "ABN"
          ],
          [
           82.77638888888889,
           "Sakshi"
          ],
          [
           85.84361111111112,
           "Sakshi"
          ],
          [
           303.7261111111111,
           "TV5"
          ],
          [
           578.0502777777778,
           "ABN"
          ],
          [
           467.0913888888889,
           "ABN"
          ],
          [
           369.8377777777778,
           "TV5"
          ],
          [
           201.0875,
           "TV9"
          ],
          [
           332.4486111111111,
           "TV5"
          ],
          [
           196.5636111111111,
           "TV9"
          ],
          [
           317.6380555555556,
           "TV5"
          ],
          [
           153.2875,
           "TV9"
          ],
          [
           434.5036111111111,
           "TV5"
          ],
          [
           108.72722222222222,
           "Sakshi"
          ],
          [
           562.4247222222223,
           "ABN"
          ],
          [
           231.4,
           "TV9"
          ],
          [
           734.7147222222222,
           "ABN"
          ],
          [
           65.83361111111111,
           "Sakshi"
          ],
          [
           125.55972222222222,
           "Sakshi"
          ],
          [
           597.3944444444444,
           "ABN"
          ],
          [
           252.9338888888889,
           "TV5"
          ],
          [
           136.01777777777778,
           "Sakshi"
          ],
          [
           377.6769444444444,
           "TV5"
          ],
          [
           766.0786111111111,
           "ABN"
          ],
          [
           52.285833333333336,
           "Sakshi"
          ],
          [
           221.93333333333334,
           "TV9"
          ],
          [
           619.6516666666666,
           "ABN"
          ],
          [
           534.4441666666667,
           "ABN"
          ],
          [
           400.17805555555555,
           "TV5"
          ],
          [
           171.75805555555556,
           "TV9"
          ],
          [
           85.15777777777778,
           "Sakshi"
          ],
          [
           49.99166666666667,
           "Sakshi"
          ],
          [
           586.3583333333333,
           "ABN"
          ],
          [
           516.6975,
           "ABN"
          ],
          [
           224.89166666666668,
           "TV9"
          ],
          [
           393.8566666666667,
           "TV5"
          ],
          [
           665.5055555555556,
           "ABN"
          ],
          [
           646.9838888888889,
           "ABN"
          ],
          [
           72.66222222222223,
           "Sakshi"
          ],
          [
           546.0844444444444,
           "ABN"
          ],
          [
           60.555,
           "Sakshi"
          ],
          [
           413.6775,
           "TV5"
          ],
          [
           350.4888888888889,
           "TV5"
          ],
          [
           140.82888888888888,
           "Sakshi"
          ],
          [
           514.8047222222223,
           "ABN"
          ],
          [
           204.57888888888888,
           "TV9"
          ],
          [
           66.88,
           "Sakshi"
          ],
          [
           92.2538888888889,
           "Sakshi"
          ],
          [
           442.8097222222222,
           "TV5"
          ],
          [
           537.7366666666667,
           "ABN"
          ],
          [
           470.37666666666667,
           "TV5"
          ],
          [
           516.2205555555555,
           "ABN"
          ],
          [
           189.0913888888889,
           "TV9"
          ],
          [
           585.4041666666667,
           "ABN"
          ],
          [
           142.81277777777777,
           "Sakshi"
          ],
          [
           259.0475,
           "TV5"
          ],
          [
           392.75,
           "TV5"
          ],
          [
           146.01083333333332,
           "Sakshi"
          ],
          [
           653.9944444444444,
           "ABN"
          ],
          [
           223.66972222222222,
           "TV9"
          ],
          [
           300.51416666666665,
           "TV5"
          ],
          [
           93.17027777777778,
           "Sakshi"
          ],
          [
           408.70666666666665,
           "TV5"
          ],
          [
           205.89083333333335,
           "TV9"
          ],
          [
           241.8322222222222,
           "TV9"
          ],
          [
           344.1013888888889,
           "TV5"
          ],
          [
           103.09138888888889,
           "Sakshi"
          ],
          [
           613.525,
           "ABN"
          ],
          [
           727.9047222222222,
           "ABN"
          ],
          [
           606.2441666666666,
           "ABN"
          ],
          [
           219.09527777777777,
           "TV9"
          ],
          [
           194.76194444444445,
           "TV9"
          ],
          [
           103.13472222222222,
           "Sakshi"
          ],
          [
           216.37305555555557,
           "TV9"
          ],
          [
           206.9088888888889,
           "TV9"
          ],
          [
           608.8019444444444,
           "ABN"
          ],
          [
           303.5852777777778,
           "TV5"
          ],
          [
           138.88694444444445,
           "Sakshi"
          ],
          [
           171.68166666666667,
           "TV9"
          ],
          [
           130.81527777777777,
           "Sakshi"
          ],
          [
           339.8311111111111,
           "TV5"
          ],
          [
           725.4066666666666,
           "ABN"
          ],
          [
           340.7522222222222,
           "TV5"
          ],
          [
           165.86222222222221,
           "TV9"
          ],
          [
           167.19833333333332,
           "Sakshi"
          ],
          [
           368.21805555555557,
           "TV5"
          ],
          [
           74.8536111111111,
           "Sakshi"
          ],
          [
           630.9466666666667,
           "ABN"
          ],
          [
           651.5097222222222,
           "ABN"
          ],
          [
           82.94722222222222,
           "Sakshi"
          ],
          [
           729.8138888888889,
           "ABN"
          ],
          [
           451.27777777777777,
           "TV5"
          ],
          [
           89.31666666666666,
           "Sakshi"
          ],
          [
           122.06083333333333,
           "Sakshi"
          ],
          [
           571.1638888888889,
           "ABN"
          ],
          [
           209.73666666666668,
           "TV9"
          ],
          [
           630.8947222222222,
           "ABN"
          ],
          [
           373.72055555555556,
           "TV5"
          ],
          [
           359.31388888888887,
           "TV5"
          ],
          [
           110.74472222222222,
           "Sakshi"
          ],
          [
           62.97888888888889,
           "Sakshi"
          ],
          [
           370.9166666666667,
           "TV5"
          ],
          [
           598.2180555555556,
           "ABN"
          ],
          [
           200.7238888888889,
           "TV9"
          ],
          [
           123.67138888888888,
           "Sakshi"
          ],
          [
           184.9038888888889,
           "TV9"
          ],
          [
           188.65833333333333,
           "TV9"
          ],
          [
           415.0002777777778,
           "TV5"
          ],
          [
           186.99555555555557,
           "TV9"
          ],
          [
           649.34,
           "ABN"
          ],
          [
           326.5780555555556,
           "TV5"
          ],
          [
           229.45777777777778,
           "TV9"
          ],
          [
           616.6366666666667,
           "ABN"
          ],
          [
           623.8358333333333,
           "ABN"
          ],
          [
           326.0475,
           "TV5"
          ],
          [
           217.12972222222223,
           "TV9"
          ],
          [
           530.4094444444445,
           "ABN"
          ],
          [
           177.99194444444444,
           "TV9"
          ],
          [
           194.97472222222223,
           "TV9"
          ],
          [
           103.04916666666666,
           "Sakshi"
          ],
          [
           103.17527777777778,
           "Sakshi"
          ],
          [
           486.08666666666664,
           "ABN"
          ],
          [
           368.64472222222224,
           "TV5"
          ],
          [
           502.64666666666665,
           "ABN"
          ],
          [
           100.255,
           "Sakshi"
          ],
          [
           126.82138888888889,
           "Sakshi"
          ],
          [
           358.2111111111111,
           "TV5"
          ],
          [
           418.5833333333333,
           "TV5"
          ],
          [
           189.53527777777776,
           "TV9"
          ],
          [
           131.825,
           "Sakshi"
          ],
          [
           743.1333333333333,
           "ABN"
          ],
          [
           221.76222222222222,
           "TV9"
          ],
          [
           170.2488888888889,
           "TV9"
          ],
          [
           231.38861111111112,
           "TV9"
          ],
          [
           372.98027777777776,
           "TV5"
          ],
          [
           185.19055555555556,
           "TV9"
          ],
          [
           100.17138888888888,
           "Sakshi"
          ],
          [
           532.6458333333334,
           "ABN"
          ],
          [
           309.3175,
           "TV5"
          ],
          [
           112.10888888888888,
           "Sakshi"
          ],
          [
           581.4697222222222,
           "ABN"
          ],
          [
           65.74888888888889,
           "Sakshi"
          ],
          [
           507.8352777777778,
           "ABN"
          ],
          [
           "(?)",
           "ABN"
          ],
          [
           "(?)",
           "Sakshi"
          ],
          [
           "(?)",
           "TV5"
          ],
          [
           "(?)",
           "TV9"
          ],
          [
           "(?)",
           "(?)"
          ]
         ],
         "domain": {
          "x": [
           0,
           1
          ],
          "y": [
           0,
           1
          ]
         },
         "hovertemplate": "labels=%{label}<br>view_count=%{value}<br>parent=%{parent}<br>id=%{id}<br>duration=%{customdata[0]}<br>uploader=%{customdata[1]}<extra></extra>",
         "ids": [
          "Media/Sakshi/tag129",
          "Media/Sakshi/tag60",
          "Media/Sakshi/tag136",
          "Media/Sakshi/tag6",
          "Media/TV5/tag59",
          "Media/Sakshi/tag59",
          "Media/TV5/tag137",
          "Media/ABN/tag138",
          "Media/TV5/tag58",
          "Media/Sakshi/tag58",
          "Media/ABN/tag58",
          "Media/TV5/tag57",
          "Media/ABN/tag14",
          "Media/TV9/tag56",
          "Media/Sakshi/tag55",
          "Media/TV5/tag54",
          "Media/TV9/tag140",
          "Media/TV9/tag53",
          "Media/Sakshi/tag141",
          "Media/TV5/tag141",
          "Media/Sakshi/tag53",
          "Media/ABN/tag53",
          "Media/TV9/tag52",
          "Media/ABN/tag52",
          "Media/TV9/tag60",
          "Media/Sakshi/tag61",
          "Media/ABN/tag135",
          "Media/TV5/tag61",
          "Media/ABN/tag125",
          "Media/TV5/tag125",
          "Media/Sakshi/tag70",
          "Media/ABN/tag127",
          "Media/TV5/tag7",
          "Media/ABN/tag7",
          "Media/TV9/tag69",
          "Media/TV5/tag69",
          "Media/TV5/tag128",
          "Media/TV9/tag128",
          "Media/TV5/tag129",
          "Media/Sakshi/tag51",
          "Media/TV9/tag129",
          "Media/TV9/tag67",
          "Media/TV9/tag13",
          "Media/ABN/tag130",
          "Media/Sakshi/tag67",
          "Media/ABN/tag67",
          "Media/TV9/tag66",
          "Media/TV5/tag64",
          "Media/ABN/tag133",
          "Media/TV5/tag62",
          "Media/ABN/tag134",
          "Media/Sakshi/tag134",
          "Media/ABN/tag69",
          "Media/TV9/tag49",
          "Media/Sakshi/tag49",
          "Media/ABN/tag49",
          "Media/TV9/tag37",
          "Media/TV5/tag18",
          "Media/TV5/tag37",
          "Media/Sakshi/tag37",
          "Media/Sakshi/tag19",
          "Media/ABN/tag37",
          "Media/TV5/tag36",
          "Media/ABN/tag35",
          "Media/Sakshi/tag2",
          "Media/TV5/tag2",
          "Media/TV5/tag34",
          "Media/ABN/tag18",
          "Media/TV9/tag33",
          "Media/ABN/tag32",
          "Media/Sakshi/tag31",
          "Media/Sakshi/tag21",
          "Media/TV5/tag21",
          "Media/TV9/tag21",
          "Media/ABN/tag30",
          "Media/TV9/tag3",
          "Media/TV5/tag22",
          "Media/Sakshi/tag3",
          "Media/ABN/tag3",
          "Media/TV9/tag24",
          "Media/Sakshi/tag32",
          "Media/Sakshi/tag124",
          "Media/TV9/tag17",
          "Media/Sakshi/tag17",
          "Media/TV5/tag47",
          "Media/TV9/tag46",
          "Media/TV5/tag46",
          "Media/Sakshi/tag46",
          "Media/ABN/tag46",
          "Media/TV9/tag145",
          "Media/TV9/tag44",
          "Media/Sakshi/tag146",
          "Media/TV5/tag44",
          "Media/Sakshi/tag44",
          "Media/ABN/tag147",
          "Media/TV5/tag38",
          "Media/TV9/tag42",
          "Media/TV9/tag148",
          "Media/ABN/tag149",
          "Media/TV9/tag41",
          "Media/TV9/tag149",
          "Media/TV5/tag41",
          "Media/Sakshi/tag15",
          "Media/TV9/tag40",
          "Media/Sakshi/tag40",
          "Media/ABN/tag16",
          "Media/ABN/tag4",
          "Media/TV9/tag38",
          "Media/Sakshi/tag148",
          "Media/TV9/tag72",
          "Media/TV5/tag25",
          "Media/Sakshi/tag85",
          "Media/Sakshi/tag8",
          "Media/TV5/tag87",
          "Media/TV5/tag117",
          "Media/TV9/tag8",
          "Media/ABN/tag80",
          "Media/TV5/tag80",
          "Media/Sakshi/tag116",
          "Media/TV5/tag91",
          "Media/TV9/tag81",
          "Media/ABN/tag115",
          "Media/Sakshi/tag82",
          "Media/TV9/tag90",
          "Media/TV5/tag90",
          "Media/Sakshi/tag79",
          "Media/ABN/tag90",
          "Media/TV5/tag113",
          "Media/TV5/tag83",
          "Media/ABN/tag9",
          "Media/TV9/tag107",
          "Media/TV9/tag84",
          "Media/Sakshi/tag74",
          "Media/TV9/tag85",
          "Media/ABN/tag86",
          "Media/ABN/tag111",
          "Media/TV9/tag110",
          "Media/TV9/tag86",
          "Media/ABN/tag89",
          "Media/TV5/tag109",
          "Media/Sakshi/tag83",
          "Media/ABN/tag79",
          "Media/TV9/tag87",
          "Media/TV9/tag74",
          "Media/TV5/tag78",
          "Media/ABN/tag75",
          "Media/TV9/tag121",
          "Media/TV5/tag76",
          "Media/ABN/tag76",
          "Media/Sakshi/tag122",
          "Media/Sakshi/tag43",
          "Media/Sakshi/tag9",
          "Media/TV5/tag42",
          "Media/TV9/tag95",
          "Media/TV5/tag43",
          "Media/ABN/tag99",
          "Media/TV9/tag9",
          "Media/TV9/tag98",
          "Media/TV5/tag98",
          "Media/TV5/tag9",
          "Media/Sakshi/tag42",
          "Media/TV9/tag29",
          "Media/TV5/tag29",
          "Media/Sakshi/tag29",
          "Media/ABN/tag29",
          "Media/TV9/tag27",
          "Media/TV9/tag89",
          "Media/TV5/tag89",
          "Media/TV5/tag26",
          "Media/Sakshi/tag89",
          "Media/Sakshi/tag99",
          "Media/TV9/tag88",
          "Media/Sakshi/tag88",
          "Media/Sakshi/tag26",
          "Media/ABN/tag42",
          "Media/Sakshi/tag90",
          "Media/ABN/tag98",
          "Media/TV5/tag95",
          "Media/Sakshi/tag95",
          "Media/ABN/tag95",
          "Media/TV9/tag94",
          "Media/TV5/tag94",
          "Media/Sakshi/tag94",
          "Media/ABN/tag94",
          "Media/TV9/tag93",
          "Media/TV5/tag93",
          "Media/Sakshi/tag93",
          "Media/ABN/tag96",
          "Media/ABN/tag93",
          "Media/TV9/tag92",
          "Media/TV5/tag92",
          "Media/Sakshi/tag96",
          "Media/TV5/tag96",
          "Media/TV9/tag96",
          "Media/ABN/tag97",
          "Media/TV5/tag39",
          "Media/ABN/tag92",
          "Media/TV5/tag99",
          "Media/TV9/tag4",
          "Media/TV9/tag91",
          "Media/Sakshi/tag97",
          "Media/Sakshi/tag91",
          "Media/ABN/tag91",
          "Media/TV5/tag97",
          "Media/TV9/tag97",
          "Media/Sakshi/tag98",
          "Media/Sakshi/tag92",
          "Media/ABN/tag74",
          "Media/Sakshi/tag87",
          "Media/TV9/tag65",
          "Media/ABN/tag66",
          "Media/Sakshi/tag66",
          "Media/ABN/tag8",
          "Media/TV9/tag79",
          "Media/TV5/tag79",
          "Media/TV9/tag78",
          "Media/Sakshi/tag68",
          "Media/Sakshi/tag78",
          "Media/Sakshi/tag77",
          "Media/ABN/tag26",
          "Media/Sakshi/tag69",
          "Media/ABN/tag77",
          "Media/Sakshi/tag76",
          "Media/Sakshi/tag65",
          "Media/TV9/tag75",
          "Media/TV9/tag7",
          "Media/Sakshi/tag75",
          "Media/ABN/tag70",
          "Media/TV5/tag70",
          "Media/Sakshi/tag71",
          "Media/TV9/tag71",
          "Media/ABN/tag72",
          "Media/Sakshi/tag72",
          "Media/TV5/tag72",
          "Media/TV5/tag74",
          "Media/ABN/tag73",
          "Media/Sakshi/tag73",
          "Media/TV5/tag73",
          "Media/TV9/tag73",
          "Media/TV5/tag75",
          "Media/ABN/tag88",
          "Media/ABN/tag65",
          "Media/Sakshi/tag64",
          "Media/ABN/tag87",
          "Media/TV5/tag5",
          "Media/TV9/tag5",
          "Media/ABN/tag51",
          "Media/TV5/tag86",
          "Media/Sakshi/tag86",
          "Media/TV5/tag84",
          "Media/TV9/tag54",
          "Media/ABN/tag55",
          "Media/Sakshi/tag84",
          "Media/TV5/tag55",
          "Media/ABN/tag84",
          "Media/TV9/tag83",
          "Media/Sakshi/tag57",
          "Media/TV9/tag64",
          "Media/TV9/tag57",
          "Media/TV9/tag58",
          "Media/TV9/tag82",
          "Media/ABN/tag59",
          "Media/TV5/tag82",
          "Media/ABN/tag82",
          "Media/TV5/tag6",
          "Media/TV9/tag6",
          "Media/Sakshi/tag81",
          "Media/ABN/tag81",
          "Media/Sakshi/tag80",
          "Media/Sakshi/tag62",
          "Media/TV9/tag62",
          "Media/TV5/tag63",
          "Media/TV5/tag8",
          "Media/ABN/tag83",
          "Media/TV9/tag30",
          "Media/TV9/tag99",
          "Media/Sakshi/tag142",
          "Media/Sakshi/tag121",
          "Media/ABN/tag21",
          "Media/TV5/tag132",
          "Media/TV9/tag135",
          "Media/TV5/tag11",
          "Media/TV5/tag147",
          "Media/ABN/tag20",
          "Media/ABN/tag131",
          "Media/Sakshi/tag144",
          "Media/TV5/tag124",
          "Media/TV9/tag12",
          "Media/ABN/tag121",
          "Media/Sakshi/tag107",
          "Media/Sakshi/tag135",
          "Media/ABN/tag129",
          "Media/TV5/tag104",
          "Media/TV9/tag126",
          "Media/TV5/tag102",
          "Media/Sakshi/tag140",
          "Media/TV5/tag127",
          "Media/Sakshi/tag128",
          "Media/TV5/tag17",
          "Media/Sakshi/tag120",
          "Media/TV9/tag132",
          "Media/ABN/tag64",
          "Media/TV9/tag63",
          "Media/TV5/tag131",
          "Media/TV5/tag65",
          "Media/TV5/tag66",
          "Media/TV9/tag130",
          "Media/TV5/tag130",
          "Media/TV5/tag67",
          "Media/ABN/tag68",
          "Media/Sakshi/tag13",
          "Media/ABN/tag132",
          "Media/Sakshi/tag133",
          "Media/ABN/tag62",
          "Media/TV5/tag133",
          "Media/ABN/tag141",
          "Media/ABN/tag54",
          "Media/TV5/tag140",
          "Media/TV9/tag14",
          "Media/TV9/tag55",
          "Media/ABN/tag56",
          "Media/TV5/tag56",
          "Media/Sakshi/tag14",
          "Media/TV9/tag139",
          "Media/TV5/tag139",
          "Media/Sakshi/tag139",
          "Media/Sakshi/tag63",
          "Media/ABN/tag139",
          "Media/TV5/tag138",
          "Media/TV9/tag137",
          "Media/Sakshi/tag137",
          "Media/ABN/tag6",
          "Media/TV9/tag136",
          "Media/ABN/tag136",
          "Media/TV5/tag60",
          "Media/ABN/tag61",
          "Media/TV9/tag134",
          "Media/TV9/tag25",
          "Media/TV9/tag133",
          "Media/TV9/tag138",
          "Media/TV9/tag68",
          "Media/Sakshi/tag25",
          "Media/Sakshi/tag7",
          "Media/ABN/tag112",
          "Media/TV9/tag111",
          "Media/TV5/tag85",
          "Media/ABN/tag110",
          "Media/TV9/tag11",
          "Media/ABN/tag11",
          "Media/TV5/tag88",
          "Media/TV9/tag108",
          "Media/TV5/tag108",
          "Media/Sakshi/tag108",
          "Media/TV5/tag107",
          "Media/TV9/tag106",
          "Media/TV5/tag106",
          "Media/Sakshi/tag106",
          "Media/TV9/tag105",
          "Media/Sakshi/tag105",
          "Media/TV9/tag103",
          "Media/Sakshi/tag101",
          "Media/TV9/tag10",
          "Media/TV9/tag1",
          "Media/Sakshi/tag0",
          "Media/TV5/tag112",
          "Media/ABN/tag13",
          "Media/Sakshi/tag113",
          "Media/ABN/tag114",
          "Media/Sakshi/tag126",
          "Media/TV9/tag141",
          "Media/ABN/tag71",
          "Media/TV9/tag125",
          "Media/TV9/tag124",
          "Media/TV9/tag123",
          "Media/Sakshi/tag123",
          "Media/TV9/tag122",
          "Media/TV5/tag122",
          "Media/TV5/tag121",
          "Media/ABN/tag120",
          "Media/TV5/tag77",
          "Media/TV9/tag119",
          "Media/Sakshi/tag119",
          "Media/TV5/tag118",
          "Media/ABN/tag118",
          "Media/TV9/tag117",
          "Media/TV9/tag116",
          "Media/ABN/tag116",
          "Media/TV9/tag114",
          "Media/TV5/tag114",
          "Media/TV9/tag113",
          "Media/TV9/tag70",
          "Media/TV5/tag134",
          "Media/TV5/tag23",
          "Media/ABN/tag40",
          "Media/TV5/tag40",
          "Media/TV5/tag15",
          "Media/ABN/tag41",
          "Media/TV9/tag22",
          "Media/Sakshi/tag23",
          "Media/TV5/tag149",
          "Media/TV5/tag4",
          "Media/TV9/tag23",
          "Media/TV5/tag28",
          "Media/ABN/tag43",
          "Media/Sakshi/tag147",
          "Media/ABN/tag44",
          "Media/Sakshi/tag28",
          "Media/TV5/tag146",
          "Media/ABN/tag28",
          "Media/TV9/tag28",
          "Media/Sakshi/tag22",
          "Media/Sakshi/tag4",
          "Media/TV5/tag16",
          "Media/TV5/tag33",
          "Media/ABN/tag2",
          "Media/Sakshi/tag33",
          "Media/Sakshi/tag35",
          "Media/TV9/tag35",
          "Media/ABN/tag36",
          "Media/TV5/tag32",
          "Media/TV5/tag20",
          "Media/TV9/tag36",
          "Media/TV5/tag31",
          "Media/Sakshi/tag18",
          "Media/TV9/tag20",
          "Media/ABN/tag38",
          "Media/Sakshi/tag38",
          "Media/ABN/tag17",
          "Media/ABN/tag39",
          "Media/ABN/tag22",
          "Media/Sakshi/tag24",
          "Media/TV5/tag27",
          "Media/ABN/tag34",
          "Media/TV9/tag143",
          "Media/TV9/tag48",
          "Media/TV5/tag143",
          "Media/ABN/tag144",
          "Media/ABN/tag143",
          "Media/ABN/tag27",
          "Media/TV9/tag142",
          "Media/TV5/tag24",
          "Media/TV5/tag144",
          "Media/TV5/tag48",
          "Media/Sakshi/tag5",
          "Media/TV5/tag51",
          "Media/TV9/tag26",
          "Media/ABN/tag50",
          "Media/ABN/tag145",
          "Media/Sakshi/tag143",
          "Media/ABN/tag5",
          "Media/Sakshi/tag10",
          "Media/ABN/tag10",
          "Media/TV9/tag112",
          "Media/ABN/tag85",
          "Media/Sakshi/tag112",
          "Media/TV9/tag31",
          "Media/TV5/tag10",
          "Media/ABN/tag31",
          "Media/Sakshi/tag103",
          "Media/Sakshi/tag1",
          "Media/TV5/tag1",
          "Media/ABN/tag117",
          "Media/ABN/tag25",
          "Media/TV5/tag116",
          "Media/TV9/tag80",
          "Media/TV5/tag0",
          "Media/TV9/tag115",
          "Media/TV5/tag81",
          "Media/TV9/tag0",
          "Media/TV5/tag115",
          "Media/Sakshi/tag115",
          "Media/ABN/tag33",
          "Media/TV9/tag32",
          "Media/ABN/tag1",
          "Media/Sakshi/tag114",
          "Media/Sakshi/tag20",
          "Media/ABN/tag113",
          "Media/TV5/tag111",
          "Media/Sakshi/tag30",
          "Media/TV5/tag110",
          "Media/ABN/tag104",
          "Media/Sakshi/tag104",
          "Media/TV9/tag104",
          "Media/ABN/tag105",
          "Media/ABN/tag103",
          "Media/TV5/tag105",
          "Media/TV9/tag102",
          "Media/Sakshi/tag27",
          "Media/Sakshi/tag102",
          "Media/ABN/tag106",
          "Media/ABN/tag102",
          "Media/TV9/tag101",
          "Media/TV5/tag101",
          "Media/ABN/tag24",
          "Media/ABN/tag107",
          "Media/Sakshi/tag117",
          "Media/ABN/tag108",
          "Media/Sakshi/tag110",
          "Media/TV5/tag30",
          "Media/TV5/tag103",
          "Media/Sakshi/tag11",
          "Media/ABN/tag100",
          "Media/TV9/tag109",
          "Media/Sakshi/tag111",
          "Media/Sakshi/tag100",
          "Media/TV5/tag3",
          "Media/ABN/tag109",
          "Media/TV5/tag100",
          "Media/ABN/tag23",
          "Media/TV9/tag100",
          "Media/ABN/tag101",
          "Media/Sakshi/tag109",
          "Media/TV5/tag142",
          "Media/TV5/tag120",
          "Media/Sakshi/tag118",
          "Media/ABN/tag60",
          "Media/TV9/tag144",
          "Media/TV5/tag135",
          "Media/Sakshi/tag145",
          "Media/TV5/tag145",
          "Media/TV9/tag45",
          "Media/TV9/tag61",
          "Media/TV5/tag45",
          "Media/Sakshi/tag45",
          "Media/ABN/tag45",
          "Media/ABN/tag146",
          "Media/ABN/tag63",
          "Media/TV9/tag146",
          "Media/TV9/tag43",
          "Media/Sakshi/tag132",
          "Media/TV9/tag147",
          "Media/TV9/tag131",
          "Media/ABN/tag47",
          "Media/TV5/tag136",
          "Media/Sakshi/tag47",
          "Media/TV9/tag59",
          "Media/Sakshi/tag52",
          "Media/TV5/tag52",
          "Media/ABN/tag142",
          "Media/TV5/tag53",
          "Media/TV9/tag50",
          "Media/Sakshi/tag54",
          "Media/TV5/tag50",
          "Media/Sakshi/tag50",
          "Media/ABN/tag148",
          "Media/ABN/tag140",
          "Media/Sakshi/tag56",
          "Media/ABN/tag57",
          "Media/TV5/tag49",
          "Media/Sakshi/tag48",
          "Media/Sakshi/tag138",
          "Media/ABN/tag48",
          "Media/TV9/tag47",
          "Media/ABN/tag137",
          "Media/TV5/tag14",
          "Media/TV5/tag148",
          "Media/Sakshi/tag131",
          "Media/Sakshi/tag149",
          "Media/TV5/tag19",
          "Media/ABN/tag122",
          "Media/TV9/tag19",
          "Media/Sakshi/tag36",
          "Media/TV9/tag120",
          "Media/TV9/tag51",
          "Media/TV5/tag35",
          "Media/TV9/tag76",
          "Media/ABN/tag19",
          "Media/TV5/tag12",
          "Media/TV9/tag77",
          "Media/ABN/tag78",
          "Media/ABN/tag12",
          "Media/TV5/tag119",
          "Media/TV9/tag34",
          "Media/ABN/tag119",
          "Media/TV9/tag118",
          "Media/TV9/tag2",
          "Media/Sakshi/tag12",
          "Media/Sakshi/tag34",
          "Media/ABN/tag123",
          "Media/TV5/tag123",
          "Media/ABN/tag15",
          "Media/Sakshi/tag41",
          "Media/Sakshi/tag130",
          "Media/TV5/tag13",
          "Media/TV5/tag68",
          "Media/TV9/tag15",
          "Media/Sakshi/tag16",
          "Media/ABN/tag128",
          "Media/TV9/tag18",
          "Media/TV9/tag127",
          "Media/TV9/tag39",
          "Media/TV5/tag126",
          "Media/TV9/tag16",
          "Media/Sakshi/tag39",
          "Media/ABN/tag126",
          "Media/TV5/tag71",
          "Media/Sakshi/tag125",
          "Media/ABN/tag124",
          "Media/Sakshi/tag127",
          "Media/ABN/tag0",
          "Media/ABN",
          "Media/Sakshi",
          "Media/TV5",
          "Media/TV9",
          "Media"
         ],
         "labels": [
          "tag129",
          "tag60",
          "tag136",
          "tag6",
          "tag59",
          "tag59",
          "tag137",
          "tag138",
          "tag58",
          "tag58",
          "tag58",
          "tag57",
          "tag14",
          "tag56",
          "tag55",
          "tag54",
          "tag140",
          "tag53",
          "tag141",
          "tag141",
          "tag53",
          "tag53",
          "tag52",
          "tag52",
          "tag60",
          "tag61",
          "tag135",
          "tag61",
          "tag125",
          "tag125",
          "tag70",
          "tag127",
          "tag7",
          "tag7",
          "tag69",
          "tag69",
          "tag128",
          "tag128",
          "tag129",
          "tag51",
          "tag129",
          "tag67",
          "tag13",
          "tag130",
          "tag67",
          "tag67",
          "tag66",
          "tag64",
          "tag133",
          "tag62",
          "tag134",
          "tag134",
          "tag69",
          "tag49",
          "tag49",
          "tag49",
          "tag37",
          "tag18",
          "tag37",
          "tag37",
          "tag19",
          "tag37",
          "tag36",
          "tag35",
          "tag2",
          "tag2",
          "tag34",
          "tag18",
          "tag33",
          "tag32",
          "tag31",
          "tag21",
          "tag21",
          "tag21",
          "tag30",
          "tag3",
          "tag22",
          "tag3",
          "tag3",
          "tag24",
          "tag32",
          "tag124",
          "tag17",
          "tag17",
          "tag47",
          "tag46",
          "tag46",
          "tag46",
          "tag46",
          "tag145",
          "tag44",
          "tag146",
          "tag44",
          "tag44",
          "tag147",
          "tag38",
          "tag42",
          "tag148",
          "tag149",
          "tag41",
          "tag149",
          "tag41",
          "tag15",
          "tag40",
          "tag40",
          "tag16",
          "tag4",
          "tag38",
          "tag148",
          "tag72",
          "tag25",
          "tag85",
          "tag8",
          "tag87",
          "tag117",
          "tag8",
          "tag80",
          "tag80",
          "tag116",
          "tag91",
          "tag81",
          "tag115",
          "tag82",
          "tag90",
          "tag90",
          "tag79",
          "tag90",
          "tag113",
          "tag83",
          "tag9",
          "tag107",
          "tag84",
          "tag74",
          "tag85",
          "tag86",
          "tag111",
          "tag110",
          "tag86",
          "tag89",
          "tag109",
          "tag83",
          "tag79",
          "tag87",
          "tag74",
          "tag78",
          "tag75",
          "tag121",
          "tag76",
          "tag76",
          "tag122",
          "tag43",
          "tag9",
          "tag42",
          "tag95",
          "tag43",
          "tag99",
          "tag9",
          "tag98",
          "tag98",
          "tag9",
          "tag42",
          "tag29",
          "tag29",
          "tag29",
          "tag29",
          "tag27",
          "tag89",
          "tag89",
          "tag26",
          "tag89",
          "tag99",
          "tag88",
          "tag88",
          "tag26",
          "tag42",
          "tag90",
          "tag98",
          "tag95",
          "tag95",
          "tag95",
          "tag94",
          "tag94",
          "tag94",
          "tag94",
          "tag93",
          "tag93",
          "tag93",
          "tag96",
          "tag93",
          "tag92",
          "tag92",
          "tag96",
          "tag96",
          "tag96",
          "tag97",
          "tag39",
          "tag92",
          "tag99",
          "tag4",
          "tag91",
          "tag97",
          "tag91",
          "tag91",
          "tag97",
          "tag97",
          "tag98",
          "tag92",
          "tag74",
          "tag87",
          "tag65",
          "tag66",
          "tag66",
          "tag8",
          "tag79",
          "tag79",
          "tag78",
          "tag68",
          "tag78",
          "tag77",
          "tag26",
          "tag69",
          "tag77",
          "tag76",
          "tag65",
          "tag75",
          "tag7",
          "tag75",
          "tag70",
          "tag70",
          "tag71",
          "tag71",
          "tag72",
          "tag72",
          "tag72",
          "tag74",
          "tag73",
          "tag73",
          "tag73",
          "tag73",
          "tag75",
          "tag88",
          "tag65",
          "tag64",
          "tag87",
          "tag5",
          "tag5",
          "tag51",
          "tag86",
          "tag86",
          "tag84",
          "tag54",
          "tag55",
          "tag84",
          "tag55",
          "tag84",
          "tag83",
          "tag57",
          "tag64",
          "tag57",
          "tag58",
          "tag82",
          "tag59",
          "tag82",
          "tag82",
          "tag6",
          "tag6",
          "tag81",
          "tag81",
          "tag80",
          "tag62",
          "tag62",
          "tag63",
          "tag8",
          "tag83",
          "tag30",
          "tag99",
          "tag142",
          "tag121",
          "tag21",
          "tag132",
          "tag135",
          "tag11",
          "tag147",
          "tag20",
          "tag131",
          "tag144",
          "tag124",
          "tag12",
          "tag121",
          "tag107",
          "tag135",
          "tag129",
          "tag104",
          "tag126",
          "tag102",
          "tag140",
          "tag127",
          "tag128",
          "tag17",
          "tag120",
          "tag132",
          "tag64",
          "tag63",
          "tag131",
          "tag65",
          "tag66",
          "tag130",
          "tag130",
          "tag67",
          "tag68",
          "tag13",
          "tag132",
          "tag133",
          "tag62",
          "tag133",
          "tag141",
          "tag54",
          "tag140",
          "tag14",
          "tag55",
          "tag56",
          "tag56",
          "tag14",
          "tag139",
          "tag139",
          "tag139",
          "tag63",
          "tag139",
          "tag138",
          "tag137",
          "tag137",
          "tag6",
          "tag136",
          "tag136",
          "tag60",
          "tag61",
          "tag134",
          "tag25",
          "tag133",
          "tag138",
          "tag68",
          "tag25",
          "tag7",
          "tag112",
          "tag111",
          "tag85",
          "tag110",
          "tag11",
          "tag11",
          "tag88",
          "tag108",
          "tag108",
          "tag108",
          "tag107",
          "tag106",
          "tag106",
          "tag106",
          "tag105",
          "tag105",
          "tag103",
          "tag101",
          "tag10",
          "tag1",
          "tag0",
          "tag112",
          "tag13",
          "tag113",
          "tag114",
          "tag126",
          "tag141",
          "tag71",
          "tag125",
          "tag124",
          "tag123",
          "tag123",
          "tag122",
          "tag122",
          "tag121",
          "tag120",
          "tag77",
          "tag119",
          "tag119",
          "tag118",
          "tag118",
          "tag117",
          "tag116",
          "tag116",
          "tag114",
          "tag114",
          "tag113",
          "tag70",
          "tag134",
          "tag23",
          "tag40",
          "tag40",
          "tag15",
          "tag41",
          "tag22",
          "tag23",
          "tag149",
          "tag4",
          "tag23",
          "tag28",
          "tag43",
          "tag147",
          "tag44",
          "tag28",
          "tag146",
          "tag28",
          "tag28",
          "tag22",
          "tag4",
          "tag16",
          "tag33",
          "tag2",
          "tag33",
          "tag35",
          "tag35",
          "tag36",
          "tag32",
          "tag20",
          "tag36",
          "tag31",
          "tag18",
          "tag20",
          "tag38",
          "tag38",
          "tag17",
          "tag39",
          "tag22",
          "tag24",
          "tag27",
          "tag34",
          "tag143",
          "tag48",
          "tag143",
          "tag144",
          "tag143",
          "tag27",
          "tag142",
          "tag24",
          "tag144",
          "tag48",
          "tag5",
          "tag51",
          "tag26",
          "tag50",
          "tag145",
          "tag143",
          "tag5",
          "tag10",
          "tag10",
          "tag112",
          "tag85",
          "tag112",
          "tag31",
          "tag10",
          "tag31",
          "tag103",
          "tag1",
          "tag1",
          "tag117",
          "tag25",
          "tag116",
          "tag80",
          "tag0",
          "tag115",
          "tag81",
          "tag0",
          "tag115",
          "tag115",
          "tag33",
          "tag32",
          "tag1",
          "tag114",
          "tag20",
          "tag113",
          "tag111",
          "tag30",
          "tag110",
          "tag104",
          "tag104",
          "tag104",
          "tag105",
          "tag103",
          "tag105",
          "tag102",
          "tag27",
          "tag102",
          "tag106",
          "tag102",
          "tag101",
          "tag101",
          "tag24",
          "tag107",
          "tag117",
          "tag108",
          "tag110",
          "tag30",
          "tag103",
          "tag11",
          "tag100",
          "tag109",
          "tag111",
          "tag100",
          "tag3",
          "tag109",
          "tag100",
          "tag23",
          "tag100",
          "tag101",
          "tag109",
          "tag142",
          "tag120",
          "tag118",
          "tag60",
          "tag144",
          "tag135",
          "tag145",
          "tag145",
          "tag45",
          "tag61",
          "tag45",
          "tag45",
          "tag45",
          "tag146",
          "tag63",
          "tag146",
          "tag43",
          "tag132",
          "tag147",
          "tag131",
          "tag47",
          "tag136",
          "tag47",
          "tag59",
          "tag52",
          "tag52",
          "tag142",
          "tag53",
          "tag50",
          "tag54",
          "tag50",
          "tag50",
          "tag148",
          "tag140",
          "tag56",
          "tag57",
          "tag49",
          "tag48",
          "tag138",
          "tag48",
          "tag47",
          "tag137",
          "tag14",
          "tag148",
          "tag131",
          "tag149",
          "tag19",
          "tag122",
          "tag19",
          "tag36",
          "tag120",
          "tag51",
          "tag35",
          "tag76",
          "tag19",
          "tag12",
          "tag77",
          "tag78",
          "tag12",
          "tag119",
          "tag34",
          "tag119",
          "tag118",
          "tag2",
          "tag12",
          "tag34",
          "tag123",
          "tag123",
          "tag15",
          "tag41",
          "tag130",
          "tag13",
          "tag68",
          "tag15",
          "tag16",
          "tag128",
          "tag18",
          "tag127",
          "tag39",
          "tag126",
          "tag16",
          "tag39",
          "tag126",
          "tag71",
          "tag125",
          "tag124",
          "tag127",
          "tag0",
          "ABN",
          "Sakshi",
          "TV5",
          "TV9",
          "Media"
         ],
         "marker": {
          "colors": [
           "#ab63fa",
           "#ab63fa",
           "#ab63fa",
           "#ab63fa",
           "#FFA15A",
           "#ab63fa",
           "#FFA15A",
           "#19d3f3",
           "#FFA15A",
           "#ab63fa",
           "#19d3f3",
           "#FFA15A",
           "#19d3f3",
           "#FF6692",
           "#ab63fa",
           "#FFA15A",
           "#FF6692",
           "#FF6692",
           "#ab63fa",
           "#FFA15A",
           "#ab63fa",
           "#19d3f3",
           "#FF6692",
           "#19d3f3",
           "#FF6692",
           "#ab63fa",
           "#19d3f3",
           "#FFA15A",
           "#19d3f3",
           "#FFA15A",
           "#ab63fa",
           "#19d3f3",
           "#FFA15A",
           "#19d3f3",
           "#FF6692",
           "#FFA15A",
           "#FFA15A",
           "#FF6692",
           "#FFA15A",
           "#ab63fa",
           "#FF6692",
           "#FF6692",
           "#FF6692",
           "#19d3f3",
           "#ab63fa",
           "#19d3f3",
           "#FF6692",
           "#FFA15A",
           "#19d3f3",
           "#FFA15A",
           "#19d3f3",
           "#ab63fa",
           "#19d3f3",
           "#FF6692",
           "#ab63fa",
           "#19d3f3",
           "#FF6692",
           "#FFA15A",
           "#FFA15A",
           "#ab63fa",
           "#ab63fa",
           "#19d3f3",
           "#FFA15A",
           "#19d3f3",
           "#ab63fa",
           "#FFA15A",
           "#FFA15A",
           "#19d3f3",
           "#FF6692",
           "#19d3f3",
           "#ab63fa",
           "#ab63fa",
           "#FFA15A",
           "#FF6692",
           "#19d3f3",
           "#FF6692",
           "#FFA15A",
           "#ab63fa",
           "#19d3f3",
           "#FF6692",
           "#ab63fa",
           "#ab63fa",
           "#FF6692",
           "#ab63fa",
           "#FFA15A",
           "#FF6692",
           "#FFA15A",
           "#ab63fa",
           "#19d3f3",
           "#FF6692",
           "#FF6692",
           "#ab63fa",
           "#FFA15A",
           "#ab63fa",
           "#19d3f3",
           "#FFA15A",
           "#FF6692",
           "#FF6692",
           "#19d3f3",
           "#FF6692",
           "#FF6692",
           "#FFA15A",
           "#ab63fa",
           "#FF6692",
           "#ab63fa",
           "#19d3f3",
           "#19d3f3",
           "#FF6692",
           "#ab63fa",
           "#FF6692",
           "#FFA15A",
           "#ab63fa",
           "#ab63fa",
           "#FFA15A",
           "#FFA15A",
           "#FF6692",
           "#19d3f3",
           "#FFA15A",
           "#ab63fa",
           "#FFA15A",
           "#FF6692",
           "#19d3f3",
           "#ab63fa",
           "#FF6692",
           "#FFA15A",
           "#ab63fa",
           "#19d3f3",
           "#FFA15A",
           "#FFA15A",
           "#19d3f3",
           "#FF6692",
           "#FF6692",
           "#ab63fa",
           "#FF6692",
           "#19d3f3",
           "#19d3f3",
           "#FF6692",
           "#FF6692",
           "#19d3f3",
           "#FFA15A",
           "#ab63fa",
           "#19d3f3",
           "#FF6692",
           "#FF6692",
           "#FFA15A",
           "#19d3f3",
           "#FF6692",
           "#FFA15A",
           "#19d3f3",
           "#ab63fa",
           "#ab63fa",
           "#ab63fa",
           "#FFA15A",
           "#FF6692",
           "#FFA15A",
           "#19d3f3",
           "#FF6692",
           "#FF6692",
           "#FFA15A",
           "#FFA15A",
           "#ab63fa",
           "#FF6692",
           "#FFA15A",
           "#ab63fa",
           "#19d3f3",
           "#FF6692",
           "#FF6692",
           "#FFA15A",
           "#FFA15A",
           "#ab63fa",
           "#ab63fa",
           "#FF6692",
           "#ab63fa",
           "#ab63fa",
           "#19d3f3",
           "#ab63fa",
           "#19d3f3",
           "#FFA15A",
           "#ab63fa",
           "#19d3f3",
           "#FF6692",
           "#FFA15A",
           "#ab63fa",
           "#19d3f3",
           "#FF6692",
           "#FFA15A",
           "#ab63fa",
           "#19d3f3",
           "#19d3f3",
           "#FF6692",
           "#FFA15A",
           "#ab63fa",
           "#FFA15A",
           "#FF6692",
           "#19d3f3",
           "#FFA15A",
           "#19d3f3",
           "#FFA15A",
           "#FF6692",
           "#FF6692",
           "#ab63fa",
           "#ab63fa",
           "#19d3f3",
           "#FFA15A",
           "#FF6692",
           "#ab63fa",
           "#ab63fa",
           "#19d3f3",
           "#ab63fa",
           "#FF6692",
           "#19d3f3",
           "#ab63fa",
           "#19d3f3",
           "#FF6692",
           "#FFA15A",
           "#FF6692",
           "#ab63fa",
           "#ab63fa",
           "#ab63fa",
           "#19d3f3",
           "#ab63fa",
           "#19d3f3",
           "#ab63fa",
           "#ab63fa",
           "#FF6692",
           "#FF6692",
           "#ab63fa",
           "#19d3f3",
           "#FFA15A",
           "#ab63fa",
           "#FF6692",
           "#19d3f3",
           "#ab63fa",
           "#FFA15A",
           "#FFA15A",
           "#19d3f3",
           "#ab63fa",
           "#FFA15A",
           "#FF6692",
           "#FFA15A",
           "#19d3f3",
           "#19d3f3",
           "#ab63fa",
           "#19d3f3",
           "#FFA15A",
           "#FF6692",
           "#19d3f3",
           "#FFA15A",
           "#ab63fa",
           "#FFA15A",
           "#FF6692",
           "#19d3f3",
           "#ab63fa",
           "#FFA15A",
           "#19d3f3",
           "#FF6692",
           "#ab63fa",
           "#FF6692",
           "#FF6692",
           "#FF6692",
           "#FF6692",
           "#19d3f3",
           "#FFA15A",
           "#19d3f3",
           "#FFA15A",
           "#FF6692",
           "#ab63fa",
           "#19d3f3",
           "#ab63fa",
           "#ab63fa",
           "#FF6692",
           "#FFA15A",
           "#FFA15A",
           "#19d3f3",
           "#FF6692",
           "#FF6692",
           "#ab63fa",
           "#ab63fa",
           "#19d3f3",
           "#FFA15A",
           "#FF6692",
           "#FFA15A",
           "#FFA15A",
           "#19d3f3",
           "#19d3f3",
           "#ab63fa",
           "#FFA15A",
           "#FF6692",
           "#19d3f3",
           "#ab63fa",
           "#ab63fa",
           "#19d3f3",
           "#FFA15A",
           "#FF6692",
           "#FFA15A",
           "#ab63fa",
           "#FFA15A",
           "#ab63fa",
           "#FFA15A",
           "#ab63fa",
           "#FF6692",
           "#19d3f3",
           "#FF6692",
           "#FFA15A",
           "#FFA15A",
           "#FFA15A",
           "#FF6692",
           "#FFA15A",
           "#FFA15A",
           "#19d3f3",
           "#ab63fa",
           "#19d3f3",
           "#ab63fa",
           "#19d3f3",
           "#FFA15A",
           "#19d3f3",
           "#19d3f3",
           "#FFA15A",
           "#FF6692",
           "#FF6692",
           "#19d3f3",
           "#FFA15A",
           "#ab63fa",
           "#FF6692",
           "#FFA15A",
           "#ab63fa",
           "#ab63fa",
           "#19d3f3",
           "#FFA15A",
           "#FF6692",
           "#ab63fa",
           "#19d3f3",
           "#FF6692",
           "#19d3f3",
           "#FFA15A",
           "#19d3f3",
           "#FF6692",
           "#FF6692",
           "#FF6692",
           "#FF6692",
           "#FF6692",
           "#ab63fa",
           "#ab63fa",
           "#19d3f3",
           "#FF6692",
           "#FFA15A",
           "#19d3f3",
           "#FF6692",
           "#19d3f3",
           "#FFA15A",
           "#FF6692",
           "#FFA15A",
           "#ab63fa",
           "#FFA15A",
           "#FF6692",
           "#FFA15A",
           "#ab63fa",
           "#FF6692",
           "#ab63fa",
           "#FF6692",
           "#ab63fa",
           "#FF6692",
           "#FF6692",
           "#ab63fa",
           "#FFA15A",
           "#19d3f3",
           "#ab63fa",
           "#19d3f3",
           "#ab63fa",
           "#FF6692",
           "#19d3f3",
           "#FF6692",
           "#FF6692",
           "#FF6692",
           "#ab63fa",
           "#FF6692",
           "#FFA15A",
           "#FFA15A",
           "#19d3f3",
           "#FFA15A",
           "#FF6692",
           "#ab63fa",
           "#FFA15A",
           "#19d3f3",
           "#FF6692",
           "#FF6692",
           "#19d3f3",
           "#FF6692",
           "#FFA15A",
           "#FF6692",
           "#FF6692",
           "#FFA15A",
           "#FFA15A",
           "#19d3f3",
           "#FFA15A",
           "#FFA15A",
           "#19d3f3",
           "#FF6692",
           "#ab63fa",
           "#FFA15A",
           "#FFA15A",
           "#FF6692",
           "#FFA15A",
           "#19d3f3",
           "#ab63fa",
           "#19d3f3",
           "#ab63fa",
           "#FFA15A",
           "#19d3f3",
           "#FF6692",
           "#ab63fa",
           "#ab63fa",
           "#FFA15A",
           "#FFA15A",
           "#19d3f3",
           "#ab63fa",
           "#ab63fa",
           "#FF6692",
           "#19d3f3",
           "#FFA15A",
           "#FFA15A",
           "#FF6692",
           "#FFA15A",
           "#ab63fa",
           "#FF6692",
           "#19d3f3",
           "#ab63fa",
           "#19d3f3",
           "#19d3f3",
           "#19d3f3",
           "#ab63fa",
           "#FFA15A",
           "#19d3f3",
           "#FF6692",
           "#FF6692",
           "#FFA15A",
           "#19d3f3",
           "#19d3f3",
           "#19d3f3",
           "#FF6692",
           "#FFA15A",
           "#FFA15A",
           "#FFA15A",
           "#ab63fa",
           "#FFA15A",
           "#FF6692",
           "#19d3f3",
           "#19d3f3",
           "#ab63fa",
           "#19d3f3",
           "#ab63fa",
           "#19d3f3",
           "#FF6692",
           "#19d3f3",
           "#ab63fa",
           "#FF6692",
           "#FFA15A",
           "#19d3f3",
           "#ab63fa",
           "#ab63fa",
           "#FFA15A",
           "#19d3f3",
           "#19d3f3",
           "#FFA15A",
           "#FF6692",
           "#FFA15A",
           "#FF6692",
           "#FFA15A",
           "#FF6692",
           "#FFA15A",
           "#ab63fa",
           "#19d3f3",
           "#FF6692",
           "#19d3f3",
           "#ab63fa",
           "#ab63fa",
           "#19d3f3",
           "#FFA15A",
           "#ab63fa",
           "#FFA15A",
           "#19d3f3",
           "#ab63fa",
           "#FF6692",
           "#19d3f3",
           "#19d3f3",
           "#FFA15A",
           "#FF6692",
           "#ab63fa",
           "#ab63fa",
           "#19d3f3",
           "#19d3f3",
           "#FF6692",
           "#FFA15A",
           "#19d3f3",
           "#19d3f3",
           "#ab63fa",
           "#19d3f3",
           "#ab63fa",
           "#FFA15A",
           "#FFA15A",
           "#ab63fa",
           "#19d3f3",
           "#FF6692",
           "#ab63fa",
           "#ab63fa",
           "#FFA15A",
           "#19d3f3",
           "#FFA15A",
           "#19d3f3",
           "#FF6692",
           "#19d3f3",
           "#ab63fa",
           "#FFA15A",
           "#FFA15A",
           "#ab63fa",
           "#19d3f3",
           "#FF6692",
           "#FFA15A",
           "#ab63fa",
           "#FFA15A",
           "#FF6692",
           "#FF6692",
           "#FFA15A",
           "#ab63fa",
           "#19d3f3",
           "#19d3f3",
           "#19d3f3",
           "#FF6692",
           "#FF6692",
           "#ab63fa",
           "#FF6692",
           "#FF6692",
           "#19d3f3",
           "#FFA15A",
           "#ab63fa",
           "#FF6692",
           "#ab63fa",
           "#FFA15A",
           "#19d3f3",
           "#FFA15A",
           "#FF6692",
           "#ab63fa",
           "#FFA15A",
           "#ab63fa",
           "#19d3f3",
           "#19d3f3",
           "#ab63fa",
           "#19d3f3",
           "#FFA15A",
           "#ab63fa",
           "#ab63fa",
           "#19d3f3",
           "#FF6692",
           "#19d3f3",
           "#FFA15A",
           "#FFA15A",
           "#ab63fa",
           "#ab63fa",
           "#FFA15A",
           "#19d3f3",
           "#FF6692",
           "#ab63fa",
           "#FF6692",
           "#FF6692",
           "#FFA15A",
           "#FF6692",
           "#19d3f3",
           "#FFA15A",
           "#FF6692",
           "#19d3f3",
           "#19d3f3",
           "#FFA15A",
           "#FF6692",
           "#19d3f3",
           "#FF6692",
           "#FF6692",
           "#ab63fa",
           "#ab63fa",
           "#19d3f3",
           "#FFA15A",
           "#19d3f3",
           "#ab63fa",
           "#ab63fa",
           "#FFA15A",
           "#FFA15A",
           "#FF6692",
           "#ab63fa",
           "#19d3f3",
           "#FF6692",
           "#FF6692",
           "#FF6692",
           "#FFA15A",
           "#FF6692",
           "#ab63fa",
           "#19d3f3",
           "#FFA15A",
           "#ab63fa",
           "#19d3f3",
           "#ab63fa",
           "#19d3f3",
           "#19d3f3",
           "#ab63fa",
           "#FFA15A",
           "#FF6692",
           "#B6E880"
          ],
          "cornerradius": 5
         },
         "name": "",
         "parents": [
          "Media/Sakshi",
          "Media/Sakshi",
          "Media/Sakshi",
          "Media/Sakshi",
          "Media/TV5",
          "Media/Sakshi",
          "Media/TV5",
          "Media/ABN",
          "Media/TV5",
          "Media/Sakshi",
          "Media/ABN",
          "Media/TV5",
          "Media/ABN",
          "Media/TV9",
          "Media/Sakshi",
          "Media/TV5",
          "Media/TV9",
          "Media/TV9",
          "Media/Sakshi",
          "Media/TV5",
          "Media/Sakshi",
          "Media/ABN",
          "Media/TV9",
          "Media/ABN",
          "Media/TV9",
          "Media/Sakshi",
          "Media/ABN",
          "Media/TV5",
          "Media/ABN",
          "Media/TV5",
          "Media/Sakshi",
          "Media/ABN",
          "Media/TV5",
          "Media/ABN",
          "Media/TV9",
          "Media/TV5",
          "Media/TV5",
          "Media/TV9",
          "Media/TV5",
          "Media/Sakshi",
          "Media/TV9",
          "Media/TV9",
          "Media/TV9",
          "Media/ABN",
          "Media/Sakshi",
          "Media/ABN",
          "Media/TV9",
          "Media/TV5",
          "Media/ABN",
          "Media/TV5",
          "Media/ABN",
          "Media/Sakshi",
          "Media/ABN",
          "Media/TV9",
          "Media/Sakshi",
          "Media/ABN",
          "Media/TV9",
          "Media/TV5",
          "Media/TV5",
          "Media/Sakshi",
          "Media/Sakshi",
          "Media/ABN",
          "Media/TV5",
          "Media/ABN",
          "Media/Sakshi",
          "Media/TV5",
          "Media/TV5",
          "Media/ABN",
          "Media/TV9",
          "Media/ABN",
          "Media/Sakshi",
          "Media/Sakshi",
          "Media/TV5",
          "Media/TV9",
          "Media/ABN",
          "Media/TV9",
          "Media/TV5",
          "Media/Sakshi",
          "Media/ABN",
          "Media/TV9",
          "Media/Sakshi",
          "Media/Sakshi",
          "Media/TV9",
          "Media/Sakshi",
          "Media/TV5",
          "Media/TV9",
          "Media/TV5",
          "Media/Sakshi",
          "Media/ABN",
          "Media/TV9",
          "Media/TV9",
          "Media/Sakshi",
          "Media/TV5",
          "Media/Sakshi",
          "Media/ABN",
          "Media/TV5",
          "Media/TV9",
          "Media/TV9",
          "Media/ABN",
          "Media/TV9",
          "Media/TV9",
          "Media/TV5",
          "Media/Sakshi",
          "Media/TV9",
          "Media/Sakshi",
          "Media/ABN",
          "Media/ABN",
          "Media/TV9",
          "Media/Sakshi",
          "Media/TV9",
          "Media/TV5",
          "Media/Sakshi",
          "Media/Sakshi",
          "Media/TV5",
          "Media/TV5",
          "Media/TV9",
          "Media/ABN",
          "Media/TV5",
          "Media/Sakshi",
          "Media/TV5",
          "Media/TV9",
          "Media/ABN",
          "Media/Sakshi",
          "Media/TV9",
          "Media/TV5",
          "Media/Sakshi",
          "Media/ABN",
          "Media/TV5",
          "Media/TV5",
          "Media/ABN",
          "Media/TV9",
          "Media/TV9",
          "Media/Sakshi",
          "Media/TV9",
          "Media/ABN",
          "Media/ABN",
          "Media/TV9",
          "Media/TV9",
          "Media/ABN",
          "Media/TV5",
          "Media/Sakshi",
          "Media/ABN",
          "Media/TV9",
          "Media/TV9",
          "Media/TV5",
          "Media/ABN",
          "Media/TV9",
          "Media/TV5",
          "Media/ABN",
          "Media/Sakshi",
          "Media/Sakshi",
          "Media/Sakshi",
          "Media/TV5",
          "Media/TV9",
          "Media/TV5",
          "Media/ABN",
          "Media/TV9",
          "Media/TV9",
          "Media/TV5",
          "Media/TV5",
          "Media/Sakshi",
          "Media/TV9",
          "Media/TV5",
          "Media/Sakshi",
          "Media/ABN",
          "Media/TV9",
          "Media/TV9",
          "Media/TV5",
          "Media/TV5",
          "Media/Sakshi",
          "Media/Sakshi",
          "Media/TV9",
          "Media/Sakshi",
          "Media/Sakshi",
          "Media/ABN",
          "Media/Sakshi",
          "Media/ABN",
          "Media/TV5",
          "Media/Sakshi",
          "Media/ABN",
          "Media/TV9",
          "Media/TV5",
          "Media/Sakshi",
          "Media/ABN",
          "Media/TV9",
          "Media/TV5",
          "Media/Sakshi",
          "Media/ABN",
          "Media/ABN",
          "Media/TV9",
          "Media/TV5",
          "Media/Sakshi",
          "Media/TV5",
          "Media/TV9",
          "Media/ABN",
          "Media/TV5",
          "Media/ABN",
          "Media/TV5",
          "Media/TV9",
          "Media/TV9",
          "Media/Sakshi",
          "Media/Sakshi",
          "Media/ABN",
          "Media/TV5",
          "Media/TV9",
          "Media/Sakshi",
          "Media/Sakshi",
          "Media/ABN",
          "Media/Sakshi",
          "Media/TV9",
          "Media/ABN",
          "Media/Sakshi",
          "Media/ABN",
          "Media/TV9",
          "Media/TV5",
          "Media/TV9",
          "Media/Sakshi",
          "Media/Sakshi",
          "Media/Sakshi",
          "Media/ABN",
          "Media/Sakshi",
          "Media/ABN",
          "Media/Sakshi",
          "Media/Sakshi",
          "Media/TV9",
          "Media/TV9",
          "Media/Sakshi",
          "Media/ABN",
          "Media/TV5",
          "Media/Sakshi",
          "Media/TV9",
          "Media/ABN",
          "Media/Sakshi",
          "Media/TV5",
          "Media/TV5",
          "Media/ABN",
          "Media/Sakshi",
          "Media/TV5",
          "Media/TV9",
          "Media/TV5",
          "Media/ABN",
          "Media/ABN",
          "Media/Sakshi",
          "Media/ABN",
          "Media/TV5",
          "Media/TV9",
          "Media/ABN",
          "Media/TV5",
          "Media/Sakshi",
          "Media/TV5",
          "Media/TV9",
          "Media/ABN",
          "Media/Sakshi",
          "Media/TV5",
          "Media/ABN",
          "Media/TV9",
          "Media/Sakshi",
          "Media/TV9",
          "Media/TV9",
          "Media/TV9",
          "Media/TV9",
          "Media/ABN",
          "Media/TV5",
          "Media/ABN",
          "Media/TV5",
          "Media/TV9",
          "Media/Sakshi",
          "Media/ABN",
          "Media/Sakshi",
          "Media/Sakshi",
          "Media/TV9",
          "Media/TV5",
          "Media/TV5",
          "Media/ABN",
          "Media/TV9",
          "Media/TV9",
          "Media/Sakshi",
          "Media/Sakshi",
          "Media/ABN",
          "Media/TV5",
          "Media/TV9",
          "Media/TV5",
          "Media/TV5",
          "Media/ABN",
          "Media/ABN",
          "Media/Sakshi",
          "Media/TV5",
          "Media/TV9",
          "Media/ABN",
          "Media/Sakshi",
          "Media/Sakshi",
          "Media/ABN",
          "Media/TV5",
          "Media/TV9",
          "Media/TV5",
          "Media/Sakshi",
          "Media/TV5",
          "Media/Sakshi",
          "Media/TV5",
          "Media/Sakshi",
          "Media/TV9",
          "Media/ABN",
          "Media/TV9",
          "Media/TV5",
          "Media/TV5",
          "Media/TV5",
          "Media/TV9",
          "Media/TV5",
          "Media/TV5",
          "Media/ABN",
          "Media/Sakshi",
          "Media/ABN",
          "Media/Sakshi",
          "Media/ABN",
          "Media/TV5",
          "Media/ABN",
          "Media/ABN",
          "Media/TV5",
          "Media/TV9",
          "Media/TV9",
          "Media/ABN",
          "Media/TV5",
          "Media/Sakshi",
          "Media/TV9",
          "Media/TV5",
          "Media/Sakshi",
          "Media/Sakshi",
          "Media/ABN",
          "Media/TV5",
          "Media/TV9",
          "Media/Sakshi",
          "Media/ABN",
          "Media/TV9",
          "Media/ABN",
          "Media/TV5",
          "Media/ABN",
          "Media/TV9",
          "Media/TV9",
          "Media/TV9",
          "Media/TV9",
          "Media/TV9",
          "Media/Sakshi",
          "Media/Sakshi",
          "Media/ABN",
          "Media/TV9",
          "Media/TV5",
          "Media/ABN",
          "Media/TV9",
          "Media/ABN",
          "Media/TV5",
          "Media/TV9",
          "Media/TV5",
          "Media/Sakshi",
          "Media/TV5",
          "Media/TV9",
          "Media/TV5",
          "Media/Sakshi",
          "Media/TV9",
          "Media/Sakshi",
          "Media/TV9",
          "Media/Sakshi",
          "Media/TV9",
          "Media/TV9",
          "Media/Sakshi",
          "Media/TV5",
          "Media/ABN",
          "Media/Sakshi",
          "Media/ABN",
          "Media/Sakshi",
          "Media/TV9",
          "Media/ABN",
          "Media/TV9",
          "Media/TV9",
          "Media/TV9",
          "Media/Sakshi",
          "Media/TV9",
          "Media/TV5",
          "Media/TV5",
          "Media/ABN",
          "Media/TV5",
          "Media/TV9",
          "Media/Sakshi",
          "Media/TV5",
          "Media/ABN",
          "Media/TV9",
          "Media/TV9",
          "Media/ABN",
          "Media/TV9",
          "Media/TV5",
          "Media/TV9",
          "Media/TV9",
          "Media/TV5",
          "Media/TV5",
          "Media/ABN",
          "Media/TV5",
          "Media/TV5",
          "Media/ABN",
          "Media/TV9",
          "Media/Sakshi",
          "Media/TV5",
          "Media/TV5",
          "Media/TV9",
          "Media/TV5",
          "Media/ABN",
          "Media/Sakshi",
          "Media/ABN",
          "Media/Sakshi",
          "Media/TV5",
          "Media/ABN",
          "Media/TV9",
          "Media/Sakshi",
          "Media/Sakshi",
          "Media/TV5",
          "Media/TV5",
          "Media/ABN",
          "Media/Sakshi",
          "Media/Sakshi",
          "Media/TV9",
          "Media/ABN",
          "Media/TV5",
          "Media/TV5",
          "Media/TV9",
          "Media/TV5",
          "Media/Sakshi",
          "Media/TV9",
          "Media/ABN",
          "Media/Sakshi",
          "Media/ABN",
          "Media/ABN",
          "Media/ABN",
          "Media/Sakshi",
          "Media/TV5",
          "Media/ABN",
          "Media/TV9",
          "Media/TV9",
          "Media/TV5",
          "Media/ABN",
          "Media/ABN",
          "Media/ABN",
          "Media/TV9",
          "Media/TV5",
          "Media/TV5",
          "Media/TV5",
          "Media/Sakshi",
          "Media/TV5",
          "Media/TV9",
          "Media/ABN",
          "Media/ABN",
          "Media/Sakshi",
          "Media/ABN",
          "Media/Sakshi",
          "Media/ABN",
          "Media/TV9",
          "Media/ABN",
          "Media/Sakshi",
          "Media/TV9",
          "Media/TV5",
          "Media/ABN",
          "Media/Sakshi",
          "Media/Sakshi",
          "Media/TV5",
          "Media/ABN",
          "Media/ABN",
          "Media/TV5",
          "Media/TV9",
          "Media/TV5",
          "Media/TV9",
          "Media/TV5",
          "Media/TV9",
          "Media/TV5",
          "Media/Sakshi",
          "Media/ABN",
          "Media/TV9",
          "Media/ABN",
          "Media/Sakshi",
          "Media/Sakshi",
          "Media/ABN",
          "Media/TV5",
          "Media/Sakshi",
          "Media/TV5",
          "Media/ABN",
          "Media/Sakshi",
          "Media/TV9",
          "Media/ABN",
          "Media/ABN",
          "Media/TV5",
          "Media/TV9",
          "Media/Sakshi",
          "Media/Sakshi",
          "Media/ABN",
          "Media/ABN",
          "Media/TV9",
          "Media/TV5",
          "Media/ABN",
          "Media/ABN",
          "Media/Sakshi",
          "Media/ABN",
          "Media/Sakshi",
          "Media/TV5",
          "Media/TV5",
          "Media/Sakshi",
          "Media/ABN",
          "Media/TV9",
          "Media/Sakshi",
          "Media/Sakshi",
          "Media/TV5",
          "Media/ABN",
          "Media/TV5",
          "Media/ABN",
          "Media/TV9",
          "Media/ABN",
          "Media/Sakshi",
          "Media/TV5",
          "Media/TV5",
          "Media/Sakshi",
          "Media/ABN",
          "Media/TV9",
          "Media/TV5",
          "Media/Sakshi",
          "Media/TV5",
          "Media/TV9",
          "Media/TV9",
          "Media/TV5",
          "Media/Sakshi",
          "Media/ABN",
          "Media/ABN",
          "Media/ABN",
          "Media/TV9",
          "Media/TV9",
          "Media/Sakshi",
          "Media/TV9",
          "Media/TV9",
          "Media/ABN",
          "Media/TV5",
          "Media/Sakshi",
          "Media/TV9",
          "Media/Sakshi",
          "Media/TV5",
          "Media/ABN",
          "Media/TV5",
          "Media/TV9",
          "Media/Sakshi",
          "Media/TV5",
          "Media/Sakshi",
          "Media/ABN",
          "Media/ABN",
          "Media/Sakshi",
          "Media/ABN",
          "Media/TV5",
          "Media/Sakshi",
          "Media/Sakshi",
          "Media/ABN",
          "Media/TV9",
          "Media/ABN",
          "Media/TV5",
          "Media/TV5",
          "Media/Sakshi",
          "Media/Sakshi",
          "Media/TV5",
          "Media/ABN",
          "Media/TV9",
          "Media/Sakshi",
          "Media/TV9",
          "Media/TV9",
          "Media/TV5",
          "Media/TV9",
          "Media/ABN",
          "Media/TV5",
          "Media/TV9",
          "Media/ABN",
          "Media/ABN",
          "Media/TV5",
          "Media/TV9",
          "Media/ABN",
          "Media/TV9",
          "Media/TV9",
          "Media/Sakshi",
          "Media/Sakshi",
          "Media/ABN",
          "Media/TV5",
          "Media/ABN",
          "Media/Sakshi",
          "Media/Sakshi",
          "Media/TV5",
          "Media/TV5",
          "Media/TV9",
          "Media/Sakshi",
          "Media/ABN",
          "Media/TV9",
          "Media/TV9",
          "Media/TV9",
          "Media/TV5",
          "Media/TV9",
          "Media/Sakshi",
          "Media/ABN",
          "Media/TV5",
          "Media/Sakshi",
          "Media/ABN",
          "Media/Sakshi",
          "Media/ABN",
          "Media",
          "Media",
          "Media",
          "Media",
          ""
         ],
         "type": "treemap",
         "values": [
          10473149,
          7829065,
          8323197,
          9591502,
          14842651,
          10117830,
          17966144,
          9606277,
          11515294,
          11197687,
          9939894,
          10312370,
          13839932,
          11367763,
          16855395,
          12697925,
          18391047,
          16724803,
          12205812,
          15900314,
          10781111,
          12224455,
          10781998,
          13126089,
          13352661,
          11840570,
          10020340,
          10293607,
          10545166,
          14786017,
          12298977,
          12248923,
          14111904,
          12017341,
          14670705,
          9949933,
          13176908,
          17596580,
          10770943,
          14256697,
          11751536,
          9177155,
          15229708,
          10477596,
          11206803,
          9103558,
          14408487,
          12313510,
          10693782,
          9777706,
          10991127,
          9658301,
          11702238,
          11715014,
          9862486,
          14709959,
          11487964,
          11887991,
          16304394,
          12886008,
          9686155,
          13395761,
          11951178,
          12934190,
          6702989,
          12437885,
          10553005,
          9566342,
          10318511,
          10476358,
          11847971,
          8616959,
          13159784,
          12915496,
          11532996,
          13077567,
          14890347,
          7870581,
          9400701,
          12447914,
          9372783,
          13849016,
          14449339,
          10041385,
          14503944,
          10880160,
          10134829,
          12675677,
          9144957,
          14430731,
          11516526,
          6920768,
          12640701,
          6811223,
          8953608,
          9996269,
          14765777,
          20356671,
          13175478,
          11759421,
          16995548,
          10121430,
          7388311,
          17580040,
          7835375,
          11402488,
          12576201,
          17830382,
          10592590,
          14035052,
          13381946,
          9572243,
          8037240,
          11366427,
          11874121,
          12342509,
          12414667,
          11479674,
          7376955,
          13372657,
          14523840,
          11805523,
          7972433,
          10544310,
          12999349,
          9737011,
          10317159,
          11410035,
          10910504,
          8339772,
          13721282,
          10795131,
          8895977,
          16051692,
          11253646,
          10999433,
          14551302,
          12493643,
          14107618,
          12385211,
          11960607,
          12490986,
          12196655,
          13174324,
          14060240,
          14846459,
          9455157,
          9974277,
          10698189,
          8685369,
          11229371,
          9546224,
          14717906,
          12257168,
          12331669,
          12107472,
          8958928,
          13321839,
          13229509,
          14363346,
          10323444,
          9967828,
          10830332,
          6105906,
          11447691,
          11369910,
          11565171,
          13259711,
          11360620,
          11895284,
          10076229,
          14559869,
          12159620,
          10824760,
          13086783,
          9689241,
          11276987,
          11171292,
          13369296,
          13460801,
          19996053,
          15803038,
          7928080,
          10411780,
          11044623,
          8930332,
          16588421,
          10969465,
          15544690,
          13993363,
          16686529,
          8557064,
          12117298,
          9203313,
          13233421,
          14468698,
          11143533,
          15305695,
          12408213,
          12643219,
          8057472,
          9674129,
          11393199,
          22310222,
          10786942,
          9064343,
          10183042,
          9813669,
          10172105,
          11059646,
          15839547,
          7819870,
          9577402,
          13569483,
          13033367,
          18038922,
          7625802,
          10075865,
          8651722,
          12863430,
          9429595,
          9085301,
          13698763,
          11838483,
          13389435,
          13354831,
          7513752,
          13231211,
          16133936,
          6014813,
          14433985,
          12306265,
          7921441,
          15102881,
          11213303,
          8732203,
          9377821,
          14750238,
          12005365,
          12848136,
          9929393,
          10580082,
          12758523,
          13429984,
          12088213,
          12760296,
          8579825,
          11505648,
          10146633,
          14047523,
          16494638,
          12452547,
          9200057,
          11633523,
          11766582,
          10681070,
          9036018,
          14651804,
          11196475,
          19282367,
          15809501,
          12458773,
          10834456,
          11456503,
          11338560,
          12237096,
          8849692,
          10838255,
          11368821,
          6523267,
          12632489,
          14261572,
          11996056,
          10505321,
          16655740,
          11633818,
          9397878,
          9700716,
          13472585,
          12706541,
          10393601,
          13033314,
          16203964,
          7995164,
          9354061,
          9127540,
          12561499,
          15863680,
          10993003,
          9767964,
          9604644,
          11072419,
          13065859,
          15895358,
          12754704,
          9417121,
          11648197,
          9648051,
          11403127,
          7927104,
          13404921,
          13804762,
          15341721,
          12122796,
          13149052,
          13328888,
          16883665,
          11274577,
          13353630,
          12156124,
          14269024,
          11484043,
          6655944,
          12536346,
          13209870,
          13203289,
          13654393,
          12003107,
          13197914,
          14598486,
          12265202,
          13268494,
          13476627,
          21102917,
          10328291,
          11230477,
          8291695,
          8908975,
          12028008,
          10747478,
          12508729,
          9920767,
          19260317,
          11447838,
          11912721,
          13285768,
          12254328,
          12637094,
          12489933,
          10769245,
          15581551,
          7412368,
          13203123,
          9692279,
          12896581,
          12730748,
          11660794,
          14221796,
          10886418,
          16075074,
          14988033,
          12787879,
          15779098,
          12060950,
          11668193,
          16021170,
          7829010,
          14252002,
          9271944,
          15574777,
          9596904,
          11794836,
          14090148,
          9079973,
          12875957,
          12585529,
          7433119,
          10014823,
          7165381,
          16740981,
          10426832,
          15794232,
          10756624,
          17190383,
          9825902,
          13788011,
          13840356,
          12681248,
          9407800,
          15602739,
          11586302,
          8772511,
          14440106,
          9628108,
          11273089,
          16645739,
          14590117,
          10167944,
          13294293,
          16285132,
          9559681,
          15934187,
          10653132,
          10272011,
          12019920,
          10546305,
          14061786,
          13816999,
          7217615,
          15955260,
          15313296,
          11913949,
          16095888,
          9999792,
          14196256,
          11338282,
          10050314,
          14559646,
          12790520,
          12355949,
          9785131,
          11253194,
          11862611,
          11589041,
          12395759,
          9136923,
          8264270,
          17601841,
          8282642,
          13094162,
          10567048,
          15960871,
          8643790,
          10567264,
          12756800,
          8839315,
          7023772,
          12822328,
          11996155,
          12345158,
          13458666,
          10069446,
          12157144,
          9452095,
          15344903,
          9774740,
          13401771,
          10304240,
          8739035,
          16709640,
          14427623,
          13408992,
          11529993,
          9160375,
          15651804,
          13524322,
          10174406,
          11265596,
          14166171,
          10091777,
          6954980,
          11079950,
          9743843,
          14520842,
          8567155,
          10651400,
          12512090,
          11223830,
          11847591,
          6179785,
          10950494,
          10279838,
          8999374,
          11619624,
          10986619,
          12269292,
          12581540,
          13756876,
          11643245,
          13234497,
          10483908,
          8256756,
          12504506,
          13432366,
          9141569,
          16037391,
          9295373,
          12664426,
          11968146,
          11892778,
          15968340,
          11715494,
          18320208,
          10703115,
          10483630,
          13406804,
          11020270,
          9935442,
          8315055,
          15352154,
          9335222,
          14342458,
          11376818,
          11583050,
          10768611,
          10827903,
          9428429,
          9970572,
          13074476,
          10024169,
          11360139,
          11013562,
          13876092,
          9351784,
          9544013,
          14597155,
          9173005,
          17499327,
          11463196,
          10950605,
          10678473,
          10453359,
          11920663,
          12914566,
          13190858,
          11838021,
          12055685,
          12057743,
          9703352,
          12072639,
          13494969,
          12216109,
          13958612,
          9665738,
          9983190,
          11763001,
          11654811,
          10551091,
          17189853,
          13567205,
          14297482,
          12319385,
          12148922,
          9901341,
          10532010,
          12537943,
          7092765,
          10151504,
          13857543,
          9534505,
          12239066,
          7801697,
          10797579,
          10322393,
          13414666,
          10326216,
          8773525,
          11366473,
          11671198,
          11988057,
          7362391,
          9890609,
          16802596,
          12220181,
          11303088,
          12168651,
          6200152,
          9195977,
          12234658,
          10894735,
          14294137,
          9701914,
          10959595,
          10951308,
          12184752,
          10984365,
          10606935,
          10197003,
          16173179,
          12269988,
          11608275,
          13798458,
          13150402,
          10776236,
          17638320,
          16576853,
          10069136,
          13311967,
          8908521,
          12694538,
          8219653,
          10587423,
          9032465,
          13997919,
          18633196,
          14986112,
          10078718,
          12269814,
          23464837,
          10221017,
          11019704,
          12930001,
          12075963,
          7282022,
          9914995,
          12985517,
          8492818,
          9657342,
          7974361,
          9235057,
          1700190780,
          1490383205,
          1918336033,
          2033782620,
          7142692638
         ]
        }
       ],
       "layout": {
        "legend": {
         "tracegroupgap": 0
        },
        "margin": {
         "b": 25,
         "l": 25,
         "r": 25,
         "t": 50
        },
        "template": {
         "data": {
          "bar": [
           {
            "error_x": {
             "color": "#2a3f5f"
            },
            "error_y": {
             "color": "#2a3f5f"
            },
            "marker": {
             "line": {
              "color": "#E5ECF6",
              "width": 0.5
             },
             "pattern": {
              "fillmode": "overlay",
              "size": 10,
              "solidity": 0.2
             }
            },
            "type": "bar"
           }
          ],
          "barpolar": [
           {
            "marker": {
             "line": {
              "color": "#E5ECF6",
              "width": 0.5
             },
             "pattern": {
              "fillmode": "overlay",
              "size": 10,
              "solidity": 0.2
             }
            },
            "type": "barpolar"
           }
          ],
          "carpet": [
           {
            "aaxis": {
             "endlinecolor": "#2a3f5f",
             "gridcolor": "white",
             "linecolor": "white",
             "minorgridcolor": "white",
             "startlinecolor": "#2a3f5f"
            },
            "baxis": {
             "endlinecolor": "#2a3f5f",
             "gridcolor": "white",
             "linecolor": "white",
             "minorgridcolor": "white",
             "startlinecolor": "#2a3f5f"
            },
            "type": "carpet"
           }
          ],
          "choropleth": [
           {
            "colorbar": {
             "outlinewidth": 0,
             "ticks": ""
            },
            "type": "choropleth"
           }
          ],
          "contour": [
           {
            "colorbar": {
             "outlinewidth": 0,
             "ticks": ""
            },
            "colorscale": [
             [
              0,
              "#0d0887"
             ],
             [
              0.1111111111111111,
              "#46039f"
             ],
             [
              0.2222222222222222,
              "#7201a8"
             ],
             [
              0.3333333333333333,
              "#9c179e"
             ],
             [
              0.4444444444444444,
              "#bd3786"
             ],
             [
              0.5555555555555556,
              "#d8576b"
             ],
             [
              0.6666666666666666,
              "#ed7953"
             ],
             [
              0.7777777777777778,
              "#fb9f3a"
             ],
             [
              0.8888888888888888,
              "#fdca26"
             ],
             [
              1,
              "#f0f921"
             ]
            ],
            "type": "contour"
           }
          ],
          "contourcarpet": [
           {
            "colorbar": {
             "outlinewidth": 0,
             "ticks": ""
            },
            "type": "contourcarpet"
           }
          ],
          "heatmap": [
           {
            "colorbar": {
             "outlinewidth": 0,
             "ticks": ""
            },
            "colorscale": [
             [
              0,
              "#0d0887"
             ],
             [
              0.1111111111111111,
              "#46039f"
             ],
             [
              0.2222222222222222,
              "#7201a8"
             ],
             [
              0.3333333333333333,
              "#9c179e"
             ],
             [
              0.4444444444444444,
              "#bd3786"
             ],
             [
              0.5555555555555556,
              "#d8576b"
             ],
             [
              0.6666666666666666,
              "#ed7953"
             ],
             [
              0.7777777777777778,
              "#fb9f3a"
             ],
             [
              0.8888888888888888,
              "#fdca26"
             ],
             [
              1,
              "#f0f921"
             ]
            ],
            "type": "heatmap"
           }
          ],
          "heatmapgl": [
           {
            "colorbar": {
             "outlinewidth": 0,
             "ticks": ""
            },
            "colorscale": [
             [
              0,
              "#0d0887"
             ],
             [
              0.1111111111111111,
              "#46039f"
             ],
             [
              0.2222222222222222,
              "#7201a8"
             ],
             [
              0.3333333333333333,
              "#9c179e"
             ],
             [
              0.4444444444444444,
              "#bd3786"
             ],
             [
              0.5555555555555556,
              "#d8576b"
             ],
             [
              0.6666666666666666,
              "#ed7953"
             ],
             [
              0.7777777777777778,
              "#fb9f3a"
             ],
             [
              0.8888888888888888,
              "#fdca26"
             ],
             [
              1,
              "#f0f921"
             ]
            ],
            "type": "heatmapgl"
           }
          ],
          "histogram": [
           {
            "marker": {
             "pattern": {
              "fillmode": "overlay",
              "size": 10,
              "solidity": 0.2
             }
            },
            "type": "histogram"
           }
          ],
          "histogram2d": [
           {
            "colorbar": {
             "outlinewidth": 0,
             "ticks": ""
            },
            "colorscale": [
             [
              0,
              "#0d0887"
             ],
             [
              0.1111111111111111,
              "#46039f"
             ],
             [
              0.2222222222222222,
              "#7201a8"
             ],
             [
              0.3333333333333333,
              "#9c179e"
             ],
             [
              0.4444444444444444,
              "#bd3786"
             ],
             [
              0.5555555555555556,
              "#d8576b"
             ],
             [
              0.6666666666666666,
              "#ed7953"
             ],
             [
              0.7777777777777778,
              "#fb9f3a"
             ],
             [
              0.8888888888888888,
              "#fdca26"
             ],
             [
              1,
              "#f0f921"
             ]
            ],
            "type": "histogram2d"
           }
          ],
          "histogram2dcontour": [
           {
            "colorbar": {
             "outlinewidth": 0,
             "ticks": ""
            },
            "colorscale": [
             [
              0,
              "#0d0887"
             ],
             [
              0.1111111111111111,
              "#46039f"
             ],
             [
              0.2222222222222222,
              "#7201a8"
             ],
             [
              0.3333333333333333,
              "#9c179e"
             ],
             [
              0.4444444444444444,
              "#bd3786"
             ],
             [
              0.5555555555555556,
              "#d8576b"
             ],
             [
              0.6666666666666666,
              "#ed7953"
             ],
             [
              0.7777777777777778,
              "#fb9f3a"
             ],
             [
              0.8888888888888888,
              "#fdca26"
             ],
             [
              1,
              "#f0f921"
             ]
            ],
            "type": "histogram2dcontour"
           }
          ],
          "mesh3d": [
           {
            "colorbar": {
             "outlinewidth": 0,
             "ticks": ""
            },
            "type": "mesh3d"
           }
          ],
          "parcoords": [
           {
            "line": {
             "colorbar": {
              "outlinewidth": 0,
              "ticks": ""
             }
            },
            "type": "parcoords"
           }
          ],
          "pie": [
           {
            "automargin": true,
            "type": "pie"
           }
          ],
          "scatter": [
           {
            "fillpattern": {
             "fillmode": "overlay",
             "size": 10,
             "solidity": 0.2
            },
            "type": "scatter"
           }
          ],
          "scatter3d": [
           {
            "line": {
             "colorbar": {
              "outlinewidth": 0,
              "ticks": ""
             }
            },
            "marker": {
             "colorbar": {
              "outlinewidth": 0,
              "ticks": ""
             }
            },
            "type": "scatter3d"
           }
          ],
          "scattercarpet": [
           {
            "marker": {
             "colorbar": {
              "outlinewidth": 0,
              "ticks": ""
             }
            },
            "type": "scattercarpet"
           }
          ],
          "scattergeo": [
           {
            "marker": {
             "colorbar": {
              "outlinewidth": 0,
              "ticks": ""
             }
            },
            "type": "scattergeo"
           }
          ],
          "scattergl": [
           {
            "marker": {
             "colorbar": {
              "outlinewidth": 0,
              "ticks": ""
             }
            },
            "type": "scattergl"
           }
          ],
          "scattermapbox": [
           {
            "marker": {
             "colorbar": {
              "outlinewidth": 0,
              "ticks": ""
             }
            },
            "type": "scattermapbox"
           }
          ],
          "scatterpolar": [
           {
            "marker": {
             "colorbar": {
              "outlinewidth": 0,
              "ticks": ""
             }
            },
            "type": "scatterpolar"
           }
          ],
          "scatterpolargl": [
           {
            "marker": {
             "colorbar": {
              "outlinewidth": 0,
              "ticks": ""
             }
            },
            "type": "scatterpolargl"
           }
          ],
          "scatterternary": [
           {
            "marker": {
             "colorbar": {
              "outlinewidth": 0,
              "ticks": ""
             }
            },
            "type": "scatterternary"
           }
          ],
          "surface": [
           {
            "colorbar": {
             "outlinewidth": 0,
             "ticks": ""
            },
            "colorscale": [
             [
              0,
              "#0d0887"
             ],
             [
              0.1111111111111111,
              "#46039f"
             ],
             [
              0.2222222222222222,
              "#7201a8"
             ],
             [
              0.3333333333333333,
              "#9c179e"
             ],
             [
              0.4444444444444444,
              "#bd3786"
             ],
             [
              0.5555555555555556,
              "#d8576b"
             ],
             [
              0.6666666666666666,
              "#ed7953"
             ],
             [
              0.7777777777777778,
              "#fb9f3a"
             ],
             [
              0.8888888888888888,
              "#fdca26"
             ],
             [
              1,
              "#f0f921"
             ]
            ],
            "type": "surface"
           }
          ],
          "table": [
           {
            "cells": {
             "fill": {
              "color": "#EBF0F8"
             },
             "line": {
              "color": "white"
             }
            },
            "header": {
             "fill": {
              "color": "#C8D4E3"
             },
             "line": {
              "color": "white"
             }
            },
            "type": "table"
           }
          ]
         },
         "layout": {
          "annotationdefaults": {
           "arrowcolor": "#2a3f5f",
           "arrowhead": 0,
           "arrowwidth": 1
          },
          "autotypenumbers": "strict",
          "coloraxis": {
           "colorbar": {
            "outlinewidth": 0,
            "ticks": ""
           }
          },
          "colorscale": {
           "diverging": [
            [
             0,
             "#8e0152"
            ],
            [
             0.1,
             "#c51b7d"
            ],
            [
             0.2,
             "#de77ae"
            ],
            [
             0.3,
             "#f1b6da"
            ],
            [
             0.4,
             "#fde0ef"
            ],
            [
             0.5,
             "#f7f7f7"
            ],
            [
             0.6,
             "#e6f5d0"
            ],
            [
             0.7,
             "#b8e186"
            ],
            [
             0.8,
             "#7fbc41"
            ],
            [
             0.9,
             "#4d9221"
            ],
            [
             1,
             "#276419"
            ]
           ],
           "sequential": [
            [
             0,
             "#0d0887"
            ],
            [
             0.1111111111111111,
             "#46039f"
            ],
            [
             0.2222222222222222,
             "#7201a8"
            ],
            [
             0.3333333333333333,
             "#9c179e"
            ],
            [
             0.4444444444444444,
             "#bd3786"
            ],
            [
             0.5555555555555556,
             "#d8576b"
            ],
            [
             0.6666666666666666,
             "#ed7953"
            ],
            [
             0.7777777777777778,
             "#fb9f3a"
            ],
            [
             0.8888888888888888,
             "#fdca26"
            ],
            [
             1,
             "#f0f921"
            ]
           ],
           "sequentialminus": [
            [
             0,
             "#0d0887"
            ],
            [
             0.1111111111111111,
             "#46039f"
            ],
            [
             0.2222222222222222,
             "#7201a8"
            ],
            [
             0.3333333333333333,
             "#9c179e"
            ],
            [
             0.4444444444444444,
             "#bd3786"
            ],
            [
             0.5555555555555556,
             "#d8576b"
            ],
            [
             0.6666666666666666,
             "#ed7953"
            ],
            [
             0.7777777777777778,
             "#fb9f3a"
            ],
            [
             0.8888888888888888,
             "#fdca26"
            ],
            [
             1,
             "#f0f921"
            ]
           ]
          },
          "colorway": [
           "#636efa",
           "#EF553B",
           "#00cc96",
           "#ab63fa",
           "#FFA15A",
           "#19d3f3",
           "#FF6692",
           "#B6E880",
           "#FF97FF",
           "#FECB52"
          ],
          "font": {
           "color": "#2a3f5f"
          },
          "geo": {
           "bgcolor": "white",
           "lakecolor": "white",
           "landcolor": "#E5ECF6",
           "showlakes": true,
           "showland": true,
           "subunitcolor": "white"
          },
          "hoverlabel": {
           "align": "left"
          },
          "hovermode": "closest",
          "mapbox": {
           "style": "light"
          },
          "paper_bgcolor": "white",
          "plot_bgcolor": "#E5ECF6",
          "polar": {
           "angularaxis": {
            "gridcolor": "white",
            "linecolor": "white",
            "ticks": ""
           },
           "bgcolor": "#E5ECF6",
           "radialaxis": {
            "gridcolor": "white",
            "linecolor": "white",
            "ticks": ""
           }
          },
          "scene": {
           "xaxis": {
            "backgroundcolor": "#E5ECF6",
            "gridcolor": "white",
            "gridwidth": 2,
            "linecolor": "white",
            "showbackground": true,
            "ticks": "",
            "zerolinecolor": "white"
           },
           "yaxis": {
            "backgroundcolor": "#E5ECF6",
            "gridcolor": "white",
            "gridwidth": 2,
            "linecolor": "white",
            "showbackground": true,
            "ticks": "",
            "zerolinecolor": "white"
           },
           "zaxis": {
            "backgroundcolor": "#E5ECF6",
            "gridcolor": "white",
            "gridwidth": 2,
            "linecolor": "white",
            "showbackground": true,
            "ticks": "",
            "zerolinecolor": "white"
           }
          },
          "shapedefaults": {
           "line": {
            "color": "#2a3f5f"
           }
          },
          "ternary": {
           "aaxis": {
            "gridcolor": "white",
            "linecolor": "white",
            "ticks": ""
           },
           "baxis": {
            "gridcolor": "white",
            "linecolor": "white",
            "ticks": ""
           },
           "bgcolor": "#E5ECF6",
           "caxis": {
            "gridcolor": "white",
            "linecolor": "white",
            "ticks": ""
           }
          },
          "title": {
           "x": 0.05
          },
          "xaxis": {
           "automargin": true,
           "gridcolor": "white",
           "linecolor": "white",
           "ticks": "",
           "title": {
            "standoff": 15
           },
           "zerolinecolor": "white",
           "zerolinewidth": 2
          },
          "yaxis": {
           "automargin": true,
           "gridcolor": "white",
           "linecolor": "white",
           "ticks": "",
           "title": {
            "standoff": 15
           },
           "zerolinecolor": "white",
           "zerolinewidth": 2
          }
         }
        }
       }
      }
     },
     "metadata": {},
     "output_type": "display_data"
    }
   ],
   "source": []
  },
  {
   "cell_type": "code",
   "execution_count": 332,
   "metadata": {},
   "outputs": [
    {
     "data": {
      "application/vnd.plotly.v1+json": {
       "config": {
        "plotlyServerURL": "https://plot.ly"
       },
       "data": [
        {
         "branchvalues": "total",
         "customdata": [
          [
           -0.015118997455432801,
           "YSRCP"
          ],
          [
           -0.07209482514063907,
           "TDP"
          ],
          [
           0.005594832128472589,
           "YSRCP"
          ],
          [
           0.008506471496536931,
           "JSP"
          ],
          [
           0.0191173323272739,
           "YSRCP"
          ],
          [
           -0.07000833874131518,
           "YSRCP"
          ],
          [
           -0.007307405180105876,
           "MEDIA"
          ],
          [
           0.0009578137378408437,
           "YSRCP"
          ],
          [
           0.0567003162766238,
           "YSRCP"
          ],
          [
           0.011034788316112955,
           "YSRCP"
          ],
          [
           -0.0038352906544024635,
           "YSRCP"
          ],
          [
           0.038917907685321926,
           "YSRCP"
          ],
          [
           0.002722101770175336,
           "YSRCP"
          ],
          [
           0.03756930210250691,
           "CONG"
          ],
          [
           -0.04658281718369236,
           "YSRCP"
          ],
          [
           -0.05781545518935714,
           "YSRCP"
          ],
          [
           0.005535999666847549,
           "YSRCP"
          ],
          [
           0.016549838230722373,
           "YSRCP"
          ],
          [
           0.011493117094787746,
           "MEDIA"
          ],
          [
           0.004034625387845784,
           "YSRCP"
          ],
          [
           0.000864677627599887,
           "YSRCP"
          ],
          [
           0.00048438139483626523,
           "YSRCP"
          ],
          [
           0.0217774056933269,
           "YSRCP"
          ],
          [
           0.00557121760852397,
           "YSRCP"
          ],
          [
           0.0038000856560028106,
           "TDP"
          ],
          [
           0.005305232460489605,
           "YSRCP"
          ],
          [
           0.006552075065313717,
           "YSRCP"
          ],
          [
           0.005052852176495849,
           "JSP"
          ],
          [
           0.01569520185084388,
           "YSRCP"
          ],
          [
           0.006624015745541986,
           "YSRCP"
          ],
          [
           -0.005730185453022845,
           "YSRCP"
          ],
          [
           -0.07510837915221572,
           "YSRCP"
          ],
          [
           -0.04367633592194219,
           "YSRCP"
          ],
          [
           -0.04892225124996858,
           "BJP"
          ],
          [
           0.06494365616244771,
           "YSRCP"
          ],
          [
           0.07675926417918483,
           "YSRCP"
          ],
          [
           0.008545904639433267,
           "YSRCP"
          ],
          [
           -0.0022733987962310896,
           "YSRCP"
          ],
          [
           0.000544603359675982,
           "YSRCP"
          ],
          [
           -0.013861385056214147,
           "YSRCP"
          ],
          [
           0.016192538524248148,
           "YSRCP"
          ],
          [
           0.016905368205584363,
           "YSRCP"
          ],
          [
           0.02116214166538201,
           "YSRCP"
          ],
          [
           0.012811511675872083,
           "YSRCP"
          ],
          [
           -0.018882413206860058,
           "YSRCP"
          ],
          [
           0.017326262564077405,
           "YSRCP"
          ],
          [
           -0.00498311726390307,
           "YSRCP"
          ],
          [
           -0.00607178394862107,
           "YSRCP"
          ],
          [
           -0.03334006328307908,
           "YSRCP"
          ],
          [
           -0.027583853283024807,
           "MEDIA"
          ],
          [
           0.02204459417804105,
           "YSRCP"
          ],
          [
           0.0048830211751649715,
           "YSRCP"
          ],
          [
           0.013350941217697278,
           "YSRCP"
          ],
          [
           0.02262419840535226,
           "YSRCP"
          ],
          [
           0.029488276711451374,
           "YSRCP"
          ],
          [
           -0.04878575658058304,
           "YSRCP"
          ],
          [
           0.019394596476945573,
           "YSRCP"
          ],
          [
           0.0012978380823079332,
           "YSRCP"
          ],
          [
           -0.02360768652678845,
           "YSRCP"
          ],
          [
           0.008448596250900635,
           "TDP"
          ],
          [
           0.0023568839783348807,
           "YSRCP"
          ],
          [
           -0.020133278580788897,
           "YSRCP"
          ],
          [
           -0.05783257621675478,
           "JSP"
          ],
          [
           0.0006331296649205781,
           "YSRCP"
          ],
          [
           -0.03668421381502595,
           "TDP"
          ],
          [
           0.004199503933542822,
           "TDP"
          ],
          [
           0.005693774709892627,
           "TDP"
          ],
          [
           -0.031900736061870404,
           "TDP"
          ],
          [
           0.008976362740104604,
           "YSRCP"
          ],
          [
           -0.0042764993362623275,
           "TDP"
          ],
          [
           -0.01610296459058411,
           "YSRCP"
          ],
          [
           0.004209005896976132,
           "BJP"
          ],
          [
           0.015762171621309634,
           "TDP"
          ],
          [
           -0.016181165811345263,
           "YSRCP"
          ],
          [
           -0.024027395609569503,
           "YSRCP"
          ],
          [
           0.035354883764244546,
           "YSRCP"
          ],
          [
           0.03289881009588247,
           "YSRCP"
          ],
          [
           0.022443286801505983,
           "TDP"
          ],
          [
           0.01120725389385168,
           "MEDIA"
          ],
          [
           -0.010588690375887746,
           "YSRCP"
          ],
          [
           0.0028501196671289588,
           "YSRCP"
          ],
          [
           -0.021285998230807734,
           "YSRCP"
          ],
          [
           -0.07683556168189108,
           "YSRCP"
          ],
          [
           -0.010128259765766333,
           "YSRCP"
          ],
          [
           -0.006754845094770111,
           "MEDIA"
          ],
          [
           0.007093653313353698,
           "YSRCP"
          ],
          [
           0.029935863530844334,
           "YSRCP"
          ],
          [
           -0.006816369860859511,
           "YSRCP"
          ],
          [
           -0.009568704217822334,
           "YSRCP"
          ],
          [
           0.005095746412152437,
           "YSRCP"
          ],
          [
           0.056305878750244356,
           "YSRCP"
          ],
          [
           0.004567099114967887,
           "YSRCP"
          ],
          [
           0.024028869380321036,
           "YSRCP"
          ],
          [
           -0.05970201857763638,
           "YSRCP"
          ],
          [
           0.02670145473603747,
           "YSRCP"
          ],
          [
           0.01202072367541702,
           "TDP"
          ],
          [
           -0.16447674190585976,
           "YSRCP"
          ],
          [
           -0.0016957572101018337,
           "TDP"
          ],
          [
           0.012041579356116909,
           "YSRCP"
          ],
          [
           0.03672005483470527,
           "YSRCP"
          ],
          [
           -0.041822246173639034,
           "TDP"
          ],
          [
           -0.0189956133442974,
           "YSRCP"
          ],
          [
           0.04935642160073827,
           "YSRCP"
          ],
          [
           0.0003865815983270001,
           "YSRCP"
          ],
          [
           0.027782755084694424,
           "YSRCP"
          ],
          [
           0.027782755084694424,
           "JSP"
          ],
          [
           -0.03043024504787437,
           "JSP"
          ],
          [
           0.003955013381968539,
           "MEDIA"
          ],
          [
           0.050493846514875984,
           "YSRCP"
          ],
          [
           -0.0016731985045314614,
           "YSRCP"
          ],
          [
           -0.051692063545765596,
           "YSRCP"
          ],
          [
           -0.027866262204264212,
           "YSRCP"
          ],
          [
           0.03126137892568011,
           "YSRCP"
          ],
          [
           0.0016295743877183643,
           "YSRCP"
          ],
          [
           0.008417880702347438,
           "YSRCP"
          ],
          [
           0.002478528328587264,
           "YSRCP"
          ],
          [
           -0.0027560655029303708,
           "YSRCP"
          ],
          [
           -0.008198010479394195,
           "YSRCP"
          ],
          [
           0.030237004723775208,
           "YSRCP"
          ],
          [
           0.0062603817597241835,
           "YSRCP"
          ],
          [
           0.012522333047890884,
           "YSRCP"
          ],
          [
           0.10849045512688885,
           "YSRCP"
          ],
          [
           0.0093024034900706,
           "YSRCP"
          ],
          [
           -0.011357876326447794,
           "YSRCP"
          ],
          [
           0.04468771078302113,
           "YSRCP"
          ],
          [
           0.025756829701411438,
           "YSRCP"
          ],
          [
           -0.057595119733364245,
           "YSRCP"
          ],
          [
           -0.0034630171634491658,
           "YSRCP"
          ],
          [
           -0.02194296201676058,
           "YSRCP"
          ],
          [
           -0.038458173273325354,
           "YSRCP"
          ],
          [
           -0.030151373244718015,
           "YSRCP"
          ],
          [
           -0.010942949458645209,
           "YSRCP"
          ],
          [
           -0.016410994589342053,
           "YSRCP"
          ],
          [
           0.014966248855233996,
           "YSRCP"
          ],
          [
           0.011455911653003878,
           "YSRCP"
          ],
          [
           0.0006380164913993749,
           "YSRCP"
          ],
          [
           -0.010380930552291607,
           "YSRCP"
          ],
          [
           -0.006729935757616002,
           "YSRCP"
          ],
          [
           -0.00017025883189354795,
           "TDP"
          ],
          [
           0.013022033577596815,
           "YSRCP"
          ],
          [
           -0.07904675145113932,
           "TDP"
          ],
          [
           0.08886133372365636,
           "YSRCP"
          ],
          [
           -0.0122841179109468,
           "YSRCP"
          ],
          [
           -0.0027950965765044787,
           "TDP"
          ],
          [
           0.04279936391320294,
           "YSRCP"
          ],
          [
           -0.002857765993459869,
           "YSRCP"
          ],
          [
           0.0480718746853789,
           "JSP"
          ],
          [
           0.00029830710006154704,
           "YSRCP"
          ],
          [
           0.03591079100937231,
           "YSRCP"
          ],
          [
           -0.0073343955132897905,
           "TDP"
          ],
          [
           0.007884614600707879,
           "MEDIA"
          ],
          [
           0.004628958616572237,
           "YSRCP"
          ],
          [
           -0.0004166408760509115,
           "YSRCP"
          ],
          [
           0.007049212311030015,
           "YSRCP"
          ],
          [
           0.004527630852671543,
           "YSRCP"
          ],
          [
           0.01972628356765289,
           "TDP"
          ],
          [
           -0.00515925936587286,
           "YSRCP"
          ],
          [
           0.09541516044845236,
           "YSRCP"
          ],
          [
           0.013532245868393224,
           "YSRCP"
          ],
          [
           -0.007128092700595165,
           "YSRCP"
          ],
          [
           -0.020675472862492855,
           "YSRCP"
          ],
          [
           0.06512175148992543,
           "YSRCP"
          ],
          [
           0.011310173212532946,
           "YSRCP"
          ],
          [
           -0.0032219105154325934,
           "YSRCP"
          ],
          [
           -0.002028068977798524,
           "YSRCP"
          ],
          [
           0.010528688072914637,
           "YSRCP"
          ],
          [
           0.0008332696613915078,
           "YSRCP"
          ],
          [
           -0.010480114688622786,
           "YSRCP"
          ],
          [
           0.0011010891609406744,
           "YSRCP"
          ],
          [
           -0.03487174084671619,
           "TDP"
          ],
          [
           -0.012504994569924656,
           "YSRCP"
          ],
          [
           -0.001525936194214016,
           "TDP"
          ],
          [
           0.0042557457002435645,
           "YSRCP"
          ],
          [
           0.010278254502101054,
           "YSRCP"
          ],
          [
           0.006794497016548667,
           "YSRCP"
          ],
          [
           0.03933719873983751,
           "YSRCP"
          ],
          [
           0.0001744475208294309,
           "YSRCP"
          ],
          [
           0.01348421795040217,
           "YSRCP"
          ],
          [
           0.006412673331741322,
           "YSRCP"
          ],
          [
           0.0565680768107384,
           "YSRCP"
          ],
          [
           -0.08827152169490861,
           "YSRCP"
          ],
          [
           -0.002556250654583073,
           "YSRCP"
          ],
          [
           -0.019780989287586592,
           "YSRCP"
          ],
          [
           -0.007364050197788477,
           "YSRCP"
          ],
          [
           0.018814241420364412,
           "YSRCP"
          ],
          [
           -0.005228022778475352,
           "YSRCP"
          ],
          [
           0.02594195208705663,
           "YSRCP"
          ],
          [
           -0.0027281691423097,
           "TDP"
          ],
          [
           0.012963485293262177,
           "YSRCP"
          ],
          [
           -0.030817721959024272,
           "YSRCP"
          ],
          [
           0.004859816956386816,
           "YSRCP"
          ],
          [
           0.007405744798509525,
           "YSRCP"
          ],
          [
           -0.009596671597355706,
           "YSRCP"
          ],
          [
           -0.008083830562505263,
           "YSRCP"
          ],
          [
           -0.030714376655978395,
           "YSRCP"
          ],
          [
           -0.054194728904853814,
           "MEDIA"
          ],
          [
           0.019831400830521942,
           "YSRCP"
          ],
          [
           0.021189238511875385,
           "YSRCP"
          ],
          [
           0.010756202413624492,
           "YSRCP"
          ],
          [
           -0.04945317835077793,
           "YSRCP"
          ],
          [
           -0.05507103460293162,
           "YSRCP"
          ],
          [
           -0.014281817909061571,
           "YSRCP"
          ],
          [
           0.018643827554905606,
           "YSRCP"
          ],
          [
           -0.014654597012875319,
           "YSRCP"
          ],
          [
           -0.0838781947667648,
           "YSRCP"
          ],
          [
           -0.002926954809070441,
           "YSRCP"
          ],
          [
           0.01737357378511704,
           "YSRCP"
          ],
          [
           0.02901889615494173,
           "YSRCP"
          ],
          [
           -0.003909885912401875,
           "JSP"
          ],
          [
           -0.0005998076242708548,
           "YSRCP"
          ],
          [
           0.0067876433441048534,
           "YSRCP"
          ],
          [
           -0.03647115157719081,
           "YSRCP"
          ],
          [
           0.01034476103596125,
           "YSRCP"
          ],
          [
           0.01981524759616848,
           "YSRCP"
          ],
          [
           0.05148428613739081,
           "YSRCP"
          ],
          [
           0.015334389700078119,
           "YSRCP"
          ],
          [
           -0.00641405321498861,
           "TDP"
          ],
          [
           0.0488001117354787,
           "YSRCP"
          ],
          [
           -0.004784960493561417,
           "TDP"
          ],
          [
           0.015520375811358329,
           "MEDIA"
          ],
          [
           "(?)",
           "BJP"
          ],
          [
           0.03756930210250691,
           "CONG"
          ],
          [
           "(?)",
           "JSP"
          ],
          [
           "(?)",
           "MEDIA"
          ],
          [
           "(?)",
           "TDP"
          ],
          [
           "(?)",
           "YSRCP"
          ],
          [
           "(?)",
           "(?)"
          ]
         ],
         "domain": {
          "x": [
           0,
           1
          ],
          "y": [
           0,
           1
          ]
         },
         "hovertemplate": "labels=%{label}<br>view_count=%{value}<br>parent=%{parent}<br>id=%{id}<br>sentiment=%{customdata[0]}<br>party=%{customdata[1]}<extra></extra>",
         "ids": [
          "Parties/YSRCP/Raghuramireddy Settipalli",
          "Parties/TDP/Ashok Bendalam",
          "Parties/YSRCP/Sanjeev Kuma",
          "Parties/JSP/Pothena Venkata Mahesh",
          "Parties/YSRCP/Purnachandra Prasad Parvatha",
          "Parties/YSRCP/Nallapareddy Prasanna Kumar Redd",
          "Parties/MEDIA/Telakapalli Ravi",
          "Parties/YSRCP/Anil Kumar Poluboina",
          "Parties/YSRCP/Kuruva Gorantla Madhav",
          "Parties/YSRCP/Appalanarasayya Botcha",
          "Parties/YSRCP/Pocha Brahmananda Reddy",
          "Parties/YSRCP/Kapu Ramachandra Reddy",
          "Parties/YSRCP/Kakani Govardhan Reddy",
          "Parties/CONG/K. V. P. Ramachandra Rao",
          "Parties/YSRCP/Vallabhaneni Balasouri",
          "Parties/YSRCP/Chevireddy Bhaskar Reddy",
          "Parties/YSRCP/Burra Madhu Sudhan Yadav",
          "Parties/YSRCP/Monditoka Jagan Mohana Rao",
          "Parties/MEDIA/murthy",
          "Parties/YSRCP/Thoguru Arthur",
          "Parties/YSRCP/Alajangi jogarao ",
          "Parties/YSRCP/Reddy Shanthi",
          "Parties/YSRCP/Grandhi Srinivas",
          "Parties/YSRCP/Katasani Rambhupal Reddy",
          "Parties/TDP/Ganta Srinivasarao",
          "Parties/YSRCP/Kodali Nani",
          "Parties/YSRCP/Kolagatla Veerabhadra Swamy",
          "Parties/JSP/Pawan Kalyan",
          "Parties/YSRCP/Dorababu Pendem",
          "Parties/YSRCP/kolusu parthasarathy",
          "Parties/YSRCP/P.V. Midhun Reddy",
          "Parties/YSRCP/Nedurumalli RamKumar Reddy",
          "Parties/YSRCP/M.V.V.Satyanarayana",
          "Parties/BJP/C. M. Ramesh",
          "Parties/YSRCP/kokkiligadda rakshana nidhi",
          "Parties/YSRCP/Anna Rambabu",
          "Parties/YSRCP/Y S jagan mohan reddy",
          "Parties/YSRCP/N Venkate Gowda",
          "Parties/YSRCP/Balineni Srinivasa Reddy",
          "Parties/YSRCP/Biyyapu Madhusudhan Reddy",
          "Parties/YSRCP/Mekapati Vikram Reddy",
          "Parties/YSRCP/Annabathuni Siva Kumar",
          "Parties/YSRCP/meka venkata pratap apparao",
          "Parties/YSRCP/Mule Sudheer Reddy",
          "Parties/YSRCP/Posani Krishna Murali",
          "Parties/YSRCP/Ponnada Venkata Satish Kumar",
          "Parties/YSRCP/Peddireddy Ramachandra Reddy",
          "Parties/YSRCP/Puppala Srinivasarao",
          "Parties/YSRCP/Pochimareddy Ravindranath Reddy",
          "Parties/MEDIA/Murali Krishna",
          "Parties/YSRCP/m babu",
          "Parties/YSRCP/Pinipe Viswarup",
          "Parties/YSRCP/R K roja",
          "Parties/YSRCP/Peedika Rajanna Dora",
          "Parties/YSRCP/Rachamallu Siva Prasad Reddy",
          "Parties/YSRCP/Namburu Sankara Rao",
          "Parties/YSRCP/Muttamsetti Srinivasa Rao",
          "Parties/YSRCP/udayabhanu samineni",
          "Parties/YSRCP/Nallakonda Gari Reddeppa",
          "Parties/TDP/Nandamuri Balakrishna",
          "Parties/YSRCP/Nagulapalli Dhanalakshmi",
          "Parties/YSRCP/Nandigam Suresh",
          "Parties/JSP/Nadendla Manohar",
          "Parties/YSRCP/perni Nani",
          "Parties/TDP/Nimmakayala Chinarajappa",
          "Parties/TDP/Nimmala Rama Naidu",
          "Parties/TDP/P.G.V.R. Naidu",
          "Parties/TDP/N lokesh",
          "Parties/YSRCP/P.V. Sidda Reddy",
          "Parties/TDP/N chandrababu naidu",
          "Parties/YSRCP/Pamula Pushpa Sreevani",
          "Parties/BJP/Pathuri Nagabhushanam",
          "Parties/TDP/Payyavula Keshav",
          "Parties/YSRCP/Peddireddi Dwarakanatha Reddy",
          "Parties/YSRCP/adimulam koneti",
          "Parties/YSRCP/Ramesh Babu Simhadri",
          "Parties/YSRCP/kiliveti sanjeevaiah",
          "Parties/TDP/V Jogeswara Rao",
          "Parties/MEDIA/V. Rajinikanth",
          "Parties/YSRCP/jogi ramesh",
          "Parties/YSRCP/gangula brijendra reddy",
          "Parties/YSRCP/Vanga Geetha",
          "Parties/YSRCP/Varaprasad Rao Velagapalli",
          "Parties/YSRCP/Vasantha Venkata Krishna Prasad",
          "Parties/MEDIA/ch krishna Anjaneyulu",
          "Parties/YSRCP/Vasupalli Ganesh Kumar",
          "Parties/YSRCP/Vellampalli Srinivas",
          "Parties/YSRCP/Vidadala Rajini",
          "Parties/YSRCP/Viswasarayi Kalavathi",
          "Parties/YSRCP/Vundavalli Sridevi",
          "Parties/YSRCP/Vunnamatla Eliza",
          "Parties/YSRCP/Y Balanagi Reddy",
          "Parties/YSRCP/Y Sai Prasad Reddy",
          "Parties/YSRCP/Y. S. Avinash Reddy",
          "Parties/YSRCP/Y.Venkatarama Reddy",
          "Parties/TDP/Yeluri Sambasiva Rao",
          "Parties/YSRCP/Uppalapati Venkata Ramanamurthy Raju",
          "Parties/TDP/Ram Mohan Naidu Kinjarapu",
          "Parties/YSRCP/Thopudurthi Prakash Reddy",
          "Parties/YSRCP/Thalathoti Jaya Ratna Sudhakar Babu",
          "Parties/TDP/Ramakrishna Babu Velagapudi",
          "Parties/YSRCP/Ramakrishna Reddy Pinnelli",
          "Parties/YSRCP/c ramachandra reddy",
          "Parties/YSRCP/Ramireddy Pratap Kumar Reddy",
          "Parties/YSRCP/Rapaka Vara Prasada Rao",
          "Parties/JSP/SRI RAPAKA VARA PRASADA RAO",
          "Parties/JSP/SUNDARAPU VIJAY KUMAR",
          "Parties/MEDIA/Samasiva Rao",
          "Parties/YSRCP/Sambangi Venkatachina Appala Naidu",
          "Parties/YSRCP/Mudunuri Prasada Raju",
          "Parties/YSRCP/Sathi Suryanarayana Reddy",
          "Parties/YSRCP/Seediri Appalaraju",
          "Parties/YSRCP/Shilpa Ravi Chandra Kishore Reddy",
          "Parties/YSRCP/Silpa Chakrapani Reddy",
          "Parties/YSRCP/Talari Rangaiah",
          "Parties/YSRCP/Talari Venkatrao",
          "Parties/YSRCP/Taneti Vanitha",
          "Parties/YSRCP/k. narayana swamy",
          "Parties/YSRCP/Tellam Balaraju",
          "Parties/YSRCP/Thammineni Seetharam",
          "Parties/YSRCP/Abbaya Chowdary Kothari",
          "Parties/YSRCP/Maheedhar Reddy Manugunta",
          "Parties/YSRCP/Mohammad Musthafa Shaik",
          "Parties/YSRCP/Buggana Rajendranath",
          "Parties/YSRCP/Chelluboyina Srinivasa Venugopalakrishna",
          "Parties/YSRCP/Cherukuvada Sri Ranganadha Raju",
          "Parties/YSRCP/Chetti Palguna",
          "Parties/YSRCP/Chinta Anuradha",
          "Parties/YSRCP/Chirla Jaggireddy",
          "Parties/YSRCP/Dadisetti Ramalingeswara Rao",
          "Parties/YSRCP/Dasari Sudha",
          "Parties/YSRCP/Dharmana Krishna Das",
          "Parties/YSRCP/Budi Mutyalanaidu",
          "Parties/YSRCP/Dharmana Prasada Rao",
          "Parties/YSRCP/Duddukunta Sreedhar Reddy",
          "Parties/YSRCP/Dulam Nageswara Rao",
          "Parties/YSRCP/Dwarampudi Chandrasekhar Reddy",
          "Parties/YSRCP/G Srinivas Naidu",
          "Parties/TDP/Gadde Ramamohan",
          "Parties/YSRCP/Gadikota Srikanth Reddy",
          "Parties/TDP/Galla Jayadev",
          "Parties/YSRCP/Goddeti Madhavi",
          "Parties/YSRCP/Golla Babu Rao",
          "Parties/TDP/Dola Sree Bala Veeranjaneya Swamy",
          "Parties/YSRCP/Botcha Satyanarayana",
          "Parties/YSRCP/Bolla Brahma Naidu",
          "Parties/JSP/Bolisetti Satyanaryan",
          "Parties/YSRCP/Abdul Hafeez Khan",
          "Parties/YSRCP/Adala Prabhakar Reddy",
          "Parties/TDP/Adireddy Bhavani",
          "Parties/MEDIA/Advocate  Sravan Kumar",
          "Parties/YSRCP/Alla Kali Krishna Srinivas",
          "Parties/YSRCP/Alla Ramakrishna Reddy",
          "Parties/YSRCP/Ambati Rambabu",
          "Parties/YSRCP/Amzath Basha Shaik Bepari",
          "Parties/TDP/Anagani Satya Prasad",
          "Parties/YSRCP/Anam Ramanarayana Reddy",
          "Parties/YSRCP/Anantha Venkatarami Reddy",
          "Parties/YSRCP/Anil Kumar Kaile",
          "Parties/YSRCP/Annamreddy Adeep Raj",
          "Parties/YSRCP/Appalanaidu Baddukonda",
          "Parties/YSRCP/Aranii Srenevasulu",
          "Parties/YSRCP/Audimulapu Suresh",
          "Parties/YSRCP/Balli Durga Prasad Rao",
          "Parties/YSRCP/Beesetti Venkata Satyavathi",
          "Parties/YSRCP/Bellana Chandra Sekhar",
          "Parties/YSRCP/Bhagya Lakshmi Kottagulli",
          "Parties/YSRCP/Bhumana Karunakar Reddy",
          "Parties/YSRCP/Gopireddy Srinivasareddy",
          "Parties/TDP/Gorantla Butchaiah Chowdary",
          "Parties/YSRCP/Gorle Kiran Kumar",
          "Parties/TDP/Gottipati Ravikumar",
          "Parties/YSRCP/Kondeti Chittibabu",
          "Parties/YSRCP/Koramutla Sreenivasulu",
          "Parties/YSRCP/Kotagiri Sridhar",
          "Parties/YSRCP/Kotamreddy Sridhar Reddy",
          "Parties/YSRCP/Kottu Satyanarayana",
          "Parties/YSRCP/Kunduru Nagarjuna Reddy",
          "Parties/YSRCP/Kurasala Kannababu",
          "Parties/YSRCP/Lavu Sri Krishna Devarayalu",
          "Parties/YSRCP/M. Thippeswamy",
          "Parties/YSRCP/Maddila Gurumoorthy",
          "Parties/YSRCP/Maddisetty Venugopal",
          "Parties/YSRCP/Magunta Sreenivasulu Reddy",
          "Parties/YSRCP/vallabhaneni vamsi mohan",
          "Parties/YSRCP/Malagundla Sankaranarayana",
          "Parties/YSRCP/Malladi Vishnu",
          "Parties/TDP/Mantena Ramaraju",
          "Parties/YSRCP/Margani Bharat",
          "Parties/YSRCP/Meda Venkata Mallikarjuna Reddy",
          "Parties/YSRCP/Mekapati Chandra Sekhar Reddy",
          "Parties/YSRCP/Mekathoti Sucharita",
          "Parties/YSRCP/Merugu Nagarjuna",
          "Parties/YSRCP/Kona Raghupath",
          "Parties/YSRCP/Mohammed Nawaz Basha",
          "Parties/MEDIA/Kommineni Srinivasa Rao",
          "Parties/YSRCP/Kilari Venkata Rosaiah",
          "Parties/YSRCP/Gudivada Amarnath",
          "Parties/YSRCP/Gummanur Jayaram",
          "Parties/YSRCP/Jakkampudi Raja",
          "Parties/YSRCP/Jaradoddi Sudhakar",
          "Parties/YSRCP/Jonnalagadda Padmavathy",
          "Parties/YSRCP/Jyothula Chantibabu",
          "Parties/YSRCP/K Chenna Kesava Reddy",
          "Parties/YSRCP/K. Pedda Reddy",
          "Parties/YSRCP/K. V. Ushashri Charan",
          "Parties/YSRCP/Kadubandi Srinivasa Rao",
          "Parties/YSRCP/Kambala Jogulu",
          "Parties/JSP/Kandula Durgesh",
          "Parties/YSRCP/Kangati Sreedevi",
          "Parties/YSRCP/Kanumuru Raghu Rama Krishna Raju",
          "Parties/YSRCP/Karanam Balaram Krishna Murthy",
          "Parties/YSRCP/Karanam Dharmasri",
          "Parties/YSRCP/Karumuri Venkata Nageswara Rao",
          "Parties/YSRCP/Kasu Mahesh Reddy",
          "Parties/YSRCP/Katasani Rami Reddy",
          "Parties/TDP/Kesineni Srinivas",
          "Parties/YSRCP/Kethireddy Venkatarami Reddy",
          "Parties/TDP/Kinjarapu Atchannaidu",
          "Parties/MEDIA/venkata krishna parvathaneni",
          "Parties/BJP",
          "Parties/CONG",
          "Parties/JSP",
          "Parties/MEDIA",
          "Parties/TDP",
          "Parties/YSRCP",
          "Parties"
         ],
         "labels": [
          "Raghuramireddy Settipalli",
          "Ashok Bendalam",
          "Sanjeev Kuma",
          "Pothena Venkata Mahesh",
          "Purnachandra Prasad Parvatha",
          "Nallapareddy Prasanna Kumar Redd",
          "Telakapalli Ravi",
          "Anil Kumar Poluboina",
          "Kuruva Gorantla Madhav",
          "Appalanarasayya Botcha",
          "Pocha Brahmananda Reddy",
          "Kapu Ramachandra Reddy",
          "Kakani Govardhan Reddy",
          "K. V. P. Ramachandra Rao",
          "Vallabhaneni Balasouri",
          "Chevireddy Bhaskar Reddy",
          "Burra Madhu Sudhan Yadav",
          "Monditoka Jagan Mohana Rao",
          "murthy",
          "Thoguru Arthur",
          "Alajangi jogarao ",
          "Reddy Shanthi",
          "Grandhi Srinivas",
          "Katasani Rambhupal Reddy",
          "Ganta Srinivasarao",
          "Kodali Nani",
          "Kolagatla Veerabhadra Swamy",
          "Pawan Kalyan",
          "Dorababu Pendem",
          "kolusu parthasarathy",
          "P.V. Midhun Reddy",
          "Nedurumalli RamKumar Reddy",
          "M.V.V.Satyanarayana",
          "C. M. Ramesh",
          "kokkiligadda rakshana nidhi",
          "Anna Rambabu",
          "Y S jagan mohan reddy",
          "N Venkate Gowda",
          "Balineni Srinivasa Reddy",
          "Biyyapu Madhusudhan Reddy",
          "Mekapati Vikram Reddy",
          "Annabathuni Siva Kumar",
          "meka venkata pratap apparao",
          "Mule Sudheer Reddy",
          "Posani Krishna Murali",
          "Ponnada Venkata Satish Kumar",
          "Peddireddy Ramachandra Reddy",
          "Puppala Srinivasarao",
          "Pochimareddy Ravindranath Reddy",
          "Murali Krishna",
          "m babu",
          "Pinipe Viswarup",
          "R K roja",
          "Peedika Rajanna Dora",
          "Rachamallu Siva Prasad Reddy",
          "Namburu Sankara Rao",
          "Muttamsetti Srinivasa Rao",
          "udayabhanu samineni",
          "Nallakonda Gari Reddeppa",
          "Nandamuri Balakrishna",
          "Nagulapalli Dhanalakshmi",
          "Nandigam Suresh",
          "Nadendla Manohar",
          "perni Nani",
          "Nimmakayala Chinarajappa",
          "Nimmala Rama Naidu",
          "P.G.V.R. Naidu",
          "N lokesh",
          "P.V. Sidda Reddy",
          "N chandrababu naidu",
          "Pamula Pushpa Sreevani",
          "Pathuri Nagabhushanam",
          "Payyavula Keshav",
          "Peddireddi Dwarakanatha Reddy",
          "adimulam koneti",
          "Ramesh Babu Simhadri",
          "kiliveti sanjeevaiah",
          "V Jogeswara Rao",
          "V. Rajinikanth",
          "jogi ramesh",
          "gangula brijendra reddy",
          "Vanga Geetha",
          "Varaprasad Rao Velagapalli",
          "Vasantha Venkata Krishna Prasad",
          "ch krishna Anjaneyulu",
          "Vasupalli Ganesh Kumar",
          "Vellampalli Srinivas",
          "Vidadala Rajini",
          "Viswasarayi Kalavathi",
          "Vundavalli Sridevi",
          "Vunnamatla Eliza",
          "Y Balanagi Reddy",
          "Y Sai Prasad Reddy",
          "Y. S. Avinash Reddy",
          "Y.Venkatarama Reddy",
          "Yeluri Sambasiva Rao",
          "Uppalapati Venkata Ramanamurthy Raju",
          "Ram Mohan Naidu Kinjarapu",
          "Thopudurthi Prakash Reddy",
          "Thalathoti Jaya Ratna Sudhakar Babu",
          "Ramakrishna Babu Velagapudi",
          "Ramakrishna Reddy Pinnelli",
          "c ramachandra reddy",
          "Ramireddy Pratap Kumar Reddy",
          "Rapaka Vara Prasada Rao",
          "SRI RAPAKA VARA PRASADA RAO",
          "SUNDARAPU VIJAY KUMAR",
          "Samasiva Rao",
          "Sambangi Venkatachina Appala Naidu",
          "Mudunuri Prasada Raju",
          "Sathi Suryanarayana Reddy",
          "Seediri Appalaraju",
          "Shilpa Ravi Chandra Kishore Reddy",
          "Silpa Chakrapani Reddy",
          "Talari Rangaiah",
          "Talari Venkatrao",
          "Taneti Vanitha",
          "k. narayana swamy",
          "Tellam Balaraju",
          "Thammineni Seetharam",
          "Abbaya Chowdary Kothari",
          "Maheedhar Reddy Manugunta",
          "Mohammad Musthafa Shaik",
          "Buggana Rajendranath",
          "Chelluboyina Srinivasa Venugopalakrishna",
          "Cherukuvada Sri Ranganadha Raju",
          "Chetti Palguna",
          "Chinta Anuradha",
          "Chirla Jaggireddy",
          "Dadisetti Ramalingeswara Rao",
          "Dasari Sudha",
          "Dharmana Krishna Das",
          "Budi Mutyalanaidu",
          "Dharmana Prasada Rao",
          "Duddukunta Sreedhar Reddy",
          "Dulam Nageswara Rao",
          "Dwarampudi Chandrasekhar Reddy",
          "G Srinivas Naidu",
          "Gadde Ramamohan",
          "Gadikota Srikanth Reddy",
          "Galla Jayadev",
          "Goddeti Madhavi",
          "Golla Babu Rao",
          "Dola Sree Bala Veeranjaneya Swamy",
          "Botcha Satyanarayana",
          "Bolla Brahma Naidu",
          "Bolisetti Satyanaryan",
          "Abdul Hafeez Khan",
          "Adala Prabhakar Reddy",
          "Adireddy Bhavani",
          "Advocate  Sravan Kumar",
          "Alla Kali Krishna Srinivas",
          "Alla Ramakrishna Reddy",
          "Ambati Rambabu",
          "Amzath Basha Shaik Bepari",
          "Anagani Satya Prasad",
          "Anam Ramanarayana Reddy",
          "Anantha Venkatarami Reddy",
          "Anil Kumar Kaile",
          "Annamreddy Adeep Raj",
          "Appalanaidu Baddukonda",
          "Aranii Srenevasulu",
          "Audimulapu Suresh",
          "Balli Durga Prasad Rao",
          "Beesetti Venkata Satyavathi",
          "Bellana Chandra Sekhar",
          "Bhagya Lakshmi Kottagulli",
          "Bhumana Karunakar Reddy",
          "Gopireddy Srinivasareddy",
          "Gorantla Butchaiah Chowdary",
          "Gorle Kiran Kumar",
          "Gottipati Ravikumar",
          "Kondeti Chittibabu",
          "Koramutla Sreenivasulu",
          "Kotagiri Sridhar",
          "Kotamreddy Sridhar Reddy",
          "Kottu Satyanarayana",
          "Kunduru Nagarjuna Reddy",
          "Kurasala Kannababu",
          "Lavu Sri Krishna Devarayalu",
          "M. Thippeswamy",
          "Maddila Gurumoorthy",
          "Maddisetty Venugopal",
          "Magunta Sreenivasulu Reddy",
          "vallabhaneni vamsi mohan",
          "Malagundla Sankaranarayana",
          "Malladi Vishnu",
          "Mantena Ramaraju",
          "Margani Bharat",
          "Meda Venkata Mallikarjuna Reddy",
          "Mekapati Chandra Sekhar Reddy",
          "Mekathoti Sucharita",
          "Merugu Nagarjuna",
          "Kona Raghupath",
          "Mohammed Nawaz Basha",
          "Kommineni Srinivasa Rao",
          "Kilari Venkata Rosaiah",
          "Gudivada Amarnath",
          "Gummanur Jayaram",
          "Jakkampudi Raja",
          "Jaradoddi Sudhakar",
          "Jonnalagadda Padmavathy",
          "Jyothula Chantibabu",
          "K Chenna Kesava Reddy",
          "K. Pedda Reddy",
          "K. V. Ushashri Charan",
          "Kadubandi Srinivasa Rao",
          "Kambala Jogulu",
          "Kandula Durgesh",
          "Kangati Sreedevi",
          "Kanumuru Raghu Rama Krishna Raju",
          "Karanam Balaram Krishna Murthy",
          "Karanam Dharmasri",
          "Karumuri Venkata Nageswara Rao",
          "Kasu Mahesh Reddy",
          "Katasani Rami Reddy",
          "Kesineni Srinivas",
          "Kethireddy Venkatarami Reddy",
          "Kinjarapu Atchannaidu",
          "venkata krishna parvathaneni",
          "BJP",
          "CONG",
          "JSP",
          "MEDIA",
          "TDP",
          "YSRCP",
          "Parties"
         ],
         "marker": {
          "colors": [
           "#038d45",
           "#ffff00",
           "#038d45",
           "#f10003",
           "#038d45",
           "#038d45",
           "#ab63fa",
           "#038d45",
           "#038d45",
           "#038d45",
           "#038d45",
           "#038d45",
           "#038d45",
           "#FFA15A",
           "#038d45",
           "#038d45",
           "#038d45",
           "#038d45",
           "#ab63fa",
           "#038d45",
           "#038d45",
           "#038d45",
           "#038d45",
           "#038d45",
           "#ffff00",
           "#038d45",
           "#038d45",
           "#f10003",
           "#038d45",
           "#038d45",
           "#038d45",
           "#038d45",
           "#038d45",
           "#19d3f3",
           "#038d45",
           "#038d45",
           "#038d45",
           "#038d45",
           "#038d45",
           "#038d45",
           "#038d45",
           "#038d45",
           "#038d45",
           "#038d45",
           "#038d45",
           "#038d45",
           "#038d45",
           "#038d45",
           "#038d45",
           "#ab63fa",
           "#038d45",
           "#038d45",
           "#038d45",
           "#038d45",
           "#038d45",
           "#038d45",
           "#038d45",
           "#038d45",
           "#038d45",
           "#ffff00",
           "#038d45",
           "#038d45",
           "#f10003",
           "#038d45",
           "#ffff00",
           "#ffff00",
           "#ffff00",
           "#ffff00",
           "#038d45",
           "#ffff00",
           "#038d45",
           "#19d3f3",
           "#ffff00",
           "#038d45",
           "#038d45",
           "#038d45",
           "#038d45",
           "#ffff00",
           "#ab63fa",
           "#038d45",
           "#038d45",
           "#038d45",
           "#038d45",
           "#038d45",
           "#ab63fa",
           "#038d45",
           "#038d45",
           "#038d45",
           "#038d45",
           "#038d45",
           "#038d45",
           "#038d45",
           "#038d45",
           "#038d45",
           "#038d45",
           "#ffff00",
           "#038d45",
           "#ffff00",
           "#038d45",
           "#038d45",
           "#ffff00",
           "#038d45",
           "#038d45",
           "#038d45",
           "#038d45",
           "#f10003",
           "#f10003",
           "#ab63fa",
           "#038d45",
           "#038d45",
           "#038d45",
           "#038d45",
           "#038d45",
           "#038d45",
           "#038d45",
           "#038d45",
           "#038d45",
           "#038d45",
           "#038d45",
           "#038d45",
           "#038d45",
           "#038d45",
           "#038d45",
           "#038d45",
           "#038d45",
           "#038d45",
           "#038d45",
           "#038d45",
           "#038d45",
           "#038d45",
           "#038d45",
           "#038d45",
           "#038d45",
           "#038d45",
           "#038d45",
           "#038d45",
           "#038d45",
           "#038d45",
           "#ffff00",
           "#038d45",
           "#ffff00",
           "#038d45",
           "#038d45",
           "#ffff00",
           "#038d45",
           "#038d45",
           "#f10003",
           "#038d45",
           "#038d45",
           "#ffff00",
           "#ab63fa",
           "#038d45",
           "#038d45",
           "#038d45",
           "#038d45",
           "#ffff00",
           "#038d45",
           "#038d45",
           "#038d45",
           "#038d45",
           "#038d45",
           "#038d45",
           "#038d45",
           "#038d45",
           "#038d45",
           "#038d45",
           "#038d45",
           "#038d45",
           "#038d45",
           "#ffff00",
           "#038d45",
           "#ffff00",
           "#038d45",
           "#038d45",
           "#038d45",
           "#038d45",
           "#038d45",
           "#038d45",
           "#038d45",
           "#038d45",
           "#038d45",
           "#038d45",
           "#038d45",
           "#038d45",
           "#038d45",
           "#038d45",
           "#038d45",
           "#ffff00",
           "#038d45",
           "#038d45",
           "#038d45",
           "#038d45",
           "#038d45",
           "#038d45",
           "#038d45",
           "#ab63fa",
           "#038d45",
           "#038d45",
           "#038d45",
           "#038d45",
           "#038d45",
           "#038d45",
           "#038d45",
           "#038d45",
           "#038d45",
           "#038d45",
           "#038d45",
           "#038d45",
           "#f10003",
           "#038d45",
           "#038d45",
           "#038d45",
           "#038d45",
           "#038d45",
           "#038d45",
           "#038d45",
           "#ffff00",
           "#038d45",
           "#ffff00",
           "#ab63fa",
           "#19d3f3",
           "#FFA15A",
           "#f10003",
           "#ab63fa",
           "#ffff00",
           "#038d45",
           "#FF6692"
          ],
          "cornerradius": 5
         },
         "name": "",
         "parents": [
          "Parties/YSRCP",
          "Parties/TDP",
          "Parties/YSRCP",
          "Parties/JSP",
          "Parties/YSRCP",
          "Parties/YSRCP",
          "Parties/MEDIA",
          "Parties/YSRCP",
          "Parties/YSRCP",
          "Parties/YSRCP",
          "Parties/YSRCP",
          "Parties/YSRCP",
          "Parties/YSRCP",
          "Parties/CONG",
          "Parties/YSRCP",
          "Parties/YSRCP",
          "Parties/YSRCP",
          "Parties/YSRCP",
          "Parties/MEDIA",
          "Parties/YSRCP",
          "Parties/YSRCP",
          "Parties/YSRCP",
          "Parties/YSRCP",
          "Parties/YSRCP",
          "Parties/TDP",
          "Parties/YSRCP",
          "Parties/YSRCP",
          "Parties/JSP",
          "Parties/YSRCP",
          "Parties/YSRCP",
          "Parties/YSRCP",
          "Parties/YSRCP",
          "Parties/YSRCP",
          "Parties/BJP",
          "Parties/YSRCP",
          "Parties/YSRCP",
          "Parties/YSRCP",
          "Parties/YSRCP",
          "Parties/YSRCP",
          "Parties/YSRCP",
          "Parties/YSRCP",
          "Parties/YSRCP",
          "Parties/YSRCP",
          "Parties/YSRCP",
          "Parties/YSRCP",
          "Parties/YSRCP",
          "Parties/YSRCP",
          "Parties/YSRCP",
          "Parties/YSRCP",
          "Parties/MEDIA",
          "Parties/YSRCP",
          "Parties/YSRCP",
          "Parties/YSRCP",
          "Parties/YSRCP",
          "Parties/YSRCP",
          "Parties/YSRCP",
          "Parties/YSRCP",
          "Parties/YSRCP",
          "Parties/YSRCP",
          "Parties/TDP",
          "Parties/YSRCP",
          "Parties/YSRCP",
          "Parties/JSP",
          "Parties/YSRCP",
          "Parties/TDP",
          "Parties/TDP",
          "Parties/TDP",
          "Parties/TDP",
          "Parties/YSRCP",
          "Parties/TDP",
          "Parties/YSRCP",
          "Parties/BJP",
          "Parties/TDP",
          "Parties/YSRCP",
          "Parties/YSRCP",
          "Parties/YSRCP",
          "Parties/YSRCP",
          "Parties/TDP",
          "Parties/MEDIA",
          "Parties/YSRCP",
          "Parties/YSRCP",
          "Parties/YSRCP",
          "Parties/YSRCP",
          "Parties/YSRCP",
          "Parties/MEDIA",
          "Parties/YSRCP",
          "Parties/YSRCP",
          "Parties/YSRCP",
          "Parties/YSRCP",
          "Parties/YSRCP",
          "Parties/YSRCP",
          "Parties/YSRCP",
          "Parties/YSRCP",
          "Parties/YSRCP",
          "Parties/YSRCP",
          "Parties/TDP",
          "Parties/YSRCP",
          "Parties/TDP",
          "Parties/YSRCP",
          "Parties/YSRCP",
          "Parties/TDP",
          "Parties/YSRCP",
          "Parties/YSRCP",
          "Parties/YSRCP",
          "Parties/YSRCP",
          "Parties/JSP",
          "Parties/JSP",
          "Parties/MEDIA",
          "Parties/YSRCP",
          "Parties/YSRCP",
          "Parties/YSRCP",
          "Parties/YSRCP",
          "Parties/YSRCP",
          "Parties/YSRCP",
          "Parties/YSRCP",
          "Parties/YSRCP",
          "Parties/YSRCP",
          "Parties/YSRCP",
          "Parties/YSRCP",
          "Parties/YSRCP",
          "Parties/YSRCP",
          "Parties/YSRCP",
          "Parties/YSRCP",
          "Parties/YSRCP",
          "Parties/YSRCP",
          "Parties/YSRCP",
          "Parties/YSRCP",
          "Parties/YSRCP",
          "Parties/YSRCP",
          "Parties/YSRCP",
          "Parties/YSRCP",
          "Parties/YSRCP",
          "Parties/YSRCP",
          "Parties/YSRCP",
          "Parties/YSRCP",
          "Parties/YSRCP",
          "Parties/YSRCP",
          "Parties/YSRCP",
          "Parties/TDP",
          "Parties/YSRCP",
          "Parties/TDP",
          "Parties/YSRCP",
          "Parties/YSRCP",
          "Parties/TDP",
          "Parties/YSRCP",
          "Parties/YSRCP",
          "Parties/JSP",
          "Parties/YSRCP",
          "Parties/YSRCP",
          "Parties/TDP",
          "Parties/MEDIA",
          "Parties/YSRCP",
          "Parties/YSRCP",
          "Parties/YSRCP",
          "Parties/YSRCP",
          "Parties/TDP",
          "Parties/YSRCP",
          "Parties/YSRCP",
          "Parties/YSRCP",
          "Parties/YSRCP",
          "Parties/YSRCP",
          "Parties/YSRCP",
          "Parties/YSRCP",
          "Parties/YSRCP",
          "Parties/YSRCP",
          "Parties/YSRCP",
          "Parties/YSRCP",
          "Parties/YSRCP",
          "Parties/YSRCP",
          "Parties/TDP",
          "Parties/YSRCP",
          "Parties/TDP",
          "Parties/YSRCP",
          "Parties/YSRCP",
          "Parties/YSRCP",
          "Parties/YSRCP",
          "Parties/YSRCP",
          "Parties/YSRCP",
          "Parties/YSRCP",
          "Parties/YSRCP",
          "Parties/YSRCP",
          "Parties/YSRCP",
          "Parties/YSRCP",
          "Parties/YSRCP",
          "Parties/YSRCP",
          "Parties/YSRCP",
          "Parties/YSRCP",
          "Parties/TDP",
          "Parties/YSRCP",
          "Parties/YSRCP",
          "Parties/YSRCP",
          "Parties/YSRCP",
          "Parties/YSRCP",
          "Parties/YSRCP",
          "Parties/YSRCP",
          "Parties/MEDIA",
          "Parties/YSRCP",
          "Parties/YSRCP",
          "Parties/YSRCP",
          "Parties/YSRCP",
          "Parties/YSRCP",
          "Parties/YSRCP",
          "Parties/YSRCP",
          "Parties/YSRCP",
          "Parties/YSRCP",
          "Parties/YSRCP",
          "Parties/YSRCP",
          "Parties/YSRCP",
          "Parties/JSP",
          "Parties/YSRCP",
          "Parties/YSRCP",
          "Parties/YSRCP",
          "Parties/YSRCP",
          "Parties/YSRCP",
          "Parties/YSRCP",
          "Parties/YSRCP",
          "Parties/TDP",
          "Parties/YSRCP",
          "Parties/TDP",
          "Parties/MEDIA",
          "Parties",
          "Parties",
          "Parties",
          "Parties",
          "Parties",
          "Parties",
          ""
         ],
         "type": "treemap",
         "values": [
          46706111,
          935676,
          7729914,
          65391547,
          30736367,
          743061,
          2875540,
          20024968,
          1883184,
          24790552,
          29650799,
          4264009,
          50267478,
          4461000,
          1982766,
          6163270,
          53536064,
          1294784,
          23518119,
          47506006,
          4958545,
          8612902,
          16652054,
          14281546,
          8325357,
          43520116,
          45666868,
          55404162,
          6427946,
          32129346,
          14922707,
          1144158,
          10647659,
          5204887,
          4610653,
          988433,
          111885964,
          10196120,
          5616963,
          9669112,
          2195894,
          48583590,
          1760842,
          30549260,
          2751772,
          24823040,
          10758068,
          42756285,
          5098839,
          10802815,
          22257515,
          15736545,
          88392875,
          2664918,
          9458501,
          5902640,
          11535946,
          32446128,
          2082551,
          34621859,
          50852531,
          5098388,
          5861442,
          34087643,
          9983762,
          61661437,
          58049778,
          16775906,
          35309774,
          13607540,
          30230966,
          51364385,
          40306456,
          10881581,
          4957547,
          4174700,
          8709345,
          7026635,
          20976144,
          12488863,
          6670781,
          7108091,
          279781,
          13196557,
          6097138,
          25072830,
          22202461,
          117417998,
          23556991,
          34618729,
          19865104,
          17041496,
          9908237,
          8228501,
          6062534,
          7398113,
          100781,
          44496230,
          42457315,
          2964426,
          912296,
          9436973,
          8149326,
          1302667,
          13795994,
          13795994,
          3817737,
          38239504,
          6770304,
          3632360,
          3416244,
          1968176,
          22040167,
          12885297,
          11408926,
          2040041,
          56432824,
          22501717,
          4724379,
          3662253,
          36380219,
          455572,
          14731244,
          5484690,
          1162365,
          18965852,
          573316,
          91212170,
          10943452,
          15871188,
          13546335,
          31507079,
          57486676,
          4443255,
          11554930,
          37746466,
          9352120,
          15030908,
          31315226,
          31721581,
          3553807,
          5108629,
          2043594,
          17001819,
          30309746,
          20819921,
          5490598,
          40252017,
          7392285,
          50550141,
          22378509,
          42541415,
          15686125,
          81420866,
          4572530,
          19577287,
          75011777,
          443813,
          24039894,
          12650860,
          12036185,
          3787786,
          4568057,
          18690552,
          71779475,
          71756869,
          28201883,
          3976526,
          24652119,
          1930707,
          22368888,
          4753526,
          5049584,
          69450861,
          5474019,
          6687614,
          42706836,
          2020079,
          74292872,
          1037041,
          2928963,
          19555051,
          19603956,
          1011907,
          34875273,
          39153966,
          10733845,
          11532178,
          5955317,
          11967693,
          7332345,
          13715337,
          10833692,
          13514685,
          15894037,
          478919,
          3274203,
          23920992,
          36152935,
          4137908,
          1695948,
          31324266,
          18536270,
          2178839,
          3940161,
          92184269,
          35656253,
          35814584,
          9089133,
          85501357,
          66078141,
          4074083,
          23931971,
          23131448,
          1826509,
          38320860,
          25572194,
          8470456,
          86682599,
          40736462,
          56569272,
          4461000,
          158850613,
          166103150,
          556570529,
          3752904889,
          4695459453
         ]
        }
       ],
       "layout": {
        "legend": {
         "tracegroupgap": 0
        },
        "margin": {
         "b": 25,
         "l": 25,
         "r": 25,
         "t": 50
        },
        "template": {
         "data": {
          "bar": [
           {
            "error_x": {
             "color": "#2a3f5f"
            },
            "error_y": {
             "color": "#2a3f5f"
            },
            "marker": {
             "line": {
              "color": "#E5ECF6",
              "width": 0.5
             },
             "pattern": {
              "fillmode": "overlay",
              "size": 10,
              "solidity": 0.2
             }
            },
            "type": "bar"
           }
          ],
          "barpolar": [
           {
            "marker": {
             "line": {
              "color": "#E5ECF6",
              "width": 0.5
             },
             "pattern": {
              "fillmode": "overlay",
              "size": 10,
              "solidity": 0.2
             }
            },
            "type": "barpolar"
           }
          ],
          "carpet": [
           {
            "aaxis": {
             "endlinecolor": "#2a3f5f",
             "gridcolor": "white",
             "linecolor": "white",
             "minorgridcolor": "white",
             "startlinecolor": "#2a3f5f"
            },
            "baxis": {
             "endlinecolor": "#2a3f5f",
             "gridcolor": "white",
             "linecolor": "white",
             "minorgridcolor": "white",
             "startlinecolor": "#2a3f5f"
            },
            "type": "carpet"
           }
          ],
          "choropleth": [
           {
            "colorbar": {
             "outlinewidth": 0,
             "ticks": ""
            },
            "type": "choropleth"
           }
          ],
          "contour": [
           {
            "colorbar": {
             "outlinewidth": 0,
             "ticks": ""
            },
            "colorscale": [
             [
              0,
              "#0d0887"
             ],
             [
              0.1111111111111111,
              "#46039f"
             ],
             [
              0.2222222222222222,
              "#7201a8"
             ],
             [
              0.3333333333333333,
              "#9c179e"
             ],
             [
              0.4444444444444444,
              "#bd3786"
             ],
             [
              0.5555555555555556,
              "#d8576b"
             ],
             [
              0.6666666666666666,
              "#ed7953"
             ],
             [
              0.7777777777777778,
              "#fb9f3a"
             ],
             [
              0.8888888888888888,
              "#fdca26"
             ],
             [
              1,
              "#f0f921"
             ]
            ],
            "type": "contour"
           }
          ],
          "contourcarpet": [
           {
            "colorbar": {
             "outlinewidth": 0,
             "ticks": ""
            },
            "type": "contourcarpet"
           }
          ],
          "heatmap": [
           {
            "colorbar": {
             "outlinewidth": 0,
             "ticks": ""
            },
            "colorscale": [
             [
              0,
              "#0d0887"
             ],
             [
              0.1111111111111111,
              "#46039f"
             ],
             [
              0.2222222222222222,
              "#7201a8"
             ],
             [
              0.3333333333333333,
              "#9c179e"
             ],
             [
              0.4444444444444444,
              "#bd3786"
             ],
             [
              0.5555555555555556,
              "#d8576b"
             ],
             [
              0.6666666666666666,
              "#ed7953"
             ],
             [
              0.7777777777777778,
              "#fb9f3a"
             ],
             [
              0.8888888888888888,
              "#fdca26"
             ],
             [
              1,
              "#f0f921"
             ]
            ],
            "type": "heatmap"
           }
          ],
          "heatmapgl": [
           {
            "colorbar": {
             "outlinewidth": 0,
             "ticks": ""
            },
            "colorscale": [
             [
              0,
              "#0d0887"
             ],
             [
              0.1111111111111111,
              "#46039f"
             ],
             [
              0.2222222222222222,
              "#7201a8"
             ],
             [
              0.3333333333333333,
              "#9c179e"
             ],
             [
              0.4444444444444444,
              "#bd3786"
             ],
             [
              0.5555555555555556,
              "#d8576b"
             ],
             [
              0.6666666666666666,
              "#ed7953"
             ],
             [
              0.7777777777777778,
              "#fb9f3a"
             ],
             [
              0.8888888888888888,
              "#fdca26"
             ],
             [
              1,
              "#f0f921"
             ]
            ],
            "type": "heatmapgl"
           }
          ],
          "histogram": [
           {
            "marker": {
             "pattern": {
              "fillmode": "overlay",
              "size": 10,
              "solidity": 0.2
             }
            },
            "type": "histogram"
           }
          ],
          "histogram2d": [
           {
            "colorbar": {
             "outlinewidth": 0,
             "ticks": ""
            },
            "colorscale": [
             [
              0,
              "#0d0887"
             ],
             [
              0.1111111111111111,
              "#46039f"
             ],
             [
              0.2222222222222222,
              "#7201a8"
             ],
             [
              0.3333333333333333,
              "#9c179e"
             ],
             [
              0.4444444444444444,
              "#bd3786"
             ],
             [
              0.5555555555555556,
              "#d8576b"
             ],
             [
              0.6666666666666666,
              "#ed7953"
             ],
             [
              0.7777777777777778,
              "#fb9f3a"
             ],
             [
              0.8888888888888888,
              "#fdca26"
             ],
             [
              1,
              "#f0f921"
             ]
            ],
            "type": "histogram2d"
           }
          ],
          "histogram2dcontour": [
           {
            "colorbar": {
             "outlinewidth": 0,
             "ticks": ""
            },
            "colorscale": [
             [
              0,
              "#0d0887"
             ],
             [
              0.1111111111111111,
              "#46039f"
             ],
             [
              0.2222222222222222,
              "#7201a8"
             ],
             [
              0.3333333333333333,
              "#9c179e"
             ],
             [
              0.4444444444444444,
              "#bd3786"
             ],
             [
              0.5555555555555556,
              "#d8576b"
             ],
             [
              0.6666666666666666,
              "#ed7953"
             ],
             [
              0.7777777777777778,
              "#fb9f3a"
             ],
             [
              0.8888888888888888,
              "#fdca26"
             ],
             [
              1,
              "#f0f921"
             ]
            ],
            "type": "histogram2dcontour"
           }
          ],
          "mesh3d": [
           {
            "colorbar": {
             "outlinewidth": 0,
             "ticks": ""
            },
            "type": "mesh3d"
           }
          ],
          "parcoords": [
           {
            "line": {
             "colorbar": {
              "outlinewidth": 0,
              "ticks": ""
             }
            },
            "type": "parcoords"
           }
          ],
          "pie": [
           {
            "automargin": true,
            "type": "pie"
           }
          ],
          "scatter": [
           {
            "fillpattern": {
             "fillmode": "overlay",
             "size": 10,
             "solidity": 0.2
            },
            "type": "scatter"
           }
          ],
          "scatter3d": [
           {
            "line": {
             "colorbar": {
              "outlinewidth": 0,
              "ticks": ""
             }
            },
            "marker": {
             "colorbar": {
              "outlinewidth": 0,
              "ticks": ""
             }
            },
            "type": "scatter3d"
           }
          ],
          "scattercarpet": [
           {
            "marker": {
             "colorbar": {
              "outlinewidth": 0,
              "ticks": ""
             }
            },
            "type": "scattercarpet"
           }
          ],
          "scattergeo": [
           {
            "marker": {
             "colorbar": {
              "outlinewidth": 0,
              "ticks": ""
             }
            },
            "type": "scattergeo"
           }
          ],
          "scattergl": [
           {
            "marker": {
             "colorbar": {
              "outlinewidth": 0,
              "ticks": ""
             }
            },
            "type": "scattergl"
           }
          ],
          "scattermapbox": [
           {
            "marker": {
             "colorbar": {
              "outlinewidth": 0,
              "ticks": ""
             }
            },
            "type": "scattermapbox"
           }
          ],
          "scatterpolar": [
           {
            "marker": {
             "colorbar": {
              "outlinewidth": 0,
              "ticks": ""
             }
            },
            "type": "scatterpolar"
           }
          ],
          "scatterpolargl": [
           {
            "marker": {
             "colorbar": {
              "outlinewidth": 0,
              "ticks": ""
             }
            },
            "type": "scatterpolargl"
           }
          ],
          "scatterternary": [
           {
            "marker": {
             "colorbar": {
              "outlinewidth": 0,
              "ticks": ""
             }
            },
            "type": "scatterternary"
           }
          ],
          "surface": [
           {
            "colorbar": {
             "outlinewidth": 0,
             "ticks": ""
            },
            "colorscale": [
             [
              0,
              "#0d0887"
             ],
             [
              0.1111111111111111,
              "#46039f"
             ],
             [
              0.2222222222222222,
              "#7201a8"
             ],
             [
              0.3333333333333333,
              "#9c179e"
             ],
             [
              0.4444444444444444,
              "#bd3786"
             ],
             [
              0.5555555555555556,
              "#d8576b"
             ],
             [
              0.6666666666666666,
              "#ed7953"
             ],
             [
              0.7777777777777778,
              "#fb9f3a"
             ],
             [
              0.8888888888888888,
              "#fdca26"
             ],
             [
              1,
              "#f0f921"
             ]
            ],
            "type": "surface"
           }
          ],
          "table": [
           {
            "cells": {
             "fill": {
              "color": "#EBF0F8"
             },
             "line": {
              "color": "white"
             }
            },
            "header": {
             "fill": {
              "color": "#C8D4E3"
             },
             "line": {
              "color": "white"
             }
            },
            "type": "table"
           }
          ]
         },
         "layout": {
          "annotationdefaults": {
           "arrowcolor": "#2a3f5f",
           "arrowhead": 0,
           "arrowwidth": 1
          },
          "autotypenumbers": "strict",
          "coloraxis": {
           "colorbar": {
            "outlinewidth": 0,
            "ticks": ""
           }
          },
          "colorscale": {
           "diverging": [
            [
             0,
             "#8e0152"
            ],
            [
             0.1,
             "#c51b7d"
            ],
            [
             0.2,
             "#de77ae"
            ],
            [
             0.3,
             "#f1b6da"
            ],
            [
             0.4,
             "#fde0ef"
            ],
            [
             0.5,
             "#f7f7f7"
            ],
            [
             0.6,
             "#e6f5d0"
            ],
            [
             0.7,
             "#b8e186"
            ],
            [
             0.8,
             "#7fbc41"
            ],
            [
             0.9,
             "#4d9221"
            ],
            [
             1,
             "#276419"
            ]
           ],
           "sequential": [
            [
             0,
             "#0d0887"
            ],
            [
             0.1111111111111111,
             "#46039f"
            ],
            [
             0.2222222222222222,
             "#7201a8"
            ],
            [
             0.3333333333333333,
             "#9c179e"
            ],
            [
             0.4444444444444444,
             "#bd3786"
            ],
            [
             0.5555555555555556,
             "#d8576b"
            ],
            [
             0.6666666666666666,
             "#ed7953"
            ],
            [
             0.7777777777777778,
             "#fb9f3a"
            ],
            [
             0.8888888888888888,
             "#fdca26"
            ],
            [
             1,
             "#f0f921"
            ]
           ],
           "sequentialminus": [
            [
             0,
             "#0d0887"
            ],
            [
             0.1111111111111111,
             "#46039f"
            ],
            [
             0.2222222222222222,
             "#7201a8"
            ],
            [
             0.3333333333333333,
             "#9c179e"
            ],
            [
             0.4444444444444444,
             "#bd3786"
            ],
            [
             0.5555555555555556,
             "#d8576b"
            ],
            [
             0.6666666666666666,
             "#ed7953"
            ],
            [
             0.7777777777777778,
             "#fb9f3a"
            ],
            [
             0.8888888888888888,
             "#fdca26"
            ],
            [
             1,
             "#f0f921"
            ]
           ]
          },
          "colorway": [
           "#636efa",
           "#EF553B",
           "#00cc96",
           "#ab63fa",
           "#FFA15A",
           "#19d3f3",
           "#FF6692",
           "#B6E880",
           "#FF97FF",
           "#FECB52"
          ],
          "font": {
           "color": "#2a3f5f"
          },
          "geo": {
           "bgcolor": "white",
           "lakecolor": "white",
           "landcolor": "#E5ECF6",
           "showlakes": true,
           "showland": true,
           "subunitcolor": "white"
          },
          "hoverlabel": {
           "align": "left"
          },
          "hovermode": "closest",
          "mapbox": {
           "style": "light"
          },
          "paper_bgcolor": "white",
          "plot_bgcolor": "#E5ECF6",
          "polar": {
           "angularaxis": {
            "gridcolor": "white",
            "linecolor": "white",
            "ticks": ""
           },
           "bgcolor": "#E5ECF6",
           "radialaxis": {
            "gridcolor": "white",
            "linecolor": "white",
            "ticks": ""
           }
          },
          "scene": {
           "xaxis": {
            "backgroundcolor": "#E5ECF6",
            "gridcolor": "white",
            "gridwidth": 2,
            "linecolor": "white",
            "showbackground": true,
            "ticks": "",
            "zerolinecolor": "white"
           },
           "yaxis": {
            "backgroundcolor": "#E5ECF6",
            "gridcolor": "white",
            "gridwidth": 2,
            "linecolor": "white",
            "showbackground": true,
            "ticks": "",
            "zerolinecolor": "white"
           },
           "zaxis": {
            "backgroundcolor": "#E5ECF6",
            "gridcolor": "white",
            "gridwidth": 2,
            "linecolor": "white",
            "showbackground": true,
            "ticks": "",
            "zerolinecolor": "white"
           }
          },
          "shapedefaults": {
           "line": {
            "color": "#2a3f5f"
           }
          },
          "ternary": {
           "aaxis": {
            "gridcolor": "white",
            "linecolor": "white",
            "ticks": ""
           },
           "baxis": {
            "gridcolor": "white",
            "linecolor": "white",
            "ticks": ""
           },
           "bgcolor": "#E5ECF6",
           "caxis": {
            "gridcolor": "white",
            "linecolor": "white",
            "ticks": ""
           }
          },
          "title": {
           "x": 0.05
          },
          "xaxis": {
           "automargin": true,
           "gridcolor": "white",
           "linecolor": "white",
           "ticks": "",
           "title": {
            "standoff": 15
           },
           "zerolinecolor": "white",
           "zerolinewidth": 2
          },
          "yaxis": {
           "automargin": true,
           "gridcolor": "white",
           "linecolor": "white",
           "ticks": "",
           "title": {
            "standoff": 15
           },
           "zerolinecolor": "white",
           "zerolinewidth": 2
          }
         }
        }
       }
      }
     },
     "metadata": {},
     "output_type": "display_data"
    }
   ],
   "source": []
  },
  {
   "cell_type": "code",
   "execution_count": null,
   "metadata": {},
   "outputs": [],
   "source": []
  }
 ],
 "metadata": {
  "kernelspec": {
   "display_name": "Python 3.8.16 ('streamenv': venv)",
   "language": "python",
   "name": "python3"
  },
  "language_info": {
   "codemirror_mode": {
    "name": "ipython",
    "version": 3
   },
   "file_extension": ".py",
   "mimetype": "text/x-python",
   "name": "python",
   "nbconvert_exporter": "python",
   "pygments_lexer": "ipython3",
   "version": "3.8.16"
  },
  "orig_nbformat": 4,
  "vscode": {
   "interpreter": {
    "hash": "9ecb27244bbf89267c5944d0d03f977ee38a0d3bd6795db5750e07e9bcf70dc2"
   }
  }
 },
 "nbformat": 4,
 "nbformat_minor": 2
}
