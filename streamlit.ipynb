{
 "cells": [
  {
   "cell_type": "code",
   "execution_count": 198,
   "metadata": {},
   "outputs": [],
   "source": [
    "import pandas as pd\n",
    "import numpy as np\n",
    "df_faces = pd.read_csv('UIdata/faces.csv')\n",
    "df_attr = pd.read_excel('UIdata/alphapolitica_faces_attributes_coords.xlsx')"
   ]
  },
  {
   "cell_type": "code",
   "execution_count": 263,
   "metadata": {},
   "outputs": [
    {
     "name": "stderr",
     "output_type": "stream",
     "text": [
      "/var/folders/z7/x6vq9qd56_scz4tkv0sj5lgc0000gn/T/ipykernel_25945/1175041767.py:49: SettingWithCopyWarning:\n",
      "\n",
      "\n",
      "A value is trying to be set on a copy of a slice from a DataFrame.\n",
      "Try using .loc[row_indexer,col_indexer] = value instead\n",
      "\n",
      "See the caveats in the documentation: https://pandas.pydata.org/pandas-docs/stable/user_guide/indexing.html#returning-a-view-versus-a-copy\n",
      "\n"
     ]
    }
   ],
   "source": [
    "'''Generate folium plot'''\n",
    "\n",
    "loc_dict = dict(zip(df_attr.image_id, df_attr.coords))\n",
    "per_dict = dict(zip(df_attr.image_id, df_attr.Name))\n",
    "constituency_dict = dict(zip(df_attr.image_id, df_attr.constituency))\n",
    "party_dict = dict(zip(df_attr.image_id, df_attr.party))\n",
    "total_faces = df_faces.columns[7:]\n",
    "\n",
    "df_fid_list =[]\n",
    "for f_id in total_faces:\n",
    "    df_face = df_faces[df_faces[f_id]> 0][['upload_date','sentiment','view_count','uploader']]\n",
    "    df_face['lat'] = float(loc_dict[f_id].split(',')[0])\n",
    "    df_face['long'] = float(loc_dict[f_id].split(',')[1])\n",
    "    df_face['name'] = per_dict[f_id]\n",
    "    df_face['party'] = party_dict[f_id]\n",
    "    df_face['constituency'] = constituency_dict[f_id]\n",
    "    df_fid_list.append(df_face[['lat','long','upload_date','name','party','constituency','sentiment','view_count','uploader']])\n",
    "df_folium_plot = pd.concat(df_fid_list)\n",
    "df_folium_plot = df_folium_plot.reset_index()\n",
    "del df_folium_plot['index']\n",
    "df_folium_plot.to_csv('plots_data/dashboard_folium.csv',index= False)\n",
    "\n",
    "\n",
    "\n",
    "''' \n",
    "tagplot\n",
    "'''\n",
    "\n",
    "import pandas as pd\n",
    "df_tags = pd.read_csv('UIdata/tags.csv')\n",
    "tags = [i for i in df_tags.columns[7:] if 'proba_' not in i]\n",
    "df_tid_list =[]\n",
    "for t_id in tags:\n",
    "    df_tag = df_tags[df_tags['proba_'+t_id]>0.98][['upload_date','duration','comment_count','view_count','sentiment','uploader']]\n",
    "    df_tag['tags'] = t_id\n",
    "    df_tid_list.append(df_tag)\n",
    "df_tags_plot = pd.concat(df_tid_list)\n",
    "df_tags_plot = df_tags_plot.reset_index()\n",
    "del df_tags_plot['index']\n",
    "df_tags_plot.to_csv('plots_data/dashboard_tags.csv',index= False)\n",
    "\n",
    "\n",
    "\n",
    "'''\n",
    "uploader\n",
    "'''\n",
    "df_full_data = pd.read_csv('UIdata/data_compiled_final_may_2023.csv')\n",
    "df_uploader = df_tags_plot[['uploader','upload_date','duration','comment_count','view_count']]\n",
    "df_uploader['comment_count'] = df_uploader['comment_count'].fillna(0)\n",
    "df_uploader.to_csv('plots_data/uploader.csv',index= False)\n"
   ]
  },
  {
   "cell_type": "markdown",
   "metadata": {},
   "source": [
    "## Folium Map"
   ]
  },
  {
   "cell_type": "code",
   "execution_count": 204,
   "metadata": {},
   "outputs": [
    {
     "name": "stderr",
     "output_type": "stream",
     "text": [
      "/var/folders/z7/x6vq9qd56_scz4tkv0sj5lgc0000gn/T/ipykernel_25945/2396082504.py:8: SettingWithCopyWarning:\n",
      "\n",
      "\n",
      "A value is trying to be set on a copy of a slice from a DataFrame.\n",
      "Try using .loc[row_indexer,col_indexer] = value instead\n",
      "\n",
      "See the caveats in the documentation: https://pandas.pydata.org/pandas-docs/stable/user_guide/indexing.html#returning-a-view-versus-a-copy\n",
      "\n",
      "/var/folders/z7/x6vq9qd56_scz4tkv0sj5lgc0000gn/T/ipykernel_25945/2396082504.py:9: SettingWithCopyWarning:\n",
      "\n",
      "\n",
      "A value is trying to be set on a copy of a slice from a DataFrame.\n",
      "Try using .loc[row_indexer,col_indexer] = value instead\n",
      "\n",
      "See the caveats in the documentation: https://pandas.pydata.org/pandas-docs/stable/user_guide/indexing.html#returning-a-view-versus-a-copy\n",
      "\n"
     ]
    },
    {
     "data": {
      "text/html": [
       "<div style=\"width:100%;\"><div style=\"position:relative;width:100%;height:0;padding-bottom:60%;\"><span style=\"color:#565656\">Make this Notebook Trusted to load map: File -> Trust Notebook</span><iframe srcdoc=\"&lt;!DOCTYPE html&gt;\n",
       "&lt;html&gt;\n",
       "&lt;head&gt;\n",
       "    \n",
       "    &lt;meta http-equiv=&quot;content-type&quot; content=&quot;text/html; charset=UTF-8&quot; /&gt;\n",
       "    \n",
       "        &lt;script&gt;\n",
       "            L_NO_TOUCH = false;\n",
       "            L_DISABLE_3D = false;\n",
       "        &lt;/script&gt;\n",
       "    \n",
       "    &lt;style&gt;html, body {width: 100%;height: 100%;margin: 0;padding: 0;}&lt;/style&gt;\n",
       "    &lt;style&gt;#map {position:absolute;top:0;bottom:0;right:0;left:0;}&lt;/style&gt;\n",
       "    &lt;script src=&quot;https://cdn.jsdelivr.net/npm/leaflet@1.9.3/dist/leaflet.js&quot;&gt;&lt;/script&gt;\n",
       "    &lt;script src=&quot;https://code.jquery.com/jquery-1.12.4.min.js&quot;&gt;&lt;/script&gt;\n",
       "    &lt;script src=&quot;https://cdn.jsdelivr.net/npm/bootstrap@5.2.2/dist/js/bootstrap.bundle.min.js&quot;&gt;&lt;/script&gt;\n",
       "    &lt;script src=&quot;https://cdnjs.cloudflare.com/ajax/libs/Leaflet.awesome-markers/2.0.2/leaflet.awesome-markers.js&quot;&gt;&lt;/script&gt;\n",
       "    &lt;link rel=&quot;stylesheet&quot; href=&quot;https://cdn.jsdelivr.net/npm/leaflet@1.9.3/dist/leaflet.css&quot;/&gt;\n",
       "    &lt;link rel=&quot;stylesheet&quot; href=&quot;https://cdn.jsdelivr.net/npm/bootstrap@5.2.2/dist/css/bootstrap.min.css&quot;/&gt;\n",
       "    &lt;link rel=&quot;stylesheet&quot; href=&quot;https://netdna.bootstrapcdn.com/bootstrap/3.0.0/css/bootstrap.min.css&quot;/&gt;\n",
       "    &lt;link rel=&quot;stylesheet&quot; href=&quot;https://cdn.jsdelivr.net/npm/@fortawesome/fontawesome-free@6.2.0/css/all.min.css&quot;/&gt;\n",
       "    &lt;link rel=&quot;stylesheet&quot; href=&quot;https://cdnjs.cloudflare.com/ajax/libs/Leaflet.awesome-markers/2.0.2/leaflet.awesome-markers.css&quot;/&gt;\n",
       "    &lt;link rel=&quot;stylesheet&quot; href=&quot;https://cdn.jsdelivr.net/gh/python-visualization/folium/folium/templates/leaflet.awesome.rotate.min.css&quot;/&gt;\n",
       "    \n",
       "            &lt;meta name=&quot;viewport&quot; content=&quot;width=device-width,\n",
       "                initial-scale=1.0, maximum-scale=1.0, user-scalable=no&quot; /&gt;\n",
       "            &lt;style&gt;\n",
       "                #map_eb4f4f4f5471cbd5cbf59896c6e7512f {\n",
       "                    position: relative;\n",
       "                    width: 100.0%;\n",
       "                    height: 100.0%;\n",
       "                    left: 0.0%;\n",
       "                    top: 0.0%;\n",
       "                }\n",
       "                .leaflet-container { font-size: 1rem; }\n",
       "            &lt;/style&gt;\n",
       "        \n",
       "    &lt;script src=&quot;https://cdn.jsdelivr.net/gh/python-visualization/folium@main/folium/templates/leaflet_heat.min.js&quot;&gt;&lt;/script&gt;\n",
       "&lt;/head&gt;\n",
       "&lt;body&gt;\n",
       "    \n",
       "    \n",
       "            &lt;div class=&quot;folium-map&quot; id=&quot;map_eb4f4f4f5471cbd5cbf59896c6e7512f&quot; &gt;&lt;/div&gt;\n",
       "        \n",
       "&lt;/body&gt;\n",
       "&lt;script&gt;\n",
       "    \n",
       "    \n",
       "            var map_eb4f4f4f5471cbd5cbf59896c6e7512f = L.map(\n",
       "                &quot;map_eb4f4f4f5471cbd5cbf59896c6e7512f&quot;,\n",
       "                {\n",
       "                    center: [16.315487, 80.232213],\n",
       "                    crs: L.CRS.EPSG3857,\n",
       "                    zoom: 8,\n",
       "                    zoomControl: true,\n",
       "                    preferCanvas: false,\n",
       "                }\n",
       "            );\n",
       "\n",
       "            \n",
       "\n",
       "        \n",
       "    \n",
       "            var tile_layer_c42ce006e06eeaff6fe89589c1b9618d = L.tileLayer(\n",
       "                &quot;https://{s}.tile.openstreetmap.org/{z}/{x}/{y}.png&quot;,\n",
       "                {&quot;attribution&quot;: &quot;Data by \\u0026copy; \\u003ca target=\\&quot;_blank\\&quot; href=\\&quot;http://openstreetmap.org\\&quot;\\u003eOpenStreetMap\\u003c/a\\u003e, under \\u003ca target=\\&quot;_blank\\&quot; href=\\&quot;http://www.openstreetmap.org/copyright\\&quot;\\u003eODbL\\u003c/a\\u003e.&quot;, &quot;detectRetina&quot;: false, &quot;maxNativeZoom&quot;: 18, &quot;maxZoom&quot;: 18, &quot;minZoom&quot;: 0, &quot;noWrap&quot;: false, &quot;opacity&quot;: 1, &quot;subdomains&quot;: &quot;abc&quot;, &quot;tms&quot;: false}\n",
       "            ).addTo(map_eb4f4f4f5471cbd5cbf59896c6e7512f);\n",
       "        \n",
       "    \n",
       "            var heat_map_157a9b0c50c629e3ae0cddc6bb7e6b31 = L.heatLayer(\n",
       "                [[14.959270753446642, 78.43443195543155, 0.0028856680559079325], [15.01954979384358, 79.6503046269642, 0.0022976316037869875], [15.032380139829849, 78.57022252324919, 0.003255431013197844], [15.046525073007867, 78.56943526078108, 0.0026281816825146653], [15.09346707120925, 79.42191588387506, 0.003269734518759106], [15.108047280643556, 78.34295694649407, 0.0027402925676678507], [15.109981496549828, 78.16573290539839, 0.002690159489476146], [15.11285085310257, 78.93057019224554, 0.002420919002477777], [15.14073261691053, 79.76333098741682, 0.0038294017801181334], [15.152258680897209, 79.8393292470731, 0.002549215312307257], [15.15508645421705, 79.63849515995032, 0.003878456445343392], [15.155156628232314, 77.93177854886942, 0.0030867612182437086], [15.158071058764346, 78.66141265978939, 0.0029907608668884277], [15.159408612266432, 78.61722471014657, 0.002403680279522437], [15.162357624121034, 79.59431509883886, 0.0017002479602121995], [15.187186961073492, 79.80792248507777, 0.0035444664521376034], [15.193612829956622, 78.71625198074216, 0.003622826862826198], [15.193745100084731, 79.2986143711756, 0.0031386549960167112], [15.199129576212425, 79.58753796583011, 0.0034459052061192683], [15.20817396075819, 79.01549637955678, 0.0025484401436456855], [15.211515810882688, 79.19794152791361, 0.0033414525737792897], [15.221671314833092, 77.65086416872568, 0.0022367480953039654], [15.225192171787322, 79.43601290922666, 0.004950596228184624], [15.23965592568088, 77.77427566782305, 0.0030850892621561055], [15.248069997835987, 77.60654036878896, 0.003044561331285597], [15.265163399976096, 80.08247995211674, 0.002052250651724026], [15.29799355221622, 78.02574001118593, 0.0015268553487010304], [15.298075177664217, 78.51796945100934, 0.0024520864151343657], [15.303410818659923, 77.85585530691259, 0.002030326464309004], [15.314507001296144, 79.3455159558957, 0.003098305002963851], [15.321495695643115, 78.60311718830299, 0.001827064730912521], [15.324111125627049, 78.3697646165842, 0.004710977216304934], [15.324922850469694, 79.38786866264411, 0.003982299691887879], [15.3402864344581, 78.89023827781544, 0.0021004902836817487], [15.345471274288528, 78.78739162538686, 0.0016727600815694796], [15.350862348143334, 79.58105541454835, 0.0025401546526276075], [15.375588399183886, 78.45639489651367, 0.002497127992684099], [15.3793318115184, 78.14438395798805, 0.0019180089797912934], [15.38008015244044, 79.2740719569883, 0.0025361101992626167], [15.382315043271449, 79.76344747749089, 0.002965246827152978], [15.390663826401449, 78.38186401779812, 0.0024025734711034777], [15.395146378399714, 79.54432825426585, 0.003093060079432683], [15.396627893201524, 78.37034243245643, 0.001652820752675488], [15.431585517305026, 78.38915505608179, 0.00222891120145305], [15.432569112180214, 78.68809482289392, 0.0022213625219023475], [15.43932928676871, 79.77688230304399, 0.00214480942129027], [15.4502327776982, 78.36644993068313, 0.0023166177565500812], [15.45608174267461, 78.80864490228606, 0.0027280561184786314], [15.463878517865714, 79.1264587600553, 0.002134271400605955], [15.466142212761095, 79.85724239490204, 0.006205312324466486], [15.500556950665924, 79.10713366930335, 0.003096633475178425], [15.501335640141429, 79.0009871098721, 0.002143744482505259], [15.506269859165968, 78.27028154410861, 0.0024318501060136967], [15.52071854266554, 79.42258956376278, 0.0010681216682454436], [15.52443458239634, 77.83101883208728, 0.0026002158210835804], [15.562172826326677, 79.05274311285352, 0.005751209333814915], [15.576626501790953, 79.02419458195328, 0.0026656231740847763], [15.583189361564427, 79.31756556980108, 0.0023871334654161085], [15.596887356205425, 79.53812678815454, 0.0020636158841894994], [15.598182194741891, 78.44783406404004, 0.0036624499400282296], [15.604127824662296, 80.2518269525022, 0.0020852057928072722], [15.634471493857788, 80.2928613187939, 0.0028571490111442815], [15.643192575552517, 79.36628209484583, 0.0021672867723726607], [15.650695391510643, 79.36569323438358, 0.0030562540574298283], [15.651264053537378, 79.28722680421468, 0.0014245370673095193], [15.664928843401077, 80.02424735032602, 0.004059533348280105], [15.690784565275637, 78.5359980615235, 0.002739887473151138], [15.692457567431584, 80.26153508040414, 0.0030170359384406238], [15.697469886447877, 78.85980589406711, 0.002198075916300981], [15.708076339173342, 78.60668519495617, 0.0028134207221992722], [15.722720117691471, 78.75926870142939, 0.0027199079245995186], [15.727100817385082, 79.96983019338506, 0.004250089999370276], [15.737255260578053, 79.27713340472114, 0.0027640838846239362], [15.751019314836505, 80.49112951073188, 0.0024308979451319436], [15.788367788347998, 78.91281721458807, 0.0027704132466317244], [15.796337829947104, 78.2166338580408, 0.002233480370797507], [15.796954322525693, 80.28440687386751, 0.0019097775114969412], [15.801756438757469, 78.19651926636891, 0.0018030093831799116], [15.8248330468369, 80.05923262943413, 0.0026322021675060665], [15.827836172974202, 78.84492541048803, 0.00271812587367764], [15.833195427213724, 79.39585291267358, 0.0031296588849647174], [15.83801706180142, 79.24081119176546, 0.0027313563088874407], [15.844807719333208, 78.80035578483951, 0.002863255555180453], [15.846372016222016, 79.96455969841033, 0.003536102282160885], [15.85192624027771, 78.73708421202048, 0.0023134987336437727], [15.883890806293644, 80.54088872477607, 0.003261559824031874], [15.887597867374788, 79.25402359124286, 0.00271431797035281], [15.889501134630946, 78.3172004424597, 0.0016510991748905405], [15.903758606559071, 79.774228013317, 0.002639958570620119], [15.92704796332319, 80.37527552720921, 0.0027376659320916753], [15.94113398719836, 79.02347837166747, 0.0038603683529907294], [15.9485534754945, 78.28129244576186, 0.0036821177434938775], [15.966017087161513, 78.90514755180183, 0.0032863174593739854], [15.968775054573516, 80.36987684021273, 0.0027586969224911205], [15.977579696665895, 79.97540583906998, 0.0023134799176893206], [15.98603045554459, 79.14837517040446, 0.0024909625551835725], [15.995803657433765, 80.7813125475813, 0.00247681927527667], [16.038370482366275, 79.25113800729598, 0.0023559432658484935], [16.040440316964787, 80.53094296779386, 0.0031855223938462994], [16.049228761525022, 80.26680689516921, 0.0031470196107197053], [16.07682328486841, 80.12395251446758, 0.0034996849072753303], [16.086162834720305, 80.31155343143783, 0.0022714260021379907], [16.099321080303415, 79.21925973810559, 0.002241210554392758], [16.105132014529367, 79.31487414184151, 0.002314185797382384], [16.106384915628666, 80.11903731223393, 0.0010224517444311547], [16.106853388176777, 80.88106433418741, 0.0019770089390113415], [16.12468453146881, 78.98289432521265, 0.0024413838913025423], [16.14152281646441, 78.99889324544054, 0.0031666043775283722], [16.179497670562185, 79.20737842678435, 0.002525092954142917], [16.182258375553488, 79.26327499774222, 0.004752505053645484], [16.18463199677441, 80.19830145386466, 0.0032391544478572653], [16.18768865176101, 80.15154435071942, 0.003233555264154501], [16.195822078820655, 79.11858452045446, 0.002451975588297826], [16.20372151215504, 78.76878101561555, 0.0024474087800381685], [16.207894622854617, 80.46920992660529, 0.0027965506403948895], [16.209342321963828, 79.1517139866942, 0.001830296070905704], [16.21240050674816, 80.90768637373864, 0.002447685718633281], [16.232703974442405, 78.56847813667606, 0.002851756750930394], [16.23685792011403, 79.29786112640232, 0.002851511340917421], [16.23990589570687, 81.01823514566773, 0.0045692453074636956], [16.24853232189767, 79.58499558847319, 0.006166958071283439], [16.254869872784248, 80.66969433016055, 0.003637642182347416], [16.263457991006465, 79.25100602859015, 0.003226853938340917], [16.29217642316846, 79.39101983938495, 0.0030728564602236093], [16.296627282359967, 79.74515087678607, 0.003949496255538641], [16.307005947589776, 79.66985506775751, 0.0029547894416072492], [16.311536301010488, 80.4837673208523, 0.004074676259481693], [16.315932298413774, 80.15689659284189, 0.0027854231011579683], [16.320040907164408, 79.70775610620043, 0.0040559272295381905], [16.32452479580445, 80.33870818683201, 0.0027016153897848716], [16.330684365561627, 80.99201789247958, 0.0022683561193715175], [16.33453911326812, 80.16380936093233, 0.0027905251129280934], [16.338395667191744, 80.36434316734706, 0.002867904961145646], [16.338558362866817, 80.0073841287984, 0.0027348893759855135], [16.339090980722936, 80.49138411839579, 0.002703357105576093], [16.350723602728152, 79.24032056151164, 0.0039057785374470855], [16.351328465130727, 79.65694728945536, 0.0020118517420449366], [16.357575701769186, 79.42052818470788, 0.00146590385902966], [16.362468674214757, 78.7429183047018, 0.0013695348513416564], [16.393516822108737, 80.71258551359675, 0.002833332168816401], [16.397894725304397, 79.76476141531091, 0.006074779719543918], [16.406955814865608, 79.24372380464546, 0.0061759306965459134], [16.42364191754352, 80.28416321757845, 0.0030587297136838044], [16.433384663168702, 79.16451129873823, 0.0022537285050948657], [16.44380461543161, 81.06976036621005, 0.0023756231044026657], [16.448210655374183, 79.45803202548053, 0.0044597374027295035], [16.451232258387783, 81.14114681237282, 0.002186851537893093], [16.457557073364388, 80.28713884298865, 0.0022755874496725873], [16.475964736888532, 80.32695418773592, 0.001017083926835345], [16.506679540058023, 80.77351819227346, 0.0024359439157567203], [16.509901154041103, 79.89404614471933, 0.0008862260476100209], [16.521208595090798, 79.39216770556625, 0.0023043383895596336], [16.521554114398693, 80.56304570287081, 0.002029035389953652], [16.52193395605219, 79.1983610817232, 0.007308096334182395], [16.522189560899236, 80.47801861463735, 0.002124215921588878], [16.525395097476547, 79.75555062586682, 0.0037336981354439474], [16.542359761998096, 79.54163042017598, 0.0044048590629227535], [16.54664501775886, 79.05411683467925, 0.0023040409191690545], [16.55107547948698, 80.17583795536852, 0.0035860555920306353], [16.557674460979623, 81.12122485686051, 0.004219521253271953], [16.562358161035768, 81.10171503955613, 0.0020914074978420423], [16.574287962296733, 79.31337739732612, 0.0021918821685448175], [16.587228238344444, 79.8129262781196, 0.0030890790879472296], [16.589780961736743, 80.11839258616142, 0.0028470479349492575], [16.59891230174516, 80.86970493164492, 0.001904704605973616], [16.611652752733285, 80.29728369335707, 0.003800918087228341], [16.61399172864309, 81.38598132037578, 0.0028244435282030983], [16.617774980412243, 79.21832319605998, 0.003357793844916451], [16.626008806175168, 79.24752568734586, 0.002130920516975605], [16.642559053238536, 79.14882607737482, 0.0017536897749580427], [16.658819011199075, 79.40129101202068, 0.00214516103611971], [16.671342270864173, 80.77549766864445, 0.001894382389206887], [16.677708255525843, 79.61088411727987, 0.004531582156095952], [16.692061158863417, 80.03808015539744, 0.002626317830303091], [16.696884476271926, 81.1637554949559, 0.002358711943851797], [16.7158684780737, 81.15912856701208, 0.0033233844414346596], [16.719263962290345, 80.90836022821723, 0.0031056018279012588], [16.733170681935036, 81.06356500820095, 0.003090665423857829], [16.761255039733978, 79.26228407841518, 0.0026830255069867997], [16.76444967983523, 80.27340493243227, 0.003419853022131138], [16.765314653138017, 80.92648078317835, 0.0007796735599213762], [16.783858533624002, 81.47529969855785, 0.0025163164197473517], [16.784507678826213, 81.07649251647804, 0.0026232304564669457], [16.79526708126819, 80.7691431794298, 0.003370806151275357], [16.79687732228479, 79.54532457161682, 0.0020882928446372033], [16.801066669092133, 79.18567086926683, 0.0021186651856343604], [16.814729753946, 79.64433084655991, 0.0030348693772936494], [16.825011417934252, 80.59841605372158, 0.008180499023704414], [16.826265069618024, 81.25447617244994, 0.0033661199064490073], [16.84558397382704, 80.72896304590286, 0.0026459075215265063], [16.848179938394612, 80.39241596941682, 0.0032660063418546137], [16.852090113977738, 80.56506191459518, 0.0017951467546261858], [16.857155616856037, 79.88227613858409, 0.003225620552952798], [16.860425898919875, 79.9464243480024, 0.0025016927961845595], [16.876260219287527, 80.42196561391111, 0.0018399501136962262], [16.876261316969963, 81.15430104353351, 0.0014930486597771742], [16.884739076561285, 81.3871739661695, 0.003253880228517716], [16.895553118094494, 81.4076372725418, 0.002882833522744875], [16.900895164751244, 79.35534348334711, 0.002589017822473376], [16.90532137319334, 80.96446779284409, 0.008274969183025343], [16.925215027554728, 80.22673181468679, 0.004427397840088583], [16.933938126502024, 79.65604195515266, 0.0036938693861046598], [16.939556395733455, 80.38542067841166, 0.0022683561193715175], [16.96566728948602, 80.54520629982039, 0.002131479093789738], [16.976032050184727, 79.65374406081781, 0.0035058985017011445], [16.981172110941444, 79.437713851161, 0.0021420701195556226], [16.984121964547494, 81.05665084981881, 0.0022187647400759886], [16.991736804806514, 80.03709297439435, 0.0024266049437630453], [17.00425434349132, 80.58376347125294, 0.0026131849529497046], [17.022302365137598, 80.47254301623249, 0.002837060553423997], [17.028849695655577, 80.50662087769113, 0.0027617862274687097], [17.02904187385087, 79.97633399979843, 0.002368420365762765], [17.051097304792687, 79.80859352818922, 0.0032911786121882784], [17.06032061683684, 79.4900388139465, 0.004149042539303837], [17.067391250185, 80.14978617588534, 0.0020559709285778646], [17.069834831156285, 80.6481117300431, 0.001506069282531544], [17.077505672387588, 80.36276132359217, 0.004853658728472781], [17.150760115279457, 79.94051647862526, 0.0015298112734013138], [17.15562053392702, 79.87203137242679, 0.0024747295851054282], [17.184386924420195, 80.08999182843566, 0.002120240915795188], [17.21423453022991, 79.65738986845653, 0.002271625532175456]],\n",
       "                {&quot;blur&quot;: 15, &quot;maxZoom&quot;: 18, &quot;minOpacit&quot;: 1, &quot;minOpacity&quot;: 0.5, &quot;radius&quot;: 10}\n",
       "            ).addTo(map_eb4f4f4f5471cbd5cbf59896c6e7512f);\n",
       "        \n",
       "    \n",
       "            var circle_marker_3e37ac5d2c9e07e24c3b78651583fc37 = L.circleMarker(\n",
       "                [16.784507678826213, 81.07649251647804],\n",
       "                {&quot;bubblingMouseEvents&quot;: true, &quot;color&quot;: &quot;crimson&quot;, &quot;dashArray&quot;: null, &quot;dashOffset&quot;: null, &quot;fill&quot;: false, &quot;fillColor&quot;: &quot;crimson&quot;, &quot;fillOpacity&quot;: 0.2, &quot;fillRule&quot;: &quot;evenodd&quot;, &quot;lineCap&quot;: &quot;round&quot;, &quot;lineJoin&quot;: &quot;round&quot;, &quot;opacity&quot;: 1.0, &quot;radius&quot;: 3, &quot;stroke&quot;: true, &quot;weight&quot;: 3}\n",
       "            ).addTo(map_eb4f4f4f5471cbd5cbf59896c6e7512f);\n",
       "        \n",
       "    \n",
       "        var popup_4d90947b424f10f21d1a4a3c024db8b2 = L.popup({&quot;maxWidth&quot;: &quot;100%&quot;});\n",
       "\n",
       "        \n",
       "            \n",
       "                var html_8031d8df6d5d3043952694fdcb4d9ad8 = $(`&lt;div id=&quot;html_8031d8df6d5d3043952694fdcb4d9ad8&quot; style=&quot;width: 100.0%; height: 100.0%;&quot;&gt;Viswasarayi Kalavathi&lt;/div&gt;`)[0];\n",
       "                popup_4d90947b424f10f21d1a4a3c024db8b2.setContent(html_8031d8df6d5d3043952694fdcb4d9ad8);\n",
       "            \n",
       "        \n",
       "\n",
       "        circle_marker_3e37ac5d2c9e07e24c3b78651583fc37.bindPopup(popup_4d90947b424f10f21d1a4a3c024db8b2)\n",
       "        ;\n",
       "\n",
       "        \n",
       "    \n",
       "    \n",
       "            var circle_marker_2217fb8b3d9974b15b3644e7bdd25063 = L.circleMarker(\n",
       "                [16.671342270864173, 80.77549766864445],\n",
       "                {&quot;bubblingMouseEvents&quot;: true, &quot;color&quot;: &quot;crimson&quot;, &quot;dashArray&quot;: null, &quot;dashOffset&quot;: null, &quot;fill&quot;: false, &quot;fillColor&quot;: &quot;crimson&quot;, &quot;fillOpacity&quot;: 0.2, &quot;fillRule&quot;: &quot;evenodd&quot;, &quot;lineCap&quot;: &quot;round&quot;, &quot;lineJoin&quot;: &quot;round&quot;, &quot;opacity&quot;: 1.0, &quot;radius&quot;: 3, &quot;stroke&quot;: true, &quot;weight&quot;: 3}\n",
       "            ).addTo(map_eb4f4f4f5471cbd5cbf59896c6e7512f);\n",
       "        \n",
       "    \n",
       "        var popup_b08a06cf006dd94d6aa578ba95e1ddca = L.popup({&quot;maxWidth&quot;: &quot;100%&quot;});\n",
       "\n",
       "        \n",
       "            \n",
       "                var html_3969c0bc91bdf4eb65056b681d7da018 = $(`&lt;div id=&quot;html_3969c0bc91bdf4eb65056b681d7da018&quot; style=&quot;width: 100.0%; height: 100.0%;&quot;&gt;Maddila Gurumoorthy&lt;/div&gt;`)[0];\n",
       "                popup_b08a06cf006dd94d6aa578ba95e1ddca.setContent(html_3969c0bc91bdf4eb65056b681d7da018);\n",
       "            \n",
       "        \n",
       "\n",
       "        circle_marker_2217fb8b3d9974b15b3644e7bdd25063.bindPopup(popup_b08a06cf006dd94d6aa578ba95e1ddca)\n",
       "        ;\n",
       "\n",
       "        \n",
       "    \n",
       "    \n",
       "            var circle_marker_d7d6f35246cc398177606bba5b6afe13 = L.circleMarker(\n",
       "                [15.889501134630946, 78.3172004424597],\n",
       "                {&quot;bubblingMouseEvents&quot;: true, &quot;color&quot;: &quot;crimson&quot;, &quot;dashArray&quot;: null, &quot;dashOffset&quot;: null, &quot;fill&quot;: false, &quot;fillColor&quot;: &quot;crimson&quot;, &quot;fillOpacity&quot;: 0.2, &quot;fillRule&quot;: &quot;evenodd&quot;, &quot;lineCap&quot;: &quot;round&quot;, &quot;lineJoin&quot;: &quot;round&quot;, &quot;opacity&quot;: 1.0, &quot;radius&quot;: 3, &quot;stroke&quot;: true, &quot;weight&quot;: 3}\n",
       "            ).addTo(map_eb4f4f4f5471cbd5cbf59896c6e7512f);\n",
       "        \n",
       "    \n",
       "        var popup_ddbfd81e93d93f2679095c75ffa93cc2 = L.popup({&quot;maxWidth&quot;: &quot;100%&quot;});\n",
       "\n",
       "        \n",
       "            \n",
       "                var html_833d6a9c9b77aeda35fb3646610f6c41 = $(`&lt;div id=&quot;html_833d6a9c9b77aeda35fb3646610f6c41&quot; style=&quot;width: 100.0%; height: 100.0%;&quot;&gt;Malladi Vishnu&lt;/div&gt;`)[0];\n",
       "                popup_ddbfd81e93d93f2679095c75ffa93cc2.setContent(html_833d6a9c9b77aeda35fb3646610f6c41);\n",
       "            \n",
       "        \n",
       "\n",
       "        circle_marker_d7d6f35246cc398177606bba5b6afe13.bindPopup(popup_ddbfd81e93d93f2679095c75ffa93cc2)\n",
       "        ;\n",
       "\n",
       "        \n",
       "    \n",
       "    \n",
       "            var circle_marker_bbc8fdd9e04e45775429aced2a1e6b10 = L.circleMarker(\n",
       "                [16.351328465130727, 79.65694728945536],\n",
       "                {&quot;bubblingMouseEvents&quot;: true, &quot;color&quot;: &quot;crimson&quot;, &quot;dashArray&quot;: null, &quot;dashOffset&quot;: null, &quot;fill&quot;: false, &quot;fillColor&quot;: &quot;crimson&quot;, &quot;fillOpacity&quot;: 0.2, &quot;fillRule&quot;: &quot;evenodd&quot;, &quot;lineCap&quot;: &quot;round&quot;, &quot;lineJoin&quot;: &quot;round&quot;, &quot;opacity&quot;: 1.0, &quot;radius&quot;: 3, &quot;stroke&quot;: true, &quot;weight&quot;: 3}\n",
       "            ).addTo(map_eb4f4f4f5471cbd5cbf59896c6e7512f);\n",
       "        \n",
       "    \n",
       "        var popup_4156dbd17cae905ed2c44fa8d972325a = L.popup({&quot;maxWidth&quot;: &quot;100%&quot;});\n",
       "\n",
       "        \n",
       "            \n",
       "                var html_56df9197a027767faad50eccf0ee9b3c = $(`&lt;div id=&quot;html_56df9197a027767faad50eccf0ee9b3c&quot; style=&quot;width: 100.0%; height: 100.0%;&quot;&gt;M. Thippeswamy&lt;/div&gt;`)[0];\n",
       "                popup_4156dbd17cae905ed2c44fa8d972325a.setContent(html_56df9197a027767faad50eccf0ee9b3c);\n",
       "            \n",
       "        \n",
       "\n",
       "        circle_marker_bbc8fdd9e04e45775429aced2a1e6b10.bindPopup(popup_4156dbd17cae905ed2c44fa8d972325a)\n",
       "        ;\n",
       "\n",
       "        \n",
       "    \n",
       "    \n",
       "            var circle_marker_1e984128e67681cf99833b6ea6c5f341 = L.circleMarker(\n",
       "                [16.76444967983523, 80.27340493243227],\n",
       "                {&quot;bubblingMouseEvents&quot;: true, &quot;color&quot;: &quot;crimson&quot;, &quot;dashArray&quot;: null, &quot;dashOffset&quot;: null, &quot;fill&quot;: false, &quot;fillColor&quot;: &quot;crimson&quot;, &quot;fillOpacity&quot;: 0.2, &quot;fillRule&quot;: &quot;evenodd&quot;, &quot;lineCap&quot;: &quot;round&quot;, &quot;lineJoin&quot;: &quot;round&quot;, &quot;opacity&quot;: 1.0, &quot;radius&quot;: 3, &quot;stroke&quot;: true, &quot;weight&quot;: 3}\n",
       "            ).addTo(map_eb4f4f4f5471cbd5cbf59896c6e7512f);\n",
       "        \n",
       "    \n",
       "        var popup_caa5c46ec9430644838a6e8a38b9aafc = L.popup({&quot;maxWidth&quot;: &quot;100%&quot;});\n",
       "\n",
       "        \n",
       "            \n",
       "                var html_b9e72277a2d6b1d6bb4d3bf080bc9162 = $(`&lt;div id=&quot;html_b9e72277a2d6b1d6bb4d3bf080bc9162&quot; style=&quot;width: 100.0%; height: 100.0%;&quot;&gt;Ramireddy Pratap Kumar Reddy&lt;/div&gt;`)[0];\n",
       "                popup_caa5c46ec9430644838a6e8a38b9aafc.setContent(html_b9e72277a2d6b1d6bb4d3bf080bc9162);\n",
       "            \n",
       "        \n",
       "\n",
       "        circle_marker_1e984128e67681cf99833b6ea6c5f341.bindPopup(popup_caa5c46ec9430644838a6e8a38b9aafc)\n",
       "        ;\n",
       "\n",
       "        \n",
       "    \n",
       "    \n",
       "            var circle_marker_a2c75eb1d6b4823187a6f3682199023b = L.circleMarker(\n",
       "                [15.382315043271449, 79.76344747749089],\n",
       "                {&quot;bubblingMouseEvents&quot;: true, &quot;color&quot;: &quot;crimson&quot;, &quot;dashArray&quot;: null, &quot;dashOffset&quot;: null, &quot;fill&quot;: false, &quot;fillColor&quot;: &quot;crimson&quot;, &quot;fillOpacity&quot;: 0.2, &quot;fillRule&quot;: &quot;evenodd&quot;, &quot;lineCap&quot;: &quot;round&quot;, &quot;lineJoin&quot;: &quot;round&quot;, &quot;opacity&quot;: 1.0, &quot;radius&quot;: 3, &quot;stroke&quot;: true, &quot;weight&quot;: 3}\n",
       "            ).addTo(map_eb4f4f4f5471cbd5cbf59896c6e7512f);\n",
       "        \n",
       "    \n",
       "        var popup_f2e074a998ec6b2bc361a6563378fde7 = L.popup({&quot;maxWidth&quot;: &quot;100%&quot;});\n",
       "\n",
       "        \n",
       "            \n",
       "                var html_67aa5c55f1f3d963acbbf832e287e876 = $(`&lt;div id=&quot;html_67aa5c55f1f3d963acbbf832e287e876&quot; style=&quot;width: 100.0%; height: 100.0%;&quot;&gt;Y Balanagi Reddy&lt;/div&gt;`)[0];\n",
       "                popup_f2e074a998ec6b2bc361a6563378fde7.setContent(html_67aa5c55f1f3d963acbbf832e287e876);\n",
       "            \n",
       "        \n",
       "\n",
       "        circle_marker_a2c75eb1d6b4823187a6f3682199023b.bindPopup(popup_f2e074a998ec6b2bc361a6563378fde7)\n",
       "        ;\n",
       "\n",
       "        \n",
       "    \n",
       "    \n",
       "            var circle_marker_ad61bdd11d334d857bc9d0c6538e9258 = L.circleMarker(\n",
       "                [15.01954979384358, 79.6503046269642],\n",
       "                {&quot;bubblingMouseEvents&quot;: true, &quot;color&quot;: &quot;crimson&quot;, &quot;dashArray&quot;: null, &quot;dashOffset&quot;: null, &quot;fill&quot;: false, &quot;fillColor&quot;: &quot;crimson&quot;, &quot;fillOpacity&quot;: 0.2, &quot;fillRule&quot;: &quot;evenodd&quot;, &quot;lineCap&quot;: &quot;round&quot;, &quot;lineJoin&quot;: &quot;round&quot;, &quot;opacity&quot;: 1.0, &quot;radius&quot;: 3, &quot;stroke&quot;: true, &quot;weight&quot;: 3}\n",
       "            ).addTo(map_eb4f4f4f5471cbd5cbf59896c6e7512f);\n",
       "        \n",
       "    \n",
       "        var popup_369a09e53c0af29bccc0dd36511ecbcc = L.popup({&quot;maxWidth&quot;: &quot;100%&quot;});\n",
       "\n",
       "        \n",
       "            \n",
       "                var html_f89e8f639ee30fcde023b83d3510d6ed = $(`&lt;div id=&quot;html_f89e8f639ee30fcde023b83d3510d6ed&quot; style=&quot;width: 100.0%; height: 100.0%;&quot;&gt;Duddukunta Sreedhar Reddy&lt;/div&gt;`)[0];\n",
       "                popup_369a09e53c0af29bccc0dd36511ecbcc.setContent(html_f89e8f639ee30fcde023b83d3510d6ed);\n",
       "            \n",
       "        \n",
       "\n",
       "        circle_marker_ad61bdd11d334d857bc9d0c6538e9258.bindPopup(popup_369a09e53c0af29bccc0dd36511ecbcc)\n",
       "        ;\n",
       "\n",
       "        \n",
       "    \n",
       "    \n",
       "            var circle_marker_f6efd2728828a15046ab65c01e9cbfeb = L.circleMarker(\n",
       "                [16.29217642316846, 79.39101983938495],\n",
       "                {&quot;bubblingMouseEvents&quot;: true, &quot;color&quot;: &quot;crimson&quot;, &quot;dashArray&quot;: null, &quot;dashOffset&quot;: null, &quot;fill&quot;: false, &quot;fillColor&quot;: &quot;crimson&quot;, &quot;fillOpacity&quot;: 0.2, &quot;fillRule&quot;: &quot;evenodd&quot;, &quot;lineCap&quot;: &quot;round&quot;, &quot;lineJoin&quot;: &quot;round&quot;, &quot;opacity&quot;: 1.0, &quot;radius&quot;: 3, &quot;stroke&quot;: true, &quot;weight&quot;: 3}\n",
       "            ).addTo(map_eb4f4f4f5471cbd5cbf59896c6e7512f);\n",
       "        \n",
       "    \n",
       "        var popup_e8b14842cf4e0bd6fc16cb9a2450b74a = L.popup({&quot;maxWidth&quot;: &quot;100%&quot;});\n",
       "\n",
       "        \n",
       "            \n",
       "                var html_4685ba0ff245bb712ddeb01d3dac58e4 = $(`&lt;div id=&quot;html_4685ba0ff245bb712ddeb01d3dac58e4&quot; style=&quot;width: 100.0%; height: 100.0%;&quot;&gt;Reddy Shanthi&lt;/div&gt;`)[0];\n",
       "                popup_e8b14842cf4e0bd6fc16cb9a2450b74a.setContent(html_4685ba0ff245bb712ddeb01d3dac58e4);\n",
       "            \n",
       "        \n",
       "\n",
       "        circle_marker_f6efd2728828a15046ab65c01e9cbfeb.bindPopup(popup_e8b14842cf4e0bd6fc16cb9a2450b74a)\n",
       "        ;\n",
       "\n",
       "        \n",
       "    \n",
       "    \n",
       "            var circle_marker_84d1be1b983911b2fc502e9aecd826b8 = L.circleMarker(\n",
       "                [16.542359761998096, 79.54163042017598],\n",
       "                {&quot;bubblingMouseEvents&quot;: true, &quot;color&quot;: &quot;crimson&quot;, &quot;dashArray&quot;: null, &quot;dashOffset&quot;: null, &quot;fill&quot;: false, &quot;fillColor&quot;: &quot;crimson&quot;, &quot;fillOpacity&quot;: 0.2, &quot;fillRule&quot;: &quot;evenodd&quot;, &quot;lineCap&quot;: &quot;round&quot;, &quot;lineJoin&quot;: &quot;round&quot;, &quot;opacity&quot;: 1.0, &quot;radius&quot;: 3, &quot;stroke&quot;: true, &quot;weight&quot;: 3}\n",
       "            ).addTo(map_eb4f4f4f5471cbd5cbf59896c6e7512f);\n",
       "        \n",
       "    \n",
       "        var popup_26238b6f8a3eef1f2ba66c00e1a67963 = L.popup({&quot;maxWidth&quot;: &quot;100%&quot;});\n",
       "\n",
       "        \n",
       "            \n",
       "                var html_f36663b4c20196eba1a4f704acefc9f8 = $(`&lt;div id=&quot;html_f36663b4c20196eba1a4f704acefc9f8&quot; style=&quot;width: 100.0%; height: 100.0%;&quot;&gt;Botcha Satyanarayana&lt;/div&gt;`)[0];\n",
       "                popup_26238b6f8a3eef1f2ba66c00e1a67963.setContent(html_f36663b4c20196eba1a4f704acefc9f8);\n",
       "            \n",
       "        \n",
       "\n",
       "        circle_marker_84d1be1b983911b2fc502e9aecd826b8.bindPopup(popup_26238b6f8a3eef1f2ba66c00e1a67963)\n",
       "        ;\n",
       "\n",
       "        \n",
       "    \n",
       "    \n",
       "            var circle_marker_751a01868a5c661ab244321d40b1db60 = L.circleMarker(\n",
       "                [15.14073261691053, 79.76333098741682],\n",
       "                {&quot;bubblingMouseEvents&quot;: true, &quot;color&quot;: &quot;crimson&quot;, &quot;dashArray&quot;: null, &quot;dashOffset&quot;: null, &quot;fill&quot;: false, &quot;fillColor&quot;: &quot;crimson&quot;, &quot;fillOpacity&quot;: 0.2, &quot;fillRule&quot;: &quot;evenodd&quot;, &quot;lineCap&quot;: &quot;round&quot;, &quot;lineJoin&quot;: &quot;round&quot;, &quot;opacity&quot;: 1.0, &quot;radius&quot;: 3, &quot;stroke&quot;: true, &quot;weight&quot;: 3}\n",
       "            ).addTo(map_eb4f4f4f5471cbd5cbf59896c6e7512f);\n",
       "        \n",
       "    \n",
       "        var popup_97983a623c605637caa5ea1786a042af = L.popup({&quot;maxWidth&quot;: &quot;100%&quot;});\n",
       "\n",
       "        \n",
       "            \n",
       "                var html_6d56692ee287420b8ba0d5f11133e4dd = $(`&lt;div id=&quot;html_6d56692ee287420b8ba0d5f11133e4dd&quot; style=&quot;width: 100.0%; height: 100.0%;&quot;&gt;Annabathuni Siva Kumar&lt;/div&gt;`)[0];\n",
       "                popup_97983a623c605637caa5ea1786a042af.setContent(html_6d56692ee287420b8ba0d5f11133e4dd);\n",
       "            \n",
       "        \n",
       "\n",
       "        circle_marker_751a01868a5c661ab244321d40b1db60.bindPopup(popup_97983a623c605637caa5ea1786a042af)\n",
       "        ;\n",
       "\n",
       "        \n",
       "    \n",
       "    \n",
       "            var circle_marker_b8d31ca2f93c2ac506959e0da41ee4f9 = L.circleMarker(\n",
       "                [15.977579696665895, 79.97540583906998],\n",
       "                {&quot;bubblingMouseEvents&quot;: true, &quot;color&quot;: &quot;crimson&quot;, &quot;dashArray&quot;: null, &quot;dashOffset&quot;: null, &quot;fill&quot;: false, &quot;fillColor&quot;: &quot;crimson&quot;, &quot;fillOpacity&quot;: 0.2, &quot;fillRule&quot;: &quot;evenodd&quot;, &quot;lineCap&quot;: &quot;round&quot;, &quot;lineJoin&quot;: &quot;round&quot;, &quot;opacity&quot;: 1.0, &quot;radius&quot;: 3, &quot;stroke&quot;: true, &quot;weight&quot;: 3}\n",
       "            ).addTo(map_eb4f4f4f5471cbd5cbf59896c6e7512f);\n",
       "        \n",
       "    \n",
       "        var popup_890d9d08e5ba66db2a2b0dcea087e16a = L.popup({&quot;maxWidth&quot;: &quot;100%&quot;});\n",
       "\n",
       "        \n",
       "            \n",
       "                var html_7cf3f79349f4ce2e8c9c6c0eaf526d97 = $(`&lt;div id=&quot;html_7cf3f79349f4ce2e8c9c6c0eaf526d97&quot; style=&quot;width: 100.0%; height: 100.0%;&quot;&gt;Katasani Rambhupal Reddy&lt;/div&gt;`)[0];\n",
       "                popup_890d9d08e5ba66db2a2b0dcea087e16a.setContent(html_7cf3f79349f4ce2e8c9c6c0eaf526d97);\n",
       "            \n",
       "        \n",
       "\n",
       "        circle_marker_b8d31ca2f93c2ac506959e0da41ee4f9.bindPopup(popup_890d9d08e5ba66db2a2b0dcea087e16a)\n",
       "        ;\n",
       "\n",
       "        \n",
       "    \n",
       "    \n",
       "            var circle_marker_561f9a28b6d9b77bec1485c110dea550 = L.circleMarker(\n",
       "                [15.321495695643115, 78.60311718830299],\n",
       "                {&quot;bubblingMouseEvents&quot;: true, &quot;color&quot;: &quot;crimson&quot;, &quot;dashArray&quot;: null, &quot;dashOffset&quot;: null, &quot;fill&quot;: false, &quot;fillColor&quot;: &quot;crimson&quot;, &quot;fillOpacity&quot;: 0.2, &quot;fillRule&quot;: &quot;evenodd&quot;, &quot;lineCap&quot;: &quot;round&quot;, &quot;lineJoin&quot;: &quot;round&quot;, &quot;opacity&quot;: 1.0, &quot;radius&quot;: 3, &quot;stroke&quot;: true, &quot;weight&quot;: 3}\n",
       "            ).addTo(map_eb4f4f4f5471cbd5cbf59896c6e7512f);\n",
       "        \n",
       "    \n",
       "        var popup_e535f0306453215736619780fc79ead2 = L.popup({&quot;maxWidth&quot;: &quot;100%&quot;});\n",
       "\n",
       "        \n",
       "            \n",
       "                var html_ac417f2a7a9312d9d5577131791c9b79 = $(`&lt;div id=&quot;html_ac417f2a7a9312d9d5577131791c9b79&quot; style=&quot;width: 100.0%; height: 100.0%;&quot;&gt;Mohammad Musthafa Shaik&lt;/div&gt;`)[0];\n",
       "                popup_e535f0306453215736619780fc79ead2.setContent(html_ac417f2a7a9312d9d5577131791c9b79);\n",
       "            \n",
       "        \n",
       "\n",
       "        circle_marker_561f9a28b6d9b77bec1485c110dea550.bindPopup(popup_e535f0306453215736619780fc79ead2)\n",
       "        ;\n",
       "\n",
       "        \n",
       "    \n",
       "    \n",
       "            var circle_marker_949c51b4e8a08e811a3bcac1c5ff102f = L.circleMarker(\n",
       "                [15.396627893201524, 78.37034243245643],\n",
       "                {&quot;bubblingMouseEvents&quot;: true, &quot;color&quot;: &quot;crimson&quot;, &quot;dashArray&quot;: null, &quot;dashOffset&quot;: null, &quot;fill&quot;: false, &quot;fillColor&quot;: &quot;crimson&quot;, &quot;fillOpacity&quot;: 0.2, &quot;fillRule&quot;: &quot;evenodd&quot;, &quot;lineCap&quot;: &quot;round&quot;, &quot;lineJoin&quot;: &quot;round&quot;, &quot;opacity&quot;: 1.0, &quot;radius&quot;: 3, &quot;stroke&quot;: true, &quot;weight&quot;: 3}\n",
       "            ).addTo(map_eb4f4f4f5471cbd5cbf59896c6e7512f);\n",
       "        \n",
       "    \n",
       "        var popup_6bca88d32d6ab370104d634d6ed75e6b = L.popup({&quot;maxWidth&quot;: &quot;100%&quot;});\n",
       "\n",
       "        \n",
       "            \n",
       "                var html_b2710fcd4ea30ff8b170feb2980f48ba = $(`&lt;div id=&quot;html_b2710fcd4ea30ff8b170feb2980f48ba&quot; style=&quot;width: 100.0%; height: 100.0%;&quot;&gt;Gorantla Butchaiah Chowdary&lt;/div&gt;`)[0];\n",
       "                popup_6bca88d32d6ab370104d634d6ed75e6b.setContent(html_b2710fcd4ea30ff8b170feb2980f48ba);\n",
       "            \n",
       "        \n",
       "\n",
       "        circle_marker_949c51b4e8a08e811a3bcac1c5ff102f.bindPopup(popup_6bca88d32d6ab370104d634d6ed75e6b)\n",
       "        ;\n",
       "\n",
       "        \n",
       "    \n",
       "    \n",
       "            var circle_marker_ea4220ac8ac3309c0b2a218b93b20be4 = L.circleMarker(\n",
       "                [15.903758606559071, 79.774228013317],\n",
       "                {&quot;bubblingMouseEvents&quot;: true, &quot;color&quot;: &quot;crimson&quot;, &quot;dashArray&quot;: null, &quot;dashOffset&quot;: null, &quot;fill&quot;: false, &quot;fillColor&quot;: &quot;crimson&quot;, &quot;fillOpacity&quot;: 0.2, &quot;fillRule&quot;: &quot;evenodd&quot;, &quot;lineCap&quot;: &quot;round&quot;, &quot;lineJoin&quot;: &quot;round&quot;, &quot;opacity&quot;: 1.0, &quot;radius&quot;: 3, &quot;stroke&quot;: true, &quot;weight&quot;: 3}\n",
       "            ).addTo(map_eb4f4f4f5471cbd5cbf59896c6e7512f);\n",
       "        \n",
       "    \n",
       "        var popup_6e49ce8f9153e18ceab4500b3a1675da = L.popup({&quot;maxWidth&quot;: &quot;100%&quot;});\n",
       "\n",
       "        \n",
       "            \n",
       "                var html_dbf5f71d18c1ec976a8a7dcd090769cd = $(`&lt;div id=&quot;html_dbf5f71d18c1ec976a8a7dcd090769cd&quot; style=&quot;width: 100.0%; height: 100.0%;&quot;&gt;kokkiligadda rakshana nidhi&lt;/div&gt;`)[0];\n",
       "                popup_6e49ce8f9153e18ceab4500b3a1675da.setContent(html_dbf5f71d18c1ec976a8a7dcd090769cd);\n",
       "            \n",
       "        \n",
       "\n",
       "        circle_marker_ea4220ac8ac3309c0b2a218b93b20be4.bindPopup(popup_6e49ce8f9153e18ceab4500b3a1675da)\n",
       "        ;\n",
       "\n",
       "        \n",
       "    \n",
       "    \n",
       "            var circle_marker_b9fafb582e979d40c97f907faf5a803e = L.circleMarker(\n",
       "                [16.338558362866817, 80.0073841287984],\n",
       "                {&quot;bubblingMouseEvents&quot;: true, &quot;color&quot;: &quot;crimson&quot;, &quot;dashArray&quot;: null, &quot;dashOffset&quot;: null, &quot;fill&quot;: false, &quot;fillColor&quot;: &quot;crimson&quot;, &quot;fillOpacity&quot;: 0.2, &quot;fillRule&quot;: &quot;evenodd&quot;, &quot;lineCap&quot;: &quot;round&quot;, &quot;lineJoin&quot;: &quot;round&quot;, &quot;opacity&quot;: 1.0, &quot;radius&quot;: 3, &quot;stroke&quot;: true, &quot;weight&quot;: 3}\n",
       "            ).addTo(map_eb4f4f4f5471cbd5cbf59896c6e7512f);\n",
       "        \n",
       "    \n",
       "        var popup_03f2913697469641f35992311c2df93e = L.popup({&quot;maxWidth&quot;: &quot;100%&quot;});\n",
       "\n",
       "        \n",
       "            \n",
       "                var html_a36a85eaa6be37ed09d5389213db64dc = $(`&lt;div id=&quot;html_a36a85eaa6be37ed09d5389213db64dc&quot; style=&quot;width: 100.0%; height: 100.0%;&quot;&gt;perni Nani&lt;/div&gt;`)[0];\n",
       "                popup_03f2913697469641f35992311c2df93e.setContent(html_a36a85eaa6be37ed09d5389213db64dc);\n",
       "            \n",
       "        \n",
       "\n",
       "        circle_marker_b9fafb582e979d40c97f907faf5a803e.bindPopup(popup_03f2913697469641f35992311c2df93e)\n",
       "        ;\n",
       "\n",
       "        \n",
       "    \n",
       "    \n",
       "            var circle_marker_0778f59070aca2916cec03bb8c427cd0 = L.circleMarker(\n",
       "                [17.067391250185, 80.14978617588534],\n",
       "                {&quot;bubblingMouseEvents&quot;: true, &quot;color&quot;: &quot;crimson&quot;, &quot;dashArray&quot;: null, &quot;dashOffset&quot;: null, &quot;fill&quot;: false, &quot;fillColor&quot;: &quot;crimson&quot;, &quot;fillOpacity&quot;: 0.2, &quot;fillRule&quot;: &quot;evenodd&quot;, &quot;lineCap&quot;: &quot;round&quot;, &quot;lineJoin&quot;: &quot;round&quot;, &quot;opacity&quot;: 1.0, &quot;radius&quot;: 3, &quot;stroke&quot;: true, &quot;weight&quot;: 3}\n",
       "            ).addTo(map_eb4f4f4f5471cbd5cbf59896c6e7512f);\n",
       "        \n",
       "    \n",
       "        var popup_06dc56129334f3a7c90f80d44a5f31e0 = L.popup({&quot;maxWidth&quot;: &quot;100%&quot;});\n",
       "\n",
       "        \n",
       "            \n",
       "                var html_2a50af45c5ab7854e7310f05899ca33b = $(`&lt;div id=&quot;html_2a50af45c5ab7854e7310f05899ca33b&quot; style=&quot;width: 100.0%; height: 100.0%;&quot;&gt;c ramachandra reddy&lt;/div&gt;`)[0];\n",
       "                popup_06dc56129334f3a7c90f80d44a5f31e0.setContent(html_2a50af45c5ab7854e7310f05899ca33b);\n",
       "            \n",
       "        \n",
       "\n",
       "        circle_marker_0778f59070aca2916cec03bb8c427cd0.bindPopup(popup_06dc56129334f3a7c90f80d44a5f31e0)\n",
       "        ;\n",
       "\n",
       "        \n",
       "    \n",
       "    \n",
       "            var circle_marker_1425be273941e35b6aec42b8e1680d3f = L.circleMarker(\n",
       "                [16.79526708126819, 80.7691431794298],\n",
       "                {&quot;bubblingMouseEvents&quot;: true, &quot;color&quot;: &quot;crimson&quot;, &quot;dashArray&quot;: null, &quot;dashOffset&quot;: null, &quot;fill&quot;: false, &quot;fillColor&quot;: &quot;crimson&quot;, &quot;fillOpacity&quot;: 0.2, &quot;fillRule&quot;: &quot;evenodd&quot;, &quot;lineCap&quot;: &quot;round&quot;, &quot;lineJoin&quot;: &quot;round&quot;, &quot;opacity&quot;: 1.0, &quot;radius&quot;: 3, &quot;stroke&quot;: true, &quot;weight&quot;: 3}\n",
       "            ).addTo(map_eb4f4f4f5471cbd5cbf59896c6e7512f);\n",
       "        \n",
       "    \n",
       "        var popup_a58e110c76017041dff22ae00ebb21d6 = L.popup({&quot;maxWidth&quot;: &quot;100%&quot;});\n",
       "\n",
       "        \n",
       "            \n",
       "                var html_24221ac613a17cac826db70b6e21be50 = $(`&lt;div id=&quot;html_24221ac613a17cac826db70b6e21be50&quot; style=&quot;width: 100.0%; height: 100.0%;&quot;&gt;Kangati Sreedevi&lt;/div&gt;`)[0];\n",
       "                popup_a58e110c76017041dff22ae00ebb21d6.setContent(html_24221ac613a17cac826db70b6e21be50);\n",
       "            \n",
       "        \n",
       "\n",
       "        circle_marker_1425be273941e35b6aec42b8e1680d3f.bindPopup(popup_a58e110c76017041dff22ae00ebb21d6)\n",
       "        ;\n",
       "\n",
       "        \n",
       "    \n",
       "    \n",
       "            var circle_marker_734550f175b82633ed1c38f16fb685f2 = L.circleMarker(\n",
       "                [15.697469886447877, 78.85980589406711],\n",
       "                {&quot;bubblingMouseEvents&quot;: true, &quot;color&quot;: &quot;crimson&quot;, &quot;dashArray&quot;: null, &quot;dashOffset&quot;: null, &quot;fill&quot;: false, &quot;fillColor&quot;: &quot;crimson&quot;, &quot;fillOpacity&quot;: 0.2, &quot;fillRule&quot;: &quot;evenodd&quot;, &quot;lineCap&quot;: &quot;round&quot;, &quot;lineJoin&quot;: &quot;round&quot;, &quot;opacity&quot;: 1.0, &quot;radius&quot;: 3, &quot;stroke&quot;: true, &quot;weight&quot;: 3}\n",
       "            ).addTo(map_eb4f4f4f5471cbd5cbf59896c6e7512f);\n",
       "        \n",
       "    \n",
       "        var popup_8b2f6fb5ffa6342f323d5ded1bfa9e49 = L.popup({&quot;maxWidth&quot;: &quot;100%&quot;});\n",
       "\n",
       "        \n",
       "            \n",
       "                var html_59630da220ebcd1dbcbeea286c504002 = $(`&lt;div id=&quot;html_59630da220ebcd1dbcbeea286c504002&quot; style=&quot;width: 100.0%; height: 100.0%;&quot;&gt;Kondeti Chittibabu&lt;/div&gt;`)[0];\n",
       "                popup_8b2f6fb5ffa6342f323d5ded1bfa9e49.setContent(html_59630da220ebcd1dbcbeea286c504002);\n",
       "            \n",
       "        \n",
       "\n",
       "        circle_marker_734550f175b82633ed1c38f16fb685f2.bindPopup(popup_8b2f6fb5ffa6342f323d5ded1bfa9e49)\n",
       "        ;\n",
       "\n",
       "        \n",
       "    \n",
       "    \n",
       "            var circle_marker_9659a92f80ca737d01f15ffe497a8b6f = L.circleMarker(\n",
       "                [16.18463199677441, 80.19830145386466],\n",
       "                {&quot;bubblingMouseEvents&quot;: true, &quot;color&quot;: &quot;crimson&quot;, &quot;dashArray&quot;: null, &quot;dashOffset&quot;: null, &quot;fill&quot;: false, &quot;fillColor&quot;: &quot;crimson&quot;, &quot;fillOpacity&quot;: 0.2, &quot;fillRule&quot;: &quot;evenodd&quot;, &quot;lineCap&quot;: &quot;round&quot;, &quot;lineJoin&quot;: &quot;round&quot;, &quot;opacity&quot;: 1.0, &quot;radius&quot;: 3, &quot;stroke&quot;: true, &quot;weight&quot;: 3}\n",
       "            ).addTo(map_eb4f4f4f5471cbd5cbf59896c6e7512f);\n",
       "        \n",
       "    \n",
       "        var popup_65f4b0bdeb0a2dc821817e4e350abc77 = L.popup({&quot;maxWidth&quot;: &quot;100%&quot;});\n",
       "\n",
       "        \n",
       "            \n",
       "                var html_18a9079f23f7cedd7bd9c7c7b3761c08 = $(`&lt;div id=&quot;html_18a9079f23f7cedd7bd9c7c7b3761c08&quot; style=&quot;width: 100.0%; height: 100.0%;&quot;&gt;Audimulapu Suresh&lt;/div&gt;`)[0];\n",
       "                popup_65f4b0bdeb0a2dc821817e4e350abc77.setContent(html_18a9079f23f7cedd7bd9c7c7b3761c08);\n",
       "            \n",
       "        \n",
       "\n",
       "        circle_marker_9659a92f80ca737d01f15ffe497a8b6f.bindPopup(popup_65f4b0bdeb0a2dc821817e4e350abc77)\n",
       "        ;\n",
       "\n",
       "        \n",
       "    \n",
       "    \n",
       "            var circle_marker_2c579a80371e9d3c5b44ae6f44e57685 = L.circleMarker(\n",
       "                [15.844807719333208, 78.80035578483951],\n",
       "                {&quot;bubblingMouseEvents&quot;: true, &quot;color&quot;: &quot;crimson&quot;, &quot;dashArray&quot;: null, &quot;dashOffset&quot;: null, &quot;fill&quot;: false, &quot;fillColor&quot;: &quot;crimson&quot;, &quot;fillOpacity&quot;: 0.2, &quot;fillRule&quot;: &quot;evenodd&quot;, &quot;lineCap&quot;: &quot;round&quot;, &quot;lineJoin&quot;: &quot;round&quot;, &quot;opacity&quot;: 1.0, &quot;radius&quot;: 3, &quot;stroke&quot;: true, &quot;weight&quot;: 3}\n",
       "            ).addTo(map_eb4f4f4f5471cbd5cbf59896c6e7512f);\n",
       "        \n",
       "    \n",
       "        var popup_10abadc8e4afb10579262a0ccebb3871 = L.popup({&quot;maxWidth&quot;: &quot;100%&quot;});\n",
       "\n",
       "        \n",
       "            \n",
       "                var html_259115ccd3757edce2af210940f0d9ef = $(`&lt;div id=&quot;html_259115ccd3757edce2af210940f0d9ef&quot; style=&quot;width: 100.0%; height: 100.0%;&quot;&gt;Appalanarasayya Botcha&lt;/div&gt;`)[0];\n",
       "                popup_10abadc8e4afb10579262a0ccebb3871.setContent(html_259115ccd3757edce2af210940f0d9ef);\n",
       "            \n",
       "        \n",
       "\n",
       "        circle_marker_2c579a80371e9d3c5b44ae6f44e57685.bindPopup(popup_10abadc8e4afb10579262a0ccebb3871)\n",
       "        ;\n",
       "\n",
       "        \n",
       "    \n",
       "    \n",
       "            var circle_marker_3c5fcab664caad2d5418fe1da8d20baa = L.circleMarker(\n",
       "                [16.642559053238536, 79.14882607737482],\n",
       "                {&quot;bubblingMouseEvents&quot;: true, &quot;color&quot;: &quot;crimson&quot;, &quot;dashArray&quot;: null, &quot;dashOffset&quot;: null, &quot;fill&quot;: false, &quot;fillColor&quot;: &quot;crimson&quot;, &quot;fillOpacity&quot;: 0.2, &quot;fillRule&quot;: &quot;evenodd&quot;, &quot;lineCap&quot;: &quot;round&quot;, &quot;lineJoin&quot;: &quot;round&quot;, &quot;opacity&quot;: 1.0, &quot;radius&quot;: 3, &quot;stroke&quot;: true, &quot;weight&quot;: 3}\n",
       "            ).addTo(map_eb4f4f4f5471cbd5cbf59896c6e7512f);\n",
       "        \n",
       "    \n",
       "        var popup_f20ce9d042d453e1c415171c5dab5c53 = L.popup({&quot;maxWidth&quot;: &quot;100%&quot;});\n",
       "\n",
       "        \n",
       "            \n",
       "                var html_34ef756ca603dd7f2ec893a4209f5a15 = $(`&lt;div id=&quot;html_34ef756ca603dd7f2ec893a4209f5a15&quot; style=&quot;width: 100.0%; height: 100.0%;&quot;&gt;Mudunuri Prasada Raju&lt;/div&gt;`)[0];\n",
       "                popup_f20ce9d042d453e1c415171c5dab5c53.setContent(html_34ef756ca603dd7f2ec893a4209f5a15);\n",
       "            \n",
       "        \n",
       "\n",
       "        circle_marker_3c5fcab664caad2d5418fe1da8d20baa.bindPopup(popup_f20ce9d042d453e1c415171c5dab5c53)\n",
       "        ;\n",
       "\n",
       "        \n",
       "    \n",
       "    \n",
       "            var circle_marker_13c8585fb2a306f8d8fc5d1b7403fe3b = L.circleMarker(\n",
       "                [16.54664501775886, 79.05411683467925],\n",
       "                {&quot;bubblingMouseEvents&quot;: true, &quot;color&quot;: &quot;crimson&quot;, &quot;dashArray&quot;: null, &quot;dashOffset&quot;: null, &quot;fill&quot;: false, &quot;fillColor&quot;: &quot;crimson&quot;, &quot;fillOpacity&quot;: 0.2, &quot;fillRule&quot;: &quot;evenodd&quot;, &quot;lineCap&quot;: &quot;round&quot;, &quot;lineJoin&quot;: &quot;round&quot;, &quot;opacity&quot;: 1.0, &quot;radius&quot;: 3, &quot;stroke&quot;: true, &quot;weight&quot;: 3}\n",
       "            ).addTo(map_eb4f4f4f5471cbd5cbf59896c6e7512f);\n",
       "        \n",
       "    \n",
       "        var popup_d7a3b293d9432512f802c251df2536ef = L.popup({&quot;maxWidth&quot;: &quot;100%&quot;});\n",
       "\n",
       "        \n",
       "            \n",
       "                var html_a3f25f43320f3b46b68722f779501f1c = $(`&lt;div id=&quot;html_a3f25f43320f3b46b68722f779501f1c&quot; style=&quot;width: 100.0%; height: 100.0%;&quot;&gt;Silpa Chakrapani Reddy&lt;/div&gt;`)[0];\n",
       "                popup_d7a3b293d9432512f802c251df2536ef.setContent(html_a3f25f43320f3b46b68722f779501f1c);\n",
       "            \n",
       "        \n",
       "\n",
       "        circle_marker_13c8585fb2a306f8d8fc5d1b7403fe3b.bindPopup(popup_d7a3b293d9432512f802c251df2536ef)\n",
       "        ;\n",
       "\n",
       "        \n",
       "    \n",
       "    \n",
       "            var circle_marker_4f20616d9321db9dce853eaf19319fdd = L.circleMarker(\n",
       "                [16.860425898919875, 79.9464243480024],\n",
       "                {&quot;bubblingMouseEvents&quot;: true, &quot;color&quot;: &quot;crimson&quot;, &quot;dashArray&quot;: null, &quot;dashOffset&quot;: null, &quot;fill&quot;: false, &quot;fillColor&quot;: &quot;crimson&quot;, &quot;fillOpacity&quot;: 0.2, &quot;fillRule&quot;: &quot;evenodd&quot;, &quot;lineCap&quot;: &quot;round&quot;, &quot;lineJoin&quot;: &quot;round&quot;, &quot;opacity&quot;: 1.0, &quot;radius&quot;: 3, &quot;stroke&quot;: true, &quot;weight&quot;: 3}\n",
       "            ).addTo(map_eb4f4f4f5471cbd5cbf59896c6e7512f);\n",
       "        \n",
       "    \n",
       "        var popup_a8132370fe3d7e8249e2cde161f29721 = L.popup({&quot;maxWidth&quot;: &quot;100%&quot;});\n",
       "\n",
       "        \n",
       "            \n",
       "                var html_256d75d409b6cbe79a751b278118889c = $(`&lt;div id=&quot;html_256d75d409b6cbe79a751b278118889c&quot; style=&quot;width: 100.0%; height: 100.0%;&quot;&gt;Pathuri Nagabhushanam&lt;/div&gt;`)[0];\n",
       "                popup_a8132370fe3d7e8249e2cde161f29721.setContent(html_256d75d409b6cbe79a751b278118889c);\n",
       "            \n",
       "        \n",
       "\n",
       "        circle_marker_4f20616d9321db9dce853eaf19319fdd.bindPopup(popup_a8132370fe3d7e8249e2cde161f29721)\n",
       "        ;\n",
       "\n",
       "        \n",
       "    \n",
       "    \n",
       "            var circle_marker_14afd1da75466ba12106bde4a65a7998 = L.circleMarker(\n",
       "                [16.506679540058023, 80.77351819227346],\n",
       "                {&quot;bubblingMouseEvents&quot;: true, &quot;color&quot;: &quot;crimson&quot;, &quot;dashArray&quot;: null, &quot;dashOffset&quot;: null, &quot;fill&quot;: false, &quot;fillColor&quot;: &quot;crimson&quot;, &quot;fillOpacity&quot;: 0.2, &quot;fillRule&quot;: &quot;evenodd&quot;, &quot;lineCap&quot;: &quot;round&quot;, &quot;lineJoin&quot;: &quot;round&quot;, &quot;opacity&quot;: 1.0, &quot;radius&quot;: 3, &quot;stroke&quot;: true, &quot;weight&quot;: 3}\n",
       "            ).addTo(map_eb4f4f4f5471cbd5cbf59896c6e7512f);\n",
       "        \n",
       "    \n",
       "        var popup_761978a464bebc0f55336cbe5b44a2a8 = L.popup({&quot;maxWidth&quot;: &quot;100%&quot;});\n",
       "\n",
       "        \n",
       "            \n",
       "                var html_b59ed88129a8920d61b4f2de01acf602 = $(`&lt;div id=&quot;html_b59ed88129a8920d61b4f2de01acf602&quot; style=&quot;width: 100.0%; height: 100.0%;&quot;&gt;Karanam Dharmasri&lt;/div&gt;`)[0];\n",
       "                popup_761978a464bebc0f55336cbe5b44a2a8.setContent(html_b59ed88129a8920d61b4f2de01acf602);\n",
       "            \n",
       "        \n",
       "\n",
       "        circle_marker_14afd1da75466ba12106bde4a65a7998.bindPopup(popup_761978a464bebc0f55336cbe5b44a2a8)\n",
       "        ;\n",
       "\n",
       "        \n",
       "    \n",
       "    \n",
       "            var circle_marker_4a50542e7337a628c964d80f235286fe = L.circleMarker(\n",
       "                [16.315932298413774, 80.15689659284189],\n",
       "                {&quot;bubblingMouseEvents&quot;: true, &quot;color&quot;: &quot;crimson&quot;, &quot;dashArray&quot;: null, &quot;dashOffset&quot;: null, &quot;fill&quot;: false, &quot;fillColor&quot;: &quot;crimson&quot;, &quot;fillOpacity&quot;: 0.2, &quot;fillRule&quot;: &quot;evenodd&quot;, &quot;lineCap&quot;: &quot;round&quot;, &quot;lineJoin&quot;: &quot;round&quot;, &quot;opacity&quot;: 1.0, &quot;radius&quot;: 3, &quot;stroke&quot;: true, &quot;weight&quot;: 3}\n",
       "            ).addTo(map_eb4f4f4f5471cbd5cbf59896c6e7512f);\n",
       "        \n",
       "    \n",
       "        var popup_3a5dbf2ea3afacbafc5c7aafac69fb47 = L.popup({&quot;maxWidth&quot;: &quot;100%&quot;});\n",
       "\n",
       "        \n",
       "            \n",
       "                var html_5440ef7a35eabdbee87b5119f47e96c9 = $(`&lt;div id=&quot;html_5440ef7a35eabdbee87b5119f47e96c9&quot; style=&quot;width: 100.0%; height: 100.0%;&quot;&gt;Anam Ramanarayana Reddy&lt;/div&gt;`)[0];\n",
       "                popup_3a5dbf2ea3afacbafc5c7aafac69fb47.setContent(html_5440ef7a35eabdbee87b5119f47e96c9);\n",
       "            \n",
       "        \n",
       "\n",
       "        circle_marker_4a50542e7337a628c964d80f235286fe.bindPopup(popup_3a5dbf2ea3afacbafc5c7aafac69fb47)\n",
       "        ;\n",
       "\n",
       "        \n",
       "    \n",
       "    \n",
       "            var circle_marker_45aeb19246c27d93cc62f6a73782adb9 = L.circleMarker(\n",
       "                [16.207894622854617, 80.46920992660529],\n",
       "                {&quot;bubblingMouseEvents&quot;: true, &quot;color&quot;: &quot;crimson&quot;, &quot;dashArray&quot;: null, &quot;dashOffset&quot;: null, &quot;fill&quot;: false, &quot;fillColor&quot;: &quot;crimson&quot;, &quot;fillOpacity&quot;: 0.2, &quot;fillRule&quot;: &quot;evenodd&quot;, &quot;lineCap&quot;: &quot;round&quot;, &quot;lineJoin&quot;: &quot;round&quot;, &quot;opacity&quot;: 1.0, &quot;radius&quot;: 3, &quot;stroke&quot;: true, &quot;weight&quot;: 3}\n",
       "            ).addTo(map_eb4f4f4f5471cbd5cbf59896c6e7512f);\n",
       "        \n",
       "    \n",
       "        var popup_9fc01776cf5eeeab66e0072e0ed8e287 = L.popup({&quot;maxWidth&quot;: &quot;100%&quot;});\n",
       "\n",
       "        \n",
       "            \n",
       "                var html_096b18da8710c0faf054b9bd7b699662 = $(`&lt;div id=&quot;html_096b18da8710c0faf054b9bd7b699662&quot; style=&quot;width: 100.0%; height: 100.0%;&quot;&gt;Budi Mutyalanaidu&lt;/div&gt;`)[0];\n",
       "                popup_9fc01776cf5eeeab66e0072e0ed8e287.setContent(html_096b18da8710c0faf054b9bd7b699662);\n",
       "            \n",
       "        \n",
       "\n",
       "        circle_marker_45aeb19246c27d93cc62f6a73782adb9.bindPopup(popup_9fc01776cf5eeeab66e0072e0ed8e287)\n",
       "        ;\n",
       "\n",
       "        \n",
       "    \n",
       "    \n",
       "            var circle_marker_6eb2e9062d544ef41c86b59afa71ce79 = L.circleMarker(\n",
       "                [15.38008015244044, 79.2740719569883],\n",
       "                {&quot;bubblingMouseEvents&quot;: true, &quot;color&quot;: &quot;crimson&quot;, &quot;dashArray&quot;: null, &quot;dashOffset&quot;: null, &quot;fill&quot;: false, &quot;fillColor&quot;: &quot;crimson&quot;, &quot;fillOpacity&quot;: 0.2, &quot;fillRule&quot;: &quot;evenodd&quot;, &quot;lineCap&quot;: &quot;round&quot;, &quot;lineJoin&quot;: &quot;round&quot;, &quot;opacity&quot;: 1.0, &quot;radius&quot;: 3, &quot;stroke&quot;: true, &quot;weight&quot;: 3}\n",
       "            ).addTo(map_eb4f4f4f5471cbd5cbf59896c6e7512f);\n",
       "        \n",
       "    \n",
       "        var popup_ed792d68b6aa4c291947d31abf625f32 = L.popup({&quot;maxWidth&quot;: &quot;100%&quot;});\n",
       "\n",
       "        \n",
       "            \n",
       "                var html_114200816d98dea3df4bc04c98a695e1 = $(`&lt;div id=&quot;html_114200816d98dea3df4bc04c98a695e1&quot; style=&quot;width: 100.0%; height: 100.0%;&quot;&gt;Abbaya Chowdary Kothari&lt;/div&gt;`)[0];\n",
       "                popup_ed792d68b6aa4c291947d31abf625f32.setContent(html_114200816d98dea3df4bc04c98a695e1);\n",
       "            \n",
       "        \n",
       "\n",
       "        circle_marker_6eb2e9062d544ef41c86b59afa71ce79.bindPopup(popup_ed792d68b6aa4c291947d31abf625f32)\n",
       "        ;\n",
       "\n",
       "        \n",
       "    \n",
       "    \n",
       "            var circle_marker_34e4402d783c40abdc64fd2afd635d69 = L.circleMarker(\n",
       "                [16.307005947589776, 79.66985506775751],\n",
       "                {&quot;bubblingMouseEvents&quot;: true, &quot;color&quot;: &quot;crimson&quot;, &quot;dashArray&quot;: null, &quot;dashOffset&quot;: null, &quot;fill&quot;: false, &quot;fillColor&quot;: &quot;crimson&quot;, &quot;fillOpacity&quot;: 0.2, &quot;fillRule&quot;: &quot;evenodd&quot;, &quot;lineCap&quot;: &quot;round&quot;, &quot;lineJoin&quot;: &quot;round&quot;, &quot;opacity&quot;: 1.0, &quot;radius&quot;: 3, &quot;stroke&quot;: true, &quot;weight&quot;: 3}\n",
       "            ).addTo(map_eb4f4f4f5471cbd5cbf59896c6e7512f);\n",
       "        \n",
       "    \n",
       "        var popup_9f56c97b279c8f0d8a6a82b0d0816188 = L.popup({&quot;maxWidth&quot;: &quot;100%&quot;});\n",
       "\n",
       "        \n",
       "            \n",
       "                var html_6d4a471001e2a07ef009f5ca80b8a91c = $(`&lt;div id=&quot;html_6d4a471001e2a07ef009f5ca80b8a91c&quot; style=&quot;width: 100.0%; height: 100.0%;&quot;&gt;Bellana Chandra Sekhar&lt;/div&gt;`)[0];\n",
       "                popup_9f56c97b279c8f0d8a6a82b0d0816188.setContent(html_6d4a471001e2a07ef009f5ca80b8a91c);\n",
       "            \n",
       "        \n",
       "\n",
       "        circle_marker_34e4402d783c40abdc64fd2afd635d69.bindPopup(popup_9f56c97b279c8f0d8a6a82b0d0816188)\n",
       "        ;\n",
       "\n",
       "        \n",
       "    \n",
       "    \n",
       "            var circle_marker_ac37d96a95d4dec97f426b7a252ec70a = L.circleMarker(\n",
       "                [14.959270753446642, 78.43443195543155],\n",
       "                {&quot;bubblingMouseEvents&quot;: true, &quot;color&quot;: &quot;crimson&quot;, &quot;dashArray&quot;: null, &quot;dashOffset&quot;: null, &quot;fill&quot;: false, &quot;fillColor&quot;: &quot;crimson&quot;, &quot;fillOpacity&quot;: 0.2, &quot;fillRule&quot;: &quot;evenodd&quot;, &quot;lineCap&quot;: &quot;round&quot;, &quot;lineJoin&quot;: &quot;round&quot;, &quot;opacity&quot;: 1.0, &quot;radius&quot;: 3, &quot;stroke&quot;: true, &quot;weight&quot;: 3}\n",
       "            ).addTo(map_eb4f4f4f5471cbd5cbf59896c6e7512f);\n",
       "        \n",
       "    \n",
       "        var popup_7a5e8645f51916c694017b44bb1118e5 = L.popup({&quot;maxWidth&quot;: &quot;100%&quot;});\n",
       "\n",
       "        \n",
       "            \n",
       "                var html_615022a1c05c019ede6b8ffb9695a8b9 = $(`&lt;div id=&quot;html_615022a1c05c019ede6b8ffb9695a8b9&quot; style=&quot;width: 100.0%; height: 100.0%;&quot;&gt;Gorle Kiran Kumar&lt;/div&gt;`)[0];\n",
       "                popup_7a5e8645f51916c694017b44bb1118e5.setContent(html_615022a1c05c019ede6b8ffb9695a8b9);\n",
       "            \n",
       "        \n",
       "\n",
       "        circle_marker_ac37d96a95d4dec97f426b7a252ec70a.bindPopup(popup_7a5e8645f51916c694017b44bb1118e5)\n",
       "        ;\n",
       "\n",
       "        \n",
       "    \n",
       "    \n",
       "            var circle_marker_3950f888f8a6dd39f7649b550f8ad7e4 = L.circleMarker(\n",
       "                [15.52071854266554, 79.42258956376278],\n",
       "                {&quot;bubblingMouseEvents&quot;: true, &quot;color&quot;: &quot;crimson&quot;, &quot;dashArray&quot;: null, &quot;dashOffset&quot;: null, &quot;fill&quot;: false, &quot;fillColor&quot;: &quot;crimson&quot;, &quot;fillOpacity&quot;: 0.2, &quot;fillRule&quot;: &quot;evenodd&quot;, &quot;lineCap&quot;: &quot;round&quot;, &quot;lineJoin&quot;: &quot;round&quot;, &quot;opacity&quot;: 1.0, &quot;radius&quot;: 3, &quot;stroke&quot;: true, &quot;weight&quot;: 3}\n",
       "            ).addTo(map_eb4f4f4f5471cbd5cbf59896c6e7512f);\n",
       "        \n",
       "    \n",
       "        var popup_9e7207203ee7fe3e20e90161de0c00a6 = L.popup({&quot;maxWidth&quot;: &quot;100%&quot;});\n",
       "\n",
       "        \n",
       "            \n",
       "                var html_901586a917973e626125c09b553be02c = $(`&lt;div id=&quot;html_901586a917973e626125c09b553be02c&quot; style=&quot;width: 100.0%; height: 100.0%;&quot;&gt;Chetti Palguna&lt;/div&gt;`)[0];\n",
       "                popup_9e7207203ee7fe3e20e90161de0c00a6.setContent(html_901586a917973e626125c09b553be02c);\n",
       "            \n",
       "        \n",
       "\n",
       "        circle_marker_3950f888f8a6dd39f7649b550f8ad7e4.bindPopup(popup_9e7207203ee7fe3e20e90161de0c00a6)\n",
       "        ;\n",
       "\n",
       "        \n",
       "    \n",
       "    \n",
       "            var circle_marker_41fef0725cc7f857a6923e39a7eb6769 = L.circleMarker(\n",
       "                [15.431585517305026, 78.38915505608179],\n",
       "                {&quot;bubblingMouseEvents&quot;: true, &quot;color&quot;: &quot;crimson&quot;, &quot;dashArray&quot;: null, &quot;dashOffset&quot;: null, &quot;fill&quot;: false, &quot;fillColor&quot;: &quot;crimson&quot;, &quot;fillOpacity&quot;: 0.2, &quot;fillRule&quot;: &quot;evenodd&quot;, &quot;lineCap&quot;: &quot;round&quot;, &quot;lineJoin&quot;: &quot;round&quot;, &quot;opacity&quot;: 1.0, &quot;radius&quot;: 3, &quot;stroke&quot;: true, &quot;weight&quot;: 3}\n",
       "            ).addTo(map_eb4f4f4f5471cbd5cbf59896c6e7512f);\n",
       "        \n",
       "    \n",
       "        var popup_450643631d0f9f7445b9a75e22c95b4b = L.popup({&quot;maxWidth&quot;: &quot;100%&quot;});\n",
       "\n",
       "        \n",
       "            \n",
       "                var html_a20defacb7d0f21edd389946ccb8e0dc = $(`&lt;div id=&quot;html_a20defacb7d0f21edd389946ccb8e0dc&quot; style=&quot;width: 100.0%; height: 100.0%;&quot;&gt;Pinipe Viswarup&lt;/div&gt;`)[0];\n",
       "                popup_450643631d0f9f7445b9a75e22c95b4b.setContent(html_a20defacb7d0f21edd389946ccb8e0dc);\n",
       "            \n",
       "        \n",
       "\n",
       "        circle_marker_41fef0725cc7f857a6923e39a7eb6769.bindPopup(popup_450643631d0f9f7445b9a75e22c95b4b)\n",
       "        ;\n",
       "\n",
       "        \n",
       "    \n",
       "    \n",
       "            var circle_marker_792387848fd309e95625d75b4f2bdf34 = L.circleMarker(\n",
       "                [16.658819011199075, 79.40129101202068],\n",
       "                {&quot;bubblingMouseEvents&quot;: true, &quot;color&quot;: &quot;crimson&quot;, &quot;dashArray&quot;: null, &quot;dashOffset&quot;: null, &quot;fill&quot;: false, &quot;fillColor&quot;: &quot;crimson&quot;, &quot;fillOpacity&quot;: 0.2, &quot;fillRule&quot;: &quot;evenodd&quot;, &quot;lineCap&quot;: &quot;round&quot;, &quot;lineJoin&quot;: &quot;round&quot;, &quot;opacity&quot;: 1.0, &quot;radius&quot;: 3, &quot;stroke&quot;: true, &quot;weight&quot;: 3}\n",
       "            ).addTo(map_eb4f4f4f5471cbd5cbf59896c6e7512f);\n",
       "        \n",
       "    \n",
       "        var popup_4345e65756680a0c47523b6385631816 = L.popup({&quot;maxWidth&quot;: &quot;100%&quot;});\n",
       "\n",
       "        \n",
       "            \n",
       "                var html_2f40558c8b094fb94fe8096f8fa89afe = $(`&lt;div id=&quot;html_2f40558c8b094fb94fe8096f8fa89afe&quot; style=&quot;width: 100.0%; height: 100.0%;&quot;&gt;Cherukuvada Sri Ranganadha Raju&lt;/div&gt;`)[0];\n",
       "                popup_4345e65756680a0c47523b6385631816.setContent(html_2f40558c8b094fb94fe8096f8fa89afe);\n",
       "            \n",
       "        \n",
       "\n",
       "        circle_marker_792387848fd309e95625d75b4f2bdf34.bindPopup(popup_4345e65756680a0c47523b6385631816)\n",
       "        ;\n",
       "\n",
       "        \n",
       "    \n",
       "    \n",
       "            var circle_marker_96c9b060ec7a4c45227850de81cd88dc = L.circleMarker(\n",
       "                [15.98603045554459, 79.14837517040446],\n",
       "                {&quot;bubblingMouseEvents&quot;: true, &quot;color&quot;: &quot;crimson&quot;, &quot;dashArray&quot;: null, &quot;dashOffset&quot;: null, &quot;fill&quot;: false, &quot;fillColor&quot;: &quot;crimson&quot;, &quot;fillOpacity&quot;: 0.2, &quot;fillRule&quot;: &quot;evenodd&quot;, &quot;lineCap&quot;: &quot;round&quot;, &quot;lineJoin&quot;: &quot;round&quot;, &quot;opacity&quot;: 1.0, &quot;radius&quot;: 3, &quot;stroke&quot;: true, &quot;weight&quot;: 3}\n",
       "            ).addTo(map_eb4f4f4f5471cbd5cbf59896c6e7512f);\n",
       "        \n",
       "    \n",
       "        var popup_23d5b57c4d0d9dc1c20406e959f85c7f = L.popup({&quot;maxWidth&quot;: &quot;100%&quot;});\n",
       "\n",
       "        \n",
       "            \n",
       "                var html_8a03ecedb26ccbf1b4dd6cf197a14ee9 = $(`&lt;div id=&quot;html_8a03ecedb26ccbf1b4dd6cf197a14ee9&quot; style=&quot;width: 100.0%; height: 100.0%;&quot;&gt;Dasari Sudha&lt;/div&gt;`)[0];\n",
       "                popup_23d5b57c4d0d9dc1c20406e959f85c7f.setContent(html_8a03ecedb26ccbf1b4dd6cf197a14ee9);\n",
       "            \n",
       "        \n",
       "\n",
       "        circle_marker_96c9b060ec7a4c45227850de81cd88dc.bindPopup(popup_23d5b57c4d0d9dc1c20406e959f85c7f)\n",
       "        ;\n",
       "\n",
       "        \n",
       "    \n",
       "    \n",
       "            var circle_marker_17c6030c13f3da00b956578475aa0918 = L.circleMarker(\n",
       "                [15.159408612266432, 78.61722471014657],\n",
       "                {&quot;bubblingMouseEvents&quot;: true, &quot;color&quot;: &quot;crimson&quot;, &quot;dashArray&quot;: null, &quot;dashOffset&quot;: null, &quot;fill&quot;: false, &quot;fillColor&quot;: &quot;crimson&quot;, &quot;fillOpacity&quot;: 0.2, &quot;fillRule&quot;: &quot;evenodd&quot;, &quot;lineCap&quot;: &quot;round&quot;, &quot;lineJoin&quot;: &quot;round&quot;, &quot;opacity&quot;: 1.0, &quot;radius&quot;: 3, &quot;stroke&quot;: true, &quot;weight&quot;: 3}\n",
       "            ).addTo(map_eb4f4f4f5471cbd5cbf59896c6e7512f);\n",
       "        \n",
       "    \n",
       "        var popup_8df6f9eea2f61d478e0ce84194b4845d = L.popup({&quot;maxWidth&quot;: &quot;100%&quot;});\n",
       "\n",
       "        \n",
       "            \n",
       "                var html_cf967273f7bf8d1a44ec18308ae10d0f = $(`&lt;div id=&quot;html_cf967273f7bf8d1a44ec18308ae10d0f&quot; style=&quot;width: 100.0%; height: 100.0%;&quot;&gt;Chinta Anuradha&lt;/div&gt;`)[0];\n",
       "                popup_8df6f9eea2f61d478e0ce84194b4845d.setContent(html_cf967273f7bf8d1a44ec18308ae10d0f);\n",
       "            \n",
       "        \n",
       "\n",
       "        circle_marker_17c6030c13f3da00b956578475aa0918.bindPopup(popup_8df6f9eea2f61d478e0ce84194b4845d)\n",
       "        ;\n",
       "\n",
       "        \n",
       "    \n",
       "    \n",
       "            var circle_marker_ee3d86883379f54c9eafc4ebbb615d3a = L.circleMarker(\n",
       "                [16.7158684780737, 81.15912856701208],\n",
       "                {&quot;bubblingMouseEvents&quot;: true, &quot;color&quot;: &quot;crimson&quot;, &quot;dashArray&quot;: null, &quot;dashOffset&quot;: null, &quot;fill&quot;: false, &quot;fillColor&quot;: &quot;crimson&quot;, &quot;fillOpacity&quot;: 0.2, &quot;fillRule&quot;: &quot;evenodd&quot;, &quot;lineCap&quot;: &quot;round&quot;, &quot;lineJoin&quot;: &quot;round&quot;, &quot;opacity&quot;: 1.0, &quot;radius&quot;: 3, &quot;stroke&quot;: true, &quot;weight&quot;: 3}\n",
       "            ).addTo(map_eb4f4f4f5471cbd5cbf59896c6e7512f);\n",
       "        \n",
       "    \n",
       "        var popup_3307a5250bcb3b94cbf2260f711db074 = L.popup({&quot;maxWidth&quot;: &quot;100%&quot;});\n",
       "\n",
       "        \n",
       "            \n",
       "                var html_eda957febb6aa5f0ea8797ad1cd95a91 = $(`&lt;div id=&quot;html_eda957febb6aa5f0ea8797ad1cd95a91&quot; style=&quot;width: 100.0%; height: 100.0%;&quot;&gt;Kanumuru Raghu Rama Krishna Raju&lt;/div&gt;`)[0];\n",
       "                popup_3307a5250bcb3b94cbf2260f711db074.setContent(html_eda957febb6aa5f0ea8797ad1cd95a91);\n",
       "            \n",
       "        \n",
       "\n",
       "        circle_marker_ee3d86883379f54c9eafc4ebbb615d3a.bindPopup(popup_3307a5250bcb3b94cbf2260f711db074)\n",
       "        ;\n",
       "\n",
       "        \n",
       "    \n",
       "    \n",
       "            var circle_marker_6195c88052400aaaf072be6deb9fbe9e = L.circleMarker(\n",
       "                [16.852090113977738, 80.56506191459518],\n",
       "                {&quot;bubblingMouseEvents&quot;: true, &quot;color&quot;: &quot;crimson&quot;, &quot;dashArray&quot;: null, &quot;dashOffset&quot;: null, &quot;fill&quot;: false, &quot;fillColor&quot;: &quot;crimson&quot;, &quot;fillOpacity&quot;: 0.2, &quot;fillRule&quot;: &quot;evenodd&quot;, &quot;lineCap&quot;: &quot;round&quot;, &quot;lineJoin&quot;: &quot;round&quot;, &quot;opacity&quot;: 1.0, &quot;radius&quot;: 3, &quot;stroke&quot;: true, &quot;weight&quot;: 3}\n",
       "            ).addTo(map_eb4f4f4f5471cbd5cbf59896c6e7512f);\n",
       "        \n",
       "    \n",
       "        var popup_b303b5c21f9195cf8d9da56635d7c767 = L.popup({&quot;maxWidth&quot;: &quot;100%&quot;});\n",
       "\n",
       "        \n",
       "            \n",
       "                var html_703b651dedb706bcdfe61e93b002559f = $(`&lt;div id=&quot;html_703b651dedb706bcdfe61e93b002559f&quot; style=&quot;width: 100.0%; height: 100.0%;&quot;&gt;Mekathoti Sucharita&lt;/div&gt;`)[0];\n",
       "                popup_b303b5c21f9195cf8d9da56635d7c767.setContent(html_703b651dedb706bcdfe61e93b002559f);\n",
       "            \n",
       "        \n",
       "\n",
       "        circle_marker_6195c88052400aaaf072be6deb9fbe9e.bindPopup(popup_b303b5c21f9195cf8d9da56635d7c767)\n",
       "        ;\n",
       "\n",
       "        \n",
       "    \n",
       "    \n",
       "            var circle_marker_a9f6dcbc66af3055fbd4c405c0d11fc7 = L.circleMarker(\n",
       "                [15.3402864344581, 78.89023827781544],\n",
       "                {&quot;bubblingMouseEvents&quot;: true, &quot;color&quot;: &quot;crimson&quot;, &quot;dashArray&quot;: null, &quot;dashOffset&quot;: null, &quot;fill&quot;: false, &quot;fillColor&quot;: &quot;crimson&quot;, &quot;fillOpacity&quot;: 0.2, &quot;fillRule&quot;: &quot;evenodd&quot;, &quot;lineCap&quot;: &quot;round&quot;, &quot;lineJoin&quot;: &quot;round&quot;, &quot;opacity&quot;: 1.0, &quot;radius&quot;: 3, &quot;stroke&quot;: true, &quot;weight&quot;: 3}\n",
       "            ).addTo(map_eb4f4f4f5471cbd5cbf59896c6e7512f);\n",
       "        \n",
       "    \n",
       "        var popup_44274d4fc097aa0b14fab2c50d506eb0 = L.popup({&quot;maxWidth&quot;: &quot;100%&quot;});\n",
       "\n",
       "        \n",
       "            \n",
       "                var html_bebadc71ba5e2687dbcd32da5c243ccd = $(`&lt;div id=&quot;html_bebadc71ba5e2687dbcd32da5c243ccd&quot; style=&quot;width: 100.0%; height: 100.0%;&quot;&gt;Sanjeev Kuma&lt;/div&gt;`)[0];\n",
       "                popup_44274d4fc097aa0b14fab2c50d506eb0.setContent(html_bebadc71ba5e2687dbcd32da5c243ccd);\n",
       "            \n",
       "        \n",
       "\n",
       "        circle_marker_a9f6dcbc66af3055fbd4c405c0d11fc7.bindPopup(popup_44274d4fc097aa0b14fab2c50d506eb0)\n",
       "        ;\n",
       "\n",
       "        \n",
       "    \n",
       "    \n",
       "            var circle_marker_e61464984eb9335212227cfefa8c02d7 = L.circleMarker(\n",
       "                [16.296627282359967, 79.74515087678607],\n",
       "                {&quot;bubblingMouseEvents&quot;: true, &quot;color&quot;: &quot;crimson&quot;, &quot;dashArray&quot;: null, &quot;dashOffset&quot;: null, &quot;fill&quot;: false, &quot;fillColor&quot;: &quot;crimson&quot;, &quot;fillOpacity&quot;: 0.2, &quot;fillRule&quot;: &quot;evenodd&quot;, &quot;lineCap&quot;: &quot;round&quot;, &quot;lineJoin&quot;: &quot;round&quot;, &quot;opacity&quot;: 1.0, &quot;radius&quot;: 3, &quot;stroke&quot;: true, &quot;weight&quot;: 3}\n",
       "            ).addTo(map_eb4f4f4f5471cbd5cbf59896c6e7512f);\n",
       "        \n",
       "    \n",
       "        var popup_c43bd7d42a11f49793de155c7de9ae54 = L.popup({&quot;maxWidth&quot;: &quot;100%&quot;});\n",
       "\n",
       "        \n",
       "            \n",
       "                var html_de95e32069db80828ceca37a615468af = $(`&lt;div id=&quot;html_de95e32069db80828ceca37a615468af&quot; style=&quot;width: 100.0%; height: 100.0%;&quot;&gt;Ramakrishna Babu Velagapudi&lt;/div&gt;`)[0];\n",
       "                popup_c43bd7d42a11f49793de155c7de9ae54.setContent(html_de95e32069db80828ceca37a615468af);\n",
       "            \n",
       "        \n",
       "\n",
       "        circle_marker_e61464984eb9335212227cfefa8c02d7.bindPopup(popup_c43bd7d42a11f49793de155c7de9ae54)\n",
       "        ;\n",
       "\n",
       "        \n",
       "    \n",
       "    \n",
       "            var circle_marker_7c7acf26a212d427c74e89213ceaccc2 = L.circleMarker(\n",
       "                [16.21240050674816, 80.90768637373864],\n",
       "                {&quot;bubblingMouseEvents&quot;: true, &quot;color&quot;: &quot;crimson&quot;, &quot;dashArray&quot;: null, &quot;dashOffset&quot;: null, &quot;fill&quot;: false, &quot;fillColor&quot;: &quot;crimson&quot;, &quot;fillOpacity&quot;: 0.2, &quot;fillRule&quot;: &quot;evenodd&quot;, &quot;lineCap&quot;: &quot;round&quot;, &quot;lineJoin&quot;: &quot;round&quot;, &quot;opacity&quot;: 1.0, &quot;radius&quot;: 3, &quot;stroke&quot;: true, &quot;weight&quot;: 3}\n",
       "            ).addTo(map_eb4f4f4f5471cbd5cbf59896c6e7512f);\n",
       "        \n",
       "    \n",
       "        var popup_8d06935d26faf463d935f381d00b7261 = L.popup({&quot;maxWidth&quot;: &quot;100%&quot;});\n",
       "\n",
       "        \n",
       "            \n",
       "                var html_7d1d881f7b6a9743abcf61a4f57f4cd2 = $(`&lt;div id=&quot;html_7d1d881f7b6a9743abcf61a4f57f4cd2&quot; style=&quot;width: 100.0%; height: 100.0%;&quot;&gt;SUNDARAPU VIJAY KUMAR&lt;/div&gt;`)[0];\n",
       "                popup_8d06935d26faf463d935f381d00b7261.setContent(html_7d1d881f7b6a9743abcf61a4f57f4cd2);\n",
       "            \n",
       "        \n",
       "\n",
       "        circle_marker_7c7acf26a212d427c74e89213ceaccc2.bindPopup(popup_8d06935d26faf463d935f381d00b7261)\n",
       "        ;\n",
       "\n",
       "        \n",
       "    \n",
       "    \n",
       "            var circle_marker_7597c004fa07b9d4827f8d8124e4a7c8 = L.circleMarker(\n",
       "                [15.046525073007867, 78.56943526078108],\n",
       "                {&quot;bubblingMouseEvents&quot;: true, &quot;color&quot;: &quot;crimson&quot;, &quot;dashArray&quot;: null, &quot;dashOffset&quot;: null, &quot;fill&quot;: false, &quot;fillColor&quot;: &quot;crimson&quot;, &quot;fillOpacity&quot;: 0.2, &quot;fillRule&quot;: &quot;evenodd&quot;, &quot;lineCap&quot;: &quot;round&quot;, &quot;lineJoin&quot;: &quot;round&quot;, &quot;opacity&quot;: 1.0, &quot;radius&quot;: 3, &quot;stroke&quot;: true, &quot;weight&quot;: 3}\n",
       "            ).addTo(map_eb4f4f4f5471cbd5cbf59896c6e7512f);\n",
       "        \n",
       "    \n",
       "        var popup_ae93ee05a3a019e25256822059084698 = L.popup({&quot;maxWidth&quot;: &quot;100%&quot;});\n",
       "\n",
       "        \n",
       "            \n",
       "                var html_6b5ea89be02eca9f81b5d48f8b8b331d = $(`&lt;div id=&quot;html_6b5ea89be02eca9f81b5d48f8b8b331d&quot; style=&quot;width: 100.0%; height: 100.0%;&quot;&gt;Mantena Ramaraju&lt;/div&gt;`)[0];\n",
       "                popup_ae93ee05a3a019e25256822059084698.setContent(html_6b5ea89be02eca9f81b5d48f8b8b331d);\n",
       "            \n",
       "        \n",
       "\n",
       "        circle_marker_7597c004fa07b9d4827f8d8124e4a7c8.bindPopup(popup_ae93ee05a3a019e25256822059084698)\n",
       "        ;\n",
       "\n",
       "        \n",
       "    \n",
       "    \n",
       "            var circle_marker_0ab8cc99767af77e61776022b6c53d59 = L.circleMarker(\n",
       "                [16.105132014529367, 79.31487414184151],\n",
       "                {&quot;bubblingMouseEvents&quot;: true, &quot;color&quot;: &quot;crimson&quot;, &quot;dashArray&quot;: null, &quot;dashOffset&quot;: null, &quot;fill&quot;: false, &quot;fillColor&quot;: &quot;crimson&quot;, &quot;fillOpacity&quot;: 0.2, &quot;fillRule&quot;: &quot;evenodd&quot;, &quot;lineCap&quot;: &quot;round&quot;, &quot;lineJoin&quot;: &quot;round&quot;, &quot;opacity&quot;: 1.0, &quot;radius&quot;: 3, &quot;stroke&quot;: true, &quot;weight&quot;: 3}\n",
       "            ).addTo(map_eb4f4f4f5471cbd5cbf59896c6e7512f);\n",
       "        \n",
       "    \n",
       "        var popup_34c1a58c1dc207f585e4d1263d85b083 = L.popup({&quot;maxWidth&quot;: &quot;100%&quot;});\n",
       "\n",
       "        \n",
       "            \n",
       "                var html_776829ac8c37eb17fff1b49ec5414175 = $(`&lt;div id=&quot;html_776829ac8c37eb17fff1b49ec5414175&quot; style=&quot;width: 100.0%; height: 100.0%;&quot;&gt;M.V.V.Satyanarayana&lt;/div&gt;`)[0];\n",
       "                popup_34c1a58c1dc207f585e4d1263d85b083.setContent(html_776829ac8c37eb17fff1b49ec5414175);\n",
       "            \n",
       "        \n",
       "\n",
       "        circle_marker_0ab8cc99767af77e61776022b6c53d59.bindPopup(popup_34c1a58c1dc207f585e4d1263d85b083)\n",
       "        ;\n",
       "\n",
       "        \n",
       "    \n",
       "    \n",
       "            var circle_marker_4c8fbc149ceaec968f98cb2e6b559b63 = L.circleMarker(\n",
       "                [15.690784565275637, 78.5359980615235],\n",
       "                {&quot;bubblingMouseEvents&quot;: true, &quot;color&quot;: &quot;crimson&quot;, &quot;dashArray&quot;: null, &quot;dashOffset&quot;: null, &quot;fill&quot;: false, &quot;fillColor&quot;: &quot;crimson&quot;, &quot;fillOpacity&quot;: 0.2, &quot;fillRule&quot;: &quot;evenodd&quot;, &quot;lineCap&quot;: &quot;round&quot;, &quot;lineJoin&quot;: &quot;round&quot;, &quot;opacity&quot;: 1.0, &quot;radius&quot;: 3, &quot;stroke&quot;: true, &quot;weight&quot;: 3}\n",
       "            ).addTo(map_eb4f4f4f5471cbd5cbf59896c6e7512f);\n",
       "        \n",
       "    \n",
       "        var popup_7953be728ece382778374d4db690ecfc = L.popup({&quot;maxWidth&quot;: &quot;100%&quot;});\n",
       "\n",
       "        \n",
       "            \n",
       "                var html_8f052dbd71bc10279b20e883b354484d = $(`&lt;div id=&quot;html_8f052dbd71bc10279b20e883b354484d&quot; style=&quot;width: 100.0%; height: 100.0%;&quot;&gt;Vundavalli Sridevi&lt;/div&gt;`)[0];\n",
       "                popup_7953be728ece382778374d4db690ecfc.setContent(html_8f052dbd71bc10279b20e883b354484d);\n",
       "            \n",
       "        \n",
       "\n",
       "        circle_marker_4c8fbc149ceaec968f98cb2e6b559b63.bindPopup(popup_7953be728ece382778374d4db690ecfc)\n",
       "        ;\n",
       "\n",
       "        \n",
       "    \n",
       "    \n",
       "            var circle_marker_a4fa5315aa0e5559ac79eee82fb2caf9 = L.circleMarker(\n",
       "                [16.448210655374183, 79.45803202548053],\n",
       "                {&quot;bubblingMouseEvents&quot;: true, &quot;color&quot;: &quot;crimson&quot;, &quot;dashArray&quot;: null, &quot;dashOffset&quot;: null, &quot;fill&quot;: false, &quot;fillColor&quot;: &quot;crimson&quot;, &quot;fillOpacity&quot;: 0.2, &quot;fillRule&quot;: &quot;evenodd&quot;, &quot;lineCap&quot;: &quot;round&quot;, &quot;lineJoin&quot;: &quot;round&quot;, &quot;opacity&quot;: 1.0, &quot;radius&quot;: 3, &quot;stroke&quot;: true, &quot;weight&quot;: 3}\n",
       "            ).addTo(map_eb4f4f4f5471cbd5cbf59896c6e7512f);\n",
       "        \n",
       "    \n",
       "        var popup_ceb5d2720b3378319c5f38e429c7cffd = L.popup({&quot;maxWidth&quot;: &quot;100%&quot;});\n",
       "\n",
       "        \n",
       "            \n",
       "                var html_9a3a7a2f18162736545ef3481ec722d9 = $(`&lt;div id=&quot;html_9a3a7a2f18162736545ef3481ec722d9&quot; style=&quot;width: 100.0%; height: 100.0%;&quot;&gt;Kotamreddy Sridhar Reddy&lt;/div&gt;`)[0];\n",
       "                popup_ceb5d2720b3378319c5f38e429c7cffd.setContent(html_9a3a7a2f18162736545ef3481ec722d9);\n",
       "            \n",
       "        \n",
       "\n",
       "        circle_marker_a4fa5315aa0e5559ac79eee82fb2caf9.bindPopup(popup_ceb5d2720b3378319c5f38e429c7cffd)\n",
       "        ;\n",
       "\n",
       "        \n",
       "    \n",
       "    \n",
       "            var circle_marker_6d9cfbaf452b4296e850656db7f96fbb = L.circleMarker(\n",
       "                [16.991736804806514, 80.03709297439435],\n",
       "                {&quot;bubblingMouseEvents&quot;: true, &quot;color&quot;: &quot;crimson&quot;, &quot;dashArray&quot;: null, &quot;dashOffset&quot;: null, &quot;fill&quot;: false, &quot;fillColor&quot;: &quot;crimson&quot;, &quot;fillOpacity&quot;: 0.2, &quot;fillRule&quot;: &quot;evenodd&quot;, &quot;lineCap&quot;: &quot;round&quot;, &quot;lineJoin&quot;: &quot;round&quot;, &quot;opacity&quot;: 1.0, &quot;radius&quot;: 3, &quot;stroke&quot;: true, &quot;weight&quot;: 3}\n",
       "            ).addTo(map_eb4f4f4f5471cbd5cbf59896c6e7512f);\n",
       "        \n",
       "    \n",
       "        var popup_24d260294d8f65332255c176ff04d6a0 = L.popup({&quot;maxWidth&quot;: &quot;100%&quot;});\n",
       "\n",
       "        \n",
       "            \n",
       "                var html_84fbe1835c8d774ae8c4ae94802ae264 = $(`&lt;div id=&quot;html_84fbe1835c8d774ae8c4ae94802ae264&quot; style=&quot;width: 100.0%; height: 100.0%;&quot;&gt;Bolla Brahma Naidu&lt;/div&gt;`)[0];\n",
       "                popup_24d260294d8f65332255c176ff04d6a0.setContent(html_84fbe1835c8d774ae8c4ae94802ae264);\n",
       "            \n",
       "        \n",
       "\n",
       "        circle_marker_6d9cfbaf452b4296e850656db7f96fbb.bindPopup(popup_24d260294d8f65332255c176ff04d6a0)\n",
       "        ;\n",
       "\n",
       "        \n",
       "    \n",
       "    \n",
       "            var circle_marker_ff4e3a1f4f97ad4261cd1e58a8945d91 = L.circleMarker(\n",
       "                [17.21423453022991, 79.65738986845653],\n",
       "                {&quot;bubblingMouseEvents&quot;: true, &quot;color&quot;: &quot;crimson&quot;, &quot;dashArray&quot;: null, &quot;dashOffset&quot;: null, &quot;fill&quot;: false, &quot;fillColor&quot;: &quot;crimson&quot;, &quot;fillOpacity&quot;: 0.2, &quot;fillRule&quot;: &quot;evenodd&quot;, &quot;lineCap&quot;: &quot;round&quot;, &quot;lineJoin&quot;: &quot;round&quot;, &quot;opacity&quot;: 1.0, &quot;radius&quot;: 3, &quot;stroke&quot;: true, &quot;weight&quot;: 3}\n",
       "            ).addTo(map_eb4f4f4f5471cbd5cbf59896c6e7512f);\n",
       "        \n",
       "    \n",
       "        var popup_58a6ceb9c172dc09d3fd7b1c02af7ebb = L.popup({&quot;maxWidth&quot;: &quot;100%&quot;});\n",
       "\n",
       "        \n",
       "            \n",
       "                var html_710b340426811f24b20de790257fbc3d = $(`&lt;div id=&quot;html_710b340426811f24b20de790257fbc3d&quot; style=&quot;width: 100.0%; height: 100.0%;&quot;&gt;P.G.V.R. Naidu&lt;/div&gt;`)[0];\n",
       "                popup_58a6ceb9c172dc09d3fd7b1c02af7ebb.setContent(html_710b340426811f24b20de790257fbc3d);\n",
       "            \n",
       "        \n",
       "\n",
       "        circle_marker_ff4e3a1f4f97ad4261cd1e58a8945d91.bindPopup(popup_58a6ceb9c172dc09d3fd7b1c02af7ebb)\n",
       "        ;\n",
       "\n",
       "        \n",
       "    \n",
       "    \n",
       "            var circle_marker_961e1ec1e72aa64ce9cb13de312e6689 = L.circleMarker(\n",
       "                [16.525395097476547, 79.75555062586682],\n",
       "                {&quot;bubblingMouseEvents&quot;: true, &quot;color&quot;: &quot;crimson&quot;, &quot;dashArray&quot;: null, &quot;dashOffset&quot;: null, &quot;fill&quot;: false, &quot;fillColor&quot;: &quot;crimson&quot;, &quot;fillOpacity&quot;: 0.2, &quot;fillRule&quot;: &quot;evenodd&quot;, &quot;lineCap&quot;: &quot;round&quot;, &quot;lineJoin&quot;: &quot;round&quot;, &quot;opacity&quot;: 1.0, &quot;radius&quot;: 3, &quot;stroke&quot;: true, &quot;weight&quot;: 3}\n",
       "            ).addTo(map_eb4f4f4f5471cbd5cbf59896c6e7512f);\n",
       "        \n",
       "    \n",
       "        var popup_6244b8c35341b0992c1598c4125e6cda = L.popup({&quot;maxWidth&quot;: &quot;100%&quot;});\n",
       "\n",
       "        \n",
       "            \n",
       "                var html_ae1c9ecd32c835a5a457b2e83e792e6c = $(`&lt;div id=&quot;html_ae1c9ecd32c835a5a457b2e83e792e6c&quot; style=&quot;width: 100.0%; height: 100.0%;&quot;&gt;Mohammed Nawaz Basha&lt;/div&gt;`)[0];\n",
       "                popup_6244b8c35341b0992c1598c4125e6cda.setContent(html_ae1c9ecd32c835a5a457b2e83e792e6c);\n",
       "            \n",
       "        \n",
       "\n",
       "        circle_marker_961e1ec1e72aa64ce9cb13de312e6689.bindPopup(popup_6244b8c35341b0992c1598c4125e6cda)\n",
       "        ;\n",
       "\n",
       "        \n",
       "    \n",
       "    \n",
       "            var circle_marker_def192747566b8e0600986d04add64b0 = L.circleMarker(\n",
       "                [15.29799355221622, 78.02574001118593],\n",
       "                {&quot;bubblingMouseEvents&quot;: true, &quot;color&quot;: &quot;crimson&quot;, &quot;dashArray&quot;: null, &quot;dashOffset&quot;: null, &quot;fill&quot;: false, &quot;fillColor&quot;: &quot;crimson&quot;, &quot;fillOpacity&quot;: 0.2, &quot;fillRule&quot;: &quot;evenodd&quot;, &quot;lineCap&quot;: &quot;round&quot;, &quot;lineJoin&quot;: &quot;round&quot;, &quot;opacity&quot;: 1.0, &quot;radius&quot;: 3, &quot;stroke&quot;: true, &quot;weight&quot;: 3}\n",
       "            ).addTo(map_eb4f4f4f5471cbd5cbf59896c6e7512f);\n",
       "        \n",
       "    \n",
       "        var popup_c8f8fcc54af330d354a093541702c0da = L.popup({&quot;maxWidth&quot;: &quot;100%&quot;});\n",
       "\n",
       "        \n",
       "            \n",
       "                var html_a7b2f03c03bb088481221e300af945b8 = $(`&lt;div id=&quot;html_a7b2f03c03bb088481221e300af945b8&quot; style=&quot;width: 100.0%; height: 100.0%;&quot;&gt;Maheedhar Reddy Manugunta&lt;/div&gt;`)[0];\n",
       "                popup_c8f8fcc54af330d354a093541702c0da.setContent(html_a7b2f03c03bb088481221e300af945b8);\n",
       "            \n",
       "        \n",
       "\n",
       "        circle_marker_def192747566b8e0600986d04add64b0.bindPopup(popup_c8f8fcc54af330d354a093541702c0da)\n",
       "        ;\n",
       "\n",
       "        \n",
       "    \n",
       "    \n",
       "            var circle_marker_16bb6d6b7f4d9a12e16c6ed805d2d301 = L.circleMarker(\n",
       "                [15.708076339173342, 78.60668519495617],\n",
       "                {&quot;bubblingMouseEvents&quot;: true, &quot;color&quot;: &quot;crimson&quot;, &quot;dashArray&quot;: null, &quot;dashOffset&quot;: null, &quot;fill&quot;: false, &quot;fillColor&quot;: &quot;crimson&quot;, &quot;fillOpacity&quot;: 0.2, &quot;fillRule&quot;: &quot;evenodd&quot;, &quot;lineCap&quot;: &quot;round&quot;, &quot;lineJoin&quot;: &quot;round&quot;, &quot;opacity&quot;: 1.0, &quot;radius&quot;: 3, &quot;stroke&quot;: true, &quot;weight&quot;: 3}\n",
       "            ).addTo(map_eb4f4f4f5471cbd5cbf59896c6e7512f);\n",
       "        \n",
       "    \n",
       "        var popup_011e040d825af12179e2f67e6b0dd2d1 = L.popup({&quot;maxWidth&quot;: &quot;100%&quot;});\n",
       "\n",
       "        \n",
       "            \n",
       "                var html_6108257f440be347704b79cc16387420 = $(`&lt;div id=&quot;html_6108257f440be347704b79cc16387420&quot; style=&quot;width: 100.0%; height: 100.0%;&quot;&gt;Maddali Giridhara Rao&lt;/div&gt;`)[0];\n",
       "                popup_011e040d825af12179e2f67e6b0dd2d1.setContent(html_6108257f440be347704b79cc16387420);\n",
       "            \n",
       "        \n",
       "\n",
       "        circle_marker_16bb6d6b7f4d9a12e16c6ed805d2d301.bindPopup(popup_011e040d825af12179e2f67e6b0dd2d1)\n",
       "        ;\n",
       "\n",
       "        \n",
       "    \n",
       "    \n",
       "            var circle_marker_b855845339f0964c653a4521ab420222 = L.circleMarker(\n",
       "                [15.108047280643556, 78.34295694649407],\n",
       "                {&quot;bubblingMouseEvents&quot;: true, &quot;color&quot;: &quot;crimson&quot;, &quot;dashArray&quot;: null, &quot;dashOffset&quot;: null, &quot;fill&quot;: false, &quot;fillColor&quot;: &quot;crimson&quot;, &quot;fillOpacity&quot;: 0.2, &quot;fillRule&quot;: &quot;evenodd&quot;, &quot;lineCap&quot;: &quot;round&quot;, &quot;lineJoin&quot;: &quot;round&quot;, &quot;opacity&quot;: 1.0, &quot;radius&quot;: 3, &quot;stroke&quot;: true, &quot;weight&quot;: 3}\n",
       "            ).addTo(map_eb4f4f4f5471cbd5cbf59896c6e7512f);\n",
       "        \n",
       "    \n",
       "        var popup_63832b68fcbf76d9720538ba2229d83a = L.popup({&quot;maxWidth&quot;: &quot;100%&quot;});\n",
       "\n",
       "        \n",
       "            \n",
       "                var html_e62a7085923f8e90a6ec0a990331dd21 = $(`&lt;div id=&quot;html_e62a7085923f8e90a6ec0a990331dd21&quot; style=&quot;width: 100.0%; height: 100.0%;&quot;&gt;kolusu parthasarathy&lt;/div&gt;`)[0];\n",
       "                popup_63832b68fcbf76d9720538ba2229d83a.setContent(html_e62a7085923f8e90a6ec0a990331dd21);\n",
       "            \n",
       "        \n",
       "\n",
       "        circle_marker_b855845339f0964c653a4521ab420222.bindPopup(popup_63832b68fcbf76d9720538ba2229d83a)\n",
       "        ;\n",
       "\n",
       "        \n",
       "    \n",
       "    \n",
       "            var circle_marker_6f25a452373d8407ddd4bf3a664ad9db = L.circleMarker(\n",
       "                [15.887597867374788, 79.25402359124286],\n",
       "                {&quot;bubblingMouseEvents&quot;: true, &quot;color&quot;: &quot;crimson&quot;, &quot;dashArray&quot;: null, &quot;dashOffset&quot;: null, &quot;fill&quot;: false, &quot;fillColor&quot;: &quot;crimson&quot;, &quot;fillOpacity&quot;: 0.2, &quot;fillRule&quot;: &quot;evenodd&quot;, &quot;lineCap&quot;: &quot;round&quot;, &quot;lineJoin&quot;: &quot;round&quot;, &quot;opacity&quot;: 1.0, &quot;radius&quot;: 3, &quot;stroke&quot;: true, &quot;weight&quot;: 3}\n",
       "            ).addTo(map_eb4f4f4f5471cbd5cbf59896c6e7512f);\n",
       "        \n",
       "    \n",
       "        var popup_0efaac2bad470c02d137168db7562808 = L.popup({&quot;maxWidth&quot;: &quot;100%&quot;});\n",
       "\n",
       "        \n",
       "            \n",
       "                var html_483f50c1540c4f06655b3c51841fd980 = $(`&lt;div id=&quot;html_483f50c1540c4f06655b3c51841fd980&quot; style=&quot;width: 100.0%; height: 100.0%;&quot;&gt;Anil Kumar Kaile&lt;/div&gt;`)[0];\n",
       "                popup_0efaac2bad470c02d137168db7562808.setContent(html_483f50c1540c4f06655b3c51841fd980);\n",
       "            \n",
       "        \n",
       "\n",
       "        circle_marker_6f25a452373d8407ddd4bf3a664ad9db.bindPopup(popup_0efaac2bad470c02d137168db7562808)\n",
       "        ;\n",
       "\n",
       "        \n",
       "    \n",
       "    \n",
       "            var circle_marker_d72042a71b2c9498dae91fdd66b978d7 = L.circleMarker(\n",
       "                [15.562172826326677, 79.05274311285352],\n",
       "                {&quot;bubblingMouseEvents&quot;: true, &quot;color&quot;: &quot;crimson&quot;, &quot;dashArray&quot;: null, &quot;dashOffset&quot;: null, &quot;fill&quot;: false, &quot;fillColor&quot;: &quot;crimson&quot;, &quot;fillOpacity&quot;: 0.2, &quot;fillRule&quot;: &quot;evenodd&quot;, &quot;lineCap&quot;: &quot;round&quot;, &quot;lineJoin&quot;: &quot;round&quot;, &quot;opacity&quot;: 1.0, &quot;radius&quot;: 3, &quot;stroke&quot;: true, &quot;weight&quot;: 3}\n",
       "            ).addTo(map_eb4f4f4f5471cbd5cbf59896c6e7512f);\n",
       "        \n",
       "    \n",
       "        var popup_cbe054d45bd413fe218cf12e5b5e4c89 = L.popup({&quot;maxWidth&quot;: &quot;100%&quot;});\n",
       "\n",
       "        \n",
       "            \n",
       "                var html_b5dc57ab12f33c9429962fd1b7f62724 = $(`&lt;div id=&quot;html_b5dc57ab12f33c9429962fd1b7f62724&quot; style=&quot;width: 100.0%; height: 100.0%;&quot;&gt;Vanga Geetha&lt;/div&gt;`)[0];\n",
       "                popup_cbe054d45bd413fe218cf12e5b5e4c89.setContent(html_b5dc57ab12f33c9429962fd1b7f62724);\n",
       "            \n",
       "        \n",
       "\n",
       "        circle_marker_d72042a71b2c9498dae91fdd66b978d7.bindPopup(popup_cbe054d45bd413fe218cf12e5b5e4c89)\n",
       "        ;\n",
       "\n",
       "        \n",
       "    \n",
       "    \n",
       "            var circle_marker_02708d7d0763666e82f5fee0f1d9aaca = L.circleMarker(\n",
       "                [16.692061158863417, 80.03808015539744],\n",
       "                {&quot;bubblingMouseEvents&quot;: true, &quot;color&quot;: &quot;crimson&quot;, &quot;dashArray&quot;: null, &quot;dashOffset&quot;: null, &quot;fill&quot;: false, &quot;fillColor&quot;: &quot;crimson&quot;, &quot;fillOpacity&quot;: 0.2, &quot;fillRule&quot;: &quot;evenodd&quot;, &quot;lineCap&quot;: &quot;round&quot;, &quot;lineJoin&quot;: &quot;round&quot;, &quot;opacity&quot;: 1.0, &quot;radius&quot;: 3, &quot;stroke&quot;: true, &quot;weight&quot;: 3}\n",
       "            ).addTo(map_eb4f4f4f5471cbd5cbf59896c6e7512f);\n",
       "        \n",
       "    \n",
       "        var popup_7de4b40e333490506e3fe5d96f5aa980 = L.popup({&quot;maxWidth&quot;: &quot;100%&quot;});\n",
       "\n",
       "        \n",
       "            \n",
       "                var html_3b355d6e29eca5f2c70ef90eddb10366 = $(`&lt;div id=&quot;html_3b355d6e29eca5f2c70ef90eddb10366&quot; style=&quot;width: 100.0%; height: 100.0%;&quot;&gt;Thoguru Arthur&lt;/div&gt;`)[0];\n",
       "                popup_7de4b40e333490506e3fe5d96f5aa980.setContent(html_3b355d6e29eca5f2c70ef90eddb10366);\n",
       "            \n",
       "        \n",
       "\n",
       "        circle_marker_02708d7d0763666e82f5fee0f1d9aaca.bindPopup(popup_7de4b40e333490506e3fe5d96f5aa980)\n",
       "        ;\n",
       "\n",
       "        \n",
       "    \n",
       "    \n",
       "            var circle_marker_de453625a0c1017719feafbd4aa87945 = L.circleMarker(\n",
       "                [16.733170681935036, 81.06356500820095],\n",
       "                {&quot;bubblingMouseEvents&quot;: true, &quot;color&quot;: &quot;crimson&quot;, &quot;dashArray&quot;: null, &quot;dashOffset&quot;: null, &quot;fill&quot;: false, &quot;fillColor&quot;: &quot;crimson&quot;, &quot;fillOpacity&quot;: 0.2, &quot;fillRule&quot;: &quot;evenodd&quot;, &quot;lineCap&quot;: &quot;round&quot;, &quot;lineJoin&quot;: &quot;round&quot;, &quot;opacity&quot;: 1.0, &quot;radius&quot;: 3, &quot;stroke&quot;: true, &quot;weight&quot;: 3}\n",
       "            ).addTo(map_eb4f4f4f5471cbd5cbf59896c6e7512f);\n",
       "        \n",
       "    \n",
       "        var popup_177a696be1c8a762f5c6c4f80b32a168 = L.popup({&quot;maxWidth&quot;: &quot;100%&quot;});\n",
       "\n",
       "        \n",
       "            \n",
       "                var html_86680650cd9dd3ba56b9995eddd89f48 = $(`&lt;div id=&quot;html_86680650cd9dd3ba56b9995eddd89f48&quot; style=&quot;width: 100.0%; height: 100.0%;&quot;&gt;N chandrababu naidu&lt;/div&gt;`)[0];\n",
       "                popup_177a696be1c8a762f5c6c4f80b32a168.setContent(html_86680650cd9dd3ba56b9995eddd89f48);\n",
       "            \n",
       "        \n",
       "\n",
       "        circle_marker_de453625a0c1017719feafbd4aa87945.bindPopup(popup_177a696be1c8a762f5c6c4f80b32a168)\n",
       "        ;\n",
       "\n",
       "        \n",
       "    \n",
       "    \n",
       "            var circle_marker_5f9e12b26369ba2d6be2ac9f6af256f8 = L.circleMarker(\n",
       "                [16.330684365561627, 80.99201789247958],\n",
       "                {&quot;bubblingMouseEvents&quot;: true, &quot;color&quot;: &quot;crimson&quot;, &quot;dashArray&quot;: null, &quot;dashOffset&quot;: null, &quot;fill&quot;: false, &quot;fillColor&quot;: &quot;crimson&quot;, &quot;fillOpacity&quot;: 0.2, &quot;fillRule&quot;: &quot;evenodd&quot;, &quot;lineCap&quot;: &quot;round&quot;, &quot;lineJoin&quot;: &quot;round&quot;, &quot;opacity&quot;: 1.0, &quot;radius&quot;: 3, &quot;stroke&quot;: true, &quot;weight&quot;: 3}\n",
       "            ).addTo(map_eb4f4f4f5471cbd5cbf59896c6e7512f);\n",
       "        \n",
       "    \n",
       "        var popup_d075256eb05716ec2c2c57bc79f6d7ca = L.popup({&quot;maxWidth&quot;: &quot;100%&quot;});\n",
       "\n",
       "        \n",
       "            \n",
       "                var html_66d9184ece4fc6824d7db6a6565b0b36 = $(`&lt;div id=&quot;html_66d9184ece4fc6824d7db6a6565b0b36&quot; style=&quot;width: 100.0%; height: 100.0%;&quot;&gt;Rapaka Vara Prasada Rao&lt;/div&gt;`)[0];\n",
       "                popup_d075256eb05716ec2c2c57bc79f6d7ca.setContent(html_66d9184ece4fc6824d7db6a6565b0b36);\n",
       "            \n",
       "        \n",
       "\n",
       "        circle_marker_5f9e12b26369ba2d6be2ac9f6af256f8.bindPopup(popup_d075256eb05716ec2c2c57bc79f6d7ca)\n",
       "        ;\n",
       "\n",
       "        \n",
       "    \n",
       "    \n",
       "            var circle_marker_5bdf23f65060e36f245cb4ae8c94f003 = L.circleMarker(\n",
       "                [16.040440316964787, 80.53094296779386],\n",
       "                {&quot;bubblingMouseEvents&quot;: true, &quot;color&quot;: &quot;crimson&quot;, &quot;dashArray&quot;: null, &quot;dashOffset&quot;: null, &quot;fill&quot;: false, &quot;fillColor&quot;: &quot;crimson&quot;, &quot;fillOpacity&quot;: 0.2, &quot;fillRule&quot;: &quot;evenodd&quot;, &quot;lineCap&quot;: &quot;round&quot;, &quot;lineJoin&quot;: &quot;round&quot;, &quot;opacity&quot;: 1.0, &quot;radius&quot;: 3, &quot;stroke&quot;: true, &quot;weight&quot;: 3}\n",
       "            ).addTo(map_eb4f4f4f5471cbd5cbf59896c6e7512f);\n",
       "        \n",
       "    \n",
       "        var popup_38bdb418ed4a39645e09ff344189376a = L.popup({&quot;maxWidth&quot;: &quot;100%&quot;});\n",
       "\n",
       "        \n",
       "            \n",
       "                var html_7c4c009a40ce277133cbd5021fd6a66a = $(`&lt;div id=&quot;html_7c4c009a40ce277133cbd5021fd6a66a&quot; style=&quot;width: 100.0%; height: 100.0%;&quot;&gt;Jyothula Chantibabu&lt;/div&gt;`)[0];\n",
       "                popup_38bdb418ed4a39645e09ff344189376a.setContent(html_7c4c009a40ce277133cbd5021fd6a66a);\n",
       "            \n",
       "        \n",
       "\n",
       "        circle_marker_5bdf23f65060e36f245cb4ae8c94f003.bindPopup(popup_38bdb418ed4a39645e09ff344189376a)\n",
       "        ;\n",
       "\n",
       "        \n",
       "    \n",
       "    \n",
       "            var circle_marker_943898d1c980aa1049e0229355677a31 = L.circleMarker(\n",
       "                [16.90532137319334, 80.96446779284409],\n",
       "                {&quot;bubblingMouseEvents&quot;: true, &quot;color&quot;: &quot;crimson&quot;, &quot;dashArray&quot;: null, &quot;dashOffset&quot;: null, &quot;fill&quot;: false, &quot;fillColor&quot;: &quot;crimson&quot;, &quot;fillOpacity&quot;: 0.2, &quot;fillRule&quot;: &quot;evenodd&quot;, &quot;lineCap&quot;: &quot;round&quot;, &quot;lineJoin&quot;: &quot;round&quot;, &quot;opacity&quot;: 1.0, &quot;radius&quot;: 3, &quot;stroke&quot;: true, &quot;weight&quot;: 3}\n",
       "            ).addTo(map_eb4f4f4f5471cbd5cbf59896c6e7512f);\n",
       "        \n",
       "    \n",
       "        var popup_07d6148a7db64b56f13147d136925d4a = L.popup({&quot;maxWidth&quot;: &quot;100%&quot;});\n",
       "\n",
       "        \n",
       "            \n",
       "                var html_6e1b8ea447a4db775d1a6017a9e3be2a = $(`&lt;div id=&quot;html_6e1b8ea447a4db775d1a6017a9e3be2a&quot; style=&quot;width: 100.0%; height: 100.0%;&quot;&gt;meka venkata pratap apparao&lt;/div&gt;`)[0];\n",
       "                popup_07d6148a7db64b56f13147d136925d4a.setContent(html_6e1b8ea447a4db775d1a6017a9e3be2a);\n",
       "            \n",
       "        \n",
       "\n",
       "        circle_marker_943898d1c980aa1049e0229355677a31.bindPopup(popup_07d6148a7db64b56f13147d136925d4a)\n",
       "        ;\n",
       "\n",
       "        \n",
       "    \n",
       "    \n",
       "            var circle_marker_b3c8378c999e52d4513fe22bb6ada699 = L.circleMarker(\n",
       "                [16.232703974442405, 78.56847813667606],\n",
       "                {&quot;bubblingMouseEvents&quot;: true, &quot;color&quot;: &quot;crimson&quot;, &quot;dashArray&quot;: null, &quot;dashOffset&quot;: null, &quot;fill&quot;: false, &quot;fillColor&quot;: &quot;crimson&quot;, &quot;fillOpacity&quot;: 0.2, &quot;fillRule&quot;: &quot;evenodd&quot;, &quot;lineCap&quot;: &quot;round&quot;, &quot;lineJoin&quot;: &quot;round&quot;, &quot;opacity&quot;: 1.0, &quot;radius&quot;: 3, &quot;stroke&quot;: true, &quot;weight&quot;: 3}\n",
       "            ).addTo(map_eb4f4f4f5471cbd5cbf59896c6e7512f);\n",
       "        \n",
       "    \n",
       "        var popup_3482a78423a36391952f506b04a5321f = L.popup({&quot;maxWidth&quot;: &quot;100%&quot;});\n",
       "\n",
       "        \n",
       "            \n",
       "                var html_7bb9321cf3f4912eb92e55456f1b79bd = $(`&lt;div id=&quot;html_7bb9321cf3f4912eb92e55456f1b79bd&quot; style=&quot;width: 100.0%; height: 100.0%;&quot;&gt;K. Pedda Reddy&lt;/div&gt;`)[0];\n",
       "                popup_3482a78423a36391952f506b04a5321f.setContent(html_7bb9321cf3f4912eb92e55456f1b79bd);\n",
       "            \n",
       "        \n",
       "\n",
       "        circle_marker_b3c8378c999e52d4513fe22bb6ada699.bindPopup(popup_3482a78423a36391952f506b04a5321f)\n",
       "        ;\n",
       "\n",
       "        \n",
       "    \n",
       "    \n",
       "            var circle_marker_6be1d1be9859733804323f9eb8eb6946 = L.circleMarker(\n",
       "                [16.433384663168702, 79.16451129873823],\n",
       "                {&quot;bubblingMouseEvents&quot;: true, &quot;color&quot;: &quot;crimson&quot;, &quot;dashArray&quot;: null, &quot;dashOffset&quot;: null, &quot;fill&quot;: false, &quot;fillColor&quot;: &quot;crimson&quot;, &quot;fillOpacity&quot;: 0.2, &quot;fillRule&quot;: &quot;evenodd&quot;, &quot;lineCap&quot;: &quot;round&quot;, &quot;lineJoin&quot;: &quot;round&quot;, &quot;opacity&quot;: 1.0, &quot;radius&quot;: 3, &quot;stroke&quot;: true, &quot;weight&quot;: 3}\n",
       "            ).addTo(map_eb4f4f4f5471cbd5cbf59896c6e7512f);\n",
       "        \n",
       "    \n",
       "        var popup_40ba4cee29f37ca583dd78239032866f = L.popup({&quot;maxWidth&quot;: &quot;100%&quot;});\n",
       "\n",
       "        \n",
       "            \n",
       "                var html_e0097bd89691942490dae7398f8c9d22 = $(`&lt;div id=&quot;html_e0097bd89691942490dae7398f8c9d22&quot; style=&quot;width: 100.0%; height: 100.0%;&quot;&gt;Peddireddi Dwarakanatha Reddy&lt;/div&gt;`)[0];\n",
       "                popup_40ba4cee29f37ca583dd78239032866f.setContent(html_e0097bd89691942490dae7398f8c9d22);\n",
       "            \n",
       "        \n",
       "\n",
       "        circle_marker_6be1d1be9859733804323f9eb8eb6946.bindPopup(popup_40ba4cee29f37ca583dd78239032866f)\n",
       "        ;\n",
       "\n",
       "        \n",
       "    \n",
       "    \n",
       "            var circle_marker_ed7e3b954dbe6a45aabdf7b6089fee44 = L.circleMarker(\n",
       "                [16.182258375553488, 79.26327499774222],\n",
       "                {&quot;bubblingMouseEvents&quot;: true, &quot;color&quot;: &quot;crimson&quot;, &quot;dashArray&quot;: null, &quot;dashOffset&quot;: null, &quot;fill&quot;: false, &quot;fillColor&quot;: &quot;crimson&quot;, &quot;fillOpacity&quot;: 0.2, &quot;fillRule&quot;: &quot;evenodd&quot;, &quot;lineCap&quot;: &quot;round&quot;, &quot;lineJoin&quot;: &quot;round&quot;, &quot;opacity&quot;: 1.0, &quot;radius&quot;: 3, &quot;stroke&quot;: true, &quot;weight&quot;: 3}\n",
       "            ).addTo(map_eb4f4f4f5471cbd5cbf59896c6e7512f);\n",
       "        \n",
       "    \n",
       "        var popup_2b7f20da05c00db28165103ab24fbb79 = L.popup({&quot;maxWidth&quot;: &quot;100%&quot;});\n",
       "\n",
       "        \n",
       "            \n",
       "                var html_272833f30d612461df7cea1dbdf9947c = $(`&lt;div id=&quot;html_272833f30d612461df7cea1dbdf9947c&quot; style=&quot;width: 100.0%; height: 100.0%;&quot;&gt;Galla Jayadev&lt;/div&gt;`)[0];\n",
       "                popup_2b7f20da05c00db28165103ab24fbb79.setContent(html_272833f30d612461df7cea1dbdf9947c);\n",
       "            \n",
       "        \n",
       "\n",
       "        circle_marker_ed7e3b954dbe6a45aabdf7b6089fee44.bindPopup(popup_2b7f20da05c00db28165103ab24fbb79)\n",
       "        ;\n",
       "\n",
       "        \n",
       "    \n",
       "    \n",
       "            var circle_marker_4c73b10e4f6e55ad7e9ab9079a57b660 = L.circleMarker(\n",
       "                [16.14152281646441, 78.99889324544054],\n",
       "                {&quot;bubblingMouseEvents&quot;: true, &quot;color&quot;: &quot;crimson&quot;, &quot;dashArray&quot;: null, &quot;dashOffset&quot;: null, &quot;fill&quot;: false, &quot;fillColor&quot;: &quot;crimson&quot;, &quot;fillOpacity&quot;: 0.2, &quot;fillRule&quot;: &quot;evenodd&quot;, &quot;lineCap&quot;: &quot;round&quot;, &quot;lineJoin&quot;: &quot;round&quot;, &quot;opacity&quot;: 1.0, &quot;radius&quot;: 3, &quot;stroke&quot;: true, &quot;weight&quot;: 3}\n",
       "            ).addTo(map_eb4f4f4f5471cbd5cbf59896c6e7512f);\n",
       "        \n",
       "    \n",
       "        var popup_55d247365df8ba4b1a4ea0385ce3abe0 = L.popup({&quot;maxWidth&quot;: &quot;100%&quot;});\n",
       "\n",
       "        \n",
       "            \n",
       "                var html_4d83babea500b5e753939b7551d9b003 = $(`&lt;div id=&quot;html_4d83babea500b5e753939b7551d9b003&quot; style=&quot;width: 100.0%; height: 100.0%;&quot;&gt;G Srinivas Naidu&lt;/div&gt;`)[0];\n",
       "                popup_55d247365df8ba4b1a4ea0385ce3abe0.setContent(html_4d83babea500b5e753939b7551d9b003);\n",
       "            \n",
       "        \n",
       "\n",
       "        circle_marker_4c73b10e4f6e55ad7e9ab9079a57b660.bindPopup(popup_55d247365df8ba4b1a4ea0385ce3abe0)\n",
       "        ;\n",
       "\n",
       "        \n",
       "    \n",
       "    \n",
       "            var circle_marker_de068fa8d00348300712a52638b89178 = L.circleMarker(\n",
       "                [16.814729753946, 79.64433084655991],\n",
       "                {&quot;bubblingMouseEvents&quot;: true, &quot;color&quot;: &quot;crimson&quot;, &quot;dashArray&quot;: null, &quot;dashOffset&quot;: null, &quot;fill&quot;: false, &quot;fillColor&quot;: &quot;crimson&quot;, &quot;fillOpacity&quot;: 0.2, &quot;fillRule&quot;: &quot;evenodd&quot;, &quot;lineCap&quot;: &quot;round&quot;, &quot;lineJoin&quot;: &quot;round&quot;, &quot;opacity&quot;: 1.0, &quot;radius&quot;: 3, &quot;stroke&quot;: true, &quot;weight&quot;: 3}\n",
       "            ).addTo(map_eb4f4f4f5471cbd5cbf59896c6e7512f);\n",
       "        \n",
       "    \n",
       "        var popup_c5f362fd574e3734092f3655956a5315 = L.popup({&quot;maxWidth&quot;: &quot;100%&quot;});\n",
       "\n",
       "        \n",
       "            \n",
       "                var html_d6d0222e597f67a3e6809e2a62397bee = $(`&lt;div id=&quot;html_d6d0222e597f67a3e6809e2a62397bee&quot; style=&quot;width: 100.0%; height: 100.0%;&quot;&gt;Golla Babu Rao&lt;/div&gt;`)[0];\n",
       "                popup_c5f362fd574e3734092f3655956a5315.setContent(html_d6d0222e597f67a3e6809e2a62397bee);\n",
       "            \n",
       "        \n",
       "\n",
       "        circle_marker_de068fa8d00348300712a52638b89178.bindPopup(popup_c5f362fd574e3734092f3655956a5315)\n",
       "        ;\n",
       "\n",
       "        \n",
       "    \n",
       "    \n",
       "            var circle_marker_9a91bb7186e1782378399fb0596c6431 = L.circleMarker(\n",
       "                [15.109981496549828, 78.16573290539839],\n",
       "                {&quot;bubblingMouseEvents&quot;: true, &quot;color&quot;: &quot;crimson&quot;, &quot;dashArray&quot;: null, &quot;dashOffset&quot;: null, &quot;fill&quot;: false, &quot;fillColor&quot;: &quot;crimson&quot;, &quot;fillOpacity&quot;: 0.2, &quot;fillRule&quot;: &quot;evenodd&quot;, &quot;lineCap&quot;: &quot;round&quot;, &quot;lineJoin&quot;: &quot;round&quot;, &quot;opacity&quot;: 1.0, &quot;radius&quot;: 3, &quot;stroke&quot;: true, &quot;weight&quot;: 3}\n",
       "            ).addTo(map_eb4f4f4f5471cbd5cbf59896c6e7512f);\n",
       "        \n",
       "    \n",
       "        var popup_75a4485cf28d4d227159839bfce9aeda = L.popup({&quot;maxWidth&quot;: &quot;100%&quot;});\n",
       "\n",
       "        \n",
       "            \n",
       "                var html_127920cf1e20005fc237d4da69c5f60c = $(`&lt;div id=&quot;html_127920cf1e20005fc237d4da69c5f60c&quot; style=&quot;width: 100.0%; height: 100.0%;&quot;&gt;Kinjarapu Atchannaidu&lt;/div&gt;`)[0];\n",
       "                popup_75a4485cf28d4d227159839bfce9aeda.setContent(html_127920cf1e20005fc237d4da69c5f60c);\n",
       "            \n",
       "        \n",
       "\n",
       "        circle_marker_9a91bb7186e1782378399fb0596c6431.bindPopup(popup_75a4485cf28d4d227159839bfce9aeda)\n",
       "        ;\n",
       "\n",
       "        \n",
       "    \n",
       "    \n",
       "            var circle_marker_80c087cf453d717cab043f0fdcbd0a17 = L.circleMarker(\n",
       "                [16.339090980722936, 80.49138411839579],\n",
       "                {&quot;bubblingMouseEvents&quot;: true, &quot;color&quot;: &quot;crimson&quot;, &quot;dashArray&quot;: null, &quot;dashOffset&quot;: null, &quot;fill&quot;: false, &quot;fillColor&quot;: &quot;crimson&quot;, &quot;fillOpacity&quot;: 0.2, &quot;fillRule&quot;: &quot;evenodd&quot;, &quot;lineCap&quot;: &quot;round&quot;, &quot;lineJoin&quot;: &quot;round&quot;, &quot;opacity&quot;: 1.0, &quot;radius&quot;: 3, &quot;stroke&quot;: true, &quot;weight&quot;: 3}\n",
       "            ).addTo(map_eb4f4f4f5471cbd5cbf59896c6e7512f);\n",
       "        \n",
       "    \n",
       "        var popup_0a3aba1d0a54f5b25a042796f35b2f13 = L.popup({&quot;maxWidth&quot;: &quot;100%&quot;});\n",
       "\n",
       "        \n",
       "            \n",
       "                var html_55cec2ee74c9fbf569bacfc601a37a64 = $(`&lt;div id=&quot;html_55cec2ee74c9fbf569bacfc601a37a64&quot; style=&quot;width: 100.0%; height: 100.0%;&quot;&gt;Dharmana Krishna Das&lt;/div&gt;`)[0];\n",
       "                popup_0a3aba1d0a54f5b25a042796f35b2f13.setContent(html_55cec2ee74c9fbf569bacfc601a37a64);\n",
       "            \n",
       "        \n",
       "\n",
       "        circle_marker_80c087cf453d717cab043f0fdcbd0a17.bindPopup(popup_0a3aba1d0a54f5b25a042796f35b2f13)\n",
       "        ;\n",
       "\n",
       "        \n",
       "    \n",
       "    \n",
       "            var circle_marker_b9516e54e59f7451a7af0e88938685a1 = L.circleMarker(\n",
       "                [16.397894725304397, 79.76476141531091],\n",
       "                {&quot;bubblingMouseEvents&quot;: true, &quot;color&quot;: &quot;crimson&quot;, &quot;dashArray&quot;: null, &quot;dashOffset&quot;: null, &quot;fill&quot;: false, &quot;fillColor&quot;: &quot;crimson&quot;, &quot;fillOpacity&quot;: 0.2, &quot;fillRule&quot;: &quot;evenodd&quot;, &quot;lineCap&quot;: &quot;round&quot;, &quot;lineJoin&quot;: &quot;round&quot;, &quot;opacity&quot;: 1.0, &quot;radius&quot;: 3, &quot;stroke&quot;: true, &quot;weight&quot;: 3}\n",
       "            ).addTo(map_eb4f4f4f5471cbd5cbf59896c6e7512f);\n",
       "        \n",
       "    \n",
       "        var popup_bcc89836ff255666533c1c6371a1fb5f = L.popup({&quot;maxWidth&quot;: &quot;100%&quot;});\n",
       "\n",
       "        \n",
       "            \n",
       "                var html_afd23bbe517d096ef0297085dd9d80fc = $(`&lt;div id=&quot;html_afd23bbe517d096ef0297085dd9d80fc&quot; style=&quot;width: 100.0%; height: 100.0%;&quot;&gt;Thammineni Seetharam&lt;/div&gt;`)[0];\n",
       "                popup_bcc89836ff255666533c1c6371a1fb5f.setContent(html_afd23bbe517d096ef0297085dd9d80fc);\n",
       "            \n",
       "        \n",
       "\n",
       "        circle_marker_b9516e54e59f7451a7af0e88938685a1.bindPopup(popup_bcc89836ff255666533c1c6371a1fb5f)\n",
       "        ;\n",
       "\n",
       "        \n",
       "    \n",
       "    \n",
       "            var circle_marker_61b07d2f1f7a04421a9b57fad73c49ac = L.circleMarker(\n",
       "                [15.827836172974202, 78.84492541048803],\n",
       "                {&quot;bubblingMouseEvents&quot;: true, &quot;color&quot;: &quot;crimson&quot;, &quot;dashArray&quot;: null, &quot;dashOffset&quot;: null, &quot;fill&quot;: false, &quot;fillColor&quot;: &quot;crimson&quot;, &quot;fillOpacity&quot;: 0.2, &quot;fillRule&quot;: &quot;evenodd&quot;, &quot;lineCap&quot;: &quot;round&quot;, &quot;lineJoin&quot;: &quot;round&quot;, &quot;opacity&quot;: 1.0, &quot;radius&quot;: 3, &quot;stroke&quot;: true, &quot;weight&quot;: 3}\n",
       "            ).addTo(map_eb4f4f4f5471cbd5cbf59896c6e7512f);\n",
       "        \n",
       "    \n",
       "        var popup_6994cc37e3fff3af41061ca517172f9d = L.popup({&quot;maxWidth&quot;: &quot;100%&quot;});\n",
       "\n",
       "        \n",
       "            \n",
       "                var html_1885a6a03cc40d8afff3c05f9524fc54 = $(`&lt;div id=&quot;html_1885a6a03cc40d8afff3c05f9524fc54&quot; style=&quot;width: 100.0%; height: 100.0%;&quot;&gt;Chirla Jaggireddy&lt;/div&gt;`)[0];\n",
       "                popup_6994cc37e3fff3af41061ca517172f9d.setContent(html_1885a6a03cc40d8afff3c05f9524fc54);\n",
       "            \n",
       "        \n",
       "\n",
       "        circle_marker_61b07d2f1f7a04421a9b57fad73c49ac.bindPopup(popup_6994cc37e3fff3af41061ca517172f9d)\n",
       "        ;\n",
       "\n",
       "        \n",
       "    \n",
       "    \n",
       "            var circle_marker_51738bcdd8e4ea4cb10984f87025bf2a = L.circleMarker(\n",
       "                [15.43932928676871, 79.77688230304399],\n",
       "                {&quot;bubblingMouseEvents&quot;: true, &quot;color&quot;: &quot;crimson&quot;, &quot;dashArray&quot;: null, &quot;dashOffset&quot;: null, &quot;fill&quot;: false, &quot;fillColor&quot;: &quot;crimson&quot;, &quot;fillOpacity&quot;: 0.2, &quot;fillRule&quot;: &quot;evenodd&quot;, &quot;lineCap&quot;: &quot;round&quot;, &quot;lineJoin&quot;: &quot;round&quot;, &quot;opacity&quot;: 1.0, &quot;radius&quot;: 3, &quot;stroke&quot;: true, &quot;weight&quot;: 3}\n",
       "            ).addTo(map_eb4f4f4f5471cbd5cbf59896c6e7512f);\n",
       "        \n",
       "    \n",
       "        var popup_0bb154191b7fdd3537da9dd6c47b35b1 = L.popup({&quot;maxWidth&quot;: &quot;100%&quot;});\n",
       "\n",
       "        \n",
       "            \n",
       "                var html_c9b966bfd82cd46ef6a04ae3394816f9 = $(`&lt;div id=&quot;html_c9b966bfd82cd46ef6a04ae3394816f9&quot; style=&quot;width: 100.0%; height: 100.0%;&quot;&gt;Anagani Satya Prasad&lt;/div&gt;`)[0];\n",
       "                popup_0bb154191b7fdd3537da9dd6c47b35b1.setContent(html_c9b966bfd82cd46ef6a04ae3394816f9);\n",
       "            \n",
       "        \n",
       "\n",
       "        circle_marker_51738bcdd8e4ea4cb10984f87025bf2a.bindPopup(popup_0bb154191b7fdd3537da9dd6c47b35b1)\n",
       "        ;\n",
       "\n",
       "        \n",
       "    \n",
       "    \n",
       "            var circle_marker_a84c680c7a2bfbbdb3247d1da85509c1 = L.circleMarker(\n",
       "                [15.604127824662296, 80.2518269525022],\n",
       "                {&quot;bubblingMouseEvents&quot;: true, &quot;color&quot;: &quot;crimson&quot;, &quot;dashArray&quot;: null, &quot;dashOffset&quot;: null, &quot;fill&quot;: false, &quot;fillColor&quot;: &quot;crimson&quot;, &quot;fillOpacity&quot;: 0.2, &quot;fillRule&quot;: &quot;evenodd&quot;, &quot;lineCap&quot;: &quot;round&quot;, &quot;lineJoin&quot;: &quot;round&quot;, &quot;opacity&quot;: 1.0, &quot;radius&quot;: 3, &quot;stroke&quot;: true, &quot;weight&quot;: 3}\n",
       "            ).addTo(map_eb4f4f4f5471cbd5cbf59896c6e7512f);\n",
       "        \n",
       "    \n",
       "        var popup_b7baa80f4571584258384b5096ab1356 = L.popup({&quot;maxWidth&quot;: &quot;100%&quot;});\n",
       "\n",
       "        \n",
       "            \n",
       "                var html_bc91021044cff04feaf30441835115da = $(`&lt;div id=&quot;html_bc91021044cff04feaf30441835115da&quot; style=&quot;width: 100.0%; height: 100.0%;&quot;&gt;Sathi Suryanarayana Reddy&lt;/div&gt;`)[0];\n",
       "                popup_b7baa80f4571584258384b5096ab1356.setContent(html_bc91021044cff04feaf30441835115da);\n",
       "            \n",
       "        \n",
       "\n",
       "        circle_marker_a84c680c7a2bfbbdb3247d1da85509c1.bindPopup(popup_b7baa80f4571584258384b5096ab1356)\n",
       "        ;\n",
       "\n",
       "        \n",
       "    \n",
       "    \n",
       "            var circle_marker_f091c35e514d67279a9fb82cf51ee87e = L.circleMarker(\n",
       "                [15.664928843401077, 80.02424735032602],\n",
       "                {&quot;bubblingMouseEvents&quot;: true, &quot;color&quot;: &quot;crimson&quot;, &quot;dashArray&quot;: null, &quot;dashOffset&quot;: null, &quot;fill&quot;: false, &quot;fillColor&quot;: &quot;crimson&quot;, &quot;fillOpacity&quot;: 0.2, &quot;fillRule&quot;: &quot;evenodd&quot;, &quot;lineCap&quot;: &quot;round&quot;, &quot;lineJoin&quot;: &quot;round&quot;, &quot;opacity&quot;: 1.0, &quot;radius&quot;: 3, &quot;stroke&quot;: true, &quot;weight&quot;: 3}\n",
       "            ).addTo(map_eb4f4f4f5471cbd5cbf59896c6e7512f);\n",
       "        \n",
       "    \n",
       "        var popup_b1b7516f8ad1b9701bbfcf59eb5e4503 = L.popup({&quot;maxWidth&quot;: &quot;100%&quot;});\n",
       "\n",
       "        \n",
       "            \n",
       "                var html_8229da8570bc9faddcc3671a96b4399a = $(`&lt;div id=&quot;html_8229da8570bc9faddcc3671a96b4399a&quot; style=&quot;width: 100.0%; height: 100.0%;&quot;&gt;Shilpa Ravi Chandra Kishore Reddy&lt;/div&gt;`)[0];\n",
       "                popup_b1b7516f8ad1b9701bbfcf59eb5e4503.setContent(html_8229da8570bc9faddcc3671a96b4399a);\n",
       "            \n",
       "        \n",
       "\n",
       "        circle_marker_f091c35e514d67279a9fb82cf51ee87e.bindPopup(popup_b1b7516f8ad1b9701bbfcf59eb5e4503)\n",
       "        ;\n",
       "\n",
       "        \n",
       "    \n",
       "    \n",
       "            var circle_marker_98b0c4af6cc99df0f96714cf393f0bfb = L.circleMarker(\n",
       "                [15.199129576212425, 79.58753796583011],\n",
       "                {&quot;bubblingMouseEvents&quot;: true, &quot;color&quot;: &quot;crimson&quot;, &quot;dashArray&quot;: null, &quot;dashOffset&quot;: null, &quot;fill&quot;: false, &quot;fillColor&quot;: &quot;crimson&quot;, &quot;fillOpacity&quot;: 0.2, &quot;fillRule&quot;: &quot;evenodd&quot;, &quot;lineCap&quot;: &quot;round&quot;, &quot;lineJoin&quot;: &quot;round&quot;, &quot;opacity&quot;: 1.0, &quot;radius&quot;: 3, &quot;stroke&quot;: true, &quot;weight&quot;: 3}\n",
       "            ).addTo(map_eb4f4f4f5471cbd5cbf59896c6e7512f);\n",
       "        \n",
       "    \n",
       "        var popup_ebfbfcb745edb0f5896c82f2bc17bdc7 = L.popup({&quot;maxWidth&quot;: &quot;100%&quot;});\n",
       "\n",
       "        \n",
       "            \n",
       "                var html_af27d1d3ce6acdbb2891672992e59778 = $(`&lt;div id=&quot;html_af27d1d3ce6acdbb2891672992e59778&quot; style=&quot;width: 100.0%; height: 100.0%;&quot;&gt;Rachamallu Siva Prasad Reddy&lt;/div&gt;`)[0];\n",
       "                popup_ebfbfcb745edb0f5896c82f2bc17bdc7.setContent(html_af27d1d3ce6acdbb2891672992e59778);\n",
       "            \n",
       "        \n",
       "\n",
       "        circle_marker_98b0c4af6cc99df0f96714cf393f0bfb.bindPopup(popup_ebfbfcb745edb0f5896c82f2bc17bdc7)\n",
       "        ;\n",
       "\n",
       "        \n",
       "    \n",
       "    \n",
       "            var circle_marker_87902644e49bf0034d3b6df9541efd1a = L.circleMarker(\n",
       "                [16.981172110941444, 79.437713851161],\n",
       "                {&quot;bubblingMouseEvents&quot;: true, &quot;color&quot;: &quot;crimson&quot;, &quot;dashArray&quot;: null, &quot;dashOffset&quot;: null, &quot;fill&quot;: false, &quot;fillColor&quot;: &quot;crimson&quot;, &quot;fillOpacity&quot;: 0.2, &quot;fillRule&quot;: &quot;evenodd&quot;, &quot;lineCap&quot;: &quot;round&quot;, &quot;lineJoin&quot;: &quot;round&quot;, &quot;opacity&quot;: 1.0, &quot;radius&quot;: 3, &quot;stroke&quot;: true, &quot;weight&quot;: 3}\n",
       "            ).addTo(map_eb4f4f4f5471cbd5cbf59896c6e7512f);\n",
       "        \n",
       "    \n",
       "        var popup_4e4d4872a482e37573094996d8536fc0 = L.popup({&quot;maxWidth&quot;: &quot;100%&quot;});\n",
       "\n",
       "        \n",
       "            \n",
       "                var html_909579c6bda1abfa8e420a4e017d510c = $(`&lt;div id=&quot;html_909579c6bda1abfa8e420a4e017d510c&quot; style=&quot;width: 100.0%; height: 100.0%;&quot;&gt;adimulam koneti&lt;/div&gt;`)[0];\n",
       "                popup_4e4d4872a482e37573094996d8536fc0.setContent(html_909579c6bda1abfa8e420a4e017d510c);\n",
       "            \n",
       "        \n",
       "\n",
       "        circle_marker_87902644e49bf0034d3b6df9541efd1a.bindPopup(popup_4e4d4872a482e37573094996d8536fc0)\n",
       "        ;\n",
       "\n",
       "        \n",
       "    \n",
       "    \n",
       "            var circle_marker_9c8daa54a13519fdd0aef608944d9b5d = L.circleMarker(\n",
       "                [15.345471274288528, 78.78739162538686],\n",
       "                {&quot;bubblingMouseEvents&quot;: true, &quot;color&quot;: &quot;crimson&quot;, &quot;dashArray&quot;: null, &quot;dashOffset&quot;: null, &quot;fill&quot;: false, &quot;fillColor&quot;: &quot;crimson&quot;, &quot;fillOpacity&quot;: 0.2, &quot;fillRule&quot;: &quot;evenodd&quot;, &quot;lineCap&quot;: &quot;round&quot;, &quot;lineJoin&quot;: &quot;round&quot;, &quot;opacity&quot;: 1.0, &quot;radius&quot;: 3, &quot;stroke&quot;: true, &quot;weight&quot;: 3}\n",
       "            ).addTo(map_eb4f4f4f5471cbd5cbf59896c6e7512f);\n",
       "        \n",
       "    \n",
       "        var popup_1f01a86359c98aa6a50f879c8f05ee34 = L.popup({&quot;maxWidth&quot;: &quot;100%&quot;});\n",
       "\n",
       "        \n",
       "            \n",
       "                var html_5a257f565cecfa91c4e7b08c9a3c098d = $(`&lt;div id=&quot;html_5a257f565cecfa91c4e7b08c9a3c098d&quot; style=&quot;width: 100.0%; height: 100.0%;&quot;&gt;jogi ramesh&lt;/div&gt;`)[0];\n",
       "                popup_1f01a86359c98aa6a50f879c8f05ee34.setContent(html_5a257f565cecfa91c4e7b08c9a3c098d);\n",
       "            \n",
       "        \n",
       "\n",
       "        circle_marker_9c8daa54a13519fdd0aef608944d9b5d.bindPopup(popup_1f01a86359c98aa6a50f879c8f05ee34)\n",
       "        ;\n",
       "\n",
       "        \n",
       "    \n",
       "    \n",
       "            var circle_marker_30e2a9beb9de48feef170fc91a3e5d1e = L.circleMarker(\n",
       "                [17.028849695655577, 80.50662087769113],\n",
       "                {&quot;bubblingMouseEvents&quot;: true, &quot;color&quot;: &quot;crimson&quot;, &quot;dashArray&quot;: null, &quot;dashOffset&quot;: null, &quot;fill&quot;: false, &quot;fillColor&quot;: &quot;crimson&quot;, &quot;fillOpacity&quot;: 0.2, &quot;fillRule&quot;: &quot;evenodd&quot;, &quot;lineCap&quot;: &quot;round&quot;, &quot;lineJoin&quot;: &quot;round&quot;, &quot;opacity&quot;: 1.0, &quot;radius&quot;: 3, &quot;stroke&quot;: true, &quot;weight&quot;: 3}\n",
       "            ).addTo(map_eb4f4f4f5471cbd5cbf59896c6e7512f);\n",
       "        \n",
       "    \n",
       "        var popup_011814ec1394f393c9570092d8aaa04b = L.popup({&quot;maxWidth&quot;: &quot;100%&quot;});\n",
       "\n",
       "        \n",
       "            \n",
       "                var html_534d0614fddc2feea0cc46d9e16dab32 = $(`&lt;div id=&quot;html_534d0614fddc2feea0cc46d9e16dab32&quot; style=&quot;width: 100.0%; height: 100.0%;&quot;&gt;Tellam Balaraju&lt;/div&gt;`)[0];\n",
       "                popup_011814ec1394f393c9570092d8aaa04b.setContent(html_534d0614fddc2feea0cc46d9e16dab32);\n",
       "            \n",
       "        \n",
       "\n",
       "        circle_marker_30e2a9beb9de48feef170fc91a3e5d1e.bindPopup(popup_011814ec1394f393c9570092d8aaa04b)\n",
       "        ;\n",
       "\n",
       "        \n",
       "    \n",
       "    \n",
       "            var circle_marker_3362f9c37e63da20fc72de31fdc74ec7 = L.circleMarker(\n",
       "                [16.522189560899236, 80.47801861463735],\n",
       "                {&quot;bubblingMouseEvents&quot;: true, &quot;color&quot;: &quot;crimson&quot;, &quot;dashArray&quot;: null, &quot;dashOffset&quot;: null, &quot;fill&quot;: false, &quot;fillColor&quot;: &quot;crimson&quot;, &quot;fillOpacity&quot;: 0.2, &quot;fillRule&quot;: &quot;evenodd&quot;, &quot;lineCap&quot;: &quot;round&quot;, &quot;lineJoin&quot;: &quot;round&quot;, &quot;opacity&quot;: 1.0, &quot;radius&quot;: 3, &quot;stroke&quot;: true, &quot;weight&quot;: 3}\n",
       "            ).addTo(map_eb4f4f4f5471cbd5cbf59896c6e7512f);\n",
       "        \n",
       "    \n",
       "        var popup_251e83a2ccb68a0bf2c9a9258603c33b = L.popup({&quot;maxWidth&quot;: &quot;100%&quot;});\n",
       "\n",
       "        \n",
       "            \n",
       "                var html_f776daf46fa1619de50ea82ab5379e7a = $(`&lt;div id=&quot;html_f776daf46fa1619de50ea82ab5379e7a&quot; style=&quot;width: 100.0%; height: 100.0%;&quot;&gt;k. narayana swamy&lt;/div&gt;`)[0];\n",
       "                popup_251e83a2ccb68a0bf2c9a9258603c33b.setContent(html_f776daf46fa1619de50ea82ab5379e7a);\n",
       "            \n",
       "        \n",
       "\n",
       "        circle_marker_3362f9c37e63da20fc72de31fdc74ec7.bindPopup(popup_251e83a2ccb68a0bf2c9a9258603c33b)\n",
       "        ;\n",
       "\n",
       "        \n",
       "    \n",
       "    \n",
       "            var circle_marker_7c362f5b4d48e4330e32b60526a6c12a = L.circleMarker(\n",
       "                [15.3793318115184, 78.14438395798805],\n",
       "                {&quot;bubblingMouseEvents&quot;: true, &quot;color&quot;: &quot;crimson&quot;, &quot;dashArray&quot;: null, &quot;dashOffset&quot;: null, &quot;fill&quot;: false, &quot;fillColor&quot;: &quot;crimson&quot;, &quot;fillOpacity&quot;: 0.2, &quot;fillRule&quot;: &quot;evenodd&quot;, &quot;lineCap&quot;: &quot;round&quot;, &quot;lineJoin&quot;: &quot;round&quot;, &quot;opacity&quot;: 1.0, &quot;radius&quot;: 3, &quot;stroke&quot;: true, &quot;weight&quot;: 3}\n",
       "            ).addTo(map_eb4f4f4f5471cbd5cbf59896c6e7512f);\n",
       "        \n",
       "    \n",
       "        var popup_e51eb39ef02e946a351c6436c0b115fa = L.popup({&quot;maxWidth&quot;: &quot;100%&quot;});\n",
       "\n",
       "        \n",
       "            \n",
       "                var html_0b514f7d5d11379ee1b8ac3e3069a7b7 = $(`&lt;div id=&quot;html_0b514f7d5d11379ee1b8ac3e3069a7b7&quot; style=&quot;width: 100.0%; height: 100.0%;&quot;&gt;Amzath Basha Shaik Bepari&lt;/div&gt;`)[0];\n",
       "                popup_e51eb39ef02e946a351c6436c0b115fa.setContent(html_0b514f7d5d11379ee1b8ac3e3069a7b7);\n",
       "            \n",
       "        \n",
       "\n",
       "        circle_marker_7c362f5b4d48e4330e32b60526a6c12a.bindPopup(popup_e51eb39ef02e946a351c6436c0b115fa)\n",
       "        ;\n",
       "\n",
       "        \n",
       "    \n",
       "    \n",
       "            var circle_marker_d3eeb9e4f1c36b60dfe979a4c6b19fad = L.circleMarker(\n",
       "                [15.314507001296144, 79.3455159558957],\n",
       "                {&quot;bubblingMouseEvents&quot;: true, &quot;color&quot;: &quot;crimson&quot;, &quot;dashArray&quot;: null, &quot;dashOffset&quot;: null, &quot;fill&quot;: false, &quot;fillColor&quot;: &quot;crimson&quot;, &quot;fillOpacity&quot;: 0.2, &quot;fillRule&quot;: &quot;evenodd&quot;, &quot;lineCap&quot;: &quot;round&quot;, &quot;lineJoin&quot;: &quot;round&quot;, &quot;opacity&quot;: 1.0, &quot;radius&quot;: 3, &quot;stroke&quot;: true, &quot;weight&quot;: 3}\n",
       "            ).addTo(map_eb4f4f4f5471cbd5cbf59896c6e7512f);\n",
       "        \n",
       "    \n",
       "        var popup_65aee933b747e9484463905da3ba212c = L.popup({&quot;maxWidth&quot;: &quot;100%&quot;});\n",
       "\n",
       "        \n",
       "            \n",
       "                var html_fc4b2ec113c1a0d05f589a99aa215fea = $(`&lt;div id=&quot;html_fc4b2ec113c1a0d05f589a99aa215fea&quot; style=&quot;width: 100.0%; height: 100.0%;&quot;&gt;Peedika Rajanna Dora&lt;/div&gt;`)[0];\n",
       "                popup_65aee933b747e9484463905da3ba212c.setContent(html_fc4b2ec113c1a0d05f589a99aa215fea);\n",
       "            \n",
       "        \n",
       "\n",
       "        circle_marker_d3eeb9e4f1c36b60dfe979a4c6b19fad.bindPopup(popup_65aee933b747e9484463905da3ba212c)\n",
       "        ;\n",
       "\n",
       "        \n",
       "    \n",
       "    \n",
       "            var circle_marker_1f8ff204c1931c93ddd5d9caa57fa2bb = L.circleMarker(\n",
       "                [15.162357624121034, 79.59431509883886],\n",
       "                {&quot;bubblingMouseEvents&quot;: true, &quot;color&quot;: &quot;crimson&quot;, &quot;dashArray&quot;: null, &quot;dashOffset&quot;: null, &quot;fill&quot;: false, &quot;fillColor&quot;: &quot;crimson&quot;, &quot;fillOpacity&quot;: 0.2, &quot;fillRule&quot;: &quot;evenodd&quot;, &quot;lineCap&quot;: &quot;round&quot;, &quot;lineJoin&quot;: &quot;round&quot;, &quot;opacity&quot;: 1.0, &quot;radius&quot;: 3, &quot;stroke&quot;: true, &quot;weight&quot;: 3}\n",
       "            ).addTo(map_eb4f4f4f5471cbd5cbf59896c6e7512f);\n",
       "        \n",
       "    \n",
       "        var popup_5d084211fb5b22d7739e65a8191ef2d8 = L.popup({&quot;maxWidth&quot;: &quot;100%&quot;});\n",
       "\n",
       "        \n",
       "            \n",
       "                var html_e14b1258282e875c2ef6445aa1be4680 = $(`&lt;div id=&quot;html_e14b1258282e875c2ef6445aa1be4680&quot; style=&quot;width: 100.0%; height: 100.0%;&quot;&gt;Thalathoti Jaya Ratna Sudhakar Babu&lt;/div&gt;`)[0];\n",
       "                popup_5d084211fb5b22d7739e65a8191ef2d8.setContent(html_e14b1258282e875c2ef6445aa1be4680);\n",
       "            \n",
       "        \n",
       "\n",
       "        circle_marker_1f8ff204c1931c93ddd5d9caa57fa2bb.bindPopup(popup_5d084211fb5b22d7739e65a8191ef2d8)\n",
       "        ;\n",
       "\n",
       "        \n",
       "    \n",
       "    \n",
       "            var circle_marker_9040b4622048b8e7ca860ed16b71f884 = L.circleMarker(\n",
       "                [17.02904187385087, 79.97633399979843],\n",
       "                {&quot;bubblingMouseEvents&quot;: true, &quot;color&quot;: &quot;crimson&quot;, &quot;dashArray&quot;: null, &quot;dashOffset&quot;: null, &quot;fill&quot;: false, &quot;fillColor&quot;: &quot;crimson&quot;, &quot;fillOpacity&quot;: 0.2, &quot;fillRule&quot;: &quot;evenodd&quot;, &quot;lineCap&quot;: &quot;round&quot;, &quot;lineJoin&quot;: &quot;round&quot;, &quot;opacity&quot;: 1.0, &quot;radius&quot;: 3, &quot;stroke&quot;: true, &quot;weight&quot;: 3}\n",
       "            ).addTo(map_eb4f4f4f5471cbd5cbf59896c6e7512f);\n",
       "        \n",
       "    \n",
       "        var popup_764a8a4eb9b41d2ae0aea0f29d410c09 = L.popup({&quot;maxWidth&quot;: &quot;100%&quot;});\n",
       "\n",
       "        \n",
       "            \n",
       "                var html_d1752da676faed187f6cec121abae706 = $(`&lt;div id=&quot;html_d1752da676faed187f6cec121abae706&quot; style=&quot;width: 100.0%; height: 100.0%;&quot;&gt;Gummanur Jayaram&lt;/div&gt;`)[0];\n",
       "                popup_764a8a4eb9b41d2ae0aea0f29d410c09.setContent(html_d1752da676faed187f6cec121abae706);\n",
       "            \n",
       "        \n",
       "\n",
       "        circle_marker_9040b4622048b8e7ca860ed16b71f884.bindPopup(popup_764a8a4eb9b41d2ae0aea0f29d410c09)\n",
       "        ;\n",
       "\n",
       "        \n",
       "    \n",
       "    \n",
       "            var circle_marker_dea8bb9e863d45fef7b67f057c4d9429 = L.circleMarker(\n",
       "                [15.375588399183886, 78.45639489651367],\n",
       "                {&quot;bubblingMouseEvents&quot;: true, &quot;color&quot;: &quot;crimson&quot;, &quot;dashArray&quot;: null, &quot;dashOffset&quot;: null, &quot;fill&quot;: false, &quot;fillColor&quot;: &quot;crimson&quot;, &quot;fillOpacity&quot;: 0.2, &quot;fillRule&quot;: &quot;evenodd&quot;, &quot;lineCap&quot;: &quot;round&quot;, &quot;lineJoin&quot;: &quot;round&quot;, &quot;opacity&quot;: 1.0, &quot;radius&quot;: 3, &quot;stroke&quot;: true, &quot;weight&quot;: 3}\n",
       "            ).addTo(map_eb4f4f4f5471cbd5cbf59896c6e7512f);\n",
       "        \n",
       "    \n",
       "        var popup_6ca8bd6143faff8f87df8877c99e22ec = L.popup({&quot;maxWidth&quot;: &quot;100%&quot;});\n",
       "\n",
       "        \n",
       "            \n",
       "                var html_0fa180b56c41a388b3cc6ccef22f24c7 = $(`&lt;div id=&quot;html_0fa180b56c41a388b3cc6ccef22f24c7&quot; style=&quot;width: 100.0%; height: 100.0%;&quot;&gt;Malagundla Sankaranarayana&lt;/div&gt;`)[0];\n",
       "                popup_6ca8bd6143faff8f87df8877c99e22ec.setContent(html_0fa180b56c41a388b3cc6ccef22f24c7);\n",
       "            \n",
       "        \n",
       "\n",
       "        circle_marker_dea8bb9e863d45fef7b67f057c4d9429.bindPopup(popup_6ca8bd6143faff8f87df8877c99e22ec)\n",
       "        ;\n",
       "\n",
       "        \n",
       "    \n",
       "    \n",
       "            var circle_marker_d6767412a3c5a0f2e7c7e9d5ada548ed = L.circleMarker(\n",
       "                [15.643192575552517, 79.36628209484583],\n",
       "                {&quot;bubblingMouseEvents&quot;: true, &quot;color&quot;: &quot;crimson&quot;, &quot;dashArray&quot;: null, &quot;dashOffset&quot;: null, &quot;fill&quot;: false, &quot;fillColor&quot;: &quot;crimson&quot;, &quot;fillOpacity&quot;: 0.2, &quot;fillRule&quot;: &quot;evenodd&quot;, &quot;lineCap&quot;: &quot;round&quot;, &quot;lineJoin&quot;: &quot;round&quot;, &quot;opacity&quot;: 1.0, &quot;radius&quot;: 3, &quot;stroke&quot;: true, &quot;weight&quot;: 3}\n",
       "            ).addTo(map_eb4f4f4f5471cbd5cbf59896c6e7512f);\n",
       "        \n",
       "    \n",
       "        var popup_3fe34c37b836bc55a156e0fab1336da3 = L.popup({&quot;maxWidth&quot;: &quot;100%&quot;});\n",
       "\n",
       "        \n",
       "            \n",
       "                var html_a5ba7e71f1f303282875d0185026ed4d = $(`&lt;div id=&quot;html_a5ba7e71f1f303282875d0185026ed4d&quot; style=&quot;width: 100.0%; height: 100.0%;&quot;&gt;Nimmala Rama Naidu&lt;/div&gt;`)[0];\n",
       "                popup_3fe34c37b836bc55a156e0fab1336da3.setContent(html_a5ba7e71f1f303282875d0185026ed4d);\n",
       "            \n",
       "        \n",
       "\n",
       "        circle_marker_d6767412a3c5a0f2e7c7e9d5ada548ed.bindPopup(popup_3fe34c37b836bc55a156e0fab1336da3)\n",
       "        ;\n",
       "\n",
       "        \n",
       "    \n",
       "    \n",
       "            var circle_marker_75b7219ba7434d888c7125cdc7325495 = L.circleMarker(\n",
       "                [16.086162834720305, 80.31155343143783],\n",
       "                {&quot;bubblingMouseEvents&quot;: true, &quot;color&quot;: &quot;crimson&quot;, &quot;dashArray&quot;: null, &quot;dashOffset&quot;: null, &quot;fill&quot;: false, &quot;fillColor&quot;: &quot;crimson&quot;, &quot;fillOpacity&quot;: 0.2, &quot;fillRule&quot;: &quot;evenodd&quot;, &quot;lineCap&quot;: &quot;round&quot;, &quot;lineJoin&quot;: &quot;round&quot;, &quot;opacity&quot;: 1.0, &quot;radius&quot;: 3, &quot;stroke&quot;: true, &quot;weight&quot;: 3}\n",
       "            ).addTo(map_eb4f4f4f5471cbd5cbf59896c6e7512f);\n",
       "        \n",
       "    \n",
       "        var popup_9c3ecbf58e33b07086be376d57a4b4e6 = L.popup({&quot;maxWidth&quot;: &quot;100%&quot;});\n",
       "\n",
       "        \n",
       "            \n",
       "                var html_4e7572a5672a9f02caf3aa1560ff013b = $(`&lt;div id=&quot;html_4e7572a5672a9f02caf3aa1560ff013b&quot; style=&quot;width: 100.0%; height: 100.0%;&quot;&gt;Dorababu Pendem&lt;/div&gt;`)[0];\n",
       "                popup_9c3ecbf58e33b07086be376d57a4b4e6.setContent(html_4e7572a5672a9f02caf3aa1560ff013b);\n",
       "            \n",
       "        \n",
       "\n",
       "        circle_marker_75b7219ba7434d888c7125cdc7325495.bindPopup(popup_9c3ecbf58e33b07086be376d57a4b4e6)\n",
       "        ;\n",
       "\n",
       "        \n",
       "    \n",
       "    \n",
       "            var circle_marker_ce4d9223886eb9319b79162a299ad556 = L.circleMarker(\n",
       "                [17.051097304792687, 79.80859352818922],\n",
       "                {&quot;bubblingMouseEvents&quot;: true, &quot;color&quot;: &quot;crimson&quot;, &quot;dashArray&quot;: null, &quot;dashOffset&quot;: null, &quot;fill&quot;: false, &quot;fillColor&quot;: &quot;crimson&quot;, &quot;fillOpacity&quot;: 0.2, &quot;fillRule&quot;: &quot;evenodd&quot;, &quot;lineCap&quot;: &quot;round&quot;, &quot;lineJoin&quot;: &quot;round&quot;, &quot;opacity&quot;: 1.0, &quot;radius&quot;: 3, &quot;stroke&quot;: true, &quot;weight&quot;: 3}\n",
       "            ).addTo(map_eb4f4f4f5471cbd5cbf59896c6e7512f);\n",
       "        \n",
       "    \n",
       "        var popup_a08d4bfad03fecccf5bf672161f2d80c = L.popup({&quot;maxWidth&quot;: &quot;100%&quot;});\n",
       "\n",
       "        \n",
       "            \n",
       "                var html_12279e66a1af6ce7abf6c44b41488d3c = $(`&lt;div id=&quot;html_12279e66a1af6ce7abf6c44b41488d3c&quot; style=&quot;width: 100.0%; height: 100.0%;&quot;&gt;Dadisetti Ramalingeswara Rao&lt;/div&gt;`)[0];\n",
       "                popup_a08d4bfad03fecccf5bf672161f2d80c.setContent(html_12279e66a1af6ce7abf6c44b41488d3c);\n",
       "            \n",
       "        \n",
       "\n",
       "        circle_marker_ce4d9223886eb9319b79162a299ad556.bindPopup(popup_a08d4bfad03fecccf5bf672161f2d80c)\n",
       "        ;\n",
       "\n",
       "        \n",
       "    \n",
       "    \n",
       "            var circle_marker_07e574036f7b3889b60614910dc2f711 = L.circleMarker(\n",
       "                [17.150760115279457, 79.94051647862526],\n",
       "                {&quot;bubblingMouseEvents&quot;: true, &quot;color&quot;: &quot;crimson&quot;, &quot;dashArray&quot;: null, &quot;dashOffset&quot;: null, &quot;fill&quot;: false, &quot;fillColor&quot;: &quot;crimson&quot;, &quot;fillOpacity&quot;: 0.2, &quot;fillRule&quot;: &quot;evenodd&quot;, &quot;lineCap&quot;: &quot;round&quot;, &quot;lineJoin&quot;: &quot;round&quot;, &quot;opacity&quot;: 1.0, &quot;radius&quot;: 3, &quot;stroke&quot;: true, &quot;weight&quot;: 3}\n",
       "            ).addTo(map_eb4f4f4f5471cbd5cbf59896c6e7512f);\n",
       "        \n",
       "    \n",
       "        var popup_418ce4834dde319a608de25b5e0848be = L.popup({&quot;maxWidth&quot;: &quot;100%&quot;});\n",
       "\n",
       "        \n",
       "            \n",
       "                var html_959d6ac1a7e79e1e02a2d4986ff815af = $(`&lt;div id=&quot;html_959d6ac1a7e79e1e02a2d4986ff815af&quot; style=&quot;width: 100.0%; height: 100.0%;&quot;&gt;Kommineni Srinivasa Rao&lt;/div&gt;`)[0];\n",
       "                popup_418ce4834dde319a608de25b5e0848be.setContent(html_959d6ac1a7e79e1e02a2d4986ff815af);\n",
       "            \n",
       "        \n",
       "\n",
       "        circle_marker_07e574036f7b3889b60614910dc2f711.bindPopup(popup_418ce4834dde319a608de25b5e0848be)\n",
       "        ;\n",
       "\n",
       "        \n",
       "    \n",
       "    \n",
       "            var circle_marker_c00fbcb3fbcf3e66813435eb20ddd4c3 = L.circleMarker(\n",
       "                [16.587228238344444, 79.8129262781196],\n",
       "                {&quot;bubblingMouseEvents&quot;: true, &quot;color&quot;: &quot;crimson&quot;, &quot;dashArray&quot;: null, &quot;dashOffset&quot;: null, &quot;fill&quot;: false, &quot;fillColor&quot;: &quot;crimson&quot;, &quot;fillOpacity&quot;: 0.2, &quot;fillRule&quot;: &quot;evenodd&quot;, &quot;lineCap&quot;: &quot;round&quot;, &quot;lineJoin&quot;: &quot;round&quot;, &quot;opacity&quot;: 1.0, &quot;radius&quot;: 3, &quot;stroke&quot;: true, &quot;weight&quot;: 3}\n",
       "            ).addTo(map_eb4f4f4f5471cbd5cbf59896c6e7512f);\n",
       "        \n",
       "    \n",
       "        var popup_08be0b5612fa439d4a3a93322af5969a = L.popup({&quot;maxWidth&quot;: &quot;100%&quot;});\n",
       "\n",
       "        \n",
       "            \n",
       "                var html_d7a68b5469080e17125a4a4dbda73845 = $(`&lt;div id=&quot;html_d7a68b5469080e17125a4a4dbda73845&quot; style=&quot;width: 100.0%; height: 100.0%;&quot;&gt;Uppalapati Venkata Ramanamurthy Raju&lt;/div&gt;`)[0];\n",
       "                popup_08be0b5612fa439d4a3a93322af5969a.setContent(html_d7a68b5469080e17125a4a4dbda73845);\n",
       "            \n",
       "        \n",
       "\n",
       "        circle_marker_c00fbcb3fbcf3e66813435eb20ddd4c3.bindPopup(popup_08be0b5612fa439d4a3a93322af5969a)\n",
       "        ;\n",
       "\n",
       "        \n",
       "    \n",
       "    \n",
       "            var circle_marker_2b5bfd9a5ede25943a1c2e4219ca02a3 = L.circleMarker(\n",
       "                [16.509901154041103, 79.89404614471933],\n",
       "                {&quot;bubblingMouseEvents&quot;: true, &quot;color&quot;: &quot;crimson&quot;, &quot;dashArray&quot;: null, &quot;dashOffset&quot;: null, &quot;fill&quot;: false, &quot;fillColor&quot;: &quot;crimson&quot;, &quot;fillOpacity&quot;: 0.2, &quot;fillRule&quot;: &quot;evenodd&quot;, &quot;lineCap&quot;: &quot;round&quot;, &quot;lineJoin&quot;: &quot;round&quot;, &quot;opacity&quot;: 1.0, &quot;radius&quot;: 3, &quot;stroke&quot;: true, &quot;weight&quot;: 3}\n",
       "            ).addTo(map_eb4f4f4f5471cbd5cbf59896c6e7512f);\n",
       "        \n",
       "    \n",
       "        var popup_1fdfae7d23176259c5a778c92b8248d2 = L.popup({&quot;maxWidth&quot;: &quot;100%&quot;});\n",
       "\n",
       "        \n",
       "            \n",
       "                var html_4e98cb40bafd8e3ce914ea9b6e7d23ea = $(`&lt;div id=&quot;html_4e98cb40bafd8e3ce914ea9b6e7d23ea&quot; style=&quot;width: 100.0%; height: 100.0%;&quot;&gt;Chelluboyina Srinivasa Venugopalakrishna&lt;/div&gt;`)[0];\n",
       "                popup_1fdfae7d23176259c5a778c92b8248d2.setContent(html_4e98cb40bafd8e3ce914ea9b6e7d23ea);\n",
       "            \n",
       "        \n",
       "\n",
       "        circle_marker_2b5bfd9a5ede25943a1c2e4219ca02a3.bindPopup(popup_1fdfae7d23176259c5a778c92b8248d2)\n",
       "        ;\n",
       "\n",
       "        \n",
       "    \n",
       "    \n",
       "            var circle_marker_31be913e406d5f7051168deccdae6bc8 = L.circleMarker(\n",
       "                [15.692457567431584, 80.26153508040414],\n",
       "                {&quot;bubblingMouseEvents&quot;: true, &quot;color&quot;: &quot;crimson&quot;, &quot;dashArray&quot;: null, &quot;dashOffset&quot;: null, &quot;fill&quot;: false, &quot;fillColor&quot;: &quot;crimson&quot;, &quot;fillOpacity&quot;: 0.2, &quot;fillRule&quot;: &quot;evenodd&quot;, &quot;lineCap&quot;: &quot;round&quot;, &quot;lineJoin&quot;: &quot;round&quot;, &quot;opacity&quot;: 1.0, &quot;radius&quot;: 3, &quot;stroke&quot;: true, &quot;weight&quot;: 3}\n",
       "            ).addTo(map_eb4f4f4f5471cbd5cbf59896c6e7512f);\n",
       "        \n",
       "    \n",
       "        var popup_3ce8af90661665c0046bae3f804dee7d = L.popup({&quot;maxWidth&quot;: &quot;100%&quot;});\n",
       "\n",
       "        \n",
       "            \n",
       "                var html_107b078c820754ffa7e58061fc92d499 = $(`&lt;div id=&quot;html_107b078c820754ffa7e58061fc92d499&quot; style=&quot;width: 100.0%; height: 100.0%;&quot;&gt;Anantha Venkatarami Reddy&lt;/div&gt;`)[0];\n",
       "                popup_3ce8af90661665c0046bae3f804dee7d.setContent(html_107b078c820754ffa7e58061fc92d499);\n",
       "            \n",
       "        \n",
       "\n",
       "        circle_marker_31be913e406d5f7051168deccdae6bc8.bindPopup(popup_3ce8af90661665c0046bae3f804dee7d)\n",
       "        ;\n",
       "\n",
       "        \n",
       "    \n",
       "    \n",
       "            var circle_marker_6694eb636234c4f93c9acffb9c470057 = L.circleMarker(\n",
       "                [16.33453911326812, 80.16380936093233],\n",
       "                {&quot;bubblingMouseEvents&quot;: true, &quot;color&quot;: &quot;crimson&quot;, &quot;dashArray&quot;: null, &quot;dashOffset&quot;: null, &quot;fill&quot;: false, &quot;fillColor&quot;: &quot;crimson&quot;, &quot;fillOpacity&quot;: 0.2, &quot;fillRule&quot;: &quot;evenodd&quot;, &quot;lineCap&quot;: &quot;round&quot;, &quot;lineJoin&quot;: &quot;round&quot;, &quot;opacity&quot;: 1.0, &quot;radius&quot;: 3, &quot;stroke&quot;: true, &quot;weight&quot;: 3}\n",
       "            ).addTo(map_eb4f4f4f5471cbd5cbf59896c6e7512f);\n",
       "        \n",
       "    \n",
       "        var popup_166e0a363870b4e3394cc8f685960dac = L.popup({&quot;maxWidth&quot;: &quot;100%&quot;});\n",
       "\n",
       "        \n",
       "            \n",
       "                var html_040ea3549a0dca5cbb3f7d659ffb9b1d = $(`&lt;div id=&quot;html_040ea3549a0dca5cbb3f7d659ffb9b1d&quot; style=&quot;width: 100.0%; height: 100.0%;&quot;&gt;Goddeti Madhavi&lt;/div&gt;`)[0];\n",
       "                popup_166e0a363870b4e3394cc8f685960dac.setContent(html_040ea3549a0dca5cbb3f7d659ffb9b1d);\n",
       "            \n",
       "        \n",
       "\n",
       "        circle_marker_6694eb636234c4f93c9acffb9c470057.bindPopup(popup_166e0a363870b4e3394cc8f685960dac)\n",
       "        ;\n",
       "\n",
       "        \n",
       "    \n",
       "    \n",
       "            var circle_marker_79aadb22c77e455f554b020dd37c558f = L.circleMarker(\n",
       "                [16.52193395605219, 79.1983610817232],\n",
       "                {&quot;bubblingMouseEvents&quot;: true, &quot;color&quot;: &quot;crimson&quot;, &quot;dashArray&quot;: null, &quot;dashOffset&quot;: null, &quot;fill&quot;: false, &quot;fillColor&quot;: &quot;crimson&quot;, &quot;fillOpacity&quot;: 0.2, &quot;fillRule&quot;: &quot;evenodd&quot;, &quot;lineCap&quot;: &quot;round&quot;, &quot;lineJoin&quot;: &quot;round&quot;, &quot;opacity&quot;: 1.0, &quot;radius&quot;: 3, &quot;stroke&quot;: true, &quot;weight&quot;: 3}\n",
       "            ).addTo(map_eb4f4f4f5471cbd5cbf59896c6e7512f);\n",
       "        \n",
       "    \n",
       "        var popup_3f4b29fe2a9fb657d119081249b7be48 = L.popup({&quot;maxWidth&quot;: &quot;100%&quot;});\n",
       "\n",
       "        \n",
       "            \n",
       "                var html_35eea11b8095122274edd7d477cb5957 = $(`&lt;div id=&quot;html_35eea11b8095122274edd7d477cb5957&quot; style=&quot;width: 100.0%; height: 100.0%;&quot;&gt;Posani Krishna Murali&lt;/div&gt;`)[0];\n",
       "                popup_3f4b29fe2a9fb657d119081249b7be48.setContent(html_35eea11b8095122274edd7d477cb5957);\n",
       "            \n",
       "        \n",
       "\n",
       "        circle_marker_79aadb22c77e455f554b020dd37c558f.bindPopup(popup_3f4b29fe2a9fb657d119081249b7be48)\n",
       "        ;\n",
       "\n",
       "        \n",
       "    \n",
       "    \n",
       "            var circle_marker_ef8e3ec4708d8ce2b751c25ad5d6ee21 = L.circleMarker(\n",
       "                [16.24853232189767, 79.58499558847319],\n",
       "                {&quot;bubblingMouseEvents&quot;: true, &quot;color&quot;: &quot;crimson&quot;, &quot;dashArray&quot;: null, &quot;dashOffset&quot;: null, &quot;fill&quot;: false, &quot;fillColor&quot;: &quot;crimson&quot;, &quot;fillOpacity&quot;: 0.2, &quot;fillRule&quot;: &quot;evenodd&quot;, &quot;lineCap&quot;: &quot;round&quot;, &quot;lineJoin&quot;: &quot;round&quot;, &quot;opacity&quot;: 1.0, &quot;radius&quot;: 3, &quot;stroke&quot;: true, &quot;weight&quot;: 3}\n",
       "            ).addTo(map_eb4f4f4f5471cbd5cbf59896c6e7512f);\n",
       "        \n",
       "    \n",
       "        var popup_3078f75804376169d7fef792dd792b3b = L.popup({&quot;maxWidth&quot;: &quot;100%&quot;});\n",
       "\n",
       "        \n",
       "            \n",
       "                var html_e13655c0d7be3b3f1d8f8b04e6218d2b = $(`&lt;div id=&quot;html_e13655c0d7be3b3f1d8f8b04e6218d2b&quot; style=&quot;width: 100.0%; height: 100.0%;&quot;&gt;Anil Kumar Poluboina&lt;/div&gt;`)[0];\n",
       "                popup_3078f75804376169d7fef792dd792b3b.setContent(html_e13655c0d7be3b3f1d8f8b04e6218d2b);\n",
       "            \n",
       "        \n",
       "\n",
       "        circle_marker_ef8e3ec4708d8ce2b751c25ad5d6ee21.bindPopup(popup_3078f75804376169d7fef792dd792b3b)\n",
       "        ;\n",
       "\n",
       "        \n",
       "    \n",
       "    \n",
       "            var circle_marker_9deb0ba07b4f1d1e8f693a0aff63f088 = L.circleMarker(\n",
       "                [16.338395667191744, 80.36434316734706],\n",
       "                {&quot;bubblingMouseEvents&quot;: true, &quot;color&quot;: &quot;crimson&quot;, &quot;dashArray&quot;: null, &quot;dashOffset&quot;: null, &quot;fill&quot;: false, &quot;fillColor&quot;: &quot;crimson&quot;, &quot;fillOpacity&quot;: 0.2, &quot;fillRule&quot;: &quot;evenodd&quot;, &quot;lineCap&quot;: &quot;round&quot;, &quot;lineJoin&quot;: &quot;round&quot;, &quot;opacity&quot;: 1.0, &quot;radius&quot;: 3, &quot;stroke&quot;: true, &quot;weight&quot;: 3}\n",
       "            ).addTo(map_eb4f4f4f5471cbd5cbf59896c6e7512f);\n",
       "        \n",
       "    \n",
       "        var popup_bdfc023fabb7f0a72a31b408ec0d92cf = L.popup({&quot;maxWidth&quot;: &quot;100%&quot;});\n",
       "\n",
       "        \n",
       "            \n",
       "                var html_150f871e938d2de7c9f2f57a35d6e961 = $(`&lt;div id=&quot;html_150f871e938d2de7c9f2f57a35d6e961&quot; style=&quot;width: 100.0%; height: 100.0%;&quot;&gt;Gudivada Amarnath&lt;/div&gt;`)[0];\n",
       "                popup_bdfc023fabb7f0a72a31b408ec0d92cf.setContent(html_150f871e938d2de7c9f2f57a35d6e961);\n",
       "            \n",
       "        \n",
       "\n",
       "        circle_marker_9deb0ba07b4f1d1e8f693a0aff63f088.bindPopup(popup_bdfc023fabb7f0a72a31b408ec0d92cf)\n",
       "        ;\n",
       "\n",
       "        \n",
       "    \n",
       "    \n",
       "            var circle_marker_e57334f357c2bd0498ba5e066e2e3ece = L.circleMarker(\n",
       "                [16.59891230174516, 80.86970493164492],\n",
       "                {&quot;bubblingMouseEvents&quot;: true, &quot;color&quot;: &quot;crimson&quot;, &quot;dashArray&quot;: null, &quot;dashOffset&quot;: null, &quot;fill&quot;: false, &quot;fillColor&quot;: &quot;crimson&quot;, &quot;fillOpacity&quot;: 0.2, &quot;fillRule&quot;: &quot;evenodd&quot;, &quot;lineCap&quot;: &quot;round&quot;, &quot;lineJoin&quot;: &quot;round&quot;, &quot;opacity&quot;: 1.0, &quot;radius&quot;: 3, &quot;stroke&quot;: true, &quot;weight&quot;: 3}\n",
       "            ).addTo(map_eb4f4f4f5471cbd5cbf59896c6e7512f);\n",
       "        \n",
       "    \n",
       "        var popup_d7a3deb2e3e89f22a3847ae3670c083d = L.popup({&quot;maxWidth&quot;: &quot;100%&quot;});\n",
       "\n",
       "        \n",
       "            \n",
       "                var html_ed70983047080927620d200232140a67 = $(`&lt;div id=&quot;html_ed70983047080927620d200232140a67&quot; style=&quot;width: 100.0%; height: 100.0%;&quot;&gt;Kilari Venkata Rosaiah&lt;/div&gt;`)[0];\n",
       "                popup_d7a3deb2e3e89f22a3847ae3670c083d.setContent(html_ed70983047080927620d200232140a67);\n",
       "            \n",
       "        \n",
       "\n",
       "        circle_marker_e57334f357c2bd0498ba5e066e2e3ece.bindPopup(popup_d7a3deb2e3e89f22a3847ae3670c083d)\n",
       "        ;\n",
       "\n",
       "        \n",
       "    \n",
       "    \n",
       "            var circle_marker_781b6e3b4047c3a40ba5bd3c5bf92e4f = L.circleMarker(\n",
       "                [16.562358161035768, 81.10171503955613],\n",
       "                {&quot;bubblingMouseEvents&quot;: true, &quot;color&quot;: &quot;crimson&quot;, &quot;dashArray&quot;: null, &quot;dashOffset&quot;: null, &quot;fill&quot;: false, &quot;fillColor&quot;: &quot;crimson&quot;, &quot;fillOpacity&quot;: 0.2, &quot;fillRule&quot;: &quot;evenodd&quot;, &quot;lineCap&quot;: &quot;round&quot;, &quot;lineJoin&quot;: &quot;round&quot;, &quot;opacity&quot;: 1.0, &quot;radius&quot;: 3, &quot;stroke&quot;: true, &quot;weight&quot;: 3}\n",
       "            ).addTo(map_eb4f4f4f5471cbd5cbf59896c6e7512f);\n",
       "        \n",
       "    \n",
       "        var popup_3a5d82cf82e90b5b0009a919bf9f5d97 = L.popup({&quot;maxWidth&quot;: &quot;100%&quot;});\n",
       "\n",
       "        \n",
       "            \n",
       "                var html_7ae9104a6cfdd83302fa72d0ff0b0991 = $(`&lt;div id=&quot;html_7ae9104a6cfdd83302fa72d0ff0b0991&quot; style=&quot;width: 100.0%; height: 100.0%;&quot;&gt;K. V. P. Ramachandra Rao&lt;/div&gt;`)[0];\n",
       "                popup_3a5d82cf82e90b5b0009a919bf9f5d97.setContent(html_7ae9104a6cfdd83302fa72d0ff0b0991);\n",
       "            \n",
       "        \n",
       "\n",
       "        circle_marker_781b6e3b4047c3a40ba5bd3c5bf92e4f.bindPopup(popup_3a5d82cf82e90b5b0009a919bf9f5d97)\n",
       "        ;\n",
       "\n",
       "        \n",
       "    \n",
       "    \n",
       "            var circle_marker_699d80c22ed437fe8a5bc7a7795a27f9 = L.circleMarker(\n",
       "                [15.45608174267461, 78.80864490228606],\n",
       "                {&quot;bubblingMouseEvents&quot;: true, &quot;color&quot;: &quot;crimson&quot;, &quot;dashArray&quot;: null, &quot;dashOffset&quot;: null, &quot;fill&quot;: false, &quot;fillColor&quot;: &quot;crimson&quot;, &quot;fillOpacity&quot;: 0.2, &quot;fillRule&quot;: &quot;evenodd&quot;, &quot;lineCap&quot;: &quot;round&quot;, &quot;lineJoin&quot;: &quot;round&quot;, &quot;opacity&quot;: 1.0, &quot;radius&quot;: 3, &quot;stroke&quot;: true, &quot;weight&quot;: 3}\n",
       "            ).addTo(map_eb4f4f4f5471cbd5cbf59896c6e7512f);\n",
       "        \n",
       "    \n",
       "        var popup_be03bafaee41332b7f3e21ef26907169 = L.popup({&quot;maxWidth&quot;: &quot;100%&quot;});\n",
       "\n",
       "        \n",
       "            \n",
       "                var html_28576803bc96280c869f92ad4a6ed246 = $(`&lt;div id=&quot;html_28576803bc96280c869f92ad4a6ed246&quot; style=&quot;width: 100.0%; height: 100.0%;&quot;&gt;Karumuri Venkata Nageswara Rao&lt;/div&gt;`)[0];\n",
       "                popup_be03bafaee41332b7f3e21ef26907169.setContent(html_28576803bc96280c869f92ad4a6ed246);\n",
       "            \n",
       "        \n",
       "\n",
       "        circle_marker_699d80c22ed437fe8a5bc7a7795a27f9.bindPopup(popup_be03bafaee41332b7f3e21ef26907169)\n",
       "        ;\n",
       "\n",
       "        \n",
       "    \n",
       "    \n",
       "            var circle_marker_bb62b3b04be7b974ef81ee9472e267e8 = L.circleMarker(\n",
       "                [15.796337829947104, 78.2166338580408],\n",
       "                {&quot;bubblingMouseEvents&quot;: true, &quot;color&quot;: &quot;crimson&quot;, &quot;dashArray&quot;: null, &quot;dashOffset&quot;: null, &quot;fill&quot;: false, &quot;fillColor&quot;: &quot;crimson&quot;, &quot;fillOpacity&quot;: 0.2, &quot;fillRule&quot;: &quot;evenodd&quot;, &quot;lineCap&quot;: &quot;round&quot;, &quot;lineJoin&quot;: &quot;round&quot;, &quot;opacity&quot;: 1.0, &quot;radius&quot;: 3, &quot;stroke&quot;: true, &quot;weight&quot;: 3}\n",
       "            ).addTo(map_eb4f4f4f5471cbd5cbf59896c6e7512f);\n",
       "        \n",
       "    \n",
       "        var popup_6e42490f542c20c76cc603cf71cd4980 = L.popup({&quot;maxWidth&quot;: &quot;100%&quot;});\n",
       "\n",
       "        \n",
       "            \n",
       "                var html_cc177fba7a103cd93b07d11e9165b4b2 = $(`&lt;div id=&quot;html_cc177fba7a103cd93b07d11e9165b4b2&quot; style=&quot;width: 100.0%; height: 100.0%;&quot;&gt;Lavu Sri Krishna Devarayalu&lt;/div&gt;`)[0];\n",
       "                popup_6e42490f542c20c76cc603cf71cd4980.setContent(html_cc177fba7a103cd93b07d11e9165b4b2);\n",
       "            \n",
       "        \n",
       "\n",
       "        circle_marker_bb62b3b04be7b974ef81ee9472e267e8.bindPopup(popup_6e42490f542c20c76cc603cf71cd4980)\n",
       "        ;\n",
       "\n",
       "        \n",
       "    \n",
       "    \n",
       "            var circle_marker_9cc04ccaa064ef66a0c01b8777c3314f = L.circleMarker(\n",
       "                [15.968775054573516, 80.36987684021273],\n",
       "                {&quot;bubblingMouseEvents&quot;: true, &quot;color&quot;: &quot;crimson&quot;, &quot;dashArray&quot;: null, &quot;dashOffset&quot;: null, &quot;fill&quot;: false, &quot;fillColor&quot;: &quot;crimson&quot;, &quot;fillOpacity&quot;: 0.2, &quot;fillRule&quot;: &quot;evenodd&quot;, &quot;lineCap&quot;: &quot;round&quot;, &quot;lineJoin&quot;: &quot;round&quot;, &quot;opacity&quot;: 1.0, &quot;radius&quot;: 3, &quot;stroke&quot;: true, &quot;weight&quot;: 3}\n",
       "            ).addTo(map_eb4f4f4f5471cbd5cbf59896c6e7512f);\n",
       "        \n",
       "    \n",
       "        var popup_bba21d8d8e150cd3b7c2d2fab8d3daeb = L.popup({&quot;maxWidth&quot;: &quot;100%&quot;});\n",
       "\n",
       "        \n",
       "            \n",
       "                var html_cbeacae8fc760738a249d7527dd61a10 = $(`&lt;div id=&quot;html_cbeacae8fc760738a249d7527dd61a10&quot; style=&quot;width: 100.0%; height: 100.0%;&quot;&gt;Seediri Appalaraju&lt;/div&gt;`)[0];\n",
       "                popup_bba21d8d8e150cd3b7c2d2fab8d3daeb.setContent(html_cbeacae8fc760738a249d7527dd61a10);\n",
       "            \n",
       "        \n",
       "\n",
       "        circle_marker_9cc04ccaa064ef66a0c01b8777c3314f.bindPopup(popup_bba21d8d8e150cd3b7c2d2fab8d3daeb)\n",
       "        ;\n",
       "\n",
       "        \n",
       "    \n",
       "    \n",
       "            var circle_marker_653ff3748389c28c90bbaf650e9c41d9 = L.circleMarker(\n",
       "                [16.876261316969963, 81.15430104353351],\n",
       "                {&quot;bubblingMouseEvents&quot;: true, &quot;color&quot;: &quot;crimson&quot;, &quot;dashArray&quot;: null, &quot;dashOffset&quot;: null, &quot;fill&quot;: false, &quot;fillColor&quot;: &quot;crimson&quot;, &quot;fillOpacity&quot;: 0.2, &quot;fillRule&quot;: &quot;evenodd&quot;, &quot;lineCap&quot;: &quot;round&quot;, &quot;lineJoin&quot;: &quot;round&quot;, &quot;opacity&quot;: 1.0, &quot;radius&quot;: 3, &quot;stroke&quot;: true, &quot;weight&quot;: 3}\n",
       "            ).addTo(map_eb4f4f4f5471cbd5cbf59896c6e7512f);\n",
       "        \n",
       "    \n",
       "        var popup_5683532f73ae5bfcbad8410b948cc117 = L.popup({&quot;maxWidth&quot;: &quot;100%&quot;});\n",
       "\n",
       "        \n",
       "            \n",
       "                var html_ae3cef91a5b6e1018233b4fc0af5963d = $(`&lt;div id=&quot;html_ae3cef91a5b6e1018233b4fc0af5963d&quot; style=&quot;width: 100.0%; height: 100.0%;&quot;&gt;Talari Venkatrao&lt;/div&gt;`)[0];\n",
       "                popup_5683532f73ae5bfcbad8410b948cc117.setContent(html_ae3cef91a5b6e1018233b4fc0af5963d);\n",
       "            \n",
       "        \n",
       "\n",
       "        circle_marker_653ff3748389c28c90bbaf650e9c41d9.bindPopup(popup_5683532f73ae5bfcbad8410b948cc117)\n",
       "        ;\n",
       "\n",
       "        \n",
       "    \n",
       "    \n",
       "            var circle_marker_75543bdb250ef1ded965b724477ad08a = L.circleMarker(\n",
       "                [15.801756438757469, 78.19651926636891],\n",
       "                {&quot;bubblingMouseEvents&quot;: true, &quot;color&quot;: &quot;crimson&quot;, &quot;dashArray&quot;: null, &quot;dashOffset&quot;: null, &quot;fill&quot;: false, &quot;fillColor&quot;: &quot;crimson&quot;, &quot;fillOpacity&quot;: 0.2, &quot;fillRule&quot;: &quot;evenodd&quot;, &quot;lineCap&quot;: &quot;round&quot;, &quot;lineJoin&quot;: &quot;round&quot;, &quot;opacity&quot;: 1.0, &quot;radius&quot;: 3, &quot;stroke&quot;: true, &quot;weight&quot;: 3}\n",
       "            ).addTo(map_eb4f4f4f5471cbd5cbf59896c6e7512f);\n",
       "        \n",
       "    \n",
       "        var popup_ebc2b78b0253f6ccdeff5a6ab6421245 = L.popup({&quot;maxWidth&quot;: &quot;100%&quot;});\n",
       "\n",
       "        \n",
       "            \n",
       "                var html_42914b06ff0c40a695383356037b0097 = $(`&lt;div id=&quot;html_42914b06ff0c40a695383356037b0097&quot; style=&quot;width: 100.0%; height: 100.0%;&quot;&gt;C. M. Ramesh&lt;/div&gt;`)[0];\n",
       "                popup_ebc2b78b0253f6ccdeff5a6ab6421245.setContent(html_42914b06ff0c40a695383356037b0097);\n",
       "            \n",
       "        \n",
       "\n",
       "        circle_marker_75543bdb250ef1ded965b724477ad08a.bindPopup(popup_ebc2b78b0253f6ccdeff5a6ab6421245)\n",
       "        ;\n",
       "\n",
       "        \n",
       "    \n",
       "    \n",
       "            var circle_marker_da01e86ce4091f97289abc53148daa1b = L.circleMarker(\n",
       "                [15.576626501790953, 79.02419458195328],\n",
       "                {&quot;bubblingMouseEvents&quot;: true, &quot;color&quot;: &quot;crimson&quot;, &quot;dashArray&quot;: null, &quot;dashOffset&quot;: null, &quot;fill&quot;: false, &quot;fillColor&quot;: &quot;crimson&quot;, &quot;fillOpacity&quot;: 0.2, &quot;fillRule&quot;: &quot;evenodd&quot;, &quot;lineCap&quot;: &quot;round&quot;, &quot;lineJoin&quot;: &quot;round&quot;, &quot;opacity&quot;: 1.0, &quot;radius&quot;: 3, &quot;stroke&quot;: true, &quot;weight&quot;: 3}\n",
       "            ).addTo(map_eb4f4f4f5471cbd5cbf59896c6e7512f);\n",
       "        \n",
       "    \n",
       "        var popup_66c3ac7cbf1d1db496fb573a86ddb7b8 = L.popup({&quot;maxWidth&quot;: &quot;100%&quot;});\n",
       "\n",
       "        \n",
       "            \n",
       "                var html_afc172dd931aac172cf16d7667b94cc0 = $(`&lt;div id=&quot;html_afc172dd931aac172cf16d7667b94cc0&quot; style=&quot;width: 100.0%; height: 100.0%;&quot;&gt;V. Rajinikanth&lt;/div&gt;`)[0];\n",
       "                popup_66c3ac7cbf1d1db496fb573a86ddb7b8.setContent(html_afc172dd931aac172cf16d7667b94cc0);\n",
       "            \n",
       "        \n",
       "\n",
       "        circle_marker_da01e86ce4091f97289abc53148daa1b.bindPopup(popup_66c3ac7cbf1d1db496fb573a86ddb7b8)\n",
       "        ;\n",
       "\n",
       "        \n",
       "    \n",
       "    \n",
       "            var circle_marker_010a3480202e43005b7dd33f3ae6c49f = L.circleMarker(\n",
       "                [16.106384915628666, 80.11903731223393],\n",
       "                {&quot;bubblingMouseEvents&quot;: true, &quot;color&quot;: &quot;crimson&quot;, &quot;dashArray&quot;: null, &quot;dashOffset&quot;: null, &quot;fill&quot;: false, &quot;fillColor&quot;: &quot;crimson&quot;, &quot;fillOpacity&quot;: 0.2, &quot;fillRule&quot;: &quot;evenodd&quot;, &quot;lineCap&quot;: &quot;round&quot;, &quot;lineJoin&quot;: &quot;round&quot;, &quot;opacity&quot;: 1.0, &quot;radius&quot;: 3, &quot;stroke&quot;: true, &quot;weight&quot;: 3}\n",
       "            ).addTo(map_eb4f4f4f5471cbd5cbf59896c6e7512f);\n",
       "        \n",
       "    \n",
       "        var popup_683c915ee7e2607d1008f982c97071da = L.popup({&quot;maxWidth&quot;: &quot;100%&quot;});\n",
       "\n",
       "        \n",
       "            \n",
       "                var html_fe515b7b9bdfeef833103e3d18bdb82a = $(`&lt;div id=&quot;html_fe515b7b9bdfeef833103e3d18bdb82a&quot; style=&quot;width: 100.0%; height: 100.0%;&quot;&gt;Varaprasad Rao Velagapalli&lt;/div&gt;`)[0];\n",
       "                popup_683c915ee7e2607d1008f982c97071da.setContent(html_fe515b7b9bdfeef833103e3d18bdb82a);\n",
       "            \n",
       "        \n",
       "\n",
       "        circle_marker_010a3480202e43005b7dd33f3ae6c49f.bindPopup(popup_683c915ee7e2607d1008f982c97071da)\n",
       "        ;\n",
       "\n",
       "        \n",
       "    \n",
       "    \n",
       "            var circle_marker_eb54d9fdae6bb002d95835e82f155ef1 = L.circleMarker(\n",
       "                [16.475964736888532, 80.32695418773592],\n",
       "                {&quot;bubblingMouseEvents&quot;: true, &quot;color&quot;: &quot;crimson&quot;, &quot;dashArray&quot;: null, &quot;dashOffset&quot;: null, &quot;fill&quot;: false, &quot;fillColor&quot;: &quot;crimson&quot;, &quot;fillOpacity&quot;: 0.2, &quot;fillRule&quot;: &quot;evenodd&quot;, &quot;lineCap&quot;: &quot;round&quot;, &quot;lineJoin&quot;: &quot;round&quot;, &quot;opacity&quot;: 1.0, &quot;radius&quot;: 3, &quot;stroke&quot;: true, &quot;weight&quot;: 3}\n",
       "            ).addTo(map_eb4f4f4f5471cbd5cbf59896c6e7512f);\n",
       "        \n",
       "    \n",
       "        var popup_a77c31c150642e5105b6f223dd9c9d0f = L.popup({&quot;maxWidth&quot;: &quot;100%&quot;});\n",
       "\n",
       "        \n",
       "            \n",
       "                var html_4160e6c4901950ccfdb2360f6de2a2ef = $(`&lt;div id=&quot;html_4160e6c4901950ccfdb2360f6de2a2ef&quot; style=&quot;width: 100.0%; height: 100.0%;&quot;&gt;Gottipati Ravikumar&lt;/div&gt;`)[0];\n",
       "                popup_a77c31c150642e5105b6f223dd9c9d0f.setContent(html_4160e6c4901950ccfdb2360f6de2a2ef);\n",
       "            \n",
       "        \n",
       "\n",
       "        circle_marker_eb54d9fdae6bb002d95835e82f155ef1.bindPopup(popup_a77c31c150642e5105b6f223dd9c9d0f)\n",
       "        ;\n",
       "\n",
       "        \n",
       "    \n",
       "    \n",
       "            var circle_marker_6e91eb9d37f080ba7ac11dc4b31569b5 = L.circleMarker(\n",
       "                [16.20372151215504, 78.76878101561555],\n",
       "                {&quot;bubblingMouseEvents&quot;: true, &quot;color&quot;: &quot;crimson&quot;, &quot;dashArray&quot;: null, &quot;dashOffset&quot;: null, &quot;fill&quot;: false, &quot;fillColor&quot;: &quot;crimson&quot;, &quot;fillOpacity&quot;: 0.2, &quot;fillRule&quot;: &quot;evenodd&quot;, &quot;lineCap&quot;: &quot;round&quot;, &quot;lineJoin&quot;: &quot;round&quot;, &quot;opacity&quot;: 1.0, &quot;radius&quot;: 3, &quot;stroke&quot;: true, &quot;weight&quot;: 3}\n",
       "            ).addTo(map_eb4f4f4f5471cbd5cbf59896c6e7512f);\n",
       "        \n",
       "    \n",
       "        var popup_de12d8711f765b457a95dd0ba6d90027 = L.popup({&quot;maxWidth&quot;: &quot;100%&quot;});\n",
       "\n",
       "        \n",
       "            \n",
       "                var html_879d4ef6f5b5ba7d4a93b12c25c236f6 = $(`&lt;div id=&quot;html_879d4ef6f5b5ba7d4a93b12c25c236f6&quot; style=&quot;width: 100.0%; height: 100.0%;&quot;&gt;Kambala Jogulu&lt;/div&gt;`)[0];\n",
       "                popup_de12d8711f765b457a95dd0ba6d90027.setContent(html_879d4ef6f5b5ba7d4a93b12c25c236f6);\n",
       "            \n",
       "        \n",
       "\n",
       "        circle_marker_6e91eb9d37f080ba7ac11dc4b31569b5.bindPopup(popup_de12d8711f765b457a95dd0ba6d90027)\n",
       "        ;\n",
       "\n",
       "        \n",
       "    \n",
       "    \n",
       "            var circle_marker_163ef24f0958596fe04a73f842f2509d = L.circleMarker(\n",
       "                [16.939556395733455, 80.38542067841166],\n",
       "                {&quot;bubblingMouseEvents&quot;: true, &quot;color&quot;: &quot;crimson&quot;, &quot;dashArray&quot;: null, &quot;dashOffset&quot;: null, &quot;fill&quot;: false, &quot;fillColor&quot;: &quot;crimson&quot;, &quot;fillOpacity&quot;: 0.2, &quot;fillRule&quot;: &quot;evenodd&quot;, &quot;lineCap&quot;: &quot;round&quot;, &quot;lineJoin&quot;: &quot;round&quot;, &quot;opacity&quot;: 1.0, &quot;radius&quot;: 3, &quot;stroke&quot;: true, &quot;weight&quot;: 3}\n",
       "            ).addTo(map_eb4f4f4f5471cbd5cbf59896c6e7512f);\n",
       "        \n",
       "    \n",
       "        var popup_f703281d2e895753afcaddc6ac44d8bd = L.popup({&quot;maxWidth&quot;: &quot;100%&quot;});\n",
       "\n",
       "        \n",
       "            \n",
       "                var html_27c6e4048a2d1f9685e14179227bef2d = $(`&lt;div id=&quot;html_27c6e4048a2d1f9685e14179227bef2d&quot; style=&quot;width: 100.0%; height: 100.0%;&quot;&gt;SRI RAPAKA VARA PRASADA RAO&lt;/div&gt;`)[0];\n",
       "                popup_f703281d2e895753afcaddc6ac44d8bd.setContent(html_27c6e4048a2d1f9685e14179227bef2d);\n",
       "            \n",
       "        \n",
       "\n",
       "        circle_marker_163ef24f0958596fe04a73f842f2509d.bindPopup(popup_f703281d2e895753afcaddc6ac44d8bd)\n",
       "        ;\n",
       "\n",
       "        \n",
       "    \n",
       "    \n",
       "            var circle_marker_05a3439027bef9faef21450d8ef7825a = L.circleMarker(\n",
       "                [15.83801706180142, 79.24081119176546],\n",
       "                {&quot;bubblingMouseEvents&quot;: true, &quot;color&quot;: &quot;crimson&quot;, &quot;dashArray&quot;: null, &quot;dashOffset&quot;: null, &quot;fill&quot;: false, &quot;fillColor&quot;: &quot;crimson&quot;, &quot;fillOpacity&quot;: 0.2, &quot;fillRule&quot;: &quot;evenodd&quot;, &quot;lineCap&quot;: &quot;round&quot;, &quot;lineJoin&quot;: &quot;round&quot;, &quot;opacity&quot;: 1.0, &quot;radius&quot;: 3, &quot;stroke&quot;: true, &quot;weight&quot;: 3}\n",
       "            ).addTo(map_eb4f4f4f5471cbd5cbf59896c6e7512f);\n",
       "        \n",
       "    \n",
       "        var popup_c9d2e888b7a1ed5ff8c3b64f609fc047 = L.popup({&quot;maxWidth&quot;: &quot;100%&quot;});\n",
       "\n",
       "        \n",
       "            \n",
       "                var html_7ab8aee6da1c0bb5a993515d0131c3cc = $(`&lt;div id=&quot;html_7ab8aee6da1c0bb5a993515d0131c3cc&quot; style=&quot;width: 100.0%; height: 100.0%;&quot;&gt;Mule Sudheer Reddy&lt;/div&gt;`)[0];\n",
       "                popup_c9d2e888b7a1ed5ff8c3b64f609fc047.setContent(html_7ab8aee6da1c0bb5a993515d0131c3cc);\n",
       "            \n",
       "        \n",
       "\n",
       "        circle_marker_05a3439027bef9faef21450d8ef7825a.bindPopup(popup_c9d2e888b7a1ed5ff8c3b64f609fc047)\n",
       "        ;\n",
       "\n",
       "        \n",
       "    \n",
       "    \n",
       "            var circle_marker_1022534f430ea96c917432eb7c543225 = L.circleMarker(\n",
       "                [16.761255039733978, 79.26228407841518],\n",
       "                {&quot;bubblingMouseEvents&quot;: true, &quot;color&quot;: &quot;crimson&quot;, &quot;dashArray&quot;: null, &quot;dashOffset&quot;: null, &quot;fill&quot;: false, &quot;fillColor&quot;: &quot;crimson&quot;, &quot;fillOpacity&quot;: 0.2, &quot;fillRule&quot;: &quot;evenodd&quot;, &quot;lineCap&quot;: &quot;round&quot;, &quot;lineJoin&quot;: &quot;round&quot;, &quot;opacity&quot;: 1.0, &quot;radius&quot;: 3, &quot;stroke&quot;: true, &quot;weight&quot;: 3}\n",
       "            ).addTo(map_eb4f4f4f5471cbd5cbf59896c6e7512f);\n",
       "        \n",
       "    \n",
       "        var popup_1a95050c22a9f878830be64889455d04 = L.popup({&quot;maxWidth&quot;: &quot;100%&quot;});\n",
       "\n",
       "        \n",
       "            \n",
       "                var html_6e50c2f07b3736fb4a42976a03a3e158 = $(`&lt;div id=&quot;html_6e50c2f07b3736fb4a42976a03a3e158&quot; style=&quot;width: 100.0%; height: 100.0%;&quot;&gt;Kakani Govardhan Reddy&lt;/div&gt;`)[0];\n",
       "                popup_1a95050c22a9f878830be64889455d04.setContent(html_6e50c2f07b3736fb4a42976a03a3e158);\n",
       "            \n",
       "        \n",
       "\n",
       "        circle_marker_1022534f430ea96c917432eb7c543225.bindPopup(popup_1a95050c22a9f878830be64889455d04)\n",
       "        ;\n",
       "\n",
       "        \n",
       "    \n",
       "    \n",
       "            var circle_marker_f5bbec6f50c2116cd8d5a7e105db1d94 = L.circleMarker(\n",
       "                [16.900895164751244, 79.35534348334711],\n",
       "                {&quot;bubblingMouseEvents&quot;: true, &quot;color&quot;: &quot;crimson&quot;, &quot;dashArray&quot;: null, &quot;dashOffset&quot;: null, &quot;fill&quot;: false, &quot;fillColor&quot;: &quot;crimson&quot;, &quot;fillOpacity&quot;: 0.2, &quot;fillRule&quot;: &quot;evenodd&quot;, &quot;lineCap&quot;: &quot;round&quot;, &quot;lineJoin&quot;: &quot;round&quot;, &quot;opacity&quot;: 1.0, &quot;radius&quot;: 3, &quot;stroke&quot;: true, &quot;weight&quot;: 3}\n",
       "            ).addTo(map_eb4f4f4f5471cbd5cbf59896c6e7512f);\n",
       "        \n",
       "    \n",
       "        var popup_08368eea0c149db640f5dc509e9958a9 = L.popup({&quot;maxWidth&quot;: &quot;100%&quot;});\n",
       "\n",
       "        \n",
       "            \n",
       "                var html_88f856f9812b855f928d2646b105be4c = $(`&lt;div id=&quot;html_88f856f9812b855f928d2646b105be4c&quot; style=&quot;width: 100.0%; height: 100.0%;&quot;&gt;udayabhanu samineni&lt;/div&gt;`)[0];\n",
       "                popup_08368eea0c149db640f5dc509e9958a9.setContent(html_88f856f9812b855f928d2646b105be4c);\n",
       "            \n",
       "        \n",
       "\n",
       "        circle_marker_f5bbec6f50c2116cd8d5a7e105db1d94.bindPopup(popup_08368eea0c149db640f5dc509e9958a9)\n",
       "        ;\n",
       "\n",
       "        \n",
       "    \n",
       "    \n",
       "            var circle_marker_b0f7dfd09f2a85e0bdd9d0fce85ec6dc = L.circleMarker(\n",
       "                [15.4502327776982, 78.36644993068313],\n",
       "                {&quot;bubblingMouseEvents&quot;: true, &quot;color&quot;: &quot;crimson&quot;, &quot;dashArray&quot;: null, &quot;dashOffset&quot;: null, &quot;fill&quot;: false, &quot;fillColor&quot;: &quot;crimson&quot;, &quot;fillOpacity&quot;: 0.2, &quot;fillRule&quot;: &quot;evenodd&quot;, &quot;lineCap&quot;: &quot;round&quot;, &quot;lineJoin&quot;: &quot;round&quot;, &quot;opacity&quot;: 1.0, &quot;radius&quot;: 3, &quot;stroke&quot;: true, &quot;weight&quot;: 3}\n",
       "            ).addTo(map_eb4f4f4f5471cbd5cbf59896c6e7512f);\n",
       "        \n",
       "    \n",
       "        var popup_f9ef6f7418c0d41425bb4b10538fc8e3 = L.popup({&quot;maxWidth&quot;: &quot;100%&quot;});\n",
       "\n",
       "        \n",
       "            \n",
       "                var html_fc67981a38746c5d21636aaeb162d911 = $(`&lt;div id=&quot;html_fc67981a38746c5d21636aaeb162d911&quot; style=&quot;width: 100.0%; height: 100.0%;&quot;&gt;Bhumana Karunakar Reddy&lt;/div&gt;`)[0];\n",
       "                popup_f9ef6f7418c0d41425bb4b10538fc8e3.setContent(html_fc67981a38746c5d21636aaeb162d911);\n",
       "            \n",
       "        \n",
       "\n",
       "        circle_marker_b0f7dfd09f2a85e0bdd9d0fce85ec6dc.bindPopup(popup_f9ef6f7418c0d41425bb4b10538fc8e3)\n",
       "        ;\n",
       "\n",
       "        \n",
       "    \n",
       "    \n",
       "            var circle_marker_d84d5f65cd46139c3178e42286a12fd7 = L.circleMarker(\n",
       "                [16.557674460979623, 81.12122485686051],\n",
       "                {&quot;bubblingMouseEvents&quot;: true, &quot;color&quot;: &quot;crimson&quot;, &quot;dashArray&quot;: null, &quot;dashOffset&quot;: null, &quot;fill&quot;: false, &quot;fillColor&quot;: &quot;crimson&quot;, &quot;fillOpacity&quot;: 0.2, &quot;fillRule&quot;: &quot;evenodd&quot;, &quot;lineCap&quot;: &quot;round&quot;, &quot;lineJoin&quot;: &quot;round&quot;, &quot;opacity&quot;: 1.0, &quot;radius&quot;: 3, &quot;stroke&quot;: true, &quot;weight&quot;: 3}\n",
       "            ).addTo(map_eb4f4f4f5471cbd5cbf59896c6e7512f);\n",
       "        \n",
       "    \n",
       "        var popup_9d281fedfb8ef2c2fffab113b3f8379b = L.popup({&quot;maxWidth&quot;: &quot;100%&quot;});\n",
       "\n",
       "        \n",
       "            \n",
       "                var html_34ab3066565df27be9f50156f2241667 = $(`&lt;div id=&quot;html_34ab3066565df27be9f50156f2241667&quot; style=&quot;width: 100.0%; height: 100.0%;&quot;&gt;R K roja&lt;/div&gt;`)[0];\n",
       "                popup_9d281fedfb8ef2c2fffab113b3f8379b.setContent(html_34ab3066565df27be9f50156f2241667);\n",
       "            \n",
       "        \n",
       "\n",
       "        circle_marker_d84d5f65cd46139c3178e42286a12fd7.bindPopup(popup_9d281fedfb8ef2c2fffab113b3f8379b)\n",
       "        ;\n",
       "\n",
       "        \n",
       "    \n",
       "    \n",
       "            var circle_marker_39cc587a90c36dc6aee251d5e3a50324 = L.circleMarker(\n",
       "                [15.85192624027771, 78.73708421202048],\n",
       "                {&quot;bubblingMouseEvents&quot;: true, &quot;color&quot;: &quot;crimson&quot;, &quot;dashArray&quot;: null, &quot;dashOffset&quot;: null, &quot;fill&quot;: false, &quot;fillColor&quot;: &quot;crimson&quot;, &quot;fillOpacity&quot;: 0.2, &quot;fillRule&quot;: &quot;evenodd&quot;, &quot;lineCap&quot;: &quot;round&quot;, &quot;lineJoin&quot;: &quot;round&quot;, &quot;opacity&quot;: 1.0, &quot;radius&quot;: 3, &quot;stroke&quot;: true, &quot;weight&quot;: 3}\n",
       "            ).addTo(map_eb4f4f4f5471cbd5cbf59896c6e7512f);\n",
       "        \n",
       "    \n",
       "        var popup_6c59149aafea2edf79533de12925d060 = L.popup({&quot;maxWidth&quot;: &quot;100%&quot;});\n",
       "\n",
       "        \n",
       "            \n",
       "                var html_65e41cd253558914459208cdec7d3a6b = $(`&lt;div id=&quot;html_65e41cd253558914459208cdec7d3a6b&quot; style=&quot;width: 100.0%; height: 100.0%;&quot;&gt;Kolagatla Veerabhadra Swamy&lt;/div&gt;`)[0];\n",
       "                popup_6c59149aafea2edf79533de12925d060.setContent(html_65e41cd253558914459208cdec7d3a6b);\n",
       "            \n",
       "        \n",
       "\n",
       "        circle_marker_39cc587a90c36dc6aee251d5e3a50324.bindPopup(popup_6c59149aafea2edf79533de12925d060)\n",
       "        ;\n",
       "\n",
       "        \n",
       "    \n",
       "    \n",
       "            var circle_marker_8552c53ae4e8f6b4b3e3a57bb571ed44 = L.circleMarker(\n",
       "                [16.320040907164408, 79.70775610620043],\n",
       "                {&quot;bubblingMouseEvents&quot;: true, &quot;color&quot;: &quot;crimson&quot;, &quot;dashArray&quot;: null, &quot;dashOffset&quot;: null, &quot;fill&quot;: false, &quot;fillColor&quot;: &quot;crimson&quot;, &quot;fillOpacity&quot;: 0.2, &quot;fillRule&quot;: &quot;evenodd&quot;, &quot;lineCap&quot;: &quot;round&quot;, &quot;lineJoin&quot;: &quot;round&quot;, &quot;opacity&quot;: 1.0, &quot;radius&quot;: 3, &quot;stroke&quot;: true, &quot;weight&quot;: 3}\n",
       "            ).addTo(map_eb4f4f4f5471cbd5cbf59896c6e7512f);\n",
       "        \n",
       "    \n",
       "        var popup_8081047c92d8b404705f07601f6b38dc = L.popup({&quot;maxWidth&quot;: &quot;100%&quot;});\n",
       "\n",
       "        \n",
       "            \n",
       "                var html_e5d1c5aad97295e5af3bcc492276158d = $(`&lt;div id=&quot;html_e5d1c5aad97295e5af3bcc492276158d&quot; style=&quot;width: 100.0%; height: 100.0%;&quot;&gt;Annamreddy Adeep Raj&lt;/div&gt;`)[0];\n",
       "                popup_8081047c92d8b404705f07601f6b38dc.setContent(html_e5d1c5aad97295e5af3bcc492276158d);\n",
       "            \n",
       "        \n",
       "\n",
       "        circle_marker_8552c53ae4e8f6b4b3e3a57bb571ed44.bindPopup(popup_8081047c92d8b404705f07601f6b38dc)\n",
       "        ;\n",
       "\n",
       "        \n",
       "    \n",
       "    \n",
       "            var circle_marker_44b89183ef4feaa0f13d35659b1084f2 = L.circleMarker(\n",
       "                [16.32452479580445, 80.33870818683201],\n",
       "                {&quot;bubblingMouseEvents&quot;: true, &quot;color&quot;: &quot;crimson&quot;, &quot;dashArray&quot;: null, &quot;dashOffset&quot;: null, &quot;fill&quot;: false, &quot;fillColor&quot;: &quot;crimson&quot;, &quot;fillOpacity&quot;: 0.2, &quot;fillRule&quot;: &quot;evenodd&quot;, &quot;lineCap&quot;: &quot;round&quot;, &quot;lineJoin&quot;: &quot;round&quot;, &quot;opacity&quot;: 1.0, &quot;radius&quot;: 3, &quot;stroke&quot;: true, &quot;weight&quot;: 3}\n",
       "            ).addTo(map_eb4f4f4f5471cbd5cbf59896c6e7512f);\n",
       "        \n",
       "    \n",
       "        var popup_5cd2446af29c08cbef85af789998c9a1 = L.popup({&quot;maxWidth&quot;: &quot;100%&quot;});\n",
       "\n",
       "        \n",
       "            \n",
       "                var html_b2ab252ddf38e4f51fa67fc42a66b3d0 = $(`&lt;div id=&quot;html_b2ab252ddf38e4f51fa67fc42a66b3d0&quot; style=&quot;width: 100.0%; height: 100.0%;&quot;&gt;Adala Prabhakar Reddy&lt;/div&gt;`)[0];\n",
       "                popup_5cd2446af29c08cbef85af789998c9a1.setContent(html_b2ab252ddf38e4f51fa67fc42a66b3d0);\n",
       "            \n",
       "        \n",
       "\n",
       "        circle_marker_44b89183ef4feaa0f13d35659b1084f2.bindPopup(popup_5cd2446af29c08cbef85af789998c9a1)\n",
       "        ;\n",
       "\n",
       "        \n",
       "    \n",
       "    \n",
       "            var circle_marker_c67ddd8def637577f0749c1285c2b0d7 = L.circleMarker(\n",
       "                [16.195822078820655, 79.11858452045446],\n",
       "                {&quot;bubblingMouseEvents&quot;: true, &quot;color&quot;: &quot;crimson&quot;, &quot;dashArray&quot;: null, &quot;dashOffset&quot;: null, &quot;fill&quot;: false, &quot;fillColor&quot;: &quot;crimson&quot;, &quot;fillOpacity&quot;: 0.2, &quot;fillRule&quot;: &quot;evenodd&quot;, &quot;lineCap&quot;: &quot;round&quot;, &quot;lineJoin&quot;: &quot;round&quot;, &quot;opacity&quot;: 1.0, &quot;radius&quot;: 3, &quot;stroke&quot;: true, &quot;weight&quot;: 3}\n",
       "            ).addTo(map_eb4f4f4f5471cbd5cbf59896c6e7512f);\n",
       "        \n",
       "    \n",
       "        var popup_ad75e592286c379b5bd33fbc49ee0325 = L.popup({&quot;maxWidth&quot;: &quot;100%&quot;});\n",
       "\n",
       "        \n",
       "            \n",
       "                var html_f8d1db33378f4a504cbbee13fe7c5db9 = $(`&lt;div id=&quot;html_f8d1db33378f4a504cbbee13fe7c5db9&quot; style=&quot;width: 100.0%; height: 100.0%;&quot;&gt;Nandigam Suresh&lt;/div&gt;`)[0];\n",
       "                popup_ad75e592286c379b5bd33fbc49ee0325.setContent(html_f8d1db33378f4a504cbbee13fe7c5db9);\n",
       "            \n",
       "        \n",
       "\n",
       "        circle_marker_c67ddd8def637577f0749c1285c2b0d7.bindPopup(popup_ad75e592286c379b5bd33fbc49ee0325)\n",
       "        ;\n",
       "\n",
       "        \n",
       "    \n",
       "    \n",
       "            var circle_marker_b6294440b8f86df00a2315d780ac2022 = L.circleMarker(\n",
       "                [15.350862348143334, 79.58105541454835],\n",
       "                {&quot;bubblingMouseEvents&quot;: true, &quot;color&quot;: &quot;crimson&quot;, &quot;dashArray&quot;: null, &quot;dashOffset&quot;: null, &quot;fill&quot;: false, &quot;fillColor&quot;: &quot;crimson&quot;, &quot;fillOpacity&quot;: 0.2, &quot;fillRule&quot;: &quot;evenodd&quot;, &quot;lineCap&quot;: &quot;round&quot;, &quot;lineJoin&quot;: &quot;round&quot;, &quot;opacity&quot;: 1.0, &quot;radius&quot;: 3, &quot;stroke&quot;: true, &quot;weight&quot;: 3}\n",
       "            ).addTo(map_eb4f4f4f5471cbd5cbf59896c6e7512f);\n",
       "        \n",
       "    \n",
       "        var popup_2256cc5d271635bb8a2a4d44b60db58c = L.popup({&quot;maxWidth&quot;: &quot;100%&quot;});\n",
       "\n",
       "        \n",
       "            \n",
       "                var html_917d383ea807aa9680ded5b4fc70a52f = $(`&lt;div id=&quot;html_917d383ea807aa9680ded5b4fc70a52f&quot; style=&quot;width: 100.0%; height: 100.0%;&quot;&gt;Dwarampudi Chandrasekhar Reddy&lt;/div&gt;`)[0];\n",
       "                popup_2256cc5d271635bb8a2a4d44b60db58c.setContent(html_917d383ea807aa9680ded5b4fc70a52f);\n",
       "            \n",
       "        \n",
       "\n",
       "        circle_marker_b6294440b8f86df00a2315d780ac2022.bindPopup(popup_2256cc5d271635bb8a2a4d44b60db58c)\n",
       "        ;\n",
       "\n",
       "        \n",
       "    \n",
       "    \n",
       "            var circle_marker_43c3d728b07d62d13f8f335ee2a0fa63 = L.circleMarker(\n",
       "                [17.00425434349132, 80.58376347125294],\n",
       "                {&quot;bubblingMouseEvents&quot;: true, &quot;color&quot;: &quot;crimson&quot;, &quot;dashArray&quot;: null, &quot;dashOffset&quot;: null, &quot;fill&quot;: false, &quot;fillColor&quot;: &quot;crimson&quot;, &quot;fillOpacity&quot;: 0.2, &quot;fillRule&quot;: &quot;evenodd&quot;, &quot;lineCap&quot;: &quot;round&quot;, &quot;lineJoin&quot;: &quot;round&quot;, &quot;opacity&quot;: 1.0, &quot;radius&quot;: 3, &quot;stroke&quot;: true, &quot;weight&quot;: 3}\n",
       "            ).addTo(map_eb4f4f4f5471cbd5cbf59896c6e7512f);\n",
       "        \n",
       "    \n",
       "        var popup_f4d839fc102f0f298d3a7636b2ec4c91 = L.popup({&quot;maxWidth&quot;: &quot;100%&quot;});\n",
       "\n",
       "        \n",
       "            \n",
       "                var html_bd38c696455b4489b4ca9930c07dd6f3 = $(`&lt;div id=&quot;html_bd38c696455b4489b4ca9930c07dd6f3&quot; style=&quot;width: 100.0%; height: 100.0%;&quot;&gt;Kottu Satyanarayana&lt;/div&gt;`)[0];\n",
       "                popup_f4d839fc102f0f298d3a7636b2ec4c91.setContent(html_bd38c696455b4489b4ca9930c07dd6f3);\n",
       "            \n",
       "        \n",
       "\n",
       "        circle_marker_43c3d728b07d62d13f8f335ee2a0fa63.bindPopup(popup_f4d839fc102f0f298d3a7636b2ec4c91)\n",
       "        ;\n",
       "\n",
       "        \n",
       "    \n",
       "    \n",
       "            var circle_marker_da8ca86a6e000dc368cb929a031029af = L.circleMarker(\n",
       "                [15.11285085310257, 78.93057019224554],\n",
       "                {&quot;bubblingMouseEvents&quot;: true, &quot;color&quot;: &quot;crimson&quot;, &quot;dashArray&quot;: null, &quot;dashOffset&quot;: null, &quot;fill&quot;: false, &quot;fillColor&quot;: &quot;crimson&quot;, &quot;fillOpacity&quot;: 0.2, &quot;fillRule&quot;: &quot;evenodd&quot;, &quot;lineCap&quot;: &quot;round&quot;, &quot;lineJoin&quot;: &quot;round&quot;, &quot;opacity&quot;: 1.0, &quot;radius&quot;: 3, &quot;stroke&quot;: true, &quot;weight&quot;: 3}\n",
       "            ).addTo(map_eb4f4f4f5471cbd5cbf59896c6e7512f);\n",
       "        \n",
       "    \n",
       "        var popup_a064da18613a01d075a5c1c9aa9f8b3e = L.popup({&quot;maxWidth&quot;: &quot;100%&quot;});\n",
       "\n",
       "        \n",
       "            \n",
       "                var html_05ee3d42bad378f400b57d3d90c5db03 = $(`&lt;div id=&quot;html_05ee3d42bad378f400b57d3d90c5db03&quot; style=&quot;width: 100.0%; height: 100.0%;&quot;&gt;Alla Kali Krishna Srinivas&lt;/div&gt;`)[0];\n",
       "                popup_a064da18613a01d075a5c1c9aa9f8b3e.setContent(html_05ee3d42bad378f400b57d3d90c5db03);\n",
       "            \n",
       "        \n",
       "\n",
       "        circle_marker_da8ca86a6e000dc368cb929a031029af.bindPopup(popup_a064da18613a01d075a5c1c9aa9f8b3e)\n",
       "        ;\n",
       "\n",
       "        \n",
       "    \n",
       "    \n",
       "            var circle_marker_4232c8f0a35c155cf3ff8a5e1a3de541 = L.circleMarker(\n",
       "                [16.976032050184727, 79.65374406081781],\n",
       "                {&quot;bubblingMouseEvents&quot;: true, &quot;color&quot;: &quot;crimson&quot;, &quot;dashArray&quot;: null, &quot;dashOffset&quot;: null, &quot;fill&quot;: false, &quot;fillColor&quot;: &quot;crimson&quot;, &quot;fillOpacity&quot;: 0.2, &quot;fillRule&quot;: &quot;evenodd&quot;, &quot;lineCap&quot;: &quot;round&quot;, &quot;lineJoin&quot;: &quot;round&quot;, &quot;opacity&quot;: 1.0, &quot;radius&quot;: 3, &quot;stroke&quot;: true, &quot;weight&quot;: 3}\n",
       "            ).addTo(map_eb4f4f4f5471cbd5cbf59896c6e7512f);\n",
       "        \n",
       "    \n",
       "        var popup_5c577cdecb02c6cba3d822843c890c7a = L.popup({&quot;maxWidth&quot;: &quot;100%&quot;});\n",
       "\n",
       "        \n",
       "            \n",
       "                var html_93a3db5f29fc70e60f2dadf2c7044c7c = $(`&lt;div id=&quot;html_93a3db5f29fc70e60f2dadf2c7044c7c&quot; style=&quot;width: 100.0%; height: 100.0%;&quot;&gt;Advocate  Sravan Kumar&lt;/div&gt;`)[0];\n",
       "                popup_5c577cdecb02c6cba3d822843c890c7a.setContent(html_93a3db5f29fc70e60f2dadf2c7044c7c);\n",
       "            \n",
       "        \n",
       "\n",
       "        circle_marker_4232c8f0a35c155cf3ff8a5e1a3de541.bindPopup(popup_5c577cdecb02c6cba3d822843c890c7a)\n",
       "        ;\n",
       "\n",
       "        \n",
       "    \n",
       "    \n",
       "            var circle_marker_b0b859b8c168dfe1746df5cd8b8f05e6 = L.circleMarker(\n",
       "                [16.933938126502024, 79.65604195515266],\n",
       "                {&quot;bubblingMouseEvents&quot;: true, &quot;color&quot;: &quot;crimson&quot;, &quot;dashArray&quot;: null, &quot;dashOffset&quot;: null, &quot;fill&quot;: false, &quot;fillColor&quot;: &quot;crimson&quot;, &quot;fillOpacity&quot;: 0.2, &quot;fillRule&quot;: &quot;evenodd&quot;, &quot;lineCap&quot;: &quot;round&quot;, &quot;lineJoin&quot;: &quot;round&quot;, &quot;opacity&quot;: 1.0, &quot;radius&quot;: 3, &quot;stroke&quot;: true, &quot;weight&quot;: 3}\n",
       "            ).addTo(map_eb4f4f4f5471cbd5cbf59896c6e7512f);\n",
       "        \n",
       "    \n",
       "        var popup_e36c28658c19be3e838d2a791baaec32 = L.popup({&quot;maxWidth&quot;: &quot;100%&quot;});\n",
       "\n",
       "        \n",
       "            \n",
       "                var html_b65828d7888da373b3c73b348718bd62 = $(`&lt;div id=&quot;html_b65828d7888da373b3c73b348718bd62&quot; style=&quot;width: 100.0%; height: 100.0%;&quot;&gt;Chevireddy Bhaskar Reddy&lt;/div&gt;`)[0];\n",
       "                popup_e36c28658c19be3e838d2a791baaec32.setContent(html_b65828d7888da373b3c73b348718bd62);\n",
       "            \n",
       "        \n",
       "\n",
       "        circle_marker_b0b859b8c168dfe1746df5cd8b8f05e6.bindPopup(popup_e36c28658c19be3e838d2a791baaec32)\n",
       "        ;\n",
       "\n",
       "        \n",
       "    \n",
       "    \n",
       "            var circle_marker_46943de203863ac316fa9a83093083ee = L.circleMarker(\n",
       "                [15.751019314836505, 80.49112951073188],\n",
       "                {&quot;bubblingMouseEvents&quot;: true, &quot;color&quot;: &quot;crimson&quot;, &quot;dashArray&quot;: null, &quot;dashOffset&quot;: null, &quot;fill&quot;: false, &quot;fillColor&quot;: &quot;crimson&quot;, &quot;fillOpacity&quot;: 0.2, &quot;fillRule&quot;: &quot;evenodd&quot;, &quot;lineCap&quot;: &quot;round&quot;, &quot;lineJoin&quot;: &quot;round&quot;, &quot;opacity&quot;: 1.0, &quot;radius&quot;: 3, &quot;stroke&quot;: true, &quot;weight&quot;: 3}\n",
       "            ).addTo(map_eb4f4f4f5471cbd5cbf59896c6e7512f);\n",
       "        \n",
       "    \n",
       "        var popup_1e46d26a76d5263c6e4c1d99f2e0fb10 = L.popup({&quot;maxWidth&quot;: &quot;100%&quot;});\n",
       "\n",
       "        \n",
       "            \n",
       "                var html_04ceac8b50355c0d281c3cd5ef2fcd07 = $(`&lt;div id=&quot;html_04ceac8b50355c0d281c3cd5ef2fcd07&quot; style=&quot;width: 100.0%; height: 100.0%;&quot;&gt;Gopireddy Srinivasareddy&lt;/div&gt;`)[0];\n",
       "                popup_1e46d26a76d5263c6e4c1d99f2e0fb10.setContent(html_04ceac8b50355c0d281c3cd5ef2fcd07);\n",
       "            \n",
       "        \n",
       "\n",
       "        circle_marker_46943de203863ac316fa9a83093083ee.bindPopup(popup_1e46d26a76d5263c6e4c1d99f2e0fb10)\n",
       "        ;\n",
       "\n",
       "        \n",
       "    \n",
       "    \n",
       "            var circle_marker_ff602306ad7e411094fd7399f0bdf376 = L.circleMarker(\n",
       "                [16.362468674214757, 78.7429183047018],\n",
       "                {&quot;bubblingMouseEvents&quot;: true, &quot;color&quot;: &quot;crimson&quot;, &quot;dashArray&quot;: null, &quot;dashOffset&quot;: null, &quot;fill&quot;: false, &quot;fillColor&quot;: &quot;crimson&quot;, &quot;fillOpacity&quot;: 0.2, &quot;fillRule&quot;: &quot;evenodd&quot;, &quot;lineCap&quot;: &quot;round&quot;, &quot;lineJoin&quot;: &quot;round&quot;, &quot;opacity&quot;: 1.0, &quot;radius&quot;: 3, &quot;stroke&quot;: true, &quot;weight&quot;: 3}\n",
       "            ).addTo(map_eb4f4f4f5471cbd5cbf59896c6e7512f);\n",
       "        \n",
       "    \n",
       "        var popup_88d3fbe940f967e842bcd4162c217759 = L.popup({&quot;maxWidth&quot;: &quot;100%&quot;});\n",
       "\n",
       "        \n",
       "            \n",
       "                var html_a5e60c79533b6d63b3cd05f53e3e17bc = $(`&lt;div id=&quot;html_a5e60c79533b6d63b3cd05f53e3e17bc&quot; style=&quot;width: 100.0%; height: 100.0%;&quot;&gt;Ashok Bendalam&lt;/div&gt;`)[0];\n",
       "                popup_88d3fbe940f967e842bcd4162c217759.setContent(html_a5e60c79533b6d63b3cd05f53e3e17bc);\n",
       "            \n",
       "        \n",
       "\n",
       "        circle_marker_ff602306ad7e411094fd7399f0bdf376.bindPopup(popup_88d3fbe940f967e842bcd4162c217759)\n",
       "        ;\n",
       "\n",
       "        \n",
       "    \n",
       "    \n",
       "            var circle_marker_c4ff6bfddc23f5a2ccde185a7451d178 = L.circleMarker(\n",
       "                [16.23990589570687, 81.01823514566773],\n",
       "                {&quot;bubblingMouseEvents&quot;: true, &quot;color&quot;: &quot;crimson&quot;, &quot;dashArray&quot;: null, &quot;dashOffset&quot;: null, &quot;fill&quot;: false, &quot;fillColor&quot;: &quot;crimson&quot;, &quot;fillOpacity&quot;: 0.2, &quot;fillRule&quot;: &quot;evenodd&quot;, &quot;lineCap&quot;: &quot;round&quot;, &quot;lineJoin&quot;: &quot;round&quot;, &quot;opacity&quot;: 1.0, &quot;radius&quot;: 3, &quot;stroke&quot;: true, &quot;weight&quot;: 3}\n",
       "            ).addTo(map_eb4f4f4f5471cbd5cbf59896c6e7512f);\n",
       "        \n",
       "    \n",
       "        var popup_e282fc68cf24828ea585a70830c3271e = L.popup({&quot;maxWidth&quot;: &quot;100%&quot;});\n",
       "\n",
       "        \n",
       "            \n",
       "                var html_9c1cc56eac4bcd43e1702ab6168104e4 = $(`&lt;div id=&quot;html_9c1cc56eac4bcd43e1702ab6168104e4&quot; style=&quot;width: 100.0%; height: 100.0%;&quot;&gt;Jonnalagadda Padmavathy&lt;/div&gt;`)[0];\n",
       "                popup_e282fc68cf24828ea585a70830c3271e.setContent(html_9c1cc56eac4bcd43e1702ab6168104e4);\n",
       "            \n",
       "        \n",
       "\n",
       "        circle_marker_c4ff6bfddc23f5a2ccde185a7451d178.bindPopup(popup_e282fc68cf24828ea585a70830c3271e)\n",
       "        ;\n",
       "\n",
       "        \n",
       "    \n",
       "    \n",
       "            var circle_marker_b5413e646bb361e5d93d53a0ca89c10f = L.circleMarker(\n",
       "                [16.099321080303415, 79.21925973810559],\n",
       "                {&quot;bubblingMouseEvents&quot;: true, &quot;color&quot;: &quot;crimson&quot;, &quot;dashArray&quot;: null, &quot;dashOffset&quot;: null, &quot;fill&quot;: false, &quot;fillColor&quot;: &quot;crimson&quot;, &quot;fillOpacity&quot;: 0.2, &quot;fillRule&quot;: &quot;evenodd&quot;, &quot;lineCap&quot;: &quot;round&quot;, &quot;lineJoin&quot;: &quot;round&quot;, &quot;opacity&quot;: 1.0, &quot;radius&quot;: 3, &quot;stroke&quot;: true, &quot;weight&quot;: 3}\n",
       "            ).addTo(map_eb4f4f4f5471cbd5cbf59896c6e7512f);\n",
       "        \n",
       "    \n",
       "        var popup_8d1b2244a9a75c519835403b93bfc53b = L.popup({&quot;maxWidth&quot;: &quot;100%&quot;});\n",
       "\n",
       "        \n",
       "            \n",
       "                var html_f058496e5a343dcfb802a41a437007e0 = $(`&lt;div id=&quot;html_f058496e5a343dcfb802a41a437007e0&quot; style=&quot;width: 100.0%; height: 100.0%;&quot;&gt;Dola Sree Bala Veeranjaneya Swamy&lt;/div&gt;`)[0];\n",
       "                popup_8d1b2244a9a75c519835403b93bfc53b.setContent(html_f058496e5a343dcfb802a41a437007e0);\n",
       "            \n",
       "        \n",
       "\n",
       "        circle_marker_b5413e646bb361e5d93d53a0ca89c10f.bindPopup(popup_8d1b2244a9a75c519835403b93bfc53b)\n",
       "        ;\n",
       "\n",
       "        \n",
       "    \n",
       "    \n",
       "            var circle_marker_db4abbf7d1f67e2e78253f6cbb0e942c = L.circleMarker(\n",
       "                [15.650695391510643, 79.36569323438358],\n",
       "                {&quot;bubblingMouseEvents&quot;: true, &quot;color&quot;: &quot;crimson&quot;, &quot;dashArray&quot;: null, &quot;dashOffset&quot;: null, &quot;fill&quot;: false, &quot;fillColor&quot;: &quot;crimson&quot;, &quot;fillOpacity&quot;: 0.2, &quot;fillRule&quot;: &quot;evenodd&quot;, &quot;lineCap&quot;: &quot;round&quot;, &quot;lineJoin&quot;: &quot;round&quot;, &quot;opacity&quot;: 1.0, &quot;radius&quot;: 3, &quot;stroke&quot;: true, &quot;weight&quot;: 3}\n",
       "            ).addTo(map_eb4f4f4f5471cbd5cbf59896c6e7512f);\n",
       "        \n",
       "    \n",
       "        var popup_52b12e6f5d4563dd20795927772bdb2f = L.popup({&quot;maxWidth&quot;: &quot;100%&quot;});\n",
       "\n",
       "        \n",
       "            \n",
       "                var html_9b80424f26258bc804e7a8a8057489cd = $(`&lt;div id=&quot;html_9b80424f26258bc804e7a8a8057489cd&quot; style=&quot;width: 100.0%; height: 100.0%;&quot;&gt;Koramutla Sreenivasulu&lt;/div&gt;`)[0];\n",
       "                popup_52b12e6f5d4563dd20795927772bdb2f.setContent(html_9b80424f26258bc804e7a8a8057489cd);\n",
       "            \n",
       "        \n",
       "\n",
       "        circle_marker_db4abbf7d1f67e2e78253f6cbb0e942c.bindPopup(popup_52b12e6f5d4563dd20795927772bdb2f)\n",
       "        ;\n",
       "\n",
       "        \n",
       "    \n",
       "    \n",
       "            var circle_marker_fee197324847037755ec3247eb2b3fc9 = L.circleMarker(\n",
       "                [15.596887356205425, 79.53812678815454],\n",
       "                {&quot;bubblingMouseEvents&quot;: true, &quot;color&quot;: &quot;crimson&quot;, &quot;dashArray&quot;: null, &quot;dashOffset&quot;: null, &quot;fill&quot;: false, &quot;fillColor&quot;: &quot;crimson&quot;, &quot;fillOpacity&quot;: 0.2, &quot;fillRule&quot;: &quot;evenodd&quot;, &quot;lineCap&quot;: &quot;round&quot;, &quot;lineJoin&quot;: &quot;round&quot;, &quot;opacity&quot;: 1.0, &quot;radius&quot;: 3, &quot;stroke&quot;: true, &quot;weight&quot;: 3}\n",
       "            ).addTo(map_eb4f4f4f5471cbd5cbf59896c6e7512f);\n",
       "        \n",
       "    \n",
       "        var popup_db2ad7a0e18944ad096460f224e1bff4 = L.popup({&quot;maxWidth&quot;: &quot;100%&quot;});\n",
       "\n",
       "        \n",
       "            \n",
       "                var html_80665b42c0f510bed1340ded31db61e8 = $(`&lt;div id=&quot;html_80665b42c0f510bed1340ded31db61e8&quot; style=&quot;width: 100.0%; height: 100.0%;&quot;&gt;Bolisetti Satyanaryan&lt;/div&gt;`)[0];\n",
       "                popup_db2ad7a0e18944ad096460f224e1bff4.setContent(html_80665b42c0f510bed1340ded31db61e8);\n",
       "            \n",
       "        \n",
       "\n",
       "        circle_marker_fee197324847037755ec3247eb2b3fc9.bindPopup(popup_db2ad7a0e18944ad096460f224e1bff4)\n",
       "        ;\n",
       "\n",
       "        \n",
       "    \n",
       "    \n",
       "            var circle_marker_a9d0d21b61d52103f23bbaab1e717b4e = L.circleMarker(\n",
       "                [15.155156628232314, 77.93177854886942],\n",
       "                {&quot;bubblingMouseEvents&quot;: true, &quot;color&quot;: &quot;crimson&quot;, &quot;dashArray&quot;: null, &quot;dashOffset&quot;: null, &quot;fill&quot;: false, &quot;fillColor&quot;: &quot;crimson&quot;, &quot;fillOpacity&quot;: 0.2, &quot;fillRule&quot;: &quot;evenodd&quot;, &quot;lineCap&quot;: &quot;round&quot;, &quot;lineJoin&quot;: &quot;round&quot;, &quot;opacity&quot;: 1.0, &quot;radius&quot;: 3, &quot;stroke&quot;: true, &quot;weight&quot;: 3}\n",
       "            ).addTo(map_eb4f4f4f5471cbd5cbf59896c6e7512f);\n",
       "        \n",
       "    \n",
       "        var popup_e083e5b8a0ea79db5fd409ef0b367330 = L.popup({&quot;maxWidth&quot;: &quot;100%&quot;});\n",
       "\n",
       "        \n",
       "            \n",
       "                var html_56c1ae876bf4f46acbc744c7639cd1fe = $(`&lt;div id=&quot;html_56c1ae876bf4f46acbc744c7639cd1fe&quot; style=&quot;width: 100.0%; height: 100.0%;&quot;&gt;Kurasala Kannababu&lt;/div&gt;`)[0];\n",
       "                popup_e083e5b8a0ea79db5fd409ef0b367330.setContent(html_56c1ae876bf4f46acbc744c7639cd1fe);\n",
       "            \n",
       "        \n",
       "\n",
       "        circle_marker_a9d0d21b61d52103f23bbaab1e717b4e.bindPopup(popup_e083e5b8a0ea79db5fd409ef0b367330)\n",
       "        ;\n",
       "\n",
       "        \n",
       "    \n",
       "    \n",
       "            var circle_marker_7720a45e68f7c4ccc7b667cdf7f6c6ab = L.circleMarker(\n",
       "                [16.311536301010488, 80.4837673208523],\n",
       "                {&quot;bubblingMouseEvents&quot;: true, &quot;color&quot;: &quot;crimson&quot;, &quot;dashArray&quot;: null, &quot;dashOffset&quot;: null, &quot;fill&quot;: false, &quot;fillColor&quot;: &quot;crimson&quot;, &quot;fillOpacity&quot;: 0.2, &quot;fillRule&quot;: &quot;evenodd&quot;, &quot;lineCap&quot;: &quot;round&quot;, &quot;lineJoin&quot;: &quot;round&quot;, &quot;opacity&quot;: 1.0, &quot;radius&quot;: 3, &quot;stroke&quot;: true, &quot;weight&quot;: 3}\n",
       "            ).addTo(map_eb4f4f4f5471cbd5cbf59896c6e7512f);\n",
       "        \n",
       "    \n",
       "        var popup_ddf91edaa9b79add3431cd54ebe9ad8d = L.popup({&quot;maxWidth&quot;: &quot;100%&quot;});\n",
       "\n",
       "        \n",
       "            \n",
       "                var html_d7f0bce756ddda5ce07bb3b4c10a5335 = $(`&lt;div id=&quot;html_d7f0bce756ddda5ce07bb3b4c10a5335&quot; style=&quot;width: 100.0%; height: 100.0%;&quot;&gt;K Chenna Kesava Reddy&lt;/div&gt;`)[0];\n",
       "                popup_ddf91edaa9b79add3431cd54ebe9ad8d.setContent(html_d7f0bce756ddda5ce07bb3b4c10a5335);\n",
       "            \n",
       "        \n",
       "\n",
       "        circle_marker_7720a45e68f7c4ccc7b667cdf7f6c6ab.bindPopup(popup_ddf91edaa9b79add3431cd54ebe9ad8d)\n",
       "        ;\n",
       "\n",
       "        \n",
       "    \n",
       "    \n",
       "            var circle_marker_d37d1fc04c623cc193192b04b45fc0a3 = L.circleMarker(\n",
       "                [16.106853388176777, 80.88106433418741],\n",
       "                {&quot;bubblingMouseEvents&quot;: true, &quot;color&quot;: &quot;crimson&quot;, &quot;dashArray&quot;: null, &quot;dashOffset&quot;: null, &quot;fill&quot;: false, &quot;fillColor&quot;: &quot;crimson&quot;, &quot;fillOpacity&quot;: 0.2, &quot;fillRule&quot;: &quot;evenodd&quot;, &quot;lineCap&quot;: &quot;round&quot;, &quot;lineJoin&quot;: &quot;round&quot;, &quot;opacity&quot;: 1.0, &quot;radius&quot;: 3, &quot;stroke&quot;: true, &quot;weight&quot;: 3}\n",
       "            ).addTo(map_eb4f4f4f5471cbd5cbf59896c6e7512f);\n",
       "        \n",
       "    \n",
       "        var popup_ec5d86ccda6ad045da923f706f9d83a2 = L.popup({&quot;maxWidth&quot;: &quot;100%&quot;});\n",
       "\n",
       "        \n",
       "            \n",
       "                var html_e837a5874b08cf83d68e49396dcc3cc0 = $(`&lt;div id=&quot;html_e837a5874b08cf83d68e49396dcc3cc0&quot; style=&quot;width: 100.0%; height: 100.0%;&quot;&gt;Adireddy Bhavani&lt;/div&gt;`)[0];\n",
       "                popup_ec5d86ccda6ad045da923f706f9d83a2.setContent(html_e837a5874b08cf83d68e49396dcc3cc0);\n",
       "            \n",
       "        \n",
       "\n",
       "        circle_marker_d37d1fc04c623cc193192b04b45fc0a3.bindPopup(popup_ec5d86ccda6ad045da923f706f9d83a2)\n",
       "        ;\n",
       "\n",
       "        \n",
       "    \n",
       "    \n",
       "            var circle_marker_dcc21f29dbdecfa734e2a0553d7f921c = L.circleMarker(\n",
       "                [16.457557073364388, 80.28713884298865],\n",
       "                {&quot;bubblingMouseEvents&quot;: true, &quot;color&quot;: &quot;crimson&quot;, &quot;dashArray&quot;: null, &quot;dashOffset&quot;: null, &quot;fill&quot;: false, &quot;fillColor&quot;: &quot;crimson&quot;, &quot;fillOpacity&quot;: 0.2, &quot;fillRule&quot;: &quot;evenodd&quot;, &quot;lineCap&quot;: &quot;round&quot;, &quot;lineJoin&quot;: &quot;round&quot;, &quot;opacity&quot;: 1.0, &quot;radius&quot;: 3, &quot;stroke&quot;: true, &quot;weight&quot;: 3}\n",
       "            ).addTo(map_eb4f4f4f5471cbd5cbf59896c6e7512f);\n",
       "        \n",
       "    \n",
       "        var popup_3acf64d734e2146d8deff52db826a917 = L.popup({&quot;maxWidth&quot;: &quot;100%&quot;});\n",
       "\n",
       "        \n",
       "            \n",
       "                var html_a3df9057582f5802de1542ef70401b6a = $(`&lt;div id=&quot;html_a3df9057582f5802de1542ef70401b6a&quot; style=&quot;width: 100.0%; height: 100.0%;&quot;&gt;Dulam Nageswara Rao&lt;/div&gt;`)[0];\n",
       "                popup_3acf64d734e2146d8deff52db826a917.setContent(html_a3df9057582f5802de1542ef70401b6a);\n",
       "            \n",
       "        \n",
       "\n",
       "        circle_marker_dcc21f29dbdecfa734e2a0553d7f921c.bindPopup(popup_3acf64d734e2146d8deff52db826a917)\n",
       "        ;\n",
       "\n",
       "        \n",
       "    \n",
       "    \n",
       "            var circle_marker_11225e0a030ba0a056ffab6b25708d58 = L.circleMarker(\n",
       "                [16.179497670562185, 79.20737842678435],\n",
       "                {&quot;bubblingMouseEvents&quot;: true, &quot;color&quot;: &quot;crimson&quot;, &quot;dashArray&quot;: null, &quot;dashOffset&quot;: null, &quot;fill&quot;: false, &quot;fillColor&quot;: &quot;crimson&quot;, &quot;fillOpacity&quot;: 0.2, &quot;fillRule&quot;: &quot;evenodd&quot;, &quot;lineCap&quot;: &quot;round&quot;, &quot;lineJoin&quot;: &quot;round&quot;, &quot;opacity&quot;: 1.0, &quot;radius&quot;: 3, &quot;stroke&quot;: true, &quot;weight&quot;: 3}\n",
       "            ).addTo(map_eb4f4f4f5471cbd5cbf59896c6e7512f);\n",
       "        \n",
       "    \n",
       "        var popup_3bd9a9b26aca0f27aa021aa5c88cf253 = L.popup({&quot;maxWidth&quot;: &quot;100%&quot;});\n",
       "\n",
       "        \n",
       "            \n",
       "                var html_7feb2218557c2f1b13c7f71c2a7d7dd4 = $(`&lt;div id=&quot;html_7feb2218557c2f1b13c7f71c2a7d7dd4&quot; style=&quot;width: 100.0%; height: 100.0%;&quot;&gt;Namburu Sankara Rao&lt;/div&gt;`)[0];\n",
       "                popup_3bd9a9b26aca0f27aa021aa5c88cf253.setContent(html_7feb2218557c2f1b13c7f71c2a7d7dd4);\n",
       "            \n",
       "        \n",
       "\n",
       "        circle_marker_11225e0a030ba0a056ffab6b25708d58.bindPopup(popup_3bd9a9b26aca0f27aa021aa5c88cf253)\n",
       "        ;\n",
       "\n",
       "        \n",
       "    \n",
       "    \n",
       "            var circle_marker_e0df3c4ddbe9afebde827d724c00ac18 = L.circleMarker(\n",
       "                [16.12468453146881, 78.98289432521265],\n",
       "                {&quot;bubblingMouseEvents&quot;: true, &quot;color&quot;: &quot;crimson&quot;, &quot;dashArray&quot;: null, &quot;dashOffset&quot;: null, &quot;fill&quot;: false, &quot;fillColor&quot;: &quot;crimson&quot;, &quot;fillOpacity&quot;: 0.2, &quot;fillRule&quot;: &quot;evenodd&quot;, &quot;lineCap&quot;: &quot;round&quot;, &quot;lineJoin&quot;: &quot;round&quot;, &quot;opacity&quot;: 1.0, &quot;radius&quot;: 3, &quot;stroke&quot;: true, &quot;weight&quot;: 3}\n",
       "            ).addTo(map_eb4f4f4f5471cbd5cbf59896c6e7512f);\n",
       "        \n",
       "    \n",
       "        var popup_e08a6677243e0a60af7533f859fd1fd4 = L.popup({&quot;maxWidth&quot;: &quot;100%&quot;});\n",
       "\n",
       "        \n",
       "            \n",
       "                var html_ef280b271d8e6f2df11ffccf1842ab3d = $(`&lt;div id=&quot;html_ef280b271d8e6f2df11ffccf1842ab3d&quot; style=&quot;width: 100.0%; height: 100.0%;&quot;&gt;venkata krishna parvathaneni&lt;/div&gt;`)[0];\n",
       "                popup_e08a6677243e0a60af7533f859fd1fd4.setContent(html_ef280b271d8e6f2df11ffccf1842ab3d);\n",
       "            \n",
       "        \n",
       "\n",
       "        circle_marker_e0df3c4ddbe9afebde827d724c00ac18.bindPopup(popup_e08a6677243e0a60af7533f859fd1fd4)\n",
       "        ;\n",
       "\n",
       "        \n",
       "    \n",
       "    \n",
       "            var circle_marker_138ff21c0e8fb34f6a4bb05b7d033e29 = L.circleMarker(\n",
       "                [16.350723602728152, 79.24032056151164],\n",
       "                {&quot;bubblingMouseEvents&quot;: true, &quot;color&quot;: &quot;crimson&quot;, &quot;dashArray&quot;: null, &quot;dashOffset&quot;: null, &quot;fill&quot;: false, &quot;fillColor&quot;: &quot;crimson&quot;, &quot;fillOpacity&quot;: 0.2, &quot;fillRule&quot;: &quot;evenodd&quot;, &quot;lineCap&quot;: &quot;round&quot;, &quot;lineJoin&quot;: &quot;round&quot;, &quot;opacity&quot;: 1.0, &quot;radius&quot;: 3, &quot;stroke&quot;: true, &quot;weight&quot;: 3}\n",
       "            ).addTo(map_eb4f4f4f5471cbd5cbf59896c6e7512f);\n",
       "        \n",
       "    \n",
       "        var popup_341f15f2172b6738d8cd87a69a639c8d = L.popup({&quot;maxWidth&quot;: &quot;100%&quot;});\n",
       "\n",
       "        \n",
       "            \n",
       "                var html_be70c086620a077f139e8814e326d227 = $(`&lt;div id=&quot;html_be70c086620a077f139e8814e326d227&quot; style=&quot;width: 100.0%; height: 100.0%;&quot;&gt;Nallapareddy Prasanna Kumar Redd&lt;/div&gt;`)[0];\n",
       "                popup_341f15f2172b6738d8cd87a69a639c8d.setContent(html_be70c086620a077f139e8814e326d227);\n",
       "            \n",
       "        \n",
       "\n",
       "        circle_marker_138ff21c0e8fb34f6a4bb05b7d033e29.bindPopup(popup_341f15f2172b6738d8cd87a69a639c8d)\n",
       "        ;\n",
       "\n",
       "        \n",
       "    \n",
       "    \n",
       "            var circle_marker_e43366ba0ea4b4f492ccb53d68cca1c7 = L.circleMarker(\n",
       "                [15.598182194741891, 78.44783406404004],\n",
       "                {&quot;bubblingMouseEvents&quot;: true, &quot;color&quot;: &quot;crimson&quot;, &quot;dashArray&quot;: null, &quot;dashOffset&quot;: null, &quot;fill&quot;: false, &quot;fillColor&quot;: &quot;crimson&quot;, &quot;fillOpacity&quot;: 0.2, &quot;fillRule&quot;: &quot;evenodd&quot;, &quot;lineCap&quot;: &quot;round&quot;, &quot;lineJoin&quot;: &quot;round&quot;, &quot;opacity&quot;: 1.0, &quot;radius&quot;: 3, &quot;stroke&quot;: true, &quot;weight&quot;: 3}\n",
       "            ).addTo(map_eb4f4f4f5471cbd5cbf59896c6e7512f);\n",
       "        \n",
       "    \n",
       "        var popup_86aa1bf6bba606f22edd5eb978b956f6 = L.popup({&quot;maxWidth&quot;: &quot;100%&quot;});\n",
       "\n",
       "        \n",
       "            \n",
       "                var html_aed1388bc0d4179270a310ffb1a73491 = $(`&lt;div id=&quot;html_aed1388bc0d4179270a310ffb1a73491&quot; style=&quot;width: 100.0%; height: 100.0%;&quot;&gt;Vasantha Venkata Krishna Prasad&lt;/div&gt;`)[0];\n",
       "                popup_86aa1bf6bba606f22edd5eb978b956f6.setContent(html_aed1388bc0d4179270a310ffb1a73491);\n",
       "            \n",
       "        \n",
       "\n",
       "        circle_marker_e43366ba0ea4b4f492ccb53d68cca1c7.bindPopup(popup_86aa1bf6bba606f22edd5eb978b956f6)\n",
       "        ;\n",
       "\n",
       "        \n",
       "    \n",
       "    \n",
       "            var circle_marker_442908d0fd9359bd1a7c2954cbaf74a4 = L.circleMarker(\n",
       "                [15.265163399976096, 80.08247995211674],\n",
       "                {&quot;bubblingMouseEvents&quot;: true, &quot;color&quot;: &quot;crimson&quot;, &quot;dashArray&quot;: null, &quot;dashOffset&quot;: null, &quot;fill&quot;: false, &quot;fillColor&quot;: &quot;crimson&quot;, &quot;fillOpacity&quot;: 0.2, &quot;fillRule&quot;: &quot;evenodd&quot;, &quot;lineCap&quot;: &quot;round&quot;, &quot;lineJoin&quot;: &quot;round&quot;, &quot;opacity&quot;: 1.0, &quot;radius&quot;: 3, &quot;stroke&quot;: true, &quot;weight&quot;: 3}\n",
       "            ).addTo(map_eb4f4f4f5471cbd5cbf59896c6e7512f);\n",
       "        \n",
       "    \n",
       "        var popup_ea3dfb359b0fbf8ac06094e9f9863abd = L.popup({&quot;maxWidth&quot;: &quot;100%&quot;});\n",
       "\n",
       "        \n",
       "            \n",
       "                var html_19c158c91eb5ff967ac0c932a5cf9f4a = $(`&lt;div id=&quot;html_19c158c91eb5ff967ac0c932a5cf9f4a&quot; style=&quot;width: 100.0%; height: 100.0%;&quot;&gt;Magunta Sreenivasulu Reddy&lt;/div&gt;`)[0];\n",
       "                popup_ea3dfb359b0fbf8ac06094e9f9863abd.setContent(html_19c158c91eb5ff967ac0c932a5cf9f4a);\n",
       "            \n",
       "        \n",
       "\n",
       "        circle_marker_442908d0fd9359bd1a7c2954cbaf74a4.bindPopup(popup_ea3dfb359b0fbf8ac06094e9f9863abd)\n",
       "        ;\n",
       "\n",
       "        \n",
       "    \n",
       "    \n",
       "            var circle_marker_9fdb05b14b679d434e8be968c4053b1c = L.circleMarker(\n",
       "                [16.521208595090798, 79.39216770556625],\n",
       "                {&quot;bubblingMouseEvents&quot;: true, &quot;color&quot;: &quot;crimson&quot;, &quot;dashArray&quot;: null, &quot;dashOffset&quot;: null, &quot;fill&quot;: false, &quot;fillColor&quot;: &quot;crimson&quot;, &quot;fillOpacity&quot;: 0.2, &quot;fillRule&quot;: &quot;evenodd&quot;, &quot;lineCap&quot;: &quot;round&quot;, &quot;lineJoin&quot;: &quot;round&quot;, &quot;opacity&quot;: 1.0, &quot;radius&quot;: 3, &quot;stroke&quot;: true, &quot;weight&quot;: 3}\n",
       "            ).addTo(map_eb4f4f4f5471cbd5cbf59896c6e7512f);\n",
       "        \n",
       "    \n",
       "        var popup_4ff573b519bd80282394838a392abdac = L.popup({&quot;maxWidth&quot;: &quot;100%&quot;});\n",
       "\n",
       "        \n",
       "            \n",
       "                var html_a6e086f7b377a7fae3d7cb20ab9ee3e0 = $(`&lt;div id=&quot;html_a6e086f7b377a7fae3d7cb20ab9ee3e0&quot; style=&quot;width: 100.0%; height: 100.0%;&quot;&gt;Burra Madhu Sudhan Yadav&lt;/div&gt;`)[0];\n",
       "                popup_4ff573b519bd80282394838a392abdac.setContent(html_a6e086f7b377a7fae3d7cb20ab9ee3e0);\n",
       "            \n",
       "        \n",
       "\n",
       "        circle_marker_9fdb05b14b679d434e8be968c4053b1c.bindPopup(popup_4ff573b519bd80282394838a392abdac)\n",
       "        ;\n",
       "\n",
       "        \n",
       "    \n",
       "    \n",
       "            var circle_marker_001174c755db3ba4679c703b138dc444 = L.circleMarker(\n",
       "                [16.611652752733285, 80.29728369335707],\n",
       "                {&quot;bubblingMouseEvents&quot;: true, &quot;color&quot;: &quot;crimson&quot;, &quot;dashArray&quot;: null, &quot;dashOffset&quot;: null, &quot;fill&quot;: false, &quot;fillColor&quot;: &quot;crimson&quot;, &quot;fillOpacity&quot;: 0.2, &quot;fillRule&quot;: &quot;evenodd&quot;, &quot;lineCap&quot;: &quot;round&quot;, &quot;lineJoin&quot;: &quot;round&quot;, &quot;opacity&quot;: 1.0, &quot;radius&quot;: 3, &quot;stroke&quot;: true, &quot;weight&quot;: 3}\n",
       "            ).addTo(map_eb4f4f4f5471cbd5cbf59896c6e7512f);\n",
       "        \n",
       "    \n",
       "        var popup_894edfce107f4b0c366184342e4cffd1 = L.popup({&quot;maxWidth&quot;: &quot;100%&quot;});\n",
       "\n",
       "        \n",
       "            \n",
       "                var html_0ce2dd86dee5f12171e4409a42d7e740 = $(`&lt;div id=&quot;html_0ce2dd86dee5f12171e4409a42d7e740&quot; style=&quot;width: 100.0%; height: 100.0%;&quot;&gt;N Venkate Gowda&lt;/div&gt;`)[0];\n",
       "                popup_894edfce107f4b0c366184342e4cffd1.setContent(html_0ce2dd86dee5f12171e4409a42d7e740);\n",
       "            \n",
       "        \n",
       "\n",
       "        circle_marker_001174c755db3ba4679c703b138dc444.bindPopup(popup_894edfce107f4b0c366184342e4cffd1)\n",
       "        ;\n",
       "\n",
       "        \n",
       "    \n",
       "    \n",
       "            var circle_marker_7e601a631517513beae02178dc5f8162 = L.circleMarker(\n",
       "                [15.883890806293644, 80.54088872477607],\n",
       "                {&quot;bubblingMouseEvents&quot;: true, &quot;color&quot;: &quot;crimson&quot;, &quot;dashArray&quot;: null, &quot;dashOffset&quot;: null, &quot;fill&quot;: false, &quot;fillColor&quot;: &quot;crimson&quot;, &quot;fillOpacity&quot;: 0.2, &quot;fillRule&quot;: &quot;evenodd&quot;, &quot;lineCap&quot;: &quot;round&quot;, &quot;lineJoin&quot;: &quot;round&quot;, &quot;opacity&quot;: 1.0, &quot;radius&quot;: 3, &quot;stroke&quot;: true, &quot;weight&quot;: 3}\n",
       "            ).addTo(map_eb4f4f4f5471cbd5cbf59896c6e7512f);\n",
       "        \n",
       "    \n",
       "        var popup_75c9a111734f31d2c798f2f9dd1bedb5 = L.popup({&quot;maxWidth&quot;: &quot;100%&quot;});\n",
       "\n",
       "        \n",
       "            \n",
       "                var html_eb112cb3019131d0824b6b5fce1e832a = $(`&lt;div id=&quot;html_eb112cb3019131d0824b6b5fce1e832a&quot; style=&quot;width: 100.0%; height: 100.0%;&quot;&gt;Ramesh Babu Simhadri&lt;/div&gt;`)[0];\n",
       "                popup_75c9a111734f31d2c798f2f9dd1bedb5.setContent(html_eb112cb3019131d0824b6b5fce1e832a);\n",
       "            \n",
       "        \n",
       "\n",
       "        circle_marker_7e601a631517513beae02178dc5f8162.bindPopup(popup_75c9a111734f31d2c798f2f9dd1bedb5)\n",
       "        ;\n",
       "\n",
       "        \n",
       "    \n",
       "    \n",
       "            var circle_marker_ede473c58966cfc55d95e80e78e92463 = L.circleMarker(\n",
       "                [16.254869872784248, 80.66969433016055],\n",
       "                {&quot;bubblingMouseEvents&quot;: true, &quot;color&quot;: &quot;crimson&quot;, &quot;dashArray&quot;: null, &quot;dashOffset&quot;: null, &quot;fill&quot;: false, &quot;fillColor&quot;: &quot;crimson&quot;, &quot;fillOpacity&quot;: 0.2, &quot;fillRule&quot;: &quot;evenodd&quot;, &quot;lineCap&quot;: &quot;round&quot;, &quot;lineJoin&quot;: &quot;round&quot;, &quot;opacity&quot;: 1.0, &quot;radius&quot;: 3, &quot;stroke&quot;: true, &quot;weight&quot;: 3}\n",
       "            ).addTo(map_eb4f4f4f5471cbd5cbf59896c6e7512f);\n",
       "        \n",
       "    \n",
       "        var popup_4e6743e6755858ea36194ff721cb95a4 = L.popup({&quot;maxWidth&quot;: &quot;100%&quot;});\n",
       "\n",
       "        \n",
       "            \n",
       "                var html_e62d43bc0e2d890c5fc4743a35542ff9 = $(`&lt;div id=&quot;html_e62d43bc0e2d890c5fc4743a35542ff9&quot; style=&quot;width: 100.0%; height: 100.0%;&quot;&gt;Mekapati Vikram Reddy&lt;/div&gt;`)[0];\n",
       "                popup_4e6743e6755858ea36194ff721cb95a4.setContent(html_e62d43bc0e2d890c5fc4743a35542ff9);\n",
       "            \n",
       "        \n",
       "\n",
       "        circle_marker_ede473c58966cfc55d95e80e78e92463.bindPopup(popup_4e6743e6755858ea36194ff721cb95a4)\n",
       "        ;\n",
       "\n",
       "        \n",
       "    \n",
       "    \n",
       "            var circle_marker_47a6b4b852cd67c21d146d433aba325c = L.circleMarker(\n",
       "                [16.451232258387783, 81.14114681237282],\n",
       "                {&quot;bubblingMouseEvents&quot;: true, &quot;color&quot;: &quot;crimson&quot;, &quot;dashArray&quot;: null, &quot;dashOffset&quot;: null, &quot;fill&quot;: false, &quot;fillColor&quot;: &quot;crimson&quot;, &quot;fillOpacity&quot;: 0.2, &quot;fillRule&quot;: &quot;evenodd&quot;, &quot;lineCap&quot;: &quot;round&quot;, &quot;lineJoin&quot;: &quot;round&quot;, &quot;opacity&quot;: 1.0, &quot;radius&quot;: 3, &quot;stroke&quot;: true, &quot;weight&quot;: 3}\n",
       "            ).addTo(map_eb4f4f4f5471cbd5cbf59896c6e7512f);\n",
       "        \n",
       "    \n",
       "        var popup_67fa8236b1852ab9e237c27e0e417a20 = L.popup({&quot;maxWidth&quot;: &quot;100%&quot;});\n",
       "\n",
       "        \n",
       "            \n",
       "                var html_6441e63c0222c5bfae163d9251820c9b = $(`&lt;div id=&quot;html_6441e63c0222c5bfae163d9251820c9b&quot; style=&quot;width: 100.0%; height: 100.0%;&quot;&gt;Kadubandi Srinivasa Rao&lt;/div&gt;`)[0];\n",
       "                popup_67fa8236b1852ab9e237c27e0e417a20.setContent(html_6441e63c0222c5bfae163d9251820c9b);\n",
       "            \n",
       "        \n",
       "\n",
       "        circle_marker_47a6b4b852cd67c21d146d433aba325c.bindPopup(popup_67fa8236b1852ab9e237c27e0e417a20)\n",
       "        ;\n",
       "\n",
       "        \n",
       "    \n",
       "    \n",
       "            var circle_marker_f6ae1cb8db7b8e0cce5cc7a5392d1253 = L.circleMarker(\n",
       "                [16.696884476271926, 81.1637554949559],\n",
       "                {&quot;bubblingMouseEvents&quot;: true, &quot;color&quot;: &quot;crimson&quot;, &quot;dashArray&quot;: null, &quot;dashOffset&quot;: null, &quot;fill&quot;: false, &quot;fillColor&quot;: &quot;crimson&quot;, &quot;fillOpacity&quot;: 0.2, &quot;fillRule&quot;: &quot;evenodd&quot;, &quot;lineCap&quot;: &quot;round&quot;, &quot;lineJoin&quot;: &quot;round&quot;, &quot;opacity&quot;: 1.0, &quot;radius&quot;: 3, &quot;stroke&quot;: true, &quot;weight&quot;: 3}\n",
       "            ).addTo(map_eb4f4f4f5471cbd5cbf59896c6e7512f);\n",
       "        \n",
       "    \n",
       "        var popup_4d2b2720cd0a1012ca1cae8a29e50738 = L.popup({&quot;maxWidth&quot;: &quot;100%&quot;});\n",
       "\n",
       "        \n",
       "            \n",
       "                var html_c35de81eca8c3404b0c06980425a618f = $(`&lt;div id=&quot;html_c35de81eca8c3404b0c06980425a618f&quot; style=&quot;width: 100.0%; height: 100.0%;&quot;&gt;Y.Venkatarama Reddy&lt;/div&gt;`)[0];\n",
       "                popup_4d2b2720cd0a1012ca1cae8a29e50738.setContent(html_c35de81eca8c3404b0c06980425a618f);\n",
       "            \n",
       "        \n",
       "\n",
       "        circle_marker_f6ae1cb8db7b8e0cce5cc7a5392d1253.bindPopup(popup_4d2b2720cd0a1012ca1cae8a29e50738)\n",
       "        ;\n",
       "\n",
       "        \n",
       "    \n",
       "    \n",
       "            var circle_marker_5d05445a934a99e0fd8c8d76df349d18 = L.circleMarker(\n",
       "                [17.15562053392702, 79.87203137242679],\n",
       "                {&quot;bubblingMouseEvents&quot;: true, &quot;color&quot;: &quot;crimson&quot;, &quot;dashArray&quot;: null, &quot;dashOffset&quot;: null, &quot;fill&quot;: false, &quot;fillColor&quot;: &quot;crimson&quot;, &quot;fillOpacity&quot;: 0.2, &quot;fillRule&quot;: &quot;evenodd&quot;, &quot;lineCap&quot;: &quot;round&quot;, &quot;lineJoin&quot;: &quot;round&quot;, &quot;opacity&quot;: 1.0, &quot;radius&quot;: 3, &quot;stroke&quot;: true, &quot;weight&quot;: 3}\n",
       "            ).addTo(map_eb4f4f4f5471cbd5cbf59896c6e7512f);\n",
       "        \n",
       "    \n",
       "        var popup_e12ba3f81a653b6c6b13347fedba2fbc = L.popup({&quot;maxWidth&quot;: &quot;100%&quot;});\n",
       "\n",
       "        \n",
       "            \n",
       "                var html_8664860d376faa1249e739e587d1a901 = $(`&lt;div id=&quot;html_8664860d376faa1249e739e587d1a901&quot; style=&quot;width: 100.0%; height: 100.0%;&quot;&gt;Pamula Pushpa Sreevani&lt;/div&gt;`)[0];\n",
       "                popup_e12ba3f81a653b6c6b13347fedba2fbc.setContent(html_8664860d376faa1249e739e587d1a901);\n",
       "            \n",
       "        \n",
       "\n",
       "        circle_marker_5d05445a934a99e0fd8c8d76df349d18.bindPopup(popup_e12ba3f81a653b6c6b13347fedba2fbc)\n",
       "        ;\n",
       "\n",
       "        \n",
       "    \n",
       "    \n",
       "            var circle_marker_260859efbb44ec85be135223a659a62a = L.circleMarker(\n",
       "                [16.589780961736743, 80.11839258616142],\n",
       "                {&quot;bubblingMouseEvents&quot;: true, &quot;color&quot;: &quot;crimson&quot;, &quot;dashArray&quot;: null, &quot;dashOffset&quot;: null, &quot;fill&quot;: false, &quot;fillColor&quot;: &quot;crimson&quot;, &quot;fillOpacity&quot;: 0.2, &quot;fillRule&quot;: &quot;evenodd&quot;, &quot;lineCap&quot;: &quot;round&quot;, &quot;lineJoin&quot;: &quot;round&quot;, &quot;opacity&quot;: 1.0, &quot;radius&quot;: 3, &quot;stroke&quot;: true, &quot;weight&quot;: 3}\n",
       "            ).addTo(map_eb4f4f4f5471cbd5cbf59896c6e7512f);\n",
       "        \n",
       "    \n",
       "        var popup_68ceb6a4702b3368e8e1ceeab11e7301 = L.popup({&quot;maxWidth&quot;: &quot;100%&quot;});\n",
       "\n",
       "        \n",
       "            \n",
       "                var html_ee1c15374622969e83357b2c05a62d06 = $(`&lt;div id=&quot;html_ee1c15374622969e83357b2c05a62d06&quot; style=&quot;width: 100.0%; height: 100.0%;&quot;&gt;Nallakonda Gari Reddeppa&lt;/div&gt;`)[0];\n",
       "                popup_68ceb6a4702b3368e8e1ceeab11e7301.setContent(html_ee1c15374622969e83357b2c05a62d06);\n",
       "            \n",
       "        \n",
       "\n",
       "        circle_marker_260859efbb44ec85be135223a659a62a.bindPopup(popup_68ceb6a4702b3368e8e1ceeab11e7301)\n",
       "        ;\n",
       "\n",
       "        \n",
       "    \n",
       "    \n",
       "            var circle_marker_a20d63163d0fa72ce1194c74de18f7b6 = L.circleMarker(\n",
       "                [15.225192171787322, 79.43601290922666],\n",
       "                {&quot;bubblingMouseEvents&quot;: true, &quot;color&quot;: &quot;crimson&quot;, &quot;dashArray&quot;: null, &quot;dashOffset&quot;: null, &quot;fill&quot;: false, &quot;fillColor&quot;: &quot;crimson&quot;, &quot;fillOpacity&quot;: 0.2, &quot;fillRule&quot;: &quot;evenodd&quot;, &quot;lineCap&quot;: &quot;round&quot;, &quot;lineJoin&quot;: &quot;round&quot;, &quot;opacity&quot;: 1.0, &quot;radius&quot;: 3, &quot;stroke&quot;: true, &quot;weight&quot;: 3}\n",
       "            ).addTo(map_eb4f4f4f5471cbd5cbf59896c6e7512f);\n",
       "        \n",
       "    \n",
       "        var popup_22bbae450c6bf6928a3c36ba454b2785 = L.popup({&quot;maxWidth&quot;: &quot;100%&quot;});\n",
       "\n",
       "        \n",
       "            \n",
       "                var html_4690dc86545b8612e62021bb00d0d282 = $(`&lt;div id=&quot;html_4690dc86545b8612e62021bb00d0d282&quot; style=&quot;width: 100.0%; height: 100.0%;&quot;&gt;Kandula Durgesh&lt;/div&gt;`)[0];\n",
       "                popup_22bbae450c6bf6928a3c36ba454b2785.setContent(html_4690dc86545b8612e62021bb00d0d282);\n",
       "            \n",
       "        \n",
       "\n",
       "        circle_marker_a20d63163d0fa72ce1194c74de18f7b6.bindPopup(popup_22bbae450c6bf6928a3c36ba454b2785)\n",
       "        ;\n",
       "\n",
       "        \n",
       "    \n",
       "    \n",
       "            var circle_marker_d034fff5f24eda143e5d9952fbf7db5d = L.circleMarker(\n",
       "                [16.848179938394612, 80.39241596941682],\n",
       "                {&quot;bubblingMouseEvents&quot;: true, &quot;color&quot;: &quot;crimson&quot;, &quot;dashArray&quot;: null, &quot;dashOffset&quot;: null, &quot;fill&quot;: false, &quot;fillColor&quot;: &quot;crimson&quot;, &quot;fillOpacity&quot;: 0.2, &quot;fillRule&quot;: &quot;evenodd&quot;, &quot;lineCap&quot;: &quot;round&quot;, &quot;lineJoin&quot;: &quot;round&quot;, &quot;opacity&quot;: 1.0, &quot;radius&quot;: 3, &quot;stroke&quot;: true, &quot;weight&quot;: 3}\n",
       "            ).addTo(map_eb4f4f4f5471cbd5cbf59896c6e7512f);\n",
       "        \n",
       "    \n",
       "        var popup_f23e2cf4ab60f4069012f5cfb23a777b = L.popup({&quot;maxWidth&quot;: &quot;100%&quot;});\n",
       "\n",
       "        \n",
       "            \n",
       "                var html_66ee30ea6113d30be280e43530cd57d8 = $(`&lt;div id=&quot;html_66ee30ea6113d30be280e43530cd57d8&quot; style=&quot;width: 100.0%; height: 100.0%;&quot;&gt;Appalanaidu Baddukonda&lt;/div&gt;`)[0];\n",
       "                popup_f23e2cf4ab60f4069012f5cfb23a777b.setContent(html_66ee30ea6113d30be280e43530cd57d8);\n",
       "            \n",
       "        \n",
       "\n",
       "        circle_marker_d034fff5f24eda143e5d9952fbf7db5d.bindPopup(popup_f23e2cf4ab60f4069012f5cfb23a777b)\n",
       "        ;\n",
       "\n",
       "        \n",
       "    \n",
       "    \n",
       "            var circle_marker_8feff8da18de6be3ee5b14dec7a8470f = L.circleMarker(\n",
       "                [16.357575701769186, 79.42052818470788],\n",
       "                {&quot;bubblingMouseEvents&quot;: true, &quot;color&quot;: &quot;crimson&quot;, &quot;dashArray&quot;: null, &quot;dashOffset&quot;: null, &quot;fill&quot;: false, &quot;fillColor&quot;: &quot;crimson&quot;, &quot;fillOpacity&quot;: 0.2, &quot;fillRule&quot;: &quot;evenodd&quot;, &quot;lineCap&quot;: &quot;round&quot;, &quot;lineJoin&quot;: &quot;round&quot;, &quot;opacity&quot;: 1.0, &quot;radius&quot;: 3, &quot;stroke&quot;: true, &quot;weight&quot;: 3}\n",
       "            ).addTo(map_eb4f4f4f5471cbd5cbf59896c6e7512f);\n",
       "        \n",
       "    \n",
       "        var popup_ea315872c6cb5442698eb0b9f00140e7 = L.popup({&quot;maxWidth&quot;: &quot;100%&quot;});\n",
       "\n",
       "        \n",
       "            \n",
       "                var html_3e828bc84d0510b1e7140b8c72695dd6 = $(`&lt;div id=&quot;html_3e828bc84d0510b1e7140b8c72695dd6&quot; style=&quot;width: 100.0%; height: 100.0%;&quot;&gt;Kasu Mahesh Reddy&lt;/div&gt;`)[0];\n",
       "                popup_ea315872c6cb5442698eb0b9f00140e7.setContent(html_3e828bc84d0510b1e7140b8c72695dd6);\n",
       "            \n",
       "        \n",
       "\n",
       "        circle_marker_8feff8da18de6be3ee5b14dec7a8470f.bindPopup(popup_ea315872c6cb5442698eb0b9f00140e7)\n",
       "        ;\n",
       "\n",
       "        \n",
       "    \n",
       "    \n",
       "            var circle_marker_f861eb014674071be2e271142c96ec1c = L.circleMarker(\n",
       "                [16.44380461543161, 81.06976036621005],\n",
       "                {&quot;bubblingMouseEvents&quot;: true, &quot;color&quot;: &quot;crimson&quot;, &quot;dashArray&quot;: null, &quot;dashOffset&quot;: null, &quot;fill&quot;: false, &quot;fillColor&quot;: &quot;crimson&quot;, &quot;fillOpacity&quot;: 0.2, &quot;fillRule&quot;: &quot;evenodd&quot;, &quot;lineCap&quot;: &quot;round&quot;, &quot;lineJoin&quot;: &quot;round&quot;, &quot;opacity&quot;: 1.0, &quot;radius&quot;: 3, &quot;stroke&quot;: true, &quot;weight&quot;: 3}\n",
       "            ).addTo(map_eb4f4f4f5471cbd5cbf59896c6e7512f);\n",
       "        \n",
       "    \n",
       "        var popup_dc84ba168408b0a889343d517f086fed = L.popup({&quot;maxWidth&quot;: &quot;100%&quot;});\n",
       "\n",
       "        \n",
       "            \n",
       "                var html_aba1a4e54e57b9688212a73c5d10c70f = $(`&lt;div id=&quot;html_aba1a4e54e57b9688212a73c5d10c70f&quot; style=&quot;width: 100.0%; height: 100.0%;&quot;&gt;Kapu Ramachandra Reddy&lt;/div&gt;`)[0];\n",
       "                popup_dc84ba168408b0a889343d517f086fed.setContent(html_aba1a4e54e57b9688212a73c5d10c70f);\n",
       "            \n",
       "        \n",
       "\n",
       "        circle_marker_f861eb014674071be2e271142c96ec1c.bindPopup(popup_dc84ba168408b0a889343d517f086fed)\n",
       "        ;\n",
       "\n",
       "        \n",
       "    \n",
       "    \n",
       "            var circle_marker_fffe905a5784da2653e3457f74f2b015 = L.circleMarker(\n",
       "                [15.737255260578053, 79.27713340472114],\n",
       "                {&quot;bubblingMouseEvents&quot;: true, &quot;color&quot;: &quot;crimson&quot;, &quot;dashArray&quot;: null, &quot;dashOffset&quot;: null, &quot;fill&quot;: false, &quot;fillColor&quot;: &quot;crimson&quot;, &quot;fillOpacity&quot;: 0.2, &quot;fillRule&quot;: &quot;evenodd&quot;, &quot;lineCap&quot;: &quot;round&quot;, &quot;lineJoin&quot;: &quot;round&quot;, &quot;opacity&quot;: 1.0, &quot;radius&quot;: 3, &quot;stroke&quot;: true, &quot;weight&quot;: 3}\n",
       "            ).addTo(map_eb4f4f4f5471cbd5cbf59896c6e7512f);\n",
       "        \n",
       "    \n",
       "        var popup_09c7e4b0290e1fa2293f8827f31d9853 = L.popup({&quot;maxWidth&quot;: &quot;100%&quot;});\n",
       "\n",
       "        \n",
       "            \n",
       "                var html_2f45bf085efbc109d8cab3157f8d1de0 = $(`&lt;div id=&quot;html_2f45bf085efbc109d8cab3157f8d1de0&quot; style=&quot;width: 100.0%; height: 100.0%;&quot;&gt;Raghuramireddy Settipalli&lt;/div&gt;`)[0];\n",
       "                popup_09c7e4b0290e1fa2293f8827f31d9853.setContent(html_2f45bf085efbc109d8cab3157f8d1de0);\n",
       "            \n",
       "        \n",
       "\n",
       "        circle_marker_fffe905a5784da2653e3457f74f2b015.bindPopup(popup_09c7e4b0290e1fa2293f8827f31d9853)\n",
       "        ;\n",
       "\n",
       "        \n",
       "    \n",
       "    \n",
       "            var circle_marker_edec0c3c4f1d4d9792b22c26d43986c1 = L.circleMarker(\n",
       "                [15.193612829956622, 78.71625198074216],\n",
       "                {&quot;bubblingMouseEvents&quot;: true, &quot;color&quot;: &quot;crimson&quot;, &quot;dashArray&quot;: null, &quot;dashOffset&quot;: null, &quot;fill&quot;: false, &quot;fillColor&quot;: &quot;crimson&quot;, &quot;fillOpacity&quot;: 0.2, &quot;fillRule&quot;: &quot;evenodd&quot;, &quot;lineCap&quot;: &quot;round&quot;, &quot;lineJoin&quot;: &quot;round&quot;, &quot;opacity&quot;: 1.0, &quot;radius&quot;: 3, &quot;stroke&quot;: true, &quot;weight&quot;: 3}\n",
       "            ).addTo(map_eb4f4f4f5471cbd5cbf59896c6e7512f);\n",
       "        \n",
       "    \n",
       "        var popup_ef58c47605f0a853ec21c0f26bcc468a = L.popup({&quot;maxWidth&quot;: &quot;100%&quot;});\n",
       "\n",
       "        \n",
       "            \n",
       "                var html_38564b0c834bf680fd6f5f71154891a1 = $(`&lt;div id=&quot;html_38564b0c834bf680fd6f5f71154891a1&quot; style=&quot;width: 100.0%; height: 100.0%;&quot;&gt;ch krishna Anjaneyulu&lt;/div&gt;`)[0];\n",
       "                popup_ef58c47605f0a853ec21c0f26bcc468a.setContent(html_38564b0c834bf680fd6f5f71154891a1);\n",
       "            \n",
       "        \n",
       "\n",
       "        circle_marker_edec0c3c4f1d4d9792b22c26d43986c1.bindPopup(popup_ef58c47605f0a853ec21c0f26bcc468a)\n",
       "        ;\n",
       "\n",
       "        \n",
       "    \n",
       "    \n",
       "            var circle_marker_0b21a875707594e5fa721ff145c040ce = L.circleMarker(\n",
       "                [15.20817396075819, 79.01549637955678],\n",
       "                {&quot;bubblingMouseEvents&quot;: true, &quot;color&quot;: &quot;crimson&quot;, &quot;dashArray&quot;: null, &quot;dashOffset&quot;: null, &quot;fill&quot;: false, &quot;fillColor&quot;: &quot;crimson&quot;, &quot;fillOpacity&quot;: 0.2, &quot;fillRule&quot;: &quot;evenodd&quot;, &quot;lineCap&quot;: &quot;round&quot;, &quot;lineJoin&quot;: &quot;round&quot;, &quot;opacity&quot;: 1.0, &quot;radius&quot;: 3, &quot;stroke&quot;: true, &quot;weight&quot;: 3}\n",
       "            ).addTo(map_eb4f4f4f5471cbd5cbf59896c6e7512f);\n",
       "        \n",
       "    \n",
       "        var popup_7a87ba18f4e348e58c6c416c6173e378 = L.popup({&quot;maxWidth&quot;: &quot;100%&quot;});\n",
       "\n",
       "        \n",
       "            \n",
       "                var html_359bcdeeb36ae0f2d3aaa26b4c9bc666 = $(`&lt;div id=&quot;html_359bcdeeb36ae0f2d3aaa26b4c9bc666&quot; style=&quot;width: 100.0%; height: 100.0%;&quot;&gt;Murali Krishna&lt;/div&gt;`)[0];\n",
       "                popup_7a87ba18f4e348e58c6c416c6173e378.setContent(html_359bcdeeb36ae0f2d3aaa26b4c9bc666);\n",
       "            \n",
       "        \n",
       "\n",
       "        circle_marker_0b21a875707594e5fa721ff145c040ce.bindPopup(popup_7a87ba18f4e348e58c6c416c6173e378)\n",
       "        ;\n",
       "\n",
       "        \n",
       "    \n",
       "    \n",
       "            var circle_marker_d0621c8817210cb05040044d89becef6 = L.circleMarker(\n",
       "                [16.876260219287527, 80.42196561391111],\n",
       "                {&quot;bubblingMouseEvents&quot;: true, &quot;color&quot;: &quot;crimson&quot;, &quot;dashArray&quot;: null, &quot;dashOffset&quot;: null, &quot;fill&quot;: false, &quot;fillColor&quot;: &quot;crimson&quot;, &quot;fillOpacity&quot;: 0.2, &quot;fillRule&quot;: &quot;evenodd&quot;, &quot;lineCap&quot;: &quot;round&quot;, &quot;lineJoin&quot;: &quot;round&quot;, &quot;opacity&quot;: 1.0, &quot;radius&quot;: 3, &quot;stroke&quot;: true, &quot;weight&quot;: 3}\n",
       "            ).addTo(map_eb4f4f4f5471cbd5cbf59896c6e7512f);\n",
       "        \n",
       "    \n",
       "        var popup_9789992fea193010efacd35999cf709d = L.popup({&quot;maxWidth&quot;: &quot;100%&quot;});\n",
       "\n",
       "        \n",
       "            \n",
       "                var html_9adbebaa0f1c76f306d750f546ee9730 = $(`&lt;div id=&quot;html_9adbebaa0f1c76f306d750f546ee9730&quot; style=&quot;width: 100.0%; height: 100.0%;&quot;&gt;Meda Venkata Mallikarjuna Reddy&lt;/div&gt;`)[0];\n",
       "                popup_9789992fea193010efacd35999cf709d.setContent(html_9adbebaa0f1c76f306d750f546ee9730);\n",
       "            \n",
       "        \n",
       "\n",
       "        circle_marker_d0621c8817210cb05040044d89becef6.bindPopup(popup_9789992fea193010efacd35999cf709d)\n",
       "        ;\n",
       "\n",
       "        \n",
       "    \n",
       "    \n",
       "            var circle_marker_f76b65d48bc8aeb7e99bfe874a42f2e8 = L.circleMarker(\n",
       "                [15.193745100084731, 79.2986143711756],\n",
       "                {&quot;bubblingMouseEvents&quot;: true, &quot;color&quot;: &quot;crimson&quot;, &quot;dashArray&quot;: null, &quot;dashOffset&quot;: null, &quot;fill&quot;: false, &quot;fillColor&quot;: &quot;crimson&quot;, &quot;fillOpacity&quot;: 0.2, &quot;fillRule&quot;: &quot;evenodd&quot;, &quot;lineCap&quot;: &quot;round&quot;, &quot;lineJoin&quot;: &quot;round&quot;, &quot;opacity&quot;: 1.0, &quot;radius&quot;: 3, &quot;stroke&quot;: true, &quot;weight&quot;: 3}\n",
       "            ).addTo(map_eb4f4f4f5471cbd5cbf59896c6e7512f);\n",
       "        \n",
       "    \n",
       "        var popup_f2243d48a28b634cabed517ea2f15ff1 = L.popup({&quot;maxWidth&quot;: &quot;100%&quot;});\n",
       "\n",
       "        \n",
       "            \n",
       "                var html_fbde1e3cc7178e44731c94c502df05db = $(`&lt;div id=&quot;html_fbde1e3cc7178e44731c94c502df05db&quot; style=&quot;width: 100.0%; height: 100.0%;&quot;&gt;vallabhaneni vamsi mohan&lt;/div&gt;`)[0];\n",
       "                popup_f2243d48a28b634cabed517ea2f15ff1.setContent(html_fbde1e3cc7178e44731c94c502df05db);\n",
       "            \n",
       "        \n",
       "\n",
       "        circle_marker_f76b65d48bc8aeb7e99bfe874a42f2e8.bindPopup(popup_f2243d48a28b634cabed517ea2f15ff1)\n",
       "        ;\n",
       "\n",
       "        \n",
       "    \n",
       "    \n",
       "            var circle_marker_7d58e986ecbf9d140d11cefec9132d67 = L.circleMarker(\n",
       "                [15.788367788347998, 78.91281721458807],\n",
       "                {&quot;bubblingMouseEvents&quot;: true, &quot;color&quot;: &quot;crimson&quot;, &quot;dashArray&quot;: null, &quot;dashOffset&quot;: null, &quot;fill&quot;: false, &quot;fillColor&quot;: &quot;crimson&quot;, &quot;fillOpacity&quot;: 0.2, &quot;fillRule&quot;: &quot;evenodd&quot;, &quot;lineCap&quot;: &quot;round&quot;, &quot;lineJoin&quot;: &quot;round&quot;, &quot;opacity&quot;: 1.0, &quot;radius&quot;: 3, &quot;stroke&quot;: true, &quot;weight&quot;: 3}\n",
       "            ).addTo(map_eb4f4f4f5471cbd5cbf59896c6e7512f);\n",
       "        \n",
       "    \n",
       "        var popup_8898ee37d4c8934fb5d9ea8327ac9d55 = L.popup({&quot;maxWidth&quot;: &quot;100%&quot;});\n",
       "\n",
       "        \n",
       "            \n",
       "                var html_92b455034ba52f8bdcffd16f612030b5 = $(`&lt;div id=&quot;html_92b455034ba52f8bdcffd16f612030b5&quot; style=&quot;width: 100.0%; height: 100.0%;&quot;&gt;Muttamsetti Srinivasa Rao&lt;/div&gt;`)[0];\n",
       "                popup_8898ee37d4c8934fb5d9ea8327ac9d55.setContent(html_92b455034ba52f8bdcffd16f612030b5);\n",
       "            \n",
       "        \n",
       "\n",
       "        circle_marker_7d58e986ecbf9d140d11cefec9132d67.bindPopup(popup_8898ee37d4c8934fb5d9ea8327ac9d55)\n",
       "        ;\n",
       "\n",
       "        \n",
       "    \n",
       "    \n",
       "            var circle_marker_5c5cae6c2764ffb44ef365a4be7ffae5 = L.circleMarker(\n",
       "                [15.846372016222016, 79.96455969841033],\n",
       "                {&quot;bubblingMouseEvents&quot;: true, &quot;color&quot;: &quot;crimson&quot;, &quot;dashArray&quot;: null, &quot;dashOffset&quot;: null, &quot;fill&quot;: false, &quot;fillColor&quot;: &quot;crimson&quot;, &quot;fillOpacity&quot;: 0.2, &quot;fillRule&quot;: &quot;evenodd&quot;, &quot;lineCap&quot;: &quot;round&quot;, &quot;lineJoin&quot;: &quot;round&quot;, &quot;opacity&quot;: 1.0, &quot;radius&quot;: 3, &quot;stroke&quot;: true, &quot;weight&quot;: 3}\n",
       "            ).addTo(map_eb4f4f4f5471cbd5cbf59896c6e7512f);\n",
       "        \n",
       "    \n",
       "        var popup_6e2b150b6027ff65a0ea6907e366f526 = L.popup({&quot;maxWidth&quot;: &quot;100%&quot;});\n",
       "\n",
       "        \n",
       "            \n",
       "                var html_e9abf3856b4431260b2ba9244fcb0da8 = $(`&lt;div id=&quot;html_e9abf3856b4431260b2ba9244fcb0da8&quot; style=&quot;width: 100.0%; height: 100.0%;&quot;&gt;Ramakrishna Reddy Pinnelli&lt;/div&gt;`)[0];\n",
       "                popup_6e2b150b6027ff65a0ea6907e366f526.setContent(html_e9abf3856b4431260b2ba9244fcb0da8);\n",
       "            \n",
       "        \n",
       "\n",
       "        circle_marker_5c5cae6c2764ffb44ef365a4be7ffae5.bindPopup(popup_6e2b150b6027ff65a0ea6907e366f526)\n",
       "        ;\n",
       "\n",
       "        \n",
       "    \n",
       "    \n",
       "            var circle_marker_06dc13169a8488c2e2eb789d5ecbe8c8 = L.circleMarker(\n",
       "                [15.324111125627049, 78.3697646165842],\n",
       "                {&quot;bubblingMouseEvents&quot;: true, &quot;color&quot;: &quot;crimson&quot;, &quot;dashArray&quot;: null, &quot;dashOffset&quot;: null, &quot;fill&quot;: false, &quot;fillColor&quot;: &quot;crimson&quot;, &quot;fillOpacity&quot;: 0.2, &quot;fillRule&quot;: &quot;evenodd&quot;, &quot;lineCap&quot;: &quot;round&quot;, &quot;lineJoin&quot;: &quot;round&quot;, &quot;opacity&quot;: 1.0, &quot;radius&quot;: 3, &quot;stroke&quot;: true, &quot;weight&quot;: 3}\n",
       "            ).addTo(map_eb4f4f4f5471cbd5cbf59896c6e7512f);\n",
       "        \n",
       "    \n",
       "        var popup_f6aaab9c39b383326c1daef30fc674ef = L.popup({&quot;maxWidth&quot;: &quot;100%&quot;});\n",
       "\n",
       "        \n",
       "            \n",
       "                var html_d141c674d5c310332019974a7ff6bd84 = $(`&lt;div id=&quot;html_d141c674d5c310332019974a7ff6bd84&quot; style=&quot;width: 100.0%; height: 100.0%;&quot;&gt;N lokesh&lt;/div&gt;`)[0];\n",
       "                popup_f6aaab9c39b383326c1daef30fc674ef.setContent(html_d141c674d5c310332019974a7ff6bd84);\n",
       "            \n",
       "        \n",
       "\n",
       "        circle_marker_06dc13169a8488c2e2eb789d5ecbe8c8.bindPopup(popup_f6aaab9c39b383326c1daef30fc674ef)\n",
       "        ;\n",
       "\n",
       "        \n",
       "    \n",
       "    \n",
       "            var circle_marker_7ae55f091a11544c72bae77d70c1ef3a = L.circleMarker(\n",
       "                [16.55107547948698, 80.17583795536852],\n",
       "                {&quot;bubblingMouseEvents&quot;: true, &quot;color&quot;: &quot;crimson&quot;, &quot;dashArray&quot;: null, &quot;dashOffset&quot;: null, &quot;fill&quot;: false, &quot;fillColor&quot;: &quot;crimson&quot;, &quot;fillOpacity&quot;: 0.2, &quot;fillRule&quot;: &quot;evenodd&quot;, &quot;lineCap&quot;: &quot;round&quot;, &quot;lineJoin&quot;: &quot;round&quot;, &quot;opacity&quot;: 1.0, &quot;radius&quot;: 3, &quot;stroke&quot;: true, &quot;weight&quot;: 3}\n",
       "            ).addTo(map_eb4f4f4f5471cbd5cbf59896c6e7512f);\n",
       "        \n",
       "    \n",
       "        var popup_af3f9e7aa05b96dd2ac094f19f564890 = L.popup({&quot;maxWidth&quot;: &quot;100%&quot;});\n",
       "\n",
       "        \n",
       "            \n",
       "                var html_3e47f3646769c88197f2216d1e23de06 = $(`&lt;div id=&quot;html_3e47f3646769c88197f2216d1e23de06&quot; style=&quot;width: 100.0%; height: 100.0%;&quot;&gt;Beesetti Venkata Satyavathi&lt;/div&gt;`)[0];\n",
       "                popup_af3f9e7aa05b96dd2ac094f19f564890.setContent(html_3e47f3646769c88197f2216d1e23de06);\n",
       "            \n",
       "        \n",
       "\n",
       "        circle_marker_7ae55f091a11544c72bae77d70c1ef3a.bindPopup(popup_af3f9e7aa05b96dd2ac094f19f564890)\n",
       "        ;\n",
       "\n",
       "        \n",
       "    \n",
       "    \n",
       "            var circle_marker_5d8bb6b241ed9c6088c0bd15f7beb9f8 = L.circleMarker(\n",
       "                [15.500556950665924, 79.10713366930335],\n",
       "                {&quot;bubblingMouseEvents&quot;: true, &quot;color&quot;: &quot;crimson&quot;, &quot;dashArray&quot;: null, &quot;dashOffset&quot;: null, &quot;fill&quot;: false, &quot;fillColor&quot;: &quot;crimson&quot;, &quot;fillOpacity&quot;: 0.2, &quot;fillRule&quot;: &quot;evenodd&quot;, &quot;lineCap&quot;: &quot;round&quot;, &quot;lineJoin&quot;: &quot;round&quot;, &quot;opacity&quot;: 1.0, &quot;radius&quot;: 3, &quot;stroke&quot;: true, &quot;weight&quot;: 3}\n",
       "            ).addTo(map_eb4f4f4f5471cbd5cbf59896c6e7512f);\n",
       "        \n",
       "    \n",
       "        var popup_a2cbcd284db82667249e41115ada8721 = L.popup({&quot;maxWidth&quot;: &quot;100%&quot;});\n",
       "\n",
       "        \n",
       "            \n",
       "                var html_306e80f81e41be488a63a6d9c8fd232d = $(`&lt;div id=&quot;html_306e80f81e41be488a63a6d9c8fd232d&quot; style=&quot;width: 100.0%; height: 100.0%;&quot;&gt;Gadde Ramamohan&lt;/div&gt;`)[0];\n",
       "                popup_a2cbcd284db82667249e41115ada8721.setContent(html_306e80f81e41be488a63a6d9c8fd232d);\n",
       "            \n",
       "        \n",
       "\n",
       "        circle_marker_5d8bb6b241ed9c6088c0bd15f7beb9f8.bindPopup(popup_a2cbcd284db82667249e41115ada8721)\n",
       "        ;\n",
       "\n",
       "        \n",
       "    \n",
       "    \n",
       "            var circle_marker_54404debfa6e172d5542696129619a05 = L.circleMarker(\n",
       "                [16.23685792011403, 79.29786112640232],\n",
       "                {&quot;bubblingMouseEvents&quot;: true, &quot;color&quot;: &quot;crimson&quot;, &quot;dashArray&quot;: null, &quot;dashOffset&quot;: null, &quot;fill&quot;: false, &quot;fillColor&quot;: &quot;crimson&quot;, &quot;fillOpacity&quot;: 0.2, &quot;fillRule&quot;: &quot;evenodd&quot;, &quot;lineCap&quot;: &quot;round&quot;, &quot;lineJoin&quot;: &quot;round&quot;, &quot;opacity&quot;: 1.0, &quot;radius&quot;: 3, &quot;stroke&quot;: true, &quot;weight&quot;: 3}\n",
       "            ).addTo(map_eb4f4f4f5471cbd5cbf59896c6e7512f);\n",
       "        \n",
       "    \n",
       "        var popup_f1437a13c2f45dae1d3c04999c5971db = L.popup({&quot;maxWidth&quot;: &quot;100%&quot;});\n",
       "\n",
       "        \n",
       "            \n",
       "                var html_236e981b961bd10a8a15f481789b3c1f = $(`&lt;div id=&quot;html_236e981b961bd10a8a15f481789b3c1f&quot; style=&quot;width: 100.0%; height: 100.0%;&quot;&gt;Pothena Venkata Mahesh&lt;/div&gt;`)[0];\n",
       "                popup_f1437a13c2f45dae1d3c04999c5971db.setContent(html_236e981b961bd10a8a15f481789b3c1f);\n",
       "            \n",
       "        \n",
       "\n",
       "        circle_marker_54404debfa6e172d5542696129619a05.bindPopup(popup_f1437a13c2f45dae1d3c04999c5971db)\n",
       "        ;\n",
       "\n",
       "        \n",
       "    \n",
       "    \n",
       "            var circle_marker_dba6c08324f7e8425a6302fb66b3895a = L.circleMarker(\n",
       "                [15.221671314833092, 77.65086416872568],\n",
       "                {&quot;bubblingMouseEvents&quot;: true, &quot;color&quot;: &quot;crimson&quot;, &quot;dashArray&quot;: null, &quot;dashOffset&quot;: null, &quot;fill&quot;: false, &quot;fillColor&quot;: &quot;crimson&quot;, &quot;fillOpacity&quot;: 0.2, &quot;fillRule&quot;: &quot;evenodd&quot;, &quot;lineCap&quot;: &quot;round&quot;, &quot;lineJoin&quot;: &quot;round&quot;, &quot;opacity&quot;: 1.0, &quot;radius&quot;: 3, &quot;stroke&quot;: true, &quot;weight&quot;: 3}\n",
       "            ).addTo(map_eb4f4f4f5471cbd5cbf59896c6e7512f);\n",
       "        \n",
       "    \n",
       "        var popup_43d8869c5c782c507c0ca22a315be98e = L.popup({&quot;maxWidth&quot;: &quot;100%&quot;});\n",
       "\n",
       "        \n",
       "            \n",
       "                var html_2e273f914cb76394b1574e961fd877e9 = $(`&lt;div id=&quot;html_2e273f914cb76394b1574e961fd877e9&quot; style=&quot;width: 100.0%; height: 100.0%;&quot;&gt;Vasupalli Ganesh Kumar&lt;/div&gt;`)[0];\n",
       "                popup_43d8869c5c782c507c0ca22a315be98e.setContent(html_2e273f914cb76394b1574e961fd877e9);\n",
       "            \n",
       "        \n",
       "\n",
       "        circle_marker_dba6c08324f7e8425a6302fb66b3895a.bindPopup(popup_43d8869c5c782c507c0ca22a315be98e)\n",
       "        ;\n",
       "\n",
       "        \n",
       "    \n",
       "    \n",
       "            var circle_marker_09a02f43e159e1863a00f5682f6aa3ba = L.circleMarker(\n",
       "                [16.925215027554728, 80.22673181468679],\n",
       "                {&quot;bubblingMouseEvents&quot;: true, &quot;color&quot;: &quot;crimson&quot;, &quot;dashArray&quot;: null, &quot;dashOffset&quot;: null, &quot;fill&quot;: false, &quot;fillColor&quot;: &quot;crimson&quot;, &quot;fillOpacity&quot;: 0.2, &quot;fillRule&quot;: &quot;evenodd&quot;, &quot;lineCap&quot;: &quot;round&quot;, &quot;lineJoin&quot;: &quot;round&quot;, &quot;opacity&quot;: 1.0, &quot;radius&quot;: 3, &quot;stroke&quot;: true, &quot;weight&quot;: 3}\n",
       "            ).addTo(map_eb4f4f4f5471cbd5cbf59896c6e7512f);\n",
       "        \n",
       "    \n",
       "        var popup_54ee19371ccc8606f69c01576a791d85 = L.popup({&quot;maxWidth&quot;: &quot;100%&quot;});\n",
       "\n",
       "        \n",
       "            \n",
       "                var html_9f0d0f77a174d0ab82ee6f05a25dacd3 = $(`&lt;div id=&quot;html_9f0d0f77a174d0ab82ee6f05a25dacd3&quot; style=&quot;width: 100.0%; height: 100.0%;&quot;&gt;Buggana Rajendranath&lt;/div&gt;`)[0];\n",
       "                popup_54ee19371ccc8606f69c01576a791d85.setContent(html_9f0d0f77a174d0ab82ee6f05a25dacd3);\n",
       "            \n",
       "        \n",
       "\n",
       "        circle_marker_09a02f43e159e1863a00f5682f6aa3ba.bindPopup(popup_54ee19371ccc8606f69c01576a791d85)\n",
       "        ;\n",
       "\n",
       "        \n",
       "    \n",
       "    \n",
       "            var circle_marker_ecc07981823b5ce0ea4fa1a827b78e39 = L.circleMarker(\n",
       "                [16.18768865176101, 80.15154435071942],\n",
       "                {&quot;bubblingMouseEvents&quot;: true, &quot;color&quot;: &quot;crimson&quot;, &quot;dashArray&quot;: null, &quot;dashOffset&quot;: null, &quot;fill&quot;: false, &quot;fillColor&quot;: &quot;crimson&quot;, &quot;fillOpacity&quot;: 0.2, &quot;fillRule&quot;: &quot;evenodd&quot;, &quot;lineCap&quot;: &quot;round&quot;, &quot;lineJoin&quot;: &quot;round&quot;, &quot;opacity&quot;: 1.0, &quot;radius&quot;: 3, &quot;stroke&quot;: true, &quot;weight&quot;: 3}\n",
       "            ).addTo(map_eb4f4f4f5471cbd5cbf59896c6e7512f);\n",
       "        \n",
       "    \n",
       "        var popup_0d63816191c749b0e60e7a7e8618b2b3 = L.popup({&quot;maxWidth&quot;: &quot;100%&quot;});\n",
       "\n",
       "        \n",
       "            \n",
       "                var html_87ee45f643da511e9d6046a644ce292d = $(`&lt;div id=&quot;html_87ee45f643da511e9d6046a644ce292d&quot; style=&quot;width: 100.0%; height: 100.0%;&quot;&gt;Jaradoddi Sudhakar&lt;/div&gt;`)[0];\n",
       "                popup_0d63816191c749b0e60e7a7e8618b2b3.setContent(html_87ee45f643da511e9d6046a644ce292d);\n",
       "            \n",
       "        \n",
       "\n",
       "        circle_marker_ecc07981823b5ce0ea4fa1a827b78e39.bindPopup(popup_0d63816191c749b0e60e7a7e8618b2b3)\n",
       "        ;\n",
       "\n",
       "        \n",
       "    \n",
       "    \n",
       "            var circle_marker_759194cca008adfbdfbc0a2501b9add3 = L.circleMarker(\n",
       "                [15.501335640141429, 79.0009871098721],\n",
       "                {&quot;bubblingMouseEvents&quot;: true, &quot;color&quot;: &quot;crimson&quot;, &quot;dashArray&quot;: null, &quot;dashOffset&quot;: null, &quot;fill&quot;: false, &quot;fillColor&quot;: &quot;crimson&quot;, &quot;fillOpacity&quot;: 0.2, &quot;fillRule&quot;: &quot;evenodd&quot;, &quot;lineCap&quot;: &quot;round&quot;, &quot;lineJoin&quot;: &quot;round&quot;, &quot;opacity&quot;: 1.0, &quot;radius&quot;: 3, &quot;stroke&quot;: true, &quot;weight&quot;: 3}\n",
       "            ).addTo(map_eb4f4f4f5471cbd5cbf59896c6e7512f);\n",
       "        \n",
       "    \n",
       "        var popup_006d8147bcc1194c89c94908751d741b = L.popup({&quot;maxWidth&quot;: &quot;100%&quot;});\n",
       "\n",
       "        \n",
       "            \n",
       "                var html_21d934f74b6647f3c5fbe5b0afd5dbd3 = $(`&lt;div id=&quot;html_21d934f74b6647f3c5fbe5b0afd5dbd3&quot; style=&quot;width: 100.0%; height: 100.0%;&quot;&gt;Vallabhaneni Balasouri&lt;/div&gt;`)[0];\n",
       "                popup_006d8147bcc1194c89c94908751d741b.setContent(html_21d934f74b6647f3c5fbe5b0afd5dbd3);\n",
       "            \n",
       "        \n",
       "\n",
       "        circle_marker_759194cca008adfbdfbc0a2501b9add3.bindPopup(popup_006d8147bcc1194c89c94908751d741b)\n",
       "        ;\n",
       "\n",
       "        \n",
       "    \n",
       "    \n",
       "            var circle_marker_83752a7b1448c8163448473589af4365 = L.circleMarker(\n",
       "                [16.07682328486841, 80.12395251446758],\n",
       "                {&quot;bubblingMouseEvents&quot;: true, &quot;color&quot;: &quot;crimson&quot;, &quot;dashArray&quot;: null, &quot;dashOffset&quot;: null, &quot;fill&quot;: false, &quot;fillColor&quot;: &quot;crimson&quot;, &quot;fillOpacity&quot;: 0.2, &quot;fillRule&quot;: &quot;evenodd&quot;, &quot;lineCap&quot;: &quot;round&quot;, &quot;lineJoin&quot;: &quot;round&quot;, &quot;opacity&quot;: 1.0, &quot;radius&quot;: 3, &quot;stroke&quot;: true, &quot;weight&quot;: 3}\n",
       "            ).addTo(map_eb4f4f4f5471cbd5cbf59896c6e7512f);\n",
       "        \n",
       "    \n",
       "        var popup_761ad6aea15009528e5b8eb0b759774b = L.popup({&quot;maxWidth&quot;: &quot;100%&quot;});\n",
       "\n",
       "        \n",
       "            \n",
       "                var html_846a0be07ec92db635375d6bd056806e = $(`&lt;div id=&quot;html_846a0be07ec92db635375d6bd056806e&quot; style=&quot;width: 100.0%; height: 100.0%;&quot;&gt;Peddireddy Ramachandra Reddy&lt;/div&gt;`)[0];\n",
       "                popup_761ad6aea15009528e5b8eb0b759774b.setContent(html_846a0be07ec92db635375d6bd056806e);\n",
       "            \n",
       "        \n",
       "\n",
       "        circle_marker_83752a7b1448c8163448473589af4365.bindPopup(popup_761ad6aea15009528e5b8eb0b759774b)\n",
       "        ;\n",
       "\n",
       "        \n",
       "    \n",
       "    \n",
       "            var circle_marker_153ea8b68c6778067390bfbc4d273320 = L.circleMarker(\n",
       "                [16.825011417934252, 80.59841605372158],\n",
       "                {&quot;bubblingMouseEvents&quot;: true, &quot;color&quot;: &quot;crimson&quot;, &quot;dashArray&quot;: null, &quot;dashOffset&quot;: null, &quot;fill&quot;: false, &quot;fillColor&quot;: &quot;crimson&quot;, &quot;fillOpacity&quot;: 0.2, &quot;fillRule&quot;: &quot;evenodd&quot;, &quot;lineCap&quot;: &quot;round&quot;, &quot;lineJoin&quot;: &quot;round&quot;, &quot;opacity&quot;: 1.0, &quot;radius&quot;: 3, &quot;stroke&quot;: true, &quot;weight&quot;: 3}\n",
       "            ).addTo(map_eb4f4f4f5471cbd5cbf59896c6e7512f);\n",
       "        \n",
       "    \n",
       "        var popup_e0cd377b5cc70e46898f9c95ff584e3e = L.popup({&quot;maxWidth&quot;: &quot;100%&quot;});\n",
       "\n",
       "        \n",
       "            \n",
       "                var html_794b164d5a154068cc40240caee7fc6d = $(`&lt;div id=&quot;html_794b164d5a154068cc40240caee7fc6d&quot; style=&quot;width: 100.0%; height: 100.0%;&quot;&gt;Alajangi jogarao &lt;/div&gt;`)[0];\n",
       "                popup_e0cd377b5cc70e46898f9c95ff584e3e.setContent(html_794b164d5a154068cc40240caee7fc6d);\n",
       "            \n",
       "        \n",
       "\n",
       "        circle_marker_153ea8b68c6778067390bfbc4d273320.bindPopup(popup_e0cd377b5cc70e46898f9c95ff584e3e)\n",
       "        ;\n",
       "\n",
       "        \n",
       "    \n",
       "    \n",
       "            var circle_marker_3fe896a8153f4da6641e63949b44f1c6 = L.circleMarker(\n",
       "                [17.069834831156285, 80.6481117300431],\n",
       "                {&quot;bubblingMouseEvents&quot;: true, &quot;color&quot;: &quot;crimson&quot;, &quot;dashArray&quot;: null, &quot;dashOffset&quot;: null, &quot;fill&quot;: false, &quot;fillColor&quot;: &quot;crimson&quot;, &quot;fillOpacity&quot;: 0.2, &quot;fillRule&quot;: &quot;evenodd&quot;, &quot;lineCap&quot;: &quot;round&quot;, &quot;lineJoin&quot;: &quot;round&quot;, &quot;opacity&quot;: 1.0, &quot;radius&quot;: 3, &quot;stroke&quot;: true, &quot;weight&quot;: 3}\n",
       "            ).addTo(map_eb4f4f4f5471cbd5cbf59896c6e7512f);\n",
       "        \n",
       "    \n",
       "        var popup_76d3b01efd20e39f496e1de1b13a7ca0 = L.popup({&quot;maxWidth&quot;: &quot;100%&quot;});\n",
       "\n",
       "        \n",
       "            \n",
       "                var html_a687dd04a222c48caebf0b702e4afb13 = $(`&lt;div id=&quot;html_a687dd04a222c48caebf0b702e4afb13&quot; style=&quot;width: 100.0%; height: 100.0%;&quot;&gt;Kotagiri Sridhar&lt;/div&gt;`)[0];\n",
       "                popup_76d3b01efd20e39f496e1de1b13a7ca0.setContent(html_a687dd04a222c48caebf0b702e4afb13);\n",
       "            \n",
       "        \n",
       "\n",
       "        circle_marker_3fe896a8153f4da6641e63949b44f1c6.bindPopup(popup_76d3b01efd20e39f496e1de1b13a7ca0)\n",
       "        ;\n",
       "\n",
       "        \n",
       "    \n",
       "    \n",
       "            var circle_marker_18918d18e2eacb06907aa3f27d5d84e2 = L.circleMarker(\n",
       "                [16.574287962296733, 79.31337739732612],\n",
       "                {&quot;bubblingMouseEvents&quot;: true, &quot;color&quot;: &quot;crimson&quot;, &quot;dashArray&quot;: null, &quot;dashOffset&quot;: null, &quot;fill&quot;: false, &quot;fillColor&quot;: &quot;crimson&quot;, &quot;fillOpacity&quot;: 0.2, &quot;fillRule&quot;: &quot;evenodd&quot;, &quot;lineCap&quot;: &quot;round&quot;, &quot;lineJoin&quot;: &quot;round&quot;, &quot;opacity&quot;: 1.0, &quot;radius&quot;: 3, &quot;stroke&quot;: true, &quot;weight&quot;: 3}\n",
       "            ).addTo(map_eb4f4f4f5471cbd5cbf59896c6e7512f);\n",
       "        \n",
       "    \n",
       "        var popup_9a5048f443c6290ed86129c03f44b515 = L.popup({&quot;maxWidth&quot;: &quot;100%&quot;});\n",
       "\n",
       "        \n",
       "            \n",
       "                var html_ca1f1f0e43a425c0fc6aba268321d767 = $(`&lt;div id=&quot;html_ca1f1f0e43a425c0fc6aba268321d767&quot; style=&quot;width: 100.0%; height: 100.0%;&quot;&gt;Karanam Balaram Krishna Murthy&lt;/div&gt;`)[0];\n",
       "                popup_9a5048f443c6290ed86129c03f44b515.setContent(html_ca1f1f0e43a425c0fc6aba268321d767);\n",
       "            \n",
       "        \n",
       "\n",
       "        circle_marker_18918d18e2eacb06907aa3f27d5d84e2.bindPopup(popup_9a5048f443c6290ed86129c03f44b515)\n",
       "        ;\n",
       "\n",
       "        \n",
       "    \n",
       "    \n",
       "            var circle_marker_a2b26fad8057eeffa40e51ef31d921d5 = L.circleMarker(\n",
       "                [16.984121964547494, 81.05665084981881],\n",
       "                {&quot;bubblingMouseEvents&quot;: true, &quot;color&quot;: &quot;crimson&quot;, &quot;dashArray&quot;: null, &quot;dashOffset&quot;: null, &quot;fill&quot;: false, &quot;fillColor&quot;: &quot;crimson&quot;, &quot;fillOpacity&quot;: 0.2, &quot;fillRule&quot;: &quot;evenodd&quot;, &quot;lineCap&quot;: &quot;round&quot;, &quot;lineJoin&quot;: &quot;round&quot;, &quot;opacity&quot;: 1.0, &quot;radius&quot;: 3, &quot;stroke&quot;: true, &quot;weight&quot;: 3}\n",
       "            ).addTo(map_eb4f4f4f5471cbd5cbf59896c6e7512f);\n",
       "        \n",
       "    \n",
       "        var popup_42efd85caf06b846e090ea7a2f0914b2 = L.popup({&quot;maxWidth&quot;: &quot;100%&quot;});\n",
       "\n",
       "        \n",
       "            \n",
       "                var html_178584e77c65ef2d99022d69805d444f = $(`&lt;div id=&quot;html_178584e77c65ef2d99022d69805d444f&quot; style=&quot;width: 100.0%; height: 100.0%;&quot;&gt;Pochimareddy Ravindranath Reddy&lt;/div&gt;`)[0];\n",
       "                popup_42efd85caf06b846e090ea7a2f0914b2.setContent(html_178584e77c65ef2d99022d69805d444f);\n",
       "            \n",
       "        \n",
       "\n",
       "        circle_marker_a2b26fad8057eeffa40e51ef31d921d5.bindPopup(popup_42efd85caf06b846e090ea7a2f0914b2)\n",
       "        ;\n",
       "\n",
       "        \n",
       "    \n",
       "    \n",
       "            var circle_marker_0d4119a512547806c20f2518681ec6fd = L.circleMarker(\n",
       "                [16.677708255525843, 79.61088411727987],\n",
       "                {&quot;bubblingMouseEvents&quot;: true, &quot;color&quot;: &quot;crimson&quot;, &quot;dashArray&quot;: null, &quot;dashOffset&quot;: null, &quot;fill&quot;: false, &quot;fillColor&quot;: &quot;crimson&quot;, &quot;fillOpacity&quot;: 0.2, &quot;fillRule&quot;: &quot;evenodd&quot;, &quot;lineCap&quot;: &quot;round&quot;, &quot;lineJoin&quot;: &quot;round&quot;, &quot;opacity&quot;: 1.0, &quot;radius&quot;: 3, &quot;stroke&quot;: true, &quot;weight&quot;: 3}\n",
       "            ).addTo(map_eb4f4f4f5471cbd5cbf59896c6e7512f);\n",
       "        \n",
       "    \n",
       "        var popup_f5b31e2fcb01aab28592d01159fcfa5d = L.popup({&quot;maxWidth&quot;: &quot;100%&quot;});\n",
       "\n",
       "        \n",
       "            \n",
       "                var html_d6f02a853d5a0ee4630885b185d433ee = $(`&lt;div id=&quot;html_d6f02a853d5a0ee4630885b185d433ee&quot; style=&quot;width: 100.0%; height: 100.0%;&quot;&gt;Ponnada Venkata Satish Kumar&lt;/div&gt;`)[0];\n",
       "                popup_f5b31e2fcb01aab28592d01159fcfa5d.setContent(html_d6f02a853d5a0ee4630885b185d433ee);\n",
       "            \n",
       "        \n",
       "\n",
       "        circle_marker_0d4119a512547806c20f2518681ec6fd.bindPopup(popup_f5b31e2fcb01aab28592d01159fcfa5d)\n",
       "        ;\n",
       "\n",
       "        \n",
       "    \n",
       "    \n",
       "            var circle_marker_f67ea042d79f7115bcd69e85993a3319 = L.circleMarker(\n",
       "                [17.077505672387588, 80.36276132359217],\n",
       "                {&quot;bubblingMouseEvents&quot;: true, &quot;color&quot;: &quot;crimson&quot;, &quot;dashArray&quot;: null, &quot;dashOffset&quot;: null, &quot;fill&quot;: false, &quot;fillColor&quot;: &quot;crimson&quot;, &quot;fillOpacity&quot;: 0.2, &quot;fillRule&quot;: &quot;evenodd&quot;, &quot;lineCap&quot;: &quot;round&quot;, &quot;lineJoin&quot;: &quot;round&quot;, &quot;opacity&quot;: 1.0, &quot;radius&quot;: 3, &quot;stroke&quot;: true, &quot;weight&quot;: 3}\n",
       "            ).addTo(map_eb4f4f4f5471cbd5cbf59896c6e7512f);\n",
       "        \n",
       "    \n",
       "        var popup_a69ca9d240c42d6f7cba3d9330cd2f71 = L.popup({&quot;maxWidth&quot;: &quot;100%&quot;});\n",
       "\n",
       "        \n",
       "            \n",
       "                var html_8a7ec33355af80177e0b136343b430fc = $(`&lt;div id=&quot;html_8a7ec33355af80177e0b136343b430fc&quot; style=&quot;width: 100.0%; height: 100.0%;&quot;&gt;Dharmana Prasada Rao&lt;/div&gt;`)[0];\n",
       "                popup_a69ca9d240c42d6f7cba3d9330cd2f71.setContent(html_8a7ec33355af80177e0b136343b430fc);\n",
       "            \n",
       "        \n",
       "\n",
       "        circle_marker_f67ea042d79f7115bcd69e85993a3319.bindPopup(popup_a69ca9d240c42d6f7cba3d9330cd2f71)\n",
       "        ;\n",
       "\n",
       "        \n",
       "    \n",
       "    \n",
       "            var circle_marker_2619e804cdf4f28ad7d75a97256820ab = L.circleMarker(\n",
       "                [15.506269859165968, 78.27028154410861],\n",
       "                {&quot;bubblingMouseEvents&quot;: true, &quot;color&quot;: &quot;crimson&quot;, &quot;dashArray&quot;: null, &quot;dashOffset&quot;: null, &quot;fill&quot;: false, &quot;fillColor&quot;: &quot;crimson&quot;, &quot;fillOpacity&quot;: 0.2, &quot;fillRule&quot;: &quot;evenodd&quot;, &quot;lineCap&quot;: &quot;round&quot;, &quot;lineJoin&quot;: &quot;round&quot;, &quot;opacity&quot;: 1.0, &quot;radius&quot;: 3, &quot;stroke&quot;: true, &quot;weight&quot;: 3}\n",
       "            ).addTo(map_eb4f4f4f5471cbd5cbf59896c6e7512f);\n",
       "        \n",
       "    \n",
       "        var popup_7ab2cb51876a97b0779ca113aeaf112e = L.popup({&quot;maxWidth&quot;: &quot;100%&quot;});\n",
       "\n",
       "        \n",
       "            \n",
       "                var html_3330117714169c349b619a72adf40112 = $(`&lt;div id=&quot;html_3330117714169c349b619a72adf40112&quot; style=&quot;width: 100.0%; height: 100.0%;&quot;&gt;Yeluri Sambasiva Rao&lt;/div&gt;`)[0];\n",
       "                popup_7ab2cb51876a97b0779ca113aeaf112e.setContent(html_3330117714169c349b619a72adf40112);\n",
       "            \n",
       "        \n",
       "\n",
       "        circle_marker_2619e804cdf4f28ad7d75a97256820ab.bindPopup(popup_7ab2cb51876a97b0779ca113aeaf112e)\n",
       "        ;\n",
       "\n",
       "        \n",
       "    \n",
       "    \n",
       "            var circle_marker_010ec6b07d678eba5a6a1bf6cea9225d = L.circleMarker(\n",
       "                [17.022302365137598, 80.47254301623249],\n",
       "                {&quot;bubblingMouseEvents&quot;: true, &quot;color&quot;: &quot;crimson&quot;, &quot;dashArray&quot;: null, &quot;dashOffset&quot;: null, &quot;fill&quot;: false, &quot;fillColor&quot;: &quot;crimson&quot;, &quot;fillOpacity&quot;: 0.2, &quot;fillRule&quot;: &quot;evenodd&quot;, &quot;lineCap&quot;: &quot;round&quot;, &quot;lineJoin&quot;: &quot;round&quot;, &quot;opacity&quot;: 1.0, &quot;radius&quot;: 3, &quot;stroke&quot;: true, &quot;weight&quot;: 3}\n",
       "            ).addTo(map_eb4f4f4f5471cbd5cbf59896c6e7512f);\n",
       "        \n",
       "    \n",
       "        var popup_a0c6c3639d58880a37d40d3018343d39 = L.popup({&quot;maxWidth&quot;: &quot;100%&quot;});\n",
       "\n",
       "        \n",
       "            \n",
       "                var html_f8b731f45810548033d27bc8fa3d5234 = $(`&lt;div id=&quot;html_f8b731f45810548033d27bc8fa3d5234&quot; style=&quot;width: 100.0%; height: 100.0%;&quot;&gt;Purnachandra Prasad Parvatha&lt;/div&gt;`)[0];\n",
       "                popup_a0c6c3639d58880a37d40d3018343d39.setContent(html_f8b731f45810548033d27bc8fa3d5234);\n",
       "            \n",
       "        \n",
       "\n",
       "        circle_marker_010ec6b07d678eba5a6a1bf6cea9225d.bindPopup(popup_a0c6c3639d58880a37d40d3018343d39)\n",
       "        ;\n",
       "\n",
       "        \n",
       "    \n",
       "    \n",
       "            var circle_marker_6e6579118aa289c63fc2b803437bb912 = L.circleMarker(\n",
       "                [16.263457991006465, 79.25100602859015],\n",
       "                {&quot;bubblingMouseEvents&quot;: true, &quot;color&quot;: &quot;crimson&quot;, &quot;dashArray&quot;: null, &quot;dashOffset&quot;: null, &quot;fill&quot;: false, &quot;fillColor&quot;: &quot;crimson&quot;, &quot;fillOpacity&quot;: 0.2, &quot;fillRule&quot;: &quot;evenodd&quot;, &quot;lineCap&quot;: &quot;round&quot;, &quot;lineJoin&quot;: &quot;round&quot;, &quot;opacity&quot;: 1.0, &quot;radius&quot;: 3, &quot;stroke&quot;: true, &quot;weight&quot;: 3}\n",
       "            ).addTo(map_eb4f4f4f5471cbd5cbf59896c6e7512f);\n",
       "        \n",
       "    \n",
       "        var popup_5dc7b25c07d877bd3b49942cfb7d1154 = L.popup({&quot;maxWidth&quot;: &quot;100%&quot;});\n",
       "\n",
       "        \n",
       "            \n",
       "                var html_ad3d4d89eb09368b97df13ee70845ad2 = $(`&lt;div id=&quot;html_ad3d4d89eb09368b97df13ee70845ad2&quot; style=&quot;width: 100.0%; height: 100.0%;&quot;&gt;Mekapati Chandra Sekhar Reddy&lt;/div&gt;`)[0];\n",
       "                popup_5dc7b25c07d877bd3b49942cfb7d1154.setContent(html_ad3d4d89eb09368b97df13ee70845ad2);\n",
       "            \n",
       "        \n",
       "\n",
       "        circle_marker_6e6579118aa289c63fc2b803437bb912.bindPopup(popup_5dc7b25c07d877bd3b49942cfb7d1154)\n",
       "        ;\n",
       "\n",
       "        \n",
       "    \n",
       "    \n",
       "            var circle_marker_a2eefd97d0f3090fa919df16bb1de109 = L.circleMarker(\n",
       "                [17.184386924420195, 80.08999182843566],\n",
       "                {&quot;bubblingMouseEvents&quot;: true, &quot;color&quot;: &quot;crimson&quot;, &quot;dashArray&quot;: null, &quot;dashOffset&quot;: null, &quot;fill&quot;: false, &quot;fillColor&quot;: &quot;crimson&quot;, &quot;fillOpacity&quot;: 0.2, &quot;fillRule&quot;: &quot;evenodd&quot;, &quot;lineCap&quot;: &quot;round&quot;, &quot;lineJoin&quot;: &quot;round&quot;, &quot;opacity&quot;: 1.0, &quot;radius&quot;: 3, &quot;stroke&quot;: true, &quot;weight&quot;: 3}\n",
       "            ).addTo(map_eb4f4f4f5471cbd5cbf59896c6e7512f);\n",
       "        \n",
       "    \n",
       "        var popup_ee5724133c0e49e0494b76e1a46cf778 = L.popup({&quot;maxWidth&quot;: &quot;100%&quot;});\n",
       "\n",
       "        \n",
       "            \n",
       "                var html_4d6bde948b7abbf31362ed510169b0c5 = $(`&lt;div id=&quot;html_4d6bde948b7abbf31362ed510169b0c5&quot; style=&quot;width: 100.0%; height: 100.0%;&quot;&gt;Aranii Srenevasulu&lt;/div&gt;`)[0];\n",
       "                popup_ee5724133c0e49e0494b76e1a46cf778.setContent(html_4d6bde948b7abbf31362ed510169b0c5);\n",
       "            \n",
       "        \n",
       "\n",
       "        circle_marker_a2eefd97d0f3090fa919df16bb1de109.bindPopup(popup_ee5724133c0e49e0494b76e1a46cf778)\n",
       "        ;\n",
       "\n",
       "        \n",
       "    \n",
       "    \n",
       "            var circle_marker_bc187467afa568bc3a45709f0a987916 = L.circleMarker(\n",
       "                [15.995803657433765, 80.7813125475813],\n",
       "                {&quot;bubblingMouseEvents&quot;: true, &quot;color&quot;: &quot;crimson&quot;, &quot;dashArray&quot;: null, &quot;dashOffset&quot;: null, &quot;fill&quot;: false, &quot;fillColor&quot;: &quot;crimson&quot;, &quot;fillOpacity&quot;: 0.2, &quot;fillRule&quot;: &quot;evenodd&quot;, &quot;lineCap&quot;: &quot;round&quot;, &quot;lineJoin&quot;: &quot;round&quot;, &quot;opacity&quot;: 1.0, &quot;radius&quot;: 3, &quot;stroke&quot;: true, &quot;weight&quot;: 3}\n",
       "            ).addTo(map_eb4f4f4f5471cbd5cbf59896c6e7512f);\n",
       "        \n",
       "    \n",
       "        var popup_dcdf43c82acec0bb2eccb85c59a876de = L.popup({&quot;maxWidth&quot;: &quot;100%&quot;});\n",
       "\n",
       "        \n",
       "            \n",
       "                var html_853ec81184bbfd6800c6d1bca3445317 = $(`&lt;div id=&quot;html_853ec81184bbfd6800c6d1bca3445317&quot; style=&quot;width: 100.0%; height: 100.0%;&quot;&gt;Vidadala Rajini&lt;/div&gt;`)[0];\n",
       "                popup_dcdf43c82acec0bb2eccb85c59a876de.setContent(html_853ec81184bbfd6800c6d1bca3445317);\n",
       "            \n",
       "        \n",
       "\n",
       "        circle_marker_bc187467afa568bc3a45709f0a987916.bindPopup(popup_dcdf43c82acec0bb2eccb85c59a876de)\n",
       "        ;\n",
       "\n",
       "        \n",
       "    \n",
       "    \n",
       "            var circle_marker_1fa76112e52e6a86e48af456f1431032 = L.circleMarker(\n",
       "                [15.8248330468369, 80.05923262943413],\n",
       "                {&quot;bubblingMouseEvents&quot;: true, &quot;color&quot;: &quot;crimson&quot;, &quot;dashArray&quot;: null, &quot;dashOffset&quot;: null, &quot;fill&quot;: false, &quot;fillColor&quot;: &quot;crimson&quot;, &quot;fillOpacity&quot;: 0.2, &quot;fillRule&quot;: &quot;evenodd&quot;, &quot;lineCap&quot;: &quot;round&quot;, &quot;lineJoin&quot;: &quot;round&quot;, &quot;opacity&quot;: 1.0, &quot;radius&quot;: 3, &quot;stroke&quot;: true, &quot;weight&quot;: 3}\n",
       "            ).addTo(map_eb4f4f4f5471cbd5cbf59896c6e7512f);\n",
       "        \n",
       "    \n",
       "        var popup_c107ec260f691b71e1bc8c2b08ded6c8 = L.popup({&quot;maxWidth&quot;: &quot;100%&quot;});\n",
       "\n",
       "        \n",
       "            \n",
       "                var html_966e1de149556f67132ed0717631bdb0 = $(`&lt;div id=&quot;html_966e1de149556f67132ed0717631bdb0&quot; style=&quot;width: 100.0%; height: 100.0%;&quot;&gt;Nimmakayala Chinarajappa&lt;/div&gt;`)[0];\n",
       "                popup_c107ec260f691b71e1bc8c2b08ded6c8.setContent(html_966e1de149556f67132ed0717631bdb0);\n",
       "            \n",
       "        \n",
       "\n",
       "        circle_marker_1fa76112e52e6a86e48af456f1431032.bindPopup(popup_c107ec260f691b71e1bc8c2b08ded6c8)\n",
       "        ;\n",
       "\n",
       "        \n",
       "    \n",
       "    \n",
       "            var circle_marker_3ad30851d2e86c70708367cff3ddec40 = L.circleMarker(\n",
       "                [15.187186961073492, 79.80792248507777],\n",
       "                {&quot;bubblingMouseEvents&quot;: true, &quot;color&quot;: &quot;crimson&quot;, &quot;dashArray&quot;: null, &quot;dashOffset&quot;: null, &quot;fill&quot;: false, &quot;fillColor&quot;: &quot;crimson&quot;, &quot;fillOpacity&quot;: 0.2, &quot;fillRule&quot;: &quot;evenodd&quot;, &quot;lineCap&quot;: &quot;round&quot;, &quot;lineJoin&quot;: &quot;round&quot;, &quot;opacity&quot;: 1.0, &quot;radius&quot;: 3, &quot;stroke&quot;: true, &quot;weight&quot;: 3}\n",
       "            ).addTo(map_eb4f4f4f5471cbd5cbf59896c6e7512f);\n",
       "        \n",
       "    \n",
       "        var popup_35cd3f9c000c2b1535d160b6ed8f9ba4 = L.popup({&quot;maxWidth&quot;: &quot;100%&quot;});\n",
       "\n",
       "        \n",
       "            \n",
       "                var html_ddcc05c6e1257d7dfd41e339766521dd = $(`&lt;div id=&quot;html_ddcc05c6e1257d7dfd41e339766521dd&quot; style=&quot;width: 100.0%; height: 100.0%;&quot;&gt;Y. S. Avinash Reddy&lt;/div&gt;`)[0];\n",
       "                popup_35cd3f9c000c2b1535d160b6ed8f9ba4.setContent(html_ddcc05c6e1257d7dfd41e339766521dd);\n",
       "            \n",
       "        \n",
       "\n",
       "        circle_marker_3ad30851d2e86c70708367cff3ddec40.bindPopup(popup_35cd3f9c000c2b1535d160b6ed8f9ba4)\n",
       "        ;\n",
       "\n",
       "        \n",
       "    \n",
       "    \n",
       "            var circle_marker_cf8d4ebbf0f7fb91ae5db3b547517d37 = L.circleMarker(\n",
       "                [15.032380139829849, 78.57022252324919],\n",
       "                {&quot;bubblingMouseEvents&quot;: true, &quot;color&quot;: &quot;crimson&quot;, &quot;dashArray&quot;: null, &quot;dashOffset&quot;: null, &quot;fill&quot;: false, &quot;fillColor&quot;: &quot;crimson&quot;, &quot;fillOpacity&quot;: 0.2, &quot;fillRule&quot;: &quot;evenodd&quot;, &quot;lineCap&quot;: &quot;round&quot;, &quot;lineJoin&quot;: &quot;round&quot;, &quot;opacity&quot;: 1.0, &quot;radius&quot;: 3, &quot;stroke&quot;: true, &quot;weight&quot;: 3}\n",
       "            ).addTo(map_eb4f4f4f5471cbd5cbf59896c6e7512f);\n",
       "        \n",
       "    \n",
       "        var popup_e82682d9646eb6c77bb1e00032414ae8 = L.popup({&quot;maxWidth&quot;: &quot;100%&quot;});\n",
       "\n",
       "        \n",
       "            \n",
       "                var html_9cddfbbf2f12577ec586b1f23ee49d01 = $(`&lt;div id=&quot;html_9cddfbbf2f12577ec586b1f23ee49d01&quot; style=&quot;width: 100.0%; height: 100.0%;&quot;&gt;Alla Ramakrishna Reddy&lt;/div&gt;`)[0];\n",
       "                popup_e82682d9646eb6c77bb1e00032414ae8.setContent(html_9cddfbbf2f12577ec586b1f23ee49d01);\n",
       "            \n",
       "        \n",
       "\n",
       "        circle_marker_cf8d4ebbf0f7fb91ae5db3b547517d37.bindPopup(popup_e82682d9646eb6c77bb1e00032414ae8)\n",
       "        ;\n",
       "\n",
       "        \n",
       "    \n",
       "    \n",
       "            var circle_marker_ab03f489554905252298618140a814f9 = L.circleMarker(\n",
       "                [16.79687732228479, 79.54532457161682],\n",
       "                {&quot;bubblingMouseEvents&quot;: true, &quot;color&quot;: &quot;crimson&quot;, &quot;dashArray&quot;: null, &quot;dashOffset&quot;: null, &quot;fill&quot;: false, &quot;fillColor&quot;: &quot;crimson&quot;, &quot;fillOpacity&quot;: 0.2, &quot;fillRule&quot;: &quot;evenodd&quot;, &quot;lineCap&quot;: &quot;round&quot;, &quot;lineJoin&quot;: &quot;round&quot;, &quot;opacity&quot;: 1.0, &quot;radius&quot;: 3, &quot;stroke&quot;: true, &quot;weight&quot;: 3}\n",
       "            ).addTo(map_eb4f4f4f5471cbd5cbf59896c6e7512f);\n",
       "        \n",
       "    \n",
       "        var popup_664ed0f52c608ecdaddcfc3083634263 = L.popup({&quot;maxWidth&quot;: &quot;100%&quot;});\n",
       "\n",
       "        \n",
       "            \n",
       "                var html_70edaac19b9bb3d3d3cb31489af567dd = $(`&lt;div id=&quot;html_70edaac19b9bb3d3d3cb31489af567dd&quot; style=&quot;width: 100.0%; height: 100.0%;&quot;&gt;Puppala Srinivasarao&lt;/div&gt;`)[0];\n",
       "                popup_664ed0f52c608ecdaddcfc3083634263.setContent(html_70edaac19b9bb3d3d3cb31489af567dd);\n",
       "            \n",
       "        \n",
       "\n",
       "        circle_marker_ab03f489554905252298618140a814f9.bindPopup(popup_664ed0f52c608ecdaddcfc3083634263)\n",
       "        ;\n",
       "\n",
       "        \n",
       "    \n",
       "    \n",
       "            var circle_marker_778d40b72af6c57ed39186e81c2d73a6 = L.circleMarker(\n",
       "                [15.9485534754945, 78.28129244576186],\n",
       "                {&quot;bubblingMouseEvents&quot;: true, &quot;color&quot;: &quot;crimson&quot;, &quot;dashArray&quot;: null, &quot;dashOffset&quot;: null, &quot;fill&quot;: false, &quot;fillColor&quot;: &quot;crimson&quot;, &quot;fillOpacity&quot;: 0.2, &quot;fillRule&quot;: &quot;evenodd&quot;, &quot;lineCap&quot;: &quot;round&quot;, &quot;lineJoin&quot;: &quot;round&quot;, &quot;opacity&quot;: 1.0, &quot;radius&quot;: 3, &quot;stroke&quot;: true, &quot;weight&quot;: 3}\n",
       "            ).addTo(map_eb4f4f4f5471cbd5cbf59896c6e7512f);\n",
       "        \n",
       "    \n",
       "        var popup_026ca44c1e03a73fef4afc8e469e0fad = L.popup({&quot;maxWidth&quot;: &quot;100%&quot;});\n",
       "\n",
       "        \n",
       "            \n",
       "                var html_af5ae21a1670a31e0e5180c6b96be8ca = $(`&lt;div id=&quot;html_af5ae21a1670a31e0e5180c6b96be8ca&quot; style=&quot;width: 100.0%; height: 100.0%;&quot;&gt;Nadendla Manohar&lt;/div&gt;`)[0];\n",
       "                popup_026ca44c1e03a73fef4afc8e469e0fad.setContent(html_af5ae21a1670a31e0e5180c6b96be8ca);\n",
       "            \n",
       "        \n",
       "\n",
       "        circle_marker_778d40b72af6c57ed39186e81c2d73a6.bindPopup(popup_026ca44c1e03a73fef4afc8e469e0fad)\n",
       "        ;\n",
       "\n",
       "        \n",
       "    \n",
       "    \n",
       "            var circle_marker_f62245c725a96dcd98dab17c43fba844 = L.circleMarker(\n",
       "                [15.248069997835987, 77.60654036878896],\n",
       "                {&quot;bubblingMouseEvents&quot;: true, &quot;color&quot;: &quot;crimson&quot;, &quot;dashArray&quot;: null, &quot;dashOffset&quot;: null, &quot;fill&quot;: false, &quot;fillColor&quot;: &quot;crimson&quot;, &quot;fillOpacity&quot;: 0.2, &quot;fillRule&quot;: &quot;evenodd&quot;, &quot;lineCap&quot;: &quot;round&quot;, &quot;lineJoin&quot;: &quot;round&quot;, &quot;opacity&quot;: 1.0, &quot;radius&quot;: 3, &quot;stroke&quot;: true, &quot;weight&quot;: 3}\n",
       "            ).addTo(map_eb4f4f4f5471cbd5cbf59896c6e7512f);\n",
       "        \n",
       "    \n",
       "        var popup_b0ded30ab911590b753c6fa1c3692409 = L.popup({&quot;maxWidth&quot;: &quot;100%&quot;});\n",
       "\n",
       "        \n",
       "            \n",
       "                var html_39115074a5b2bb38bddc43d7561b79b0 = $(`&lt;div id=&quot;html_39115074a5b2bb38bddc43d7561b79b0&quot; style=&quot;width: 100.0%; height: 100.0%;&quot;&gt;Balineni Srinivasa Reddy&lt;/div&gt;`)[0];\n",
       "                popup_b0ded30ab911590b753c6fa1c3692409.setContent(html_39115074a5b2bb38bddc43d7561b79b0);\n",
       "            \n",
       "        \n",
       "\n",
       "        circle_marker_f62245c725a96dcd98dab17c43fba844.bindPopup(popup_b0ded30ab911590b753c6fa1c3692409)\n",
       "        ;\n",
       "\n",
       "        \n",
       "    \n",
       "    \n",
       "            var circle_marker_1b2392c0382c73f1006613540b88b28c = L.circleMarker(\n",
       "                [16.209342321963828, 79.1517139866942],\n",
       "                {&quot;bubblingMouseEvents&quot;: true, &quot;color&quot;: &quot;crimson&quot;, &quot;dashArray&quot;: null, &quot;dashOffset&quot;: null, &quot;fill&quot;: false, &quot;fillColor&quot;: &quot;crimson&quot;, &quot;fillOpacity&quot;: 0.2, &quot;fillRule&quot;: &quot;evenodd&quot;, &quot;lineCap&quot;: &quot;round&quot;, &quot;lineJoin&quot;: &quot;round&quot;, &quot;opacity&quot;: 1.0, &quot;radius&quot;: 3, &quot;stroke&quot;: true, &quot;weight&quot;: 3}\n",
       "            ).addTo(map_eb4f4f4f5471cbd5cbf59896c6e7512f);\n",
       "        \n",
       "    \n",
       "        var popup_1a574ed3898f875213558df978e7e03e = L.popup({&quot;maxWidth&quot;: &quot;100%&quot;});\n",
       "\n",
       "        \n",
       "            \n",
       "                var html_2ea1a4c3f6f71e0661f61870b346f327 = $(`&lt;div id=&quot;html_2ea1a4c3f6f71e0661f61870b346f327&quot; style=&quot;width: 100.0%; height: 100.0%;&quot;&gt;Ganta Srinivasarao&lt;/div&gt;`)[0];\n",
       "                popup_1a574ed3898f875213558df978e7e03e.setContent(html_2ea1a4c3f6f71e0661f61870b346f327);\n",
       "            \n",
       "        \n",
       "\n",
       "        circle_marker_1b2392c0382c73f1006613540b88b28c.bindPopup(popup_1a574ed3898f875213558df978e7e03e)\n",
       "        ;\n",
       "\n",
       "        \n",
       "    \n",
       "    \n",
       "            var circle_marker_e37659588048cde04fb88dea9f527751 = L.circleMarker(\n",
       "                [16.626008806175168, 79.24752568734586],\n",
       "                {&quot;bubblingMouseEvents&quot;: true, &quot;color&quot;: &quot;crimson&quot;, &quot;dashArray&quot;: null, &quot;dashOffset&quot;: null, &quot;fill&quot;: false, &quot;fillColor&quot;: &quot;crimson&quot;, &quot;fillOpacity&quot;: 0.2, &quot;fillRule&quot;: &quot;evenodd&quot;, &quot;lineCap&quot;: &quot;round&quot;, &quot;lineJoin&quot;: &quot;round&quot;, &quot;opacity&quot;: 1.0, &quot;radius&quot;: 3, &quot;stroke&quot;: true, &quot;weight&quot;: 3}\n",
       "            ).addTo(map_eb4f4f4f5471cbd5cbf59896c6e7512f);\n",
       "        \n",
       "    \n",
       "        var popup_71ce145d7730c215ae5a01d3b21916f6 = L.popup({&quot;maxWidth&quot;: &quot;100%&quot;});\n",
       "\n",
       "        \n",
       "            \n",
       "                var html_2a9543bf309bc9bf404d2a4592ee2698 = $(`&lt;div id=&quot;html_2a9543bf309bc9bf404d2a4592ee2698&quot; style=&quot;width: 100.0%; height: 100.0%;&quot;&gt;Monditoka Jagan Mohana Rao&lt;/div&gt;`)[0];\n",
       "                popup_71ce145d7730c215ae5a01d3b21916f6.setContent(html_2a9543bf309bc9bf404d2a4592ee2698);\n",
       "            \n",
       "        \n",
       "\n",
       "        circle_marker_e37659588048cde04fb88dea9f527751.bindPopup(popup_71ce145d7730c215ae5a01d3b21916f6)\n",
       "        ;\n",
       "\n",
       "        \n",
       "    \n",
       "    \n",
       "            var circle_marker_6db5868c9c90106672182ccf1ce33913 = L.circleMarker(\n",
       "                [15.432569112180214, 78.68809482289392],\n",
       "                {&quot;bubblingMouseEvents&quot;: true, &quot;color&quot;: &quot;crimson&quot;, &quot;dashArray&quot;: null, &quot;dashOffset&quot;: null, &quot;fill&quot;: false, &quot;fillColor&quot;: &quot;crimson&quot;, &quot;fillOpacity&quot;: 0.2, &quot;fillRule&quot;: &quot;evenodd&quot;, &quot;lineCap&quot;: &quot;round&quot;, &quot;lineJoin&quot;: &quot;round&quot;, &quot;opacity&quot;: 1.0, &quot;radius&quot;: 3, &quot;stroke&quot;: true, &quot;weight&quot;: 3}\n",
       "            ).addTo(map_eb4f4f4f5471cbd5cbf59896c6e7512f);\n",
       "        \n",
       "    \n",
       "        var popup_93db9baebdc1c6560cad9dab9ea4936f = L.popup({&quot;maxWidth&quot;: &quot;100%&quot;});\n",
       "\n",
       "        \n",
       "            \n",
       "                var html_20b11ec5522b7add6bcb1d9ccfeaf7f5 = $(`&lt;div id=&quot;html_20b11ec5522b7add6bcb1d9ccfeaf7f5&quot; style=&quot;width: 100.0%; height: 100.0%;&quot;&gt;Merugu Nagarjuna&lt;/div&gt;`)[0];\n",
       "                popup_93db9baebdc1c6560cad9dab9ea4936f.setContent(html_20b11ec5522b7add6bcb1d9ccfeaf7f5);\n",
       "            \n",
       "        \n",
       "\n",
       "        circle_marker_6db5868c9c90106672182ccf1ce33913.bindPopup(popup_93db9baebdc1c6560cad9dab9ea4936f)\n",
       "        ;\n",
       "\n",
       "        \n",
       "    \n",
       "    \n",
       "            var circle_marker_5916eadf752b71b30adbecf5f4e90856 = L.circleMarker(\n",
       "                [16.521554114398693, 80.56304570287081],\n",
       "                {&quot;bubblingMouseEvents&quot;: true, &quot;color&quot;: &quot;crimson&quot;, &quot;dashArray&quot;: null, &quot;dashOffset&quot;: null, &quot;fill&quot;: false, &quot;fillColor&quot;: &quot;crimson&quot;, &quot;fillOpacity&quot;: 0.2, &quot;fillRule&quot;: &quot;evenodd&quot;, &quot;lineCap&quot;: &quot;round&quot;, &quot;lineJoin&quot;: &quot;round&quot;, &quot;opacity&quot;: 1.0, &quot;radius&quot;: 3, &quot;stroke&quot;: true, &quot;weight&quot;: 3}\n",
       "            ).addTo(map_eb4f4f4f5471cbd5cbf59896c6e7512f);\n",
       "        \n",
       "    \n",
       "        var popup_e25fd68e1b34b59499a6bc6796f17f33 = L.popup({&quot;maxWidth&quot;: &quot;100%&quot;});\n",
       "\n",
       "        \n",
       "            \n",
       "                var html_60d6c8869ffc1ae7f7547c14b3d088b2 = $(`&lt;div id=&quot;html_60d6c8869ffc1ae7f7547c14b3d088b2&quot; style=&quot;width: 100.0%; height: 100.0%;&quot;&gt;Maddisetty Venugopal&lt;/div&gt;`)[0];\n",
       "                popup_e25fd68e1b34b59499a6bc6796f17f33.setContent(html_60d6c8869ffc1ae7f7547c14b3d088b2);\n",
       "            \n",
       "        \n",
       "\n",
       "        circle_marker_5916eadf752b71b30adbecf5f4e90856.bindPopup(popup_e25fd68e1b34b59499a6bc6796f17f33)\n",
       "        ;\n",
       "\n",
       "        \n",
       "    \n",
       "    \n",
       "            var circle_marker_983907a2e380bf4d88029410766444f8 = L.circleMarker(\n",
       "                [16.783858533624002, 81.47529969855785],\n",
       "                {&quot;bubblingMouseEvents&quot;: true, &quot;color&quot;: &quot;crimson&quot;, &quot;dashArray&quot;: null, &quot;dashOffset&quot;: null, &quot;fill&quot;: false, &quot;fillColor&quot;: &quot;crimson&quot;, &quot;fillOpacity&quot;: 0.2, &quot;fillRule&quot;: &quot;evenodd&quot;, &quot;lineCap&quot;: &quot;round&quot;, &quot;lineJoin&quot;: &quot;round&quot;, &quot;opacity&quot;: 1.0, &quot;radius&quot;: 3, &quot;stroke&quot;: true, &quot;weight&quot;: 3}\n",
       "            ).addTo(map_eb4f4f4f5471cbd5cbf59896c6e7512f);\n",
       "        \n",
       "    \n",
       "        var popup_03281f37a705b1799ef042a75cb1bdca = L.popup({&quot;maxWidth&quot;: &quot;100%&quot;});\n",
       "\n",
       "        \n",
       "            \n",
       "                var html_95e61f5eacd4e4d4602c4b2a984e0131 = $(`&lt;div id=&quot;html_95e61f5eacd4e4d4602c4b2a984e0131&quot; style=&quot;width: 100.0%; height: 100.0%;&quot;&gt;Pocha Brahmananda Reddy&lt;/div&gt;`)[0];\n",
       "                popup_03281f37a705b1799ef042a75cb1bdca.setContent(html_95e61f5eacd4e4d4602c4b2a984e0131);\n",
       "            \n",
       "        \n",
       "\n",
       "        circle_marker_983907a2e380bf4d88029410766444f8.bindPopup(popup_03281f37a705b1799ef042a75cb1bdca)\n",
       "        ;\n",
       "\n",
       "        \n",
       "    \n",
       "    \n",
       "            var circle_marker_1d3d53b4d75db929128520f4b5192c1c = L.circleMarker(\n",
       "                [15.303410818659923, 77.85585530691259],\n",
       "                {&quot;bubblingMouseEvents&quot;: true, &quot;color&quot;: &quot;crimson&quot;, &quot;dashArray&quot;: null, &quot;dashOffset&quot;: null, &quot;fill&quot;: false, &quot;fillColor&quot;: &quot;crimson&quot;, &quot;fillOpacity&quot;: 0.2, &quot;fillRule&quot;: &quot;evenodd&quot;, &quot;lineCap&quot;: &quot;round&quot;, &quot;lineJoin&quot;: &quot;round&quot;, &quot;opacity&quot;: 1.0, &quot;radius&quot;: 3, &quot;stroke&quot;: true, &quot;weight&quot;: 3}\n",
       "            ).addTo(map_eb4f4f4f5471cbd5cbf59896c6e7512f);\n",
       "        \n",
       "    \n",
       "        var popup_8786ccfde7c20a2bad9a5ad9c8a15158 = L.popup({&quot;maxWidth&quot;: &quot;100%&quot;});\n",
       "\n",
       "        \n",
       "            \n",
       "                var html_766b51e5effd5fc7a52c396942b7b179 = $(`&lt;div id=&quot;html_766b51e5effd5fc7a52c396942b7b179&quot; style=&quot;width: 100.0%; height: 100.0%;&quot;&gt;Kunduru Nagarjuna Reddy&lt;/div&gt;`)[0];\n",
       "                popup_8786ccfde7c20a2bad9a5ad9c8a15158.setContent(html_766b51e5effd5fc7a52c396942b7b179);\n",
       "            \n",
       "        \n",
       "\n",
       "        circle_marker_1d3d53b4d75db929128520f4b5192c1c.bindPopup(popup_8786ccfde7c20a2bad9a5ad9c8a15158)\n",
       "        ;\n",
       "\n",
       "        \n",
       "    \n",
       "    \n",
       "            var circle_marker_b0c8a1646119221d5c662f2e0fad101b = L.circleMarker(\n",
       "                [15.634471493857788, 80.2928613187939],\n",
       "                {&quot;bubblingMouseEvents&quot;: true, &quot;color&quot;: &quot;crimson&quot;, &quot;dashArray&quot;: null, &quot;dashOffset&quot;: null, &quot;fill&quot;: false, &quot;fillColor&quot;: &quot;crimson&quot;, &quot;fillOpacity&quot;: 0.2, &quot;fillRule&quot;: &quot;evenodd&quot;, &quot;lineCap&quot;: &quot;round&quot;, &quot;lineJoin&quot;: &quot;round&quot;, &quot;opacity&quot;: 1.0, &quot;radius&quot;: 3, &quot;stroke&quot;: true, &quot;weight&quot;: 3}\n",
       "            ).addTo(map_eb4f4f4f5471cbd5cbf59896c6e7512f);\n",
       "        \n",
       "    \n",
       "        var popup_ff3fc6cce04d2f07ade47b3df888ab47 = L.popup({&quot;maxWidth&quot;: &quot;100%&quot;});\n",
       "\n",
       "        \n",
       "            \n",
       "                var html_8e6597c58b1b90389f771bd8a7a0d875 = $(`&lt;div id=&quot;html_8e6597c58b1b90389f771bd8a7a0d875&quot; style=&quot;width: 100.0%; height: 100.0%;&quot;&gt;P.V. Sidda Reddy&lt;/div&gt;`)[0];\n",
       "                popup_ff3fc6cce04d2f07ade47b3df888ab47.setContent(html_8e6597c58b1b90389f771bd8a7a0d875);\n",
       "            \n",
       "        \n",
       "\n",
       "        circle_marker_b0c8a1646119221d5c662f2e0fad101b.bindPopup(popup_ff3fc6cce04d2f07ade47b3df888ab47)\n",
       "        ;\n",
       "\n",
       "        \n",
       "    \n",
       "    \n",
       "            var circle_marker_83088122f8ea5766015df1c82897daff = L.circleMarker(\n",
       "                [15.92704796332319, 80.37527552720921],\n",
       "                {&quot;bubblingMouseEvents&quot;: true, &quot;color&quot;: &quot;crimson&quot;, &quot;dashArray&quot;: null, &quot;dashOffset&quot;: null, &quot;fill&quot;: false, &quot;fillColor&quot;: &quot;crimson&quot;, &quot;fillOpacity&quot;: 0.2, &quot;fillRule&quot;: &quot;evenodd&quot;, &quot;lineCap&quot;: &quot;round&quot;, &quot;lineJoin&quot;: &quot;round&quot;, &quot;opacity&quot;: 1.0, &quot;radius&quot;: 3, &quot;stroke&quot;: true, &quot;weight&quot;: 3}\n",
       "            ).addTo(map_eb4f4f4f5471cbd5cbf59896c6e7512f);\n",
       "        \n",
       "    \n",
       "        var popup_c6ac62b45f3997deaf5388a6388b2983 = L.popup({&quot;maxWidth&quot;: &quot;100%&quot;});\n",
       "\n",
       "        \n",
       "            \n",
       "                var html_8632151217bf97187bb4a3b580b19dce = $(`&lt;div id=&quot;html_8632151217bf97187bb4a3b580b19dce&quot; style=&quot;width: 100.0%; height: 100.0%;&quot;&gt;V Jogeswara Rao&lt;/div&gt;`)[0];\n",
       "                popup_c6ac62b45f3997deaf5388a6388b2983.setContent(html_8632151217bf97187bb4a3b580b19dce);\n",
       "            \n",
       "        \n",
       "\n",
       "        circle_marker_83088122f8ea5766015df1c82897daff.bindPopup(popup_c6ac62b45f3997deaf5388a6388b2983)\n",
       "        ;\n",
       "\n",
       "        \n",
       "    \n",
       "    \n",
       "            var circle_marker_16be680024b0b768295b3ddc913643d1 = L.circleMarker(\n",
       "                [15.09346707120925, 79.42191588387506],\n",
       "                {&quot;bubblingMouseEvents&quot;: true, &quot;color&quot;: &quot;crimson&quot;, &quot;dashArray&quot;: null, &quot;dashOffset&quot;: null, &quot;fill&quot;: false, &quot;fillColor&quot;: &quot;crimson&quot;, &quot;fillOpacity&quot;: 0.2, &quot;fillRule&quot;: &quot;evenodd&quot;, &quot;lineCap&quot;: &quot;round&quot;, &quot;lineJoin&quot;: &quot;round&quot;, &quot;opacity&quot;: 1.0, &quot;radius&quot;: 3, &quot;stroke&quot;: true, &quot;weight&quot;: 3}\n",
       "            ).addTo(map_eb4f4f4f5471cbd5cbf59896c6e7512f);\n",
       "        \n",
       "    \n",
       "        var popup_91521ebbd9cbc413de1c0de3b3537484 = L.popup({&quot;maxWidth&quot;: &quot;100%&quot;});\n",
       "\n",
       "        \n",
       "            \n",
       "                var html_45acf3e7afdbeedc14bc5538944a81ef = $(`&lt;div id=&quot;html_45acf3e7afdbeedc14bc5538944a81ef&quot; style=&quot;width: 100.0%; height: 100.0%;&quot;&gt;Abdul Hafeez Khan&lt;/div&gt;`)[0];\n",
       "                popup_91521ebbd9cbc413de1c0de3b3537484.setContent(html_45acf3e7afdbeedc14bc5538944a81ef);\n",
       "            \n",
       "        \n",
       "\n",
       "        circle_marker_16be680024b0b768295b3ddc913643d1.bindPopup(popup_91521ebbd9cbc413de1c0de3b3537484)\n",
       "        ;\n",
       "\n",
       "        \n",
       "    \n",
       "    \n",
       "            var circle_marker_2db8cc75b4b682a62a735a9e75a672ba = L.circleMarker(\n",
       "                [15.324922850469694, 79.38786866264411],\n",
       "                {&quot;bubblingMouseEvents&quot;: true, &quot;color&quot;: &quot;crimson&quot;, &quot;dashArray&quot;: null, &quot;dashOffset&quot;: null, &quot;fill&quot;: false, &quot;fillColor&quot;: &quot;crimson&quot;, &quot;fillOpacity&quot;: 0.2, &quot;fillRule&quot;: &quot;evenodd&quot;, &quot;lineCap&quot;: &quot;round&quot;, &quot;lineJoin&quot;: &quot;round&quot;, &quot;opacity&quot;: 1.0, &quot;radius&quot;: 3, &quot;stroke&quot;: true, &quot;weight&quot;: 3}\n",
       "            ).addTo(map_eb4f4f4f5471cbd5cbf59896c6e7512f);\n",
       "        \n",
       "    \n",
       "        var popup_eff0d401766ac55dde025328d73b545f = L.popup({&quot;maxWidth&quot;: &quot;100%&quot;});\n",
       "\n",
       "        \n",
       "            \n",
       "                var html_6a3c5ab87a8d730e30ef798e8adcd3d2 = $(`&lt;div id=&quot;html_6a3c5ab87a8d730e30ef798e8adcd3d2&quot; style=&quot;width: 100.0%; height: 100.0%;&quot;&gt;Samasiva Rao&lt;/div&gt;`)[0];\n",
       "                popup_eff0d401766ac55dde025328d73b545f.setContent(html_6a3c5ab87a8d730e30ef798e8adcd3d2);\n",
       "            \n",
       "        \n",
       "\n",
       "        circle_marker_2db8cc75b4b682a62a735a9e75a672ba.bindPopup(popup_eff0d401766ac55dde025328d73b545f)\n",
       "        ;\n",
       "\n",
       "        \n",
       "    \n",
       "    \n",
       "            var circle_marker_170933680f96bca5a6665942282ff32d = L.circleMarker(\n",
       "                [16.038370482366275, 79.25113800729598],\n",
       "                {&quot;bubblingMouseEvents&quot;: true, &quot;color&quot;: &quot;crimson&quot;, &quot;dashArray&quot;: null, &quot;dashOffset&quot;: null, &quot;fill&quot;: false, &quot;fillColor&quot;: &quot;crimson&quot;, &quot;fillOpacity&quot;: 0.2, &quot;fillRule&quot;: &quot;evenodd&quot;, &quot;lineCap&quot;: &quot;round&quot;, &quot;lineJoin&quot;: &quot;round&quot;, &quot;opacity&quot;: 1.0, &quot;radius&quot;: 3, &quot;stroke&quot;: true, &quot;weight&quot;: 3}\n",
       "            ).addTo(map_eb4f4f4f5471cbd5cbf59896c6e7512f);\n",
       "        \n",
       "    \n",
       "        var popup_4e501fbe14c48dd7a630f50faa3641c9 = L.popup({&quot;maxWidth&quot;: &quot;100%&quot;});\n",
       "\n",
       "        \n",
       "            \n",
       "                var html_1bf558958cd97f791b4e92ddbe388678 = $(`&lt;div id=&quot;html_1bf558958cd97f791b4e92ddbe388678&quot; style=&quot;width: 100.0%; height: 100.0%;&quot;&gt;Balli Durga Prasad Rao&lt;/div&gt;`)[0];\n",
       "                popup_4e501fbe14c48dd7a630f50faa3641c9.setContent(html_1bf558958cd97f791b4e92ddbe388678);\n",
       "            \n",
       "        \n",
       "\n",
       "        circle_marker_170933680f96bca5a6665942282ff32d.bindPopup(popup_4e501fbe14c48dd7a630f50faa3641c9)\n",
       "        ;\n",
       "\n",
       "        \n",
       "    \n",
       "    \n",
       "            var circle_marker_50852c5d34dfcf307787b6ab260e0ea5 = L.circleMarker(\n",
       "                [16.857155616856037, 79.88227613858409],\n",
       "                {&quot;bubblingMouseEvents&quot;: true, &quot;color&quot;: &quot;crimson&quot;, &quot;dashArray&quot;: null, &quot;dashOffset&quot;: null, &quot;fill&quot;: false, &quot;fillColor&quot;: &quot;crimson&quot;, &quot;fillOpacity&quot;: 0.2, &quot;fillRule&quot;: &quot;evenodd&quot;, &quot;lineCap&quot;: &quot;round&quot;, &quot;lineJoin&quot;: &quot;round&quot;, &quot;opacity&quot;: 1.0, &quot;radius&quot;: 3, &quot;stroke&quot;: true, &quot;weight&quot;: 3}\n",
       "            ).addTo(map_eb4f4f4f5471cbd5cbf59896c6e7512f);\n",
       "        \n",
       "    \n",
       "        var popup_aa1cc4e887642c58a66f9b5df3ea9590 = L.popup({&quot;maxWidth&quot;: &quot;100%&quot;});\n",
       "\n",
       "        \n",
       "            \n",
       "                var html_a170ed7950e131119e9ffa52643fbcd9 = $(`&lt;div id=&quot;html_a170ed7950e131119e9ffa52643fbcd9&quot; style=&quot;width: 100.0%; height: 100.0%;&quot;&gt;Nedurumalli RamKumar Reddy&lt;/div&gt;`)[0];\n",
       "                popup_aa1cc4e887642c58a66f9b5df3ea9590.setContent(html_a170ed7950e131119e9ffa52643fbcd9);\n",
       "            \n",
       "        \n",
       "\n",
       "        circle_marker_50852c5d34dfcf307787b6ab260e0ea5.bindPopup(popup_aa1cc4e887642c58a66f9b5df3ea9590)\n",
       "        ;\n",
       "\n",
       "        \n",
       "    \n",
       "    \n",
       "            var circle_marker_a4cc5a34deb503285e53fb172f0eb195 = L.circleMarker(\n",
       "                [15.966017087161513, 78.90514755180183],\n",
       "                {&quot;bubblingMouseEvents&quot;: true, &quot;color&quot;: &quot;crimson&quot;, &quot;dashArray&quot;: null, &quot;dashOffset&quot;: null, &quot;fill&quot;: false, &quot;fillColor&quot;: &quot;crimson&quot;, &quot;fillOpacity&quot;: 0.2, &quot;fillRule&quot;: &quot;evenodd&quot;, &quot;lineCap&quot;: &quot;round&quot;, &quot;lineJoin&quot;: &quot;round&quot;, &quot;opacity&quot;: 1.0, &quot;radius&quot;: 3, &quot;stroke&quot;: true, &quot;weight&quot;: 3}\n",
       "            ).addTo(map_eb4f4f4f5471cbd5cbf59896c6e7512f);\n",
       "        \n",
       "    \n",
       "        var popup_23bb2aa961219a75bc2c451e2b8bc332 = L.popup({&quot;maxWidth&quot;: &quot;100%&quot;});\n",
       "\n",
       "        \n",
       "            \n",
       "                var html_70275dc6130986797ac17637f39cac59 = $(`&lt;div id=&quot;html_70275dc6130986797ac17637f39cac59&quot; style=&quot;width: 100.0%; height: 100.0%;&quot;&gt;Thopudurthi Prakash Reddy&lt;/div&gt;`)[0];\n",
       "                popup_23bb2aa961219a75bc2c451e2b8bc332.setContent(html_70275dc6130986797ac17637f39cac59);\n",
       "            \n",
       "        \n",
       "\n",
       "        circle_marker_a4cc5a34deb503285e53fb172f0eb195.bindPopup(popup_23bb2aa961219a75bc2c451e2b8bc332)\n",
       "        ;\n",
       "\n",
       "        \n",
       "    \n",
       "    \n",
       "            var circle_marker_5a5ad3556cb6c18186b599ad366ba245 = L.circleMarker(\n",
       "                [16.42364191754352, 80.28416321757845],\n",
       "                {&quot;bubblingMouseEvents&quot;: true, &quot;color&quot;: &quot;crimson&quot;, &quot;dashArray&quot;: null, &quot;dashOffset&quot;: null, &quot;fill&quot;: false, &quot;fillColor&quot;: &quot;crimson&quot;, &quot;fillOpacity&quot;: 0.2, &quot;fillRule&quot;: &quot;evenodd&quot;, &quot;lineCap&quot;: &quot;round&quot;, &quot;lineJoin&quot;: &quot;round&quot;, &quot;opacity&quot;: 1.0, &quot;radius&quot;: 3, &quot;stroke&quot;: true, &quot;weight&quot;: 3}\n",
       "            ).addTo(map_eb4f4f4f5471cbd5cbf59896c6e7512f);\n",
       "        \n",
       "    \n",
       "        var popup_b1f63d6d28864b0ecbe4b49346c3916a = L.popup({&quot;maxWidth&quot;: &quot;100%&quot;});\n",
       "\n",
       "        \n",
       "            \n",
       "                var html_03427d66927f17139a50ea12285a0577 = $(`&lt;div id=&quot;html_03427d66927f17139a50ea12285a0577&quot; style=&quot;width: 100.0%; height: 100.0%;&quot;&gt;Taneti Vanitha&lt;/div&gt;`)[0];\n",
       "                popup_b1f63d6d28864b0ecbe4b49346c3916a.setContent(html_03427d66927f17139a50ea12285a0577);\n",
       "            \n",
       "        \n",
       "\n",
       "        circle_marker_5a5ad3556cb6c18186b599ad366ba245.bindPopup(popup_b1f63d6d28864b0ecbe4b49346c3916a)\n",
       "        ;\n",
       "\n",
       "        \n",
       "    \n",
       "    \n",
       "            var circle_marker_546f57d80d0d6c81cf7f4c3a26c4179b = L.circleMarker(\n",
       "                [15.298075177664217, 78.51796945100934],\n",
       "                {&quot;bubblingMouseEvents&quot;: true, &quot;color&quot;: &quot;crimson&quot;, &quot;dashArray&quot;: null, &quot;dashOffset&quot;: null, &quot;fill&quot;: false, &quot;fillColor&quot;: &quot;crimson&quot;, &quot;fillOpacity&quot;: 0.2, &quot;fillRule&quot;: &quot;evenodd&quot;, &quot;lineCap&quot;: &quot;round&quot;, &quot;lineJoin&quot;: &quot;round&quot;, &quot;opacity&quot;: 1.0, &quot;radius&quot;: 3, &quot;stroke&quot;: true, &quot;weight&quot;: 3}\n",
       "            ).addTo(map_eb4f4f4f5471cbd5cbf59896c6e7512f);\n",
       "        \n",
       "    \n",
       "        var popup_3ab563d63abdb122087ea09354b416b2 = L.popup({&quot;maxWidth&quot;: &quot;100%&quot;});\n",
       "\n",
       "        \n",
       "            \n",
       "                var html_beb38376db1c87882c2a3a52138406e8 = $(`&lt;div id=&quot;html_beb38376db1c87882c2a3a52138406e8&quot; style=&quot;width: 100.0%; height: 100.0%;&quot;&gt;kiliveti sanjeevaiah&lt;/div&gt;`)[0];\n",
       "                popup_3ab563d63abdb122087ea09354b416b2.setContent(html_beb38376db1c87882c2a3a52138406e8);\n",
       "            \n",
       "        \n",
       "\n",
       "        circle_marker_546f57d80d0d6c81cf7f4c3a26c4179b.bindPopup(popup_3ab563d63abdb122087ea09354b416b2)\n",
       "        ;\n",
       "\n",
       "        \n",
       "    \n",
       "    \n",
       "            var circle_marker_6566d56ae3d7ae59fc108e0e59d1f16c = L.circleMarker(\n",
       "                [15.463878517865714, 79.1264587600553],\n",
       "                {&quot;bubblingMouseEvents&quot;: true, &quot;color&quot;: &quot;crimson&quot;, &quot;dashArray&quot;: null, &quot;dashOffset&quot;: null, &quot;fill&quot;: false, &quot;fillColor&quot;: &quot;crimson&quot;, &quot;fillOpacity&quot;: 0.2, &quot;fillRule&quot;: &quot;evenodd&quot;, &quot;lineCap&quot;: &quot;round&quot;, &quot;lineJoin&quot;: &quot;round&quot;, &quot;opacity&quot;: 1.0, &quot;radius&quot;: 3, &quot;stroke&quot;: true, &quot;weight&quot;: 3}\n",
       "            ).addTo(map_eb4f4f4f5471cbd5cbf59896c6e7512f);\n",
       "        \n",
       "    \n",
       "        var popup_7bc288c83aa752ee9ac4d35486f7474c = L.popup({&quot;maxWidth&quot;: &quot;100%&quot;});\n",
       "\n",
       "        \n",
       "            \n",
       "                var html_75c600bd68eeb93c74c40c26b771d6b5 = $(`&lt;div id=&quot;html_75c600bd68eeb93c74c40c26b771d6b5&quot; style=&quot;width: 100.0%; height: 100.0%;&quot;&gt;Sambangi Venkatachina Appala Naidu&lt;/div&gt;`)[0];\n",
       "                popup_7bc288c83aa752ee9ac4d35486f7474c.setContent(html_75c600bd68eeb93c74c40c26b771d6b5);\n",
       "            \n",
       "        \n",
       "\n",
       "        circle_marker_6566d56ae3d7ae59fc108e0e59d1f16c.bindPopup(popup_7bc288c83aa752ee9ac4d35486f7474c)\n",
       "        ;\n",
       "\n",
       "        \n",
       "    \n",
       "    \n",
       "            var circle_marker_23a8f71ff64701bb5c2151a773742007 = L.circleMarker(\n",
       "                [15.211515810882688, 79.19794152791361],\n",
       "                {&quot;bubblingMouseEvents&quot;: true, &quot;color&quot;: &quot;crimson&quot;, &quot;dashArray&quot;: null, &quot;dashOffset&quot;: null, &quot;fill&quot;: false, &quot;fillColor&quot;: &quot;crimson&quot;, &quot;fillOpacity&quot;: 0.2, &quot;fillRule&quot;: &quot;evenodd&quot;, &quot;lineCap&quot;: &quot;round&quot;, &quot;lineJoin&quot;: &quot;round&quot;, &quot;opacity&quot;: 1.0, &quot;radius&quot;: 3, &quot;stroke&quot;: true, &quot;weight&quot;: 3}\n",
       "            ).addTo(map_eb4f4f4f5471cbd5cbf59896c6e7512f);\n",
       "        \n",
       "    \n",
       "        var popup_dd90a2f93d8e2d036ec098d1d44732c0 = L.popup({&quot;maxWidth&quot;: &quot;100%&quot;});\n",
       "\n",
       "        \n",
       "            \n",
       "                var html_a53e9eb67ed6b6aacdef02221870f25a = $(`&lt;div id=&quot;html_a53e9eb67ed6b6aacdef02221870f25a&quot; style=&quot;width: 100.0%; height: 100.0%;&quot;&gt;Kesineni Srinivas&lt;/div&gt;`)[0];\n",
       "                popup_dd90a2f93d8e2d036ec098d1d44732c0.setContent(html_a53e9eb67ed6b6aacdef02221870f25a);\n",
       "            \n",
       "        \n",
       "\n",
       "        circle_marker_23a8f71ff64701bb5c2151a773742007.bindPopup(popup_dd90a2f93d8e2d036ec098d1d44732c0)\n",
       "        ;\n",
       "\n",
       "        \n",
       "    \n",
       "    \n",
       "            var circle_marker_3feb3b5c469ed9d2b30bdededfef772d = L.circleMarker(\n",
       "                [17.06032061683684, 79.4900388139465],\n",
       "                {&quot;bubblingMouseEvents&quot;: true, &quot;color&quot;: &quot;crimson&quot;, &quot;dashArray&quot;: null, &quot;dashOffset&quot;: null, &quot;fill&quot;: false, &quot;fillColor&quot;: &quot;crimson&quot;, &quot;fillOpacity&quot;: 0.2, &quot;fillRule&quot;: &quot;evenodd&quot;, &quot;lineCap&quot;: &quot;round&quot;, &quot;lineJoin&quot;: &quot;round&quot;, &quot;opacity&quot;: 1.0, &quot;radius&quot;: 3, &quot;stroke&quot;: true, &quot;weight&quot;: 3}\n",
       "            ).addTo(map_eb4f4f4f5471cbd5cbf59896c6e7512f);\n",
       "        \n",
       "    \n",
       "        var popup_cb4437d9bf3a91f35b2168b4ed6c7bc9 = L.popup({&quot;maxWidth&quot;: &quot;100%&quot;});\n",
       "\n",
       "        \n",
       "            \n",
       "                var html_c4ccfb0ce41b1df67178477ac988c064 = $(`&lt;div id=&quot;html_c4ccfb0ce41b1df67178477ac988c064&quot; style=&quot;width: 100.0%; height: 100.0%;&quot;&gt;Y S jagan mohan reddy&lt;/div&gt;`)[0];\n",
       "                popup_cb4437d9bf3a91f35b2168b4ed6c7bc9.setContent(html_c4ccfb0ce41b1df67178477ac988c064);\n",
       "            \n",
       "        \n",
       "\n",
       "        circle_marker_3feb3b5c469ed9d2b30bdededfef772d.bindPopup(popup_cb4437d9bf3a91f35b2168b4ed6c7bc9)\n",
       "        ;\n",
       "\n",
       "        \n",
       "    \n",
       "    \n",
       "            var circle_marker_bb8ba755c7c6c11a882188ce9b73af5a = L.circleMarker(\n",
       "                [16.801066669092133, 79.18567086926683],\n",
       "                {&quot;bubblingMouseEvents&quot;: true, &quot;color&quot;: &quot;crimson&quot;, &quot;dashArray&quot;: null, &quot;dashOffset&quot;: null, &quot;fill&quot;: false, &quot;fillColor&quot;: &quot;crimson&quot;, &quot;fillOpacity&quot;: 0.2, &quot;fillRule&quot;: &quot;evenodd&quot;, &quot;lineCap&quot;: &quot;round&quot;, &quot;lineJoin&quot;: &quot;round&quot;, &quot;opacity&quot;: 1.0, &quot;radius&quot;: 3, &quot;stroke&quot;: true, &quot;weight&quot;: 3}\n",
       "            ).addTo(map_eb4f4f4f5471cbd5cbf59896c6e7512f);\n",
       "        \n",
       "    \n",
       "        var popup_2e736dd32db696a6292d71ed037feb33 = L.popup({&quot;maxWidth&quot;: &quot;100%&quot;});\n",
       "\n",
       "        \n",
       "            \n",
       "                var html_90a02667e3e26e39442d2e699c79f44d = $(`&lt;div id=&quot;html_90a02667e3e26e39442d2e699c79f44d&quot; style=&quot;width: 100.0%; height: 100.0%;&quot;&gt;Bhagya Lakshmi Kottagulli&lt;/div&gt;`)[0];\n",
       "                popup_2e736dd32db696a6292d71ed037feb33.setContent(html_90a02667e3e26e39442d2e699c79f44d);\n",
       "            \n",
       "        \n",
       "\n",
       "        circle_marker_bb8ba755c7c6c11a882188ce9b73af5a.bindPopup(popup_2e736dd32db696a6292d71ed037feb33)\n",
       "        ;\n",
       "\n",
       "        \n",
       "    \n",
       "    \n",
       "            var circle_marker_ddfa16eec6e7a7e069e709fc47b5fa5d = L.circleMarker(\n",
       "                [15.15508645421705, 79.63849515995032],\n",
       "                {&quot;bubblingMouseEvents&quot;: true, &quot;color&quot;: &quot;crimson&quot;, &quot;dashArray&quot;: null, &quot;dashOffset&quot;: null, &quot;fill&quot;: false, &quot;fillColor&quot;: &quot;crimson&quot;, &quot;fillOpacity&quot;: 0.2, &quot;fillRule&quot;: &quot;evenodd&quot;, &quot;lineCap&quot;: &quot;round&quot;, &quot;lineJoin&quot;: &quot;round&quot;, &quot;opacity&quot;: 1.0, &quot;radius&quot;: 3, &quot;stroke&quot;: true, &quot;weight&quot;: 3}\n",
       "            ).addTo(map_eb4f4f4f5471cbd5cbf59896c6e7512f);\n",
       "        \n",
       "    \n",
       "        var popup_bbb53e10c52692a708b384c38e3419c6 = L.popup({&quot;maxWidth&quot;: &quot;100%&quot;});\n",
       "\n",
       "        \n",
       "            \n",
       "                var html_0b021455153c183305e5fe1713e2ba16 = $(`&lt;div id=&quot;html_0b021455153c183305e5fe1713e2ba16&quot; style=&quot;width: 100.0%; height: 100.0%;&quot;&gt;Pawan Kalyan&lt;/div&gt;`)[0];\n",
       "                popup_bbb53e10c52692a708b384c38e3419c6.setContent(html_0b021455153c183305e5fe1713e2ba16);\n",
       "            \n",
       "        \n",
       "\n",
       "        circle_marker_ddfa16eec6e7a7e069e709fc47b5fa5d.bindPopup(popup_bbb53e10c52692a708b384c38e3419c6)\n",
       "        ;\n",
       "\n",
       "        \n",
       "    \n",
       "    \n",
       "            var circle_marker_93cf3d13ef139d2bcfb4db31c38811f5 = L.circleMarker(\n",
       "                [15.833195427213724, 79.39585291267358],\n",
       "                {&quot;bubblingMouseEvents&quot;: true, &quot;color&quot;: &quot;crimson&quot;, &quot;dashArray&quot;: null, &quot;dashOffset&quot;: null, &quot;fill&quot;: false, &quot;fillColor&quot;: &quot;crimson&quot;, &quot;fillOpacity&quot;: 0.2, &quot;fillRule&quot;: &quot;evenodd&quot;, &quot;lineCap&quot;: &quot;round&quot;, &quot;lineJoin&quot;: &quot;round&quot;, &quot;opacity&quot;: 1.0, &quot;radius&quot;: 3, &quot;stroke&quot;: true, &quot;weight&quot;: 3}\n",
       "            ).addTo(map_eb4f4f4f5471cbd5cbf59896c6e7512f);\n",
       "        \n",
       "    \n",
       "        var popup_016baad3beb5e5887503dbe187aaf37e = L.popup({&quot;maxWidth&quot;: &quot;100%&quot;});\n",
       "\n",
       "        \n",
       "            \n",
       "                var html_5096d9f6a064933cef46b2e12182977b = $(`&lt;div id=&quot;html_5096d9f6a064933cef46b2e12182977b&quot; style=&quot;width: 100.0%; height: 100.0%;&quot;&gt;Ambati Rambabu&lt;/div&gt;`)[0];\n",
       "                popup_016baad3beb5e5887503dbe187aaf37e.setContent(html_5096d9f6a064933cef46b2e12182977b);\n",
       "            \n",
       "        \n",
       "\n",
       "        circle_marker_93cf3d13ef139d2bcfb4db31c38811f5.bindPopup(popup_016baad3beb5e5887503dbe187aaf37e)\n",
       "        ;\n",
       "\n",
       "        \n",
       "    \n",
       "    \n",
       "            var circle_marker_fa1ccce9a80a8305f350a887112474b6 = L.circleMarker(\n",
       "                [16.84558397382704, 80.72896304590286],\n",
       "                {&quot;bubblingMouseEvents&quot;: true, &quot;color&quot;: &quot;crimson&quot;, &quot;dashArray&quot;: null, &quot;dashOffset&quot;: null, &quot;fill&quot;: false, &quot;fillColor&quot;: &quot;crimson&quot;, &quot;fillOpacity&quot;: 0.2, &quot;fillRule&quot;: &quot;evenodd&quot;, &quot;lineCap&quot;: &quot;round&quot;, &quot;lineJoin&quot;: &quot;round&quot;, &quot;opacity&quot;: 1.0, &quot;radius&quot;: 3, &quot;stroke&quot;: true, &quot;weight&quot;: 3}\n",
       "            ).addTo(map_eb4f4f4f5471cbd5cbf59896c6e7512f);\n",
       "        \n",
       "    \n",
       "        var popup_9577c13dbf221b843ed9efd62b26ef6f = L.popup({&quot;maxWidth&quot;: &quot;100%&quot;});\n",
       "\n",
       "        \n",
       "            \n",
       "                var html_6064b7aa7fdea05a2fcf872bffc7b1d3 = $(`&lt;div id=&quot;html_6064b7aa7fdea05a2fcf872bffc7b1d3&quot; style=&quot;width: 100.0%; height: 100.0%;&quot;&gt;Katasani Rami Reddy&lt;/div&gt;`)[0];\n",
       "                popup_9577c13dbf221b843ed9efd62b26ef6f.setContent(html_6064b7aa7fdea05a2fcf872bffc7b1d3);\n",
       "            \n",
       "        \n",
       "\n",
       "        circle_marker_fa1ccce9a80a8305f350a887112474b6.bindPopup(popup_9577c13dbf221b843ed9efd62b26ef6f)\n",
       "        ;\n",
       "\n",
       "        \n",
       "    \n",
       "    \n",
       "            var circle_marker_22e0c7e295a95911c9e700be330a51f0 = L.circleMarker(\n",
       "                [16.617774980412243, 79.21832319605998],\n",
       "                {&quot;bubblingMouseEvents&quot;: true, &quot;color&quot;: &quot;crimson&quot;, &quot;dashArray&quot;: null, &quot;dashOffset&quot;: null, &quot;fill&quot;: false, &quot;fillColor&quot;: &quot;crimson&quot;, &quot;fillOpacity&quot;: 0.2, &quot;fillRule&quot;: &quot;evenodd&quot;, &quot;lineCap&quot;: &quot;round&quot;, &quot;lineJoin&quot;: &quot;round&quot;, &quot;opacity&quot;: 1.0, &quot;radius&quot;: 3, &quot;stroke&quot;: true, &quot;weight&quot;: 3}\n",
       "            ).addTo(map_eb4f4f4f5471cbd5cbf59896c6e7512f);\n",
       "        \n",
       "    \n",
       "        var popup_1caafa23bedf34f48de8e4973819a4c2 = L.popup({&quot;maxWidth&quot;: &quot;100%&quot;});\n",
       "\n",
       "        \n",
       "            \n",
       "                var html_9f1de76300c58eb07aeb0896fbfa298a = $(`&lt;div id=&quot;html_9f1de76300c58eb07aeb0896fbfa298a&quot; style=&quot;width: 100.0%; height: 100.0%;&quot;&gt;Margani Bharat&lt;/div&gt;`)[0];\n",
       "                popup_1caafa23bedf34f48de8e4973819a4c2.setContent(html_9f1de76300c58eb07aeb0896fbfa298a);\n",
       "            \n",
       "        \n",
       "\n",
       "        circle_marker_22e0c7e295a95911c9e700be330a51f0.bindPopup(popup_1caafa23bedf34f48de8e4973819a4c2)\n",
       "        ;\n",
       "\n",
       "        \n",
       "    \n",
       "    \n",
       "            var circle_marker_2a9a98530ef7505974fa4fe98506e324 = L.circleMarker(\n",
       "                [15.466142212761095, 79.85724239490204],\n",
       "                {&quot;bubblingMouseEvents&quot;: true, &quot;color&quot;: &quot;crimson&quot;, &quot;dashArray&quot;: null, &quot;dashOffset&quot;: null, &quot;fill&quot;: false, &quot;fillColor&quot;: &quot;crimson&quot;, &quot;fillOpacity&quot;: 0.2, &quot;fillRule&quot;: &quot;evenodd&quot;, &quot;lineCap&quot;: &quot;round&quot;, &quot;lineJoin&quot;: &quot;round&quot;, &quot;opacity&quot;: 1.0, &quot;radius&quot;: 3, &quot;stroke&quot;: true, &quot;weight&quot;: 3}\n",
       "            ).addTo(map_eb4f4f4f5471cbd5cbf59896c6e7512f);\n",
       "        \n",
       "    \n",
       "        var popup_fa01020bc4dfd262410397b7b0bc86b0 = L.popup({&quot;maxWidth&quot;: &quot;100%&quot;});\n",
       "\n",
       "        \n",
       "            \n",
       "                var html_7dbb891a091dc73298de0480095bdf00 = $(`&lt;div id=&quot;html_7dbb891a091dc73298de0480095bdf00&quot; style=&quot;width: 100.0%; height: 100.0%;&quot;&gt;Kodali Nani&lt;/div&gt;`)[0];\n",
       "                popup_fa01020bc4dfd262410397b7b0bc86b0.setContent(html_7dbb891a091dc73298de0480095bdf00);\n",
       "            \n",
       "        \n",
       "\n",
       "        circle_marker_2a9a98530ef7505974fa4fe98506e324.bindPopup(popup_fa01020bc4dfd262410397b7b0bc86b0)\n",
       "        ;\n",
       "\n",
       "        \n",
       "    \n",
       "    \n",
       "            var circle_marker_1d4ef13ca1f183db38f3c3295e4f35ad = L.circleMarker(\n",
       "                [15.722720117691471, 78.75926870142939],\n",
       "                {&quot;bubblingMouseEvents&quot;: true, &quot;color&quot;: &quot;crimson&quot;, &quot;dashArray&quot;: null, &quot;dashOffset&quot;: null, &quot;fill&quot;: false, &quot;fillColor&quot;: &quot;crimson&quot;, &quot;fillOpacity&quot;: 0.2, &quot;fillRule&quot;: &quot;evenodd&quot;, &quot;lineCap&quot;: &quot;round&quot;, &quot;lineJoin&quot;: &quot;round&quot;, &quot;opacity&quot;: 1.0, &quot;radius&quot;: 3, &quot;stroke&quot;: true, &quot;weight&quot;: 3}\n",
       "            ).addTo(map_eb4f4f4f5471cbd5cbf59896c6e7512f);\n",
       "        \n",
       "    \n",
       "        var popup_5bb1590b4cceb0a1b51445b810b037e9 = L.popup({&quot;maxWidth&quot;: &quot;100%&quot;});\n",
       "\n",
       "        \n",
       "            \n",
       "                var html_3b5eecc3f487402e5125ad86ea13d3ae = $(`&lt;div id=&quot;html_3b5eecc3f487402e5125ad86ea13d3ae&quot; style=&quot;width: 100.0%; height: 100.0%;&quot;&gt;P.V. Midhun Reddy&lt;/div&gt;`)[0];\n",
       "                popup_5bb1590b4cceb0a1b51445b810b037e9.setContent(html_3b5eecc3f487402e5125ad86ea13d3ae);\n",
       "            \n",
       "        \n",
       "\n",
       "        circle_marker_1d4ef13ca1f183db38f3c3295e4f35ad.bindPopup(popup_5bb1590b4cceb0a1b51445b810b037e9)\n",
       "        ;\n",
       "\n",
       "        \n",
       "    \n",
       "    \n",
       "            var circle_marker_2fca7b4d49fd7c2f9d71a7b228f73ed6 = L.circleMarker(\n",
       "                [16.826265069618024, 81.25447617244994],\n",
       "                {&quot;bubblingMouseEvents&quot;: true, &quot;color&quot;: &quot;crimson&quot;, &quot;dashArray&quot;: null, &quot;dashOffset&quot;: null, &quot;fill&quot;: false, &quot;fillColor&quot;: &quot;crimson&quot;, &quot;fillOpacity&quot;: 0.2, &quot;fillRule&quot;: &quot;evenodd&quot;, &quot;lineCap&quot;: &quot;round&quot;, &quot;lineJoin&quot;: &quot;round&quot;, &quot;opacity&quot;: 1.0, &quot;radius&quot;: 3, &quot;stroke&quot;: true, &quot;weight&quot;: 3}\n",
       "            ).addTo(map_eb4f4f4f5471cbd5cbf59896c6e7512f);\n",
       "        \n",
       "    \n",
       "        var popup_3fe844ae565575e780f53b44142d8b47 = L.popup({&quot;maxWidth&quot;: &quot;100%&quot;});\n",
       "\n",
       "        \n",
       "            \n",
       "                var html_3e43026c10d86e380b75b718614dddd9 = $(`&lt;div id=&quot;html_3e43026c10d86e380b75b718614dddd9&quot; style=&quot;width: 100.0%; height: 100.0%;&quot;&gt;Ram Mohan Naidu Kinjarapu&lt;/div&gt;`)[0];\n",
       "                popup_3fe844ae565575e780f53b44142d8b47.setContent(html_3e43026c10d86e380b75b718614dddd9);\n",
       "            \n",
       "        \n",
       "\n",
       "        circle_marker_2fca7b4d49fd7c2f9d71a7b228f73ed6.bindPopup(popup_3fe844ae565575e780f53b44142d8b47)\n",
       "        ;\n",
       "\n",
       "        \n",
       "    \n",
       "    \n",
       "            var circle_marker_8fba6e88ed4175bbbc362145620a16ed = L.circleMarker(\n",
       "                [15.23965592568088, 77.77427566782305],\n",
       "                {&quot;bubblingMouseEvents&quot;: true, &quot;color&quot;: &quot;crimson&quot;, &quot;dashArray&quot;: null, &quot;dashOffset&quot;: null, &quot;fill&quot;: false, &quot;fillColor&quot;: &quot;crimson&quot;, &quot;fillOpacity&quot;: 0.2, &quot;fillRule&quot;: &quot;evenodd&quot;, &quot;lineCap&quot;: &quot;round&quot;, &quot;lineJoin&quot;: &quot;round&quot;, &quot;opacity&quot;: 1.0, &quot;radius&quot;: 3, &quot;stroke&quot;: true, &quot;weight&quot;: 3}\n",
       "            ).addTo(map_eb4f4f4f5471cbd5cbf59896c6e7512f);\n",
       "        \n",
       "    \n",
       "        var popup_1822bd6749204218857f94a6d81d5c66 = L.popup({&quot;maxWidth&quot;: &quot;100%&quot;});\n",
       "\n",
       "        \n",
       "            \n",
       "                var html_c7408944f8795377d5a75e4b11500389 = $(`&lt;div id=&quot;html_c7408944f8795377d5a75e4b11500389&quot; style=&quot;width: 100.0%; height: 100.0%;&quot;&gt;m babu&lt;/div&gt;`)[0];\n",
       "                popup_1822bd6749204218857f94a6d81d5c66.setContent(html_c7408944f8795377d5a75e4b11500389);\n",
       "            \n",
       "        \n",
       "\n",
       "        circle_marker_8fba6e88ed4175bbbc362145620a16ed.bindPopup(popup_1822bd6749204218857f94a6d81d5c66)\n",
       "        ;\n",
       "\n",
       "        \n",
       "    \n",
       "    \n",
       "            var circle_marker_c6d8920e5fa5ef11489457ecc8587f49 = L.circleMarker(\n",
       "                [15.152258680897209, 79.8393292470731],\n",
       "                {&quot;bubblingMouseEvents&quot;: true, &quot;color&quot;: &quot;crimson&quot;, &quot;dashArray&quot;: null, &quot;dashOffset&quot;: null, &quot;fill&quot;: false, &quot;fillColor&quot;: &quot;crimson&quot;, &quot;fillOpacity&quot;: 0.2, &quot;fillRule&quot;: &quot;evenodd&quot;, &quot;lineCap&quot;: &quot;round&quot;, &quot;lineJoin&quot;: &quot;round&quot;, &quot;opacity&quot;: 1.0, &quot;radius&quot;: 3, &quot;stroke&quot;: true, &quot;weight&quot;: 3}\n",
       "            ).addTo(map_eb4f4f4f5471cbd5cbf59896c6e7512f);\n",
       "        \n",
       "    \n",
       "        var popup_e9458a5167223dd4588869eeb0ce3586 = L.popup({&quot;maxWidth&quot;: &quot;100%&quot;});\n",
       "\n",
       "        \n",
       "            \n",
       "                var html_d8331d34755d72aaa6422d4528d72bb5 = $(`&lt;div id=&quot;html_d8331d34755d72aaa6422d4528d72bb5&quot; style=&quot;width: 100.0%; height: 100.0%;&quot;&gt;Vunnamatla Eliza&lt;/div&gt;`)[0];\n",
       "                popup_e9458a5167223dd4588869eeb0ce3586.setContent(html_d8331d34755d72aaa6422d4528d72bb5);\n",
       "            \n",
       "        \n",
       "\n",
       "        circle_marker_c6d8920e5fa5ef11489457ecc8587f49.bindPopup(popup_e9458a5167223dd4588869eeb0ce3586)\n",
       "        ;\n",
       "\n",
       "        \n",
       "    \n",
       "    \n",
       "            var circle_marker_faa56dffc35417a74ae04b980f2708e9 = L.circleMarker(\n",
       "                [16.406955814865608, 79.24372380464546],\n",
       "                {&quot;bubblingMouseEvents&quot;: true, &quot;color&quot;: &quot;crimson&quot;, &quot;dashArray&quot;: null, &quot;dashOffset&quot;: null, &quot;fill&quot;: false, &quot;fillColor&quot;: &quot;crimson&quot;, &quot;fillOpacity&quot;: 0.2, &quot;fillRule&quot;: &quot;evenodd&quot;, &quot;lineCap&quot;: &quot;round&quot;, &quot;lineJoin&quot;: &quot;round&quot;, &quot;opacity&quot;: 1.0, &quot;radius&quot;: 3, &quot;stroke&quot;: true, &quot;weight&quot;: 3}\n",
       "            ).addTo(map_eb4f4f4f5471cbd5cbf59896c6e7512f);\n",
       "        \n",
       "    \n",
       "        var popup_2465ce229aa4249bcedbace4ebdb5c92 = L.popup({&quot;maxWidth&quot;: &quot;100%&quot;});\n",
       "\n",
       "        \n",
       "            \n",
       "                var html_f733870b5f72d7ec74fe6999558d39f2 = $(`&lt;div id=&quot;html_f733870b5f72d7ec74fe6999558d39f2&quot; style=&quot;width: 100.0%; height: 100.0%;&quot;&gt;murthy&lt;/div&gt;`)[0];\n",
       "                popup_2465ce229aa4249bcedbace4ebdb5c92.setContent(html_f733870b5f72d7ec74fe6999558d39f2);\n",
       "            \n",
       "        \n",
       "\n",
       "        circle_marker_faa56dffc35417a74ae04b980f2708e9.bindPopup(popup_2465ce229aa4249bcedbace4ebdb5c92)\n",
       "        ;\n",
       "\n",
       "        \n",
       "    \n",
       "    \n",
       "            var circle_marker_ddead6954baeed224b95878b5a3457ed = L.circleMarker(\n",
       "                [16.393516822108737, 80.71258551359675],\n",
       "                {&quot;bubblingMouseEvents&quot;: true, &quot;color&quot;: &quot;crimson&quot;, &quot;dashArray&quot;: null, &quot;dashOffset&quot;: null, &quot;fill&quot;: false, &quot;fillColor&quot;: &quot;crimson&quot;, &quot;fillOpacity&quot;: 0.2, &quot;fillRule&quot;: &quot;evenodd&quot;, &quot;lineCap&quot;: &quot;round&quot;, &quot;lineJoin&quot;: &quot;round&quot;, &quot;opacity&quot;: 1.0, &quot;radius&quot;: 3, &quot;stroke&quot;: true, &quot;weight&quot;: 3}\n",
       "            ).addTo(map_eb4f4f4f5471cbd5cbf59896c6e7512f);\n",
       "        \n",
       "    \n",
       "        var popup_cbbd2533207bb0814e967140859c6d13 = L.popup({&quot;maxWidth&quot;: &quot;100%&quot;});\n",
       "\n",
       "        \n",
       "            \n",
       "                var html_086246f6982320b1cd384365dc001d01 = $(`&lt;div id=&quot;html_086246f6982320b1cd384365dc001d01&quot; style=&quot;width: 100.0%; height: 100.0%;&quot;&gt;Y Sai Prasad Reddy&lt;/div&gt;`)[0];\n",
       "                popup_cbbd2533207bb0814e967140859c6d13.setContent(html_086246f6982320b1cd384365dc001d01);\n",
       "            \n",
       "        \n",
       "\n",
       "        circle_marker_ddead6954baeed224b95878b5a3457ed.bindPopup(popup_cbbd2533207bb0814e967140859c6d13)\n",
       "        ;\n",
       "\n",
       "        \n",
       "    \n",
       "    \n",
       "            var circle_marker_a292b7cdcf23be9812fee1622e43744f = L.circleMarker(\n",
       "                [15.52443458239634, 77.83101883208728],\n",
       "                {&quot;bubblingMouseEvents&quot;: true, &quot;color&quot;: &quot;crimson&quot;, &quot;dashArray&quot;: null, &quot;dashOffset&quot;: null, &quot;fill&quot;: false, &quot;fillColor&quot;: &quot;crimson&quot;, &quot;fillOpacity&quot;: 0.2, &quot;fillRule&quot;: &quot;evenodd&quot;, &quot;lineCap&quot;: &quot;round&quot;, &quot;lineJoin&quot;: &quot;round&quot;, &quot;opacity&quot;: 1.0, &quot;radius&quot;: 3, &quot;stroke&quot;: true, &quot;weight&quot;: 3}\n",
       "            ).addTo(map_eb4f4f4f5471cbd5cbf59896c6e7512f);\n",
       "        \n",
       "    \n",
       "        var popup_cfb92643e388e06d52d74d1fa47b6b54 = L.popup({&quot;maxWidth&quot;: &quot;100%&quot;});\n",
       "\n",
       "        \n",
       "            \n",
       "                var html_0b389ce9d089ab5ba31ba09d6e90b549 = $(`&lt;div id=&quot;html_0b389ce9d089ab5ba31ba09d6e90b549&quot; style=&quot;width: 100.0%; height: 100.0%;&quot;&gt;K. V. Ushashri Charan&lt;/div&gt;`)[0];\n",
       "                popup_cfb92643e388e06d52d74d1fa47b6b54.setContent(html_0b389ce9d089ab5ba31ba09d6e90b549);\n",
       "            \n",
       "        \n",
       "\n",
       "        circle_marker_a292b7cdcf23be9812fee1622e43744f.bindPopup(popup_cfb92643e388e06d52d74d1fa47b6b54)\n",
       "        ;\n",
       "\n",
       "        \n",
       "    \n",
       "    \n",
       "            var circle_marker_da10f60f79848fbe1d2409d73fe5b211 = L.circleMarker(\n",
       "                [16.719263962290345, 80.90836022821723],\n",
       "                {&quot;bubblingMouseEvents&quot;: true, &quot;color&quot;: &quot;crimson&quot;, &quot;dashArray&quot;: null, &quot;dashOffset&quot;: null, &quot;fill&quot;: false, &quot;fillColor&quot;: &quot;crimson&quot;, &quot;fillOpacity&quot;: 0.2, &quot;fillRule&quot;: &quot;evenodd&quot;, &quot;lineCap&quot;: &quot;round&quot;, &quot;lineJoin&quot;: &quot;round&quot;, &quot;opacity&quot;: 1.0, &quot;radius&quot;: 3, &quot;stroke&quot;: true, &quot;weight&quot;: 3}\n",
       "            ).addTo(map_eb4f4f4f5471cbd5cbf59896c6e7512f);\n",
       "        \n",
       "    \n",
       "        var popup_3b7ca933413fe1306bbaf54ee5d07d27 = L.popup({&quot;maxWidth&quot;: &quot;100%&quot;});\n",
       "\n",
       "        \n",
       "            \n",
       "                var html_e4fb3d1d60b09f66926592456c7f6b9b = $(`&lt;div id=&quot;html_e4fb3d1d60b09f66926592456c7f6b9b&quot; style=&quot;width: 100.0%; height: 100.0%;&quot;&gt;Biyyapu Madhusudhan Reddy&lt;/div&gt;`)[0];\n",
       "                popup_3b7ca933413fe1306bbaf54ee5d07d27.setContent(html_e4fb3d1d60b09f66926592456c7f6b9b);\n",
       "            \n",
       "        \n",
       "\n",
       "        circle_marker_da10f60f79848fbe1d2409d73fe5b211.bindPopup(popup_3b7ca933413fe1306bbaf54ee5d07d27)\n",
       "        ;\n",
       "\n",
       "        \n",
       "    \n",
       "    \n",
       "            var circle_marker_7cec3849b0ffe4bb26c652b68063ec90 = L.circleMarker(\n",
       "                [15.94113398719836, 79.02347837166747],\n",
       "                {&quot;bubblingMouseEvents&quot;: true, &quot;color&quot;: &quot;crimson&quot;, &quot;dashArray&quot;: null, &quot;dashOffset&quot;: null, &quot;fill&quot;: false, &quot;fillColor&quot;: &quot;crimson&quot;, &quot;fillOpacity&quot;: 0.2, &quot;fillRule&quot;: &quot;evenodd&quot;, &quot;lineCap&quot;: &quot;round&quot;, &quot;lineJoin&quot;: &quot;round&quot;, &quot;opacity&quot;: 1.0, &quot;radius&quot;: 3, &quot;stroke&quot;: true, &quot;weight&quot;: 3}\n",
       "            ).addTo(map_eb4f4f4f5471cbd5cbf59896c6e7512f);\n",
       "        \n",
       "    \n",
       "        var popup_cae1ac9812092da76091bed77c84142e = L.popup({&quot;maxWidth&quot;: &quot;100%&quot;});\n",
       "\n",
       "        \n",
       "            \n",
       "                var html_3ca387236e6ce9282e12d7af77bf7bde = $(`&lt;div id=&quot;html_3ca387236e6ce9282e12d7af77bf7bde&quot; style=&quot;width: 100.0%; height: 100.0%;&quot;&gt;Anna Rambabu&lt;/div&gt;`)[0];\n",
       "                popup_cae1ac9812092da76091bed77c84142e.setContent(html_3ca387236e6ce9282e12d7af77bf7bde);\n",
       "            \n",
       "        \n",
       "\n",
       "        circle_marker_7cec3849b0ffe4bb26c652b68063ec90.bindPopup(popup_cae1ac9812092da76091bed77c84142e)\n",
       "        ;\n",
       "\n",
       "        \n",
       "    \n",
       "    \n",
       "            var circle_marker_0df2f47600b28a1be236698c0b336ac7 = L.circleMarker(\n",
       "                [16.895553118094494, 81.4076372725418],\n",
       "                {&quot;bubblingMouseEvents&quot;: true, &quot;color&quot;: &quot;crimson&quot;, &quot;dashArray&quot;: null, &quot;dashOffset&quot;: null, &quot;fill&quot;: false, &quot;fillColor&quot;: &quot;crimson&quot;, &quot;fillOpacity&quot;: 0.2, &quot;fillRule&quot;: &quot;evenodd&quot;, &quot;lineCap&quot;: &quot;round&quot;, &quot;lineJoin&quot;: &quot;round&quot;, &quot;opacity&quot;: 1.0, &quot;radius&quot;: 3, &quot;stroke&quot;: true, &quot;weight&quot;: 3}\n",
       "            ).addTo(map_eb4f4f4f5471cbd5cbf59896c6e7512f);\n",
       "        \n",
       "    \n",
       "        var popup_f561d4e5007db3f4e2db70596d4f2058 = L.popup({&quot;maxWidth&quot;: &quot;100%&quot;});\n",
       "\n",
       "        \n",
       "            \n",
       "                var html_10d9120b0b440ef9987e8f38b657e066 = $(`&lt;div id=&quot;html_10d9120b0b440ef9987e8f38b657e066&quot; style=&quot;width: 100.0%; height: 100.0%;&quot;&gt;Grandhi Srinivas&lt;/div&gt;`)[0];\n",
       "                popup_f561d4e5007db3f4e2db70596d4f2058.setContent(html_10d9120b0b440ef9987e8f38b657e066);\n",
       "            \n",
       "        \n",
       "\n",
       "        circle_marker_0df2f47600b28a1be236698c0b336ac7.bindPopup(popup_f561d4e5007db3f4e2db70596d4f2058)\n",
       "        ;\n",
       "\n",
       "        \n",
       "    \n",
       "    \n",
       "            var circle_marker_ca167b42f04c17a212ed8d14f6bb1429 = L.circleMarker(\n",
       "                [15.158071058764346, 78.66141265978939],\n",
       "                {&quot;bubblingMouseEvents&quot;: true, &quot;color&quot;: &quot;crimson&quot;, &quot;dashArray&quot;: null, &quot;dashOffset&quot;: null, &quot;fill&quot;: false, &quot;fillColor&quot;: &quot;crimson&quot;, &quot;fillOpacity&quot;: 0.2, &quot;fillRule&quot;: &quot;evenodd&quot;, &quot;lineCap&quot;: &quot;round&quot;, &quot;lineJoin&quot;: &quot;round&quot;, &quot;opacity&quot;: 1.0, &quot;radius&quot;: 3, &quot;stroke&quot;: true, &quot;weight&quot;: 3}\n",
       "            ).addTo(map_eb4f4f4f5471cbd5cbf59896c6e7512f);\n",
       "        \n",
       "    \n",
       "        var popup_36d12a736b982724fe4ebe112519db82 = L.popup({&quot;maxWidth&quot;: &quot;100%&quot;});\n",
       "\n",
       "        \n",
       "            \n",
       "                var html_d4e2d8c0e2a39f1bd8ff90b8934fcb09 = $(`&lt;div id=&quot;html_d4e2d8c0e2a39f1bd8ff90b8934fcb09&quot; style=&quot;width: 100.0%; height: 100.0%;&quot;&gt;Vellampalli Srinivas&lt;/div&gt;`)[0];\n",
       "                popup_36d12a736b982724fe4ebe112519db82.setContent(html_d4e2d8c0e2a39f1bd8ff90b8934fcb09);\n",
       "            \n",
       "        \n",
       "\n",
       "        circle_marker_ca167b42f04c17a212ed8d14f6bb1429.bindPopup(popup_36d12a736b982724fe4ebe112519db82)\n",
       "        ;\n",
       "\n",
       "        \n",
       "    \n",
       "    \n",
       "            var circle_marker_91a648292e9d4301f9b40b92e2ea6709 = L.circleMarker(\n",
       "                [15.651264053537378, 79.28722680421468],\n",
       "                {&quot;bubblingMouseEvents&quot;: true, &quot;color&quot;: &quot;crimson&quot;, &quot;dashArray&quot;: null, &quot;dashOffset&quot;: null, &quot;fill&quot;: false, &quot;fillColor&quot;: &quot;crimson&quot;, &quot;fillOpacity&quot;: 0.2, &quot;fillRule&quot;: &quot;evenodd&quot;, &quot;lineCap&quot;: &quot;round&quot;, &quot;lineJoin&quot;: &quot;round&quot;, &quot;opacity&quot;: 1.0, &quot;radius&quot;: 3, &quot;stroke&quot;: true, &quot;weight&quot;: 3}\n",
       "            ).addTo(map_eb4f4f4f5471cbd5cbf59896c6e7512f);\n",
       "        \n",
       "    \n",
       "        var popup_1fe5390f4f200297e2cb83f098d053d2 = L.popup({&quot;maxWidth&quot;: &quot;100%&quot;});\n",
       "\n",
       "        \n",
       "            \n",
       "                var html_a1a909c0893aefc5c4780ad586ce1bc8 = $(`&lt;div id=&quot;html_a1a909c0893aefc5c4780ad586ce1bc8&quot; style=&quot;width: 100.0%; height: 100.0%;&quot;&gt;Kuruva Gorantla Madhav&lt;/div&gt;`)[0];\n",
       "                popup_1fe5390f4f200297e2cb83f098d053d2.setContent(html_a1a909c0893aefc5c4780ad586ce1bc8);\n",
       "            \n",
       "        \n",
       "\n",
       "        circle_marker_91a648292e9d4301f9b40b92e2ea6709.bindPopup(popup_1fe5390f4f200297e2cb83f098d053d2)\n",
       "        ;\n",
       "\n",
       "        \n",
       "    \n",
       "    \n",
       "            var circle_marker_9a6375f234e6251719df93502f8653ed = L.circleMarker(\n",
       "                [16.61399172864309, 81.38598132037578],\n",
       "                {&quot;bubblingMouseEvents&quot;: true, &quot;color&quot;: &quot;crimson&quot;, &quot;dashArray&quot;: null, &quot;dashOffset&quot;: null, &quot;fill&quot;: false, &quot;fillColor&quot;: &quot;crimson&quot;, &quot;fillOpacity&quot;: 0.2, &quot;fillRule&quot;: &quot;evenodd&quot;, &quot;lineCap&quot;: &quot;round&quot;, &quot;lineJoin&quot;: &quot;round&quot;, &quot;opacity&quot;: 1.0, &quot;radius&quot;: 3, &quot;stroke&quot;: true, &quot;weight&quot;: 3}\n",
       "            ).addTo(map_eb4f4f4f5471cbd5cbf59896c6e7512f);\n",
       "        \n",
       "    \n",
       "        var popup_417e2d79b1dca27517c5b05ef91f56aa = L.popup({&quot;maxWidth&quot;: &quot;100%&quot;});\n",
       "\n",
       "        \n",
       "            \n",
       "                var html_282032eb52dc9704e55b580664ba4f84 = $(`&lt;div id=&quot;html_282032eb52dc9704e55b580664ba4f84&quot; style=&quot;width: 100.0%; height: 100.0%;&quot;&gt;Payyavula Keshav&lt;/div&gt;`)[0];\n",
       "                popup_417e2d79b1dca27517c5b05ef91f56aa.setContent(html_282032eb52dc9704e55b580664ba4f84);\n",
       "            \n",
       "        \n",
       "\n",
       "        circle_marker_9a6375f234e6251719df93502f8653ed.bindPopup(popup_417e2d79b1dca27517c5b05ef91f56aa)\n",
       "        ;\n",
       "\n",
       "        \n",
       "    \n",
       "    \n",
       "            var circle_marker_11a50026043da6b28f11114f53a094a6 = L.circleMarker(\n",
       "                [15.583189361564427, 79.31756556980108],\n",
       "                {&quot;bubblingMouseEvents&quot;: true, &quot;color&quot;: &quot;crimson&quot;, &quot;dashArray&quot;: null, &quot;dashOffset&quot;: null, &quot;fill&quot;: false, &quot;fillColor&quot;: &quot;crimson&quot;, &quot;fillOpacity&quot;: 0.2, &quot;fillRule&quot;: &quot;evenodd&quot;, &quot;lineCap&quot;: &quot;round&quot;, &quot;lineJoin&quot;: &quot;round&quot;, &quot;opacity&quot;: 1.0, &quot;radius&quot;: 3, &quot;stroke&quot;: true, &quot;weight&quot;: 3}\n",
       "            ).addTo(map_eb4f4f4f5471cbd5cbf59896c6e7512f);\n",
       "        \n",
       "    \n",
       "        var popup_cf5ffd22cf09ec73ff334b6d05db6bd8 = L.popup({&quot;maxWidth&quot;: &quot;100%&quot;});\n",
       "\n",
       "        \n",
       "            \n",
       "                var html_4492cf4e8c28f2e587c7a54c109d3d68 = $(`&lt;div id=&quot;html_4492cf4e8c28f2e587c7a54c109d3d68&quot; style=&quot;width: 100.0%; height: 100.0%;&quot;&gt;Jakkampudi Raja&lt;/div&gt;`)[0];\n",
       "                popup_cf5ffd22cf09ec73ff334b6d05db6bd8.setContent(html_4492cf4e8c28f2e587c7a54c109d3d68);\n",
       "            \n",
       "        \n",
       "\n",
       "        circle_marker_11a50026043da6b28f11114f53a094a6.bindPopup(popup_cf5ffd22cf09ec73ff334b6d05db6bd8)\n",
       "        ;\n",
       "\n",
       "        \n",
       "    \n",
       "    \n",
       "            var circle_marker_72b46cd5f3f69aa91a31e44bd3ae0b68 = L.circleMarker(\n",
       "                [15.390663826401449, 78.38186401779812],\n",
       "                {&quot;bubblingMouseEvents&quot;: true, &quot;color&quot;: &quot;crimson&quot;, &quot;dashArray&quot;: null, &quot;dashOffset&quot;: null, &quot;fill&quot;: false, &quot;fillColor&quot;: &quot;crimson&quot;, &quot;fillOpacity&quot;: 0.2, &quot;fillRule&quot;: &quot;evenodd&quot;, &quot;lineCap&quot;: &quot;round&quot;, &quot;lineJoin&quot;: &quot;round&quot;, &quot;opacity&quot;: 1.0, &quot;radius&quot;: 3, &quot;stroke&quot;: true, &quot;weight&quot;: 3}\n",
       "            ).addTo(map_eb4f4f4f5471cbd5cbf59896c6e7512f);\n",
       "        \n",
       "    \n",
       "        var popup_fd001bc37b71d5819dd16077a0399349 = L.popup({&quot;maxWidth&quot;: &quot;100%&quot;});\n",
       "\n",
       "        \n",
       "            \n",
       "                var html_200ae563939aae7f2b091ee02766804f = $(`&lt;div id=&quot;html_200ae563939aae7f2b091ee02766804f&quot; style=&quot;width: 100.0%; height: 100.0%;&quot;&gt;Kona Raghupath&lt;/div&gt;`)[0];\n",
       "                popup_fd001bc37b71d5819dd16077a0399349.setContent(html_200ae563939aae7f2b091ee02766804f);\n",
       "            \n",
       "        \n",
       "\n",
       "        circle_marker_72b46cd5f3f69aa91a31e44bd3ae0b68.bindPopup(popup_fd001bc37b71d5819dd16077a0399349)\n",
       "        ;\n",
       "\n",
       "        \n",
       "    \n",
       "    \n",
       "            var circle_marker_8c1ca00c7d302f0b76265f4334112a86 = L.circleMarker(\n",
       "                [15.796954322525693, 80.28440687386751],\n",
       "                {&quot;bubblingMouseEvents&quot;: true, &quot;color&quot;: &quot;crimson&quot;, &quot;dashArray&quot;: null, &quot;dashOffset&quot;: null, &quot;fill&quot;: false, &quot;fillColor&quot;: &quot;crimson&quot;, &quot;fillOpacity&quot;: 0.2, &quot;fillRule&quot;: &quot;evenodd&quot;, &quot;lineCap&quot;: &quot;round&quot;, &quot;lineJoin&quot;: &quot;round&quot;, &quot;opacity&quot;: 1.0, &quot;radius&quot;: 3, &quot;stroke&quot;: true, &quot;weight&quot;: 3}\n",
       "            ).addTo(map_eb4f4f4f5471cbd5cbf59896c6e7512f);\n",
       "        \n",
       "    \n",
       "        var popup_603b92aa667cd013a46e9e9a88bebb51 = L.popup({&quot;maxWidth&quot;: &quot;100%&quot;});\n",
       "\n",
       "        \n",
       "            \n",
       "                var html_e07a53bfa1092243d2335f3b9fd92438 = $(`&lt;div id=&quot;html_e07a53bfa1092243d2335f3b9fd92438&quot; style=&quot;width: 100.0%; height: 100.0%;&quot;&gt;Talari Rangaiah&lt;/div&gt;`)[0];\n",
       "                popup_603b92aa667cd013a46e9e9a88bebb51.setContent(html_e07a53bfa1092243d2335f3b9fd92438);\n",
       "            \n",
       "        \n",
       "\n",
       "        circle_marker_8c1ca00c7d302f0b76265f4334112a86.bindPopup(popup_603b92aa667cd013a46e9e9a88bebb51)\n",
       "        ;\n",
       "\n",
       "        \n",
       "    \n",
       "    \n",
       "            var circle_marker_071339dee190732fda6a63472c611cc6 = L.circleMarker(\n",
       "                [16.049228761525022, 80.26680689516921],\n",
       "                {&quot;bubblingMouseEvents&quot;: true, &quot;color&quot;: &quot;crimson&quot;, &quot;dashArray&quot;: null, &quot;dashOffset&quot;: null, &quot;fill&quot;: false, &quot;fillColor&quot;: &quot;crimson&quot;, &quot;fillOpacity&quot;: 0.2, &quot;fillRule&quot;: &quot;evenodd&quot;, &quot;lineCap&quot;: &quot;round&quot;, &quot;lineJoin&quot;: &quot;round&quot;, &quot;opacity&quot;: 1.0, &quot;radius&quot;: 3, &quot;stroke&quot;: true, &quot;weight&quot;: 3}\n",
       "            ).addTo(map_eb4f4f4f5471cbd5cbf59896c6e7512f);\n",
       "        \n",
       "    \n",
       "        var popup_2ebbebe092a62a4078f72e5b7fd0ef45 = L.popup({&quot;maxWidth&quot;: &quot;100%&quot;});\n",
       "\n",
       "        \n",
       "            \n",
       "                var html_20d3327277688443be58bda1fe7515e1 = $(`&lt;div id=&quot;html_20d3327277688443be58bda1fe7515e1&quot; style=&quot;width: 100.0%; height: 100.0%;&quot;&gt;Kethireddy Venkatarami Reddy&lt;/div&gt;`)[0];\n",
       "                popup_2ebbebe092a62a4078f72e5b7fd0ef45.setContent(html_20d3327277688443be58bda1fe7515e1);\n",
       "            \n",
       "        \n",
       "\n",
       "        circle_marker_071339dee190732fda6a63472c611cc6.bindPopup(popup_2ebbebe092a62a4078f72e5b7fd0ef45)\n",
       "        ;\n",
       "\n",
       "        \n",
       "    \n",
       "    \n",
       "            var circle_marker_89892d370d64099f998f03df44c55060 = L.circleMarker(\n",
       "                [16.96566728948602, 80.54520629982039],\n",
       "                {&quot;bubblingMouseEvents&quot;: true, &quot;color&quot;: &quot;crimson&quot;, &quot;dashArray&quot;: null, &quot;dashOffset&quot;: null, &quot;fill&quot;: false, &quot;fillColor&quot;: &quot;crimson&quot;, &quot;fillOpacity&quot;: 0.2, &quot;fillRule&quot;: &quot;evenodd&quot;, &quot;lineCap&quot;: &quot;round&quot;, &quot;lineJoin&quot;: &quot;round&quot;, &quot;opacity&quot;: 1.0, &quot;radius&quot;: 3, &quot;stroke&quot;: true, &quot;weight&quot;: 3}\n",
       "            ).addTo(map_eb4f4f4f5471cbd5cbf59896c6e7512f);\n",
       "        \n",
       "    \n",
       "        var popup_205e09879546cedcaf07cc54551befb0 = L.popup({&quot;maxWidth&quot;: &quot;100%&quot;});\n",
       "\n",
       "        \n",
       "            \n",
       "                var html_38fa4fc4ccb46573ea62b8b0e5528e2e = $(`&lt;div id=&quot;html_38fa4fc4ccb46573ea62b8b0e5528e2e&quot; style=&quot;width: 100.0%; height: 100.0%;&quot;&gt;Nagulapalli Dhanalakshmi&lt;/div&gt;`)[0];\n",
       "                popup_205e09879546cedcaf07cc54551befb0.setContent(html_38fa4fc4ccb46573ea62b8b0e5528e2e);\n",
       "            \n",
       "        \n",
       "\n",
       "        circle_marker_89892d370d64099f998f03df44c55060.bindPopup(popup_205e09879546cedcaf07cc54551befb0)\n",
       "        ;\n",
       "\n",
       "        \n",
       "    \n",
       "    \n",
       "            var circle_marker_f7ce6c4b3c19991b047c30e786d1757f = L.circleMarker(\n",
       "                [15.395146378399714, 79.54432825426585],\n",
       "                {&quot;bubblingMouseEvents&quot;: true, &quot;color&quot;: &quot;crimson&quot;, &quot;dashArray&quot;: null, &quot;dashOffset&quot;: null, &quot;fill&quot;: false, &quot;fillColor&quot;: &quot;crimson&quot;, &quot;fillOpacity&quot;: 0.2, &quot;fillRule&quot;: &quot;evenodd&quot;, &quot;lineCap&quot;: &quot;round&quot;, &quot;lineJoin&quot;: &quot;round&quot;, &quot;opacity&quot;: 1.0, &quot;radius&quot;: 3, &quot;stroke&quot;: true, &quot;weight&quot;: 3}\n",
       "            ).addTo(map_eb4f4f4f5471cbd5cbf59896c6e7512f);\n",
       "        \n",
       "    \n",
       "        var popup_6af7926343d7d2b0f6fc408314a51d08 = L.popup({&quot;maxWidth&quot;: &quot;100%&quot;});\n",
       "\n",
       "        \n",
       "            \n",
       "                var html_2ac12e230c6dfc5792ec694db9d47a69 = $(`&lt;div id=&quot;html_2ac12e230c6dfc5792ec694db9d47a69&quot; style=&quot;width: 100.0%; height: 100.0%;&quot;&gt;Gadikota Srikanth Reddy&lt;/div&gt;`)[0];\n",
       "                popup_6af7926343d7d2b0f6fc408314a51d08.setContent(html_2ac12e230c6dfc5792ec694db9d47a69);\n",
       "            \n",
       "        \n",
       "\n",
       "        circle_marker_f7ce6c4b3c19991b047c30e786d1757f.bindPopup(popup_6af7926343d7d2b0f6fc408314a51d08)\n",
       "        ;\n",
       "\n",
       "        \n",
       "    \n",
       "    \n",
       "            var circle_marker_88dfc7486cb1ae1740789301baa4828c = L.circleMarker(\n",
       "                [15.727100817385082, 79.96983019338506],\n",
       "                {&quot;bubblingMouseEvents&quot;: true, &quot;color&quot;: &quot;crimson&quot;, &quot;dashArray&quot;: null, &quot;dashOffset&quot;: null, &quot;fill&quot;: false, &quot;fillColor&quot;: &quot;crimson&quot;, &quot;fillOpacity&quot;: 0.2, &quot;fillRule&quot;: &quot;evenodd&quot;, &quot;lineCap&quot;: &quot;round&quot;, &quot;lineJoin&quot;: &quot;round&quot;, &quot;opacity&quot;: 1.0, &quot;radius&quot;: 3, &quot;stroke&quot;: true, &quot;weight&quot;: 3}\n",
       "            ).addTo(map_eb4f4f4f5471cbd5cbf59896c6e7512f);\n",
       "        \n",
       "    \n",
       "        var popup_a164679df29f92c33abb5a6311def4d7 = L.popup({&quot;maxWidth&quot;: &quot;100%&quot;});\n",
       "\n",
       "        \n",
       "            \n",
       "                var html_2747e294e0ad1862c6daab767a75899c = $(`&lt;div id=&quot;html_2747e294e0ad1862c6daab767a75899c&quot; style=&quot;width: 100.0%; height: 100.0%;&quot;&gt;Telakapalli Ravi&lt;/div&gt;`)[0];\n",
       "                popup_a164679df29f92c33abb5a6311def4d7.setContent(html_2747e294e0ad1862c6daab767a75899c);\n",
       "            \n",
       "        \n",
       "\n",
       "        circle_marker_88dfc7486cb1ae1740789301baa4828c.bindPopup(popup_a164679df29f92c33abb5a6311def4d7)\n",
       "        ;\n",
       "\n",
       "        \n",
       "    \n",
       "    \n",
       "            var circle_marker_8b01e83d4530f2937567422d756878a3 = L.circleMarker(\n",
       "                [16.884739076561285, 81.3871739661695],\n",
       "                {&quot;bubblingMouseEvents&quot;: true, &quot;color&quot;: &quot;crimson&quot;, &quot;dashArray&quot;: null, &quot;dashOffset&quot;: null, &quot;fill&quot;: false, &quot;fillColor&quot;: &quot;crimson&quot;, &quot;fillOpacity&quot;: 0.2, &quot;fillRule&quot;: &quot;evenodd&quot;, &quot;lineCap&quot;: &quot;round&quot;, &quot;lineJoin&quot;: &quot;round&quot;, &quot;opacity&quot;: 1.0, &quot;radius&quot;: 3, &quot;stroke&quot;: true, &quot;weight&quot;: 3}\n",
       "            ).addTo(map_eb4f4f4f5471cbd5cbf59896c6e7512f);\n",
       "        \n",
       "    \n",
       "        var popup_fdf4c0376a149dbddc64413d12827d91 = L.popup({&quot;maxWidth&quot;: &quot;100%&quot;});\n",
       "\n",
       "        \n",
       "            \n",
       "                var html_b83ff67440072025417b532869b78269 = $(`&lt;div id=&quot;html_b83ff67440072025417b532869b78269&quot; style=&quot;width: 100.0%; height: 100.0%;&quot;&gt;Nandamuri Balakrishna&lt;/div&gt;`)[0];\n",
       "                popup_fdf4c0376a149dbddc64413d12827d91.setContent(html_b83ff67440072025417b532869b78269);\n",
       "            \n",
       "        \n",
       "\n",
       "        circle_marker_8b01e83d4530f2937567422d756878a3.bindPopup(popup_fdf4c0376a149dbddc64413d12827d91)\n",
       "        ;\n",
       "\n",
       "        \n",
       "    \n",
       "    \n",
       "            var circle_marker_bc7880308d2f30ceb29192aa83295365 = L.circleMarker(\n",
       "                [16.765314653138017, 80.92648078317835],\n",
       "                {&quot;bubblingMouseEvents&quot;: true, &quot;color&quot;: &quot;crimson&quot;, &quot;dashArray&quot;: null, &quot;dashOffset&quot;: null, &quot;fill&quot;: false, &quot;fillColor&quot;: &quot;crimson&quot;, &quot;fillOpacity&quot;: 0.2, &quot;fillRule&quot;: &quot;evenodd&quot;, &quot;lineCap&quot;: &quot;round&quot;, &quot;lineJoin&quot;: &quot;round&quot;, &quot;opacity&quot;: 1.0, &quot;radius&quot;: 3, &quot;stroke&quot;: true, &quot;weight&quot;: 3}\n",
       "            ).addTo(map_eb4f4f4f5471cbd5cbf59896c6e7512f);\n",
       "        \n",
       "    \n",
       "        var popup_246424e47467fef9504eeff3ae49e9c4 = L.popup({&quot;maxWidth&quot;: &quot;100%&quot;});\n",
       "\n",
       "        \n",
       "            \n",
       "                var html_44f8610708e9d74f3dc4f33f661f1f5f = $(`&lt;div id=&quot;html_44f8610708e9d74f3dc4f33f661f1f5f&quot; style=&quot;width: 100.0%; height: 100.0%;&quot;&gt;gangula brijendra reddy&lt;/div&gt;`)[0];\n",
       "                popup_246424e47467fef9504eeff3ae49e9c4.setContent(html_44f8610708e9d74f3dc4f33f661f1f5f);\n",
       "            \n",
       "        \n",
       "\n",
       "        circle_marker_bc7880308d2f30ceb29192aa83295365.bindPopup(popup_246424e47467fef9504eeff3ae49e9c4)\n",
       "        ;\n",
       "\n",
       "        \n",
       "    \n",
       "&lt;/script&gt;\n",
       "&lt;/html&gt;\" style=\"position:absolute;width:100%;height:100%;left:0;top:0;border:none !important;\" allowfullscreen webkitallowfullscreen mozallowfullscreen></iframe></div></div>"
      ],
      "text/plain": [
       "<folium.folium.Map at 0x168761eb0>"
      ]
     },
     "execution_count": 204,
     "metadata": {},
     "output_type": "execute_result"
    }
   ],
   "source": [
    "import folium\n",
    "from folium.plugins import HeatMap\n",
    "df_folium_plot = pd.read_csv('plots_data/dashboard_folium.csv')\n",
    "date_start = '2023-01-01'\n",
    "date_end = '2024-01-01'\n",
    "df_folium_sorted = df_folium_plot[(df_folium_plot.upload_date >= date_start) & (df_folium_plot.upload_date <= date_end)]\n",
    "\n",
    "df_folium_sorted['heat'] = df_folium_sorted['view_count']\n",
    "df_folium_sorted['heat'] = (df_folium_sorted['heat'] - df_folium_sorted['heat'].min())/(df_folium_sorted['heat'].max() - df_folium_sorted['heat'].min())\n",
    "df_folium_sorted = df_folium_sorted[['lat','long','heat']]\n",
    "df_folium_sorted = df_folium_sorted.groupby(['lat','long']).mean().reset_index()\n",
    "lats_longs_weight = df_folium_sorted.values\n",
    "map_obj = folium.Map(location = [16.315487, 80.232213], zoom_start = 8,)\n",
    "HeatMap(lats_longs_weight,min_opacit=1,radius=10).add_to(map_obj)\n",
    "\n",
    "df_markers = df_folium_plot[['lat','long','name']].drop_duplicates()\n",
    "for i in range(len(df_markers)):\n",
    "    folium.CircleMarker([df_markers['lat'].values[i], df_markers['long'].values[i]], \n",
    "                popup=df_markers['name'].values[i],radius=3,color ='crimson'\n",
    "                ).add_to(map_obj)\n",
    "map_obj\n",
    "\n"
   ]
  },
  {
   "cell_type": "code",
   "execution_count": 316,
   "metadata": {},
   "outputs": [
    {
     "data": {
      "text/html": [
       "<div>\n",
       "<style scoped>\n",
       "    .dataframe tbody tr th:only-of-type {\n",
       "        vertical-align: middle;\n",
       "    }\n",
       "\n",
       "    .dataframe tbody tr th {\n",
       "        vertical-align: top;\n",
       "    }\n",
       "\n",
       "    .dataframe thead th {\n",
       "        text-align: right;\n",
       "    }\n",
       "</style>\n",
       "<table border=\"1\" class=\"dataframe\">\n",
       "  <thead>\n",
       "    <tr style=\"text-align: right;\">\n",
       "      <th></th>\n",
       "      <th>lat</th>\n",
       "      <th>long</th>\n",
       "      <th>upload_date</th>\n",
       "      <th>name</th>\n",
       "      <th>party</th>\n",
       "      <th>constituency</th>\n",
       "      <th>sentiment</th>\n",
       "      <th>view_count</th>\n",
       "      <th>uploader</th>\n",
       "    </tr>\n",
       "  </thead>\n",
       "  <tbody>\n",
       "    <tr>\n",
       "      <th>0</th>\n",
       "      <td>16.784508</td>\n",
       "      <td>81.076493</td>\n",
       "      <td>2023-02-16</td>\n",
       "      <td>Viswasarayi Kalavathi</td>\n",
       "      <td>YSRCP</td>\n",
       "      <td>Viswasarayi Kalavathi</td>\n",
       "      <td>-0.286784</td>\n",
       "      <td>2800.0</td>\n",
       "      <td>TV9</td>\n",
       "    </tr>\n",
       "    <tr>\n",
       "      <th>1</th>\n",
       "      <td>16.784508</td>\n",
       "      <td>81.076493</td>\n",
       "      <td>2022-09-14</td>\n",
       "      <td>Viswasarayi Kalavathi</td>\n",
       "      <td>YSRCP</td>\n",
       "      <td>Viswasarayi Kalavathi</td>\n",
       "      <td>-0.957865</td>\n",
       "      <td>34954.0</td>\n",
       "      <td>Sakshi</td>\n",
       "    </tr>\n",
       "    <tr>\n",
       "      <th>2</th>\n",
       "      <td>16.784508</td>\n",
       "      <td>81.076493</td>\n",
       "      <td>2022-12-21</td>\n",
       "      <td>Viswasarayi Kalavathi</td>\n",
       "      <td>YSRCP</td>\n",
       "      <td>Viswasarayi Kalavathi</td>\n",
       "      <td>0.898837</td>\n",
       "      <td>143728.0</td>\n",
       "      <td>TV9</td>\n",
       "    </tr>\n",
       "    <tr>\n",
       "      <th>3</th>\n",
       "      <td>16.784508</td>\n",
       "      <td>81.076493</td>\n",
       "      <td>2022-10-22</td>\n",
       "      <td>Viswasarayi Kalavathi</td>\n",
       "      <td>YSRCP</td>\n",
       "      <td>Viswasarayi Kalavathi</td>\n",
       "      <td>0.525788</td>\n",
       "      <td>1720.0</td>\n",
       "      <td>TV5</td>\n",
       "    </tr>\n",
       "    <tr>\n",
       "      <th>4</th>\n",
       "      <td>16.784508</td>\n",
       "      <td>81.076493</td>\n",
       "      <td>2022-09-10</td>\n",
       "      <td>Viswasarayi Kalavathi</td>\n",
       "      <td>YSRCP</td>\n",
       "      <td>Viswasarayi Kalavathi</td>\n",
       "      <td>-0.074041</td>\n",
       "      <td>551.0</td>\n",
       "      <td>TV5</td>\n",
       "    </tr>\n",
       "    <tr>\n",
       "      <th>...</th>\n",
       "      <td>...</td>\n",
       "      <td>...</td>\n",
       "      <td>...</td>\n",
       "      <td>...</td>\n",
       "      <td>...</td>\n",
       "      <td>...</td>\n",
       "      <td>...</td>\n",
       "      <td>...</td>\n",
       "      <td>...</td>\n",
       "    </tr>\n",
       "    <tr>\n",
       "      <th>276731</th>\n",
       "      <td>16.765315</td>\n",
       "      <td>80.926481</td>\n",
       "      <td>2022-08-05</td>\n",
       "      <td>gangula brijendra reddy</td>\n",
       "      <td>YSRCP</td>\n",
       "      <td>gangula brijendra reddy</td>\n",
       "      <td>0.495692</td>\n",
       "      <td>26021.0</td>\n",
       "      <td>Sakshi</td>\n",
       "    </tr>\n",
       "    <tr>\n",
       "      <th>276732</th>\n",
       "      <td>16.765315</td>\n",
       "      <td>80.926481</td>\n",
       "      <td>2022-10-26</td>\n",
       "      <td>gangula brijendra reddy</td>\n",
       "      <td>YSRCP</td>\n",
       "      <td>gangula brijendra reddy</td>\n",
       "      <td>-0.018102</td>\n",
       "      <td>2006.0</td>\n",
       "      <td>TV5</td>\n",
       "    </tr>\n",
       "    <tr>\n",
       "      <th>276733</th>\n",
       "      <td>16.765315</td>\n",
       "      <td>80.926481</td>\n",
       "      <td>2023-02-16</td>\n",
       "      <td>gangula brijendra reddy</td>\n",
       "      <td>YSRCP</td>\n",
       "      <td>gangula brijendra reddy</td>\n",
       "      <td>0.893092</td>\n",
       "      <td>1891.0</td>\n",
       "      <td>TV9</td>\n",
       "    </tr>\n",
       "    <tr>\n",
       "      <th>276734</th>\n",
       "      <td>16.765315</td>\n",
       "      <td>80.926481</td>\n",
       "      <td>2022-09-05</td>\n",
       "      <td>gangula brijendra reddy</td>\n",
       "      <td>YSRCP</td>\n",
       "      <td>gangula brijendra reddy</td>\n",
       "      <td>-0.045191</td>\n",
       "      <td>592.0</td>\n",
       "      <td>TV5</td>\n",
       "    </tr>\n",
       "    <tr>\n",
       "      <th>276735</th>\n",
       "      <td>16.765315</td>\n",
       "      <td>80.926481</td>\n",
       "      <td>2023-02-16</td>\n",
       "      <td>gangula brijendra reddy</td>\n",
       "      <td>YSRCP</td>\n",
       "      <td>gangula brijendra reddy</td>\n",
       "      <td>-0.641433</td>\n",
       "      <td>2895.0</td>\n",
       "      <td>TV9</td>\n",
       "    </tr>\n",
       "  </tbody>\n",
       "</table>\n",
       "<p>276736 rows × 9 columns</p>\n",
       "</div>"
      ],
      "text/plain": [
       "              lat       long upload_date                     name  party   \n",
       "0       16.784508  81.076493  2023-02-16    Viswasarayi Kalavathi  YSRCP  \\\n",
       "1       16.784508  81.076493  2022-09-14    Viswasarayi Kalavathi  YSRCP   \n",
       "2       16.784508  81.076493  2022-12-21    Viswasarayi Kalavathi  YSRCP   \n",
       "3       16.784508  81.076493  2022-10-22    Viswasarayi Kalavathi  YSRCP   \n",
       "4       16.784508  81.076493  2022-09-10    Viswasarayi Kalavathi  YSRCP   \n",
       "...           ...        ...         ...                      ...    ...   \n",
       "276731  16.765315  80.926481  2022-08-05  gangula brijendra reddy  YSRCP   \n",
       "276732  16.765315  80.926481  2022-10-26  gangula brijendra reddy  YSRCP   \n",
       "276733  16.765315  80.926481  2023-02-16  gangula brijendra reddy  YSRCP   \n",
       "276734  16.765315  80.926481  2022-09-05  gangula brijendra reddy  YSRCP   \n",
       "276735  16.765315  80.926481  2023-02-16  gangula brijendra reddy  YSRCP   \n",
       "\n",
       "                   constituency  sentiment  view_count uploader  \n",
       "0         Viswasarayi Kalavathi  -0.286784      2800.0      TV9  \n",
       "1         Viswasarayi Kalavathi  -0.957865     34954.0   Sakshi  \n",
       "2         Viswasarayi Kalavathi   0.898837    143728.0      TV9  \n",
       "3         Viswasarayi Kalavathi   0.525788      1720.0      TV5  \n",
       "4         Viswasarayi Kalavathi  -0.074041       551.0      TV5  \n",
       "...                         ...        ...         ...      ...  \n",
       "276731  gangula brijendra reddy   0.495692     26021.0   Sakshi  \n",
       "276732  gangula brijendra reddy  -0.018102      2006.0      TV5  \n",
       "276733  gangula brijendra reddy   0.893092      1891.0      TV9  \n",
       "276734  gangula brijendra reddy  -0.045191       592.0      TV5  \n",
       "276735  gangula brijendra reddy  -0.641433      2895.0      TV9  \n",
       "\n",
       "[276736 rows x 9 columns]"
      ]
     },
     "execution_count": 316,
     "metadata": {},
     "output_type": "execute_result"
    }
   ],
   "source": [
    "df_folium_plot"
   ]
  },
  {
   "cell_type": "markdown",
   "metadata": {},
   "source": [
    "## Bubble chart"
   ]
  },
  {
   "cell_type": "code",
   "execution_count": 333,
   "metadata": {},
   "outputs": [
    {
     "data": {
      "application/vnd.plotly.v1+json": {
       "config": {
        "plotlyServerURL": "https://plot.ly"
       },
       "data": [
        {
         "hovertemplate": "<b>%{hovertext}</b><br><br>party=YSRCP<br>view_count=%{x}<br>sentiment=%{y}<br>area=%{marker.size}<extra></extra>",
         "hovertext": [
          "Vidadala Rajini",
          "Y S jagan mohan reddy",
          "K. V. Ushashri Charan",
          "Chinta Anuradha",
          "R K roja",
          "Kangati Sreedevi",
          "Ambati Rambabu",
          "Anam Ramanarayana Reddy",
          "Kurasala Kannababu"
         ],
         "legendgroup": "YSRCP",
         "marker": {
          "color": "#038d45",
          "size": [
           1618840.324436713,
           1400640.9651793756,
           783376.3363026294,
           758854.2382587976,
           690640.0812426822,
           625056.1355000841,
           539768.0221753921,
           422073.7680836224,
           410054.36816666665
          ],
          "sizemode": "area",
          "sizeref": 647.5361297746852,
          "symbol": "circle"
         },
         "mode": "markers",
         "name": "YSRCP",
         "orientation": "v",
         "showlegend": true,
         "type": "scatter",
         "x": [
          117417998,
          111885964,
          92184269,
          91212170,
          88392875,
          85501357,
          81420866,
          75011777,
          74292872
         ],
         "xaxis": "x",
         "y": [
          -0.006816369860859511,
          0.008545904639433267,
          -0.002926954809070441,
          -0.0034630171634491658,
          0.013350941217697278,
          -0.0005998076242708548,
          0.007049212311030015,
          -0.00515925936587286,
          0.006412673331741322
         ],
         "yaxis": "y"
        },
        {
         "hovertemplate": "<b>%{hovertext}</b><br><br>party=TDP<br>view_count=%{x}<br>sentiment=%{y}<br>area=%{marker.size}<extra></extra>",
         "hovertext": [
          "Kinjarapu Atchannaidu"
         ],
         "legendgroup": "TDP",
         "marker": {
          "color": "#ffff00",
          "size": [
           651322.0375429888
          ],
          "sizemode": "area",
          "sizeref": 647.5361297746852,
          "symbol": "circle"
         },
         "mode": "markers",
         "name": "TDP",
         "orientation": "v",
         "showlegend": true,
         "type": "scatter",
         "x": [
          86682599
         ],
         "xaxis": "x",
         "y": [
          -0.004784960493561417
         ],
         "yaxis": "y"
        }
       ],
       "layout": {
        "legend": {
         "itemsizing": "constant",
         "title": {
          "text": "party"
         },
         "tracegroupgap": 0
        },
        "margin": {
         "t": 60
        },
        "paper_bgcolor": "rgb(243, 243, 243)",
        "plot_bgcolor": "rgb(243, 243, 243)",
        "template": {
         "data": {
          "bar": [
           {
            "error_x": {
             "color": "#2a3f5f"
            },
            "error_y": {
             "color": "#2a3f5f"
            },
            "marker": {
             "line": {
              "color": "#E5ECF6",
              "width": 0.5
             },
             "pattern": {
              "fillmode": "overlay",
              "size": 10,
              "solidity": 0.2
             }
            },
            "type": "bar"
           }
          ],
          "barpolar": [
           {
            "marker": {
             "line": {
              "color": "#E5ECF6",
              "width": 0.5
             },
             "pattern": {
              "fillmode": "overlay",
              "size": 10,
              "solidity": 0.2
             }
            },
            "type": "barpolar"
           }
          ],
          "carpet": [
           {
            "aaxis": {
             "endlinecolor": "#2a3f5f",
             "gridcolor": "white",
             "linecolor": "white",
             "minorgridcolor": "white",
             "startlinecolor": "#2a3f5f"
            },
            "baxis": {
             "endlinecolor": "#2a3f5f",
             "gridcolor": "white",
             "linecolor": "white",
             "minorgridcolor": "white",
             "startlinecolor": "#2a3f5f"
            },
            "type": "carpet"
           }
          ],
          "choropleth": [
           {
            "colorbar": {
             "outlinewidth": 0,
             "ticks": ""
            },
            "type": "choropleth"
           }
          ],
          "contour": [
           {
            "colorbar": {
             "outlinewidth": 0,
             "ticks": ""
            },
            "colorscale": [
             [
              0,
              "#0d0887"
             ],
             [
              0.1111111111111111,
              "#46039f"
             ],
             [
              0.2222222222222222,
              "#7201a8"
             ],
             [
              0.3333333333333333,
              "#9c179e"
             ],
             [
              0.4444444444444444,
              "#bd3786"
             ],
             [
              0.5555555555555556,
              "#d8576b"
             ],
             [
              0.6666666666666666,
              "#ed7953"
             ],
             [
              0.7777777777777778,
              "#fb9f3a"
             ],
             [
              0.8888888888888888,
              "#fdca26"
             ],
             [
              1,
              "#f0f921"
             ]
            ],
            "type": "contour"
           }
          ],
          "contourcarpet": [
           {
            "colorbar": {
             "outlinewidth": 0,
             "ticks": ""
            },
            "type": "contourcarpet"
           }
          ],
          "heatmap": [
           {
            "colorbar": {
             "outlinewidth": 0,
             "ticks": ""
            },
            "colorscale": [
             [
              0,
              "#0d0887"
             ],
             [
              0.1111111111111111,
              "#46039f"
             ],
             [
              0.2222222222222222,
              "#7201a8"
             ],
             [
              0.3333333333333333,
              "#9c179e"
             ],
             [
              0.4444444444444444,
              "#bd3786"
             ],
             [
              0.5555555555555556,
              "#d8576b"
             ],
             [
              0.6666666666666666,
              "#ed7953"
             ],
             [
              0.7777777777777778,
              "#fb9f3a"
             ],
             [
              0.8888888888888888,
              "#fdca26"
             ],
             [
              1,
              "#f0f921"
             ]
            ],
            "type": "heatmap"
           }
          ],
          "heatmapgl": [
           {
            "colorbar": {
             "outlinewidth": 0,
             "ticks": ""
            },
            "colorscale": [
             [
              0,
              "#0d0887"
             ],
             [
              0.1111111111111111,
              "#46039f"
             ],
             [
              0.2222222222222222,
              "#7201a8"
             ],
             [
              0.3333333333333333,
              "#9c179e"
             ],
             [
              0.4444444444444444,
              "#bd3786"
             ],
             [
              0.5555555555555556,
              "#d8576b"
             ],
             [
              0.6666666666666666,
              "#ed7953"
             ],
             [
              0.7777777777777778,
              "#fb9f3a"
             ],
             [
              0.8888888888888888,
              "#fdca26"
             ],
             [
              1,
              "#f0f921"
             ]
            ],
            "type": "heatmapgl"
           }
          ],
          "histogram": [
           {
            "marker": {
             "pattern": {
              "fillmode": "overlay",
              "size": 10,
              "solidity": 0.2
             }
            },
            "type": "histogram"
           }
          ],
          "histogram2d": [
           {
            "colorbar": {
             "outlinewidth": 0,
             "ticks": ""
            },
            "colorscale": [
             [
              0,
              "#0d0887"
             ],
             [
              0.1111111111111111,
              "#46039f"
             ],
             [
              0.2222222222222222,
              "#7201a8"
             ],
             [
              0.3333333333333333,
              "#9c179e"
             ],
             [
              0.4444444444444444,
              "#bd3786"
             ],
             [
              0.5555555555555556,
              "#d8576b"
             ],
             [
              0.6666666666666666,
              "#ed7953"
             ],
             [
              0.7777777777777778,
              "#fb9f3a"
             ],
             [
              0.8888888888888888,
              "#fdca26"
             ],
             [
              1,
              "#f0f921"
             ]
            ],
            "type": "histogram2d"
           }
          ],
          "histogram2dcontour": [
           {
            "colorbar": {
             "outlinewidth": 0,
             "ticks": ""
            },
            "colorscale": [
             [
              0,
              "#0d0887"
             ],
             [
              0.1111111111111111,
              "#46039f"
             ],
             [
              0.2222222222222222,
              "#7201a8"
             ],
             [
              0.3333333333333333,
              "#9c179e"
             ],
             [
              0.4444444444444444,
              "#bd3786"
             ],
             [
              0.5555555555555556,
              "#d8576b"
             ],
             [
              0.6666666666666666,
              "#ed7953"
             ],
             [
              0.7777777777777778,
              "#fb9f3a"
             ],
             [
              0.8888888888888888,
              "#fdca26"
             ],
             [
              1,
              "#f0f921"
             ]
            ],
            "type": "histogram2dcontour"
           }
          ],
          "mesh3d": [
           {
            "colorbar": {
             "outlinewidth": 0,
             "ticks": ""
            },
            "type": "mesh3d"
           }
          ],
          "parcoords": [
           {
            "line": {
             "colorbar": {
              "outlinewidth": 0,
              "ticks": ""
             }
            },
            "type": "parcoords"
           }
          ],
          "pie": [
           {
            "automargin": true,
            "type": "pie"
           }
          ],
          "scatter": [
           {
            "fillpattern": {
             "fillmode": "overlay",
             "size": 10,
             "solidity": 0.2
            },
            "type": "scatter"
           }
          ],
          "scatter3d": [
           {
            "line": {
             "colorbar": {
              "outlinewidth": 0,
              "ticks": ""
             }
            },
            "marker": {
             "colorbar": {
              "outlinewidth": 0,
              "ticks": ""
             }
            },
            "type": "scatter3d"
           }
          ],
          "scattercarpet": [
           {
            "marker": {
             "colorbar": {
              "outlinewidth": 0,
              "ticks": ""
             }
            },
            "type": "scattercarpet"
           }
          ],
          "scattergeo": [
           {
            "marker": {
             "colorbar": {
              "outlinewidth": 0,
              "ticks": ""
             }
            },
            "type": "scattergeo"
           }
          ],
          "scattergl": [
           {
            "marker": {
             "colorbar": {
              "outlinewidth": 0,
              "ticks": ""
             }
            },
            "type": "scattergl"
           }
          ],
          "scattermapbox": [
           {
            "marker": {
             "colorbar": {
              "outlinewidth": 0,
              "ticks": ""
             }
            },
            "type": "scattermapbox"
           }
          ],
          "scatterpolar": [
           {
            "marker": {
             "colorbar": {
              "outlinewidth": 0,
              "ticks": ""
             }
            },
            "type": "scatterpolar"
           }
          ],
          "scatterpolargl": [
           {
            "marker": {
             "colorbar": {
              "outlinewidth": 0,
              "ticks": ""
             }
            },
            "type": "scatterpolargl"
           }
          ],
          "scatterternary": [
           {
            "marker": {
             "colorbar": {
              "outlinewidth": 0,
              "ticks": ""
             }
            },
            "type": "scatterternary"
           }
          ],
          "surface": [
           {
            "colorbar": {
             "outlinewidth": 0,
             "ticks": ""
            },
            "colorscale": [
             [
              0,
              "#0d0887"
             ],
             [
              0.1111111111111111,
              "#46039f"
             ],
             [
              0.2222222222222222,
              "#7201a8"
             ],
             [
              0.3333333333333333,
              "#9c179e"
             ],
             [
              0.4444444444444444,
              "#bd3786"
             ],
             [
              0.5555555555555556,
              "#d8576b"
             ],
             [
              0.6666666666666666,
              "#ed7953"
             ],
             [
              0.7777777777777778,
              "#fb9f3a"
             ],
             [
              0.8888888888888888,
              "#fdca26"
             ],
             [
              1,
              "#f0f921"
             ]
            ],
            "type": "surface"
           }
          ],
          "table": [
           {
            "cells": {
             "fill": {
              "color": "#EBF0F8"
             },
             "line": {
              "color": "white"
             }
            },
            "header": {
             "fill": {
              "color": "#C8D4E3"
             },
             "line": {
              "color": "white"
             }
            },
            "type": "table"
           }
          ]
         },
         "layout": {
          "annotationdefaults": {
           "arrowcolor": "#2a3f5f",
           "arrowhead": 0,
           "arrowwidth": 1
          },
          "autotypenumbers": "strict",
          "coloraxis": {
           "colorbar": {
            "outlinewidth": 0,
            "ticks": ""
           }
          },
          "colorscale": {
           "diverging": [
            [
             0,
             "#8e0152"
            ],
            [
             0.1,
             "#c51b7d"
            ],
            [
             0.2,
             "#de77ae"
            ],
            [
             0.3,
             "#f1b6da"
            ],
            [
             0.4,
             "#fde0ef"
            ],
            [
             0.5,
             "#f7f7f7"
            ],
            [
             0.6,
             "#e6f5d0"
            ],
            [
             0.7,
             "#b8e186"
            ],
            [
             0.8,
             "#7fbc41"
            ],
            [
             0.9,
             "#4d9221"
            ],
            [
             1,
             "#276419"
            ]
           ],
           "sequential": [
            [
             0,
             "#0d0887"
            ],
            [
             0.1111111111111111,
             "#46039f"
            ],
            [
             0.2222222222222222,
             "#7201a8"
            ],
            [
             0.3333333333333333,
             "#9c179e"
            ],
            [
             0.4444444444444444,
             "#bd3786"
            ],
            [
             0.5555555555555556,
             "#d8576b"
            ],
            [
             0.6666666666666666,
             "#ed7953"
            ],
            [
             0.7777777777777778,
             "#fb9f3a"
            ],
            [
             0.8888888888888888,
             "#fdca26"
            ],
            [
             1,
             "#f0f921"
            ]
           ],
           "sequentialminus": [
            [
             0,
             "#0d0887"
            ],
            [
             0.1111111111111111,
             "#46039f"
            ],
            [
             0.2222222222222222,
             "#7201a8"
            ],
            [
             0.3333333333333333,
             "#9c179e"
            ],
            [
             0.4444444444444444,
             "#bd3786"
            ],
            [
             0.5555555555555556,
             "#d8576b"
            ],
            [
             0.6666666666666666,
             "#ed7953"
            ],
            [
             0.7777777777777778,
             "#fb9f3a"
            ],
            [
             0.8888888888888888,
             "#fdca26"
            ],
            [
             1,
             "#f0f921"
            ]
           ]
          },
          "colorway": [
           "#636efa",
           "#EF553B",
           "#00cc96",
           "#ab63fa",
           "#FFA15A",
           "#19d3f3",
           "#FF6692",
           "#B6E880",
           "#FF97FF",
           "#FECB52"
          ],
          "font": {
           "color": "#2a3f5f"
          },
          "geo": {
           "bgcolor": "white",
           "lakecolor": "white",
           "landcolor": "#E5ECF6",
           "showlakes": true,
           "showland": true,
           "subunitcolor": "white"
          },
          "hoverlabel": {
           "align": "left"
          },
          "hovermode": "closest",
          "mapbox": {
           "style": "light"
          },
          "paper_bgcolor": "white",
          "plot_bgcolor": "#E5ECF6",
          "polar": {
           "angularaxis": {
            "gridcolor": "white",
            "linecolor": "white",
            "ticks": ""
           },
           "bgcolor": "#E5ECF6",
           "radialaxis": {
            "gridcolor": "white",
            "linecolor": "white",
            "ticks": ""
           }
          },
          "scene": {
           "xaxis": {
            "backgroundcolor": "#E5ECF6",
            "gridcolor": "white",
            "gridwidth": 2,
            "linecolor": "white",
            "showbackground": true,
            "ticks": "",
            "zerolinecolor": "white"
           },
           "yaxis": {
            "backgroundcolor": "#E5ECF6",
            "gridcolor": "white",
            "gridwidth": 2,
            "linecolor": "white",
            "showbackground": true,
            "ticks": "",
            "zerolinecolor": "white"
           },
           "zaxis": {
            "backgroundcolor": "#E5ECF6",
            "gridcolor": "white",
            "gridwidth": 2,
            "linecolor": "white",
            "showbackground": true,
            "ticks": "",
            "zerolinecolor": "white"
           }
          },
          "shapedefaults": {
           "line": {
            "color": "#2a3f5f"
           }
          },
          "ternary": {
           "aaxis": {
            "gridcolor": "white",
            "linecolor": "white",
            "ticks": ""
           },
           "baxis": {
            "gridcolor": "white",
            "linecolor": "white",
            "ticks": ""
           },
           "bgcolor": "#E5ECF6",
           "caxis": {
            "gridcolor": "white",
            "linecolor": "white",
            "ticks": ""
           }
          },
          "title": {
           "x": 0.05
          },
          "xaxis": {
           "automargin": true,
           "gridcolor": "white",
           "linecolor": "white",
           "ticks": "",
           "title": {
            "standoff": 15
           },
           "zerolinecolor": "white",
           "zerolinewidth": 2
          },
          "yaxis": {
           "automargin": true,
           "gridcolor": "white",
           "linecolor": "white",
           "ticks": "",
           "title": {
            "standoff": 15
           },
           "zerolinecolor": "white",
           "zerolinewidth": 2
          }
         }
        },
        "title": {
         "text": "Constituency Graph"
        },
        "xaxis": {
         "anchor": "y",
         "domain": [
          0,
          1
         ],
         "gridcolor": "white",
         "gridwidth": 2,
         "title": {
          "text": "Views"
         },
         "type": "log"
        },
        "yaxis": {
         "anchor": "x",
         "domain": [
          0,
          1
         ],
         "gridcolor": "white",
         "gridwidth": 2,
         "title": {
          "text": "Sentiment"
         }
        }
       }
      }
     },
     "metadata": {},
     "output_type": "display_data"
    },
    {
     "data": {
      "application/vnd.plotly.v1+json": {
       "config": {
        "plotlyServerURL": "https://plot.ly"
       },
       "data": [
        {
         "alignmentgroup": "True",
         "hovertemplate": "party=YSRCP<br>constituency=%{x}<br>view_count=%{y}<extra></extra>",
         "legendgroup": "YSRCP",
         "marker": {
          "color": "#038d45",
          "line": {
           "width": 1.5
          },
          "pattern": {
           "shape": ""
          }
         },
         "name": "YSRCP",
         "offsetgroup": "YSRCP",
         "opacity": 0.6,
         "orientation": "v",
         "showlegend": true,
         "textposition": "auto",
         "texttemplate": "%{y:.2s}",
         "type": "bar",
         "x": [
          "Vidadala Rajini",
          "Y S jagan mohan reddy",
          "K. V. Ushashri Charan",
          "Chinta Anuradha",
          "R K roja",
          "Kangati Sreedevi",
          "Ambati Rambabu",
          "Anam Ramanarayana Reddy",
          "Kurasala Kannababu"
         ],
         "xaxis": "x",
         "y": [
          117417998,
          111885964,
          92184269,
          91212170,
          88392875,
          85501357,
          81420866,
          75011777,
          74292872
         ],
         "yaxis": "y"
        },
        {
         "alignmentgroup": "True",
         "hovertemplate": "party=TDP<br>constituency=%{x}<br>view_count=%{y}<extra></extra>",
         "legendgroup": "TDP",
         "marker": {
          "color": "#ffff00",
          "line": {
           "width": 1.5
          },
          "pattern": {
           "shape": ""
          }
         },
         "name": "TDP",
         "offsetgroup": "TDP",
         "opacity": 0.6,
         "orientation": "v",
         "showlegend": true,
         "textposition": "auto",
         "texttemplate": "%{y:.2s}",
         "type": "bar",
         "x": [
          "Kinjarapu Atchannaidu"
         ],
         "xaxis": "x",
         "y": [
          86682599
         ],
         "yaxis": "y"
        }
       ],
       "layout": {
        "barmode": "relative",
        "legend": {
         "title": {
          "text": "party"
         },
         "tracegroupgap": 0
        },
        "margin": {
         "t": 60
        },
        "template": {
         "data": {
          "bar": [
           {
            "error_x": {
             "color": "#2a3f5f"
            },
            "error_y": {
             "color": "#2a3f5f"
            },
            "marker": {
             "line": {
              "color": "#E5ECF6",
              "width": 0.5
             },
             "pattern": {
              "fillmode": "overlay",
              "size": 10,
              "solidity": 0.2
             }
            },
            "type": "bar"
           }
          ],
          "barpolar": [
           {
            "marker": {
             "line": {
              "color": "#E5ECF6",
              "width": 0.5
             },
             "pattern": {
              "fillmode": "overlay",
              "size": 10,
              "solidity": 0.2
             }
            },
            "type": "barpolar"
           }
          ],
          "carpet": [
           {
            "aaxis": {
             "endlinecolor": "#2a3f5f",
             "gridcolor": "white",
             "linecolor": "white",
             "minorgridcolor": "white",
             "startlinecolor": "#2a3f5f"
            },
            "baxis": {
             "endlinecolor": "#2a3f5f",
             "gridcolor": "white",
             "linecolor": "white",
             "minorgridcolor": "white",
             "startlinecolor": "#2a3f5f"
            },
            "type": "carpet"
           }
          ],
          "choropleth": [
           {
            "colorbar": {
             "outlinewidth": 0,
             "ticks": ""
            },
            "type": "choropleth"
           }
          ],
          "contour": [
           {
            "colorbar": {
             "outlinewidth": 0,
             "ticks": ""
            },
            "colorscale": [
             [
              0,
              "#0d0887"
             ],
             [
              0.1111111111111111,
              "#46039f"
             ],
             [
              0.2222222222222222,
              "#7201a8"
             ],
             [
              0.3333333333333333,
              "#9c179e"
             ],
             [
              0.4444444444444444,
              "#bd3786"
             ],
             [
              0.5555555555555556,
              "#d8576b"
             ],
             [
              0.6666666666666666,
              "#ed7953"
             ],
             [
              0.7777777777777778,
              "#fb9f3a"
             ],
             [
              0.8888888888888888,
              "#fdca26"
             ],
             [
              1,
              "#f0f921"
             ]
            ],
            "type": "contour"
           }
          ],
          "contourcarpet": [
           {
            "colorbar": {
             "outlinewidth": 0,
             "ticks": ""
            },
            "type": "contourcarpet"
           }
          ],
          "heatmap": [
           {
            "colorbar": {
             "outlinewidth": 0,
             "ticks": ""
            },
            "colorscale": [
             [
              0,
              "#0d0887"
             ],
             [
              0.1111111111111111,
              "#46039f"
             ],
             [
              0.2222222222222222,
              "#7201a8"
             ],
             [
              0.3333333333333333,
              "#9c179e"
             ],
             [
              0.4444444444444444,
              "#bd3786"
             ],
             [
              0.5555555555555556,
              "#d8576b"
             ],
             [
              0.6666666666666666,
              "#ed7953"
             ],
             [
              0.7777777777777778,
              "#fb9f3a"
             ],
             [
              0.8888888888888888,
              "#fdca26"
             ],
             [
              1,
              "#f0f921"
             ]
            ],
            "type": "heatmap"
           }
          ],
          "heatmapgl": [
           {
            "colorbar": {
             "outlinewidth": 0,
             "ticks": ""
            },
            "colorscale": [
             [
              0,
              "#0d0887"
             ],
             [
              0.1111111111111111,
              "#46039f"
             ],
             [
              0.2222222222222222,
              "#7201a8"
             ],
             [
              0.3333333333333333,
              "#9c179e"
             ],
             [
              0.4444444444444444,
              "#bd3786"
             ],
             [
              0.5555555555555556,
              "#d8576b"
             ],
             [
              0.6666666666666666,
              "#ed7953"
             ],
             [
              0.7777777777777778,
              "#fb9f3a"
             ],
             [
              0.8888888888888888,
              "#fdca26"
             ],
             [
              1,
              "#f0f921"
             ]
            ],
            "type": "heatmapgl"
           }
          ],
          "histogram": [
           {
            "marker": {
             "pattern": {
              "fillmode": "overlay",
              "size": 10,
              "solidity": 0.2
             }
            },
            "type": "histogram"
           }
          ],
          "histogram2d": [
           {
            "colorbar": {
             "outlinewidth": 0,
             "ticks": ""
            },
            "colorscale": [
             [
              0,
              "#0d0887"
             ],
             [
              0.1111111111111111,
              "#46039f"
             ],
             [
              0.2222222222222222,
              "#7201a8"
             ],
             [
              0.3333333333333333,
              "#9c179e"
             ],
             [
              0.4444444444444444,
              "#bd3786"
             ],
             [
              0.5555555555555556,
              "#d8576b"
             ],
             [
              0.6666666666666666,
              "#ed7953"
             ],
             [
              0.7777777777777778,
              "#fb9f3a"
             ],
             [
              0.8888888888888888,
              "#fdca26"
             ],
             [
              1,
              "#f0f921"
             ]
            ],
            "type": "histogram2d"
           }
          ],
          "histogram2dcontour": [
           {
            "colorbar": {
             "outlinewidth": 0,
             "ticks": ""
            },
            "colorscale": [
             [
              0,
              "#0d0887"
             ],
             [
              0.1111111111111111,
              "#46039f"
             ],
             [
              0.2222222222222222,
              "#7201a8"
             ],
             [
              0.3333333333333333,
              "#9c179e"
             ],
             [
              0.4444444444444444,
              "#bd3786"
             ],
             [
              0.5555555555555556,
              "#d8576b"
             ],
             [
              0.6666666666666666,
              "#ed7953"
             ],
             [
              0.7777777777777778,
              "#fb9f3a"
             ],
             [
              0.8888888888888888,
              "#fdca26"
             ],
             [
              1,
              "#f0f921"
             ]
            ],
            "type": "histogram2dcontour"
           }
          ],
          "mesh3d": [
           {
            "colorbar": {
             "outlinewidth": 0,
             "ticks": ""
            },
            "type": "mesh3d"
           }
          ],
          "parcoords": [
           {
            "line": {
             "colorbar": {
              "outlinewidth": 0,
              "ticks": ""
             }
            },
            "type": "parcoords"
           }
          ],
          "pie": [
           {
            "automargin": true,
            "type": "pie"
           }
          ],
          "scatter": [
           {
            "fillpattern": {
             "fillmode": "overlay",
             "size": 10,
             "solidity": 0.2
            },
            "type": "scatter"
           }
          ],
          "scatter3d": [
           {
            "line": {
             "colorbar": {
              "outlinewidth": 0,
              "ticks": ""
             }
            },
            "marker": {
             "colorbar": {
              "outlinewidth": 0,
              "ticks": ""
             }
            },
            "type": "scatter3d"
           }
          ],
          "scattercarpet": [
           {
            "marker": {
             "colorbar": {
              "outlinewidth": 0,
              "ticks": ""
             }
            },
            "type": "scattercarpet"
           }
          ],
          "scattergeo": [
           {
            "marker": {
             "colorbar": {
              "outlinewidth": 0,
              "ticks": ""
             }
            },
            "type": "scattergeo"
           }
          ],
          "scattergl": [
           {
            "marker": {
             "colorbar": {
              "outlinewidth": 0,
              "ticks": ""
             }
            },
            "type": "scattergl"
           }
          ],
          "scattermapbox": [
           {
            "marker": {
             "colorbar": {
              "outlinewidth": 0,
              "ticks": ""
             }
            },
            "type": "scattermapbox"
           }
          ],
          "scatterpolar": [
           {
            "marker": {
             "colorbar": {
              "outlinewidth": 0,
              "ticks": ""
             }
            },
            "type": "scatterpolar"
           }
          ],
          "scatterpolargl": [
           {
            "marker": {
             "colorbar": {
              "outlinewidth": 0,
              "ticks": ""
             }
            },
            "type": "scatterpolargl"
           }
          ],
          "scatterternary": [
           {
            "marker": {
             "colorbar": {
              "outlinewidth": 0,
              "ticks": ""
             }
            },
            "type": "scatterternary"
           }
          ],
          "surface": [
           {
            "colorbar": {
             "outlinewidth": 0,
             "ticks": ""
            },
            "colorscale": [
             [
              0,
              "#0d0887"
             ],
             [
              0.1111111111111111,
              "#46039f"
             ],
             [
              0.2222222222222222,
              "#7201a8"
             ],
             [
              0.3333333333333333,
              "#9c179e"
             ],
             [
              0.4444444444444444,
              "#bd3786"
             ],
             [
              0.5555555555555556,
              "#d8576b"
             ],
             [
              0.6666666666666666,
              "#ed7953"
             ],
             [
              0.7777777777777778,
              "#fb9f3a"
             ],
             [
              0.8888888888888888,
              "#fdca26"
             ],
             [
              1,
              "#f0f921"
             ]
            ],
            "type": "surface"
           }
          ],
          "table": [
           {
            "cells": {
             "fill": {
              "color": "#EBF0F8"
             },
             "line": {
              "color": "white"
             }
            },
            "header": {
             "fill": {
              "color": "#C8D4E3"
             },
             "line": {
              "color": "white"
             }
            },
            "type": "table"
           }
          ]
         },
         "layout": {
          "annotationdefaults": {
           "arrowcolor": "#2a3f5f",
           "arrowhead": 0,
           "arrowwidth": 1
          },
          "autotypenumbers": "strict",
          "coloraxis": {
           "colorbar": {
            "outlinewidth": 0,
            "ticks": ""
           }
          },
          "colorscale": {
           "diverging": [
            [
             0,
             "#8e0152"
            ],
            [
             0.1,
             "#c51b7d"
            ],
            [
             0.2,
             "#de77ae"
            ],
            [
             0.3,
             "#f1b6da"
            ],
            [
             0.4,
             "#fde0ef"
            ],
            [
             0.5,
             "#f7f7f7"
            ],
            [
             0.6,
             "#e6f5d0"
            ],
            [
             0.7,
             "#b8e186"
            ],
            [
             0.8,
             "#7fbc41"
            ],
            [
             0.9,
             "#4d9221"
            ],
            [
             1,
             "#276419"
            ]
           ],
           "sequential": [
            [
             0,
             "#0d0887"
            ],
            [
             0.1111111111111111,
             "#46039f"
            ],
            [
             0.2222222222222222,
             "#7201a8"
            ],
            [
             0.3333333333333333,
             "#9c179e"
            ],
            [
             0.4444444444444444,
             "#bd3786"
            ],
            [
             0.5555555555555556,
             "#d8576b"
            ],
            [
             0.6666666666666666,
             "#ed7953"
            ],
            [
             0.7777777777777778,
             "#fb9f3a"
            ],
            [
             0.8888888888888888,
             "#fdca26"
            ],
            [
             1,
             "#f0f921"
            ]
           ],
           "sequentialminus": [
            [
             0,
             "#0d0887"
            ],
            [
             0.1111111111111111,
             "#46039f"
            ],
            [
             0.2222222222222222,
             "#7201a8"
            ],
            [
             0.3333333333333333,
             "#9c179e"
            ],
            [
             0.4444444444444444,
             "#bd3786"
            ],
            [
             0.5555555555555556,
             "#d8576b"
            ],
            [
             0.6666666666666666,
             "#ed7953"
            ],
            [
             0.7777777777777778,
             "#fb9f3a"
            ],
            [
             0.8888888888888888,
             "#fdca26"
            ],
            [
             1,
             "#f0f921"
            ]
           ]
          },
          "colorway": [
           "#636efa",
           "#EF553B",
           "#00cc96",
           "#ab63fa",
           "#FFA15A",
           "#19d3f3",
           "#FF6692",
           "#B6E880",
           "#FF97FF",
           "#FECB52"
          ],
          "font": {
           "color": "#2a3f5f"
          },
          "geo": {
           "bgcolor": "white",
           "lakecolor": "white",
           "landcolor": "#E5ECF6",
           "showlakes": true,
           "showland": true,
           "subunitcolor": "white"
          },
          "hoverlabel": {
           "align": "left"
          },
          "hovermode": "closest",
          "mapbox": {
           "style": "light"
          },
          "paper_bgcolor": "white",
          "plot_bgcolor": "#E5ECF6",
          "polar": {
           "angularaxis": {
            "gridcolor": "white",
            "linecolor": "white",
            "ticks": ""
           },
           "bgcolor": "#E5ECF6",
           "radialaxis": {
            "gridcolor": "white",
            "linecolor": "white",
            "ticks": ""
           }
          },
          "scene": {
           "xaxis": {
            "backgroundcolor": "#E5ECF6",
            "gridcolor": "white",
            "gridwidth": 2,
            "linecolor": "white",
            "showbackground": true,
            "ticks": "",
            "zerolinecolor": "white"
           },
           "yaxis": {
            "backgroundcolor": "#E5ECF6",
            "gridcolor": "white",
            "gridwidth": 2,
            "linecolor": "white",
            "showbackground": true,
            "ticks": "",
            "zerolinecolor": "white"
           },
           "zaxis": {
            "backgroundcolor": "#E5ECF6",
            "gridcolor": "white",
            "gridwidth": 2,
            "linecolor": "white",
            "showbackground": true,
            "ticks": "",
            "zerolinecolor": "white"
           }
          },
          "shapedefaults": {
           "line": {
            "color": "#2a3f5f"
           }
          },
          "ternary": {
           "aaxis": {
            "gridcolor": "white",
            "linecolor": "white",
            "ticks": ""
           },
           "baxis": {
            "gridcolor": "white",
            "linecolor": "white",
            "ticks": ""
           },
           "bgcolor": "#E5ECF6",
           "caxis": {
            "gridcolor": "white",
            "linecolor": "white",
            "ticks": ""
           }
          },
          "title": {
           "x": 0.05
          },
          "xaxis": {
           "automargin": true,
           "gridcolor": "white",
           "linecolor": "white",
           "ticks": "",
           "title": {
            "standoff": 15
           },
           "zerolinecolor": "white",
           "zerolinewidth": 2
          },
          "yaxis": {
           "automargin": true,
           "gridcolor": "white",
           "linecolor": "white",
           "ticks": "",
           "title": {
            "standoff": 15
           },
           "zerolinecolor": "white",
           "zerolinewidth": 2
          }
         }
        },
        "title": {
         "text": "Constituency Graph"
        },
        "xaxis": {
         "anchor": "y",
         "domain": [
          0,
          1
         ],
         "title": {
          "text": "Constituency"
         }
        },
        "yaxis": {
         "anchor": "x",
         "domain": [
          0,
          1
         ],
         "title": {
          "text": "Views"
         },
         "type": "log"
        }
       }
      }
     },
     "metadata": {},
     "output_type": "display_data"
    },
    {
     "data": {
      "application/vnd.plotly.v1+json": {
       "config": {
        "plotlyServerURL": "https://plot.ly"
       },
       "data": [
        {
         "branchvalues": "total",
         "customdata": [
          [
           -0.004784960493561417,
           "TDP"
          ],
          [
           0.007049212311030015,
           "YSRCP"
          ],
          [
           -0.00515925936587286,
           "YSRCP"
          ],
          [
           -0.0034630171634491658,
           "YSRCP"
          ],
          [
           -0.002926954809070441,
           "YSRCP"
          ],
          [
           -0.0005998076242708548,
           "YSRCP"
          ],
          [
           0.006412673331741322,
           "YSRCP"
          ],
          [
           0.013350941217697278,
           "YSRCP"
          ],
          [
           -0.006816369860859511,
           "YSRCP"
          ],
          [
           0.008545904639433267,
           "YSRCP"
          ],
          [
           -0.004784960493561417,
           "TDP"
          ],
          [
           "(?)",
           "YSRCP"
          ],
          [
           "(?)",
           "(?)"
          ]
         ],
         "domain": {
          "x": [
           0,
           1
          ],
          "y": [
           0,
           1
          ]
         },
         "hovertemplate": "labels=%{label}<br>view_count=%{value}<br>parent=%{parent}<br>id=%{id}<br>sentiment=%{customdata[0]}<br>party=%{customdata[1]}<extra></extra>",
         "ids": [
          "Parties/TDP/Kinjarapu Atchannaidu",
          "Parties/YSRCP/Ambati Rambabu",
          "Parties/YSRCP/Anam Ramanarayana Reddy",
          "Parties/YSRCP/Chinta Anuradha",
          "Parties/YSRCP/K. V. Ushashri Charan",
          "Parties/YSRCP/Kangati Sreedevi",
          "Parties/YSRCP/Kurasala Kannababu",
          "Parties/YSRCP/R K roja",
          "Parties/YSRCP/Vidadala Rajini",
          "Parties/YSRCP/Y S jagan mohan reddy",
          "Parties/TDP",
          "Parties/YSRCP",
          "Parties"
         ],
         "labels": [
          "Kinjarapu Atchannaidu",
          "Ambati Rambabu",
          "Anam Ramanarayana Reddy",
          "Chinta Anuradha",
          "K. V. Ushashri Charan",
          "Kangati Sreedevi",
          "Kurasala Kannababu",
          "R K roja",
          "Vidadala Rajini",
          "Y S jagan mohan reddy",
          "TDP",
          "YSRCP",
          "Parties"
         ],
         "marker": {
          "colors": [
           "#ffff00",
           "#038d45",
           "#038d45",
           "#038d45",
           "#038d45",
           "#038d45",
           "#038d45",
           "#038d45",
           "#038d45",
           "#038d45",
           "#ffff00",
           "#038d45",
           "#ab63fa"
          ],
          "cornerradius": 5
         },
         "name": "",
         "parents": [
          "Parties/TDP",
          "Parties/YSRCP",
          "Parties/YSRCP",
          "Parties/YSRCP",
          "Parties/YSRCP",
          "Parties/YSRCP",
          "Parties/YSRCP",
          "Parties/YSRCP",
          "Parties/YSRCP",
          "Parties/YSRCP",
          "Parties",
          "Parties",
          ""
         ],
         "type": "treemap",
         "values": [
          86682599,
          81420866,
          75011777,
          91212170,
          92184269,
          85501357,
          74292872,
          88392875,
          117417998,
          111885964,
          86682599,
          817320148,
          904002747
         ]
        }
       ],
       "layout": {
        "legend": {
         "tracegroupgap": 0
        },
        "margin": {
         "b": 25,
         "l": 25,
         "r": 25,
         "t": 50
        },
        "template": {
         "data": {
          "bar": [
           {
            "error_x": {
             "color": "#2a3f5f"
            },
            "error_y": {
             "color": "#2a3f5f"
            },
            "marker": {
             "line": {
              "color": "#E5ECF6",
              "width": 0.5
             },
             "pattern": {
              "fillmode": "overlay",
              "size": 10,
              "solidity": 0.2
             }
            },
            "type": "bar"
           }
          ],
          "barpolar": [
           {
            "marker": {
             "line": {
              "color": "#E5ECF6",
              "width": 0.5
             },
             "pattern": {
              "fillmode": "overlay",
              "size": 10,
              "solidity": 0.2
             }
            },
            "type": "barpolar"
           }
          ],
          "carpet": [
           {
            "aaxis": {
             "endlinecolor": "#2a3f5f",
             "gridcolor": "white",
             "linecolor": "white",
             "minorgridcolor": "white",
             "startlinecolor": "#2a3f5f"
            },
            "baxis": {
             "endlinecolor": "#2a3f5f",
             "gridcolor": "white",
             "linecolor": "white",
             "minorgridcolor": "white",
             "startlinecolor": "#2a3f5f"
            },
            "type": "carpet"
           }
          ],
          "choropleth": [
           {
            "colorbar": {
             "outlinewidth": 0,
             "ticks": ""
            },
            "type": "choropleth"
           }
          ],
          "contour": [
           {
            "colorbar": {
             "outlinewidth": 0,
             "ticks": ""
            },
            "colorscale": [
             [
              0,
              "#0d0887"
             ],
             [
              0.1111111111111111,
              "#46039f"
             ],
             [
              0.2222222222222222,
              "#7201a8"
             ],
             [
              0.3333333333333333,
              "#9c179e"
             ],
             [
              0.4444444444444444,
              "#bd3786"
             ],
             [
              0.5555555555555556,
              "#d8576b"
             ],
             [
              0.6666666666666666,
              "#ed7953"
             ],
             [
              0.7777777777777778,
              "#fb9f3a"
             ],
             [
              0.8888888888888888,
              "#fdca26"
             ],
             [
              1,
              "#f0f921"
             ]
            ],
            "type": "contour"
           }
          ],
          "contourcarpet": [
           {
            "colorbar": {
             "outlinewidth": 0,
             "ticks": ""
            },
            "type": "contourcarpet"
           }
          ],
          "heatmap": [
           {
            "colorbar": {
             "outlinewidth": 0,
             "ticks": ""
            },
            "colorscale": [
             [
              0,
              "#0d0887"
             ],
             [
              0.1111111111111111,
              "#46039f"
             ],
             [
              0.2222222222222222,
              "#7201a8"
             ],
             [
              0.3333333333333333,
              "#9c179e"
             ],
             [
              0.4444444444444444,
              "#bd3786"
             ],
             [
              0.5555555555555556,
              "#d8576b"
             ],
             [
              0.6666666666666666,
              "#ed7953"
             ],
             [
              0.7777777777777778,
              "#fb9f3a"
             ],
             [
              0.8888888888888888,
              "#fdca26"
             ],
             [
              1,
              "#f0f921"
             ]
            ],
            "type": "heatmap"
           }
          ],
          "heatmapgl": [
           {
            "colorbar": {
             "outlinewidth": 0,
             "ticks": ""
            },
            "colorscale": [
             [
              0,
              "#0d0887"
             ],
             [
              0.1111111111111111,
              "#46039f"
             ],
             [
              0.2222222222222222,
              "#7201a8"
             ],
             [
              0.3333333333333333,
              "#9c179e"
             ],
             [
              0.4444444444444444,
              "#bd3786"
             ],
             [
              0.5555555555555556,
              "#d8576b"
             ],
             [
              0.6666666666666666,
              "#ed7953"
             ],
             [
              0.7777777777777778,
              "#fb9f3a"
             ],
             [
              0.8888888888888888,
              "#fdca26"
             ],
             [
              1,
              "#f0f921"
             ]
            ],
            "type": "heatmapgl"
           }
          ],
          "histogram": [
           {
            "marker": {
             "pattern": {
              "fillmode": "overlay",
              "size": 10,
              "solidity": 0.2
             }
            },
            "type": "histogram"
           }
          ],
          "histogram2d": [
           {
            "colorbar": {
             "outlinewidth": 0,
             "ticks": ""
            },
            "colorscale": [
             [
              0,
              "#0d0887"
             ],
             [
              0.1111111111111111,
              "#46039f"
             ],
             [
              0.2222222222222222,
              "#7201a8"
             ],
             [
              0.3333333333333333,
              "#9c179e"
             ],
             [
              0.4444444444444444,
              "#bd3786"
             ],
             [
              0.5555555555555556,
              "#d8576b"
             ],
             [
              0.6666666666666666,
              "#ed7953"
             ],
             [
              0.7777777777777778,
              "#fb9f3a"
             ],
             [
              0.8888888888888888,
              "#fdca26"
             ],
             [
              1,
              "#f0f921"
             ]
            ],
            "type": "histogram2d"
           }
          ],
          "histogram2dcontour": [
           {
            "colorbar": {
             "outlinewidth": 0,
             "ticks": ""
            },
            "colorscale": [
             [
              0,
              "#0d0887"
             ],
             [
              0.1111111111111111,
              "#46039f"
             ],
             [
              0.2222222222222222,
              "#7201a8"
             ],
             [
              0.3333333333333333,
              "#9c179e"
             ],
             [
              0.4444444444444444,
              "#bd3786"
             ],
             [
              0.5555555555555556,
              "#d8576b"
             ],
             [
              0.6666666666666666,
              "#ed7953"
             ],
             [
              0.7777777777777778,
              "#fb9f3a"
             ],
             [
              0.8888888888888888,
              "#fdca26"
             ],
             [
              1,
              "#f0f921"
             ]
            ],
            "type": "histogram2dcontour"
           }
          ],
          "mesh3d": [
           {
            "colorbar": {
             "outlinewidth": 0,
             "ticks": ""
            },
            "type": "mesh3d"
           }
          ],
          "parcoords": [
           {
            "line": {
             "colorbar": {
              "outlinewidth": 0,
              "ticks": ""
             }
            },
            "type": "parcoords"
           }
          ],
          "pie": [
           {
            "automargin": true,
            "type": "pie"
           }
          ],
          "scatter": [
           {
            "fillpattern": {
             "fillmode": "overlay",
             "size": 10,
             "solidity": 0.2
            },
            "type": "scatter"
           }
          ],
          "scatter3d": [
           {
            "line": {
             "colorbar": {
              "outlinewidth": 0,
              "ticks": ""
             }
            },
            "marker": {
             "colorbar": {
              "outlinewidth": 0,
              "ticks": ""
             }
            },
            "type": "scatter3d"
           }
          ],
          "scattercarpet": [
           {
            "marker": {
             "colorbar": {
              "outlinewidth": 0,
              "ticks": ""
             }
            },
            "type": "scattercarpet"
           }
          ],
          "scattergeo": [
           {
            "marker": {
             "colorbar": {
              "outlinewidth": 0,
              "ticks": ""
             }
            },
            "type": "scattergeo"
           }
          ],
          "scattergl": [
           {
            "marker": {
             "colorbar": {
              "outlinewidth": 0,
              "ticks": ""
             }
            },
            "type": "scattergl"
           }
          ],
          "scattermapbox": [
           {
            "marker": {
             "colorbar": {
              "outlinewidth": 0,
              "ticks": ""
             }
            },
            "type": "scattermapbox"
           }
          ],
          "scatterpolar": [
           {
            "marker": {
             "colorbar": {
              "outlinewidth": 0,
              "ticks": ""
             }
            },
            "type": "scatterpolar"
           }
          ],
          "scatterpolargl": [
           {
            "marker": {
             "colorbar": {
              "outlinewidth": 0,
              "ticks": ""
             }
            },
            "type": "scatterpolargl"
           }
          ],
          "scatterternary": [
           {
            "marker": {
             "colorbar": {
              "outlinewidth": 0,
              "ticks": ""
             }
            },
            "type": "scatterternary"
           }
          ],
          "surface": [
           {
            "colorbar": {
             "outlinewidth": 0,
             "ticks": ""
            },
            "colorscale": [
             [
              0,
              "#0d0887"
             ],
             [
              0.1111111111111111,
              "#46039f"
             ],
             [
              0.2222222222222222,
              "#7201a8"
             ],
             [
              0.3333333333333333,
              "#9c179e"
             ],
             [
              0.4444444444444444,
              "#bd3786"
             ],
             [
              0.5555555555555556,
              "#d8576b"
             ],
             [
              0.6666666666666666,
              "#ed7953"
             ],
             [
              0.7777777777777778,
              "#fb9f3a"
             ],
             [
              0.8888888888888888,
              "#fdca26"
             ],
             [
              1,
              "#f0f921"
             ]
            ],
            "type": "surface"
           }
          ],
          "table": [
           {
            "cells": {
             "fill": {
              "color": "#EBF0F8"
             },
             "line": {
              "color": "white"
             }
            },
            "header": {
             "fill": {
              "color": "#C8D4E3"
             },
             "line": {
              "color": "white"
             }
            },
            "type": "table"
           }
          ]
         },
         "layout": {
          "annotationdefaults": {
           "arrowcolor": "#2a3f5f",
           "arrowhead": 0,
           "arrowwidth": 1
          },
          "autotypenumbers": "strict",
          "coloraxis": {
           "colorbar": {
            "outlinewidth": 0,
            "ticks": ""
           }
          },
          "colorscale": {
           "diverging": [
            [
             0,
             "#8e0152"
            ],
            [
             0.1,
             "#c51b7d"
            ],
            [
             0.2,
             "#de77ae"
            ],
            [
             0.3,
             "#f1b6da"
            ],
            [
             0.4,
             "#fde0ef"
            ],
            [
             0.5,
             "#f7f7f7"
            ],
            [
             0.6,
             "#e6f5d0"
            ],
            [
             0.7,
             "#b8e186"
            ],
            [
             0.8,
             "#7fbc41"
            ],
            [
             0.9,
             "#4d9221"
            ],
            [
             1,
             "#276419"
            ]
           ],
           "sequential": [
            [
             0,
             "#0d0887"
            ],
            [
             0.1111111111111111,
             "#46039f"
            ],
            [
             0.2222222222222222,
             "#7201a8"
            ],
            [
             0.3333333333333333,
             "#9c179e"
            ],
            [
             0.4444444444444444,
             "#bd3786"
            ],
            [
             0.5555555555555556,
             "#d8576b"
            ],
            [
             0.6666666666666666,
             "#ed7953"
            ],
            [
             0.7777777777777778,
             "#fb9f3a"
            ],
            [
             0.8888888888888888,
             "#fdca26"
            ],
            [
             1,
             "#f0f921"
            ]
           ],
           "sequentialminus": [
            [
             0,
             "#0d0887"
            ],
            [
             0.1111111111111111,
             "#46039f"
            ],
            [
             0.2222222222222222,
             "#7201a8"
            ],
            [
             0.3333333333333333,
             "#9c179e"
            ],
            [
             0.4444444444444444,
             "#bd3786"
            ],
            [
             0.5555555555555556,
             "#d8576b"
            ],
            [
             0.6666666666666666,
             "#ed7953"
            ],
            [
             0.7777777777777778,
             "#fb9f3a"
            ],
            [
             0.8888888888888888,
             "#fdca26"
            ],
            [
             1,
             "#f0f921"
            ]
           ]
          },
          "colorway": [
           "#636efa",
           "#EF553B",
           "#00cc96",
           "#ab63fa",
           "#FFA15A",
           "#19d3f3",
           "#FF6692",
           "#B6E880",
           "#FF97FF",
           "#FECB52"
          ],
          "font": {
           "color": "#2a3f5f"
          },
          "geo": {
           "bgcolor": "white",
           "lakecolor": "white",
           "landcolor": "#E5ECF6",
           "showlakes": true,
           "showland": true,
           "subunitcolor": "white"
          },
          "hoverlabel": {
           "align": "left"
          },
          "hovermode": "closest",
          "mapbox": {
           "style": "light"
          },
          "paper_bgcolor": "white",
          "plot_bgcolor": "#E5ECF6",
          "polar": {
           "angularaxis": {
            "gridcolor": "white",
            "linecolor": "white",
            "ticks": ""
           },
           "bgcolor": "#E5ECF6",
           "radialaxis": {
            "gridcolor": "white",
            "linecolor": "white",
            "ticks": ""
           }
          },
          "scene": {
           "xaxis": {
            "backgroundcolor": "#E5ECF6",
            "gridcolor": "white",
            "gridwidth": 2,
            "linecolor": "white",
            "showbackground": true,
            "ticks": "",
            "zerolinecolor": "white"
           },
           "yaxis": {
            "backgroundcolor": "#E5ECF6",
            "gridcolor": "white",
            "gridwidth": 2,
            "linecolor": "white",
            "showbackground": true,
            "ticks": "",
            "zerolinecolor": "white"
           },
           "zaxis": {
            "backgroundcolor": "#E5ECF6",
            "gridcolor": "white",
            "gridwidth": 2,
            "linecolor": "white",
            "showbackground": true,
            "ticks": "",
            "zerolinecolor": "white"
           }
          },
          "shapedefaults": {
           "line": {
            "color": "#2a3f5f"
           }
          },
          "ternary": {
           "aaxis": {
            "gridcolor": "white",
            "linecolor": "white",
            "ticks": ""
           },
           "baxis": {
            "gridcolor": "white",
            "linecolor": "white",
            "ticks": ""
           },
           "bgcolor": "#E5ECF6",
           "caxis": {
            "gridcolor": "white",
            "linecolor": "white",
            "ticks": ""
           }
          },
          "title": {
           "x": 0.05
          },
          "xaxis": {
           "automargin": true,
           "gridcolor": "white",
           "linecolor": "white",
           "ticks": "",
           "title": {
            "standoff": 15
           },
           "zerolinecolor": "white",
           "zerolinewidth": 2
          },
          "yaxis": {
           "automargin": true,
           "gridcolor": "white",
           "linecolor": "white",
           "ticks": "",
           "title": {
            "standoff": 15
           },
           "zerolinecolor": "white",
           "zerolinewidth": 2
          }
         }
        }
       }
      }
     },
     "metadata": {},
     "output_type": "display_data"
    }
   ],
   "source": [
    "import folium\n",
    "import pandas as pd\n",
    "from folium.plugins import HeatMap\n",
    "import numpy as np\n",
    "import plotly.express as px\n",
    "\n",
    "\n",
    "date_start = '2022-01-01'\n",
    "date_end = '2024-01-01'\n",
    "total_candidates_start = 0\n",
    "total_candidates_end = 10\n",
    "\n",
    "df_folium_plot = pd.read_csv('plots_data/dashboard_folium.csv')\n",
    "df_bubble = df_folium_plot[['constituency','upload_date','sentiment','view_count','party']]\n",
    "df_bubble_sorted = df_bubble[(df_bubble.upload_date >= date_start) & (df_bubble.upload_date <= date_end)]\n",
    "df_bubble_grouped = df_bubble_sorted[['constituency','sentiment','view_count','party']].groupby(['constituency','party']).agg({\"sentiment\": np.mean, 'view_count': np.sum}).reset_index()\n",
    "df_bubble_grouped  = df_bubble_grouped.sort_values('view_count', ascending = False)\n",
    "df_bubble_grouped = df_bubble_grouped[total_candidates_start:total_candidates_end]\n",
    "df_bubble_grouped['area'] = (df_bubble_grouped['view_count']/1e6)**3\n",
    "\n",
    "df = px.data.gapminder()\n",
    "fig = px.scatter(df_bubble_grouped, x=\"view_count\", y=\"sentiment\",\n",
    "\t         size=\"area\", color=\"party\",\n",
    "                 hover_name=\"constituency\", log_x=True, size_max=50,color_discrete_map= {'YSRCP': '#038d45','TDP': '#ffff00', 'JSP':'#f10003' })\n",
    "fig.update_layout(\n",
    "    title='Constituency Graph',\n",
    "    xaxis=dict(\n",
    "        title='Views',\n",
    "        gridcolor='white',\n",
    "        type='log',\n",
    "        gridwidth=2,\n",
    "    ),\n",
    "    yaxis=dict(\n",
    "        title='Sentiment',\n",
    "        gridcolor='white',\n",
    "        gridwidth=2,\n",
    "    ),\n",
    "    paper_bgcolor='rgb(243, 243, 243)',\n",
    "    plot_bgcolor='rgb(243, 243, 243)',\n",
    ")\n",
    "fig.show()\n",
    "fig = px.bar(df_bubble_grouped, x=\"constituency\", y=\"view_count\",color='party', log_y=True, text_auto='.2s',color_discrete_map= {'YSRCP': '#038d45','TDP': '#ffff00', 'JSP':'#f10003' })\n",
    "fig.update_traces(marker_line_width=1.5, opacity=0.6)\n",
    "fig.update_layout(\n",
    "    title='Constituency Graph',\n",
    "    xaxis=dict(title='Constituency'),\n",
    "    yaxis=dict(title='Views'))\n",
    "\n",
    "fig.show()\n",
    "\n",
    "df_folium_plot = pd.read_csv('plots_data/dashboard_folium.csv')\n",
    "df_bubble = df_folium_plot[['constituency','upload_date','sentiment','view_count','party']]\n",
    "df_bubble_grouped = df_bubble_sorted[['constituency','sentiment','view_count','party']].groupby(['constituency','party']).agg({\"sentiment\": np.mean, 'view_count': np.sum}).reset_index()\n",
    "df_bubble_grouped  = df_bubble_grouped.sort_values('view_count', ascending = False)\n",
    "\n",
    "df = px.data.gapminder().query(\"year == 2007\")\n",
    "fig = px.treemap(df_bubble_grouped, path=[px.Constant(\"Parties\"), 'party', 'constituency'], values='view_count',\n",
    "                  color='party', hover_data=['sentiment'],color_discrete_map= {'YSRCP': '#038d45','TDP': '#ffff00', 'JSP':'#f10003' })\n",
    "fig.update_layout(margin = dict(t=50, l=25, r=25, b=25))\n",
    "fig.update_traces(marker=dict(cornerradius=5))\n",
    "fig.show()"
   ]
  },
  {
   "cell_type": "markdown",
   "metadata": {},
   "source": [
    "## Animation"
   ]
  },
  {
   "cell_type": "code",
   "execution_count": 124,
   "metadata": {},
   "outputs": [
    {
     "name": "stderr",
     "output_type": "stream",
     "text": [
      "/var/folders/z7/x6vq9qd56_scz4tkv0sj5lgc0000gn/T/ipykernel_25945/4091317609.py:3: SettingWithCopyWarning:\n",
      "\n",
      "\n",
      "A value is trying to be set on a copy of a slice from a DataFrame.\n",
      "Try using .loc[row_indexer,col_indexer] = value instead\n",
      "\n",
      "See the caveats in the documentation: https://pandas.pydata.org/pandas-docs/stable/user_guide/indexing.html#returning-a-view-versus-a-copy\n",
      "\n"
     ]
    }
   ],
   "source": [
    "import folium\n",
    "import pandas as pd\n",
    "from folium.plugins import HeatMap\n",
    "import numpy as np\n",
    "import plotly.express as px\n",
    "\n",
    "df_folium_plot = pd.read_csv('plots_data/dashboard_folium.csv')\n",
    "df_anim = df_folium_plot[['constituency','upload_date','sentiment','view_count','party']]\n",
    "df_anim['upload_date'] = pd.to_datetime( df_anim.upload_date)\n",
    "df_anim = df_anim.set_index('upload_date')\n",
    "df_anim_grouped =  df_anim.groupby([(df_anim.index.year), (df_anim.index.month), 'constituency', 'party']).agg({\"sentiment\": np.mean, 'view_count': np.sum})\n",
    "df_anim_grouped = df_anim_grouped.reset_index(names=['year', 'month','constituency','party'])\n",
    "\n",
    "df_anim_grouped['month'] = df_anim_grouped['month'].apply(str)\n",
    "df_anim_grouped['year'] = df_anim_grouped['year'].apply(str)\n",
    "df_anim_grouped['month/year'] =  '01' +'-' +df_anim_grouped['month'] + '-' + df_anim_grouped['year'] \n",
    "df_anim_grouped['month/year'] = pd.to_datetime(df_anim_grouped['month/year'])\n",
    "df_anim_grouped = df_anim_grouped.sort_values('month/year', ascending=True)\n",
    "\n",
    "\n",
    "\n",
    "df = px.data.gapminder()\n",
    "px.scatter(df_anim_grouped, x=\"view_count\", y=\"sentiment\", animation_frame=\"month\",animation_group='constituency',\n",
    "           size=\"view_count\", color=\"party\", hover_name=\"constituency\",\n",
    "           log_x=True, size_max=60)"
   ]
  },
  {
   "cell_type": "code",
   "execution_count": null,
   "metadata": {},
   "outputs": [],
   "source": []
  },
  {
   "cell_type": "markdown",
   "metadata": {},
   "source": [
    "## Tags Plot"
   ]
  },
  {
   "cell_type": "code",
   "execution_count": 209,
   "metadata": {},
   "outputs": [
    {
     "name": "stderr",
     "output_type": "stream",
     "text": [
      "/Users/kowshik/projects/personal/alphapolitica_streamlit/streamenv/lib/python3.8/site-packages/plotly/tools.py:460: DeprecationWarning:\n",
      "\n",
      "plotly.tools.make_subplots is deprecated, please use plotly.subplots.make_subplots instead\n",
      "\n"
     ]
    },
    {
     "data": {
      "application/vnd.plotly.v1+json": {
       "config": {
        "plotlyServerURL": "https://plot.ly"
       },
       "data": [
        {
         "marker": {
          "color": "rgba(171, 50, 96, 0.6)",
          "line": {
           "color": "rgba(171, 50, 96, 1.0)",
           "width": 1
          }
         },
         "name": "Views",
         "orientation": "h",
         "type": "bar",
         "x": [
          57475976,
          56346608,
          54704387,
          54315646,
          53692686,
          53510643,
          53326126,
          53150588,
          52618699,
          52391307,
          52219848,
          52142649,
          52112118,
          52081307,
          51960828,
          51842435,
          51800090,
          51417930,
          51411413,
          51157182,
          51040793,
          50941991,
          50912970,
          50819767,
          50755497,
          50474787,
          50206940,
          49888154,
          49761609,
          49556435,
          49543908,
          49447491,
          49447109,
          49372696,
          49347004,
          49184617,
          49175371,
          48885895,
          48773322,
          48734430
         ],
         "xaxis": "x",
         "y": [
          "tag104",
          "tag141",
          "tag148",
          "tag55",
          "tag13",
          "tag149",
          "tag18",
          "tag94",
          "tag47",
          "tag78",
          "tag68",
          "tag137",
          "tag97",
          "tag85",
          "tag64",
          "tag118",
          "tag147",
          "tag37",
          "tag108",
          "tag14",
          "tag30",
          "tag42",
          "tag93",
          "tag142",
          "tag4",
          "tag88",
          "tag92",
          "tag28",
          "tag139",
          "tag106",
          "tag58",
          "tag116",
          "tag66",
          "tag35",
          "tag128",
          "tag140",
          "tag22",
          "tag24",
          "tag70",
          "tag63"
         ],
         "yaxis": "y"
        },
        {
         "line": {
          "color": "rgb(63, 72, 204)"
         },
         "mode": "lines+markers",
         "name": "Duration",
         "type": "scatter",
         "x": [
          1449.9025,
          1337.5775,
          1265.4694444444444,
          1155.4266666666667,
          1319.841111111111,
          1261.5477777777778,
          1243.2555555555555,
          1238.8341666666668,
          1314.7558333333334,
          1310.1191666666666,
          1335.5497222222223,
          1329.6327777777778,
          1204.7497222222223,
          1278.8322222222223,
          1344.8619444444444,
          1227.6,
          1269.3,
          1296.8963888888889,
          1264.8777777777777,
          1477.1236111111111,
          1372.4775,
          1262.1094444444445,
          1315.6677777777777,
          1295.8508333333334,
          1378.9555555555555,
          1250.1922222222222,
          1396.4261111111111,
          1175.9719444444445,
          1215.4286111111112,
          1182.3666666666666,
          1159.9191666666666,
          1377.1722222222222,
          1492.9508333333333,
          1405.1175,
          1419.4775,
          1448.0016666666668,
          1382.2991666666667,
          1450.7741666666666,
          1065.7130555555555,
          1300.9233333333334
         ],
         "xaxis": "x2",
         "y": [
          "tag104",
          "tag141",
          "tag148",
          "tag55",
          "tag13",
          "tag149",
          "tag18",
          "tag94",
          "tag47",
          "tag78",
          "tag68",
          "tag137",
          "tag97",
          "tag85",
          "tag64",
          "tag118",
          "tag147",
          "tag37",
          "tag108",
          "tag14",
          "tag30",
          "tag42",
          "tag93",
          "tag142",
          "tag4",
          "tag88",
          "tag92",
          "tag28",
          "tag139",
          "tag106",
          "tag58",
          "tag116",
          "tag66",
          "tag35",
          "tag128",
          "tag140",
          "tag22",
          "tag24",
          "tag70",
          "tag63"
         ],
         "yaxis": "y2"
        }
       ],
       "layout": {
        "legend": {
         "font": {
          "size": 10
         },
         "x": 0.029,
         "y": 1.038
        },
        "margin": {
         "b": 70,
         "l": 200,
         "r": 20,
         "t": 70
        },
        "paper_bgcolor": "rgb(248, 248, 255)",
        "plot_bgcolor": "rgb(248, 248, 255)",
        "template": {
         "data": {
          "bar": [
           {
            "error_x": {
             "color": "#2a3f5f"
            },
            "error_y": {
             "color": "#2a3f5f"
            },
            "marker": {
             "line": {
              "color": "#E5ECF6",
              "width": 0.5
             },
             "pattern": {
              "fillmode": "overlay",
              "size": 10,
              "solidity": 0.2
             }
            },
            "type": "bar"
           }
          ],
          "barpolar": [
           {
            "marker": {
             "line": {
              "color": "#E5ECF6",
              "width": 0.5
             },
             "pattern": {
              "fillmode": "overlay",
              "size": 10,
              "solidity": 0.2
             }
            },
            "type": "barpolar"
           }
          ],
          "carpet": [
           {
            "aaxis": {
             "endlinecolor": "#2a3f5f",
             "gridcolor": "white",
             "linecolor": "white",
             "minorgridcolor": "white",
             "startlinecolor": "#2a3f5f"
            },
            "baxis": {
             "endlinecolor": "#2a3f5f",
             "gridcolor": "white",
             "linecolor": "white",
             "minorgridcolor": "white",
             "startlinecolor": "#2a3f5f"
            },
            "type": "carpet"
           }
          ],
          "choropleth": [
           {
            "colorbar": {
             "outlinewidth": 0,
             "ticks": ""
            },
            "type": "choropleth"
           }
          ],
          "contour": [
           {
            "colorbar": {
             "outlinewidth": 0,
             "ticks": ""
            },
            "colorscale": [
             [
              0,
              "#0d0887"
             ],
             [
              0.1111111111111111,
              "#46039f"
             ],
             [
              0.2222222222222222,
              "#7201a8"
             ],
             [
              0.3333333333333333,
              "#9c179e"
             ],
             [
              0.4444444444444444,
              "#bd3786"
             ],
             [
              0.5555555555555556,
              "#d8576b"
             ],
             [
              0.6666666666666666,
              "#ed7953"
             ],
             [
              0.7777777777777778,
              "#fb9f3a"
             ],
             [
              0.8888888888888888,
              "#fdca26"
             ],
             [
              1,
              "#f0f921"
             ]
            ],
            "type": "contour"
           }
          ],
          "contourcarpet": [
           {
            "colorbar": {
             "outlinewidth": 0,
             "ticks": ""
            },
            "type": "contourcarpet"
           }
          ],
          "heatmap": [
           {
            "colorbar": {
             "outlinewidth": 0,
             "ticks": ""
            },
            "colorscale": [
             [
              0,
              "#0d0887"
             ],
             [
              0.1111111111111111,
              "#46039f"
             ],
             [
              0.2222222222222222,
              "#7201a8"
             ],
             [
              0.3333333333333333,
              "#9c179e"
             ],
             [
              0.4444444444444444,
              "#bd3786"
             ],
             [
              0.5555555555555556,
              "#d8576b"
             ],
             [
              0.6666666666666666,
              "#ed7953"
             ],
             [
              0.7777777777777778,
              "#fb9f3a"
             ],
             [
              0.8888888888888888,
              "#fdca26"
             ],
             [
              1,
              "#f0f921"
             ]
            ],
            "type": "heatmap"
           }
          ],
          "heatmapgl": [
           {
            "colorbar": {
             "outlinewidth": 0,
             "ticks": ""
            },
            "colorscale": [
             [
              0,
              "#0d0887"
             ],
             [
              0.1111111111111111,
              "#46039f"
             ],
             [
              0.2222222222222222,
              "#7201a8"
             ],
             [
              0.3333333333333333,
              "#9c179e"
             ],
             [
              0.4444444444444444,
              "#bd3786"
             ],
             [
              0.5555555555555556,
              "#d8576b"
             ],
             [
              0.6666666666666666,
              "#ed7953"
             ],
             [
              0.7777777777777778,
              "#fb9f3a"
             ],
             [
              0.8888888888888888,
              "#fdca26"
             ],
             [
              1,
              "#f0f921"
             ]
            ],
            "type": "heatmapgl"
           }
          ],
          "histogram": [
           {
            "marker": {
             "pattern": {
              "fillmode": "overlay",
              "size": 10,
              "solidity": 0.2
             }
            },
            "type": "histogram"
           }
          ],
          "histogram2d": [
           {
            "colorbar": {
             "outlinewidth": 0,
             "ticks": ""
            },
            "colorscale": [
             [
              0,
              "#0d0887"
             ],
             [
              0.1111111111111111,
              "#46039f"
             ],
             [
              0.2222222222222222,
              "#7201a8"
             ],
             [
              0.3333333333333333,
              "#9c179e"
             ],
             [
              0.4444444444444444,
              "#bd3786"
             ],
             [
              0.5555555555555556,
              "#d8576b"
             ],
             [
              0.6666666666666666,
              "#ed7953"
             ],
             [
              0.7777777777777778,
              "#fb9f3a"
             ],
             [
              0.8888888888888888,
              "#fdca26"
             ],
             [
              1,
              "#f0f921"
             ]
            ],
            "type": "histogram2d"
           }
          ],
          "histogram2dcontour": [
           {
            "colorbar": {
             "outlinewidth": 0,
             "ticks": ""
            },
            "colorscale": [
             [
              0,
              "#0d0887"
             ],
             [
              0.1111111111111111,
              "#46039f"
             ],
             [
              0.2222222222222222,
              "#7201a8"
             ],
             [
              0.3333333333333333,
              "#9c179e"
             ],
             [
              0.4444444444444444,
              "#bd3786"
             ],
             [
              0.5555555555555556,
              "#d8576b"
             ],
             [
              0.6666666666666666,
              "#ed7953"
             ],
             [
              0.7777777777777778,
              "#fb9f3a"
             ],
             [
              0.8888888888888888,
              "#fdca26"
             ],
             [
              1,
              "#f0f921"
             ]
            ],
            "type": "histogram2dcontour"
           }
          ],
          "mesh3d": [
           {
            "colorbar": {
             "outlinewidth": 0,
             "ticks": ""
            },
            "type": "mesh3d"
           }
          ],
          "parcoords": [
           {
            "line": {
             "colorbar": {
              "outlinewidth": 0,
              "ticks": ""
             }
            },
            "type": "parcoords"
           }
          ],
          "pie": [
           {
            "automargin": true,
            "type": "pie"
           }
          ],
          "scatter": [
           {
            "fillpattern": {
             "fillmode": "overlay",
             "size": 10,
             "solidity": 0.2
            },
            "type": "scatter"
           }
          ],
          "scatter3d": [
           {
            "line": {
             "colorbar": {
              "outlinewidth": 0,
              "ticks": ""
             }
            },
            "marker": {
             "colorbar": {
              "outlinewidth": 0,
              "ticks": ""
             }
            },
            "type": "scatter3d"
           }
          ],
          "scattercarpet": [
           {
            "marker": {
             "colorbar": {
              "outlinewidth": 0,
              "ticks": ""
             }
            },
            "type": "scattercarpet"
           }
          ],
          "scattergeo": [
           {
            "marker": {
             "colorbar": {
              "outlinewidth": 0,
              "ticks": ""
             }
            },
            "type": "scattergeo"
           }
          ],
          "scattergl": [
           {
            "marker": {
             "colorbar": {
              "outlinewidth": 0,
              "ticks": ""
             }
            },
            "type": "scattergl"
           }
          ],
          "scattermapbox": [
           {
            "marker": {
             "colorbar": {
              "outlinewidth": 0,
              "ticks": ""
             }
            },
            "type": "scattermapbox"
           }
          ],
          "scatterpolar": [
           {
            "marker": {
             "colorbar": {
              "outlinewidth": 0,
              "ticks": ""
             }
            },
            "type": "scatterpolar"
           }
          ],
          "scatterpolargl": [
           {
            "marker": {
             "colorbar": {
              "outlinewidth": 0,
              "ticks": ""
             }
            },
            "type": "scatterpolargl"
           }
          ],
          "scatterternary": [
           {
            "marker": {
             "colorbar": {
              "outlinewidth": 0,
              "ticks": ""
             }
            },
            "type": "scatterternary"
           }
          ],
          "surface": [
           {
            "colorbar": {
             "outlinewidth": 0,
             "ticks": ""
            },
            "colorscale": [
             [
              0,
              "#0d0887"
             ],
             [
              0.1111111111111111,
              "#46039f"
             ],
             [
              0.2222222222222222,
              "#7201a8"
             ],
             [
              0.3333333333333333,
              "#9c179e"
             ],
             [
              0.4444444444444444,
              "#bd3786"
             ],
             [
              0.5555555555555556,
              "#d8576b"
             ],
             [
              0.6666666666666666,
              "#ed7953"
             ],
             [
              0.7777777777777778,
              "#fb9f3a"
             ],
             [
              0.8888888888888888,
              "#fdca26"
             ],
             [
              1,
              "#f0f921"
             ]
            ],
            "type": "surface"
           }
          ],
          "table": [
           {
            "cells": {
             "fill": {
              "color": "#EBF0F8"
             },
             "line": {
              "color": "white"
             }
            },
            "header": {
             "fill": {
              "color": "#C8D4E3"
             },
             "line": {
              "color": "white"
             }
            },
            "type": "table"
           }
          ]
         },
         "layout": {
          "annotationdefaults": {
           "arrowcolor": "#2a3f5f",
           "arrowhead": 0,
           "arrowwidth": 1
          },
          "autotypenumbers": "strict",
          "coloraxis": {
           "colorbar": {
            "outlinewidth": 0,
            "ticks": ""
           }
          },
          "colorscale": {
           "diverging": [
            [
             0,
             "#8e0152"
            ],
            [
             0.1,
             "#c51b7d"
            ],
            [
             0.2,
             "#de77ae"
            ],
            [
             0.3,
             "#f1b6da"
            ],
            [
             0.4,
             "#fde0ef"
            ],
            [
             0.5,
             "#f7f7f7"
            ],
            [
             0.6,
             "#e6f5d0"
            ],
            [
             0.7,
             "#b8e186"
            ],
            [
             0.8,
             "#7fbc41"
            ],
            [
             0.9,
             "#4d9221"
            ],
            [
             1,
             "#276419"
            ]
           ],
           "sequential": [
            [
             0,
             "#0d0887"
            ],
            [
             0.1111111111111111,
             "#46039f"
            ],
            [
             0.2222222222222222,
             "#7201a8"
            ],
            [
             0.3333333333333333,
             "#9c179e"
            ],
            [
             0.4444444444444444,
             "#bd3786"
            ],
            [
             0.5555555555555556,
             "#d8576b"
            ],
            [
             0.6666666666666666,
             "#ed7953"
            ],
            [
             0.7777777777777778,
             "#fb9f3a"
            ],
            [
             0.8888888888888888,
             "#fdca26"
            ],
            [
             1,
             "#f0f921"
            ]
           ],
           "sequentialminus": [
            [
             0,
             "#0d0887"
            ],
            [
             0.1111111111111111,
             "#46039f"
            ],
            [
             0.2222222222222222,
             "#7201a8"
            ],
            [
             0.3333333333333333,
             "#9c179e"
            ],
            [
             0.4444444444444444,
             "#bd3786"
            ],
            [
             0.5555555555555556,
             "#d8576b"
            ],
            [
             0.6666666666666666,
             "#ed7953"
            ],
            [
             0.7777777777777778,
             "#fb9f3a"
            ],
            [
             0.8888888888888888,
             "#fdca26"
            ],
            [
             1,
             "#f0f921"
            ]
           ]
          },
          "colorway": [
           "#636efa",
           "#EF553B",
           "#00cc96",
           "#ab63fa",
           "#FFA15A",
           "#19d3f3",
           "#FF6692",
           "#B6E880",
           "#FF97FF",
           "#FECB52"
          ],
          "font": {
           "color": "#2a3f5f"
          },
          "geo": {
           "bgcolor": "white",
           "lakecolor": "white",
           "landcolor": "#E5ECF6",
           "showlakes": true,
           "showland": true,
           "subunitcolor": "white"
          },
          "hoverlabel": {
           "align": "left"
          },
          "hovermode": "closest",
          "mapbox": {
           "style": "light"
          },
          "paper_bgcolor": "white",
          "plot_bgcolor": "#E5ECF6",
          "polar": {
           "angularaxis": {
            "gridcolor": "white",
            "linecolor": "white",
            "ticks": ""
           },
           "bgcolor": "#E5ECF6",
           "radialaxis": {
            "gridcolor": "white",
            "linecolor": "white",
            "ticks": ""
           }
          },
          "scene": {
           "xaxis": {
            "backgroundcolor": "#E5ECF6",
            "gridcolor": "white",
            "gridwidth": 2,
            "linecolor": "white",
            "showbackground": true,
            "ticks": "",
            "zerolinecolor": "white"
           },
           "yaxis": {
            "backgroundcolor": "#E5ECF6",
            "gridcolor": "white",
            "gridwidth": 2,
            "linecolor": "white",
            "showbackground": true,
            "ticks": "",
            "zerolinecolor": "white"
           },
           "zaxis": {
            "backgroundcolor": "#E5ECF6",
            "gridcolor": "white",
            "gridwidth": 2,
            "linecolor": "white",
            "showbackground": true,
            "ticks": "",
            "zerolinecolor": "white"
           }
          },
          "shapedefaults": {
           "line": {
            "color": "#2a3f5f"
           }
          },
          "ternary": {
           "aaxis": {
            "gridcolor": "white",
            "linecolor": "white",
            "ticks": ""
           },
           "baxis": {
            "gridcolor": "white",
            "linecolor": "white",
            "ticks": ""
           },
           "bgcolor": "#E5ECF6",
           "caxis": {
            "gridcolor": "white",
            "linecolor": "white",
            "ticks": ""
           }
          },
          "title": {
           "x": 0.05
          },
          "xaxis": {
           "automargin": true,
           "gridcolor": "white",
           "linecolor": "white",
           "ticks": "",
           "title": {
            "standoff": 15
           },
           "zerolinecolor": "white",
           "zerolinewidth": 2
          },
          "yaxis": {
           "automargin": true,
           "gridcolor": "white",
           "linecolor": "white",
           "ticks": "",
           "title": {
            "standoff": 15
           },
           "zerolinecolor": "white",
           "zerolinewidth": 2
          }
         }
        },
        "title": {
         "text": "Tags Views and Duration"
        },
        "xaxis": {
         "anchor": "y",
         "domain": [
          0,
          0.42
         ],
         "showgrid": true,
         "showline": false,
         "showticklabels": true,
         "title": {
          "text": "Views"
         },
         "zeroline": false
        },
        "xaxis2": {
         "anchor": "y2",
         "domain": [
          0.47,
          1
         ],
         "dtick": 25,
         "showgrid": true,
         "showline": false,
         "showticklabels": true,
         "side": "top",
         "zeroline": false
        },
        "yaxis": {
         "anchor": "x",
         "domain": [
          0,
          0.85
         ],
         "showticklabels": true,
         "title": {
          "text": "Tags"
         }
        },
        "yaxis2": {
         "anchor": "x2",
         "domain": [
          0,
          0.85
         ],
         "linecolor": "rgba(102, 102, 102, 0.8)",
         "linewidth": 2,
         "showline": true,
         "showticklabels": false
        }
       }
      }
     },
     "metadata": {},
     "output_type": "display_data"
    }
   ],
   "source": [
    "\n",
    "# prepare data frames\n",
    "import plotly.graph_objs as go\n",
    "from plotly import tools\n",
    "\n",
    "date_start = '2022-01-01'\n",
    "date_end = '2024-01-01'\n",
    "total_tags_start = 0\n",
    "total_tags_end = 40\n",
    "\n",
    "df_tags_plot = pd.read_csv('plots_data/dashboard_tags.csv')\n",
    "df_bar = df_tags_plot\n",
    "df_bar_sorted = df_bar[(df_bar.upload_date >= date_start) & (df_bar.upload_date <= date_end)]\n",
    "\n",
    "df_bar_grouped = df_bar_sorted.groupby(['tags']).agg({\"sentiment\": np.mean, 'view_count': np.sum, 'comment_count':np.sum,'duration':np.sum}).reset_index()\n",
    "df_bar_grouped  = df_bar_grouped.sort_values('view_count', ascending = False)\n",
    "df_bar_grouped = df_bar_grouped[total_tags_start:total_tags_end]\n",
    "df_bar_grouped['duration'] = df_bar_grouped['duration']/(60*60)\n",
    "\n",
    "tags = df_bar_grouped['tags'].values\n",
    "views = df_bar_grouped['view_count'].values\n",
    "duration = df_bar_grouped['duration'].values\n",
    "\n",
    "\n",
    "y_saving = views\n",
    "y_net_worth  = duration\n",
    "x_saving = tags\n",
    "x_net_worth  = tags\n",
    "\n",
    "\n",
    "\n",
    "trace0 = go.Bar(\n",
    "                x=y_saving,\n",
    "                y=x_saving,\n",
    "                marker=dict(color='rgba(171, 50, 96, 0.6)',line=dict(color='rgba(171, 50, 96, 1.0)',width=1)),\n",
    "                name='Views',\n",
    "                orientation='h',\n",
    ")\n",
    "trace1 = go.Scatter(\n",
    "                x=y_net_worth,\n",
    "                y=x_net_worth,\n",
    "                mode='lines+markers',\n",
    "                line=dict(color='rgb(63, 72, 204)'),\n",
    "                name='Duration',\n",
    ")\n",
    "layout = dict(\n",
    "                title='Tags Views and Duration',\n",
    "                yaxis=dict(showticklabels=True,domain=[0, 0.85]),\n",
    "                yaxis2=dict(showline=True,showticklabels=False,linecolor='rgba(102, 102, 102, 0.8)',linewidth=2,domain=[0, 0.85]),\n",
    "                xaxis=dict(zeroline=False,showline=False,showticklabels=True,showgrid=True,domain=[0, 0.42]),\n",
    "                xaxis2=dict(zeroline=False,showline=False,showticklabels=True,showgrid=True,domain=[0.47, 1],side='top',dtick=25),\n",
    "                legend=dict(x=0.029,y=1.038,font=dict(size=10) ),\n",
    "                margin=dict(l=200, r=20,t=70,b=70),\n",
    "                paper_bgcolor='rgb(248, 248, 255)',\n",
    "                plot_bgcolor='rgb(248, 248, 255)',\n",
    ")\n",
    "annotations = []\n",
    "y_s = np.round(y_saving, decimals=2)\n",
    "y_nw = np.rint(y_net_worth)\n",
    "for ydn, yd, xd in zip(y_nw, y_s, x_saving):\n",
    "    annotations.append(dict(xref='x2', yref='y2', y=xd, x=ydn - 4,text='{:,}'.format(ydn),font=dict(family='Arial', size=12,color='rgb(63, 72, 204)'),showarrow=False))\n",
    "    annotations.append(dict(xref='x1', yref='y1', y=xd, x=yd + 3,text=str(yd),font=dict(family='Arial', size=12,color='rgb(171, 50, 96)'),showarrow=False))\n",
    "fig = tools.make_subplots(rows=1, cols=2, specs=[[{}, {}]], shared_xaxes=True,\n",
    "                          shared_yaxes=False, vertical_spacing=0.001)\n",
    "\n",
    "fig.append_trace(trace0, 1, 1)\n",
    "fig.append_trace(trace1, 1, 2)\n",
    "fig.update_layout(\n",
    "    title='Constituency Graph',\n",
    "    xaxis=dict(title='Views'),\n",
    "    yaxis=dict(title='Tags'))\n",
    "fig['layout'].update(layout)\n",
    "fig.show()"
   ]
  },
  {
   "cell_type": "code",
   "execution_count": null,
   "metadata": {},
   "outputs": [],
   "source": []
  },
  {
   "cell_type": "markdown",
   "metadata": {},
   "source": [
    "## Media Analytics"
   ]
  },
  {
   "cell_type": "code",
   "execution_count": null,
   "metadata": {},
   "outputs": [],
   "source": []
  },
  {
   "cell_type": "code",
   "execution_count": 270,
   "metadata": {},
   "outputs": [
    {
     "data": {
      "application/vnd.plotly.v1+json": {
       "config": {
        "plotlyServerURL": "https://plot.ly"
       },
       "data": [
        {
         "customdata": [
          [
           32886
          ],
          [
           27133
          ],
          [
           28051
          ],
          [
           8675
          ]
         ],
         "domain": {
          "x": [
           0,
           1
          ],
          "y": [
           0,
           1
          ]
         },
         "hole": 0.3,
         "hovertemplate": "uploader=%{label}<br>uploads=%{customdata[0]}<extra></extra>",
         "labels": [
          "TV9",
          "TV5",
          "ABN",
          "Sakshi"
         ],
         "legendgroup": "",
         "name": "",
         "showlegend": true,
         "textinfo": "percent+label",
         "textposition": "inside",
         "type": "pie",
         "values": [
          32886,
          27133,
          28051,
          8675
         ]
        }
       ],
       "layout": {
        "legend": {
         "tracegroupgap": 0
        },
        "template": {
         "data": {
          "bar": [
           {
            "error_x": {
             "color": "#2a3f5f"
            },
            "error_y": {
             "color": "#2a3f5f"
            },
            "marker": {
             "line": {
              "color": "#E5ECF6",
              "width": 0.5
             },
             "pattern": {
              "fillmode": "overlay",
              "size": 10,
              "solidity": 0.2
             }
            },
            "type": "bar"
           }
          ],
          "barpolar": [
           {
            "marker": {
             "line": {
              "color": "#E5ECF6",
              "width": 0.5
             },
             "pattern": {
              "fillmode": "overlay",
              "size": 10,
              "solidity": 0.2
             }
            },
            "type": "barpolar"
           }
          ],
          "carpet": [
           {
            "aaxis": {
             "endlinecolor": "#2a3f5f",
             "gridcolor": "white",
             "linecolor": "white",
             "minorgridcolor": "white",
             "startlinecolor": "#2a3f5f"
            },
            "baxis": {
             "endlinecolor": "#2a3f5f",
             "gridcolor": "white",
             "linecolor": "white",
             "minorgridcolor": "white",
             "startlinecolor": "#2a3f5f"
            },
            "type": "carpet"
           }
          ],
          "choropleth": [
           {
            "colorbar": {
             "outlinewidth": 0,
             "ticks": ""
            },
            "type": "choropleth"
           }
          ],
          "contour": [
           {
            "colorbar": {
             "outlinewidth": 0,
             "ticks": ""
            },
            "colorscale": [
             [
              0,
              "#0d0887"
             ],
             [
              0.1111111111111111,
              "#46039f"
             ],
             [
              0.2222222222222222,
              "#7201a8"
             ],
             [
              0.3333333333333333,
              "#9c179e"
             ],
             [
              0.4444444444444444,
              "#bd3786"
             ],
             [
              0.5555555555555556,
              "#d8576b"
             ],
             [
              0.6666666666666666,
              "#ed7953"
             ],
             [
              0.7777777777777778,
              "#fb9f3a"
             ],
             [
              0.8888888888888888,
              "#fdca26"
             ],
             [
              1,
              "#f0f921"
             ]
            ],
            "type": "contour"
           }
          ],
          "contourcarpet": [
           {
            "colorbar": {
             "outlinewidth": 0,
             "ticks": ""
            },
            "type": "contourcarpet"
           }
          ],
          "heatmap": [
           {
            "colorbar": {
             "outlinewidth": 0,
             "ticks": ""
            },
            "colorscale": [
             [
              0,
              "#0d0887"
             ],
             [
              0.1111111111111111,
              "#46039f"
             ],
             [
              0.2222222222222222,
              "#7201a8"
             ],
             [
              0.3333333333333333,
              "#9c179e"
             ],
             [
              0.4444444444444444,
              "#bd3786"
             ],
             [
              0.5555555555555556,
              "#d8576b"
             ],
             [
              0.6666666666666666,
              "#ed7953"
             ],
             [
              0.7777777777777778,
              "#fb9f3a"
             ],
             [
              0.8888888888888888,
              "#fdca26"
             ],
             [
              1,
              "#f0f921"
             ]
            ],
            "type": "heatmap"
           }
          ],
          "heatmapgl": [
           {
            "colorbar": {
             "outlinewidth": 0,
             "ticks": ""
            },
            "colorscale": [
             [
              0,
              "#0d0887"
             ],
             [
              0.1111111111111111,
              "#46039f"
             ],
             [
              0.2222222222222222,
              "#7201a8"
             ],
             [
              0.3333333333333333,
              "#9c179e"
             ],
             [
              0.4444444444444444,
              "#bd3786"
             ],
             [
              0.5555555555555556,
              "#d8576b"
             ],
             [
              0.6666666666666666,
              "#ed7953"
             ],
             [
              0.7777777777777778,
              "#fb9f3a"
             ],
             [
              0.8888888888888888,
              "#fdca26"
             ],
             [
              1,
              "#f0f921"
             ]
            ],
            "type": "heatmapgl"
           }
          ],
          "histogram": [
           {
            "marker": {
             "pattern": {
              "fillmode": "overlay",
              "size": 10,
              "solidity": 0.2
             }
            },
            "type": "histogram"
           }
          ],
          "histogram2d": [
           {
            "colorbar": {
             "outlinewidth": 0,
             "ticks": ""
            },
            "colorscale": [
             [
              0,
              "#0d0887"
             ],
             [
              0.1111111111111111,
              "#46039f"
             ],
             [
              0.2222222222222222,
              "#7201a8"
             ],
             [
              0.3333333333333333,
              "#9c179e"
             ],
             [
              0.4444444444444444,
              "#bd3786"
             ],
             [
              0.5555555555555556,
              "#d8576b"
             ],
             [
              0.6666666666666666,
              "#ed7953"
             ],
             [
              0.7777777777777778,
              "#fb9f3a"
             ],
             [
              0.8888888888888888,
              "#fdca26"
             ],
             [
              1,
              "#f0f921"
             ]
            ],
            "type": "histogram2d"
           }
          ],
          "histogram2dcontour": [
           {
            "colorbar": {
             "outlinewidth": 0,
             "ticks": ""
            },
            "colorscale": [
             [
              0,
              "#0d0887"
             ],
             [
              0.1111111111111111,
              "#46039f"
             ],
             [
              0.2222222222222222,
              "#7201a8"
             ],
             [
              0.3333333333333333,
              "#9c179e"
             ],
             [
              0.4444444444444444,
              "#bd3786"
             ],
             [
              0.5555555555555556,
              "#d8576b"
             ],
             [
              0.6666666666666666,
              "#ed7953"
             ],
             [
              0.7777777777777778,
              "#fb9f3a"
             ],
             [
              0.8888888888888888,
              "#fdca26"
             ],
             [
              1,
              "#f0f921"
             ]
            ],
            "type": "histogram2dcontour"
           }
          ],
          "mesh3d": [
           {
            "colorbar": {
             "outlinewidth": 0,
             "ticks": ""
            },
            "type": "mesh3d"
           }
          ],
          "parcoords": [
           {
            "line": {
             "colorbar": {
              "outlinewidth": 0,
              "ticks": ""
             }
            },
            "type": "parcoords"
           }
          ],
          "pie": [
           {
            "automargin": true,
            "type": "pie"
           }
          ],
          "scatter": [
           {
            "fillpattern": {
             "fillmode": "overlay",
             "size": 10,
             "solidity": 0.2
            },
            "type": "scatter"
           }
          ],
          "scatter3d": [
           {
            "line": {
             "colorbar": {
              "outlinewidth": 0,
              "ticks": ""
             }
            },
            "marker": {
             "colorbar": {
              "outlinewidth": 0,
              "ticks": ""
             }
            },
            "type": "scatter3d"
           }
          ],
          "scattercarpet": [
           {
            "marker": {
             "colorbar": {
              "outlinewidth": 0,
              "ticks": ""
             }
            },
            "type": "scattercarpet"
           }
          ],
          "scattergeo": [
           {
            "marker": {
             "colorbar": {
              "outlinewidth": 0,
              "ticks": ""
             }
            },
            "type": "scattergeo"
           }
          ],
          "scattergl": [
           {
            "marker": {
             "colorbar": {
              "outlinewidth": 0,
              "ticks": ""
             }
            },
            "type": "scattergl"
           }
          ],
          "scattermapbox": [
           {
            "marker": {
             "colorbar": {
              "outlinewidth": 0,
              "ticks": ""
             }
            },
            "type": "scattermapbox"
           }
          ],
          "scatterpolar": [
           {
            "marker": {
             "colorbar": {
              "outlinewidth": 0,
              "ticks": ""
             }
            },
            "type": "scatterpolar"
           }
          ],
          "scatterpolargl": [
           {
            "marker": {
             "colorbar": {
              "outlinewidth": 0,
              "ticks": ""
             }
            },
            "type": "scatterpolargl"
           }
          ],
          "scatterternary": [
           {
            "marker": {
             "colorbar": {
              "outlinewidth": 0,
              "ticks": ""
             }
            },
            "type": "scatterternary"
           }
          ],
          "surface": [
           {
            "colorbar": {
             "outlinewidth": 0,
             "ticks": ""
            },
            "colorscale": [
             [
              0,
              "#0d0887"
             ],
             [
              0.1111111111111111,
              "#46039f"
             ],
             [
              0.2222222222222222,
              "#7201a8"
             ],
             [
              0.3333333333333333,
              "#9c179e"
             ],
             [
              0.4444444444444444,
              "#bd3786"
             ],
             [
              0.5555555555555556,
              "#d8576b"
             ],
             [
              0.6666666666666666,
              "#ed7953"
             ],
             [
              0.7777777777777778,
              "#fb9f3a"
             ],
             [
              0.8888888888888888,
              "#fdca26"
             ],
             [
              1,
              "#f0f921"
             ]
            ],
            "type": "surface"
           }
          ],
          "table": [
           {
            "cells": {
             "fill": {
              "color": "#EBF0F8"
             },
             "line": {
              "color": "white"
             }
            },
            "header": {
             "fill": {
              "color": "#C8D4E3"
             },
             "line": {
              "color": "white"
             }
            },
            "type": "table"
           }
          ]
         },
         "layout": {
          "annotationdefaults": {
           "arrowcolor": "#2a3f5f",
           "arrowhead": 0,
           "arrowwidth": 1
          },
          "autotypenumbers": "strict",
          "coloraxis": {
           "colorbar": {
            "outlinewidth": 0,
            "ticks": ""
           }
          },
          "colorscale": {
           "diverging": [
            [
             0,
             "#8e0152"
            ],
            [
             0.1,
             "#c51b7d"
            ],
            [
             0.2,
             "#de77ae"
            ],
            [
             0.3,
             "#f1b6da"
            ],
            [
             0.4,
             "#fde0ef"
            ],
            [
             0.5,
             "#f7f7f7"
            ],
            [
             0.6,
             "#e6f5d0"
            ],
            [
             0.7,
             "#b8e186"
            ],
            [
             0.8,
             "#7fbc41"
            ],
            [
             0.9,
             "#4d9221"
            ],
            [
             1,
             "#276419"
            ]
           ],
           "sequential": [
            [
             0,
             "#0d0887"
            ],
            [
             0.1111111111111111,
             "#46039f"
            ],
            [
             0.2222222222222222,
             "#7201a8"
            ],
            [
             0.3333333333333333,
             "#9c179e"
            ],
            [
             0.4444444444444444,
             "#bd3786"
            ],
            [
             0.5555555555555556,
             "#d8576b"
            ],
            [
             0.6666666666666666,
             "#ed7953"
            ],
            [
             0.7777777777777778,
             "#fb9f3a"
            ],
            [
             0.8888888888888888,
             "#fdca26"
            ],
            [
             1,
             "#f0f921"
            ]
           ],
           "sequentialminus": [
            [
             0,
             "#0d0887"
            ],
            [
             0.1111111111111111,
             "#46039f"
            ],
            [
             0.2222222222222222,
             "#7201a8"
            ],
            [
             0.3333333333333333,
             "#9c179e"
            ],
            [
             0.4444444444444444,
             "#bd3786"
            ],
            [
             0.5555555555555556,
             "#d8576b"
            ],
            [
             0.6666666666666666,
             "#ed7953"
            ],
            [
             0.7777777777777778,
             "#fb9f3a"
            ],
            [
             0.8888888888888888,
             "#fdca26"
            ],
            [
             1,
             "#f0f921"
            ]
           ]
          },
          "colorway": [
           "#636efa",
           "#EF553B",
           "#00cc96",
           "#ab63fa",
           "#FFA15A",
           "#19d3f3",
           "#FF6692",
           "#B6E880",
           "#FF97FF",
           "#FECB52"
          ],
          "font": {
           "color": "#2a3f5f"
          },
          "geo": {
           "bgcolor": "white",
           "lakecolor": "white",
           "landcolor": "#E5ECF6",
           "showlakes": true,
           "showland": true,
           "subunitcolor": "white"
          },
          "hoverlabel": {
           "align": "left"
          },
          "hovermode": "closest",
          "mapbox": {
           "style": "light"
          },
          "paper_bgcolor": "white",
          "plot_bgcolor": "#E5ECF6",
          "polar": {
           "angularaxis": {
            "gridcolor": "white",
            "linecolor": "white",
            "ticks": ""
           },
           "bgcolor": "#E5ECF6",
           "radialaxis": {
            "gridcolor": "white",
            "linecolor": "white",
            "ticks": ""
           }
          },
          "scene": {
           "xaxis": {
            "backgroundcolor": "#E5ECF6",
            "gridcolor": "white",
            "gridwidth": 2,
            "linecolor": "white",
            "showbackground": true,
            "ticks": "",
            "zerolinecolor": "white"
           },
           "yaxis": {
            "backgroundcolor": "#E5ECF6",
            "gridcolor": "white",
            "gridwidth": 2,
            "linecolor": "white",
            "showbackground": true,
            "ticks": "",
            "zerolinecolor": "white"
           },
           "zaxis": {
            "backgroundcolor": "#E5ECF6",
            "gridcolor": "white",
            "gridwidth": 2,
            "linecolor": "white",
            "showbackground": true,
            "ticks": "",
            "zerolinecolor": "white"
           }
          },
          "shapedefaults": {
           "line": {
            "color": "#2a3f5f"
           }
          },
          "ternary": {
           "aaxis": {
            "gridcolor": "white",
            "linecolor": "white",
            "ticks": ""
           },
           "baxis": {
            "gridcolor": "white",
            "linecolor": "white",
            "ticks": ""
           },
           "bgcolor": "#E5ECF6",
           "caxis": {
            "gridcolor": "white",
            "linecolor": "white",
            "ticks": ""
           }
          },
          "title": {
           "x": 0.05
          },
          "xaxis": {
           "automargin": true,
           "gridcolor": "white",
           "linecolor": "white",
           "ticks": "",
           "title": {
            "standoff": 15
           },
           "zerolinecolor": "white",
           "zerolinewidth": 2
          },
          "yaxis": {
           "automargin": true,
           "gridcolor": "white",
           "linecolor": "white",
           "ticks": "",
           "title": {
            "standoff": 15
           },
           "zerolinecolor": "white",
           "zerolinewidth": 2
          }
         }
        },
        "title": {
         "text": "uploads Distribution"
        }
       }
      }
     },
     "metadata": {},
     "output_type": "display_data"
    },
    {
     "data": {
      "application/vnd.plotly.v1+json": {
       "config": {
        "plotlyServerURL": "https://plot.ly"
       },
       "data": [
        {
         "customdata": [
          [
           680643211
          ],
          [
           636515035
          ],
          [
           573745816
          ],
          [
           406657454
          ]
         ],
         "domain": {
          "x": [
           0,
           1
          ],
          "y": [
           0,
           1
          ]
         },
         "hole": 0.3,
         "hovertemplate": "uploader=%{label}<br>view_count=%{customdata[0]}<extra></extra>",
         "labels": [
          "TV9",
          "TV5",
          "ABN",
          "Sakshi"
         ],
         "legendgroup": "",
         "name": "",
         "showlegend": true,
         "textinfo": "percent+label",
         "textposition": "inside",
         "type": "pie",
         "values": [
          680643211,
          636515035,
          573745816,
          406657454
         ]
        }
       ],
       "layout": {
        "legend": {
         "tracegroupgap": 0
        },
        "template": {
         "data": {
          "bar": [
           {
            "error_x": {
             "color": "#2a3f5f"
            },
            "error_y": {
             "color": "#2a3f5f"
            },
            "marker": {
             "line": {
              "color": "#E5ECF6",
              "width": 0.5
             },
             "pattern": {
              "fillmode": "overlay",
              "size": 10,
              "solidity": 0.2
             }
            },
            "type": "bar"
           }
          ],
          "barpolar": [
           {
            "marker": {
             "line": {
              "color": "#E5ECF6",
              "width": 0.5
             },
             "pattern": {
              "fillmode": "overlay",
              "size": 10,
              "solidity": 0.2
             }
            },
            "type": "barpolar"
           }
          ],
          "carpet": [
           {
            "aaxis": {
             "endlinecolor": "#2a3f5f",
             "gridcolor": "white",
             "linecolor": "white",
             "minorgridcolor": "white",
             "startlinecolor": "#2a3f5f"
            },
            "baxis": {
             "endlinecolor": "#2a3f5f",
             "gridcolor": "white",
             "linecolor": "white",
             "minorgridcolor": "white",
             "startlinecolor": "#2a3f5f"
            },
            "type": "carpet"
           }
          ],
          "choropleth": [
           {
            "colorbar": {
             "outlinewidth": 0,
             "ticks": ""
            },
            "type": "choropleth"
           }
          ],
          "contour": [
           {
            "colorbar": {
             "outlinewidth": 0,
             "ticks": ""
            },
            "colorscale": [
             [
              0,
              "#0d0887"
             ],
             [
              0.1111111111111111,
              "#46039f"
             ],
             [
              0.2222222222222222,
              "#7201a8"
             ],
             [
              0.3333333333333333,
              "#9c179e"
             ],
             [
              0.4444444444444444,
              "#bd3786"
             ],
             [
              0.5555555555555556,
              "#d8576b"
             ],
             [
              0.6666666666666666,
              "#ed7953"
             ],
             [
              0.7777777777777778,
              "#fb9f3a"
             ],
             [
              0.8888888888888888,
              "#fdca26"
             ],
             [
              1,
              "#f0f921"
             ]
            ],
            "type": "contour"
           }
          ],
          "contourcarpet": [
           {
            "colorbar": {
             "outlinewidth": 0,
             "ticks": ""
            },
            "type": "contourcarpet"
           }
          ],
          "heatmap": [
           {
            "colorbar": {
             "outlinewidth": 0,
             "ticks": ""
            },
            "colorscale": [
             [
              0,
              "#0d0887"
             ],
             [
              0.1111111111111111,
              "#46039f"
             ],
             [
              0.2222222222222222,
              "#7201a8"
             ],
             [
              0.3333333333333333,
              "#9c179e"
             ],
             [
              0.4444444444444444,
              "#bd3786"
             ],
             [
              0.5555555555555556,
              "#d8576b"
             ],
             [
              0.6666666666666666,
              "#ed7953"
             ],
             [
              0.7777777777777778,
              "#fb9f3a"
             ],
             [
              0.8888888888888888,
              "#fdca26"
             ],
             [
              1,
              "#f0f921"
             ]
            ],
            "type": "heatmap"
           }
          ],
          "heatmapgl": [
           {
            "colorbar": {
             "outlinewidth": 0,
             "ticks": ""
            },
            "colorscale": [
             [
              0,
              "#0d0887"
             ],
             [
              0.1111111111111111,
              "#46039f"
             ],
             [
              0.2222222222222222,
              "#7201a8"
             ],
             [
              0.3333333333333333,
              "#9c179e"
             ],
             [
              0.4444444444444444,
              "#bd3786"
             ],
             [
              0.5555555555555556,
              "#d8576b"
             ],
             [
              0.6666666666666666,
              "#ed7953"
             ],
             [
              0.7777777777777778,
              "#fb9f3a"
             ],
             [
              0.8888888888888888,
              "#fdca26"
             ],
             [
              1,
              "#f0f921"
             ]
            ],
            "type": "heatmapgl"
           }
          ],
          "histogram": [
           {
            "marker": {
             "pattern": {
              "fillmode": "overlay",
              "size": 10,
              "solidity": 0.2
             }
            },
            "type": "histogram"
           }
          ],
          "histogram2d": [
           {
            "colorbar": {
             "outlinewidth": 0,
             "ticks": ""
            },
            "colorscale": [
             [
              0,
              "#0d0887"
             ],
             [
              0.1111111111111111,
              "#46039f"
             ],
             [
              0.2222222222222222,
              "#7201a8"
             ],
             [
              0.3333333333333333,
              "#9c179e"
             ],
             [
              0.4444444444444444,
              "#bd3786"
             ],
             [
              0.5555555555555556,
              "#d8576b"
             ],
             [
              0.6666666666666666,
              "#ed7953"
             ],
             [
              0.7777777777777778,
              "#fb9f3a"
             ],
             [
              0.8888888888888888,
              "#fdca26"
             ],
             [
              1,
              "#f0f921"
             ]
            ],
            "type": "histogram2d"
           }
          ],
          "histogram2dcontour": [
           {
            "colorbar": {
             "outlinewidth": 0,
             "ticks": ""
            },
            "colorscale": [
             [
              0,
              "#0d0887"
             ],
             [
              0.1111111111111111,
              "#46039f"
             ],
             [
              0.2222222222222222,
              "#7201a8"
             ],
             [
              0.3333333333333333,
              "#9c179e"
             ],
             [
              0.4444444444444444,
              "#bd3786"
             ],
             [
              0.5555555555555556,
              "#d8576b"
             ],
             [
              0.6666666666666666,
              "#ed7953"
             ],
             [
              0.7777777777777778,
              "#fb9f3a"
             ],
             [
              0.8888888888888888,
              "#fdca26"
             ],
             [
              1,
              "#f0f921"
             ]
            ],
            "type": "histogram2dcontour"
           }
          ],
          "mesh3d": [
           {
            "colorbar": {
             "outlinewidth": 0,
             "ticks": ""
            },
            "type": "mesh3d"
           }
          ],
          "parcoords": [
           {
            "line": {
             "colorbar": {
              "outlinewidth": 0,
              "ticks": ""
             }
            },
            "type": "parcoords"
           }
          ],
          "pie": [
           {
            "automargin": true,
            "type": "pie"
           }
          ],
          "scatter": [
           {
            "fillpattern": {
             "fillmode": "overlay",
             "size": 10,
             "solidity": 0.2
            },
            "type": "scatter"
           }
          ],
          "scatter3d": [
           {
            "line": {
             "colorbar": {
              "outlinewidth": 0,
              "ticks": ""
             }
            },
            "marker": {
             "colorbar": {
              "outlinewidth": 0,
              "ticks": ""
             }
            },
            "type": "scatter3d"
           }
          ],
          "scattercarpet": [
           {
            "marker": {
             "colorbar": {
              "outlinewidth": 0,
              "ticks": ""
             }
            },
            "type": "scattercarpet"
           }
          ],
          "scattergeo": [
           {
            "marker": {
             "colorbar": {
              "outlinewidth": 0,
              "ticks": ""
             }
            },
            "type": "scattergeo"
           }
          ],
          "scattergl": [
           {
            "marker": {
             "colorbar": {
              "outlinewidth": 0,
              "ticks": ""
             }
            },
            "type": "scattergl"
           }
          ],
          "scattermapbox": [
           {
            "marker": {
             "colorbar": {
              "outlinewidth": 0,
              "ticks": ""
             }
            },
            "type": "scattermapbox"
           }
          ],
          "scatterpolar": [
           {
            "marker": {
             "colorbar": {
              "outlinewidth": 0,
              "ticks": ""
             }
            },
            "type": "scatterpolar"
           }
          ],
          "scatterpolargl": [
           {
            "marker": {
             "colorbar": {
              "outlinewidth": 0,
              "ticks": ""
             }
            },
            "type": "scatterpolargl"
           }
          ],
          "scatterternary": [
           {
            "marker": {
             "colorbar": {
              "outlinewidth": 0,
              "ticks": ""
             }
            },
            "type": "scatterternary"
           }
          ],
          "surface": [
           {
            "colorbar": {
             "outlinewidth": 0,
             "ticks": ""
            },
            "colorscale": [
             [
              0,
              "#0d0887"
             ],
             [
              0.1111111111111111,
              "#46039f"
             ],
             [
              0.2222222222222222,
              "#7201a8"
             ],
             [
              0.3333333333333333,
              "#9c179e"
             ],
             [
              0.4444444444444444,
              "#bd3786"
             ],
             [
              0.5555555555555556,
              "#d8576b"
             ],
             [
              0.6666666666666666,
              "#ed7953"
             ],
             [
              0.7777777777777778,
              "#fb9f3a"
             ],
             [
              0.8888888888888888,
              "#fdca26"
             ],
             [
              1,
              "#f0f921"
             ]
            ],
            "type": "surface"
           }
          ],
          "table": [
           {
            "cells": {
             "fill": {
              "color": "#EBF0F8"
             },
             "line": {
              "color": "white"
             }
            },
            "header": {
             "fill": {
              "color": "#C8D4E3"
             },
             "line": {
              "color": "white"
             }
            },
            "type": "table"
           }
          ]
         },
         "layout": {
          "annotationdefaults": {
           "arrowcolor": "#2a3f5f",
           "arrowhead": 0,
           "arrowwidth": 1
          },
          "autotypenumbers": "strict",
          "coloraxis": {
           "colorbar": {
            "outlinewidth": 0,
            "ticks": ""
           }
          },
          "colorscale": {
           "diverging": [
            [
             0,
             "#8e0152"
            ],
            [
             0.1,
             "#c51b7d"
            ],
            [
             0.2,
             "#de77ae"
            ],
            [
             0.3,
             "#f1b6da"
            ],
            [
             0.4,
             "#fde0ef"
            ],
            [
             0.5,
             "#f7f7f7"
            ],
            [
             0.6,
             "#e6f5d0"
            ],
            [
             0.7,
             "#b8e186"
            ],
            [
             0.8,
             "#7fbc41"
            ],
            [
             0.9,
             "#4d9221"
            ],
            [
             1,
             "#276419"
            ]
           ],
           "sequential": [
            [
             0,
             "#0d0887"
            ],
            [
             0.1111111111111111,
             "#46039f"
            ],
            [
             0.2222222222222222,
             "#7201a8"
            ],
            [
             0.3333333333333333,
             "#9c179e"
            ],
            [
             0.4444444444444444,
             "#bd3786"
            ],
            [
             0.5555555555555556,
             "#d8576b"
            ],
            [
             0.6666666666666666,
             "#ed7953"
            ],
            [
             0.7777777777777778,
             "#fb9f3a"
            ],
            [
             0.8888888888888888,
             "#fdca26"
            ],
            [
             1,
             "#f0f921"
            ]
           ],
           "sequentialminus": [
            [
             0,
             "#0d0887"
            ],
            [
             0.1111111111111111,
             "#46039f"
            ],
            [
             0.2222222222222222,
             "#7201a8"
            ],
            [
             0.3333333333333333,
             "#9c179e"
            ],
            [
             0.4444444444444444,
             "#bd3786"
            ],
            [
             0.5555555555555556,
             "#d8576b"
            ],
            [
             0.6666666666666666,
             "#ed7953"
            ],
            [
             0.7777777777777778,
             "#fb9f3a"
            ],
            [
             0.8888888888888888,
             "#fdca26"
            ],
            [
             1,
             "#f0f921"
            ]
           ]
          },
          "colorway": [
           "#636efa",
           "#EF553B",
           "#00cc96",
           "#ab63fa",
           "#FFA15A",
           "#19d3f3",
           "#FF6692",
           "#B6E880",
           "#FF97FF",
           "#FECB52"
          ],
          "font": {
           "color": "#2a3f5f"
          },
          "geo": {
           "bgcolor": "white",
           "lakecolor": "white",
           "landcolor": "#E5ECF6",
           "showlakes": true,
           "showland": true,
           "subunitcolor": "white"
          },
          "hoverlabel": {
           "align": "left"
          },
          "hovermode": "closest",
          "mapbox": {
           "style": "light"
          },
          "paper_bgcolor": "white",
          "plot_bgcolor": "#E5ECF6",
          "polar": {
           "angularaxis": {
            "gridcolor": "white",
            "linecolor": "white",
            "ticks": ""
           },
           "bgcolor": "#E5ECF6",
           "radialaxis": {
            "gridcolor": "white",
            "linecolor": "white",
            "ticks": ""
           }
          },
          "scene": {
           "xaxis": {
            "backgroundcolor": "#E5ECF6",
            "gridcolor": "white",
            "gridwidth": 2,
            "linecolor": "white",
            "showbackground": true,
            "ticks": "",
            "zerolinecolor": "white"
           },
           "yaxis": {
            "backgroundcolor": "#E5ECF6",
            "gridcolor": "white",
            "gridwidth": 2,
            "linecolor": "white",
            "showbackground": true,
            "ticks": "",
            "zerolinecolor": "white"
           },
           "zaxis": {
            "backgroundcolor": "#E5ECF6",
            "gridcolor": "white",
            "gridwidth": 2,
            "linecolor": "white",
            "showbackground": true,
            "ticks": "",
            "zerolinecolor": "white"
           }
          },
          "shapedefaults": {
           "line": {
            "color": "#2a3f5f"
           }
          },
          "ternary": {
           "aaxis": {
            "gridcolor": "white",
            "linecolor": "white",
            "ticks": ""
           },
           "baxis": {
            "gridcolor": "white",
            "linecolor": "white",
            "ticks": ""
           },
           "bgcolor": "#E5ECF6",
           "caxis": {
            "gridcolor": "white",
            "linecolor": "white",
            "ticks": ""
           }
          },
          "title": {
           "x": 0.05
          },
          "xaxis": {
           "automargin": true,
           "gridcolor": "white",
           "linecolor": "white",
           "ticks": "",
           "title": {
            "standoff": 15
           },
           "zerolinecolor": "white",
           "zerolinewidth": 2
          },
          "yaxis": {
           "automargin": true,
           "gridcolor": "white",
           "linecolor": "white",
           "ticks": "",
           "title": {
            "standoff": 15
           },
           "zerolinecolor": "white",
           "zerolinewidth": 2
          }
         }
        },
        "title": {
         "text": "Views Distribution"
        }
       }
      }
     },
     "metadata": {},
     "output_type": "display_data"
    },
    {
     "data": {
      "application/vnd.plotly.v1+json": {
       "config": {
        "plotlyServerURL": "https://plot.ly"
       },
       "data": [
        {
         "customdata": [
          [
           342165
          ],
          [
           560885
          ],
          [
           315863
          ],
          [
           526221
          ]
         ],
         "domain": {
          "x": [
           0,
           1
          ],
          "y": [
           0,
           1
          ]
         },
         "hole": 0.3,
         "hovertemplate": "uploader=%{label}<br>comment_count=%{customdata[0]}<extra></extra>",
         "labels": [
          "TV9",
          "TV5",
          "ABN",
          "Sakshi"
         ],
         "legendgroup": "",
         "name": "",
         "showlegend": true,
         "textinfo": "percent+label",
         "textposition": "inside",
         "type": "pie",
         "values": [
          342165,
          560885,
          315863,
          526221
         ]
        }
       ],
       "layout": {
        "legend": {
         "tracegroupgap": 0
        },
        "template": {
         "data": {
          "bar": [
           {
            "error_x": {
             "color": "#2a3f5f"
            },
            "error_y": {
             "color": "#2a3f5f"
            },
            "marker": {
             "line": {
              "color": "#E5ECF6",
              "width": 0.5
             },
             "pattern": {
              "fillmode": "overlay",
              "size": 10,
              "solidity": 0.2
             }
            },
            "type": "bar"
           }
          ],
          "barpolar": [
           {
            "marker": {
             "line": {
              "color": "#E5ECF6",
              "width": 0.5
             },
             "pattern": {
              "fillmode": "overlay",
              "size": 10,
              "solidity": 0.2
             }
            },
            "type": "barpolar"
           }
          ],
          "carpet": [
           {
            "aaxis": {
             "endlinecolor": "#2a3f5f",
             "gridcolor": "white",
             "linecolor": "white",
             "minorgridcolor": "white",
             "startlinecolor": "#2a3f5f"
            },
            "baxis": {
             "endlinecolor": "#2a3f5f",
             "gridcolor": "white",
             "linecolor": "white",
             "minorgridcolor": "white",
             "startlinecolor": "#2a3f5f"
            },
            "type": "carpet"
           }
          ],
          "choropleth": [
           {
            "colorbar": {
             "outlinewidth": 0,
             "ticks": ""
            },
            "type": "choropleth"
           }
          ],
          "contour": [
           {
            "colorbar": {
             "outlinewidth": 0,
             "ticks": ""
            },
            "colorscale": [
             [
              0,
              "#0d0887"
             ],
             [
              0.1111111111111111,
              "#46039f"
             ],
             [
              0.2222222222222222,
              "#7201a8"
             ],
             [
              0.3333333333333333,
              "#9c179e"
             ],
             [
              0.4444444444444444,
              "#bd3786"
             ],
             [
              0.5555555555555556,
              "#d8576b"
             ],
             [
              0.6666666666666666,
              "#ed7953"
             ],
             [
              0.7777777777777778,
              "#fb9f3a"
             ],
             [
              0.8888888888888888,
              "#fdca26"
             ],
             [
              1,
              "#f0f921"
             ]
            ],
            "type": "contour"
           }
          ],
          "contourcarpet": [
           {
            "colorbar": {
             "outlinewidth": 0,
             "ticks": ""
            },
            "type": "contourcarpet"
           }
          ],
          "heatmap": [
           {
            "colorbar": {
             "outlinewidth": 0,
             "ticks": ""
            },
            "colorscale": [
             [
              0,
              "#0d0887"
             ],
             [
              0.1111111111111111,
              "#46039f"
             ],
             [
              0.2222222222222222,
              "#7201a8"
             ],
             [
              0.3333333333333333,
              "#9c179e"
             ],
             [
              0.4444444444444444,
              "#bd3786"
             ],
             [
              0.5555555555555556,
              "#d8576b"
             ],
             [
              0.6666666666666666,
              "#ed7953"
             ],
             [
              0.7777777777777778,
              "#fb9f3a"
             ],
             [
              0.8888888888888888,
              "#fdca26"
             ],
             [
              1,
              "#f0f921"
             ]
            ],
            "type": "heatmap"
           }
          ],
          "heatmapgl": [
           {
            "colorbar": {
             "outlinewidth": 0,
             "ticks": ""
            },
            "colorscale": [
             [
              0,
              "#0d0887"
             ],
             [
              0.1111111111111111,
              "#46039f"
             ],
             [
              0.2222222222222222,
              "#7201a8"
             ],
             [
              0.3333333333333333,
              "#9c179e"
             ],
             [
              0.4444444444444444,
              "#bd3786"
             ],
             [
              0.5555555555555556,
              "#d8576b"
             ],
             [
              0.6666666666666666,
              "#ed7953"
             ],
             [
              0.7777777777777778,
              "#fb9f3a"
             ],
             [
              0.8888888888888888,
              "#fdca26"
             ],
             [
              1,
              "#f0f921"
             ]
            ],
            "type": "heatmapgl"
           }
          ],
          "histogram": [
           {
            "marker": {
             "pattern": {
              "fillmode": "overlay",
              "size": 10,
              "solidity": 0.2
             }
            },
            "type": "histogram"
           }
          ],
          "histogram2d": [
           {
            "colorbar": {
             "outlinewidth": 0,
             "ticks": ""
            },
            "colorscale": [
             [
              0,
              "#0d0887"
             ],
             [
              0.1111111111111111,
              "#46039f"
             ],
             [
              0.2222222222222222,
              "#7201a8"
             ],
             [
              0.3333333333333333,
              "#9c179e"
             ],
             [
              0.4444444444444444,
              "#bd3786"
             ],
             [
              0.5555555555555556,
              "#d8576b"
             ],
             [
              0.6666666666666666,
              "#ed7953"
             ],
             [
              0.7777777777777778,
              "#fb9f3a"
             ],
             [
              0.8888888888888888,
              "#fdca26"
             ],
             [
              1,
              "#f0f921"
             ]
            ],
            "type": "histogram2d"
           }
          ],
          "histogram2dcontour": [
           {
            "colorbar": {
             "outlinewidth": 0,
             "ticks": ""
            },
            "colorscale": [
             [
              0,
              "#0d0887"
             ],
             [
              0.1111111111111111,
              "#46039f"
             ],
             [
              0.2222222222222222,
              "#7201a8"
             ],
             [
              0.3333333333333333,
              "#9c179e"
             ],
             [
              0.4444444444444444,
              "#bd3786"
             ],
             [
              0.5555555555555556,
              "#d8576b"
             ],
             [
              0.6666666666666666,
              "#ed7953"
             ],
             [
              0.7777777777777778,
              "#fb9f3a"
             ],
             [
              0.8888888888888888,
              "#fdca26"
             ],
             [
              1,
              "#f0f921"
             ]
            ],
            "type": "histogram2dcontour"
           }
          ],
          "mesh3d": [
           {
            "colorbar": {
             "outlinewidth": 0,
             "ticks": ""
            },
            "type": "mesh3d"
           }
          ],
          "parcoords": [
           {
            "line": {
             "colorbar": {
              "outlinewidth": 0,
              "ticks": ""
             }
            },
            "type": "parcoords"
           }
          ],
          "pie": [
           {
            "automargin": true,
            "type": "pie"
           }
          ],
          "scatter": [
           {
            "fillpattern": {
             "fillmode": "overlay",
             "size": 10,
             "solidity": 0.2
            },
            "type": "scatter"
           }
          ],
          "scatter3d": [
           {
            "line": {
             "colorbar": {
              "outlinewidth": 0,
              "ticks": ""
             }
            },
            "marker": {
             "colorbar": {
              "outlinewidth": 0,
              "ticks": ""
             }
            },
            "type": "scatter3d"
           }
          ],
          "scattercarpet": [
           {
            "marker": {
             "colorbar": {
              "outlinewidth": 0,
              "ticks": ""
             }
            },
            "type": "scattercarpet"
           }
          ],
          "scattergeo": [
           {
            "marker": {
             "colorbar": {
              "outlinewidth": 0,
              "ticks": ""
             }
            },
            "type": "scattergeo"
           }
          ],
          "scattergl": [
           {
            "marker": {
             "colorbar": {
              "outlinewidth": 0,
              "ticks": ""
             }
            },
            "type": "scattergl"
           }
          ],
          "scattermapbox": [
           {
            "marker": {
             "colorbar": {
              "outlinewidth": 0,
              "ticks": ""
             }
            },
            "type": "scattermapbox"
           }
          ],
          "scatterpolar": [
           {
            "marker": {
             "colorbar": {
              "outlinewidth": 0,
              "ticks": ""
             }
            },
            "type": "scatterpolar"
           }
          ],
          "scatterpolargl": [
           {
            "marker": {
             "colorbar": {
              "outlinewidth": 0,
              "ticks": ""
             }
            },
            "type": "scatterpolargl"
           }
          ],
          "scatterternary": [
           {
            "marker": {
             "colorbar": {
              "outlinewidth": 0,
              "ticks": ""
             }
            },
            "type": "scatterternary"
           }
          ],
          "surface": [
           {
            "colorbar": {
             "outlinewidth": 0,
             "ticks": ""
            },
            "colorscale": [
             [
              0,
              "#0d0887"
             ],
             [
              0.1111111111111111,
              "#46039f"
             ],
             [
              0.2222222222222222,
              "#7201a8"
             ],
             [
              0.3333333333333333,
              "#9c179e"
             ],
             [
              0.4444444444444444,
              "#bd3786"
             ],
             [
              0.5555555555555556,
              "#d8576b"
             ],
             [
              0.6666666666666666,
              "#ed7953"
             ],
             [
              0.7777777777777778,
              "#fb9f3a"
             ],
             [
              0.8888888888888888,
              "#fdca26"
             ],
             [
              1,
              "#f0f921"
             ]
            ],
            "type": "surface"
           }
          ],
          "table": [
           {
            "cells": {
             "fill": {
              "color": "#EBF0F8"
             },
             "line": {
              "color": "white"
             }
            },
            "header": {
             "fill": {
              "color": "#C8D4E3"
             },
             "line": {
              "color": "white"
             }
            },
            "type": "table"
           }
          ]
         },
         "layout": {
          "annotationdefaults": {
           "arrowcolor": "#2a3f5f",
           "arrowhead": 0,
           "arrowwidth": 1
          },
          "autotypenumbers": "strict",
          "coloraxis": {
           "colorbar": {
            "outlinewidth": 0,
            "ticks": ""
           }
          },
          "colorscale": {
           "diverging": [
            [
             0,
             "#8e0152"
            ],
            [
             0.1,
             "#c51b7d"
            ],
            [
             0.2,
             "#de77ae"
            ],
            [
             0.3,
             "#f1b6da"
            ],
            [
             0.4,
             "#fde0ef"
            ],
            [
             0.5,
             "#f7f7f7"
            ],
            [
             0.6,
             "#e6f5d0"
            ],
            [
             0.7,
             "#b8e186"
            ],
            [
             0.8,
             "#7fbc41"
            ],
            [
             0.9,
             "#4d9221"
            ],
            [
             1,
             "#276419"
            ]
           ],
           "sequential": [
            [
             0,
             "#0d0887"
            ],
            [
             0.1111111111111111,
             "#46039f"
            ],
            [
             0.2222222222222222,
             "#7201a8"
            ],
            [
             0.3333333333333333,
             "#9c179e"
            ],
            [
             0.4444444444444444,
             "#bd3786"
            ],
            [
             0.5555555555555556,
             "#d8576b"
            ],
            [
             0.6666666666666666,
             "#ed7953"
            ],
            [
             0.7777777777777778,
             "#fb9f3a"
            ],
            [
             0.8888888888888888,
             "#fdca26"
            ],
            [
             1,
             "#f0f921"
            ]
           ],
           "sequentialminus": [
            [
             0,
             "#0d0887"
            ],
            [
             0.1111111111111111,
             "#46039f"
            ],
            [
             0.2222222222222222,
             "#7201a8"
            ],
            [
             0.3333333333333333,
             "#9c179e"
            ],
            [
             0.4444444444444444,
             "#bd3786"
            ],
            [
             0.5555555555555556,
             "#d8576b"
            ],
            [
             0.6666666666666666,
             "#ed7953"
            ],
            [
             0.7777777777777778,
             "#fb9f3a"
            ],
            [
             0.8888888888888888,
             "#fdca26"
            ],
            [
             1,
             "#f0f921"
            ]
           ]
          },
          "colorway": [
           "#636efa",
           "#EF553B",
           "#00cc96",
           "#ab63fa",
           "#FFA15A",
           "#19d3f3",
           "#FF6692",
           "#B6E880",
           "#FF97FF",
           "#FECB52"
          ],
          "font": {
           "color": "#2a3f5f"
          },
          "geo": {
           "bgcolor": "white",
           "lakecolor": "white",
           "landcolor": "#E5ECF6",
           "showlakes": true,
           "showland": true,
           "subunitcolor": "white"
          },
          "hoverlabel": {
           "align": "left"
          },
          "hovermode": "closest",
          "mapbox": {
           "style": "light"
          },
          "paper_bgcolor": "white",
          "plot_bgcolor": "#E5ECF6",
          "polar": {
           "angularaxis": {
            "gridcolor": "white",
            "linecolor": "white",
            "ticks": ""
           },
           "bgcolor": "#E5ECF6",
           "radialaxis": {
            "gridcolor": "white",
            "linecolor": "white",
            "ticks": ""
           }
          },
          "scene": {
           "xaxis": {
            "backgroundcolor": "#E5ECF6",
            "gridcolor": "white",
            "gridwidth": 2,
            "linecolor": "white",
            "showbackground": true,
            "ticks": "",
            "zerolinecolor": "white"
           },
           "yaxis": {
            "backgroundcolor": "#E5ECF6",
            "gridcolor": "white",
            "gridwidth": 2,
            "linecolor": "white",
            "showbackground": true,
            "ticks": "",
            "zerolinecolor": "white"
           },
           "zaxis": {
            "backgroundcolor": "#E5ECF6",
            "gridcolor": "white",
            "gridwidth": 2,
            "linecolor": "white",
            "showbackground": true,
            "ticks": "",
            "zerolinecolor": "white"
           }
          },
          "shapedefaults": {
           "line": {
            "color": "#2a3f5f"
           }
          },
          "ternary": {
           "aaxis": {
            "gridcolor": "white",
            "linecolor": "white",
            "ticks": ""
           },
           "baxis": {
            "gridcolor": "white",
            "linecolor": "white",
            "ticks": ""
           },
           "bgcolor": "#E5ECF6",
           "caxis": {
            "gridcolor": "white",
            "linecolor": "white",
            "ticks": ""
           }
          },
          "title": {
           "x": 0.05
          },
          "xaxis": {
           "automargin": true,
           "gridcolor": "white",
           "linecolor": "white",
           "ticks": "",
           "title": {
            "standoff": 15
           },
           "zerolinecolor": "white",
           "zerolinewidth": 2
          },
          "yaxis": {
           "automargin": true,
           "gridcolor": "white",
           "linecolor": "white",
           "ticks": "",
           "title": {
            "standoff": 15
           },
           "zerolinecolor": "white",
           "zerolinewidth": 2
          }
         }
        },
        "title": {
         "text": "comment Distribution"
        }
       }
      }
     },
     "metadata": {},
     "output_type": "display_data"
    },
    {
     "data": {
      "application/vnd.plotly.v1+json": {
       "config": {
        "plotlyServerURL": "https://plot.ly"
       },
       "data": [
        {
         "customdata": [
          [
           9734.82138888889
          ],
          [
           17857.368055555555
          ],
          [
           30998.60722222222
          ],
          [
           3898.3005555555555
          ]
         ],
         "domain": {
          "x": [
           0,
           1
          ],
          "y": [
           0,
           1
          ]
         },
         "hole": 0.3,
         "hovertemplate": "uploader=%{label}<br>duration=%{customdata[0]}<extra></extra>",
         "labels": [
          "TV9",
          "TV5",
          "ABN",
          "Sakshi"
         ],
         "legendgroup": "",
         "name": "",
         "showlegend": true,
         "textinfo": "percent+label",
         "textposition": "inside",
         "type": "pie",
         "values": [
          9734.82138888889,
          17857.368055555555,
          30998.60722222222,
          3898.3005555555555
         ]
        }
       ],
       "layout": {
        "legend": {
         "tracegroupgap": 0
        },
        "template": {
         "data": {
          "bar": [
           {
            "error_x": {
             "color": "#2a3f5f"
            },
            "error_y": {
             "color": "#2a3f5f"
            },
            "marker": {
             "line": {
              "color": "#E5ECF6",
              "width": 0.5
             },
             "pattern": {
              "fillmode": "overlay",
              "size": 10,
              "solidity": 0.2
             }
            },
            "type": "bar"
           }
          ],
          "barpolar": [
           {
            "marker": {
             "line": {
              "color": "#E5ECF6",
              "width": 0.5
             },
             "pattern": {
              "fillmode": "overlay",
              "size": 10,
              "solidity": 0.2
             }
            },
            "type": "barpolar"
           }
          ],
          "carpet": [
           {
            "aaxis": {
             "endlinecolor": "#2a3f5f",
             "gridcolor": "white",
             "linecolor": "white",
             "minorgridcolor": "white",
             "startlinecolor": "#2a3f5f"
            },
            "baxis": {
             "endlinecolor": "#2a3f5f",
             "gridcolor": "white",
             "linecolor": "white",
             "minorgridcolor": "white",
             "startlinecolor": "#2a3f5f"
            },
            "type": "carpet"
           }
          ],
          "choropleth": [
           {
            "colorbar": {
             "outlinewidth": 0,
             "ticks": ""
            },
            "type": "choropleth"
           }
          ],
          "contour": [
           {
            "colorbar": {
             "outlinewidth": 0,
             "ticks": ""
            },
            "colorscale": [
             [
              0,
              "#0d0887"
             ],
             [
              0.1111111111111111,
              "#46039f"
             ],
             [
              0.2222222222222222,
              "#7201a8"
             ],
             [
              0.3333333333333333,
              "#9c179e"
             ],
             [
              0.4444444444444444,
              "#bd3786"
             ],
             [
              0.5555555555555556,
              "#d8576b"
             ],
             [
              0.6666666666666666,
              "#ed7953"
             ],
             [
              0.7777777777777778,
              "#fb9f3a"
             ],
             [
              0.8888888888888888,
              "#fdca26"
             ],
             [
              1,
              "#f0f921"
             ]
            ],
            "type": "contour"
           }
          ],
          "contourcarpet": [
           {
            "colorbar": {
             "outlinewidth": 0,
             "ticks": ""
            },
            "type": "contourcarpet"
           }
          ],
          "heatmap": [
           {
            "colorbar": {
             "outlinewidth": 0,
             "ticks": ""
            },
            "colorscale": [
             [
              0,
              "#0d0887"
             ],
             [
              0.1111111111111111,
              "#46039f"
             ],
             [
              0.2222222222222222,
              "#7201a8"
             ],
             [
              0.3333333333333333,
              "#9c179e"
             ],
             [
              0.4444444444444444,
              "#bd3786"
             ],
             [
              0.5555555555555556,
              "#d8576b"
             ],
             [
              0.6666666666666666,
              "#ed7953"
             ],
             [
              0.7777777777777778,
              "#fb9f3a"
             ],
             [
              0.8888888888888888,
              "#fdca26"
             ],
             [
              1,
              "#f0f921"
             ]
            ],
            "type": "heatmap"
           }
          ],
          "heatmapgl": [
           {
            "colorbar": {
             "outlinewidth": 0,
             "ticks": ""
            },
            "colorscale": [
             [
              0,
              "#0d0887"
             ],
             [
              0.1111111111111111,
              "#46039f"
             ],
             [
              0.2222222222222222,
              "#7201a8"
             ],
             [
              0.3333333333333333,
              "#9c179e"
             ],
             [
              0.4444444444444444,
              "#bd3786"
             ],
             [
              0.5555555555555556,
              "#d8576b"
             ],
             [
              0.6666666666666666,
              "#ed7953"
             ],
             [
              0.7777777777777778,
              "#fb9f3a"
             ],
             [
              0.8888888888888888,
              "#fdca26"
             ],
             [
              1,
              "#f0f921"
             ]
            ],
            "type": "heatmapgl"
           }
          ],
          "histogram": [
           {
            "marker": {
             "pattern": {
              "fillmode": "overlay",
              "size": 10,
              "solidity": 0.2
             }
            },
            "type": "histogram"
           }
          ],
          "histogram2d": [
           {
            "colorbar": {
             "outlinewidth": 0,
             "ticks": ""
            },
            "colorscale": [
             [
              0,
              "#0d0887"
             ],
             [
              0.1111111111111111,
              "#46039f"
             ],
             [
              0.2222222222222222,
              "#7201a8"
             ],
             [
              0.3333333333333333,
              "#9c179e"
             ],
             [
              0.4444444444444444,
              "#bd3786"
             ],
             [
              0.5555555555555556,
              "#d8576b"
             ],
             [
              0.6666666666666666,
              "#ed7953"
             ],
             [
              0.7777777777777778,
              "#fb9f3a"
             ],
             [
              0.8888888888888888,
              "#fdca26"
             ],
             [
              1,
              "#f0f921"
             ]
            ],
            "type": "histogram2d"
           }
          ],
          "histogram2dcontour": [
           {
            "colorbar": {
             "outlinewidth": 0,
             "ticks": ""
            },
            "colorscale": [
             [
              0,
              "#0d0887"
             ],
             [
              0.1111111111111111,
              "#46039f"
             ],
             [
              0.2222222222222222,
              "#7201a8"
             ],
             [
              0.3333333333333333,
              "#9c179e"
             ],
             [
              0.4444444444444444,
              "#bd3786"
             ],
             [
              0.5555555555555556,
              "#d8576b"
             ],
             [
              0.6666666666666666,
              "#ed7953"
             ],
             [
              0.7777777777777778,
              "#fb9f3a"
             ],
             [
              0.8888888888888888,
              "#fdca26"
             ],
             [
              1,
              "#f0f921"
             ]
            ],
            "type": "histogram2dcontour"
           }
          ],
          "mesh3d": [
           {
            "colorbar": {
             "outlinewidth": 0,
             "ticks": ""
            },
            "type": "mesh3d"
           }
          ],
          "parcoords": [
           {
            "line": {
             "colorbar": {
              "outlinewidth": 0,
              "ticks": ""
             }
            },
            "type": "parcoords"
           }
          ],
          "pie": [
           {
            "automargin": true,
            "type": "pie"
           }
          ],
          "scatter": [
           {
            "fillpattern": {
             "fillmode": "overlay",
             "size": 10,
             "solidity": 0.2
            },
            "type": "scatter"
           }
          ],
          "scatter3d": [
           {
            "line": {
             "colorbar": {
              "outlinewidth": 0,
              "ticks": ""
             }
            },
            "marker": {
             "colorbar": {
              "outlinewidth": 0,
              "ticks": ""
             }
            },
            "type": "scatter3d"
           }
          ],
          "scattercarpet": [
           {
            "marker": {
             "colorbar": {
              "outlinewidth": 0,
              "ticks": ""
             }
            },
            "type": "scattercarpet"
           }
          ],
          "scattergeo": [
           {
            "marker": {
             "colorbar": {
              "outlinewidth": 0,
              "ticks": ""
             }
            },
            "type": "scattergeo"
           }
          ],
          "scattergl": [
           {
            "marker": {
             "colorbar": {
              "outlinewidth": 0,
              "ticks": ""
             }
            },
            "type": "scattergl"
           }
          ],
          "scattermapbox": [
           {
            "marker": {
             "colorbar": {
              "outlinewidth": 0,
              "ticks": ""
             }
            },
            "type": "scattermapbox"
           }
          ],
          "scatterpolar": [
           {
            "marker": {
             "colorbar": {
              "outlinewidth": 0,
              "ticks": ""
             }
            },
            "type": "scatterpolar"
           }
          ],
          "scatterpolargl": [
           {
            "marker": {
             "colorbar": {
              "outlinewidth": 0,
              "ticks": ""
             }
            },
            "type": "scatterpolargl"
           }
          ],
          "scatterternary": [
           {
            "marker": {
             "colorbar": {
              "outlinewidth": 0,
              "ticks": ""
             }
            },
            "type": "scatterternary"
           }
          ],
          "surface": [
           {
            "colorbar": {
             "outlinewidth": 0,
             "ticks": ""
            },
            "colorscale": [
             [
              0,
              "#0d0887"
             ],
             [
              0.1111111111111111,
              "#46039f"
             ],
             [
              0.2222222222222222,
              "#7201a8"
             ],
             [
              0.3333333333333333,
              "#9c179e"
             ],
             [
              0.4444444444444444,
              "#bd3786"
             ],
             [
              0.5555555555555556,
              "#d8576b"
             ],
             [
              0.6666666666666666,
              "#ed7953"
             ],
             [
              0.7777777777777778,
              "#fb9f3a"
             ],
             [
              0.8888888888888888,
              "#fdca26"
             ],
             [
              1,
              "#f0f921"
             ]
            ],
            "type": "surface"
           }
          ],
          "table": [
           {
            "cells": {
             "fill": {
              "color": "#EBF0F8"
             },
             "line": {
              "color": "white"
             }
            },
            "header": {
             "fill": {
              "color": "#C8D4E3"
             },
             "line": {
              "color": "white"
             }
            },
            "type": "table"
           }
          ]
         },
         "layout": {
          "annotationdefaults": {
           "arrowcolor": "#2a3f5f",
           "arrowhead": 0,
           "arrowwidth": 1
          },
          "autotypenumbers": "strict",
          "coloraxis": {
           "colorbar": {
            "outlinewidth": 0,
            "ticks": ""
           }
          },
          "colorscale": {
           "diverging": [
            [
             0,
             "#8e0152"
            ],
            [
             0.1,
             "#c51b7d"
            ],
            [
             0.2,
             "#de77ae"
            ],
            [
             0.3,
             "#f1b6da"
            ],
            [
             0.4,
             "#fde0ef"
            ],
            [
             0.5,
             "#f7f7f7"
            ],
            [
             0.6,
             "#e6f5d0"
            ],
            [
             0.7,
             "#b8e186"
            ],
            [
             0.8,
             "#7fbc41"
            ],
            [
             0.9,
             "#4d9221"
            ],
            [
             1,
             "#276419"
            ]
           ],
           "sequential": [
            [
             0,
             "#0d0887"
            ],
            [
             0.1111111111111111,
             "#46039f"
            ],
            [
             0.2222222222222222,
             "#7201a8"
            ],
            [
             0.3333333333333333,
             "#9c179e"
            ],
            [
             0.4444444444444444,
             "#bd3786"
            ],
            [
             0.5555555555555556,
             "#d8576b"
            ],
            [
             0.6666666666666666,
             "#ed7953"
            ],
            [
             0.7777777777777778,
             "#fb9f3a"
            ],
            [
             0.8888888888888888,
             "#fdca26"
            ],
            [
             1,
             "#f0f921"
            ]
           ],
           "sequentialminus": [
            [
             0,
             "#0d0887"
            ],
            [
             0.1111111111111111,
             "#46039f"
            ],
            [
             0.2222222222222222,
             "#7201a8"
            ],
            [
             0.3333333333333333,
             "#9c179e"
            ],
            [
             0.4444444444444444,
             "#bd3786"
            ],
            [
             0.5555555555555556,
             "#d8576b"
            ],
            [
             0.6666666666666666,
             "#ed7953"
            ],
            [
             0.7777777777777778,
             "#fb9f3a"
            ],
            [
             0.8888888888888888,
             "#fdca26"
            ],
            [
             1,
             "#f0f921"
            ]
           ]
          },
          "colorway": [
           "#636efa",
           "#EF553B",
           "#00cc96",
           "#ab63fa",
           "#FFA15A",
           "#19d3f3",
           "#FF6692",
           "#B6E880",
           "#FF97FF",
           "#FECB52"
          ],
          "font": {
           "color": "#2a3f5f"
          },
          "geo": {
           "bgcolor": "white",
           "lakecolor": "white",
           "landcolor": "#E5ECF6",
           "showlakes": true,
           "showland": true,
           "subunitcolor": "white"
          },
          "hoverlabel": {
           "align": "left"
          },
          "hovermode": "closest",
          "mapbox": {
           "style": "light"
          },
          "paper_bgcolor": "white",
          "plot_bgcolor": "#E5ECF6",
          "polar": {
           "angularaxis": {
            "gridcolor": "white",
            "linecolor": "white",
            "ticks": ""
           },
           "bgcolor": "#E5ECF6",
           "radialaxis": {
            "gridcolor": "white",
            "linecolor": "white",
            "ticks": ""
           }
          },
          "scene": {
           "xaxis": {
            "backgroundcolor": "#E5ECF6",
            "gridcolor": "white",
            "gridwidth": 2,
            "linecolor": "white",
            "showbackground": true,
            "ticks": "",
            "zerolinecolor": "white"
           },
           "yaxis": {
            "backgroundcolor": "#E5ECF6",
            "gridcolor": "white",
            "gridwidth": 2,
            "linecolor": "white",
            "showbackground": true,
            "ticks": "",
            "zerolinecolor": "white"
           },
           "zaxis": {
            "backgroundcolor": "#E5ECF6",
            "gridcolor": "white",
            "gridwidth": 2,
            "linecolor": "white",
            "showbackground": true,
            "ticks": "",
            "zerolinecolor": "white"
           }
          },
          "shapedefaults": {
           "line": {
            "color": "#2a3f5f"
           }
          },
          "ternary": {
           "aaxis": {
            "gridcolor": "white",
            "linecolor": "white",
            "ticks": ""
           },
           "baxis": {
            "gridcolor": "white",
            "linecolor": "white",
            "ticks": ""
           },
           "bgcolor": "#E5ECF6",
           "caxis": {
            "gridcolor": "white",
            "linecolor": "white",
            "ticks": ""
           }
          },
          "title": {
           "x": 0.05
          },
          "xaxis": {
           "automargin": true,
           "gridcolor": "white",
           "linecolor": "white",
           "ticks": "",
           "title": {
            "standoff": 15
           },
           "zerolinecolor": "white",
           "zerolinewidth": 2
          },
          "yaxis": {
           "automargin": true,
           "gridcolor": "white",
           "linecolor": "white",
           "ticks": "",
           "title": {
            "standoff": 15
           },
           "zerolinecolor": "white",
           "zerolinewidth": 2
          }
         }
        },
        "title": {
         "text": "duration Distribution"
        }
       }
      }
     },
     "metadata": {},
     "output_type": "display_data"
    },
    {
     "data": {
      "application/vnd.plotly.v1+json": {
       "config": {
        "plotlyServerURL": "https://plot.ly"
       },
       "data": [
        {
         "customdata": [
          [
           32886
          ],
          [
           27133
          ],
          [
           28051
          ],
          [
           8675
          ]
         ],
         "domain": {
          "x": [
           0,
           1
          ],
          "y": [
           0,
           1
          ]
         },
         "hole": 0.3,
         "hovertemplate": "uploader=%{label}<br>uploads=%{customdata[0]}<extra></extra>",
         "labels": [
          "TV9",
          "TV5",
          "ABN",
          "Sakshi"
         ],
         "legendgroup": "",
         "name": "",
         "showlegend": true,
         "textinfo": "percent+label",
         "textposition": "inside",
         "type": "pie",
         "values": [
          32886,
          27133,
          28051,
          8675
         ]
        }
       ],
       "layout": {
        "legend": {
         "tracegroupgap": 0
        },
        "template": {
         "data": {
          "bar": [
           {
            "error_x": {
             "color": "#2a3f5f"
            },
            "error_y": {
             "color": "#2a3f5f"
            },
            "marker": {
             "line": {
              "color": "#E5ECF6",
              "width": 0.5
             },
             "pattern": {
              "fillmode": "overlay",
              "size": 10,
              "solidity": 0.2
             }
            },
            "type": "bar"
           }
          ],
          "barpolar": [
           {
            "marker": {
             "line": {
              "color": "#E5ECF6",
              "width": 0.5
             },
             "pattern": {
              "fillmode": "overlay",
              "size": 10,
              "solidity": 0.2
             }
            },
            "type": "barpolar"
           }
          ],
          "carpet": [
           {
            "aaxis": {
             "endlinecolor": "#2a3f5f",
             "gridcolor": "white",
             "linecolor": "white",
             "minorgridcolor": "white",
             "startlinecolor": "#2a3f5f"
            },
            "baxis": {
             "endlinecolor": "#2a3f5f",
             "gridcolor": "white",
             "linecolor": "white",
             "minorgridcolor": "white",
             "startlinecolor": "#2a3f5f"
            },
            "type": "carpet"
           }
          ],
          "choropleth": [
           {
            "colorbar": {
             "outlinewidth": 0,
             "ticks": ""
            },
            "type": "choropleth"
           }
          ],
          "contour": [
           {
            "colorbar": {
             "outlinewidth": 0,
             "ticks": ""
            },
            "colorscale": [
             [
              0,
              "#0d0887"
             ],
             [
              0.1111111111111111,
              "#46039f"
             ],
             [
              0.2222222222222222,
              "#7201a8"
             ],
             [
              0.3333333333333333,
              "#9c179e"
             ],
             [
              0.4444444444444444,
              "#bd3786"
             ],
             [
              0.5555555555555556,
              "#d8576b"
             ],
             [
              0.6666666666666666,
              "#ed7953"
             ],
             [
              0.7777777777777778,
              "#fb9f3a"
             ],
             [
              0.8888888888888888,
              "#fdca26"
             ],
             [
              1,
              "#f0f921"
             ]
            ],
            "type": "contour"
           }
          ],
          "contourcarpet": [
           {
            "colorbar": {
             "outlinewidth": 0,
             "ticks": ""
            },
            "type": "contourcarpet"
           }
          ],
          "heatmap": [
           {
            "colorbar": {
             "outlinewidth": 0,
             "ticks": ""
            },
            "colorscale": [
             [
              0,
              "#0d0887"
             ],
             [
              0.1111111111111111,
              "#46039f"
             ],
             [
              0.2222222222222222,
              "#7201a8"
             ],
             [
              0.3333333333333333,
              "#9c179e"
             ],
             [
              0.4444444444444444,
              "#bd3786"
             ],
             [
              0.5555555555555556,
              "#d8576b"
             ],
             [
              0.6666666666666666,
              "#ed7953"
             ],
             [
              0.7777777777777778,
              "#fb9f3a"
             ],
             [
              0.8888888888888888,
              "#fdca26"
             ],
             [
              1,
              "#f0f921"
             ]
            ],
            "type": "heatmap"
           }
          ],
          "heatmapgl": [
           {
            "colorbar": {
             "outlinewidth": 0,
             "ticks": ""
            },
            "colorscale": [
             [
              0,
              "#0d0887"
             ],
             [
              0.1111111111111111,
              "#46039f"
             ],
             [
              0.2222222222222222,
              "#7201a8"
             ],
             [
              0.3333333333333333,
              "#9c179e"
             ],
             [
              0.4444444444444444,
              "#bd3786"
             ],
             [
              0.5555555555555556,
              "#d8576b"
             ],
             [
              0.6666666666666666,
              "#ed7953"
             ],
             [
              0.7777777777777778,
              "#fb9f3a"
             ],
             [
              0.8888888888888888,
              "#fdca26"
             ],
             [
              1,
              "#f0f921"
             ]
            ],
            "type": "heatmapgl"
           }
          ],
          "histogram": [
           {
            "marker": {
             "pattern": {
              "fillmode": "overlay",
              "size": 10,
              "solidity": 0.2
             }
            },
            "type": "histogram"
           }
          ],
          "histogram2d": [
           {
            "colorbar": {
             "outlinewidth": 0,
             "ticks": ""
            },
            "colorscale": [
             [
              0,
              "#0d0887"
             ],
             [
              0.1111111111111111,
              "#46039f"
             ],
             [
              0.2222222222222222,
              "#7201a8"
             ],
             [
              0.3333333333333333,
              "#9c179e"
             ],
             [
              0.4444444444444444,
              "#bd3786"
             ],
             [
              0.5555555555555556,
              "#d8576b"
             ],
             [
              0.6666666666666666,
              "#ed7953"
             ],
             [
              0.7777777777777778,
              "#fb9f3a"
             ],
             [
              0.8888888888888888,
              "#fdca26"
             ],
             [
              1,
              "#f0f921"
             ]
            ],
            "type": "histogram2d"
           }
          ],
          "histogram2dcontour": [
           {
            "colorbar": {
             "outlinewidth": 0,
             "ticks": ""
            },
            "colorscale": [
             [
              0,
              "#0d0887"
             ],
             [
              0.1111111111111111,
              "#46039f"
             ],
             [
              0.2222222222222222,
              "#7201a8"
             ],
             [
              0.3333333333333333,
              "#9c179e"
             ],
             [
              0.4444444444444444,
              "#bd3786"
             ],
             [
              0.5555555555555556,
              "#d8576b"
             ],
             [
              0.6666666666666666,
              "#ed7953"
             ],
             [
              0.7777777777777778,
              "#fb9f3a"
             ],
             [
              0.8888888888888888,
              "#fdca26"
             ],
             [
              1,
              "#f0f921"
             ]
            ],
            "type": "histogram2dcontour"
           }
          ],
          "mesh3d": [
           {
            "colorbar": {
             "outlinewidth": 0,
             "ticks": ""
            },
            "type": "mesh3d"
           }
          ],
          "parcoords": [
           {
            "line": {
             "colorbar": {
              "outlinewidth": 0,
              "ticks": ""
             }
            },
            "type": "parcoords"
           }
          ],
          "pie": [
           {
            "automargin": true,
            "type": "pie"
           }
          ],
          "scatter": [
           {
            "fillpattern": {
             "fillmode": "overlay",
             "size": 10,
             "solidity": 0.2
            },
            "type": "scatter"
           }
          ],
          "scatter3d": [
           {
            "line": {
             "colorbar": {
              "outlinewidth": 0,
              "ticks": ""
             }
            },
            "marker": {
             "colorbar": {
              "outlinewidth": 0,
              "ticks": ""
             }
            },
            "type": "scatter3d"
           }
          ],
          "scattercarpet": [
           {
            "marker": {
             "colorbar": {
              "outlinewidth": 0,
              "ticks": ""
             }
            },
            "type": "scattercarpet"
           }
          ],
          "scattergeo": [
           {
            "marker": {
             "colorbar": {
              "outlinewidth": 0,
              "ticks": ""
             }
            },
            "type": "scattergeo"
           }
          ],
          "scattergl": [
           {
            "marker": {
             "colorbar": {
              "outlinewidth": 0,
              "ticks": ""
             }
            },
            "type": "scattergl"
           }
          ],
          "scattermapbox": [
           {
            "marker": {
             "colorbar": {
              "outlinewidth": 0,
              "ticks": ""
             }
            },
            "type": "scattermapbox"
           }
          ],
          "scatterpolar": [
           {
            "marker": {
             "colorbar": {
              "outlinewidth": 0,
              "ticks": ""
             }
            },
            "type": "scatterpolar"
           }
          ],
          "scatterpolargl": [
           {
            "marker": {
             "colorbar": {
              "outlinewidth": 0,
              "ticks": ""
             }
            },
            "type": "scatterpolargl"
           }
          ],
          "scatterternary": [
           {
            "marker": {
             "colorbar": {
              "outlinewidth": 0,
              "ticks": ""
             }
            },
            "type": "scatterternary"
           }
          ],
          "surface": [
           {
            "colorbar": {
             "outlinewidth": 0,
             "ticks": ""
            },
            "colorscale": [
             [
              0,
              "#0d0887"
             ],
             [
              0.1111111111111111,
              "#46039f"
             ],
             [
              0.2222222222222222,
              "#7201a8"
             ],
             [
              0.3333333333333333,
              "#9c179e"
             ],
             [
              0.4444444444444444,
              "#bd3786"
             ],
             [
              0.5555555555555556,
              "#d8576b"
             ],
             [
              0.6666666666666666,
              "#ed7953"
             ],
             [
              0.7777777777777778,
              "#fb9f3a"
             ],
             [
              0.8888888888888888,
              "#fdca26"
             ],
             [
              1,
              "#f0f921"
             ]
            ],
            "type": "surface"
           }
          ],
          "table": [
           {
            "cells": {
             "fill": {
              "color": "#EBF0F8"
             },
             "line": {
              "color": "white"
             }
            },
            "header": {
             "fill": {
              "color": "#C8D4E3"
             },
             "line": {
              "color": "white"
             }
            },
            "type": "table"
           }
          ]
         },
         "layout": {
          "annotationdefaults": {
           "arrowcolor": "#2a3f5f",
           "arrowhead": 0,
           "arrowwidth": 1
          },
          "autotypenumbers": "strict",
          "coloraxis": {
           "colorbar": {
            "outlinewidth": 0,
            "ticks": ""
           }
          },
          "colorscale": {
           "diverging": [
            [
             0,
             "#8e0152"
            ],
            [
             0.1,
             "#c51b7d"
            ],
            [
             0.2,
             "#de77ae"
            ],
            [
             0.3,
             "#f1b6da"
            ],
            [
             0.4,
             "#fde0ef"
            ],
            [
             0.5,
             "#f7f7f7"
            ],
            [
             0.6,
             "#e6f5d0"
            ],
            [
             0.7,
             "#b8e186"
            ],
            [
             0.8,
             "#7fbc41"
            ],
            [
             0.9,
             "#4d9221"
            ],
            [
             1,
             "#276419"
            ]
           ],
           "sequential": [
            [
             0,
             "#0d0887"
            ],
            [
             0.1111111111111111,
             "#46039f"
            ],
            [
             0.2222222222222222,
             "#7201a8"
            ],
            [
             0.3333333333333333,
             "#9c179e"
            ],
            [
             0.4444444444444444,
             "#bd3786"
            ],
            [
             0.5555555555555556,
             "#d8576b"
            ],
            [
             0.6666666666666666,
             "#ed7953"
            ],
            [
             0.7777777777777778,
             "#fb9f3a"
            ],
            [
             0.8888888888888888,
             "#fdca26"
            ],
            [
             1,
             "#f0f921"
            ]
           ],
           "sequentialminus": [
            [
             0,
             "#0d0887"
            ],
            [
             0.1111111111111111,
             "#46039f"
            ],
            [
             0.2222222222222222,
             "#7201a8"
            ],
            [
             0.3333333333333333,
             "#9c179e"
            ],
            [
             0.4444444444444444,
             "#bd3786"
            ],
            [
             0.5555555555555556,
             "#d8576b"
            ],
            [
             0.6666666666666666,
             "#ed7953"
            ],
            [
             0.7777777777777778,
             "#fb9f3a"
            ],
            [
             0.8888888888888888,
             "#fdca26"
            ],
            [
             1,
             "#f0f921"
            ]
           ]
          },
          "colorway": [
           "#636efa",
           "#EF553B",
           "#00cc96",
           "#ab63fa",
           "#FFA15A",
           "#19d3f3",
           "#FF6692",
           "#B6E880",
           "#FF97FF",
           "#FECB52"
          ],
          "font": {
           "color": "#2a3f5f"
          },
          "geo": {
           "bgcolor": "white",
           "lakecolor": "white",
           "landcolor": "#E5ECF6",
           "showlakes": true,
           "showland": true,
           "subunitcolor": "white"
          },
          "hoverlabel": {
           "align": "left"
          },
          "hovermode": "closest",
          "mapbox": {
           "style": "light"
          },
          "paper_bgcolor": "white",
          "plot_bgcolor": "#E5ECF6",
          "polar": {
           "angularaxis": {
            "gridcolor": "white",
            "linecolor": "white",
            "ticks": ""
           },
           "bgcolor": "#E5ECF6",
           "radialaxis": {
            "gridcolor": "white",
            "linecolor": "white",
            "ticks": ""
           }
          },
          "scene": {
           "xaxis": {
            "backgroundcolor": "#E5ECF6",
            "gridcolor": "white",
            "gridwidth": 2,
            "linecolor": "white",
            "showbackground": true,
            "ticks": "",
            "zerolinecolor": "white"
           },
           "yaxis": {
            "backgroundcolor": "#E5ECF6",
            "gridcolor": "white",
            "gridwidth": 2,
            "linecolor": "white",
            "showbackground": true,
            "ticks": "",
            "zerolinecolor": "white"
           },
           "zaxis": {
            "backgroundcolor": "#E5ECF6",
            "gridcolor": "white",
            "gridwidth": 2,
            "linecolor": "white",
            "showbackground": true,
            "ticks": "",
            "zerolinecolor": "white"
           }
          },
          "shapedefaults": {
           "line": {
            "color": "#2a3f5f"
           }
          },
          "ternary": {
           "aaxis": {
            "gridcolor": "white",
            "linecolor": "white",
            "ticks": ""
           },
           "baxis": {
            "gridcolor": "white",
            "linecolor": "white",
            "ticks": ""
           },
           "bgcolor": "#E5ECF6",
           "caxis": {
            "gridcolor": "white",
            "linecolor": "white",
            "ticks": ""
           }
          },
          "title": {
           "x": 0.05
          },
          "xaxis": {
           "automargin": true,
           "gridcolor": "white",
           "linecolor": "white",
           "ticks": "",
           "title": {
            "standoff": 15
           },
           "zerolinecolor": "white",
           "zerolinewidth": 2
          },
          "yaxis": {
           "automargin": true,
           "gridcolor": "white",
           "linecolor": "white",
           "ticks": "",
           "title": {
            "standoff": 15
           },
           "zerolinecolor": "white",
           "zerolinewidth": 2
          }
         }
        },
        "title": {
         "text": "uploads Distribution"
        }
       }
      }
     },
     "metadata": {},
     "output_type": "display_data"
    }
   ],
   "source": [
    "import plotly.express as px\n",
    "from plotly.subplots import make_subplots\n",
    "                    \n",
    "\n",
    "import plotly.graph_objs as go\n",
    "from plotly import tools\n",
    "\n",
    "date_start = '2022-01-01'\n",
    "date_end = '2024-01-01'\n",
    "df_upload_plot = pd.read_csv('UIdata/uploader.csv')\n",
    "\n",
    "df_bar = df_upload_plot\n",
    "df_bar_sorted = df_bar[(df_bar.upload_date >= date_start) & (df_bar.upload_date <= date_end)]\n",
    "df_bar_grouped = df_bar_sorted.groupby(['uploader']).agg({\"sentiment\": np.mean, 'view_count': np.sum, 'comment_count':np.sum,'duration':np.sum,}).reset_index()\n",
    "df_bar_grouped['uploads'] = df_bar_sorted.groupby(['uploader']).count().reset_index()['sentiment']\n",
    "df_bar_grouped  = df_bar_grouped.sort_values('view_count', ascending = False)\n",
    "df_bar_grouped['duration'] = df_bar_grouped['duration']/(60*60*25)\n",
    "\n",
    "\n",
    "\n",
    "\n",
    "fig.update_traces(textposition='inside', textinfo='percent+label')\n",
    "fig.show()\n",
    "\n",
    "fig = px.pie(df_bar_grouped, values='view_count', names='uploader',\n",
    "             title='Views Distribution',\n",
    "             hover_data=['view_count'],hole=.3)\n",
    "fig.update_traces(textposition='inside', textinfo='percent+label')\n",
    "fig.show()\n",
    "\n",
    "\n",
    "fig = px.pie(df_bar_grouped, values='comment_count', names='uploader',\n",
    "             title='comment Distribution',\n",
    "             hover_data=['comment_count'],hole=.3)\n",
    "fig.update_traces(textposition='inside', textinfo='percent+label')\n",
    "fig.show()\n",
    "\n",
    "\n",
    "fig = px.pie(df_bar_grouped, values='duration', names='uploader',\n",
    "             title='duration Distribution',\n",
    "             hover_data=['duration'],hole=.3)\n",
    "fig.update_traces(textposition='inside', textinfo='percent+label')\n",
    "fig.show()\n",
    "\n",
    "\n",
    "fig = px.pie(df_bar_grouped, values='uploads', names='uploader',\n",
    "             title='uploads Distribution',\n",
    "             hover_data=['uploads'],hole=.3)\n",
    "fig.update_traces(textposition='inside', textinfo='percent+label')\n",
    "fig.show()"
   ]
  },
  {
   "cell_type": "code",
   "execution_count": null,
   "metadata": {},
   "outputs": [],
   "source": []
  },
  {
   "cell_type": "code",
   "execution_count": 276,
   "metadata": {},
   "outputs": [],
   "source": []
  },
  {
   "cell_type": "code",
   "execution_count": 277,
   "metadata": {},
   "outputs": [],
   "source": [
    "df_upload_plot = pd.read_csv('UIdata/uploader.csv')\n",
    "df_upload_line = df_upload_plot.groupby(['uploader','upload_date']).aggregate({'duration':np.sum,\n",
    "                                                            'comment_count':np.sum,\n",
    "                                                            'view_count':np.sum,\n",
    "                                                            'sentiment':np.mean}).reset_index()\n",
    "df_upload_line = df_upload_line[df_upload_line.upload_date > '2022-11-01']\n",
    "\n",
    "df_all_upload_ = []\n",
    "for upl in ['ABN','TV5','TV9','Sakshi']:\n",
    "    df_channel = df_upload_line[df_upload_line.uploader == upl].sort_values('upload_date')\n",
    "    for col in ['duration','comment_count','view_count','sentiment']:\n",
    "        df_channel[col] = df_channel[col].rolling(10).mean()\n",
    "    df_all_upload_.append(df_channel)\n",
    "df_line_chart = pd.concat(df_all_upload_)\n"
   ]
  },
  {
   "cell_type": "code",
   "execution_count": 309,
   "metadata": {},
   "outputs": [],
   "source": [
    "import plotly.express as px\n",
    "fig = px.line(df_line_chart, x='upload_date', y='duration', color='uploader', markers=False)\n",
    "fig.show()\n"
   ]
  },
  {
   "cell_type": "code",
   "execution_count": 314,
   "metadata": {},
   "outputs": [
    {
     "data": {
      "application/vnd.plotly.v1+json": {
       "config": {
        "plotlyServerURL": "https://plot.ly"
       },
       "data": [
        {
         "hovertemplate": "uploader=ABN<br>upload_date=%{x}<br>duration=%{y}<extra></extra>",
         "legendgroup": "ABN",
         "line": {
          "color": "#636efa",
          "dash": "solid"
         },
         "marker": {
          "symbol": "circle"
         },
         "mode": "lines",
         "name": "ABN",
         "orientation": "v",
         "showlegend": true,
         "type": "scatter",
         "x": [
          "2022-11-02",
          "2022-11-03",
          "2022-11-04",
          "2022-11-05",
          "2022-11-06",
          "2022-11-07",
          "2022-11-08",
          "2022-11-09",
          "2022-11-10",
          "2022-11-11",
          "2022-11-12",
          "2022-11-13",
          "2022-11-14",
          "2022-11-15",
          "2022-11-16",
          "2022-11-17",
          "2022-11-18",
          "2022-11-19",
          "2022-11-20",
          "2022-11-21",
          "2022-11-22",
          "2022-11-23",
          "2022-11-24",
          "2022-11-25",
          "2022-11-26",
          "2022-11-27",
          "2022-11-28",
          "2022-11-29",
          "2022-11-30",
          "2022-12-01",
          "2022-12-02",
          "2022-12-03",
          "2022-12-04",
          "2022-12-05",
          "2022-12-06",
          "2022-12-07",
          "2022-12-08",
          "2022-12-09",
          "2022-12-10",
          "2022-12-11",
          "2022-12-12",
          "2022-12-13",
          "2022-12-14",
          "2022-12-15",
          "2022-12-16",
          "2022-12-17",
          "2022-12-18",
          "2022-12-19",
          "2022-12-20",
          "2022-12-21",
          "2022-12-22",
          "2022-12-23",
          "2022-12-24",
          "2022-12-25",
          "2022-12-26",
          "2022-12-27",
          "2022-12-28",
          "2022-12-29",
          "2022-12-30",
          "2022-12-31",
          "2023-01-01",
          "2023-01-02",
          "2023-01-03",
          "2023-01-04",
          "2023-01-05",
          "2023-01-06",
          "2023-01-07",
          "2023-01-08",
          "2023-01-09",
          "2023-01-10",
          "2023-01-11",
          "2023-01-12",
          "2023-01-13",
          "2023-01-14",
          "2023-01-15",
          "2023-01-16",
          "2023-01-17",
          "2023-01-18",
          "2023-01-19",
          "2023-01-20",
          "2023-01-21",
          "2023-01-22",
          "2023-01-23",
          "2023-01-24",
          "2023-01-25",
          "2023-01-26",
          "2023-01-27",
          "2023-01-28",
          "2023-01-29",
          "2023-01-30",
          "2023-01-31",
          "2023-02-01",
          "2023-02-02",
          "2023-02-03",
          "2023-02-04",
          "2023-02-05",
          "2023-02-06",
          "2023-02-07",
          "2023-02-08",
          "2023-02-09",
          "2023-02-10",
          "2023-02-11",
          "2023-02-12",
          "2023-02-13",
          "2023-02-14",
          "2023-02-15",
          "2023-02-16",
          "2023-02-17",
          "2023-02-18",
          "2023-02-19",
          "2023-02-20",
          "2023-02-21",
          "2023-02-22",
          "2023-02-23",
          "2023-02-24",
          "2023-02-25",
          "2023-02-26",
          "2023-02-27",
          "2023-02-28",
          "2023-03-01",
          "2023-03-02",
          "2023-03-03",
          "2023-03-04",
          "2023-03-05",
          "2023-03-06",
          "2023-03-07",
          "2023-03-08",
          "2023-03-09",
          "2023-03-10",
          "2023-03-11",
          "2023-03-12",
          "2023-03-13",
          "2023-03-14",
          "2023-03-15",
          "2023-03-16",
          "2023-03-17",
          "2023-03-18",
          "2023-03-19",
          "2023-03-20",
          "2023-03-21",
          "2023-03-22",
          "2023-03-23",
          "2023-03-24",
          "2023-03-25",
          "2023-03-26",
          "2023-03-27",
          "2023-03-28",
          "2023-03-29",
          "2023-03-30",
          "2023-03-31",
          "2023-04-01",
          "2023-04-02",
          "2023-04-03",
          "2023-04-04",
          "2023-04-05",
          "2023-04-06",
          "2023-04-07",
          "2023-04-08",
          "2023-04-09",
          "2023-04-10",
          "2023-04-11",
          "2023-04-12",
          "2023-04-13",
          "2023-04-14",
          "2023-04-15",
          "2023-04-16",
          "2023-04-17",
          "2023-04-18",
          "2023-04-19",
          "2023-04-20",
          "2023-04-21",
          "2023-04-22"
         ],
         "xaxis": "x",
         "y": [
          null,
          null,
          null,
          null,
          null,
          null,
          null,
          null,
          null,
          693095.4,
          686522.1,
          656422.8,
          631641.5,
          603510.8,
          588972.9,
          585159.7,
          580157.2,
          577179.4,
          534198.6,
          526666.3,
          536837.3,
          544285.7,
          555331.1,
          591820.1,
          579750.9,
          561782,
          578698.7,
          589111.9,
          621744.1,
          628439.4,
          628474.1,
          619809.2,
          595489.8,
          604953.5,
          629476.7,
          651108.1,
          635730.8,
          628267.7,
          635843,
          609505,
          600117.9,
          610020.8,
          658595.6,
          634220.4,
          623693.3,
          595557.2,
          591514.6,
          586095.6,
          555889.2,
          573672.8,
          580488.4,
          573863.8,
          525438.3,
          525062.6,
          524155.1,
          565619.2,
          557083.8,
          563680.9,
          588147.3,
          575443.8,
          562301.6,
          572662,
          611041.9,
          612169.4,
          613705.4,
          594675.7,
          601020.3,
          567168,
          551692.1,
          581007.2,
          598837.1,
          597829.3,
          575698.1,
          575717.2,
          541972.2,
          538378.3,
          555566.3,
          586668.3,
          587068,
          565693.3,
          542113.1,
          511823.9,
          519986.7,
          539417.3,
          573133.3,
          578619.1,
          573205.3,
          562116.6,
          535606,
          551711.5,
          571272.4,
          585667.2,
          586649.3,
          583175.8,
          584432,
          558691.4,
          556842.8,
          568916,
          612284.4,
          612802.9,
          584608.3,
          578333.7,
          545687.9,
          517441.5,
          519470.6,
          545401.3,
          528674,
          527730.9,
          513603.8,
          471318.5,
          497245.7,
          507276.6,
          538096.1,
          549486.8,
          556129.9,
          553679.1,
          547564.8,
          536070.2,
          532672.6,
          555597,
          544181.9,
          562713.2,
          558146.2,
          537365.4,
          532355.3,
          546289.7,
          561949,
          586402.2,
          614538.7,
          615936.9,
          600505.9,
          534035.5,
          489148.1,
          512053.3,
          495546.5,
          496940.1,
          493321.1,
          458063.5,
          427183.1,
          440292.3,
          439424.4,
          505305.9,
          567698.7,
          556440.2,
          550777.1,
          532599.5,
          527234.4,
          550491.2,
          534605.1,
          520198.4,
          517048.9,
          487013.1,
          486664.7,
          503645.8,
          508801.3,
          514834.1,
          509231.6,
          483689.7,
          474807.8,
          460600.6,
          480188.3,
          502121.2,
          500150.3,
          490190.4,
          483097.3,
          469748.3,
          497863.2,
          509562,
          566138.9,
          585295.1,
          591826.6,
          561564.4
         ],
         "yaxis": "y"
        },
        {
         "hovertemplate": "uploader=TV5<br>upload_date=%{x}<br>duration=%{y}<extra></extra>",
         "legendgroup": "TV5",
         "line": {
          "color": "#EF553B",
          "dash": "solid"
         },
         "marker": {
          "symbol": "circle"
         },
         "mode": "lines",
         "name": "TV5",
         "orientation": "v",
         "showlegend": true,
         "type": "scatter",
         "x": [
          "2022-11-02",
          "2022-11-03",
          "2022-11-04",
          "2022-11-05",
          "2022-11-06",
          "2022-11-07",
          "2022-11-08",
          "2022-11-09",
          "2022-11-10",
          "2022-11-11",
          "2022-11-12",
          "2022-11-13",
          "2022-11-14",
          "2022-11-15",
          "2022-11-16",
          "2022-11-17",
          "2022-11-18",
          "2022-11-19",
          "2022-11-20",
          "2022-11-21",
          "2022-11-22",
          "2022-11-23",
          "2022-11-24",
          "2022-11-25",
          "2022-11-26",
          "2022-11-27",
          "2022-11-28",
          "2022-11-29",
          "2022-11-30",
          "2022-12-01",
          "2022-12-02",
          "2022-12-03",
          "2022-12-04",
          "2022-12-05",
          "2022-12-06",
          "2022-12-07",
          "2022-12-08",
          "2022-12-09",
          "2022-12-10",
          "2022-12-11",
          "2022-12-12",
          "2022-12-13",
          "2022-12-14",
          "2022-12-15",
          "2022-12-16",
          "2022-12-17",
          "2022-12-18",
          "2022-12-19",
          "2022-12-20",
          "2022-12-21",
          "2022-12-28",
          "2022-12-29",
          "2022-12-30",
          "2022-12-31",
          "2023-01-01",
          "2023-01-02",
          "2023-01-03",
          "2023-01-04",
          "2023-01-05",
          "2023-01-06",
          "2023-01-07",
          "2023-01-08",
          "2023-01-09",
          "2023-01-10",
          "2023-01-11",
          "2023-01-12",
          "2023-01-13",
          "2023-01-14",
          "2023-01-15",
          "2023-01-16",
          "2023-01-17",
          "2023-01-18",
          "2023-01-19",
          "2023-01-20",
          "2023-01-21",
          "2023-01-22",
          "2023-01-23",
          "2023-01-24",
          "2023-01-25",
          "2023-01-26",
          "2023-01-27",
          "2023-01-28",
          "2023-01-29",
          "2023-01-30",
          "2023-01-31",
          "2023-02-01",
          "2023-02-02",
          "2023-02-03",
          "2023-02-04",
          "2023-02-05",
          "2023-02-06",
          "2023-02-07",
          "2023-02-08",
          "2023-02-09",
          "2023-02-10",
          "2023-02-11",
          "2023-02-12",
          "2023-02-13",
          "2023-02-14",
          "2023-02-15",
          "2023-02-16",
          "2023-02-17",
          "2023-02-18",
          "2023-02-19",
          "2023-02-20",
          "2023-02-21",
          "2023-02-22",
          "2023-02-23",
          "2023-02-24",
          "2023-02-25",
          "2023-02-26",
          "2023-02-27",
          "2023-02-28",
          "2023-03-01",
          "2023-03-02",
          "2023-03-03",
          "2023-03-04",
          "2023-03-05",
          "2023-03-06",
          "2023-03-07",
          "2023-03-08",
          "2023-03-09",
          "2023-03-10",
          "2023-03-11",
          "2023-03-12",
          "2023-03-13",
          "2023-03-14",
          "2023-03-15",
          "2023-03-16",
          "2023-03-17",
          "2023-03-18",
          "2023-03-19",
          "2023-03-20",
          "2023-03-21",
          "2023-03-22",
          "2023-03-23",
          "2023-03-24",
          "2023-03-25",
          "2023-03-26",
          "2023-03-27",
          "2023-03-28",
          "2023-03-29",
          "2023-03-30",
          "2023-03-31",
          "2023-04-01",
          "2023-04-02",
          "2023-04-03",
          "2023-04-04",
          "2023-04-05",
          "2023-04-06",
          "2023-04-07",
          "2023-04-08",
          "2023-04-09",
          "2023-04-10",
          "2023-04-11",
          "2023-04-12",
          "2023-04-13",
          "2023-04-14",
          "2023-04-15",
          "2023-04-16",
          "2023-04-17",
          "2023-04-18",
          "2023-04-19",
          "2023-04-20",
          "2023-04-21",
          "2023-04-22"
         ],
         "xaxis": "x",
         "y": [
          null,
          null,
          null,
          null,
          null,
          null,
          null,
          null,
          null,
          318501.3,
          313344.5,
          294307.7,
          276043.5,
          271502.9,
          285696.7,
          291258.6,
          300327.4,
          297877.5,
          286217,
          268891.7,
          272418.9,
          292976.2,
          313995.8,
          315036.3,
          302369.4,
          285012.9,
          293278.9,
          305458.5,
          323190,
          338115.4,
          344179.5,
          329136.4,
          308152.2,
          309233.2,
          301965.1,
          317678.8,
          313851.6,
          309776.6,
          296237.3,
          276357.9,
          272334.2,
          277700,
          278237.6,
          272072.1,
          274673.8,
          256862.7,
          237248.7,
          230382.6,
          232331.7,
          226344.8,
          224497.8,
          228501.4,
          241534,
          239881.4,
          236579.7,
          254504.7,
          272650.4,
          278901.9,
          273728.4,
          298169.6,
          293072.9,
          279733.7,
          272295.6,
          282866.3,
          289849.2,
          289386.1,
          287950.5,
          278911.8,
          266678.8,
          264466.6,
          266089.4,
          267827.5,
          267739.6,
          263904.5,
          256232.3,
          243662.1,
          230677.1,
          226799.3,
          236248.7,
          227363,
          229647.4,
          221071.6,
          208687.1,
          203412.8,
          220205.4,
          228169.1,
          237020.2,
          237267.9,
          246066.7,
          243096.2,
          245576.2,
          259953.6,
          276067.1,
          280724.2,
          267421.9,
          263275.1,
          262527.1,
          269086.8,
          263145.9,
          270951.9,
          268927.2,
          261285.1,
          253184.3,
          238626,
          241370.6,
          241830.7,
          237024.1,
          229556.8,
          229406.1,
          218388.5,
          207150.7,
          204817.4,
          205630.5,
          214577.2,
          212049.7,
          206733.8,
          199253.9,
          192264.8,
          184454.7,
          189956.1,
          198860.5,
          203918.6,
          198728.9,
          194463.5,
          192118.3,
          201083,
          213167.6,
          221322.4,
          230106.3,
          248647.6,
          256590.8,
          253780.5,
          268396.5,
          270016.2,
          270423.1,
          280386.1,
          277761.5,
          285950.2,
          280845.2,
          271941.9,
          264656.6,
          273503.6,
          265184.5,
          267683.7,
          271523.2,
          246136.8,
          248761.9,
          243713.5,
          253590.6,
          248627.7,
          251876.3,
          237168.4,
          234992.1,
          250281.6,
          248958,
          264902.6,
          273231,
          273493.5,
          267206.5,
          263369.3,
          262901,
          282018.3,
          295247.9,
          303416.7,
          307772.8,
          298299.4
         ],
         "yaxis": "y"
        },
        {
         "hovertemplate": "uploader=TV9<br>upload_date=%{x}<br>duration=%{y}<extra></extra>",
         "legendgroup": "TV9",
         "line": {
          "color": "#00cc96",
          "dash": "solid"
         },
         "marker": {
          "symbol": "circle"
         },
         "mode": "lines",
         "name": "TV9",
         "orientation": "v",
         "showlegend": true,
         "type": "scatter",
         "x": [
          "2022-11-17",
          "2022-11-18",
          "2022-11-19",
          "2022-11-20",
          "2022-11-21",
          "2022-11-22",
          "2022-11-23",
          "2022-11-24",
          "2022-11-25",
          "2022-11-26",
          "2022-11-27",
          "2022-11-28",
          "2022-11-29",
          "2022-11-30",
          "2022-12-01",
          "2022-12-02",
          "2022-12-03",
          "2022-12-04",
          "2022-12-05",
          "2022-12-06",
          "2022-12-07",
          "2022-12-08",
          "2022-12-09",
          "2022-12-10",
          "2022-12-11",
          "2022-12-12",
          "2022-12-13",
          "2022-12-14",
          "2022-12-15",
          "2022-12-16",
          "2022-12-17",
          "2022-12-18",
          "2022-12-19",
          "2022-12-20",
          "2022-12-21",
          "2022-12-22",
          "2022-12-23",
          "2022-12-24",
          "2022-12-25",
          "2022-12-26",
          "2022-12-27",
          "2022-12-28",
          "2022-12-29",
          "2022-12-30",
          "2022-12-31",
          "2023-01-01",
          "2023-01-02",
          "2023-01-03",
          "2023-01-04",
          "2023-01-05",
          "2023-01-06",
          "2023-01-07",
          "2023-01-08",
          "2023-01-09",
          "2023-01-10",
          "2023-01-11",
          "2023-01-12",
          "2023-01-13",
          "2023-01-14",
          "2023-01-15",
          "2023-01-16",
          "2023-01-17",
          "2023-01-18",
          "2023-01-19",
          "2023-01-20",
          "2023-01-21",
          "2023-01-22",
          "2023-01-23",
          "2023-01-24",
          "2023-01-25",
          "2023-01-26",
          "2023-01-27",
          "2023-01-28",
          "2023-01-29",
          "2023-01-30",
          "2023-01-31",
          "2023-02-01",
          "2023-02-02",
          "2023-02-03",
          "2023-02-04",
          "2023-02-05",
          "2023-02-06",
          "2023-02-07",
          "2023-02-08",
          "2023-02-09",
          "2023-02-10",
          "2023-02-11",
          "2023-02-12",
          "2023-02-13",
          "2023-02-14",
          "2023-02-15",
          "2023-02-16",
          "2023-02-17",
          "2023-02-18",
          "2023-02-19",
          "2023-02-20",
          "2023-02-21",
          "2023-02-22",
          "2023-02-23",
          "2023-02-24",
          "2023-02-25",
          "2023-02-26",
          "2023-02-27",
          "2023-02-28",
          "2023-03-01",
          "2023-03-02",
          "2023-03-03",
          "2023-03-04",
          "2023-03-05",
          "2023-03-06",
          "2023-03-07",
          "2023-03-08",
          "2023-03-09",
          "2023-03-10",
          "2023-03-11",
          "2023-03-12",
          "2023-03-13",
          "2023-03-14",
          "2023-03-15",
          "2023-03-16",
          "2023-03-17",
          "2023-03-18",
          "2023-03-19",
          "2023-03-20",
          "2023-03-21",
          "2023-03-22",
          "2023-03-23",
          "2023-03-24",
          "2023-03-25",
          "2023-03-26",
          "2023-03-27",
          "2023-03-28",
          "2023-03-29",
          "2023-03-30",
          "2023-03-31",
          "2023-04-01",
          "2023-04-02",
          "2023-04-03",
          "2023-04-04",
          "2023-04-05",
          "2023-04-06",
          "2023-04-07",
          "2023-04-08",
          "2023-04-09",
          "2023-04-10",
          "2023-04-11",
          "2023-04-12",
          "2023-04-13",
          "2023-04-14",
          "2023-04-15",
          "2023-04-16",
          "2023-04-17",
          "2023-04-18",
          "2023-04-19",
          "2023-04-20",
          "2023-04-21",
          "2023-04-22"
         ],
         "xaxis": "x",
         "y": [
          null,
          null,
          null,
          null,
          null,
          null,
          null,
          null,
          null,
          197837.4,
          210138.5,
          217956.6,
          208256,
          205993.8,
          204732.7,
          199530.8,
          198117.9,
          213678.2,
          225063.3,
          219544.7,
          225360.1,
          219156.9,
          217586.5,
          225528.7,
          226315.5,
          230405.2,
          244615.2,
          233587.1,
          219359.7,
          222353.9,
          215505.5,
          218241.4,
          221935.9,
          210880.1,
          208357.9,
          207935.8,
          193081.8,
          196815,
          202502.1,
          210443.4,
          205273.2,
          209594.4,
          209468.7,
          216410.5,
          223219.4,
          232903.9,
          242866,
          247599.1,
          250355.2,
          252580.9,
          253912.7,
          249578.4,
          249275.1,
          240010.1,
          226025.6,
          220932.2,
          217644.4,
          201988.6,
          196065.1,
          190285.6,
          200072.7,
          204255.7,
          205495.2,
          205416.5,
          213173.7,
          206278.8,
          200660.6,
          207347.6,
          207652.2,
          207624.4,
          203226.1,
          207708,
          220471,
          232342.4,
          241169.7,
          253627.9,
          264410.7,
          276619.9,
          278712.1,
          284016.5,
          281764,
          275518.2,
          261191.7,
          257330.3,
          252846.2,
          242172.5,
          231345.6,
          219959.2,
          215765.7,
          209725.6,
          211990.7,
          211709.3,
          211319.8,
          209240.9,
          197333.7,
          194830.7,
          201183.2,
          206211,
          209737.7,
          209351.6,
          210543.3,
          211255.5,
          211737.7,
          217984.7,
          232180.7,
          242517.2,
          233670,
          233267.1,
          237490.6,
          238472.2,
          240312.3,
          236776,
          247932.2,
          243200.9,
          244151.3,
          237293,
          236655.4,
          238855.6,
          238812,
          250651.8,
          248015.1,
          257010.1,
          249940.2,
          253163.9,
          243344.3,
          238554.1,
          254126.5,
          255345.4,
          255943.8,
          251703.9,
          252569.9,
          247545.9,
          238860,
          239084.7,
          243535.9,
          244538.2,
          228953.5,
          223861.4,
          228812.9,
          222802.9,
          232825.6,
          229384.5,
          233563.3,
          219251.9,
          215596.7,
          220536.1,
          220202.1,
          220804.2,
          208944.1,
          211404.4,
          201002.2,
          196501.7,
          196793.7,
          198849.5,
          203173.7,
          203819.8,
          195389.4
         ],
         "yaxis": "y"
        },
        {
         "hovertemplate": "uploader=Sakshi<br>upload_date=%{x}<br>duration=%{y}<extra></extra>",
         "legendgroup": "Sakshi",
         "line": {
          "color": "#ab63fa",
          "dash": "solid"
         },
         "marker": {
          "symbol": "circle"
         },
         "mode": "lines",
         "name": "Sakshi",
         "orientation": "v",
         "showlegend": true,
         "type": "scatter",
         "x": [
          "2022-11-02",
          "2022-11-03",
          "2022-11-04",
          "2022-11-05",
          "2022-11-06",
          "2022-11-07",
          "2022-11-08",
          "2022-11-09",
          "2022-11-10",
          "2022-11-11",
          "2022-11-12",
          "2022-11-13",
          "2022-11-14",
          "2022-11-15",
          "2022-11-16",
          "2022-11-17",
          "2022-11-18",
          "2022-11-19",
          "2022-11-20",
          "2022-11-21",
          "2022-11-22",
          "2022-11-23",
          "2022-11-24",
          "2022-11-25",
          "2022-11-26",
          "2022-11-27",
          "2022-11-28",
          "2022-11-29",
          "2022-11-30",
          "2022-12-01",
          "2022-12-02",
          "2022-12-03",
          "2022-12-04",
          "2022-12-05",
          "2022-12-06",
          "2022-12-07",
          "2022-12-08",
          "2022-12-09",
          "2022-12-10",
          "2022-12-11",
          "2022-12-12",
          "2022-12-13",
          "2022-12-14",
          "2022-12-15",
          "2022-12-16",
          "2022-12-17",
          "2022-12-18",
          "2022-12-19",
          "2022-12-20",
          "2022-12-21",
          "2022-12-22",
          "2022-12-23",
          "2022-12-24",
          "2022-12-25",
          "2022-12-26",
          "2022-12-27",
          "2022-12-28",
          "2022-12-29",
          "2022-12-30",
          "2022-12-31",
          "2023-01-01",
          "2023-01-02",
          "2023-01-03",
          "2023-01-04",
          "2023-01-05",
          "2023-01-06",
          "2023-01-07",
          "2023-01-08",
          "2023-01-09",
          "2023-01-10",
          "2023-01-11",
          "2023-01-12",
          "2023-01-13",
          "2023-01-14",
          "2023-01-15",
          "2023-01-16",
          "2023-01-17",
          "2023-01-18",
          "2023-01-19",
          "2023-01-20",
          "2023-01-21",
          "2023-01-22",
          "2023-01-23",
          "2023-01-24",
          "2023-01-25",
          "2023-01-26",
          "2023-01-27",
          "2023-01-28",
          "2023-01-29",
          "2023-01-30",
          "2023-01-31",
          "2023-02-01",
          "2023-02-02",
          "2023-02-03",
          "2023-02-04",
          "2023-02-05",
          "2023-02-06",
          "2023-02-07",
          "2023-02-08",
          "2023-02-09",
          "2023-02-10",
          "2023-02-11",
          "2023-02-12",
          "2023-02-13",
          "2023-02-14",
          "2023-02-15",
          "2023-02-16",
          "2023-02-17",
          "2023-02-18",
          "2023-02-19",
          "2023-02-20",
          "2023-02-21",
          "2023-02-22",
          "2023-02-23",
          "2023-02-24",
          "2023-02-25",
          "2023-02-26",
          "2023-02-27",
          "2023-02-28",
          "2023-03-01",
          "2023-03-02",
          "2023-03-03",
          "2023-03-04",
          "2023-03-05",
          "2023-03-06",
          "2023-03-07",
          "2023-03-08",
          "2023-03-09",
          "2023-03-10",
          "2023-03-11",
          "2023-03-12",
          "2023-03-13",
          "2023-03-14",
          "2023-03-15",
          "2023-03-16",
          "2023-03-17",
          "2023-03-18",
          "2023-03-19",
          "2023-03-20",
          "2023-03-21",
          "2023-03-22",
          "2023-03-23",
          "2023-03-24",
          "2023-03-25",
          "2023-03-26",
          "2023-03-27",
          "2023-03-28",
          "2023-03-29",
          "2023-03-30",
          "2023-03-31",
          "2023-04-01",
          "2023-04-02",
          "2023-04-03",
          "2023-04-04",
          "2023-04-05",
          "2023-04-06",
          "2023-04-07",
          "2023-04-08",
          "2023-04-09",
          "2023-04-10",
          "2023-04-11",
          "2023-04-12",
          "2023-04-13",
          "2023-04-14",
          "2023-04-15",
          "2023-04-16",
          "2023-04-17",
          "2023-04-18",
          "2023-04-19",
          "2023-04-20",
          "2023-04-21",
          "2023-04-22"
         ],
         "xaxis": "x",
         "y": [
          null,
          null,
          null,
          null,
          null,
          null,
          null,
          null,
          null,
          39097.7,
          42146.3,
          36080.3,
          31541.7,
          28311.2,
          24722.2,
          27072.4,
          30190.5,
          37995.1,
          34713,
          43178.7,
          42087.9,
          45062.1,
          46288.9,
          44467.2,
          48876.7,
          54598.9,
          57542.6,
          58166.2,
          60846.8,
          51909.9,
          51557.6,
          49502.7,
          49081.8,
          47605,
          45442.2,
          43848.5,
          38245.5,
          30056.1,
          25658.8,
          29284.6,
          28107.5,
          29787.4,
          27238,
          27573.3,
          25316.2,
          19899.4,
          23962.1,
          23898.4,
          26047.8,
          22982.2,
          21152.9,
          19033.6,
          18413.6,
          17331.7,
          20756.6,
          20702,
          16755.1,
          17165.2,
          16137.7,
          17939.7,
          18713.6,
          26290.1,
          26057.9,
          26669.8,
          22943.2,
          24977,
          25359.1,
          27913.3,
          26681.1,
          24387,
          24748.8,
          20738.2,
          21042.2,
          21375.4,
          20743.5,
          17262.9,
          17875.8,
          14372.4,
          15093,
          15005.9,
          14777.3,
          10233.6,
          9541.7,
          9483.6,
          9992.4,
          13494.8,
          13192.2,
          15752.5,
          15146.8,
          15347.5,
          15732.8,
          18462.4,
          18349.3,
          28411.3,
          32565.4,
          29110.1,
          27972.2,
          26148.6,
          28143.2,
          36457.9,
          35935.1,
          35724.1,
          35495.8,
          28858.5,
          25533.1,
          34748,
          36914.4,
          39521.2,
          37848.1,
          33025.3,
          40295.3,
          42584,
          43285.6,
          40224.1,
          44251.3,
          39623.7,
          38982.6,
          36567.8,
          38044.2,
          33874.1,
          26313,
          24261.9,
          25908.6,
          25278.3,
          24751.7,
          22282.1,
          21044.5,
          20423,
          26456.5,
          29729,
          36848.1,
          38548.1,
          37364.7,
          48951.7,
          50477.1,
          53694.8,
          57932.9,
          61438.8,
          68994.2,
          71761.4,
          65464.2,
          64409.4,
          74009,
          62890.1,
          61554.6,
          62017,
          60090.5,
          60985.4,
          45564.3,
          44048.2,
          45729.4,
          46205.1,
          44012.5,
          53804.1,
          56788.2,
          52617.8,
          55075.2,
          55402.1,
          61532.6,
          60224.3,
          60833.7,
          62386.8,
          57081.7,
          50948.2,
          53652.2,
          52367.1,
          48029,
          52046.2,
          47337.8,
          43911.3,
          41123.9,
          40672.5
         ],
         "yaxis": "y"
        }
       ],
       "layout": {
        "legend": {
         "title": {
          "text": "uploader"
         },
         "tracegroupgap": 0
        },
        "margin": {
         "t": 60
        },
        "template": {
         "data": {
          "bar": [
           {
            "error_x": {
             "color": "#2a3f5f"
            },
            "error_y": {
             "color": "#2a3f5f"
            },
            "marker": {
             "line": {
              "color": "#E5ECF6",
              "width": 0.5
             },
             "pattern": {
              "fillmode": "overlay",
              "size": 10,
              "solidity": 0.2
             }
            },
            "type": "bar"
           }
          ],
          "barpolar": [
           {
            "marker": {
             "line": {
              "color": "#E5ECF6",
              "width": 0.5
             },
             "pattern": {
              "fillmode": "overlay",
              "size": 10,
              "solidity": 0.2
             }
            },
            "type": "barpolar"
           }
          ],
          "carpet": [
           {
            "aaxis": {
             "endlinecolor": "#2a3f5f",
             "gridcolor": "white",
             "linecolor": "white",
             "minorgridcolor": "white",
             "startlinecolor": "#2a3f5f"
            },
            "baxis": {
             "endlinecolor": "#2a3f5f",
             "gridcolor": "white",
             "linecolor": "white",
             "minorgridcolor": "white",
             "startlinecolor": "#2a3f5f"
            },
            "type": "carpet"
           }
          ],
          "choropleth": [
           {
            "colorbar": {
             "outlinewidth": 0,
             "ticks": ""
            },
            "type": "choropleth"
           }
          ],
          "contour": [
           {
            "colorbar": {
             "outlinewidth": 0,
             "ticks": ""
            },
            "colorscale": [
             [
              0,
              "#0d0887"
             ],
             [
              0.1111111111111111,
              "#46039f"
             ],
             [
              0.2222222222222222,
              "#7201a8"
             ],
             [
              0.3333333333333333,
              "#9c179e"
             ],
             [
              0.4444444444444444,
              "#bd3786"
             ],
             [
              0.5555555555555556,
              "#d8576b"
             ],
             [
              0.6666666666666666,
              "#ed7953"
             ],
             [
              0.7777777777777778,
              "#fb9f3a"
             ],
             [
              0.8888888888888888,
              "#fdca26"
             ],
             [
              1,
              "#f0f921"
             ]
            ],
            "type": "contour"
           }
          ],
          "contourcarpet": [
           {
            "colorbar": {
             "outlinewidth": 0,
             "ticks": ""
            },
            "type": "contourcarpet"
           }
          ],
          "heatmap": [
           {
            "colorbar": {
             "outlinewidth": 0,
             "ticks": ""
            },
            "colorscale": [
             [
              0,
              "#0d0887"
             ],
             [
              0.1111111111111111,
              "#46039f"
             ],
             [
              0.2222222222222222,
              "#7201a8"
             ],
             [
              0.3333333333333333,
              "#9c179e"
             ],
             [
              0.4444444444444444,
              "#bd3786"
             ],
             [
              0.5555555555555556,
              "#d8576b"
             ],
             [
              0.6666666666666666,
              "#ed7953"
             ],
             [
              0.7777777777777778,
              "#fb9f3a"
             ],
             [
              0.8888888888888888,
              "#fdca26"
             ],
             [
              1,
              "#f0f921"
             ]
            ],
            "type": "heatmap"
           }
          ],
          "heatmapgl": [
           {
            "colorbar": {
             "outlinewidth": 0,
             "ticks": ""
            },
            "colorscale": [
             [
              0,
              "#0d0887"
             ],
             [
              0.1111111111111111,
              "#46039f"
             ],
             [
              0.2222222222222222,
              "#7201a8"
             ],
             [
              0.3333333333333333,
              "#9c179e"
             ],
             [
              0.4444444444444444,
              "#bd3786"
             ],
             [
              0.5555555555555556,
              "#d8576b"
             ],
             [
              0.6666666666666666,
              "#ed7953"
             ],
             [
              0.7777777777777778,
              "#fb9f3a"
             ],
             [
              0.8888888888888888,
              "#fdca26"
             ],
             [
              1,
              "#f0f921"
             ]
            ],
            "type": "heatmapgl"
           }
          ],
          "histogram": [
           {
            "marker": {
             "pattern": {
              "fillmode": "overlay",
              "size": 10,
              "solidity": 0.2
             }
            },
            "type": "histogram"
           }
          ],
          "histogram2d": [
           {
            "colorbar": {
             "outlinewidth": 0,
             "ticks": ""
            },
            "colorscale": [
             [
              0,
              "#0d0887"
             ],
             [
              0.1111111111111111,
              "#46039f"
             ],
             [
              0.2222222222222222,
              "#7201a8"
             ],
             [
              0.3333333333333333,
              "#9c179e"
             ],
             [
              0.4444444444444444,
              "#bd3786"
             ],
             [
              0.5555555555555556,
              "#d8576b"
             ],
             [
              0.6666666666666666,
              "#ed7953"
             ],
             [
              0.7777777777777778,
              "#fb9f3a"
             ],
             [
              0.8888888888888888,
              "#fdca26"
             ],
             [
              1,
              "#f0f921"
             ]
            ],
            "type": "histogram2d"
           }
          ],
          "histogram2dcontour": [
           {
            "colorbar": {
             "outlinewidth": 0,
             "ticks": ""
            },
            "colorscale": [
             [
              0,
              "#0d0887"
             ],
             [
              0.1111111111111111,
              "#46039f"
             ],
             [
              0.2222222222222222,
              "#7201a8"
             ],
             [
              0.3333333333333333,
              "#9c179e"
             ],
             [
              0.4444444444444444,
              "#bd3786"
             ],
             [
              0.5555555555555556,
              "#d8576b"
             ],
             [
              0.6666666666666666,
              "#ed7953"
             ],
             [
              0.7777777777777778,
              "#fb9f3a"
             ],
             [
              0.8888888888888888,
              "#fdca26"
             ],
             [
              1,
              "#f0f921"
             ]
            ],
            "type": "histogram2dcontour"
           }
          ],
          "mesh3d": [
           {
            "colorbar": {
             "outlinewidth": 0,
             "ticks": ""
            },
            "type": "mesh3d"
           }
          ],
          "parcoords": [
           {
            "line": {
             "colorbar": {
              "outlinewidth": 0,
              "ticks": ""
             }
            },
            "type": "parcoords"
           }
          ],
          "pie": [
           {
            "automargin": true,
            "type": "pie"
           }
          ],
          "scatter": [
           {
            "fillpattern": {
             "fillmode": "overlay",
             "size": 10,
             "solidity": 0.2
            },
            "type": "scatter"
           }
          ],
          "scatter3d": [
           {
            "line": {
             "colorbar": {
              "outlinewidth": 0,
              "ticks": ""
             }
            },
            "marker": {
             "colorbar": {
              "outlinewidth": 0,
              "ticks": ""
             }
            },
            "type": "scatter3d"
           }
          ],
          "scattercarpet": [
           {
            "marker": {
             "colorbar": {
              "outlinewidth": 0,
              "ticks": ""
             }
            },
            "type": "scattercarpet"
           }
          ],
          "scattergeo": [
           {
            "marker": {
             "colorbar": {
              "outlinewidth": 0,
              "ticks": ""
             }
            },
            "type": "scattergeo"
           }
          ],
          "scattergl": [
           {
            "marker": {
             "colorbar": {
              "outlinewidth": 0,
              "ticks": ""
             }
            },
            "type": "scattergl"
           }
          ],
          "scattermapbox": [
           {
            "marker": {
             "colorbar": {
              "outlinewidth": 0,
              "ticks": ""
             }
            },
            "type": "scattermapbox"
           }
          ],
          "scatterpolar": [
           {
            "marker": {
             "colorbar": {
              "outlinewidth": 0,
              "ticks": ""
             }
            },
            "type": "scatterpolar"
           }
          ],
          "scatterpolargl": [
           {
            "marker": {
             "colorbar": {
              "outlinewidth": 0,
              "ticks": ""
             }
            },
            "type": "scatterpolargl"
           }
          ],
          "scatterternary": [
           {
            "marker": {
             "colorbar": {
              "outlinewidth": 0,
              "ticks": ""
             }
            },
            "type": "scatterternary"
           }
          ],
          "surface": [
           {
            "colorbar": {
             "outlinewidth": 0,
             "ticks": ""
            },
            "colorscale": [
             [
              0,
              "#0d0887"
             ],
             [
              0.1111111111111111,
              "#46039f"
             ],
             [
              0.2222222222222222,
              "#7201a8"
             ],
             [
              0.3333333333333333,
              "#9c179e"
             ],
             [
              0.4444444444444444,
              "#bd3786"
             ],
             [
              0.5555555555555556,
              "#d8576b"
             ],
             [
              0.6666666666666666,
              "#ed7953"
             ],
             [
              0.7777777777777778,
              "#fb9f3a"
             ],
             [
              0.8888888888888888,
              "#fdca26"
             ],
             [
              1,
              "#f0f921"
             ]
            ],
            "type": "surface"
           }
          ],
          "table": [
           {
            "cells": {
             "fill": {
              "color": "#EBF0F8"
             },
             "line": {
              "color": "white"
             }
            },
            "header": {
             "fill": {
              "color": "#C8D4E3"
             },
             "line": {
              "color": "white"
             }
            },
            "type": "table"
           }
          ]
         },
         "layout": {
          "annotationdefaults": {
           "arrowcolor": "#2a3f5f",
           "arrowhead": 0,
           "arrowwidth": 1
          },
          "autotypenumbers": "strict",
          "coloraxis": {
           "colorbar": {
            "outlinewidth": 0,
            "ticks": ""
           }
          },
          "colorscale": {
           "diverging": [
            [
             0,
             "#8e0152"
            ],
            [
             0.1,
             "#c51b7d"
            ],
            [
             0.2,
             "#de77ae"
            ],
            [
             0.3,
             "#f1b6da"
            ],
            [
             0.4,
             "#fde0ef"
            ],
            [
             0.5,
             "#f7f7f7"
            ],
            [
             0.6,
             "#e6f5d0"
            ],
            [
             0.7,
             "#b8e186"
            ],
            [
             0.8,
             "#7fbc41"
            ],
            [
             0.9,
             "#4d9221"
            ],
            [
             1,
             "#276419"
            ]
           ],
           "sequential": [
            [
             0,
             "#0d0887"
            ],
            [
             0.1111111111111111,
             "#46039f"
            ],
            [
             0.2222222222222222,
             "#7201a8"
            ],
            [
             0.3333333333333333,
             "#9c179e"
            ],
            [
             0.4444444444444444,
             "#bd3786"
            ],
            [
             0.5555555555555556,
             "#d8576b"
            ],
            [
             0.6666666666666666,
             "#ed7953"
            ],
            [
             0.7777777777777778,
             "#fb9f3a"
            ],
            [
             0.8888888888888888,
             "#fdca26"
            ],
            [
             1,
             "#f0f921"
            ]
           ],
           "sequentialminus": [
            [
             0,
             "#0d0887"
            ],
            [
             0.1111111111111111,
             "#46039f"
            ],
            [
             0.2222222222222222,
             "#7201a8"
            ],
            [
             0.3333333333333333,
             "#9c179e"
            ],
            [
             0.4444444444444444,
             "#bd3786"
            ],
            [
             0.5555555555555556,
             "#d8576b"
            ],
            [
             0.6666666666666666,
             "#ed7953"
            ],
            [
             0.7777777777777778,
             "#fb9f3a"
            ],
            [
             0.8888888888888888,
             "#fdca26"
            ],
            [
             1,
             "#f0f921"
            ]
           ]
          },
          "colorway": [
           "#636efa",
           "#EF553B",
           "#00cc96",
           "#ab63fa",
           "#FFA15A",
           "#19d3f3",
           "#FF6692",
           "#B6E880",
           "#FF97FF",
           "#FECB52"
          ],
          "font": {
           "color": "#2a3f5f"
          },
          "geo": {
           "bgcolor": "white",
           "lakecolor": "white",
           "landcolor": "#E5ECF6",
           "showlakes": true,
           "showland": true,
           "subunitcolor": "white"
          },
          "hoverlabel": {
           "align": "left"
          },
          "hovermode": "closest",
          "mapbox": {
           "style": "light"
          },
          "paper_bgcolor": "white",
          "plot_bgcolor": "#E5ECF6",
          "polar": {
           "angularaxis": {
            "gridcolor": "white",
            "linecolor": "white",
            "ticks": ""
           },
           "bgcolor": "#E5ECF6",
           "radialaxis": {
            "gridcolor": "white",
            "linecolor": "white",
            "ticks": ""
           }
          },
          "scene": {
           "xaxis": {
            "backgroundcolor": "#E5ECF6",
            "gridcolor": "white",
            "gridwidth": 2,
            "linecolor": "white",
            "showbackground": true,
            "ticks": "",
            "zerolinecolor": "white"
           },
           "yaxis": {
            "backgroundcolor": "#E5ECF6",
            "gridcolor": "white",
            "gridwidth": 2,
            "linecolor": "white",
            "showbackground": true,
            "ticks": "",
            "zerolinecolor": "white"
           },
           "zaxis": {
            "backgroundcolor": "#E5ECF6",
            "gridcolor": "white",
            "gridwidth": 2,
            "linecolor": "white",
            "showbackground": true,
            "ticks": "",
            "zerolinecolor": "white"
           }
          },
          "shapedefaults": {
           "line": {
            "color": "#2a3f5f"
           }
          },
          "ternary": {
           "aaxis": {
            "gridcolor": "white",
            "linecolor": "white",
            "ticks": ""
           },
           "baxis": {
            "gridcolor": "white",
            "linecolor": "white",
            "ticks": ""
           },
           "bgcolor": "#E5ECF6",
           "caxis": {
            "gridcolor": "white",
            "linecolor": "white",
            "ticks": ""
           }
          },
          "title": {
           "x": 0.05
          },
          "xaxis": {
           "automargin": true,
           "gridcolor": "white",
           "linecolor": "white",
           "ticks": "",
           "title": {
            "standoff": 15
           },
           "zerolinecolor": "white",
           "zerolinewidth": 2
          },
          "yaxis": {
           "automargin": true,
           "gridcolor": "white",
           "linecolor": "white",
           "ticks": "",
           "title": {
            "standoff": 15
           },
           "zerolinecolor": "white",
           "zerolinewidth": 2
          }
         }
        },
        "xaxis": {
         "anchor": "y",
         "domain": [
          0,
          1
         ],
         "title": {
          "text": "upload_date"
         }
        },
        "yaxis": {
         "anchor": "x",
         "domain": [
          0,
          1
         ],
         "title": {
          "text": "duration"
         }
        }
       }
      }
     },
     "metadata": {},
     "output_type": "display_data"
    }
   ],
   "source": []
  },
  {
   "cell_type": "code",
   "execution_count": 317,
   "metadata": {},
   "outputs": [
    {
     "data": {
      "application/vnd.plotly.v1+json": {
       "config": {
        "plotlyServerURL": "https://plot.ly"
       },
       "data": [
        {
         "branchvalues": "total",
         "customdata": [
          [
           "AFG",
           43.828
          ],
          [
           "ALB",
           76.423
          ],
          [
           "DZA",
           72.301
          ],
          [
           "AGO",
           42.731
          ],
          [
           "ARG",
           75.32
          ],
          [
           "AUS",
           81.235
          ],
          [
           "AUT",
           79.829
          ],
          [
           "BHR",
           75.635
          ],
          [
           "BGD",
           64.062
          ],
          [
           "BEL",
           79.441
          ],
          [
           "BEN",
           56.728
          ],
          [
           "BOL",
           65.554
          ],
          [
           "BIH",
           74.852
          ],
          [
           "BWA",
           50.728
          ],
          [
           "BRA",
           72.39
          ],
          [
           "BGR",
           73.005
          ],
          [
           "BFA",
           52.295
          ],
          [
           "BDI",
           49.58
          ],
          [
           "KHM",
           59.723
          ],
          [
           "CMR",
           50.43
          ],
          [
           "CAN",
           80.65300000000002
          ],
          [
           "CAF",
           44.74100000000001
          ],
          [
           "TCD",
           50.651
          ],
          [
           "CHL",
           78.553
          ],
          [
           "CHN",
           72.961
          ],
          [
           "COL",
           72.889
          ],
          [
           "COM",
           65.152
          ],
          [
           "COD",
           46.462
          ],
          [
           "COG",
           55.322
          ],
          [
           "CRI",
           78.782
          ],
          [
           "CIV",
           48.328
          ],
          [
           "HRV",
           75.748
          ],
          [
           "CUB",
           78.273
          ],
          [
           "CZE",
           76.486
          ],
          [
           "DNK",
           78.332
          ],
          [
           "DJI",
           54.791
          ],
          [
           "DOM",
           72.235
          ],
          [
           "ECU",
           74.994
          ],
          [
           "EGY",
           71.33800000000002
          ],
          [
           "SLV",
           71.878
          ],
          [
           "GNQ",
           51.57899999999999
          ],
          [
           "ERI",
           58.03999999999999
          ],
          [
           "ETH",
           52.947
          ],
          [
           "FIN",
           79.313
          ],
          [
           "FRA",
           80.65699999999998
          ],
          [
           "GAB",
           56.73500000000001
          ],
          [
           "GMB",
           59.448
          ],
          [
           "DEU",
           79.406
          ],
          [
           "GHA",
           60.02199999999999
          ],
          [
           "GRC",
           79.483
          ],
          [
           "GTM",
           70.259
          ],
          [
           "GIN",
           56.007
          ],
          [
           "GNB",
           46.38800000000001
          ],
          [
           "HTI",
           60.916
          ],
          [
           "HND",
           70.19800000000001
          ],
          [
           "HKG",
           82.208
          ],
          [
           "HUN",
           73.33800000000002
          ],
          [
           "ISL",
           81.757
          ],
          [
           "IND",
           64.69800000000001
          ],
          [
           "IDN",
           70.65
          ],
          [
           "IRN",
           70.964
          ],
          [
           "IRQ",
           59.545
          ],
          [
           "IRL",
           78.885
          ],
          [
           "ISR",
           80.745
          ],
          [
           "ITA",
           80.546
          ],
          [
           "JAM",
           72.567
          ],
          [
           "JPN",
           82.603
          ],
          [
           "JOR",
           72.535
          ],
          [
           "KEN",
           54.11
          ],
          [
           "KOR",
           67.297
          ],
          [
           "KOR",
           78.623
          ],
          [
           "KWT",
           77.58800000000002
          ],
          [
           "LBN",
           71.993
          ],
          [
           "LSO",
           42.592
          ],
          [
           "LBR",
           45.678
          ],
          [
           "LBY",
           73.952
          ],
          [
           "MDG",
           59.443000000000005
          ],
          [
           "MWI",
           48.303
          ],
          [
           "MYS",
           74.241
          ],
          [
           "MLI",
           54.467
          ],
          [
           "MRT",
           64.164
          ],
          [
           "MUS",
           72.801
          ],
          [
           "MEX",
           76.195
          ],
          [
           "MNG",
           66.803
          ],
          [
           "MNE",
           74.543
          ],
          [
           "MAR",
           71.164
          ],
          [
           "MOZ",
           42.082
          ],
          [
           "MMR",
           62.06900000000001
          ],
          [
           "NAM",
           52.90600000000001
          ],
          [
           "NPL",
           63.785
          ],
          [
           "NLD",
           79.762
          ],
          [
           "NZL",
           80.204
          ],
          [
           "NIC",
           72.899
          ],
          [
           "NER",
           56.867
          ],
          [
           "NGA",
           46.859
          ],
          [
           "NOR",
           80.196
          ],
          [
           "OMN",
           75.64
          ],
          [
           "PAK",
           65.483
          ],
          [
           "PAN",
           75.53699999999998
          ],
          [
           "PRY",
           71.752
          ],
          [
           "PER",
           71.421
          ],
          [
           "PHL",
           71.688
          ],
          [
           "POL",
           75.563
          ],
          [
           "PRT",
           78.098
          ],
          [
           "PRI",
           78.74600000000002
          ],
          [
           "REU",
           76.442
          ],
          [
           "ROU",
           72.476
          ],
          [
           "RWA",
           46.242
          ],
          [
           "STP",
           65.528
          ],
          [
           "SAU",
           72.777
          ],
          [
           "SEN",
           63.062
          ],
          [
           "SRB",
           74.002
          ],
          [
           "SLE",
           42.56800000000001
          ],
          [
           "SGP",
           79.972
          ],
          [
           "SVK",
           74.663
          ],
          [
           "SVN",
           77.926
          ],
          [
           "SOM",
           48.159
          ],
          [
           "ZAF",
           49.339
          ],
          [
           "ESP",
           80.941
          ],
          [
           "LKA",
           72.396
          ],
          [
           "SDN",
           58.55599999999999
          ],
          [
           "SWZ",
           39.613
          ],
          [
           "SWE",
           80.884
          ],
          [
           "CHE",
           81.70100000000002
          ],
          [
           "SYR",
           74.143
          ],
          [
           "TWN",
           78.4
          ],
          [
           "TZA",
           52.517
          ],
          [
           "THA",
           70.616
          ],
          [
           "TGO",
           58.42
          ],
          [
           "TTO",
           69.819
          ],
          [
           "TUN",
           73.923
          ],
          [
           "TUR",
           71.777
          ],
          [
           "UGA",
           51.542
          ],
          [
           "GBR",
           79.425
          ],
          [
           "USA",
           78.242
          ],
          [
           "URY",
           76.384
          ],
          [
           "VEN",
           73.747
          ],
          [
           "VNM",
           74.249
          ],
          [
           "PSE",
           73.422
          ],
          [
           "YEM",
           62.698
          ],
          [
           "ZMB",
           42.38399999999999
          ],
          [
           "ZWE",
           43.487
          ],
          [
           "(?)",
           54.56441057558197
          ],
          [
           "(?)",
           75.35668222743027
          ],
          [
           "(?)",
           69.44386304205017
          ],
          [
           "(?)",
           77.89057081069897
          ],
          [
           "(?)",
           81.06215400970112
          ],
          [
           "(?)",
           68.91909251904043
          ]
         ],
         "domain": {
          "x": [
           0,
           1
          ],
          "y": [
           0,
           1
          ]
         },
         "hovertemplate": "labels=%{label}<br>pop=%{value}<br>parent=%{parent}<br>id=%{id}<br>iso_alpha=%{customdata[0]}<br>lifeExp=%{color}<extra></extra>",
         "ids": [
          "world/Asia/Afghanistan",
          "world/Europe/Albania",
          "world/Africa/Algeria",
          "world/Africa/Angola",
          "world/Americas/Argentina",
          "world/Oceania/Australia",
          "world/Europe/Austria",
          "world/Asia/Bahrain",
          "world/Asia/Bangladesh",
          "world/Europe/Belgium",
          "world/Africa/Benin",
          "world/Americas/Bolivia",
          "world/Europe/Bosnia and Herzegovina",
          "world/Africa/Botswana",
          "world/Americas/Brazil",
          "world/Europe/Bulgaria",
          "world/Africa/Burkina Faso",
          "world/Africa/Burundi",
          "world/Asia/Cambodia",
          "world/Africa/Cameroon",
          "world/Americas/Canada",
          "world/Africa/Central African Republic",
          "world/Africa/Chad",
          "world/Americas/Chile",
          "world/Asia/China",
          "world/Americas/Colombia",
          "world/Africa/Comoros",
          "world/Africa/Congo, Dem. Rep.",
          "world/Africa/Congo, Rep.",
          "world/Americas/Costa Rica",
          "world/Africa/Cote d'Ivoire",
          "world/Europe/Croatia",
          "world/Americas/Cuba",
          "world/Europe/Czech Republic",
          "world/Europe/Denmark",
          "world/Africa/Djibouti",
          "world/Americas/Dominican Republic",
          "world/Americas/Ecuador",
          "world/Africa/Egypt",
          "world/Americas/El Salvador",
          "world/Africa/Equatorial Guinea",
          "world/Africa/Eritrea",
          "world/Africa/Ethiopia",
          "world/Europe/Finland",
          "world/Europe/France",
          "world/Africa/Gabon",
          "world/Africa/Gambia",
          "world/Europe/Germany",
          "world/Africa/Ghana",
          "world/Europe/Greece",
          "world/Americas/Guatemala",
          "world/Africa/Guinea",
          "world/Africa/Guinea-Bissau",
          "world/Americas/Haiti",
          "world/Americas/Honduras",
          "world/Asia/Hong Kong, China",
          "world/Europe/Hungary",
          "world/Europe/Iceland",
          "world/Asia/India",
          "world/Asia/Indonesia",
          "world/Asia/Iran",
          "world/Asia/Iraq",
          "world/Europe/Ireland",
          "world/Asia/Israel",
          "world/Europe/Italy",
          "world/Americas/Jamaica",
          "world/Asia/Japan",
          "world/Asia/Jordan",
          "world/Africa/Kenya",
          "world/Asia/Korea, Dem. Rep.",
          "world/Asia/Korea, Rep.",
          "world/Asia/Kuwait",
          "world/Asia/Lebanon",
          "world/Africa/Lesotho",
          "world/Africa/Liberia",
          "world/Africa/Libya",
          "world/Africa/Madagascar",
          "world/Africa/Malawi",
          "world/Asia/Malaysia",
          "world/Africa/Mali",
          "world/Africa/Mauritania",
          "world/Africa/Mauritius",
          "world/Americas/Mexico",
          "world/Asia/Mongolia",
          "world/Europe/Montenegro",
          "world/Africa/Morocco",
          "world/Africa/Mozambique",
          "world/Asia/Myanmar",
          "world/Africa/Namibia",
          "world/Asia/Nepal",
          "world/Europe/Netherlands",
          "world/Oceania/New Zealand",
          "world/Americas/Nicaragua",
          "world/Africa/Niger",
          "world/Africa/Nigeria",
          "world/Europe/Norway",
          "world/Asia/Oman",
          "world/Asia/Pakistan",
          "world/Americas/Panama",
          "world/Americas/Paraguay",
          "world/Americas/Peru",
          "world/Asia/Philippines",
          "world/Europe/Poland",
          "world/Europe/Portugal",
          "world/Americas/Puerto Rico",
          "world/Africa/Reunion",
          "world/Europe/Romania",
          "world/Africa/Rwanda",
          "world/Africa/Sao Tome and Principe",
          "world/Asia/Saudi Arabia",
          "world/Africa/Senegal",
          "world/Europe/Serbia",
          "world/Africa/Sierra Leone",
          "world/Asia/Singapore",
          "world/Europe/Slovak Republic",
          "world/Europe/Slovenia",
          "world/Africa/Somalia",
          "world/Africa/South Africa",
          "world/Europe/Spain",
          "world/Asia/Sri Lanka",
          "world/Africa/Sudan",
          "world/Africa/Swaziland",
          "world/Europe/Sweden",
          "world/Europe/Switzerland",
          "world/Asia/Syria",
          "world/Asia/Taiwan",
          "world/Africa/Tanzania",
          "world/Asia/Thailand",
          "world/Africa/Togo",
          "world/Americas/Trinidad and Tobago",
          "world/Africa/Tunisia",
          "world/Europe/Turkey",
          "world/Africa/Uganda",
          "world/Europe/United Kingdom",
          "world/Americas/United States",
          "world/Americas/Uruguay",
          "world/Americas/Venezuela",
          "world/Asia/Vietnam",
          "world/Asia/West Bank and Gaza",
          "world/Asia/Yemen, Rep.",
          "world/Africa/Zambia",
          "world/Africa/Zimbabwe",
          "world/Africa",
          "world/Americas",
          "world/Asia",
          "world/Europe",
          "world/Oceania",
          "world"
         ],
         "labels": [
          "Afghanistan",
          "Albania",
          "Algeria",
          "Angola",
          "Argentina",
          "Australia",
          "Austria",
          "Bahrain",
          "Bangladesh",
          "Belgium",
          "Benin",
          "Bolivia",
          "Bosnia and Herzegovina",
          "Botswana",
          "Brazil",
          "Bulgaria",
          "Burkina Faso",
          "Burundi",
          "Cambodia",
          "Cameroon",
          "Canada",
          "Central African Republic",
          "Chad",
          "Chile",
          "China",
          "Colombia",
          "Comoros",
          "Congo, Dem. Rep.",
          "Congo, Rep.",
          "Costa Rica",
          "Cote d'Ivoire",
          "Croatia",
          "Cuba",
          "Czech Republic",
          "Denmark",
          "Djibouti",
          "Dominican Republic",
          "Ecuador",
          "Egypt",
          "El Salvador",
          "Equatorial Guinea",
          "Eritrea",
          "Ethiopia",
          "Finland",
          "France",
          "Gabon",
          "Gambia",
          "Germany",
          "Ghana",
          "Greece",
          "Guatemala",
          "Guinea",
          "Guinea-Bissau",
          "Haiti",
          "Honduras",
          "Hong Kong, China",
          "Hungary",
          "Iceland",
          "India",
          "Indonesia",
          "Iran",
          "Iraq",
          "Ireland",
          "Israel",
          "Italy",
          "Jamaica",
          "Japan",
          "Jordan",
          "Kenya",
          "Korea, Dem. Rep.",
          "Korea, Rep.",
          "Kuwait",
          "Lebanon",
          "Lesotho",
          "Liberia",
          "Libya",
          "Madagascar",
          "Malawi",
          "Malaysia",
          "Mali",
          "Mauritania",
          "Mauritius",
          "Mexico",
          "Mongolia",
          "Montenegro",
          "Morocco",
          "Mozambique",
          "Myanmar",
          "Namibia",
          "Nepal",
          "Netherlands",
          "New Zealand",
          "Nicaragua",
          "Niger",
          "Nigeria",
          "Norway",
          "Oman",
          "Pakistan",
          "Panama",
          "Paraguay",
          "Peru",
          "Philippines",
          "Poland",
          "Portugal",
          "Puerto Rico",
          "Reunion",
          "Romania",
          "Rwanda",
          "Sao Tome and Principe",
          "Saudi Arabia",
          "Senegal",
          "Serbia",
          "Sierra Leone",
          "Singapore",
          "Slovak Republic",
          "Slovenia",
          "Somalia",
          "South Africa",
          "Spain",
          "Sri Lanka",
          "Sudan",
          "Swaziland",
          "Sweden",
          "Switzerland",
          "Syria",
          "Taiwan",
          "Tanzania",
          "Thailand",
          "Togo",
          "Trinidad and Tobago",
          "Tunisia",
          "Turkey",
          "Uganda",
          "United Kingdom",
          "United States",
          "Uruguay",
          "Venezuela",
          "Vietnam",
          "West Bank and Gaza",
          "Yemen, Rep.",
          "Zambia",
          "Zimbabwe",
          "Africa",
          "Americas",
          "Asia",
          "Europe",
          "Oceania",
          "world"
         ],
         "marker": {
          "coloraxis": "coloraxis",
          "colors": [
           43.828,
           76.423,
           72.301,
           42.731,
           75.32,
           81.235,
           79.829,
           75.635,
           64.062,
           79.441,
           56.728,
           65.554,
           74.852,
           50.728,
           72.39,
           73.005,
           52.295,
           49.58,
           59.723,
           50.43,
           80.65300000000002,
           44.74100000000001,
           50.651,
           78.553,
           72.961,
           72.889,
           65.152,
           46.462,
           55.322,
           78.782,
           48.328,
           75.748,
           78.273,
           76.486,
           78.332,
           54.791,
           72.235,
           74.994,
           71.33800000000002,
           71.878,
           51.57899999999999,
           58.03999999999999,
           52.947,
           79.313,
           80.65699999999998,
           56.73500000000001,
           59.448,
           79.406,
           60.02199999999999,
           79.483,
           70.259,
           56.007,
           46.38800000000001,
           60.916,
           70.19800000000001,
           82.208,
           73.33800000000002,
           81.757,
           64.69800000000001,
           70.65,
           70.964,
           59.545,
           78.885,
           80.745,
           80.546,
           72.567,
           82.603,
           72.535,
           54.11,
           67.297,
           78.623,
           77.58800000000002,
           71.993,
           42.592,
           45.678,
           73.952,
           59.443000000000005,
           48.303,
           74.241,
           54.467,
           64.164,
           72.801,
           76.195,
           66.803,
           74.543,
           71.164,
           42.082,
           62.06900000000001,
           52.90600000000001,
           63.785,
           79.762,
           80.204,
           72.899,
           56.867,
           46.859,
           80.196,
           75.64,
           65.483,
           75.53699999999998,
           71.752,
           71.421,
           71.688,
           75.563,
           78.098,
           78.74600000000002,
           76.442,
           72.476,
           46.242,
           65.528,
           72.777,
           63.062,
           74.002,
           42.56800000000001,
           79.972,
           74.663,
           77.926,
           48.159,
           49.339,
           80.941,
           72.396,
           58.55599999999999,
           39.613,
           80.884,
           81.70100000000002,
           74.143,
           78.4,
           52.517,
           70.616,
           58.42,
           69.819,
           73.923,
           71.777,
           51.542,
           79.425,
           78.242,
           76.384,
           73.747,
           74.249,
           73.422,
           62.698,
           42.38399999999999,
           43.487,
           54.56441057558197,
           75.35668222743027,
           69.44386304205017,
           77.89057081069897,
           81.06215400970112,
           68.91909251904043
          ]
         },
         "name": "",
         "parents": [
          "world/Asia",
          "world/Europe",
          "world/Africa",
          "world/Africa",
          "world/Americas",
          "world/Oceania",
          "world/Europe",
          "world/Asia",
          "world/Asia",
          "world/Europe",
          "world/Africa",
          "world/Americas",
          "world/Europe",
          "world/Africa",
          "world/Americas",
          "world/Europe",
          "world/Africa",
          "world/Africa",
          "world/Asia",
          "world/Africa",
          "world/Americas",
          "world/Africa",
          "world/Africa",
          "world/Americas",
          "world/Asia",
          "world/Americas",
          "world/Africa",
          "world/Africa",
          "world/Africa",
          "world/Americas",
          "world/Africa",
          "world/Europe",
          "world/Americas",
          "world/Europe",
          "world/Europe",
          "world/Africa",
          "world/Americas",
          "world/Americas",
          "world/Africa",
          "world/Americas",
          "world/Africa",
          "world/Africa",
          "world/Africa",
          "world/Europe",
          "world/Europe",
          "world/Africa",
          "world/Africa",
          "world/Europe",
          "world/Africa",
          "world/Europe",
          "world/Americas",
          "world/Africa",
          "world/Africa",
          "world/Americas",
          "world/Americas",
          "world/Asia",
          "world/Europe",
          "world/Europe",
          "world/Asia",
          "world/Asia",
          "world/Asia",
          "world/Asia",
          "world/Europe",
          "world/Asia",
          "world/Europe",
          "world/Americas",
          "world/Asia",
          "world/Asia",
          "world/Africa",
          "world/Asia",
          "world/Asia",
          "world/Asia",
          "world/Asia",
          "world/Africa",
          "world/Africa",
          "world/Africa",
          "world/Africa",
          "world/Africa",
          "world/Asia",
          "world/Africa",
          "world/Africa",
          "world/Africa",
          "world/Americas",
          "world/Asia",
          "world/Europe",
          "world/Africa",
          "world/Africa",
          "world/Asia",
          "world/Africa",
          "world/Asia",
          "world/Europe",
          "world/Oceania",
          "world/Americas",
          "world/Africa",
          "world/Africa",
          "world/Europe",
          "world/Asia",
          "world/Asia",
          "world/Americas",
          "world/Americas",
          "world/Americas",
          "world/Asia",
          "world/Europe",
          "world/Europe",
          "world/Americas",
          "world/Africa",
          "world/Europe",
          "world/Africa",
          "world/Africa",
          "world/Asia",
          "world/Africa",
          "world/Europe",
          "world/Africa",
          "world/Asia",
          "world/Europe",
          "world/Europe",
          "world/Africa",
          "world/Africa",
          "world/Europe",
          "world/Asia",
          "world/Africa",
          "world/Africa",
          "world/Europe",
          "world/Europe",
          "world/Asia",
          "world/Asia",
          "world/Africa",
          "world/Asia",
          "world/Africa",
          "world/Americas",
          "world/Africa",
          "world/Europe",
          "world/Africa",
          "world/Europe",
          "world/Americas",
          "world/Americas",
          "world/Americas",
          "world/Asia",
          "world/Asia",
          "world/Asia",
          "world/Africa",
          "world/Africa",
          "world",
          "world",
          "world",
          "world",
          "world",
          ""
         ],
         "type": "treemap",
         "values": [
          31889923,
          3600523,
          33333216,
          12420476,
          40301927,
          20434176,
          8199783,
          708573,
          150448339,
          10392226,
          8078314,
          9119152,
          4552198,
          1639131,
          190010647,
          7322858,
          14326203,
          8390505,
          14131858,
          17696293,
          33390141,
          4369038,
          10238807,
          16284741,
          1318683096,
          44227550,
          710960,
          64606759,
          3800610,
          4133884,
          18013409,
          4493312,
          11416987,
          10228744,
          5468120,
          496374,
          9319622,
          13755680,
          80264543,
          6939688,
          551201,
          4906585,
          76511887,
          5238460,
          61083916,
          1454867,
          1688359,
          82400996,
          22873338,
          10706290,
          12572928,
          9947814,
          1472041,
          8502814,
          7483763,
          6980412,
          9956108,
          301931,
          1110396331,
          223547000,
          69453570,
          27499638,
          4109086,
          6426679,
          58147733,
          2780132,
          127467972,
          6053193,
          35610177,
          23301725,
          49044790,
          2505559,
          3921278,
          2012649,
          3193942,
          6036914,
          19167654,
          13327079,
          24821286,
          12031795,
          3270065,
          1250882,
          108700891,
          2874127,
          684736,
          33757175,
          19951656,
          47761980,
          2055080,
          28901790,
          16570613,
          4115771,
          5675356,
          12894865,
          135031164,
          4627926,
          3204897,
          169270617,
          3242173,
          6667147,
          28674757,
          91077287,
          38518241,
          10642836,
          3942491,
          798094,
          22276056,
          8860588,
          199579,
          27601038,
          12267493,
          10150265,
          6144562,
          4553009,
          5447502,
          2009245,
          9118773,
          43997828,
          40448191,
          20378239,
          42292929,
          1133066,
          9031088,
          7554661,
          19314747,
          23174294,
          38139640,
          65068149,
          5701579,
          1056608,
          10276158,
          71158647,
          29170398,
          60776238,
          301139947,
          3447496,
          26084662,
          85262356,
          4018332,
          22211743,
          11746035,
          12311143,
          929539692,
          898871184,
          3811953827,
          586098529,
          24549947,
          6251013179
         ]
        }
       ],
       "layout": {
        "coloraxis": {
         "cmid": 68.91909251904043,
         "colorbar": {
          "title": {
           "text": "lifeExp"
          }
         },
         "colorscale": [
          [
           0,
           "rgb(103,0,31)"
          ],
          [
           0.1,
           "rgb(178,24,43)"
          ],
          [
           0.2,
           "rgb(214,96,77)"
          ],
          [
           0.3,
           "rgb(244,165,130)"
          ],
          [
           0.4,
           "rgb(253,219,199)"
          ],
          [
           0.5,
           "rgb(247,247,247)"
          ],
          [
           0.6,
           "rgb(209,229,240)"
          ],
          [
           0.7,
           "rgb(146,197,222)"
          ],
          [
           0.8,
           "rgb(67,147,195)"
          ],
          [
           0.9,
           "rgb(33,102,172)"
          ],
          [
           1,
           "rgb(5,48,97)"
          ]
         ]
        },
        "legend": {
         "tracegroupgap": 0
        },
        "margin": {
         "b": 25,
         "l": 25,
         "r": 25,
         "t": 50
        },
        "template": {
         "data": {
          "bar": [
           {
            "error_x": {
             "color": "#2a3f5f"
            },
            "error_y": {
             "color": "#2a3f5f"
            },
            "marker": {
             "line": {
              "color": "#E5ECF6",
              "width": 0.5
             },
             "pattern": {
              "fillmode": "overlay",
              "size": 10,
              "solidity": 0.2
             }
            },
            "type": "bar"
           }
          ],
          "barpolar": [
           {
            "marker": {
             "line": {
              "color": "#E5ECF6",
              "width": 0.5
             },
             "pattern": {
              "fillmode": "overlay",
              "size": 10,
              "solidity": 0.2
             }
            },
            "type": "barpolar"
           }
          ],
          "carpet": [
           {
            "aaxis": {
             "endlinecolor": "#2a3f5f",
             "gridcolor": "white",
             "linecolor": "white",
             "minorgridcolor": "white",
             "startlinecolor": "#2a3f5f"
            },
            "baxis": {
             "endlinecolor": "#2a3f5f",
             "gridcolor": "white",
             "linecolor": "white",
             "minorgridcolor": "white",
             "startlinecolor": "#2a3f5f"
            },
            "type": "carpet"
           }
          ],
          "choropleth": [
           {
            "colorbar": {
             "outlinewidth": 0,
             "ticks": ""
            },
            "type": "choropleth"
           }
          ],
          "contour": [
           {
            "colorbar": {
             "outlinewidth": 0,
             "ticks": ""
            },
            "colorscale": [
             [
              0,
              "#0d0887"
             ],
             [
              0.1111111111111111,
              "#46039f"
             ],
             [
              0.2222222222222222,
              "#7201a8"
             ],
             [
              0.3333333333333333,
              "#9c179e"
             ],
             [
              0.4444444444444444,
              "#bd3786"
             ],
             [
              0.5555555555555556,
              "#d8576b"
             ],
             [
              0.6666666666666666,
              "#ed7953"
             ],
             [
              0.7777777777777778,
              "#fb9f3a"
             ],
             [
              0.8888888888888888,
              "#fdca26"
             ],
             [
              1,
              "#f0f921"
             ]
            ],
            "type": "contour"
           }
          ],
          "contourcarpet": [
           {
            "colorbar": {
             "outlinewidth": 0,
             "ticks": ""
            },
            "type": "contourcarpet"
           }
          ],
          "heatmap": [
           {
            "colorbar": {
             "outlinewidth": 0,
             "ticks": ""
            },
            "colorscale": [
             [
              0,
              "#0d0887"
             ],
             [
              0.1111111111111111,
              "#46039f"
             ],
             [
              0.2222222222222222,
              "#7201a8"
             ],
             [
              0.3333333333333333,
              "#9c179e"
             ],
             [
              0.4444444444444444,
              "#bd3786"
             ],
             [
              0.5555555555555556,
              "#d8576b"
             ],
             [
              0.6666666666666666,
              "#ed7953"
             ],
             [
              0.7777777777777778,
              "#fb9f3a"
             ],
             [
              0.8888888888888888,
              "#fdca26"
             ],
             [
              1,
              "#f0f921"
             ]
            ],
            "type": "heatmap"
           }
          ],
          "heatmapgl": [
           {
            "colorbar": {
             "outlinewidth": 0,
             "ticks": ""
            },
            "colorscale": [
             [
              0,
              "#0d0887"
             ],
             [
              0.1111111111111111,
              "#46039f"
             ],
             [
              0.2222222222222222,
              "#7201a8"
             ],
             [
              0.3333333333333333,
              "#9c179e"
             ],
             [
              0.4444444444444444,
              "#bd3786"
             ],
             [
              0.5555555555555556,
              "#d8576b"
             ],
             [
              0.6666666666666666,
              "#ed7953"
             ],
             [
              0.7777777777777778,
              "#fb9f3a"
             ],
             [
              0.8888888888888888,
              "#fdca26"
             ],
             [
              1,
              "#f0f921"
             ]
            ],
            "type": "heatmapgl"
           }
          ],
          "histogram": [
           {
            "marker": {
             "pattern": {
              "fillmode": "overlay",
              "size": 10,
              "solidity": 0.2
             }
            },
            "type": "histogram"
           }
          ],
          "histogram2d": [
           {
            "colorbar": {
             "outlinewidth": 0,
             "ticks": ""
            },
            "colorscale": [
             [
              0,
              "#0d0887"
             ],
             [
              0.1111111111111111,
              "#46039f"
             ],
             [
              0.2222222222222222,
              "#7201a8"
             ],
             [
              0.3333333333333333,
              "#9c179e"
             ],
             [
              0.4444444444444444,
              "#bd3786"
             ],
             [
              0.5555555555555556,
              "#d8576b"
             ],
             [
              0.6666666666666666,
              "#ed7953"
             ],
             [
              0.7777777777777778,
              "#fb9f3a"
             ],
             [
              0.8888888888888888,
              "#fdca26"
             ],
             [
              1,
              "#f0f921"
             ]
            ],
            "type": "histogram2d"
           }
          ],
          "histogram2dcontour": [
           {
            "colorbar": {
             "outlinewidth": 0,
             "ticks": ""
            },
            "colorscale": [
             [
              0,
              "#0d0887"
             ],
             [
              0.1111111111111111,
              "#46039f"
             ],
             [
              0.2222222222222222,
              "#7201a8"
             ],
             [
              0.3333333333333333,
              "#9c179e"
             ],
             [
              0.4444444444444444,
              "#bd3786"
             ],
             [
              0.5555555555555556,
              "#d8576b"
             ],
             [
              0.6666666666666666,
              "#ed7953"
             ],
             [
              0.7777777777777778,
              "#fb9f3a"
             ],
             [
              0.8888888888888888,
              "#fdca26"
             ],
             [
              1,
              "#f0f921"
             ]
            ],
            "type": "histogram2dcontour"
           }
          ],
          "mesh3d": [
           {
            "colorbar": {
             "outlinewidth": 0,
             "ticks": ""
            },
            "type": "mesh3d"
           }
          ],
          "parcoords": [
           {
            "line": {
             "colorbar": {
              "outlinewidth": 0,
              "ticks": ""
             }
            },
            "type": "parcoords"
           }
          ],
          "pie": [
           {
            "automargin": true,
            "type": "pie"
           }
          ],
          "scatter": [
           {
            "fillpattern": {
             "fillmode": "overlay",
             "size": 10,
             "solidity": 0.2
            },
            "type": "scatter"
           }
          ],
          "scatter3d": [
           {
            "line": {
             "colorbar": {
              "outlinewidth": 0,
              "ticks": ""
             }
            },
            "marker": {
             "colorbar": {
              "outlinewidth": 0,
              "ticks": ""
             }
            },
            "type": "scatter3d"
           }
          ],
          "scattercarpet": [
           {
            "marker": {
             "colorbar": {
              "outlinewidth": 0,
              "ticks": ""
             }
            },
            "type": "scattercarpet"
           }
          ],
          "scattergeo": [
           {
            "marker": {
             "colorbar": {
              "outlinewidth": 0,
              "ticks": ""
             }
            },
            "type": "scattergeo"
           }
          ],
          "scattergl": [
           {
            "marker": {
             "colorbar": {
              "outlinewidth": 0,
              "ticks": ""
             }
            },
            "type": "scattergl"
           }
          ],
          "scattermapbox": [
           {
            "marker": {
             "colorbar": {
              "outlinewidth": 0,
              "ticks": ""
             }
            },
            "type": "scattermapbox"
           }
          ],
          "scatterpolar": [
           {
            "marker": {
             "colorbar": {
              "outlinewidth": 0,
              "ticks": ""
             }
            },
            "type": "scatterpolar"
           }
          ],
          "scatterpolargl": [
           {
            "marker": {
             "colorbar": {
              "outlinewidth": 0,
              "ticks": ""
             }
            },
            "type": "scatterpolargl"
           }
          ],
          "scatterternary": [
           {
            "marker": {
             "colorbar": {
              "outlinewidth": 0,
              "ticks": ""
             }
            },
            "type": "scatterternary"
           }
          ],
          "surface": [
           {
            "colorbar": {
             "outlinewidth": 0,
             "ticks": ""
            },
            "colorscale": [
             [
              0,
              "#0d0887"
             ],
             [
              0.1111111111111111,
              "#46039f"
             ],
             [
              0.2222222222222222,
              "#7201a8"
             ],
             [
              0.3333333333333333,
              "#9c179e"
             ],
             [
              0.4444444444444444,
              "#bd3786"
             ],
             [
              0.5555555555555556,
              "#d8576b"
             ],
             [
              0.6666666666666666,
              "#ed7953"
             ],
             [
              0.7777777777777778,
              "#fb9f3a"
             ],
             [
              0.8888888888888888,
              "#fdca26"
             ],
             [
              1,
              "#f0f921"
             ]
            ],
            "type": "surface"
           }
          ],
          "table": [
           {
            "cells": {
             "fill": {
              "color": "#EBF0F8"
             },
             "line": {
              "color": "white"
             }
            },
            "header": {
             "fill": {
              "color": "#C8D4E3"
             },
             "line": {
              "color": "white"
             }
            },
            "type": "table"
           }
          ]
         },
         "layout": {
          "annotationdefaults": {
           "arrowcolor": "#2a3f5f",
           "arrowhead": 0,
           "arrowwidth": 1
          },
          "autotypenumbers": "strict",
          "coloraxis": {
           "colorbar": {
            "outlinewidth": 0,
            "ticks": ""
           }
          },
          "colorscale": {
           "diverging": [
            [
             0,
             "#8e0152"
            ],
            [
             0.1,
             "#c51b7d"
            ],
            [
             0.2,
             "#de77ae"
            ],
            [
             0.3,
             "#f1b6da"
            ],
            [
             0.4,
             "#fde0ef"
            ],
            [
             0.5,
             "#f7f7f7"
            ],
            [
             0.6,
             "#e6f5d0"
            ],
            [
             0.7,
             "#b8e186"
            ],
            [
             0.8,
             "#7fbc41"
            ],
            [
             0.9,
             "#4d9221"
            ],
            [
             1,
             "#276419"
            ]
           ],
           "sequential": [
            [
             0,
             "#0d0887"
            ],
            [
             0.1111111111111111,
             "#46039f"
            ],
            [
             0.2222222222222222,
             "#7201a8"
            ],
            [
             0.3333333333333333,
             "#9c179e"
            ],
            [
             0.4444444444444444,
             "#bd3786"
            ],
            [
             0.5555555555555556,
             "#d8576b"
            ],
            [
             0.6666666666666666,
             "#ed7953"
            ],
            [
             0.7777777777777778,
             "#fb9f3a"
            ],
            [
             0.8888888888888888,
             "#fdca26"
            ],
            [
             1,
             "#f0f921"
            ]
           ],
           "sequentialminus": [
            [
             0,
             "#0d0887"
            ],
            [
             0.1111111111111111,
             "#46039f"
            ],
            [
             0.2222222222222222,
             "#7201a8"
            ],
            [
             0.3333333333333333,
             "#9c179e"
            ],
            [
             0.4444444444444444,
             "#bd3786"
            ],
            [
             0.5555555555555556,
             "#d8576b"
            ],
            [
             0.6666666666666666,
             "#ed7953"
            ],
            [
             0.7777777777777778,
             "#fb9f3a"
            ],
            [
             0.8888888888888888,
             "#fdca26"
            ],
            [
             1,
             "#f0f921"
            ]
           ]
          },
          "colorway": [
           "#636efa",
           "#EF553B",
           "#00cc96",
           "#ab63fa",
           "#FFA15A",
           "#19d3f3",
           "#FF6692",
           "#B6E880",
           "#FF97FF",
           "#FECB52"
          ],
          "font": {
           "color": "#2a3f5f"
          },
          "geo": {
           "bgcolor": "white",
           "lakecolor": "white",
           "landcolor": "#E5ECF6",
           "showlakes": true,
           "showland": true,
           "subunitcolor": "white"
          },
          "hoverlabel": {
           "align": "left"
          },
          "hovermode": "closest",
          "mapbox": {
           "style": "light"
          },
          "paper_bgcolor": "white",
          "plot_bgcolor": "#E5ECF6",
          "polar": {
           "angularaxis": {
            "gridcolor": "white",
            "linecolor": "white",
            "ticks": ""
           },
           "bgcolor": "#E5ECF6",
           "radialaxis": {
            "gridcolor": "white",
            "linecolor": "white",
            "ticks": ""
           }
          },
          "scene": {
           "xaxis": {
            "backgroundcolor": "#E5ECF6",
            "gridcolor": "white",
            "gridwidth": 2,
            "linecolor": "white",
            "showbackground": true,
            "ticks": "",
            "zerolinecolor": "white"
           },
           "yaxis": {
            "backgroundcolor": "#E5ECF6",
            "gridcolor": "white",
            "gridwidth": 2,
            "linecolor": "white",
            "showbackground": true,
            "ticks": "",
            "zerolinecolor": "white"
           },
           "zaxis": {
            "backgroundcolor": "#E5ECF6",
            "gridcolor": "white",
            "gridwidth": 2,
            "linecolor": "white",
            "showbackground": true,
            "ticks": "",
            "zerolinecolor": "white"
           }
          },
          "shapedefaults": {
           "line": {
            "color": "#2a3f5f"
           }
          },
          "ternary": {
           "aaxis": {
            "gridcolor": "white",
            "linecolor": "white",
            "ticks": ""
           },
           "baxis": {
            "gridcolor": "white",
            "linecolor": "white",
            "ticks": ""
           },
           "bgcolor": "#E5ECF6",
           "caxis": {
            "gridcolor": "white",
            "linecolor": "white",
            "ticks": ""
           }
          },
          "title": {
           "x": 0.05
          },
          "xaxis": {
           "automargin": true,
           "gridcolor": "white",
           "linecolor": "white",
           "ticks": "",
           "title": {
            "standoff": 15
           },
           "zerolinecolor": "white",
           "zerolinewidth": 2
          },
          "yaxis": {
           "automargin": true,
           "gridcolor": "white",
           "linecolor": "white",
           "ticks": "",
           "title": {
            "standoff": 15
           },
           "zerolinecolor": "white",
           "zerolinewidth": 2
          }
         }
        }
       }
      }
     },
     "metadata": {},
     "output_type": "display_data"
    }
   ],
   "source": [
    "import plotly.express as px\n",
    "import numpy as np\n",
    "df = px.data.gapminder().query(\"year == 2007\")\n",
    "fig = px.treemap(df, path=[px.Constant(\"world\"), 'continent', 'country'], values='pop',\n",
    "                  color='lifeExp',\n",
    "                  color_continuous_scale='RdBu',\n",
    "                  color_continuous_midpoint=np.average(df['lifeExp'], weights=df['pop']))\n",
    "fig.update_layout(margin = dict(t=50, l=25, r=25, b=25))\n",
    "fig.show()"
   ]
  },
  {
   "cell_type": "code",
   "execution_count": 318,
   "metadata": {},
   "outputs": [
    {
     "data": {
      "text/html": [
       "<div>\n",
       "<style scoped>\n",
       "    .dataframe tbody tr th:only-of-type {\n",
       "        vertical-align: middle;\n",
       "    }\n",
       "\n",
       "    .dataframe tbody tr th {\n",
       "        vertical-align: top;\n",
       "    }\n",
       "\n",
       "    .dataframe thead th {\n",
       "        text-align: right;\n",
       "    }\n",
       "</style>\n",
       "<table border=\"1\" class=\"dataframe\">\n",
       "  <thead>\n",
       "    <tr style=\"text-align: right;\">\n",
       "      <th></th>\n",
       "      <th>country</th>\n",
       "      <th>continent</th>\n",
       "      <th>year</th>\n",
       "      <th>lifeExp</th>\n",
       "      <th>pop</th>\n",
       "      <th>gdpPercap</th>\n",
       "      <th>iso_alpha</th>\n",
       "      <th>iso_num</th>\n",
       "    </tr>\n",
       "  </thead>\n",
       "  <tbody>\n",
       "    <tr>\n",
       "      <th>11</th>\n",
       "      <td>Afghanistan</td>\n",
       "      <td>Asia</td>\n",
       "      <td>2007</td>\n",
       "      <td>43.828</td>\n",
       "      <td>31889923</td>\n",
       "      <td>974.580338</td>\n",
       "      <td>AFG</td>\n",
       "      <td>4</td>\n",
       "    </tr>\n",
       "    <tr>\n",
       "      <th>23</th>\n",
       "      <td>Albania</td>\n",
       "      <td>Europe</td>\n",
       "      <td>2007</td>\n",
       "      <td>76.423</td>\n",
       "      <td>3600523</td>\n",
       "      <td>5937.029526</td>\n",
       "      <td>ALB</td>\n",
       "      <td>8</td>\n",
       "    </tr>\n",
       "    <tr>\n",
       "      <th>35</th>\n",
       "      <td>Algeria</td>\n",
       "      <td>Africa</td>\n",
       "      <td>2007</td>\n",
       "      <td>72.301</td>\n",
       "      <td>33333216</td>\n",
       "      <td>6223.367465</td>\n",
       "      <td>DZA</td>\n",
       "      <td>12</td>\n",
       "    </tr>\n",
       "    <tr>\n",
       "      <th>47</th>\n",
       "      <td>Angola</td>\n",
       "      <td>Africa</td>\n",
       "      <td>2007</td>\n",
       "      <td>42.731</td>\n",
       "      <td>12420476</td>\n",
       "      <td>4797.231267</td>\n",
       "      <td>AGO</td>\n",
       "      <td>24</td>\n",
       "    </tr>\n",
       "    <tr>\n",
       "      <th>59</th>\n",
       "      <td>Argentina</td>\n",
       "      <td>Americas</td>\n",
       "      <td>2007</td>\n",
       "      <td>75.320</td>\n",
       "      <td>40301927</td>\n",
       "      <td>12779.379640</td>\n",
       "      <td>ARG</td>\n",
       "      <td>32</td>\n",
       "    </tr>\n",
       "    <tr>\n",
       "      <th>...</th>\n",
       "      <td>...</td>\n",
       "      <td>...</td>\n",
       "      <td>...</td>\n",
       "      <td>...</td>\n",
       "      <td>...</td>\n",
       "      <td>...</td>\n",
       "      <td>...</td>\n",
       "      <td>...</td>\n",
       "    </tr>\n",
       "    <tr>\n",
       "      <th>1655</th>\n",
       "      <td>Vietnam</td>\n",
       "      <td>Asia</td>\n",
       "      <td>2007</td>\n",
       "      <td>74.249</td>\n",
       "      <td>85262356</td>\n",
       "      <td>2441.576404</td>\n",
       "      <td>VNM</td>\n",
       "      <td>704</td>\n",
       "    </tr>\n",
       "    <tr>\n",
       "      <th>1667</th>\n",
       "      <td>West Bank and Gaza</td>\n",
       "      <td>Asia</td>\n",
       "      <td>2007</td>\n",
       "      <td>73.422</td>\n",
       "      <td>4018332</td>\n",
       "      <td>3025.349798</td>\n",
       "      <td>PSE</td>\n",
       "      <td>275</td>\n",
       "    </tr>\n",
       "    <tr>\n",
       "      <th>1679</th>\n",
       "      <td>Yemen, Rep.</td>\n",
       "      <td>Asia</td>\n",
       "      <td>2007</td>\n",
       "      <td>62.698</td>\n",
       "      <td>22211743</td>\n",
       "      <td>2280.769906</td>\n",
       "      <td>YEM</td>\n",
       "      <td>887</td>\n",
       "    </tr>\n",
       "    <tr>\n",
       "      <th>1691</th>\n",
       "      <td>Zambia</td>\n",
       "      <td>Africa</td>\n",
       "      <td>2007</td>\n",
       "      <td>42.384</td>\n",
       "      <td>11746035</td>\n",
       "      <td>1271.211593</td>\n",
       "      <td>ZMB</td>\n",
       "      <td>894</td>\n",
       "    </tr>\n",
       "    <tr>\n",
       "      <th>1703</th>\n",
       "      <td>Zimbabwe</td>\n",
       "      <td>Africa</td>\n",
       "      <td>2007</td>\n",
       "      <td>43.487</td>\n",
       "      <td>12311143</td>\n",
       "      <td>469.709298</td>\n",
       "      <td>ZWE</td>\n",
       "      <td>716</td>\n",
       "    </tr>\n",
       "  </tbody>\n",
       "</table>\n",
       "<p>142 rows × 8 columns</p>\n",
       "</div>"
      ],
      "text/plain": [
       "                 country continent  year  lifeExp       pop     gdpPercap   \n",
       "11           Afghanistan      Asia  2007   43.828  31889923    974.580338  \\\n",
       "23               Albania    Europe  2007   76.423   3600523   5937.029526   \n",
       "35               Algeria    Africa  2007   72.301  33333216   6223.367465   \n",
       "47                Angola    Africa  2007   42.731  12420476   4797.231267   \n",
       "59             Argentina  Americas  2007   75.320  40301927  12779.379640   \n",
       "...                  ...       ...   ...      ...       ...           ...   \n",
       "1655             Vietnam      Asia  2007   74.249  85262356   2441.576404   \n",
       "1667  West Bank and Gaza      Asia  2007   73.422   4018332   3025.349798   \n",
       "1679         Yemen, Rep.      Asia  2007   62.698  22211743   2280.769906   \n",
       "1691              Zambia    Africa  2007   42.384  11746035   1271.211593   \n",
       "1703            Zimbabwe    Africa  2007   43.487  12311143    469.709298   \n",
       "\n",
       "     iso_alpha  iso_num  \n",
       "11         AFG        4  \n",
       "23         ALB        8  \n",
       "35         DZA       12  \n",
       "47         AGO       24  \n",
       "59         ARG       32  \n",
       "...        ...      ...  \n",
       "1655       VNM      704  \n",
       "1667       PSE      275  \n",
       "1679       YEM      887  \n",
       "1691       ZMB      894  \n",
       "1703       ZWE      716  \n",
       "\n",
       "[142 rows x 8 columns]"
      ]
     },
     "execution_count": 318,
     "metadata": {},
     "output_type": "execute_result"
    }
   ],
   "source": [
    "df"
   ]
  },
  {
   "cell_type": "code",
   "execution_count": 324,
   "metadata": {},
   "outputs": [],
   "source": [
    "import folium\n",
    "import pandas as pd\n",
    "from folium.plugins import HeatMap\n",
    "import numpy as np\n",
    "import plotly.express as px\n",
    "\n",
    "\n",
    "date_start = '2022-01-01'\n",
    "date_end = '2024-01-01'\n",
    "\n",
    "df_folium_plot = pd.read_csv('plots_data/dashboard_folium.csv')\n",
    "df_bubble = df_folium_plot[['constituency','upload_date','sentiment','view_count','party']]\n",
    "df_bubble_sorted = df_bubble[(df_bubble.upload_date >= date_start) & (df_bubble.upload_date <= date_end)]\n",
    "df_bubble_grouped = df_bubble_sorted[['constituency','sentiment','view_count','party']].groupby(['constituency','party']).agg({\"sentiment\": np.mean, 'view_count': np.sum}).reset_index()\n",
    "df_bubble_grouped  = df_bubble_grouped.sort_values('view_count', ascending = False)\n"
   ]
  },
  {
   "cell_type": "code",
   "execution_count": 325,
   "metadata": {},
   "outputs": [
    {
     "data": {
      "text/html": [
       "<div>\n",
       "<style scoped>\n",
       "    .dataframe tbody tr th:only-of-type {\n",
       "        vertical-align: middle;\n",
       "    }\n",
       "\n",
       "    .dataframe tbody tr th {\n",
       "        vertical-align: top;\n",
       "    }\n",
       "\n",
       "    .dataframe thead th {\n",
       "        text-align: right;\n",
       "    }\n",
       "</style>\n",
       "<table border=\"1\" class=\"dataframe\">\n",
       "  <thead>\n",
       "    <tr style=\"text-align: right;\">\n",
       "      <th></th>\n",
       "      <th>constituency</th>\n",
       "      <th>party</th>\n",
       "      <th>sentiment</th>\n",
       "      <th>view_count</th>\n",
       "    </tr>\n",
       "  </thead>\n",
       "  <tbody>\n",
       "    <tr>\n",
       "      <th>194</th>\n",
       "      <td>Vidadala Rajini</td>\n",
       "      <td>YSRCP</td>\n",
       "      <td>-0.006816</td>\n",
       "      <td>117417998.0</td>\n",
       "    </tr>\n",
       "    <tr>\n",
       "      <th>199</th>\n",
       "      <td>Y S jagan mohan reddy</td>\n",
       "      <td>YSRCP</td>\n",
       "      <td>0.008546</td>\n",
       "      <td>111885964.0</td>\n",
       "    </tr>\n",
       "    <tr>\n",
       "      <th>73</th>\n",
       "      <td>K. V. Ushashri Charan</td>\n",
       "      <td>YSRCP</td>\n",
       "      <td>-0.002927</td>\n",
       "      <td>92184269.0</td>\n",
       "    </tr>\n",
       "    <tr>\n",
       "      <th>41</th>\n",
       "      <td>Chinta Anuradha</td>\n",
       "      <td>YSRCP</td>\n",
       "      <td>-0.003463</td>\n",
       "      <td>91212170.0</td>\n",
       "    </tr>\n",
       "    <tr>\n",
       "      <th>157</th>\n",
       "      <td>R K roja</td>\n",
       "      <td>YSRCP</td>\n",
       "      <td>0.013351</td>\n",
       "      <td>88392875.0</td>\n",
       "    </tr>\n",
       "    <tr>\n",
       "      <th>...</th>\n",
       "      <td>...</td>\n",
       "      <td>...</td>\n",
       "      <td>...</td>\n",
       "      <td>...</td>\n",
       "    </tr>\n",
       "    <tr>\n",
       "      <th>93</th>\n",
       "      <td>Kommineni Srinivasa Rao</td>\n",
       "      <td>MEDIA</td>\n",
       "      <td>-0.054195</td>\n",
       "      <td>478919.0</td>\n",
       "    </tr>\n",
       "    <tr>\n",
       "      <th>109</th>\n",
       "      <td>Maheedhar Reddy Manugunta</td>\n",
       "      <td>YSRCP</td>\n",
       "      <td>0.108490</td>\n",
       "      <td>455572.0</td>\n",
       "    </tr>\n",
       "    <tr>\n",
       "      <th>12</th>\n",
       "      <td>Anantha Venkatarami Reddy</td>\n",
       "      <td>YSRCP</td>\n",
       "      <td>0.095415</td>\n",
       "      <td>443813.0</td>\n",
       "    </tr>\n",
       "    <tr>\n",
       "      <th>190</th>\n",
       "      <td>Varaprasad Rao Velagapalli</td>\n",
       "      <td>YSRCP</td>\n",
       "      <td>-0.076836</td>\n",
       "      <td>279781.0</td>\n",
       "    </tr>\n",
       "    <tr>\n",
       "      <th>185</th>\n",
       "      <td>Uppalapati Venkata Ramanamurthy Raju</td>\n",
       "      <td>YSRCP</td>\n",
       "      <td>-0.164477</td>\n",
       "      <td>100781.0</td>\n",
       "    </tr>\n",
       "  </tbody>\n",
       "</table>\n",
       "<p>220 rows × 4 columns</p>\n",
       "</div>"
      ],
      "text/plain": [
       "                             constituency  party  sentiment   view_count\n",
       "194                       Vidadala Rajini  YSRCP  -0.006816  117417998.0\n",
       "199                 Y S jagan mohan reddy  YSRCP   0.008546  111885964.0\n",
       "73                  K. V. Ushashri Charan  YSRCP  -0.002927   92184269.0\n",
       "41                        Chinta Anuradha  YSRCP  -0.003463   91212170.0\n",
       "157                              R K roja  YSRCP   0.013351   88392875.0\n",
       "..                                    ...    ...        ...          ...\n",
       "93                Kommineni Srinivasa Rao  MEDIA  -0.054195     478919.0\n",
       "109             Maheedhar Reddy Manugunta  YSRCP   0.108490     455572.0\n",
       "12              Anantha Venkatarami Reddy  YSRCP   0.095415     443813.0\n",
       "190            Varaprasad Rao Velagapalli  YSRCP  -0.076836     279781.0\n",
       "185  Uppalapati Venkata Ramanamurthy Raju  YSRCP  -0.164477     100781.0\n",
       "\n",
       "[220 rows x 4 columns]"
      ]
     },
     "execution_count": 325,
     "metadata": {},
     "output_type": "execute_result"
    }
   ],
   "source": []
  },
  {
   "cell_type": "code",
   "execution_count": 332,
   "metadata": {},
   "outputs": [
    {
     "data": {
      "application/vnd.plotly.v1+json": {
       "config": {
        "plotlyServerURL": "https://plot.ly"
       },
       "data": [
        {
         "branchvalues": "total",
         "customdata": [
          [
           -0.015118997455432801,
           "YSRCP"
          ],
          [
           -0.07209482514063907,
           "TDP"
          ],
          [
           0.005594832128472589,
           "YSRCP"
          ],
          [
           0.008506471496536931,
           "JSP"
          ],
          [
           0.0191173323272739,
           "YSRCP"
          ],
          [
           -0.07000833874131518,
           "YSRCP"
          ],
          [
           -0.007307405180105876,
           "MEDIA"
          ],
          [
           0.0009578137378408437,
           "YSRCP"
          ],
          [
           0.0567003162766238,
           "YSRCP"
          ],
          [
           0.011034788316112955,
           "YSRCP"
          ],
          [
           -0.0038352906544024635,
           "YSRCP"
          ],
          [
           0.038917907685321926,
           "YSRCP"
          ],
          [
           0.002722101770175336,
           "YSRCP"
          ],
          [
           0.03756930210250691,
           "CONG"
          ],
          [
           -0.04658281718369236,
           "YSRCP"
          ],
          [
           -0.05781545518935714,
           "YSRCP"
          ],
          [
           0.005535999666847549,
           "YSRCP"
          ],
          [
           0.016549838230722373,
           "YSRCP"
          ],
          [
           0.011493117094787746,
           "MEDIA"
          ],
          [
           0.004034625387845784,
           "YSRCP"
          ],
          [
           0.000864677627599887,
           "YSRCP"
          ],
          [
           0.00048438139483626523,
           "YSRCP"
          ],
          [
           0.0217774056933269,
           "YSRCP"
          ],
          [
           0.00557121760852397,
           "YSRCP"
          ],
          [
           0.0038000856560028106,
           "TDP"
          ],
          [
           0.005305232460489605,
           "YSRCP"
          ],
          [
           0.006552075065313717,
           "YSRCP"
          ],
          [
           0.005052852176495849,
           "JSP"
          ],
          [
           0.01569520185084388,
           "YSRCP"
          ],
          [
           0.006624015745541986,
           "YSRCP"
          ],
          [
           -0.005730185453022845,
           "YSRCP"
          ],
          [
           -0.07510837915221572,
           "YSRCP"
          ],
          [
           -0.04367633592194219,
           "YSRCP"
          ],
          [
           -0.04892225124996858,
           "BJP"
          ],
          [
           0.06494365616244771,
           "YSRCP"
          ],
          [
           0.07675926417918483,
           "YSRCP"
          ],
          [
           0.008545904639433267,
           "YSRCP"
          ],
          [
           -0.0022733987962310896,
           "YSRCP"
          ],
          [
           0.000544603359675982,
           "YSRCP"
          ],
          [
           -0.013861385056214147,
           "YSRCP"
          ],
          [
           0.016192538524248148,
           "YSRCP"
          ],
          [
           0.016905368205584363,
           "YSRCP"
          ],
          [
           0.02116214166538201,
           "YSRCP"
          ],
          [
           0.012811511675872083,
           "YSRCP"
          ],
          [
           -0.018882413206860058,
           "YSRCP"
          ],
          [
           0.017326262564077405,
           "YSRCP"
          ],
          [
           -0.00498311726390307,
           "YSRCP"
          ],
          [
           -0.00607178394862107,
           "YSRCP"
          ],
          [
           -0.03334006328307908,
           "YSRCP"
          ],
          [
           -0.027583853283024807,
           "MEDIA"
          ],
          [
           0.02204459417804105,
           "YSRCP"
          ],
          [
           0.0048830211751649715,
           "YSRCP"
          ],
          [
           0.013350941217697278,
           "YSRCP"
          ],
          [
           0.02262419840535226,
           "YSRCP"
          ],
          [
           0.029488276711451374,
           "YSRCP"
          ],
          [
           -0.04878575658058304,
           "YSRCP"
          ],
          [
           0.019394596476945573,
           "YSRCP"
          ],
          [
           0.0012978380823079332,
           "YSRCP"
          ],
          [
           -0.02360768652678845,
           "YSRCP"
          ],
          [
           0.008448596250900635,
           "TDP"
          ],
          [
           0.0023568839783348807,
           "YSRCP"
          ],
          [
           -0.020133278580788897,
           "YSRCP"
          ],
          [
           -0.05783257621675478,
           "JSP"
          ],
          [
           0.0006331296649205781,
           "YSRCP"
          ],
          [
           -0.03668421381502595,
           "TDP"
          ],
          [
           0.004199503933542822,
           "TDP"
          ],
          [
           0.005693774709892627,
           "TDP"
          ],
          [
           -0.031900736061870404,
           "TDP"
          ],
          [
           0.008976362740104604,
           "YSRCP"
          ],
          [
           -0.0042764993362623275,
           "TDP"
          ],
          [
           -0.01610296459058411,
           "YSRCP"
          ],
          [
           0.004209005896976132,
           "BJP"
          ],
          [
           0.015762171621309634,
           "TDP"
          ],
          [
           -0.016181165811345263,
           "YSRCP"
          ],
          [
           -0.024027395609569503,
           "YSRCP"
          ],
          [
           0.035354883764244546,
           "YSRCP"
          ],
          [
           0.03289881009588247,
           "YSRCP"
          ],
          [
           0.022443286801505983,
           "TDP"
          ],
          [
           0.01120725389385168,
           "MEDIA"
          ],
          [
           -0.010588690375887746,
           "YSRCP"
          ],
          [
           0.0028501196671289588,
           "YSRCP"
          ],
          [
           -0.021285998230807734,
           "YSRCP"
          ],
          [
           -0.07683556168189108,
           "YSRCP"
          ],
          [
           -0.010128259765766333,
           "YSRCP"
          ],
          [
           -0.006754845094770111,
           "MEDIA"
          ],
          [
           0.007093653313353698,
           "YSRCP"
          ],
          [
           0.029935863530844334,
           "YSRCP"
          ],
          [
           -0.006816369860859511,
           "YSRCP"
          ],
          [
           -0.009568704217822334,
           "YSRCP"
          ],
          [
           0.005095746412152437,
           "YSRCP"
          ],
          [
           0.056305878750244356,
           "YSRCP"
          ],
          [
           0.004567099114967887,
           "YSRCP"
          ],
          [
           0.024028869380321036,
           "YSRCP"
          ],
          [
           -0.05970201857763638,
           "YSRCP"
          ],
          [
           0.02670145473603747,
           "YSRCP"
          ],
          [
           0.01202072367541702,
           "TDP"
          ],
          [
           -0.16447674190585976,
           "YSRCP"
          ],
          [
           -0.0016957572101018337,
           "TDP"
          ],
          [
           0.012041579356116909,
           "YSRCP"
          ],
          [
           0.03672005483470527,
           "YSRCP"
          ],
          [
           -0.041822246173639034,
           "TDP"
          ],
          [
           -0.0189956133442974,
           "YSRCP"
          ],
          [
           0.04935642160073827,
           "YSRCP"
          ],
          [
           0.0003865815983270001,
           "YSRCP"
          ],
          [
           0.027782755084694424,
           "YSRCP"
          ],
          [
           0.027782755084694424,
           "JSP"
          ],
          [
           -0.03043024504787437,
           "JSP"
          ],
          [
           0.003955013381968539,
           "MEDIA"
          ],
          [
           0.050493846514875984,
           "YSRCP"
          ],
          [
           -0.0016731985045314614,
           "YSRCP"
          ],
          [
           -0.051692063545765596,
           "YSRCP"
          ],
          [
           -0.027866262204264212,
           "YSRCP"
          ],
          [
           0.03126137892568011,
           "YSRCP"
          ],
          [
           0.0016295743877183643,
           "YSRCP"
          ],
          [
           0.008417880702347438,
           "YSRCP"
          ],
          [
           0.002478528328587264,
           "YSRCP"
          ],
          [
           -0.0027560655029303708,
           "YSRCP"
          ],
          [
           -0.008198010479394195,
           "YSRCP"
          ],
          [
           0.030237004723775208,
           "YSRCP"
          ],
          [
           0.0062603817597241835,
           "YSRCP"
          ],
          [
           0.012522333047890884,
           "YSRCP"
          ],
          [
           0.10849045512688885,
           "YSRCP"
          ],
          [
           0.0093024034900706,
           "YSRCP"
          ],
          [
           -0.011357876326447794,
           "YSRCP"
          ],
          [
           0.04468771078302113,
           "YSRCP"
          ],
          [
           0.025756829701411438,
           "YSRCP"
          ],
          [
           -0.057595119733364245,
           "YSRCP"
          ],
          [
           -0.0034630171634491658,
           "YSRCP"
          ],
          [
           -0.02194296201676058,
           "YSRCP"
          ],
          [
           -0.038458173273325354,
           "YSRCP"
          ],
          [
           -0.030151373244718015,
           "YSRCP"
          ],
          [
           -0.010942949458645209,
           "YSRCP"
          ],
          [
           -0.016410994589342053,
           "YSRCP"
          ],
          [
           0.014966248855233996,
           "YSRCP"
          ],
          [
           0.011455911653003878,
           "YSRCP"
          ],
          [
           0.0006380164913993749,
           "YSRCP"
          ],
          [
           -0.010380930552291607,
           "YSRCP"
          ],
          [
           -0.006729935757616002,
           "YSRCP"
          ],
          [
           -0.00017025883189354795,
           "TDP"
          ],
          [
           0.013022033577596815,
           "YSRCP"
          ],
          [
           -0.07904675145113932,
           "TDP"
          ],
          [
           0.08886133372365636,
           "YSRCP"
          ],
          [
           -0.0122841179109468,
           "YSRCP"
          ],
          [
           -0.0027950965765044787,
           "TDP"
          ],
          [
           0.04279936391320294,
           "YSRCP"
          ],
          [
           -0.002857765993459869,
           "YSRCP"
          ],
          [
           0.0480718746853789,
           "JSP"
          ],
          [
           0.00029830710006154704,
           "YSRCP"
          ],
          [
           0.03591079100937231,
           "YSRCP"
          ],
          [
           -0.0073343955132897905,
           "TDP"
          ],
          [
           0.007884614600707879,
           "MEDIA"
          ],
          [
           0.004628958616572237,
           "YSRCP"
          ],
          [
           -0.0004166408760509115,
           "YSRCP"
          ],
          [
           0.007049212311030015,
           "YSRCP"
          ],
          [
           0.004527630852671543,
           "YSRCP"
          ],
          [
           0.01972628356765289,
           "TDP"
          ],
          [
           -0.00515925936587286,
           "YSRCP"
          ],
          [
           0.09541516044845236,
           "YSRCP"
          ],
          [
           0.013532245868393224,
           "YSRCP"
          ],
          [
           -0.007128092700595165,
           "YSRCP"
          ],
          [
           -0.020675472862492855,
           "YSRCP"
          ],
          [
           0.06512175148992543,
           "YSRCP"
          ],
          [
           0.011310173212532946,
           "YSRCP"
          ],
          [
           -0.0032219105154325934,
           "YSRCP"
          ],
          [
           -0.002028068977798524,
           "YSRCP"
          ],
          [
           0.010528688072914637,
           "YSRCP"
          ],
          [
           0.0008332696613915078,
           "YSRCP"
          ],
          [
           -0.010480114688622786,
           "YSRCP"
          ],
          [
           0.0011010891609406744,
           "YSRCP"
          ],
          [
           -0.03487174084671619,
           "TDP"
          ],
          [
           -0.012504994569924656,
           "YSRCP"
          ],
          [
           -0.001525936194214016,
           "TDP"
          ],
          [
           0.0042557457002435645,
           "YSRCP"
          ],
          [
           0.010278254502101054,
           "YSRCP"
          ],
          [
           0.006794497016548667,
           "YSRCP"
          ],
          [
           0.03933719873983751,
           "YSRCP"
          ],
          [
           0.0001744475208294309,
           "YSRCP"
          ],
          [
           0.01348421795040217,
           "YSRCP"
          ],
          [
           0.006412673331741322,
           "YSRCP"
          ],
          [
           0.0565680768107384,
           "YSRCP"
          ],
          [
           -0.08827152169490861,
           "YSRCP"
          ],
          [
           -0.002556250654583073,
           "YSRCP"
          ],
          [
           -0.019780989287586592,
           "YSRCP"
          ],
          [
           -0.007364050197788477,
           "YSRCP"
          ],
          [
           0.018814241420364412,
           "YSRCP"
          ],
          [
           -0.005228022778475352,
           "YSRCP"
          ],
          [
           0.02594195208705663,
           "YSRCP"
          ],
          [
           -0.0027281691423097,
           "TDP"
          ],
          [
           0.012963485293262177,
           "YSRCP"
          ],
          [
           -0.030817721959024272,
           "YSRCP"
          ],
          [
           0.004859816956386816,
           "YSRCP"
          ],
          [
           0.007405744798509525,
           "YSRCP"
          ],
          [
           -0.009596671597355706,
           "YSRCP"
          ],
          [
           -0.008083830562505263,
           "YSRCP"
          ],
          [
           -0.030714376655978395,
           "YSRCP"
          ],
          [
           -0.054194728904853814,
           "MEDIA"
          ],
          [
           0.019831400830521942,
           "YSRCP"
          ],
          [
           0.021189238511875385,
           "YSRCP"
          ],
          [
           0.010756202413624492,
           "YSRCP"
          ],
          [
           -0.04945317835077793,
           "YSRCP"
          ],
          [
           -0.05507103460293162,
           "YSRCP"
          ],
          [
           -0.014281817909061571,
           "YSRCP"
          ],
          [
           0.018643827554905606,
           "YSRCP"
          ],
          [
           -0.014654597012875319,
           "YSRCP"
          ],
          [
           -0.0838781947667648,
           "YSRCP"
          ],
          [
           -0.002926954809070441,
           "YSRCP"
          ],
          [
           0.01737357378511704,
           "YSRCP"
          ],
          [
           0.02901889615494173,
           "YSRCP"
          ],
          [
           -0.003909885912401875,
           "JSP"
          ],
          [
           -0.0005998076242708548,
           "YSRCP"
          ],
          [
           0.0067876433441048534,
           "YSRCP"
          ],
          [
           -0.03647115157719081,
           "YSRCP"
          ],
          [
           0.01034476103596125,
           "YSRCP"
          ],
          [
           0.01981524759616848,
           "YSRCP"
          ],
          [
           0.05148428613739081,
           "YSRCP"
          ],
          [
           0.015334389700078119,
           "YSRCP"
          ],
          [
           -0.00641405321498861,
           "TDP"
          ],
          [
           0.0488001117354787,
           "YSRCP"
          ],
          [
           -0.004784960493561417,
           "TDP"
          ],
          [
           0.015520375811358329,
           "MEDIA"
          ],
          [
           "(?)",
           "BJP"
          ],
          [
           0.03756930210250691,
           "CONG"
          ],
          [
           "(?)",
           "JSP"
          ],
          [
           "(?)",
           "MEDIA"
          ],
          [
           "(?)",
           "TDP"
          ],
          [
           "(?)",
           "YSRCP"
          ],
          [
           "(?)",
           "(?)"
          ]
         ],
         "domain": {
          "x": [
           0,
           1
          ],
          "y": [
           0,
           1
          ]
         },
         "hovertemplate": "labels=%{label}<br>view_count=%{value}<br>parent=%{parent}<br>id=%{id}<br>sentiment=%{customdata[0]}<br>party=%{customdata[1]}<extra></extra>",
         "ids": [
          "Parties/YSRCP/Raghuramireddy Settipalli",
          "Parties/TDP/Ashok Bendalam",
          "Parties/YSRCP/Sanjeev Kuma",
          "Parties/JSP/Pothena Venkata Mahesh",
          "Parties/YSRCP/Purnachandra Prasad Parvatha",
          "Parties/YSRCP/Nallapareddy Prasanna Kumar Redd",
          "Parties/MEDIA/Telakapalli Ravi",
          "Parties/YSRCP/Anil Kumar Poluboina",
          "Parties/YSRCP/Kuruva Gorantla Madhav",
          "Parties/YSRCP/Appalanarasayya Botcha",
          "Parties/YSRCP/Pocha Brahmananda Reddy",
          "Parties/YSRCP/Kapu Ramachandra Reddy",
          "Parties/YSRCP/Kakani Govardhan Reddy",
          "Parties/CONG/K. V. P. Ramachandra Rao",
          "Parties/YSRCP/Vallabhaneni Balasouri",
          "Parties/YSRCP/Chevireddy Bhaskar Reddy",
          "Parties/YSRCP/Burra Madhu Sudhan Yadav",
          "Parties/YSRCP/Monditoka Jagan Mohana Rao",
          "Parties/MEDIA/murthy",
          "Parties/YSRCP/Thoguru Arthur",
          "Parties/YSRCP/Alajangi jogarao ",
          "Parties/YSRCP/Reddy Shanthi",
          "Parties/YSRCP/Grandhi Srinivas",
          "Parties/YSRCP/Katasani Rambhupal Reddy",
          "Parties/TDP/Ganta Srinivasarao",
          "Parties/YSRCP/Kodali Nani",
          "Parties/YSRCP/Kolagatla Veerabhadra Swamy",
          "Parties/JSP/Pawan Kalyan",
          "Parties/YSRCP/Dorababu Pendem",
          "Parties/YSRCP/kolusu parthasarathy",
          "Parties/YSRCP/P.V. Midhun Reddy",
          "Parties/YSRCP/Nedurumalli RamKumar Reddy",
          "Parties/YSRCP/M.V.V.Satyanarayana",
          "Parties/BJP/C. M. Ramesh",
          "Parties/YSRCP/kokkiligadda rakshana nidhi",
          "Parties/YSRCP/Anna Rambabu",
          "Parties/YSRCP/Y S jagan mohan reddy",
          "Parties/YSRCP/N Venkate Gowda",
          "Parties/YSRCP/Balineni Srinivasa Reddy",
          "Parties/YSRCP/Biyyapu Madhusudhan Reddy",
          "Parties/YSRCP/Mekapati Vikram Reddy",
          "Parties/YSRCP/Annabathuni Siva Kumar",
          "Parties/YSRCP/meka venkata pratap apparao",
          "Parties/YSRCP/Mule Sudheer Reddy",
          "Parties/YSRCP/Posani Krishna Murali",
          "Parties/YSRCP/Ponnada Venkata Satish Kumar",
          "Parties/YSRCP/Peddireddy Ramachandra Reddy",
          "Parties/YSRCP/Puppala Srinivasarao",
          "Parties/YSRCP/Pochimareddy Ravindranath Reddy",
          "Parties/MEDIA/Murali Krishna",
          "Parties/YSRCP/m babu",
          "Parties/YSRCP/Pinipe Viswarup",
          "Parties/YSRCP/R K roja",
          "Parties/YSRCP/Peedika Rajanna Dora",
          "Parties/YSRCP/Rachamallu Siva Prasad Reddy",
          "Parties/YSRCP/Namburu Sankara Rao",
          "Parties/YSRCP/Muttamsetti Srinivasa Rao",
          "Parties/YSRCP/udayabhanu samineni",
          "Parties/YSRCP/Nallakonda Gari Reddeppa",
          "Parties/TDP/Nandamuri Balakrishna",
          "Parties/YSRCP/Nagulapalli Dhanalakshmi",
          "Parties/YSRCP/Nandigam Suresh",
          "Parties/JSP/Nadendla Manohar",
          "Parties/YSRCP/perni Nani",
          "Parties/TDP/Nimmakayala Chinarajappa",
          "Parties/TDP/Nimmala Rama Naidu",
          "Parties/TDP/P.G.V.R. Naidu",
          "Parties/TDP/N lokesh",
          "Parties/YSRCP/P.V. Sidda Reddy",
          "Parties/TDP/N chandrababu naidu",
          "Parties/YSRCP/Pamula Pushpa Sreevani",
          "Parties/BJP/Pathuri Nagabhushanam",
          "Parties/TDP/Payyavula Keshav",
          "Parties/YSRCP/Peddireddi Dwarakanatha Reddy",
          "Parties/YSRCP/adimulam koneti",
          "Parties/YSRCP/Ramesh Babu Simhadri",
          "Parties/YSRCP/kiliveti sanjeevaiah",
          "Parties/TDP/V Jogeswara Rao",
          "Parties/MEDIA/V. Rajinikanth",
          "Parties/YSRCP/jogi ramesh",
          "Parties/YSRCP/gangula brijendra reddy",
          "Parties/YSRCP/Vanga Geetha",
          "Parties/YSRCP/Varaprasad Rao Velagapalli",
          "Parties/YSRCP/Vasantha Venkata Krishna Prasad",
          "Parties/MEDIA/ch krishna Anjaneyulu",
          "Parties/YSRCP/Vasupalli Ganesh Kumar",
          "Parties/YSRCP/Vellampalli Srinivas",
          "Parties/YSRCP/Vidadala Rajini",
          "Parties/YSRCP/Viswasarayi Kalavathi",
          "Parties/YSRCP/Vundavalli Sridevi",
          "Parties/YSRCP/Vunnamatla Eliza",
          "Parties/YSRCP/Y Balanagi Reddy",
          "Parties/YSRCP/Y Sai Prasad Reddy",
          "Parties/YSRCP/Y. S. Avinash Reddy",
          "Parties/YSRCP/Y.Venkatarama Reddy",
          "Parties/TDP/Yeluri Sambasiva Rao",
          "Parties/YSRCP/Uppalapati Venkata Ramanamurthy Raju",
          "Parties/TDP/Ram Mohan Naidu Kinjarapu",
          "Parties/YSRCP/Thopudurthi Prakash Reddy",
          "Parties/YSRCP/Thalathoti Jaya Ratna Sudhakar Babu",
          "Parties/TDP/Ramakrishna Babu Velagapudi",
          "Parties/YSRCP/Ramakrishna Reddy Pinnelli",
          "Parties/YSRCP/c ramachandra reddy",
          "Parties/YSRCP/Ramireddy Pratap Kumar Reddy",
          "Parties/YSRCP/Rapaka Vara Prasada Rao",
          "Parties/JSP/SRI RAPAKA VARA PRASADA RAO",
          "Parties/JSP/SUNDARAPU VIJAY KUMAR",
          "Parties/MEDIA/Samasiva Rao",
          "Parties/YSRCP/Sambangi Venkatachina Appala Naidu",
          "Parties/YSRCP/Mudunuri Prasada Raju",
          "Parties/YSRCP/Sathi Suryanarayana Reddy",
          "Parties/YSRCP/Seediri Appalaraju",
          "Parties/YSRCP/Shilpa Ravi Chandra Kishore Reddy",
          "Parties/YSRCP/Silpa Chakrapani Reddy",
          "Parties/YSRCP/Talari Rangaiah",
          "Parties/YSRCP/Talari Venkatrao",
          "Parties/YSRCP/Taneti Vanitha",
          "Parties/YSRCP/k. narayana swamy",
          "Parties/YSRCP/Tellam Balaraju",
          "Parties/YSRCP/Thammineni Seetharam",
          "Parties/YSRCP/Abbaya Chowdary Kothari",
          "Parties/YSRCP/Maheedhar Reddy Manugunta",
          "Parties/YSRCP/Mohammad Musthafa Shaik",
          "Parties/YSRCP/Buggana Rajendranath",
          "Parties/YSRCP/Chelluboyina Srinivasa Venugopalakrishna",
          "Parties/YSRCP/Cherukuvada Sri Ranganadha Raju",
          "Parties/YSRCP/Chetti Palguna",
          "Parties/YSRCP/Chinta Anuradha",
          "Parties/YSRCP/Chirla Jaggireddy",
          "Parties/YSRCP/Dadisetti Ramalingeswara Rao",
          "Parties/YSRCP/Dasari Sudha",
          "Parties/YSRCP/Dharmana Krishna Das",
          "Parties/YSRCP/Budi Mutyalanaidu",
          "Parties/YSRCP/Dharmana Prasada Rao",
          "Parties/YSRCP/Duddukunta Sreedhar Reddy",
          "Parties/YSRCP/Dulam Nageswara Rao",
          "Parties/YSRCP/Dwarampudi Chandrasekhar Reddy",
          "Parties/YSRCP/G Srinivas Naidu",
          "Parties/TDP/Gadde Ramamohan",
          "Parties/YSRCP/Gadikota Srikanth Reddy",
          "Parties/TDP/Galla Jayadev",
          "Parties/YSRCP/Goddeti Madhavi",
          "Parties/YSRCP/Golla Babu Rao",
          "Parties/TDP/Dola Sree Bala Veeranjaneya Swamy",
          "Parties/YSRCP/Botcha Satyanarayana",
          "Parties/YSRCP/Bolla Brahma Naidu",
          "Parties/JSP/Bolisetti Satyanaryan",
          "Parties/YSRCP/Abdul Hafeez Khan",
          "Parties/YSRCP/Adala Prabhakar Reddy",
          "Parties/TDP/Adireddy Bhavani",
          "Parties/MEDIA/Advocate  Sravan Kumar",
          "Parties/YSRCP/Alla Kali Krishna Srinivas",
          "Parties/YSRCP/Alla Ramakrishna Reddy",
          "Parties/YSRCP/Ambati Rambabu",
          "Parties/YSRCP/Amzath Basha Shaik Bepari",
          "Parties/TDP/Anagani Satya Prasad",
          "Parties/YSRCP/Anam Ramanarayana Reddy",
          "Parties/YSRCP/Anantha Venkatarami Reddy",
          "Parties/YSRCP/Anil Kumar Kaile",
          "Parties/YSRCP/Annamreddy Adeep Raj",
          "Parties/YSRCP/Appalanaidu Baddukonda",
          "Parties/YSRCP/Aranii Srenevasulu",
          "Parties/YSRCP/Audimulapu Suresh",
          "Parties/YSRCP/Balli Durga Prasad Rao",
          "Parties/YSRCP/Beesetti Venkata Satyavathi",
          "Parties/YSRCP/Bellana Chandra Sekhar",
          "Parties/YSRCP/Bhagya Lakshmi Kottagulli",
          "Parties/YSRCP/Bhumana Karunakar Reddy",
          "Parties/YSRCP/Gopireddy Srinivasareddy",
          "Parties/TDP/Gorantla Butchaiah Chowdary",
          "Parties/YSRCP/Gorle Kiran Kumar",
          "Parties/TDP/Gottipati Ravikumar",
          "Parties/YSRCP/Kondeti Chittibabu",
          "Parties/YSRCP/Koramutla Sreenivasulu",
          "Parties/YSRCP/Kotagiri Sridhar",
          "Parties/YSRCP/Kotamreddy Sridhar Reddy",
          "Parties/YSRCP/Kottu Satyanarayana",
          "Parties/YSRCP/Kunduru Nagarjuna Reddy",
          "Parties/YSRCP/Kurasala Kannababu",
          "Parties/YSRCP/Lavu Sri Krishna Devarayalu",
          "Parties/YSRCP/M. Thippeswamy",
          "Parties/YSRCP/Maddila Gurumoorthy",
          "Parties/YSRCP/Maddisetty Venugopal",
          "Parties/YSRCP/Magunta Sreenivasulu Reddy",
          "Parties/YSRCP/vallabhaneni vamsi mohan",
          "Parties/YSRCP/Malagundla Sankaranarayana",
          "Parties/YSRCP/Malladi Vishnu",
          "Parties/TDP/Mantena Ramaraju",
          "Parties/YSRCP/Margani Bharat",
          "Parties/YSRCP/Meda Venkata Mallikarjuna Reddy",
          "Parties/YSRCP/Mekapati Chandra Sekhar Reddy",
          "Parties/YSRCP/Mekathoti Sucharita",
          "Parties/YSRCP/Merugu Nagarjuna",
          "Parties/YSRCP/Kona Raghupath",
          "Parties/YSRCP/Mohammed Nawaz Basha",
          "Parties/MEDIA/Kommineni Srinivasa Rao",
          "Parties/YSRCP/Kilari Venkata Rosaiah",
          "Parties/YSRCP/Gudivada Amarnath",
          "Parties/YSRCP/Gummanur Jayaram",
          "Parties/YSRCP/Jakkampudi Raja",
          "Parties/YSRCP/Jaradoddi Sudhakar",
          "Parties/YSRCP/Jonnalagadda Padmavathy",
          "Parties/YSRCP/Jyothula Chantibabu",
          "Parties/YSRCP/K Chenna Kesava Reddy",
          "Parties/YSRCP/K. Pedda Reddy",
          "Parties/YSRCP/K. V. Ushashri Charan",
          "Parties/YSRCP/Kadubandi Srinivasa Rao",
          "Parties/YSRCP/Kambala Jogulu",
          "Parties/JSP/Kandula Durgesh",
          "Parties/YSRCP/Kangati Sreedevi",
          "Parties/YSRCP/Kanumuru Raghu Rama Krishna Raju",
          "Parties/YSRCP/Karanam Balaram Krishna Murthy",
          "Parties/YSRCP/Karanam Dharmasri",
          "Parties/YSRCP/Karumuri Venkata Nageswara Rao",
          "Parties/YSRCP/Kasu Mahesh Reddy",
          "Parties/YSRCP/Katasani Rami Reddy",
          "Parties/TDP/Kesineni Srinivas",
          "Parties/YSRCP/Kethireddy Venkatarami Reddy",
          "Parties/TDP/Kinjarapu Atchannaidu",
          "Parties/MEDIA/venkata krishna parvathaneni",
          "Parties/BJP",
          "Parties/CONG",
          "Parties/JSP",
          "Parties/MEDIA",
          "Parties/TDP",
          "Parties/YSRCP",
          "Parties"
         ],
         "labels": [
          "Raghuramireddy Settipalli",
          "Ashok Bendalam",
          "Sanjeev Kuma",
          "Pothena Venkata Mahesh",
          "Purnachandra Prasad Parvatha",
          "Nallapareddy Prasanna Kumar Redd",
          "Telakapalli Ravi",
          "Anil Kumar Poluboina",
          "Kuruva Gorantla Madhav",
          "Appalanarasayya Botcha",
          "Pocha Brahmananda Reddy",
          "Kapu Ramachandra Reddy",
          "Kakani Govardhan Reddy",
          "K. V. P. Ramachandra Rao",
          "Vallabhaneni Balasouri",
          "Chevireddy Bhaskar Reddy",
          "Burra Madhu Sudhan Yadav",
          "Monditoka Jagan Mohana Rao",
          "murthy",
          "Thoguru Arthur",
          "Alajangi jogarao ",
          "Reddy Shanthi",
          "Grandhi Srinivas",
          "Katasani Rambhupal Reddy",
          "Ganta Srinivasarao",
          "Kodali Nani",
          "Kolagatla Veerabhadra Swamy",
          "Pawan Kalyan",
          "Dorababu Pendem",
          "kolusu parthasarathy",
          "P.V. Midhun Reddy",
          "Nedurumalli RamKumar Reddy",
          "M.V.V.Satyanarayana",
          "C. M. Ramesh",
          "kokkiligadda rakshana nidhi",
          "Anna Rambabu",
          "Y S jagan mohan reddy",
          "N Venkate Gowda",
          "Balineni Srinivasa Reddy",
          "Biyyapu Madhusudhan Reddy",
          "Mekapati Vikram Reddy",
          "Annabathuni Siva Kumar",
          "meka venkata pratap apparao",
          "Mule Sudheer Reddy",
          "Posani Krishna Murali",
          "Ponnada Venkata Satish Kumar",
          "Peddireddy Ramachandra Reddy",
          "Puppala Srinivasarao",
          "Pochimareddy Ravindranath Reddy",
          "Murali Krishna",
          "m babu",
          "Pinipe Viswarup",
          "R K roja",
          "Peedika Rajanna Dora",
          "Rachamallu Siva Prasad Reddy",
          "Namburu Sankara Rao",
          "Muttamsetti Srinivasa Rao",
          "udayabhanu samineni",
          "Nallakonda Gari Reddeppa",
          "Nandamuri Balakrishna",
          "Nagulapalli Dhanalakshmi",
          "Nandigam Suresh",
          "Nadendla Manohar",
          "perni Nani",
          "Nimmakayala Chinarajappa",
          "Nimmala Rama Naidu",
          "P.G.V.R. Naidu",
          "N lokesh",
          "P.V. Sidda Reddy",
          "N chandrababu naidu",
          "Pamula Pushpa Sreevani",
          "Pathuri Nagabhushanam",
          "Payyavula Keshav",
          "Peddireddi Dwarakanatha Reddy",
          "adimulam koneti",
          "Ramesh Babu Simhadri",
          "kiliveti sanjeevaiah",
          "V Jogeswara Rao",
          "V. Rajinikanth",
          "jogi ramesh",
          "gangula brijendra reddy",
          "Vanga Geetha",
          "Varaprasad Rao Velagapalli",
          "Vasantha Venkata Krishna Prasad",
          "ch krishna Anjaneyulu",
          "Vasupalli Ganesh Kumar",
          "Vellampalli Srinivas",
          "Vidadala Rajini",
          "Viswasarayi Kalavathi",
          "Vundavalli Sridevi",
          "Vunnamatla Eliza",
          "Y Balanagi Reddy",
          "Y Sai Prasad Reddy",
          "Y. S. Avinash Reddy",
          "Y.Venkatarama Reddy",
          "Yeluri Sambasiva Rao",
          "Uppalapati Venkata Ramanamurthy Raju",
          "Ram Mohan Naidu Kinjarapu",
          "Thopudurthi Prakash Reddy",
          "Thalathoti Jaya Ratna Sudhakar Babu",
          "Ramakrishna Babu Velagapudi",
          "Ramakrishna Reddy Pinnelli",
          "c ramachandra reddy",
          "Ramireddy Pratap Kumar Reddy",
          "Rapaka Vara Prasada Rao",
          "SRI RAPAKA VARA PRASADA RAO",
          "SUNDARAPU VIJAY KUMAR",
          "Samasiva Rao",
          "Sambangi Venkatachina Appala Naidu",
          "Mudunuri Prasada Raju",
          "Sathi Suryanarayana Reddy",
          "Seediri Appalaraju",
          "Shilpa Ravi Chandra Kishore Reddy",
          "Silpa Chakrapani Reddy",
          "Talari Rangaiah",
          "Talari Venkatrao",
          "Taneti Vanitha",
          "k. narayana swamy",
          "Tellam Balaraju",
          "Thammineni Seetharam",
          "Abbaya Chowdary Kothari",
          "Maheedhar Reddy Manugunta",
          "Mohammad Musthafa Shaik",
          "Buggana Rajendranath",
          "Chelluboyina Srinivasa Venugopalakrishna",
          "Cherukuvada Sri Ranganadha Raju",
          "Chetti Palguna",
          "Chinta Anuradha",
          "Chirla Jaggireddy",
          "Dadisetti Ramalingeswara Rao",
          "Dasari Sudha",
          "Dharmana Krishna Das",
          "Budi Mutyalanaidu",
          "Dharmana Prasada Rao",
          "Duddukunta Sreedhar Reddy",
          "Dulam Nageswara Rao",
          "Dwarampudi Chandrasekhar Reddy",
          "G Srinivas Naidu",
          "Gadde Ramamohan",
          "Gadikota Srikanth Reddy",
          "Galla Jayadev",
          "Goddeti Madhavi",
          "Golla Babu Rao",
          "Dola Sree Bala Veeranjaneya Swamy",
          "Botcha Satyanarayana",
          "Bolla Brahma Naidu",
          "Bolisetti Satyanaryan",
          "Abdul Hafeez Khan",
          "Adala Prabhakar Reddy",
          "Adireddy Bhavani",
          "Advocate  Sravan Kumar",
          "Alla Kali Krishna Srinivas",
          "Alla Ramakrishna Reddy",
          "Ambati Rambabu",
          "Amzath Basha Shaik Bepari",
          "Anagani Satya Prasad",
          "Anam Ramanarayana Reddy",
          "Anantha Venkatarami Reddy",
          "Anil Kumar Kaile",
          "Annamreddy Adeep Raj",
          "Appalanaidu Baddukonda",
          "Aranii Srenevasulu",
          "Audimulapu Suresh",
          "Balli Durga Prasad Rao",
          "Beesetti Venkata Satyavathi",
          "Bellana Chandra Sekhar",
          "Bhagya Lakshmi Kottagulli",
          "Bhumana Karunakar Reddy",
          "Gopireddy Srinivasareddy",
          "Gorantla Butchaiah Chowdary",
          "Gorle Kiran Kumar",
          "Gottipati Ravikumar",
          "Kondeti Chittibabu",
          "Koramutla Sreenivasulu",
          "Kotagiri Sridhar",
          "Kotamreddy Sridhar Reddy",
          "Kottu Satyanarayana",
          "Kunduru Nagarjuna Reddy",
          "Kurasala Kannababu",
          "Lavu Sri Krishna Devarayalu",
          "M. Thippeswamy",
          "Maddila Gurumoorthy",
          "Maddisetty Venugopal",
          "Magunta Sreenivasulu Reddy",
          "vallabhaneni vamsi mohan",
          "Malagundla Sankaranarayana",
          "Malladi Vishnu",
          "Mantena Ramaraju",
          "Margani Bharat",
          "Meda Venkata Mallikarjuna Reddy",
          "Mekapati Chandra Sekhar Reddy",
          "Mekathoti Sucharita",
          "Merugu Nagarjuna",
          "Kona Raghupath",
          "Mohammed Nawaz Basha",
          "Kommineni Srinivasa Rao",
          "Kilari Venkata Rosaiah",
          "Gudivada Amarnath",
          "Gummanur Jayaram",
          "Jakkampudi Raja",
          "Jaradoddi Sudhakar",
          "Jonnalagadda Padmavathy",
          "Jyothula Chantibabu",
          "K Chenna Kesava Reddy",
          "K. Pedda Reddy",
          "K. V. Ushashri Charan",
          "Kadubandi Srinivasa Rao",
          "Kambala Jogulu",
          "Kandula Durgesh",
          "Kangati Sreedevi",
          "Kanumuru Raghu Rama Krishna Raju",
          "Karanam Balaram Krishna Murthy",
          "Karanam Dharmasri",
          "Karumuri Venkata Nageswara Rao",
          "Kasu Mahesh Reddy",
          "Katasani Rami Reddy",
          "Kesineni Srinivas",
          "Kethireddy Venkatarami Reddy",
          "Kinjarapu Atchannaidu",
          "venkata krishna parvathaneni",
          "BJP",
          "CONG",
          "JSP",
          "MEDIA",
          "TDP",
          "YSRCP",
          "Parties"
         ],
         "marker": {
          "colors": [
           "#038d45",
           "#ffff00",
           "#038d45",
           "#f10003",
           "#038d45",
           "#038d45",
           "#ab63fa",
           "#038d45",
           "#038d45",
           "#038d45",
           "#038d45",
           "#038d45",
           "#038d45",
           "#FFA15A",
           "#038d45",
           "#038d45",
           "#038d45",
           "#038d45",
           "#ab63fa",
           "#038d45",
           "#038d45",
           "#038d45",
           "#038d45",
           "#038d45",
           "#ffff00",
           "#038d45",
           "#038d45",
           "#f10003",
           "#038d45",
           "#038d45",
           "#038d45",
           "#038d45",
           "#038d45",
           "#19d3f3",
           "#038d45",
           "#038d45",
           "#038d45",
           "#038d45",
           "#038d45",
           "#038d45",
           "#038d45",
           "#038d45",
           "#038d45",
           "#038d45",
           "#038d45",
           "#038d45",
           "#038d45",
           "#038d45",
           "#038d45",
           "#ab63fa",
           "#038d45",
           "#038d45",
           "#038d45",
           "#038d45",
           "#038d45",
           "#038d45",
           "#038d45",
           "#038d45",
           "#038d45",
           "#ffff00",
           "#038d45",
           "#038d45",
           "#f10003",
           "#038d45",
           "#ffff00",
           "#ffff00",
           "#ffff00",
           "#ffff00",
           "#038d45",
           "#ffff00",
           "#038d45",
           "#19d3f3",
           "#ffff00",
           "#038d45",
           "#038d45",
           "#038d45",
           "#038d45",
           "#ffff00",
           "#ab63fa",
           "#038d45",
           "#038d45",
           "#038d45",
           "#038d45",
           "#038d45",
           "#ab63fa",
           "#038d45",
           "#038d45",
           "#038d45",
           "#038d45",
           "#038d45",
           "#038d45",
           "#038d45",
           "#038d45",
           "#038d45",
           "#038d45",
           "#ffff00",
           "#038d45",
           "#ffff00",
           "#038d45",
           "#038d45",
           "#ffff00",
           "#038d45",
           "#038d45",
           "#038d45",
           "#038d45",
           "#f10003",
           "#f10003",
           "#ab63fa",
           "#038d45",
           "#038d45",
           "#038d45",
           "#038d45",
           "#038d45",
           "#038d45",
           "#038d45",
           "#038d45",
           "#038d45",
           "#038d45",
           "#038d45",
           "#038d45",
           "#038d45",
           "#038d45",
           "#038d45",
           "#038d45",
           "#038d45",
           "#038d45",
           "#038d45",
           "#038d45",
           "#038d45",
           "#038d45",
           "#038d45",
           "#038d45",
           "#038d45",
           "#038d45",
           "#038d45",
           "#038d45",
           "#038d45",
           "#038d45",
           "#ffff00",
           "#038d45",
           "#ffff00",
           "#038d45",
           "#038d45",
           "#ffff00",
           "#038d45",
           "#038d45",
           "#f10003",
           "#038d45",
           "#038d45",
           "#ffff00",
           "#ab63fa",
           "#038d45",
           "#038d45",
           "#038d45",
           "#038d45",
           "#ffff00",
           "#038d45",
           "#038d45",
           "#038d45",
           "#038d45",
           "#038d45",
           "#038d45",
           "#038d45",
           "#038d45",
           "#038d45",
           "#038d45",
           "#038d45",
           "#038d45",
           "#038d45",
           "#ffff00",
           "#038d45",
           "#ffff00",
           "#038d45",
           "#038d45",
           "#038d45",
           "#038d45",
           "#038d45",
           "#038d45",
           "#038d45",
           "#038d45",
           "#038d45",
           "#038d45",
           "#038d45",
           "#038d45",
           "#038d45",
           "#038d45",
           "#038d45",
           "#ffff00",
           "#038d45",
           "#038d45",
           "#038d45",
           "#038d45",
           "#038d45",
           "#038d45",
           "#038d45",
           "#ab63fa",
           "#038d45",
           "#038d45",
           "#038d45",
           "#038d45",
           "#038d45",
           "#038d45",
           "#038d45",
           "#038d45",
           "#038d45",
           "#038d45",
           "#038d45",
           "#038d45",
           "#f10003",
           "#038d45",
           "#038d45",
           "#038d45",
           "#038d45",
           "#038d45",
           "#038d45",
           "#038d45",
           "#ffff00",
           "#038d45",
           "#ffff00",
           "#ab63fa",
           "#19d3f3",
           "#FFA15A",
           "#f10003",
           "#ab63fa",
           "#ffff00",
           "#038d45",
           "#FF6692"
          ],
          "cornerradius": 5
         },
         "name": "",
         "parents": [
          "Parties/YSRCP",
          "Parties/TDP",
          "Parties/YSRCP",
          "Parties/JSP",
          "Parties/YSRCP",
          "Parties/YSRCP",
          "Parties/MEDIA",
          "Parties/YSRCP",
          "Parties/YSRCP",
          "Parties/YSRCP",
          "Parties/YSRCP",
          "Parties/YSRCP",
          "Parties/YSRCP",
          "Parties/CONG",
          "Parties/YSRCP",
          "Parties/YSRCP",
          "Parties/YSRCP",
          "Parties/YSRCP",
          "Parties/MEDIA",
          "Parties/YSRCP",
          "Parties/YSRCP",
          "Parties/YSRCP",
          "Parties/YSRCP",
          "Parties/YSRCP",
          "Parties/TDP",
          "Parties/YSRCP",
          "Parties/YSRCP",
          "Parties/JSP",
          "Parties/YSRCP",
          "Parties/YSRCP",
          "Parties/YSRCP",
          "Parties/YSRCP",
          "Parties/YSRCP",
          "Parties/BJP",
          "Parties/YSRCP",
          "Parties/YSRCP",
          "Parties/YSRCP",
          "Parties/YSRCP",
          "Parties/YSRCP",
          "Parties/YSRCP",
          "Parties/YSRCP",
          "Parties/YSRCP",
          "Parties/YSRCP",
          "Parties/YSRCP",
          "Parties/YSRCP",
          "Parties/YSRCP",
          "Parties/YSRCP",
          "Parties/YSRCP",
          "Parties/YSRCP",
          "Parties/MEDIA",
          "Parties/YSRCP",
          "Parties/YSRCP",
          "Parties/YSRCP",
          "Parties/YSRCP",
          "Parties/YSRCP",
          "Parties/YSRCP",
          "Parties/YSRCP",
          "Parties/YSRCP",
          "Parties/YSRCP",
          "Parties/TDP",
          "Parties/YSRCP",
          "Parties/YSRCP",
          "Parties/JSP",
          "Parties/YSRCP",
          "Parties/TDP",
          "Parties/TDP",
          "Parties/TDP",
          "Parties/TDP",
          "Parties/YSRCP",
          "Parties/TDP",
          "Parties/YSRCP",
          "Parties/BJP",
          "Parties/TDP",
          "Parties/YSRCP",
          "Parties/YSRCP",
          "Parties/YSRCP",
          "Parties/YSRCP",
          "Parties/TDP",
          "Parties/MEDIA",
          "Parties/YSRCP",
          "Parties/YSRCP",
          "Parties/YSRCP",
          "Parties/YSRCP",
          "Parties/YSRCP",
          "Parties/MEDIA",
          "Parties/YSRCP",
          "Parties/YSRCP",
          "Parties/YSRCP",
          "Parties/YSRCP",
          "Parties/YSRCP",
          "Parties/YSRCP",
          "Parties/YSRCP",
          "Parties/YSRCP",
          "Parties/YSRCP",
          "Parties/YSRCP",
          "Parties/TDP",
          "Parties/YSRCP",
          "Parties/TDP",
          "Parties/YSRCP",
          "Parties/YSRCP",
          "Parties/TDP",
          "Parties/YSRCP",
          "Parties/YSRCP",
          "Parties/YSRCP",
          "Parties/YSRCP",
          "Parties/JSP",
          "Parties/JSP",
          "Parties/MEDIA",
          "Parties/YSRCP",
          "Parties/YSRCP",
          "Parties/YSRCP",
          "Parties/YSRCP",
          "Parties/YSRCP",
          "Parties/YSRCP",
          "Parties/YSRCP",
          "Parties/YSRCP",
          "Parties/YSRCP",
          "Parties/YSRCP",
          "Parties/YSRCP",
          "Parties/YSRCP",
          "Parties/YSRCP",
          "Parties/YSRCP",
          "Parties/YSRCP",
          "Parties/YSRCP",
          "Parties/YSRCP",
          "Parties/YSRCP",
          "Parties/YSRCP",
          "Parties/YSRCP",
          "Parties/YSRCP",
          "Parties/YSRCP",
          "Parties/YSRCP",
          "Parties/YSRCP",
          "Parties/YSRCP",
          "Parties/YSRCP",
          "Parties/YSRCP",
          "Parties/YSRCP",
          "Parties/YSRCP",
          "Parties/YSRCP",
          "Parties/TDP",
          "Parties/YSRCP",
          "Parties/TDP",
          "Parties/YSRCP",
          "Parties/YSRCP",
          "Parties/TDP",
          "Parties/YSRCP",
          "Parties/YSRCP",
          "Parties/JSP",
          "Parties/YSRCP",
          "Parties/YSRCP",
          "Parties/TDP",
          "Parties/MEDIA",
          "Parties/YSRCP",
          "Parties/YSRCP",
          "Parties/YSRCP",
          "Parties/YSRCP",
          "Parties/TDP",
          "Parties/YSRCP",
          "Parties/YSRCP",
          "Parties/YSRCP",
          "Parties/YSRCP",
          "Parties/YSRCP",
          "Parties/YSRCP",
          "Parties/YSRCP",
          "Parties/YSRCP",
          "Parties/YSRCP",
          "Parties/YSRCP",
          "Parties/YSRCP",
          "Parties/YSRCP",
          "Parties/YSRCP",
          "Parties/TDP",
          "Parties/YSRCP",
          "Parties/TDP",
          "Parties/YSRCP",
          "Parties/YSRCP",
          "Parties/YSRCP",
          "Parties/YSRCP",
          "Parties/YSRCP",
          "Parties/YSRCP",
          "Parties/YSRCP",
          "Parties/YSRCP",
          "Parties/YSRCP",
          "Parties/YSRCP",
          "Parties/YSRCP",
          "Parties/YSRCP",
          "Parties/YSRCP",
          "Parties/YSRCP",
          "Parties/YSRCP",
          "Parties/TDP",
          "Parties/YSRCP",
          "Parties/YSRCP",
          "Parties/YSRCP",
          "Parties/YSRCP",
          "Parties/YSRCP",
          "Parties/YSRCP",
          "Parties/YSRCP",
          "Parties/MEDIA",
          "Parties/YSRCP",
          "Parties/YSRCP",
          "Parties/YSRCP",
          "Parties/YSRCP",
          "Parties/YSRCP",
          "Parties/YSRCP",
          "Parties/YSRCP",
          "Parties/YSRCP",
          "Parties/YSRCP",
          "Parties/YSRCP",
          "Parties/YSRCP",
          "Parties/YSRCP",
          "Parties/JSP",
          "Parties/YSRCP",
          "Parties/YSRCP",
          "Parties/YSRCP",
          "Parties/YSRCP",
          "Parties/YSRCP",
          "Parties/YSRCP",
          "Parties/YSRCP",
          "Parties/TDP",
          "Parties/YSRCP",
          "Parties/TDP",
          "Parties/MEDIA",
          "Parties",
          "Parties",
          "Parties",
          "Parties",
          "Parties",
          "Parties",
          ""
         ],
         "type": "treemap",
         "values": [
          46706111,
          935676,
          7729914,
          65391547,
          30736367,
          743061,
          2875540,
          20024968,
          1883184,
          24790552,
          29650799,
          4264009,
          50267478,
          4461000,
          1982766,
          6163270,
          53536064,
          1294784,
          23518119,
          47506006,
          4958545,
          8612902,
          16652054,
          14281546,
          8325357,
          43520116,
          45666868,
          55404162,
          6427946,
          32129346,
          14922707,
          1144158,
          10647659,
          5204887,
          4610653,
          988433,
          111885964,
          10196120,
          5616963,
          9669112,
          2195894,
          48583590,
          1760842,
          30549260,
          2751772,
          24823040,
          10758068,
          42756285,
          5098839,
          10802815,
          22257515,
          15736545,
          88392875,
          2664918,
          9458501,
          5902640,
          11535946,
          32446128,
          2082551,
          34621859,
          50852531,
          5098388,
          5861442,
          34087643,
          9983762,
          61661437,
          58049778,
          16775906,
          35309774,
          13607540,
          30230966,
          51364385,
          40306456,
          10881581,
          4957547,
          4174700,
          8709345,
          7026635,
          20976144,
          12488863,
          6670781,
          7108091,
          279781,
          13196557,
          6097138,
          25072830,
          22202461,
          117417998,
          23556991,
          34618729,
          19865104,
          17041496,
          9908237,
          8228501,
          6062534,
          7398113,
          100781,
          44496230,
          42457315,
          2964426,
          912296,
          9436973,
          8149326,
          1302667,
          13795994,
          13795994,
          3817737,
          38239504,
          6770304,
          3632360,
          3416244,
          1968176,
          22040167,
          12885297,
          11408926,
          2040041,
          56432824,
          22501717,
          4724379,
          3662253,
          36380219,
          455572,
          14731244,
          5484690,
          1162365,
          18965852,
          573316,
          91212170,
          10943452,
          15871188,
          13546335,
          31507079,
          57486676,
          4443255,
          11554930,
          37746466,
          9352120,
          15030908,
          31315226,
          31721581,
          3553807,
          5108629,
          2043594,
          17001819,
          30309746,
          20819921,
          5490598,
          40252017,
          7392285,
          50550141,
          22378509,
          42541415,
          15686125,
          81420866,
          4572530,
          19577287,
          75011777,
          443813,
          24039894,
          12650860,
          12036185,
          3787786,
          4568057,
          18690552,
          71779475,
          71756869,
          28201883,
          3976526,
          24652119,
          1930707,
          22368888,
          4753526,
          5049584,
          69450861,
          5474019,
          6687614,
          42706836,
          2020079,
          74292872,
          1037041,
          2928963,
          19555051,
          19603956,
          1011907,
          34875273,
          39153966,
          10733845,
          11532178,
          5955317,
          11967693,
          7332345,
          13715337,
          10833692,
          13514685,
          15894037,
          478919,
          3274203,
          23920992,
          36152935,
          4137908,
          1695948,
          31324266,
          18536270,
          2178839,
          3940161,
          92184269,
          35656253,
          35814584,
          9089133,
          85501357,
          66078141,
          4074083,
          23931971,
          23131448,
          1826509,
          38320860,
          25572194,
          8470456,
          86682599,
          40736462,
          56569272,
          4461000,
          158850613,
          166103150,
          556570529,
          3752904889,
          4695459453
         ]
        }
       ],
       "layout": {
        "legend": {
         "tracegroupgap": 0
        },
        "margin": {
         "b": 25,
         "l": 25,
         "r": 25,
         "t": 50
        },
        "template": {
         "data": {
          "bar": [
           {
            "error_x": {
             "color": "#2a3f5f"
            },
            "error_y": {
             "color": "#2a3f5f"
            },
            "marker": {
             "line": {
              "color": "#E5ECF6",
              "width": 0.5
             },
             "pattern": {
              "fillmode": "overlay",
              "size": 10,
              "solidity": 0.2
             }
            },
            "type": "bar"
           }
          ],
          "barpolar": [
           {
            "marker": {
             "line": {
              "color": "#E5ECF6",
              "width": 0.5
             },
             "pattern": {
              "fillmode": "overlay",
              "size": 10,
              "solidity": 0.2
             }
            },
            "type": "barpolar"
           }
          ],
          "carpet": [
           {
            "aaxis": {
             "endlinecolor": "#2a3f5f",
             "gridcolor": "white",
             "linecolor": "white",
             "minorgridcolor": "white",
             "startlinecolor": "#2a3f5f"
            },
            "baxis": {
             "endlinecolor": "#2a3f5f",
             "gridcolor": "white",
             "linecolor": "white",
             "minorgridcolor": "white",
             "startlinecolor": "#2a3f5f"
            },
            "type": "carpet"
           }
          ],
          "choropleth": [
           {
            "colorbar": {
             "outlinewidth": 0,
             "ticks": ""
            },
            "type": "choropleth"
           }
          ],
          "contour": [
           {
            "colorbar": {
             "outlinewidth": 0,
             "ticks": ""
            },
            "colorscale": [
             [
              0,
              "#0d0887"
             ],
             [
              0.1111111111111111,
              "#46039f"
             ],
             [
              0.2222222222222222,
              "#7201a8"
             ],
             [
              0.3333333333333333,
              "#9c179e"
             ],
             [
              0.4444444444444444,
              "#bd3786"
             ],
             [
              0.5555555555555556,
              "#d8576b"
             ],
             [
              0.6666666666666666,
              "#ed7953"
             ],
             [
              0.7777777777777778,
              "#fb9f3a"
             ],
             [
              0.8888888888888888,
              "#fdca26"
             ],
             [
              1,
              "#f0f921"
             ]
            ],
            "type": "contour"
           }
          ],
          "contourcarpet": [
           {
            "colorbar": {
             "outlinewidth": 0,
             "ticks": ""
            },
            "type": "contourcarpet"
           }
          ],
          "heatmap": [
           {
            "colorbar": {
             "outlinewidth": 0,
             "ticks": ""
            },
            "colorscale": [
             [
              0,
              "#0d0887"
             ],
             [
              0.1111111111111111,
              "#46039f"
             ],
             [
              0.2222222222222222,
              "#7201a8"
             ],
             [
              0.3333333333333333,
              "#9c179e"
             ],
             [
              0.4444444444444444,
              "#bd3786"
             ],
             [
              0.5555555555555556,
              "#d8576b"
             ],
             [
              0.6666666666666666,
              "#ed7953"
             ],
             [
              0.7777777777777778,
              "#fb9f3a"
             ],
             [
              0.8888888888888888,
              "#fdca26"
             ],
             [
              1,
              "#f0f921"
             ]
            ],
            "type": "heatmap"
           }
          ],
          "heatmapgl": [
           {
            "colorbar": {
             "outlinewidth": 0,
             "ticks": ""
            },
            "colorscale": [
             [
              0,
              "#0d0887"
             ],
             [
              0.1111111111111111,
              "#46039f"
             ],
             [
              0.2222222222222222,
              "#7201a8"
             ],
             [
              0.3333333333333333,
              "#9c179e"
             ],
             [
              0.4444444444444444,
              "#bd3786"
             ],
             [
              0.5555555555555556,
              "#d8576b"
             ],
             [
              0.6666666666666666,
              "#ed7953"
             ],
             [
              0.7777777777777778,
              "#fb9f3a"
             ],
             [
              0.8888888888888888,
              "#fdca26"
             ],
             [
              1,
              "#f0f921"
             ]
            ],
            "type": "heatmapgl"
           }
          ],
          "histogram": [
           {
            "marker": {
             "pattern": {
              "fillmode": "overlay",
              "size": 10,
              "solidity": 0.2
             }
            },
            "type": "histogram"
           }
          ],
          "histogram2d": [
           {
            "colorbar": {
             "outlinewidth": 0,
             "ticks": ""
            },
            "colorscale": [
             [
              0,
              "#0d0887"
             ],
             [
              0.1111111111111111,
              "#46039f"
             ],
             [
              0.2222222222222222,
              "#7201a8"
             ],
             [
              0.3333333333333333,
              "#9c179e"
             ],
             [
              0.4444444444444444,
              "#bd3786"
             ],
             [
              0.5555555555555556,
              "#d8576b"
             ],
             [
              0.6666666666666666,
              "#ed7953"
             ],
             [
              0.7777777777777778,
              "#fb9f3a"
             ],
             [
              0.8888888888888888,
              "#fdca26"
             ],
             [
              1,
              "#f0f921"
             ]
            ],
            "type": "histogram2d"
           }
          ],
          "histogram2dcontour": [
           {
            "colorbar": {
             "outlinewidth": 0,
             "ticks": ""
            },
            "colorscale": [
             [
              0,
              "#0d0887"
             ],
             [
              0.1111111111111111,
              "#46039f"
             ],
             [
              0.2222222222222222,
              "#7201a8"
             ],
             [
              0.3333333333333333,
              "#9c179e"
             ],
             [
              0.4444444444444444,
              "#bd3786"
             ],
             [
              0.5555555555555556,
              "#d8576b"
             ],
             [
              0.6666666666666666,
              "#ed7953"
             ],
             [
              0.7777777777777778,
              "#fb9f3a"
             ],
             [
              0.8888888888888888,
              "#fdca26"
             ],
             [
              1,
              "#f0f921"
             ]
            ],
            "type": "histogram2dcontour"
           }
          ],
          "mesh3d": [
           {
            "colorbar": {
             "outlinewidth": 0,
             "ticks": ""
            },
            "type": "mesh3d"
           }
          ],
          "parcoords": [
           {
            "line": {
             "colorbar": {
              "outlinewidth": 0,
              "ticks": ""
             }
            },
            "type": "parcoords"
           }
          ],
          "pie": [
           {
            "automargin": true,
            "type": "pie"
           }
          ],
          "scatter": [
           {
            "fillpattern": {
             "fillmode": "overlay",
             "size": 10,
             "solidity": 0.2
            },
            "type": "scatter"
           }
          ],
          "scatter3d": [
           {
            "line": {
             "colorbar": {
              "outlinewidth": 0,
              "ticks": ""
             }
            },
            "marker": {
             "colorbar": {
              "outlinewidth": 0,
              "ticks": ""
             }
            },
            "type": "scatter3d"
           }
          ],
          "scattercarpet": [
           {
            "marker": {
             "colorbar": {
              "outlinewidth": 0,
              "ticks": ""
             }
            },
            "type": "scattercarpet"
           }
          ],
          "scattergeo": [
           {
            "marker": {
             "colorbar": {
              "outlinewidth": 0,
              "ticks": ""
             }
            },
            "type": "scattergeo"
           }
          ],
          "scattergl": [
           {
            "marker": {
             "colorbar": {
              "outlinewidth": 0,
              "ticks": ""
             }
            },
            "type": "scattergl"
           }
          ],
          "scattermapbox": [
           {
            "marker": {
             "colorbar": {
              "outlinewidth": 0,
              "ticks": ""
             }
            },
            "type": "scattermapbox"
           }
          ],
          "scatterpolar": [
           {
            "marker": {
             "colorbar": {
              "outlinewidth": 0,
              "ticks": ""
             }
            },
            "type": "scatterpolar"
           }
          ],
          "scatterpolargl": [
           {
            "marker": {
             "colorbar": {
              "outlinewidth": 0,
              "ticks": ""
             }
            },
            "type": "scatterpolargl"
           }
          ],
          "scatterternary": [
           {
            "marker": {
             "colorbar": {
              "outlinewidth": 0,
              "ticks": ""
             }
            },
            "type": "scatterternary"
           }
          ],
          "surface": [
           {
            "colorbar": {
             "outlinewidth": 0,
             "ticks": ""
            },
            "colorscale": [
             [
              0,
              "#0d0887"
             ],
             [
              0.1111111111111111,
              "#46039f"
             ],
             [
              0.2222222222222222,
              "#7201a8"
             ],
             [
              0.3333333333333333,
              "#9c179e"
             ],
             [
              0.4444444444444444,
              "#bd3786"
             ],
             [
              0.5555555555555556,
              "#d8576b"
             ],
             [
              0.6666666666666666,
              "#ed7953"
             ],
             [
              0.7777777777777778,
              "#fb9f3a"
             ],
             [
              0.8888888888888888,
              "#fdca26"
             ],
             [
              1,
              "#f0f921"
             ]
            ],
            "type": "surface"
           }
          ],
          "table": [
           {
            "cells": {
             "fill": {
              "color": "#EBF0F8"
             },
             "line": {
              "color": "white"
             }
            },
            "header": {
             "fill": {
              "color": "#C8D4E3"
             },
             "line": {
              "color": "white"
             }
            },
            "type": "table"
           }
          ]
         },
         "layout": {
          "annotationdefaults": {
           "arrowcolor": "#2a3f5f",
           "arrowhead": 0,
           "arrowwidth": 1
          },
          "autotypenumbers": "strict",
          "coloraxis": {
           "colorbar": {
            "outlinewidth": 0,
            "ticks": ""
           }
          },
          "colorscale": {
           "diverging": [
            [
             0,
             "#8e0152"
            ],
            [
             0.1,
             "#c51b7d"
            ],
            [
             0.2,
             "#de77ae"
            ],
            [
             0.3,
             "#f1b6da"
            ],
            [
             0.4,
             "#fde0ef"
            ],
            [
             0.5,
             "#f7f7f7"
            ],
            [
             0.6,
             "#e6f5d0"
            ],
            [
             0.7,
             "#b8e186"
            ],
            [
             0.8,
             "#7fbc41"
            ],
            [
             0.9,
             "#4d9221"
            ],
            [
             1,
             "#276419"
            ]
           ],
           "sequential": [
            [
             0,
             "#0d0887"
            ],
            [
             0.1111111111111111,
             "#46039f"
            ],
            [
             0.2222222222222222,
             "#7201a8"
            ],
            [
             0.3333333333333333,
             "#9c179e"
            ],
            [
             0.4444444444444444,
             "#bd3786"
            ],
            [
             0.5555555555555556,
             "#d8576b"
            ],
            [
             0.6666666666666666,
             "#ed7953"
            ],
            [
             0.7777777777777778,
             "#fb9f3a"
            ],
            [
             0.8888888888888888,
             "#fdca26"
            ],
            [
             1,
             "#f0f921"
            ]
           ],
           "sequentialminus": [
            [
             0,
             "#0d0887"
            ],
            [
             0.1111111111111111,
             "#46039f"
            ],
            [
             0.2222222222222222,
             "#7201a8"
            ],
            [
             0.3333333333333333,
             "#9c179e"
            ],
            [
             0.4444444444444444,
             "#bd3786"
            ],
            [
             0.5555555555555556,
             "#d8576b"
            ],
            [
             0.6666666666666666,
             "#ed7953"
            ],
            [
             0.7777777777777778,
             "#fb9f3a"
            ],
            [
             0.8888888888888888,
             "#fdca26"
            ],
            [
             1,
             "#f0f921"
            ]
           ]
          },
          "colorway": [
           "#636efa",
           "#EF553B",
           "#00cc96",
           "#ab63fa",
           "#FFA15A",
           "#19d3f3",
           "#FF6692",
           "#B6E880",
           "#FF97FF",
           "#FECB52"
          ],
          "font": {
           "color": "#2a3f5f"
          },
          "geo": {
           "bgcolor": "white",
           "lakecolor": "white",
           "landcolor": "#E5ECF6",
           "showlakes": true,
           "showland": true,
           "subunitcolor": "white"
          },
          "hoverlabel": {
           "align": "left"
          },
          "hovermode": "closest",
          "mapbox": {
           "style": "light"
          },
          "paper_bgcolor": "white",
          "plot_bgcolor": "#E5ECF6",
          "polar": {
           "angularaxis": {
            "gridcolor": "white",
            "linecolor": "white",
            "ticks": ""
           },
           "bgcolor": "#E5ECF6",
           "radialaxis": {
            "gridcolor": "white",
            "linecolor": "white",
            "ticks": ""
           }
          },
          "scene": {
           "xaxis": {
            "backgroundcolor": "#E5ECF6",
            "gridcolor": "white",
            "gridwidth": 2,
            "linecolor": "white",
            "showbackground": true,
            "ticks": "",
            "zerolinecolor": "white"
           },
           "yaxis": {
            "backgroundcolor": "#E5ECF6",
            "gridcolor": "white",
            "gridwidth": 2,
            "linecolor": "white",
            "showbackground": true,
            "ticks": "",
            "zerolinecolor": "white"
           },
           "zaxis": {
            "backgroundcolor": "#E5ECF6",
            "gridcolor": "white",
            "gridwidth": 2,
            "linecolor": "white",
            "showbackground": true,
            "ticks": "",
            "zerolinecolor": "white"
           }
          },
          "shapedefaults": {
           "line": {
            "color": "#2a3f5f"
           }
          },
          "ternary": {
           "aaxis": {
            "gridcolor": "white",
            "linecolor": "white",
            "ticks": ""
           },
           "baxis": {
            "gridcolor": "white",
            "linecolor": "white",
            "ticks": ""
           },
           "bgcolor": "#E5ECF6",
           "caxis": {
            "gridcolor": "white",
            "linecolor": "white",
            "ticks": ""
           }
          },
          "title": {
           "x": 0.05
          },
          "xaxis": {
           "automargin": true,
           "gridcolor": "white",
           "linecolor": "white",
           "ticks": "",
           "title": {
            "standoff": 15
           },
           "zerolinecolor": "white",
           "zerolinewidth": 2
          },
          "yaxis": {
           "automargin": true,
           "gridcolor": "white",
           "linecolor": "white",
           "ticks": "",
           "title": {
            "standoff": 15
           },
           "zerolinecolor": "white",
           "zerolinewidth": 2
          }
         }
        }
       }
      }
     },
     "metadata": {},
     "output_type": "display_data"
    }
   ],
   "source": []
  },
  {
   "cell_type": "code",
   "execution_count": null,
   "metadata": {},
   "outputs": [],
   "source": []
  }
 ],
 "metadata": {
  "kernelspec": {
   "display_name": "Python 3.8.16 ('streamenv': venv)",
   "language": "python",
   "name": "python3"
  },
  "language_info": {
   "codemirror_mode": {
    "name": "ipython",
    "version": 3
   },
   "file_extension": ".py",
   "mimetype": "text/x-python",
   "name": "python",
   "nbconvert_exporter": "python",
   "pygments_lexer": "ipython3",
   "version": "3.8.16"
  },
  "orig_nbformat": 4,
  "vscode": {
   "interpreter": {
    "hash": "9ecb27244bbf89267c5944d0d03f977ee38a0d3bd6795db5750e07e9bcf70dc2"
   }
  }
 },
 "nbformat": 4,
 "nbformat_minor": 2
}
